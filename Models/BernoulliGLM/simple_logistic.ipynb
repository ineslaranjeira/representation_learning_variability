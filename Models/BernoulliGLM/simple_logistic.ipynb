{
 "cells": [
  {
   "attachments": {},
   "cell_type": "markdown",
   "metadata": {},
   "source": [
    "# Logistic regression"
   ]
  },
  {
   "attachments": {},
   "cell_type": "markdown",
   "metadata": {},
   "source": [
    "### Design matrix\n",
    "Start with one predictor: stimulus"
   ]
  },
  {
   "cell_type": "code",
   "execution_count": 1,
   "metadata": {},
   "outputs": [
    {
     "name": "stderr",
     "output_type": "stream",
     "text": [
      "/opt/anaconda3/envs/iblenv/lib/python3.9/site-packages/one/webclient.py:127: RuntimeWarning: Failed to connect, returning cached response\n",
      "  warnings.warn('Failed to connect, returning cached response', RuntimeWarning)\n"
     ]
    }
   ],
   "source": [
    "\"\"\"\n",
    "IMPORTS\n",
    "\"\"\"\n",
    "import numpy as np\n",
    "import numpy.random as npr\n",
    "import os\n",
    "import random\n",
    "import pandas as pd\n",
    "import matplotlib.pyplot as plt\n",
    "\n",
    "# --Get my functions\n",
    "functions_path = \"../../Functions/\"\n",
    "os.chdir(functions_path)\n",
    "from one_functions_generic import get_trials, performance_metrics, bin_frac, prepro\n",
    "\n",
    "npr.seed(65)"
   ]
  },
  {
   "cell_type": "code",
   "execution_count": 4,
   "metadata": {},
   "outputs": [],
   "source": [
    "\"\"\"\n",
    "Load data\n",
    "\"\"\"\n",
    "trials_dir = '/home/ines/repositories/representation_learning_variability/DATA/'\n",
    "trials_dir = '/Users/ineslaranjeira/Documents/Repositories/representation_learning_variability/DATA/'\n",
    "all_trials = pd.read_csv(trials_dir + \"learning_private_one.csv\")  "
   ]
  },
  {
   "attachments": {},
   "cell_type": "markdown",
   "metadata": {},
   "source": [
    "From all data, focus on an example session of an example mouse \n",
    "Total of 530 trials should be enough for a sigmoid fit"
   ]
  },
  {
   "cell_type": "code",
   "execution_count": 16,
   "metadata": {},
   "outputs": [],
   "source": [
    "mouse_example = all_trials.loc[(all_trials['subject_nickname']=='NYU-14') & (all_trials['training_day']==33) ]"
   ]
  },
  {
   "cell_type": "code",
   "execution_count": 17,
   "metadata": {},
   "outputs": [
    {
     "name": "stderr",
     "output_type": "stream",
     "text": [
      "/Users/ineslaranjeira/Documents/Repositories/representation_learning_variability/Functions/one_functions_generic.py:487: SettingWithCopyWarning: \n",
      "A value is trying to be set on a copy of a slice from a DataFrame.\n",
      "Try using .loc[row_indexer,col_indexer] = value instead\n",
      "\n",
      "See the caveats in the documentation: https://pandas.pydata.org/pandas-docs/stable/user_guide/indexing.html#returning-a-view-versus-a-copy\n",
      "  trials['contrastLeft'] = trials['contrastLeft'].fillna(0)\n",
      "/Users/ineslaranjeira/Documents/Repositories/representation_learning_variability/Functions/one_functions_generic.py:488: SettingWithCopyWarning: \n",
      "A value is trying to be set on a copy of a slice from a DataFrame.\n",
      "Try using .loc[row_indexer,col_indexer] = value instead\n",
      "\n",
      "See the caveats in the documentation: https://pandas.pydata.org/pandas-docs/stable/user_guide/indexing.html#returning-a-view-versus-a-copy\n",
      "  trials['contrastRight'] = trials['contrastRight'].fillna(0)\n",
      "/Users/ineslaranjeira/Documents/Repositories/representation_learning_variability/Functions/one_functions_generic.py:489: SettingWithCopyWarning: \n",
      "A value is trying to be set on a copy of a slice from a DataFrame.\n",
      "Try using .loc[row_indexer,col_indexer] = value instead\n",
      "\n",
      "See the caveats in the documentation: https://pandas.pydata.org/pandas-docs/stable/user_guide/indexing.html#returning-a-view-versus-a-copy\n",
      "  trials['signed_contrast'] = - trials['contrastLeft'] + trials['contrastRight']\n",
      "/Users/ineslaranjeira/Documents/Repositories/representation_learning_variability/Functions/one_functions_generic.py:490: SettingWithCopyWarning: \n",
      "A value is trying to be set on a copy of a slice from a DataFrame.\n",
      "Try using .loc[row_indexer,col_indexer] = value instead\n",
      "\n",
      "See the caveats in the documentation: https://pandas.pydata.org/pandas-docs/stable/user_guide/indexing.html#returning-a-view-versus-a-copy\n",
      "  trials['contrast'] = trials['contrastLeft'] + trials['contrastRight']\n",
      "/Users/ineslaranjeira/Documents/Repositories/representation_learning_variability/Functions/one_functions_generic.py:491: SettingWithCopyWarning: \n",
      "A value is trying to be set on a copy of a slice from a DataFrame.\n",
      "Try using .loc[row_indexer,col_indexer] = value instead\n",
      "\n",
      "See the caveats in the documentation: https://pandas.pydata.org/pandas-docs/stable/user_guide/indexing.html#returning-a-view-versus-a-copy\n",
      "  trials['correct_easy'] = trials['feedbackType']\n",
      "/Users/ineslaranjeira/Documents/Repositories/representation_learning_variability/Functions/one_functions_generic.py:493: SettingWithCopyWarning: \n",
      "A value is trying to be set on a copy of a slice from a DataFrame.\n",
      "Try using .loc[row_indexer,col_indexer] = value instead\n",
      "\n",
      "See the caveats in the documentation: https://pandas.pydata.org/pandas-docs/stable/user_guide/indexing.html#returning-a-view-versus-a-copy\n",
      "  trials['correct'] = trials['feedbackType']\n",
      "/Users/ineslaranjeira/Documents/Repositories/representation_learning_variability/Functions/one_functions_generic.py:498: SettingWithCopyWarning: \n",
      "A value is trying to be set on a copy of a slice from a DataFrame.\n",
      "Try using .loc[row_indexer,col_indexer] = value instead\n",
      "\n",
      "See the caveats in the documentation: https://pandas.pydata.org/pandas-docs/stable/user_guide/indexing.html#returning-a-view-versus-a-copy\n",
      "  trials['response'] = trials['response_times'] - trials['stimOn_times']\n",
      "/Users/ineslaranjeira/Documents/Repositories/representation_learning_variability/Functions/one_functions_generic.py:499: SettingWithCopyWarning: \n",
      "A value is trying to be set on a copy of a slice from a DataFrame.\n",
      "Try using .loc[row_indexer,col_indexer] = value instead\n",
      "\n",
      "See the caveats in the documentation: https://pandas.pydata.org/pandas-docs/stable/user_guide/indexing.html#returning-a-view-versus-a-copy\n",
      "  trials['reaction'] = trials['firstMovement_times'] - trials['stimOn_times']\n"
     ]
    }
   ],
   "source": [
    "mouse_example = prepro(mouse_example)"
   ]
  },
  {
   "attachments": {},
   "cell_type": "markdown",
   "metadata": {},
   "source": [
    "Functions"
   ]
  },
  {
   "cell_type": "code",
   "execution_count": 183,
   "metadata": {},
   "outputs": [],
   "source": [
    "def logistic(x, theta):\n",
    "    # Logistic function (sigmoid)\n",
    "    y = 1/(np.exp(-x.dot(theta))+1)\n",
    "    return y\n",
    "\n",
    "\n",
    "def initialize(dim, intercept=False):\n",
    "    # Initialize theta array and bias \n",
    "    #b=random.random()\n",
    "    #theta=np.random.rand(dim)\n",
    "    if intercept == True:\n",
    "        theta = np.random.randn(dim+1, 1) # adds one for the bias\n",
    "    else:\n",
    "        theta = np.random.randn(dim, 1)\n",
    "    return theta\n",
    "\n",
    "\n",
    "def loglikelihood(y, x, theta):\n",
    "    ll = np.sum(y * np.log(logistic(x, theta)) + (1-y)* np.log(1-logistic(x, theta)))\n",
    "    return ll\n",
    "\n",
    "\n",
    "def gradient(x, y, theta_vector):\n",
    "    # Computed gradient for Bernoulli distribution\n",
    "    sigma = logistic(x, theta_vector)\n",
    "    n = len(y)\n",
    "    grad = (np.sum(sigma - y) * x )/ n\n",
    "    grad = x *(sigma - y)\n",
    "    grad = 2/n * x.T.dot(sigma - y)\n",
    "    return grad\n",
    "    \n",
    "    \n",
    "def gradient_descent(theta_dim, alpha, x, y, n_iter=50, tolerance=1e-06):\n",
    "    # the algorithm will simultaneously update the theta values \n",
    "    # after each model fits to find the global minimum of our cost function.\n",
    "    theta_vector = initialize(theta_dim, intercept=False)\n",
    "    y_new = np.reshape(y, (len(y), 1))\n",
    "    cost_lst = []\n",
    "    thetas = []\n",
    "    X_vector = np.c_[np.ones((len(x), 1)), x]  # Add intercept term to x\n",
    "    X_vector = np.c_[x]  # no intercept term\n",
    "    for i in range(n_iter):\n",
    "        gradients = 1/len(y) * X_vector.T.dot(logistic(X_vector, theta_vector) - y_new)\n",
    "        # Update theta\n",
    "        theta_vector = theta_vector - alpha * gradients\n",
    "        # Make predictions based on updated thetas\n",
    "        y_pred = logistic(X_vector, theta_vector)\n",
    "        \n",
    "        #Calculate the loss for each training instance\n",
    "        cost_value = - np.sum(np.dot(y_new.T, np.log(y_pred))+ \n",
    "                                   np.dot((1 - y_new).T, np.log(1 - y_pred))) / (len(y_pred))\n",
    "        cost_lst.append(cost_value)\n",
    "        thetas.append(theta_vector)\n",
    "        # Decide when to stop and plot progress\n",
    "        diff = -alpha * gradients\n",
    "        if np.all(np.abs(diff) <= tolerance):\n",
    "            plt.plot(np.arange(1, n_iter),cost_lst[1:], color = 'red')\n",
    "            plt.title('Cost function Graph')\n",
    "            plt.xlabel('Number of iterations')\n",
    "            plt.ylabel('Cost')\n",
    "            break\n",
    "\n",
    "    return theta_vector, cost_lst, thetas"
   ]
  },
  {
   "cell_type": "code",
   "execution_count": 167,
   "metadata": {},
   "outputs": [],
   "source": [
    "theta_dim = 1\n",
    "alpha = 0.01\n",
    "n_iter=100000\n",
    "tolerance=1e-06"
   ]
  },
  {
   "cell_type": "code",
   "execution_count": 168,
   "metadata": {},
   "outputs": [
    {
     "data": {
      "text/plain": [
       "array([[36.19778622]])"
      ]
     },
     "execution_count": 168,
     "metadata": {},
     "output_type": "execute_result"
    }
   ],
   "source": [
    "X_vector.T.dot(logistic(X_vector, theta_vector) - y_new)"
   ]
  },
  {
   "cell_type": "code",
   "execution_count": 184,
   "metadata": {},
   "outputs": [
    {
     "name": "stderr",
     "output_type": "stream",
     "text": [
      "/var/folders/nt/d2j3zp9d1xzb8wgfrw81j0c40000gn/T/ipykernel_45693/3335285470.py:17: RuntimeWarning: divide by zero encountered in log\n",
      "  np.dot((1 - y_new).T, np.log(1 - y_pred))) / (len(y_pred))\n"
     ]
    }
   ],
   "source": [
    "    # the algorithm will simultaneously update the theta values \n",
    "    # after each model fits to find the global minimum of our cost function.\n",
    "    theta_vector = initialize(theta_dim, intercept=False)\n",
    "    y_new = np.reshape(y, (len(y), 1))\n",
    "    cost_lst = []\n",
    "    thetas = []\n",
    "    X_vector = np.c_[x]  # Add intercept term to x\n",
    "    for i in range(n_iter):\n",
    "        gradients = 1/len(y) * X_vector.T.dot(logistic(X_vector, theta_vector) - y_new)\n",
    "        # Update theta\n",
    "        theta_vector = theta_vector - alpha * gradients\n",
    "        # Make predictions based on updated thetas\n",
    "        y_pred = logistic(X_vector, theta_vector)\n",
    "        \n",
    "        #Calculate the loss for each training instance\n",
    "        cost_value = - np.sum(np.dot(y_new.T, np.log(y_pred))+ \n",
    "                                   np.dot((1 - y_new).T, np.log(1 - y_pred))) / (len(y_pred))\n",
    "        cost_lst.append(cost_value)\n",
    "        thetas.append(theta_vector)\n",
    "        # Decide when to stop and plot progress\n",
    "        diff = -alpha * gradients\n",
    "        if np.all(np.abs(diff) <= tolerance):\n",
    "            plt.plot(np.arange(1, n_iter),cost_lst[1:], color = 'red')\n",
    "            plt.title('Cost function Graph')\n",
    "            plt.xlabel('Number of iterations')\n",
    "            plt.ylabel('Cost')\n",
    "            break\n"
   ]
  },
  {
   "cell_type": "code",
   "execution_count": 117,
   "metadata": {},
   "outputs": [],
   "source": [
    "new_thetas = np.reshape(thetas, (10000, 2))"
   ]
  },
  {
   "cell_type": "code",
   "execution_count": 192,
   "metadata": {},
   "outputs": [],
   "source": [
    "n_iter = 1000\n",
    "x = np.array(mouse_example['signed_contrast'])\n",
    "y = np.array(mouse_example['choice'])\n",
    "theta_learned, cost_lst, thetas = gradient_descent(1, 0.01, x, y, n_iter, tolerance=1e-06)"
   ]
  },
  {
   "cell_type": "code",
   "execution_count": 193,
   "metadata": {},
   "outputs": [
    {
     "data": {
      "text/plain": [
       "Text(0, 0.5, 'Cost')"
      ]
     },
     "execution_count": 193,
     "metadata": {},
     "output_type": "execute_result"
    },
    {
     "data": {
      "image/png": "[encoded data removed]",
      "text/plain": [
       "<Figure size 640x480 with 1 Axes>"
      ]
     },
     "metadata": {},
     "output_type": "display_data"
    }
   ],
   "source": [
    "            plt.plot(np.arange(1, n_iter),cost_lst[1:], color = 'red')\n",
    "            plt.title('Cost function Graph')\n",
    "            plt.xlabel('Number of iterations')\n",
    "            plt.ylabel('Cost')"
   ]
  },
  {
   "cell_type": "code",
   "execution_count": null,
   "metadata": {},
   "outputs": [],
   "source": []
  }
 ],
 "metadata": {
  "kernelspec": {
   "display_name": "glmhmm",
   "language": "python",
   "name": "python3"
  },
  "language_info": {
   "codemirror_mode": {
    "name": "ipython",
    "version": 3
   },
   "file_extension": ".py",
   "mimetype": "text/x-python",
   "name": "python",
   "nbconvert_exporter": "python",
   "pygments_lexer": "ipython3",
   "version": "3.9.16"
  },
  "orig_nbformat": 4,
  "vscode": {
   "interpreter": {
    "hash": "e0570267f7605a5796a6c6283f704801f1f25a3a6f849e378a7aefdb53302a15"
   }
  }
 },
 "nbformat": 4,
 "nbformat_minor": 2
}
