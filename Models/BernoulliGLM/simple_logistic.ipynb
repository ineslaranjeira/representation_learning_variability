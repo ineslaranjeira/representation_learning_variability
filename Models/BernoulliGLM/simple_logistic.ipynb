{
 "cells": [
  {
   "attachments": {},
   "cell_type": "markdown",
   "metadata": {},
   "source": [
    "# Logistic regression"
   ]
  },
  {
   "attachments": {},
   "cell_type": "markdown",
   "metadata": {},
   "source": [
    "### Design matrix\n",
    "Start with one predictor: stimulus"
   ]
  },
  {
   "cell_type": "code",
   "execution_count": 1,
   "metadata": {},
   "outputs": [],
   "source": [
    "\"\"\"\n",
    "IMPORTS\n",
    "\"\"\"\n",
    "import numpy as np\n",
    "import numpy.random as npr\n",
    "import os\n",
    "import random\n",
    "import pandas as pd\n",
    "import matplotlib.pyplot as plt\n",
    "\n",
    "# --Get my functions\n",
    "functions_path = \"../../Functions/\"\n",
    "os.chdir(functions_path)\n",
    "from one_functions_generic import get_trials, performance_metrics, bin_frac, prepro\n",
    "\n",
    "npr.seed(65)"
   ]
  },
  {
   "cell_type": "code",
   "execution_count": 2,
   "metadata": {},
   "outputs": [],
   "source": [
    "\"\"\"\n",
    "Load data\n",
    "\"\"\"\n",
    "trials_dir = '/home/ines/repositories/representation_learning_variability/DATA/'\n",
    "#trials_dir = '/Users/ineslaranjeira/Documents/Repositories/representation_learning_variability/DATA/'\n",
    "all_trials = pd.read_csv(trials_dir + \"proficient_one.csv\")  "
   ]
  },
  {
   "attachments": {},
   "cell_type": "markdown",
   "metadata": {},
   "source": [
    "From all data, focus on an example session of an example mouse \n",
    "Total of 530 trials should be enough for a sigmoid fit"
   ]
  },
  {
   "cell_type": "code",
   "execution_count": 3,
   "metadata": {},
   "outputs": [],
   "source": [
    "mouse_example = all_trials.loc[(all_trials['subject_nickname']=='KS014') & (all_trials['session']=='94535612-5064-40aa-aa05-8c08c2fa618a')]"
   ]
  },
  {
   "cell_type": "code",
   "execution_count": 4,
   "metadata": {},
   "outputs": [
    {
     "name": "stderr",
     "output_type": "stream",
     "text": [
      "/home/ines/repositories/representation_learning_variability/Functions/one_functions_generic.py:480: SettingWithCopyWarning: \n",
      "A value is trying to be set on a copy of a slice from a DataFrame.\n",
      "Try using .loc[row_indexer,col_indexer] = value instead\n",
      "\n",
      "See the caveats in the documentation: https://pandas.pydata.org/pandas-docs/stable/user_guide/indexing.html#returning-a-view-versus-a-copy\n",
      "  trials['contrastLeft'] = trials['contrastLeft'].fillna(0)\n",
      "/home/ines/repositories/representation_learning_variability/Functions/one_functions_generic.py:481: SettingWithCopyWarning: \n",
      "A value is trying to be set on a copy of a slice from a DataFrame.\n",
      "Try using .loc[row_indexer,col_indexer] = value instead\n",
      "\n",
      "See the caveats in the documentation: https://pandas.pydata.org/pandas-docs/stable/user_guide/indexing.html#returning-a-view-versus-a-copy\n",
      "  trials['contrastRight'] = trials['contrastRight'].fillna(0)\n",
      "/home/ines/repositories/representation_learning_variability/Functions/one_functions_generic.py:482: SettingWithCopyWarning: \n",
      "A value is trying to be set on a copy of a slice from a DataFrame.\n",
      "Try using .loc[row_indexer,col_indexer] = value instead\n",
      "\n",
      "See the caveats in the documentation: https://pandas.pydata.org/pandas-docs/stable/user_guide/indexing.html#returning-a-view-versus-a-copy\n",
      "  trials['signed_contrast'] = - trials['contrastLeft'] + trials['contrastRight']\n",
      "/home/ines/repositories/representation_learning_variability/Functions/one_functions_generic.py:483: SettingWithCopyWarning: \n",
      "A value is trying to be set on a copy of a slice from a DataFrame.\n",
      "Try using .loc[row_indexer,col_indexer] = value instead\n",
      "\n",
      "See the caveats in the documentation: https://pandas.pydata.org/pandas-docs/stable/user_guide/indexing.html#returning-a-view-versus-a-copy\n",
      "  trials['contrast'] = trials['contrastLeft'] + trials['contrastRight']\n",
      "/home/ines/repositories/representation_learning_variability/Functions/one_functions_generic.py:484: SettingWithCopyWarning: \n",
      "A value is trying to be set on a copy of a slice from a DataFrame.\n",
      "Try using .loc[row_indexer,col_indexer] = value instead\n",
      "\n",
      "See the caveats in the documentation: https://pandas.pydata.org/pandas-docs/stable/user_guide/indexing.html#returning-a-view-versus-a-copy\n",
      "  trials['correct_easy'] = trials['feedbackType']\n",
      "/home/ines/repositories/representation_learning_variability/Functions/one_functions_generic.py:486: SettingWithCopyWarning: \n",
      "A value is trying to be set on a copy of a slice from a DataFrame.\n",
      "Try using .loc[row_indexer,col_indexer] = value instead\n",
      "\n",
      "See the caveats in the documentation: https://pandas.pydata.org/pandas-docs/stable/user_guide/indexing.html#returning-a-view-versus-a-copy\n",
      "  trials['correct'] = trials['feedbackType']\n",
      "/home/ines/repositories/representation_learning_variability/Functions/one_functions_generic.py:491: SettingWithCopyWarning: \n",
      "A value is trying to be set on a copy of a slice from a DataFrame.\n",
      "Try using .loc[row_indexer,col_indexer] = value instead\n",
      "\n",
      "See the caveats in the documentation: https://pandas.pydata.org/pandas-docs/stable/user_guide/indexing.html#returning-a-view-versus-a-copy\n",
      "  trials['response'] = trials['response_times'] - trials['stimOn_times']\n",
      "/home/ines/repositories/representation_learning_variability/Functions/one_functions_generic.py:492: SettingWithCopyWarning: \n",
      "A value is trying to be set on a copy of a slice from a DataFrame.\n",
      "Try using .loc[row_indexer,col_indexer] = value instead\n",
      "\n",
      "See the caveats in the documentation: https://pandas.pydata.org/pandas-docs/stable/user_guide/indexing.html#returning-a-view-versus-a-copy\n",
      "  trials['reaction'] = trials['firstMovement_times'] - trials['stimOn_times']\n"
     ]
    }
   ],
   "source": [
    "mouse_example = prepro(mouse_example)"
   ]
  },
  {
   "attachments": {},
   "cell_type": "markdown",
   "metadata": {},
   "source": [
    "Functions"
   ]
  },
  {
   "cell_type": "code",
   "execution_count": 30,
   "metadata": {},
   "outputs": [],
   "source": [
    "def logistic(x, theta):\n",
    "    # Logistic function (sigmoid)\n",
    "    y = 1/(np.exp(-x * theta)+1)\n",
    "    return y\n",
    "\n",
    "\n",
    "def initialize(dim):\n",
    "    # Initialize theta array and bias \n",
    "    b=random.random()\n",
    "    theta=np.random.rand(dim)\n",
    "    return theta\n",
    "\n",
    "\n",
    "def loglikelihood(y, x, theta):\n",
    "    ll = np.sum(y * np.log(logistic(x, theta)) + (1-y)* np.log(1-logistic(x, theta)))\n",
    "    return ll\n",
    "\n",
    "\n",
    "def gradient(x, y, theta_vector):\n",
    "    # Computed gradient for Bernoulli distribution\n",
    "    sigma = logistic(x, theta_vector)\n",
    "    n = len(y)\n",
    "    grad = (np.sum(sigma - y) * x )/ n\n",
    "    return grad\n",
    "    \n",
    "    \n",
    "def gradient_descent(theta_dim, alpha, x, y, n_iter=50, tolerance=1e-06):\n",
    "    # the algorithm will simultaneously update the theta values \n",
    "    # after each model fits to find the global minimum of our cost function.\n",
    "    theta_vector = initialize(theta_dim)\n",
    "    for _ in range(n_iter):\n",
    "        diff = -alpha * gradient(x, y, theta_vector)\n",
    "        if np.all(np.abs(diff) <= tolerance):\n",
    "            break\n",
    "        theta_vector += diff\n",
    "    return theta_vector"
   ]
  },
  {
   "cell_type": "code",
   "execution_count": 31,
   "metadata": {},
   "outputs": [],
   "source": [
    "x = np.array(mouse_example['signed_contrast'])\n",
    "y = np.array(mouse_example['choice'])"
   ]
  },
  {
   "cell_type": "code",
   "execution_count": 32,
   "metadata": {},
   "outputs": [
    {
     "data": {
      "text/plain": [
       "array([0.50571517])"
      ]
     },
     "execution_count": 32,
     "metadata": {},
     "output_type": "execute_result"
    }
   ],
   "source": [
    "theta_vector = initialize(1)\n",
    "theta_vector"
   ]
  },
  {
   "cell_type": "code",
   "execution_count": 33,
   "metadata": {},
   "outputs": [
    {
     "data": {
      "text/plain": [
       "array([-0.82281406,  0.05142588, -0.20570352,  0.        ,  0.        ,\n",
       "       -0.20570352,  0.20570352, -0.82281406, -0.10285176, -0.20570352,\n",
       "       -0.10285176, -0.10285176,  0.        , -0.20570352, -0.10285176,\n",
       "       -0.05142588, -0.05142588,  0.        ,  0.        ,  0.10285176,\n",
       "       -0.05142588,  0.        ,  0.        , -0.82281406,  0.        ,\n",
       "        0.82281406,  0.        , -0.10285176, -0.82281406,  0.10285176,\n",
       "       -0.20570352, -0.82281406,  0.05142588, -0.10285176,  0.        ,\n",
       "        0.05142588, -0.82281406, -0.10285176,  0.        ,  0.05142588,\n",
       "        0.        ,  0.10285176,  0.05142588,  0.10285176,  0.10285176,\n",
       "        0.        ,  0.        ,  0.82281406,  0.05142588,  0.        ,\n",
       "        0.82281406,  0.10285176,  0.        , -0.20570352,  0.82281406,\n",
       "        0.        , -0.20570352,  0.82281406, -0.82281406, -0.82281406,\n",
       "        0.        ,  0.82281406,  0.10285176,  0.10285176,  0.20570352,\n",
       "        0.82281406,  0.10285176,  0.        ,  0.        ,  0.05142588,\n",
       "       -0.10285176, -0.82281406,  0.05142588, -0.82281406,  0.05142588,\n",
       "       -0.10285176,  0.82281406,  0.20570352, -0.10285176, -0.82281406,\n",
       "       -0.82281406,  0.10285176,  0.        , -0.05142588,  0.10285176,\n",
       "       -0.05142588,  0.05142588,  0.05142588, -0.10285176,  0.        ,\n",
       "       -0.20570352, -0.10285176,  0.        , -0.05142588,  0.20570352,\n",
       "        0.        , -0.05142588, -0.10285176, -0.20570352, -0.82281406,\n",
       "       -0.82281406, -0.10285176,  0.        ,  0.        , -0.10285176,\n",
       "        0.        , -0.10285176,  0.        , -0.05142588,  0.        ,\n",
       "       -0.05142588, -0.10285176,  0.20570352,  0.82281406,  0.10285176,\n",
       "        0.        ,  0.        ,  0.        ,  0.        , -0.10285176,\n",
       "        0.        , -0.82281406,  0.        ,  0.20570352,  0.        ,\n",
       "        0.        , -0.05142588,  0.82281406,  0.82281406,  0.20570352,\n",
       "        0.05142588,  0.        ,  0.        ,  0.82281406,  0.05142588,\n",
       "       -0.05142588,  0.82281406,  0.        ,  0.        ,  0.05142588,\n",
       "        0.        ,  0.82281406,  0.82281406,  0.        ,  0.20570352,\n",
       "        0.82281406, -0.05142588,  0.82281406,  0.10285176,  0.        ,\n",
       "        0.        , -0.82281406,  0.        ,  0.        , -0.82281406,\n",
       "       -0.05142588,  0.10285176, -0.20570352,  0.05142588,  0.20570352,\n",
       "        0.20570352,  0.10285176, -0.05142588,  0.10285176,  0.82281406,\n",
       "        0.        ,  0.20570352,  0.10285176,  0.05142588,  0.82281406,\n",
       "        0.20570352, -0.20570352,  0.20570352,  0.82281406,  0.20570352,\n",
       "        0.10285176,  0.20570352,  0.10285176,  0.10285176,  0.82281406,\n",
       "        0.82281406,  0.10285176, -0.82281406,  0.20570352,  0.20570352,\n",
       "        0.05142588,  0.82281406,  0.05142588,  0.82281406,  0.05142588,\n",
       "       -0.20570352, -0.10285176, -0.10285176,  0.        ,  0.10285176,\n",
       "       -0.05142588, -0.10285176,  0.10285176, -0.20570352,  0.82281406,\n",
       "       -0.82281406,  0.05142588, -0.10285176, -0.10285176, -0.10285176,\n",
       "       -0.82281406, -0.82281406,  0.05142588, -0.05142588, -0.05142588,\n",
       "        0.10285176,  0.82281406,  0.10285176, -0.10285176,  0.20570352,\n",
       "        0.10285176,  0.10285176,  0.05142588,  0.        ,  0.05142588,\n",
       "        0.10285176,  0.05142588,  0.05142588,  0.        ,  0.20570352,\n",
       "        0.        ,  0.        ,  0.20570352,  0.        ,  0.        ,\n",
       "        0.        ,  0.20570352,  0.20570352,  0.20570352,  0.05142588,\n",
       "        0.82281406,  0.20570352,  0.10285176, -0.20570352,  0.05142588,\n",
       "        0.82281406,  0.        , -0.82281406, -0.05142588, -0.05142588,\n",
       "       -0.05142588,  0.        , -0.10285176, -0.05142588,  0.        ,\n",
       "       -0.10285176, -0.10285176, -0.20570352, -0.10285176, -0.10285176,\n",
       "        0.        , -0.82281406, -0.10285176, -0.05142588, -0.05142588,\n",
       "       -0.05142588, -0.05142588, -0.20570352, -0.10285176, -0.10285176,\n",
       "       -0.05142588,  0.        , -0.10285176, -0.82281406, -0.10285176,\n",
       "        0.        , -0.20570352,  0.20570352, -0.05142588,  0.        ,\n",
       "        0.        ,  0.05142588,  0.        , -0.05142588, -0.10285176,\n",
       "        0.82281406,  0.        , -0.10285176, -0.10285176, -0.20570352,\n",
       "       -0.10285176,  0.        ,  0.10285176, -0.05142588, -0.05142588,\n",
       "        0.        ,  0.10285176, -0.82281406, -0.10285176,  0.82281406,\n",
       "        0.        , -0.20570352, -0.20570352, -0.10285176,  0.05142588,\n",
       "        0.10285176, -0.82281406,  0.        ,  0.05142588, -0.82281406,\n",
       "       -0.10285176,  0.        ,  0.        , -0.05142588,  0.05142588,\n",
       "        0.05142588, -0.20570352, -0.20570352, -0.82281406,  0.82281406,\n",
       "        0.        ,  0.        , -0.05142588, -0.05142588,  0.        ,\n",
       "        0.        ,  0.10285176,  0.10285176, -0.10285176,  0.82281406,\n",
       "        0.10285176,  0.82281406,  0.20570352,  0.        ,  0.10285176,\n",
       "       -0.05142588,  0.05142588,  0.10285176,  0.10285176,  0.05142588,\n",
       "        0.82281406,  0.        ,  0.10285176, -0.20570352,  0.10285176,\n",
       "        0.        ,  0.82281406,  0.05142588,  0.20570352,  0.05142588,\n",
       "        0.82281406,  0.05142588, -0.10285176, -0.82281406, -0.10285176,\n",
       "       -0.82281406,  0.        , -0.82281406, -0.20570352, -0.10285176,\n",
       "       -0.10285176, -0.82281406, -0.10285176, -0.20570352,  0.        ,\n",
       "        0.        , -0.05142588, -0.20570352,  0.82281406, -0.20570352,\n",
       "       -0.05142588, -0.82281406,  0.10285176,  0.10285176,  0.20570352,\n",
       "        0.82281406,  0.05142588,  0.82281406,  0.        ,  0.        ,\n",
       "        0.        ,  0.20570352,  0.05142588,  0.10285176,  0.05142588,\n",
       "        0.05142588,  0.20570352,  0.10285176,  0.05142588,  0.05142588,\n",
       "        0.05142588,  0.20570352,  0.10285176, -0.10285176,  0.05142588,\n",
       "        0.82281406, -0.05142588,  0.20570352, -0.82281406,  0.05142588,\n",
       "       -0.20570352,  0.        , -0.82281406,  0.        , -0.82281406,\n",
       "        0.        , -0.10285176,  0.        ,  0.05142588, -0.05142588,\n",
       "        0.        ,  0.20570352, -0.20570352, -0.20570352, -0.82281406,\n",
       "       -0.82281406, -0.82281406,  0.        ,  0.10285176,  0.        ,\n",
       "       -0.82281406, -0.05142588, -0.82281406, -0.82281406, -0.82281406,\n",
       "       -0.10285176, -0.05142588, -0.82281406,  0.82281406, -0.82281406,\n",
       "       -0.05142588, -0.05142588,  0.10285176,  0.10285176,  0.10285176,\n",
       "       -0.20570352,  0.        , -0.82281406, -0.82281406,  0.        ,\n",
       "       -0.05142588, -0.05142588,  0.        ,  0.        ,  0.05142588,\n",
       "       -0.82281406, -0.10285176,  0.        , -0.10285176,  0.20570352,\n",
       "        0.10285176, -0.05142588,  0.        , -0.05142588,  0.05142588,\n",
       "       -0.05142588, -0.20570352, -0.10285176,  0.82281406, -0.20570352,\n",
       "       -0.10285176, -0.10285176, -0.20570352, -0.05142588, -0.10285176,\n",
       "        0.        ,  0.        ,  0.82281406,  0.82281406,  0.10285176,\n",
       "        0.05142588,  0.05142588,  0.        ,  0.05142588,  0.10285176,\n",
       "        0.82281406,  0.05142588,  0.05142588,  0.10285176,  0.20570352,\n",
       "        0.05142588, -0.82281406,  0.        ,  0.        , -0.10285176,\n",
       "        0.05142588,  0.        , -0.05142588, -0.82281406,  0.10285176,\n",
       "        0.82281406,  0.05142588,  0.10285176,  0.        ,  0.        ,\n",
       "        0.82281406,  0.20570352,  0.05142588, -0.10285176, -0.82281406,\n",
       "       -0.20570352,  0.        ,  0.10285176,  0.10285176,  0.10285176,\n",
       "        0.05142588, -0.05142588, -0.20570352, -0.20570352, -0.05142588,\n",
       "        0.        ,  0.        , -0.10285176, -0.10285176, -0.20570352,\n",
       "       -0.20570352, -0.10285176, -0.82281406,  0.        , -0.05142588,\n",
       "        0.        ,  0.82281406, -0.82281406,  0.05142588, -0.10285176,\n",
       "       -0.10285176, -0.20570352,  0.82281406, -0.10285176,  0.05142588,\n",
       "       -0.82281406, -0.05142588,  0.05142588, -0.82281406,  0.        ])"
      ]
     },
     "execution_count": 33,
     "metadata": {},
     "output_type": "execute_result"
    }
   ],
   "source": [
    "gradient(x, y, theta_vector)"
   ]
  },
  {
   "cell_type": "code",
   "execution_count": 34,
   "metadata": {},
   "outputs": [
    {
     "ename": "ValueError",
     "evalue": "non-broadcastable output operand with shape (1,) doesn't match the broadcast shape (530,)",
     "output_type": "error",
     "traceback": [
      "\u001b[0;31m---------------------------------------------------------------------------\u001b[0m",
      "\u001b[0;31mValueError\u001b[0m                                Traceback (most recent call last)",
      "Cell \u001b[0;32mIn[34], line 3\u001b[0m\n\u001b[1;32m      1\u001b[0m theta_dim \u001b[39m=\u001b[39m \u001b[39m1\u001b[39m\n\u001b[1;32m      2\u001b[0m alpha \u001b[39m=\u001b[39m \u001b[39m0.01\u001b[39m\n\u001b[0;32m----> 3\u001b[0m theta_values \u001b[39m=\u001b[39m gradient_descent(theta_dim, alpha, x, y, n_iter\u001b[39m=\u001b[39;49m\u001b[39m100\u001b[39;49m, tolerance\u001b[39m=\u001b[39;49m\u001b[39m1e-06\u001b[39;49m)\n",
      "Cell \u001b[0;32mIn[30], line 33\u001b[0m, in \u001b[0;36mgradient_descent\u001b[0;34m(theta_dim, alpha, x, y, n_iter, tolerance)\u001b[0m\n\u001b[1;32m     31\u001b[0m     \u001b[39mif\u001b[39;00m np\u001b[39m.\u001b[39mall(np\u001b[39m.\u001b[39mabs(diff) \u001b[39m<\u001b[39m\u001b[39m=\u001b[39m tolerance):\n\u001b[1;32m     32\u001b[0m         \u001b[39mbreak\u001b[39;00m\n\u001b[0;32m---> 33\u001b[0m     theta_vector \u001b[39m+\u001b[39m\u001b[39m=\u001b[39m diff\n\u001b[1;32m     34\u001b[0m \u001b[39mreturn\u001b[39;00m theta_vector\n",
      "\u001b[0;31mValueError\u001b[0m: non-broadcastable output operand with shape (1,) doesn't match the broadcast shape (530,)"
     ]
    }
   ],
   "source": [
    "theta_dim = 1\n",
    "alpha = 0.01\n",
    "theta_values = gradient_descent(theta_dim, alpha, x, y, n_iter=100, tolerance=1e-06)"
   ]
  },
  {
   "cell_type": "code",
   "execution_count": 36,
   "metadata": {},
   "outputs": [
    {
     "data": {
      "text/plain": [
       "array([-719.76859509])"
      ]
     },
     "execution_count": 36,
     "metadata": {},
     "output_type": "execute_result"
    }
   ],
   "source": [
    "theta_values"
   ]
  },
  {
   "cell_type": "code",
   "execution_count": 42,
   "metadata": {},
   "outputs": [
    {
     "ename": "NameError",
     "evalue": "name 'plt' is not defined",
     "output_type": "error",
     "traceback": [
      "\u001b[0;31m---------------------------------------------------------------------------\u001b[0m",
      "\u001b[0;31mNameError\u001b[0m                                 Traceback (most recent call last)",
      "Cell \u001b[0;32mIn[42], line 1\u001b[0m\n\u001b[0;32m----> 1\u001b[0m plt\u001b[39m.\u001b[39mplot(x, y)\n",
      "\u001b[0;31mNameError\u001b[0m: name 'plt' is not defined"
     ]
    }
   ],
   "source": [
    "plt.plot(x, y)"
   ]
  },
  {
   "cell_type": "code",
   "execution_count": null,
   "metadata": {},
   "outputs": [],
   "source": []
  }
 ],
 "metadata": {
  "kernelspec": {
   "display_name": "glmhmm",
   "language": "python",
   "name": "python3"
  },
  "language_info": {
   "codemirror_mode": {
    "name": "ipython",
    "version": 3
   },
   "file_extension": ".py",
   "mimetype": "text/x-python",
   "name": "python",
   "nbconvert_exporter": "python",
   "pygments_lexer": "ipython3",
   "version": "3.7.6"
  },
  "orig_nbformat": 4,
  "vscode": {
   "interpreter": {
    "hash": "e0570267f7605a5796a6c6283f704801f1f25a3a6f849e378a7aefdb53302a15"
   }
  }
 },
 "nbformat": 4,
 "nbformat_minor": 2
}
