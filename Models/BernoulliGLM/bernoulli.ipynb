{
 "cells": [
  {
   "cell_type": "code",
   "execution_count": null,
   "metadata": {},
   "outputs": [],
   "source": []
  }
 ],
 "metadata": {
  "kernelspec": {
   "display_name": "py39_2",
   "language": "python",
   "name": "python3"
  },
  "language_info": {
   "name": "python",
   "version": "3.9.16"
  },
  "orig_nbformat": 4,
  "vscode": {
   "interpreter": {
    "hash": "1f853f8609685127ea8e72dcad05addc0055bbd53b34efe8106300d089c6b555"
   }
  }
 },
 "nbformat": 4,
 "nbformat_minor": 2
}
