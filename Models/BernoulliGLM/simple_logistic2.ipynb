{
 "cells": [
  {
   "cell_type": "code",
   "execution_count": null,
   "metadata": {},
   "outputs": [],
   "source": []
  },
  {
   "cell_type": "code",
   "execution_count": 2,
   "metadata": {},
   "outputs": [
    {
     "name": "stderr",
     "output_type": "stream",
     "text": [
      "/opt/anaconda3/envs/iblenv/lib/python3.9/site-packages/one/webclient.py:127: RuntimeWarning: Failed to connect, returning cached response\n",
      "  warnings.warn('Failed to connect, returning cached response', RuntimeWarning)\n"
     ]
    }
   ],
   "source": [
    "\"\"\"\n",
    "IMPORTS\n",
    "\"\"\"\n",
    "import numpy as np\n",
    "import numpy.random as npr\n",
    "import os\n",
    "import random\n",
    "import pandas as pd\n",
    "import matplotlib.pyplot as plt\n",
    "\n",
    "# --Get my functions\n",
    "functions_path = \"../../Functions/\"\n",
    "os.chdir(functions_path)\n",
    "from one_functions_generic import get_trials, performance_metrics, bin_frac, prepro\n",
    "\n",
    "npr.seed(65)"
   ]
  },
  {
   "cell_type": "code",
   "execution_count": 3,
   "metadata": {},
   "outputs": [],
   "source": [
    "\"\"\"\n",
    "Load data\n",
    "\"\"\"\n",
    "trials_dir = '/home/ines/repositories/representation_learning_variability/DATA/'\n",
    "trials_dir = '/Users/ineslaranjeira/Documents/Repositories/representation_learning_variability/DATA/'\n",
    "all_trials = pd.read_csv(trials_dir + \"learning_private_one.csv\")  "
   ]
  },
  {
   "attachments": {},
   "cell_type": "markdown",
   "metadata": {},
   "source": [
    "From all data, focus on an example session of an example mouse \n",
    "Total of 530 trials should be enough for a sigmoid fit"
   ]
  },
  {
   "cell_type": "code",
   "execution_count": 4,
   "metadata": {},
   "outputs": [],
   "source": [
    "mouse_example = all_trials.loc[(all_trials['subject_nickname']=='NYU-14') & (all_trials['training_day']==33) ]"
   ]
  },
  {
   "cell_type": "code",
   "execution_count": 5,
   "metadata": {},
   "outputs": [
    {
     "name": "stderr",
     "output_type": "stream",
     "text": [
      "/Users/ineslaranjeira/Documents/Repositories/representation_learning_variability/Functions/one_functions_generic.py:487: SettingWithCopyWarning: \n",
      "A value is trying to be set on a copy of a slice from a DataFrame.\n",
      "Try using .loc[row_indexer,col_indexer] = value instead\n",
      "\n",
      "See the caveats in the documentation: https://pandas.pydata.org/pandas-docs/stable/user_guide/indexing.html#returning-a-view-versus-a-copy\n",
      "  trials['contrastLeft'] = trials['contrastLeft'].fillna(0)\n",
      "/Users/ineslaranjeira/Documents/Repositories/representation_learning_variability/Functions/one_functions_generic.py:488: SettingWithCopyWarning: \n",
      "A value is trying to be set on a copy of a slice from a DataFrame.\n",
      "Try using .loc[row_indexer,col_indexer] = value instead\n",
      "\n",
      "See the caveats in the documentation: https://pandas.pydata.org/pandas-docs/stable/user_guide/indexing.html#returning-a-view-versus-a-copy\n",
      "  trials['contrastRight'] = trials['contrastRight'].fillna(0)\n",
      "/Users/ineslaranjeira/Documents/Repositories/representation_learning_variability/Functions/one_functions_generic.py:489: SettingWithCopyWarning: \n",
      "A value is trying to be set on a copy of a slice from a DataFrame.\n",
      "Try using .loc[row_indexer,col_indexer] = value instead\n",
      "\n",
      "See the caveats in the documentation: https://pandas.pydata.org/pandas-docs/stable/user_guide/indexing.html#returning-a-view-versus-a-copy\n",
      "  trials['signed_contrast'] = - trials['contrastLeft'] + trials['contrastRight']\n",
      "/Users/ineslaranjeira/Documents/Repositories/representation_learning_variability/Functions/one_functions_generic.py:490: SettingWithCopyWarning: \n",
      "A value is trying to be set on a copy of a slice from a DataFrame.\n",
      "Try using .loc[row_indexer,col_indexer] = value instead\n",
      "\n",
      "See the caveats in the documentation: https://pandas.pydata.org/pandas-docs/stable/user_guide/indexing.html#returning-a-view-versus-a-copy\n",
      "  trials['contrast'] = trials['contrastLeft'] + trials['contrastRight']\n",
      "/Users/ineslaranjeira/Documents/Repositories/representation_learning_variability/Functions/one_functions_generic.py:491: SettingWithCopyWarning: \n",
      "A value is trying to be set on a copy of a slice from a DataFrame.\n",
      "Try using .loc[row_indexer,col_indexer] = value instead\n",
      "\n",
      "See the caveats in the documentation: https://pandas.pydata.org/pandas-docs/stable/user_guide/indexing.html#returning-a-view-versus-a-copy\n",
      "  trials['correct_easy'] = trials['feedbackType']\n",
      "/Users/ineslaranjeira/Documents/Repositories/representation_learning_variability/Functions/one_functions_generic.py:493: SettingWithCopyWarning: \n",
      "A value is trying to be set on a copy of a slice from a DataFrame.\n",
      "Try using .loc[row_indexer,col_indexer] = value instead\n",
      "\n",
      "See the caveats in the documentation: https://pandas.pydata.org/pandas-docs/stable/user_guide/indexing.html#returning-a-view-versus-a-copy\n",
      "  trials['correct'] = trials['feedbackType']\n",
      "/Users/ineslaranjeira/Documents/Repositories/representation_learning_variability/Functions/one_functions_generic.py:498: SettingWithCopyWarning: \n",
      "A value is trying to be set on a copy of a slice from a DataFrame.\n",
      "Try using .loc[row_indexer,col_indexer] = value instead\n",
      "\n",
      "See the caveats in the documentation: https://pandas.pydata.org/pandas-docs/stable/user_guide/indexing.html#returning-a-view-versus-a-copy\n",
      "  trials['response'] = trials['response_times'] - trials['stimOn_times']\n",
      "/Users/ineslaranjeira/Documents/Repositories/representation_learning_variability/Functions/one_functions_generic.py:499: SettingWithCopyWarning: \n",
      "A value is trying to be set on a copy of a slice from a DataFrame.\n",
      "Try using .loc[row_indexer,col_indexer] = value instead\n",
      "\n",
      "See the caveats in the documentation: https://pandas.pydata.org/pandas-docs/stable/user_guide/indexing.html#returning-a-view-versus-a-copy\n",
      "  trials['reaction'] = trials['firstMovement_times'] - trials['stimOn_times']\n"
     ]
    }
   ],
   "source": [
    "mouse_example = prepro(mouse_example)"
   ]
  },
  {
   "cell_type": "code",
   "execution_count": 98,
   "metadata": {},
   "outputs": [],
   "source": [
    "def logistic(x):\n",
    "    # Logistic function (sigmoid)\n",
    "    y = 1/(np.exp(-x) +1)\n",
    "    return y\n",
    "\n",
    "def _sigmoid(x):\n",
    "    return np.array([_sigmoid_function(value) for value in x])\n",
    "\n",
    "def _sigmoid_function(x):\n",
    "    if x >= 0:\n",
    "        z = np.exp(-x)\n",
    "        return 1 / (1 + z)\n",
    "    else:\n",
    "        z = np.exp(x)\n",
    "        return z / (1 + z)\n",
    "    \n",
    "\n",
    "def initialize(dim, intercept=False):\n",
    "    # Initialize theta array and bias \n",
    "    #b=random.random()\n",
    "    #theta=np.random.rand(dim)\n",
    "    if intercept == True:\n",
    "        theta = np.random.randn(dim+1, 1) # adds one for the bias\n",
    "    else:\n",
    "        theta = np.random.randn(dim, 1)\n",
    "    return theta\n",
    "\n",
    "\n",
    "def loglikelihood(y, x, theta):\n",
    "    ll = np.sum(y * np.log(logistic(x, theta)) + (1-y)* np.log(1-logistic(x, theta)))\n",
    "    return ll\n",
    "\n",
    "\n",
    "def gradient(x, y, theta_vector):\n",
    "    # Computed gradient for Bernoulli distribution\n",
    "    sigma = logistic(x, theta_vector)\n",
    "    n = len(y)\n",
    "    grad = (np.sum(sigma - y) * x )/ n\n",
    "    grad = x *(sigma - y)\n",
    "    grad = 2/n * x.T.dot(sigma - y)\n",
    "    return grad\n",
    "    \n",
    "    \n",
    "def gradient_descent(theta_dim, alpha, x, y, n_iter=50, tolerance=1e-06):\n",
    "    # the algorithm will simultaneously update the theta values \n",
    "    # after each model fits to find the global minimum of our cost function.\n",
    "    theta_vector = initialize(theta_dim, intercept=False)\n",
    "    intercept = 0\n",
    "    y_true = np.reshape(y, (len(y), 1))\n",
    "    cost_lst = []\n",
    "    thetas = []\n",
    "    X_vector = np.c_[np.ones((len(x), 1)), x]  # Add intercept term to x\n",
    "    X_vector = np.c_[x]  # no intercept term\n",
    "    for i in range(n_iter):\n",
    "        x_dot_weights = np.matmul(theta_vector, X_vector.transpose()) + intercept\n",
    "        # Make predictions based on current thetas\n",
    "        y_pred = logistic(x_dot_weights)\n",
    "        #y_pred = _sigmoid(x_dot_weights)\n",
    "        # Calculate gradient for theta and intercept\n",
    "        difference = y_pred - y_true\n",
    "        gradient_w = np.matmul(X_vector.transpose(), difference)\n",
    "        gradient_w = np.array([np.mean(grad) for grad in gradient_w])\n",
    "        gradient_b =  np.mean(difference)\n",
    "        # Calculate loss\n",
    "        y_zero_loss = y_true * np.log(y_pred + 1e-9)\n",
    "        y_one_loss = (1-y_true) * np.log(1 - y_pred + 1e-9)\n",
    "        loss = -np.mean(y_zero_loss + y_one_loss)\n",
    "\n",
    "        # Update model parameters\n",
    "        theta_vector = theta_vector - alpha * gradient_w\n",
    "        intercept = intercept - alpha * gradient_b\n",
    "\n",
    "        # Append values\n",
    "        cost_lst.append(loss)\n",
    "        thetas.append(theta_vector)\n",
    "\n",
    "        # Decide when to stop and plot progress\n",
    "        diff = -alpha * gradient_w\n",
    "        if np.all(np.abs(diff) <= tolerance):\n",
    "            plt.plot(np.arange(1, n_iter),cost_lst[1:], color = 'red')\n",
    "            plt.title('Cost function Graph')\n",
    "            plt.xlabel('Number of iterations')\n",
    "            plt.ylabel('Cost')\n",
    "            break\n",
    "\n",
    "    return theta_vector, intercept, cost_lst, thetas"
   ]
  },
  {
   "cell_type": "code",
   "execution_count": 87,
   "metadata": {},
   "outputs": [],
   "source": [
    "theta_dim = 1\n",
    "alpha = 0.01\n",
    "n_iter=10000\n",
    "tolerance=1e-06"
   ]
  },
  {
   "cell_type": "code",
   "execution_count": 110,
   "metadata": {},
   "outputs": [
    {
     "name": "stderr",
     "output_type": "stream",
     "text": [
      "/var/folders/nt/d2j3zp9d1xzb8wgfrw81j0c40000gn/T/ipykernel_48722/695982588.py:3: RuntimeWarning: overflow encountered in exp\n",
      "  y = 1/(np.exp(-x) +1)\n"
     ]
    }
   ],
   "source": [
    "    \n",
    "    # the algorithm will simultaneously update the theta values \n",
    "    # after each model fits to find the global minimum of our cost function.\n",
    "    theta_vector = initialize(theta_dim, intercept=False)\n",
    "    intercept = 0\n",
    "    choice_mapping = {1: 0, -1: 1, 0: -1}\n",
    "    new_y = [choice_mapping[old_choice] for old_choice in y]\n",
    "    y_true = np.reshape(new_y, (len(new_y), 1))\n",
    "    cost_lst = []\n",
    "    thetas = []\n",
    "    X_vector = np.c_[np.ones((len(x), 1)), x]  # Add intercept term to x\n",
    "    X_vector = np.c_[x]  # no intercept term\n",
    "    for i in range(n_iter):\n",
    "        x_dot_weights = np.matmul(theta_vector, X_vector.transpose()) + intercept\n",
    "        # Make predictions based on current thetas\n",
    "        y_pred = logistic(x_dot_weights)\n",
    "        #y_pred = _sigmoid(x_dot_weights)\n",
    "        # Calculate gradient for theta and intercept\n",
    "        difference = y_pred - y_true\n",
    "        gradient_w = np.matmul(X_vector.transpose(), difference)\n",
    "        gradient_w = np.array([np.mean(grad) for grad in gradient_w])\n",
    "        gradient_b =  np.mean(difference)\n",
    "        # Calculate loss\n",
    "        y_zero_loss = y_true * np.log(y_pred + 1e-9)\n",
    "        y_one_loss = (1-y_true) * np.log(1 - y_pred + 1e-9)\n",
    "        loss = -np.mean(y_zero_loss + y_one_loss)\n",
    "\n",
    "        # Update model parameters\n",
    "        theta_vector = theta_vector - alpha * gradient_w\n",
    "        intercept = intercept - alpha * gradient_b\n",
    "\n",
    "        # Append values\n",
    "        cost_lst.append(loss)\n",
    "        thetas.append(theta_vector)\n",
    "\n",
    "        # Decide when to stop and plot progress\n",
    "        diff = -alpha * gradient_w\n",
    "        if np.all(np.abs(diff) <= tolerance):\n",
    "            plt.plot(np.arange(1, n_iter),cost_lst[1:], color = 'red')\n",
    "            plt.title('Cost function Graph')\n",
    "            plt.xlabel('Number of iterations')\n",
    "            plt.ylabel('Cost')\n",
    "            break\n"
   ]
  },
  {
   "cell_type": "code",
   "execution_count": 99,
   "metadata": {},
   "outputs": [
    {
     "name": "stderr",
     "output_type": "stream",
     "text": [
      "/var/folders/nt/d2j3zp9d1xzb8wgfrw81j0c40000gn/T/ipykernel_48722/695982588.py:3: RuntimeWarning: overflow encountered in exp\n",
      "  y = 1/(np.exp(-x) +1)\n"
     ]
    }
   ],
   "source": [
    "x = np.array(mouse_example['signed_contrast'])\n",
    "y = np.array(mouse_example['choice'])\n",
    "theta_learned, intercept_learned, cost_lst, thetas = gradient_descent(1, 0.01, x, y, n_iter=10000, tolerance=1e-06)"
   ]
  },
  {
   "cell_type": "code",
   "execution_count": 100,
   "metadata": {},
   "outputs": [
    {
     "data": {
      "text/plain": [
       "Text(0, 0.5, 'Cost')"
      ]
     },
     "execution_count": 100,
     "metadata": {},
     "output_type": "execute_result"
    },
    {
     "data": {
      "image/png": "[encoded data removed]",
      "text/plain": [
       "<Figure size 640x480 with 1 Axes>"
      ]
     },
     "metadata": {},
     "output_type": "display_data"
    }
   ],
   "source": [
    "plt.plot(np.arange(1, 10000),cost_lst[1:], color = 'red')\n",
    "plt.title('Cost function Graph')\n",
    "plt.xlabel('Number of iterations')\n",
    "plt.ylabel('Cost')"
   ]
  },
  {
   "cell_type": "code",
   "execution_count": 101,
   "metadata": {},
   "outputs": [
    {
     "name": "stderr",
     "output_type": "stream",
     "text": [
      "/var/folders/nt/d2j3zp9d1xzb8wgfrw81j0c40000gn/T/ipykernel_48722/695982588.py:3: RuntimeWarning: overflow encountered in exp\n",
      "  y = 1/(np.exp(-x) +1)\n"
     ]
    }
   ],
   "source": [
    "x_dot_weights = np.matmul(theta_learned, X_vector.transpose()) + intercept_learned\n",
    "# Make predictions based on current thetas\n",
    "y_pred = logistic(x_dot_weights)"
   ]
  },
  {
   "cell_type": "code",
   "execution_count": 107,
   "metadata": {},
   "outputs": [],
   "source": [
    "choice_pred = [1 if p > 0.5 else 0 for p in y_pred[0]]"
   ]
  },
  {
   "cell_type": "code",
   "execution_count": 108,
   "metadata": {},
   "outputs": [],
   "source": [
    "from sklearn.metrics import accuracy_score\n",
    "accuracy = accuracy_score(y_true, choice_pred)"
   ]
  },
  {
   "cell_type": "code",
   "execution_count": 109,
   "metadata": {},
   "outputs": [
    {
     "data": {
      "text/plain": [
       "0.2188679245283019"
      ]
     },
     "execution_count": 109,
     "metadata": {},
     "output_type": "execute_result"
    }
   ],
   "source": [
    "accuracy"
   ]
  },
  {
   "cell_type": "code",
   "execution_count": null,
   "metadata": {},
   "outputs": [],
   "source": []
  }
 ],
 "metadata": {
  "kernelspec": {
   "display_name": "iblenv",
   "language": "python",
   "name": "python3"
  },
  "language_info": {
   "codemirror_mode": {
    "name": "ipython",
    "version": 3
   },
   "file_extension": ".py",
   "mimetype": "text/x-python",
   "name": "python",
   "nbconvert_exporter": "python",
   "pygments_lexer": "ipython3",
   "version": "3.9.16"
  },
  "orig_nbformat": 4
 },
 "nbformat": 4,
 "nbformat_minor": 2
}
