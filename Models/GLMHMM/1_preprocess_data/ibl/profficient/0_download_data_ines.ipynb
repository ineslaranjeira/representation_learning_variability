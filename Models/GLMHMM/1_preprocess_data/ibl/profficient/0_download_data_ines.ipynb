{
 "cells": [
  {
   "attachments": {},
   "cell_type": "markdown",
   "metadata": {},
   "source": [
    "### Get data selected for profficient phase"
   ]
  },
  {
   "cell_type": "code",
   "execution_count": 1,
   "metadata": {},
   "outputs": [],
   "source": [
    "\"\"\"\n",
    "IMPORTS\n",
    "\"\"\"\n",
    "import numpy as np\n",
    "from oneibl.onelight import ONE\n",
    "import numpy.random as npr\n",
    "import pandas as pd\n",
    "import json\n",
    "from collections import defaultdict\n",
    "import wget\n",
    "from zipfile import ZipFile\n",
    "import os\n",
    "import pickle\n",
    "from preprocessing_utils import get_animal_name, load_animal_list\n",
    "\n",
    "npr.seed(65)"
   ]
  },
  {
   "cell_type": "code",
   "execution_count": 25,
   "metadata": {},
   "outputs": [
    {
     "ename": "UnpicklingError",
     "evalue": "invalid load key, ','.",
     "output_type": "error",
     "traceback": [
      "\u001b[0;31m---------------------------------------------------------------------------\u001b[0m",
      "\u001b[0;31mUnpicklingError\u001b[0m                           Traceback (most recent call last)",
      "\u001b[0;32m/tmp/ipykernel_13885/136664095.py\u001b[0m in \u001b[0;36m<module>\u001b[0;34m\u001b[0m\n\u001b[1;32m      1\u001b[0m \u001b[0mtrials_dir\u001b[0m \u001b[0;34m=\u001b[0m \u001b[0;34m'/home/ines/repositories/representation_learning_variability/DATA/'\u001b[0m\u001b[0;34m\u001b[0m\u001b[0;34m\u001b[0m\u001b[0m\n\u001b[0;32m----> 2\u001b[0;31m \u001b[0mtrials\u001b[0m \u001b[0;34m=\u001b[0m \u001b[0mpickle\u001b[0m\u001b[0;34m.\u001b[0m\u001b[0mload\u001b[0m\u001b[0;34m(\u001b[0m\u001b[0mopen\u001b[0m\u001b[0;34m(\u001b[0m\u001b[0mtrials_dir\u001b[0m \u001b[0;34m+\u001b[0m \u001b[0;34m\"learning_private_one\"\u001b[0m\u001b[0;34m,\u001b[0m \u001b[0;34m\"rb\"\u001b[0m\u001b[0;34m)\u001b[0m\u001b[0;34m)\u001b[0m\u001b[0;34m\u001b[0m\u001b[0;34m\u001b[0m\u001b[0m\n\u001b[0m\u001b[1;32m      3\u001b[0m \u001b[0mtrials\u001b[0m\u001b[0;34m.\u001b[0m\u001b[0mto_csv\u001b[0m\u001b[0;34m(\u001b[0m\u001b[0mtrials_dir\u001b[0m \u001b[0;34m+\u001b[0m \u001b[0;34m\"learning_private_one.csv\"\u001b[0m\u001b[0;34m)\u001b[0m\u001b[0;34m\u001b[0m\u001b[0;34m\u001b[0m\u001b[0m\n",
      "\u001b[0;31mUnpicklingError\u001b[0m: invalid load key, ','."
     ]
    }
   ],
   "source": [
    "trials_dir = '/home/ines/repositories/representation_learning_variability/DATA/'\n",
    "trials = pickle.load(open(trials_dir + \"profficient_private_one\", \"rb\"))\n",
    "trials.to_csv(trials_dir + \"profficient_private_one.csv\") "
   ]
  },
  {
   "cell_type": "code",
   "execution_count": 2,
   "metadata": {},
   "outputs": [],
   "source": [
    "import os\n",
    "import pickle\n",
    "data_path = '/Users/ineslaranjeira/Documents/Repositories/representation_learning_variability/DATA/'\n",
    "os.chdir(data_path)\n",
    "trials = pickle.load(open(\"learning_private_one\", \"rb\"))\n",
    "trials.to_csv(\"learning_private_one.csv\") "
   ]
  },
  {
   "cell_type": "code",
   "execution_count": 3,
   "metadata": {},
   "outputs": [],
   "source": [
    "\"\"\"\n",
    "GET ANIMALS OF INTEREST\n",
    "\"\"\"\n",
    "# Animals in this path were filtered based on having finished training, belonging to the brainwidemap project\n",
    "# TODO: should add here the code that generates the data I'm using here\n",
    "\n",
    "trials_dir = '/home/ines/repositories/representation_learning_variability/DATA/'\n",
    "trials_dir = '/Users/ineslaranjeira/Documents/Repositories/representation_learning_variability/DATA/'\n",
    "all_trials = pd.read_csv(trials_dir + \"learning_private_one.csv\")  \n",
    "animal_list = all_trials['subject_nickname'].unique()\n",
    "data_dir = '/home/ines/repositories/representation_learning_variability/DATA/GLMHMM/'\n",
    "data_dir = '/Users/ineslaranjeira/Documents/Repositories/representation_learning_variability/DATA/GLMHMM'\n",
    "os.chdir(data_dir)\n",
    "np.savez('animal_list.npz', animal_list)"
   ]
  },
  {
   "cell_type": "code",
   "execution_count": 4,
   "metadata": {},
   "outputs": [],
   "source": [
    "#data_dir = '/home/ines/repositories/learning_variability/DATA/GLMHMM/'\n",
    "os.chdir(data_dir)\n",
    "animal_list = load_animal_list('animal_list.npz')"
   ]
  },
  {
   "cell_type": "code",
   "execution_count": 6,
   "metadata": {},
   "outputs": [],
   "source": [
    "\"\"\"\n",
    "GET eids of interest\n",
    "\"\"\"\n",
    "eids = all_trials['session_uuid'].unique()\n",
    "\n",
    "# Filter eids based on animal_list\n",
    "animal_eid_dict = defaultdict(list)\n",
    "\n",
    "for eid in eids:\n",
    "    animal = all_trials.loc[all_trials['session_uuid']==eid, 'subject_nickname'].unique()[0]    \n",
    "    animal_eid_dict[animal].append(eid)\n",
    "        \n",
    "os.chdir(data_dir)\n",
    "json = json.dumps(animal_eid_dict)\n",
    "f = open(\"animal_eid_dict.json\",  \"w\")\n",
    "f.write(json)\n",
    "f.close()"
   ]
  }
 ],
 "metadata": {
  "kernelspec": {
   "display_name": "glmhmm",
   "language": "python",
   "name": "python3"
  },
  "language_info": {
   "codemirror_mode": {
    "name": "ipython",
    "version": 3
   },
   "file_extension": ".py",
   "mimetype": "text/x-python",
   "name": "python",
   "nbconvert_exporter": "python",
   "pygments_lexer": "ipython3",
   "version": "3.7.6"
  },
  "orig_nbformat": 4,
  "vscode": {
   "interpreter": {
    "hash": "e0570267f7605a5796a6c6283f704801f1f25a3a6f849e378a7aefdb53302a15"
   }
  }
 },
 "nbformat": 4,
 "nbformat_minor": 2
}
