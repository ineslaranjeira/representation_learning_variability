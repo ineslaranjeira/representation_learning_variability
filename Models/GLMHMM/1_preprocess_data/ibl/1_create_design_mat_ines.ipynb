{
 "cells": [
  {
   "cell_type": "markdown",
   "metadata": {},
   "source": [
    "### Create design matrix with IBL mice"
   ]
  },
  {
   "cell_type": "code",
   "execution_count": 1,
   "metadata": {},
   "outputs": [],
   "source": [
    "\"\"\"\n",
    "IMPORTS\n",
    "\"\"\"\n",
    "import numpy as np\n",
    "from oneibl.onelight import ONE\n",
    "import numpy.random as npr\n",
    "import json\n",
    "from collections import defaultdict\n",
    "import wget\n",
    "from zipfile import ZipFile\n",
    "import os\n",
    "import pandas as pd\n",
    "from preprocessing_utils_ines import get_animal_name, load_animal_list, load_animal_eid_dict, \\\n",
    "    get_all_unnormalized_data_this_session, create_train_test_sessions\n",
    "\n",
    "npr.seed(65)"
   ]
  },
  {
   "cell_type": "code",
   "execution_count": 2,
   "metadata": {},
   "outputs": [],
   "source": [
    "\"\"\"\n",
    "Load data\n",
    "\"\"\"\n",
    "data_dir = '/home/ines/repositories/learning_variability/DATA/GLMHMM/'\n",
    "#data_dir = '/home/ines/repositories/learning_variability/HMMs/Zoes_model/data/ibl/partially_processed/'\n",
    "# Load animal list/results of partial processing:\n",
    "animal_list = load_animal_list(\n",
    "    data_dir + 'animal_list.npz')\n",
    "animal_eid_dict = load_animal_eid_dict(\n",
    "    data_dir + 'animal_eid_dict.json')\n"
   ]
  },
  {
   "cell_type": "code",
   "execution_count": 3,
   "metadata": {},
   "outputs": [],
   "source": [
    "\"\"\"\n",
    "Create folders to save processed data\n",
    "\"\"\"\n",
    "#data_dir = '/home/ines/repositories/learning_variability/HMMs/Zoes_model/data/ibl-behavioral-data-Dec-2019/'\n",
    "# Create directories for saving data:\n",
    "processed_ibl_data_path = data_dir + \"data_for_cluster/\"\n",
    "if not os.path.exists(processed_ibl_data_path):\n",
    "    os.makedirs(processed_ibl_data_path)\n",
    "# Also create a subdirectory for storing each individual animal's data:\n",
    "if not os.path.exists(processed_ibl_data_path + \"data_by_animal/\"):\n",
    "    os.makedirs(processed_ibl_data_path + \"data_by_animal/\")"
   ]
  },
  {
   "cell_type": "code",
   "execution_count": 4,
   "metadata": {},
   "outputs": [],
   "source": [
    "# Require that each animal has at least 10 sessions (=2700 trials) of data:\n",
    "req_num_sessions = 10  # 30*90 = 2700\n",
    "for animal in animal_list:\n",
    "    num_sessions = len(animal_eid_dict[animal])\n",
    "    if num_sessions < req_num_sessions:\n",
    "        animal_list = np.delete(animal_list,\n",
    "                                np.where(animal_list == animal))"
   ]
  },
  {
   "cell_type": "code",
   "execution_count": 5,
   "metadata": {},
   "outputs": [
    {
     "name": "stderr",
     "output_type": "stream",
     "text": [
      "/home/ines/miniconda3/envs/glmhmm/lib/python3.7/site-packages/IPython/core/interactiveshell.py:3258: DtypeWarning: Columns (23) have mixed types.Specify dtype option on import or set low_memory=False.\n",
      "  interactivity=interactivity, compiler=compiler, result=result)\n"
     ]
    }
   ],
   "source": [
    "data_dir = '/home/ines/repositories/learning_variability/DATA/'\n",
    "all_trials = pd.read_csv(data_dir + \"learning_private_one.csv\")  "
   ]
  },
  {
   "cell_type": "code",
   "execution_count": 23,
   "metadata": {},
   "outputs": [
    {
     "name": "stdout",
     "output_type": "stream",
     "text": [
      "churchlandlab_ucla/Subjects/UCLA055/2022-05-20/001\n",
      "churchlandlab_ucla/Subjects/UCLA055/2022-05-23/001\n",
      "churchlandlab_ucla/Subjects/UCLA055/2022-05-31/001\n",
      "churchlandlab_ucla/Subjects/UCLA055/2022-06-01/001\n",
      "churchlandlab_ucla/Subjects/UCLA055/2022-06-02/001\n",
      "churchlandlab_ucla/Subjects/UCLA055/2022-06-03/001\n",
      "churchlandlab_ucla/Subjects/UCLA055/2022-06-06/001\n",
      "churchlandlab_ucla/Subjects/UCLA055/2022-06-07/001\n",
      "churchlandlab_ucla/Subjects/UCLA055/2022-06-08/001\n",
      "churchlandlab_ucla/Subjects/UCLA055/2022-06-09/001\n",
      "churchlandlab_ucla/Subjects/UCLA055/2022-06-10/001\n",
      "churchlandlab_ucla/Subjects/UCLA055/2022-06-13/001\n",
      "churchlandlab_ucla/Subjects/UCLA055/2022-06-14/002\n",
      "churchlandlab_ucla/Subjects/UCLA055/2022-06-15/001\n",
      "churchlandlab_ucla/Subjects/UCLA055/2022-06-16/001\n",
      "churchlandlab_ucla/Subjects/UCLA055/2022-06-17/001\n",
      "churchlandlab_ucla/Subjects/UCLA055/2022-06-21/001\n",
      "churchlandlab_ucla/Subjects/UCLA055/2022-06-22/001\n",
      "churchlandlab_ucla/Subjects/UCLA055/2022-06-23/001\n",
      "churchlandlab_ucla/Subjects/UCLA055/2022-06-24/001\n",
      "churchlandlab_ucla/Subjects/UCLA055/2022-06-27/001\n",
      "churchlandlab_ucla/Subjects/UCLA055/2022-06-28/001\n",
      "churchlandlab_ucla/Subjects/UCLA055/2022-06-29/001\n",
      "churchlandlab_ucla/Subjects/UCLA055/2022-06-30/005\n",
      "churchlandlab_ucla/Subjects/UCLA055/2022-07-01/001\n",
      "churchlandlab_ucla/Subjects/UCLA055/2022-07-06/002\n"
     ]
    }
   ],
   "source": [
    "# Identify idx in master array where each animal's data starts and ends:\n",
    "animal_start_idx = {}\n",
    "animal_end_idx = {}\n",
    "\n",
    "#one_local_rep_path = '../../data/ibl/ibl-behavioral-data-Dec2019/'\n",
    "\n",
    "final_animal_eid_dict = defaultdict(list)\n",
    "# WORKHORSE: iterate through each animal and each animal's set of eids;\n",
    "# obtain unnormalized data.  Write out each animal's data and then also\n",
    "# write to master array\n",
    "for z, animal in enumerate(animal_list[8:9]):\n",
    "    sess_counter = 0\n",
    "    for eid in animal_eid_dict[animal]:\n",
    "        # Check if all data is available:\n",
    "        #eid_path = one_local_rep_path + eid + '/alf'\n",
    "        #dir_list = os.listdir(eid_path)\n",
    "        animal, unnormalized_inpt, y, session, num_viols_50, rewarded = \\\n",
    "            get_all_unnormalized_data_this_session(\n",
    "                eid, all_trials)\n",
    "        if num_viols_50 < 10:  # only include session if number of viols\n",
    "            # in 50-50 block is less than 10\n",
    "            if sess_counter == 0:\n",
    "                animal_unnormalized_inpt = np.copy(unnormalized_inpt)\n",
    "                animal_y = np.copy(y)\n",
    "                animal_session = session\n",
    "                animal_rewarded = np.copy(rewarded)\n",
    "            else:\n",
    "                animal_unnormalized_inpt = np.vstack(\n",
    "                    (animal_unnormalized_inpt, unnormalized_inpt))\n",
    "                animal_y = np.vstack((animal_y, y))\n",
    "                animal_session = np.concatenate((animal_session, session))\n",
    "                animal_rewarded = np.vstack((animal_rewarded, rewarded))\n",
    "            sess_counter += 1\n",
    "            final_animal_eid_dict[animal].append(eid)\n",
    "    # Write out animal's unnormalized data matrix:\n",
    "    np.savez(\n",
    "        processed_ibl_data_path + 'data_by_animal/' + animal +\n",
    "        '_unnormalized.npz',\n",
    "        animal_unnormalized_inpt, animal_y,\n",
    "        animal_session)\n",
    "    animal_session_fold_lookup = create_train_test_sessions(animal_session,\n",
    "                                                            5)\n",
    "    np.savez(\n",
    "        processed_ibl_data_path + 'data_by_animal/' + animal +\n",
    "        \"_session_fold_lookup\" +\n",
    "        \".npz\",\n",
    "        animal_session_fold_lookup)\n",
    "    np.savez(\n",
    "        processed_ibl_data_path + 'data_by_animal/' + animal +\n",
    "        '_rewarded.npz',\n",
    "        animal_rewarded)\n",
    "    assert animal_rewarded.shape[0] == animal_y.shape[0]\n",
    "    # Now create or append data to master array across all animals:\n",
    "    if z == 0:\n",
    "        master_inpt = np.copy(animal_unnormalized_inpt)\n",
    "        animal_start_idx[animal] = 0\n",
    "        animal_end_idx[animal] = master_inpt.shape[0] - 1\n",
    "        master_y = np.copy(animal_y)\n",
    "        master_session = animal_session\n",
    "        master_session_fold_lookup_table = animal_session_fold_lookup\n",
    "        master_rewarded = np.copy(animal_rewarded)\n",
    "    else:\n",
    "        animal_start_idx[animal] = master_inpt.shape[0]\n",
    "        master_inpt = np.vstack((master_inpt, animal_unnormalized_inpt))\n",
    "        animal_end_idx[animal] = master_inpt.shape[0] - 1\n",
    "        master_y = np.vstack((master_y, animal_y))\n",
    "        master_session = np.concatenate((master_session, animal_session))\n",
    "        master_session_fold_lookup_table = np.vstack(\n",
    "            (master_session_fold_lookup_table, animal_session_fold_lookup))\n",
    "        master_rewarded = np.vstack((master_rewarded, animal_rewarded))"
   ]
  },
  {
   "cell_type": "code",
   "execution_count": null,
   "metadata": {},
   "outputs": [],
   "source": [
    "\n",
    "# Write out data from across animals\n",
    "assert np.shape(master_inpt)[0] == np.shape(master_y)[\n",
    "    0], \"inpt and y not same length\"\n",
    "assert np.shape(master_rewarded)[0] == np.shape(master_y)[\n",
    "    0], \"rewarded and y not same length\"\n",
    "assert len(np.unique(master_session)) == \\\n",
    "        np.shape(master_session_fold_lookup_table)[\n",
    "            0], \"number of unique sessions and session fold lookup don't \" \\\n",
    "                \"match\"\n",
    "assert len(master_inpt) == 181530, \"design matrix for all IBL animals \" \\\n",
    "                                    \"should have shape (181530, 3)\"\n",
    "assert len(animal_list) == 37, \"37 animals were studied in Ashwood et \" \\\n",
    "                                \"al. (2020)\"\n",
    "normalized_inpt = np.copy(master_inpt)\n",
    "normalized_inpt[:, 0] = preprocessing.scale(normalized_inpt[:, 0])\n",
    "np.savez(processed_ibl_data_path + 'all_animals_concat' + '.npz',\n",
    "            normalized_inpt,\n",
    "            master_y, master_session)\n",
    "np.savez(\n",
    "    processed_ibl_data_path + 'all_animals_concat_unnormalized' + '.npz',\n",
    "    master_inpt, master_y, master_session)\n",
    "np.savez(\n",
    "    processed_ibl_data_path + 'all_animals_concat_session_fold_lookup' +\n",
    "    '.npz',\n",
    "    master_session_fold_lookup_table)\n",
    "np.savez(processed_ibl_data_path + 'all_animals_concat_rewarded' + '.npz',\n",
    "            master_rewarded)\n",
    "np.savez(processed_ibl_data_path + 'data_by_animal/' + 'animal_list.npz',\n",
    "            animal_list)\n",
    "\n",
    "json = json.dumps(final_animal_eid_dict)\n",
    "f = open(processed_ibl_data_path + \"final_animal_eid_dict.json\", \"w\")\n",
    "f.write(json)\n",
    "f.close()\n"
   ]
  },
  {
   "cell_type": "code",
   "execution_count": null,
   "metadata": {},
   "outputs": [],
   "source": [
    "\n",
    "# Now write out normalized data (when normalized across all animals) for\n",
    "# each animal:\n",
    "counter = 0\n",
    "for animal in animal_start_idx.keys():\n",
    "    start_idx = animal_start_idx[animal]\n",
    "    end_idx = animal_end_idx[animal]\n",
    "    inpt = normalized_inpt[range(start_idx, end_idx + 1)]\n",
    "    y = master_y[range(start_idx, end_idx + 1)]\n",
    "    session = master_session[range(start_idx, end_idx + 1)]\n",
    "    counter += inpt.shape[0]\n",
    "    np.savez(processed_ibl_data_path + 'data_by_animal/' + animal + '_processed.npz',\n",
    "                inpt, y,\n",
    "                session)\n",
    "\n",
    "assert counter == master_inpt.shape[0]"
   ]
  }
 ],
 "metadata": {
  "kernelspec": {
   "display_name": "Python 3.7.6 ('glmhmm')",
   "language": "python",
   "name": "python3"
  },
  "language_info": {
   "codemirror_mode": {
    "name": "ipython",
    "version": 3
   },
   "file_extension": ".py",
   "mimetype": "text/x-python",
   "name": "python",
   "nbconvert_exporter": "python",
   "pygments_lexer": "ipython3",
   "version": "3.7.6"
  },
  "orig_nbformat": 4,
  "vscode": {
   "interpreter": {
    "hash": "e0570267f7605a5796a6c6283f704801f1f25a3a6f849e378a7aefdb53302a15"
   }
  }
 },
 "nbformat": 4,
 "nbformat_minor": 2
}
