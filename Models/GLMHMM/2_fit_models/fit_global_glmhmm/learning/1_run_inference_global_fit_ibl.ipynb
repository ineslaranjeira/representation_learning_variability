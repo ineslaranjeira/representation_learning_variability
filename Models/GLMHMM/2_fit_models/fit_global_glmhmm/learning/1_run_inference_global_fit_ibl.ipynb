{
 "cells": [
  {
   "attachments": {},
   "cell_type": "markdown",
   "metadata": {},
   "source": [
    "## Run inference global fit "
   ]
  },
  {
   "cell_type": "code",
   "execution_count": 1,
   "metadata": {},
   "outputs": [],
   "source": [
    "\"\"\" \n",
    "IMPORTS\n",
    "\"\"\"\n",
    "import sys\n",
    "import os\n",
    "import autograd.numpy as np\n",
    "from glm_hmm_utils import load_cluster_arr, load_session_fold_lookup, \\\n",
    "    load_data, create_violation_mask, launch_glm_hmm_job"
   ]
  },
  {
   "cell_type": "code",
   "execution_count": 2,
   "metadata": {},
   "outputs": [],
   "source": [
    "\"\"\" \n",
    "PARAMETERS\n",
    "\"\"\"\n",
    "D = 1  # data (observations) dimension\n",
    "C = 2  # number of output types/categories\n",
    "N_em_iters = 300  # number of EM iterations\n",
    "\n",
    "USE_CLUSTER = False\n",
    "\n",
    "num_folds = 5\n",
    "global_fit = True\n",
    "# perform mle => set transition_alpha to 1\n",
    "transition_alpha = 1\n",
    "prior_sigma = 100\n",
    "\n",
    "bin_num = 10"
   ]
  },
  {
   "cell_type": "code",
   "execution_count": 3,
   "metadata": {},
   "outputs": [],
   "source": [
    "\"\"\"\n",
    "DIRECTORIES\n",
    "\"\"\"\n",
    "data_dir = '../../data/ibl/data_for_cluster/'\n",
    "data_dir = '/home/ines/repositories/representation_learning_variability/DATA/GLMHMM/'\n",
    "data_dir = '/Users/ineslaranjeira/Documents/Repositories/representation_learning_variability/DATA/GLMHMM/'\n",
    "\n",
    "\"\"\"\n",
    "Create folders to save processed data\n",
    "\"\"\"\n",
    "# Create directories for saving data:\n",
    "processed_ibl_data_path = data_dir + \"data_for_cluster/\" + \"data_by_bin\" + str(bin_num) + \"global_normalization/\"\n",
    "\n",
    "# Create directory for results:\n",
    "results_dir = '../../results/ibl_global_fit/'"
   ]
  },
  {
   "cell_type": "code",
   "execution_count": 4,
   "metadata": {},
   "outputs": [],
   "source": [
    "#  In order to facilitate parallelization of jobs, create a job array that\n",
    "#  can be used on e.g. a cluster\n",
    "import numpy as np\n",
    "\n",
    "K_vals = [2, 3, 4, 5]\n",
    "K_vals = [2, 3]\n",
    "num_folds = 5\n",
    "N_initializations = 20\n",
    "\n",
    "cluster_job_arr = []\n",
    "for K in K_vals:\n",
    "    for i in range(num_folds):\n",
    "        for j in range(N_initializations):\n",
    "            cluster_job_arr.append([K, i, j])\n",
    "np.savez(processed_ibl_data_path + 'cluster_job_arr.npz',\n",
    "            cluster_job_arr)"
   ]
  },
  {
   "cell_type": "code",
   "execution_count": 5,
   "metadata": {},
   "outputs": [
    {
     "name": "stdout",
     "output_type": "stream",
     "text": [
      "Starting inference with K = 2; Fold = 0; Iter = 0\n",
      "=== fitting GLM-HMM ========\n"
     ]
    },
    {
     "data": {
      "application/vnd.jupyter.widget-view+json": {
       "model_id": "27b2919a46274bbd988c7f81aa2da2d4",
       "version_major": 2,
       "version_minor": 0
      },
      "text/plain": [
       "  0%|          | 0/300 [00:00<?, ?it/s]"
      ]
     },
     "metadata": {},
     "output_type": "display_data"
    },
    {
     "name": "stdout",
     "output_type": "stream",
     "text": [
      "Starting inference with K = 2; Fold = 0; Iter = 1\n",
      "=== fitting GLM-HMM ========\n"
     ]
    },
    {
     "data": {
      "application/vnd.jupyter.widget-view+json": {
       "model_id": "cf1c97d41f1d454597443aae925adb3d",
       "version_major": 2,
       "version_minor": 0
      },
      "text/plain": [
       "  0%|          | 0/300 [00:00<?, ?it/s]"
      ]
     },
     "metadata": {},
     "output_type": "display_data"
    },
    {
     "name": "stdout",
     "output_type": "stream",
     "text": [
      "Starting inference with K = 2; Fold = 0; Iter = 2\n",
      "=== fitting GLM-HMM ========\n"
     ]
    },
    {
     "data": {
      "application/vnd.jupyter.widget-view+json": {
       "model_id": "e660d01bc0384f8baaf06603788828a0",
       "version_major": 2,
       "version_minor": 0
      },
      "text/plain": [
       "  0%|          | 0/300 [00:00<?, ?it/s]"
      ]
     },
     "metadata": {},
     "output_type": "display_data"
    },
    {
     "name": "stdout",
     "output_type": "stream",
     "text": [
      "Starting inference with K = 2; Fold = 0; Iter = 3\n",
      "=== fitting GLM-HMM ========\n"
     ]
    },
    {
     "data": {
      "application/vnd.jupyter.widget-view+json": {
       "model_id": "8695b85f79414c539be7af9004572d8c",
       "version_major": 2,
       "version_minor": 0
      },
      "text/plain": [
       "  0%|          | 0/300 [00:00<?, ?it/s]"
      ]
     },
     "metadata": {},
     "output_type": "display_data"
    },
    {
     "name": "stdout",
     "output_type": "stream",
     "text": [
      "Starting inference with K = 2; Fold = 0; Iter = 4\n",
      "=== fitting GLM-HMM ========\n"
     ]
    },
    {
     "data": {
      "application/vnd.jupyter.widget-view+json": {
       "model_id": "355cc84ce42a45f5b32abe4fedd38fa3",
       "version_major": 2,
       "version_minor": 0
      },
      "text/plain": [
       "  0%|          | 0/300 [00:00<?, ?it/s]"
      ]
     },
     "metadata": {},
     "output_type": "display_data"
    },
    {
     "name": "stdout",
     "output_type": "stream",
     "text": [
      "Starting inference with K = 2; Fold = 0; Iter = 5\n",
      "=== fitting GLM-HMM ========\n"
     ]
    },
    {
     "data": {
      "application/vnd.jupyter.widget-view+json": {
       "model_id": "eda37030a53246e683df292f1581952f",
       "version_major": 2,
       "version_minor": 0
      },
      "text/plain": [
       "  0%|          | 0/300 [00:00<?, ?it/s]"
      ]
     },
     "metadata": {},
     "output_type": "display_data"
    },
    {
     "name": "stdout",
     "output_type": "stream",
     "text": [
      "Starting inference with K = 2; Fold = 0; Iter = 6\n",
      "=== fitting GLM-HMM ========\n"
     ]
    },
    {
     "data": {
      "application/vnd.jupyter.widget-view+json": {
       "model_id": "48ca12c01fb04dbfb6078065450464d4",
       "version_major": 2,
       "version_minor": 0
      },
      "text/plain": [
       "  0%|          | 0/300 [00:00<?, ?it/s]"
      ]
     },
     "metadata": {},
     "output_type": "display_data"
    },
    {
     "name": "stdout",
     "output_type": "stream",
     "text": [
      "Starting inference with K = 2; Fold = 0; Iter = 7\n",
      "=== fitting GLM-HMM ========\n"
     ]
    },
    {
     "data": {
      "application/vnd.jupyter.widget-view+json": {
       "model_id": "171af7e105e64ff8806bc316cc2c5dbc",
       "version_major": 2,
       "version_minor": 0
      },
      "text/plain": [
       "  0%|          | 0/300 [00:00<?, ?it/s]"
      ]
     },
     "metadata": {},
     "output_type": "display_data"
    },
    {
     "name": "stdout",
     "output_type": "stream",
     "text": [
      "Starting inference with K = 2; Fold = 0; Iter = 8\n",
      "=== fitting GLM-HMM ========\n"
     ]
    },
    {
     "data": {
      "application/vnd.jupyter.widget-view+json": {
       "model_id": "112f4a566d2840f996f69c475dea0b02",
       "version_major": 2,
       "version_minor": 0
      },
      "text/plain": [
       "  0%|          | 0/300 [00:00<?, ?it/s]"
      ]
     },
     "metadata": {},
     "output_type": "display_data"
    },
    {
     "name": "stdout",
     "output_type": "stream",
     "text": [
      "Starting inference with K = 2; Fold = 0; Iter = 9\n",
      "=== fitting GLM-HMM ========\n"
     ]
    },
    {
     "data": {
      "application/vnd.jupyter.widget-view+json": {
       "model_id": "177b28f13fd04a0a935a1f4ec8675bd6",
       "version_major": 2,
       "version_minor": 0
      },
      "text/plain": [
       "  0%|          | 0/300 [00:00<?, ?it/s]"
      ]
     },
     "metadata": {},
     "output_type": "display_data"
    },
    {
     "name": "stdout",
     "output_type": "stream",
     "text": [
      "Starting inference with K = 2; Fold = 0; Iter = 10\n",
      "=== fitting GLM-HMM ========\n"
     ]
    },
    {
     "data": {
      "application/vnd.jupyter.widget-view+json": {
       "model_id": "caa6910f1ac0473f95c1f158a00e9108",
       "version_major": 2,
       "version_minor": 0
      },
      "text/plain": [
       "  0%|          | 0/300 [00:00<?, ?it/s]"
      ]
     },
     "metadata": {},
     "output_type": "display_data"
    },
    {
     "name": "stdout",
     "output_type": "stream",
     "text": [
      "Starting inference with K = 2; Fold = 0; Iter = 11\n",
      "=== fitting GLM-HMM ========\n"
     ]
    },
    {
     "data": {
      "application/vnd.jupyter.widget-view+json": {
       "model_id": "4941f81114f64328ab141fc0f65ea98b",
       "version_major": 2,
       "version_minor": 0
      },
      "text/plain": [
       "  0%|          | 0/300 [00:00<?, ?it/s]"
      ]
     },
     "metadata": {},
     "output_type": "display_data"
    },
    {
     "name": "stdout",
     "output_type": "stream",
     "text": [
      "Starting inference with K = 2; Fold = 0; Iter = 12\n",
      "=== fitting GLM-HMM ========\n"
     ]
    },
    {
     "data": {
      "application/vnd.jupyter.widget-view+json": {
       "model_id": "95c5a418a65145f2b8e18ac464aea22b",
       "version_major": 2,
       "version_minor": 0
      },
      "text/plain": [
       "  0%|          | 0/300 [00:00<?, ?it/s]"
      ]
     },
     "metadata": {},
     "output_type": "display_data"
    },
    {
     "name": "stdout",
     "output_type": "stream",
     "text": [
      "Starting inference with K = 2; Fold = 0; Iter = 13\n",
      "=== fitting GLM-HMM ========\n"
     ]
    },
    {
     "data": {
      "application/vnd.jupyter.widget-view+json": {
       "model_id": "90bee68aa7784169984188f0967c6cf1",
       "version_major": 2,
       "version_minor": 0
      },
      "text/plain": [
       "  0%|          | 0/300 [00:00<?, ?it/s]"
      ]
     },
     "metadata": {},
     "output_type": "display_data"
    },
    {
     "name": "stdout",
     "output_type": "stream",
     "text": [
      "Starting inference with K = 2; Fold = 0; Iter = 14\n",
      "=== fitting GLM-HMM ========\n"
     ]
    },
    {
     "data": {
      "application/vnd.jupyter.widget-view+json": {
       "model_id": "62c67790e0ea4b5ead246a399988f73b",
       "version_major": 2,
       "version_minor": 0
      },
      "text/plain": [
       "  0%|          | 0/300 [00:00<?, ?it/s]"
      ]
     },
     "metadata": {},
     "output_type": "display_data"
    },
    {
     "name": "stdout",
     "output_type": "stream",
     "text": [
      "Starting inference with K = 2; Fold = 0; Iter = 15\n",
      "=== fitting GLM-HMM ========\n"
     ]
    },
    {
     "data": {
      "application/vnd.jupyter.widget-view+json": {
       "model_id": "0421004e600b4d8a89a3d15dc5072af3",
       "version_major": 2,
       "version_minor": 0
      },
      "text/plain": [
       "  0%|          | 0/300 [00:00<?, ?it/s]"
      ]
     },
     "metadata": {},
     "output_type": "display_data"
    },
    {
     "name": "stdout",
     "output_type": "stream",
     "text": [
      "Starting inference with K = 2; Fold = 0; Iter = 16\n",
      "=== fitting GLM-HMM ========\n"
     ]
    },
    {
     "data": {
      "application/vnd.jupyter.widget-view+json": {
       "model_id": "0524e4b1808c4e0a9bb324d9609870e4",
       "version_major": 2,
       "version_minor": 0
      },
      "text/plain": [
       "  0%|          | 0/300 [00:00<?, ?it/s]"
      ]
     },
     "metadata": {},
     "output_type": "display_data"
    },
    {
     "name": "stdout",
     "output_type": "stream",
     "text": [
      "Starting inference with K = 2; Fold = 0; Iter = 17\n",
      "=== fitting GLM-HMM ========\n"
     ]
    },
    {
     "data": {
      "application/vnd.jupyter.widget-view+json": {
       "model_id": "378b2a0920464ebc93ffc7440cae90ad",
       "version_major": 2,
       "version_minor": 0
      },
      "text/plain": [
       "  0%|          | 0/300 [00:00<?, ?it/s]"
      ]
     },
     "metadata": {},
     "output_type": "display_data"
    },
    {
     "name": "stdout",
     "output_type": "stream",
     "text": [
      "Starting inference with K = 2; Fold = 0; Iter = 18\n",
      "=== fitting GLM-HMM ========\n"
     ]
    },
    {
     "data": {
      "application/vnd.jupyter.widget-view+json": {
       "model_id": "bf8b25a770d14a90af2c6bb631c692b8",
       "version_major": 2,
       "version_minor": 0
      },
      "text/plain": [
       "  0%|          | 0/300 [00:00<?, ?it/s]"
      ]
     },
     "metadata": {},
     "output_type": "display_data"
    },
    {
     "name": "stdout",
     "output_type": "stream",
     "text": [
      "Starting inference with K = 2; Fold = 0; Iter = 19\n",
      "=== fitting GLM-HMM ========\n"
     ]
    },
    {
     "data": {
      "application/vnd.jupyter.widget-view+json": {
       "model_id": "38bcbf0be5ed4af094a2491878fa4dae",
       "version_major": 2,
       "version_minor": 0
      },
      "text/plain": [
       "  0%|          | 0/300 [00:00<?, ?it/s]"
      ]
     },
     "metadata": {},
     "output_type": "display_data"
    },
    {
     "name": "stdout",
     "output_type": "stream",
     "text": [
      "Starting inference with K = 2; Fold = 1; Iter = 0\n",
      "=== fitting GLM-HMM ========\n"
     ]
    },
    {
     "data": {
      "application/vnd.jupyter.widget-view+json": {
       "model_id": "1b08c25869ab4af2b7f5d407bed29766",
       "version_major": 2,
       "version_minor": 0
      },
      "text/plain": [
       "  0%|          | 0/300 [00:00<?, ?it/s]"
      ]
     },
     "metadata": {},
     "output_type": "display_data"
    },
    {
     "name": "stdout",
     "output_type": "stream",
     "text": [
      "Starting inference with K = 2; Fold = 1; Iter = 1\n",
      "=== fitting GLM-HMM ========\n"
     ]
    },
    {
     "data": {
      "application/vnd.jupyter.widget-view+json": {
       "model_id": "3d530836f02d4feda05d96ceb5ea7f26",
       "version_major": 2,
       "version_minor": 0
      },
      "text/plain": [
       "  0%|          | 0/300 [00:00<?, ?it/s]"
      ]
     },
     "metadata": {},
     "output_type": "display_data"
    },
    {
     "name": "stdout",
     "output_type": "stream",
     "text": [
      "Starting inference with K = 2; Fold = 1; Iter = 2\n",
      "=== fitting GLM-HMM ========\n"
     ]
    },
    {
     "data": {
      "application/vnd.jupyter.widget-view+json": {
       "model_id": "c0db7787f8fe4af7863d9ef9e99e39b9",
       "version_major": 2,
       "version_minor": 0
      },
      "text/plain": [
       "  0%|          | 0/300 [00:00<?, ?it/s]"
      ]
     },
     "metadata": {},
     "output_type": "display_data"
    },
    {
     "name": "stdout",
     "output_type": "stream",
     "text": [
      "Starting inference with K = 2; Fold = 1; Iter = 3\n",
      "=== fitting GLM-HMM ========\n"
     ]
    },
    {
     "data": {
      "application/vnd.jupyter.widget-view+json": {
       "model_id": "1992a029d5ee464b9364e7786c47e398",
       "version_major": 2,
       "version_minor": 0
      },
      "text/plain": [
       "  0%|          | 0/300 [00:00<?, ?it/s]"
      ]
     },
     "metadata": {},
     "output_type": "display_data"
    },
    {
     "name": "stdout",
     "output_type": "stream",
     "text": [
      "Starting inference with K = 2; Fold = 1; Iter = 4\n",
      "=== fitting GLM-HMM ========\n"
     ]
    },
    {
     "data": {
      "application/vnd.jupyter.widget-view+json": {
       "model_id": "6e83805eb6034858863cd91003d19f65",
       "version_major": 2,
       "version_minor": 0
      },
      "text/plain": [
       "  0%|          | 0/300 [00:00<?, ?it/s]"
      ]
     },
     "metadata": {},
     "output_type": "display_data"
    },
    {
     "name": "stdout",
     "output_type": "stream",
     "text": [
      "Starting inference with K = 2; Fold = 1; Iter = 5\n",
      "=== fitting GLM-HMM ========\n"
     ]
    },
    {
     "data": {
      "application/vnd.jupyter.widget-view+json": {
       "model_id": "92317b09c75340ceb6b0abd045555841",
       "version_major": 2,
       "version_minor": 0
      },
      "text/plain": [
       "  0%|          | 0/300 [00:00<?, ?it/s]"
      ]
     },
     "metadata": {},
     "output_type": "display_data"
    },
    {
     "name": "stdout",
     "output_type": "stream",
     "text": [
      "Starting inference with K = 2; Fold = 1; Iter = 6\n",
      "=== fitting GLM-HMM ========\n"
     ]
    },
    {
     "data": {
      "application/vnd.jupyter.widget-view+json": {
       "model_id": "ce5c504d1f18429184fb564ff760207a",
       "version_major": 2,
       "version_minor": 0
      },
      "text/plain": [
       "  0%|          | 0/300 [00:00<?, ?it/s]"
      ]
     },
     "metadata": {},
     "output_type": "display_data"
    },
    {
     "name": "stdout",
     "output_type": "stream",
     "text": [
      "Starting inference with K = 2; Fold = 1; Iter = 7\n",
      "=== fitting GLM-HMM ========\n"
     ]
    },
    {
     "data": {
      "application/vnd.jupyter.widget-view+json": {
       "model_id": "5d9537d2cb68466c9e14586f6ac75d65",
       "version_major": 2,
       "version_minor": 0
      },
      "text/plain": [
       "  0%|          | 0/300 [00:00<?, ?it/s]"
      ]
     },
     "metadata": {},
     "output_type": "display_data"
    },
    {
     "name": "stdout",
     "output_type": "stream",
     "text": [
      "Starting inference with K = 2; Fold = 1; Iter = 8\n",
      "=== fitting GLM-HMM ========\n"
     ]
    },
    {
     "data": {
      "application/vnd.jupyter.widget-view+json": {
       "model_id": "878dc883ae1040d9a8b074d323ce84eb",
       "version_major": 2,
       "version_minor": 0
      },
      "text/plain": [
       "  0%|          | 0/300 [00:00<?, ?it/s]"
      ]
     },
     "metadata": {},
     "output_type": "display_data"
    },
    {
     "name": "stdout",
     "output_type": "stream",
     "text": [
      "Starting inference with K = 2; Fold = 1; Iter = 9\n",
      "=== fitting GLM-HMM ========\n"
     ]
    },
    {
     "data": {
      "application/vnd.jupyter.widget-view+json": {
       "model_id": "99e1577a8ac048ee910c3ed976f390f6",
       "version_major": 2,
       "version_minor": 0
      },
      "text/plain": [
       "  0%|          | 0/300 [00:00<?, ?it/s]"
      ]
     },
     "metadata": {},
     "output_type": "display_data"
    },
    {
     "name": "stdout",
     "output_type": "stream",
     "text": [
      "Starting inference with K = 2; Fold = 1; Iter = 10\n",
      "=== fitting GLM-HMM ========\n"
     ]
    },
    {
     "data": {
      "application/vnd.jupyter.widget-view+json": {
       "model_id": "6e21b99c8dac48ac8f39bdee2dd35033",
       "version_major": 2,
       "version_minor": 0
      },
      "text/plain": [
       "  0%|          | 0/300 [00:00<?, ?it/s]"
      ]
     },
     "metadata": {},
     "output_type": "display_data"
    },
    {
     "name": "stdout",
     "output_type": "stream",
     "text": [
      "Starting inference with K = 2; Fold = 1; Iter = 11\n",
      "=== fitting GLM-HMM ========\n"
     ]
    },
    {
     "data": {
      "application/vnd.jupyter.widget-view+json": {
       "model_id": "445f64b7002549e7a4c5eedf88a3aacd",
       "version_major": 2,
       "version_minor": 0
      },
      "text/plain": [
       "  0%|          | 0/300 [00:00<?, ?it/s]"
      ]
     },
     "metadata": {},
     "output_type": "display_data"
    },
    {
     "name": "stdout",
     "output_type": "stream",
     "text": [
      "Starting inference with K = 2; Fold = 1; Iter = 12\n",
      "=== fitting GLM-HMM ========\n"
     ]
    },
    {
     "data": {
      "application/vnd.jupyter.widget-view+json": {
       "model_id": "b69479e1c07c4a1f99d9fe05cf4f150f",
       "version_major": 2,
       "version_minor": 0
      },
      "text/plain": [
       "  0%|          | 0/300 [00:00<?, ?it/s]"
      ]
     },
     "metadata": {},
     "output_type": "display_data"
    },
    {
     "name": "stdout",
     "output_type": "stream",
     "text": [
      "Starting inference with K = 2; Fold = 1; Iter = 13\n",
      "=== fitting GLM-HMM ========\n"
     ]
    },
    {
     "data": {
      "application/vnd.jupyter.widget-view+json": {
       "model_id": "577d4f052cd6465db4c0569e130899e2",
       "version_major": 2,
       "version_minor": 0
      },
      "text/plain": [
       "  0%|          | 0/300 [00:00<?, ?it/s]"
      ]
     },
     "metadata": {},
     "output_type": "display_data"
    },
    {
     "name": "stdout",
     "output_type": "stream",
     "text": [
      "Starting inference with K = 2; Fold = 1; Iter = 14\n",
      "=== fitting GLM-HMM ========\n"
     ]
    },
    {
     "data": {
      "application/vnd.jupyter.widget-view+json": {
       "model_id": "3eb26fafe6a74bf085269aae45c57084",
       "version_major": 2,
       "version_minor": 0
      },
      "text/plain": [
       "  0%|          | 0/300 [00:00<?, ?it/s]"
      ]
     },
     "metadata": {},
     "output_type": "display_data"
    },
    {
     "name": "stdout",
     "output_type": "stream",
     "text": [
      "Starting inference with K = 2; Fold = 1; Iter = 15\n",
      "=== fitting GLM-HMM ========\n"
     ]
    },
    {
     "data": {
      "application/vnd.jupyter.widget-view+json": {
       "model_id": "150d57848bc84d21a1d91e60abf4ce24",
       "version_major": 2,
       "version_minor": 0
      },
      "text/plain": [
       "  0%|          | 0/300 [00:00<?, ?it/s]"
      ]
     },
     "metadata": {},
     "output_type": "display_data"
    },
    {
     "name": "stdout",
     "output_type": "stream",
     "text": [
      "Starting inference with K = 2; Fold = 1; Iter = 16\n",
      "=== fitting GLM-HMM ========\n"
     ]
    },
    {
     "data": {
      "application/vnd.jupyter.widget-view+json": {
       "model_id": "6a42c547986540c2bca681d7e40c5710",
       "version_major": 2,
       "version_minor": 0
      },
      "text/plain": [
       "  0%|          | 0/300 [00:00<?, ?it/s]"
      ]
     },
     "metadata": {},
     "output_type": "display_data"
    },
    {
     "name": "stdout",
     "output_type": "stream",
     "text": [
      "Starting inference with K = 2; Fold = 1; Iter = 17\n",
      "=== fitting GLM-HMM ========\n"
     ]
    },
    {
     "data": {
      "application/vnd.jupyter.widget-view+json": {
       "model_id": "3d1db6ab05f940ce9bf36ed021ee0047",
       "version_major": 2,
       "version_minor": 0
      },
      "text/plain": [
       "  0%|          | 0/300 [00:00<?, ?it/s]"
      ]
     },
     "metadata": {},
     "output_type": "display_data"
    },
    {
     "name": "stdout",
     "output_type": "stream",
     "text": [
      "Starting inference with K = 2; Fold = 1; Iter = 18\n",
      "=== fitting GLM-HMM ========\n"
     ]
    },
    {
     "data": {
      "application/vnd.jupyter.widget-view+json": {
       "model_id": "81d2421653414d47912fd1651cff0d52",
       "version_major": 2,
       "version_minor": 0
      },
      "text/plain": [
       "  0%|          | 0/300 [00:00<?, ?it/s]"
      ]
     },
     "metadata": {},
     "output_type": "display_data"
    },
    {
     "name": "stdout",
     "output_type": "stream",
     "text": [
      "Starting inference with K = 2; Fold = 1; Iter = 19\n",
      "=== fitting GLM-HMM ========\n"
     ]
    },
    {
     "data": {
      "application/vnd.jupyter.widget-view+json": {
       "model_id": "9dfa434954534592b68e595df0470a8e",
       "version_major": 2,
       "version_minor": 0
      },
      "text/plain": [
       "  0%|          | 0/300 [00:00<?, ?it/s]"
      ]
     },
     "metadata": {},
     "output_type": "display_data"
    },
    {
     "name": "stdout",
     "output_type": "stream",
     "text": [
      "Starting inference with K = 2; Fold = 2; Iter = 0\n",
      "=== fitting GLM-HMM ========\n"
     ]
    },
    {
     "data": {
      "application/vnd.jupyter.widget-view+json": {
       "model_id": "0dcf4fae1619414b8b00819c7f92a5bd",
       "version_major": 2,
       "version_minor": 0
      },
      "text/plain": [
       "  0%|          | 0/300 [00:00<?, ?it/s]"
      ]
     },
     "metadata": {},
     "output_type": "display_data"
    },
    {
     "name": "stdout",
     "output_type": "stream",
     "text": [
      "Starting inference with K = 2; Fold = 2; Iter = 1\n",
      "=== fitting GLM-HMM ========\n"
     ]
    },
    {
     "data": {
      "application/vnd.jupyter.widget-view+json": {
       "model_id": "63a18efc0c3a40f593055e97f4f28b6e",
       "version_major": 2,
       "version_minor": 0
      },
      "text/plain": [
       "  0%|          | 0/300 [00:00<?, ?it/s]"
      ]
     },
     "metadata": {},
     "output_type": "display_data"
    },
    {
     "name": "stdout",
     "output_type": "stream",
     "text": [
      "Starting inference with K = 2; Fold = 2; Iter = 2\n",
      "=== fitting GLM-HMM ========\n"
     ]
    },
    {
     "data": {
      "application/vnd.jupyter.widget-view+json": {
       "model_id": "03d721a007bd4b78b15635a9a9e65ba9",
       "version_major": 2,
       "version_minor": 0
      },
      "text/plain": [
       "  0%|          | 0/300 [00:00<?, ?it/s]"
      ]
     },
     "metadata": {},
     "output_type": "display_data"
    },
    {
     "name": "stdout",
     "output_type": "stream",
     "text": [
      "Starting inference with K = 2; Fold = 2; Iter = 3\n",
      "=== fitting GLM-HMM ========\n"
     ]
    },
    {
     "data": {
      "application/vnd.jupyter.widget-view+json": {
       "model_id": "6b74cf31fcdc43bf9190cd37452293f4",
       "version_major": 2,
       "version_minor": 0
      },
      "text/plain": [
       "  0%|          | 0/300 [00:00<?, ?it/s]"
      ]
     },
     "metadata": {},
     "output_type": "display_data"
    },
    {
     "name": "stdout",
     "output_type": "stream",
     "text": [
      "Starting inference with K = 2; Fold = 2; Iter = 4\n",
      "=== fitting GLM-HMM ========\n"
     ]
    },
    {
     "data": {
      "application/vnd.jupyter.widget-view+json": {
       "model_id": "37b265082e914aa18fcf2ca080cb839b",
       "version_major": 2,
       "version_minor": 0
      },
      "text/plain": [
       "  0%|          | 0/300 [00:00<?, ?it/s]"
      ]
     },
     "metadata": {},
     "output_type": "display_data"
    },
    {
     "name": "stdout",
     "output_type": "stream",
     "text": [
      "Starting inference with K = 2; Fold = 2; Iter = 5\n",
      "=== fitting GLM-HMM ========\n"
     ]
    },
    {
     "data": {
      "application/vnd.jupyter.widget-view+json": {
       "model_id": "cae50b26d1bd4af287b44027ef8614f3",
       "version_major": 2,
       "version_minor": 0
      },
      "text/plain": [
       "  0%|          | 0/300 [00:00<?, ?it/s]"
      ]
     },
     "metadata": {},
     "output_type": "display_data"
    },
    {
     "name": "stdout",
     "output_type": "stream",
     "text": [
      "Starting inference with K = 2; Fold = 2; Iter = 6\n",
      "=== fitting GLM-HMM ========\n"
     ]
    },
    {
     "data": {
      "application/vnd.jupyter.widget-view+json": {
       "model_id": "8f5f0f9c492c42719ae7cfd2aa3e4b48",
       "version_major": 2,
       "version_minor": 0
      },
      "text/plain": [
       "  0%|          | 0/300 [00:00<?, ?it/s]"
      ]
     },
     "metadata": {},
     "output_type": "display_data"
    },
    {
     "name": "stdout",
     "output_type": "stream",
     "text": [
      "Starting inference with K = 2; Fold = 2; Iter = 7\n",
      "=== fitting GLM-HMM ========\n"
     ]
    },
    {
     "data": {
      "application/vnd.jupyter.widget-view+json": {
       "model_id": "aa95c66662cb489e9dbb42504b2fd1be",
       "version_major": 2,
       "version_minor": 0
      },
      "text/plain": [
       "  0%|          | 0/300 [00:00<?, ?it/s]"
      ]
     },
     "metadata": {},
     "output_type": "display_data"
    },
    {
     "name": "stdout",
     "output_type": "stream",
     "text": [
      "Starting inference with K = 2; Fold = 2; Iter = 8\n",
      "=== fitting GLM-HMM ========\n"
     ]
    },
    {
     "data": {
      "application/vnd.jupyter.widget-view+json": {
       "model_id": "dc2afffa50ef43e8919dcfbe0ef80f1b",
       "version_major": 2,
       "version_minor": 0
      },
      "text/plain": [
       "  0%|          | 0/300 [00:00<?, ?it/s]"
      ]
     },
     "metadata": {},
     "output_type": "display_data"
    },
    {
     "name": "stdout",
     "output_type": "stream",
     "text": [
      "Starting inference with K = 2; Fold = 2; Iter = 9\n",
      "=== fitting GLM-HMM ========\n"
     ]
    },
    {
     "data": {
      "application/vnd.jupyter.widget-view+json": {
       "model_id": "8238a45c05484a38bd5b4dc9b3c57c47",
       "version_major": 2,
       "version_minor": 0
      },
      "text/plain": [
       "  0%|          | 0/300 [00:00<?, ?it/s]"
      ]
     },
     "metadata": {},
     "output_type": "display_data"
    },
    {
     "name": "stdout",
     "output_type": "stream",
     "text": [
      "Starting inference with K = 2; Fold = 2; Iter = 10\n",
      "=== fitting GLM-HMM ========\n"
     ]
    },
    {
     "data": {
      "application/vnd.jupyter.widget-view+json": {
       "model_id": "4fa9d625540948d2bd88086595a63770",
       "version_major": 2,
       "version_minor": 0
      },
      "text/plain": [
       "  0%|          | 0/300 [00:00<?, ?it/s]"
      ]
     },
     "metadata": {},
     "output_type": "display_data"
    },
    {
     "name": "stdout",
     "output_type": "stream",
     "text": [
      "Starting inference with K = 2; Fold = 2; Iter = 11\n",
      "=== fitting GLM-HMM ========\n"
     ]
    },
    {
     "data": {
      "application/vnd.jupyter.widget-view+json": {
       "model_id": "693105ec59d44269b7c246cab815773a",
       "version_major": 2,
       "version_minor": 0
      },
      "text/plain": [
       "  0%|          | 0/300 [00:00<?, ?it/s]"
      ]
     },
     "metadata": {},
     "output_type": "display_data"
    },
    {
     "name": "stdout",
     "output_type": "stream",
     "text": [
      "Starting inference with K = 2; Fold = 2; Iter = 12\n",
      "=== fitting GLM-HMM ========\n"
     ]
    },
    {
     "data": {
      "application/vnd.jupyter.widget-view+json": {
       "model_id": "62bcf263c5444864a401cb7dad0c010a",
       "version_major": 2,
       "version_minor": 0
      },
      "text/plain": [
       "  0%|          | 0/300 [00:00<?, ?it/s]"
      ]
     },
     "metadata": {},
     "output_type": "display_data"
    },
    {
     "name": "stdout",
     "output_type": "stream",
     "text": [
      "Starting inference with K = 2; Fold = 2; Iter = 13\n",
      "=== fitting GLM-HMM ========\n"
     ]
    },
    {
     "data": {
      "application/vnd.jupyter.widget-view+json": {
       "model_id": "3de636da86514aac8ddae674cb5bdbca",
       "version_major": 2,
       "version_minor": 0
      },
      "text/plain": [
       "  0%|          | 0/300 [00:00<?, ?it/s]"
      ]
     },
     "metadata": {},
     "output_type": "display_data"
    },
    {
     "name": "stdout",
     "output_type": "stream",
     "text": [
      "Starting inference with K = 2; Fold = 2; Iter = 14\n",
      "=== fitting GLM-HMM ========\n"
     ]
    },
    {
     "data": {
      "application/vnd.jupyter.widget-view+json": {
       "model_id": "dc7cd19575f34e7b9f51f1e1bbd2ba4e",
       "version_major": 2,
       "version_minor": 0
      },
      "text/plain": [
       "  0%|          | 0/300 [00:00<?, ?it/s]"
      ]
     },
     "metadata": {},
     "output_type": "display_data"
    },
    {
     "name": "stdout",
     "output_type": "stream",
     "text": [
      "Starting inference with K = 2; Fold = 2; Iter = 15\n",
      "=== fitting GLM-HMM ========\n"
     ]
    },
    {
     "data": {
      "application/vnd.jupyter.widget-view+json": {
       "model_id": "8fa93b99580748878855f09face8eac6",
       "version_major": 2,
       "version_minor": 0
      },
      "text/plain": [
       "  0%|          | 0/300 [00:00<?, ?it/s]"
      ]
     },
     "metadata": {},
     "output_type": "display_data"
    },
    {
     "name": "stdout",
     "output_type": "stream",
     "text": [
      "Starting inference with K = 2; Fold = 2; Iter = 16\n",
      "=== fitting GLM-HMM ========\n"
     ]
    },
    {
     "data": {
      "application/vnd.jupyter.widget-view+json": {
       "model_id": "50823d3fa11046c8bb93df9230aea46d",
       "version_major": 2,
       "version_minor": 0
      },
      "text/plain": [
       "  0%|          | 0/300 [00:00<?, ?it/s]"
      ]
     },
     "metadata": {},
     "output_type": "display_data"
    },
    {
     "name": "stdout",
     "output_type": "stream",
     "text": [
      "Starting inference with K = 2; Fold = 2; Iter = 17\n",
      "=== fitting GLM-HMM ========\n"
     ]
    },
    {
     "data": {
      "application/vnd.jupyter.widget-view+json": {
       "model_id": "0433ccd29df64889954b77f177dea150",
       "version_major": 2,
       "version_minor": 0
      },
      "text/plain": [
       "  0%|          | 0/300 [00:00<?, ?it/s]"
      ]
     },
     "metadata": {},
     "output_type": "display_data"
    },
    {
     "name": "stdout",
     "output_type": "stream",
     "text": [
      "Starting inference with K = 2; Fold = 2; Iter = 18\n",
      "=== fitting GLM-HMM ========\n"
     ]
    },
    {
     "data": {
      "application/vnd.jupyter.widget-view+json": {
       "model_id": "7fae76304eb14630bc202bd3e3df2784",
       "version_major": 2,
       "version_minor": 0
      },
      "text/plain": [
       "  0%|          | 0/300 [00:00<?, ?it/s]"
      ]
     },
     "metadata": {},
     "output_type": "display_data"
    },
    {
     "name": "stdout",
     "output_type": "stream",
     "text": [
      "Starting inference with K = 2; Fold = 2; Iter = 19\n",
      "=== fitting GLM-HMM ========\n"
     ]
    },
    {
     "data": {
      "application/vnd.jupyter.widget-view+json": {
       "model_id": "6b3c164e6bee48f2b7ca140f15c3eaf1",
       "version_major": 2,
       "version_minor": 0
      },
      "text/plain": [
       "  0%|          | 0/300 [00:00<?, ?it/s]"
      ]
     },
     "metadata": {},
     "output_type": "display_data"
    },
    {
     "name": "stdout",
     "output_type": "stream",
     "text": [
      "Starting inference with K = 2; Fold = 3; Iter = 0\n",
      "=== fitting GLM-HMM ========\n"
     ]
    },
    {
     "data": {
      "application/vnd.jupyter.widget-view+json": {
       "model_id": "b12e5dc9a76f4948b7fa49b705e7da16",
       "version_major": 2,
       "version_minor": 0
      },
      "text/plain": [
       "  0%|          | 0/300 [00:00<?, ?it/s]"
      ]
     },
     "metadata": {},
     "output_type": "display_data"
    },
    {
     "name": "stdout",
     "output_type": "stream",
     "text": [
      "Starting inference with K = 2; Fold = 3; Iter = 1\n",
      "=== fitting GLM-HMM ========\n"
     ]
    },
    {
     "data": {
      "application/vnd.jupyter.widget-view+json": {
       "model_id": "195341812b5b4d8f88419e809c5589a8",
       "version_major": 2,
       "version_minor": 0
      },
      "text/plain": [
       "  0%|          | 0/300 [00:00<?, ?it/s]"
      ]
     },
     "metadata": {},
     "output_type": "display_data"
    },
    {
     "name": "stdout",
     "output_type": "stream",
     "text": [
      "Starting inference with K = 2; Fold = 3; Iter = 2\n",
      "=== fitting GLM-HMM ========\n"
     ]
    },
    {
     "data": {
      "application/vnd.jupyter.widget-view+json": {
       "model_id": "c95d6d199b20465990a679bdfbd914cd",
       "version_major": 2,
       "version_minor": 0
      },
      "text/plain": [
       "  0%|          | 0/300 [00:00<?, ?it/s]"
      ]
     },
     "metadata": {},
     "output_type": "display_data"
    },
    {
     "name": "stdout",
     "output_type": "stream",
     "text": [
      "Starting inference with K = 2; Fold = 3; Iter = 3\n",
      "=== fitting GLM-HMM ========\n"
     ]
    },
    {
     "data": {
      "application/vnd.jupyter.widget-view+json": {
       "model_id": "1799ec0c44b44828951e72487d842896",
       "version_major": 2,
       "version_minor": 0
      },
      "text/plain": [
       "  0%|          | 0/300 [00:00<?, ?it/s]"
      ]
     },
     "metadata": {},
     "output_type": "display_data"
    },
    {
     "name": "stdout",
     "output_type": "stream",
     "text": [
      "Starting inference with K = 2; Fold = 3; Iter = 4\n",
      "=== fitting GLM-HMM ========\n"
     ]
    },
    {
     "data": {
      "application/vnd.jupyter.widget-view+json": {
       "model_id": "e2b765c4564b432892348616ac53bc0f",
       "version_major": 2,
       "version_minor": 0
      },
      "text/plain": [
       "  0%|          | 0/300 [00:00<?, ?it/s]"
      ]
     },
     "metadata": {},
     "output_type": "display_data"
    },
    {
     "name": "stdout",
     "output_type": "stream",
     "text": [
      "Starting inference with K = 2; Fold = 3; Iter = 5\n",
      "=== fitting GLM-HMM ========\n"
     ]
    },
    {
     "data": {
      "application/vnd.jupyter.widget-view+json": {
       "model_id": "c040026043804fbb8b9fe2ca83f01e9b",
       "version_major": 2,
       "version_minor": 0
      },
      "text/plain": [
       "  0%|          | 0/300 [00:00<?, ?it/s]"
      ]
     },
     "metadata": {},
     "output_type": "display_data"
    },
    {
     "name": "stdout",
     "output_type": "stream",
     "text": [
      "Starting inference with K = 2; Fold = 3; Iter = 6\n",
      "=== fitting GLM-HMM ========\n"
     ]
    },
    {
     "data": {
      "application/vnd.jupyter.widget-view+json": {
       "model_id": "77373a1d3c5d410a95fa022df150465d",
       "version_major": 2,
       "version_minor": 0
      },
      "text/plain": [
       "  0%|          | 0/300 [00:00<?, ?it/s]"
      ]
     },
     "metadata": {},
     "output_type": "display_data"
    },
    {
     "name": "stdout",
     "output_type": "stream",
     "text": [
      "Starting inference with K = 2; Fold = 3; Iter = 7\n",
      "=== fitting GLM-HMM ========\n"
     ]
    },
    {
     "data": {
      "application/vnd.jupyter.widget-view+json": {
       "model_id": "cd728e2df1cf4ac88b7ff7f0ca2d351b",
       "version_major": 2,
       "version_minor": 0
      },
      "text/plain": [
       "  0%|          | 0/300 [00:00<?, ?it/s]"
      ]
     },
     "metadata": {},
     "output_type": "display_data"
    },
    {
     "name": "stdout",
     "output_type": "stream",
     "text": [
      "Starting inference with K = 2; Fold = 3; Iter = 8\n",
      "=== fitting GLM-HMM ========\n"
     ]
    },
    {
     "data": {
      "application/vnd.jupyter.widget-view+json": {
       "model_id": "a6487677e430465cab978f52d6b71c6b",
       "version_major": 2,
       "version_minor": 0
      },
      "text/plain": [
       "  0%|          | 0/300 [00:00<?, ?it/s]"
      ]
     },
     "metadata": {},
     "output_type": "display_data"
    },
    {
     "name": "stdout",
     "output_type": "stream",
     "text": [
      "Starting inference with K = 2; Fold = 3; Iter = 9\n",
      "=== fitting GLM-HMM ========\n"
     ]
    },
    {
     "data": {
      "application/vnd.jupyter.widget-view+json": {
       "model_id": "677f33441c8c45c38be05f09d88b625a",
       "version_major": 2,
       "version_minor": 0
      },
      "text/plain": [
       "  0%|          | 0/300 [00:00<?, ?it/s]"
      ]
     },
     "metadata": {},
     "output_type": "display_data"
    },
    {
     "name": "stdout",
     "output_type": "stream",
     "text": [
      "Starting inference with K = 2; Fold = 3; Iter = 10\n",
      "=== fitting GLM-HMM ========\n"
     ]
    },
    {
     "data": {
      "application/vnd.jupyter.widget-view+json": {
       "model_id": "6e0ac39dc92140b78b7fc0bb649fd1ca",
       "version_major": 2,
       "version_minor": 0
      },
      "text/plain": [
       "  0%|          | 0/300 [00:00<?, ?it/s]"
      ]
     },
     "metadata": {},
     "output_type": "display_data"
    },
    {
     "name": "stdout",
     "output_type": "stream",
     "text": [
      "Starting inference with K = 2; Fold = 3; Iter = 11\n",
      "=== fitting GLM-HMM ========\n"
     ]
    },
    {
     "data": {
      "application/vnd.jupyter.widget-view+json": {
       "model_id": "078e3e9d8d374be6ae4e0046dff5bb1c",
       "version_major": 2,
       "version_minor": 0
      },
      "text/plain": [
       "  0%|          | 0/300 [00:00<?, ?it/s]"
      ]
     },
     "metadata": {},
     "output_type": "display_data"
    },
    {
     "name": "stdout",
     "output_type": "stream",
     "text": [
      "Starting inference with K = 2; Fold = 3; Iter = 12\n",
      "=== fitting GLM-HMM ========\n"
     ]
    },
    {
     "data": {
      "application/vnd.jupyter.widget-view+json": {
       "model_id": "1364748fa7b7491c914e97fb030347e3",
       "version_major": 2,
       "version_minor": 0
      },
      "text/plain": [
       "  0%|          | 0/300 [00:00<?, ?it/s]"
      ]
     },
     "metadata": {},
     "output_type": "display_data"
    },
    {
     "name": "stdout",
     "output_type": "stream",
     "text": [
      "Starting inference with K = 2; Fold = 3; Iter = 13\n",
      "=== fitting GLM-HMM ========\n"
     ]
    },
    {
     "data": {
      "application/vnd.jupyter.widget-view+json": {
       "model_id": "156cf663d8744ebaba65072be7d5a65e",
       "version_major": 2,
       "version_minor": 0
      },
      "text/plain": [
       "  0%|          | 0/300 [00:00<?, ?it/s]"
      ]
     },
     "metadata": {},
     "output_type": "display_data"
    },
    {
     "name": "stdout",
     "output_type": "stream",
     "text": [
      "Starting inference with K = 2; Fold = 3; Iter = 14\n",
      "=== fitting GLM-HMM ========\n"
     ]
    },
    {
     "data": {
      "application/vnd.jupyter.widget-view+json": {
       "model_id": "eb0ee4eb32ee491c9745d32548bdfa87",
       "version_major": 2,
       "version_minor": 0
      },
      "text/plain": [
       "  0%|          | 0/300 [00:00<?, ?it/s]"
      ]
     },
     "metadata": {},
     "output_type": "display_data"
    },
    {
     "name": "stdout",
     "output_type": "stream",
     "text": [
      "Starting inference with K = 2; Fold = 3; Iter = 15\n",
      "=== fitting GLM-HMM ========\n"
     ]
    },
    {
     "data": {
      "application/vnd.jupyter.widget-view+json": {
       "model_id": "01e450fdea3f4511a8a4573021bff4a1",
       "version_major": 2,
       "version_minor": 0
      },
      "text/plain": [
       "  0%|          | 0/300 [00:00<?, ?it/s]"
      ]
     },
     "metadata": {},
     "output_type": "display_data"
    },
    {
     "name": "stdout",
     "output_type": "stream",
     "text": [
      "Starting inference with K = 2; Fold = 3; Iter = 16\n",
      "=== fitting GLM-HMM ========\n"
     ]
    },
    {
     "data": {
      "application/vnd.jupyter.widget-view+json": {
       "model_id": "e8b323fe6daa4d0db083014dcde0488e",
       "version_major": 2,
       "version_minor": 0
      },
      "text/plain": [
       "  0%|          | 0/300 [00:00<?, ?it/s]"
      ]
     },
     "metadata": {},
     "output_type": "display_data"
    },
    {
     "name": "stdout",
     "output_type": "stream",
     "text": [
      "Starting inference with K = 2; Fold = 3; Iter = 17\n",
      "=== fitting GLM-HMM ========\n"
     ]
    },
    {
     "data": {
      "application/vnd.jupyter.widget-view+json": {
       "model_id": "0e7e50f513cd4decb1051a89ae276492",
       "version_major": 2,
       "version_minor": 0
      },
      "text/plain": [
       "  0%|          | 0/300 [00:00<?, ?it/s]"
      ]
     },
     "metadata": {},
     "output_type": "display_data"
    },
    {
     "name": "stdout",
     "output_type": "stream",
     "text": [
      "Starting inference with K = 2; Fold = 3; Iter = 18\n",
      "=== fitting GLM-HMM ========\n"
     ]
    },
    {
     "data": {
      "application/vnd.jupyter.widget-view+json": {
       "model_id": "2be0c6067644456cb3b99777934951ab",
       "version_major": 2,
       "version_minor": 0
      },
      "text/plain": [
       "  0%|          | 0/300 [00:00<?, ?it/s]"
      ]
     },
     "metadata": {},
     "output_type": "display_data"
    },
    {
     "name": "stdout",
     "output_type": "stream",
     "text": [
      "Starting inference with K = 2; Fold = 3; Iter = 19\n",
      "=== fitting GLM-HMM ========\n"
     ]
    },
    {
     "data": {
      "application/vnd.jupyter.widget-view+json": {
       "model_id": "3e866e310f6542b2b5ca5ec2e40c0e0d",
       "version_major": 2,
       "version_minor": 0
      },
      "text/plain": [
       "  0%|          | 0/300 [00:00<?, ?it/s]"
      ]
     },
     "metadata": {},
     "output_type": "display_data"
    },
    {
     "name": "stdout",
     "output_type": "stream",
     "text": [
      "Starting inference with K = 2; Fold = 4; Iter = 0\n",
      "=== fitting GLM-HMM ========\n"
     ]
    },
    {
     "data": {
      "application/vnd.jupyter.widget-view+json": {
       "model_id": "bac31d8684a44c4f86667bb01eeb9c60",
       "version_major": 2,
       "version_minor": 0
      },
      "text/plain": [
       "  0%|          | 0/300 [00:00<?, ?it/s]"
      ]
     },
     "metadata": {},
     "output_type": "display_data"
    },
    {
     "name": "stdout",
     "output_type": "stream",
     "text": [
      "Starting inference with K = 2; Fold = 4; Iter = 1\n",
      "=== fitting GLM-HMM ========\n"
     ]
    },
    {
     "data": {
      "application/vnd.jupyter.widget-view+json": {
       "model_id": "4e10069eaed34073a1305ceb55af9cd6",
       "version_major": 2,
       "version_minor": 0
      },
      "text/plain": [
       "  0%|          | 0/300 [00:00<?, ?it/s]"
      ]
     },
     "metadata": {},
     "output_type": "display_data"
    },
    {
     "name": "stdout",
     "output_type": "stream",
     "text": [
      "Starting inference with K = 2; Fold = 4; Iter = 2\n",
      "=== fitting GLM-HMM ========\n"
     ]
    },
    {
     "data": {
      "application/vnd.jupyter.widget-view+json": {
       "model_id": "6fde89a3b0c44273a9e2a3a7aa1e8e09",
       "version_major": 2,
       "version_minor": 0
      },
      "text/plain": [
       "  0%|          | 0/300 [00:00<?, ?it/s]"
      ]
     },
     "metadata": {},
     "output_type": "display_data"
    },
    {
     "name": "stdout",
     "output_type": "stream",
     "text": [
      "Starting inference with K = 2; Fold = 4; Iter = 3\n",
      "=== fitting GLM-HMM ========\n"
     ]
    },
    {
     "data": {
      "application/vnd.jupyter.widget-view+json": {
       "model_id": "dcae867053fd417cb931359bd4bf41d0",
       "version_major": 2,
       "version_minor": 0
      },
      "text/plain": [
       "  0%|          | 0/300 [00:00<?, ?it/s]"
      ]
     },
     "metadata": {},
     "output_type": "display_data"
    },
    {
     "name": "stdout",
     "output_type": "stream",
     "text": [
      "Starting inference with K = 2; Fold = 4; Iter = 4\n",
      "=== fitting GLM-HMM ========\n"
     ]
    },
    {
     "data": {
      "application/vnd.jupyter.widget-view+json": {
       "model_id": "e2cda7faa07741ac964daeeaa19554c3",
       "version_major": 2,
       "version_minor": 0
      },
      "text/plain": [
       "  0%|          | 0/300 [00:00<?, ?it/s]"
      ]
     },
     "metadata": {},
     "output_type": "display_data"
    },
    {
     "name": "stdout",
     "output_type": "stream",
     "text": [
      "Starting inference with K = 2; Fold = 4; Iter = 5\n",
      "=== fitting GLM-HMM ========\n"
     ]
    },
    {
     "data": {
      "application/vnd.jupyter.widget-view+json": {
       "model_id": "c524ff2619f94eabb10f64022116b360",
       "version_major": 2,
       "version_minor": 0
      },
      "text/plain": [
       "  0%|          | 0/300 [00:00<?, ?it/s]"
      ]
     },
     "metadata": {},
     "output_type": "display_data"
    },
    {
     "name": "stdout",
     "output_type": "stream",
     "text": [
      "Starting inference with K = 2; Fold = 4; Iter = 6\n",
      "=== fitting GLM-HMM ========\n"
     ]
    },
    {
     "data": {
      "application/vnd.jupyter.widget-view+json": {
       "model_id": "29a181510662486ca29229e40517f953",
       "version_major": 2,
       "version_minor": 0
      },
      "text/plain": [
       "  0%|          | 0/300 [00:00<?, ?it/s]"
      ]
     },
     "metadata": {},
     "output_type": "display_data"
    },
    {
     "name": "stdout",
     "output_type": "stream",
     "text": [
      "Starting inference with K = 2; Fold = 4; Iter = 7\n",
      "=== fitting GLM-HMM ========\n"
     ]
    },
    {
     "data": {
      "application/vnd.jupyter.widget-view+json": {
       "model_id": "13b3973308e94263bf76698388558c8a",
       "version_major": 2,
       "version_minor": 0
      },
      "text/plain": [
       "  0%|          | 0/300 [00:00<?, ?it/s]"
      ]
     },
     "metadata": {},
     "output_type": "display_data"
    },
    {
     "name": "stdout",
     "output_type": "stream",
     "text": [
      "Starting inference with K = 2; Fold = 4; Iter = 8\n",
      "=== fitting GLM-HMM ========\n"
     ]
    },
    {
     "data": {
      "application/vnd.jupyter.widget-view+json": {
       "model_id": "f54c98fafff043efbfa3ee24d94a8ad3",
       "version_major": 2,
       "version_minor": 0
      },
      "text/plain": [
       "  0%|          | 0/300 [00:00<?, ?it/s]"
      ]
     },
     "metadata": {},
     "output_type": "display_data"
    },
    {
     "name": "stdout",
     "output_type": "stream",
     "text": [
      "Starting inference with K = 2; Fold = 4; Iter = 9\n",
      "=== fitting GLM-HMM ========\n"
     ]
    },
    {
     "data": {
      "application/vnd.jupyter.widget-view+json": {
       "model_id": "785bf394bb4b4b5799623c060fbec087",
       "version_major": 2,
       "version_minor": 0
      },
      "text/plain": [
       "  0%|          | 0/300 [00:00<?, ?it/s]"
      ]
     },
     "metadata": {},
     "output_type": "display_data"
    },
    {
     "name": "stdout",
     "output_type": "stream",
     "text": [
      "Starting inference with K = 2; Fold = 4; Iter = 10\n",
      "=== fitting GLM-HMM ========\n"
     ]
    },
    {
     "data": {
      "application/vnd.jupyter.widget-view+json": {
       "model_id": "6f8b17f90e514989aa545aacae060e4d",
       "version_major": 2,
       "version_minor": 0
      },
      "text/plain": [
       "  0%|          | 0/300 [00:00<?, ?it/s]"
      ]
     },
     "metadata": {},
     "output_type": "display_data"
    },
    {
     "name": "stdout",
     "output_type": "stream",
     "text": [
      "Starting inference with K = 2; Fold = 4; Iter = 11\n",
      "=== fitting GLM-HMM ========\n"
     ]
    },
    {
     "data": {
      "application/vnd.jupyter.widget-view+json": {
       "model_id": "debef56bf41743b4b9534cc0238fec59",
       "version_major": 2,
       "version_minor": 0
      },
      "text/plain": [
       "  0%|          | 0/300 [00:00<?, ?it/s]"
      ]
     },
     "metadata": {},
     "output_type": "display_data"
    },
    {
     "name": "stdout",
     "output_type": "stream",
     "text": [
      "Starting inference with K = 2; Fold = 4; Iter = 12\n",
      "=== fitting GLM-HMM ========\n"
     ]
    },
    {
     "data": {
      "application/vnd.jupyter.widget-view+json": {
       "model_id": "c5323304908046bda4fb0ead16966693",
       "version_major": 2,
       "version_minor": 0
      },
      "text/plain": [
       "  0%|          | 0/300 [00:00<?, ?it/s]"
      ]
     },
     "metadata": {},
     "output_type": "display_data"
    },
    {
     "name": "stdout",
     "output_type": "stream",
     "text": [
      "Starting inference with K = 2; Fold = 4; Iter = 13\n",
      "=== fitting GLM-HMM ========\n"
     ]
    },
    {
     "data": {
      "application/vnd.jupyter.widget-view+json": {
       "model_id": "f961a8f81f8d4d2fa4ae5faa5164c9a4",
       "version_major": 2,
       "version_minor": 0
      },
      "text/plain": [
       "  0%|          | 0/300 [00:00<?, ?it/s]"
      ]
     },
     "metadata": {},
     "output_type": "display_data"
    },
    {
     "name": "stdout",
     "output_type": "stream",
     "text": [
      "Starting inference with K = 2; Fold = 4; Iter = 14\n",
      "=== fitting GLM-HMM ========\n"
     ]
    },
    {
     "data": {
      "application/vnd.jupyter.widget-view+json": {
       "model_id": "392fddcd3fdd41f38e5535c5042bc543",
       "version_major": 2,
       "version_minor": 0
      },
      "text/plain": [
       "  0%|          | 0/300 [00:00<?, ?it/s]"
      ]
     },
     "metadata": {},
     "output_type": "display_data"
    },
    {
     "name": "stdout",
     "output_type": "stream",
     "text": [
      "Starting inference with K = 2; Fold = 4; Iter = 15\n",
      "=== fitting GLM-HMM ========\n"
     ]
    },
    {
     "data": {
      "application/vnd.jupyter.widget-view+json": {
       "model_id": "cdc2f4ebdfa14dcea69bea9d4ffdcffd",
       "version_major": 2,
       "version_minor": 0
      },
      "text/plain": [
       "  0%|          | 0/300 [00:00<?, ?it/s]"
      ]
     },
     "metadata": {},
     "output_type": "display_data"
    },
    {
     "name": "stdout",
     "output_type": "stream",
     "text": [
      "Starting inference with K = 2; Fold = 4; Iter = 16\n",
      "=== fitting GLM-HMM ========\n"
     ]
    },
    {
     "data": {
      "application/vnd.jupyter.widget-view+json": {
       "model_id": "15ec220ca66241aba37fd0277b9be774",
       "version_major": 2,
       "version_minor": 0
      },
      "text/plain": [
       "  0%|          | 0/300 [00:00<?, ?it/s]"
      ]
     },
     "metadata": {},
     "output_type": "display_data"
    },
    {
     "name": "stdout",
     "output_type": "stream",
     "text": [
      "Starting inference with K = 2; Fold = 4; Iter = 17\n",
      "=== fitting GLM-HMM ========\n"
     ]
    },
    {
     "data": {
      "application/vnd.jupyter.widget-view+json": {
       "model_id": "9102d91e6c684d43a189d783416d3487",
       "version_major": 2,
       "version_minor": 0
      },
      "text/plain": [
       "  0%|          | 0/300 [00:00<?, ?it/s]"
      ]
     },
     "metadata": {},
     "output_type": "display_data"
    },
    {
     "name": "stdout",
     "output_type": "stream",
     "text": [
      "Starting inference with K = 2; Fold = 4; Iter = 18\n",
      "=== fitting GLM-HMM ========\n"
     ]
    },
    {
     "data": {
      "application/vnd.jupyter.widget-view+json": {
       "model_id": "2f0b90b5ed73417f842f569b8abd9ebe",
       "version_major": 2,
       "version_minor": 0
      },
      "text/plain": [
       "  0%|          | 0/300 [00:00<?, ?it/s]"
      ]
     },
     "metadata": {},
     "output_type": "display_data"
    },
    {
     "name": "stdout",
     "output_type": "stream",
     "text": [
      "Starting inference with K = 2; Fold = 4; Iter = 19\n",
      "=== fitting GLM-HMM ========\n"
     ]
    },
    {
     "data": {
      "application/vnd.jupyter.widget-view+json": {
       "model_id": "b60f71e72c2b400caa66ef2dd3f89f6e",
       "version_major": 2,
       "version_minor": 0
      },
      "text/plain": [
       "  0%|          | 0/300 [00:00<?, ?it/s]"
      ]
     },
     "metadata": {},
     "output_type": "display_data"
    },
    {
     "name": "stdout",
     "output_type": "stream",
     "text": [
      "Starting inference with K = 3; Fold = 0; Iter = 0\n",
      "=== fitting GLM-HMM ========\n"
     ]
    },
    {
     "data": {
      "application/vnd.jupyter.widget-view+json": {
       "model_id": "5d4091357829482f95227d3de3a9809e",
       "version_major": 2,
       "version_minor": 0
      },
      "text/plain": [
       "  0%|          | 0/300 [00:00<?, ?it/s]"
      ]
     },
     "metadata": {},
     "output_type": "display_data"
    },
    {
     "name": "stdout",
     "output_type": "stream",
     "text": [
      "Starting inference with K = 3; Fold = 0; Iter = 1\n",
      "=== fitting GLM-HMM ========\n"
     ]
    },
    {
     "data": {
      "application/vnd.jupyter.widget-view+json": {
       "model_id": "f15fb4bdb24b4bdbb89140fce0e565ae",
       "version_major": 2,
       "version_minor": 0
      },
      "text/plain": [
       "  0%|          | 0/300 [00:00<?, ?it/s]"
      ]
     },
     "metadata": {},
     "output_type": "display_data"
    },
    {
     "name": "stdout",
     "output_type": "stream",
     "text": [
      "Starting inference with K = 3; Fold = 0; Iter = 2\n",
      "=== fitting GLM-HMM ========\n"
     ]
    },
    {
     "data": {
      "application/vnd.jupyter.widget-view+json": {
       "model_id": "24f44a39066d424da26c3b3401645f59",
       "version_major": 2,
       "version_minor": 0
      },
      "text/plain": [
       "  0%|          | 0/300 [00:00<?, ?it/s]"
      ]
     },
     "metadata": {},
     "output_type": "display_data"
    },
    {
     "name": "stdout",
     "output_type": "stream",
     "text": [
      "Starting inference with K = 3; Fold = 0; Iter = 3\n",
      "=== fitting GLM-HMM ========\n"
     ]
    },
    {
     "data": {
      "application/vnd.jupyter.widget-view+json": {
       "model_id": "8da780cdbac54f169ac0d2b7799a8e69",
       "version_major": 2,
       "version_minor": 0
      },
      "text/plain": [
       "  0%|          | 0/300 [00:00<?, ?it/s]"
      ]
     },
     "metadata": {},
     "output_type": "display_data"
    },
    {
     "name": "stdout",
     "output_type": "stream",
     "text": [
      "Starting inference with K = 3; Fold = 0; Iter = 4\n",
      "=== fitting GLM-HMM ========\n"
     ]
    },
    {
     "data": {
      "application/vnd.jupyter.widget-view+json": {
       "model_id": "f3b02374a9ff4b23999f525fec46e266",
       "version_major": 2,
       "version_minor": 0
      },
      "text/plain": [
       "  0%|          | 0/300 [00:00<?, ?it/s]"
      ]
     },
     "metadata": {},
     "output_type": "display_data"
    },
    {
     "name": "stdout",
     "output_type": "stream",
     "text": [
      "Starting inference with K = 3; Fold = 0; Iter = 5\n",
      "=== fitting GLM-HMM ========\n"
     ]
    },
    {
     "data": {
      "application/vnd.jupyter.widget-view+json": {
       "model_id": "5d0005ea1d9c46ceb73c2eaf564fd9dd",
       "version_major": 2,
       "version_minor": 0
      },
      "text/plain": [
       "  0%|          | 0/300 [00:00<?, ?it/s]"
      ]
     },
     "metadata": {},
     "output_type": "display_data"
    },
    {
     "name": "stdout",
     "output_type": "stream",
     "text": [
      "Starting inference with K = 3; Fold = 0; Iter = 6\n",
      "=== fitting GLM-HMM ========\n"
     ]
    },
    {
     "data": {
      "application/vnd.jupyter.widget-view+json": {
       "model_id": "b03708dc36ec4e9dae687d1e924642b7",
       "version_major": 2,
       "version_minor": 0
      },
      "text/plain": [
       "  0%|          | 0/300 [00:00<?, ?it/s]"
      ]
     },
     "metadata": {},
     "output_type": "display_data"
    },
    {
     "name": "stdout",
     "output_type": "stream",
     "text": [
      "Starting inference with K = 3; Fold = 0; Iter = 7\n",
      "=== fitting GLM-HMM ========\n"
     ]
    },
    {
     "data": {
      "application/vnd.jupyter.widget-view+json": {
       "model_id": "5cbaaaba93ea4c92b9802982f45e4854",
       "version_major": 2,
       "version_minor": 0
      },
      "text/plain": [
       "  0%|          | 0/300 [00:00<?, ?it/s]"
      ]
     },
     "metadata": {},
     "output_type": "display_data"
    },
    {
     "name": "stdout",
     "output_type": "stream",
     "text": [
      "Starting inference with K = 3; Fold = 0; Iter = 8\n",
      "=== fitting GLM-HMM ========\n"
     ]
    },
    {
     "data": {
      "application/vnd.jupyter.widget-view+json": {
       "model_id": "e43c98eef4284c4c8a0573bfb02c3e40",
       "version_major": 2,
       "version_minor": 0
      },
      "text/plain": [
       "  0%|          | 0/300 [00:00<?, ?it/s]"
      ]
     },
     "metadata": {},
     "output_type": "display_data"
    },
    {
     "name": "stdout",
     "output_type": "stream",
     "text": [
      "Starting inference with K = 3; Fold = 0; Iter = 9\n",
      "=== fitting GLM-HMM ========\n"
     ]
    },
    {
     "data": {
      "application/vnd.jupyter.widget-view+json": {
       "model_id": "3b5837bbadcd4edbb120a6ec33901139",
       "version_major": 2,
       "version_minor": 0
      },
      "text/plain": [
       "  0%|          | 0/300 [00:00<?, ?it/s]"
      ]
     },
     "metadata": {},
     "output_type": "display_data"
    },
    {
     "name": "stdout",
     "output_type": "stream",
     "text": [
      "Starting inference with K = 3; Fold = 0; Iter = 10\n",
      "=== fitting GLM-HMM ========\n"
     ]
    },
    {
     "data": {
      "application/vnd.jupyter.widget-view+json": {
       "model_id": "f64a0befc499408f8fffcd5158092da2",
       "version_major": 2,
       "version_minor": 0
      },
      "text/plain": [
       "  0%|          | 0/300 [00:00<?, ?it/s]"
      ]
     },
     "metadata": {},
     "output_type": "display_data"
    },
    {
     "name": "stdout",
     "output_type": "stream",
     "text": [
      "Starting inference with K = 3; Fold = 0; Iter = 11\n",
      "=== fitting GLM-HMM ========\n"
     ]
    },
    {
     "data": {
      "application/vnd.jupyter.widget-view+json": {
       "model_id": "19e9670d111c4c5484e90e4af336c4a2",
       "version_major": 2,
       "version_minor": 0
      },
      "text/plain": [
       "  0%|          | 0/300 [00:00<?, ?it/s]"
      ]
     },
     "metadata": {},
     "output_type": "display_data"
    },
    {
     "name": "stdout",
     "output_type": "stream",
     "text": [
      "Starting inference with K = 3; Fold = 0; Iter = 12\n",
      "=== fitting GLM-HMM ========\n"
     ]
    },
    {
     "data": {
      "application/vnd.jupyter.widget-view+json": {
       "model_id": "ba714eae762748d089872ff9879ffc2b",
       "version_major": 2,
       "version_minor": 0
      },
      "text/plain": [
       "  0%|          | 0/300 [00:00<?, ?it/s]"
      ]
     },
     "metadata": {},
     "output_type": "display_data"
    },
    {
     "name": "stdout",
     "output_type": "stream",
     "text": [
      "Starting inference with K = 3; Fold = 0; Iter = 13\n",
      "=== fitting GLM-HMM ========\n"
     ]
    },
    {
     "data": {
      "application/vnd.jupyter.widget-view+json": {
       "model_id": "787b371df82e4546bfa36731d43a32b1",
       "version_major": 2,
       "version_minor": 0
      },
      "text/plain": [
       "  0%|          | 0/300 [00:00<?, ?it/s]"
      ]
     },
     "metadata": {},
     "output_type": "display_data"
    },
    {
     "name": "stdout",
     "output_type": "stream",
     "text": [
      "Starting inference with K = 3; Fold = 0; Iter = 14\n",
      "=== fitting GLM-HMM ========\n"
     ]
    },
    {
     "data": {
      "application/vnd.jupyter.widget-view+json": {
       "model_id": "7d8031423afe451388cac135eb1ac3e4",
       "version_major": 2,
       "version_minor": 0
      },
      "text/plain": [
       "  0%|          | 0/300 [00:00<?, ?it/s]"
      ]
     },
     "metadata": {},
     "output_type": "display_data"
    },
    {
     "name": "stdout",
     "output_type": "stream",
     "text": [
      "Starting inference with K = 3; Fold = 0; Iter = 15\n",
      "=== fitting GLM-HMM ========\n"
     ]
    },
    {
     "data": {
      "application/vnd.jupyter.widget-view+json": {
       "model_id": "f5d02e2bc75a42709cd946f28438f030",
       "version_major": 2,
       "version_minor": 0
      },
      "text/plain": [
       "  0%|          | 0/300 [00:00<?, ?it/s]"
      ]
     },
     "metadata": {},
     "output_type": "display_data"
    },
    {
     "name": "stdout",
     "output_type": "stream",
     "text": [
      "Starting inference with K = 3; Fold = 0; Iter = 16\n",
      "=== fitting GLM-HMM ========\n"
     ]
    },
    {
     "data": {
      "application/vnd.jupyter.widget-view+json": {
       "model_id": "ca26702a52fa47abafd73df10cc9e2b6",
       "version_major": 2,
       "version_minor": 0
      },
      "text/plain": [
       "  0%|          | 0/300 [00:00<?, ?it/s]"
      ]
     },
     "metadata": {},
     "output_type": "display_data"
    },
    {
     "name": "stdout",
     "output_type": "stream",
     "text": [
      "Starting inference with K = 3; Fold = 0; Iter = 17\n",
      "=== fitting GLM-HMM ========\n"
     ]
    },
    {
     "data": {
      "application/vnd.jupyter.widget-view+json": {
       "model_id": "25d15ec53f4048af8d71f14ebb6afc2b",
       "version_major": 2,
       "version_minor": 0
      },
      "text/plain": [
       "  0%|          | 0/300 [00:00<?, ?it/s]"
      ]
     },
     "metadata": {},
     "output_type": "display_data"
    },
    {
     "name": "stdout",
     "output_type": "stream",
     "text": [
      "Starting inference with K = 3; Fold = 0; Iter = 18\n",
      "=== fitting GLM-HMM ========\n"
     ]
    },
    {
     "data": {
      "application/vnd.jupyter.widget-view+json": {
       "model_id": "45cdbf3cf7e2446aa72a2d52b1c5ff4b",
       "version_major": 2,
       "version_minor": 0
      },
      "text/plain": [
       "  0%|          | 0/300 [00:00<?, ?it/s]"
      ]
     },
     "metadata": {},
     "output_type": "display_data"
    },
    {
     "name": "stdout",
     "output_type": "stream",
     "text": [
      "Starting inference with K = 3; Fold = 0; Iter = 19\n",
      "=== fitting GLM-HMM ========\n"
     ]
    },
    {
     "data": {
      "application/vnd.jupyter.widget-view+json": {
       "model_id": "94a4cfd60a934b18b1b86cb425e44634",
       "version_major": 2,
       "version_minor": 0
      },
      "text/plain": [
       "  0%|          | 0/300 [00:00<?, ?it/s]"
      ]
     },
     "metadata": {},
     "output_type": "display_data"
    },
    {
     "name": "stdout",
     "output_type": "stream",
     "text": [
      "Starting inference with K = 3; Fold = 1; Iter = 0\n",
      "=== fitting GLM-HMM ========\n"
     ]
    },
    {
     "data": {
      "application/vnd.jupyter.widget-view+json": {
       "model_id": "c2085833ec0e49cfbd13f58da8d87c8f",
       "version_major": 2,
       "version_minor": 0
      },
      "text/plain": [
       "  0%|          | 0/300 [00:00<?, ?it/s]"
      ]
     },
     "metadata": {},
     "output_type": "display_data"
    },
    {
     "name": "stdout",
     "output_type": "stream",
     "text": [
      "Starting inference with K = 3; Fold = 1; Iter = 1\n",
      "=== fitting GLM-HMM ========\n"
     ]
    },
    {
     "data": {
      "application/vnd.jupyter.widget-view+json": {
       "model_id": "9ae9f4cb800346b28e03b869cf833388",
       "version_major": 2,
       "version_minor": 0
      },
      "text/plain": [
       "  0%|          | 0/300 [00:00<?, ?it/s]"
      ]
     },
     "metadata": {},
     "output_type": "display_data"
    },
    {
     "name": "stdout",
     "output_type": "stream",
     "text": [
      "Starting inference with K = 3; Fold = 1; Iter = 2\n",
      "=== fitting GLM-HMM ========\n"
     ]
    },
    {
     "data": {
      "application/vnd.jupyter.widget-view+json": {
       "model_id": "3a4f51efd1ec48e8b41290d223661efe",
       "version_major": 2,
       "version_minor": 0
      },
      "text/plain": [
       "  0%|          | 0/300 [00:00<?, ?it/s]"
      ]
     },
     "metadata": {},
     "output_type": "display_data"
    },
    {
     "name": "stdout",
     "output_type": "stream",
     "text": [
      "Starting inference with K = 3; Fold = 1; Iter = 3\n",
      "=== fitting GLM-HMM ========\n"
     ]
    },
    {
     "data": {
      "application/vnd.jupyter.widget-view+json": {
       "model_id": "ee9ff9bbb75a4a0499f9de57e3ab2a28",
       "version_major": 2,
       "version_minor": 0
      },
      "text/plain": [
       "  0%|          | 0/300 [00:00<?, ?it/s]"
      ]
     },
     "metadata": {},
     "output_type": "display_data"
    },
    {
     "name": "stdout",
     "output_type": "stream",
     "text": [
      "Starting inference with K = 3; Fold = 1; Iter = 4\n",
      "=== fitting GLM-HMM ========\n"
     ]
    },
    {
     "data": {
      "application/vnd.jupyter.widget-view+json": {
       "model_id": "8509a5200b3343e5b65c27f26b4557c8",
       "version_major": 2,
       "version_minor": 0
      },
      "text/plain": [
       "  0%|          | 0/300 [00:00<?, ?it/s]"
      ]
     },
     "metadata": {},
     "output_type": "display_data"
    },
    {
     "name": "stdout",
     "output_type": "stream",
     "text": [
      "Starting inference with K = 3; Fold = 1; Iter = 5\n",
      "=== fitting GLM-HMM ========\n"
     ]
    },
    {
     "data": {
      "application/vnd.jupyter.widget-view+json": {
       "model_id": "1d88d9f47d464e9e9711355e449802b6",
       "version_major": 2,
       "version_minor": 0
      },
      "text/plain": [
       "  0%|          | 0/300 [00:00<?, ?it/s]"
      ]
     },
     "metadata": {},
     "output_type": "display_data"
    },
    {
     "name": "stdout",
     "output_type": "stream",
     "text": [
      "Starting inference with K = 3; Fold = 1; Iter = 6\n",
      "=== fitting GLM-HMM ========\n"
     ]
    },
    {
     "data": {
      "application/vnd.jupyter.widget-view+json": {
       "model_id": "5d9f63fe7400467fa96c3cdea262b9c3",
       "version_major": 2,
       "version_minor": 0
      },
      "text/plain": [
       "  0%|          | 0/300 [00:00<?, ?it/s]"
      ]
     },
     "metadata": {},
     "output_type": "display_data"
    },
    {
     "name": "stdout",
     "output_type": "stream",
     "text": [
      "Starting inference with K = 3; Fold = 1; Iter = 7\n",
      "=== fitting GLM-HMM ========\n"
     ]
    },
    {
     "data": {
      "application/vnd.jupyter.widget-view+json": {
       "model_id": "381a0ce0984a4245b2958529075611f6",
       "version_major": 2,
       "version_minor": 0
      },
      "text/plain": [
       "  0%|          | 0/300 [00:00<?, ?it/s]"
      ]
     },
     "metadata": {},
     "output_type": "display_data"
    },
    {
     "name": "stdout",
     "output_type": "stream",
     "text": [
      "Starting inference with K = 3; Fold = 1; Iter = 8\n",
      "=== fitting GLM-HMM ========\n"
     ]
    },
    {
     "data": {
      "application/vnd.jupyter.widget-view+json": {
       "model_id": "08f3309d04e54feb9910fe4262e64263",
       "version_major": 2,
       "version_minor": 0
      },
      "text/plain": [
       "  0%|          | 0/300 [00:00<?, ?it/s]"
      ]
     },
     "metadata": {},
     "output_type": "display_data"
    },
    {
     "name": "stdout",
     "output_type": "stream",
     "text": [
      "Starting inference with K = 3; Fold = 1; Iter = 9\n",
      "=== fitting GLM-HMM ========\n"
     ]
    },
    {
     "data": {
      "application/vnd.jupyter.widget-view+json": {
       "model_id": "052804d3791446bd8bea55db348d5fa1",
       "version_major": 2,
       "version_minor": 0
      },
      "text/plain": [
       "  0%|          | 0/300 [00:00<?, ?it/s]"
      ]
     },
     "metadata": {},
     "output_type": "display_data"
    },
    {
     "name": "stdout",
     "output_type": "stream",
     "text": [
      "Starting inference with K = 3; Fold = 1; Iter = 10\n",
      "=== fitting GLM-HMM ========\n"
     ]
    },
    {
     "data": {
      "application/vnd.jupyter.widget-view+json": {
       "model_id": "cd8eedf9eda74e32be6255f8de862d74",
       "version_major": 2,
       "version_minor": 0
      },
      "text/plain": [
       "  0%|          | 0/300 [00:00<?, ?it/s]"
      ]
     },
     "metadata": {},
     "output_type": "display_data"
    },
    {
     "name": "stdout",
     "output_type": "stream",
     "text": [
      "Starting inference with K = 3; Fold = 1; Iter = 11\n",
      "=== fitting GLM-HMM ========\n"
     ]
    },
    {
     "data": {
      "application/vnd.jupyter.widget-view+json": {
       "model_id": "8085f820426a42ab910ba5dc6c3bb764",
       "version_major": 2,
       "version_minor": 0
      },
      "text/plain": [
       "  0%|          | 0/300 [00:00<?, ?it/s]"
      ]
     },
     "metadata": {},
     "output_type": "display_data"
    },
    {
     "name": "stdout",
     "output_type": "stream",
     "text": [
      "Starting inference with K = 3; Fold = 1; Iter = 12\n",
      "=== fitting GLM-HMM ========\n"
     ]
    },
    {
     "data": {
      "application/vnd.jupyter.widget-view+json": {
       "model_id": "8631f0af78924bf1b94b61f8963fdd6d",
       "version_major": 2,
       "version_minor": 0
      },
      "text/plain": [
       "  0%|          | 0/300 [00:00<?, ?it/s]"
      ]
     },
     "metadata": {},
     "output_type": "display_data"
    },
    {
     "name": "stdout",
     "output_type": "stream",
     "text": [
      "Starting inference with K = 3; Fold = 1; Iter = 13\n",
      "=== fitting GLM-HMM ========\n"
     ]
    },
    {
     "data": {
      "application/vnd.jupyter.widget-view+json": {
       "model_id": "e32c89cd46104317bd5acc2c8ca37361",
       "version_major": 2,
       "version_minor": 0
      },
      "text/plain": [
       "  0%|          | 0/300 [00:00<?, ?it/s]"
      ]
     },
     "metadata": {},
     "output_type": "display_data"
    },
    {
     "name": "stdout",
     "output_type": "stream",
     "text": [
      "Starting inference with K = 3; Fold = 1; Iter = 14\n",
      "=== fitting GLM-HMM ========\n"
     ]
    },
    {
     "data": {
      "application/vnd.jupyter.widget-view+json": {
       "model_id": "56c2a611e2874dacb884bd9c0ed0b8a7",
       "version_major": 2,
       "version_minor": 0
      },
      "text/plain": [
       "  0%|          | 0/300 [00:00<?, ?it/s]"
      ]
     },
     "metadata": {},
     "output_type": "display_data"
    },
    {
     "name": "stdout",
     "output_type": "stream",
     "text": [
      "Starting inference with K = 3; Fold = 1; Iter = 15\n",
      "=== fitting GLM-HMM ========\n"
     ]
    },
    {
     "data": {
      "application/vnd.jupyter.widget-view+json": {
       "model_id": "5c62e92bd9c14b2c833e029fe00a083f",
       "version_major": 2,
       "version_minor": 0
      },
      "text/plain": [
       "  0%|          | 0/300 [00:00<?, ?it/s]"
      ]
     },
     "metadata": {},
     "output_type": "display_data"
    },
    {
     "name": "stdout",
     "output_type": "stream",
     "text": [
      "Starting inference with K = 3; Fold = 1; Iter = 16\n",
      "=== fitting GLM-HMM ========\n"
     ]
    },
    {
     "data": {
      "application/vnd.jupyter.widget-view+json": {
       "model_id": "665818ead6e14cf1b58e1de4126453af",
       "version_major": 2,
       "version_minor": 0
      },
      "text/plain": [
       "  0%|          | 0/300 [00:00<?, ?it/s]"
      ]
     },
     "metadata": {},
     "output_type": "display_data"
    },
    {
     "name": "stdout",
     "output_type": "stream",
     "text": [
      "Starting inference with K = 3; Fold = 1; Iter = 17\n",
      "=== fitting GLM-HMM ========\n"
     ]
    },
    {
     "data": {
      "application/vnd.jupyter.widget-view+json": {
       "model_id": "79ab65bdc33a409bae456b44fa063e63",
       "version_major": 2,
       "version_minor": 0
      },
      "text/plain": [
       "  0%|          | 0/300 [00:00<?, ?it/s]"
      ]
     },
     "metadata": {},
     "output_type": "display_data"
    },
    {
     "name": "stdout",
     "output_type": "stream",
     "text": [
      "Starting inference with K = 3; Fold = 1; Iter = 18\n",
      "=== fitting GLM-HMM ========\n"
     ]
    },
    {
     "data": {
      "application/vnd.jupyter.widget-view+json": {
       "model_id": "47ba55be3e6c4aeca8326f550389e11c",
       "version_major": 2,
       "version_minor": 0
      },
      "text/plain": [
       "  0%|          | 0/300 [00:00<?, ?it/s]"
      ]
     },
     "metadata": {},
     "output_type": "display_data"
    },
    {
     "name": "stdout",
     "output_type": "stream",
     "text": [
      "Starting inference with K = 3; Fold = 1; Iter = 19\n",
      "=== fitting GLM-HMM ========\n"
     ]
    },
    {
     "data": {
      "application/vnd.jupyter.widget-view+json": {
       "model_id": "3fbd83551ec0484eae1cdde2d178cafc",
       "version_major": 2,
       "version_minor": 0
      },
      "text/plain": [
       "  0%|          | 0/300 [00:00<?, ?it/s]"
      ]
     },
     "metadata": {},
     "output_type": "display_data"
    },
    {
     "name": "stdout",
     "output_type": "stream",
     "text": [
      "Starting inference with K = 3; Fold = 2; Iter = 0\n",
      "=== fitting GLM-HMM ========\n"
     ]
    },
    {
     "data": {
      "application/vnd.jupyter.widget-view+json": {
       "model_id": "8e53487f14f54f2dac663a8b9f135e50",
       "version_major": 2,
       "version_minor": 0
      },
      "text/plain": [
       "  0%|          | 0/300 [00:00<?, ?it/s]"
      ]
     },
     "metadata": {},
     "output_type": "display_data"
    },
    {
     "name": "stdout",
     "output_type": "stream",
     "text": [
      "Starting inference with K = 3; Fold = 2; Iter = 1\n",
      "=== fitting GLM-HMM ========\n"
     ]
    },
    {
     "data": {
      "application/vnd.jupyter.widget-view+json": {
       "model_id": "1d6c7b7732d44fc3b7e23b02b24d04c0",
       "version_major": 2,
       "version_minor": 0
      },
      "text/plain": [
       "  0%|          | 0/300 [00:00<?, ?it/s]"
      ]
     },
     "metadata": {},
     "output_type": "display_data"
    },
    {
     "name": "stdout",
     "output_type": "stream",
     "text": [
      "Starting inference with K = 3; Fold = 2; Iter = 2\n",
      "=== fitting GLM-HMM ========\n"
     ]
    },
    {
     "data": {
      "application/vnd.jupyter.widget-view+json": {
       "model_id": "0012ab7ae03c40ba8ea59dbcd266b767",
       "version_major": 2,
       "version_minor": 0
      },
      "text/plain": [
       "  0%|          | 0/300 [00:00<?, ?it/s]"
      ]
     },
     "metadata": {},
     "output_type": "display_data"
    },
    {
     "name": "stdout",
     "output_type": "stream",
     "text": [
      "Starting inference with K = 3; Fold = 2; Iter = 3\n",
      "=== fitting GLM-HMM ========\n"
     ]
    },
    {
     "data": {
      "application/vnd.jupyter.widget-view+json": {
       "model_id": "40e42af0a5a0407aa9bc7efa61b76d09",
       "version_major": 2,
       "version_minor": 0
      },
      "text/plain": [
       "  0%|          | 0/300 [00:00<?, ?it/s]"
      ]
     },
     "metadata": {},
     "output_type": "display_data"
    },
    {
     "name": "stdout",
     "output_type": "stream",
     "text": [
      "Starting inference with K = 3; Fold = 2; Iter = 4\n",
      "=== fitting GLM-HMM ========\n"
     ]
    },
    {
     "data": {
      "application/vnd.jupyter.widget-view+json": {
       "model_id": "1f929129f3ad4adfb347da55ebdd0c81",
       "version_major": 2,
       "version_minor": 0
      },
      "text/plain": [
       "  0%|          | 0/300 [00:00<?, ?it/s]"
      ]
     },
     "metadata": {},
     "output_type": "display_data"
    },
    {
     "name": "stdout",
     "output_type": "stream",
     "text": [
      "Starting inference with K = 3; Fold = 2; Iter = 5\n",
      "=== fitting GLM-HMM ========\n"
     ]
    },
    {
     "data": {
      "application/vnd.jupyter.widget-view+json": {
       "model_id": "0a92bde3059141bcac72034b69703e15",
       "version_major": 2,
       "version_minor": 0
      },
      "text/plain": [
       "  0%|          | 0/300 [00:00<?, ?it/s]"
      ]
     },
     "metadata": {},
     "output_type": "display_data"
    },
    {
     "name": "stdout",
     "output_type": "stream",
     "text": [
      "Starting inference with K = 3; Fold = 2; Iter = 6\n",
      "=== fitting GLM-HMM ========\n"
     ]
    },
    {
     "data": {
      "application/vnd.jupyter.widget-view+json": {
       "model_id": "3519efd05ff74726968be4e0f7fd86dd",
       "version_major": 2,
       "version_minor": 0
      },
      "text/plain": [
       "  0%|          | 0/300 [00:00<?, ?it/s]"
      ]
     },
     "metadata": {},
     "output_type": "display_data"
    },
    {
     "name": "stdout",
     "output_type": "stream",
     "text": [
      "Starting inference with K = 3; Fold = 2; Iter = 7\n",
      "=== fitting GLM-HMM ========\n"
     ]
    },
    {
     "data": {
      "application/vnd.jupyter.widget-view+json": {
       "model_id": "dbb1bbb3ba2547c7ba2df1df4eaa6300",
       "version_major": 2,
       "version_minor": 0
      },
      "text/plain": [
       "  0%|          | 0/300 [00:00<?, ?it/s]"
      ]
     },
     "metadata": {},
     "output_type": "display_data"
    },
    {
     "name": "stdout",
     "output_type": "stream",
     "text": [
      "Starting inference with K = 3; Fold = 2; Iter = 8\n",
      "=== fitting GLM-HMM ========\n"
     ]
    },
    {
     "data": {
      "application/vnd.jupyter.widget-view+json": {
       "model_id": "3270c87b1fb240e3a3e179b0ccab34b4",
       "version_major": 2,
       "version_minor": 0
      },
      "text/plain": [
       "  0%|          | 0/300 [00:00<?, ?it/s]"
      ]
     },
     "metadata": {},
     "output_type": "display_data"
    },
    {
     "name": "stdout",
     "output_type": "stream",
     "text": [
      "Starting inference with K = 3; Fold = 2; Iter = 9\n",
      "=== fitting GLM-HMM ========\n"
     ]
    },
    {
     "data": {
      "application/vnd.jupyter.widget-view+json": {
       "model_id": "7e8b03e517d943a4a8235aee2ab766a6",
       "version_major": 2,
       "version_minor": 0
      },
      "text/plain": [
       "  0%|          | 0/300 [00:00<?, ?it/s]"
      ]
     },
     "metadata": {},
     "output_type": "display_data"
    },
    {
     "name": "stdout",
     "output_type": "stream",
     "text": [
      "Starting inference with K = 3; Fold = 2; Iter = 10\n",
      "=== fitting GLM-HMM ========\n"
     ]
    },
    {
     "data": {
      "application/vnd.jupyter.widget-view+json": {
       "model_id": "3e177a1ab7ff4c4e8551b732287490dc",
       "version_major": 2,
       "version_minor": 0
      },
      "text/plain": [
       "  0%|          | 0/300 [00:00<?, ?it/s]"
      ]
     },
     "metadata": {},
     "output_type": "display_data"
    },
    {
     "name": "stdout",
     "output_type": "stream",
     "text": [
      "Starting inference with K = 3; Fold = 2; Iter = 11\n",
      "=== fitting GLM-HMM ========\n"
     ]
    },
    {
     "data": {
      "application/vnd.jupyter.widget-view+json": {
       "model_id": "365f98dfb8d54bf1b5369aa998ba0091",
       "version_major": 2,
       "version_minor": 0
      },
      "text/plain": [
       "  0%|          | 0/300 [00:00<?, ?it/s]"
      ]
     },
     "metadata": {},
     "output_type": "display_data"
    },
    {
     "name": "stdout",
     "output_type": "stream",
     "text": [
      "Starting inference with K = 3; Fold = 2; Iter = 12\n",
      "=== fitting GLM-HMM ========\n"
     ]
    },
    {
     "data": {
      "application/vnd.jupyter.widget-view+json": {
       "model_id": "800b24bcca0f401395cd19f6640f29ff",
       "version_major": 2,
       "version_minor": 0
      },
      "text/plain": [
       "  0%|          | 0/300 [00:00<?, ?it/s]"
      ]
     },
     "metadata": {},
     "output_type": "display_data"
    },
    {
     "name": "stdout",
     "output_type": "stream",
     "text": [
      "Starting inference with K = 3; Fold = 2; Iter = 13\n",
      "=== fitting GLM-HMM ========\n"
     ]
    },
    {
     "data": {
      "application/vnd.jupyter.widget-view+json": {
       "model_id": "1301106e9a35432f8580c5ae188ab5c3",
       "version_major": 2,
       "version_minor": 0
      },
      "text/plain": [
       "  0%|          | 0/300 [00:00<?, ?it/s]"
      ]
     },
     "metadata": {},
     "output_type": "display_data"
    },
    {
     "name": "stdout",
     "output_type": "stream",
     "text": [
      "Starting inference with K = 3; Fold = 2; Iter = 14\n",
      "=== fitting GLM-HMM ========\n"
     ]
    },
    {
     "data": {
      "application/vnd.jupyter.widget-view+json": {
       "model_id": "53876144a31d4bc7bd5c6a2fd739baed",
       "version_major": 2,
       "version_minor": 0
      },
      "text/plain": [
       "  0%|          | 0/300 [00:00<?, ?it/s]"
      ]
     },
     "metadata": {},
     "output_type": "display_data"
    },
    {
     "name": "stdout",
     "output_type": "stream",
     "text": [
      "Starting inference with K = 3; Fold = 2; Iter = 15\n",
      "=== fitting GLM-HMM ========\n"
     ]
    },
    {
     "data": {
      "application/vnd.jupyter.widget-view+json": {
       "model_id": "43495b23e2944e5ebdc17544efdbe2ab",
       "version_major": 2,
       "version_minor": 0
      },
      "text/plain": [
       "  0%|          | 0/300 [00:00<?, ?it/s]"
      ]
     },
     "metadata": {},
     "output_type": "display_data"
    },
    {
     "name": "stdout",
     "output_type": "stream",
     "text": [
      "Starting inference with K = 3; Fold = 2; Iter = 16\n",
      "=== fitting GLM-HMM ========\n"
     ]
    },
    {
     "data": {
      "application/vnd.jupyter.widget-view+json": {
       "model_id": "d7e2f04904db4d059333efdee6140753",
       "version_major": 2,
       "version_minor": 0
      },
      "text/plain": [
       "  0%|          | 0/300 [00:00<?, ?it/s]"
      ]
     },
     "metadata": {},
     "output_type": "display_data"
    },
    {
     "name": "stdout",
     "output_type": "stream",
     "text": [
      "Starting inference with K = 3; Fold = 2; Iter = 17\n",
      "=== fitting GLM-HMM ========\n"
     ]
    },
    {
     "data": {
      "application/vnd.jupyter.widget-view+json": {
       "model_id": "bc0dd4d960e745c9809a8ea2cf5b6c7b",
       "version_major": 2,
       "version_minor": 0
      },
      "text/plain": [
       "  0%|          | 0/300 [00:00<?, ?it/s]"
      ]
     },
     "metadata": {},
     "output_type": "display_data"
    },
    {
     "name": "stdout",
     "output_type": "stream",
     "text": [
      "Starting inference with K = 3; Fold = 2; Iter = 18\n",
      "=== fitting GLM-HMM ========\n"
     ]
    },
    {
     "data": {
      "application/vnd.jupyter.widget-view+json": {
       "model_id": "5df96f2864264a0096197f451eaace10",
       "version_major": 2,
       "version_minor": 0
      },
      "text/plain": [
       "  0%|          | 0/300 [00:00<?, ?it/s]"
      ]
     },
     "metadata": {},
     "output_type": "display_data"
    },
    {
     "name": "stdout",
     "output_type": "stream",
     "text": [
      "Starting inference with K = 3; Fold = 2; Iter = 19\n",
      "=== fitting GLM-HMM ========\n"
     ]
    },
    {
     "data": {
      "application/vnd.jupyter.widget-view+json": {
       "model_id": "8a29ae8f0eac4db688d03457d8d7843b",
       "version_major": 2,
       "version_minor": 0
      },
      "text/plain": [
       "  0%|          | 0/300 [00:00<?, ?it/s]"
      ]
     },
     "metadata": {},
     "output_type": "display_data"
    },
    {
     "name": "stdout",
     "output_type": "stream",
     "text": [
      "Starting inference with K = 3; Fold = 3; Iter = 0\n",
      "=== fitting GLM-HMM ========\n"
     ]
    },
    {
     "data": {
      "application/vnd.jupyter.widget-view+json": {
       "model_id": "e7ef9945783d4a7d8f92cb8b1fbc6064",
       "version_major": 2,
       "version_minor": 0
      },
      "text/plain": [
       "  0%|          | 0/300 [00:00<?, ?it/s]"
      ]
     },
     "metadata": {},
     "output_type": "display_data"
    },
    {
     "name": "stdout",
     "output_type": "stream",
     "text": [
      "Starting inference with K = 3; Fold = 3; Iter = 1\n",
      "=== fitting GLM-HMM ========\n"
     ]
    },
    {
     "data": {
      "application/vnd.jupyter.widget-view+json": {
       "model_id": "b5787ccc90bd4db6a74cf2eb146c72b9",
       "version_major": 2,
       "version_minor": 0
      },
      "text/plain": [
       "  0%|          | 0/300 [00:00<?, ?it/s]"
      ]
     },
     "metadata": {},
     "output_type": "display_data"
    },
    {
     "name": "stdout",
     "output_type": "stream",
     "text": [
      "Starting inference with K = 3; Fold = 3; Iter = 2\n",
      "=== fitting GLM-HMM ========\n"
     ]
    },
    {
     "data": {
      "application/vnd.jupyter.widget-view+json": {
       "model_id": "e93d5063dc3241dca7853fffb0aff610",
       "version_major": 2,
       "version_minor": 0
      },
      "text/plain": [
       "  0%|          | 0/300 [00:00<?, ?it/s]"
      ]
     },
     "metadata": {},
     "output_type": "display_data"
    },
    {
     "name": "stdout",
     "output_type": "stream",
     "text": [
      "Starting inference with K = 3; Fold = 3; Iter = 3\n",
      "=== fitting GLM-HMM ========\n"
     ]
    },
    {
     "data": {
      "application/vnd.jupyter.widget-view+json": {
       "model_id": "530b4e5ace704d86bb1ade84d9d82146",
       "version_major": 2,
       "version_minor": 0
      },
      "text/plain": [
       "  0%|          | 0/300 [00:00<?, ?it/s]"
      ]
     },
     "metadata": {},
     "output_type": "display_data"
    },
    {
     "name": "stdout",
     "output_type": "stream",
     "text": [
      "Starting inference with K = 3; Fold = 3; Iter = 4\n",
      "=== fitting GLM-HMM ========\n"
     ]
    },
    {
     "data": {
      "application/vnd.jupyter.widget-view+json": {
       "model_id": "9d85fda1c5884832876e88dfec3644b2",
       "version_major": 2,
       "version_minor": 0
      },
      "text/plain": [
       "  0%|          | 0/300 [00:00<?, ?it/s]"
      ]
     },
     "metadata": {},
     "output_type": "display_data"
    },
    {
     "name": "stdout",
     "output_type": "stream",
     "text": [
      "Starting inference with K = 3; Fold = 3; Iter = 5\n",
      "=== fitting GLM-HMM ========\n"
     ]
    },
    {
     "data": {
      "application/vnd.jupyter.widget-view+json": {
       "model_id": "dd4aca97ce364d259b80445df86f769b",
       "version_major": 2,
       "version_minor": 0
      },
      "text/plain": [
       "  0%|          | 0/300 [00:00<?, ?it/s]"
      ]
     },
     "metadata": {},
     "output_type": "display_data"
    },
    {
     "name": "stdout",
     "output_type": "stream",
     "text": [
      "Starting inference with K = 3; Fold = 3; Iter = 6\n",
      "=== fitting GLM-HMM ========\n"
     ]
    },
    {
     "data": {
      "application/vnd.jupyter.widget-view+json": {
       "model_id": "b0626baf9c434d31b4eee008c0743989",
       "version_major": 2,
       "version_minor": 0
      },
      "text/plain": [
       "  0%|          | 0/300 [00:00<?, ?it/s]"
      ]
     },
     "metadata": {},
     "output_type": "display_data"
    },
    {
     "name": "stdout",
     "output_type": "stream",
     "text": [
      "Starting inference with K = 3; Fold = 3; Iter = 7\n",
      "=== fitting GLM-HMM ========\n"
     ]
    },
    {
     "data": {
      "application/vnd.jupyter.widget-view+json": {
       "model_id": "db2f076cc402481a95c432148a7a004e",
       "version_major": 2,
       "version_minor": 0
      },
      "text/plain": [
       "  0%|          | 0/300 [00:00<?, ?it/s]"
      ]
     },
     "metadata": {},
     "output_type": "display_data"
    },
    {
     "name": "stdout",
     "output_type": "stream",
     "text": [
      "Starting inference with K = 3; Fold = 3; Iter = 8\n",
      "=== fitting GLM-HMM ========\n"
     ]
    },
    {
     "data": {
      "application/vnd.jupyter.widget-view+json": {
       "model_id": "1665d454c60848958cfb95eda5a0c6b1",
       "version_major": 2,
       "version_minor": 0
      },
      "text/plain": [
       "  0%|          | 0/300 [00:00<?, ?it/s]"
      ]
     },
     "metadata": {},
     "output_type": "display_data"
    },
    {
     "name": "stdout",
     "output_type": "stream",
     "text": [
      "Starting inference with K = 3; Fold = 3; Iter = 9\n",
      "=== fitting GLM-HMM ========\n"
     ]
    },
    {
     "data": {
      "application/vnd.jupyter.widget-view+json": {
       "model_id": "21fba7a06896447aa9638984ab21eeb8",
       "version_major": 2,
       "version_minor": 0
      },
      "text/plain": [
       "  0%|          | 0/300 [00:00<?, ?it/s]"
      ]
     },
     "metadata": {},
     "output_type": "display_data"
    },
    {
     "name": "stdout",
     "output_type": "stream",
     "text": [
      "Starting inference with K = 3; Fold = 3; Iter = 10\n",
      "=== fitting GLM-HMM ========\n"
     ]
    },
    {
     "data": {
      "application/vnd.jupyter.widget-view+json": {
       "model_id": "0dadc703b233484a9fdafbda245e6125",
       "version_major": 2,
       "version_minor": 0
      },
      "text/plain": [
       "  0%|          | 0/300 [00:00<?, ?it/s]"
      ]
     },
     "metadata": {},
     "output_type": "display_data"
    },
    {
     "name": "stdout",
     "output_type": "stream",
     "text": [
      "Starting inference with K = 3; Fold = 3; Iter = 11\n",
      "=== fitting GLM-HMM ========\n"
     ]
    },
    {
     "data": {
      "application/vnd.jupyter.widget-view+json": {
       "model_id": "941cd7484a784749b445d6bf1b0486b6",
       "version_major": 2,
       "version_minor": 0
      },
      "text/plain": [
       "  0%|          | 0/300 [00:00<?, ?it/s]"
      ]
     },
     "metadata": {},
     "output_type": "display_data"
    },
    {
     "name": "stdout",
     "output_type": "stream",
     "text": [
      "Starting inference with K = 3; Fold = 3; Iter = 12\n",
      "=== fitting GLM-HMM ========\n"
     ]
    },
    {
     "data": {
      "application/vnd.jupyter.widget-view+json": {
       "model_id": "2fd923d964f54813b3e396ab4c6fe14e",
       "version_major": 2,
       "version_minor": 0
      },
      "text/plain": [
       "  0%|          | 0/300 [00:00<?, ?it/s]"
      ]
     },
     "metadata": {},
     "output_type": "display_data"
    },
    {
     "name": "stdout",
     "output_type": "stream",
     "text": [
      "Starting inference with K = 3; Fold = 3; Iter = 13\n",
      "=== fitting GLM-HMM ========\n"
     ]
    },
    {
     "data": {
      "application/vnd.jupyter.widget-view+json": {
       "model_id": "a31d3ccb7cca44229e81c66e4cace174",
       "version_major": 2,
       "version_minor": 0
      },
      "text/plain": [
       "  0%|          | 0/300 [00:00<?, ?it/s]"
      ]
     },
     "metadata": {},
     "output_type": "display_data"
    },
    {
     "name": "stdout",
     "output_type": "stream",
     "text": [
      "Starting inference with K = 3; Fold = 3; Iter = 14\n",
      "=== fitting GLM-HMM ========\n"
     ]
    },
    {
     "data": {
      "application/vnd.jupyter.widget-view+json": {
       "model_id": "01f12d5968854861b759009007a53506",
       "version_major": 2,
       "version_minor": 0
      },
      "text/plain": [
       "  0%|          | 0/300 [00:00<?, ?it/s]"
      ]
     },
     "metadata": {},
     "output_type": "display_data"
    },
    {
     "name": "stdout",
     "output_type": "stream",
     "text": [
      "Starting inference with K = 3; Fold = 3; Iter = 15\n",
      "=== fitting GLM-HMM ========\n"
     ]
    },
    {
     "data": {
      "application/vnd.jupyter.widget-view+json": {
       "model_id": "aff589122622410eb1d2209a196de73b",
       "version_major": 2,
       "version_minor": 0
      },
      "text/plain": [
       "  0%|          | 0/300 [00:00<?, ?it/s]"
      ]
     },
     "metadata": {},
     "output_type": "display_data"
    },
    {
     "name": "stdout",
     "output_type": "stream",
     "text": [
      "Starting inference with K = 3; Fold = 3; Iter = 16\n",
      "=== fitting GLM-HMM ========\n"
     ]
    },
    {
     "data": {
      "application/vnd.jupyter.widget-view+json": {
       "model_id": "3aafc2abde664db8946773f072f3c867",
       "version_major": 2,
       "version_minor": 0
      },
      "text/plain": [
       "  0%|          | 0/300 [00:00<?, ?it/s]"
      ]
     },
     "metadata": {},
     "output_type": "display_data"
    },
    {
     "name": "stdout",
     "output_type": "stream",
     "text": [
      "Starting inference with K = 3; Fold = 3; Iter = 17\n",
      "=== fitting GLM-HMM ========\n"
     ]
    },
    {
     "data": {
      "application/vnd.jupyter.widget-view+json": {
       "model_id": "bca29a3a84d14759acd709dbd9fe69e9",
       "version_major": 2,
       "version_minor": 0
      },
      "text/plain": [
       "  0%|          | 0/300 [00:00<?, ?it/s]"
      ]
     },
     "metadata": {},
     "output_type": "display_data"
    },
    {
     "name": "stdout",
     "output_type": "stream",
     "text": [
      "Starting inference with K = 3; Fold = 3; Iter = 18\n",
      "=== fitting GLM-HMM ========\n"
     ]
    },
    {
     "data": {
      "application/vnd.jupyter.widget-view+json": {
       "model_id": "715f5911be6645e78db0a6cbb3b992fe",
       "version_major": 2,
       "version_minor": 0
      },
      "text/plain": [
       "  0%|          | 0/300 [00:00<?, ?it/s]"
      ]
     },
     "metadata": {},
     "output_type": "display_data"
    },
    {
     "name": "stdout",
     "output_type": "stream",
     "text": [
      "Starting inference with K = 3; Fold = 3; Iter = 19\n",
      "=== fitting GLM-HMM ========\n"
     ]
    },
    {
     "data": {
      "application/vnd.jupyter.widget-view+json": {
       "model_id": "a45700127b464ceca560059c8de783b8",
       "version_major": 2,
       "version_minor": 0
      },
      "text/plain": [
       "  0%|          | 0/300 [00:00<?, ?it/s]"
      ]
     },
     "metadata": {},
     "output_type": "display_data"
    },
    {
     "name": "stdout",
     "output_type": "stream",
     "text": [
      "Starting inference with K = 3; Fold = 4; Iter = 0\n",
      "=== fitting GLM-HMM ========\n"
     ]
    },
    {
     "data": {
      "application/vnd.jupyter.widget-view+json": {
       "model_id": "faef83c28bab4af887e5a87b0f441e36",
       "version_major": 2,
       "version_minor": 0
      },
      "text/plain": [
       "  0%|          | 0/300 [00:00<?, ?it/s]"
      ]
     },
     "metadata": {},
     "output_type": "display_data"
    },
    {
     "name": "stdout",
     "output_type": "stream",
     "text": [
      "Starting inference with K = 3; Fold = 4; Iter = 1\n",
      "=== fitting GLM-HMM ========\n"
     ]
    },
    {
     "data": {
      "application/vnd.jupyter.widget-view+json": {
       "model_id": "88407d5e3cb8463f93294b469355d53b",
       "version_major": 2,
       "version_minor": 0
      },
      "text/plain": [
       "  0%|          | 0/300 [00:00<?, ?it/s]"
      ]
     },
     "metadata": {},
     "output_type": "display_data"
    },
    {
     "name": "stdout",
     "output_type": "stream",
     "text": [
      "Starting inference with K = 3; Fold = 4; Iter = 2\n",
      "=== fitting GLM-HMM ========\n"
     ]
    },
    {
     "data": {
      "application/vnd.jupyter.widget-view+json": {
       "model_id": "cad3d1e0f0d94769bb05bfa066fd3864",
       "version_major": 2,
       "version_minor": 0
      },
      "text/plain": [
       "  0%|          | 0/300 [00:00<?, ?it/s]"
      ]
     },
     "metadata": {},
     "output_type": "display_data"
    },
    {
     "name": "stdout",
     "output_type": "stream",
     "text": [
      "Starting inference with K = 3; Fold = 4; Iter = 3\n",
      "=== fitting GLM-HMM ========\n"
     ]
    },
    {
     "data": {
      "application/vnd.jupyter.widget-view+json": {
       "model_id": "7ed8c37fecf14883a1a22976249180c6",
       "version_major": 2,
       "version_minor": 0
      },
      "text/plain": [
       "  0%|          | 0/300 [00:00<?, ?it/s]"
      ]
     },
     "metadata": {},
     "output_type": "display_data"
    },
    {
     "name": "stdout",
     "output_type": "stream",
     "text": [
      "Starting inference with K = 3; Fold = 4; Iter = 4\n",
      "=== fitting GLM-HMM ========\n"
     ]
    },
    {
     "data": {
      "application/vnd.jupyter.widget-view+json": {
       "model_id": "1ed90237e7104d16a92befcecdb00fae",
       "version_major": 2,
       "version_minor": 0
      },
      "text/plain": [
       "  0%|          | 0/300 [00:00<?, ?it/s]"
      ]
     },
     "metadata": {},
     "output_type": "display_data"
    },
    {
     "name": "stdout",
     "output_type": "stream",
     "text": [
      "Starting inference with K = 3; Fold = 4; Iter = 5\n",
      "=== fitting GLM-HMM ========\n"
     ]
    },
    {
     "data": {
      "application/vnd.jupyter.widget-view+json": {
       "model_id": "22aa958dcef44659a7d7aa2a127ad201",
       "version_major": 2,
       "version_minor": 0
      },
      "text/plain": [
       "  0%|          | 0/300 [00:00<?, ?it/s]"
      ]
     },
     "metadata": {},
     "output_type": "display_data"
    },
    {
     "name": "stdout",
     "output_type": "stream",
     "text": [
      "Starting inference with K = 3; Fold = 4; Iter = 6\n",
      "=== fitting GLM-HMM ========\n"
     ]
    },
    {
     "data": {
      "application/vnd.jupyter.widget-view+json": {
       "model_id": "024604023a1d42b0a10280e846a585b2",
       "version_major": 2,
       "version_minor": 0
      },
      "text/plain": [
       "  0%|          | 0/300 [00:00<?, ?it/s]"
      ]
     },
     "metadata": {},
     "output_type": "display_data"
    },
    {
     "name": "stdout",
     "output_type": "stream",
     "text": [
      "Starting inference with K = 3; Fold = 4; Iter = 7\n",
      "=== fitting GLM-HMM ========\n"
     ]
    },
    {
     "data": {
      "application/vnd.jupyter.widget-view+json": {
       "model_id": "858493f9433f425fa45a17b69ccef810",
       "version_major": 2,
       "version_minor": 0
      },
      "text/plain": [
       "  0%|          | 0/300 [00:00<?, ?it/s]"
      ]
     },
     "metadata": {},
     "output_type": "display_data"
    },
    {
     "name": "stdout",
     "output_type": "stream",
     "text": [
      "Starting inference with K = 3; Fold = 4; Iter = 8\n",
      "=== fitting GLM-HMM ========\n"
     ]
    },
    {
     "data": {
      "application/vnd.jupyter.widget-view+json": {
       "model_id": "9d93a3cba3ca4a5aa6b34d7ac58231c7",
       "version_major": 2,
       "version_minor": 0
      },
      "text/plain": [
       "  0%|          | 0/300 [00:00<?, ?it/s]"
      ]
     },
     "metadata": {},
     "output_type": "display_data"
    },
    {
     "name": "stdout",
     "output_type": "stream",
     "text": [
      "Starting inference with K = 3; Fold = 4; Iter = 9\n",
      "=== fitting GLM-HMM ========\n"
     ]
    },
    {
     "data": {
      "application/vnd.jupyter.widget-view+json": {
       "model_id": "09d66c3532784ecb980d2f70b0d450db",
       "version_major": 2,
       "version_minor": 0
      },
      "text/plain": [
       "  0%|          | 0/300 [00:00<?, ?it/s]"
      ]
     },
     "metadata": {},
     "output_type": "display_data"
    },
    {
     "name": "stdout",
     "output_type": "stream",
     "text": [
      "Starting inference with K = 3; Fold = 4; Iter = 10\n",
      "=== fitting GLM-HMM ========\n"
     ]
    },
    {
     "data": {
      "application/vnd.jupyter.widget-view+json": {
       "model_id": "aca1649ee6ec4991a2c3524f14046efd",
       "version_major": 2,
       "version_minor": 0
      },
      "text/plain": [
       "  0%|          | 0/300 [00:00<?, ?it/s]"
      ]
     },
     "metadata": {},
     "output_type": "display_data"
    },
    {
     "name": "stdout",
     "output_type": "stream",
     "text": [
      "Starting inference with K = 3; Fold = 4; Iter = 11\n",
      "=== fitting GLM-HMM ========\n"
     ]
    },
    {
     "data": {
      "application/vnd.jupyter.widget-view+json": {
       "model_id": "4f05b5b4cc9e4bc3999277c5ca4e9beb",
       "version_major": 2,
       "version_minor": 0
      },
      "text/plain": [
       "  0%|          | 0/300 [00:00<?, ?it/s]"
      ]
     },
     "metadata": {},
     "output_type": "display_data"
    },
    {
     "name": "stdout",
     "output_type": "stream",
     "text": [
      "Starting inference with K = 3; Fold = 4; Iter = 12\n",
      "=== fitting GLM-HMM ========\n"
     ]
    },
    {
     "data": {
      "application/vnd.jupyter.widget-view+json": {
       "model_id": "c9595dbc037e4d7daaa9d40be38ec42a",
       "version_major": 2,
       "version_minor": 0
      },
      "text/plain": [
       "  0%|          | 0/300 [00:00<?, ?it/s]"
      ]
     },
     "metadata": {},
     "output_type": "display_data"
    },
    {
     "name": "stdout",
     "output_type": "stream",
     "text": [
      "Starting inference with K = 3; Fold = 4; Iter = 13\n",
      "=== fitting GLM-HMM ========\n"
     ]
    },
    {
     "data": {
      "application/vnd.jupyter.widget-view+json": {
       "model_id": "e373545db34a40f28e793d3b14fd12ef",
       "version_major": 2,
       "version_minor": 0
      },
      "text/plain": [
       "  0%|          | 0/300 [00:00<?, ?it/s]"
      ]
     },
     "metadata": {},
     "output_type": "display_data"
    },
    {
     "name": "stdout",
     "output_type": "stream",
     "text": [
      "Starting inference with K = 3; Fold = 4; Iter = 14\n",
      "=== fitting GLM-HMM ========\n"
     ]
    },
    {
     "data": {
      "application/vnd.jupyter.widget-view+json": {
       "model_id": "aab4f792370145559878dc12ad32774a",
       "version_major": 2,
       "version_minor": 0
      },
      "text/plain": [
       "  0%|          | 0/300 [00:00<?, ?it/s]"
      ]
     },
     "metadata": {},
     "output_type": "display_data"
    },
    {
     "name": "stdout",
     "output_type": "stream",
     "text": [
      "Starting inference with K = 3; Fold = 4; Iter = 15\n",
      "=== fitting GLM-HMM ========\n"
     ]
    },
    {
     "data": {
      "application/vnd.jupyter.widget-view+json": {
       "model_id": "4ac978cfa77742db82396e0ec9886037",
       "version_major": 2,
       "version_minor": 0
      },
      "text/plain": [
       "  0%|          | 0/300 [00:00<?, ?it/s]"
      ]
     },
     "metadata": {},
     "output_type": "display_data"
    },
    {
     "name": "stdout",
     "output_type": "stream",
     "text": [
      "Starting inference with K = 3; Fold = 4; Iter = 16\n",
      "=== fitting GLM-HMM ========\n"
     ]
    },
    {
     "data": {
      "application/vnd.jupyter.widget-view+json": {
       "model_id": "c2134a6e1f174c79b8e30521a4f47938",
       "version_major": 2,
       "version_minor": 0
      },
      "text/plain": [
       "  0%|          | 0/300 [00:00<?, ?it/s]"
      ]
     },
     "metadata": {},
     "output_type": "display_data"
    },
    {
     "name": "stdout",
     "output_type": "stream",
     "text": [
      "Starting inference with K = 3; Fold = 4; Iter = 17\n",
      "=== fitting GLM-HMM ========\n"
     ]
    },
    {
     "data": {
      "application/vnd.jupyter.widget-view+json": {
       "model_id": "3eb1c09135ed4b1ab523018d81abf452",
       "version_major": 2,
       "version_minor": 0
      },
      "text/plain": [
       "  0%|          | 0/300 [00:00<?, ?it/s]"
      ]
     },
     "metadata": {},
     "output_type": "display_data"
    },
    {
     "name": "stdout",
     "output_type": "stream",
     "text": [
      "Starting inference with K = 3; Fold = 4; Iter = 18\n",
      "=== fitting GLM-HMM ========\n"
     ]
    },
    {
     "data": {
      "application/vnd.jupyter.widget-view+json": {
       "model_id": "36a0e22f378b423bbdb39a3d37789ba9",
       "version_major": 2,
       "version_minor": 0
      },
      "text/plain": [
       "  0%|          | 0/300 [00:00<?, ?it/s]"
      ]
     },
     "metadata": {},
     "output_type": "display_data"
    },
    {
     "name": "stdout",
     "output_type": "stream",
     "text": [
      "Starting inference with K = 3; Fold = 4; Iter = 19\n",
      "=== fitting GLM-HMM ========\n"
     ]
    },
    {
     "data": {
      "application/vnd.jupyter.widget-view+json": {
       "model_id": "a7a3a80f92a54122bf9345ac2b37a6b5",
       "version_major": 2,
       "version_minor": 0
      },
      "text/plain": [
       "  0%|          | 0/300 [00:00<?, ?it/s]"
      ]
     },
     "metadata": {},
     "output_type": "display_data"
    },
    {
     "name": "stdout",
     "output_type": "stream",
     "text": [
      "Starting inference with K = 2; Fold = 0; Iter = 0\n",
      "=== fitting GLM-HMM ========\n"
     ]
    },
    {
     "data": {
      "application/vnd.jupyter.widget-view+json": {
       "model_id": "e4f6caca53bb45189343c5df7c402a56",
       "version_major": 2,
       "version_minor": 0
      },
      "text/plain": [
       "  0%|          | 0/300 [00:00<?, ?it/s]"
      ]
     },
     "metadata": {},
     "output_type": "display_data"
    },
    {
     "name": "stdout",
     "output_type": "stream",
     "text": [
      "Starting inference with K = 2; Fold = 0; Iter = 1\n",
      "=== fitting GLM-HMM ========\n"
     ]
    },
    {
     "data": {
      "application/vnd.jupyter.widget-view+json": {
       "model_id": "e80c0842400448549e7390b68f55042d",
       "version_major": 2,
       "version_minor": 0
      },
      "text/plain": [
       "  0%|          | 0/300 [00:00<?, ?it/s]"
      ]
     },
     "metadata": {},
     "output_type": "display_data"
    },
    {
     "name": "stdout",
     "output_type": "stream",
     "text": [
      "Starting inference with K = 2; Fold = 0; Iter = 2\n",
      "=== fitting GLM-HMM ========\n"
     ]
    },
    {
     "data": {
      "application/vnd.jupyter.widget-view+json": {
       "model_id": "05c415f6fbd84b729716609948830f60",
       "version_major": 2,
       "version_minor": 0
      },
      "text/plain": [
       "  0%|          | 0/300 [00:00<?, ?it/s]"
      ]
     },
     "metadata": {},
     "output_type": "display_data"
    },
    {
     "name": "stdout",
     "output_type": "stream",
     "text": [
      "Starting inference with K = 2; Fold = 0; Iter = 3\n",
      "=== fitting GLM-HMM ========\n"
     ]
    },
    {
     "data": {
      "application/vnd.jupyter.widget-view+json": {
       "model_id": "d980a03c0c034fdc87f799eb8c5787c9",
       "version_major": 2,
       "version_minor": 0
      },
      "text/plain": [
       "  0%|          | 0/300 [00:00<?, ?it/s]"
      ]
     },
     "metadata": {},
     "output_type": "display_data"
    },
    {
     "name": "stdout",
     "output_type": "stream",
     "text": [
      "Starting inference with K = 2; Fold = 0; Iter = 4\n",
      "=== fitting GLM-HMM ========\n"
     ]
    },
    {
     "data": {
      "application/vnd.jupyter.widget-view+json": {
       "model_id": "0a2143307ab843ea9979dadfccc9d131",
       "version_major": 2,
       "version_minor": 0
      },
      "text/plain": [
       "  0%|          | 0/300 [00:00<?, ?it/s]"
      ]
     },
     "metadata": {},
     "output_type": "display_data"
    },
    {
     "name": "stdout",
     "output_type": "stream",
     "text": [
      "Starting inference with K = 2; Fold = 0; Iter = 5\n",
      "=== fitting GLM-HMM ========\n"
     ]
    },
    {
     "data": {
      "application/vnd.jupyter.widget-view+json": {
       "model_id": "c65569e834674a378b6012e90e4bdfa6",
       "version_major": 2,
       "version_minor": 0
      },
      "text/plain": [
       "  0%|          | 0/300 [00:00<?, ?it/s]"
      ]
     },
     "metadata": {},
     "output_type": "display_data"
    },
    {
     "name": "stdout",
     "output_type": "stream",
     "text": [
      "Starting inference with K = 2; Fold = 0; Iter = 6\n",
      "=== fitting GLM-HMM ========\n"
     ]
    },
    {
     "data": {
      "application/vnd.jupyter.widget-view+json": {
       "model_id": "30e21544f3fe434a9a59ed7fce79b7f4",
       "version_major": 2,
       "version_minor": 0
      },
      "text/plain": [
       "  0%|          | 0/300 [00:00<?, ?it/s]"
      ]
     },
     "metadata": {},
     "output_type": "display_data"
    },
    {
     "name": "stdout",
     "output_type": "stream",
     "text": [
      "Starting inference with K = 2; Fold = 0; Iter = 7\n",
      "=== fitting GLM-HMM ========\n"
     ]
    },
    {
     "data": {
      "application/vnd.jupyter.widget-view+json": {
       "model_id": "19d6207e3045413e9fb257d221555277",
       "version_major": 2,
       "version_minor": 0
      },
      "text/plain": [
       "  0%|          | 0/300 [00:00<?, ?it/s]"
      ]
     },
     "metadata": {},
     "output_type": "display_data"
    },
    {
     "name": "stdout",
     "output_type": "stream",
     "text": [
      "Starting inference with K = 2; Fold = 0; Iter = 8\n",
      "=== fitting GLM-HMM ========\n"
     ]
    },
    {
     "data": {
      "application/vnd.jupyter.widget-view+json": {
       "model_id": "81222890865746d69088846c498844eb",
       "version_major": 2,
       "version_minor": 0
      },
      "text/plain": [
       "  0%|          | 0/300 [00:00<?, ?it/s]"
      ]
     },
     "metadata": {},
     "output_type": "display_data"
    },
    {
     "name": "stdout",
     "output_type": "stream",
     "text": [
      "Starting inference with K = 2; Fold = 0; Iter = 9\n",
      "=== fitting GLM-HMM ========\n"
     ]
    },
    {
     "data": {
      "application/vnd.jupyter.widget-view+json": {
       "model_id": "5e628aff9617498eb82e102d1eb8a7c2",
       "version_major": 2,
       "version_minor": 0
      },
      "text/plain": [
       "  0%|          | 0/300 [00:00<?, ?it/s]"
      ]
     },
     "metadata": {},
     "output_type": "display_data"
    },
    {
     "name": "stdout",
     "output_type": "stream",
     "text": [
      "Starting inference with K = 2; Fold = 0; Iter = 10\n",
      "=== fitting GLM-HMM ========\n"
     ]
    },
    {
     "data": {
      "application/vnd.jupyter.widget-view+json": {
       "model_id": "d1e42c03fef6415ea022096669724006",
       "version_major": 2,
       "version_minor": 0
      },
      "text/plain": [
       "  0%|          | 0/300 [00:00<?, ?it/s]"
      ]
     },
     "metadata": {},
     "output_type": "display_data"
    },
    {
     "name": "stdout",
     "output_type": "stream",
     "text": [
      "Starting inference with K = 2; Fold = 0; Iter = 11\n",
      "=== fitting GLM-HMM ========\n"
     ]
    },
    {
     "data": {
      "application/vnd.jupyter.widget-view+json": {
       "model_id": "799382a4efeb43d9bda0a5ab93308f12",
       "version_major": 2,
       "version_minor": 0
      },
      "text/plain": [
       "  0%|          | 0/300 [00:00<?, ?it/s]"
      ]
     },
     "metadata": {},
     "output_type": "display_data"
    },
    {
     "name": "stdout",
     "output_type": "stream",
     "text": [
      "Starting inference with K = 2; Fold = 0; Iter = 12\n",
      "=== fitting GLM-HMM ========\n"
     ]
    },
    {
     "data": {
      "application/vnd.jupyter.widget-view+json": {
       "model_id": "96210264b35441e089247d662099633b",
       "version_major": 2,
       "version_minor": 0
      },
      "text/plain": [
       "  0%|          | 0/300 [00:00<?, ?it/s]"
      ]
     },
     "metadata": {},
     "output_type": "display_data"
    },
    {
     "name": "stdout",
     "output_type": "stream",
     "text": [
      "Starting inference with K = 2; Fold = 0; Iter = 13\n",
      "=== fitting GLM-HMM ========\n"
     ]
    },
    {
     "data": {
      "application/vnd.jupyter.widget-view+json": {
       "model_id": "5f218bfd3d3f461cbf7b8be52532412c",
       "version_major": 2,
       "version_minor": 0
      },
      "text/plain": [
       "  0%|          | 0/300 [00:00<?, ?it/s]"
      ]
     },
     "metadata": {},
     "output_type": "display_data"
    },
    {
     "name": "stdout",
     "output_type": "stream",
     "text": [
      "Starting inference with K = 2; Fold = 0; Iter = 14\n",
      "=== fitting GLM-HMM ========\n"
     ]
    },
    {
     "data": {
      "application/vnd.jupyter.widget-view+json": {
       "model_id": "f65406d8313c45aca4ac00a16e1de85d",
       "version_major": 2,
       "version_minor": 0
      },
      "text/plain": [
       "  0%|          | 0/300 [00:00<?, ?it/s]"
      ]
     },
     "metadata": {},
     "output_type": "display_data"
    },
    {
     "name": "stdout",
     "output_type": "stream",
     "text": [
      "Starting inference with K = 2; Fold = 0; Iter = 15\n",
      "=== fitting GLM-HMM ========\n"
     ]
    },
    {
     "data": {
      "application/vnd.jupyter.widget-view+json": {
       "model_id": "ca0d447a447f4f1790cd5c1818bf96ea",
       "version_major": 2,
       "version_minor": 0
      },
      "text/plain": [
       "  0%|          | 0/300 [00:00<?, ?it/s]"
      ]
     },
     "metadata": {},
     "output_type": "display_data"
    },
    {
     "name": "stdout",
     "output_type": "stream",
     "text": [
      "Starting inference with K = 2; Fold = 0; Iter = 16\n",
      "=== fitting GLM-HMM ========\n"
     ]
    },
    {
     "data": {
      "application/vnd.jupyter.widget-view+json": {
       "model_id": "c9ccd5db2e7846a8b00299adc82520bd",
       "version_major": 2,
       "version_minor": 0
      },
      "text/plain": [
       "  0%|          | 0/300 [00:00<?, ?it/s]"
      ]
     },
     "metadata": {},
     "output_type": "display_data"
    },
    {
     "name": "stdout",
     "output_type": "stream",
     "text": [
      "Starting inference with K = 2; Fold = 0; Iter = 17\n",
      "=== fitting GLM-HMM ========\n"
     ]
    },
    {
     "data": {
      "application/vnd.jupyter.widget-view+json": {
       "model_id": "babe3e8b7a28429f972d662575cf105a",
       "version_major": 2,
       "version_minor": 0
      },
      "text/plain": [
       "  0%|          | 0/300 [00:00<?, ?it/s]"
      ]
     },
     "metadata": {},
     "output_type": "display_data"
    },
    {
     "name": "stdout",
     "output_type": "stream",
     "text": [
      "Starting inference with K = 2; Fold = 0; Iter = 18\n",
      "=== fitting GLM-HMM ========\n"
     ]
    },
    {
     "data": {
      "application/vnd.jupyter.widget-view+json": {
       "model_id": "14003474ad71466d97bdc8f2ab929ad9",
       "version_major": 2,
       "version_minor": 0
      },
      "text/plain": [
       "  0%|          | 0/300 [00:00<?, ?it/s]"
      ]
     },
     "metadata": {},
     "output_type": "display_data"
    },
    {
     "name": "stdout",
     "output_type": "stream",
     "text": [
      "Starting inference with K = 2; Fold = 0; Iter = 19\n",
      "=== fitting GLM-HMM ========\n"
     ]
    },
    {
     "data": {
      "application/vnd.jupyter.widget-view+json": {
       "model_id": "87153db5ae114280bc1ae99f1d53fe2d",
       "version_major": 2,
       "version_minor": 0
      },
      "text/plain": [
       "  0%|          | 0/300 [00:00<?, ?it/s]"
      ]
     },
     "metadata": {},
     "output_type": "display_data"
    },
    {
     "name": "stdout",
     "output_type": "stream",
     "text": [
      "Starting inference with K = 2; Fold = 1; Iter = 0\n",
      "=== fitting GLM-HMM ========\n"
     ]
    },
    {
     "data": {
      "application/vnd.jupyter.widget-view+json": {
       "model_id": "a99c6d9211db4ba296db362302e4cc30",
       "version_major": 2,
       "version_minor": 0
      },
      "text/plain": [
       "  0%|          | 0/300 [00:00<?, ?it/s]"
      ]
     },
     "metadata": {},
     "output_type": "display_data"
    },
    {
     "name": "stdout",
     "output_type": "stream",
     "text": [
      "Starting inference with K = 2; Fold = 1; Iter = 1\n",
      "=== fitting GLM-HMM ========\n"
     ]
    },
    {
     "data": {
      "application/vnd.jupyter.widget-view+json": {
       "model_id": "2ab56d68512e4e1dbc9cb420d7f1b6c9",
       "version_major": 2,
       "version_minor": 0
      },
      "text/plain": [
       "  0%|          | 0/300 [00:00<?, ?it/s]"
      ]
     },
     "metadata": {},
     "output_type": "display_data"
    },
    {
     "name": "stdout",
     "output_type": "stream",
     "text": [
      "Starting inference with K = 2; Fold = 1; Iter = 2\n",
      "=== fitting GLM-HMM ========\n"
     ]
    },
    {
     "data": {
      "application/vnd.jupyter.widget-view+json": {
       "model_id": "6f067a5bf8c9436995f5c5a552f2fb6f",
       "version_major": 2,
       "version_minor": 0
      },
      "text/plain": [
       "  0%|          | 0/300 [00:00<?, ?it/s]"
      ]
     },
     "metadata": {},
     "output_type": "display_data"
    },
    {
     "name": "stdout",
     "output_type": "stream",
     "text": [
      "Starting inference with K = 2; Fold = 1; Iter = 3\n",
      "=== fitting GLM-HMM ========\n"
     ]
    },
    {
     "data": {
      "application/vnd.jupyter.widget-view+json": {
       "model_id": "aaeb156357ed4b5fa62ae50557ab0f86",
       "version_major": 2,
       "version_minor": 0
      },
      "text/plain": [
       "  0%|          | 0/300 [00:00<?, ?it/s]"
      ]
     },
     "metadata": {},
     "output_type": "display_data"
    },
    {
     "name": "stdout",
     "output_type": "stream",
     "text": [
      "Starting inference with K = 2; Fold = 1; Iter = 4\n",
      "=== fitting GLM-HMM ========\n"
     ]
    },
    {
     "data": {
      "application/vnd.jupyter.widget-view+json": {
       "model_id": "df22f1f684b54927955f2f773c6424e4",
       "version_major": 2,
       "version_minor": 0
      },
      "text/plain": [
       "  0%|          | 0/300 [00:00<?, ?it/s]"
      ]
     },
     "metadata": {},
     "output_type": "display_data"
    },
    {
     "name": "stdout",
     "output_type": "stream",
     "text": [
      "Starting inference with K = 2; Fold = 1; Iter = 5\n",
      "=== fitting GLM-HMM ========\n"
     ]
    },
    {
     "data": {
      "application/vnd.jupyter.widget-view+json": {
       "model_id": "989ec7933fca495cb8e54ba46fb12b1e",
       "version_major": 2,
       "version_minor": 0
      },
      "text/plain": [
       "  0%|          | 0/300 [00:00<?, ?it/s]"
      ]
     },
     "metadata": {},
     "output_type": "display_data"
    },
    {
     "name": "stdout",
     "output_type": "stream",
     "text": [
      "Starting inference with K = 2; Fold = 1; Iter = 6\n",
      "=== fitting GLM-HMM ========\n"
     ]
    },
    {
     "data": {
      "application/vnd.jupyter.widget-view+json": {
       "model_id": "4927622e795841609259cc2e63c384d3",
       "version_major": 2,
       "version_minor": 0
      },
      "text/plain": [
       "  0%|          | 0/300 [00:00<?, ?it/s]"
      ]
     },
     "metadata": {},
     "output_type": "display_data"
    },
    {
     "name": "stdout",
     "output_type": "stream",
     "text": [
      "Starting inference with K = 2; Fold = 1; Iter = 7\n",
      "=== fitting GLM-HMM ========\n"
     ]
    },
    {
     "data": {
      "application/vnd.jupyter.widget-view+json": {
       "model_id": "67258247753f4da6917ff6876bee16df",
       "version_major": 2,
       "version_minor": 0
      },
      "text/plain": [
       "  0%|          | 0/300 [00:00<?, ?it/s]"
      ]
     },
     "metadata": {},
     "output_type": "display_data"
    },
    {
     "name": "stdout",
     "output_type": "stream",
     "text": [
      "Starting inference with K = 2; Fold = 1; Iter = 8\n",
      "=== fitting GLM-HMM ========\n"
     ]
    },
    {
     "data": {
      "application/vnd.jupyter.widget-view+json": {
       "model_id": "2f140ce3794943cd9973375524a47256",
       "version_major": 2,
       "version_minor": 0
      },
      "text/plain": [
       "  0%|          | 0/300 [00:00<?, ?it/s]"
      ]
     },
     "metadata": {},
     "output_type": "display_data"
    },
    {
     "name": "stdout",
     "output_type": "stream",
     "text": [
      "Starting inference with K = 2; Fold = 1; Iter = 9\n",
      "=== fitting GLM-HMM ========\n"
     ]
    },
    {
     "data": {
      "application/vnd.jupyter.widget-view+json": {
       "model_id": "6d00fc3658b74361b6b0c31b01bfff2f",
       "version_major": 2,
       "version_minor": 0
      },
      "text/plain": [
       "  0%|          | 0/300 [00:00<?, ?it/s]"
      ]
     },
     "metadata": {},
     "output_type": "display_data"
    },
    {
     "name": "stdout",
     "output_type": "stream",
     "text": [
      "Starting inference with K = 2; Fold = 1; Iter = 10\n",
      "=== fitting GLM-HMM ========\n"
     ]
    },
    {
     "data": {
      "application/vnd.jupyter.widget-view+json": {
       "model_id": "c732b78160fd4dd7b41873af3e91eb6f",
       "version_major": 2,
       "version_minor": 0
      },
      "text/plain": [
       "  0%|          | 0/300 [00:00<?, ?it/s]"
      ]
     },
     "metadata": {},
     "output_type": "display_data"
    },
    {
     "name": "stdout",
     "output_type": "stream",
     "text": [
      "Starting inference with K = 2; Fold = 1; Iter = 11\n",
      "=== fitting GLM-HMM ========\n"
     ]
    },
    {
     "data": {
      "application/vnd.jupyter.widget-view+json": {
       "model_id": "7a1bcd97008d4dad8b6f7e689b1aec90",
       "version_major": 2,
       "version_minor": 0
      },
      "text/plain": [
       "  0%|          | 0/300 [00:00<?, ?it/s]"
      ]
     },
     "metadata": {},
     "output_type": "display_data"
    },
    {
     "name": "stdout",
     "output_type": "stream",
     "text": [
      "Starting inference with K = 2; Fold = 1; Iter = 12\n",
      "=== fitting GLM-HMM ========\n"
     ]
    },
    {
     "data": {
      "application/vnd.jupyter.widget-view+json": {
       "model_id": "3c3f93e141f94202a20af177d4ea0ae7",
       "version_major": 2,
       "version_minor": 0
      },
      "text/plain": [
       "  0%|          | 0/300 [00:00<?, ?it/s]"
      ]
     },
     "metadata": {},
     "output_type": "display_data"
    },
    {
     "name": "stdout",
     "output_type": "stream",
     "text": [
      "Starting inference with K = 2; Fold = 1; Iter = 13\n",
      "=== fitting GLM-HMM ========\n"
     ]
    },
    {
     "data": {
      "application/vnd.jupyter.widget-view+json": {
       "model_id": "0e01cd30f3224cf3ad14f8d35f1d006f",
       "version_major": 2,
       "version_minor": 0
      },
      "text/plain": [
       "  0%|          | 0/300 [00:00<?, ?it/s]"
      ]
     },
     "metadata": {},
     "output_type": "display_data"
    },
    {
     "name": "stdout",
     "output_type": "stream",
     "text": [
      "Starting inference with K = 2; Fold = 1; Iter = 14\n",
      "=== fitting GLM-HMM ========\n"
     ]
    },
    {
     "data": {
      "application/vnd.jupyter.widget-view+json": {
       "model_id": "fbc7351f81af45ef880e5a76331d60fc",
       "version_major": 2,
       "version_minor": 0
      },
      "text/plain": [
       "  0%|          | 0/300 [00:00<?, ?it/s]"
      ]
     },
     "metadata": {},
     "output_type": "display_data"
    },
    {
     "name": "stdout",
     "output_type": "stream",
     "text": [
      "Starting inference with K = 2; Fold = 1; Iter = 15\n",
      "=== fitting GLM-HMM ========\n"
     ]
    },
    {
     "data": {
      "application/vnd.jupyter.widget-view+json": {
       "model_id": "e9b9b1af85804dd4b8f839d143106897",
       "version_major": 2,
       "version_minor": 0
      },
      "text/plain": [
       "  0%|          | 0/300 [00:00<?, ?it/s]"
      ]
     },
     "metadata": {},
     "output_type": "display_data"
    },
    {
     "name": "stdout",
     "output_type": "stream",
     "text": [
      "Starting inference with K = 2; Fold = 1; Iter = 16\n",
      "=== fitting GLM-HMM ========\n"
     ]
    },
    {
     "data": {
      "application/vnd.jupyter.widget-view+json": {
       "model_id": "abd36bd23aac4d55ad0308906432ee51",
       "version_major": 2,
       "version_minor": 0
      },
      "text/plain": [
       "  0%|          | 0/300 [00:00<?, ?it/s]"
      ]
     },
     "metadata": {},
     "output_type": "display_data"
    },
    {
     "name": "stdout",
     "output_type": "stream",
     "text": [
      "Starting inference with K = 2; Fold = 1; Iter = 17\n",
      "=== fitting GLM-HMM ========\n"
     ]
    },
    {
     "data": {
      "application/vnd.jupyter.widget-view+json": {
       "model_id": "06375632d0ca4e87a024096bc7b8105f",
       "version_major": 2,
       "version_minor": 0
      },
      "text/plain": [
       "  0%|          | 0/300 [00:00<?, ?it/s]"
      ]
     },
     "metadata": {},
     "output_type": "display_data"
    },
    {
     "name": "stdout",
     "output_type": "stream",
     "text": [
      "Starting inference with K = 2; Fold = 1; Iter = 18\n",
      "=== fitting GLM-HMM ========\n"
     ]
    },
    {
     "data": {
      "application/vnd.jupyter.widget-view+json": {
       "model_id": "1d00bb5dec3846f9b4f01570d7d37592",
       "version_major": 2,
       "version_minor": 0
      },
      "text/plain": [
       "  0%|          | 0/300 [00:00<?, ?it/s]"
      ]
     },
     "metadata": {},
     "output_type": "display_data"
    },
    {
     "name": "stdout",
     "output_type": "stream",
     "text": [
      "Starting inference with K = 2; Fold = 1; Iter = 19\n",
      "=== fitting GLM-HMM ========\n"
     ]
    },
    {
     "data": {
      "application/vnd.jupyter.widget-view+json": {
       "model_id": "d9e44e3e2ce144e5bfbceb3f10dfb3c7",
       "version_major": 2,
       "version_minor": 0
      },
      "text/plain": [
       "  0%|          | 0/300 [00:00<?, ?it/s]"
      ]
     },
     "metadata": {},
     "output_type": "display_data"
    },
    {
     "name": "stdout",
     "output_type": "stream",
     "text": [
      "Starting inference with K = 2; Fold = 2; Iter = 0\n",
      "=== fitting GLM-HMM ========\n"
     ]
    },
    {
     "data": {
      "application/vnd.jupyter.widget-view+json": {
       "model_id": "4c9ed0f8ccf142649c81e79681d63c16",
       "version_major": 2,
       "version_minor": 0
      },
      "text/plain": [
       "  0%|          | 0/300 [00:00<?, ?it/s]"
      ]
     },
     "metadata": {},
     "output_type": "display_data"
    },
    {
     "name": "stdout",
     "output_type": "stream",
     "text": [
      "Starting inference with K = 2; Fold = 2; Iter = 1\n",
      "=== fitting GLM-HMM ========\n"
     ]
    },
    {
     "data": {
      "application/vnd.jupyter.widget-view+json": {
       "model_id": "7b04ac4f84da4bb7acdb16279bc7d674",
       "version_major": 2,
       "version_minor": 0
      },
      "text/plain": [
       "  0%|          | 0/300 [00:00<?, ?it/s]"
      ]
     },
     "metadata": {},
     "output_type": "display_data"
    },
    {
     "name": "stdout",
     "output_type": "stream",
     "text": [
      "Starting inference with K = 2; Fold = 2; Iter = 2\n",
      "=== fitting GLM-HMM ========\n"
     ]
    },
    {
     "data": {
      "application/vnd.jupyter.widget-view+json": {
       "model_id": "39e58380a84144c083b2da6bec2878b9",
       "version_major": 2,
       "version_minor": 0
      },
      "text/plain": [
       "  0%|          | 0/300 [00:00<?, ?it/s]"
      ]
     },
     "metadata": {},
     "output_type": "display_data"
    },
    {
     "name": "stdout",
     "output_type": "stream",
     "text": [
      "Starting inference with K = 2; Fold = 2; Iter = 3\n",
      "=== fitting GLM-HMM ========\n"
     ]
    },
    {
     "data": {
      "application/vnd.jupyter.widget-view+json": {
       "model_id": "243eaa96eb6d4a4c9375ea67f0cc0800",
       "version_major": 2,
       "version_minor": 0
      },
      "text/plain": [
       "  0%|          | 0/300 [00:00<?, ?it/s]"
      ]
     },
     "metadata": {},
     "output_type": "display_data"
    },
    {
     "name": "stdout",
     "output_type": "stream",
     "text": [
      "Starting inference with K = 2; Fold = 2; Iter = 4\n",
      "=== fitting GLM-HMM ========\n"
     ]
    },
    {
     "data": {
      "application/vnd.jupyter.widget-view+json": {
       "model_id": "035ab99c061647d9a30985072b0efe84",
       "version_major": 2,
       "version_minor": 0
      },
      "text/plain": [
       "  0%|          | 0/300 [00:00<?, ?it/s]"
      ]
     },
     "metadata": {},
     "output_type": "display_data"
    },
    {
     "name": "stdout",
     "output_type": "stream",
     "text": [
      "Starting inference with K = 2; Fold = 2; Iter = 5\n",
      "=== fitting GLM-HMM ========\n"
     ]
    },
    {
     "data": {
      "application/vnd.jupyter.widget-view+json": {
       "model_id": "ba704af0ab4745efaa40861da03fba9b",
       "version_major": 2,
       "version_minor": 0
      },
      "text/plain": [
       "  0%|          | 0/300 [00:00<?, ?it/s]"
      ]
     },
     "metadata": {},
     "output_type": "display_data"
    },
    {
     "name": "stdout",
     "output_type": "stream",
     "text": [
      "Starting inference with K = 2; Fold = 2; Iter = 6\n",
      "=== fitting GLM-HMM ========\n"
     ]
    },
    {
     "data": {
      "application/vnd.jupyter.widget-view+json": {
       "model_id": "fd7708d20bc349b38f688f5e7d254a73",
       "version_major": 2,
       "version_minor": 0
      },
      "text/plain": [
       "  0%|          | 0/300 [00:00<?, ?it/s]"
      ]
     },
     "metadata": {},
     "output_type": "display_data"
    },
    {
     "name": "stdout",
     "output_type": "stream",
     "text": [
      "Starting inference with K = 2; Fold = 2; Iter = 7\n",
      "=== fitting GLM-HMM ========\n"
     ]
    },
    {
     "data": {
      "application/vnd.jupyter.widget-view+json": {
       "model_id": "37e4a102ae104f659a56313b088434fd",
       "version_major": 2,
       "version_minor": 0
      },
      "text/plain": [
       "  0%|          | 0/300 [00:00<?, ?it/s]"
      ]
     },
     "metadata": {},
     "output_type": "display_data"
    },
    {
     "name": "stdout",
     "output_type": "stream",
     "text": [
      "Starting inference with K = 2; Fold = 2; Iter = 8\n",
      "=== fitting GLM-HMM ========\n"
     ]
    },
    {
     "data": {
      "application/vnd.jupyter.widget-view+json": {
       "model_id": "7ba52d03737848349b8d920fb6866cc5",
       "version_major": 2,
       "version_minor": 0
      },
      "text/plain": [
       "  0%|          | 0/300 [00:00<?, ?it/s]"
      ]
     },
     "metadata": {},
     "output_type": "display_data"
    },
    {
     "name": "stdout",
     "output_type": "stream",
     "text": [
      "Starting inference with K = 2; Fold = 2; Iter = 9\n",
      "=== fitting GLM-HMM ========\n"
     ]
    },
    {
     "data": {
      "application/vnd.jupyter.widget-view+json": {
       "model_id": "f8e7ac493fa948fa92f7b12399e1cf79",
       "version_major": 2,
       "version_minor": 0
      },
      "text/plain": [
       "  0%|          | 0/300 [00:00<?, ?it/s]"
      ]
     },
     "metadata": {},
     "output_type": "display_data"
    },
    {
     "name": "stdout",
     "output_type": "stream",
     "text": [
      "Starting inference with K = 2; Fold = 2; Iter = 10\n",
      "=== fitting GLM-HMM ========\n"
     ]
    },
    {
     "data": {
      "application/vnd.jupyter.widget-view+json": {
       "model_id": "9f8c2e1475424d30b7eb7e2077e85493",
       "version_major": 2,
       "version_minor": 0
      },
      "text/plain": [
       "  0%|          | 0/300 [00:00<?, ?it/s]"
      ]
     },
     "metadata": {},
     "output_type": "display_data"
    },
    {
     "name": "stdout",
     "output_type": "stream",
     "text": [
      "Starting inference with K = 2; Fold = 2; Iter = 11\n",
      "=== fitting GLM-HMM ========\n"
     ]
    },
    {
     "data": {
      "application/vnd.jupyter.widget-view+json": {
       "model_id": "4a4158157cbd43c2ab838d863fbfdf10",
       "version_major": 2,
       "version_minor": 0
      },
      "text/plain": [
       "  0%|          | 0/300 [00:00<?, ?it/s]"
      ]
     },
     "metadata": {},
     "output_type": "display_data"
    },
    {
     "name": "stdout",
     "output_type": "stream",
     "text": [
      "Starting inference with K = 2; Fold = 2; Iter = 12\n",
      "=== fitting GLM-HMM ========\n"
     ]
    },
    {
     "data": {
      "application/vnd.jupyter.widget-view+json": {
       "model_id": "009e68dc471446d6978dadc28284827c",
       "version_major": 2,
       "version_minor": 0
      },
      "text/plain": [
       "  0%|          | 0/300 [00:00<?, ?it/s]"
      ]
     },
     "metadata": {},
     "output_type": "display_data"
    },
    {
     "name": "stdout",
     "output_type": "stream",
     "text": [
      "Starting inference with K = 2; Fold = 2; Iter = 13\n",
      "=== fitting GLM-HMM ========\n"
     ]
    },
    {
     "data": {
      "application/vnd.jupyter.widget-view+json": {
       "model_id": "47f9755439704076ba90115fe2307204",
       "version_major": 2,
       "version_minor": 0
      },
      "text/plain": [
       "  0%|          | 0/300 [00:00<?, ?it/s]"
      ]
     },
     "metadata": {},
     "output_type": "display_data"
    },
    {
     "name": "stdout",
     "output_type": "stream",
     "text": [
      "Starting inference with K = 2; Fold = 2; Iter = 14\n",
      "=== fitting GLM-HMM ========\n"
     ]
    },
    {
     "data": {
      "application/vnd.jupyter.widget-view+json": {
       "model_id": "63a550b866874bb5ae2a4b891d2acb7f",
       "version_major": 2,
       "version_minor": 0
      },
      "text/plain": [
       "  0%|          | 0/300 [00:00<?, ?it/s]"
      ]
     },
     "metadata": {},
     "output_type": "display_data"
    },
    {
     "name": "stdout",
     "output_type": "stream",
     "text": [
      "Starting inference with K = 2; Fold = 2; Iter = 15\n",
      "=== fitting GLM-HMM ========\n"
     ]
    },
    {
     "data": {
      "application/vnd.jupyter.widget-view+json": {
       "model_id": "1d31f97db5d64b1cbe24dddfee85249e",
       "version_major": 2,
       "version_minor": 0
      },
      "text/plain": [
       "  0%|          | 0/300 [00:00<?, ?it/s]"
      ]
     },
     "metadata": {},
     "output_type": "display_data"
    },
    {
     "name": "stdout",
     "output_type": "stream",
     "text": [
      "Starting inference with K = 2; Fold = 2; Iter = 16\n",
      "=== fitting GLM-HMM ========\n"
     ]
    },
    {
     "data": {
      "application/vnd.jupyter.widget-view+json": {
       "model_id": "72e44af3a3b744d78d2c6a3e5dab30cd",
       "version_major": 2,
       "version_minor": 0
      },
      "text/plain": [
       "  0%|          | 0/300 [00:00<?, ?it/s]"
      ]
     },
     "metadata": {},
     "output_type": "display_data"
    },
    {
     "name": "stdout",
     "output_type": "stream",
     "text": [
      "Starting inference with K = 2; Fold = 2; Iter = 17\n",
      "=== fitting GLM-HMM ========\n"
     ]
    },
    {
     "data": {
      "application/vnd.jupyter.widget-view+json": {
       "model_id": "96f169f41f884754be099bcf845d6b62",
       "version_major": 2,
       "version_minor": 0
      },
      "text/plain": [
       "  0%|          | 0/300 [00:00<?, ?it/s]"
      ]
     },
     "metadata": {},
     "output_type": "display_data"
    },
    {
     "name": "stdout",
     "output_type": "stream",
     "text": [
      "Starting inference with K = 2; Fold = 2; Iter = 18\n",
      "=== fitting GLM-HMM ========\n"
     ]
    },
    {
     "data": {
      "application/vnd.jupyter.widget-view+json": {
       "model_id": "66b0729a4da84928b30e0d5e21bf1b95",
       "version_major": 2,
       "version_minor": 0
      },
      "text/plain": [
       "  0%|          | 0/300 [00:00<?, ?it/s]"
      ]
     },
     "metadata": {},
     "output_type": "display_data"
    },
    {
     "name": "stdout",
     "output_type": "stream",
     "text": [
      "Starting inference with K = 2; Fold = 2; Iter = 19\n",
      "=== fitting GLM-HMM ========\n"
     ]
    },
    {
     "data": {
      "application/vnd.jupyter.widget-view+json": {
       "model_id": "b99cf5ac607c4ab78410e87fb5dc3604",
       "version_major": 2,
       "version_minor": 0
      },
      "text/plain": [
       "  0%|          | 0/300 [00:00<?, ?it/s]"
      ]
     },
     "metadata": {},
     "output_type": "display_data"
    },
    {
     "name": "stdout",
     "output_type": "stream",
     "text": [
      "Starting inference with K = 2; Fold = 3; Iter = 0\n",
      "=== fitting GLM-HMM ========\n"
     ]
    },
    {
     "data": {
      "application/vnd.jupyter.widget-view+json": {
       "model_id": "a1d69250aa5a4b75965e3b05f4556baf",
       "version_major": 2,
       "version_minor": 0
      },
      "text/plain": [
       "  0%|          | 0/300 [00:00<?, ?it/s]"
      ]
     },
     "metadata": {},
     "output_type": "display_data"
    },
    {
     "name": "stdout",
     "output_type": "stream",
     "text": [
      "Starting inference with K = 2; Fold = 3; Iter = 1\n",
      "=== fitting GLM-HMM ========\n"
     ]
    },
    {
     "data": {
      "application/vnd.jupyter.widget-view+json": {
       "model_id": "ffdd9455863b42138d67795d0ccf1e56",
       "version_major": 2,
       "version_minor": 0
      },
      "text/plain": [
       "  0%|          | 0/300 [00:00<?, ?it/s]"
      ]
     },
     "metadata": {},
     "output_type": "display_data"
    },
    {
     "name": "stdout",
     "output_type": "stream",
     "text": [
      "Starting inference with K = 2; Fold = 3; Iter = 2\n",
      "=== fitting GLM-HMM ========\n"
     ]
    },
    {
     "data": {
      "application/vnd.jupyter.widget-view+json": {
       "model_id": "f99249474120448cb196fe3f6a83adb3",
       "version_major": 2,
       "version_minor": 0
      },
      "text/plain": [
       "  0%|          | 0/300 [00:00<?, ?it/s]"
      ]
     },
     "metadata": {},
     "output_type": "display_data"
    },
    {
     "name": "stdout",
     "output_type": "stream",
     "text": [
      "Starting inference with K = 2; Fold = 3; Iter = 3\n",
      "=== fitting GLM-HMM ========\n"
     ]
    },
    {
     "data": {
      "application/vnd.jupyter.widget-view+json": {
       "model_id": "b8cbc162ddf643da81e3b19915f28e78",
       "version_major": 2,
       "version_minor": 0
      },
      "text/plain": [
       "  0%|          | 0/300 [00:00<?, ?it/s]"
      ]
     },
     "metadata": {},
     "output_type": "display_data"
    },
    {
     "name": "stdout",
     "output_type": "stream",
     "text": [
      "Starting inference with K = 2; Fold = 3; Iter = 4\n",
      "=== fitting GLM-HMM ========\n"
     ]
    },
    {
     "data": {
      "application/vnd.jupyter.widget-view+json": {
       "model_id": "be0ba707493a459391f34d964f6fce8a",
       "version_major": 2,
       "version_minor": 0
      },
      "text/plain": [
       "  0%|          | 0/300 [00:00<?, ?it/s]"
      ]
     },
     "metadata": {},
     "output_type": "display_data"
    },
    {
     "name": "stdout",
     "output_type": "stream",
     "text": [
      "Starting inference with K = 2; Fold = 3; Iter = 5\n",
      "=== fitting GLM-HMM ========\n"
     ]
    },
    {
     "data": {
      "application/vnd.jupyter.widget-view+json": {
       "model_id": "8621fbc4cb8d495583462482e8b8dda0",
       "version_major": 2,
       "version_minor": 0
      },
      "text/plain": [
       "  0%|          | 0/300 [00:00<?, ?it/s]"
      ]
     },
     "metadata": {},
     "output_type": "display_data"
    },
    {
     "name": "stdout",
     "output_type": "stream",
     "text": [
      "Starting inference with K = 2; Fold = 3; Iter = 6\n",
      "=== fitting GLM-HMM ========\n"
     ]
    },
    {
     "data": {
      "application/vnd.jupyter.widget-view+json": {
       "model_id": "2601e53670bd4ad894da49d147d8fb0a",
       "version_major": 2,
       "version_minor": 0
      },
      "text/plain": [
       "  0%|          | 0/300 [00:00<?, ?it/s]"
      ]
     },
     "metadata": {},
     "output_type": "display_data"
    },
    {
     "name": "stdout",
     "output_type": "stream",
     "text": [
      "Starting inference with K = 2; Fold = 3; Iter = 7\n",
      "=== fitting GLM-HMM ========\n"
     ]
    },
    {
     "data": {
      "application/vnd.jupyter.widget-view+json": {
       "model_id": "44aff8d9dc6440b8870222cc119121e4",
       "version_major": 2,
       "version_minor": 0
      },
      "text/plain": [
       "  0%|          | 0/300 [00:00<?, ?it/s]"
      ]
     },
     "metadata": {},
     "output_type": "display_data"
    },
    {
     "name": "stdout",
     "output_type": "stream",
     "text": [
      "Starting inference with K = 2; Fold = 3; Iter = 8\n",
      "=== fitting GLM-HMM ========\n"
     ]
    },
    {
     "data": {
      "application/vnd.jupyter.widget-view+json": {
       "model_id": "45731527db184828ac2633f73f768f7b",
       "version_major": 2,
       "version_minor": 0
      },
      "text/plain": [
       "  0%|          | 0/300 [00:00<?, ?it/s]"
      ]
     },
     "metadata": {},
     "output_type": "display_data"
    },
    {
     "name": "stdout",
     "output_type": "stream",
     "text": [
      "Starting inference with K = 2; Fold = 3; Iter = 9\n",
      "=== fitting GLM-HMM ========\n"
     ]
    },
    {
     "data": {
      "application/vnd.jupyter.widget-view+json": {
       "model_id": "8700bcf338764e3ba08964143afe7be6",
       "version_major": 2,
       "version_minor": 0
      },
      "text/plain": [
       "  0%|          | 0/300 [00:00<?, ?it/s]"
      ]
     },
     "metadata": {},
     "output_type": "display_data"
    },
    {
     "name": "stdout",
     "output_type": "stream",
     "text": [
      "Starting inference with K = 2; Fold = 3; Iter = 10\n",
      "=== fitting GLM-HMM ========\n"
     ]
    },
    {
     "data": {
      "application/vnd.jupyter.widget-view+json": {
       "model_id": "8265c23efd194ccdb57c22cb88fa1fb8",
       "version_major": 2,
       "version_minor": 0
      },
      "text/plain": [
       "  0%|          | 0/300 [00:00<?, ?it/s]"
      ]
     },
     "metadata": {},
     "output_type": "display_data"
    },
    {
     "name": "stdout",
     "output_type": "stream",
     "text": [
      "Starting inference with K = 2; Fold = 3; Iter = 11\n",
      "=== fitting GLM-HMM ========\n"
     ]
    },
    {
     "data": {
      "application/vnd.jupyter.widget-view+json": {
       "model_id": "25b3c2278d7f47a9ae1e2359737d9fe4",
       "version_major": 2,
       "version_minor": 0
      },
      "text/plain": [
       "  0%|          | 0/300 [00:00<?, ?it/s]"
      ]
     },
     "metadata": {},
     "output_type": "display_data"
    },
    {
     "name": "stdout",
     "output_type": "stream",
     "text": [
      "Starting inference with K = 2; Fold = 3; Iter = 12\n",
      "=== fitting GLM-HMM ========\n"
     ]
    },
    {
     "data": {
      "application/vnd.jupyter.widget-view+json": {
       "model_id": "a6968cd634c64870a141308878c9d8cb",
       "version_major": 2,
       "version_minor": 0
      },
      "text/plain": [
       "  0%|          | 0/300 [00:00<?, ?it/s]"
      ]
     },
     "metadata": {},
     "output_type": "display_data"
    },
    {
     "name": "stdout",
     "output_type": "stream",
     "text": [
      "Starting inference with K = 2; Fold = 3; Iter = 13\n",
      "=== fitting GLM-HMM ========\n"
     ]
    },
    {
     "data": {
      "application/vnd.jupyter.widget-view+json": {
       "model_id": "243c82463ec2428399d4120a006542ab",
       "version_major": 2,
       "version_minor": 0
      },
      "text/plain": [
       "  0%|          | 0/300 [00:00<?, ?it/s]"
      ]
     },
     "metadata": {},
     "output_type": "display_data"
    },
    {
     "name": "stdout",
     "output_type": "stream",
     "text": [
      "Starting inference with K = 2; Fold = 3; Iter = 14\n",
      "=== fitting GLM-HMM ========\n"
     ]
    },
    {
     "data": {
      "application/vnd.jupyter.widget-view+json": {
       "model_id": "55c80c5a501a414f9ae6a606a5853d40",
       "version_major": 2,
       "version_minor": 0
      },
      "text/plain": [
       "  0%|          | 0/300 [00:00<?, ?it/s]"
      ]
     },
     "metadata": {},
     "output_type": "display_data"
    },
    {
     "name": "stdout",
     "output_type": "stream",
     "text": [
      "Starting inference with K = 2; Fold = 3; Iter = 15\n",
      "=== fitting GLM-HMM ========\n"
     ]
    },
    {
     "data": {
      "application/vnd.jupyter.widget-view+json": {
       "model_id": "7e11ed8cbe2e4ed2a684e4470e8b1685",
       "version_major": 2,
       "version_minor": 0
      },
      "text/plain": [
       "  0%|          | 0/300 [00:00<?, ?it/s]"
      ]
     },
     "metadata": {},
     "output_type": "display_data"
    },
    {
     "name": "stdout",
     "output_type": "stream",
     "text": [
      "Starting inference with K = 2; Fold = 3; Iter = 16\n",
      "=== fitting GLM-HMM ========\n"
     ]
    },
    {
     "data": {
      "application/vnd.jupyter.widget-view+json": {
       "model_id": "8857492e8e3f42a289dffcd77418d6e3",
       "version_major": 2,
       "version_minor": 0
      },
      "text/plain": [
       "  0%|          | 0/300 [00:00<?, ?it/s]"
      ]
     },
     "metadata": {},
     "output_type": "display_data"
    },
    {
     "name": "stdout",
     "output_type": "stream",
     "text": [
      "Starting inference with K = 2; Fold = 3; Iter = 17\n",
      "=== fitting GLM-HMM ========\n"
     ]
    },
    {
     "data": {
      "application/vnd.jupyter.widget-view+json": {
       "model_id": "ae294371a12c431698184dc64eec1f35",
       "version_major": 2,
       "version_minor": 0
      },
      "text/plain": [
       "  0%|          | 0/300 [00:00<?, ?it/s]"
      ]
     },
     "metadata": {},
     "output_type": "display_data"
    },
    {
     "name": "stdout",
     "output_type": "stream",
     "text": [
      "Starting inference with K = 2; Fold = 3; Iter = 18\n",
      "=== fitting GLM-HMM ========\n"
     ]
    },
    {
     "data": {
      "application/vnd.jupyter.widget-view+json": {
       "model_id": "00088257f5e141689edac48ef38ca50e",
       "version_major": 2,
       "version_minor": 0
      },
      "text/plain": [
       "  0%|          | 0/300 [00:00<?, ?it/s]"
      ]
     },
     "metadata": {},
     "output_type": "display_data"
    },
    {
     "name": "stdout",
     "output_type": "stream",
     "text": [
      "Starting inference with K = 2; Fold = 3; Iter = 19\n",
      "=== fitting GLM-HMM ========\n"
     ]
    },
    {
     "data": {
      "application/vnd.jupyter.widget-view+json": {
       "model_id": "e19f09d8dfd24234b209421fb0161e82",
       "version_major": 2,
       "version_minor": 0
      },
      "text/plain": [
       "  0%|          | 0/300 [00:00<?, ?it/s]"
      ]
     },
     "metadata": {},
     "output_type": "display_data"
    },
    {
     "name": "stdout",
     "output_type": "stream",
     "text": [
      "Starting inference with K = 2; Fold = 4; Iter = 0\n",
      "=== fitting GLM-HMM ========\n"
     ]
    },
    {
     "data": {
      "application/vnd.jupyter.widget-view+json": {
       "model_id": "94efb950585849a6b53f570e4be75546",
       "version_major": 2,
       "version_minor": 0
      },
      "text/plain": [
       "  0%|          | 0/300 [00:00<?, ?it/s]"
      ]
     },
     "metadata": {},
     "output_type": "display_data"
    },
    {
     "name": "stdout",
     "output_type": "stream",
     "text": [
      "Starting inference with K = 2; Fold = 4; Iter = 1\n",
      "=== fitting GLM-HMM ========\n"
     ]
    },
    {
     "data": {
      "application/vnd.jupyter.widget-view+json": {
       "model_id": "b992e6ad28ec410da1245127f3871eb0",
       "version_major": 2,
       "version_minor": 0
      },
      "text/plain": [
       "  0%|          | 0/300 [00:00<?, ?it/s]"
      ]
     },
     "metadata": {},
     "output_type": "display_data"
    },
    {
     "name": "stdout",
     "output_type": "stream",
     "text": [
      "Starting inference with K = 2; Fold = 4; Iter = 2\n",
      "=== fitting GLM-HMM ========\n"
     ]
    },
    {
     "data": {
      "application/vnd.jupyter.widget-view+json": {
       "model_id": "27abba96188f432daf448075a62874af",
       "version_major": 2,
       "version_minor": 0
      },
      "text/plain": [
       "  0%|          | 0/300 [00:00<?, ?it/s]"
      ]
     },
     "metadata": {},
     "output_type": "display_data"
    },
    {
     "name": "stdout",
     "output_type": "stream",
     "text": [
      "Starting inference with K = 2; Fold = 4; Iter = 3\n",
      "=== fitting GLM-HMM ========\n"
     ]
    },
    {
     "data": {
      "application/vnd.jupyter.widget-view+json": {
       "model_id": "8bdfeacf7e9a47f79be6654c967b0b46",
       "version_major": 2,
       "version_minor": 0
      },
      "text/plain": [
       "  0%|          | 0/300 [00:00<?, ?it/s]"
      ]
     },
     "metadata": {},
     "output_type": "display_data"
    },
    {
     "name": "stdout",
     "output_type": "stream",
     "text": [
      "Starting inference with K = 2; Fold = 4; Iter = 4\n",
      "=== fitting GLM-HMM ========\n"
     ]
    },
    {
     "data": {
      "application/vnd.jupyter.widget-view+json": {
       "model_id": "115968675f7240349c61a21a8be090b1",
       "version_major": 2,
       "version_minor": 0
      },
      "text/plain": [
       "  0%|          | 0/300 [00:00<?, ?it/s]"
      ]
     },
     "metadata": {},
     "output_type": "display_data"
    },
    {
     "name": "stdout",
     "output_type": "stream",
     "text": [
      "Starting inference with K = 2; Fold = 4; Iter = 5\n",
      "=== fitting GLM-HMM ========\n"
     ]
    },
    {
     "data": {
      "application/vnd.jupyter.widget-view+json": {
       "model_id": "25a9b8978f224acb8df23fedae0f73a3",
       "version_major": 2,
       "version_minor": 0
      },
      "text/plain": [
       "  0%|          | 0/300 [00:00<?, ?it/s]"
      ]
     },
     "metadata": {},
     "output_type": "display_data"
    },
    {
     "name": "stdout",
     "output_type": "stream",
     "text": [
      "Starting inference with K = 2; Fold = 4; Iter = 6\n",
      "=== fitting GLM-HMM ========\n"
     ]
    },
    {
     "data": {
      "application/vnd.jupyter.widget-view+json": {
       "model_id": "1cf448866dbe49da86d06807ccf793aa",
       "version_major": 2,
       "version_minor": 0
      },
      "text/plain": [
       "  0%|          | 0/300 [00:00<?, ?it/s]"
      ]
     },
     "metadata": {},
     "output_type": "display_data"
    },
    {
     "name": "stdout",
     "output_type": "stream",
     "text": [
      "Starting inference with K = 2; Fold = 4; Iter = 7\n",
      "=== fitting GLM-HMM ========\n"
     ]
    },
    {
     "data": {
      "application/vnd.jupyter.widget-view+json": {
       "model_id": "73393d9146bb440985462de9c638be09",
       "version_major": 2,
       "version_minor": 0
      },
      "text/plain": [
       "  0%|          | 0/300 [00:00<?, ?it/s]"
      ]
     },
     "metadata": {},
     "output_type": "display_data"
    },
    {
     "name": "stdout",
     "output_type": "stream",
     "text": [
      "Starting inference with K = 2; Fold = 4; Iter = 8\n",
      "=== fitting GLM-HMM ========\n"
     ]
    },
    {
     "data": {
      "application/vnd.jupyter.widget-view+json": {
       "model_id": "d0cc2ee5e1b44146a34c0ffcd195ec78",
       "version_major": 2,
       "version_minor": 0
      },
      "text/plain": [
       "  0%|          | 0/300 [00:00<?, ?it/s]"
      ]
     },
     "metadata": {},
     "output_type": "display_data"
    },
    {
     "name": "stdout",
     "output_type": "stream",
     "text": [
      "Starting inference with K = 2; Fold = 4; Iter = 9\n",
      "=== fitting GLM-HMM ========\n"
     ]
    },
    {
     "data": {
      "application/vnd.jupyter.widget-view+json": {
       "model_id": "f02bbd73cfca47b8bdcf33bcbead1446",
       "version_major": 2,
       "version_minor": 0
      },
      "text/plain": [
       "  0%|          | 0/300 [00:00<?, ?it/s]"
      ]
     },
     "metadata": {},
     "output_type": "display_data"
    },
    {
     "name": "stdout",
     "output_type": "stream",
     "text": [
      "Starting inference with K = 2; Fold = 4; Iter = 10\n",
      "=== fitting GLM-HMM ========\n"
     ]
    },
    {
     "data": {
      "application/vnd.jupyter.widget-view+json": {
       "model_id": "2a054293bcfb440dadb9e5648bac4373",
       "version_major": 2,
       "version_minor": 0
      },
      "text/plain": [
       "  0%|          | 0/300 [00:00<?, ?it/s]"
      ]
     },
     "metadata": {},
     "output_type": "display_data"
    },
    {
     "name": "stdout",
     "output_type": "stream",
     "text": [
      "Starting inference with K = 2; Fold = 4; Iter = 11\n",
      "=== fitting GLM-HMM ========\n"
     ]
    },
    {
     "data": {
      "application/vnd.jupyter.widget-view+json": {
       "model_id": "dd9fde6290fd4a0daa1e898602162c81",
       "version_major": 2,
       "version_minor": 0
      },
      "text/plain": [
       "  0%|          | 0/300 [00:00<?, ?it/s]"
      ]
     },
     "metadata": {},
     "output_type": "display_data"
    },
    {
     "name": "stdout",
     "output_type": "stream",
     "text": [
      "Starting inference with K = 2; Fold = 4; Iter = 12\n",
      "=== fitting GLM-HMM ========\n"
     ]
    },
    {
     "data": {
      "application/vnd.jupyter.widget-view+json": {
       "model_id": "1b313196c6cb4c298f4f048f9973d3fb",
       "version_major": 2,
       "version_minor": 0
      },
      "text/plain": [
       "  0%|          | 0/300 [00:00<?, ?it/s]"
      ]
     },
     "metadata": {},
     "output_type": "display_data"
    },
    {
     "name": "stdout",
     "output_type": "stream",
     "text": [
      "Starting inference with K = 2; Fold = 4; Iter = 13\n",
      "=== fitting GLM-HMM ========\n"
     ]
    },
    {
     "data": {
      "application/vnd.jupyter.widget-view+json": {
       "model_id": "061a68a74df84c2ab73242487b80c890",
       "version_major": 2,
       "version_minor": 0
      },
      "text/plain": [
       "  0%|          | 0/300 [00:00<?, ?it/s]"
      ]
     },
     "metadata": {},
     "output_type": "display_data"
    },
    {
     "name": "stdout",
     "output_type": "stream",
     "text": [
      "Starting inference with K = 2; Fold = 4; Iter = 14\n",
      "=== fitting GLM-HMM ========\n"
     ]
    },
    {
     "data": {
      "application/vnd.jupyter.widget-view+json": {
       "model_id": "c4458ccc735240168e6d0bf6634374ac",
       "version_major": 2,
       "version_minor": 0
      },
      "text/plain": [
       "  0%|          | 0/300 [00:00<?, ?it/s]"
      ]
     },
     "metadata": {},
     "output_type": "display_data"
    },
    {
     "name": "stdout",
     "output_type": "stream",
     "text": [
      "Starting inference with K = 2; Fold = 4; Iter = 15\n",
      "=== fitting GLM-HMM ========\n"
     ]
    },
    {
     "data": {
      "application/vnd.jupyter.widget-view+json": {
       "model_id": "fcfa64d07a864a8e9475a8e6396656c2",
       "version_major": 2,
       "version_minor": 0
      },
      "text/plain": [
       "  0%|          | 0/300 [00:00<?, ?it/s]"
      ]
     },
     "metadata": {},
     "output_type": "display_data"
    },
    {
     "name": "stdout",
     "output_type": "stream",
     "text": [
      "Starting inference with K = 2; Fold = 4; Iter = 16\n",
      "=== fitting GLM-HMM ========\n"
     ]
    },
    {
     "data": {
      "application/vnd.jupyter.widget-view+json": {
       "model_id": "9a3f9ee914794167b01053eadabef7c6",
       "version_major": 2,
       "version_minor": 0
      },
      "text/plain": [
       "  0%|          | 0/300 [00:00<?, ?it/s]"
      ]
     },
     "metadata": {},
     "output_type": "display_data"
    },
    {
     "name": "stdout",
     "output_type": "stream",
     "text": [
      "Starting inference with K = 2; Fold = 4; Iter = 17\n",
      "=== fitting GLM-HMM ========\n"
     ]
    },
    {
     "data": {
      "application/vnd.jupyter.widget-view+json": {
       "model_id": "24acdb854d9d4d6e8078bc5c696c620e",
       "version_major": 2,
       "version_minor": 0
      },
      "text/plain": [
       "  0%|          | 0/300 [00:00<?, ?it/s]"
      ]
     },
     "metadata": {},
     "output_type": "display_data"
    },
    {
     "name": "stdout",
     "output_type": "stream",
     "text": [
      "Starting inference with K = 2; Fold = 4; Iter = 18\n",
      "=== fitting GLM-HMM ========\n"
     ]
    },
    {
     "data": {
      "application/vnd.jupyter.widget-view+json": {
       "model_id": "d8b47fd192984082bf8f78fd075effb1",
       "version_major": 2,
       "version_minor": 0
      },
      "text/plain": [
       "  0%|          | 0/300 [00:00<?, ?it/s]"
      ]
     },
     "metadata": {},
     "output_type": "display_data"
    },
    {
     "name": "stdout",
     "output_type": "stream",
     "text": [
      "Starting inference with K = 2; Fold = 4; Iter = 19\n",
      "=== fitting GLM-HMM ========\n"
     ]
    },
    {
     "data": {
      "application/vnd.jupyter.widget-view+json": {
       "model_id": "160045db46674e5fb1fa11999cee1e29",
       "version_major": 2,
       "version_minor": 0
      },
      "text/plain": [
       "  0%|          | 0/300 [00:00<?, ?it/s]"
      ]
     },
     "metadata": {},
     "output_type": "display_data"
    },
    {
     "name": "stdout",
     "output_type": "stream",
     "text": [
      "Starting inference with K = 3; Fold = 0; Iter = 0\n",
      "=== fitting GLM-HMM ========\n"
     ]
    },
    {
     "data": {
      "application/vnd.jupyter.widget-view+json": {
       "model_id": "b0579864b0664237b2b0fffb29ca9153",
       "version_major": 2,
       "version_minor": 0
      },
      "text/plain": [
       "  0%|          | 0/300 [00:00<?, ?it/s]"
      ]
     },
     "metadata": {},
     "output_type": "display_data"
    },
    {
     "name": "stdout",
     "output_type": "stream",
     "text": [
      "Starting inference with K = 3; Fold = 0; Iter = 1\n",
      "=== fitting GLM-HMM ========\n"
     ]
    },
    {
     "data": {
      "application/vnd.jupyter.widget-view+json": {
       "model_id": "537957b1d2d54bb390fc1598bed0cdbf",
       "version_major": 2,
       "version_minor": 0
      },
      "text/plain": [
       "  0%|          | 0/300 [00:00<?, ?it/s]"
      ]
     },
     "metadata": {},
     "output_type": "display_data"
    },
    {
     "name": "stdout",
     "output_type": "stream",
     "text": [
      "Starting inference with K = 3; Fold = 0; Iter = 2\n",
      "=== fitting GLM-HMM ========\n"
     ]
    },
    {
     "data": {
      "application/vnd.jupyter.widget-view+json": {
       "model_id": "c897edce11ed4c29a817f4b0b46d2026",
       "version_major": 2,
       "version_minor": 0
      },
      "text/plain": [
       "  0%|          | 0/300 [00:00<?, ?it/s]"
      ]
     },
     "metadata": {},
     "output_type": "display_data"
    },
    {
     "name": "stdout",
     "output_type": "stream",
     "text": [
      "Starting inference with K = 3; Fold = 0; Iter = 3\n",
      "=== fitting GLM-HMM ========\n"
     ]
    },
    {
     "data": {
      "application/vnd.jupyter.widget-view+json": {
       "model_id": "aeb81a2c042f4849a8653a32ae6cd7b0",
       "version_major": 2,
       "version_minor": 0
      },
      "text/plain": [
       "  0%|          | 0/300 [00:00<?, ?it/s]"
      ]
     },
     "metadata": {},
     "output_type": "display_data"
    },
    {
     "name": "stdout",
     "output_type": "stream",
     "text": [
      "Starting inference with K = 3; Fold = 0; Iter = 4\n",
      "=== fitting GLM-HMM ========\n"
     ]
    },
    {
     "data": {
      "application/vnd.jupyter.widget-view+json": {
       "model_id": "333b5b275fac4af19f7873955ea76c73",
       "version_major": 2,
       "version_minor": 0
      },
      "text/plain": [
       "  0%|          | 0/300 [00:00<?, ?it/s]"
      ]
     },
     "metadata": {},
     "output_type": "display_data"
    },
    {
     "name": "stdout",
     "output_type": "stream",
     "text": [
      "Starting inference with K = 3; Fold = 0; Iter = 5\n",
      "=== fitting GLM-HMM ========\n"
     ]
    },
    {
     "data": {
      "application/vnd.jupyter.widget-view+json": {
       "model_id": "ff78a6b30549460a92482119003179ea",
       "version_major": 2,
       "version_minor": 0
      },
      "text/plain": [
       "  0%|          | 0/300 [00:00<?, ?it/s]"
      ]
     },
     "metadata": {},
     "output_type": "display_data"
    },
    {
     "name": "stdout",
     "output_type": "stream",
     "text": [
      "Starting inference with K = 3; Fold = 0; Iter = 6\n",
      "=== fitting GLM-HMM ========\n"
     ]
    },
    {
     "data": {
      "application/vnd.jupyter.widget-view+json": {
       "model_id": "d2d246a65d154a3489031fa880fa8d4e",
       "version_major": 2,
       "version_minor": 0
      },
      "text/plain": [
       "  0%|          | 0/300 [00:00<?, ?it/s]"
      ]
     },
     "metadata": {},
     "output_type": "display_data"
    },
    {
     "name": "stdout",
     "output_type": "stream",
     "text": [
      "Starting inference with K = 3; Fold = 0; Iter = 7\n",
      "=== fitting GLM-HMM ========\n"
     ]
    },
    {
     "data": {
      "application/vnd.jupyter.widget-view+json": {
       "model_id": "a12f5331ceda4911ac6c275a026c6234",
       "version_major": 2,
       "version_minor": 0
      },
      "text/plain": [
       "  0%|          | 0/300 [00:00<?, ?it/s]"
      ]
     },
     "metadata": {},
     "output_type": "display_data"
    },
    {
     "name": "stdout",
     "output_type": "stream",
     "text": [
      "Starting inference with K = 3; Fold = 0; Iter = 8\n",
      "=== fitting GLM-HMM ========\n"
     ]
    },
    {
     "data": {
      "application/vnd.jupyter.widget-view+json": {
       "model_id": "9f2f28053ae8430693562cf595d278bf",
       "version_major": 2,
       "version_minor": 0
      },
      "text/plain": [
       "  0%|          | 0/300 [00:00<?, ?it/s]"
      ]
     },
     "metadata": {},
     "output_type": "display_data"
    },
    {
     "name": "stdout",
     "output_type": "stream",
     "text": [
      "Starting inference with K = 3; Fold = 0; Iter = 9\n",
      "=== fitting GLM-HMM ========\n"
     ]
    },
    {
     "data": {
      "application/vnd.jupyter.widget-view+json": {
       "model_id": "0c61a2b07e5d4822b03d0afe38c08bfe",
       "version_major": 2,
       "version_minor": 0
      },
      "text/plain": [
       "  0%|          | 0/300 [00:00<?, ?it/s]"
      ]
     },
     "metadata": {},
     "output_type": "display_data"
    },
    {
     "name": "stdout",
     "output_type": "stream",
     "text": [
      "Starting inference with K = 3; Fold = 0; Iter = 10\n",
      "=== fitting GLM-HMM ========\n"
     ]
    },
    {
     "data": {
      "application/vnd.jupyter.widget-view+json": {
       "model_id": "e6fbfc15952643ccabaf2e36e1c8d176",
       "version_major": 2,
       "version_minor": 0
      },
      "text/plain": [
       "  0%|          | 0/300 [00:00<?, ?it/s]"
      ]
     },
     "metadata": {},
     "output_type": "display_data"
    },
    {
     "name": "stdout",
     "output_type": "stream",
     "text": [
      "Starting inference with K = 3; Fold = 0; Iter = 11\n",
      "=== fitting GLM-HMM ========\n"
     ]
    },
    {
     "data": {
      "application/vnd.jupyter.widget-view+json": {
       "model_id": "bf4ca2cbef854e5d962bd2d842bf4b1f",
       "version_major": 2,
       "version_minor": 0
      },
      "text/plain": [
       "  0%|          | 0/300 [00:00<?, ?it/s]"
      ]
     },
     "metadata": {},
     "output_type": "display_data"
    },
    {
     "name": "stdout",
     "output_type": "stream",
     "text": [
      "Starting inference with K = 3; Fold = 0; Iter = 12\n",
      "=== fitting GLM-HMM ========\n"
     ]
    },
    {
     "data": {
      "application/vnd.jupyter.widget-view+json": {
       "model_id": "e8db0300dda64be4bfb269c39e3e8eaf",
       "version_major": 2,
       "version_minor": 0
      },
      "text/plain": [
       "  0%|          | 0/300 [00:00<?, ?it/s]"
      ]
     },
     "metadata": {},
     "output_type": "display_data"
    },
    {
     "name": "stdout",
     "output_type": "stream",
     "text": [
      "Starting inference with K = 3; Fold = 0; Iter = 13\n",
      "=== fitting GLM-HMM ========\n"
     ]
    },
    {
     "data": {
      "application/vnd.jupyter.widget-view+json": {
       "model_id": "2b180f9e60bc4109b3ef4338c3dd89a2",
       "version_major": 2,
       "version_minor": 0
      },
      "text/plain": [
       "  0%|          | 0/300 [00:00<?, ?it/s]"
      ]
     },
     "metadata": {},
     "output_type": "display_data"
    },
    {
     "name": "stdout",
     "output_type": "stream",
     "text": [
      "Starting inference with K = 3; Fold = 0; Iter = 14\n",
      "=== fitting GLM-HMM ========\n"
     ]
    },
    {
     "data": {
      "application/vnd.jupyter.widget-view+json": {
       "model_id": "05eee494bbd646e581f1a91bc6003b18",
       "version_major": 2,
       "version_minor": 0
      },
      "text/plain": [
       "  0%|          | 0/300 [00:00<?, ?it/s]"
      ]
     },
     "metadata": {},
     "output_type": "display_data"
    },
    {
     "name": "stdout",
     "output_type": "stream",
     "text": [
      "Starting inference with K = 3; Fold = 0; Iter = 15\n",
      "=== fitting GLM-HMM ========\n"
     ]
    },
    {
     "data": {
      "application/vnd.jupyter.widget-view+json": {
       "model_id": "1a26da11f29a4765a9441d64e8be18db",
       "version_major": 2,
       "version_minor": 0
      },
      "text/plain": [
       "  0%|          | 0/300 [00:00<?, ?it/s]"
      ]
     },
     "metadata": {},
     "output_type": "display_data"
    },
    {
     "name": "stdout",
     "output_type": "stream",
     "text": [
      "Starting inference with K = 3; Fold = 0; Iter = 16\n",
      "=== fitting GLM-HMM ========\n"
     ]
    },
    {
     "data": {
      "application/vnd.jupyter.widget-view+json": {
       "model_id": "ba5b6eb01cf241afac64d0893d900e40",
       "version_major": 2,
       "version_minor": 0
      },
      "text/plain": [
       "  0%|          | 0/300 [00:00<?, ?it/s]"
      ]
     },
     "metadata": {},
     "output_type": "display_data"
    },
    {
     "name": "stdout",
     "output_type": "stream",
     "text": [
      "Starting inference with K = 3; Fold = 0; Iter = 17\n",
      "=== fitting GLM-HMM ========\n"
     ]
    },
    {
     "data": {
      "application/vnd.jupyter.widget-view+json": {
       "model_id": "7a09f115401446869f0c56a19aeaa8b9",
       "version_major": 2,
       "version_minor": 0
      },
      "text/plain": [
       "  0%|          | 0/300 [00:00<?, ?it/s]"
      ]
     },
     "metadata": {},
     "output_type": "display_data"
    },
    {
     "name": "stdout",
     "output_type": "stream",
     "text": [
      "Starting inference with K = 3; Fold = 0; Iter = 18\n",
      "=== fitting GLM-HMM ========\n"
     ]
    },
    {
     "data": {
      "application/vnd.jupyter.widget-view+json": {
       "model_id": "9e8aa35f8f514d2984d748b39c1940a0",
       "version_major": 2,
       "version_minor": 0
      },
      "text/plain": [
       "  0%|          | 0/300 [00:00<?, ?it/s]"
      ]
     },
     "metadata": {},
     "output_type": "display_data"
    },
    {
     "name": "stdout",
     "output_type": "stream",
     "text": [
      "Starting inference with K = 3; Fold = 0; Iter = 19\n",
      "=== fitting GLM-HMM ========\n"
     ]
    },
    {
     "data": {
      "application/vnd.jupyter.widget-view+json": {
       "model_id": "b99e273379574797b80da6941d97188e",
       "version_major": 2,
       "version_minor": 0
      },
      "text/plain": [
       "  0%|          | 0/300 [00:00<?, ?it/s]"
      ]
     },
     "metadata": {},
     "output_type": "display_data"
    },
    {
     "name": "stdout",
     "output_type": "stream",
     "text": [
      "Starting inference with K = 3; Fold = 1; Iter = 0\n",
      "=== fitting GLM-HMM ========\n"
     ]
    },
    {
     "data": {
      "application/vnd.jupyter.widget-view+json": {
       "model_id": "a4f619cafdc9412aaf2af56dcb07ed58",
       "version_major": 2,
       "version_minor": 0
      },
      "text/plain": [
       "  0%|          | 0/300 [00:00<?, ?it/s]"
      ]
     },
     "metadata": {},
     "output_type": "display_data"
    },
    {
     "name": "stdout",
     "output_type": "stream",
     "text": [
      "Starting inference with K = 3; Fold = 1; Iter = 1\n",
      "=== fitting GLM-HMM ========\n"
     ]
    },
    {
     "data": {
      "application/vnd.jupyter.widget-view+json": {
       "model_id": "29242ca6191540dc879788e741024726",
       "version_major": 2,
       "version_minor": 0
      },
      "text/plain": [
       "  0%|          | 0/300 [00:00<?, ?it/s]"
      ]
     },
     "metadata": {},
     "output_type": "display_data"
    },
    {
     "name": "stdout",
     "output_type": "stream",
     "text": [
      "Starting inference with K = 3; Fold = 1; Iter = 2\n",
      "=== fitting GLM-HMM ========\n"
     ]
    },
    {
     "data": {
      "application/vnd.jupyter.widget-view+json": {
       "model_id": "7dd70ad2c0da43acb70f54fe7b195b3e",
       "version_major": 2,
       "version_minor": 0
      },
      "text/plain": [
       "  0%|          | 0/300 [00:00<?, ?it/s]"
      ]
     },
     "metadata": {},
     "output_type": "display_data"
    },
    {
     "name": "stdout",
     "output_type": "stream",
     "text": [
      "Starting inference with K = 3; Fold = 1; Iter = 3\n",
      "=== fitting GLM-HMM ========\n"
     ]
    },
    {
     "data": {
      "application/vnd.jupyter.widget-view+json": {
       "model_id": "7ad4970eef4e4e1abd964a58194266e1",
       "version_major": 2,
       "version_minor": 0
      },
      "text/plain": [
       "  0%|          | 0/300 [00:00<?, ?it/s]"
      ]
     },
     "metadata": {},
     "output_type": "display_data"
    },
    {
     "name": "stdout",
     "output_type": "stream",
     "text": [
      "Starting inference with K = 3; Fold = 1; Iter = 4\n",
      "=== fitting GLM-HMM ========\n"
     ]
    },
    {
     "data": {
      "application/vnd.jupyter.widget-view+json": {
       "model_id": "62a49ee9d8524d2d86ee212c75beb348",
       "version_major": 2,
       "version_minor": 0
      },
      "text/plain": [
       "  0%|          | 0/300 [00:00<?, ?it/s]"
      ]
     },
     "metadata": {},
     "output_type": "display_data"
    },
    {
     "name": "stdout",
     "output_type": "stream",
     "text": [
      "Starting inference with K = 3; Fold = 1; Iter = 5\n",
      "=== fitting GLM-HMM ========\n"
     ]
    },
    {
     "data": {
      "application/vnd.jupyter.widget-view+json": {
       "model_id": "50181526807a4b3d95d331b2934b7dc7",
       "version_major": 2,
       "version_minor": 0
      },
      "text/plain": [
       "  0%|          | 0/300 [00:00<?, ?it/s]"
      ]
     },
     "metadata": {},
     "output_type": "display_data"
    },
    {
     "name": "stdout",
     "output_type": "stream",
     "text": [
      "Starting inference with K = 3; Fold = 1; Iter = 6\n",
      "=== fitting GLM-HMM ========\n"
     ]
    },
    {
     "data": {
      "application/vnd.jupyter.widget-view+json": {
       "model_id": "539b41e131a141bb9f0b69a87af127b7",
       "version_major": 2,
       "version_minor": 0
      },
      "text/plain": [
       "  0%|          | 0/300 [00:00<?, ?it/s]"
      ]
     },
     "metadata": {},
     "output_type": "display_data"
    },
    {
     "name": "stdout",
     "output_type": "stream",
     "text": [
      "Starting inference with K = 3; Fold = 1; Iter = 7\n",
      "=== fitting GLM-HMM ========\n"
     ]
    },
    {
     "data": {
      "application/vnd.jupyter.widget-view+json": {
       "model_id": "011f8888178446a3b0aa61f18c8f6a36",
       "version_major": 2,
       "version_minor": 0
      },
      "text/plain": [
       "  0%|          | 0/300 [00:00<?, ?it/s]"
      ]
     },
     "metadata": {},
     "output_type": "display_data"
    },
    {
     "name": "stdout",
     "output_type": "stream",
     "text": [
      "Starting inference with K = 3; Fold = 1; Iter = 8\n",
      "=== fitting GLM-HMM ========\n"
     ]
    },
    {
     "data": {
      "application/vnd.jupyter.widget-view+json": {
       "model_id": "f7e8528c69d942639ac5919cb8e62ab7",
       "version_major": 2,
       "version_minor": 0
      },
      "text/plain": [
       "  0%|          | 0/300 [00:00<?, ?it/s]"
      ]
     },
     "metadata": {},
     "output_type": "display_data"
    },
    {
     "name": "stdout",
     "output_type": "stream",
     "text": [
      "Starting inference with K = 3; Fold = 1; Iter = 9\n",
      "=== fitting GLM-HMM ========\n"
     ]
    },
    {
     "data": {
      "application/vnd.jupyter.widget-view+json": {
       "model_id": "004fb1b76398422088bffa7296d9f205",
       "version_major": 2,
       "version_minor": 0
      },
      "text/plain": [
       "  0%|          | 0/300 [00:00<?, ?it/s]"
      ]
     },
     "metadata": {},
     "output_type": "display_data"
    },
    {
     "name": "stdout",
     "output_type": "stream",
     "text": [
      "Starting inference with K = 3; Fold = 1; Iter = 10\n",
      "=== fitting GLM-HMM ========\n"
     ]
    },
    {
     "data": {
      "application/vnd.jupyter.widget-view+json": {
       "model_id": "d066fe81059a4519a103b7add74f9985",
       "version_major": 2,
       "version_minor": 0
      },
      "text/plain": [
       "  0%|          | 0/300 [00:00<?, ?it/s]"
      ]
     },
     "metadata": {},
     "output_type": "display_data"
    },
    {
     "name": "stdout",
     "output_type": "stream",
     "text": [
      "Starting inference with K = 3; Fold = 1; Iter = 11\n",
      "=== fitting GLM-HMM ========\n"
     ]
    },
    {
     "data": {
      "application/vnd.jupyter.widget-view+json": {
       "model_id": "9086eb0500314268a33efc55cd9de37d",
       "version_major": 2,
       "version_minor": 0
      },
      "text/plain": [
       "  0%|          | 0/300 [00:00<?, ?it/s]"
      ]
     },
     "metadata": {},
     "output_type": "display_data"
    },
    {
     "name": "stdout",
     "output_type": "stream",
     "text": [
      "Starting inference with K = 3; Fold = 1; Iter = 12\n",
      "=== fitting GLM-HMM ========\n"
     ]
    },
    {
     "data": {
      "application/vnd.jupyter.widget-view+json": {
       "model_id": "c7223d85432641d29ca9d49c0230f0cd",
       "version_major": 2,
       "version_minor": 0
      },
      "text/plain": [
       "  0%|          | 0/300 [00:00<?, ?it/s]"
      ]
     },
     "metadata": {},
     "output_type": "display_data"
    },
    {
     "name": "stdout",
     "output_type": "stream",
     "text": [
      "Starting inference with K = 3; Fold = 1; Iter = 13\n",
      "=== fitting GLM-HMM ========\n"
     ]
    },
    {
     "data": {
      "application/vnd.jupyter.widget-view+json": {
       "model_id": "bad69763f27b4baf806a1584ba6cb80a",
       "version_major": 2,
       "version_minor": 0
      },
      "text/plain": [
       "  0%|          | 0/300 [00:00<?, ?it/s]"
      ]
     },
     "metadata": {},
     "output_type": "display_data"
    },
    {
     "name": "stdout",
     "output_type": "stream",
     "text": [
      "Starting inference with K = 3; Fold = 1; Iter = 14\n",
      "=== fitting GLM-HMM ========\n"
     ]
    },
    {
     "data": {
      "application/vnd.jupyter.widget-view+json": {
       "model_id": "3b0a9c69f7e641c183952496c9d7f2a1",
       "version_major": 2,
       "version_minor": 0
      },
      "text/plain": [
       "  0%|          | 0/300 [00:00<?, ?it/s]"
      ]
     },
     "metadata": {},
     "output_type": "display_data"
    },
    {
     "name": "stdout",
     "output_type": "stream",
     "text": [
      "Starting inference with K = 3; Fold = 1; Iter = 15\n",
      "=== fitting GLM-HMM ========\n"
     ]
    },
    {
     "data": {
      "application/vnd.jupyter.widget-view+json": {
       "model_id": "ffdea9a33663452d9816e3446e48f406",
       "version_major": 2,
       "version_minor": 0
      },
      "text/plain": [
       "  0%|          | 0/300 [00:00<?, ?it/s]"
      ]
     },
     "metadata": {},
     "output_type": "display_data"
    },
    {
     "name": "stdout",
     "output_type": "stream",
     "text": [
      "Starting inference with K = 3; Fold = 1; Iter = 16\n",
      "=== fitting GLM-HMM ========\n"
     ]
    },
    {
     "data": {
      "application/vnd.jupyter.widget-view+json": {
       "model_id": "8eab99f1ad30471ab75b29c862ae533b",
       "version_major": 2,
       "version_minor": 0
      },
      "text/plain": [
       "  0%|          | 0/300 [00:00<?, ?it/s]"
      ]
     },
     "metadata": {},
     "output_type": "display_data"
    },
    {
     "name": "stdout",
     "output_type": "stream",
     "text": [
      "Starting inference with K = 3; Fold = 1; Iter = 17\n",
      "=== fitting GLM-HMM ========\n"
     ]
    },
    {
     "data": {
      "application/vnd.jupyter.widget-view+json": {
       "model_id": "018a5dbce35e44809fd34d1d1731ddfe",
       "version_major": 2,
       "version_minor": 0
      },
      "text/plain": [
       "  0%|          | 0/300 [00:00<?, ?it/s]"
      ]
     },
     "metadata": {},
     "output_type": "display_data"
    },
    {
     "name": "stdout",
     "output_type": "stream",
     "text": [
      "Starting inference with K = 3; Fold = 1; Iter = 18\n",
      "=== fitting GLM-HMM ========\n"
     ]
    },
    {
     "data": {
      "application/vnd.jupyter.widget-view+json": {
       "model_id": "7faeca7605054a2a9f36eb4f7f51fc19",
       "version_major": 2,
       "version_minor": 0
      },
      "text/plain": [
       "  0%|          | 0/300 [00:00<?, ?it/s]"
      ]
     },
     "metadata": {},
     "output_type": "display_data"
    },
    {
     "name": "stdout",
     "output_type": "stream",
     "text": [
      "Starting inference with K = 3; Fold = 1; Iter = 19\n",
      "=== fitting GLM-HMM ========\n"
     ]
    },
    {
     "data": {
      "application/vnd.jupyter.widget-view+json": {
       "model_id": "075d74cc3f064dd6a7aaafec5ab08dd3",
       "version_major": 2,
       "version_minor": 0
      },
      "text/plain": [
       "  0%|          | 0/300 [00:00<?, ?it/s]"
      ]
     },
     "metadata": {},
     "output_type": "display_data"
    },
    {
     "name": "stdout",
     "output_type": "stream",
     "text": [
      "Starting inference with K = 3; Fold = 2; Iter = 0\n",
      "=== fitting GLM-HMM ========\n"
     ]
    },
    {
     "data": {
      "application/vnd.jupyter.widget-view+json": {
       "model_id": "44c57fc689cc4270835b0d2feda50b87",
       "version_major": 2,
       "version_minor": 0
      },
      "text/plain": [
       "  0%|          | 0/300 [00:00<?, ?it/s]"
      ]
     },
     "metadata": {},
     "output_type": "display_data"
    },
    {
     "name": "stdout",
     "output_type": "stream",
     "text": [
      "Starting inference with K = 3; Fold = 2; Iter = 1\n",
      "=== fitting GLM-HMM ========\n"
     ]
    },
    {
     "data": {
      "application/vnd.jupyter.widget-view+json": {
       "model_id": "d86ec0e2f68a445486f6844e0722c07e",
       "version_major": 2,
       "version_minor": 0
      },
      "text/plain": [
       "  0%|          | 0/300 [00:00<?, ?it/s]"
      ]
     },
     "metadata": {},
     "output_type": "display_data"
    },
    {
     "name": "stdout",
     "output_type": "stream",
     "text": [
      "Starting inference with K = 3; Fold = 2; Iter = 2\n",
      "=== fitting GLM-HMM ========\n"
     ]
    },
    {
     "data": {
      "application/vnd.jupyter.widget-view+json": {
       "model_id": "f3c96a0df3124dcf9a590f3de6a0d736",
       "version_major": 2,
       "version_minor": 0
      },
      "text/plain": [
       "  0%|          | 0/300 [00:00<?, ?it/s]"
      ]
     },
     "metadata": {},
     "output_type": "display_data"
    },
    {
     "name": "stdout",
     "output_type": "stream",
     "text": [
      "Starting inference with K = 3; Fold = 2; Iter = 3\n",
      "=== fitting GLM-HMM ========\n"
     ]
    },
    {
     "data": {
      "application/vnd.jupyter.widget-view+json": {
       "model_id": "4ff5f75d023840ac807e99e0d96d0e2f",
       "version_major": 2,
       "version_minor": 0
      },
      "text/plain": [
       "  0%|          | 0/300 [00:00<?, ?it/s]"
      ]
     },
     "metadata": {},
     "output_type": "display_data"
    },
    {
     "name": "stdout",
     "output_type": "stream",
     "text": [
      "Starting inference with K = 3; Fold = 2; Iter = 4\n",
      "=== fitting GLM-HMM ========\n"
     ]
    },
    {
     "data": {
      "application/vnd.jupyter.widget-view+json": {
       "model_id": "a4753c5ddf59411fa5ce5fe5b9757f2c",
       "version_major": 2,
       "version_minor": 0
      },
      "text/plain": [
       "  0%|          | 0/300 [00:00<?, ?it/s]"
      ]
     },
     "metadata": {},
     "output_type": "display_data"
    },
    {
     "name": "stdout",
     "output_type": "stream",
     "text": [
      "Starting inference with K = 3; Fold = 2; Iter = 5\n",
      "=== fitting GLM-HMM ========\n"
     ]
    },
    {
     "data": {
      "application/vnd.jupyter.widget-view+json": {
       "model_id": "016a5b567f1e4c049e59995c5dde1c8a",
       "version_major": 2,
       "version_minor": 0
      },
      "text/plain": [
       "  0%|          | 0/300 [00:00<?, ?it/s]"
      ]
     },
     "metadata": {},
     "output_type": "display_data"
    },
    {
     "name": "stdout",
     "output_type": "stream",
     "text": [
      "Starting inference with K = 3; Fold = 2; Iter = 6\n",
      "=== fitting GLM-HMM ========\n"
     ]
    },
    {
     "data": {
      "application/vnd.jupyter.widget-view+json": {
       "model_id": "bba097a54b014b54a17fd2821951e4ac",
       "version_major": 2,
       "version_minor": 0
      },
      "text/plain": [
       "  0%|          | 0/300 [00:00<?, ?it/s]"
      ]
     },
     "metadata": {},
     "output_type": "display_data"
    },
    {
     "name": "stdout",
     "output_type": "stream",
     "text": [
      "Starting inference with K = 3; Fold = 2; Iter = 7\n",
      "=== fitting GLM-HMM ========\n"
     ]
    },
    {
     "data": {
      "application/vnd.jupyter.widget-view+json": {
       "model_id": "0fb33a1db62e4537a77d7e654e87a011",
       "version_major": 2,
       "version_minor": 0
      },
      "text/plain": [
       "  0%|          | 0/300 [00:00<?, ?it/s]"
      ]
     },
     "metadata": {},
     "output_type": "display_data"
    },
    {
     "name": "stdout",
     "output_type": "stream",
     "text": [
      "Starting inference with K = 3; Fold = 2; Iter = 8\n",
      "=== fitting GLM-HMM ========\n"
     ]
    },
    {
     "data": {
      "application/vnd.jupyter.widget-view+json": {
       "model_id": "08406aec359d43868d0badce1dd13eec",
       "version_major": 2,
       "version_minor": 0
      },
      "text/plain": [
       "  0%|          | 0/300 [00:00<?, ?it/s]"
      ]
     },
     "metadata": {},
     "output_type": "display_data"
    },
    {
     "name": "stdout",
     "output_type": "stream",
     "text": [
      "Starting inference with K = 3; Fold = 2; Iter = 9\n",
      "=== fitting GLM-HMM ========\n"
     ]
    },
    {
     "data": {
      "application/vnd.jupyter.widget-view+json": {
       "model_id": "fd2e9aa6125243d1aa2cdb08e7052a9c",
       "version_major": 2,
       "version_minor": 0
      },
      "text/plain": [
       "  0%|          | 0/300 [00:00<?, ?it/s]"
      ]
     },
     "metadata": {},
     "output_type": "display_data"
    },
    {
     "name": "stdout",
     "output_type": "stream",
     "text": [
      "Starting inference with K = 3; Fold = 2; Iter = 10\n",
      "=== fitting GLM-HMM ========\n"
     ]
    },
    {
     "data": {
      "application/vnd.jupyter.widget-view+json": {
       "model_id": "0cca35576e8f41ab97009a08bd7f00ab",
       "version_major": 2,
       "version_minor": 0
      },
      "text/plain": [
       "  0%|          | 0/300 [00:00<?, ?it/s]"
      ]
     },
     "metadata": {},
     "output_type": "display_data"
    },
    {
     "name": "stdout",
     "output_type": "stream",
     "text": [
      "Starting inference with K = 3; Fold = 2; Iter = 11\n",
      "=== fitting GLM-HMM ========\n"
     ]
    },
    {
     "data": {
      "application/vnd.jupyter.widget-view+json": {
       "model_id": "eb0465a49c2e4aa39f1e64e5a854008b",
       "version_major": 2,
       "version_minor": 0
      },
      "text/plain": [
       "  0%|          | 0/300 [00:00<?, ?it/s]"
      ]
     },
     "metadata": {},
     "output_type": "display_data"
    },
    {
     "name": "stdout",
     "output_type": "stream",
     "text": [
      "Starting inference with K = 3; Fold = 2; Iter = 12\n",
      "=== fitting GLM-HMM ========\n"
     ]
    },
    {
     "data": {
      "application/vnd.jupyter.widget-view+json": {
       "model_id": "5a2ec6433d8f424992939879e9933f84",
       "version_major": 2,
       "version_minor": 0
      },
      "text/plain": [
       "  0%|          | 0/300 [00:00<?, ?it/s]"
      ]
     },
     "metadata": {},
     "output_type": "display_data"
    },
    {
     "name": "stdout",
     "output_type": "stream",
     "text": [
      "Starting inference with K = 3; Fold = 2; Iter = 13\n",
      "=== fitting GLM-HMM ========\n"
     ]
    },
    {
     "data": {
      "application/vnd.jupyter.widget-view+json": {
       "model_id": "1f452d02aafa4ad1827bac3e445b2bbb",
       "version_major": 2,
       "version_minor": 0
      },
      "text/plain": [
       "  0%|          | 0/300 [00:00<?, ?it/s]"
      ]
     },
     "metadata": {},
     "output_type": "display_data"
    },
    {
     "name": "stdout",
     "output_type": "stream",
     "text": [
      "Starting inference with K = 3; Fold = 2; Iter = 14\n",
      "=== fitting GLM-HMM ========\n"
     ]
    },
    {
     "data": {
      "application/vnd.jupyter.widget-view+json": {
       "model_id": "50b1023587824c8794024ee84fdef26a",
       "version_major": 2,
       "version_minor": 0
      },
      "text/plain": [
       "  0%|          | 0/300 [00:00<?, ?it/s]"
      ]
     },
     "metadata": {},
     "output_type": "display_data"
    },
    {
     "name": "stdout",
     "output_type": "stream",
     "text": [
      "Starting inference with K = 3; Fold = 2; Iter = 15\n",
      "=== fitting GLM-HMM ========\n"
     ]
    },
    {
     "data": {
      "application/vnd.jupyter.widget-view+json": {
       "model_id": "3adcdfb02348471a919451a8614f3726",
       "version_major": 2,
       "version_minor": 0
      },
      "text/plain": [
       "  0%|          | 0/300 [00:00<?, ?it/s]"
      ]
     },
     "metadata": {},
     "output_type": "display_data"
    },
    {
     "name": "stdout",
     "output_type": "stream",
     "text": [
      "Starting inference with K = 3; Fold = 2; Iter = 16\n",
      "=== fitting GLM-HMM ========\n"
     ]
    },
    {
     "data": {
      "application/vnd.jupyter.widget-view+json": {
       "model_id": "ba51a868504e4879a47b1114a5b079ab",
       "version_major": 2,
       "version_minor": 0
      },
      "text/plain": [
       "  0%|          | 0/300 [00:00<?, ?it/s]"
      ]
     },
     "metadata": {},
     "output_type": "display_data"
    },
    {
     "name": "stdout",
     "output_type": "stream",
     "text": [
      "Starting inference with K = 3; Fold = 2; Iter = 17\n",
      "=== fitting GLM-HMM ========\n"
     ]
    },
    {
     "data": {
      "application/vnd.jupyter.widget-view+json": {
       "model_id": "090ab1c88fe74cafbd7c5a5748a73141",
       "version_major": 2,
       "version_minor": 0
      },
      "text/plain": [
       "  0%|          | 0/300 [00:00<?, ?it/s]"
      ]
     },
     "metadata": {},
     "output_type": "display_data"
    },
    {
     "name": "stdout",
     "output_type": "stream",
     "text": [
      "Starting inference with K = 3; Fold = 2; Iter = 18\n",
      "=== fitting GLM-HMM ========\n"
     ]
    },
    {
     "data": {
      "application/vnd.jupyter.widget-view+json": {
       "model_id": "fc655475647f490a8f5e3d4e3d400852",
       "version_major": 2,
       "version_minor": 0
      },
      "text/plain": [
       "  0%|          | 0/300 [00:00<?, ?it/s]"
      ]
     },
     "metadata": {},
     "output_type": "display_data"
    },
    {
     "name": "stdout",
     "output_type": "stream",
     "text": [
      "Starting inference with K = 3; Fold = 2; Iter = 19\n",
      "=== fitting GLM-HMM ========\n"
     ]
    },
    {
     "data": {
      "application/vnd.jupyter.widget-view+json": {
       "model_id": "b28ec12dd43f43a3b1446eaa0d586770",
       "version_major": 2,
       "version_minor": 0
      },
      "text/plain": [
       "  0%|          | 0/300 [00:00<?, ?it/s]"
      ]
     },
     "metadata": {},
     "output_type": "display_data"
    },
    {
     "name": "stdout",
     "output_type": "stream",
     "text": [
      "Starting inference with K = 3; Fold = 3; Iter = 0\n",
      "=== fitting GLM-HMM ========\n"
     ]
    },
    {
     "data": {
      "application/vnd.jupyter.widget-view+json": {
       "model_id": "16754eac09ee49eeb9bcb61dfa67db89",
       "version_major": 2,
       "version_minor": 0
      },
      "text/plain": [
       "  0%|          | 0/300 [00:00<?, ?it/s]"
      ]
     },
     "metadata": {},
     "output_type": "display_data"
    },
    {
     "name": "stdout",
     "output_type": "stream",
     "text": [
      "Starting inference with K = 3; Fold = 3; Iter = 1\n",
      "=== fitting GLM-HMM ========\n"
     ]
    },
    {
     "data": {
      "application/vnd.jupyter.widget-view+json": {
       "model_id": "1d8bda808d1d4deb942146a204cfa557",
       "version_major": 2,
       "version_minor": 0
      },
      "text/plain": [
       "  0%|          | 0/300 [00:00<?, ?it/s]"
      ]
     },
     "metadata": {},
     "output_type": "display_data"
    },
    {
     "name": "stdout",
     "output_type": "stream",
     "text": [
      "Starting inference with K = 3; Fold = 3; Iter = 2\n",
      "=== fitting GLM-HMM ========\n"
     ]
    },
    {
     "data": {
      "application/vnd.jupyter.widget-view+json": {
       "model_id": "1e2f8485e309490f9070cd6f9b0951f8",
       "version_major": 2,
       "version_minor": 0
      },
      "text/plain": [
       "  0%|          | 0/300 [00:00<?, ?it/s]"
      ]
     },
     "metadata": {},
     "output_type": "display_data"
    },
    {
     "name": "stdout",
     "output_type": "stream",
     "text": [
      "Starting inference with K = 3; Fold = 3; Iter = 3\n",
      "=== fitting GLM-HMM ========\n"
     ]
    },
    {
     "data": {
      "application/vnd.jupyter.widget-view+json": {
       "model_id": "f03fedf462d14149a7918dc62adff112",
       "version_major": 2,
       "version_minor": 0
      },
      "text/plain": [
       "  0%|          | 0/300 [00:00<?, ?it/s]"
      ]
     },
     "metadata": {},
     "output_type": "display_data"
    },
    {
     "name": "stdout",
     "output_type": "stream",
     "text": [
      "Starting inference with K = 3; Fold = 3; Iter = 4\n",
      "=== fitting GLM-HMM ========\n"
     ]
    },
    {
     "data": {
      "application/vnd.jupyter.widget-view+json": {
       "model_id": "384728e6b30d4e22b7d09c21b6305dd7",
       "version_major": 2,
       "version_minor": 0
      },
      "text/plain": [
       "  0%|          | 0/300 [00:00<?, ?it/s]"
      ]
     },
     "metadata": {},
     "output_type": "display_data"
    },
    {
     "name": "stdout",
     "output_type": "stream",
     "text": [
      "Starting inference with K = 3; Fold = 3; Iter = 5\n",
      "=== fitting GLM-HMM ========\n"
     ]
    },
    {
     "data": {
      "application/vnd.jupyter.widget-view+json": {
       "model_id": "901f3d57b0804ceba47ec69ebbbe68b8",
       "version_major": 2,
       "version_minor": 0
      },
      "text/plain": [
       "  0%|          | 0/300 [00:00<?, ?it/s]"
      ]
     },
     "metadata": {},
     "output_type": "display_data"
    },
    {
     "name": "stdout",
     "output_type": "stream",
     "text": [
      "Starting inference with K = 3; Fold = 3; Iter = 6\n",
      "=== fitting GLM-HMM ========\n"
     ]
    },
    {
     "data": {
      "application/vnd.jupyter.widget-view+json": {
       "model_id": "340d7e0f11c241e3ab26592add387b92",
       "version_major": 2,
       "version_minor": 0
      },
      "text/plain": [
       "  0%|          | 0/300 [00:00<?, ?it/s]"
      ]
     },
     "metadata": {},
     "output_type": "display_data"
    },
    {
     "name": "stdout",
     "output_type": "stream",
     "text": [
      "Starting inference with K = 3; Fold = 3; Iter = 7\n",
      "=== fitting GLM-HMM ========\n"
     ]
    },
    {
     "data": {
      "application/vnd.jupyter.widget-view+json": {
       "model_id": "46b191cf908244cdac81fe514766c4c1",
       "version_major": 2,
       "version_minor": 0
      },
      "text/plain": [
       "  0%|          | 0/300 [00:00<?, ?it/s]"
      ]
     },
     "metadata": {},
     "output_type": "display_data"
    },
    {
     "name": "stdout",
     "output_type": "stream",
     "text": [
      "Starting inference with K = 3; Fold = 3; Iter = 8\n",
      "=== fitting GLM-HMM ========\n"
     ]
    },
    {
     "data": {
      "application/vnd.jupyter.widget-view+json": {
       "model_id": "0de72399ffa74d85a41f56e200f8c98a",
       "version_major": 2,
       "version_minor": 0
      },
      "text/plain": [
       "  0%|          | 0/300 [00:00<?, ?it/s]"
      ]
     },
     "metadata": {},
     "output_type": "display_data"
    },
    {
     "name": "stdout",
     "output_type": "stream",
     "text": [
      "Starting inference with K = 3; Fold = 3; Iter = 9\n",
      "=== fitting GLM-HMM ========\n"
     ]
    },
    {
     "data": {
      "application/vnd.jupyter.widget-view+json": {
       "model_id": "20c227ff08be4d8a91ca7fda774f0ce6",
       "version_major": 2,
       "version_minor": 0
      },
      "text/plain": [
       "  0%|          | 0/300 [00:00<?, ?it/s]"
      ]
     },
     "metadata": {},
     "output_type": "display_data"
    },
    {
     "name": "stdout",
     "output_type": "stream",
     "text": [
      "Starting inference with K = 3; Fold = 3; Iter = 10\n",
      "=== fitting GLM-HMM ========\n"
     ]
    },
    {
     "data": {
      "application/vnd.jupyter.widget-view+json": {
       "model_id": "59faca726c48444d872c3d233b775ee4",
       "version_major": 2,
       "version_minor": 0
      },
      "text/plain": [
       "  0%|          | 0/300 [00:00<?, ?it/s]"
      ]
     },
     "metadata": {},
     "output_type": "display_data"
    },
    {
     "name": "stdout",
     "output_type": "stream",
     "text": [
      "Starting inference with K = 3; Fold = 3; Iter = 11\n",
      "=== fitting GLM-HMM ========\n"
     ]
    },
    {
     "data": {
      "application/vnd.jupyter.widget-view+json": {
       "model_id": "54bf959665a24d28ad84fc2b5dee9169",
       "version_major": 2,
       "version_minor": 0
      },
      "text/plain": [
       "  0%|          | 0/300 [00:00<?, ?it/s]"
      ]
     },
     "metadata": {},
     "output_type": "display_data"
    },
    {
     "name": "stdout",
     "output_type": "stream",
     "text": [
      "Starting inference with K = 3; Fold = 3; Iter = 12\n",
      "=== fitting GLM-HMM ========\n"
     ]
    },
    {
     "data": {
      "application/vnd.jupyter.widget-view+json": {
       "model_id": "66744788abc849f6b124a26fa6edf6ac",
       "version_major": 2,
       "version_minor": 0
      },
      "text/plain": [
       "  0%|          | 0/300 [00:00<?, ?it/s]"
      ]
     },
     "metadata": {},
     "output_type": "display_data"
    },
    {
     "name": "stdout",
     "output_type": "stream",
     "text": [
      "Starting inference with K = 3; Fold = 3; Iter = 13\n",
      "=== fitting GLM-HMM ========\n"
     ]
    },
    {
     "data": {
      "application/vnd.jupyter.widget-view+json": {
       "model_id": "04640fc4f1da49afac6ef617a7818a7c",
       "version_major": 2,
       "version_minor": 0
      },
      "text/plain": [
       "  0%|          | 0/300 [00:00<?, ?it/s]"
      ]
     },
     "metadata": {},
     "output_type": "display_data"
    },
    {
     "name": "stdout",
     "output_type": "stream",
     "text": [
      "Starting inference with K = 3; Fold = 3; Iter = 14\n",
      "=== fitting GLM-HMM ========\n"
     ]
    },
    {
     "data": {
      "application/vnd.jupyter.widget-view+json": {
       "model_id": "f36ae58f7c034663b0defe24299e37f7",
       "version_major": 2,
       "version_minor": 0
      },
      "text/plain": [
       "  0%|          | 0/300 [00:00<?, ?it/s]"
      ]
     },
     "metadata": {},
     "output_type": "display_data"
    },
    {
     "name": "stdout",
     "output_type": "stream",
     "text": [
      "Starting inference with K = 3; Fold = 3; Iter = 15\n",
      "=== fitting GLM-HMM ========\n"
     ]
    },
    {
     "data": {
      "application/vnd.jupyter.widget-view+json": {
       "model_id": "af263cb0805c4cf990f93975e3fd10f6",
       "version_major": 2,
       "version_minor": 0
      },
      "text/plain": [
       "  0%|          | 0/300 [00:00<?, ?it/s]"
      ]
     },
     "metadata": {},
     "output_type": "display_data"
    },
    {
     "name": "stdout",
     "output_type": "stream",
     "text": [
      "Starting inference with K = 3; Fold = 3; Iter = 16\n",
      "=== fitting GLM-HMM ========\n"
     ]
    },
    {
     "data": {
      "application/vnd.jupyter.widget-view+json": {
       "model_id": "63c0364f78df4e8e8a56864879356f76",
       "version_major": 2,
       "version_minor": 0
      },
      "text/plain": [
       "  0%|          | 0/300 [00:00<?, ?it/s]"
      ]
     },
     "metadata": {},
     "output_type": "display_data"
    },
    {
     "name": "stdout",
     "output_type": "stream",
     "text": [
      "Starting inference with K = 3; Fold = 3; Iter = 17\n",
      "=== fitting GLM-HMM ========\n"
     ]
    },
    {
     "data": {
      "application/vnd.jupyter.widget-view+json": {
       "model_id": "511fcf82defb43648f0364e622cbba04",
       "version_major": 2,
       "version_minor": 0
      },
      "text/plain": [
       "  0%|          | 0/300 [00:00<?, ?it/s]"
      ]
     },
     "metadata": {},
     "output_type": "display_data"
    },
    {
     "name": "stdout",
     "output_type": "stream",
     "text": [
      "Starting inference with K = 3; Fold = 3; Iter = 18\n",
      "=== fitting GLM-HMM ========\n"
     ]
    },
    {
     "data": {
      "application/vnd.jupyter.widget-view+json": {
       "model_id": "4406c1633c72460992dfb6bb422f963a",
       "version_major": 2,
       "version_minor": 0
      },
      "text/plain": [
       "  0%|          | 0/300 [00:00<?, ?it/s]"
      ]
     },
     "metadata": {},
     "output_type": "display_data"
    },
    {
     "name": "stdout",
     "output_type": "stream",
     "text": [
      "Starting inference with K = 3; Fold = 3; Iter = 19\n",
      "=== fitting GLM-HMM ========\n"
     ]
    },
    {
     "data": {
      "application/vnd.jupyter.widget-view+json": {
       "model_id": "ca2e48932ec4466aadcc07492b21ba96",
       "version_major": 2,
       "version_minor": 0
      },
      "text/plain": [
       "  0%|          | 0/300 [00:00<?, ?it/s]"
      ]
     },
     "metadata": {},
     "output_type": "display_data"
    },
    {
     "name": "stdout",
     "output_type": "stream",
     "text": [
      "Starting inference with K = 3; Fold = 4; Iter = 0\n",
      "=== fitting GLM-HMM ========\n"
     ]
    },
    {
     "data": {
      "application/vnd.jupyter.widget-view+json": {
       "model_id": "3c44e7e53ce14453a201ae89b81bba3f",
       "version_major": 2,
       "version_minor": 0
      },
      "text/plain": [
       "  0%|          | 0/300 [00:00<?, ?it/s]"
      ]
     },
     "metadata": {},
     "output_type": "display_data"
    },
    {
     "name": "stdout",
     "output_type": "stream",
     "text": [
      "Starting inference with K = 3; Fold = 4; Iter = 1\n",
      "=== fitting GLM-HMM ========\n"
     ]
    },
    {
     "data": {
      "application/vnd.jupyter.widget-view+json": {
       "model_id": "984bd59de9124cf18ddae507b97d5c03",
       "version_major": 2,
       "version_minor": 0
      },
      "text/plain": [
       "  0%|          | 0/300 [00:00<?, ?it/s]"
      ]
     },
     "metadata": {},
     "output_type": "display_data"
    },
    {
     "name": "stdout",
     "output_type": "stream",
     "text": [
      "Starting inference with K = 3; Fold = 4; Iter = 2\n",
      "=== fitting GLM-HMM ========\n"
     ]
    },
    {
     "data": {
      "application/vnd.jupyter.widget-view+json": {
       "model_id": "b2c3c473dc8a4a2798127a4484a30e81",
       "version_major": 2,
       "version_minor": 0
      },
      "text/plain": [
       "  0%|          | 0/300 [00:00<?, ?it/s]"
      ]
     },
     "metadata": {},
     "output_type": "display_data"
    },
    {
     "name": "stdout",
     "output_type": "stream",
     "text": [
      "Starting inference with K = 3; Fold = 4; Iter = 3\n",
      "=== fitting GLM-HMM ========\n"
     ]
    },
    {
     "data": {
      "application/vnd.jupyter.widget-view+json": {
       "model_id": "2e31d7d799c54c9aacd435fe7f5f4312",
       "version_major": 2,
       "version_minor": 0
      },
      "text/plain": [
       "  0%|          | 0/300 [00:00<?, ?it/s]"
      ]
     },
     "metadata": {},
     "output_type": "display_data"
    },
    {
     "name": "stdout",
     "output_type": "stream",
     "text": [
      "Starting inference with K = 3; Fold = 4; Iter = 4\n",
      "=== fitting GLM-HMM ========\n"
     ]
    },
    {
     "data": {
      "application/vnd.jupyter.widget-view+json": {
       "model_id": "d7668197a5c04375b2794806ab8fb5f5",
       "version_major": 2,
       "version_minor": 0
      },
      "text/plain": [
       "  0%|          | 0/300 [00:00<?, ?it/s]"
      ]
     },
     "metadata": {},
     "output_type": "display_data"
    },
    {
     "name": "stdout",
     "output_type": "stream",
     "text": [
      "Starting inference with K = 3; Fold = 4; Iter = 5\n",
      "=== fitting GLM-HMM ========\n"
     ]
    },
    {
     "data": {
      "application/vnd.jupyter.widget-view+json": {
       "model_id": "5039b80c5f7547f9aed2d8013c010dde",
       "version_major": 2,
       "version_minor": 0
      },
      "text/plain": [
       "  0%|          | 0/300 [00:00<?, ?it/s]"
      ]
     },
     "metadata": {},
     "output_type": "display_data"
    },
    {
     "name": "stdout",
     "output_type": "stream",
     "text": [
      "Starting inference with K = 3; Fold = 4; Iter = 6\n",
      "=== fitting GLM-HMM ========\n"
     ]
    },
    {
     "data": {
      "application/vnd.jupyter.widget-view+json": {
       "model_id": "db8c8970c47f4422b808a7fdfe37abcc",
       "version_major": 2,
       "version_minor": 0
      },
      "text/plain": [
       "  0%|          | 0/300 [00:00<?, ?it/s]"
      ]
     },
     "metadata": {},
     "output_type": "display_data"
    },
    {
     "name": "stdout",
     "output_type": "stream",
     "text": [
      "Starting inference with K = 3; Fold = 4; Iter = 7\n",
      "=== fitting GLM-HMM ========\n"
     ]
    },
    {
     "data": {
      "application/vnd.jupyter.widget-view+json": {
       "model_id": "ea2b4071f2cc4e97a18de7764b1e1b3a",
       "version_major": 2,
       "version_minor": 0
      },
      "text/plain": [
       "  0%|          | 0/300 [00:00<?, ?it/s]"
      ]
     },
     "metadata": {},
     "output_type": "display_data"
    },
    {
     "name": "stdout",
     "output_type": "stream",
     "text": [
      "Starting inference with K = 3; Fold = 4; Iter = 8\n",
      "=== fitting GLM-HMM ========\n"
     ]
    },
    {
     "data": {
      "application/vnd.jupyter.widget-view+json": {
       "model_id": "8011e58737c047f3b13735e68304388c",
       "version_major": 2,
       "version_minor": 0
      },
      "text/plain": [
       "  0%|          | 0/300 [00:00<?, ?it/s]"
      ]
     },
     "metadata": {},
     "output_type": "display_data"
    },
    {
     "name": "stdout",
     "output_type": "stream",
     "text": [
      "Starting inference with K = 3; Fold = 4; Iter = 9\n",
      "=== fitting GLM-HMM ========\n"
     ]
    },
    {
     "data": {
      "application/vnd.jupyter.widget-view+json": {
       "model_id": "245cdc76264f4c49ac80bca293611280",
       "version_major": 2,
       "version_minor": 0
      },
      "text/plain": [
       "  0%|          | 0/300 [00:00<?, ?it/s]"
      ]
     },
     "metadata": {},
     "output_type": "display_data"
    },
    {
     "name": "stdout",
     "output_type": "stream",
     "text": [
      "Starting inference with K = 3; Fold = 4; Iter = 10\n",
      "=== fitting GLM-HMM ========\n"
     ]
    },
    {
     "data": {
      "application/vnd.jupyter.widget-view+json": {
       "model_id": "48ec25b7c4624832a6c9da13a3bc5e6e",
       "version_major": 2,
       "version_minor": 0
      },
      "text/plain": [
       "  0%|          | 0/300 [00:00<?, ?it/s]"
      ]
     },
     "metadata": {},
     "output_type": "display_data"
    },
    {
     "name": "stdout",
     "output_type": "stream",
     "text": [
      "Starting inference with K = 3; Fold = 4; Iter = 11\n",
      "=== fitting GLM-HMM ========\n"
     ]
    },
    {
     "data": {
      "application/vnd.jupyter.widget-view+json": {
       "model_id": "41aa4b4d5a1e48459e6edc8d908c0e03",
       "version_major": 2,
       "version_minor": 0
      },
      "text/plain": [
       "  0%|          | 0/300 [00:00<?, ?it/s]"
      ]
     },
     "metadata": {},
     "output_type": "display_data"
    },
    {
     "name": "stdout",
     "output_type": "stream",
     "text": [
      "Starting inference with K = 3; Fold = 4; Iter = 12\n",
      "=== fitting GLM-HMM ========\n"
     ]
    },
    {
     "data": {
      "application/vnd.jupyter.widget-view+json": {
       "model_id": "afb3d182a5a343dcb9bf78e60380d0f7",
       "version_major": 2,
       "version_minor": 0
      },
      "text/plain": [
       "  0%|          | 0/300 [00:00<?, ?it/s]"
      ]
     },
     "metadata": {},
     "output_type": "display_data"
    },
    {
     "name": "stdout",
     "output_type": "stream",
     "text": [
      "Starting inference with K = 3; Fold = 4; Iter = 13\n",
      "=== fitting GLM-HMM ========\n"
     ]
    },
    {
     "data": {
      "application/vnd.jupyter.widget-view+json": {
       "model_id": "9f324e58e2b94ff2a01f2bcf70ad6797",
       "version_major": 2,
       "version_minor": 0
      },
      "text/plain": [
       "  0%|          | 0/300 [00:00<?, ?it/s]"
      ]
     },
     "metadata": {},
     "output_type": "display_data"
    },
    {
     "name": "stdout",
     "output_type": "stream",
     "text": [
      "Starting inference with K = 3; Fold = 4; Iter = 14\n",
      "=== fitting GLM-HMM ========\n"
     ]
    },
    {
     "data": {
      "application/vnd.jupyter.widget-view+json": {
       "model_id": "32ac91835fce462f9f87f080aff8dae6",
       "version_major": 2,
       "version_minor": 0
      },
      "text/plain": [
       "  0%|          | 0/300 [00:00<?, ?it/s]"
      ]
     },
     "metadata": {},
     "output_type": "display_data"
    },
    {
     "name": "stdout",
     "output_type": "stream",
     "text": [
      "Starting inference with K = 3; Fold = 4; Iter = 15\n",
      "=== fitting GLM-HMM ========\n"
     ]
    },
    {
     "data": {
      "application/vnd.jupyter.widget-view+json": {
       "model_id": "4a58c3ba0f7a458b8004a35af6e8ca3b",
       "version_major": 2,
       "version_minor": 0
      },
      "text/plain": [
       "  0%|          | 0/300 [00:00<?, ?it/s]"
      ]
     },
     "metadata": {},
     "output_type": "display_data"
    },
    {
     "name": "stdout",
     "output_type": "stream",
     "text": [
      "Starting inference with K = 3; Fold = 4; Iter = 16\n",
      "=== fitting GLM-HMM ========\n"
     ]
    },
    {
     "data": {
      "application/vnd.jupyter.widget-view+json": {
       "model_id": "1b9cdd04b39147cf8c37bccdb35afed1",
       "version_major": 2,
       "version_minor": 0
      },
      "text/plain": [
       "  0%|          | 0/300 [00:00<?, ?it/s]"
      ]
     },
     "metadata": {},
     "output_type": "display_data"
    },
    {
     "name": "stdout",
     "output_type": "stream",
     "text": [
      "Starting inference with K = 3; Fold = 4; Iter = 17\n",
      "=== fitting GLM-HMM ========\n"
     ]
    },
    {
     "data": {
      "application/vnd.jupyter.widget-view+json": {
       "model_id": "9a044b70d1614c6d8e2a402110c24c68",
       "version_major": 2,
       "version_minor": 0
      },
      "text/plain": [
       "  0%|          | 0/300 [00:00<?, ?it/s]"
      ]
     },
     "metadata": {},
     "output_type": "display_data"
    },
    {
     "name": "stdout",
     "output_type": "stream",
     "text": [
      "Starting inference with K = 3; Fold = 4; Iter = 18\n",
      "=== fitting GLM-HMM ========\n"
     ]
    },
    {
     "data": {
      "application/vnd.jupyter.widget-view+json": {
       "model_id": "d10c07b1516f4a768f5bab8843cec26d",
       "version_major": 2,
       "version_minor": 0
      },
      "text/plain": [
       "  0%|          | 0/300 [00:00<?, ?it/s]"
      ]
     },
     "metadata": {},
     "output_type": "display_data"
    },
    {
     "name": "stdout",
     "output_type": "stream",
     "text": [
      "Starting inference with K = 3; Fold = 4; Iter = 19\n",
      "=== fitting GLM-HMM ========\n"
     ]
    },
    {
     "data": {
      "application/vnd.jupyter.widget-view+json": {
       "model_id": "d9079521b0534f048d1fd5d7f5a6199b",
       "version_major": 2,
       "version_minor": 0
      },
      "text/plain": [
       "  0%|          | 0/300 [00:00<?, ?it/s]"
      ]
     },
     "metadata": {},
     "output_type": "display_data"
    },
    {
     "name": "stdout",
     "output_type": "stream",
     "text": [
      "Starting inference with K = 2; Fold = 0; Iter = 0\n",
      "=== fitting GLM-HMM ========\n"
     ]
    },
    {
     "data": {
      "application/vnd.jupyter.widget-view+json": {
       "model_id": "ec725a50ebf84105a566cc1d9821095b",
       "version_major": 2,
       "version_minor": 0
      },
      "text/plain": [
       "  0%|          | 0/300 [00:00<?, ?it/s]"
      ]
     },
     "metadata": {},
     "output_type": "display_data"
    },
    {
     "name": "stdout",
     "output_type": "stream",
     "text": [
      "Starting inference with K = 2; Fold = 0; Iter = 1\n",
      "=== fitting GLM-HMM ========\n"
     ]
    },
    {
     "data": {
      "application/vnd.jupyter.widget-view+json": {
       "model_id": "2ab7abed6b164f5cbc4ce14c2df1ace7",
       "version_major": 2,
       "version_minor": 0
      },
      "text/plain": [
       "  0%|          | 0/300 [00:00<?, ?it/s]"
      ]
     },
     "metadata": {},
     "output_type": "display_data"
    },
    {
     "name": "stdout",
     "output_type": "stream",
     "text": [
      "Starting inference with K = 2; Fold = 0; Iter = 2\n",
      "=== fitting GLM-HMM ========\n"
     ]
    },
    {
     "data": {
      "application/vnd.jupyter.widget-view+json": {
       "model_id": "b7befc6655334a84962d637fac3e9e73",
       "version_major": 2,
       "version_minor": 0
      },
      "text/plain": [
       "  0%|          | 0/300 [00:00<?, ?it/s]"
      ]
     },
     "metadata": {},
     "output_type": "display_data"
    },
    {
     "name": "stdout",
     "output_type": "stream",
     "text": [
      "Starting inference with K = 2; Fold = 0; Iter = 3\n",
      "=== fitting GLM-HMM ========\n"
     ]
    },
    {
     "data": {
      "application/vnd.jupyter.widget-view+json": {
       "model_id": "37975c2112a04206a0eaca37ba5be47a",
       "version_major": 2,
       "version_minor": 0
      },
      "text/plain": [
       "  0%|          | 0/300 [00:00<?, ?it/s]"
      ]
     },
     "metadata": {},
     "output_type": "display_data"
    },
    {
     "name": "stdout",
     "output_type": "stream",
     "text": [
      "Starting inference with K = 2; Fold = 0; Iter = 4\n",
      "=== fitting GLM-HMM ========\n"
     ]
    },
    {
     "data": {
      "application/vnd.jupyter.widget-view+json": {
       "model_id": "ab2d337a7a1e49ac9e0b9b569485a142",
       "version_major": 2,
       "version_minor": 0
      },
      "text/plain": [
       "  0%|          | 0/300 [00:00<?, ?it/s]"
      ]
     },
     "metadata": {},
     "output_type": "display_data"
    },
    {
     "name": "stdout",
     "output_type": "stream",
     "text": [
      "Starting inference with K = 2; Fold = 0; Iter = 5\n",
      "=== fitting GLM-HMM ========\n"
     ]
    },
    {
     "data": {
      "application/vnd.jupyter.widget-view+json": {
       "model_id": "fc4522de9b7344c295a9760638abecc9",
       "version_major": 2,
       "version_minor": 0
      },
      "text/plain": [
       "  0%|          | 0/300 [00:00<?, ?it/s]"
      ]
     },
     "metadata": {},
     "output_type": "display_data"
    },
    {
     "name": "stdout",
     "output_type": "stream",
     "text": [
      "Starting inference with K = 2; Fold = 0; Iter = 6\n",
      "=== fitting GLM-HMM ========\n"
     ]
    },
    {
     "data": {
      "application/vnd.jupyter.widget-view+json": {
       "model_id": "e3e6b8b60fb446f89d738ca280a30b81",
       "version_major": 2,
       "version_minor": 0
      },
      "text/plain": [
       "  0%|          | 0/300 [00:00<?, ?it/s]"
      ]
     },
     "metadata": {},
     "output_type": "display_data"
    },
    {
     "name": "stdout",
     "output_type": "stream",
     "text": [
      "Starting inference with K = 2; Fold = 0; Iter = 7\n",
      "=== fitting GLM-HMM ========\n"
     ]
    },
    {
     "data": {
      "application/vnd.jupyter.widget-view+json": {
       "model_id": "c456fa65da2f42ceb694da47fe45d1db",
       "version_major": 2,
       "version_minor": 0
      },
      "text/plain": [
       "  0%|          | 0/300 [00:00<?, ?it/s]"
      ]
     },
     "metadata": {},
     "output_type": "display_data"
    },
    {
     "name": "stdout",
     "output_type": "stream",
     "text": [
      "Starting inference with K = 2; Fold = 0; Iter = 8\n",
      "=== fitting GLM-HMM ========\n"
     ]
    },
    {
     "data": {
      "application/vnd.jupyter.widget-view+json": {
       "model_id": "040f2e5f109349839f9b514f360d166f",
       "version_major": 2,
       "version_minor": 0
      },
      "text/plain": [
       "  0%|          | 0/300 [00:00<?, ?it/s]"
      ]
     },
     "metadata": {},
     "output_type": "display_data"
    },
    {
     "name": "stdout",
     "output_type": "stream",
     "text": [
      "Starting inference with K = 2; Fold = 0; Iter = 9\n",
      "=== fitting GLM-HMM ========\n"
     ]
    },
    {
     "data": {
      "application/vnd.jupyter.widget-view+json": {
       "model_id": "6d666f3dbd364482a1e351e434a58a3f",
       "version_major": 2,
       "version_minor": 0
      },
      "text/plain": [
       "  0%|          | 0/300 [00:00<?, ?it/s]"
      ]
     },
     "metadata": {},
     "output_type": "display_data"
    },
    {
     "name": "stdout",
     "output_type": "stream",
     "text": [
      "Starting inference with K = 2; Fold = 0; Iter = 10\n",
      "=== fitting GLM-HMM ========\n"
     ]
    },
    {
     "data": {
      "application/vnd.jupyter.widget-view+json": {
       "model_id": "da7e7d696e1744488ae8be8efd1f8b06",
       "version_major": 2,
       "version_minor": 0
      },
      "text/plain": [
       "  0%|          | 0/300 [00:00<?, ?it/s]"
      ]
     },
     "metadata": {},
     "output_type": "display_data"
    },
    {
     "name": "stdout",
     "output_type": "stream",
     "text": [
      "Starting inference with K = 2; Fold = 0; Iter = 11\n",
      "=== fitting GLM-HMM ========\n"
     ]
    },
    {
     "data": {
      "application/vnd.jupyter.widget-view+json": {
       "model_id": "56164d89b8dc403a93d585426ef3fbfc",
       "version_major": 2,
       "version_minor": 0
      },
      "text/plain": [
       "  0%|          | 0/300 [00:00<?, ?it/s]"
      ]
     },
     "metadata": {},
     "output_type": "display_data"
    },
    {
     "name": "stdout",
     "output_type": "stream",
     "text": [
      "Starting inference with K = 2; Fold = 0; Iter = 12\n",
      "=== fitting GLM-HMM ========\n"
     ]
    },
    {
     "data": {
      "application/vnd.jupyter.widget-view+json": {
       "model_id": "2d5040c45e1b49c395f373e35ed4c7d3",
       "version_major": 2,
       "version_minor": 0
      },
      "text/plain": [
       "  0%|          | 0/300 [00:00<?, ?it/s]"
      ]
     },
     "metadata": {},
     "output_type": "display_data"
    },
    {
     "name": "stdout",
     "output_type": "stream",
     "text": [
      "Starting inference with K = 2; Fold = 0; Iter = 13\n",
      "=== fitting GLM-HMM ========\n"
     ]
    },
    {
     "data": {
      "application/vnd.jupyter.widget-view+json": {
       "model_id": "eb145edb0801463f91f4ef935fb4d903",
       "version_major": 2,
       "version_minor": 0
      },
      "text/plain": [
       "  0%|          | 0/300 [00:00<?, ?it/s]"
      ]
     },
     "metadata": {},
     "output_type": "display_data"
    },
    {
     "name": "stdout",
     "output_type": "stream",
     "text": [
      "Starting inference with K = 2; Fold = 0; Iter = 14\n",
      "=== fitting GLM-HMM ========\n"
     ]
    },
    {
     "data": {
      "application/vnd.jupyter.widget-view+json": {
       "model_id": "5813900470ea468ab19093b37c431f99",
       "version_major": 2,
       "version_minor": 0
      },
      "text/plain": [
       "  0%|          | 0/300 [00:00<?, ?it/s]"
      ]
     },
     "metadata": {},
     "output_type": "display_data"
    },
    {
     "name": "stdout",
     "output_type": "stream",
     "text": [
      "Starting inference with K = 2; Fold = 0; Iter = 15\n",
      "=== fitting GLM-HMM ========\n"
     ]
    },
    {
     "data": {
      "application/vnd.jupyter.widget-view+json": {
       "model_id": "b989041a672f4f9eac5420993db8924d",
       "version_major": 2,
       "version_minor": 0
      },
      "text/plain": [
       "  0%|          | 0/300 [00:00<?, ?it/s]"
      ]
     },
     "metadata": {},
     "output_type": "display_data"
    },
    {
     "name": "stdout",
     "output_type": "stream",
     "text": [
      "Starting inference with K = 2; Fold = 0; Iter = 16\n",
      "=== fitting GLM-HMM ========\n"
     ]
    },
    {
     "data": {
      "application/vnd.jupyter.widget-view+json": {
       "model_id": "d2dba3d1cab04b5594ef55d78760f7bf",
       "version_major": 2,
       "version_minor": 0
      },
      "text/plain": [
       "  0%|          | 0/300 [00:00<?, ?it/s]"
      ]
     },
     "metadata": {},
     "output_type": "display_data"
    },
    {
     "name": "stdout",
     "output_type": "stream",
     "text": [
      "Starting inference with K = 2; Fold = 0; Iter = 17\n",
      "=== fitting GLM-HMM ========\n"
     ]
    },
    {
     "data": {
      "application/vnd.jupyter.widget-view+json": {
       "model_id": "b504843ca97948e7b697b7854b7f19b0",
       "version_major": 2,
       "version_minor": 0
      },
      "text/plain": [
       "  0%|          | 0/300 [00:00<?, ?it/s]"
      ]
     },
     "metadata": {},
     "output_type": "display_data"
    },
    {
     "name": "stdout",
     "output_type": "stream",
     "text": [
      "Starting inference with K = 2; Fold = 0; Iter = 18\n",
      "=== fitting GLM-HMM ========\n"
     ]
    },
    {
     "data": {
      "application/vnd.jupyter.widget-view+json": {
       "model_id": "7d9a7543685747e2bf4ee3998f463af9",
       "version_major": 2,
       "version_minor": 0
      },
      "text/plain": [
       "  0%|          | 0/300 [00:00<?, ?it/s]"
      ]
     },
     "metadata": {},
     "output_type": "display_data"
    },
    {
     "name": "stdout",
     "output_type": "stream",
     "text": [
      "Starting inference with K = 2; Fold = 0; Iter = 19\n",
      "=== fitting GLM-HMM ========\n"
     ]
    },
    {
     "data": {
      "application/vnd.jupyter.widget-view+json": {
       "model_id": "183990a6dada4d8da093d257a16d0fdd",
       "version_major": 2,
       "version_minor": 0
      },
      "text/plain": [
       "  0%|          | 0/300 [00:00<?, ?it/s]"
      ]
     },
     "metadata": {},
     "output_type": "display_data"
    },
    {
     "name": "stdout",
     "output_type": "stream",
     "text": [
      "Starting inference with K = 2; Fold = 1; Iter = 0\n",
      "=== fitting GLM-HMM ========\n"
     ]
    },
    {
     "data": {
      "application/vnd.jupyter.widget-view+json": {
       "model_id": "e9e38c749f8245ed8793cc57b1a0e4ed",
       "version_major": 2,
       "version_minor": 0
      },
      "text/plain": [
       "  0%|          | 0/300 [00:00<?, ?it/s]"
      ]
     },
     "metadata": {},
     "output_type": "display_data"
    },
    {
     "name": "stdout",
     "output_type": "stream",
     "text": [
      "Starting inference with K = 2; Fold = 1; Iter = 1\n",
      "=== fitting GLM-HMM ========\n"
     ]
    },
    {
     "data": {
      "application/vnd.jupyter.widget-view+json": {
       "model_id": "a571a9f11c614fc7b7cc6059b37451b0",
       "version_major": 2,
       "version_minor": 0
      },
      "text/plain": [
       "  0%|          | 0/300 [00:00<?, ?it/s]"
      ]
     },
     "metadata": {},
     "output_type": "display_data"
    },
    {
     "name": "stdout",
     "output_type": "stream",
     "text": [
      "Starting inference with K = 2; Fold = 1; Iter = 2\n",
      "=== fitting GLM-HMM ========\n"
     ]
    },
    {
     "data": {
      "application/vnd.jupyter.widget-view+json": {
       "model_id": "1960f531817c455f98958765ccccf412",
       "version_major": 2,
       "version_minor": 0
      },
      "text/plain": [
       "  0%|          | 0/300 [00:00<?, ?it/s]"
      ]
     },
     "metadata": {},
     "output_type": "display_data"
    },
    {
     "name": "stdout",
     "output_type": "stream",
     "text": [
      "Starting inference with K = 2; Fold = 1; Iter = 3\n",
      "=== fitting GLM-HMM ========\n"
     ]
    },
    {
     "data": {
      "application/vnd.jupyter.widget-view+json": {
       "model_id": "8a9ecde7db974f97b9ecaf352b0c16f6",
       "version_major": 2,
       "version_minor": 0
      },
      "text/plain": [
       "  0%|          | 0/300 [00:00<?, ?it/s]"
      ]
     },
     "metadata": {},
     "output_type": "display_data"
    },
    {
     "name": "stdout",
     "output_type": "stream",
     "text": [
      "Starting inference with K = 2; Fold = 1; Iter = 4\n",
      "=== fitting GLM-HMM ========\n"
     ]
    },
    {
     "data": {
      "application/vnd.jupyter.widget-view+json": {
       "model_id": "5f4bdc6fd73c49c5919988899b5bada0",
       "version_major": 2,
       "version_minor": 0
      },
      "text/plain": [
       "  0%|          | 0/300 [00:00<?, ?it/s]"
      ]
     },
     "metadata": {},
     "output_type": "display_data"
    },
    {
     "name": "stdout",
     "output_type": "stream",
     "text": [
      "Starting inference with K = 2; Fold = 1; Iter = 5\n",
      "=== fitting GLM-HMM ========\n"
     ]
    },
    {
     "data": {
      "application/vnd.jupyter.widget-view+json": {
       "model_id": "3686fd5a427647a5b7a04f6e6efeb1da",
       "version_major": 2,
       "version_minor": 0
      },
      "text/plain": [
       "  0%|          | 0/300 [00:00<?, ?it/s]"
      ]
     },
     "metadata": {},
     "output_type": "display_data"
    },
    {
     "name": "stdout",
     "output_type": "stream",
     "text": [
      "Starting inference with K = 2; Fold = 1; Iter = 6\n",
      "=== fitting GLM-HMM ========\n"
     ]
    },
    {
     "data": {
      "application/vnd.jupyter.widget-view+json": {
       "model_id": "62c5e29cad994f97b09427a997281a18",
       "version_major": 2,
       "version_minor": 0
      },
      "text/plain": [
       "  0%|          | 0/300 [00:00<?, ?it/s]"
      ]
     },
     "metadata": {},
     "output_type": "display_data"
    },
    {
     "name": "stdout",
     "output_type": "stream",
     "text": [
      "Starting inference with K = 2; Fold = 1; Iter = 7\n",
      "=== fitting GLM-HMM ========\n"
     ]
    },
    {
     "data": {
      "application/vnd.jupyter.widget-view+json": {
       "model_id": "778957800e4d4436af51d9eff6e79c29",
       "version_major": 2,
       "version_minor": 0
      },
      "text/plain": [
       "  0%|          | 0/300 [00:00<?, ?it/s]"
      ]
     },
     "metadata": {},
     "output_type": "display_data"
    },
    {
     "name": "stdout",
     "output_type": "stream",
     "text": [
      "Starting inference with K = 2; Fold = 1; Iter = 8\n",
      "=== fitting GLM-HMM ========\n"
     ]
    },
    {
     "data": {
      "application/vnd.jupyter.widget-view+json": {
       "model_id": "a6a0bc844a4d46a9bb2b538e604371d2",
       "version_major": 2,
       "version_minor": 0
      },
      "text/plain": [
       "  0%|          | 0/300 [00:00<?, ?it/s]"
      ]
     },
     "metadata": {},
     "output_type": "display_data"
    },
    {
     "name": "stdout",
     "output_type": "stream",
     "text": [
      "Starting inference with K = 2; Fold = 1; Iter = 9\n",
      "=== fitting GLM-HMM ========\n"
     ]
    },
    {
     "data": {
      "application/vnd.jupyter.widget-view+json": {
       "model_id": "ad886943b1604753b3809ea19b413cc5",
       "version_major": 2,
       "version_minor": 0
      },
      "text/plain": [
       "  0%|          | 0/300 [00:00<?, ?it/s]"
      ]
     },
     "metadata": {},
     "output_type": "display_data"
    },
    {
     "name": "stdout",
     "output_type": "stream",
     "text": [
      "Starting inference with K = 2; Fold = 1; Iter = 10\n",
      "=== fitting GLM-HMM ========\n"
     ]
    },
    {
     "data": {
      "application/vnd.jupyter.widget-view+json": {
       "model_id": "76f5ad35f2ec428daf466d1c56549cef",
       "version_major": 2,
       "version_minor": 0
      },
      "text/plain": [
       "  0%|          | 0/300 [00:00<?, ?it/s]"
      ]
     },
     "metadata": {},
     "output_type": "display_data"
    },
    {
     "name": "stdout",
     "output_type": "stream",
     "text": [
      "Starting inference with K = 2; Fold = 1; Iter = 11\n",
      "=== fitting GLM-HMM ========\n"
     ]
    },
    {
     "data": {
      "application/vnd.jupyter.widget-view+json": {
       "model_id": "51c048bb41384c1f9cfcb9c0aaf5ad7e",
       "version_major": 2,
       "version_minor": 0
      },
      "text/plain": [
       "  0%|          | 0/300 [00:00<?, ?it/s]"
      ]
     },
     "metadata": {},
     "output_type": "display_data"
    },
    {
     "name": "stdout",
     "output_type": "stream",
     "text": [
      "Starting inference with K = 2; Fold = 1; Iter = 12\n",
      "=== fitting GLM-HMM ========\n"
     ]
    },
    {
     "data": {
      "application/vnd.jupyter.widget-view+json": {
       "model_id": "7a1af51285a7457c8c71d2f625a817c0",
       "version_major": 2,
       "version_minor": 0
      },
      "text/plain": [
       "  0%|          | 0/300 [00:00<?, ?it/s]"
      ]
     },
     "metadata": {},
     "output_type": "display_data"
    },
    {
     "name": "stdout",
     "output_type": "stream",
     "text": [
      "Starting inference with K = 2; Fold = 1; Iter = 13\n",
      "=== fitting GLM-HMM ========\n"
     ]
    },
    {
     "data": {
      "application/vnd.jupyter.widget-view+json": {
       "model_id": "b044081e5777415bb11fcd637e13fa66",
       "version_major": 2,
       "version_minor": 0
      },
      "text/plain": [
       "  0%|          | 0/300 [00:00<?, ?it/s]"
      ]
     },
     "metadata": {},
     "output_type": "display_data"
    },
    {
     "name": "stdout",
     "output_type": "stream",
     "text": [
      "Starting inference with K = 2; Fold = 1; Iter = 14\n",
      "=== fitting GLM-HMM ========\n"
     ]
    },
    {
     "data": {
      "application/vnd.jupyter.widget-view+json": {
       "model_id": "3eb681ba23f64b9db10ba667d797c6e4",
       "version_major": 2,
       "version_minor": 0
      },
      "text/plain": [
       "  0%|          | 0/300 [00:00<?, ?it/s]"
      ]
     },
     "metadata": {},
     "output_type": "display_data"
    },
    {
     "name": "stdout",
     "output_type": "stream",
     "text": [
      "Starting inference with K = 2; Fold = 1; Iter = 15\n",
      "=== fitting GLM-HMM ========\n"
     ]
    },
    {
     "data": {
      "application/vnd.jupyter.widget-view+json": {
       "model_id": "fa2f30a8913f433cb36ce7d5cceff9ab",
       "version_major": 2,
       "version_minor": 0
      },
      "text/plain": [
       "  0%|          | 0/300 [00:00<?, ?it/s]"
      ]
     },
     "metadata": {},
     "output_type": "display_data"
    },
    {
     "name": "stdout",
     "output_type": "stream",
     "text": [
      "Starting inference with K = 2; Fold = 1; Iter = 16\n",
      "=== fitting GLM-HMM ========\n"
     ]
    },
    {
     "data": {
      "application/vnd.jupyter.widget-view+json": {
       "model_id": "3be82376659141efad2aeb078921540e",
       "version_major": 2,
       "version_minor": 0
      },
      "text/plain": [
       "  0%|          | 0/300 [00:00<?, ?it/s]"
      ]
     },
     "metadata": {},
     "output_type": "display_data"
    },
    {
     "name": "stdout",
     "output_type": "stream",
     "text": [
      "Starting inference with K = 2; Fold = 1; Iter = 17\n",
      "=== fitting GLM-HMM ========\n"
     ]
    },
    {
     "data": {
      "application/vnd.jupyter.widget-view+json": {
       "model_id": "350eb96a1eb642a8b7468bda08c794c6",
       "version_major": 2,
       "version_minor": 0
      },
      "text/plain": [
       "  0%|          | 0/300 [00:00<?, ?it/s]"
      ]
     },
     "metadata": {},
     "output_type": "display_data"
    },
    {
     "name": "stdout",
     "output_type": "stream",
     "text": [
      "Starting inference with K = 2; Fold = 1; Iter = 18\n",
      "=== fitting GLM-HMM ========\n"
     ]
    },
    {
     "data": {
      "application/vnd.jupyter.widget-view+json": {
       "model_id": "82a4a0bea5854e649a4d85a8979d9e54",
       "version_major": 2,
       "version_minor": 0
      },
      "text/plain": [
       "  0%|          | 0/300 [00:00<?, ?it/s]"
      ]
     },
     "metadata": {},
     "output_type": "display_data"
    },
    {
     "name": "stdout",
     "output_type": "stream",
     "text": [
      "Starting inference with K = 2; Fold = 1; Iter = 19\n",
      "=== fitting GLM-HMM ========\n"
     ]
    },
    {
     "data": {
      "application/vnd.jupyter.widget-view+json": {
       "model_id": "e47d14951fe94832af38b56d48d91a61",
       "version_major": 2,
       "version_minor": 0
      },
      "text/plain": [
       "  0%|          | 0/300 [00:00<?, ?it/s]"
      ]
     },
     "metadata": {},
     "output_type": "display_data"
    },
    {
     "name": "stdout",
     "output_type": "stream",
     "text": [
      "Starting inference with K = 2; Fold = 2; Iter = 0\n",
      "=== fitting GLM-HMM ========\n"
     ]
    },
    {
     "data": {
      "application/vnd.jupyter.widget-view+json": {
       "model_id": "ea586cf6e54c44339d83b7ef2d1422ac",
       "version_major": 2,
       "version_minor": 0
      },
      "text/plain": [
       "  0%|          | 0/300 [00:00<?, ?it/s]"
      ]
     },
     "metadata": {},
     "output_type": "display_data"
    },
    {
     "name": "stdout",
     "output_type": "stream",
     "text": [
      "Starting inference with K = 2; Fold = 2; Iter = 1\n",
      "=== fitting GLM-HMM ========\n"
     ]
    },
    {
     "data": {
      "application/vnd.jupyter.widget-view+json": {
       "model_id": "680051b165e24361b4b89452ddef02d2",
       "version_major": 2,
       "version_minor": 0
      },
      "text/plain": [
       "  0%|          | 0/300 [00:00<?, ?it/s]"
      ]
     },
     "metadata": {},
     "output_type": "display_data"
    },
    {
     "name": "stdout",
     "output_type": "stream",
     "text": [
      "Starting inference with K = 2; Fold = 2; Iter = 2\n",
      "=== fitting GLM-HMM ========\n"
     ]
    },
    {
     "data": {
      "application/vnd.jupyter.widget-view+json": {
       "model_id": "080f268ca3ac48bd8620ab7f326fc6c3",
       "version_major": 2,
       "version_minor": 0
      },
      "text/plain": [
       "  0%|          | 0/300 [00:00<?, ?it/s]"
      ]
     },
     "metadata": {},
     "output_type": "display_data"
    },
    {
     "name": "stdout",
     "output_type": "stream",
     "text": [
      "Starting inference with K = 2; Fold = 2; Iter = 3\n",
      "=== fitting GLM-HMM ========\n"
     ]
    },
    {
     "data": {
      "application/vnd.jupyter.widget-view+json": {
       "model_id": "a9de407d64bc461b864f5bd18b2a18e5",
       "version_major": 2,
       "version_minor": 0
      },
      "text/plain": [
       "  0%|          | 0/300 [00:00<?, ?it/s]"
      ]
     },
     "metadata": {},
     "output_type": "display_data"
    },
    {
     "name": "stdout",
     "output_type": "stream",
     "text": [
      "Starting inference with K = 2; Fold = 2; Iter = 4\n",
      "=== fitting GLM-HMM ========\n"
     ]
    },
    {
     "data": {
      "application/vnd.jupyter.widget-view+json": {
       "model_id": "33a0ce0d9c804e02844ca7c943de36be",
       "version_major": 2,
       "version_minor": 0
      },
      "text/plain": [
       "  0%|          | 0/300 [00:00<?, ?it/s]"
      ]
     },
     "metadata": {},
     "output_type": "display_data"
    },
    {
     "name": "stdout",
     "output_type": "stream",
     "text": [
      "Starting inference with K = 2; Fold = 2; Iter = 5\n",
      "=== fitting GLM-HMM ========\n"
     ]
    },
    {
     "data": {
      "application/vnd.jupyter.widget-view+json": {
       "model_id": "54ebdfbd69a84e3790a9f30ed7f86eb3",
       "version_major": 2,
       "version_minor": 0
      },
      "text/plain": [
       "  0%|          | 0/300 [00:00<?, ?it/s]"
      ]
     },
     "metadata": {},
     "output_type": "display_data"
    },
    {
     "name": "stdout",
     "output_type": "stream",
     "text": [
      "Starting inference with K = 2; Fold = 2; Iter = 6\n",
      "=== fitting GLM-HMM ========\n"
     ]
    },
    {
     "data": {
      "application/vnd.jupyter.widget-view+json": {
       "model_id": "42b7dee6b942456a9d984c6dda83a0bd",
       "version_major": 2,
       "version_minor": 0
      },
      "text/plain": [
       "  0%|          | 0/300 [00:00<?, ?it/s]"
      ]
     },
     "metadata": {},
     "output_type": "display_data"
    },
    {
     "name": "stdout",
     "output_type": "stream",
     "text": [
      "Starting inference with K = 2; Fold = 2; Iter = 7\n",
      "=== fitting GLM-HMM ========\n"
     ]
    },
    {
     "data": {
      "application/vnd.jupyter.widget-view+json": {
       "model_id": "10b8f55942664be3a77b6fe35ea4a060",
       "version_major": 2,
       "version_minor": 0
      },
      "text/plain": [
       "  0%|          | 0/300 [00:00<?, ?it/s]"
      ]
     },
     "metadata": {},
     "output_type": "display_data"
    },
    {
     "name": "stdout",
     "output_type": "stream",
     "text": [
      "Starting inference with K = 2; Fold = 2; Iter = 8\n",
      "=== fitting GLM-HMM ========\n"
     ]
    },
    {
     "data": {
      "application/vnd.jupyter.widget-view+json": {
       "model_id": "00cab6a5708d4b06966a1b1b4bfeceef",
       "version_major": 2,
       "version_minor": 0
      },
      "text/plain": [
       "  0%|          | 0/300 [00:00<?, ?it/s]"
      ]
     },
     "metadata": {},
     "output_type": "display_data"
    },
    {
     "name": "stdout",
     "output_type": "stream",
     "text": [
      "Starting inference with K = 2; Fold = 2; Iter = 9\n",
      "=== fitting GLM-HMM ========\n"
     ]
    },
    {
     "data": {
      "application/vnd.jupyter.widget-view+json": {
       "model_id": "500187dd514e49578d48d17f22e054ce",
       "version_major": 2,
       "version_minor": 0
      },
      "text/plain": [
       "  0%|          | 0/300 [00:00<?, ?it/s]"
      ]
     },
     "metadata": {},
     "output_type": "display_data"
    },
    {
     "name": "stdout",
     "output_type": "stream",
     "text": [
      "Starting inference with K = 2; Fold = 2; Iter = 10\n",
      "=== fitting GLM-HMM ========\n"
     ]
    },
    {
     "data": {
      "application/vnd.jupyter.widget-view+json": {
       "model_id": "e2c21e1dc8dc425986dacc1743788b7a",
       "version_major": 2,
       "version_minor": 0
      },
      "text/plain": [
       "  0%|          | 0/300 [00:00<?, ?it/s]"
      ]
     },
     "metadata": {},
     "output_type": "display_data"
    },
    {
     "name": "stdout",
     "output_type": "stream",
     "text": [
      "Starting inference with K = 2; Fold = 2; Iter = 11\n",
      "=== fitting GLM-HMM ========\n"
     ]
    },
    {
     "data": {
      "application/vnd.jupyter.widget-view+json": {
       "model_id": "07d867447b1b4ec59118ae847ecc9f89",
       "version_major": 2,
       "version_minor": 0
      },
      "text/plain": [
       "  0%|          | 0/300 [00:00<?, ?it/s]"
      ]
     },
     "metadata": {},
     "output_type": "display_data"
    },
    {
     "name": "stdout",
     "output_type": "stream",
     "text": [
      "Starting inference with K = 2; Fold = 2; Iter = 12\n",
      "=== fitting GLM-HMM ========\n"
     ]
    },
    {
     "data": {
      "application/vnd.jupyter.widget-view+json": {
       "model_id": "4c1d1c7132254a5baf1466977543eb54",
       "version_major": 2,
       "version_minor": 0
      },
      "text/plain": [
       "  0%|          | 0/300 [00:00<?, ?it/s]"
      ]
     },
     "metadata": {},
     "output_type": "display_data"
    },
    {
     "name": "stdout",
     "output_type": "stream",
     "text": [
      "Starting inference with K = 2; Fold = 2; Iter = 13\n",
      "=== fitting GLM-HMM ========\n"
     ]
    },
    {
     "data": {
      "application/vnd.jupyter.widget-view+json": {
       "model_id": "1f1ee5e5ef204b7dbd1b563961706793",
       "version_major": 2,
       "version_minor": 0
      },
      "text/plain": [
       "  0%|          | 0/300 [00:00<?, ?it/s]"
      ]
     },
     "metadata": {},
     "output_type": "display_data"
    },
    {
     "name": "stdout",
     "output_type": "stream",
     "text": [
      "Starting inference with K = 2; Fold = 2; Iter = 14\n",
      "=== fitting GLM-HMM ========\n"
     ]
    },
    {
     "data": {
      "application/vnd.jupyter.widget-view+json": {
       "model_id": "f02504b1efdd454a913f1046544e1058",
       "version_major": 2,
       "version_minor": 0
      },
      "text/plain": [
       "  0%|          | 0/300 [00:00<?, ?it/s]"
      ]
     },
     "metadata": {},
     "output_type": "display_data"
    },
    {
     "name": "stdout",
     "output_type": "stream",
     "text": [
      "Starting inference with K = 2; Fold = 2; Iter = 15\n",
      "=== fitting GLM-HMM ========\n"
     ]
    },
    {
     "data": {
      "application/vnd.jupyter.widget-view+json": {
       "model_id": "f8cba51596d245d0b542811d55158e50",
       "version_major": 2,
       "version_minor": 0
      },
      "text/plain": [
       "  0%|          | 0/300 [00:00<?, ?it/s]"
      ]
     },
     "metadata": {},
     "output_type": "display_data"
    },
    {
     "name": "stdout",
     "output_type": "stream",
     "text": [
      "Starting inference with K = 2; Fold = 2; Iter = 16\n",
      "=== fitting GLM-HMM ========\n"
     ]
    },
    {
     "data": {
      "application/vnd.jupyter.widget-view+json": {
       "model_id": "50ff314caa6e4d2f959d2698aa54d6ad",
       "version_major": 2,
       "version_minor": 0
      },
      "text/plain": [
       "  0%|          | 0/300 [00:00<?, ?it/s]"
      ]
     },
     "metadata": {},
     "output_type": "display_data"
    },
    {
     "name": "stdout",
     "output_type": "stream",
     "text": [
      "Starting inference with K = 2; Fold = 2; Iter = 17\n",
      "=== fitting GLM-HMM ========\n"
     ]
    },
    {
     "data": {
      "application/vnd.jupyter.widget-view+json": {
       "model_id": "babf6172e6764539a9b238a8a01413ef",
       "version_major": 2,
       "version_minor": 0
      },
      "text/plain": [
       "  0%|          | 0/300 [00:00<?, ?it/s]"
      ]
     },
     "metadata": {},
     "output_type": "display_data"
    },
    {
     "name": "stdout",
     "output_type": "stream",
     "text": [
      "Starting inference with K = 2; Fold = 2; Iter = 18\n",
      "=== fitting GLM-HMM ========\n"
     ]
    },
    {
     "data": {
      "application/vnd.jupyter.widget-view+json": {
       "model_id": "493e8b0182534ba4a30e478465499702",
       "version_major": 2,
       "version_minor": 0
      },
      "text/plain": [
       "  0%|          | 0/300 [00:00<?, ?it/s]"
      ]
     },
     "metadata": {},
     "output_type": "display_data"
    },
    {
     "name": "stdout",
     "output_type": "stream",
     "text": [
      "Starting inference with K = 2; Fold = 2; Iter = 19\n",
      "=== fitting GLM-HMM ========\n"
     ]
    },
    {
     "data": {
      "application/vnd.jupyter.widget-view+json": {
       "model_id": "31d5eb112f0f48f18b3cf7ea735fa7bf",
       "version_major": 2,
       "version_minor": 0
      },
      "text/plain": [
       "  0%|          | 0/300 [00:00<?, ?it/s]"
      ]
     },
     "metadata": {},
     "output_type": "display_data"
    },
    {
     "name": "stdout",
     "output_type": "stream",
     "text": [
      "Starting inference with K = 2; Fold = 3; Iter = 0\n",
      "=== fitting GLM-HMM ========\n"
     ]
    },
    {
     "data": {
      "application/vnd.jupyter.widget-view+json": {
       "model_id": "a2e6a2dbb8024cccb05516864e51d255",
       "version_major": 2,
       "version_minor": 0
      },
      "text/plain": [
       "  0%|          | 0/300 [00:00<?, ?it/s]"
      ]
     },
     "metadata": {},
     "output_type": "display_data"
    },
    {
     "name": "stdout",
     "output_type": "stream",
     "text": [
      "Starting inference with K = 2; Fold = 3; Iter = 1\n",
      "=== fitting GLM-HMM ========\n"
     ]
    },
    {
     "data": {
      "application/vnd.jupyter.widget-view+json": {
       "model_id": "e8e418fd205d476d82140dd23bdeffdd",
       "version_major": 2,
       "version_minor": 0
      },
      "text/plain": [
       "  0%|          | 0/300 [00:00<?, ?it/s]"
      ]
     },
     "metadata": {},
     "output_type": "display_data"
    },
    {
     "name": "stdout",
     "output_type": "stream",
     "text": [
      "Starting inference with K = 2; Fold = 3; Iter = 2\n",
      "=== fitting GLM-HMM ========\n"
     ]
    },
    {
     "data": {
      "application/vnd.jupyter.widget-view+json": {
       "model_id": "311dd14bb7de44a79bad6c66510e655c",
       "version_major": 2,
       "version_minor": 0
      },
      "text/plain": [
       "  0%|          | 0/300 [00:00<?, ?it/s]"
      ]
     },
     "metadata": {},
     "output_type": "display_data"
    },
    {
     "name": "stdout",
     "output_type": "stream",
     "text": [
      "Starting inference with K = 2; Fold = 3; Iter = 3\n",
      "=== fitting GLM-HMM ========\n"
     ]
    },
    {
     "data": {
      "application/vnd.jupyter.widget-view+json": {
       "model_id": "369713c1cab04ceb99d824816b7e7fe5",
       "version_major": 2,
       "version_minor": 0
      },
      "text/plain": [
       "  0%|          | 0/300 [00:00<?, ?it/s]"
      ]
     },
     "metadata": {},
     "output_type": "display_data"
    },
    {
     "name": "stdout",
     "output_type": "stream",
     "text": [
      "Starting inference with K = 2; Fold = 3; Iter = 4\n",
      "=== fitting GLM-HMM ========\n"
     ]
    },
    {
     "data": {
      "application/vnd.jupyter.widget-view+json": {
       "model_id": "c97f6db42b0240d09c3fb72421406471",
       "version_major": 2,
       "version_minor": 0
      },
      "text/plain": [
       "  0%|          | 0/300 [00:00<?, ?it/s]"
      ]
     },
     "metadata": {},
     "output_type": "display_data"
    },
    {
     "name": "stdout",
     "output_type": "stream",
     "text": [
      "Starting inference with K = 2; Fold = 3; Iter = 5\n",
      "=== fitting GLM-HMM ========\n"
     ]
    },
    {
     "data": {
      "application/vnd.jupyter.widget-view+json": {
       "model_id": "14e540a567a54477a4f4fedb9a5c2edf",
       "version_major": 2,
       "version_minor": 0
      },
      "text/plain": [
       "  0%|          | 0/300 [00:00<?, ?it/s]"
      ]
     },
     "metadata": {},
     "output_type": "display_data"
    },
    {
     "name": "stdout",
     "output_type": "stream",
     "text": [
      "Starting inference with K = 2; Fold = 3; Iter = 6\n",
      "=== fitting GLM-HMM ========\n"
     ]
    },
    {
     "data": {
      "application/vnd.jupyter.widget-view+json": {
       "model_id": "71d95cc73ffb4d5f89f964ed73bb1bba",
       "version_major": 2,
       "version_minor": 0
      },
      "text/plain": [
       "  0%|          | 0/300 [00:00<?, ?it/s]"
      ]
     },
     "metadata": {},
     "output_type": "display_data"
    },
    {
     "name": "stdout",
     "output_type": "stream",
     "text": [
      "Starting inference with K = 2; Fold = 3; Iter = 7\n",
      "=== fitting GLM-HMM ========\n"
     ]
    },
    {
     "data": {
      "application/vnd.jupyter.widget-view+json": {
       "model_id": "2e6128c5e4ca4b3b819f28993a1b04bb",
       "version_major": 2,
       "version_minor": 0
      },
      "text/plain": [
       "  0%|          | 0/300 [00:00<?, ?it/s]"
      ]
     },
     "metadata": {},
     "output_type": "display_data"
    },
    {
     "name": "stdout",
     "output_type": "stream",
     "text": [
      "Starting inference with K = 2; Fold = 3; Iter = 8\n",
      "=== fitting GLM-HMM ========\n"
     ]
    },
    {
     "data": {
      "application/vnd.jupyter.widget-view+json": {
       "model_id": "d5fbb94c4a374ab48ffa13ffa8ae5f88",
       "version_major": 2,
       "version_minor": 0
      },
      "text/plain": [
       "  0%|          | 0/300 [00:00<?, ?it/s]"
      ]
     },
     "metadata": {},
     "output_type": "display_data"
    },
    {
     "name": "stdout",
     "output_type": "stream",
     "text": [
      "Starting inference with K = 2; Fold = 3; Iter = 9\n",
      "=== fitting GLM-HMM ========\n"
     ]
    },
    {
     "data": {
      "application/vnd.jupyter.widget-view+json": {
       "model_id": "e6a111b2ddcf4b63a4a0e2b8272d90da",
       "version_major": 2,
       "version_minor": 0
      },
      "text/plain": [
       "  0%|          | 0/300 [00:00<?, ?it/s]"
      ]
     },
     "metadata": {},
     "output_type": "display_data"
    },
    {
     "name": "stdout",
     "output_type": "stream",
     "text": [
      "Starting inference with K = 2; Fold = 3; Iter = 10\n",
      "=== fitting GLM-HMM ========\n"
     ]
    },
    {
     "data": {
      "application/vnd.jupyter.widget-view+json": {
       "model_id": "50f44ff44ef34ac4bfd521366b5b9285",
       "version_major": 2,
       "version_minor": 0
      },
      "text/plain": [
       "  0%|          | 0/300 [00:00<?, ?it/s]"
      ]
     },
     "metadata": {},
     "output_type": "display_data"
    },
    {
     "name": "stdout",
     "output_type": "stream",
     "text": [
      "Starting inference with K = 2; Fold = 3; Iter = 11\n",
      "=== fitting GLM-HMM ========\n"
     ]
    },
    {
     "data": {
      "application/vnd.jupyter.widget-view+json": {
       "model_id": "7ab0bafda0b0433a9d5d63584eaf681b",
       "version_major": 2,
       "version_minor": 0
      },
      "text/plain": [
       "  0%|          | 0/300 [00:00<?, ?it/s]"
      ]
     },
     "metadata": {},
     "output_type": "display_data"
    },
    {
     "name": "stdout",
     "output_type": "stream",
     "text": [
      "Starting inference with K = 2; Fold = 3; Iter = 12\n",
      "=== fitting GLM-HMM ========\n"
     ]
    },
    {
     "data": {
      "application/vnd.jupyter.widget-view+json": {
       "model_id": "b98306303a97487aaed5fec5e26f72b8",
       "version_major": 2,
       "version_minor": 0
      },
      "text/plain": [
       "  0%|          | 0/300 [00:00<?, ?it/s]"
      ]
     },
     "metadata": {},
     "output_type": "display_data"
    },
    {
     "name": "stdout",
     "output_type": "stream",
     "text": [
      "Starting inference with K = 2; Fold = 3; Iter = 13\n",
      "=== fitting GLM-HMM ========\n"
     ]
    },
    {
     "data": {
      "application/vnd.jupyter.widget-view+json": {
       "model_id": "30bbf3e4e00b4266b06cde240b6859a3",
       "version_major": 2,
       "version_minor": 0
      },
      "text/plain": [
       "  0%|          | 0/300 [00:00<?, ?it/s]"
      ]
     },
     "metadata": {},
     "output_type": "display_data"
    },
    {
     "name": "stdout",
     "output_type": "stream",
     "text": [
      "Starting inference with K = 2; Fold = 3; Iter = 14\n",
      "=== fitting GLM-HMM ========\n"
     ]
    },
    {
     "data": {
      "application/vnd.jupyter.widget-view+json": {
       "model_id": "390ec9ace4204e67a6f282d830276a7e",
       "version_major": 2,
       "version_minor": 0
      },
      "text/plain": [
       "  0%|          | 0/300 [00:00<?, ?it/s]"
      ]
     },
     "metadata": {},
     "output_type": "display_data"
    },
    {
     "name": "stdout",
     "output_type": "stream",
     "text": [
      "Starting inference with K = 2; Fold = 3; Iter = 15\n",
      "=== fitting GLM-HMM ========\n"
     ]
    },
    {
     "data": {
      "application/vnd.jupyter.widget-view+json": {
       "model_id": "cfc8db1f751e446dbceb263b76eadcb1",
       "version_major": 2,
       "version_minor": 0
      },
      "text/plain": [
       "  0%|          | 0/300 [00:00<?, ?it/s]"
      ]
     },
     "metadata": {},
     "output_type": "display_data"
    },
    {
     "name": "stdout",
     "output_type": "stream",
     "text": [
      "Starting inference with K = 2; Fold = 3; Iter = 16\n",
      "=== fitting GLM-HMM ========\n"
     ]
    },
    {
     "data": {
      "application/vnd.jupyter.widget-view+json": {
       "model_id": "bd79a0dec51740ffb981f7b7f2adde0e",
       "version_major": 2,
       "version_minor": 0
      },
      "text/plain": [
       "  0%|          | 0/300 [00:00<?, ?it/s]"
      ]
     },
     "metadata": {},
     "output_type": "display_data"
    },
    {
     "name": "stdout",
     "output_type": "stream",
     "text": [
      "Starting inference with K = 2; Fold = 3; Iter = 17\n",
      "=== fitting GLM-HMM ========\n"
     ]
    },
    {
     "data": {
      "application/vnd.jupyter.widget-view+json": {
       "model_id": "8165fbc60450476aaed4485438bf3208",
       "version_major": 2,
       "version_minor": 0
      },
      "text/plain": [
       "  0%|          | 0/300 [00:00<?, ?it/s]"
      ]
     },
     "metadata": {},
     "output_type": "display_data"
    },
    {
     "name": "stdout",
     "output_type": "stream",
     "text": [
      "Starting inference with K = 2; Fold = 3; Iter = 18\n",
      "=== fitting GLM-HMM ========\n"
     ]
    },
    {
     "data": {
      "application/vnd.jupyter.widget-view+json": {
       "model_id": "2c7ca2a0d72240bfb07b9f9a20c6c9b8",
       "version_major": 2,
       "version_minor": 0
      },
      "text/plain": [
       "  0%|          | 0/300 [00:00<?, ?it/s]"
      ]
     },
     "metadata": {},
     "output_type": "display_data"
    },
    {
     "name": "stdout",
     "output_type": "stream",
     "text": [
      "Starting inference with K = 2; Fold = 3; Iter = 19\n",
      "=== fitting GLM-HMM ========\n"
     ]
    },
    {
     "data": {
      "application/vnd.jupyter.widget-view+json": {
       "model_id": "2e7284edd28046879106cc513be40b65",
       "version_major": 2,
       "version_minor": 0
      },
      "text/plain": [
       "  0%|          | 0/300 [00:00<?, ?it/s]"
      ]
     },
     "metadata": {},
     "output_type": "display_data"
    },
    {
     "name": "stdout",
     "output_type": "stream",
     "text": [
      "Starting inference with K = 2; Fold = 4; Iter = 0\n",
      "=== fitting GLM-HMM ========\n"
     ]
    },
    {
     "data": {
      "application/vnd.jupyter.widget-view+json": {
       "model_id": "990c98f8e17c4419a25a1b2a74f9fd55",
       "version_major": 2,
       "version_minor": 0
      },
      "text/plain": [
       "  0%|          | 0/300 [00:00<?, ?it/s]"
      ]
     },
     "metadata": {},
     "output_type": "display_data"
    },
    {
     "name": "stdout",
     "output_type": "stream",
     "text": [
      "Starting inference with K = 2; Fold = 4; Iter = 1\n",
      "=== fitting GLM-HMM ========\n"
     ]
    },
    {
     "data": {
      "application/vnd.jupyter.widget-view+json": {
       "model_id": "df62309ce24b47fb80d1cb2341dda402",
       "version_major": 2,
       "version_minor": 0
      },
      "text/plain": [
       "  0%|          | 0/300 [00:00<?, ?it/s]"
      ]
     },
     "metadata": {},
     "output_type": "display_data"
    },
    {
     "name": "stdout",
     "output_type": "stream",
     "text": [
      "Starting inference with K = 2; Fold = 4; Iter = 2\n",
      "=== fitting GLM-HMM ========\n"
     ]
    },
    {
     "data": {
      "application/vnd.jupyter.widget-view+json": {
       "model_id": "903afe2548554fc8b407a77d11bea825",
       "version_major": 2,
       "version_minor": 0
      },
      "text/plain": [
       "  0%|          | 0/300 [00:00<?, ?it/s]"
      ]
     },
     "metadata": {},
     "output_type": "display_data"
    },
    {
     "name": "stdout",
     "output_type": "stream",
     "text": [
      "Starting inference with K = 2; Fold = 4; Iter = 3\n",
      "=== fitting GLM-HMM ========\n"
     ]
    },
    {
     "data": {
      "application/vnd.jupyter.widget-view+json": {
       "model_id": "5a894464340e4592820ac158449c8940",
       "version_major": 2,
       "version_minor": 0
      },
      "text/plain": [
       "  0%|          | 0/300 [00:00<?, ?it/s]"
      ]
     },
     "metadata": {},
     "output_type": "display_data"
    },
    {
     "name": "stdout",
     "output_type": "stream",
     "text": [
      "Starting inference with K = 2; Fold = 4; Iter = 4\n",
      "=== fitting GLM-HMM ========\n"
     ]
    },
    {
     "data": {
      "application/vnd.jupyter.widget-view+json": {
       "model_id": "f5069f3cdcc944e98d65a065d3948385",
       "version_major": 2,
       "version_minor": 0
      },
      "text/plain": [
       "  0%|          | 0/300 [00:00<?, ?it/s]"
      ]
     },
     "metadata": {},
     "output_type": "display_data"
    },
    {
     "name": "stdout",
     "output_type": "stream",
     "text": [
      "Starting inference with K = 2; Fold = 4; Iter = 5\n",
      "=== fitting GLM-HMM ========\n"
     ]
    },
    {
     "data": {
      "application/vnd.jupyter.widget-view+json": {
       "model_id": "30368c3fafb042579d6777b58b83fbb0",
       "version_major": 2,
       "version_minor": 0
      },
      "text/plain": [
       "  0%|          | 0/300 [00:00<?, ?it/s]"
      ]
     },
     "metadata": {},
     "output_type": "display_data"
    },
    {
     "name": "stdout",
     "output_type": "stream",
     "text": [
      "Starting inference with K = 2; Fold = 4; Iter = 6\n",
      "=== fitting GLM-HMM ========\n"
     ]
    },
    {
     "data": {
      "application/vnd.jupyter.widget-view+json": {
       "model_id": "f30aa2e828134765a8741e23102a2d9b",
       "version_major": 2,
       "version_minor": 0
      },
      "text/plain": [
       "  0%|          | 0/300 [00:00<?, ?it/s]"
      ]
     },
     "metadata": {},
     "output_type": "display_data"
    },
    {
     "name": "stdout",
     "output_type": "stream",
     "text": [
      "Starting inference with K = 2; Fold = 4; Iter = 7\n",
      "=== fitting GLM-HMM ========\n"
     ]
    },
    {
     "data": {
      "application/vnd.jupyter.widget-view+json": {
       "model_id": "2f5cee19380b4a038e7cd6ee1f3e02da",
       "version_major": 2,
       "version_minor": 0
      },
      "text/plain": [
       "  0%|          | 0/300 [00:00<?, ?it/s]"
      ]
     },
     "metadata": {},
     "output_type": "display_data"
    },
    {
     "name": "stdout",
     "output_type": "stream",
     "text": [
      "Starting inference with K = 2; Fold = 4; Iter = 8\n",
      "=== fitting GLM-HMM ========\n"
     ]
    },
    {
     "data": {
      "application/vnd.jupyter.widget-view+json": {
       "model_id": "68e9b1829ff54f069a3a791fcda6d99e",
       "version_major": 2,
       "version_minor": 0
      },
      "text/plain": [
       "  0%|          | 0/300 [00:00<?, ?it/s]"
      ]
     },
     "metadata": {},
     "output_type": "display_data"
    },
    {
     "name": "stdout",
     "output_type": "stream",
     "text": [
      "Starting inference with K = 2; Fold = 4; Iter = 9\n",
      "=== fitting GLM-HMM ========\n"
     ]
    },
    {
     "data": {
      "application/vnd.jupyter.widget-view+json": {
       "model_id": "ab9217990a9048ff9b8ded2f0364afa7",
       "version_major": 2,
       "version_minor": 0
      },
      "text/plain": [
       "  0%|          | 0/300 [00:00<?, ?it/s]"
      ]
     },
     "metadata": {},
     "output_type": "display_data"
    },
    {
     "name": "stdout",
     "output_type": "stream",
     "text": [
      "Starting inference with K = 2; Fold = 4; Iter = 10\n",
      "=== fitting GLM-HMM ========\n"
     ]
    },
    {
     "data": {
      "application/vnd.jupyter.widget-view+json": {
       "model_id": "4e3fe67440ca48498e6a2bad9add00b2",
       "version_major": 2,
       "version_minor": 0
      },
      "text/plain": [
       "  0%|          | 0/300 [00:00<?, ?it/s]"
      ]
     },
     "metadata": {},
     "output_type": "display_data"
    },
    {
     "name": "stdout",
     "output_type": "stream",
     "text": [
      "Starting inference with K = 2; Fold = 4; Iter = 11\n",
      "=== fitting GLM-HMM ========\n"
     ]
    },
    {
     "data": {
      "application/vnd.jupyter.widget-view+json": {
       "model_id": "f6013a1de5534399b274bf1e07d55d92",
       "version_major": 2,
       "version_minor": 0
      },
      "text/plain": [
       "  0%|          | 0/300 [00:00<?, ?it/s]"
      ]
     },
     "metadata": {},
     "output_type": "display_data"
    },
    {
     "name": "stdout",
     "output_type": "stream",
     "text": [
      "Starting inference with K = 2; Fold = 4; Iter = 12\n",
      "=== fitting GLM-HMM ========\n"
     ]
    },
    {
     "data": {
      "application/vnd.jupyter.widget-view+json": {
       "model_id": "adae6aa07ce04335aff3469eaa7815f0",
       "version_major": 2,
       "version_minor": 0
      },
      "text/plain": [
       "  0%|          | 0/300 [00:00<?, ?it/s]"
      ]
     },
     "metadata": {},
     "output_type": "display_data"
    },
    {
     "name": "stdout",
     "output_type": "stream",
     "text": [
      "Starting inference with K = 2; Fold = 4; Iter = 13\n",
      "=== fitting GLM-HMM ========\n"
     ]
    },
    {
     "data": {
      "application/vnd.jupyter.widget-view+json": {
       "model_id": "910e5ea7ab31409a9cc12f6b80bf0f4c",
       "version_major": 2,
       "version_minor": 0
      },
      "text/plain": [
       "  0%|          | 0/300 [00:00<?, ?it/s]"
      ]
     },
     "metadata": {},
     "output_type": "display_data"
    },
    {
     "name": "stdout",
     "output_type": "stream",
     "text": [
      "Starting inference with K = 2; Fold = 4; Iter = 14\n",
      "=== fitting GLM-HMM ========\n"
     ]
    },
    {
     "data": {
      "application/vnd.jupyter.widget-view+json": {
       "model_id": "bd80d5e8c98f49328ed13771e386709f",
       "version_major": 2,
       "version_minor": 0
      },
      "text/plain": [
       "  0%|          | 0/300 [00:00<?, ?it/s]"
      ]
     },
     "metadata": {},
     "output_type": "display_data"
    },
    {
     "name": "stdout",
     "output_type": "stream",
     "text": [
      "Starting inference with K = 2; Fold = 4; Iter = 15\n",
      "=== fitting GLM-HMM ========\n"
     ]
    },
    {
     "data": {
      "application/vnd.jupyter.widget-view+json": {
       "model_id": "bbdf5c7f186947df9184363cea0bca5e",
       "version_major": 2,
       "version_minor": 0
      },
      "text/plain": [
       "  0%|          | 0/300 [00:00<?, ?it/s]"
      ]
     },
     "metadata": {},
     "output_type": "display_data"
    },
    {
     "name": "stdout",
     "output_type": "stream",
     "text": [
      "Starting inference with K = 2; Fold = 4; Iter = 16\n",
      "=== fitting GLM-HMM ========\n"
     ]
    },
    {
     "data": {
      "application/vnd.jupyter.widget-view+json": {
       "model_id": "bc024daf6aa2460f80cba9b2b313a9ce",
       "version_major": 2,
       "version_minor": 0
      },
      "text/plain": [
       "  0%|          | 0/300 [00:00<?, ?it/s]"
      ]
     },
     "metadata": {},
     "output_type": "display_data"
    },
    {
     "name": "stdout",
     "output_type": "stream",
     "text": [
      "Starting inference with K = 2; Fold = 4; Iter = 17\n",
      "=== fitting GLM-HMM ========\n"
     ]
    },
    {
     "data": {
      "application/vnd.jupyter.widget-view+json": {
       "model_id": "fe9cfda0fcb443e2a7fa49f313449a96",
       "version_major": 2,
       "version_minor": 0
      },
      "text/plain": [
       "  0%|          | 0/300 [00:00<?, ?it/s]"
      ]
     },
     "metadata": {},
     "output_type": "display_data"
    },
    {
     "name": "stdout",
     "output_type": "stream",
     "text": [
      "Starting inference with K = 2; Fold = 4; Iter = 18\n",
      "=== fitting GLM-HMM ========\n"
     ]
    },
    {
     "data": {
      "application/vnd.jupyter.widget-view+json": {
       "model_id": "c1381002bba542c184f559e501d038a4",
       "version_major": 2,
       "version_minor": 0
      },
      "text/plain": [
       "  0%|          | 0/300 [00:00<?, ?it/s]"
      ]
     },
     "metadata": {},
     "output_type": "display_data"
    },
    {
     "name": "stdout",
     "output_type": "stream",
     "text": [
      "Starting inference with K = 2; Fold = 4; Iter = 19\n",
      "=== fitting GLM-HMM ========\n"
     ]
    },
    {
     "data": {
      "application/vnd.jupyter.widget-view+json": {
       "model_id": "11bc2cbd8d8545ff8eafe0ed8906244c",
       "version_major": 2,
       "version_minor": 0
      },
      "text/plain": [
       "  0%|          | 0/300 [00:00<?, ?it/s]"
      ]
     },
     "metadata": {},
     "output_type": "display_data"
    },
    {
     "name": "stdout",
     "output_type": "stream",
     "text": [
      "Starting inference with K = 3; Fold = 0; Iter = 0\n",
      "=== fitting GLM-HMM ========\n"
     ]
    },
    {
     "data": {
      "application/vnd.jupyter.widget-view+json": {
       "model_id": "eaf7ead18faf4018ac2e9940c9d14fe9",
       "version_major": 2,
       "version_minor": 0
      },
      "text/plain": [
       "  0%|          | 0/300 [00:00<?, ?it/s]"
      ]
     },
     "metadata": {},
     "output_type": "display_data"
    },
    {
     "name": "stdout",
     "output_type": "stream",
     "text": [
      "Starting inference with K = 3; Fold = 0; Iter = 1\n",
      "=== fitting GLM-HMM ========\n"
     ]
    },
    {
     "data": {
      "application/vnd.jupyter.widget-view+json": {
       "model_id": "766b5dab70ae4da0bc8c62c672aa9779",
       "version_major": 2,
       "version_minor": 0
      },
      "text/plain": [
       "  0%|          | 0/300 [00:00<?, ?it/s]"
      ]
     },
     "metadata": {},
     "output_type": "display_data"
    },
    {
     "name": "stdout",
     "output_type": "stream",
     "text": [
      "Starting inference with K = 3; Fold = 0; Iter = 2\n",
      "=== fitting GLM-HMM ========\n"
     ]
    },
    {
     "data": {
      "application/vnd.jupyter.widget-view+json": {
       "model_id": "0c448e4063b04d47b70ebc4fe1de68ee",
       "version_major": 2,
       "version_minor": 0
      },
      "text/plain": [
       "  0%|          | 0/300 [00:00<?, ?it/s]"
      ]
     },
     "metadata": {},
     "output_type": "display_data"
    },
    {
     "name": "stdout",
     "output_type": "stream",
     "text": [
      "Starting inference with K = 3; Fold = 0; Iter = 3\n",
      "=== fitting GLM-HMM ========\n"
     ]
    },
    {
     "data": {
      "application/vnd.jupyter.widget-view+json": {
       "model_id": "fe8d3c8f73854160abd9a541c4a382fb",
       "version_major": 2,
       "version_minor": 0
      },
      "text/plain": [
       "  0%|          | 0/300 [00:00<?, ?it/s]"
      ]
     },
     "metadata": {},
     "output_type": "display_data"
    },
    {
     "name": "stdout",
     "output_type": "stream",
     "text": [
      "Starting inference with K = 3; Fold = 0; Iter = 4\n",
      "=== fitting GLM-HMM ========\n"
     ]
    },
    {
     "data": {
      "application/vnd.jupyter.widget-view+json": {
       "model_id": "89e9ea9eb618464cb0e0e7efa5a0c6a2",
       "version_major": 2,
       "version_minor": 0
      },
      "text/plain": [
       "  0%|          | 0/300 [00:00<?, ?it/s]"
      ]
     },
     "metadata": {},
     "output_type": "display_data"
    },
    {
     "name": "stdout",
     "output_type": "stream",
     "text": [
      "Starting inference with K = 3; Fold = 0; Iter = 5\n",
      "=== fitting GLM-HMM ========\n"
     ]
    },
    {
     "data": {
      "application/vnd.jupyter.widget-view+json": {
       "model_id": "2b1fc7230b5748f885a308c9d88c4b14",
       "version_major": 2,
       "version_minor": 0
      },
      "text/plain": [
       "  0%|          | 0/300 [00:00<?, ?it/s]"
      ]
     },
     "metadata": {},
     "output_type": "display_data"
    },
    {
     "name": "stdout",
     "output_type": "stream",
     "text": [
      "Starting inference with K = 3; Fold = 0; Iter = 6\n",
      "=== fitting GLM-HMM ========\n"
     ]
    },
    {
     "data": {
      "application/vnd.jupyter.widget-view+json": {
       "model_id": "bc01aca2a8b1400d84560e27a6e88131",
       "version_major": 2,
       "version_minor": 0
      },
      "text/plain": [
       "  0%|          | 0/300 [00:00<?, ?it/s]"
      ]
     },
     "metadata": {},
     "output_type": "display_data"
    },
    {
     "name": "stdout",
     "output_type": "stream",
     "text": [
      "Starting inference with K = 3; Fold = 0; Iter = 7\n",
      "=== fitting GLM-HMM ========\n"
     ]
    },
    {
     "data": {
      "application/vnd.jupyter.widget-view+json": {
       "model_id": "d00d49b7cb394facbd0a16b4854e9798",
       "version_major": 2,
       "version_minor": 0
      },
      "text/plain": [
       "  0%|          | 0/300 [00:00<?, ?it/s]"
      ]
     },
     "metadata": {},
     "output_type": "display_data"
    },
    {
     "name": "stdout",
     "output_type": "stream",
     "text": [
      "Starting inference with K = 3; Fold = 0; Iter = 8\n",
      "=== fitting GLM-HMM ========\n"
     ]
    },
    {
     "data": {
      "application/vnd.jupyter.widget-view+json": {
       "model_id": "29540afc86ad43568b0179fc68b8ffc5",
       "version_major": 2,
       "version_minor": 0
      },
      "text/plain": [
       "  0%|          | 0/300 [00:00<?, ?it/s]"
      ]
     },
     "metadata": {},
     "output_type": "display_data"
    },
    {
     "name": "stdout",
     "output_type": "stream",
     "text": [
      "Starting inference with K = 3; Fold = 0; Iter = 9\n",
      "=== fitting GLM-HMM ========\n"
     ]
    },
    {
     "data": {
      "application/vnd.jupyter.widget-view+json": {
       "model_id": "bb77ff9687cb42998ce2cd65906a946a",
       "version_major": 2,
       "version_minor": 0
      },
      "text/plain": [
       "  0%|          | 0/300 [00:00<?, ?it/s]"
      ]
     },
     "metadata": {},
     "output_type": "display_data"
    },
    {
     "name": "stdout",
     "output_type": "stream",
     "text": [
      "Starting inference with K = 3; Fold = 0; Iter = 10\n",
      "=== fitting GLM-HMM ========\n"
     ]
    },
    {
     "data": {
      "application/vnd.jupyter.widget-view+json": {
       "model_id": "dbddc923bc40443facebac3ddc03ce30",
       "version_major": 2,
       "version_minor": 0
      },
      "text/plain": [
       "  0%|          | 0/300 [00:00<?, ?it/s]"
      ]
     },
     "metadata": {},
     "output_type": "display_data"
    },
    {
     "name": "stdout",
     "output_type": "stream",
     "text": [
      "Starting inference with K = 3; Fold = 0; Iter = 11\n",
      "=== fitting GLM-HMM ========\n"
     ]
    },
    {
     "data": {
      "application/vnd.jupyter.widget-view+json": {
       "model_id": "ff28c02b3b9d4569b6af3289ff790515",
       "version_major": 2,
       "version_minor": 0
      },
      "text/plain": [
       "  0%|          | 0/300 [00:00<?, ?it/s]"
      ]
     },
     "metadata": {},
     "output_type": "display_data"
    },
    {
     "name": "stdout",
     "output_type": "stream",
     "text": [
      "Starting inference with K = 3; Fold = 0; Iter = 12\n",
      "=== fitting GLM-HMM ========\n"
     ]
    },
    {
     "data": {
      "application/vnd.jupyter.widget-view+json": {
       "model_id": "93360b986c8b4e62ba209a00944ccb30",
       "version_major": 2,
       "version_minor": 0
      },
      "text/plain": [
       "  0%|          | 0/300 [00:00<?, ?it/s]"
      ]
     },
     "metadata": {},
     "output_type": "display_data"
    },
    {
     "name": "stdout",
     "output_type": "stream",
     "text": [
      "Starting inference with K = 3; Fold = 0; Iter = 13\n",
      "=== fitting GLM-HMM ========\n"
     ]
    },
    {
     "data": {
      "application/vnd.jupyter.widget-view+json": {
       "model_id": "cea53ba6d4ec4bf4bfe4148a06e18561",
       "version_major": 2,
       "version_minor": 0
      },
      "text/plain": [
       "  0%|          | 0/300 [00:00<?, ?it/s]"
      ]
     },
     "metadata": {},
     "output_type": "display_data"
    },
    {
     "name": "stdout",
     "output_type": "stream",
     "text": [
      "Starting inference with K = 3; Fold = 0; Iter = 14\n",
      "=== fitting GLM-HMM ========\n"
     ]
    },
    {
     "data": {
      "application/vnd.jupyter.widget-view+json": {
       "model_id": "7943f6b9257a4e1ca6591431b35505ad",
       "version_major": 2,
       "version_minor": 0
      },
      "text/plain": [
       "  0%|          | 0/300 [00:00<?, ?it/s]"
      ]
     },
     "metadata": {},
     "output_type": "display_data"
    },
    {
     "name": "stdout",
     "output_type": "stream",
     "text": [
      "Starting inference with K = 3; Fold = 0; Iter = 15\n",
      "=== fitting GLM-HMM ========\n"
     ]
    },
    {
     "data": {
      "application/vnd.jupyter.widget-view+json": {
       "model_id": "cd6a145812c646acbdfd06f918c0d436",
       "version_major": 2,
       "version_minor": 0
      },
      "text/plain": [
       "  0%|          | 0/300 [00:00<?, ?it/s]"
      ]
     },
     "metadata": {},
     "output_type": "display_data"
    },
    {
     "name": "stdout",
     "output_type": "stream",
     "text": [
      "Starting inference with K = 3; Fold = 0; Iter = 16\n",
      "=== fitting GLM-HMM ========\n"
     ]
    },
    {
     "data": {
      "application/vnd.jupyter.widget-view+json": {
       "model_id": "d7e4b220f74b43d3bf143fe4c6e5fccc",
       "version_major": 2,
       "version_minor": 0
      },
      "text/plain": [
       "  0%|          | 0/300 [00:00<?, ?it/s]"
      ]
     },
     "metadata": {},
     "output_type": "display_data"
    },
    {
     "name": "stdout",
     "output_type": "stream",
     "text": [
      "Starting inference with K = 3; Fold = 0; Iter = 17\n",
      "=== fitting GLM-HMM ========\n"
     ]
    },
    {
     "data": {
      "application/vnd.jupyter.widget-view+json": {
       "model_id": "e3f8733efa2440a69786d852e42445f1",
       "version_major": 2,
       "version_minor": 0
      },
      "text/plain": [
       "  0%|          | 0/300 [00:00<?, ?it/s]"
      ]
     },
     "metadata": {},
     "output_type": "display_data"
    },
    {
     "name": "stdout",
     "output_type": "stream",
     "text": [
      "Starting inference with K = 3; Fold = 0; Iter = 18\n",
      "=== fitting GLM-HMM ========\n"
     ]
    },
    {
     "data": {
      "application/vnd.jupyter.widget-view+json": {
       "model_id": "d14c5047eba94ab2bbbbe1e93ca4dc45",
       "version_major": 2,
       "version_minor": 0
      },
      "text/plain": [
       "  0%|          | 0/300 [00:00<?, ?it/s]"
      ]
     },
     "metadata": {},
     "output_type": "display_data"
    },
    {
     "name": "stdout",
     "output_type": "stream",
     "text": [
      "Starting inference with K = 3; Fold = 0; Iter = 19\n",
      "=== fitting GLM-HMM ========\n"
     ]
    },
    {
     "data": {
      "application/vnd.jupyter.widget-view+json": {
       "model_id": "4e2d4ecfa0834a87a0b020d8bec5db34",
       "version_major": 2,
       "version_minor": 0
      },
      "text/plain": [
       "  0%|          | 0/300 [00:00<?, ?it/s]"
      ]
     },
     "metadata": {},
     "output_type": "display_data"
    },
    {
     "name": "stdout",
     "output_type": "stream",
     "text": [
      "Starting inference with K = 3; Fold = 1; Iter = 0\n",
      "=== fitting GLM-HMM ========\n"
     ]
    },
    {
     "data": {
      "application/vnd.jupyter.widget-view+json": {
       "model_id": "41d4f2d3997a492cbc3e2e02577a77c9",
       "version_major": 2,
       "version_minor": 0
      },
      "text/plain": [
       "  0%|          | 0/300 [00:00<?, ?it/s]"
      ]
     },
     "metadata": {},
     "output_type": "display_data"
    },
    {
     "name": "stdout",
     "output_type": "stream",
     "text": [
      "Starting inference with K = 3; Fold = 1; Iter = 1\n",
      "=== fitting GLM-HMM ========\n"
     ]
    },
    {
     "data": {
      "application/vnd.jupyter.widget-view+json": {
       "model_id": "9506d61d02794ab6bbf4077815f856b1",
       "version_major": 2,
       "version_minor": 0
      },
      "text/plain": [
       "  0%|          | 0/300 [00:00<?, ?it/s]"
      ]
     },
     "metadata": {},
     "output_type": "display_data"
    },
    {
     "name": "stdout",
     "output_type": "stream",
     "text": [
      "Starting inference with K = 3; Fold = 1; Iter = 2\n",
      "=== fitting GLM-HMM ========\n"
     ]
    },
    {
     "data": {
      "application/vnd.jupyter.widget-view+json": {
       "model_id": "31da39bc5bce46eebbde7852ae49c7f0",
       "version_major": 2,
       "version_minor": 0
      },
      "text/plain": [
       "  0%|          | 0/300 [00:00<?, ?it/s]"
      ]
     },
     "metadata": {},
     "output_type": "display_data"
    },
    {
     "name": "stdout",
     "output_type": "stream",
     "text": [
      "Starting inference with K = 3; Fold = 1; Iter = 3\n",
      "=== fitting GLM-HMM ========\n"
     ]
    },
    {
     "data": {
      "application/vnd.jupyter.widget-view+json": {
       "model_id": "1f2eed89a19e460d95ae1785d7e444db",
       "version_major": 2,
       "version_minor": 0
      },
      "text/plain": [
       "  0%|          | 0/300 [00:00<?, ?it/s]"
      ]
     },
     "metadata": {},
     "output_type": "display_data"
    },
    {
     "name": "stdout",
     "output_type": "stream",
     "text": [
      "Starting inference with K = 3; Fold = 1; Iter = 4\n",
      "=== fitting GLM-HMM ========\n"
     ]
    },
    {
     "data": {
      "application/vnd.jupyter.widget-view+json": {
       "model_id": "706d9a407ab7489187d1cda249f0d6a6",
       "version_major": 2,
       "version_minor": 0
      },
      "text/plain": [
       "  0%|          | 0/300 [00:00<?, ?it/s]"
      ]
     },
     "metadata": {},
     "output_type": "display_data"
    },
    {
     "name": "stdout",
     "output_type": "stream",
     "text": [
      "Starting inference with K = 3; Fold = 1; Iter = 5\n",
      "=== fitting GLM-HMM ========\n"
     ]
    },
    {
     "data": {
      "application/vnd.jupyter.widget-view+json": {
       "model_id": "ddaa22830b7b4ce48c58881fa012e201",
       "version_major": 2,
       "version_minor": 0
      },
      "text/plain": [
       "  0%|          | 0/300 [00:00<?, ?it/s]"
      ]
     },
     "metadata": {},
     "output_type": "display_data"
    },
    {
     "name": "stdout",
     "output_type": "stream",
     "text": [
      "Starting inference with K = 3; Fold = 1; Iter = 6\n",
      "=== fitting GLM-HMM ========\n"
     ]
    },
    {
     "data": {
      "application/vnd.jupyter.widget-view+json": {
       "model_id": "55f886975b6942448c1e55c0f296b4e0",
       "version_major": 2,
       "version_minor": 0
      },
      "text/plain": [
       "  0%|          | 0/300 [00:00<?, ?it/s]"
      ]
     },
     "metadata": {},
     "output_type": "display_data"
    },
    {
     "name": "stdout",
     "output_type": "stream",
     "text": [
      "Starting inference with K = 3; Fold = 1; Iter = 7\n",
      "=== fitting GLM-HMM ========\n"
     ]
    },
    {
     "data": {
      "application/vnd.jupyter.widget-view+json": {
       "model_id": "b27590910134464e918aed963bc89ea4",
       "version_major": 2,
       "version_minor": 0
      },
      "text/plain": [
       "  0%|          | 0/300 [00:00<?, ?it/s]"
      ]
     },
     "metadata": {},
     "output_type": "display_data"
    },
    {
     "name": "stdout",
     "output_type": "stream",
     "text": [
      "Starting inference with K = 3; Fold = 1; Iter = 8\n",
      "=== fitting GLM-HMM ========\n"
     ]
    },
    {
     "data": {
      "application/vnd.jupyter.widget-view+json": {
       "model_id": "8db3618ff8304ff2bd76e006e7f903b1",
       "version_major": 2,
       "version_minor": 0
      },
      "text/plain": [
       "  0%|          | 0/300 [00:00<?, ?it/s]"
      ]
     },
     "metadata": {},
     "output_type": "display_data"
    },
    {
     "name": "stdout",
     "output_type": "stream",
     "text": [
      "Starting inference with K = 3; Fold = 1; Iter = 9\n",
      "=== fitting GLM-HMM ========\n"
     ]
    },
    {
     "data": {
      "application/vnd.jupyter.widget-view+json": {
       "model_id": "76f005ffc2e84e8c9bebfbefd532063e",
       "version_major": 2,
       "version_minor": 0
      },
      "text/plain": [
       "  0%|          | 0/300 [00:00<?, ?it/s]"
      ]
     },
     "metadata": {},
     "output_type": "display_data"
    },
    {
     "name": "stdout",
     "output_type": "stream",
     "text": [
      "Starting inference with K = 3; Fold = 1; Iter = 10\n",
      "=== fitting GLM-HMM ========\n"
     ]
    },
    {
     "data": {
      "application/vnd.jupyter.widget-view+json": {
       "model_id": "ac962e4b38534b70810438a772c70547",
       "version_major": 2,
       "version_minor": 0
      },
      "text/plain": [
       "  0%|          | 0/300 [00:00<?, ?it/s]"
      ]
     },
     "metadata": {},
     "output_type": "display_data"
    },
    {
     "name": "stdout",
     "output_type": "stream",
     "text": [
      "Starting inference with K = 3; Fold = 1; Iter = 11\n",
      "=== fitting GLM-HMM ========\n"
     ]
    },
    {
     "data": {
      "application/vnd.jupyter.widget-view+json": {
       "model_id": "0b6fa634a51b4bf48bf41634e32f5c22",
       "version_major": 2,
       "version_minor": 0
      },
      "text/plain": [
       "  0%|          | 0/300 [00:00<?, ?it/s]"
      ]
     },
     "metadata": {},
     "output_type": "display_data"
    },
    {
     "name": "stdout",
     "output_type": "stream",
     "text": [
      "Starting inference with K = 3; Fold = 1; Iter = 12\n",
      "=== fitting GLM-HMM ========\n"
     ]
    },
    {
     "data": {
      "application/vnd.jupyter.widget-view+json": {
       "model_id": "9da209bd202740daa857e9c66b08c527",
       "version_major": 2,
       "version_minor": 0
      },
      "text/plain": [
       "  0%|          | 0/300 [00:00<?, ?it/s]"
      ]
     },
     "metadata": {},
     "output_type": "display_data"
    },
    {
     "name": "stdout",
     "output_type": "stream",
     "text": [
      "Starting inference with K = 3; Fold = 1; Iter = 13\n",
      "=== fitting GLM-HMM ========\n"
     ]
    },
    {
     "data": {
      "application/vnd.jupyter.widget-view+json": {
       "model_id": "40a064a4646a46489b6c0ec65a18e926",
       "version_major": 2,
       "version_minor": 0
      },
      "text/plain": [
       "  0%|          | 0/300 [00:00<?, ?it/s]"
      ]
     },
     "metadata": {},
     "output_type": "display_data"
    },
    {
     "name": "stdout",
     "output_type": "stream",
     "text": [
      "Starting inference with K = 3; Fold = 1; Iter = 14\n",
      "=== fitting GLM-HMM ========\n"
     ]
    },
    {
     "data": {
      "application/vnd.jupyter.widget-view+json": {
       "model_id": "bc4a9ff2b09f4038838e5a59de584e40",
       "version_major": 2,
       "version_minor": 0
      },
      "text/plain": [
       "  0%|          | 0/300 [00:00<?, ?it/s]"
      ]
     },
     "metadata": {},
     "output_type": "display_data"
    },
    {
     "name": "stdout",
     "output_type": "stream",
     "text": [
      "Starting inference with K = 3; Fold = 1; Iter = 15\n",
      "=== fitting GLM-HMM ========\n"
     ]
    },
    {
     "data": {
      "application/vnd.jupyter.widget-view+json": {
       "model_id": "ea1f6f5809a6403e81430f5f80292358",
       "version_major": 2,
       "version_minor": 0
      },
      "text/plain": [
       "  0%|          | 0/300 [00:00<?, ?it/s]"
      ]
     },
     "metadata": {},
     "output_type": "display_data"
    },
    {
     "name": "stdout",
     "output_type": "stream",
     "text": [
      "Starting inference with K = 3; Fold = 1; Iter = 16\n",
      "=== fitting GLM-HMM ========\n"
     ]
    },
    {
     "data": {
      "application/vnd.jupyter.widget-view+json": {
       "model_id": "1d7e420b96184b21aa4d2ce611586651",
       "version_major": 2,
       "version_minor": 0
      },
      "text/plain": [
       "  0%|          | 0/300 [00:00<?, ?it/s]"
      ]
     },
     "metadata": {},
     "output_type": "display_data"
    },
    {
     "name": "stdout",
     "output_type": "stream",
     "text": [
      "Starting inference with K = 3; Fold = 1; Iter = 17\n",
      "=== fitting GLM-HMM ========\n"
     ]
    },
    {
     "data": {
      "application/vnd.jupyter.widget-view+json": {
       "model_id": "b1426fe0dafc4b8c94bda8d75ca76365",
       "version_major": 2,
       "version_minor": 0
      },
      "text/plain": [
       "  0%|          | 0/300 [00:00<?, ?it/s]"
      ]
     },
     "metadata": {},
     "output_type": "display_data"
    },
    {
     "name": "stdout",
     "output_type": "stream",
     "text": [
      "Starting inference with K = 3; Fold = 1; Iter = 18\n",
      "=== fitting GLM-HMM ========\n"
     ]
    },
    {
     "data": {
      "application/vnd.jupyter.widget-view+json": {
       "model_id": "f3f844d0075d4c97a4331c1e1a548bc3",
       "version_major": 2,
       "version_minor": 0
      },
      "text/plain": [
       "  0%|          | 0/300 [00:00<?, ?it/s]"
      ]
     },
     "metadata": {},
     "output_type": "display_data"
    },
    {
     "name": "stdout",
     "output_type": "stream",
     "text": [
      "Starting inference with K = 3; Fold = 1; Iter = 19\n",
      "=== fitting GLM-HMM ========\n"
     ]
    },
    {
     "data": {
      "application/vnd.jupyter.widget-view+json": {
       "model_id": "e6efe44de92b482bbff2982635598cb4",
       "version_major": 2,
       "version_minor": 0
      },
      "text/plain": [
       "  0%|          | 0/300 [00:00<?, ?it/s]"
      ]
     },
     "metadata": {},
     "output_type": "display_data"
    },
    {
     "name": "stdout",
     "output_type": "stream",
     "text": [
      "Starting inference with K = 3; Fold = 2; Iter = 0\n",
      "=== fitting GLM-HMM ========\n"
     ]
    },
    {
     "data": {
      "application/vnd.jupyter.widget-view+json": {
       "model_id": "a2970e2125004ab4bd1b54f4ce4febf4",
       "version_major": 2,
       "version_minor": 0
      },
      "text/plain": [
       "  0%|          | 0/300 [00:00<?, ?it/s]"
      ]
     },
     "metadata": {},
     "output_type": "display_data"
    },
    {
     "name": "stdout",
     "output_type": "stream",
     "text": [
      "Starting inference with K = 3; Fold = 2; Iter = 1\n",
      "=== fitting GLM-HMM ========\n"
     ]
    },
    {
     "data": {
      "application/vnd.jupyter.widget-view+json": {
       "model_id": "919a784c9e064717ba66b0d10997e7c0",
       "version_major": 2,
       "version_minor": 0
      },
      "text/plain": [
       "  0%|          | 0/300 [00:00<?, ?it/s]"
      ]
     },
     "metadata": {},
     "output_type": "display_data"
    },
    {
     "name": "stdout",
     "output_type": "stream",
     "text": [
      "Starting inference with K = 3; Fold = 2; Iter = 2\n",
      "=== fitting GLM-HMM ========\n"
     ]
    },
    {
     "data": {
      "application/vnd.jupyter.widget-view+json": {
       "model_id": "f6b7a3e2e69049e4b7bdf4eb800addd0",
       "version_major": 2,
       "version_minor": 0
      },
      "text/plain": [
       "  0%|          | 0/300 [00:00<?, ?it/s]"
      ]
     },
     "metadata": {},
     "output_type": "display_data"
    },
    {
     "name": "stdout",
     "output_type": "stream",
     "text": [
      "Starting inference with K = 3; Fold = 2; Iter = 3\n",
      "=== fitting GLM-HMM ========\n"
     ]
    },
    {
     "data": {
      "application/vnd.jupyter.widget-view+json": {
       "model_id": "d1aa7d7d0a854adeb4e10fcf71c457cc",
       "version_major": 2,
       "version_minor": 0
      },
      "text/plain": [
       "  0%|          | 0/300 [00:00<?, ?it/s]"
      ]
     },
     "metadata": {},
     "output_type": "display_data"
    },
    {
     "name": "stdout",
     "output_type": "stream",
     "text": [
      "Starting inference with K = 3; Fold = 2; Iter = 4\n",
      "=== fitting GLM-HMM ========\n"
     ]
    },
    {
     "data": {
      "application/vnd.jupyter.widget-view+json": {
       "model_id": "7d637c3ba81541509a7e3d1e84e95795",
       "version_major": 2,
       "version_minor": 0
      },
      "text/plain": [
       "  0%|          | 0/300 [00:00<?, ?it/s]"
      ]
     },
     "metadata": {},
     "output_type": "display_data"
    },
    {
     "name": "stdout",
     "output_type": "stream",
     "text": [
      "Starting inference with K = 3; Fold = 2; Iter = 5\n",
      "=== fitting GLM-HMM ========\n"
     ]
    },
    {
     "data": {
      "application/vnd.jupyter.widget-view+json": {
       "model_id": "91f39935ccfd4a3f8dd2aa60b9329e8d",
       "version_major": 2,
       "version_minor": 0
      },
      "text/plain": [
       "  0%|          | 0/300 [00:00<?, ?it/s]"
      ]
     },
     "metadata": {},
     "output_type": "display_data"
    },
    {
     "name": "stdout",
     "output_type": "stream",
     "text": [
      "Starting inference with K = 3; Fold = 2; Iter = 6\n",
      "=== fitting GLM-HMM ========\n"
     ]
    },
    {
     "data": {
      "application/vnd.jupyter.widget-view+json": {
       "model_id": "a504f680076246c8bf7904a1e8ed8a47",
       "version_major": 2,
       "version_minor": 0
      },
      "text/plain": [
       "  0%|          | 0/300 [00:00<?, ?it/s]"
      ]
     },
     "metadata": {},
     "output_type": "display_data"
    },
    {
     "name": "stdout",
     "output_type": "stream",
     "text": [
      "Starting inference with K = 3; Fold = 2; Iter = 7\n",
      "=== fitting GLM-HMM ========\n"
     ]
    },
    {
     "data": {
      "application/vnd.jupyter.widget-view+json": {
       "model_id": "907e1602b80d41a2951e97b9ce41fb75",
       "version_major": 2,
       "version_minor": 0
      },
      "text/plain": [
       "  0%|          | 0/300 [00:00<?, ?it/s]"
      ]
     },
     "metadata": {},
     "output_type": "display_data"
    },
    {
     "name": "stdout",
     "output_type": "stream",
     "text": [
      "Starting inference with K = 3; Fold = 2; Iter = 8\n",
      "=== fitting GLM-HMM ========\n"
     ]
    },
    {
     "data": {
      "application/vnd.jupyter.widget-view+json": {
       "model_id": "724475b6085142fbb0201a73bd0a1127",
       "version_major": 2,
       "version_minor": 0
      },
      "text/plain": [
       "  0%|          | 0/300 [00:00<?, ?it/s]"
      ]
     },
     "metadata": {},
     "output_type": "display_data"
    },
    {
     "name": "stdout",
     "output_type": "stream",
     "text": [
      "Starting inference with K = 3; Fold = 2; Iter = 9\n",
      "=== fitting GLM-HMM ========\n"
     ]
    },
    {
     "data": {
      "application/vnd.jupyter.widget-view+json": {
       "model_id": "4a4edb746ec94fb4a7f3789d369cc85f",
       "version_major": 2,
       "version_minor": 0
      },
      "text/plain": [
       "  0%|          | 0/300 [00:00<?, ?it/s]"
      ]
     },
     "metadata": {},
     "output_type": "display_data"
    },
    {
     "name": "stdout",
     "output_type": "stream",
     "text": [
      "Starting inference with K = 3; Fold = 2; Iter = 10\n",
      "=== fitting GLM-HMM ========\n"
     ]
    },
    {
     "data": {
      "application/vnd.jupyter.widget-view+json": {
       "model_id": "c1fd930631494f68b39316d3dcf00a58",
       "version_major": 2,
       "version_minor": 0
      },
      "text/plain": [
       "  0%|          | 0/300 [00:00<?, ?it/s]"
      ]
     },
     "metadata": {},
     "output_type": "display_data"
    },
    {
     "name": "stdout",
     "output_type": "stream",
     "text": [
      "Starting inference with K = 3; Fold = 2; Iter = 11\n",
      "=== fitting GLM-HMM ========\n"
     ]
    },
    {
     "data": {
      "application/vnd.jupyter.widget-view+json": {
       "model_id": "c5a8206efff34bc9be480031820b196d",
       "version_major": 2,
       "version_minor": 0
      },
      "text/plain": [
       "  0%|          | 0/300 [00:00<?, ?it/s]"
      ]
     },
     "metadata": {},
     "output_type": "display_data"
    },
    {
     "name": "stdout",
     "output_type": "stream",
     "text": [
      "Starting inference with K = 3; Fold = 2; Iter = 12\n",
      "=== fitting GLM-HMM ========\n"
     ]
    },
    {
     "data": {
      "application/vnd.jupyter.widget-view+json": {
       "model_id": "b8cb66c44057422fa83b2db7725881f0",
       "version_major": 2,
       "version_minor": 0
      },
      "text/plain": [
       "  0%|          | 0/300 [00:00<?, ?it/s]"
      ]
     },
     "metadata": {},
     "output_type": "display_data"
    },
    {
     "name": "stdout",
     "output_type": "stream",
     "text": [
      "Starting inference with K = 3; Fold = 2; Iter = 13\n",
      "=== fitting GLM-HMM ========\n"
     ]
    },
    {
     "data": {
      "application/vnd.jupyter.widget-view+json": {
       "model_id": "0d5511782773441d86ce331e33bca54b",
       "version_major": 2,
       "version_minor": 0
      },
      "text/plain": [
       "  0%|          | 0/300 [00:00<?, ?it/s]"
      ]
     },
     "metadata": {},
     "output_type": "display_data"
    },
    {
     "name": "stdout",
     "output_type": "stream",
     "text": [
      "Starting inference with K = 3; Fold = 2; Iter = 14\n",
      "=== fitting GLM-HMM ========\n"
     ]
    },
    {
     "data": {
      "application/vnd.jupyter.widget-view+json": {
       "model_id": "a2c5fc3ca22c40eab3eea75919456a87",
       "version_major": 2,
       "version_minor": 0
      },
      "text/plain": [
       "  0%|          | 0/300 [00:00<?, ?it/s]"
      ]
     },
     "metadata": {},
     "output_type": "display_data"
    },
    {
     "name": "stdout",
     "output_type": "stream",
     "text": [
      "Starting inference with K = 3; Fold = 2; Iter = 15\n",
      "=== fitting GLM-HMM ========\n"
     ]
    },
    {
     "data": {
      "application/vnd.jupyter.widget-view+json": {
       "model_id": "89a9b8f68e144db3bd5384d8cfb069eb",
       "version_major": 2,
       "version_minor": 0
      },
      "text/plain": [
       "  0%|          | 0/300 [00:00<?, ?it/s]"
      ]
     },
     "metadata": {},
     "output_type": "display_data"
    },
    {
     "name": "stdout",
     "output_type": "stream",
     "text": [
      "Starting inference with K = 3; Fold = 2; Iter = 16\n",
      "=== fitting GLM-HMM ========\n"
     ]
    },
    {
     "data": {
      "application/vnd.jupyter.widget-view+json": {
       "model_id": "3508e775078a4bc884e2a0270861e516",
       "version_major": 2,
       "version_minor": 0
      },
      "text/plain": [
       "  0%|          | 0/300 [00:00<?, ?it/s]"
      ]
     },
     "metadata": {},
     "output_type": "display_data"
    },
    {
     "name": "stdout",
     "output_type": "stream",
     "text": [
      "Starting inference with K = 3; Fold = 2; Iter = 17\n",
      "=== fitting GLM-HMM ========\n"
     ]
    },
    {
     "data": {
      "application/vnd.jupyter.widget-view+json": {
       "model_id": "7c4b1ded555240849319c5f49835878a",
       "version_major": 2,
       "version_minor": 0
      },
      "text/plain": [
       "  0%|          | 0/300 [00:00<?, ?it/s]"
      ]
     },
     "metadata": {},
     "output_type": "display_data"
    },
    {
     "name": "stdout",
     "output_type": "stream",
     "text": [
      "Starting inference with K = 3; Fold = 2; Iter = 18\n",
      "=== fitting GLM-HMM ========\n"
     ]
    },
    {
     "data": {
      "application/vnd.jupyter.widget-view+json": {
       "model_id": "eca591f94fc94caea38d8350d96a9edb",
       "version_major": 2,
       "version_minor": 0
      },
      "text/plain": [
       "  0%|          | 0/300 [00:00<?, ?it/s]"
      ]
     },
     "metadata": {},
     "output_type": "display_data"
    },
    {
     "name": "stdout",
     "output_type": "stream",
     "text": [
      "Starting inference with K = 3; Fold = 2; Iter = 19\n",
      "=== fitting GLM-HMM ========\n"
     ]
    },
    {
     "data": {
      "application/vnd.jupyter.widget-view+json": {
       "model_id": "a1a5d5bdcf5045368d8c5192c43ac735",
       "version_major": 2,
       "version_minor": 0
      },
      "text/plain": [
       "  0%|          | 0/300 [00:00<?, ?it/s]"
      ]
     },
     "metadata": {},
     "output_type": "display_data"
    },
    {
     "name": "stdout",
     "output_type": "stream",
     "text": [
      "Starting inference with K = 3; Fold = 3; Iter = 0\n",
      "=== fitting GLM-HMM ========\n"
     ]
    },
    {
     "data": {
      "application/vnd.jupyter.widget-view+json": {
       "model_id": "4fc9d24849be4785b6c4986e77e11495",
       "version_major": 2,
       "version_minor": 0
      },
      "text/plain": [
       "  0%|          | 0/300 [00:00<?, ?it/s]"
      ]
     },
     "metadata": {},
     "output_type": "display_data"
    },
    {
     "name": "stdout",
     "output_type": "stream",
     "text": [
      "Starting inference with K = 3; Fold = 3; Iter = 1\n",
      "=== fitting GLM-HMM ========\n"
     ]
    },
    {
     "data": {
      "application/vnd.jupyter.widget-view+json": {
       "model_id": "78e4edc1a7b74768865ba84021a966d8",
       "version_major": 2,
       "version_minor": 0
      },
      "text/plain": [
       "  0%|          | 0/300 [00:00<?, ?it/s]"
      ]
     },
     "metadata": {},
     "output_type": "display_data"
    },
    {
     "name": "stdout",
     "output_type": "stream",
     "text": [
      "Starting inference with K = 3; Fold = 3; Iter = 2\n",
      "=== fitting GLM-HMM ========\n"
     ]
    },
    {
     "data": {
      "application/vnd.jupyter.widget-view+json": {
       "model_id": "8506765cdcef4aa587eeef47b8f631da",
       "version_major": 2,
       "version_minor": 0
      },
      "text/plain": [
       "  0%|          | 0/300 [00:00<?, ?it/s]"
      ]
     },
     "metadata": {},
     "output_type": "display_data"
    },
    {
     "name": "stdout",
     "output_type": "stream",
     "text": [
      "Starting inference with K = 3; Fold = 3; Iter = 3\n",
      "=== fitting GLM-HMM ========\n"
     ]
    },
    {
     "data": {
      "application/vnd.jupyter.widget-view+json": {
       "model_id": "d6877bb839c94bbe8572082a2f73775f",
       "version_major": 2,
       "version_minor": 0
      },
      "text/plain": [
       "  0%|          | 0/300 [00:00<?, ?it/s]"
      ]
     },
     "metadata": {},
     "output_type": "display_data"
    },
    {
     "name": "stdout",
     "output_type": "stream",
     "text": [
      "Starting inference with K = 3; Fold = 3; Iter = 4\n",
      "=== fitting GLM-HMM ========\n"
     ]
    },
    {
     "data": {
      "application/vnd.jupyter.widget-view+json": {
       "model_id": "a00002541f2344aa9db6e636249dc9a5",
       "version_major": 2,
       "version_minor": 0
      },
      "text/plain": [
       "  0%|          | 0/300 [00:00<?, ?it/s]"
      ]
     },
     "metadata": {},
     "output_type": "display_data"
    },
    {
     "name": "stdout",
     "output_type": "stream",
     "text": [
      "Starting inference with K = 3; Fold = 3; Iter = 5\n",
      "=== fitting GLM-HMM ========\n"
     ]
    },
    {
     "data": {
      "application/vnd.jupyter.widget-view+json": {
       "model_id": "e24e3a732e484746a781d5fda511cf81",
       "version_major": 2,
       "version_minor": 0
      },
      "text/plain": [
       "  0%|          | 0/300 [00:00<?, ?it/s]"
      ]
     },
     "metadata": {},
     "output_type": "display_data"
    },
    {
     "name": "stdout",
     "output_type": "stream",
     "text": [
      "Starting inference with K = 3; Fold = 3; Iter = 6\n",
      "=== fitting GLM-HMM ========\n"
     ]
    },
    {
     "data": {
      "application/vnd.jupyter.widget-view+json": {
       "model_id": "631c765c90784c6fb0fc69696bafa900",
       "version_major": 2,
       "version_minor": 0
      },
      "text/plain": [
       "  0%|          | 0/300 [00:00<?, ?it/s]"
      ]
     },
     "metadata": {},
     "output_type": "display_data"
    },
    {
     "name": "stdout",
     "output_type": "stream",
     "text": [
      "Starting inference with K = 3; Fold = 3; Iter = 7\n",
      "=== fitting GLM-HMM ========\n"
     ]
    },
    {
     "data": {
      "application/vnd.jupyter.widget-view+json": {
       "model_id": "5d58b58c839449b2a0498356eae492ae",
       "version_major": 2,
       "version_minor": 0
      },
      "text/plain": [
       "  0%|          | 0/300 [00:00<?, ?it/s]"
      ]
     },
     "metadata": {},
     "output_type": "display_data"
    },
    {
     "name": "stdout",
     "output_type": "stream",
     "text": [
      "Starting inference with K = 3; Fold = 3; Iter = 8\n",
      "=== fitting GLM-HMM ========\n"
     ]
    },
    {
     "data": {
      "application/vnd.jupyter.widget-view+json": {
       "model_id": "dea2493e392c430cbef9893344460880",
       "version_major": 2,
       "version_minor": 0
      },
      "text/plain": [
       "  0%|          | 0/300 [00:00<?, ?it/s]"
      ]
     },
     "metadata": {},
     "output_type": "display_data"
    },
    {
     "name": "stdout",
     "output_type": "stream",
     "text": [
      "Starting inference with K = 3; Fold = 3; Iter = 9\n",
      "=== fitting GLM-HMM ========\n"
     ]
    },
    {
     "data": {
      "application/vnd.jupyter.widget-view+json": {
       "model_id": "369186b231a64a3998639fc2357ca5c1",
       "version_major": 2,
       "version_minor": 0
      },
      "text/plain": [
       "  0%|          | 0/300 [00:00<?, ?it/s]"
      ]
     },
     "metadata": {},
     "output_type": "display_data"
    },
    {
     "name": "stdout",
     "output_type": "stream",
     "text": [
      "Starting inference with K = 3; Fold = 3; Iter = 10\n",
      "=== fitting GLM-HMM ========\n"
     ]
    },
    {
     "data": {
      "application/vnd.jupyter.widget-view+json": {
       "model_id": "95ce61ea73724909b8377369e85cd254",
       "version_major": 2,
       "version_minor": 0
      },
      "text/plain": [
       "  0%|          | 0/300 [00:00<?, ?it/s]"
      ]
     },
     "metadata": {},
     "output_type": "display_data"
    },
    {
     "name": "stdout",
     "output_type": "stream",
     "text": [
      "Starting inference with K = 3; Fold = 3; Iter = 11\n",
      "=== fitting GLM-HMM ========\n"
     ]
    },
    {
     "data": {
      "application/vnd.jupyter.widget-view+json": {
       "model_id": "bde23ddb577a4a34b091ad66fc3f466f",
       "version_major": 2,
       "version_minor": 0
      },
      "text/plain": [
       "  0%|          | 0/300 [00:00<?, ?it/s]"
      ]
     },
     "metadata": {},
     "output_type": "display_data"
    },
    {
     "name": "stdout",
     "output_type": "stream",
     "text": [
      "Starting inference with K = 3; Fold = 3; Iter = 12\n",
      "=== fitting GLM-HMM ========\n"
     ]
    },
    {
     "data": {
      "application/vnd.jupyter.widget-view+json": {
       "model_id": "72019db5c0d6426db67de6d1893f6933",
       "version_major": 2,
       "version_minor": 0
      },
      "text/plain": [
       "  0%|          | 0/300 [00:00<?, ?it/s]"
      ]
     },
     "metadata": {},
     "output_type": "display_data"
    },
    {
     "name": "stdout",
     "output_type": "stream",
     "text": [
      "Starting inference with K = 3; Fold = 3; Iter = 13\n",
      "=== fitting GLM-HMM ========\n"
     ]
    },
    {
     "data": {
      "application/vnd.jupyter.widget-view+json": {
       "model_id": "c602a43b555c475f90001f53450210f2",
       "version_major": 2,
       "version_minor": 0
      },
      "text/plain": [
       "  0%|          | 0/300 [00:00<?, ?it/s]"
      ]
     },
     "metadata": {},
     "output_type": "display_data"
    },
    {
     "name": "stdout",
     "output_type": "stream",
     "text": [
      "Starting inference with K = 3; Fold = 3; Iter = 14\n",
      "=== fitting GLM-HMM ========\n"
     ]
    },
    {
     "data": {
      "application/vnd.jupyter.widget-view+json": {
       "model_id": "0d5d2358d369491cacb6ae8052ca6b18",
       "version_major": 2,
       "version_minor": 0
      },
      "text/plain": [
       "  0%|          | 0/300 [00:00<?, ?it/s]"
      ]
     },
     "metadata": {},
     "output_type": "display_data"
    },
    {
     "name": "stdout",
     "output_type": "stream",
     "text": [
      "Starting inference with K = 3; Fold = 3; Iter = 15\n",
      "=== fitting GLM-HMM ========\n"
     ]
    },
    {
     "data": {
      "application/vnd.jupyter.widget-view+json": {
       "model_id": "2d2fdace78064daba175e653429eeff9",
       "version_major": 2,
       "version_minor": 0
      },
      "text/plain": [
       "  0%|          | 0/300 [00:00<?, ?it/s]"
      ]
     },
     "metadata": {},
     "output_type": "display_data"
    },
    {
     "name": "stdout",
     "output_type": "stream",
     "text": [
      "Starting inference with K = 3; Fold = 3; Iter = 16\n",
      "=== fitting GLM-HMM ========\n"
     ]
    },
    {
     "data": {
      "application/vnd.jupyter.widget-view+json": {
       "model_id": "15a86b64872f46fda8fc94eb52dedcfc",
       "version_major": 2,
       "version_minor": 0
      },
      "text/plain": [
       "  0%|          | 0/300 [00:00<?, ?it/s]"
      ]
     },
     "metadata": {},
     "output_type": "display_data"
    },
    {
     "name": "stdout",
     "output_type": "stream",
     "text": [
      "Starting inference with K = 3; Fold = 3; Iter = 17\n",
      "=== fitting GLM-HMM ========\n"
     ]
    },
    {
     "data": {
      "application/vnd.jupyter.widget-view+json": {
       "model_id": "7a0fc4628dbd47008f57db3e03fb9c1e",
       "version_major": 2,
       "version_minor": 0
      },
      "text/plain": [
       "  0%|          | 0/300 [00:00<?, ?it/s]"
      ]
     },
     "metadata": {},
     "output_type": "display_data"
    },
    {
     "name": "stdout",
     "output_type": "stream",
     "text": [
      "Starting inference with K = 3; Fold = 3; Iter = 18\n",
      "=== fitting GLM-HMM ========\n"
     ]
    },
    {
     "data": {
      "application/vnd.jupyter.widget-view+json": {
       "model_id": "7bb75dd475224fa187a031da950d1d62",
       "version_major": 2,
       "version_minor": 0
      },
      "text/plain": [
       "  0%|          | 0/300 [00:00<?, ?it/s]"
      ]
     },
     "metadata": {},
     "output_type": "display_data"
    },
    {
     "name": "stdout",
     "output_type": "stream",
     "text": [
      "Starting inference with K = 3; Fold = 3; Iter = 19\n",
      "=== fitting GLM-HMM ========\n"
     ]
    },
    {
     "data": {
      "application/vnd.jupyter.widget-view+json": {
       "model_id": "e449959f36924de88d850751d0376601",
       "version_major": 2,
       "version_minor": 0
      },
      "text/plain": [
       "  0%|          | 0/300 [00:00<?, ?it/s]"
      ]
     },
     "metadata": {},
     "output_type": "display_data"
    },
    {
     "name": "stdout",
     "output_type": "stream",
     "text": [
      "Starting inference with K = 3; Fold = 4; Iter = 0\n",
      "=== fitting GLM-HMM ========\n"
     ]
    },
    {
     "data": {
      "application/vnd.jupyter.widget-view+json": {
       "model_id": "4750fe327b1641ca8eaa8cf12b103088",
       "version_major": 2,
       "version_minor": 0
      },
      "text/plain": [
       "  0%|          | 0/300 [00:00<?, ?it/s]"
      ]
     },
     "metadata": {},
     "output_type": "display_data"
    },
    {
     "name": "stdout",
     "output_type": "stream",
     "text": [
      "Starting inference with K = 3; Fold = 4; Iter = 1\n",
      "=== fitting GLM-HMM ========\n"
     ]
    },
    {
     "data": {
      "application/vnd.jupyter.widget-view+json": {
       "model_id": "7703eb3b266744f0bd0d7bb6b8afeae9",
       "version_major": 2,
       "version_minor": 0
      },
      "text/plain": [
       "  0%|          | 0/300 [00:00<?, ?it/s]"
      ]
     },
     "metadata": {},
     "output_type": "display_data"
    },
    {
     "name": "stdout",
     "output_type": "stream",
     "text": [
      "Starting inference with K = 3; Fold = 4; Iter = 2\n",
      "=== fitting GLM-HMM ========\n"
     ]
    },
    {
     "data": {
      "application/vnd.jupyter.widget-view+json": {
       "model_id": "735b8363ed68435394abb3bb26f81390",
       "version_major": 2,
       "version_minor": 0
      },
      "text/plain": [
       "  0%|          | 0/300 [00:00<?, ?it/s]"
      ]
     },
     "metadata": {},
     "output_type": "display_data"
    },
    {
     "name": "stdout",
     "output_type": "stream",
     "text": [
      "Starting inference with K = 3; Fold = 4; Iter = 3\n",
      "=== fitting GLM-HMM ========\n"
     ]
    },
    {
     "data": {
      "application/vnd.jupyter.widget-view+json": {
       "model_id": "60a6cdcd6ac2433aa1f19856820f0887",
       "version_major": 2,
       "version_minor": 0
      },
      "text/plain": [
       "  0%|          | 0/300 [00:00<?, ?it/s]"
      ]
     },
     "metadata": {},
     "output_type": "display_data"
    },
    {
     "name": "stdout",
     "output_type": "stream",
     "text": [
      "Starting inference with K = 3; Fold = 4; Iter = 4\n",
      "=== fitting GLM-HMM ========\n"
     ]
    },
    {
     "data": {
      "application/vnd.jupyter.widget-view+json": {
       "model_id": "a257aa2c7afe4846899c997a712ad22f",
       "version_major": 2,
       "version_minor": 0
      },
      "text/plain": [
       "  0%|          | 0/300 [00:00<?, ?it/s]"
      ]
     },
     "metadata": {},
     "output_type": "display_data"
    },
    {
     "name": "stdout",
     "output_type": "stream",
     "text": [
      "Starting inference with K = 3; Fold = 4; Iter = 5\n",
      "=== fitting GLM-HMM ========\n"
     ]
    },
    {
     "data": {
      "application/vnd.jupyter.widget-view+json": {
       "model_id": "bcd231267ece4e68bc9f1d588795ff71",
       "version_major": 2,
       "version_minor": 0
      },
      "text/plain": [
       "  0%|          | 0/300 [00:00<?, ?it/s]"
      ]
     },
     "metadata": {},
     "output_type": "display_data"
    },
    {
     "name": "stdout",
     "output_type": "stream",
     "text": [
      "Starting inference with K = 3; Fold = 4; Iter = 6\n",
      "=== fitting GLM-HMM ========\n"
     ]
    },
    {
     "data": {
      "application/vnd.jupyter.widget-view+json": {
       "model_id": "fb87ec54cd6548e9a46bbbc42924da48",
       "version_major": 2,
       "version_minor": 0
      },
      "text/plain": [
       "  0%|          | 0/300 [00:00<?, ?it/s]"
      ]
     },
     "metadata": {},
     "output_type": "display_data"
    },
    {
     "name": "stdout",
     "output_type": "stream",
     "text": [
      "Starting inference with K = 3; Fold = 4; Iter = 7\n",
      "=== fitting GLM-HMM ========\n"
     ]
    },
    {
     "data": {
      "application/vnd.jupyter.widget-view+json": {
       "model_id": "48af6eff18ec4b9abe719637f99f953e",
       "version_major": 2,
       "version_minor": 0
      },
      "text/plain": [
       "  0%|          | 0/300 [00:00<?, ?it/s]"
      ]
     },
     "metadata": {},
     "output_type": "display_data"
    },
    {
     "name": "stdout",
     "output_type": "stream",
     "text": [
      "Starting inference with K = 3; Fold = 4; Iter = 8\n",
      "=== fitting GLM-HMM ========\n"
     ]
    },
    {
     "data": {
      "application/vnd.jupyter.widget-view+json": {
       "model_id": "8bfdbc8d18a847d7aebe93035c7ac0f5",
       "version_major": 2,
       "version_minor": 0
      },
      "text/plain": [
       "  0%|          | 0/300 [00:00<?, ?it/s]"
      ]
     },
     "metadata": {},
     "output_type": "display_data"
    },
    {
     "name": "stdout",
     "output_type": "stream",
     "text": [
      "Starting inference with K = 3; Fold = 4; Iter = 9\n",
      "=== fitting GLM-HMM ========\n"
     ]
    },
    {
     "data": {
      "application/vnd.jupyter.widget-view+json": {
       "model_id": "80cf8c21855f4c92a29747e3e98b947c",
       "version_major": 2,
       "version_minor": 0
      },
      "text/plain": [
       "  0%|          | 0/300 [00:00<?, ?it/s]"
      ]
     },
     "metadata": {},
     "output_type": "display_data"
    },
    {
     "name": "stdout",
     "output_type": "stream",
     "text": [
      "Starting inference with K = 3; Fold = 4; Iter = 10\n",
      "=== fitting GLM-HMM ========\n"
     ]
    },
    {
     "data": {
      "application/vnd.jupyter.widget-view+json": {
       "model_id": "7c4bb37921f949b386ff9991e0832a21",
       "version_major": 2,
       "version_minor": 0
      },
      "text/plain": [
       "  0%|          | 0/300 [00:00<?, ?it/s]"
      ]
     },
     "metadata": {},
     "output_type": "display_data"
    },
    {
     "name": "stdout",
     "output_type": "stream",
     "text": [
      "Starting inference with K = 3; Fold = 4; Iter = 11\n",
      "=== fitting GLM-HMM ========\n"
     ]
    },
    {
     "data": {
      "application/vnd.jupyter.widget-view+json": {
       "model_id": "0b5a9aa23d7842688076e188b83e82fd",
       "version_major": 2,
       "version_minor": 0
      },
      "text/plain": [
       "  0%|          | 0/300 [00:00<?, ?it/s]"
      ]
     },
     "metadata": {},
     "output_type": "display_data"
    },
    {
     "name": "stdout",
     "output_type": "stream",
     "text": [
      "Starting inference with K = 3; Fold = 4; Iter = 12\n",
      "=== fitting GLM-HMM ========\n"
     ]
    },
    {
     "data": {
      "application/vnd.jupyter.widget-view+json": {
       "model_id": "9999a0316f9b48a1b0d5f217bed0daf2",
       "version_major": 2,
       "version_minor": 0
      },
      "text/plain": [
       "  0%|          | 0/300 [00:00<?, ?it/s]"
      ]
     },
     "metadata": {},
     "output_type": "display_data"
    },
    {
     "name": "stdout",
     "output_type": "stream",
     "text": [
      "Starting inference with K = 3; Fold = 4; Iter = 13\n",
      "=== fitting GLM-HMM ========\n"
     ]
    },
    {
     "data": {
      "application/vnd.jupyter.widget-view+json": {
       "model_id": "bf4153758af647f3b902adc22734e821",
       "version_major": 2,
       "version_minor": 0
      },
      "text/plain": [
       "  0%|          | 0/300 [00:00<?, ?it/s]"
      ]
     },
     "metadata": {},
     "output_type": "display_data"
    },
    {
     "name": "stdout",
     "output_type": "stream",
     "text": [
      "Starting inference with K = 3; Fold = 4; Iter = 14\n",
      "=== fitting GLM-HMM ========\n"
     ]
    },
    {
     "data": {
      "application/vnd.jupyter.widget-view+json": {
       "model_id": "c92d7d0fd36a47fe90df955708c9fd27",
       "version_major": 2,
       "version_minor": 0
      },
      "text/plain": [
       "  0%|          | 0/300 [00:00<?, ?it/s]"
      ]
     },
     "metadata": {},
     "output_type": "display_data"
    },
    {
     "name": "stdout",
     "output_type": "stream",
     "text": [
      "Starting inference with K = 3; Fold = 4; Iter = 15\n",
      "=== fitting GLM-HMM ========\n"
     ]
    },
    {
     "data": {
      "application/vnd.jupyter.widget-view+json": {
       "model_id": "7cf324a61ee1470bb4b4f2ff5e193142",
       "version_major": 2,
       "version_minor": 0
      },
      "text/plain": [
       "  0%|          | 0/300 [00:00<?, ?it/s]"
      ]
     },
     "metadata": {},
     "output_type": "display_data"
    },
    {
     "name": "stdout",
     "output_type": "stream",
     "text": [
      "Starting inference with K = 3; Fold = 4; Iter = 16\n",
      "=== fitting GLM-HMM ========\n"
     ]
    },
    {
     "data": {
      "application/vnd.jupyter.widget-view+json": {
       "model_id": "7034c877a2694ea2be49765fb033a4aa",
       "version_major": 2,
       "version_minor": 0
      },
      "text/plain": [
       "  0%|          | 0/300 [00:00<?, ?it/s]"
      ]
     },
     "metadata": {},
     "output_type": "display_data"
    },
    {
     "name": "stdout",
     "output_type": "stream",
     "text": [
      "Starting inference with K = 3; Fold = 4; Iter = 17\n",
      "=== fitting GLM-HMM ========\n"
     ]
    },
    {
     "data": {
      "application/vnd.jupyter.widget-view+json": {
       "model_id": "58b71f1f7cd645c7bf692c491652e786",
       "version_major": 2,
       "version_minor": 0
      },
      "text/plain": [
       "  0%|          | 0/300 [00:00<?, ?it/s]"
      ]
     },
     "metadata": {},
     "output_type": "display_data"
    },
    {
     "name": "stdout",
     "output_type": "stream",
     "text": [
      "Starting inference with K = 3; Fold = 4; Iter = 18\n",
      "=== fitting GLM-HMM ========\n"
     ]
    },
    {
     "data": {
      "application/vnd.jupyter.widget-view+json": {
       "model_id": "68b4fe5fd5114443a10b2f615e415634",
       "version_major": 2,
       "version_minor": 0
      },
      "text/plain": [
       "  0%|          | 0/300 [00:00<?, ?it/s]"
      ]
     },
     "metadata": {},
     "output_type": "display_data"
    },
    {
     "name": "stdout",
     "output_type": "stream",
     "text": [
      "Starting inference with K = 3; Fold = 4; Iter = 19\n",
      "=== fitting GLM-HMM ========\n"
     ]
    },
    {
     "data": {
      "application/vnd.jupyter.widget-view+json": {
       "model_id": "1b84848153b4404bbe37a75b95bc5403",
       "version_major": 2,
       "version_minor": 0
      },
      "text/plain": [
       "  0%|          | 0/300 [00:00<?, ?it/s]"
      ]
     },
     "metadata": {},
     "output_type": "display_data"
    },
    {
     "name": "stderr",
     "output_type": "stream",
     "text": [
      "/home/ines/repositories/ssm/ssm/optimizers.py:146: UserWarning: BFGS failed with message:\n",
      "Desired error not necessarily achieved due to precision loss.\n",
      "  warn(\"{} failed with message:\\n{}\".format(method, result.message))\n",
      "/home/ines/repositories/ssm/ssm/optimizers.py:146: UserWarning: BFGS failed with message:\n",
      "Desired error not necessarily achieved due to precision loss.\n",
      "  warn(\"{} failed with message:\\n{}\".format(method, result.message))\n",
      "/home/ines/repositories/ssm/ssm/optimizers.py:146: UserWarning: BFGS failed with message:\n",
      "Desired error not necessarily achieved due to precision loss.\n",
      "  warn(\"{} failed with message:\\n{}\".format(method, result.message))\n",
      "/home/ines/repositories/ssm/ssm/optimizers.py:146: UserWarning: BFGS failed with message:\n",
      "Desired error not necessarily achieved due to precision loss.\n",
      "  warn(\"{} failed with message:\\n{}\".format(method, result.message))\n",
      "/home/ines/repositories/ssm/ssm/optimizers.py:146: UserWarning: BFGS failed with message:\n",
      "Desired error not necessarily achieved due to precision loss.\n",
      "  warn(\"{} failed with message:\\n{}\".format(method, result.message))\n",
      "/home/ines/repositories/ssm/ssm/optimizers.py:146: UserWarning: BFGS failed with message:\n",
      "Desired error not necessarily achieved due to precision loss.\n",
      "  warn(\"{} failed with message:\\n{}\".format(method, result.message))\n",
      "/home/ines/repositories/ssm/ssm/optimizers.py:146: UserWarning: BFGS failed with message:\n",
      "Desired error not necessarily achieved due to precision loss.\n",
      "  warn(\"{} failed with message:\\n{}\".format(method, result.message))\n",
      "/home/ines/repositories/ssm/ssm/optimizers.py:146: UserWarning: BFGS failed with message:\n",
      "Desired error not necessarily achieved due to precision loss.\n",
      "  warn(\"{} failed with message:\\n{}\".format(method, result.message))\n",
      "/home/ines/repositories/ssm/ssm/optimizers.py:146: UserWarning: BFGS failed with message:\n",
      "Desired error not necessarily achieved due to precision loss.\n",
      "  warn(\"{} failed with message:\\n{}\".format(method, result.message))\n",
      "/home/ines/repositories/ssm/ssm/optimizers.py:146: UserWarning: BFGS failed with message:\n",
      "Desired error not necessarily achieved due to precision loss.\n",
      "  warn(\"{} failed with message:\\n{}\".format(method, result.message))\n",
      "/home/ines/repositories/ssm/ssm/optimizers.py:146: UserWarning: BFGS failed with message:\n",
      "Desired error not necessarily achieved due to precision loss.\n",
      "  warn(\"{} failed with message:\\n{}\".format(method, result.message))\n",
      "/home/ines/repositories/ssm/ssm/optimizers.py:146: UserWarning: BFGS failed with message:\n",
      "Desired error not necessarily achieved due to precision loss.\n",
      "  warn(\"{} failed with message:\\n{}\".format(method, result.message))\n",
      "/home/ines/repositories/ssm/ssm/optimizers.py:146: UserWarning: BFGS failed with message:\n",
      "Desired error not necessarily achieved due to precision loss.\n",
      "  warn(\"{} failed with message:\\n{}\".format(method, result.message))\n",
      "/home/ines/repositories/ssm/ssm/optimizers.py:146: UserWarning: BFGS failed with message:\n",
      "Desired error not necessarily achieved due to precision loss.\n",
      "  warn(\"{} failed with message:\\n{}\".format(method, result.message))\n",
      "/home/ines/repositories/ssm/ssm/optimizers.py:146: UserWarning: BFGS failed with message:\n",
      "Desired error not necessarily achieved due to precision loss.\n",
      "  warn(\"{} failed with message:\\n{}\".format(method, result.message))\n",
      "/home/ines/repositories/ssm/ssm/optimizers.py:146: UserWarning: BFGS failed with message:\n",
      "Desired error not necessarily achieved due to precision loss.\n",
      "  warn(\"{} failed with message:\\n{}\".format(method, result.message))\n"
     ]
    },
    {
     "name": "stdout",
     "output_type": "stream",
     "text": [
      "Starting inference with K = 3; Fold = 0; Iter = 1\n",
      "=== fitting GLM-HMM ========\n"
     ]
    },
    {
     "data": {
      "application/vnd.jupyter.widget-view+json": {
       "model_id": "5e5ed66011c84302851e5b0d83173fb9",
       "version_major": 2,
       "version_minor": 0
      },
      "text/plain": [
       "  0%|          | 0/300 [00:00<?, ?it/s]"
      ]
     },
     "metadata": {},
     "output_type": "display_data"
    },
    {
     "name": "stderr",
     "output_type": "stream",
     "text": [
      "/home/ines/repositories/ssm/ssm/optimizers.py:146: UserWarning: BFGS failed with message:\n",
      "Desired error not necessarily achieved due to precision loss.\n",
      "  warn(\"{} failed with message:\\n{}\".format(method, result.message))\n",
      "/home/ines/repositories/ssm/ssm/optimizers.py:146: UserWarning: BFGS failed with message:\n",
      "Desired error not necessarily achieved due to precision loss.\n",
      "  warn(\"{} failed with message:\\n{}\".format(method, result.message))\n",
      "/home/ines/repositories/ssm/ssm/optimizers.py:146: UserWarning: BFGS failed with message:\n",
      "Desired error not necessarily achieved due to precision loss.\n",
      "  warn(\"{} failed with message:\\n{}\".format(method, result.message))\n",
      "/home/ines/repositories/ssm/ssm/optimizers.py:146: UserWarning: BFGS failed with message:\n",
      "Desired error not necessarily achieved due to precision loss.\n",
      "  warn(\"{} failed with message:\\n{}\".format(method, result.message))\n",
      "/home/ines/repositories/ssm/ssm/optimizers.py:146: UserWarning: BFGS failed with message:\n",
      "Desired error not necessarily achieved due to precision loss.\n",
      "  warn(\"{} failed with message:\\n{}\".format(method, result.message))\n",
      "/home/ines/repositories/ssm/ssm/optimizers.py:146: UserWarning: BFGS failed with message:\n",
      "Desired error not necessarily achieved due to precision loss.\n",
      "  warn(\"{} failed with message:\\n{}\".format(method, result.message))\n",
      "/home/ines/repositories/ssm/ssm/optimizers.py:146: UserWarning: BFGS failed with message:\n",
      "Desired error not necessarily achieved due to precision loss.\n",
      "  warn(\"{} failed with message:\\n{}\".format(method, result.message))\n",
      "/home/ines/repositories/ssm/ssm/optimizers.py:146: UserWarning: BFGS failed with message:\n",
      "Desired error not necessarily achieved due to precision loss.\n",
      "  warn(\"{} failed with message:\\n{}\".format(method, result.message))\n",
      "/home/ines/repositories/ssm/ssm/optimizers.py:146: UserWarning: BFGS failed with message:\n",
      "Desired error not necessarily achieved due to precision loss.\n",
      "  warn(\"{} failed with message:\\n{}\".format(method, result.message))\n",
      "/home/ines/repositories/ssm/ssm/optimizers.py:146: UserWarning: BFGS failed with message:\n",
      "Desired error not necessarily achieved due to precision loss.\n",
      "  warn(\"{} failed with message:\\n{}\".format(method, result.message))\n",
      "/home/ines/repositories/ssm/ssm/optimizers.py:146: UserWarning: BFGS failed with message:\n",
      "Desired error not necessarily achieved due to precision loss.\n",
      "  warn(\"{} failed with message:\\n{}\".format(method, result.message))\n",
      "/home/ines/repositories/ssm/ssm/optimizers.py:146: UserWarning: BFGS failed with message:\n",
      "Desired error not necessarily achieved due to precision loss.\n",
      "  warn(\"{} failed with message:\\n{}\".format(method, result.message))\n",
      "/home/ines/repositories/ssm/ssm/optimizers.py:146: UserWarning: BFGS failed with message:\n",
      "Desired error not necessarily achieved due to precision loss.\n",
      "  warn(\"{} failed with message:\\n{}\".format(method, result.message))\n",
      "/home/ines/repositories/ssm/ssm/optimizers.py:146: UserWarning: BFGS failed with message:\n",
      "Desired error not necessarily achieved due to precision loss.\n",
      "  warn(\"{} failed with message:\\n{}\".format(method, result.message))\n",
      "/home/ines/repositories/ssm/ssm/optimizers.py:146: UserWarning: BFGS failed with message:\n",
      "Desired error not necessarily achieved due to precision loss.\n",
      "  warn(\"{} failed with message:\\n{}\".format(method, result.message))\n",
      "/home/ines/repositories/ssm/ssm/optimizers.py:146: UserWarning: BFGS failed with message:\n",
      "Desired error not necessarily achieved due to precision loss.\n",
      "  warn(\"{} failed with message:\\n{}\".format(method, result.message))\n",
      "/home/ines/repositories/ssm/ssm/optimizers.py:146: UserWarning: BFGS failed with message:\n",
      "Desired error not necessarily achieved due to precision loss.\n",
      "  warn(\"{} failed with message:\\n{}\".format(method, result.message))\n",
      "/home/ines/repositories/ssm/ssm/optimizers.py:146: UserWarning: BFGS failed with message:\n",
      "Desired error not necessarily achieved due to precision loss.\n",
      "  warn(\"{} failed with message:\\n{}\".format(method, result.message))\n"
     ]
    },
    {
     "name": "stdout",
     "output_type": "stream",
     "text": [
      "Starting inference with K = 3; Fold = 0; Iter = 2\n",
      "=== fitting GLM-HMM ========\n"
     ]
    },
    {
     "data": {
      "application/vnd.jupyter.widget-view+json": {
       "model_id": "f5a14d417c914c99a3ea61b4c2e55ff2",
       "version_major": 2,
       "version_minor": 0
      },
      "text/plain": [
       "  0%|          | 0/300 [00:00<?, ?it/s]"
      ]
     },
     "metadata": {},
     "output_type": "display_data"
    },
    {
     "name": "stderr",
     "output_type": "stream",
     "text": [
      "/home/ines/repositories/ssm/ssm/optimizers.py:146: UserWarning: BFGS failed with message:\n",
      "Desired error not necessarily achieved due to precision loss.\n",
      "  warn(\"{} failed with message:\\n{}\".format(method, result.message))\n",
      "/home/ines/repositories/ssm/ssm/optimizers.py:146: UserWarning: BFGS failed with message:\n",
      "Desired error not necessarily achieved due to precision loss.\n",
      "  warn(\"{} failed with message:\\n{}\".format(method, result.message))\n",
      "/home/ines/repositories/ssm/ssm/optimizers.py:146: UserWarning: BFGS failed with message:\n",
      "Desired error not necessarily achieved due to precision loss.\n",
      "  warn(\"{} failed with message:\\n{}\".format(method, result.message))\n",
      "/home/ines/repositories/ssm/ssm/optimizers.py:146: UserWarning: BFGS failed with message:\n",
      "Desired error not necessarily achieved due to precision loss.\n",
      "  warn(\"{} failed with message:\\n{}\".format(method, result.message))\n",
      "/home/ines/repositories/ssm/ssm/optimizers.py:146: UserWarning: BFGS failed with message:\n",
      "Desired error not necessarily achieved due to precision loss.\n",
      "  warn(\"{} failed with message:\\n{}\".format(method, result.message))\n",
      "/home/ines/repositories/ssm/ssm/optimizers.py:146: UserWarning: BFGS failed with message:\n",
      "Desired error not necessarily achieved due to precision loss.\n",
      "  warn(\"{} failed with message:\\n{}\".format(method, result.message))\n",
      "/home/ines/repositories/ssm/ssm/optimizers.py:146: UserWarning: BFGS failed with message:\n",
      "Desired error not necessarily achieved due to precision loss.\n",
      "  warn(\"{} failed with message:\\n{}\".format(method, result.message))\n",
      "/home/ines/repositories/ssm/ssm/optimizers.py:146: UserWarning: BFGS failed with message:\n",
      "Desired error not necessarily achieved due to precision loss.\n",
      "  warn(\"{} failed with message:\\n{}\".format(method, result.message))\n",
      "/home/ines/repositories/ssm/ssm/optimizers.py:146: UserWarning: BFGS failed with message:\n",
      "Desired error not necessarily achieved due to precision loss.\n",
      "  warn(\"{} failed with message:\\n{}\".format(method, result.message))\n",
      "/home/ines/repositories/ssm/ssm/optimizers.py:146: UserWarning: BFGS failed with message:\n",
      "Desired error not necessarily achieved due to precision loss.\n",
      "  warn(\"{} failed with message:\\n{}\".format(method, result.message))\n",
      "/home/ines/repositories/ssm/ssm/optimizers.py:146: UserWarning: BFGS failed with message:\n",
      "Desired error not necessarily achieved due to precision loss.\n",
      "  warn(\"{} failed with message:\\n{}\".format(method, result.message))\n",
      "/home/ines/repositories/ssm/ssm/optimizers.py:146: UserWarning: BFGS failed with message:\n",
      "Desired error not necessarily achieved due to precision loss.\n",
      "  warn(\"{} failed with message:\\n{}\".format(method, result.message))\n",
      "/home/ines/repositories/ssm/ssm/optimizers.py:146: UserWarning: BFGS failed with message:\n",
      "Desired error not necessarily achieved due to precision loss.\n",
      "  warn(\"{} failed with message:\\n{}\".format(method, result.message))\n",
      "/home/ines/repositories/ssm/ssm/optimizers.py:146: UserWarning: BFGS failed with message:\n",
      "Desired error not necessarily achieved due to precision loss.\n",
      "  warn(\"{} failed with message:\\n{}\".format(method, result.message))\n",
      "/home/ines/repositories/ssm/ssm/optimizers.py:146: UserWarning: BFGS failed with message:\n",
      "Desired error not necessarily achieved due to precision loss.\n",
      "  warn(\"{} failed with message:\\n{}\".format(method, result.message))\n",
      "/home/ines/repositories/ssm/ssm/optimizers.py:146: UserWarning: BFGS failed with message:\n",
      "Desired error not necessarily achieved due to precision loss.\n",
      "  warn(\"{} failed with message:\\n{}\".format(method, result.message))\n",
      "/home/ines/repositories/ssm/ssm/optimizers.py:146: UserWarning: BFGS failed with message:\n",
      "Desired error not necessarily achieved due to precision loss.\n",
      "  warn(\"{} failed with message:\\n{}\".format(method, result.message))\n"
     ]
    },
    {
     "name": "stdout",
     "output_type": "stream",
     "text": [
      "Starting inference with K = 3; Fold = 0; Iter = 3\n",
      "=== fitting GLM-HMM ========\n"
     ]
    },
    {
     "data": {
      "application/vnd.jupyter.widget-view+json": {
       "model_id": "617c78fecaf5400d82e83da3fb14274f",
       "version_major": 2,
       "version_minor": 0
      },
      "text/plain": [
       "  0%|          | 0/300 [00:00<?, ?it/s]"
      ]
     },
     "metadata": {},
     "output_type": "display_data"
    },
    {
     "name": "stderr",
     "output_type": "stream",
     "text": [
      "/home/ines/repositories/ssm/ssm/optimizers.py:146: UserWarning: BFGS failed with message:\n",
      "Desired error not necessarily achieved due to precision loss.\n",
      "  warn(\"{} failed with message:\\n{}\".format(method, result.message))\n",
      "/home/ines/repositories/ssm/ssm/optimizers.py:146: UserWarning: BFGS failed with message:\n",
      "Desired error not necessarily achieved due to precision loss.\n",
      "  warn(\"{} failed with message:\\n{}\".format(method, result.message))\n",
      "/home/ines/repositories/ssm/ssm/optimizers.py:146: UserWarning: BFGS failed with message:\n",
      "Desired error not necessarily achieved due to precision loss.\n",
      "  warn(\"{} failed with message:\\n{}\".format(method, result.message))\n",
      "/home/ines/repositories/ssm/ssm/optimizers.py:146: UserWarning: BFGS failed with message:\n",
      "Desired error not necessarily achieved due to precision loss.\n",
      "  warn(\"{} failed with message:\\n{}\".format(method, result.message))\n",
      "/home/ines/repositories/ssm/ssm/optimizers.py:146: UserWarning: BFGS failed with message:\n",
      "Desired error not necessarily achieved due to precision loss.\n",
      "  warn(\"{} failed with message:\\n{}\".format(method, result.message))\n",
      "/home/ines/repositories/ssm/ssm/optimizers.py:146: UserWarning: BFGS failed with message:\n",
      "Desired error not necessarily achieved due to precision loss.\n",
      "  warn(\"{} failed with message:\\n{}\".format(method, result.message))\n",
      "/home/ines/repositories/ssm/ssm/optimizers.py:146: UserWarning: BFGS failed with message:\n",
      "Desired error not necessarily achieved due to precision loss.\n",
      "  warn(\"{} failed with message:\\n{}\".format(method, result.message))\n",
      "/home/ines/repositories/ssm/ssm/optimizers.py:146: UserWarning: BFGS failed with message:\n",
      "Desired error not necessarily achieved due to precision loss.\n",
      "  warn(\"{} failed with message:\\n{}\".format(method, result.message))\n",
      "/home/ines/repositories/ssm/ssm/optimizers.py:146: UserWarning: BFGS failed with message:\n",
      "Desired error not necessarily achieved due to precision loss.\n",
      "  warn(\"{} failed with message:\\n{}\".format(method, result.message))\n",
      "/home/ines/repositories/ssm/ssm/optimizers.py:146: UserWarning: BFGS failed with message:\n",
      "Desired error not necessarily achieved due to precision loss.\n",
      "  warn(\"{} failed with message:\\n{}\".format(method, result.message))\n"
     ]
    },
    {
     "name": "stdout",
     "output_type": "stream",
     "text": [
      "Starting inference with K = 3; Fold = 0; Iter = 4\n",
      "=== fitting GLM-HMM ========\n"
     ]
    },
    {
     "data": {
      "application/vnd.jupyter.widget-view+json": {
       "model_id": "f76c05fe21d748c8986a2aeb65a3db3a",
       "version_major": 2,
       "version_minor": 0
      },
      "text/plain": [
       "  0%|          | 0/300 [00:00<?, ?it/s]"
      ]
     },
     "metadata": {},
     "output_type": "display_data"
    },
    {
     "name": "stderr",
     "output_type": "stream",
     "text": [
      "/home/ines/repositories/ssm/ssm/optimizers.py:146: UserWarning: BFGS failed with message:\n",
      "Desired error not necessarily achieved due to precision loss.\n",
      "  warn(\"{} failed with message:\\n{}\".format(method, result.message))\n",
      "/home/ines/repositories/ssm/ssm/optimizers.py:146: UserWarning: BFGS failed with message:\n",
      "Desired error not necessarily achieved due to precision loss.\n",
      "  warn(\"{} failed with message:\\n{}\".format(method, result.message))\n",
      "/home/ines/repositories/ssm/ssm/optimizers.py:146: UserWarning: BFGS failed with message:\n",
      "Desired error not necessarily achieved due to precision loss.\n",
      "  warn(\"{} failed with message:\\n{}\".format(method, result.message))\n",
      "/home/ines/repositories/ssm/ssm/optimizers.py:146: UserWarning: BFGS failed with message:\n",
      "Desired error not necessarily achieved due to precision loss.\n",
      "  warn(\"{} failed with message:\\n{}\".format(method, result.message))\n",
      "/home/ines/repositories/ssm/ssm/optimizers.py:146: UserWarning: BFGS failed with message:\n",
      "Desired error not necessarily achieved due to precision loss.\n",
      "  warn(\"{} failed with message:\\n{}\".format(method, result.message))\n",
      "/home/ines/repositories/ssm/ssm/optimizers.py:146: UserWarning: BFGS failed with message:\n",
      "Desired error not necessarily achieved due to precision loss.\n",
      "  warn(\"{} failed with message:\\n{}\".format(method, result.message))\n",
      "/home/ines/repositories/ssm/ssm/optimizers.py:146: UserWarning: BFGS failed with message:\n",
      "Desired error not necessarily achieved due to precision loss.\n",
      "  warn(\"{} failed with message:\\n{}\".format(method, result.message))\n",
      "/home/ines/repositories/ssm/ssm/optimizers.py:146: UserWarning: BFGS failed with message:\n",
      "Desired error not necessarily achieved due to precision loss.\n",
      "  warn(\"{} failed with message:\\n{}\".format(method, result.message))\n",
      "/home/ines/repositories/ssm/ssm/optimizers.py:146: UserWarning: BFGS failed with message:\n",
      "Desired error not necessarily achieved due to precision loss.\n",
      "  warn(\"{} failed with message:\\n{}\".format(method, result.message))\n",
      "/home/ines/repositories/ssm/ssm/optimizers.py:146: UserWarning: BFGS failed with message:\n",
      "Desired error not necessarily achieved due to precision loss.\n",
      "  warn(\"{} failed with message:\\n{}\".format(method, result.message))\n",
      "/home/ines/repositories/ssm/ssm/optimizers.py:146: UserWarning: BFGS failed with message:\n",
      "Desired error not necessarily achieved due to precision loss.\n",
      "  warn(\"{} failed with message:\\n{}\".format(method, result.message))\n"
     ]
    },
    {
     "name": "stdout",
     "output_type": "stream",
     "text": [
      "Starting inference with K = 3; Fold = 0; Iter = 5\n",
      "=== fitting GLM-HMM ========\n"
     ]
    },
    {
     "data": {
      "application/vnd.jupyter.widget-view+json": {
       "model_id": "30b82dd88b0549eea1c7b519c0c797ec",
       "version_major": 2,
       "version_minor": 0
      },
      "text/plain": [
       "  0%|          | 0/300 [00:00<?, ?it/s]"
      ]
     },
     "metadata": {},
     "output_type": "display_data"
    },
    {
     "name": "stderr",
     "output_type": "stream",
     "text": [
      "/home/ines/repositories/ssm/ssm/optimizers.py:146: UserWarning: BFGS failed with message:\n",
      "Desired error not necessarily achieved due to precision loss.\n",
      "  warn(\"{} failed with message:\\n{}\".format(method, result.message))\n",
      "/home/ines/repositories/ssm/ssm/optimizers.py:146: UserWarning: BFGS failed with message:\n",
      "Desired error not necessarily achieved due to precision loss.\n",
      "  warn(\"{} failed with message:\\n{}\".format(method, result.message))\n",
      "/home/ines/repositories/ssm/ssm/optimizers.py:146: UserWarning: BFGS failed with message:\n",
      "Desired error not necessarily achieved due to precision loss.\n",
      "  warn(\"{} failed with message:\\n{}\".format(method, result.message))\n",
      "/home/ines/repositories/ssm/ssm/optimizers.py:146: UserWarning: BFGS failed with message:\n",
      "Desired error not necessarily achieved due to precision loss.\n",
      "  warn(\"{} failed with message:\\n{}\".format(method, result.message))\n",
      "/home/ines/repositories/ssm/ssm/optimizers.py:146: UserWarning: BFGS failed with message:\n",
      "Desired error not necessarily achieved due to precision loss.\n",
      "  warn(\"{} failed with message:\\n{}\".format(method, result.message))\n",
      "/home/ines/repositories/ssm/ssm/optimizers.py:146: UserWarning: BFGS failed with message:\n",
      "Desired error not necessarily achieved due to precision loss.\n",
      "  warn(\"{} failed with message:\\n{}\".format(method, result.message))\n",
      "/home/ines/repositories/ssm/ssm/optimizers.py:146: UserWarning: BFGS failed with message:\n",
      "Desired error not necessarily achieved due to precision loss.\n",
      "  warn(\"{} failed with message:\\n{}\".format(method, result.message))\n",
      "/home/ines/repositories/ssm/ssm/optimizers.py:146: UserWarning: BFGS failed with message:\n",
      "Desired error not necessarily achieved due to precision loss.\n",
      "  warn(\"{} failed with message:\\n{}\".format(method, result.message))\n",
      "/home/ines/repositories/ssm/ssm/optimizers.py:146: UserWarning: BFGS failed with message:\n",
      "Desired error not necessarily achieved due to precision loss.\n",
      "  warn(\"{} failed with message:\\n{}\".format(method, result.message))\n"
     ]
    },
    {
     "name": "stdout",
     "output_type": "stream",
     "text": [
      "Starting inference with K = 3; Fold = 0; Iter = 6\n",
      "=== fitting GLM-HMM ========\n"
     ]
    },
    {
     "data": {
      "application/vnd.jupyter.widget-view+json": {
       "model_id": "8f6a45a6ef0b42d7a0017704ad2fb839",
       "version_major": 2,
       "version_minor": 0
      },
      "text/plain": [
       "  0%|          | 0/300 [00:00<?, ?it/s]"
      ]
     },
     "metadata": {},
     "output_type": "display_data"
    },
    {
     "name": "stderr",
     "output_type": "stream",
     "text": [
      "/home/ines/repositories/ssm/ssm/optimizers.py:146: UserWarning: BFGS failed with message:\n",
      "Desired error not necessarily achieved due to precision loss.\n",
      "  warn(\"{} failed with message:\\n{}\".format(method, result.message))\n",
      "/home/ines/repositories/ssm/ssm/optimizers.py:146: UserWarning: BFGS failed with message:\n",
      "Desired error not necessarily achieved due to precision loss.\n",
      "  warn(\"{} failed with message:\\n{}\".format(method, result.message))\n",
      "/home/ines/repositories/ssm/ssm/optimizers.py:146: UserWarning: BFGS failed with message:\n",
      "Desired error not necessarily achieved due to precision loss.\n",
      "  warn(\"{} failed with message:\\n{}\".format(method, result.message))\n",
      "/home/ines/repositories/ssm/ssm/optimizers.py:146: UserWarning: BFGS failed with message:\n",
      "Desired error not necessarily achieved due to precision loss.\n",
      "  warn(\"{} failed with message:\\n{}\".format(method, result.message))\n",
      "/home/ines/repositories/ssm/ssm/optimizers.py:146: UserWarning: BFGS failed with message:\n",
      "Desired error not necessarily achieved due to precision loss.\n",
      "  warn(\"{} failed with message:\\n{}\".format(method, result.message))\n",
      "/home/ines/repositories/ssm/ssm/optimizers.py:146: UserWarning: BFGS failed with message:\n",
      "Desired error not necessarily achieved due to precision loss.\n",
      "  warn(\"{} failed with message:\\n{}\".format(method, result.message))\n",
      "/home/ines/repositories/ssm/ssm/optimizers.py:146: UserWarning: BFGS failed with message:\n",
      "Desired error not necessarily achieved due to precision loss.\n",
      "  warn(\"{} failed with message:\\n{}\".format(method, result.message))\n",
      "/home/ines/repositories/ssm/ssm/optimizers.py:146: UserWarning: BFGS failed with message:\n",
      "Desired error not necessarily achieved due to precision loss.\n",
      "  warn(\"{} failed with message:\\n{}\".format(method, result.message))\n",
      "/home/ines/repositories/ssm/ssm/optimizers.py:146: UserWarning: BFGS failed with message:\n",
      "Desired error not necessarily achieved due to precision loss.\n",
      "  warn(\"{} failed with message:\\n{}\".format(method, result.message))\n",
      "/home/ines/repositories/ssm/ssm/optimizers.py:146: UserWarning: BFGS failed with message:\n",
      "Desired error not necessarily achieved due to precision loss.\n",
      "  warn(\"{} failed with message:\\n{}\".format(method, result.message))\n",
      "/home/ines/repositories/ssm/ssm/optimizers.py:146: UserWarning: BFGS failed with message:\n",
      "Desired error not necessarily achieved due to precision loss.\n",
      "  warn(\"{} failed with message:\\n{}\".format(method, result.message))\n",
      "/home/ines/repositories/ssm/ssm/optimizers.py:146: UserWarning: BFGS failed with message:\n",
      "Desired error not necessarily achieved due to precision loss.\n",
      "  warn(\"{} failed with message:\\n{}\".format(method, result.message))\n",
      "/home/ines/repositories/ssm/ssm/optimizers.py:146: UserWarning: BFGS failed with message:\n",
      "Desired error not necessarily achieved due to precision loss.\n",
      "  warn(\"{} failed with message:\\n{}\".format(method, result.message))\n",
      "/home/ines/repositories/ssm/ssm/optimizers.py:146: UserWarning: BFGS failed with message:\n",
      "Desired error not necessarily achieved due to precision loss.\n",
      "  warn(\"{} failed with message:\\n{}\".format(method, result.message))\n",
      "/home/ines/repositories/ssm/ssm/optimizers.py:146: UserWarning: BFGS failed with message:\n",
      "Desired error not necessarily achieved due to precision loss.\n",
      "  warn(\"{} failed with message:\\n{}\".format(method, result.message))\n"
     ]
    },
    {
     "name": "stdout",
     "output_type": "stream",
     "text": [
      "Starting inference with K = 3; Fold = 0; Iter = 7\n",
      "=== fitting GLM-HMM ========\n"
     ]
    },
    {
     "data": {
      "application/vnd.jupyter.widget-view+json": {
       "model_id": "14ddc9b478d044ee8920f8d60c50857d",
       "version_major": 2,
       "version_minor": 0
      },
      "text/plain": [
       "  0%|          | 0/300 [00:00<?, ?it/s]"
      ]
     },
     "metadata": {},
     "output_type": "display_data"
    },
    {
     "name": "stderr",
     "output_type": "stream",
     "text": [
      "/home/ines/repositories/ssm/ssm/optimizers.py:146: UserWarning: BFGS failed with message:\n",
      "Desired error not necessarily achieved due to precision loss.\n",
      "  warn(\"{} failed with message:\\n{}\".format(method, result.message))\n",
      "/home/ines/repositories/ssm/ssm/optimizers.py:146: UserWarning: BFGS failed with message:\n",
      "Desired error not necessarily achieved due to precision loss.\n",
      "  warn(\"{} failed with message:\\n{}\".format(method, result.message))\n",
      "/home/ines/repositories/ssm/ssm/optimizers.py:146: UserWarning: BFGS failed with message:\n",
      "Desired error not necessarily achieved due to precision loss.\n",
      "  warn(\"{} failed with message:\\n{}\".format(method, result.message))\n",
      "/home/ines/repositories/ssm/ssm/optimizers.py:146: UserWarning: BFGS failed with message:\n",
      "Desired error not necessarily achieved due to precision loss.\n",
      "  warn(\"{} failed with message:\\n{}\".format(method, result.message))\n",
      "/home/ines/repositories/ssm/ssm/optimizers.py:146: UserWarning: BFGS failed with message:\n",
      "Desired error not necessarily achieved due to precision loss.\n",
      "  warn(\"{} failed with message:\\n{}\".format(method, result.message))\n",
      "/home/ines/repositories/ssm/ssm/optimizers.py:146: UserWarning: BFGS failed with message:\n",
      "Desired error not necessarily achieved due to precision loss.\n",
      "  warn(\"{} failed with message:\\n{}\".format(method, result.message))\n"
     ]
    },
    {
     "name": "stdout",
     "output_type": "stream",
     "text": [
      "Starting inference with K = 3; Fold = 0; Iter = 8\n",
      "=== fitting GLM-HMM ========\n"
     ]
    },
    {
     "data": {
      "application/vnd.jupyter.widget-view+json": {
       "model_id": "62750de8407940819569c2e7528ccd05",
       "version_major": 2,
       "version_minor": 0
      },
      "text/plain": [
       "  0%|          | 0/300 [00:00<?, ?it/s]"
      ]
     },
     "metadata": {},
     "output_type": "display_data"
    },
    {
     "name": "stderr",
     "output_type": "stream",
     "text": [
      "/home/ines/repositories/ssm/ssm/optimizers.py:146: UserWarning: BFGS failed with message:\n",
      "Desired error not necessarily achieved due to precision loss.\n",
      "  warn(\"{} failed with message:\\n{}\".format(method, result.message))\n",
      "/home/ines/repositories/ssm/ssm/optimizers.py:146: UserWarning: BFGS failed with message:\n",
      "Desired error not necessarily achieved due to precision loss.\n",
      "  warn(\"{} failed with message:\\n{}\".format(method, result.message))\n",
      "/home/ines/repositories/ssm/ssm/optimizers.py:146: UserWarning: BFGS failed with message:\n",
      "Desired error not necessarily achieved due to precision loss.\n",
      "  warn(\"{} failed with message:\\n{}\".format(method, result.message))\n",
      "/home/ines/repositories/ssm/ssm/optimizers.py:146: UserWarning: BFGS failed with message:\n",
      "Desired error not necessarily achieved due to precision loss.\n",
      "  warn(\"{} failed with message:\\n{}\".format(method, result.message))\n"
     ]
    },
    {
     "name": "stdout",
     "output_type": "stream",
     "text": [
      "Starting inference with K = 3; Fold = 0; Iter = 9\n",
      "=== fitting GLM-HMM ========\n"
     ]
    },
    {
     "data": {
      "application/vnd.jupyter.widget-view+json": {
       "model_id": "e3bb4271846848c885fcf7f31c0e23a1",
       "version_major": 2,
       "version_minor": 0
      },
      "text/plain": [
       "  0%|          | 0/300 [00:00<?, ?it/s]"
      ]
     },
     "metadata": {},
     "output_type": "display_data"
    },
    {
     "name": "stderr",
     "output_type": "stream",
     "text": [
      "/home/ines/repositories/ssm/ssm/optimizers.py:146: UserWarning: BFGS failed with message:\n",
      "Desired error not necessarily achieved due to precision loss.\n",
      "  warn(\"{} failed with message:\\n{}\".format(method, result.message))\n",
      "/home/ines/repositories/ssm/ssm/optimizers.py:146: UserWarning: BFGS failed with message:\n",
      "Desired error not necessarily achieved due to precision loss.\n",
      "  warn(\"{} failed with message:\\n{}\".format(method, result.message))\n",
      "/home/ines/repositories/ssm/ssm/optimizers.py:146: UserWarning: BFGS failed with message:\n",
      "Desired error not necessarily achieved due to precision loss.\n",
      "  warn(\"{} failed with message:\\n{}\".format(method, result.message))\n",
      "/home/ines/repositories/ssm/ssm/optimizers.py:146: UserWarning: BFGS failed with message:\n",
      "Desired error not necessarily achieved due to precision loss.\n",
      "  warn(\"{} failed with message:\\n{}\".format(method, result.message))\n",
      "/home/ines/repositories/ssm/ssm/optimizers.py:146: UserWarning: BFGS failed with message:\n",
      "Desired error not necessarily achieved due to precision loss.\n",
      "  warn(\"{} failed with message:\\n{}\".format(method, result.message))\n",
      "/home/ines/repositories/ssm/ssm/optimizers.py:146: UserWarning: BFGS failed with message:\n",
      "Desired error not necessarily achieved due to precision loss.\n",
      "  warn(\"{} failed with message:\\n{}\".format(method, result.message))\n",
      "/home/ines/repositories/ssm/ssm/optimizers.py:146: UserWarning: BFGS failed with message:\n",
      "Desired error not necessarily achieved due to precision loss.\n",
      "  warn(\"{} failed with message:\\n{}\".format(method, result.message))\n",
      "/home/ines/repositories/ssm/ssm/optimizers.py:146: UserWarning: BFGS failed with message:\n",
      "Desired error not necessarily achieved due to precision loss.\n",
      "  warn(\"{} failed with message:\\n{}\".format(method, result.message))\n"
     ]
    },
    {
     "name": "stdout",
     "output_type": "stream",
     "text": [
      "Starting inference with K = 3; Fold = 1; Iter = 0\n",
      "=== fitting GLM-HMM ========\n"
     ]
    },
    {
     "data": {
      "application/vnd.jupyter.widget-view+json": {
       "model_id": "738be824711d4ca2955609ba72e3ebfc",
       "version_major": 2,
       "version_minor": 0
      },
      "text/plain": [
       "  0%|          | 0/300 [00:00<?, ?it/s]"
      ]
     },
     "metadata": {},
     "output_type": "display_data"
    },
    {
     "name": "stderr",
     "output_type": "stream",
     "text": [
      "/home/ines/repositories/ssm/ssm/optimizers.py:146: UserWarning: BFGS failed with message:\n",
      "Desired error not necessarily achieved due to precision loss.\n",
      "  warn(\"{} failed with message:\\n{}\".format(method, result.message))\n",
      "/home/ines/repositories/ssm/ssm/optimizers.py:146: UserWarning: BFGS failed with message:\n",
      "Desired error not necessarily achieved due to precision loss.\n",
      "  warn(\"{} failed with message:\\n{}\".format(method, result.message))\n",
      "/home/ines/repositories/ssm/ssm/optimizers.py:146: UserWarning: BFGS failed with message:\n",
      "Desired error not necessarily achieved due to precision loss.\n",
      "  warn(\"{} failed with message:\\n{}\".format(method, result.message))\n",
      "/home/ines/repositories/ssm/ssm/optimizers.py:146: UserWarning: BFGS failed with message:\n",
      "Desired error not necessarily achieved due to precision loss.\n",
      "  warn(\"{} failed with message:\\n{}\".format(method, result.message))\n",
      "/home/ines/repositories/ssm/ssm/optimizers.py:146: UserWarning: BFGS failed with message:\n",
      "Desired error not necessarily achieved due to precision loss.\n",
      "  warn(\"{} failed with message:\\n{}\".format(method, result.message))\n",
      "/home/ines/repositories/ssm/ssm/optimizers.py:146: UserWarning: BFGS failed with message:\n",
      "Desired error not necessarily achieved due to precision loss.\n",
      "  warn(\"{} failed with message:\\n{}\".format(method, result.message))\n",
      "/home/ines/repositories/ssm/ssm/optimizers.py:146: UserWarning: BFGS failed with message:\n",
      "Desired error not necessarily achieved due to precision loss.\n",
      "  warn(\"{} failed with message:\\n{}\".format(method, result.message))\n",
      "/home/ines/repositories/ssm/ssm/optimizers.py:146: UserWarning: BFGS failed with message:\n",
      "Desired error not necessarily achieved due to precision loss.\n",
      "  warn(\"{} failed with message:\\n{}\".format(method, result.message))\n",
      "/home/ines/repositories/ssm/ssm/optimizers.py:146: UserWarning: BFGS failed with message:\n",
      "Desired error not necessarily achieved due to precision loss.\n",
      "  warn(\"{} failed with message:\\n{}\".format(method, result.message))\n",
      "/home/ines/repositories/ssm/ssm/optimizers.py:146: UserWarning: BFGS failed with message:\n",
      "Desired error not necessarily achieved due to precision loss.\n",
      "  warn(\"{} failed with message:\\n{}\".format(method, result.message))\n",
      "/home/ines/repositories/ssm/ssm/optimizers.py:146: UserWarning: BFGS failed with message:\n",
      "Desired error not necessarily achieved due to precision loss.\n",
      "  warn(\"{} failed with message:\\n{}\".format(method, result.message))\n"
     ]
    },
    {
     "name": "stdout",
     "output_type": "stream",
     "text": [
      "Starting inference with K = 3; Fold = 1; Iter = 1\n",
      "=== fitting GLM-HMM ========\n"
     ]
    },
    {
     "data": {
      "application/vnd.jupyter.widget-view+json": {
       "model_id": "dbad29e9d1664445af337aa969388620",
       "version_major": 2,
       "version_minor": 0
      },
      "text/plain": [
       "  0%|          | 0/300 [00:00<?, ?it/s]"
      ]
     },
     "metadata": {},
     "output_type": "display_data"
    },
    {
     "name": "stderr",
     "output_type": "stream",
     "text": [
      "/home/ines/repositories/ssm/ssm/optimizers.py:146: UserWarning: BFGS failed with message:\n",
      "Desired error not necessarily achieved due to precision loss.\n",
      "  warn(\"{} failed with message:\\n{}\".format(method, result.message))\n",
      "/home/ines/repositories/ssm/ssm/optimizers.py:146: UserWarning: BFGS failed with message:\n",
      "Desired error not necessarily achieved due to precision loss.\n",
      "  warn(\"{} failed with message:\\n{}\".format(method, result.message))\n",
      "/home/ines/repositories/ssm/ssm/optimizers.py:146: UserWarning: BFGS failed with message:\n",
      "Desired error not necessarily achieved due to precision loss.\n",
      "  warn(\"{} failed with message:\\n{}\".format(method, result.message))\n",
      "/home/ines/repositories/ssm/ssm/optimizers.py:146: UserWarning: BFGS failed with message:\n",
      "Desired error not necessarily achieved due to precision loss.\n",
      "  warn(\"{} failed with message:\\n{}\".format(method, result.message))\n",
      "/home/ines/repositories/ssm/ssm/optimizers.py:146: UserWarning: BFGS failed with message:\n",
      "Desired error not necessarily achieved due to precision loss.\n",
      "  warn(\"{} failed with message:\\n{}\".format(method, result.message))\n",
      "/home/ines/repositories/ssm/ssm/optimizers.py:146: UserWarning: BFGS failed with message:\n",
      "Desired error not necessarily achieved due to precision loss.\n",
      "  warn(\"{} failed with message:\\n{}\".format(method, result.message))\n"
     ]
    },
    {
     "name": "stdout",
     "output_type": "stream",
     "text": [
      "Starting inference with K = 3; Fold = 1; Iter = 2\n",
      "=== fitting GLM-HMM ========\n"
     ]
    },
    {
     "data": {
      "application/vnd.jupyter.widget-view+json": {
       "model_id": "3ca4d0e1e9464f32864e2d019acffe16",
       "version_major": 2,
       "version_minor": 0
      },
      "text/plain": [
       "  0%|          | 0/300 [00:00<?, ?it/s]"
      ]
     },
     "metadata": {},
     "output_type": "display_data"
    },
    {
     "name": "stderr",
     "output_type": "stream",
     "text": [
      "/home/ines/repositories/ssm/ssm/optimizers.py:146: UserWarning: BFGS failed with message:\n",
      "Desired error not necessarily achieved due to precision loss.\n",
      "  warn(\"{} failed with message:\\n{}\".format(method, result.message))\n",
      "/home/ines/repositories/ssm/ssm/optimizers.py:146: UserWarning: BFGS failed with message:\n",
      "Desired error not necessarily achieved due to precision loss.\n",
      "  warn(\"{} failed with message:\\n{}\".format(method, result.message))\n",
      "/home/ines/repositories/ssm/ssm/optimizers.py:146: UserWarning: BFGS failed with message:\n",
      "Desired error not necessarily achieved due to precision loss.\n",
      "  warn(\"{} failed with message:\\n{}\".format(method, result.message))\n",
      "/home/ines/repositories/ssm/ssm/optimizers.py:146: UserWarning: BFGS failed with message:\n",
      "Desired error not necessarily achieved due to precision loss.\n",
      "  warn(\"{} failed with message:\\n{}\".format(method, result.message))\n"
     ]
    },
    {
     "name": "stdout",
     "output_type": "stream",
     "text": [
      "Starting inference with K = 3; Fold = 1; Iter = 3\n",
      "=== fitting GLM-HMM ========\n"
     ]
    },
    {
     "data": {
      "application/vnd.jupyter.widget-view+json": {
       "model_id": "c4e9b6bd73044178a62566a8cad313c1",
       "version_major": 2,
       "version_minor": 0
      },
      "text/plain": [
       "  0%|          | 0/300 [00:00<?, ?it/s]"
      ]
     },
     "metadata": {},
     "output_type": "display_data"
    },
    {
     "name": "stderr",
     "output_type": "stream",
     "text": [
      "/home/ines/repositories/ssm/ssm/optimizers.py:146: UserWarning: BFGS failed with message:\n",
      "Desired error not necessarily achieved due to precision loss.\n",
      "  warn(\"{} failed with message:\\n{}\".format(method, result.message))\n",
      "/home/ines/repositories/ssm/ssm/optimizers.py:146: UserWarning: BFGS failed with message:\n",
      "Desired error not necessarily achieved due to precision loss.\n",
      "  warn(\"{} failed with message:\\n{}\".format(method, result.message))\n",
      "/home/ines/repositories/ssm/ssm/optimizers.py:146: UserWarning: BFGS failed with message:\n",
      "Desired error not necessarily achieved due to precision loss.\n",
      "  warn(\"{} failed with message:\\n{}\".format(method, result.message))\n",
      "/home/ines/repositories/ssm/ssm/optimizers.py:146: UserWarning: BFGS failed with message:\n",
      "Desired error not necessarily achieved due to precision loss.\n",
      "  warn(\"{} failed with message:\\n{}\".format(method, result.message))\n",
      "/home/ines/repositories/ssm/ssm/optimizers.py:146: UserWarning: BFGS failed with message:\n",
      "Desired error not necessarily achieved due to precision loss.\n",
      "  warn(\"{} failed with message:\\n{}\".format(method, result.message))\n",
      "/home/ines/repositories/ssm/ssm/optimizers.py:146: UserWarning: BFGS failed with message:\n",
      "Desired error not necessarily achieved due to precision loss.\n",
      "  warn(\"{} failed with message:\\n{}\".format(method, result.message))\n",
      "/home/ines/repositories/ssm/ssm/optimizers.py:146: UserWarning: BFGS failed with message:\n",
      "Desired error not necessarily achieved due to precision loss.\n",
      "  warn(\"{} failed with message:\\n{}\".format(method, result.message))\n",
      "/home/ines/repositories/ssm/ssm/optimizers.py:146: UserWarning: BFGS failed with message:\n",
      "Desired error not necessarily achieved due to precision loss.\n",
      "  warn(\"{} failed with message:\\n{}\".format(method, result.message))\n"
     ]
    },
    {
     "name": "stdout",
     "output_type": "stream",
     "text": [
      "Starting inference with K = 3; Fold = 1; Iter = 4\n",
      "=== fitting GLM-HMM ========\n"
     ]
    },
    {
     "data": {
      "application/vnd.jupyter.widget-view+json": {
       "model_id": "9e0dd7c6a4264a419f91d02f5772386e",
       "version_major": 2,
       "version_minor": 0
      },
      "text/plain": [
       "  0%|          | 0/300 [00:00<?, ?it/s]"
      ]
     },
     "metadata": {},
     "output_type": "display_data"
    },
    {
     "name": "stderr",
     "output_type": "stream",
     "text": [
      "/home/ines/repositories/ssm/ssm/optimizers.py:146: UserWarning: BFGS failed with message:\n",
      "Desired error not necessarily achieved due to precision loss.\n",
      "  warn(\"{} failed with message:\\n{}\".format(method, result.message))\n",
      "/home/ines/repositories/ssm/ssm/optimizers.py:146: UserWarning: BFGS failed with message:\n",
      "Desired error not necessarily achieved due to precision loss.\n",
      "  warn(\"{} failed with message:\\n{}\".format(method, result.message))\n",
      "/home/ines/repositories/ssm/ssm/optimizers.py:146: UserWarning: BFGS failed with message:\n",
      "Desired error not necessarily achieved due to precision loss.\n",
      "  warn(\"{} failed with message:\\n{}\".format(method, result.message))\n",
      "/home/ines/repositories/ssm/ssm/optimizers.py:146: UserWarning: BFGS failed with message:\n",
      "Desired error not necessarily achieved due to precision loss.\n",
      "  warn(\"{} failed with message:\\n{}\".format(method, result.message))\n",
      "/home/ines/repositories/ssm/ssm/optimizers.py:146: UserWarning: BFGS failed with message:\n",
      "Desired error not necessarily achieved due to precision loss.\n",
      "  warn(\"{} failed with message:\\n{}\".format(method, result.message))\n",
      "/home/ines/repositories/ssm/ssm/optimizers.py:146: UserWarning: BFGS failed with message:\n",
      "Desired error not necessarily achieved due to precision loss.\n",
      "  warn(\"{} failed with message:\\n{}\".format(method, result.message))\n",
      "/home/ines/repositories/ssm/ssm/optimizers.py:146: UserWarning: BFGS failed with message:\n",
      "Desired error not necessarily achieved due to precision loss.\n",
      "  warn(\"{} failed with message:\\n{}\".format(method, result.message))\n",
      "/home/ines/repositories/ssm/ssm/optimizers.py:146: UserWarning: BFGS failed with message:\n",
      "Desired error not necessarily achieved due to precision loss.\n",
      "  warn(\"{} failed with message:\\n{}\".format(method, result.message))\n",
      "/home/ines/repositories/ssm/ssm/optimizers.py:146: UserWarning: BFGS failed with message:\n",
      "Desired error not necessarily achieved due to precision loss.\n",
      "  warn(\"{} failed with message:\\n{}\".format(method, result.message))\n",
      "/home/ines/repositories/ssm/ssm/optimizers.py:146: UserWarning: BFGS failed with message:\n",
      "Desired error not necessarily achieved due to precision loss.\n",
      "  warn(\"{} failed with message:\\n{}\".format(method, result.message))\n",
      "/home/ines/repositories/ssm/ssm/optimizers.py:146: UserWarning: BFGS failed with message:\n",
      "Desired error not necessarily achieved due to precision loss.\n",
      "  warn(\"{} failed with message:\\n{}\".format(method, result.message))\n",
      "/home/ines/repositories/ssm/ssm/optimizers.py:146: UserWarning: BFGS failed with message:\n",
      "Desired error not necessarily achieved due to precision loss.\n",
      "  warn(\"{} failed with message:\\n{}\".format(method, result.message))\n",
      "/home/ines/repositories/ssm/ssm/optimizers.py:146: UserWarning: BFGS failed with message:\n",
      "Desired error not necessarily achieved due to precision loss.\n",
      "  warn(\"{} failed with message:\\n{}\".format(method, result.message))\n",
      "/home/ines/repositories/ssm/ssm/optimizers.py:146: UserWarning: BFGS failed with message:\n",
      "Desired error not necessarily achieved due to precision loss.\n",
      "  warn(\"{} failed with message:\\n{}\".format(method, result.message))\n",
      "/home/ines/repositories/ssm/ssm/optimizers.py:146: UserWarning: BFGS failed with message:\n",
      "Desired error not necessarily achieved due to precision loss.\n",
      "  warn(\"{} failed with message:\\n{}\".format(method, result.message))\n"
     ]
    },
    {
     "name": "stdout",
     "output_type": "stream",
     "text": [
      "Starting inference with K = 3; Fold = 1; Iter = 5\n",
      "=== fitting GLM-HMM ========\n"
     ]
    },
    {
     "data": {
      "application/vnd.jupyter.widget-view+json": {
       "model_id": "b974ad99927348b3926ffd5942f83090",
       "version_major": 2,
       "version_minor": 0
      },
      "text/plain": [
       "  0%|          | 0/300 [00:00<?, ?it/s]"
      ]
     },
     "metadata": {},
     "output_type": "display_data"
    },
    {
     "name": "stderr",
     "output_type": "stream",
     "text": [
      "/home/ines/repositories/ssm/ssm/optimizers.py:146: UserWarning: BFGS failed with message:\n",
      "Desired error not necessarily achieved due to precision loss.\n",
      "  warn(\"{} failed with message:\\n{}\".format(method, result.message))\n",
      "/home/ines/repositories/ssm/ssm/optimizers.py:146: UserWarning: BFGS failed with message:\n",
      "Desired error not necessarily achieved due to precision loss.\n",
      "  warn(\"{} failed with message:\\n{}\".format(method, result.message))\n",
      "/home/ines/repositories/ssm/ssm/optimizers.py:146: UserWarning: BFGS failed with message:\n",
      "Desired error not necessarily achieved due to precision loss.\n",
      "  warn(\"{} failed with message:\\n{}\".format(method, result.message))\n",
      "/home/ines/repositories/ssm/ssm/optimizers.py:146: UserWarning: BFGS failed with message:\n",
      "Desired error not necessarily achieved due to precision loss.\n",
      "  warn(\"{} failed with message:\\n{}\".format(method, result.message))\n",
      "/home/ines/repositories/ssm/ssm/optimizers.py:146: UserWarning: BFGS failed with message:\n",
      "Desired error not necessarily achieved due to precision loss.\n",
      "  warn(\"{} failed with message:\\n{}\".format(method, result.message))\n",
      "/home/ines/repositories/ssm/ssm/optimizers.py:146: UserWarning: BFGS failed with message:\n",
      "Desired error not necessarily achieved due to precision loss.\n",
      "  warn(\"{} failed with message:\\n{}\".format(method, result.message))\n",
      "/home/ines/repositories/ssm/ssm/optimizers.py:146: UserWarning: BFGS failed with message:\n",
      "Desired error not necessarily achieved due to precision loss.\n",
      "  warn(\"{} failed with message:\\n{}\".format(method, result.message))\n",
      "/home/ines/repositories/ssm/ssm/optimizers.py:146: UserWarning: BFGS failed with message:\n",
      "Desired error not necessarily achieved due to precision loss.\n",
      "  warn(\"{} failed with message:\\n{}\".format(method, result.message))\n",
      "/home/ines/repositories/ssm/ssm/optimizers.py:146: UserWarning: BFGS failed with message:\n",
      "Desired error not necessarily achieved due to precision loss.\n",
      "  warn(\"{} failed with message:\\n{}\".format(method, result.message))\n",
      "/home/ines/repositories/ssm/ssm/optimizers.py:146: UserWarning: BFGS failed with message:\n",
      "Desired error not necessarily achieved due to precision loss.\n",
      "  warn(\"{} failed with message:\\n{}\".format(method, result.message))\n",
      "/home/ines/repositories/ssm/ssm/optimizers.py:146: UserWarning: BFGS failed with message:\n",
      "Desired error not necessarily achieved due to precision loss.\n",
      "  warn(\"{} failed with message:\\n{}\".format(method, result.message))\n"
     ]
    },
    {
     "name": "stdout",
     "output_type": "stream",
     "text": [
      "Starting inference with K = 3; Fold = 1; Iter = 6\n",
      "=== fitting GLM-HMM ========\n"
     ]
    },
    {
     "data": {
      "application/vnd.jupyter.widget-view+json": {
       "model_id": "c0c18aa0f2e64257979e1351d8aea061",
       "version_major": 2,
       "version_minor": 0
      },
      "text/plain": [
       "  0%|          | 0/300 [00:00<?, ?it/s]"
      ]
     },
     "metadata": {},
     "output_type": "display_data"
    },
    {
     "name": "stderr",
     "output_type": "stream",
     "text": [
      "/home/ines/repositories/ssm/ssm/optimizers.py:146: UserWarning: BFGS failed with message:\n",
      "Desired error not necessarily achieved due to precision loss.\n",
      "  warn(\"{} failed with message:\\n{}\".format(method, result.message))\n",
      "/home/ines/repositories/ssm/ssm/optimizers.py:146: UserWarning: BFGS failed with message:\n",
      "Desired error not necessarily achieved due to precision loss.\n",
      "  warn(\"{} failed with message:\\n{}\".format(method, result.message))\n",
      "/home/ines/repositories/ssm/ssm/optimizers.py:146: UserWarning: BFGS failed with message:\n",
      "Desired error not necessarily achieved due to precision loss.\n",
      "  warn(\"{} failed with message:\\n{}\".format(method, result.message))\n",
      "/home/ines/repositories/ssm/ssm/optimizers.py:146: UserWarning: BFGS failed with message:\n",
      "Desired error not necessarily achieved due to precision loss.\n",
      "  warn(\"{} failed with message:\\n{}\".format(method, result.message))\n",
      "/home/ines/repositories/ssm/ssm/optimizers.py:146: UserWarning: BFGS failed with message:\n",
      "Desired error not necessarily achieved due to precision loss.\n",
      "  warn(\"{} failed with message:\\n{}\".format(method, result.message))\n",
      "/home/ines/repositories/ssm/ssm/optimizers.py:146: UserWarning: BFGS failed with message:\n",
      "Desired error not necessarily achieved due to precision loss.\n",
      "  warn(\"{} failed with message:\\n{}\".format(method, result.message))\n"
     ]
    },
    {
     "name": "stdout",
     "output_type": "stream",
     "text": [
      "Starting inference with K = 3; Fold = 1; Iter = 7\n",
      "=== fitting GLM-HMM ========\n"
     ]
    },
    {
     "data": {
      "application/vnd.jupyter.widget-view+json": {
       "model_id": "b50a2bd1af194f3fbdc3115c92ece13e",
       "version_major": 2,
       "version_minor": 0
      },
      "text/plain": [
       "  0%|          | 0/300 [00:00<?, ?it/s]"
      ]
     },
     "metadata": {},
     "output_type": "display_data"
    },
    {
     "name": "stderr",
     "output_type": "stream",
     "text": [
      "/home/ines/repositories/ssm/ssm/optimizers.py:146: UserWarning: BFGS failed with message:\n",
      "Desired error not necessarily achieved due to precision loss.\n",
      "  warn(\"{} failed with message:\\n{}\".format(method, result.message))\n",
      "/home/ines/repositories/ssm/ssm/optimizers.py:146: UserWarning: BFGS failed with message:\n",
      "Desired error not necessarily achieved due to precision loss.\n",
      "  warn(\"{} failed with message:\\n{}\".format(method, result.message))\n",
      "/home/ines/repositories/ssm/ssm/optimizers.py:146: UserWarning: BFGS failed with message:\n",
      "Desired error not necessarily achieved due to precision loss.\n",
      "  warn(\"{} failed with message:\\n{}\".format(method, result.message))\n",
      "/home/ines/repositories/ssm/ssm/optimizers.py:146: UserWarning: BFGS failed with message:\n",
      "Desired error not necessarily achieved due to precision loss.\n",
      "  warn(\"{} failed with message:\\n{}\".format(method, result.message))\n",
      "/home/ines/repositories/ssm/ssm/optimizers.py:146: UserWarning: BFGS failed with message:\n",
      "Desired error not necessarily achieved due to precision loss.\n",
      "  warn(\"{} failed with message:\\n{}\".format(method, result.message))\n",
      "/home/ines/repositories/ssm/ssm/optimizers.py:146: UserWarning: BFGS failed with message:\n",
      "Desired error not necessarily achieved due to precision loss.\n",
      "  warn(\"{} failed with message:\\n{}\".format(method, result.message))\n",
      "/home/ines/repositories/ssm/ssm/optimizers.py:146: UserWarning: BFGS failed with message:\n",
      "Desired error not necessarily achieved due to precision loss.\n",
      "  warn(\"{} failed with message:\\n{}\".format(method, result.message))\n"
     ]
    },
    {
     "name": "stdout",
     "output_type": "stream",
     "text": [
      "Starting inference with K = 3; Fold = 1; Iter = 8\n",
      "=== fitting GLM-HMM ========\n"
     ]
    },
    {
     "data": {
      "application/vnd.jupyter.widget-view+json": {
       "model_id": "7139b8eb2a6b438b8eee8320ab8bc46b",
       "version_major": 2,
       "version_minor": 0
      },
      "text/plain": [
       "  0%|          | 0/300 [00:00<?, ?it/s]"
      ]
     },
     "metadata": {},
     "output_type": "display_data"
    },
    {
     "name": "stderr",
     "output_type": "stream",
     "text": [
      "/home/ines/repositories/ssm/ssm/optimizers.py:146: UserWarning: BFGS failed with message:\n",
      "Desired error not necessarily achieved due to precision loss.\n",
      "  warn(\"{} failed with message:\\n{}\".format(method, result.message))\n",
      "/home/ines/repositories/ssm/ssm/optimizers.py:146: UserWarning: BFGS failed with message:\n",
      "Desired error not necessarily achieved due to precision loss.\n",
      "  warn(\"{} failed with message:\\n{}\".format(method, result.message))\n",
      "/home/ines/repositories/ssm/ssm/optimizers.py:146: UserWarning: BFGS failed with message:\n",
      "Desired error not necessarily achieved due to precision loss.\n",
      "  warn(\"{} failed with message:\\n{}\".format(method, result.message))\n",
      "/home/ines/repositories/ssm/ssm/optimizers.py:146: UserWarning: BFGS failed with message:\n",
      "Desired error not necessarily achieved due to precision loss.\n",
      "  warn(\"{} failed with message:\\n{}\".format(method, result.message))\n",
      "/home/ines/repositories/ssm/ssm/optimizers.py:146: UserWarning: BFGS failed with message:\n",
      "Desired error not necessarily achieved due to precision loss.\n",
      "  warn(\"{} failed with message:\\n{}\".format(method, result.message))\n"
     ]
    },
    {
     "name": "stdout",
     "output_type": "stream",
     "text": [
      "Starting inference with K = 3; Fold = 1; Iter = 9\n",
      "=== fitting GLM-HMM ========\n"
     ]
    },
    {
     "data": {
      "application/vnd.jupyter.widget-view+json": {
       "model_id": "c30ad6c7a2694739af76f84cd78794be",
       "version_major": 2,
       "version_minor": 0
      },
      "text/plain": [
       "  0%|          | 0/300 [00:00<?, ?it/s]"
      ]
     },
     "metadata": {},
     "output_type": "display_data"
    },
    {
     "name": "stderr",
     "output_type": "stream",
     "text": [
      "/home/ines/repositories/ssm/ssm/optimizers.py:146: UserWarning: BFGS failed with message:\n",
      "Desired error not necessarily achieved due to precision loss.\n",
      "  warn(\"{} failed with message:\\n{}\".format(method, result.message))\n"
     ]
    },
    {
     "name": "stdout",
     "output_type": "stream",
     "text": [
      "Starting inference with K = 3; Fold = 2; Iter = 0\n",
      "=== fitting GLM-HMM ========\n"
     ]
    },
    {
     "data": {
      "application/vnd.jupyter.widget-view+json": {
       "model_id": "fc10165089ab4403936a8e2eb1013870",
       "version_major": 2,
       "version_minor": 0
      },
      "text/plain": [
       "  0%|          | 0/300 [00:00<?, ?it/s]"
      ]
     },
     "metadata": {},
     "output_type": "display_data"
    },
    {
     "name": "stderr",
     "output_type": "stream",
     "text": [
      "/home/ines/repositories/ssm/ssm/optimizers.py:146: UserWarning: BFGS failed with message:\n",
      "Desired error not necessarily achieved due to precision loss.\n",
      "  warn(\"{} failed with message:\\n{}\".format(method, result.message))\n",
      "/home/ines/repositories/ssm/ssm/optimizers.py:146: UserWarning: BFGS failed with message:\n",
      "Desired error not necessarily achieved due to precision loss.\n",
      "  warn(\"{} failed with message:\\n{}\".format(method, result.message))\n",
      "/home/ines/repositories/ssm/ssm/optimizers.py:146: UserWarning: BFGS failed with message:\n",
      "Desired error not necessarily achieved due to precision loss.\n",
      "  warn(\"{} failed with message:\\n{}\".format(method, result.message))\n",
      "/home/ines/repositories/ssm/ssm/optimizers.py:146: UserWarning: BFGS failed with message:\n",
      "Desired error not necessarily achieved due to precision loss.\n",
      "  warn(\"{} failed with message:\\n{}\".format(method, result.message))\n",
      "/home/ines/repositories/ssm/ssm/optimizers.py:146: UserWarning: BFGS failed with message:\n",
      "Desired error not necessarily achieved due to precision loss.\n",
      "  warn(\"{} failed with message:\\n{}\".format(method, result.message))\n",
      "/home/ines/repositories/ssm/ssm/optimizers.py:146: UserWarning: BFGS failed with message:\n",
      "Desired error not necessarily achieved due to precision loss.\n",
      "  warn(\"{} failed with message:\\n{}\".format(method, result.message))\n",
      "/home/ines/repositories/ssm/ssm/optimizers.py:146: UserWarning: BFGS failed with message:\n",
      "Desired error not necessarily achieved due to precision loss.\n",
      "  warn(\"{} failed with message:\\n{}\".format(method, result.message))\n",
      "/home/ines/repositories/ssm/ssm/optimizers.py:146: UserWarning: BFGS failed with message:\n",
      "Desired error not necessarily achieved due to precision loss.\n",
      "  warn(\"{} failed with message:\\n{}\".format(method, result.message))\n"
     ]
    },
    {
     "name": "stdout",
     "output_type": "stream",
     "text": [
      "Starting inference with K = 3; Fold = 2; Iter = 1\n",
      "=== fitting GLM-HMM ========\n"
     ]
    },
    {
     "data": {
      "application/vnd.jupyter.widget-view+json": {
       "model_id": "23d449d146a94a0dbc0660db66024daa",
       "version_major": 2,
       "version_minor": 0
      },
      "text/plain": [
       "  0%|          | 0/300 [00:00<?, ?it/s]"
      ]
     },
     "metadata": {},
     "output_type": "display_data"
    },
    {
     "name": "stderr",
     "output_type": "stream",
     "text": [
      "/home/ines/repositories/ssm/ssm/optimizers.py:146: UserWarning: BFGS failed with message:\n",
      "Desired error not necessarily achieved due to precision loss.\n",
      "  warn(\"{} failed with message:\\n{}\".format(method, result.message))\n",
      "/home/ines/repositories/ssm/ssm/optimizers.py:146: UserWarning: BFGS failed with message:\n",
      "Desired error not necessarily achieved due to precision loss.\n",
      "  warn(\"{} failed with message:\\n{}\".format(method, result.message))\n",
      "/home/ines/repositories/ssm/ssm/optimizers.py:146: UserWarning: BFGS failed with message:\n",
      "Desired error not necessarily achieved due to precision loss.\n",
      "  warn(\"{} failed with message:\\n{}\".format(method, result.message))\n",
      "/home/ines/repositories/ssm/ssm/optimizers.py:146: UserWarning: BFGS failed with message:\n",
      "Desired error not necessarily achieved due to precision loss.\n",
      "  warn(\"{} failed with message:\\n{}\".format(method, result.message))\n",
      "/home/ines/repositories/ssm/ssm/optimizers.py:146: UserWarning: BFGS failed with message:\n",
      "Desired error not necessarily achieved due to precision loss.\n",
      "  warn(\"{} failed with message:\\n{}\".format(method, result.message))\n",
      "/home/ines/repositories/ssm/ssm/optimizers.py:146: UserWarning: BFGS failed with message:\n",
      "Desired error not necessarily achieved due to precision loss.\n",
      "  warn(\"{} failed with message:\\n{}\".format(method, result.message))\n"
     ]
    },
    {
     "name": "stdout",
     "output_type": "stream",
     "text": [
      "Starting inference with K = 3; Fold = 2; Iter = 2\n",
      "=== fitting GLM-HMM ========\n"
     ]
    },
    {
     "data": {
      "application/vnd.jupyter.widget-view+json": {
       "model_id": "a75ec64700aa494191c349b7b1543398",
       "version_major": 2,
       "version_minor": 0
      },
      "text/plain": [
       "  0%|          | 0/300 [00:00<?, ?it/s]"
      ]
     },
     "metadata": {},
     "output_type": "display_data"
    },
    {
     "name": "stderr",
     "output_type": "stream",
     "text": [
      "/home/ines/repositories/ssm/ssm/optimizers.py:146: UserWarning: BFGS failed with message:\n",
      "Desired error not necessarily achieved due to precision loss.\n",
      "  warn(\"{} failed with message:\\n{}\".format(method, result.message))\n",
      "/home/ines/repositories/ssm/ssm/optimizers.py:146: UserWarning: BFGS failed with message:\n",
      "Desired error not necessarily achieved due to precision loss.\n",
      "  warn(\"{} failed with message:\\n{}\".format(method, result.message))\n",
      "/home/ines/repositories/ssm/ssm/optimizers.py:146: UserWarning: BFGS failed with message:\n",
      "Desired error not necessarily achieved due to precision loss.\n",
      "  warn(\"{} failed with message:\\n{}\".format(method, result.message))\n",
      "/home/ines/repositories/ssm/ssm/optimizers.py:146: UserWarning: BFGS failed with message:\n",
      "Desired error not necessarily achieved due to precision loss.\n",
      "  warn(\"{} failed with message:\\n{}\".format(method, result.message))\n",
      "/home/ines/repositories/ssm/ssm/optimizers.py:146: UserWarning: BFGS failed with message:\n",
      "Desired error not necessarily achieved due to precision loss.\n",
      "  warn(\"{} failed with message:\\n{}\".format(method, result.message))\n",
      "/home/ines/repositories/ssm/ssm/optimizers.py:146: UserWarning: BFGS failed with message:\n",
      "Desired error not necessarily achieved due to precision loss.\n",
      "  warn(\"{} failed with message:\\n{}\".format(method, result.message))\n"
     ]
    },
    {
     "name": "stdout",
     "output_type": "stream",
     "text": [
      "Starting inference with K = 3; Fold = 2; Iter = 3\n",
      "=== fitting GLM-HMM ========\n"
     ]
    },
    {
     "data": {
      "application/vnd.jupyter.widget-view+json": {
       "model_id": "474361ecea6f4c8da4c75784b7680cd1",
       "version_major": 2,
       "version_minor": 0
      },
      "text/plain": [
       "  0%|          | 0/300 [00:00<?, ?it/s]"
      ]
     },
     "metadata": {},
     "output_type": "display_data"
    },
    {
     "name": "stderr",
     "output_type": "stream",
     "text": [
      "/home/ines/repositories/ssm/ssm/optimizers.py:146: UserWarning: BFGS failed with message:\n",
      "Desired error not necessarily achieved due to precision loss.\n",
      "  warn(\"{} failed with message:\\n{}\".format(method, result.message))\n",
      "/home/ines/repositories/ssm/ssm/optimizers.py:146: UserWarning: BFGS failed with message:\n",
      "Desired error not necessarily achieved due to precision loss.\n",
      "  warn(\"{} failed with message:\\n{}\".format(method, result.message))\n",
      "/home/ines/repositories/ssm/ssm/optimizers.py:146: UserWarning: BFGS failed with message:\n",
      "Desired error not necessarily achieved due to precision loss.\n",
      "  warn(\"{} failed with message:\\n{}\".format(method, result.message))\n",
      "/home/ines/repositories/ssm/ssm/optimizers.py:146: UserWarning: BFGS failed with message:\n",
      "Desired error not necessarily achieved due to precision loss.\n",
      "  warn(\"{} failed with message:\\n{}\".format(method, result.message))\n"
     ]
    },
    {
     "name": "stdout",
     "output_type": "stream",
     "text": [
      "Starting inference with K = 3; Fold = 2; Iter = 4\n",
      "=== fitting GLM-HMM ========\n"
     ]
    },
    {
     "data": {
      "application/vnd.jupyter.widget-view+json": {
       "model_id": "a64561249aa4463c81a86efa2cf928d5",
       "version_major": 2,
       "version_minor": 0
      },
      "text/plain": [
       "  0%|          | 0/300 [00:00<?, ?it/s]"
      ]
     },
     "metadata": {},
     "output_type": "display_data"
    },
    {
     "name": "stderr",
     "output_type": "stream",
     "text": [
      "/home/ines/repositories/ssm/ssm/optimizers.py:146: UserWarning: BFGS failed with message:\n",
      "Desired error not necessarily achieved due to precision loss.\n",
      "  warn(\"{} failed with message:\\n{}\".format(method, result.message))\n",
      "/home/ines/repositories/ssm/ssm/optimizers.py:146: UserWarning: BFGS failed with message:\n",
      "Desired error not necessarily achieved due to precision loss.\n",
      "  warn(\"{} failed with message:\\n{}\".format(method, result.message))\n",
      "/home/ines/repositories/ssm/ssm/optimizers.py:146: UserWarning: BFGS failed with message:\n",
      "Desired error not necessarily achieved due to precision loss.\n",
      "  warn(\"{} failed with message:\\n{}\".format(method, result.message))\n",
      "/home/ines/repositories/ssm/ssm/optimizers.py:146: UserWarning: BFGS failed with message:\n",
      "Desired error not necessarily achieved due to precision loss.\n",
      "  warn(\"{} failed with message:\\n{}\".format(method, result.message))\n",
      "/home/ines/repositories/ssm/ssm/optimizers.py:146: UserWarning: BFGS failed with message:\n",
      "Desired error not necessarily achieved due to precision loss.\n",
      "  warn(\"{} failed with message:\\n{}\".format(method, result.message))\n",
      "/home/ines/repositories/ssm/ssm/optimizers.py:146: UserWarning: BFGS failed with message:\n",
      "Desired error not necessarily achieved due to precision loss.\n",
      "  warn(\"{} failed with message:\\n{}\".format(method, result.message))\n",
      "/home/ines/repositories/ssm/ssm/optimizers.py:146: UserWarning: BFGS failed with message:\n",
      "Desired error not necessarily achieved due to precision loss.\n",
      "  warn(\"{} failed with message:\\n{}\".format(method, result.message))\n",
      "/home/ines/repositories/ssm/ssm/optimizers.py:146: UserWarning: BFGS failed with message:\n",
      "Desired error not necessarily achieved due to precision loss.\n",
      "  warn(\"{} failed with message:\\n{}\".format(method, result.message))\n",
      "/home/ines/repositories/ssm/ssm/optimizers.py:146: UserWarning: BFGS failed with message:\n",
      "Desired error not necessarily achieved due to precision loss.\n",
      "  warn(\"{} failed with message:\\n{}\".format(method, result.message))\n",
      "/home/ines/repositories/ssm/ssm/optimizers.py:146: UserWarning: BFGS failed with message:\n",
      "Desired error not necessarily achieved due to precision loss.\n",
      "  warn(\"{} failed with message:\\n{}\".format(method, result.message))\n",
      "/home/ines/repositories/ssm/ssm/optimizers.py:146: UserWarning: BFGS failed with message:\n",
      "Desired error not necessarily achieved due to precision loss.\n",
      "  warn(\"{} failed with message:\\n{}\".format(method, result.message))\n",
      "/home/ines/repositories/ssm/ssm/optimizers.py:146: UserWarning: BFGS failed with message:\n",
      "Desired error not necessarily achieved due to precision loss.\n",
      "  warn(\"{} failed with message:\\n{}\".format(method, result.message))\n"
     ]
    },
    {
     "name": "stdout",
     "output_type": "stream",
     "text": [
      "Starting inference with K = 3; Fold = 2; Iter = 5\n",
      "=== fitting GLM-HMM ========\n"
     ]
    },
    {
     "data": {
      "application/vnd.jupyter.widget-view+json": {
       "model_id": "0c7d6bdb868345aca1c084c3643da484",
       "version_major": 2,
       "version_minor": 0
      },
      "text/plain": [
       "  0%|          | 0/300 [00:00<?, ?it/s]"
      ]
     },
     "metadata": {},
     "output_type": "display_data"
    },
    {
     "name": "stderr",
     "output_type": "stream",
     "text": [
      "/home/ines/repositories/ssm/ssm/optimizers.py:146: UserWarning: BFGS failed with message:\n",
      "Desired error not necessarily achieved due to precision loss.\n",
      "  warn(\"{} failed with message:\\n{}\".format(method, result.message))\n",
      "/home/ines/repositories/ssm/ssm/optimizers.py:146: UserWarning: BFGS failed with message:\n",
      "Desired error not necessarily achieved due to precision loss.\n",
      "  warn(\"{} failed with message:\\n{}\".format(method, result.message))\n",
      "/home/ines/repositories/ssm/ssm/optimizers.py:146: UserWarning: BFGS failed with message:\n",
      "Desired error not necessarily achieved due to precision loss.\n",
      "  warn(\"{} failed with message:\\n{}\".format(method, result.message))\n",
      "/home/ines/repositories/ssm/ssm/optimizers.py:146: UserWarning: BFGS failed with message:\n",
      "Desired error not necessarily achieved due to precision loss.\n",
      "  warn(\"{} failed with message:\\n{}\".format(method, result.message))\n",
      "/home/ines/repositories/ssm/ssm/optimizers.py:146: UserWarning: BFGS failed with message:\n",
      "Desired error not necessarily achieved due to precision loss.\n",
      "  warn(\"{} failed with message:\\n{}\".format(method, result.message))\n",
      "/home/ines/repositories/ssm/ssm/optimizers.py:146: UserWarning: BFGS failed with message:\n",
      "Desired error not necessarily achieved due to precision loss.\n",
      "  warn(\"{} failed with message:\\n{}\".format(method, result.message))\n",
      "/home/ines/repositories/ssm/ssm/optimizers.py:146: UserWarning: BFGS failed with message:\n",
      "Desired error not necessarily achieved due to precision loss.\n",
      "  warn(\"{} failed with message:\\n{}\".format(method, result.message))\n",
      "/home/ines/repositories/ssm/ssm/optimizers.py:146: UserWarning: BFGS failed with message:\n",
      "Desired error not necessarily achieved due to precision loss.\n",
      "  warn(\"{} failed with message:\\n{}\".format(method, result.message))\n",
      "/home/ines/repositories/ssm/ssm/optimizers.py:146: UserWarning: BFGS failed with message:\n",
      "Desired error not necessarily achieved due to precision loss.\n",
      "  warn(\"{} failed with message:\\n{}\".format(method, result.message))\n",
      "/home/ines/repositories/ssm/ssm/optimizers.py:146: UserWarning: BFGS failed with message:\n",
      "Desired error not necessarily achieved due to precision loss.\n",
      "  warn(\"{} failed with message:\\n{}\".format(method, result.message))\n"
     ]
    },
    {
     "name": "stdout",
     "output_type": "stream",
     "text": [
      "Starting inference with K = 3; Fold = 2; Iter = 6\n",
      "=== fitting GLM-HMM ========\n"
     ]
    },
    {
     "data": {
      "application/vnd.jupyter.widget-view+json": {
       "model_id": "f0db1e73555a4c29846cff1773fa67f1",
       "version_major": 2,
       "version_minor": 0
      },
      "text/plain": [
       "  0%|          | 0/300 [00:00<?, ?it/s]"
      ]
     },
     "metadata": {},
     "output_type": "display_data"
    },
    {
     "name": "stderr",
     "output_type": "stream",
     "text": [
      "/home/ines/repositories/ssm/ssm/optimizers.py:146: UserWarning: BFGS failed with message:\n",
      "Desired error not necessarily achieved due to precision loss.\n",
      "  warn(\"{} failed with message:\\n{}\".format(method, result.message))\n",
      "/home/ines/repositories/ssm/ssm/optimizers.py:146: UserWarning: BFGS failed with message:\n",
      "Desired error not necessarily achieved due to precision loss.\n",
      "  warn(\"{} failed with message:\\n{}\".format(method, result.message))\n",
      "/home/ines/repositories/ssm/ssm/optimizers.py:146: UserWarning: BFGS failed with message:\n",
      "Desired error not necessarily achieved due to precision loss.\n",
      "  warn(\"{} failed with message:\\n{}\".format(method, result.message))\n",
      "/home/ines/repositories/ssm/ssm/optimizers.py:146: UserWarning: BFGS failed with message:\n",
      "Desired error not necessarily achieved due to precision loss.\n",
      "  warn(\"{} failed with message:\\n{}\".format(method, result.message))\n",
      "/home/ines/repositories/ssm/ssm/optimizers.py:146: UserWarning: BFGS failed with message:\n",
      "Desired error not necessarily achieved due to precision loss.\n",
      "  warn(\"{} failed with message:\\n{}\".format(method, result.message))\n"
     ]
    },
    {
     "name": "stdout",
     "output_type": "stream",
     "text": [
      "Starting inference with K = 3; Fold = 2; Iter = 7\n",
      "=== fitting GLM-HMM ========\n"
     ]
    },
    {
     "data": {
      "application/vnd.jupyter.widget-view+json": {
       "model_id": "6b95cc5a9b124152ac775c98b29dce65",
       "version_major": 2,
       "version_minor": 0
      },
      "text/plain": [
       "  0%|          | 0/300 [00:00<?, ?it/s]"
      ]
     },
     "metadata": {},
     "output_type": "display_data"
    },
    {
     "name": "stderr",
     "output_type": "stream",
     "text": [
      "/home/ines/repositories/ssm/ssm/optimizers.py:146: UserWarning: BFGS failed with message:\n",
      "Desired error not necessarily achieved due to precision loss.\n",
      "  warn(\"{} failed with message:\\n{}\".format(method, result.message))\n",
      "/home/ines/repositories/ssm/ssm/optimizers.py:146: UserWarning: BFGS failed with message:\n",
      "Desired error not necessarily achieved due to precision loss.\n",
      "  warn(\"{} failed with message:\\n{}\".format(method, result.message))\n"
     ]
    },
    {
     "name": "stdout",
     "output_type": "stream",
     "text": [
      "Starting inference with K = 3; Fold = 2; Iter = 8\n",
      "=== fitting GLM-HMM ========\n"
     ]
    },
    {
     "data": {
      "application/vnd.jupyter.widget-view+json": {
       "model_id": "bbe12ae744aa48a98115afbf0e11c3d8",
       "version_major": 2,
       "version_minor": 0
      },
      "text/plain": [
       "  0%|          | 0/300 [00:00<?, ?it/s]"
      ]
     },
     "metadata": {},
     "output_type": "display_data"
    },
    {
     "name": "stderr",
     "output_type": "stream",
     "text": [
      "/home/ines/repositories/ssm/ssm/optimizers.py:146: UserWarning: BFGS failed with message:\n",
      "Desired error not necessarily achieved due to precision loss.\n",
      "  warn(\"{} failed with message:\\n{}\".format(method, result.message))\n",
      "/home/ines/repositories/ssm/ssm/optimizers.py:146: UserWarning: BFGS failed with message:\n",
      "Desired error not necessarily achieved due to precision loss.\n",
      "  warn(\"{} failed with message:\\n{}\".format(method, result.message))\n",
      "/home/ines/repositories/ssm/ssm/optimizers.py:146: UserWarning: BFGS failed with message:\n",
      "Desired error not necessarily achieved due to precision loss.\n",
      "  warn(\"{} failed with message:\\n{}\".format(method, result.message))\n",
      "/home/ines/repositories/ssm/ssm/optimizers.py:146: UserWarning: BFGS failed with message:\n",
      "Desired error not necessarily achieved due to precision loss.\n",
      "  warn(\"{} failed with message:\\n{}\".format(method, result.message))\n",
      "/home/ines/repositories/ssm/ssm/optimizers.py:146: UserWarning: BFGS failed with message:\n",
      "Desired error not necessarily achieved due to precision loss.\n",
      "  warn(\"{} failed with message:\\n{}\".format(method, result.message))\n",
      "/home/ines/repositories/ssm/ssm/optimizers.py:146: UserWarning: BFGS failed with message:\n",
      "Desired error not necessarily achieved due to precision loss.\n",
      "  warn(\"{} failed with message:\\n{}\".format(method, result.message))\n",
      "/home/ines/repositories/ssm/ssm/optimizers.py:146: UserWarning: BFGS failed with message:\n",
      "Desired error not necessarily achieved due to precision loss.\n",
      "  warn(\"{} failed with message:\\n{}\".format(method, result.message))\n",
      "/home/ines/repositories/ssm/ssm/optimizers.py:146: UserWarning: BFGS failed with message:\n",
      "Desired error not necessarily achieved due to precision loss.\n",
      "  warn(\"{} failed with message:\\n{}\".format(method, result.message))\n",
      "/home/ines/repositories/ssm/ssm/optimizers.py:146: UserWarning: BFGS failed with message:\n",
      "Desired error not necessarily achieved due to precision loss.\n",
      "  warn(\"{} failed with message:\\n{}\".format(method, result.message))\n"
     ]
    },
    {
     "name": "stdout",
     "output_type": "stream",
     "text": [
      "Starting inference with K = 3; Fold = 2; Iter = 9\n",
      "=== fitting GLM-HMM ========\n"
     ]
    },
    {
     "data": {
      "application/vnd.jupyter.widget-view+json": {
       "model_id": "5b4c8426ec534e5fab375fa4efc37ec4",
       "version_major": 2,
       "version_minor": 0
      },
      "text/plain": [
       "  0%|          | 0/300 [00:00<?, ?it/s]"
      ]
     },
     "metadata": {},
     "output_type": "display_data"
    },
    {
     "name": "stderr",
     "output_type": "stream",
     "text": [
      "/home/ines/repositories/ssm/ssm/optimizers.py:146: UserWarning: BFGS failed with message:\n",
      "Desired error not necessarily achieved due to precision loss.\n",
      "  warn(\"{} failed with message:\\n{}\".format(method, result.message))\n",
      "/home/ines/repositories/ssm/ssm/optimizers.py:146: UserWarning: BFGS failed with message:\n",
      "Desired error not necessarily achieved due to precision loss.\n",
      "  warn(\"{} failed with message:\\n{}\".format(method, result.message))\n",
      "/home/ines/repositories/ssm/ssm/optimizers.py:146: UserWarning: BFGS failed with message:\n",
      "Desired error not necessarily achieved due to precision loss.\n",
      "  warn(\"{} failed with message:\\n{}\".format(method, result.message))\n"
     ]
    },
    {
     "name": "stdout",
     "output_type": "stream",
     "text": [
      "Starting inference with K = 3; Fold = 3; Iter = 0\n",
      "=== fitting GLM-HMM ========\n"
     ]
    },
    {
     "data": {
      "application/vnd.jupyter.widget-view+json": {
       "model_id": "5125cf54718c41a98adfa66c2ff50645",
       "version_major": 2,
       "version_minor": 0
      },
      "text/plain": [
       "  0%|          | 0/300 [00:00<?, ?it/s]"
      ]
     },
     "metadata": {},
     "output_type": "display_data"
    },
    {
     "name": "stderr",
     "output_type": "stream",
     "text": [
      "/home/ines/repositories/ssm/ssm/optimizers.py:146: UserWarning: BFGS failed with message:\n",
      "Desired error not necessarily achieved due to precision loss.\n",
      "  warn(\"{} failed with message:\\n{}\".format(method, result.message))\n",
      "/home/ines/repositories/ssm/ssm/optimizers.py:146: UserWarning: BFGS failed with message:\n",
      "Desired error not necessarily achieved due to precision loss.\n",
      "  warn(\"{} failed with message:\\n{}\".format(method, result.message))\n"
     ]
    },
    {
     "name": "stdout",
     "output_type": "stream",
     "text": [
      "Starting inference with K = 3; Fold = 3; Iter = 1\n",
      "=== fitting GLM-HMM ========\n"
     ]
    },
    {
     "data": {
      "application/vnd.jupyter.widget-view+json": {
       "model_id": "57b0590bf29e46b2b2667376071bf015",
       "version_major": 2,
       "version_minor": 0
      },
      "text/plain": [
       "  0%|          | 0/300 [00:00<?, ?it/s]"
      ]
     },
     "metadata": {},
     "output_type": "display_data"
    },
    {
     "name": "stderr",
     "output_type": "stream",
     "text": [
      "/home/ines/repositories/ssm/ssm/optimizers.py:146: UserWarning: BFGS failed with message:\n",
      "Desired error not necessarily achieved due to precision loss.\n",
      "  warn(\"{} failed with message:\\n{}\".format(method, result.message))\n",
      "/home/ines/repositories/ssm/ssm/optimizers.py:146: UserWarning: BFGS failed with message:\n",
      "Desired error not necessarily achieved due to precision loss.\n",
      "  warn(\"{} failed with message:\\n{}\".format(method, result.message))\n",
      "/home/ines/repositories/ssm/ssm/optimizers.py:146: UserWarning: BFGS failed with message:\n",
      "Desired error not necessarily achieved due to precision loss.\n",
      "  warn(\"{} failed with message:\\n{}\".format(method, result.message))\n",
      "/home/ines/repositories/ssm/ssm/optimizers.py:146: UserWarning: BFGS failed with message:\n",
      "Desired error not necessarily achieved due to precision loss.\n",
      "  warn(\"{} failed with message:\\n{}\".format(method, result.message))\n"
     ]
    },
    {
     "name": "stdout",
     "output_type": "stream",
     "text": [
      "Starting inference with K = 3; Fold = 3; Iter = 2\n",
      "=== fitting GLM-HMM ========\n"
     ]
    },
    {
     "data": {
      "application/vnd.jupyter.widget-view+json": {
       "model_id": "68af0d22a9b44d8180f1d910ac367f36",
       "version_major": 2,
       "version_minor": 0
      },
      "text/plain": [
       "  0%|          | 0/300 [00:00<?, ?it/s]"
      ]
     },
     "metadata": {},
     "output_type": "display_data"
    },
    {
     "name": "stderr",
     "output_type": "stream",
     "text": [
      "/home/ines/repositories/ssm/ssm/optimizers.py:146: UserWarning: BFGS failed with message:\n",
      "Desired error not necessarily achieved due to precision loss.\n",
      "  warn(\"{} failed with message:\\n{}\".format(method, result.message))\n",
      "/home/ines/repositories/ssm/ssm/optimizers.py:146: UserWarning: BFGS failed with message:\n",
      "Desired error not necessarily achieved due to precision loss.\n",
      "  warn(\"{} failed with message:\\n{}\".format(method, result.message))\n",
      "/home/ines/repositories/ssm/ssm/optimizers.py:146: UserWarning: BFGS failed with message:\n",
      "Desired error not necessarily achieved due to precision loss.\n",
      "  warn(\"{} failed with message:\\n{}\".format(method, result.message))\n",
      "/home/ines/repositories/ssm/ssm/optimizers.py:146: UserWarning: BFGS failed with message:\n",
      "Desired error not necessarily achieved due to precision loss.\n",
      "  warn(\"{} failed with message:\\n{}\".format(method, result.message))\n",
      "/home/ines/repositories/ssm/ssm/optimizers.py:146: UserWarning: BFGS failed with message:\n",
      "Desired error not necessarily achieved due to precision loss.\n",
      "  warn(\"{} failed with message:\\n{}\".format(method, result.message))\n",
      "/home/ines/repositories/ssm/ssm/optimizers.py:146: UserWarning: BFGS failed with message:\n",
      "Desired error not necessarily achieved due to precision loss.\n",
      "  warn(\"{} failed with message:\\n{}\".format(method, result.message))\n",
      "/home/ines/repositories/ssm/ssm/optimizers.py:146: UserWarning: BFGS failed with message:\n",
      "Desired error not necessarily achieved due to precision loss.\n",
      "  warn(\"{} failed with message:\\n{}\".format(method, result.message))\n",
      "/home/ines/repositories/ssm/ssm/optimizers.py:146: UserWarning: BFGS failed with message:\n",
      "Desired error not necessarily achieved due to precision loss.\n",
      "  warn(\"{} failed with message:\\n{}\".format(method, result.message))\n",
      "/home/ines/repositories/ssm/ssm/optimizers.py:146: UserWarning: BFGS failed with message:\n",
      "Desired error not necessarily achieved due to precision loss.\n",
      "  warn(\"{} failed with message:\\n{}\".format(method, result.message))\n",
      "/home/ines/repositories/ssm/ssm/optimizers.py:146: UserWarning: BFGS failed with message:\n",
      "Desired error not necessarily achieved due to precision loss.\n",
      "  warn(\"{} failed with message:\\n{}\".format(method, result.message))\n",
      "/home/ines/repositories/ssm/ssm/optimizers.py:146: UserWarning: BFGS failed with message:\n",
      "Desired error not necessarily achieved due to precision loss.\n",
      "  warn(\"{} failed with message:\\n{}\".format(method, result.message))\n",
      "/home/ines/repositories/ssm/ssm/optimizers.py:146: UserWarning: BFGS failed with message:\n",
      "Desired error not necessarily achieved due to precision loss.\n",
      "  warn(\"{} failed with message:\\n{}\".format(method, result.message))\n",
      "/home/ines/repositories/ssm/ssm/optimizers.py:146: UserWarning: BFGS failed with message:\n",
      "Desired error not necessarily achieved due to precision loss.\n",
      "  warn(\"{} failed with message:\\n{}\".format(method, result.message))\n"
     ]
    },
    {
     "name": "stdout",
     "output_type": "stream",
     "text": [
      "Starting inference with K = 3; Fold = 3; Iter = 3\n",
      "=== fitting GLM-HMM ========\n"
     ]
    },
    {
     "data": {
      "application/vnd.jupyter.widget-view+json": {
       "model_id": "8fa7d9204c964f44896c3d7801fb34fd",
       "version_major": 2,
       "version_minor": 0
      },
      "text/plain": [
       "  0%|          | 0/300 [00:00<?, ?it/s]"
      ]
     },
     "metadata": {},
     "output_type": "display_data"
    },
    {
     "name": "stderr",
     "output_type": "stream",
     "text": [
      "/home/ines/repositories/ssm/ssm/optimizers.py:146: UserWarning: BFGS failed with message:\n",
      "Desired error not necessarily achieved due to precision loss.\n",
      "  warn(\"{} failed with message:\\n{}\".format(method, result.message))\n",
      "/home/ines/repositories/ssm/ssm/optimizers.py:146: UserWarning: BFGS failed with message:\n",
      "Desired error not necessarily achieved due to precision loss.\n",
      "  warn(\"{} failed with message:\\n{}\".format(method, result.message))\n",
      "/home/ines/repositories/ssm/ssm/optimizers.py:146: UserWarning: BFGS failed with message:\n",
      "Desired error not necessarily achieved due to precision loss.\n",
      "  warn(\"{} failed with message:\\n{}\".format(method, result.message))\n",
      "/home/ines/repositories/ssm/ssm/optimizers.py:146: UserWarning: BFGS failed with message:\n",
      "Desired error not necessarily achieved due to precision loss.\n",
      "  warn(\"{} failed with message:\\n{}\".format(method, result.message))\n",
      "/home/ines/repositories/ssm/ssm/optimizers.py:146: UserWarning: BFGS failed with message:\n",
      "Desired error not necessarily achieved due to precision loss.\n",
      "  warn(\"{} failed with message:\\n{}\".format(method, result.message))\n",
      "/home/ines/repositories/ssm/ssm/optimizers.py:146: UserWarning: BFGS failed with message:\n",
      "Desired error not necessarily achieved due to precision loss.\n",
      "  warn(\"{} failed with message:\\n{}\".format(method, result.message))\n"
     ]
    },
    {
     "name": "stdout",
     "output_type": "stream",
     "text": [
      "Starting inference with K = 3; Fold = 3; Iter = 4\n",
      "=== fitting GLM-HMM ========\n"
     ]
    },
    {
     "data": {
      "application/vnd.jupyter.widget-view+json": {
       "model_id": "0a5f6077d66840aeb18cf9896b7f7a89",
       "version_major": 2,
       "version_minor": 0
      },
      "text/plain": [
       "  0%|          | 0/300 [00:00<?, ?it/s]"
      ]
     },
     "metadata": {},
     "output_type": "display_data"
    },
    {
     "name": "stderr",
     "output_type": "stream",
     "text": [
      "/home/ines/repositories/ssm/ssm/optimizers.py:146: UserWarning: BFGS failed with message:\n",
      "Desired error not necessarily achieved due to precision loss.\n",
      "  warn(\"{} failed with message:\\n{}\".format(method, result.message))\n",
      "/home/ines/repositories/ssm/ssm/optimizers.py:146: UserWarning: BFGS failed with message:\n",
      "Desired error not necessarily achieved due to precision loss.\n",
      "  warn(\"{} failed with message:\\n{}\".format(method, result.message))\n",
      "/home/ines/repositories/ssm/ssm/optimizers.py:146: UserWarning: BFGS failed with message:\n",
      "Desired error not necessarily achieved due to precision loss.\n",
      "  warn(\"{} failed with message:\\n{}\".format(method, result.message))\n",
      "/home/ines/repositories/ssm/ssm/optimizers.py:146: UserWarning: BFGS failed with message:\n",
      "Desired error not necessarily achieved due to precision loss.\n",
      "  warn(\"{} failed with message:\\n{}\".format(method, result.message))\n",
      "/home/ines/repositories/ssm/ssm/optimizers.py:146: UserWarning: BFGS failed with message:\n",
      "Desired error not necessarily achieved due to precision loss.\n",
      "  warn(\"{} failed with message:\\n{}\".format(method, result.message))\n",
      "/home/ines/repositories/ssm/ssm/optimizers.py:146: UserWarning: BFGS failed with message:\n",
      "Desired error not necessarily achieved due to precision loss.\n",
      "  warn(\"{} failed with message:\\n{}\".format(method, result.message))\n",
      "/home/ines/repositories/ssm/ssm/optimizers.py:146: UserWarning: BFGS failed with message:\n",
      "Desired error not necessarily achieved due to precision loss.\n",
      "  warn(\"{} failed with message:\\n{}\".format(method, result.message))\n",
      "/home/ines/repositories/ssm/ssm/optimizers.py:146: UserWarning: BFGS failed with message:\n",
      "Desired error not necessarily achieved due to precision loss.\n",
      "  warn(\"{} failed with message:\\n{}\".format(method, result.message))\n",
      "/home/ines/repositories/ssm/ssm/optimizers.py:146: UserWarning: BFGS failed with message:\n",
      "Desired error not necessarily achieved due to precision loss.\n",
      "  warn(\"{} failed with message:\\n{}\".format(method, result.message))\n",
      "/home/ines/repositories/ssm/ssm/optimizers.py:146: UserWarning: BFGS failed with message:\n",
      "Desired error not necessarily achieved due to precision loss.\n",
      "  warn(\"{} failed with message:\\n{}\".format(method, result.message))\n",
      "/home/ines/repositories/ssm/ssm/optimizers.py:146: UserWarning: BFGS failed with message:\n",
      "Desired error not necessarily achieved due to precision loss.\n",
      "  warn(\"{} failed with message:\\n{}\".format(method, result.message))\n"
     ]
    },
    {
     "name": "stdout",
     "output_type": "stream",
     "text": [
      "Starting inference with K = 3; Fold = 3; Iter = 5\n",
      "=== fitting GLM-HMM ========\n"
     ]
    },
    {
     "data": {
      "application/vnd.jupyter.widget-view+json": {
       "model_id": "b802bcb712154e5fa968d51b8a9820fc",
       "version_major": 2,
       "version_minor": 0
      },
      "text/plain": [
       "  0%|          | 0/300 [00:00<?, ?it/s]"
      ]
     },
     "metadata": {},
     "output_type": "display_data"
    },
    {
     "name": "stderr",
     "output_type": "stream",
     "text": [
      "/home/ines/repositories/ssm/ssm/optimizers.py:146: UserWarning: BFGS failed with message:\n",
      "Desired error not necessarily achieved due to precision loss.\n",
      "  warn(\"{} failed with message:\\n{}\".format(method, result.message))\n",
      "/home/ines/repositories/ssm/ssm/optimizers.py:146: UserWarning: BFGS failed with message:\n",
      "Desired error not necessarily achieved due to precision loss.\n",
      "  warn(\"{} failed with message:\\n{}\".format(method, result.message))\n",
      "/home/ines/repositories/ssm/ssm/optimizers.py:146: UserWarning: BFGS failed with message:\n",
      "Desired error not necessarily achieved due to precision loss.\n",
      "  warn(\"{} failed with message:\\n{}\".format(method, result.message))\n",
      "/home/ines/repositories/ssm/ssm/optimizers.py:146: UserWarning: BFGS failed with message:\n",
      "Desired error not necessarily achieved due to precision loss.\n",
      "  warn(\"{} failed with message:\\n{}\".format(method, result.message))\n",
      "/home/ines/repositories/ssm/ssm/optimizers.py:146: UserWarning: BFGS failed with message:\n",
      "Desired error not necessarily achieved due to precision loss.\n",
      "  warn(\"{} failed with message:\\n{}\".format(method, result.message))\n",
      "/home/ines/repositories/ssm/ssm/optimizers.py:146: UserWarning: BFGS failed with message:\n",
      "Desired error not necessarily achieved due to precision loss.\n",
      "  warn(\"{} failed with message:\\n{}\".format(method, result.message))\n",
      "/home/ines/repositories/ssm/ssm/optimizers.py:146: UserWarning: BFGS failed with message:\n",
      "Desired error not necessarily achieved due to precision loss.\n",
      "  warn(\"{} failed with message:\\n{}\".format(method, result.message))\n",
      "/home/ines/repositories/ssm/ssm/optimizers.py:146: UserWarning: BFGS failed with message:\n",
      "Desired error not necessarily achieved due to precision loss.\n",
      "  warn(\"{} failed with message:\\n{}\".format(method, result.message))\n",
      "/home/ines/repositories/ssm/ssm/optimizers.py:146: UserWarning: BFGS failed with message:\n",
      "Desired error not necessarily achieved due to precision loss.\n",
      "  warn(\"{} failed with message:\\n{}\".format(method, result.message))\n",
      "/home/ines/repositories/ssm/ssm/optimizers.py:146: UserWarning: BFGS failed with message:\n",
      "Desired error not necessarily achieved due to precision loss.\n",
      "  warn(\"{} failed with message:\\n{}\".format(method, result.message))\n",
      "/home/ines/repositories/ssm/ssm/optimizers.py:146: UserWarning: BFGS failed with message:\n",
      "Desired error not necessarily achieved due to precision loss.\n",
      "  warn(\"{} failed with message:\\n{}\".format(method, result.message))\n",
      "/home/ines/repositories/ssm/ssm/optimizers.py:146: UserWarning: BFGS failed with message:\n",
      "Desired error not necessarily achieved due to precision loss.\n",
      "  warn(\"{} failed with message:\\n{}\".format(method, result.message))\n",
      "/home/ines/repositories/ssm/ssm/optimizers.py:146: UserWarning: BFGS failed with message:\n",
      "Desired error not necessarily achieved due to precision loss.\n",
      "  warn(\"{} failed with message:\\n{}\".format(method, result.message))\n",
      "/home/ines/repositories/ssm/ssm/optimizers.py:146: UserWarning: BFGS failed with message:\n",
      "Desired error not necessarily achieved due to precision loss.\n",
      "  warn(\"{} failed with message:\\n{}\".format(method, result.message))\n"
     ]
    },
    {
     "name": "stdout",
     "output_type": "stream",
     "text": [
      "Starting inference with K = 3; Fold = 3; Iter = 6\n",
      "=== fitting GLM-HMM ========\n"
     ]
    },
    {
     "data": {
      "application/vnd.jupyter.widget-view+json": {
       "model_id": "4632ae84caa7483ea46983f3580a2aff",
       "version_major": 2,
       "version_minor": 0
      },
      "text/plain": [
       "  0%|          | 0/300 [00:00<?, ?it/s]"
      ]
     },
     "metadata": {},
     "output_type": "display_data"
    },
    {
     "name": "stderr",
     "output_type": "stream",
     "text": [
      "/home/ines/repositories/ssm/ssm/optimizers.py:146: UserWarning: BFGS failed with message:\n",
      "Desired error not necessarily achieved due to precision loss.\n",
      "  warn(\"{} failed with message:\\n{}\".format(method, result.message))\n",
      "/home/ines/repositories/ssm/ssm/optimizers.py:146: UserWarning: BFGS failed with message:\n",
      "Desired error not necessarily achieved due to precision loss.\n",
      "  warn(\"{} failed with message:\\n{}\".format(method, result.message))\n",
      "/home/ines/repositories/ssm/ssm/optimizers.py:146: UserWarning: BFGS failed with message:\n",
      "Desired error not necessarily achieved due to precision loss.\n",
      "  warn(\"{} failed with message:\\n{}\".format(method, result.message))\n",
      "/home/ines/repositories/ssm/ssm/optimizers.py:146: UserWarning: BFGS failed with message:\n",
      "Desired error not necessarily achieved due to precision loss.\n",
      "  warn(\"{} failed with message:\\n{}\".format(method, result.message))\n",
      "/home/ines/repositories/ssm/ssm/optimizers.py:146: UserWarning: BFGS failed with message:\n",
      "Desired error not necessarily achieved due to precision loss.\n",
      "  warn(\"{} failed with message:\\n{}\".format(method, result.message))\n",
      "/home/ines/repositories/ssm/ssm/optimizers.py:146: UserWarning: BFGS failed with message:\n",
      "Desired error not necessarily achieved due to precision loss.\n",
      "  warn(\"{} failed with message:\\n{}\".format(method, result.message))\n",
      "/home/ines/repositories/ssm/ssm/optimizers.py:146: UserWarning: BFGS failed with message:\n",
      "Desired error not necessarily achieved due to precision loss.\n",
      "  warn(\"{} failed with message:\\n{}\".format(method, result.message))\n",
      "/home/ines/repositories/ssm/ssm/optimizers.py:146: UserWarning: BFGS failed with message:\n",
      "Desired error not necessarily achieved due to precision loss.\n",
      "  warn(\"{} failed with message:\\n{}\".format(method, result.message))\n",
      "/home/ines/repositories/ssm/ssm/optimizers.py:146: UserWarning: BFGS failed with message:\n",
      "Desired error not necessarily achieved due to precision loss.\n",
      "  warn(\"{} failed with message:\\n{}\".format(method, result.message))\n",
      "/home/ines/repositories/ssm/ssm/optimizers.py:146: UserWarning: BFGS failed with message:\n",
      "Desired error not necessarily achieved due to precision loss.\n",
      "  warn(\"{} failed with message:\\n{}\".format(method, result.message))\n",
      "/home/ines/repositories/ssm/ssm/optimizers.py:146: UserWarning: BFGS failed with message:\n",
      "Desired error not necessarily achieved due to precision loss.\n",
      "  warn(\"{} failed with message:\\n{}\".format(method, result.message))\n",
      "/home/ines/repositories/ssm/ssm/optimizers.py:146: UserWarning: BFGS failed with message:\n",
      "Desired error not necessarily achieved due to precision loss.\n",
      "  warn(\"{} failed with message:\\n{}\".format(method, result.message))\n",
      "/home/ines/repositories/ssm/ssm/optimizers.py:146: UserWarning: BFGS failed with message:\n",
      "Desired error not necessarily achieved due to precision loss.\n",
      "  warn(\"{} failed with message:\\n{}\".format(method, result.message))\n",
      "/home/ines/repositories/ssm/ssm/optimizers.py:146: UserWarning: BFGS failed with message:\n",
      "Desired error not necessarily achieved due to precision loss.\n",
      "  warn(\"{} failed with message:\\n{}\".format(method, result.message))\n",
      "/home/ines/repositories/ssm/ssm/optimizers.py:146: UserWarning: BFGS failed with message:\n",
      "Desired error not necessarily achieved due to precision loss.\n",
      "  warn(\"{} failed with message:\\n{}\".format(method, result.message))\n"
     ]
    },
    {
     "name": "stdout",
     "output_type": "stream",
     "text": [
      "Starting inference with K = 3; Fold = 3; Iter = 7\n",
      "=== fitting GLM-HMM ========\n"
     ]
    },
    {
     "data": {
      "application/vnd.jupyter.widget-view+json": {
       "model_id": "48be6705e961476b8f1861de7db31dfc",
       "version_major": 2,
       "version_minor": 0
      },
      "text/plain": [
       "  0%|          | 0/300 [00:00<?, ?it/s]"
      ]
     },
     "metadata": {},
     "output_type": "display_data"
    },
    {
     "name": "stderr",
     "output_type": "stream",
     "text": [
      "/home/ines/repositories/ssm/ssm/optimizers.py:146: UserWarning: BFGS failed with message:\n",
      "Desired error not necessarily achieved due to precision loss.\n",
      "  warn(\"{} failed with message:\\n{}\".format(method, result.message))\n",
      "/home/ines/repositories/ssm/ssm/optimizers.py:146: UserWarning: BFGS failed with message:\n",
      "Desired error not necessarily achieved due to precision loss.\n",
      "  warn(\"{} failed with message:\\n{}\".format(method, result.message))\n",
      "/home/ines/repositories/ssm/ssm/optimizers.py:146: UserWarning: BFGS failed with message:\n",
      "Desired error not necessarily achieved due to precision loss.\n",
      "  warn(\"{} failed with message:\\n{}\".format(method, result.message))\n"
     ]
    },
    {
     "name": "stdout",
     "output_type": "stream",
     "text": [
      "Starting inference with K = 3; Fold = 3; Iter = 8\n",
      "=== fitting GLM-HMM ========\n"
     ]
    },
    {
     "data": {
      "application/vnd.jupyter.widget-view+json": {
       "model_id": "c350a83a04ff4d0b8951a4c95b12f601",
       "version_major": 2,
       "version_minor": 0
      },
      "text/plain": [
       "  0%|          | 0/300 [00:00<?, ?it/s]"
      ]
     },
     "metadata": {},
     "output_type": "display_data"
    },
    {
     "name": "stderr",
     "output_type": "stream",
     "text": [
      "/home/ines/repositories/ssm/ssm/optimizers.py:146: UserWarning: BFGS failed with message:\n",
      "Desired error not necessarily achieved due to precision loss.\n",
      "  warn(\"{} failed with message:\\n{}\".format(method, result.message))\n",
      "/home/ines/repositories/ssm/ssm/optimizers.py:146: UserWarning: BFGS failed with message:\n",
      "Desired error not necessarily achieved due to precision loss.\n",
      "  warn(\"{} failed with message:\\n{}\".format(method, result.message))\n",
      "/home/ines/repositories/ssm/ssm/optimizers.py:146: UserWarning: BFGS failed with message:\n",
      "Desired error not necessarily achieved due to precision loss.\n",
      "  warn(\"{} failed with message:\\n{}\".format(method, result.message))\n",
      "/home/ines/repositories/ssm/ssm/optimizers.py:146: UserWarning: BFGS failed with message:\n",
      "Desired error not necessarily achieved due to precision loss.\n",
      "  warn(\"{} failed with message:\\n{}\".format(method, result.message))\n",
      "/home/ines/repositories/ssm/ssm/optimizers.py:146: UserWarning: BFGS failed with message:\n",
      "Desired error not necessarily achieved due to precision loss.\n",
      "  warn(\"{} failed with message:\\n{}\".format(method, result.message))\n",
      "/home/ines/repositories/ssm/ssm/optimizers.py:146: UserWarning: BFGS failed with message:\n",
      "Desired error not necessarily achieved due to precision loss.\n",
      "  warn(\"{} failed with message:\\n{}\".format(method, result.message))\n"
     ]
    },
    {
     "name": "stdout",
     "output_type": "stream",
     "text": [
      "Starting inference with K = 3; Fold = 3; Iter = 9\n",
      "=== fitting GLM-HMM ========\n"
     ]
    },
    {
     "data": {
      "application/vnd.jupyter.widget-view+json": {
       "model_id": "54960138f0034d96b330ee27a74622b0",
       "version_major": 2,
       "version_minor": 0
      },
      "text/plain": [
       "  0%|          | 0/300 [00:00<?, ?it/s]"
      ]
     },
     "metadata": {},
     "output_type": "display_data"
    },
    {
     "name": "stderr",
     "output_type": "stream",
     "text": [
      "/home/ines/repositories/ssm/ssm/optimizers.py:146: UserWarning: BFGS failed with message:\n",
      "Desired error not necessarily achieved due to precision loss.\n",
      "  warn(\"{} failed with message:\\n{}\".format(method, result.message))\n",
      "/home/ines/repositories/ssm/ssm/optimizers.py:146: UserWarning: BFGS failed with message:\n",
      "Desired error not necessarily achieved due to precision loss.\n",
      "  warn(\"{} failed with message:\\n{}\".format(method, result.message))\n",
      "/home/ines/repositories/ssm/ssm/optimizers.py:146: UserWarning: BFGS failed with message:\n",
      "Desired error not necessarily achieved due to precision loss.\n",
      "  warn(\"{} failed with message:\\n{}\".format(method, result.message))\n",
      "/home/ines/repositories/ssm/ssm/optimizers.py:146: UserWarning: BFGS failed with message:\n",
      "Desired error not necessarily achieved due to precision loss.\n",
      "  warn(\"{} failed with message:\\n{}\".format(method, result.message))\n"
     ]
    },
    {
     "name": "stdout",
     "output_type": "stream",
     "text": [
      "Starting inference with K = 3; Fold = 4; Iter = 0\n",
      "=== fitting GLM-HMM ========\n"
     ]
    },
    {
     "data": {
      "application/vnd.jupyter.widget-view+json": {
       "model_id": "c1d29786370248c7ad3f2c98bed0d64f",
       "version_major": 2,
       "version_minor": 0
      },
      "text/plain": [
       "  0%|          | 0/300 [00:00<?, ?it/s]"
      ]
     },
     "metadata": {},
     "output_type": "display_data"
    },
    {
     "name": "stderr",
     "output_type": "stream",
     "text": [
      "/home/ines/repositories/ssm/ssm/optimizers.py:146: UserWarning: BFGS failed with message:\n",
      "Desired error not necessarily achieved due to precision loss.\n",
      "  warn(\"{} failed with message:\\n{}\".format(method, result.message))\n",
      "/home/ines/repositories/ssm/ssm/optimizers.py:146: UserWarning: BFGS failed with message:\n",
      "Desired error not necessarily achieved due to precision loss.\n",
      "  warn(\"{} failed with message:\\n{}\".format(method, result.message))\n",
      "/home/ines/repositories/ssm/ssm/optimizers.py:146: UserWarning: BFGS failed with message:\n",
      "Desired error not necessarily achieved due to precision loss.\n",
      "  warn(\"{} failed with message:\\n{}\".format(method, result.message))\n",
      "/home/ines/repositories/ssm/ssm/optimizers.py:146: UserWarning: BFGS failed with message:\n",
      "Desired error not necessarily achieved due to precision loss.\n",
      "  warn(\"{} failed with message:\\n{}\".format(method, result.message))\n",
      "/home/ines/repositories/ssm/ssm/optimizers.py:146: UserWarning: BFGS failed with message:\n",
      "Desired error not necessarily achieved due to precision loss.\n",
      "  warn(\"{} failed with message:\\n{}\".format(method, result.message))\n",
      "/home/ines/repositories/ssm/ssm/optimizers.py:146: UserWarning: BFGS failed with message:\n",
      "Desired error not necessarily achieved due to precision loss.\n",
      "  warn(\"{} failed with message:\\n{}\".format(method, result.message))\n",
      "/home/ines/repositories/ssm/ssm/optimizers.py:146: UserWarning: BFGS failed with message:\n",
      "Desired error not necessarily achieved due to precision loss.\n",
      "  warn(\"{} failed with message:\\n{}\".format(method, result.message))\n",
      "/home/ines/repositories/ssm/ssm/optimizers.py:146: UserWarning: BFGS failed with message:\n",
      "Desired error not necessarily achieved due to precision loss.\n",
      "  warn(\"{} failed with message:\\n{}\".format(method, result.message))\n",
      "/home/ines/repositories/ssm/ssm/optimizers.py:146: UserWarning: BFGS failed with message:\n",
      "Desired error not necessarily achieved due to precision loss.\n",
      "  warn(\"{} failed with message:\\n{}\".format(method, result.message))\n",
      "/home/ines/repositories/ssm/ssm/optimizers.py:146: UserWarning: BFGS failed with message:\n",
      "Desired error not necessarily achieved due to precision loss.\n",
      "  warn(\"{} failed with message:\\n{}\".format(method, result.message))\n",
      "/home/ines/repositories/ssm/ssm/optimizers.py:146: UserWarning: BFGS failed with message:\n",
      "Desired error not necessarily achieved due to precision loss.\n",
      "  warn(\"{} failed with message:\\n{}\".format(method, result.message))\n",
      "/home/ines/repositories/ssm/ssm/optimizers.py:146: UserWarning: BFGS failed with message:\n",
      "Desired error not necessarily achieved due to precision loss.\n",
      "  warn(\"{} failed with message:\\n{}\".format(method, result.message))\n"
     ]
    },
    {
     "name": "stdout",
     "output_type": "stream",
     "text": [
      "Starting inference with K = 3; Fold = 4; Iter = 1\n",
      "=== fitting GLM-HMM ========\n"
     ]
    },
    {
     "data": {
      "application/vnd.jupyter.widget-view+json": {
       "model_id": "0862bbc51dbe45c6b789206edee5d0ec",
       "version_major": 2,
       "version_minor": 0
      },
      "text/plain": [
       "  0%|          | 0/300 [00:00<?, ?it/s]"
      ]
     },
     "metadata": {},
     "output_type": "display_data"
    },
    {
     "name": "stderr",
     "output_type": "stream",
     "text": [
      "/home/ines/repositories/ssm/ssm/optimizers.py:146: UserWarning: BFGS failed with message:\n",
      "Desired error not necessarily achieved due to precision loss.\n",
      "  warn(\"{} failed with message:\\n{}\".format(method, result.message))\n",
      "/home/ines/repositories/ssm/ssm/optimizers.py:146: UserWarning: BFGS failed with message:\n",
      "Desired error not necessarily achieved due to precision loss.\n",
      "  warn(\"{} failed with message:\\n{}\".format(method, result.message))\n",
      "/home/ines/repositories/ssm/ssm/optimizers.py:146: UserWarning: BFGS failed with message:\n",
      "Desired error not necessarily achieved due to precision loss.\n",
      "  warn(\"{} failed with message:\\n{}\".format(method, result.message))\n",
      "/home/ines/repositories/ssm/ssm/optimizers.py:146: UserWarning: BFGS failed with message:\n",
      "Desired error not necessarily achieved due to precision loss.\n",
      "  warn(\"{} failed with message:\\n{}\".format(method, result.message))\n",
      "/home/ines/repositories/ssm/ssm/optimizers.py:146: UserWarning: BFGS failed with message:\n",
      "Desired error not necessarily achieved due to precision loss.\n",
      "  warn(\"{} failed with message:\\n{}\".format(method, result.message))\n",
      "/home/ines/repositories/ssm/ssm/optimizers.py:146: UserWarning: BFGS failed with message:\n",
      "Desired error not necessarily achieved due to precision loss.\n",
      "  warn(\"{} failed with message:\\n{}\".format(method, result.message))\n",
      "/home/ines/repositories/ssm/ssm/optimizers.py:146: UserWarning: BFGS failed with message:\n",
      "Desired error not necessarily achieved due to precision loss.\n",
      "  warn(\"{} failed with message:\\n{}\".format(method, result.message))\n",
      "/home/ines/repositories/ssm/ssm/optimizers.py:146: UserWarning: BFGS failed with message:\n",
      "Desired error not necessarily achieved due to precision loss.\n",
      "  warn(\"{} failed with message:\\n{}\".format(method, result.message))\n",
      "/home/ines/repositories/ssm/ssm/optimizers.py:146: UserWarning: BFGS failed with message:\n",
      "Desired error not necessarily achieved due to precision loss.\n",
      "  warn(\"{} failed with message:\\n{}\".format(method, result.message))\n",
      "/home/ines/repositories/ssm/ssm/optimizers.py:146: UserWarning: BFGS failed with message:\n",
      "Desired error not necessarily achieved due to precision loss.\n",
      "  warn(\"{} failed with message:\\n{}\".format(method, result.message))\n",
      "/home/ines/repositories/ssm/ssm/optimizers.py:146: UserWarning: BFGS failed with message:\n",
      "Desired error not necessarily achieved due to precision loss.\n",
      "  warn(\"{} failed with message:\\n{}\".format(method, result.message))\n",
      "/home/ines/repositories/ssm/ssm/optimizers.py:146: UserWarning: BFGS failed with message:\n",
      "Desired error not necessarily achieved due to precision loss.\n",
      "  warn(\"{} failed with message:\\n{}\".format(method, result.message))\n"
     ]
    },
    {
     "name": "stdout",
     "output_type": "stream",
     "text": [
      "Starting inference with K = 3; Fold = 4; Iter = 2\n",
      "=== fitting GLM-HMM ========\n"
     ]
    },
    {
     "data": {
      "application/vnd.jupyter.widget-view+json": {
       "model_id": "b7a5fc3a99304391b6f3458cbc685c39",
       "version_major": 2,
       "version_minor": 0
      },
      "text/plain": [
       "  0%|          | 0/300 [00:00<?, ?it/s]"
      ]
     },
     "metadata": {},
     "output_type": "display_data"
    },
    {
     "name": "stderr",
     "output_type": "stream",
     "text": [
      "/home/ines/repositories/ssm/ssm/optimizers.py:146: UserWarning: BFGS failed with message:\n",
      "Desired error not necessarily achieved due to precision loss.\n",
      "  warn(\"{} failed with message:\\n{}\".format(method, result.message))\n",
      "/home/ines/repositories/ssm/ssm/optimizers.py:146: UserWarning: BFGS failed with message:\n",
      "Desired error not necessarily achieved due to precision loss.\n",
      "  warn(\"{} failed with message:\\n{}\".format(method, result.message))\n",
      "/home/ines/repositories/ssm/ssm/optimizers.py:146: UserWarning: BFGS failed with message:\n",
      "Desired error not necessarily achieved due to precision loss.\n",
      "  warn(\"{} failed with message:\\n{}\".format(method, result.message))\n",
      "/home/ines/repositories/ssm/ssm/optimizers.py:146: UserWarning: BFGS failed with message:\n",
      "Desired error not necessarily achieved due to precision loss.\n",
      "  warn(\"{} failed with message:\\n{}\".format(method, result.message))\n",
      "/home/ines/repositories/ssm/ssm/optimizers.py:146: UserWarning: BFGS failed with message:\n",
      "Desired error not necessarily achieved due to precision loss.\n",
      "  warn(\"{} failed with message:\\n{}\".format(method, result.message))\n",
      "/home/ines/repositories/ssm/ssm/optimizers.py:146: UserWarning: BFGS failed with message:\n",
      "Desired error not necessarily achieved due to precision loss.\n",
      "  warn(\"{} failed with message:\\n{}\".format(method, result.message))\n",
      "/home/ines/repositories/ssm/ssm/optimizers.py:146: UserWarning: BFGS failed with message:\n",
      "Desired error not necessarily achieved due to precision loss.\n",
      "  warn(\"{} failed with message:\\n{}\".format(method, result.message))\n",
      "/home/ines/repositories/ssm/ssm/optimizers.py:146: UserWarning: BFGS failed with message:\n",
      "Desired error not necessarily achieved due to precision loss.\n",
      "  warn(\"{} failed with message:\\n{}\".format(method, result.message))\n",
      "/home/ines/repositories/ssm/ssm/optimizers.py:146: UserWarning: BFGS failed with message:\n",
      "Desired error not necessarily achieved due to precision loss.\n",
      "  warn(\"{} failed with message:\\n{}\".format(method, result.message))\n"
     ]
    },
    {
     "name": "stdout",
     "output_type": "stream",
     "text": [
      "Starting inference with K = 3; Fold = 4; Iter = 3\n",
      "=== fitting GLM-HMM ========\n"
     ]
    },
    {
     "data": {
      "application/vnd.jupyter.widget-view+json": {
       "model_id": "49fb7fdf1d1d4b22826ffa404d596230",
       "version_major": 2,
       "version_minor": 0
      },
      "text/plain": [
       "  0%|          | 0/300 [00:00<?, ?it/s]"
      ]
     },
     "metadata": {},
     "output_type": "display_data"
    },
    {
     "name": "stderr",
     "output_type": "stream",
     "text": [
      "/home/ines/repositories/ssm/ssm/optimizers.py:146: UserWarning: BFGS failed with message:\n",
      "Desired error not necessarily achieved due to precision loss.\n",
      "  warn(\"{} failed with message:\\n{}\".format(method, result.message))\n",
      "/home/ines/repositories/ssm/ssm/optimizers.py:146: UserWarning: BFGS failed with message:\n",
      "Desired error not necessarily achieved due to precision loss.\n",
      "  warn(\"{} failed with message:\\n{}\".format(method, result.message))\n",
      "/home/ines/repositories/ssm/ssm/optimizers.py:146: UserWarning: BFGS failed with message:\n",
      "Desired error not necessarily achieved due to precision loss.\n",
      "  warn(\"{} failed with message:\\n{}\".format(method, result.message))\n",
      "/home/ines/repositories/ssm/ssm/optimizers.py:146: UserWarning: BFGS failed with message:\n",
      "Desired error not necessarily achieved due to precision loss.\n",
      "  warn(\"{} failed with message:\\n{}\".format(method, result.message))\n",
      "/home/ines/repositories/ssm/ssm/optimizers.py:146: UserWarning: BFGS failed with message:\n",
      "Desired error not necessarily achieved due to precision loss.\n",
      "  warn(\"{} failed with message:\\n{}\".format(method, result.message))\n"
     ]
    },
    {
     "name": "stdout",
     "output_type": "stream",
     "text": [
      "Starting inference with K = 3; Fold = 4; Iter = 4\n",
      "=== fitting GLM-HMM ========\n"
     ]
    },
    {
     "data": {
      "application/vnd.jupyter.widget-view+json": {
       "model_id": "da51881d58294ce6a299a1919b551eae",
       "version_major": 2,
       "version_minor": 0
      },
      "text/plain": [
       "  0%|          | 0/300 [00:00<?, ?it/s]"
      ]
     },
     "metadata": {},
     "output_type": "display_data"
    },
    {
     "name": "stderr",
     "output_type": "stream",
     "text": [
      "/home/ines/repositories/ssm/ssm/optimizers.py:146: UserWarning: BFGS failed with message:\n",
      "Desired error not necessarily achieved due to precision loss.\n",
      "  warn(\"{} failed with message:\\n{}\".format(method, result.message))\n",
      "/home/ines/repositories/ssm/ssm/optimizers.py:146: UserWarning: BFGS failed with message:\n",
      "Desired error not necessarily achieved due to precision loss.\n",
      "  warn(\"{} failed with message:\\n{}\".format(method, result.message))\n",
      "/home/ines/repositories/ssm/ssm/optimizers.py:146: UserWarning: BFGS failed with message:\n",
      "Desired error not necessarily achieved due to precision loss.\n",
      "  warn(\"{} failed with message:\\n{}\".format(method, result.message))\n",
      "/home/ines/repositories/ssm/ssm/optimizers.py:146: UserWarning: BFGS failed with message:\n",
      "Desired error not necessarily achieved due to precision loss.\n",
      "  warn(\"{} failed with message:\\n{}\".format(method, result.message))\n",
      "/home/ines/repositories/ssm/ssm/optimizers.py:146: UserWarning: BFGS failed with message:\n",
      "Desired error not necessarily achieved due to precision loss.\n",
      "  warn(\"{} failed with message:\\n{}\".format(method, result.message))\n",
      "/home/ines/repositories/ssm/ssm/optimizers.py:146: UserWarning: BFGS failed with message:\n",
      "Desired error not necessarily achieved due to precision loss.\n",
      "  warn(\"{} failed with message:\\n{}\".format(method, result.message))\n",
      "/home/ines/repositories/ssm/ssm/optimizers.py:146: UserWarning: BFGS failed with message:\n",
      "Desired error not necessarily achieved due to precision loss.\n",
      "  warn(\"{} failed with message:\\n{}\".format(method, result.message))\n",
      "/home/ines/repositories/ssm/ssm/optimizers.py:146: UserWarning: BFGS failed with message:\n",
      "Desired error not necessarily achieved due to precision loss.\n",
      "  warn(\"{} failed with message:\\n{}\".format(method, result.message))\n",
      "/home/ines/repositories/ssm/ssm/optimizers.py:146: UserWarning: BFGS failed with message:\n",
      "Desired error not necessarily achieved due to precision loss.\n",
      "  warn(\"{} failed with message:\\n{}\".format(method, result.message))\n",
      "/home/ines/repositories/ssm/ssm/optimizers.py:146: UserWarning: BFGS failed with message:\n",
      "Desired error not necessarily achieved due to precision loss.\n",
      "  warn(\"{} failed with message:\\n{}\".format(method, result.message))\n",
      "/home/ines/repositories/ssm/ssm/optimizers.py:146: UserWarning: BFGS failed with message:\n",
      "Desired error not necessarily achieved due to precision loss.\n",
      "  warn(\"{} failed with message:\\n{}\".format(method, result.message))\n",
      "/home/ines/repositories/ssm/ssm/optimizers.py:146: UserWarning: BFGS failed with message:\n",
      "Desired error not necessarily achieved due to precision loss.\n",
      "  warn(\"{} failed with message:\\n{}\".format(method, result.message))\n",
      "/home/ines/repositories/ssm/ssm/optimizers.py:146: UserWarning: BFGS failed with message:\n",
      "Desired error not necessarily achieved due to precision loss.\n",
      "  warn(\"{} failed with message:\\n{}\".format(method, result.message))\n"
     ]
    },
    {
     "name": "stdout",
     "output_type": "stream",
     "text": [
      "Starting inference with K = 3; Fold = 4; Iter = 5\n",
      "=== fitting GLM-HMM ========\n"
     ]
    },
    {
     "data": {
      "application/vnd.jupyter.widget-view+json": {
       "model_id": "86324596c69d45158c9dda5b7c29d254",
       "version_major": 2,
       "version_minor": 0
      },
      "text/plain": [
       "  0%|          | 0/300 [00:00<?, ?it/s]"
      ]
     },
     "metadata": {},
     "output_type": "display_data"
    },
    {
     "name": "stderr",
     "output_type": "stream",
     "text": [
      "/home/ines/repositories/ssm/ssm/optimizers.py:146: UserWarning: BFGS failed with message:\n",
      "Desired error not necessarily achieved due to precision loss.\n",
      "  warn(\"{} failed with message:\\n{}\".format(method, result.message))\n",
      "/home/ines/repositories/ssm/ssm/optimizers.py:146: UserWarning: BFGS failed with message:\n",
      "Desired error not necessarily achieved due to precision loss.\n",
      "  warn(\"{} failed with message:\\n{}\".format(method, result.message))\n",
      "/home/ines/repositories/ssm/ssm/optimizers.py:146: UserWarning: BFGS failed with message:\n",
      "Desired error not necessarily achieved due to precision loss.\n",
      "  warn(\"{} failed with message:\\n{}\".format(method, result.message))\n",
      "/home/ines/repositories/ssm/ssm/optimizers.py:146: UserWarning: BFGS failed with message:\n",
      "Desired error not necessarily achieved due to precision loss.\n",
      "  warn(\"{} failed with message:\\n{}\".format(method, result.message))\n",
      "/home/ines/repositories/ssm/ssm/optimizers.py:146: UserWarning: BFGS failed with message:\n",
      "Desired error not necessarily achieved due to precision loss.\n",
      "  warn(\"{} failed with message:\\n{}\".format(method, result.message))\n",
      "/home/ines/repositories/ssm/ssm/optimizers.py:146: UserWarning: BFGS failed with message:\n",
      "Desired error not necessarily achieved due to precision loss.\n",
      "  warn(\"{} failed with message:\\n{}\".format(method, result.message))\n",
      "/home/ines/repositories/ssm/ssm/optimizers.py:146: UserWarning: BFGS failed with message:\n",
      "Desired error not necessarily achieved due to precision loss.\n",
      "  warn(\"{} failed with message:\\n{}\".format(method, result.message))\n",
      "/home/ines/repositories/ssm/ssm/optimizers.py:146: UserWarning: BFGS failed with message:\n",
      "Desired error not necessarily achieved due to precision loss.\n",
      "  warn(\"{} failed with message:\\n{}\".format(method, result.message))\n",
      "/home/ines/repositories/ssm/ssm/optimizers.py:146: UserWarning: BFGS failed with message:\n",
      "Desired error not necessarily achieved due to precision loss.\n",
      "  warn(\"{} failed with message:\\n{}\".format(method, result.message))\n",
      "/home/ines/repositories/ssm/ssm/optimizers.py:146: UserWarning: BFGS failed with message:\n",
      "Desired error not necessarily achieved due to precision loss.\n",
      "  warn(\"{} failed with message:\\n{}\".format(method, result.message))\n",
      "/home/ines/repositories/ssm/ssm/optimizers.py:146: UserWarning: BFGS failed with message:\n",
      "Desired error not necessarily achieved due to precision loss.\n",
      "  warn(\"{} failed with message:\\n{}\".format(method, result.message))\n",
      "/home/ines/repositories/ssm/ssm/optimizers.py:146: UserWarning: BFGS failed with message:\n",
      "Desired error not necessarily achieved due to precision loss.\n",
      "  warn(\"{} failed with message:\\n{}\".format(method, result.message))\n",
      "/home/ines/repositories/ssm/ssm/optimizers.py:146: UserWarning: BFGS failed with message:\n",
      "Desired error not necessarily achieved due to precision loss.\n",
      "  warn(\"{} failed with message:\\n{}\".format(method, result.message))\n",
      "/home/ines/repositories/ssm/ssm/optimizers.py:146: UserWarning: BFGS failed with message:\n",
      "Desired error not necessarily achieved due to precision loss.\n",
      "  warn(\"{} failed with message:\\n{}\".format(method, result.message))\n"
     ]
    },
    {
     "name": "stdout",
     "output_type": "stream",
     "text": [
      "Starting inference with K = 3; Fold = 4; Iter = 6\n",
      "=== fitting GLM-HMM ========\n"
     ]
    },
    {
     "data": {
      "application/vnd.jupyter.widget-view+json": {
       "model_id": "c980bc8a7e8c4be8957d6ac9690914e5",
       "version_major": 2,
       "version_minor": 0
      },
      "text/plain": [
       "  0%|          | 0/300 [00:00<?, ?it/s]"
      ]
     },
     "metadata": {},
     "output_type": "display_data"
    },
    {
     "name": "stderr",
     "output_type": "stream",
     "text": [
      "/home/ines/repositories/ssm/ssm/optimizers.py:146: UserWarning: BFGS failed with message:\n",
      "Desired error not necessarily achieved due to precision loss.\n",
      "  warn(\"{} failed with message:\\n{}\".format(method, result.message))\n",
      "/home/ines/repositories/ssm/ssm/optimizers.py:146: UserWarning: BFGS failed with message:\n",
      "Desired error not necessarily achieved due to precision loss.\n",
      "  warn(\"{} failed with message:\\n{}\".format(method, result.message))\n",
      "/home/ines/repositories/ssm/ssm/optimizers.py:146: UserWarning: BFGS failed with message:\n",
      "Desired error not necessarily achieved due to precision loss.\n",
      "  warn(\"{} failed with message:\\n{}\".format(method, result.message))\n",
      "/home/ines/repositories/ssm/ssm/optimizers.py:146: UserWarning: BFGS failed with message:\n",
      "Desired error not necessarily achieved due to precision loss.\n",
      "  warn(\"{} failed with message:\\n{}\".format(method, result.message))\n",
      "/home/ines/repositories/ssm/ssm/optimizers.py:146: UserWarning: BFGS failed with message:\n",
      "Desired error not necessarily achieved due to precision loss.\n",
      "  warn(\"{} failed with message:\\n{}\".format(method, result.message))\n",
      "/home/ines/repositories/ssm/ssm/optimizers.py:146: UserWarning: BFGS failed with message:\n",
      "Desired error not necessarily achieved due to precision loss.\n",
      "  warn(\"{} failed with message:\\n{}\".format(method, result.message))\n",
      "/home/ines/repositories/ssm/ssm/optimizers.py:146: UserWarning: BFGS failed with message:\n",
      "Desired error not necessarily achieved due to precision loss.\n",
      "  warn(\"{} failed with message:\\n{}\".format(method, result.message))\n",
      "/home/ines/repositories/ssm/ssm/optimizers.py:146: UserWarning: BFGS failed with message:\n",
      "Desired error not necessarily achieved due to precision loss.\n",
      "  warn(\"{} failed with message:\\n{}\".format(method, result.message))\n",
      "/home/ines/repositories/ssm/ssm/optimizers.py:146: UserWarning: BFGS failed with message:\n",
      "Desired error not necessarily achieved due to precision loss.\n",
      "  warn(\"{} failed with message:\\n{}\".format(method, result.message))\n",
      "/home/ines/repositories/ssm/ssm/optimizers.py:146: UserWarning: BFGS failed with message:\n",
      "Desired error not necessarily achieved due to precision loss.\n",
      "  warn(\"{} failed with message:\\n{}\".format(method, result.message))\n",
      "/home/ines/repositories/ssm/ssm/optimizers.py:146: UserWarning: BFGS failed with message:\n",
      "Desired error not necessarily achieved due to precision loss.\n",
      "  warn(\"{} failed with message:\\n{}\".format(method, result.message))\n",
      "/home/ines/repositories/ssm/ssm/optimizers.py:146: UserWarning: BFGS failed with message:\n",
      "Desired error not necessarily achieved due to precision loss.\n",
      "  warn(\"{} failed with message:\\n{}\".format(method, result.message))\n"
     ]
    },
    {
     "name": "stdout",
     "output_type": "stream",
     "text": [
      "Starting inference with K = 3; Fold = 4; Iter = 7\n",
      "=== fitting GLM-HMM ========\n"
     ]
    },
    {
     "data": {
      "application/vnd.jupyter.widget-view+json": {
       "model_id": "5994506233f949db8190bae8ab58f08d",
       "version_major": 2,
       "version_minor": 0
      },
      "text/plain": [
       "  0%|          | 0/300 [00:00<?, ?it/s]"
      ]
     },
     "metadata": {},
     "output_type": "display_data"
    },
    {
     "name": "stderr",
     "output_type": "stream",
     "text": [
      "/home/ines/repositories/ssm/ssm/optimizers.py:146: UserWarning: BFGS failed with message:\n",
      "Desired error not necessarily achieved due to precision loss.\n",
      "  warn(\"{} failed with message:\\n{}\".format(method, result.message))\n",
      "/home/ines/repositories/ssm/ssm/optimizers.py:146: UserWarning: BFGS failed with message:\n",
      "Desired error not necessarily achieved due to precision loss.\n",
      "  warn(\"{} failed with message:\\n{}\".format(method, result.message))\n",
      "/home/ines/repositories/ssm/ssm/optimizers.py:146: UserWarning: BFGS failed with message:\n",
      "Desired error not necessarily achieved due to precision loss.\n",
      "  warn(\"{} failed with message:\\n{}\".format(method, result.message))\n",
      "/home/ines/repositories/ssm/ssm/optimizers.py:146: UserWarning: BFGS failed with message:\n",
      "Desired error not necessarily achieved due to precision loss.\n",
      "  warn(\"{} failed with message:\\n{}\".format(method, result.message))\n"
     ]
    },
    {
     "name": "stdout",
     "output_type": "stream",
     "text": [
      "Starting inference with K = 3; Fold = 4; Iter = 8\n",
      "=== fitting GLM-HMM ========\n"
     ]
    },
    {
     "data": {
      "application/vnd.jupyter.widget-view+json": {
       "model_id": "aba5f0c761cc4049ad780d22799bff9b",
       "version_major": 2,
       "version_minor": 0
      },
      "text/plain": [
       "  0%|          | 0/300 [00:00<?, ?it/s]"
      ]
     },
     "metadata": {},
     "output_type": "display_data"
    },
    {
     "name": "stderr",
     "output_type": "stream",
     "text": [
      "/home/ines/repositories/ssm/ssm/optimizers.py:146: UserWarning: BFGS failed with message:\n",
      "Desired error not necessarily achieved due to precision loss.\n",
      "  warn(\"{} failed with message:\\n{}\".format(method, result.message))\n",
      "/home/ines/repositories/ssm/ssm/optimizers.py:146: UserWarning: BFGS failed with message:\n",
      "Desired error not necessarily achieved due to precision loss.\n",
      "  warn(\"{} failed with message:\\n{}\".format(method, result.message))\n",
      "/home/ines/repositories/ssm/ssm/optimizers.py:146: UserWarning: BFGS failed with message:\n",
      "Desired error not necessarily achieved due to precision loss.\n",
      "  warn(\"{} failed with message:\\n{}\".format(method, result.message))\n",
      "/home/ines/repositories/ssm/ssm/optimizers.py:146: UserWarning: BFGS failed with message:\n",
      "Desired error not necessarily achieved due to precision loss.\n",
      "  warn(\"{} failed with message:\\n{}\".format(method, result.message))\n"
     ]
    },
    {
     "name": "stdout",
     "output_type": "stream",
     "text": [
      "Starting inference with K = 3; Fold = 4; Iter = 9\n",
      "=== fitting GLM-HMM ========\n"
     ]
    },
    {
     "data": {
      "application/vnd.jupyter.widget-view+json": {
       "model_id": "be1fd86705c24b9982307e40ec02b99f",
       "version_major": 2,
       "version_minor": 0
      },
      "text/plain": [
       "  0%|          | 0/300 [00:00<?, ?it/s]"
      ]
     },
     "metadata": {},
     "output_type": "display_data"
    },
    {
     "name": "stderr",
     "output_type": "stream",
     "text": [
      "/home/ines/repositories/ssm/ssm/optimizers.py:146: UserWarning: BFGS failed with message:\n",
      "Desired error not necessarily achieved due to precision loss.\n",
      "  warn(\"{} failed with message:\\n{}\".format(method, result.message))\n",
      "/home/ines/repositories/ssm/ssm/optimizers.py:146: UserWarning: BFGS failed with message:\n",
      "Desired error not necessarily achieved due to precision loss.\n",
      "  warn(\"{} failed with message:\\n{}\".format(method, result.message))\n",
      "/home/ines/repositories/ssm/ssm/optimizers.py:146: UserWarning: BFGS failed with message:\n",
      "Desired error not necessarily achieved due to precision loss.\n",
      "  warn(\"{} failed with message:\\n{}\".format(method, result.message))\n",
      "/home/ines/repositories/ssm/ssm/optimizers.py:146: UserWarning: BFGS failed with message:\n",
      "Desired error not necessarily achieved due to precision loss.\n",
      "  warn(\"{} failed with message:\\n{}\".format(method, result.message))\n",
      "/home/ines/repositories/ssm/ssm/optimizers.py:146: UserWarning: BFGS failed with message:\n",
      "Desired error not necessarily achieved due to precision loss.\n",
      "  warn(\"{} failed with message:\\n{}\".format(method, result.message))\n"
     ]
    },
    {
     "name": "stdout",
     "output_type": "stream",
     "text": [
      "Starting inference with K = 3; Fold = 0; Iter = 0\n",
      "=== fitting GLM-HMM ========\n"
     ]
    },
    {
     "data": {
      "application/vnd.jupyter.widget-view+json": {
       "model_id": "b2601e2ab8cf4121a1de682a27ece5f9",
       "version_major": 2,
       "version_minor": 0
      },
      "text/plain": [
       "  0%|          | 0/300 [00:00<?, ?it/s]"
      ]
     },
     "metadata": {},
     "output_type": "display_data"
    },
    {
     "name": "stderr",
     "output_type": "stream",
     "text": [
      "/home/ines/repositories/ssm/ssm/optimizers.py:146: UserWarning: BFGS failed with message:\n",
      "Desired error not necessarily achieved due to precision loss.\n",
      "  warn(\"{} failed with message:\\n{}\".format(method, result.message))\n",
      "/home/ines/repositories/ssm/ssm/optimizers.py:146: UserWarning: BFGS failed with message:\n",
      "Desired error not necessarily achieved due to precision loss.\n",
      "  warn(\"{} failed with message:\\n{}\".format(method, result.message))\n",
      "/home/ines/repositories/ssm/ssm/optimizers.py:146: UserWarning: BFGS failed with message:\n",
      "Desired error not necessarily achieved due to precision loss.\n",
      "  warn(\"{} failed with message:\\n{}\".format(method, result.message))\n",
      "/home/ines/repositories/ssm/ssm/optimizers.py:146: UserWarning: BFGS failed with message:\n",
      "Desired error not necessarily achieved due to precision loss.\n",
      "  warn(\"{} failed with message:\\n{}\".format(method, result.message))\n",
      "/home/ines/repositories/ssm/ssm/optimizers.py:146: UserWarning: BFGS failed with message:\n",
      "Desired error not necessarily achieved due to precision loss.\n",
      "  warn(\"{} failed with message:\\n{}\".format(method, result.message))\n",
      "/home/ines/repositories/ssm/ssm/optimizers.py:146: UserWarning: BFGS failed with message:\n",
      "Desired error not necessarily achieved due to precision loss.\n",
      "  warn(\"{} failed with message:\\n{}\".format(method, result.message))\n",
      "/home/ines/repositories/ssm/ssm/optimizers.py:146: UserWarning: BFGS failed with message:\n",
      "Desired error not necessarily achieved due to precision loss.\n",
      "  warn(\"{} failed with message:\\n{}\".format(method, result.message))\n"
     ]
    },
    {
     "name": "stdout",
     "output_type": "stream",
     "text": [
      "Starting inference with K = 3; Fold = 0; Iter = 1\n",
      "=== fitting GLM-HMM ========\n"
     ]
    },
    {
     "data": {
      "application/vnd.jupyter.widget-view+json": {
       "model_id": "d086440b3d1c4011931ba2d69801e093",
       "version_major": 2,
       "version_minor": 0
      },
      "text/plain": [
       "  0%|          | 0/300 [00:00<?, ?it/s]"
      ]
     },
     "metadata": {},
     "output_type": "display_data"
    },
    {
     "name": "stderr",
     "output_type": "stream",
     "text": [
      "/home/ines/repositories/ssm/ssm/optimizers.py:146: UserWarning: BFGS failed with message:\n",
      "Desired error not necessarily achieved due to precision loss.\n",
      "  warn(\"{} failed with message:\\n{}\".format(method, result.message))\n",
      "/home/ines/repositories/ssm/ssm/optimizers.py:146: UserWarning: BFGS failed with message:\n",
      "Desired error not necessarily achieved due to precision loss.\n",
      "  warn(\"{} failed with message:\\n{}\".format(method, result.message))\n",
      "/home/ines/repositories/ssm/ssm/optimizers.py:146: UserWarning: BFGS failed with message:\n",
      "Desired error not necessarily achieved due to precision loss.\n",
      "  warn(\"{} failed with message:\\n{}\".format(method, result.message))\n",
      "/home/ines/repositories/ssm/ssm/optimizers.py:146: UserWarning: BFGS failed with message:\n",
      "Desired error not necessarily achieved due to precision loss.\n",
      "  warn(\"{} failed with message:\\n{}\".format(method, result.message))\n",
      "/home/ines/repositories/ssm/ssm/optimizers.py:146: UserWarning: BFGS failed with message:\n",
      "Desired error not necessarily achieved due to precision loss.\n",
      "  warn(\"{} failed with message:\\n{}\".format(method, result.message))\n",
      "/home/ines/repositories/ssm/ssm/optimizers.py:146: UserWarning: BFGS failed with message:\n",
      "Desired error not necessarily achieved due to precision loss.\n",
      "  warn(\"{} failed with message:\\n{}\".format(method, result.message))\n",
      "/home/ines/repositories/ssm/ssm/optimizers.py:146: UserWarning: BFGS failed with message:\n",
      "Desired error not necessarily achieved due to precision loss.\n",
      "  warn(\"{} failed with message:\\n{}\".format(method, result.message))\n",
      "/home/ines/repositories/ssm/ssm/optimizers.py:146: UserWarning: BFGS failed with message:\n",
      "Desired error not necessarily achieved due to precision loss.\n",
      "  warn(\"{} failed with message:\\n{}\".format(method, result.message))\n",
      "/home/ines/repositories/ssm/ssm/optimizers.py:146: UserWarning: BFGS failed with message:\n",
      "Desired error not necessarily achieved due to precision loss.\n",
      "  warn(\"{} failed with message:\\n{}\".format(method, result.message))\n",
      "/home/ines/repositories/ssm/ssm/optimizers.py:146: UserWarning: BFGS failed with message:\n",
      "Desired error not necessarily achieved due to precision loss.\n",
      "  warn(\"{} failed with message:\\n{}\".format(method, result.message))\n",
      "/home/ines/repositories/ssm/ssm/optimizers.py:146: UserWarning: BFGS failed with message:\n",
      "Desired error not necessarily achieved due to precision loss.\n",
      "  warn(\"{} failed with message:\\n{}\".format(method, result.message))\n",
      "/home/ines/repositories/ssm/ssm/optimizers.py:146: UserWarning: BFGS failed with message:\n",
      "Desired error not necessarily achieved due to precision loss.\n",
      "  warn(\"{} failed with message:\\n{}\".format(method, result.message))\n"
     ]
    },
    {
     "name": "stdout",
     "output_type": "stream",
     "text": [
      "Starting inference with K = 3; Fold = 0; Iter = 2\n",
      "=== fitting GLM-HMM ========\n"
     ]
    },
    {
     "data": {
      "application/vnd.jupyter.widget-view+json": {
       "model_id": "4ed0d0713b5045699a9d2dff10f943e5",
       "version_major": 2,
       "version_minor": 0
      },
      "text/plain": [
       "  0%|          | 0/300 [00:00<?, ?it/s]"
      ]
     },
     "metadata": {},
     "output_type": "display_data"
    },
    {
     "name": "stderr",
     "output_type": "stream",
     "text": [
      "/home/ines/repositories/ssm/ssm/optimizers.py:146: UserWarning: BFGS failed with message:\n",
      "Desired error not necessarily achieved due to precision loss.\n",
      "  warn(\"{} failed with message:\\n{}\".format(method, result.message))\n",
      "/home/ines/repositories/ssm/ssm/optimizers.py:146: UserWarning: BFGS failed with message:\n",
      "Desired error not necessarily achieved due to precision loss.\n",
      "  warn(\"{} failed with message:\\n{}\".format(method, result.message))\n"
     ]
    },
    {
     "name": "stdout",
     "output_type": "stream",
     "text": [
      "Starting inference with K = 3; Fold = 0; Iter = 3\n",
      "=== fitting GLM-HMM ========\n"
     ]
    },
    {
     "data": {
      "application/vnd.jupyter.widget-view+json": {
       "model_id": "41ceb74c1af64335a0467f8f234faef6",
       "version_major": 2,
       "version_minor": 0
      },
      "text/plain": [
       "  0%|          | 0/300 [00:00<?, ?it/s]"
      ]
     },
     "metadata": {},
     "output_type": "display_data"
    },
    {
     "name": "stderr",
     "output_type": "stream",
     "text": [
      "/home/ines/repositories/ssm/ssm/optimizers.py:146: UserWarning: BFGS failed with message:\n",
      "Desired error not necessarily achieved due to precision loss.\n",
      "  warn(\"{} failed with message:\\n{}\".format(method, result.message))\n",
      "/home/ines/repositories/ssm/ssm/optimizers.py:146: UserWarning: BFGS failed with message:\n",
      "Desired error not necessarily achieved due to precision loss.\n",
      "  warn(\"{} failed with message:\\n{}\".format(method, result.message))\n",
      "/home/ines/repositories/ssm/ssm/optimizers.py:146: UserWarning: BFGS failed with message:\n",
      "Desired error not necessarily achieved due to precision loss.\n",
      "  warn(\"{} failed with message:\\n{}\".format(method, result.message))\n",
      "/home/ines/repositories/ssm/ssm/optimizers.py:146: UserWarning: BFGS failed with message:\n",
      "Desired error not necessarily achieved due to precision loss.\n",
      "  warn(\"{} failed with message:\\n{}\".format(method, result.message))\n",
      "/home/ines/repositories/ssm/ssm/optimizers.py:146: UserWarning: BFGS failed with message:\n",
      "Desired error not necessarily achieved due to precision loss.\n",
      "  warn(\"{} failed with message:\\n{}\".format(method, result.message))\n",
      "/home/ines/repositories/ssm/ssm/optimizers.py:146: UserWarning: BFGS failed with message:\n",
      "Desired error not necessarily achieved due to precision loss.\n",
      "  warn(\"{} failed with message:\\n{}\".format(method, result.message))\n"
     ]
    },
    {
     "name": "stdout",
     "output_type": "stream",
     "text": [
      "Starting inference with K = 3; Fold = 0; Iter = 4\n",
      "=== fitting GLM-HMM ========\n"
     ]
    },
    {
     "data": {
      "application/vnd.jupyter.widget-view+json": {
       "model_id": "e87a60c076ca4cb4a14089284d03a061",
       "version_major": 2,
       "version_minor": 0
      },
      "text/plain": [
       "  0%|          | 0/300 [00:00<?, ?it/s]"
      ]
     },
     "metadata": {},
     "output_type": "display_data"
    },
    {
     "name": "stderr",
     "output_type": "stream",
     "text": [
      "/home/ines/repositories/ssm/ssm/optimizers.py:146: UserWarning: BFGS failed with message:\n",
      "Desired error not necessarily achieved due to precision loss.\n",
      "  warn(\"{} failed with message:\\n{}\".format(method, result.message))\n",
      "/home/ines/repositories/ssm/ssm/optimizers.py:146: UserWarning: BFGS failed with message:\n",
      "Desired error not necessarily achieved due to precision loss.\n",
      "  warn(\"{} failed with message:\\n{}\".format(method, result.message))\n",
      "/home/ines/repositories/ssm/ssm/optimizers.py:146: UserWarning: BFGS failed with message:\n",
      "Desired error not necessarily achieved due to precision loss.\n",
      "  warn(\"{} failed with message:\\n{}\".format(method, result.message))\n",
      "/home/ines/repositories/ssm/ssm/optimizers.py:146: UserWarning: BFGS failed with message:\n",
      "Desired error not necessarily achieved due to precision loss.\n",
      "  warn(\"{} failed with message:\\n{}\".format(method, result.message))\n"
     ]
    },
    {
     "name": "stdout",
     "output_type": "stream",
     "text": [
      "Starting inference with K = 3; Fold = 0; Iter = 5\n",
      "=== fitting GLM-HMM ========\n"
     ]
    },
    {
     "data": {
      "application/vnd.jupyter.widget-view+json": {
       "model_id": "c45e79a377c54dc5bcb7b492e3370788",
       "version_major": 2,
       "version_minor": 0
      },
      "text/plain": [
       "  0%|          | 0/300 [00:00<?, ?it/s]"
      ]
     },
     "metadata": {},
     "output_type": "display_data"
    },
    {
     "name": "stderr",
     "output_type": "stream",
     "text": [
      "/home/ines/repositories/ssm/ssm/optimizers.py:146: UserWarning: BFGS failed with message:\n",
      "Desired error not necessarily achieved due to precision loss.\n",
      "  warn(\"{} failed with message:\\n{}\".format(method, result.message))\n",
      "/home/ines/repositories/ssm/ssm/optimizers.py:146: UserWarning: BFGS failed with message:\n",
      "Desired error not necessarily achieved due to precision loss.\n",
      "  warn(\"{} failed with message:\\n{}\".format(method, result.message))\n",
      "/home/ines/repositories/ssm/ssm/optimizers.py:146: UserWarning: BFGS failed with message:\n",
      "Desired error not necessarily achieved due to precision loss.\n",
      "  warn(\"{} failed with message:\\n{}\".format(method, result.message))\n",
      "/home/ines/repositories/ssm/ssm/optimizers.py:146: UserWarning: BFGS failed with message:\n",
      "Desired error not necessarily achieved due to precision loss.\n",
      "  warn(\"{} failed with message:\\n{}\".format(method, result.message))\n",
      "/home/ines/repositories/ssm/ssm/optimizers.py:146: UserWarning: BFGS failed with message:\n",
      "Desired error not necessarily achieved due to precision loss.\n",
      "  warn(\"{} failed with message:\\n{}\".format(method, result.message))\n",
      "/home/ines/repositories/ssm/ssm/optimizers.py:146: UserWarning: BFGS failed with message:\n",
      "Desired error not necessarily achieved due to precision loss.\n",
      "  warn(\"{} failed with message:\\n{}\".format(method, result.message))\n",
      "/home/ines/repositories/ssm/ssm/optimizers.py:146: UserWarning: BFGS failed with message:\n",
      "Desired error not necessarily achieved due to precision loss.\n",
      "  warn(\"{} failed with message:\\n{}\".format(method, result.message))\n",
      "/home/ines/repositories/ssm/ssm/optimizers.py:146: UserWarning: BFGS failed with message:\n",
      "Desired error not necessarily achieved due to precision loss.\n",
      "  warn(\"{} failed with message:\\n{}\".format(method, result.message))\n",
      "/home/ines/repositories/ssm/ssm/optimizers.py:146: UserWarning: BFGS failed with message:\n",
      "Desired error not necessarily achieved due to precision loss.\n",
      "  warn(\"{} failed with message:\\n{}\".format(method, result.message))\n",
      "/home/ines/repositories/ssm/ssm/optimizers.py:146: UserWarning: BFGS failed with message:\n",
      "Desired error not necessarily achieved due to precision loss.\n",
      "  warn(\"{} failed with message:\\n{}\".format(method, result.message))\n",
      "/home/ines/repositories/ssm/ssm/optimizers.py:146: UserWarning: BFGS failed with message:\n",
      "Desired error not necessarily achieved due to precision loss.\n",
      "  warn(\"{} failed with message:\\n{}\".format(method, result.message))\n",
      "/home/ines/repositories/ssm/ssm/optimizers.py:146: UserWarning: BFGS failed with message:\n",
      "Desired error not necessarily achieved due to precision loss.\n",
      "  warn(\"{} failed with message:\\n{}\".format(method, result.message))\n",
      "/home/ines/repositories/ssm/ssm/optimizers.py:146: UserWarning: BFGS failed with message:\n",
      "Desired error not necessarily achieved due to precision loss.\n",
      "  warn(\"{} failed with message:\\n{}\".format(method, result.message))\n",
      "/home/ines/repositories/ssm/ssm/optimizers.py:146: UserWarning: BFGS failed with message:\n",
      "Desired error not necessarily achieved due to precision loss.\n",
      "  warn(\"{} failed with message:\\n{}\".format(method, result.message))\n",
      "/home/ines/repositories/ssm/ssm/optimizers.py:146: UserWarning: BFGS failed with message:\n",
      "Desired error not necessarily achieved due to precision loss.\n",
      "  warn(\"{} failed with message:\\n{}\".format(method, result.message))\n",
      "/home/ines/repositories/ssm/ssm/optimizers.py:146: UserWarning: BFGS failed with message:\n",
      "Desired error not necessarily achieved due to precision loss.\n",
      "  warn(\"{} failed with message:\\n{}\".format(method, result.message))\n",
      "/home/ines/repositories/ssm/ssm/optimizers.py:146: UserWarning: BFGS failed with message:\n",
      "Desired error not necessarily achieved due to precision loss.\n",
      "  warn(\"{} failed with message:\\n{}\".format(method, result.message))\n",
      "/home/ines/repositories/ssm/ssm/optimizers.py:146: UserWarning: BFGS failed with message:\n",
      "Desired error not necessarily achieved due to precision loss.\n",
      "  warn(\"{} failed with message:\\n{}\".format(method, result.message))\n",
      "/home/ines/repositories/ssm/ssm/optimizers.py:146: UserWarning: BFGS failed with message:\n",
      "Desired error not necessarily achieved due to precision loss.\n",
      "  warn(\"{} failed with message:\\n{}\".format(method, result.message))\n",
      "/home/ines/repositories/ssm/ssm/optimizers.py:146: UserWarning: BFGS failed with message:\n",
      "Desired error not necessarily achieved due to precision loss.\n",
      "  warn(\"{} failed with message:\\n{}\".format(method, result.message))\n",
      "/home/ines/repositories/ssm/ssm/optimizers.py:146: UserWarning: BFGS failed with message:\n",
      "Desired error not necessarily achieved due to precision loss.\n",
      "  warn(\"{} failed with message:\\n{}\".format(method, result.message))\n",
      "/home/ines/repositories/ssm/ssm/optimizers.py:146: UserWarning: BFGS failed with message:\n",
      "Desired error not necessarily achieved due to precision loss.\n",
      "  warn(\"{} failed with message:\\n{}\".format(method, result.message))\n",
      "/home/ines/repositories/ssm/ssm/optimizers.py:146: UserWarning: BFGS failed with message:\n",
      "Desired error not necessarily achieved due to precision loss.\n",
      "  warn(\"{} failed with message:\\n{}\".format(method, result.message))\n",
      "/home/ines/repositories/ssm/ssm/optimizers.py:146: UserWarning: BFGS failed with message:\n",
      "Desired error not necessarily achieved due to precision loss.\n",
      "  warn(\"{} failed with message:\\n{}\".format(method, result.message))\n",
      "/home/ines/repositories/ssm/ssm/optimizers.py:146: UserWarning: BFGS failed with message:\n",
      "Desired error not necessarily achieved due to precision loss.\n",
      "  warn(\"{} failed with message:\\n{}\".format(method, result.message))\n",
      "/home/ines/repositories/ssm/ssm/optimizers.py:146: UserWarning: BFGS failed with message:\n",
      "Desired error not necessarily achieved due to precision loss.\n",
      "  warn(\"{} failed with message:\\n{}\".format(method, result.message))\n",
      "/home/ines/repositories/ssm/ssm/optimizers.py:146: UserWarning: BFGS failed with message:\n",
      "Desired error not necessarily achieved due to precision loss.\n",
      "  warn(\"{} failed with message:\\n{}\".format(method, result.message))\n",
      "/home/ines/repositories/ssm/ssm/optimizers.py:146: UserWarning: BFGS failed with message:\n",
      "Desired error not necessarily achieved due to precision loss.\n",
      "  warn(\"{} failed with message:\\n{}\".format(method, result.message))\n",
      "/home/ines/repositories/ssm/ssm/optimizers.py:146: UserWarning: BFGS failed with message:\n",
      "Desired error not necessarily achieved due to precision loss.\n",
      "  warn(\"{} failed with message:\\n{}\".format(method, result.message))\n",
      "/home/ines/repositories/ssm/ssm/optimizers.py:146: UserWarning: BFGS failed with message:\n",
      "Desired error not necessarily achieved due to precision loss.\n",
      "  warn(\"{} failed with message:\\n{}\".format(method, result.message))\n",
      "/home/ines/repositories/ssm/ssm/optimizers.py:146: UserWarning: BFGS failed with message:\n",
      "Desired error not necessarily achieved due to precision loss.\n",
      "  warn(\"{} failed with message:\\n{}\".format(method, result.message))\n",
      "/home/ines/repositories/ssm/ssm/optimizers.py:146: UserWarning: BFGS failed with message:\n",
      "Desired error not necessarily achieved due to precision loss.\n",
      "  warn(\"{} failed with message:\\n{}\".format(method, result.message))\n",
      "/home/ines/repositories/ssm/ssm/optimizers.py:146: UserWarning: BFGS failed with message:\n",
      "Desired error not necessarily achieved due to precision loss.\n",
      "  warn(\"{} failed with message:\\n{}\".format(method, result.message))\n",
      "/home/ines/repositories/ssm/ssm/optimizers.py:146: UserWarning: BFGS failed with message:\n",
      "Desired error not necessarily achieved due to precision loss.\n",
      "  warn(\"{} failed with message:\\n{}\".format(method, result.message))\n",
      "/home/ines/repositories/ssm/ssm/optimizers.py:146: UserWarning: BFGS failed with message:\n",
      "Desired error not necessarily achieved due to precision loss.\n",
      "  warn(\"{} failed with message:\\n{}\".format(method, result.message))\n",
      "/home/ines/repositories/ssm/ssm/optimizers.py:146: UserWarning: BFGS failed with message:\n",
      "Desired error not necessarily achieved due to precision loss.\n",
      "  warn(\"{} failed with message:\\n{}\".format(method, result.message))\n",
      "/home/ines/repositories/ssm/ssm/optimizers.py:146: UserWarning: BFGS failed with message:\n",
      "Desired error not necessarily achieved due to precision loss.\n",
      "  warn(\"{} failed with message:\\n{}\".format(method, result.message))\n",
      "/home/ines/repositories/ssm/ssm/optimizers.py:146: UserWarning: BFGS failed with message:\n",
      "Desired error not necessarily achieved due to precision loss.\n",
      "  warn(\"{} failed with message:\\n{}\".format(method, result.message))\n",
      "/home/ines/repositories/ssm/ssm/optimizers.py:146: UserWarning: BFGS failed with message:\n",
      "Desired error not necessarily achieved due to precision loss.\n",
      "  warn(\"{} failed with message:\\n{}\".format(method, result.message))\n",
      "/home/ines/repositories/ssm/ssm/optimizers.py:146: UserWarning: BFGS failed with message:\n",
      "Desired error not necessarily achieved due to precision loss.\n",
      "  warn(\"{} failed with message:\\n{}\".format(method, result.message))\n",
      "/home/ines/repositories/ssm/ssm/optimizers.py:146: UserWarning: BFGS failed with message:\n",
      "Desired error not necessarily achieved due to precision loss.\n",
      "  warn(\"{} failed with message:\\n{}\".format(method, result.message))\n",
      "/home/ines/repositories/ssm/ssm/optimizers.py:146: UserWarning: BFGS failed with message:\n",
      "Desired error not necessarily achieved due to precision loss.\n",
      "  warn(\"{} failed with message:\\n{}\".format(method, result.message))\n",
      "/home/ines/repositories/ssm/ssm/optimizers.py:146: UserWarning: BFGS failed with message:\n",
      "Desired error not necessarily achieved due to precision loss.\n",
      "  warn(\"{} failed with message:\\n{}\".format(method, result.message))\n",
      "/home/ines/repositories/ssm/ssm/optimizers.py:146: UserWarning: BFGS failed with message:\n",
      "Desired error not necessarily achieved due to precision loss.\n",
      "  warn(\"{} failed with message:\\n{}\".format(method, result.message))\n",
      "/home/ines/repositories/ssm/ssm/optimizers.py:146: UserWarning: BFGS failed with message:\n",
      "Desired error not necessarily achieved due to precision loss.\n",
      "  warn(\"{} failed with message:\\n{}\".format(method, result.message))\n",
      "/home/ines/repositories/ssm/ssm/optimizers.py:146: UserWarning: BFGS failed with message:\n",
      "Desired error not necessarily achieved due to precision loss.\n",
      "  warn(\"{} failed with message:\\n{}\".format(method, result.message))\n",
      "/home/ines/repositories/ssm/ssm/optimizers.py:146: UserWarning: BFGS failed with message:\n",
      "Desired error not necessarily achieved due to precision loss.\n",
      "  warn(\"{} failed with message:\\n{}\".format(method, result.message))\n",
      "/home/ines/repositories/ssm/ssm/optimizers.py:146: UserWarning: BFGS failed with message:\n",
      "Desired error not necessarily achieved due to precision loss.\n",
      "  warn(\"{} failed with message:\\n{}\".format(method, result.message))\n",
      "/home/ines/repositories/ssm/ssm/optimizers.py:146: UserWarning: BFGS failed with message:\n",
      "Desired error not necessarily achieved due to precision loss.\n",
      "  warn(\"{} failed with message:\\n{}\".format(method, result.message))\n",
      "/home/ines/repositories/ssm/ssm/optimizers.py:146: UserWarning: BFGS failed with message:\n",
      "Desired error not necessarily achieved due to precision loss.\n",
      "  warn(\"{} failed with message:\\n{}\".format(method, result.message))\n",
      "/home/ines/repositories/ssm/ssm/optimizers.py:146: UserWarning: BFGS failed with message:\n",
      "Desired error not necessarily achieved due to precision loss.\n",
      "  warn(\"{} failed with message:\\n{}\".format(method, result.message))\n",
      "/home/ines/repositories/ssm/ssm/optimizers.py:146: UserWarning: BFGS failed with message:\n",
      "Desired error not necessarily achieved due to precision loss.\n",
      "  warn(\"{} failed with message:\\n{}\".format(method, result.message))\n",
      "/home/ines/repositories/ssm/ssm/optimizers.py:146: UserWarning: BFGS failed with message:\n",
      "Desired error not necessarily achieved due to precision loss.\n",
      "  warn(\"{} failed with message:\\n{}\".format(method, result.message))\n",
      "/home/ines/repositories/ssm/ssm/optimizers.py:146: UserWarning: BFGS failed with message:\n",
      "Desired error not necessarily achieved due to precision loss.\n",
      "  warn(\"{} failed with message:\\n{}\".format(method, result.message))\n",
      "/home/ines/repositories/ssm/ssm/optimizers.py:146: UserWarning: BFGS failed with message:\n",
      "Desired error not necessarily achieved due to precision loss.\n",
      "  warn(\"{} failed with message:\\n{}\".format(method, result.message))\n"
     ]
    },
    {
     "name": "stdout",
     "output_type": "stream",
     "text": [
      "Starting inference with K = 3; Fold = 0; Iter = 6\n",
      "=== fitting GLM-HMM ========\n"
     ]
    },
    {
     "data": {
      "application/vnd.jupyter.widget-view+json": {
       "model_id": "1a161b3e136c4acd804a78aafe2cdde2",
       "version_major": 2,
       "version_minor": 0
      },
      "text/plain": [
       "  0%|          | 0/300 [00:00<?, ?it/s]"
      ]
     },
     "metadata": {},
     "output_type": "display_data"
    },
    {
     "name": "stderr",
     "output_type": "stream",
     "text": [
      "/home/ines/repositories/ssm/ssm/optimizers.py:146: UserWarning: BFGS failed with message:\n",
      "Desired error not necessarily achieved due to precision loss.\n",
      "  warn(\"{} failed with message:\\n{}\".format(method, result.message))\n",
      "/home/ines/repositories/ssm/ssm/optimizers.py:146: UserWarning: BFGS failed with message:\n",
      "Desired error not necessarily achieved due to precision loss.\n",
      "  warn(\"{} failed with message:\\n{}\".format(method, result.message))\n",
      "/home/ines/repositories/ssm/ssm/optimizers.py:146: UserWarning: BFGS failed with message:\n",
      "Desired error not necessarily achieved due to precision loss.\n",
      "  warn(\"{} failed with message:\\n{}\".format(method, result.message))\n",
      "/home/ines/repositories/ssm/ssm/optimizers.py:146: UserWarning: BFGS failed with message:\n",
      "Desired error not necessarily achieved due to precision loss.\n",
      "  warn(\"{} failed with message:\\n{}\".format(method, result.message))\n"
     ]
    },
    {
     "ename": "KeyboardInterrupt",
     "evalue": "",
     "output_type": "error",
     "traceback": [
      "\u001b[0;31m---------------------------------------------------------------------------\u001b[0m",
      "\u001b[0;31mKeyboardInterrupt\u001b[0m                         Traceback (most recent call last)",
      "\u001b[0;32m/tmp/ipykernel_61764/3644607568.py\u001b[0m in \u001b[0;36m<module>\u001b[0;34m\u001b[0m\n\u001b[1;32m     69\u001b[0m                             \u001b[0mglobal_fit\u001b[0m\u001b[0;34m,\u001b[0m\u001b[0;34m\u001b[0m\u001b[0;34m\u001b[0m\u001b[0m\n\u001b[1;32m     70\u001b[0m                             \u001b[0minit_param_file\u001b[0m\u001b[0;34m,\u001b[0m\u001b[0;34m\u001b[0m\u001b[0;34m\u001b[0m\u001b[0m\n\u001b[0;32m---> 71\u001b[0;31m                             save_directory)\n\u001b[0m",
      "\u001b[0;32m~/repositories/representation_learning_variability/Models/GLMHMM/2_fit_models/fit_global_glmhmm/glm_hmm_utils.py\u001b[0m in \u001b[0;36mlaunch_glm_hmm_job\u001b[0;34m(inpt, y, bin_data, mask, bin_fold_lookup_table, K, D, C, N_em_iters, transition_alpha, prior_sigma, fold, iter, global_fit, init_param_file, save_directory)\u001b[0m\n\u001b[1;32m    166\u001b[0m                 \u001b[0mparams_for_initialization\u001b[0m\u001b[0;34m,\u001b[0m\u001b[0;34m\u001b[0m\u001b[0;34m\u001b[0m\u001b[0m\n\u001b[1;32m    167\u001b[0m                 \u001b[0msave_title\u001b[0m\u001b[0;34m=\u001b[0m\u001b[0msave_directory\u001b[0m \u001b[0;34m+\u001b[0m \u001b[0;34m'glm_hmm_raw_parameters_itr_'\u001b[0m \u001b[0;34m+\u001b[0m\u001b[0;34m\u001b[0m\u001b[0;34m\u001b[0m\u001b[0m\n\u001b[0;32m--> 168\u001b[0;31m                            str(iter) + '.npz')\n\u001b[0m\u001b[1;32m    169\u001b[0m \u001b[0;34m\u001b[0m\u001b[0m\n\u001b[1;32m    170\u001b[0m \u001b[0;34m\u001b[0m\u001b[0m\n",
      "\u001b[0;32m~/repositories/representation_learning_variability/Models/GLMHMM/2_fit_models/fit_global_glmhmm/glm_hmm_utils.py\u001b[0m in \u001b[0;36mfit_glm_hmm\u001b[0;34m(datas, inputs, masks, K, D, M, C, N_em_iters, transition_alpha, prior_sigma, global_fit, params_for_initialization, save_title)\u001b[0m\n\u001b[1;32m    227\u001b[0m                        \u001b[0mnum_iters\u001b[0m\u001b[0;34m=\u001b[0m\u001b[0mN_em_iters\u001b[0m\u001b[0;34m,\u001b[0m\u001b[0;34m\u001b[0m\u001b[0;34m\u001b[0m\u001b[0m\n\u001b[1;32m    228\u001b[0m                        \u001b[0minitialize\u001b[0m\u001b[0;34m=\u001b[0m\u001b[0;32mFalse\u001b[0m\u001b[0;34m,\u001b[0m\u001b[0;34m\u001b[0m\u001b[0;34m\u001b[0m\u001b[0m\n\u001b[0;32m--> 229\u001b[0;31m                        tolerance=10 ** -4)\n\u001b[0m\u001b[1;32m    230\u001b[0m     \u001b[0;31m# Save raw parameters of HMM, as well as loglikelihood during training\u001b[0m\u001b[0;34m\u001b[0m\u001b[0;34m\u001b[0m\u001b[0;34m\u001b[0m\u001b[0m\n\u001b[1;32m    231\u001b[0m     \u001b[0mnp\u001b[0m\u001b[0;34m.\u001b[0m\u001b[0msavez\u001b[0m\u001b[0;34m(\u001b[0m\u001b[0msave_title\u001b[0m\u001b[0;34m,\u001b[0m \u001b[0mthis_hmm\u001b[0m\u001b[0;34m.\u001b[0m\u001b[0mparams\u001b[0m\u001b[0;34m,\u001b[0m \u001b[0mlls\u001b[0m\u001b[0;34m)\u001b[0m\u001b[0;34m\u001b[0m\u001b[0;34m\u001b[0m\u001b[0m\n",
      "\u001b[0;32m~/repositories/ssm/ssm/util.py\u001b[0m in \u001b[0;36mwrapper\u001b[0;34m(self, datas, inputs, masks, tags, **kwargs)\u001b[0m\n\u001b[1;32m    109\u001b[0m             \u001b[0mtags\u001b[0m \u001b[0;34m=\u001b[0m \u001b[0;34m[\u001b[0m\u001b[0mtags\u001b[0m\u001b[0;34m]\u001b[0m\u001b[0;34m\u001b[0m\u001b[0;34m\u001b[0m\u001b[0m\n\u001b[1;32m    110\u001b[0m \u001b[0;34m\u001b[0m\u001b[0m\n\u001b[0;32m--> 111\u001b[0;31m         \u001b[0;32mreturn\u001b[0m \u001b[0mf\u001b[0m\u001b[0;34m(\u001b[0m\u001b[0mself\u001b[0m\u001b[0;34m,\u001b[0m \u001b[0mdatas\u001b[0m\u001b[0;34m,\u001b[0m \u001b[0minputs\u001b[0m\u001b[0;34m=\u001b[0m\u001b[0minputs\u001b[0m\u001b[0;34m,\u001b[0m \u001b[0mmasks\u001b[0m\u001b[0;34m=\u001b[0m\u001b[0mmasks\u001b[0m\u001b[0;34m,\u001b[0m \u001b[0mtags\u001b[0m\u001b[0;34m=\u001b[0m\u001b[0mtags\u001b[0m\u001b[0;34m,\u001b[0m \u001b[0;34m**\u001b[0m\u001b[0mkwargs\u001b[0m\u001b[0;34m)\u001b[0m\u001b[0;34m\u001b[0m\u001b[0;34m\u001b[0m\u001b[0m\n\u001b[0m\u001b[1;32m    112\u001b[0m \u001b[0;34m\u001b[0m\u001b[0m\n\u001b[1;32m    113\u001b[0m     \u001b[0;32mreturn\u001b[0m \u001b[0mwrapper\u001b[0m\u001b[0;34m\u001b[0m\u001b[0;34m\u001b[0m\u001b[0m\n",
      "\u001b[0;32m~/repositories/ssm/ssm/hmm.py\u001b[0m in \u001b[0;36mfit\u001b[0;34m(self, datas, inputs, masks, tags, verbose, method, initialize, init_method, **kwargs)\u001b[0m\n\u001b[1;32m    511\u001b[0m                                         \u001b[0mtags\u001b[0m\u001b[0;34m=\u001b[0m\u001b[0mtags\u001b[0m\u001b[0;34m,\u001b[0m\u001b[0;34m\u001b[0m\u001b[0;34m\u001b[0m\u001b[0m\n\u001b[1;32m    512\u001b[0m                                         \u001b[0mverbose\u001b[0m\u001b[0;34m=\u001b[0m\u001b[0mverbose\u001b[0m\u001b[0;34m,\u001b[0m\u001b[0;34m\u001b[0m\u001b[0;34m\u001b[0m\u001b[0m\n\u001b[0;32m--> 513\u001b[0;31m                                         **kwargs)\n\u001b[0m\u001b[1;32m    514\u001b[0m \u001b[0;34m\u001b[0m\u001b[0m\n\u001b[1;32m    515\u001b[0m \u001b[0;34m\u001b[0m\u001b[0m\n",
      "\u001b[0;32m~/repositories/ssm/ssm/hmm.py\u001b[0m in \u001b[0;36m_fit_em\u001b[0;34m(self, datas, inputs, masks, tags, verbose, num_iters, tolerance, init_state_mstep_kwargs, transitions_mstep_kwargs, observations_mstep_kwargs, **kwargs)\u001b[0m\n\u001b[1;32m    458\u001b[0m             \u001b[0mself\u001b[0m\u001b[0;34m.\u001b[0m\u001b[0minit_state_distn\u001b[0m\u001b[0;34m.\u001b[0m\u001b[0mm_step\u001b[0m\u001b[0;34m(\u001b[0m\u001b[0mexpectations\u001b[0m\u001b[0;34m,\u001b[0m \u001b[0mdatas\u001b[0m\u001b[0;34m,\u001b[0m \u001b[0minputs\u001b[0m\u001b[0;34m,\u001b[0m \u001b[0mmasks\u001b[0m\u001b[0;34m,\u001b[0m \u001b[0mtags\u001b[0m\u001b[0;34m,\u001b[0m \u001b[0;34m**\u001b[0m\u001b[0minit_state_mstep_kwargs\u001b[0m\u001b[0;34m)\u001b[0m\u001b[0;34m\u001b[0m\u001b[0;34m\u001b[0m\u001b[0m\n\u001b[1;32m    459\u001b[0m             \u001b[0mself\u001b[0m\u001b[0;34m.\u001b[0m\u001b[0mtransitions\u001b[0m\u001b[0;34m.\u001b[0m\u001b[0mm_step\u001b[0m\u001b[0;34m(\u001b[0m\u001b[0mexpectations\u001b[0m\u001b[0;34m,\u001b[0m \u001b[0mdatas\u001b[0m\u001b[0;34m,\u001b[0m \u001b[0minputs\u001b[0m\u001b[0;34m,\u001b[0m \u001b[0mmasks\u001b[0m\u001b[0;34m,\u001b[0m \u001b[0mtags\u001b[0m\u001b[0;34m,\u001b[0m \u001b[0;34m**\u001b[0m\u001b[0mtransitions_mstep_kwargs\u001b[0m\u001b[0;34m)\u001b[0m\u001b[0;34m\u001b[0m\u001b[0;34m\u001b[0m\u001b[0m\n\u001b[0;32m--> 460\u001b[0;31m             \u001b[0mself\u001b[0m\u001b[0;34m.\u001b[0m\u001b[0mobservations\u001b[0m\u001b[0;34m.\u001b[0m\u001b[0mm_step\u001b[0m\u001b[0;34m(\u001b[0m\u001b[0mexpectations\u001b[0m\u001b[0;34m,\u001b[0m \u001b[0mdatas\u001b[0m\u001b[0;34m,\u001b[0m \u001b[0minputs\u001b[0m\u001b[0;34m,\u001b[0m \u001b[0mmasks\u001b[0m\u001b[0;34m,\u001b[0m \u001b[0mtags\u001b[0m\u001b[0;34m,\u001b[0m \u001b[0;34m**\u001b[0m\u001b[0mobservations_mstep_kwargs\u001b[0m\u001b[0;34m)\u001b[0m\u001b[0;34m\u001b[0m\u001b[0;34m\u001b[0m\u001b[0m\n\u001b[0m\u001b[1;32m    461\u001b[0m \u001b[0;34m\u001b[0m\u001b[0m\n\u001b[1;32m    462\u001b[0m             \u001b[0;31m# Store progress\u001b[0m\u001b[0;34m\u001b[0m\u001b[0;34m\u001b[0m\u001b[0;34m\u001b[0m\u001b[0m\n",
      "\u001b[0;32m~/repositories/ssm/ssm/observations.py\u001b[0m in \u001b[0;36mm_step\u001b[0;34m(self, expectations, datas, inputs, masks, tags, optimizer, **kwargs)\u001b[0m\n\u001b[1;32m    792\u001b[0m                optimizer=\"bfgs\", **kwargs):\n\u001b[1;32m    793\u001b[0m         Observations.m_step(self, expectations, datas, inputs, masks, tags,\n\u001b[0;32m--> 794\u001b[0;31m                             optimizer, **kwargs)\n\u001b[0m\u001b[1;32m    795\u001b[0m \u001b[0;34m\u001b[0m\u001b[0m\n\u001b[1;32m    796\u001b[0m     \u001b[0;32mdef\u001b[0m \u001b[0msmooth\u001b[0m\u001b[0;34m(\u001b[0m\u001b[0mself\u001b[0m\u001b[0;34m,\u001b[0m \u001b[0mexpectations\u001b[0m\u001b[0;34m,\u001b[0m \u001b[0mdata\u001b[0m\u001b[0;34m,\u001b[0m \u001b[0minput\u001b[0m\u001b[0;34m,\u001b[0m \u001b[0mtag\u001b[0m\u001b[0;34m)\u001b[0m\u001b[0;34m:\u001b[0m\u001b[0;34m\u001b[0m\u001b[0;34m\u001b[0m\u001b[0m\n",
      "\u001b[0;32m~/repositories/ssm/ssm/observations.py\u001b[0m in \u001b[0;36mm_step\u001b[0;34m(self, expectations, datas, inputs, masks, tags, optimizer, **kwargs)\u001b[0m\n\u001b[1;32m    105\u001b[0m             \u001b[0;32mreturn\u001b[0m \u001b[0;34m-\u001b[0m\u001b[0mobj\u001b[0m\u001b[0;34m\u001b[0m\u001b[0;34m\u001b[0m\u001b[0m\n\u001b[1;32m    106\u001b[0m \u001b[0;34m\u001b[0m\u001b[0m\n\u001b[0;32m--> 107\u001b[0;31m         \u001b[0mself\u001b[0m\u001b[0;34m.\u001b[0m\u001b[0mparams\u001b[0m \u001b[0;34m=\u001b[0m \u001b[0moptimizer\u001b[0m\u001b[0;34m(\u001b[0m\u001b[0m_objective\u001b[0m\u001b[0;34m,\u001b[0m \u001b[0mself\u001b[0m\u001b[0;34m.\u001b[0m\u001b[0mparams\u001b[0m\u001b[0;34m,\u001b[0m \u001b[0;34m**\u001b[0m\u001b[0mkwargs\u001b[0m\u001b[0;34m)\u001b[0m\u001b[0;34m\u001b[0m\u001b[0;34m\u001b[0m\u001b[0m\n\u001b[0m\u001b[1;32m    108\u001b[0m \u001b[0;34m\u001b[0m\u001b[0m\n\u001b[1;32m    109\u001b[0m     \u001b[0;32mdef\u001b[0m \u001b[0msmooth\u001b[0m\u001b[0;34m(\u001b[0m\u001b[0mself\u001b[0m\u001b[0;34m,\u001b[0m \u001b[0mexpectations\u001b[0m\u001b[0;34m,\u001b[0m \u001b[0mdata\u001b[0m\u001b[0;34m,\u001b[0m \u001b[0minput\u001b[0m\u001b[0;34m,\u001b[0m \u001b[0mtag\u001b[0m\u001b[0;34m)\u001b[0m\u001b[0;34m:\u001b[0m\u001b[0;34m\u001b[0m\u001b[0;34m\u001b[0m\u001b[0m\n",
      "\u001b[0;32m~/repositories/ssm/ssm/optimizers.py\u001b[0m in \u001b[0;36m_generic_minimize\u001b[0;34m(method, loss, x0, verbose, num_iters, tol, state, full_output, suppress_warnings, **kwargs)\u001b[0m\n\u001b[1;32m    139\u001b[0m                       \u001b[0moptions\u001b[0m\u001b[0;34m=\u001b[0m\u001b[0mdict\u001b[0m\u001b[0;34m(\u001b[0m\u001b[0mmaxiter\u001b[0m\u001b[0;34m=\u001b[0m\u001b[0mnum_iters\u001b[0m\u001b[0;34m,\u001b[0m \u001b[0mdisp\u001b[0m\u001b[0;34m=\u001b[0m\u001b[0mverbose\u001b[0m\u001b[0;34m)\u001b[0m\u001b[0;34m,\u001b[0m\u001b[0;34m\u001b[0m\u001b[0;34m\u001b[0m\u001b[0m\n\u001b[1;32m    140\u001b[0m                       \u001b[0mtol\u001b[0m\u001b[0;34m=\u001b[0m\u001b[0mtol\u001b[0m\u001b[0;34m,\u001b[0m\u001b[0;34m\u001b[0m\u001b[0;34m\u001b[0m\u001b[0m\n\u001b[0;32m--> 141\u001b[0;31m                       **kwargs)\n\u001b[0m\u001b[1;32m    142\u001b[0m     \u001b[0;32mif\u001b[0m \u001b[0mverbose\u001b[0m\u001b[0;34m:\u001b[0m\u001b[0;34m\u001b[0m\u001b[0;34m\u001b[0m\u001b[0m\n\u001b[1;32m    143\u001b[0m         \u001b[0mprint\u001b[0m\u001b[0;34m(\u001b[0m\u001b[0;34m\"{} completed with message: \\n{}\"\u001b[0m\u001b[0;34m.\u001b[0m\u001b[0mformat\u001b[0m\u001b[0;34m(\u001b[0m\u001b[0mmethod\u001b[0m\u001b[0;34m,\u001b[0m \u001b[0mresult\u001b[0m\u001b[0;34m.\u001b[0m\u001b[0mmessage\u001b[0m\u001b[0;34m)\u001b[0m\u001b[0;34m)\u001b[0m\u001b[0;34m\u001b[0m\u001b[0;34m\u001b[0m\u001b[0m\n",
      "\u001b[0;32m~/miniconda3/envs/glmhmm/lib/python3.7/site-packages/scipy/optimize/_minimize.py\u001b[0m in \u001b[0;36mminimize\u001b[0;34m(fun, x0, args, method, jac, hess, hessp, bounds, constraints, tol, callback, options)\u001b[0m\n\u001b[1;32m    602\u001b[0m         \u001b[0;32mreturn\u001b[0m \u001b[0m_minimize_cg\u001b[0m\u001b[0;34m(\u001b[0m\u001b[0mfun\u001b[0m\u001b[0;34m,\u001b[0m \u001b[0mx0\u001b[0m\u001b[0;34m,\u001b[0m \u001b[0margs\u001b[0m\u001b[0;34m,\u001b[0m \u001b[0mjac\u001b[0m\u001b[0;34m,\u001b[0m \u001b[0mcallback\u001b[0m\u001b[0;34m,\u001b[0m \u001b[0;34m**\u001b[0m\u001b[0moptions\u001b[0m\u001b[0;34m)\u001b[0m\u001b[0;34m\u001b[0m\u001b[0;34m\u001b[0m\u001b[0m\n\u001b[1;32m    603\u001b[0m     \u001b[0;32melif\u001b[0m \u001b[0mmeth\u001b[0m \u001b[0;34m==\u001b[0m \u001b[0;34m'bfgs'\u001b[0m\u001b[0;34m:\u001b[0m\u001b[0;34m\u001b[0m\u001b[0;34m\u001b[0m\u001b[0m\n\u001b[0;32m--> 604\u001b[0;31m         \u001b[0;32mreturn\u001b[0m \u001b[0m_minimize_bfgs\u001b[0m\u001b[0;34m(\u001b[0m\u001b[0mfun\u001b[0m\u001b[0;34m,\u001b[0m \u001b[0mx0\u001b[0m\u001b[0;34m,\u001b[0m \u001b[0margs\u001b[0m\u001b[0;34m,\u001b[0m \u001b[0mjac\u001b[0m\u001b[0;34m,\u001b[0m \u001b[0mcallback\u001b[0m\u001b[0;34m,\u001b[0m \u001b[0;34m**\u001b[0m\u001b[0moptions\u001b[0m\u001b[0;34m)\u001b[0m\u001b[0;34m\u001b[0m\u001b[0;34m\u001b[0m\u001b[0m\n\u001b[0m\u001b[1;32m    605\u001b[0m     \u001b[0;32melif\u001b[0m \u001b[0mmeth\u001b[0m \u001b[0;34m==\u001b[0m \u001b[0;34m'newton-cg'\u001b[0m\u001b[0;34m:\u001b[0m\u001b[0;34m\u001b[0m\u001b[0;34m\u001b[0m\u001b[0m\n\u001b[1;32m    606\u001b[0m         return _minimize_newtoncg(fun, x0, args, jac, hess, hessp, callback,\n",
      "\u001b[0;32m~/miniconda3/envs/glmhmm/lib/python3.7/site-packages/scipy/optimize/optimize.py\u001b[0m in \u001b[0;36m_minimize_bfgs\u001b[0;34m(fun, x0, args, jac, callback, gtol, norm, eps, maxiter, disp, return_all, **unknown_options)\u001b[0m\n\u001b[1;32m   1026\u001b[0m             \u001b[0malpha_k\u001b[0m\u001b[0;34m,\u001b[0m \u001b[0mfc\u001b[0m\u001b[0;34m,\u001b[0m \u001b[0mgc\u001b[0m\u001b[0;34m,\u001b[0m \u001b[0mold_fval\u001b[0m\u001b[0;34m,\u001b[0m \u001b[0mold_old_fval\u001b[0m\u001b[0;34m,\u001b[0m \u001b[0mgfkp1\u001b[0m \u001b[0;34m=\u001b[0m\u001b[0;31m \u001b[0m\u001b[0;31m\\\u001b[0m\u001b[0;34m\u001b[0m\u001b[0;34m\u001b[0m\u001b[0m\n\u001b[1;32m   1027\u001b[0m                      _line_search_wolfe12(f, myfprime, xk, pk, gfk,\n\u001b[0;32m-> 1028\u001b[0;31m                                           old_fval, old_old_fval, amin=1e-100, amax=1e100)\n\u001b[0m\u001b[1;32m   1029\u001b[0m         \u001b[0;32mexcept\u001b[0m \u001b[0m_LineSearchError\u001b[0m\u001b[0;34m:\u001b[0m\u001b[0;34m\u001b[0m\u001b[0;34m\u001b[0m\u001b[0m\n\u001b[1;32m   1030\u001b[0m             \u001b[0;31m# Line search failed to find a better solution.\u001b[0m\u001b[0;34m\u001b[0m\u001b[0;34m\u001b[0m\u001b[0;34m\u001b[0m\u001b[0m\n",
      "\u001b[0;32m~/miniconda3/envs/glmhmm/lib/python3.7/site-packages/scipy/optimize/optimize.py\u001b[0m in \u001b[0;36m_line_search_wolfe12\u001b[0;34m(f, fprime, xk, pk, gfk, old_fval, old_old_fval, **kwargs)\u001b[0m\n\u001b[1;32m    843\u001b[0m     ret = line_search_wolfe1(f, fprime, xk, pk, gfk,\n\u001b[1;32m    844\u001b[0m                              \u001b[0mold_fval\u001b[0m\u001b[0;34m,\u001b[0m \u001b[0mold_old_fval\u001b[0m\u001b[0;34m,\u001b[0m\u001b[0;34m\u001b[0m\u001b[0;34m\u001b[0m\u001b[0m\n\u001b[0;32m--> 845\u001b[0;31m                              **kwargs)\n\u001b[0m\u001b[1;32m    846\u001b[0m \u001b[0;34m\u001b[0m\u001b[0m\n\u001b[1;32m    847\u001b[0m     \u001b[0;32mif\u001b[0m \u001b[0mret\u001b[0m\u001b[0;34m[\u001b[0m\u001b[0;36m0\u001b[0m\u001b[0;34m]\u001b[0m \u001b[0;32mis\u001b[0m \u001b[0;32mnot\u001b[0m \u001b[0;32mNone\u001b[0m \u001b[0;32mand\u001b[0m \u001b[0mextra_condition\u001b[0m \u001b[0;32mis\u001b[0m \u001b[0;32mnot\u001b[0m \u001b[0;32mNone\u001b[0m\u001b[0;34m:\u001b[0m\u001b[0;34m\u001b[0m\u001b[0;34m\u001b[0m\u001b[0m\n",
      "\u001b[0;32m~/miniconda3/envs/glmhmm/lib/python3.7/site-packages/scipy/optimize/linesearch.py\u001b[0m in \u001b[0;36mline_search_wolfe1\u001b[0;34m(f, fprime, xk, pk, gfk, old_fval, old_old_fval, args, c1, c2, amax, amin, xtol)\u001b[0m\n\u001b[1;32m     99\u001b[0m     stp, fval, old_fval = scalar_search_wolfe1(\n\u001b[1;32m    100\u001b[0m             \u001b[0mphi\u001b[0m\u001b[0;34m,\u001b[0m \u001b[0mderphi\u001b[0m\u001b[0;34m,\u001b[0m \u001b[0mold_fval\u001b[0m\u001b[0;34m,\u001b[0m \u001b[0mold_old_fval\u001b[0m\u001b[0;34m,\u001b[0m \u001b[0mderphi0\u001b[0m\u001b[0;34m,\u001b[0m\u001b[0;34m\u001b[0m\u001b[0;34m\u001b[0m\u001b[0m\n\u001b[0;32m--> 101\u001b[0;31m             c1=c1, c2=c2, amax=amax, amin=amin, xtol=xtol)\n\u001b[0m\u001b[1;32m    102\u001b[0m \u001b[0;34m\u001b[0m\u001b[0m\n\u001b[1;32m    103\u001b[0m     \u001b[0;32mreturn\u001b[0m \u001b[0mstp\u001b[0m\u001b[0;34m,\u001b[0m \u001b[0mfc\u001b[0m\u001b[0;34m[\u001b[0m\u001b[0;36m0\u001b[0m\u001b[0;34m]\u001b[0m\u001b[0;34m,\u001b[0m \u001b[0mgc\u001b[0m\u001b[0;34m[\u001b[0m\u001b[0;36m0\u001b[0m\u001b[0;34m]\u001b[0m\u001b[0;34m,\u001b[0m \u001b[0mfval\u001b[0m\u001b[0;34m,\u001b[0m \u001b[0mold_fval\u001b[0m\u001b[0;34m,\u001b[0m \u001b[0mgval\u001b[0m\u001b[0;34m[\u001b[0m\u001b[0;36m0\u001b[0m\u001b[0;34m]\u001b[0m\u001b[0;34m\u001b[0m\u001b[0;34m\u001b[0m\u001b[0m\n",
      "\u001b[0;32m~/miniconda3/envs/glmhmm/lib/python3.7/site-packages/scipy/optimize/linesearch.py\u001b[0m in \u001b[0;36mscalar_search_wolfe1\u001b[0;34m(phi, derphi, phi0, old_phi0, derphi0, c1, c2, amax, amin, xtol)\u001b[0m\n\u001b[1;32m    174\u001b[0m             \u001b[0malpha1\u001b[0m \u001b[0;34m=\u001b[0m \u001b[0mstp\u001b[0m\u001b[0;34m\u001b[0m\u001b[0;34m\u001b[0m\u001b[0m\n\u001b[1;32m    175\u001b[0m             \u001b[0mphi1\u001b[0m \u001b[0;34m=\u001b[0m \u001b[0mphi\u001b[0m\u001b[0;34m(\u001b[0m\u001b[0mstp\u001b[0m\u001b[0;34m)\u001b[0m\u001b[0;34m\u001b[0m\u001b[0;34m\u001b[0m\u001b[0m\n\u001b[0;32m--> 176\u001b[0;31m             \u001b[0mderphi1\u001b[0m \u001b[0;34m=\u001b[0m \u001b[0mderphi\u001b[0m\u001b[0;34m(\u001b[0m\u001b[0mstp\u001b[0m\u001b[0;34m)\u001b[0m\u001b[0;34m\u001b[0m\u001b[0;34m\u001b[0m\u001b[0m\n\u001b[0m\u001b[1;32m    177\u001b[0m         \u001b[0;32melse\u001b[0m\u001b[0;34m:\u001b[0m\u001b[0;34m\u001b[0m\u001b[0;34m\u001b[0m\u001b[0m\n\u001b[1;32m    178\u001b[0m             \u001b[0;32mbreak\u001b[0m\u001b[0;34m\u001b[0m\u001b[0;34m\u001b[0m\u001b[0m\n",
      "\u001b[0;32m~/miniconda3/envs/glmhmm/lib/python3.7/site-packages/scipy/optimize/linesearch.py\u001b[0m in \u001b[0;36mderphi\u001b[0;34m(s)\u001b[0m\n\u001b[1;32m     88\u001b[0m \u001b[0;34m\u001b[0m\u001b[0m\n\u001b[1;32m     89\u001b[0m     \u001b[0;32mdef\u001b[0m \u001b[0mderphi\u001b[0m\u001b[0;34m(\u001b[0m\u001b[0ms\u001b[0m\u001b[0;34m)\u001b[0m\u001b[0;34m:\u001b[0m\u001b[0;34m\u001b[0m\u001b[0;34m\u001b[0m\u001b[0m\n\u001b[0;32m---> 90\u001b[0;31m         \u001b[0mgval\u001b[0m\u001b[0;34m[\u001b[0m\u001b[0;36m0\u001b[0m\u001b[0;34m]\u001b[0m \u001b[0;34m=\u001b[0m \u001b[0mfprime\u001b[0m\u001b[0;34m(\u001b[0m\u001b[0mxk\u001b[0m \u001b[0;34m+\u001b[0m \u001b[0ms\u001b[0m\u001b[0;34m*\u001b[0m\u001b[0mpk\u001b[0m\u001b[0;34m,\u001b[0m \u001b[0;34m*\u001b[0m\u001b[0mnewargs\u001b[0m\u001b[0;34m)\u001b[0m\u001b[0;34m\u001b[0m\u001b[0;34m\u001b[0m\u001b[0m\n\u001b[0m\u001b[1;32m     91\u001b[0m         \u001b[0;32mif\u001b[0m \u001b[0mgradient\u001b[0m\u001b[0;34m:\u001b[0m\u001b[0;34m\u001b[0m\u001b[0;34m\u001b[0m\u001b[0m\n\u001b[1;32m     92\u001b[0m             \u001b[0mgc\u001b[0m\u001b[0;34m[\u001b[0m\u001b[0;36m0\u001b[0m\u001b[0;34m]\u001b[0m \u001b[0;34m+=\u001b[0m \u001b[0;36m1\u001b[0m\u001b[0;34m\u001b[0m\u001b[0;34m\u001b[0m\u001b[0m\n",
      "\u001b[0;32m~/miniconda3/envs/glmhmm/lib/python3.7/site-packages/scipy/optimize/optimize.py\u001b[0m in \u001b[0;36mfunction_wrapper\u001b[0;34m(*wrapper_args)\u001b[0m\n\u001b[1;32m    325\u001b[0m     \u001b[0;32mdef\u001b[0m \u001b[0mfunction_wrapper\u001b[0m\u001b[0;34m(\u001b[0m\u001b[0;34m*\u001b[0m\u001b[0mwrapper_args\u001b[0m\u001b[0;34m)\u001b[0m\u001b[0;34m:\u001b[0m\u001b[0;34m\u001b[0m\u001b[0;34m\u001b[0m\u001b[0m\n\u001b[1;32m    326\u001b[0m         \u001b[0mncalls\u001b[0m\u001b[0;34m[\u001b[0m\u001b[0;36m0\u001b[0m\u001b[0;34m]\u001b[0m \u001b[0;34m+=\u001b[0m \u001b[0;36m1\u001b[0m\u001b[0;34m\u001b[0m\u001b[0;34m\u001b[0m\u001b[0m\n\u001b[0;32m--> 327\u001b[0;31m         \u001b[0;32mreturn\u001b[0m \u001b[0mfunction\u001b[0m\u001b[0;34m(\u001b[0m\u001b[0;34m*\u001b[0m\u001b[0;34m(\u001b[0m\u001b[0mwrapper_args\u001b[0m \u001b[0;34m+\u001b[0m \u001b[0margs\u001b[0m\u001b[0;34m)\u001b[0m\u001b[0;34m)\u001b[0m\u001b[0;34m\u001b[0m\u001b[0;34m\u001b[0m\u001b[0m\n\u001b[0m\u001b[1;32m    328\u001b[0m \u001b[0;34m\u001b[0m\u001b[0m\n\u001b[1;32m    329\u001b[0m     \u001b[0;32mreturn\u001b[0m \u001b[0mncalls\u001b[0m\u001b[0;34m,\u001b[0m \u001b[0mfunction_wrapper\u001b[0m\u001b[0;34m\u001b[0m\u001b[0;34m\u001b[0m\u001b[0m\n",
      "\u001b[0;32m~/repositories/ssm/ssm/optimizers.py\u001b[0m in \u001b[0;36msafe_grad\u001b[0;34m(x, itr)\u001b[0m\n\u001b[1;32m    128\u001b[0m     \u001b[0;31m# Wrap the gradient to avoid NaNs\u001b[0m\u001b[0;34m\u001b[0m\u001b[0;34m\u001b[0m\u001b[0;34m\u001b[0m\u001b[0m\n\u001b[1;32m    129\u001b[0m     \u001b[0;32mdef\u001b[0m \u001b[0msafe_grad\u001b[0m\u001b[0;34m(\u001b[0m\u001b[0mx\u001b[0m\u001b[0;34m,\u001b[0m \u001b[0mitr\u001b[0m\u001b[0;34m)\u001b[0m\u001b[0;34m:\u001b[0m\u001b[0;34m\u001b[0m\u001b[0;34m\u001b[0m\u001b[0m\n\u001b[0;32m--> 130\u001b[0;31m         \u001b[0mg\u001b[0m \u001b[0;34m=\u001b[0m \u001b[0mgrad\u001b[0m\u001b[0;34m(\u001b[0m\u001b[0m_objective\u001b[0m\u001b[0;34m)\u001b[0m\u001b[0;34m(\u001b[0m\u001b[0mx\u001b[0m\u001b[0;34m,\u001b[0m \u001b[0mitr\u001b[0m\u001b[0;34m)\u001b[0m\u001b[0;34m\u001b[0m\u001b[0;34m\u001b[0m\u001b[0m\n\u001b[0m\u001b[1;32m    131\u001b[0m         \u001b[0mg\u001b[0m\u001b[0;34m[\u001b[0m\u001b[0;34m~\u001b[0m\u001b[0mnp\u001b[0m\u001b[0;34m.\u001b[0m\u001b[0misfinite\u001b[0m\u001b[0;34m(\u001b[0m\u001b[0mg\u001b[0m\u001b[0;34m)\u001b[0m\u001b[0;34m]\u001b[0m \u001b[0;34m=\u001b[0m \u001b[0;36m1e8\u001b[0m\u001b[0;34m\u001b[0m\u001b[0;34m\u001b[0m\u001b[0m\n\u001b[1;32m    132\u001b[0m         \u001b[0;32mreturn\u001b[0m \u001b[0mg\u001b[0m\u001b[0;34m\u001b[0m\u001b[0;34m\u001b[0m\u001b[0m\n",
      "\u001b[0;32m~/miniconda3/envs/glmhmm/lib/python3.7/site-packages/autograd/wrap_util.py\u001b[0m in \u001b[0;36mnary_f\u001b[0;34m(*args, **kwargs)\u001b[0m\n\u001b[1;32m     18\u001b[0m             \u001b[0;32melse\u001b[0m\u001b[0;34m:\u001b[0m\u001b[0;34m\u001b[0m\u001b[0;34m\u001b[0m\u001b[0m\n\u001b[1;32m     19\u001b[0m                 \u001b[0mx\u001b[0m \u001b[0;34m=\u001b[0m \u001b[0mtuple\u001b[0m\u001b[0;34m(\u001b[0m\u001b[0margs\u001b[0m\u001b[0;34m[\u001b[0m\u001b[0mi\u001b[0m\u001b[0;34m]\u001b[0m \u001b[0;32mfor\u001b[0m \u001b[0mi\u001b[0m \u001b[0;32min\u001b[0m \u001b[0margnum\u001b[0m\u001b[0;34m)\u001b[0m\u001b[0;34m\u001b[0m\u001b[0;34m\u001b[0m\u001b[0m\n\u001b[0;32m---> 20\u001b[0;31m             \u001b[0;32mreturn\u001b[0m \u001b[0munary_operator\u001b[0m\u001b[0;34m(\u001b[0m\u001b[0munary_f\u001b[0m\u001b[0;34m,\u001b[0m \u001b[0mx\u001b[0m\u001b[0;34m,\u001b[0m \u001b[0;34m*\u001b[0m\u001b[0mnary_op_args\u001b[0m\u001b[0;34m,\u001b[0m \u001b[0;34m**\u001b[0m\u001b[0mnary_op_kwargs\u001b[0m\u001b[0;34m)\u001b[0m\u001b[0;34m\u001b[0m\u001b[0;34m\u001b[0m\u001b[0m\n\u001b[0m\u001b[1;32m     21\u001b[0m         \u001b[0;32mreturn\u001b[0m \u001b[0mnary_f\u001b[0m\u001b[0;34m\u001b[0m\u001b[0;34m\u001b[0m\u001b[0m\n\u001b[1;32m     22\u001b[0m     \u001b[0;32mreturn\u001b[0m \u001b[0mnary_operator\u001b[0m\u001b[0;34m\u001b[0m\u001b[0;34m\u001b[0m\u001b[0m\n",
      "\u001b[0;32m~/miniconda3/envs/glmhmm/lib/python3.7/site-packages/autograd/differential_operators.py\u001b[0m in \u001b[0;36mgrad\u001b[0;34m(fun, x)\u001b[0m\n\u001b[1;32m     30\u001b[0m         raise TypeError(\"Grad only applies to real scalar-output functions. \"\n\u001b[1;32m     31\u001b[0m                         \"Try jacobian, elementwise_grad or holomorphic_grad.\")\n\u001b[0;32m---> 32\u001b[0;31m     \u001b[0;32mreturn\u001b[0m \u001b[0mvjp\u001b[0m\u001b[0;34m(\u001b[0m\u001b[0mvspace\u001b[0m\u001b[0;34m(\u001b[0m\u001b[0mans\u001b[0m\u001b[0;34m)\u001b[0m\u001b[0;34m.\u001b[0m\u001b[0mones\u001b[0m\u001b[0;34m(\u001b[0m\u001b[0;34m)\u001b[0m\u001b[0;34m)\u001b[0m\u001b[0;34m\u001b[0m\u001b[0;34m\u001b[0m\u001b[0m\n\u001b[0m\u001b[1;32m     33\u001b[0m \u001b[0;34m\u001b[0m\u001b[0m\n\u001b[1;32m     34\u001b[0m \u001b[0;34m@\u001b[0m\u001b[0munary_to_nary\u001b[0m\u001b[0;34m\u001b[0m\u001b[0;34m\u001b[0m\u001b[0m\n",
      "\u001b[0;32m~/miniconda3/envs/glmhmm/lib/python3.7/site-packages/autograd/core.py\u001b[0m in \u001b[0;36mvjp\u001b[0;34m(g)\u001b[0m\n\u001b[1;32m     12\u001b[0m         \u001b[0;32mdef\u001b[0m \u001b[0mvjp\u001b[0m\u001b[0;34m(\u001b[0m\u001b[0mg\u001b[0m\u001b[0;34m)\u001b[0m\u001b[0;34m:\u001b[0m \u001b[0;32mreturn\u001b[0m \u001b[0mvspace\u001b[0m\u001b[0;34m(\u001b[0m\u001b[0mx\u001b[0m\u001b[0;34m)\u001b[0m\u001b[0;34m.\u001b[0m\u001b[0mzeros\u001b[0m\u001b[0;34m(\u001b[0m\u001b[0;34m)\u001b[0m\u001b[0;34m\u001b[0m\u001b[0;34m\u001b[0m\u001b[0m\n\u001b[1;32m     13\u001b[0m     \u001b[0;32melse\u001b[0m\u001b[0;34m:\u001b[0m\u001b[0;34m\u001b[0m\u001b[0;34m\u001b[0m\u001b[0m\n\u001b[0;32m---> 14\u001b[0;31m         \u001b[0;32mdef\u001b[0m \u001b[0mvjp\u001b[0m\u001b[0;34m(\u001b[0m\u001b[0mg\u001b[0m\u001b[0;34m)\u001b[0m\u001b[0;34m:\u001b[0m \u001b[0;32mreturn\u001b[0m \u001b[0mbackward_pass\u001b[0m\u001b[0;34m(\u001b[0m\u001b[0mg\u001b[0m\u001b[0;34m,\u001b[0m \u001b[0mend_node\u001b[0m\u001b[0;34m)\u001b[0m\u001b[0;34m\u001b[0m\u001b[0;34m\u001b[0m\u001b[0m\n\u001b[0m\u001b[1;32m     15\u001b[0m     \u001b[0;32mreturn\u001b[0m \u001b[0mvjp\u001b[0m\u001b[0;34m,\u001b[0m \u001b[0mend_value\u001b[0m\u001b[0;34m\u001b[0m\u001b[0;34m\u001b[0m\u001b[0m\n\u001b[1;32m     16\u001b[0m \u001b[0;34m\u001b[0m\u001b[0m\n",
      "\u001b[0;32m~/miniconda3/envs/glmhmm/lib/python3.7/site-packages/autograd/core.py\u001b[0m in \u001b[0;36mbackward_pass\u001b[0;34m(g, end_node)\u001b[0m\n\u001b[1;32m     21\u001b[0m         \u001b[0mingrads\u001b[0m \u001b[0;34m=\u001b[0m \u001b[0mnode\u001b[0m\u001b[0;34m.\u001b[0m\u001b[0mvjp\u001b[0m\u001b[0;34m(\u001b[0m\u001b[0moutgrad\u001b[0m\u001b[0;34m[\u001b[0m\u001b[0;36m0\u001b[0m\u001b[0;34m]\u001b[0m\u001b[0;34m)\u001b[0m\u001b[0;34m\u001b[0m\u001b[0;34m\u001b[0m\u001b[0m\n\u001b[1;32m     22\u001b[0m         \u001b[0;32mfor\u001b[0m \u001b[0mparent\u001b[0m\u001b[0;34m,\u001b[0m \u001b[0mingrad\u001b[0m \u001b[0;32min\u001b[0m \u001b[0mzip\u001b[0m\u001b[0;34m(\u001b[0m\u001b[0mnode\u001b[0m\u001b[0;34m.\u001b[0m\u001b[0mparents\u001b[0m\u001b[0;34m,\u001b[0m \u001b[0mingrads\u001b[0m\u001b[0;34m)\u001b[0m\u001b[0;34m:\u001b[0m\u001b[0;34m\u001b[0m\u001b[0;34m\u001b[0m\u001b[0m\n\u001b[0;32m---> 23\u001b[0;31m             \u001b[0moutgrads\u001b[0m\u001b[0;34m[\u001b[0m\u001b[0mparent\u001b[0m\u001b[0;34m]\u001b[0m \u001b[0;34m=\u001b[0m \u001b[0madd_outgrads\u001b[0m\u001b[0;34m(\u001b[0m\u001b[0moutgrads\u001b[0m\u001b[0;34m.\u001b[0m\u001b[0mget\u001b[0m\u001b[0;34m(\u001b[0m\u001b[0mparent\u001b[0m\u001b[0;34m)\u001b[0m\u001b[0;34m,\u001b[0m \u001b[0mingrad\u001b[0m\u001b[0;34m)\u001b[0m\u001b[0;34m\u001b[0m\u001b[0;34m\u001b[0m\u001b[0m\n\u001b[0m\u001b[1;32m     24\u001b[0m     \u001b[0;32mreturn\u001b[0m \u001b[0moutgrad\u001b[0m\u001b[0;34m[\u001b[0m\u001b[0;36m0\u001b[0m\u001b[0;34m]\u001b[0m\u001b[0;34m\u001b[0m\u001b[0;34m\u001b[0m\u001b[0m\n\u001b[1;32m     25\u001b[0m \u001b[0;34m\u001b[0m\u001b[0m\n",
      "\u001b[0;32m~/miniconda3/envs/glmhmm/lib/python3.7/site-packages/autograd/core.py\u001b[0m in \u001b[0;36madd_outgrads\u001b[0;34m(prev_g_flagged, g)\u001b[0m\n\u001b[1;32m    174\u001b[0m     \u001b[0;32melse\u001b[0m\u001b[0;34m:\u001b[0m\u001b[0;34m\u001b[0m\u001b[0;34m\u001b[0m\u001b[0m\n\u001b[1;32m    175\u001b[0m         \u001b[0;32mif\u001b[0m \u001b[0msparse\u001b[0m\u001b[0;34m:\u001b[0m\u001b[0;34m\u001b[0m\u001b[0;34m\u001b[0m\u001b[0m\n\u001b[0;32m--> 176\u001b[0;31m             \u001b[0;32mreturn\u001b[0m \u001b[0msparse_add\u001b[0m\u001b[0;34m(\u001b[0m\u001b[0mvspace\u001b[0m\u001b[0;34m(\u001b[0m\u001b[0mg\u001b[0m\u001b[0;34m)\u001b[0m\u001b[0;34m,\u001b[0m \u001b[0;32mNone\u001b[0m\u001b[0;34m,\u001b[0m \u001b[0mg\u001b[0m\u001b[0;34m)\u001b[0m\u001b[0;34m,\u001b[0m \u001b[0;32mTrue\u001b[0m\u001b[0;34m\u001b[0m\u001b[0;34m\u001b[0m\u001b[0m\n\u001b[0m\u001b[1;32m    177\u001b[0m         \u001b[0;32melse\u001b[0m\u001b[0;34m:\u001b[0m\u001b[0;34m\u001b[0m\u001b[0;34m\u001b[0m\u001b[0m\n\u001b[1;32m    178\u001b[0m             \u001b[0;32mreturn\u001b[0m \u001b[0mg\u001b[0m\u001b[0;34m,\u001b[0m \u001b[0;32mFalse\u001b[0m\u001b[0;34m\u001b[0m\u001b[0;34m\u001b[0m\u001b[0m\n",
      "\u001b[0;32m~/miniconda3/envs/glmhmm/lib/python3.7/site-packages/autograd/tracer.py\u001b[0m in \u001b[0;36mf_wrapped\u001b[0;34m(*args, **kwargs)\u001b[0m\n\u001b[1;32m     46\u001b[0m             \u001b[0;32mreturn\u001b[0m \u001b[0mnew_box\u001b[0m\u001b[0;34m(\u001b[0m\u001b[0mans\u001b[0m\u001b[0;34m,\u001b[0m \u001b[0mtrace\u001b[0m\u001b[0;34m,\u001b[0m \u001b[0mnode\u001b[0m\u001b[0;34m)\u001b[0m\u001b[0;34m\u001b[0m\u001b[0;34m\u001b[0m\u001b[0m\n\u001b[1;32m     47\u001b[0m         \u001b[0;32melse\u001b[0m\u001b[0;34m:\u001b[0m\u001b[0;34m\u001b[0m\u001b[0;34m\u001b[0m\u001b[0m\n\u001b[0;32m---> 48\u001b[0;31m             \u001b[0;32mreturn\u001b[0m \u001b[0mf_raw\u001b[0m\u001b[0;34m(\u001b[0m\u001b[0;34m*\u001b[0m\u001b[0margs\u001b[0m\u001b[0;34m,\u001b[0m \u001b[0;34m**\u001b[0m\u001b[0mkwargs\u001b[0m\u001b[0;34m)\u001b[0m\u001b[0;34m\u001b[0m\u001b[0;34m\u001b[0m\u001b[0m\n\u001b[0m\u001b[1;32m     49\u001b[0m     \u001b[0mf_wrapped\u001b[0m\u001b[0;34m.\u001b[0m\u001b[0mfun\u001b[0m \u001b[0;34m=\u001b[0m \u001b[0mf_raw\u001b[0m\u001b[0;34m\u001b[0m\u001b[0;34m\u001b[0m\u001b[0m\n\u001b[1;32m     50\u001b[0m     \u001b[0mf_wrapped\u001b[0m\u001b[0;34m.\u001b[0m\u001b[0m_is_autograd_primitive\u001b[0m \u001b[0;34m=\u001b[0m \u001b[0;32mTrue\u001b[0m\u001b[0;34m\u001b[0m\u001b[0;34m\u001b[0m\u001b[0m\n",
      "\u001b[0;32m~/miniconda3/envs/glmhmm/lib/python3.7/site-packages/autograd/core.py\u001b[0m in \u001b[0;36msparse_add\u001b[0;34m(vs, x_prev, x_new)\u001b[0m\n\u001b[1;32m    184\u001b[0m \u001b[0;32mdef\u001b[0m \u001b[0msparse_add\u001b[0m\u001b[0;34m(\u001b[0m\u001b[0mvs\u001b[0m\u001b[0;34m,\u001b[0m \u001b[0mx_prev\u001b[0m\u001b[0;34m,\u001b[0m \u001b[0mx_new\u001b[0m\u001b[0;34m)\u001b[0m\u001b[0;34m:\u001b[0m\u001b[0;34m\u001b[0m\u001b[0;34m\u001b[0m\u001b[0m\n\u001b[1;32m    185\u001b[0m     \u001b[0mx_prev\u001b[0m \u001b[0;34m=\u001b[0m \u001b[0mx_prev\u001b[0m \u001b[0;32mif\u001b[0m \u001b[0mx_prev\u001b[0m \u001b[0;32mis\u001b[0m \u001b[0;32mnot\u001b[0m \u001b[0;32mNone\u001b[0m \u001b[0;32melse\u001b[0m \u001b[0mvs\u001b[0m\u001b[0;34m.\u001b[0m\u001b[0mzeros\u001b[0m\u001b[0;34m(\u001b[0m\u001b[0;34m)\u001b[0m\u001b[0;34m\u001b[0m\u001b[0;34m\u001b[0m\u001b[0m\n\u001b[0;32m--> 186\u001b[0;31m     \u001b[0;32mreturn\u001b[0m \u001b[0mx_new\u001b[0m\u001b[0;34m.\u001b[0m\u001b[0mmut_add\u001b[0m\u001b[0;34m(\u001b[0m\u001b[0mx_prev\u001b[0m\u001b[0;34m)\u001b[0m\u001b[0;34m\u001b[0m\u001b[0;34m\u001b[0m\u001b[0m\n\u001b[0m\u001b[1;32m    187\u001b[0m \u001b[0;34m\u001b[0m\u001b[0m\n\u001b[1;32m    188\u001b[0m \u001b[0;32mclass\u001b[0m \u001b[0mVSpace\u001b[0m\u001b[0;34m(\u001b[0m\u001b[0mobject\u001b[0m\u001b[0;34m)\u001b[0m\u001b[0;34m:\u001b[0m\u001b[0;34m\u001b[0m\u001b[0;34m\u001b[0m\u001b[0m\n",
      "\u001b[0;32m~/miniconda3/envs/glmhmm/lib/python3.7/site-packages/autograd/numpy/numpy_vjps.py\u001b[0m in \u001b[0;36mmut_add\u001b[0;34m(A)\u001b[0m\n\u001b[1;32m    696\u001b[0m         \u001b[0midx\u001b[0m \u001b[0;34m=\u001b[0m \u001b[0monp\u001b[0m\u001b[0;34m.\u001b[0m\u001b[0marray\u001b[0m\u001b[0;34m(\u001b[0m\u001b[0midx\u001b[0m\u001b[0;34m,\u001b[0m \u001b[0mdtype\u001b[0m\u001b[0;34m=\u001b[0m\u001b[0;34m'int64'\u001b[0m\u001b[0;34m)\u001b[0m\u001b[0;34m\u001b[0m\u001b[0;34m\u001b[0m\u001b[0m\n\u001b[1;32m    697\u001b[0m     \u001b[0;32mdef\u001b[0m \u001b[0mmut_add\u001b[0m\u001b[0;34m(\u001b[0m\u001b[0mA\u001b[0m\u001b[0;34m)\u001b[0m\u001b[0;34m:\u001b[0m\u001b[0;34m\u001b[0m\u001b[0;34m\u001b[0m\u001b[0m\n\u001b[0;32m--> 698\u001b[0;31m         \u001b[0monp\u001b[0m\u001b[0;34m.\u001b[0m\u001b[0madd\u001b[0m\u001b[0;34m.\u001b[0m\u001b[0mat\u001b[0m\u001b[0;34m(\u001b[0m\u001b[0mA\u001b[0m\u001b[0;34m,\u001b[0m \u001b[0midx\u001b[0m\u001b[0;34m,\u001b[0m \u001b[0mx\u001b[0m\u001b[0;34m)\u001b[0m\u001b[0;34m\u001b[0m\u001b[0;34m\u001b[0m\u001b[0m\n\u001b[0m\u001b[1;32m    699\u001b[0m         \u001b[0;32mreturn\u001b[0m \u001b[0mA\u001b[0m\u001b[0;34m\u001b[0m\u001b[0;34m\u001b[0m\u001b[0m\n\u001b[1;32m    700\u001b[0m     \u001b[0;32mreturn\u001b[0m \u001b[0mSparseObject\u001b[0m\u001b[0;34m(\u001b[0m\u001b[0mvs\u001b[0m\u001b[0;34m,\u001b[0m \u001b[0mmut_add\u001b[0m\u001b[0;34m)\u001b[0m\u001b[0;34m\u001b[0m\u001b[0;34m\u001b[0m\u001b[0m\n",
      "\u001b[0;31mKeyboardInterrupt\u001b[0m: "
     ]
    }
   ],
   "source": [
    "\n",
    "if USE_CLUSTER:\n",
    "    z = int(sys.argv[1])\n",
    "else:\n",
    "    z = 0\n",
    "        \n",
    "# Load external files:\n",
    "cluster_arr_file = processed_ibl_data_path + 'cluster_job_arr.npz'\n",
    "# Load cluster array job parameters:\n",
    "cluster_arr = load_cluster_arr(cluster_arr_file)\n",
    "\n",
    "# Get all data\n",
    "\n",
    "animal_file = processed_ibl_data_path + 'all_animals_concat.npz'\n",
    "inpt, y, bin_data = load_data(animal_file)\n",
    "bin_fold_lookup_table = load_session_fold_lookup(\n",
    "    processed_ibl_data_path + 'all_animals_concat_session_fold_lookup.npz')\n",
    "\n",
    "bin_values = np.unique(bin_data)\n",
    "bin_values = [0, 5, 9]\n",
    "# Loop through bins and fit a separate global GLM for each bin\n",
    "for b, bin in enumerate(bin_values):\n",
    "    \n",
    "    for m, model in enumerate(range(len(cluster_arr))):\n",
    "        \n",
    "        [K, fold, iter] = cluster_arr[m]\n",
    "            \n",
    "        # Subset of trials of interest for bin\n",
    "        bin_idx = np.where(bin_data == bin)\n",
    "        bin_y = y[bin_idx]\n",
    "        bin_bin_fold_lookup_table = bin_fold_lookup_table[bin_idx]\n",
    "        bin_inpt = inpt[bin_idx]\n",
    "        bin_bin_data = bin_data[bin_idx]  \n",
    "\n",
    "        #  append a column of ones to inpt to represent the bias covariate:\n",
    "        bin_inpt = np.hstack((bin_inpt, np.ones((len(bin_inpt),1))))\n",
    "        bin_y = bin_y.astype('int')\n",
    "        # Identify violations for exclusion:\n",
    "        violation_idx = np.where(bin_y == -1)[0]\n",
    "        nonviolation_idx, mask = create_violation_mask(violation_idx,\n",
    "                                                        bin_inpt.shape[0])\n",
    "\n",
    "        #  GLM weights to use to initialize GLM-HMM\n",
    "        init_param_file = results_dir + 'GLM/bin_' + str(bin+1) + '_fold_' + str(\n",
    "            fold) + '/variables_of_interest_iter_0.npz'\n",
    "\n",
    "        # create save directory for this initialization/fold combination:\n",
    "        save_directory = results_dir + '/GLM_HMM_K_' + str(\n",
    "            K) + '/bin_' + str(bin+1) + '/fold_' + str(fold) + '/' \n",
    "        if not os.path.exists(save_directory):\n",
    "            os.makedirs(save_directory)\n",
    "\n",
    "        launch_glm_hmm_job(bin_inpt,\n",
    "                            bin_y,\n",
    "                            bin_bin_data,\n",
    "                            mask,\n",
    "                            bin_bin_fold_lookup_table,\n",
    "                            K,\n",
    "                            D,\n",
    "                            C,\n",
    "                            N_em_iters,\n",
    "                            transition_alpha,\n",
    "                            prior_sigma,\n",
    "                            fold,\n",
    "                            iter,\n",
    "                            global_fit,\n",
    "                            init_param_file,\n",
    "                            save_directory)"
   ]
  },
  {
   "cell_type": "code",
   "execution_count": null,
   "metadata": {},
   "outputs": [],
   "source": []
  }
 ],
 "metadata": {
  "kernelspec": {
   "display_name": "py39_2",
   "language": "python",
   "name": "python3"
  },
  "language_info": {
   "codemirror_mode": {
    "name": "ipython",
    "version": 3
   },
   "file_extension": ".py",
   "mimetype": "text/x-python",
   "name": "python",
   "nbconvert_exporter": "python",
   "pygments_lexer": "ipython3",
   "version": "3.9.16"
  },
  "orig_nbformat": 4,
  "vscode": {
   "interpreter": {
    "hash": "1f853f8609685127ea8e72dcad05addc0055bbd53b34efe8106300d089c6b555"
   }
  }
 },
 "nbformat": 4,
 "nbformat_minor": 2
}
