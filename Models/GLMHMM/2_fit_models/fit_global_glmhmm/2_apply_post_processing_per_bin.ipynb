{
 "cells": [
  {
   "attachments": {},
   "cell_type": "markdown",
   "metadata": {},
   "source": [
    "## Post processing\n",
    "#### Create a matrix of size num_models x num_folds containing normalized loglikelihood for both train and test splits"
   ]
  },
  {
   "cell_type": "code",
   "execution_count": 1,
   "metadata": {},
   "outputs": [],
   "source": [
    "\"\"\" \n",
    "IMPORTS\n",
    "\"\"\"\n",
    "import json\n",
    "\n",
    "import numpy as np\n",
    "from post_processing_utils import load_data, load_session_fold_lookup, \\\n",
    "    prepare_data_for_cv, calculate_baseline_test_ll, \\\n",
    "    calculate_glm_test_loglikelihood, calculate_cv_bit_trial, \\\n",
    "    return_glmhmm_nll, return_lapse_nll"
   ]
  },
  {
   "cell_type": "code",
   "execution_count": null,
   "metadata": {},
   "outputs": [],
   "source": [
    "\"\"\" \n",
    "PARAMETERS\n",
    "\"\"\"\n",
    "# Parameters\n",
    "C = 2  # number of output classes\n",
    "num_folds = 5  # number of folds\n",
    "D = 1  # number of output dimensions\n",
    "K_max = 5  # maximum number of latent states\n",
    "num_models = K_max + 2  # model for each latent + 2 lapse models\n",
    "num_bins = 10"
   ]
  },
  {
   "cell_type": "code",
   "execution_count": null,
   "metadata": {},
   "outputs": [],
   "source": [
    "\"\"\"\n",
    "Useful directories\n",
    "\"\"\"\n",
    "data_dir = '../../data/ibl/data_for_cluster/'\n",
    "results_dir = '../../results/ibl_global_fit/'\n",
    "data_dir = '/home/ines/repositories/representation_learning_variability/DATA/GLMHMM/data_for_cluster/'\n",
    "#data_dir = '/Users/ineslaranjeira/Documents/Repositories/representation_learning_variability/DATA/GLMHMM/data_for_cluster/'\n",
    "processed_ibl_data_path = data_dir + \"data_by_bin\" + str(num_bins) + \"global_normalization/\"\n",
    "\n",
    "\n",
    "results_dir = '../../results/ibl_global_fit/GLM_HMM_K_' + str(K)\n"
   ]
  },
  {
   "cell_type": "code",
   "execution_count": null,
   "metadata": {},
   "outputs": [],
   "source": [
    "\"\"\"\n",
    "Loop through bins and animals\n",
    "\"\"\"\n",
    "# Get all data\n",
    "animal_list = load_animal_list(\n",
    "processed_ibl_data_path + 'animal_list.npz')\n",
    "\n",
    "animal_file = processed_ibl_data_path + 'all_animals_concat.npz'\n",
    "inpt, y, bin_data = load_data(animal_file)\n",
    "bin_fold_lookup_table = load_session_fold_lookup(\n",
    "    processed_ibl_data_path + 'all_animals_concat_session_fold_lookup.npz')\n",
    "\n",
    "# Loop through bins\n",
    "for b, bin in enumerate(range(num_bins)):\n",
    "\n",
    "    # Subset of trials of interest for bin\n",
    "    bin_idx = np.where(bin_data == bin)\n",
    "    bin_y = y[bin_idx]\n",
    "    bin_bin_fold_lookup_table = bin_fold_lookup_table[bin_idx]\n",
    "    bin_inpt = inpt[bin_idx]\n",
    "    bin_bin_data = bin_data[bin_idx]\n",
    "        \n",
    "    bin_preferred_model_dict = {}\n",
    "    models = [\"GLM\", \"Lapse_Model\", \"GLM_HMM\"]\n",
    "\n",
    "    cvbt_folds_model = np.zeros((num_models, num_folds))\n",
    "    cvbt_train_folds_model = np.zeros((num_models, num_folds))\n",
    "\n",
    "    # Save best initialization for each model-fold combination\n",
    "    best_init_cvbt_dict = {}\n",
    "    for fold in range(num_folds):\n",
    "    \n",
    "        test_inpt, test_y, test_nonviolation_mask, this_test_session, \\\n",
    "        train_inpt, train_y, train_nonviolation_mask, this_train_session, M,\\\n",
    "        n_test, n_train = prepare_data_for_cv(\n",
    "            bin_inpt, bin_y, bin_bin_data, bin_bin_fold_lookup_table, fold)\n",
    "\n",
    "        # Ines addapted\n",
    "        ll0 = calculate_baseline_test_ll(\n",
    "            train_y[0, train_nonviolation_mask == 1],\n",
    "            test_y[0, test_nonviolation_mask == 1], C)\n",
    "        ll0_train = calculate_baseline_test_ll(\n",
    "            train_y[0, train_nonviolation_mask == 1],\n",
    "            train_y[0, train_nonviolation_mask == 1], C)\n",
    "        \n",
    "        # Check if there are choices of both types.\n",
    "        if len(np.unique(test_y[0, test_nonviolation_mask == 1])) > 1:\n",
    "                                \n",
    "            for model in models:\n",
    "                if model == \"GLM_HMM\":\n",
    "                    for K in range(2, K_max + 1):\n",
    "                        print(\"K = \" + str(K))\n",
    "                        model_idx = 3 + (K - 2)\n",
    "                        cvbt_folds_model[model_idx, fold], \\\n",
    "                        cvbt_train_folds_model[\n",
    "                            model_idx, fold], _, _, init_ordering_by_train = \\\n",
    "                            return_glmhmm_nll(\n",
    "                                np.hstack((bin_inpt, np.ones((len(bin_inpt), 1)))), y,\n",
    "                                bin_bin_data, bin_bin_fold_lookup_table, fold,\n",
    "                                K, D, C, results_dir)\n",
    "                        # Save best initialization to dictionary for later:\n",
    "                        key_for_dict = '/GLM_HMM_K_' + str(K) + '/fold_' + str(\n",
    "                            fold)\n",
    "                        best_init_cvbt_dict[key_for_dict] = int(\n",
    "                            init_ordering_by_train[0])\n",
    "                        \n",
    "    # Save best initialization directories across animals, folds and models\n",
    "    # (only GLM-HMM):\n",
    "    print(cvbt_folds_model)\n",
    "    print(cvbt_train_folds_model)\n",
    "    json_dump = json.dumps(best_init_cvbt_dict)\n",
    "    f = open(results_dir + \"/best_init_cvbt_dict.json\", \"w\")\n",
    "    f.write(json_dump)\n",
    "    f.close()\n",
    "    # Save cvbt_folds_model as numpy array for easy parsing across all\n",
    "    # models and folds\n",
    "    np.savez(results_dir + 'bin_' + str(bin+1) + \"_cvbt_folds_model.npz\", cvbt_folds_model)\n",
    "    np.savez(results_dir + 'bin_' + str(bin+1) + \"_cvbt_train_folds_model.npz\",\n",
    "                cvbt_train_folds_model)\n",
    "            "
   ]
  },
  {
   "cell_type": "markdown",
   "metadata": {},
   "source": []
  }
 ],
 "metadata": {
  "kernelspec": {
   "display_name": "glmhmm",
   "language": "python",
   "name": "python3"
  },
  "language_info": {
   "codemirror_mode": {
    "name": "ipython",
    "version": 3
   },
   "file_extension": ".py",
   "mimetype": "text/x-python",
   "name": "python",
   "nbconvert_exporter": "python",
   "pygments_lexer": "ipython3",
   "version": "3.7.6"
  },
  "orig_nbformat": 4,
  "vscode": {
   "interpreter": {
    "hash": "e0570267f7605a5796a6c6283f704801f1f25a3a6f849e378a7aefdb53302a15"
   }
  }
 },
 "nbformat": 4,
 "nbformat_minor": 2
}
