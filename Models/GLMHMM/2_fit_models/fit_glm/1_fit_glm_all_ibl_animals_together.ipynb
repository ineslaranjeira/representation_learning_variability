{
 "cells": [
  {
   "attachments": {},
   "cell_type": "markdown",
   "metadata": {},
   "source": [
    "#  Fit GLM to all IBL data together"
   ]
  },
  {
   "cell_type": "code",
   "execution_count": 1,
   "metadata": {},
   "outputs": [],
   "source": [
    "\"\"\"\n",
    "IMPORTS\n",
    "\"\"\"\n",
    "import autograd.numpy as np\n",
    "import autograd.numpy.random as npr\n",
    "import os\n",
    "from glm_utils import load_session_fold_lookup, load_data, fit_glm, \\\n",
    "    plot_input_vectors, append_zeros\n",
    "    \n",
    "from preprocessing_utils_session_ines import get_animal_name, load_animal_list, load_animal_eid_dict, \\\n",
    "get_all_unnormalized_data_this_session, create_train_test_sessions, bin_frac\n"
   ]
  },
  {
   "cell_type": "code",
   "execution_count": 26,
   "metadata": {},
   "outputs": [],
   "source": [
    "\"\"\"\n",
    "PARAMETERS\n",
    "\"\"\"\n",
    "C = 2  # number of output types/categories\n",
    "N_initializations = 1\n",
    "npr.seed(65)  # set seed in case of randomization\n",
    "num_folds = 5\n",
    "bin_num = 10\n"
   ]
  },
  {
   "cell_type": "code",
   "execution_count": 17,
   "metadata": {},
   "outputs": [],
   "source": [
    "\"\"\"\n",
    "DIRECTORIES\n",
    "\"\"\"\n",
    "data_dir = '../../data/ibl/data_for_cluster/'\n",
    "data_dir = '/home/ines/repositories/representation_learning_variability/DATA/GLMHMM/'\n",
    "#data_dir = '/Users/ineslaranjeira/Documents/Repositories/representation_learning_variability/DATA/GLMHMM/'\n",
    "\n",
    "\"\"\"\n",
    "Create folders to save processed data\n",
    "\"\"\"\n",
    "# Create directories for saving data:\n",
    "processed_ibl_data_path = data_dir + \"data_for_cluster/\" + \"data_by_bin\" + str(bin_num) + \"global_normalization/\"\n",
    "\n",
    "# Create directory for results:\n",
    "results_dir = '../../results/ibl_global_fit/'\n",
    "if not os.path.exists(results_dir):\n",
    "    os.makedirs(results_dir)"
   ]
  },
  {
   "cell_type": "markdown",
   "metadata": {},
   "source": []
  },
  {
   "cell_type": "code",
   "execution_count": 27,
   "metadata": {},
   "outputs": [
    {
     "name": "stderr",
     "output_type": "stream",
     "text": [
      "/home/ines/repositories/ssm/ssm/optimizers.py:146: UserWarning: BFGS failed with message:\n",
      "Desired error not necessarily achieved due to precision loss.\n",
      "  warn(\"{} failed with message:\\n{}\".format(method, result.message))\n",
      "/home/ines/repositories/ssm/ssm/optimizers.py:146: UserWarning: BFGS failed with message:\n",
      "Desired error not necessarily achieved due to precision loss.\n",
      "  warn(\"{} failed with message:\\n{}\".format(method, result.message))\n",
      "/home/ines/repositories/ssm/ssm/optimizers.py:146: UserWarning: BFGS failed with message:\n",
      "Desired error not necessarily achieved due to precision loss.\n",
      "  warn(\"{} failed with message:\\n{}\".format(method, result.message))\n"
     ]
    }
   ],
   "source": [
    "# Fit GLM to all data\n",
    "animal_file = processed_ibl_data_path + 'all_animals_concat.npz'\n",
    "inpt, y, bin_data = load_data(animal_file)\n",
    "bin_fold_lookup_table = load_session_fold_lookup(\n",
    "    processed_ibl_data_path + 'all_animals_concat_session_fold_lookup.npz')\n",
    "\n",
    "for fold in range(num_folds):\n",
    "    # Subset to relevant covariates for covar set of interest:\n",
    "    labels_for_plot = ['stim', 'P_C', 'WSLS', 'bias']\n",
    "    y = y.astype('int')\n",
    "    figure_directory = results_dir + \"GLM/fold_\" + str(fold) + '/'\n",
    "    if not os.path.exists(figure_directory):\n",
    "        os.makedirs(figure_directory)\n",
    "\n",
    "    # Subset to trials of interest for fold\n",
    "\n",
    "    trials_idx = np.arange(len(y))\n",
    "    keep_fold = trials_idx[\n",
    "        np.where(bin_fold_lookup_table != fold)]  # TODO: what is y == -1?\n",
    "\n",
    "\n",
    "    keep_y = [y[id, 0] != -1\n",
    "        for id, binn in enumerate(trials_idx)]\n",
    "    keep_y = trials_idx[keep_y]\n",
    "    idx_to_keep = np.sort(np.intersect1d(keep_y, keep_fold))\n",
    "    idx_this_fold = trials_idx[idx_to_keep]\n",
    "    \n",
    "    this_inpt, this_y, this_session = inpt[idx_this_fold, :], \\\n",
    "                                        y[idx_this_fold, :], \\\n",
    "                                        bin_data[idx_this_fold]    \n",
    " \n",
    "    \n",
    "    assert len(\n",
    "        np.unique(this_y)\n",
    "    ) == 2, \"choice vector should only include 2 possible values\"\n",
    "    train_size = this_inpt.shape[0]\n",
    "\n",
    "    M = this_inpt.shape[1]\n",
    "    loglikelihood_train_vector = []\n",
    "\n",
    "    for iter in range(N_initializations):  # GLM fitting should be\n",
    "        # independent of initialization, so fitting multiple\n",
    "        # initializations is a good way to check that everything is\n",
    "        # working correctly\n",
    "        loglikelihood_train, recovered_weights = fit_glm([this_inpt],\n",
    "                                                            [this_y], M, C)\n",
    "        weights_for_plotting = append_zeros(recovered_weights)\n",
    "        #plot_input_vectors(weights_for_plotting,\n",
    "        #                    figure_directory,\n",
    "        #                    title=\"GLM fit; Final LL = \" +\n",
    "        #                    str(loglikelihood_train),\n",
    "        #                    save_title='init' + str(iter),\n",
    "        #                    labels_for_plot=labels_for_plot)\n",
    "        loglikelihood_train_vector.append(loglikelihood_train)\n",
    "        np.savez(\n",
    "            figure_directory + 'variables_of_interest_iter_' + str(iter) +\n",
    "            '.npz', loglikelihood_train, recovered_weights)\n"
   ]
  },
  {
   "cell_type": "code",
   "execution_count": null,
   "metadata": {},
   "outputs": [],
   "source": []
  }
 ],
 "metadata": {
  "kernelspec": {
   "display_name": "py39_2",
   "language": "python",
   "name": "python3"
  },
  "language_info": {
   "codemirror_mode": {
    "name": "ipython",
    "version": 3
   },
   "file_extension": ".py",
   "mimetype": "text/x-python",
   "name": "python",
   "nbconvert_exporter": "python",
   "pygments_lexer": "ipython3",
   "version": "3.9.16"
  },
  "orig_nbformat": 4,
  "vscode": {
   "interpreter": {
    "hash": "1f853f8609685127ea8e72dcad05addc0055bbd53b34efe8106300d089c6b555"
   }
  }
 },
 "nbformat": 4,
 "nbformat_minor": 2
}
