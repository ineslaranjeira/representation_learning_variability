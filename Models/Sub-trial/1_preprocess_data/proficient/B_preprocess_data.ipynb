{
 "cells": [
  {
   "cell_type": "code",
   "execution_count": 1,
   "metadata": {},
   "outputs": [],
   "source": [
    "\"\"\" \n",
    "IMPORTS\n",
    "\"\"\"\n",
    "import os\n",
    "import autograd.numpy as np\n",
    "import pickle\n",
    "\n",
    "from one.api import ONE\n",
    "from pprint import pprint\n",
    "import matplotlib.pyplot as plt\n",
    "import concurrent.futures\n",
    "\n",
    "# Get my functions\n",
    "functions_path =  '/home/ines/repositories/representation_learning_variability/Models/Sub-trial//2_fit_models/'\n",
    "#functions_path = '/Users/ineslaranjeira/Documents/Repositories/representation_learning_variability//Models/Sub-trial//2_fit_models/'\n",
    "os.chdir(functions_path)\n",
    "from preprocessing_functions import idxs_from_files_pre_custom_qc, idxs_from_files, prepro_design_matrix, concatenate_sessions\n",
    "\n",
    "one = ONE(mode=\"remote\")"
   ]
  },
  {
   "cell_type": "markdown",
   "metadata": {},
   "source": [
    "## Parameters"
   ]
  },
  {
   "cell_type": "code",
   "execution_count": 2,
   "metadata": {},
   "outputs": [],
   "source": [
    "bin_size = 0.1\n",
    "# bin_size = 0.02\n",
    "\n",
    "# Plotting params\n",
    "multiplier = 1/bin_size\n",
    "\n",
    "event_type_list = ['goCueTrigger_times']  # , 'feedback_times', 'firstMovement_times'\n",
    "event_type_name = ['Go cue']  # , 'Feedback time', 'First movement onset'\n"
   ]
  },
  {
   "cell_type": "code",
   "execution_count": 3,
   "metadata": {},
   "outputs": [],
   "source": [
    "data_path_v1 =  '/home/ines/repositories/representation_learning_variability/DATA/Sub-trial/Design matrix/' + 'v1/' + str(bin_size) + '/'\n",
    "data_path_v2 =  '/home/ines/repositories/representation_learning_variability/DATA/Sub-trial/Design matrix/' + 'v2_3Nov2023/' + str(bin_size) + '/'\n",
    "#data_path_v2 =  '/Users/ineslaranjeira/Documents/Repositories/representation_learning_variability/DATA/Sub-trial/Design matrix/' + 'v2_3Nov2023/' + str(bin_size) + '/'\n",
    "data_path_v3 =  '/home/ines/repositories/representation_learning_variability/DATA/Sub-trial/Design matrix/' + 'v3_1Jul2024/' + str(bin_size) + '/'\n",
    "data_path_v4 =  '/home/ines/repositories/representation_learning_variability/DATA/Sub-trial/Design matrix/' + 'v4_5Jul2024/' + str(bin_size) + '/'\n",
    "# data_path_v4 =  '/home/ines/repositories/representation_learning_variability/DATA/Sub-trial/Design matrix/' + 'v4_21oct2024/' + str(bin_size) + '/'\n",
    "data_path_v4 =  '/home/ines/repositories/representation_learning_variability/DATA/Sub-trial/Design matrix/' + 'v4_9Dec2024/' + str(bin_size) + '/'\n",
    "\n",
    "data_path = data_path_v4\n",
    "\n",
    "os.chdir(data_path)\n",
    "design_matrices = os.listdir(data_path)\n",
    "\n",
    "if data_path == data_path_v1:\n",
    "       var_names = ['avg_wheel_vel', 'pupil_diameter',\n",
    "              'whisker_me', 'nose_speed_X', 'nose_speed_Y', \n",
    "              'l_paw_speed_X', 'l_paw_speed_Y', 'pupil_speed_X',\n",
    "              'pupil_speed_Y', 'Gaussian_licks']\n",
    "elif data_path == data_path_v2:\n",
    "       var_names = ['avg_wheel_vel', 'pupil_diameter',\n",
    "              'whisker_me', 'nose_speed', 'l_paw_speed', 'left_X', 'left_Y',\n",
    "              'pupil_speed', 'pupil_X', 'pupil_Y', 'Lick count']\n",
    "       # var_names = ['avg_wheel_vel', 'whisker_me']\n",
    "       var_names = ['avg_wheel_vel']\n",
    "elif data_path == data_path_v3:\n",
    "       var_names = [ 'wheel_final', 'Lick count', 'pupil_diameter', 'whisker_me',\n",
    "       'left_X', 'left_Y', 'pupil_X', 'pupil_Y', 'nose_X', 'nose_Y']\n",
    "       var_names = ['Lick count']\n",
    "elif data_path == data_path_v4:\n",
    "       var_names = ['nose_X', 'nose_Y']\n",
    "       # var_names = ['right_X', 'right_Y']\n",
    "       var_names = ['avg_wheel_vel']\n",
    "       var_names = ['avg_wheel_vel', 'whisker_me', 'Lick count']\n",
    "       \n"
   ]
  },
  {
   "cell_type": "code",
   "execution_count": 16,
   "metadata": {},
   "outputs": [
    {
     "name": "stderr",
     "output_type": "stream",
     "text": [
      "local md5 mismatch on dataset: churchlandlab/Subjects/CSHL049/2020-01-11/001/alf/_ibl_trials.stimOff_times.npy\n"
     ]
    },
    {
     "name": "stdout",
     "output_type": "stream",
     "text": [
      "Downloading: /home/ines/Downloads/ONE/alyx.internationalbrainlab.org/churchlandlab/Subjects/CSHL049/2020-01-11/001/alf/_ibl_trials.stimOff_times.c07b94b4-18c6-4940-9bd6-9661f4ae5ceb.npy Bytes: 4600\n"
     ]
    },
    {
     "name": "stderr",
     "output_type": "stream",
     "text": [
      "100%|██████████| 0.00438690185546875/0.00438690185546875 [00:00<00:00,  1.53s/it]\n"
     ]
    },
    {
     "name": "stdout",
     "output_type": "stream",
     "text": [
      "78b4fff5-c5ec-44d9-b5f9-d59493063f00\n",
      "1b61b7f2-a599-4e40-abd6-3e758d2c9e25\n"
     ]
    }
   ],
   "source": [
    "pre_custom_qc = False\n",
    "first_90 = False\n",
    "\n",
    "if pre_custom_qc:\n",
    "       # Load frame rate\n",
    "       fr_path =  '/home/ines/repositories/representation_learning_variability/DATA/Sub-trial/Design matrix/frame_rate/'\n",
    "       os.chdir(fr_path)\n",
    "       frame_rate = pickle.load(open(fr_path + \"frame_rate\", \"rb\"))\n",
    "       \n",
    "       # use_vars = ['avg_wheel_vel', 'Lick count', 'whisker_me',\n",
    "       #        'left_X', 'left_Y', 'right_X', 'right_Y', 'nose_X', 'nose_Y']\n",
    "       idxs, mouse_names = idxs_from_files_pre_custom_qc(one, design_matrices, frame_rate, data_path, bin_size)\n",
    "       matrix_all, matrix_all_unnorm, session_all = prepro_design_matrix(one, idxs, mouse_names, \n",
    "                                                                      bin_size, var_names, data_path, first_90)\n",
    "else:\n",
    "       idxs, mouse_names = idxs_from_files(design_matrices, bin_size)\n",
    "       matrix_all, matrix_all_unnorm, session_all = prepro_design_matrix(one, idxs, mouse_names, \n",
    "                                                                      bin_size, var_names, data_path, first_90)\n",
    "\n",
    "\n",
    "# Save\n",
    "to_save = idxs, mouse_names, matrix_all, matrix_all_unnorm, session_all\n",
    "\n",
    "# Save most_likely_states\n",
    "prepro_results_path =  '/home/ines/repositories/representation_learning_variability/DATA/Sub-trial/Results/' + str(bin_size) + '/'\n",
    "os.chdir(prepro_results_path)\n",
    "pickle.dump(to_save, open(\"preprocessed_data_v4_171224_alltrials\", \"wb\"))   "
   ]
  },
  {
   "cell_type": "code",
   "execution_count": null,
   "metadata": {},
   "outputs": [],
   "source": []
  }
 ],
 "metadata": {
  "kernelspec": {
   "display_name": "iblenv",
   "language": "python",
   "name": "python3"
  },
  "language_info": {
   "codemirror_mode": {
    "name": "ipython",
    "version": 3
   },
   "file_extension": ".py",
   "mimetype": "text/x-python",
   "name": "python",
   "nbconvert_exporter": "python",
   "pygments_lexer": "ipython3",
   "version": "3.9.15"
  },
  "orig_nbformat": 4,
  "vscode": {
   "interpreter": {
    "hash": "21541729b5da47a594818561e91cb4175a7e192d68b7cc4221509f43b2f902b5"
   }
  }
 },
 "nbformat": 4,
 "nbformat_minor": 2
}
