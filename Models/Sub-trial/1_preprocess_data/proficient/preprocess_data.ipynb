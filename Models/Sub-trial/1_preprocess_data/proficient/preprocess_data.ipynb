{
 "cells": [
  {
   "cell_type": "code",
   "execution_count": 1,
   "metadata": {},
   "outputs": [],
   "source": [
    "\"\"\" \n",
    "IMPORTS\n",
    "\"\"\"\n",
    "import os\n",
    "import autograd.numpy as np\n",
    "import pickle\n",
    "\n",
    "from one.api import ONE\n",
    "from pprint import pprint\n",
    "import matplotlib.pyplot as plt\n",
    "import concurrent.futures\n",
    "\n",
    "# Get my functions\n",
    "functions_path =  '/home/ines/repositories/representation_learning_variability/Models/Sub-trial//2_fit_models/'\n",
    "#functions_path = '/Users/ineslaranjeira/Documents/Repositories/representation_learning_variability//Models/Sub-trial//2_fit_models/'\n",
    "os.chdir(functions_path)\n",
    "from preprocessing_functions import idxs_from_files, prepro_design_matrix, concatenate_sessions\n",
    "\n",
    "one = ONE(mode=\"remote\")"
   ]
  },
  {
   "cell_type": "markdown",
   "metadata": {},
   "source": [
    "## Parameters"
   ]
  },
  {
   "cell_type": "code",
   "execution_count": 2,
   "metadata": {},
   "outputs": [],
   "source": [
    "bin_size = 0.1\n",
    "# bin_size = 0.02\n",
    "\n",
    "# Plotting params\n",
    "multiplier = 1/bin_size\n",
    "\n",
    "event_type_list = ['goCueTrigger_times']  # , 'feedback_times', 'firstMovement_times'\n",
    "event_type_name = ['Go cue']  # , 'Feedback time', 'First movement onset'\n"
   ]
  },
  {
   "cell_type": "code",
   "execution_count": 3,
   "metadata": {},
   "outputs": [],
   "source": [
    "data_path_v1 =  '/home/ines/repositories/representation_learning_variability/DATA/Sub-trial/Design matrix/' + 'v1/' + str(bin_size) + '/'\n",
    "data_path_v2 =  '/home/ines/repositories/representation_learning_variability/DATA/Sub-trial/Design matrix/' + 'v2_3Nov2023/' + str(bin_size) + '/'\n",
    "#data_path_v2 =  '/Users/ineslaranjeira/Documents/Repositories/representation_learning_variability/DATA/Sub-trial/Design matrix/' + 'v2_3Nov2023/' + str(bin_size) + '/'\n",
    "data_path_v3 =  '/home/ines/repositories/representation_learning_variability/DATA/Sub-trial/Design matrix/' + 'v3_1Jul2024/' + str(bin_size) + '/'\n",
    "data_path_v4 =  '/home/ines/repositories/representation_learning_variability/DATA/Sub-trial/Design matrix/' + 'v4_5Jul2024/' + str(bin_size) + '/'\n",
    "\n",
    "data_path = data_path_v4\n",
    "\n",
    "os.chdir(data_path)\n",
    "design_matrices = os.listdir(data_path)\n",
    "\n",
    "if data_path == data_path_v1:\n",
    "       var_names = ['avg_wheel_vel', 'pupil_diameter',\n",
    "              'whisker_me', 'nose_speed_X', 'nose_speed_Y', \n",
    "              'l_paw_speed_X', 'l_paw_speed_Y', 'pupil_speed_X',\n",
    "              'pupil_speed_Y', 'Gaussian_licks']\n",
    "elif data_path == data_path_v2:\n",
    "       var_names = ['avg_wheel_vel', 'pupil_diameter',\n",
    "              'whisker_me', 'nose_speed', 'l_paw_speed', 'left_X', 'left_Y',\n",
    "              'pupil_speed', 'pupil_X', 'pupil_Y', 'Lick count']\n",
    "       # var_names = ['avg_wheel_vel', 'whisker_me']\n",
    "       var_names = ['avg_wheel_vel']\n",
    "elif data_path == data_path_v3:\n",
    "       var_names = [ 'wheel_final', 'Lick count', 'pupil_diameter', 'whisker_me',\n",
    "       'left_X', 'left_Y', 'pupil_X', 'pupil_Y', 'nose_X', 'nose_Y']\n",
    "       var_names = ['Lick count']\n",
    "elif data_path == data_path_v4:\n",
    "       var_names = ['nose_X', 'nose_Y']\n",
    "       # var_names = ['right_X', 'right_Y']\n",
    "       var_names = ['avg_wheel_vel']\n",
    "       \n",
    "# Load frame rate\n",
    "fr_path =  '/home/ines/repositories/representation_learning_variability/DATA/Sub-trial/Design matrix/frame_rate/'\n",
    "os.chdir(fr_path)\n",
    "frame_rate = pickle.load(open(fr_path + \"frame_rate\", \"rb\"))"
   ]
  },
  {
   "cell_type": "code",
   "execution_count": 4,
   "metadata": {},
   "outputs": [
    {
     "name": "stderr",
     "output_type": "stream",
     "text": [
      "local md5 mismatch on dataset: churchlandlab/Subjects/CSHL049/2020-01-11/001/alf/_ibl_trials.stimOff_times.npy\n"
     ]
    },
    {
     "name": "stdout",
     "output_type": "stream",
     "text": [
      "Downloading: /home/ines/Downloads/ONE/alyx.internationalbrainlab.org/churchlandlab/Subjects/CSHL049/2020-01-11/001/alf/_ibl_trials.stimOff_times.c07b94b4-18c6-4940-9bd6-9661f4ae5ceb.npy Bytes: 4600\n"
     ]
    },
    {
     "name": "stderr",
     "output_type": "stream",
     "text": [
      "100%|██████████| 0.00438690185546875/0.00438690185546875 [00:00<00:00,  1.63s/it]\n",
      "local md5 mismatch on dataset: cortexlab/Subjects/KS023/2019-12-10/001/alf/_ibl_trials.goCueTrigger_times.npy\n"
     ]
    },
    {
     "name": "stdout",
     "output_type": "stream",
     "text": [
      "Downloading: /home/ines/Downloads/ONE/alyx.internationalbrainlab.org/cortexlab/Subjects/KS023/2019-12-10/001/alf/_ibl_trials.goCueTrigger_times.16c81eaf-a032-49cd-9823-09c0c7350fd2.npy Bytes: 5256\n"
     ]
    },
    {
     "name": "stderr",
     "output_type": "stream",
     "text": [
      "100%|██████████| 0.00501251220703125/0.00501251220703125 [00:00<00:00,  1.64s/it]\n",
      "local md5 mismatch on dataset: cortexlab/Subjects/KS023/2019-12-08/001/alf/_ibl_trials.goCueTrigger_times.npy\n"
     ]
    },
    {
     "name": "stdout",
     "output_type": "stream",
     "text": [
      "Downloading: /home/ines/Downloads/ONE/alyx.internationalbrainlab.org/cortexlab/Subjects/KS023/2019-12-08/001/alf/_ibl_trials.goCueTrigger_times.60917ccf-cc92-4430-9006-81ee13118d9d.npy Bytes: 6528\n"
     ]
    },
    {
     "name": "stderr",
     "output_type": "stream",
     "text": [
      "100%|██████████| 0.0062255859375/0.0062255859375 [00:00<00:00,  1.61it/s]\n"
     ]
    },
    {
     "name": "stdout",
     "output_type": "stream",
     "text": [
      "Downloading: /home/ines/Downloads/ONE/alyx.internationalbrainlab.org/churchlandlab_ucla/Subjects/UCLA033/2022-02-15/001/alf/#2024-07-15#/_ibl_trials.table.9ab30eb3-78da-4454-bcfe-c4f413bde0d8.pqt Bytes: 58076\n"
     ]
    },
    {
     "name": "stderr",
     "output_type": "stream",
     "text": [
      "  0%|          | 0/0.055385589599609375 [00:00<?, ?it/s]"
     ]
    },
    {
     "name": "stdout",
     "output_type": "stream",
     "text": [
      "Downloading: /home/ines/Downloads/ONE/alyx.internationalbrainlab.org/churchlandlab_ucla/Subjects/UCLA033/2022-02-15/001/alf/#2024-07-15#/_ibl_trials.stimOff_times.e2d60c79-793c-4d8f-906e-15f782f2194e.npy Bytes: 5920\n",
      "Downloading: /home/ines/Downloads/ONE/alyx.internationalbrainlab.org/churchlandlab_ucla/Subjects/UCLA033/2022-02-15/001/alf/#2024-07-15#/_ibl_trials.stimOnTrigger_times.f62b519f-ee64-4288-9e0e-a87dc1802549.npy Bytes: 5920\n",
      "Downloading: /home/ines/Downloads/ONE/alyx.internationalbrainlab.org/churchlandlab_ucla/Subjects/UCLA033/2022-02-15/001/alf/#2024-07-15#/_ibl_trials.stimOffTrigger_times.0a8d448d-f336-447f-b7a1-d39c922357a6.npy Bytes: 5920\n"
     ]
    },
    {
     "name": "stderr",
     "output_type": "stream",
     "text": [
      "\n",
      "\n",
      "\u001b[A\u001b[A\n",
      "100%|██████████| 0.005645751953125/0.005645751953125 [00:00<00:00,  2.61s/it]\n",
      "100%|██████████| 0.005645751953125/0.005645751953125 [00:00<00:00,  1.62s/it]\n",
      "100%|██████████| 0.005645751953125/0.005645751953125 [00:00<00:00,  1.04it/s]\n",
      "100%|██████████| 0.055385589599609375/0.055385589599609375 [00:00<00:00,  5.67s/it]\n",
      "local md5 mismatch on dataset: cortexlab/Subjects/KS023/2019-12-06/001/alf/_ibl_trials.goCueTrigger_times.npy\n"
     ]
    },
    {
     "name": "stdout",
     "output_type": "stream",
     "text": [
      "Downloading: /home/ines/Downloads/ONE/alyx.internationalbrainlab.org/cortexlab/Subjects/KS023/2019-12-06/001/alf/_ibl_trials.goCueTrigger_times.624b4901-d15f-40b4-97af-f9f72d74a51c.npy Bytes: 5352\n"
     ]
    },
    {
     "name": "stderr",
     "output_type": "stream",
     "text": [
      "100%|██████████| 0.00510406494140625/0.00510406494140625 [00:00<00:00,  4.76it/s]\n",
      "local md5 mismatch on dataset: cortexlab/Subjects/KS014/2019-12-03/001/alf/_ibl_trials.goCueTrigger_times.npy\n"
     ]
    },
    {
     "name": "stdout",
     "output_type": "stream",
     "text": [
      "Downloading: /home/ines/Downloads/ONE/alyx.internationalbrainlab.org/cortexlab/Subjects/KS014/2019-12-03/001/alf/_ibl_trials.goCueTrigger_times.1914cfdd-0a05-437a-a7b4-867ad6a98f95.npy Bytes: 4376\n"
     ]
    },
    {
     "name": "stderr",
     "output_type": "stream",
     "text": [
      "100%|██████████| 0.00417327880859375/0.00417327880859375 [00:00<00:00,  1.22it/s]\n",
      "local md5 mismatch on dataset: cortexlab/Subjects/KS014/2019-12-07/001/alf/_ibl_trials.goCueTrigger_times.npy\n"
     ]
    },
    {
     "name": "stdout",
     "output_type": "stream",
     "text": [
      "Downloading: /home/ines/Downloads/ONE/alyx.internationalbrainlab.org/cortexlab/Subjects/KS014/2019-12-07/001/alf/_ibl_trials.goCueTrigger_times.bc2892ec-a74f-4697-ab1f-42ccf0a00443.npy Bytes: 5384\n"
     ]
    },
    {
     "name": "stderr",
     "output_type": "stream",
     "text": [
      "100%|██████████| 0.00513458251953125/0.00513458251953125 [00:00<00:00,  1.51it/s]\n",
      "local md5 mismatch on dataset: churchlandlab/Subjects/CSHL049/2020-01-11/001/alf/_ibl_trials.stimOff_times.npy\n"
     ]
    },
    {
     "name": "stdout",
     "output_type": "stream",
     "text": [
      "Downloading: /home/ines/Downloads/ONE/alyx.internationalbrainlab.org/churchlandlab/Subjects/CSHL049/2020-01-11/001/alf/_ibl_trials.stimOff_times.c07b94b4-18c6-4940-9bd6-9661f4ae5ceb.npy Bytes: 4600\n"
     ]
    },
    {
     "name": "stderr",
     "output_type": "stream",
     "text": [
      "100%|██████████| 0.00438690185546875/0.00438690185546875 [00:00<00:00,  1.11it/s]\n",
      "local md5 mismatch on dataset: cortexlab/Subjects/KS023/2019-12-10/001/alf/_ibl_trials.goCueTrigger_times.npy\n"
     ]
    },
    {
     "name": "stdout",
     "output_type": "stream",
     "text": [
      "Downloading: /home/ines/Downloads/ONE/alyx.internationalbrainlab.org/cortexlab/Subjects/KS023/2019-12-10/001/alf/_ibl_trials.goCueTrigger_times.16c81eaf-a032-49cd-9823-09c0c7350fd2.npy Bytes: 5256\n"
     ]
    },
    {
     "name": "stderr",
     "output_type": "stream",
     "text": [
      "100%|██████████| 0.00501251220703125/0.00501251220703125 [00:00<00:00,  1.26it/s]\n",
      "local md5 mismatch on dataset: cortexlab/Subjects/KS023/2019-12-06/001/alf/_ibl_trials.goCueTrigger_times.npy\n"
     ]
    },
    {
     "name": "stdout",
     "output_type": "stream",
     "text": [
      "Downloading: /home/ines/Downloads/ONE/alyx.internationalbrainlab.org/cortexlab/Subjects/KS023/2019-12-06/001/alf/_ibl_trials.goCueTrigger_times.624b4901-d15f-40b4-97af-f9f72d74a51c.npy Bytes: 5352\n"
     ]
    },
    {
     "name": "stderr",
     "output_type": "stream",
     "text": [
      "100%|██████████| 0.00510406494140625/0.00510406494140625 [00:00<00:00,  1.27it/s]\n",
      "local md5 mismatch on dataset: cortexlab/Subjects/KS014/2019-12-03/001/alf/_ibl_trials.goCueTrigger_times.npy\n"
     ]
    },
    {
     "name": "stdout",
     "output_type": "stream",
     "text": [
      "Downloading: /home/ines/Downloads/ONE/alyx.internationalbrainlab.org/cortexlab/Subjects/KS014/2019-12-03/001/alf/_ibl_trials.goCueTrigger_times.1914cfdd-0a05-437a-a7b4-867ad6a98f95.npy Bytes: 4376\n"
     ]
    },
    {
     "name": "stderr",
     "output_type": "stream",
     "text": [
      "100%|██████████| 0.00417327880859375/0.00417327880859375 [00:00<00:00,  1.06s/it]\n",
      "local md5 mismatch on dataset: cortexlab/Subjects/KS014/2019-12-07/001/alf/_ibl_trials.goCueTrigger_times.npy\n"
     ]
    },
    {
     "name": "stdout",
     "output_type": "stream",
     "text": [
      "Downloading: /home/ines/Downloads/ONE/alyx.internationalbrainlab.org/cortexlab/Subjects/KS014/2019-12-07/001/alf/_ibl_trials.goCueTrigger_times.bc2892ec-a74f-4697-ab1f-42ccf0a00443.npy Bytes: 5384\n"
     ]
    },
    {
     "name": "stderr",
     "output_type": "stream",
     "text": [
      "100%|██████████| 0.00513458251953125/0.00513458251953125 [00:00<00:00,  3.51it/s]\n"
     ]
    }
   ],
   "source": [
    "use_vars = ['avg_wheel_vel', 'Lick count', 'whisker_me',\n",
    "       'left_X', 'left_Y', 'right_X', 'right_Y', 'nose_X', 'nose_Y']\n",
    "idxs, mouse_names = idxs_from_files(one, design_matrices, frame_rate, data_path, bin_size)\n",
    "matrix_all, matrix_all_unnorm, session_all = prepro_design_matrix(one, idxs, mouse_names, \n",
    "                                                                  bin_size, use_vars, data_path, first_90=True)\n",
    "\n",
    "# Save\n",
    "to_save = idxs, mouse_names, matrix_all, matrix_all_unnorm, session_all\n",
    "\n",
    "# Save most_likely_states\n",
    "prepro_results_path =  '/home/ines/repositories/representation_learning_variability/DATA/Sub-trial/Results/' + str(bin_size) + '/'\n",
    "os.chdir(prepro_results_path)\n",
    "pickle.dump(to_save, open(\"preprocessed_data_v4_170724\", \"wb\"))   "
   ]
  },
  {
   "cell_type": "code",
   "execution_count": null,
   "metadata": {},
   "outputs": [],
   "source": []
  }
 ],
 "metadata": {
  "kernelspec": {
   "display_name": "iblenv",
   "language": "python",
   "name": "python3"
  },
  "language_info": {
   "codemirror_mode": {
    "name": "ipython",
    "version": 3
   },
   "file_extension": ".py",
   "mimetype": "text/x-python",
   "name": "python",
   "nbconvert_exporter": "python",
   "pygments_lexer": "ipython3",
   "version": "3.9.15"
  },
  "orig_nbformat": 4,
  "vscode": {
   "interpreter": {
    "hash": "21541729b5da47a594818561e91cb4175a7e192d68b7cc4221509f43b2f902b5"
   }
  }
 },
 "nbformat": 4,
 "nbformat_minor": 2
}
