{
 "cells": [
  {
   "cell_type": "code",
   "execution_count": null,
   "metadata": {},
   "outputs": [],
   "source": [
    "\"\"\" \n",
    "IMPORTS\n",
    "\"\"\"\n",
    "import os\n",
    "import autograd.numpy as np\n",
    "import pickle\n",
    "\n",
    "from one.api import ONE\n",
    "from pprint import pprint\n",
    "import matplotlib.pyplot as plt\n",
    "import concurrent.futures\n",
    "\n",
    "# Get my functions\n",
    "functions_path =  '/home/ines/repositories/representation_learning_variability/Models/Sub-trial//2_fit_models/'\n",
    "#functions_path = '/Users/ineslaranjeira/Documents/Repositories/representation_learning_variability//Models/Sub-trial//2_fit_models/'\n",
    "os.chdir(functions_path)\n",
    "from preprocessing_functions import idxs_from_files, prepro_design_matrix, concatenate_sessions\n",
    "\n",
    "one = ONE(mode=\"remote\")"
   ]
  },
  {
   "cell_type": "markdown",
   "metadata": {},
   "source": [
    "## Parameters"
   ]
  },
  {
   "cell_type": "code",
   "execution_count": null,
   "metadata": {},
   "outputs": [],
   "source": [
    "bin_size = 0.1\n",
    "bin_size = 0.02\n",
    "\n",
    "# Plotting params\n",
    "multiplier = 1/bin_size\n",
    "\n",
    "event_type_list = ['goCueTrigger_times']  # , 'feedback_times', 'firstMovement_times'\n",
    "event_type_name = ['Go cue']  # , 'Feedback time', 'First movement onset'\n"
   ]
  },
  {
   "cell_type": "code",
   "execution_count": null,
   "metadata": {},
   "outputs": [],
   "source": [
    "data_path_v1 =  '/home/ines/repositories/representation_learning_variability/DATA/Sub-trial/Design matrix/' + 'v1/' + str(bin_size) + '/'\n",
    "data_path_v2 =  '/home/ines/repositories/representation_learning_variability/DATA/Sub-trial/Design matrix/' + 'v2_3Nov2023/' + str(bin_size) + '/'\n",
    "#data_path_v2 =  '/Users/ineslaranjeira/Documents/Repositories/representation_learning_variability/DATA/Sub-trial/Design matrix/' + 'v2_3Nov2023/' + str(bin_size) + '/'\n",
    "data_path_v3 =  '/home/ines/repositories/representation_learning_variability/DATA/Sub-trial/Design matrix/' + 'v3_1Jul2024/' + str(bin_size) + '/'\n",
    "data_path_v4 =  '/home/ines/repositories/representation_learning_variability/DATA/Sub-trial/Design matrix/' + 'v4_5Jul2024/' + str(bin_size) + '/'\n",
    "\n",
    "data_path = data_path_v4\n",
    "\n",
    "os.chdir(data_path)\n",
    "design_matrices = os.listdir(data_path)\n",
    "\n",
    "if data_path == data_path_v1:\n",
    "       var_names = ['avg_wheel_vel', 'pupil_diameter',\n",
    "              'whisker_me', 'nose_speed_X', 'nose_speed_Y', \n",
    "              'l_paw_speed_X', 'l_paw_speed_Y', 'pupil_speed_X',\n",
    "              'pupil_speed_Y', 'Gaussian_licks']\n",
    "elif data_path == data_path_v2:\n",
    "       var_names = ['avg_wheel_vel', 'pupil_diameter',\n",
    "              'whisker_me', 'nose_speed', 'l_paw_speed', 'left_X', 'left_Y',\n",
    "              'pupil_speed', 'pupil_X', 'pupil_Y', 'Lick count']\n",
    "       # var_names = ['avg_wheel_vel', 'whisker_me']\n",
    "       var_names = ['avg_wheel_vel']\n",
    "elif data_path == data_path_v3:\n",
    "       var_names = [ 'wheel_final', 'Lick count', 'pupil_diameter', 'whisker_me',\n",
    "       'left_X', 'left_Y', 'pupil_X', 'pupil_Y', 'nose_X', 'nose_Y']\n",
    "       var_names = ['Lick count']\n",
    "elif data_path == data_path_v4:\n",
    "       var_names = ['nose_X', 'nose_Y']\n",
    "       # var_names = ['right_X', 'right_Y']\n",
    "       var_names = ['avg_wheel_vel']\n",
    "       \n",
    "# Load frame rate\n",
    "fr_path =  '/home/ines/repositories/representation_learning_variability/DATA/Sub-trial/Design matrix/frame_rate/'\n",
    "os.chdir(fr_path)\n",
    "frame_rate = pickle.load(open(fr_path + \"frame_rate\", \"rb\"))"
   ]
  },
  {
   "cell_type": "code",
   "execution_count": null,
   "metadata": {},
   "outputs": [],
   "source": [
    "use_vars = ['avg_wheel_vel', 'Lick count', 'whisker_me',\n",
    "       'left_X', 'left_Y', 'right_X', 'right_Y', 'nose_X', 'nose_Y']\n",
    "idxs, mouse_names = idxs_from_files(one, design_matrices, frame_rate, data_path, bin_size)\n",
    "matrix_all, matrix_all_unnorm, session_all = prepro_design_matrix(one, idxs, mouse_names, \n",
    "                                                                  bin_size, use_vars, data_path, first_90=True)\n",
    "\n",
    "# Save\n",
    "to_save = idxs, mouse_names, matrix_all, matrix_all_unnorm, session_all\n",
    "\n",
    "# Save most_likely_states\n",
    "prepro_results_path =  '/home/ines/repositories/representation_learning_variability/DATA/Sub-trial/Results/' + str(bin_size) + '/'\n",
    "os.chdir(prepro_results_path)\n",
    "pickle.dump(to_save, open(\"preprocessed_data_v4_170724\", \"wb\"))   "
   ]
  }
 ],
 "metadata": {
  "kernelspec": {
   "display_name": "glmhmm",
   "language": "python",
   "name": "python3"
  },
  "language_info": {
   "name": "python",
   "version": "3.7.6"
  },
  "orig_nbformat": 4,
  "vscode": {
   "interpreter": {
    "hash": "e0570267f7605a5796a6c6283f704801f1f25a3a6f849e378a7aefdb53302a15"
   }
  }
 },
 "nbformat": 4,
 "nbformat_minor": 2
}
