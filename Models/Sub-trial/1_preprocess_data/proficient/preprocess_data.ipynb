{
 "cells": [
  {
   "cell_type": "code",
   "execution_count": 1,
   "metadata": {},
   "outputs": [],
   "source": [
    "\"\"\" \n",
    "IMPORTS\n",
    "\"\"\"\n",
    "import os\n",
    "import autograd.numpy as np\n",
    "import pickle\n",
    "\n",
    "from one.api import ONE\n",
    "from pprint import pprint\n",
    "import matplotlib.pyplot as plt\n",
    "import concurrent.futures\n",
    "\n",
    "# Get my functions\n",
    "functions_path =  '/home/ines/repositories/representation_learning_variability/Models/Sub-trial//2_fit_models/'\n",
    "#functions_path = '/Users/ineslaranjeira/Documents/Repositories/representation_learning_variability//Models/Sub-trial//2_fit_models/'\n",
    "os.chdir(functions_path)\n",
    "from preprocessing_functions import idxs_from_files, prepro_design_matrix, concatenate_sessions\n",
    "\n",
    "one = ONE(mode=\"remote\")"
   ]
  },
  {
   "cell_type": "markdown",
   "metadata": {},
   "source": [
    "## Parameters"
   ]
  },
  {
   "cell_type": "code",
   "execution_count": 2,
   "metadata": {},
   "outputs": [],
   "source": [
    "bin_size = 0.1\n",
    "# bin_size = 0.02\n",
    "\n",
    "# Plotting params\n",
    "multiplier = 1/bin_size\n",
    "\n",
    "event_type_list = ['goCueTrigger_times']  # , 'feedback_times', 'firstMovement_times'\n",
    "event_type_name = ['Go cue']  # , 'Feedback time', 'First movement onset'\n"
   ]
  },
  {
   "cell_type": "code",
   "execution_count": 4,
   "metadata": {},
   "outputs": [],
   "source": [
    "data_path_v1 =  '/home/ines/repositories/representation_learning_variability/DATA/Sub-trial/Design matrix/' + 'v1/' + str(bin_size) + '/'\n",
    "data_path_v2 =  '/home/ines/repositories/representation_learning_variability/DATA/Sub-trial/Design matrix/' + 'v2_3Nov2023/' + str(bin_size) + '/'\n",
    "#data_path_v2 =  '/Users/ineslaranjeira/Documents/Repositories/representation_learning_variability/DATA/Sub-trial/Design matrix/' + 'v2_3Nov2023/' + str(bin_size) + '/'\n",
    "data_path_v3 =  '/home/ines/repositories/representation_learning_variability/DATA/Sub-trial/Design matrix/' + 'v3_1Jul2024/' + str(bin_size) + '/'\n",
    "data_path_v4 =  '/home/ines/repositories/representation_learning_variability/DATA/Sub-trial/Design matrix/' + 'v4_5Jul2024/' + str(bin_size) + '/'\n",
    "# data_path_v4 =  '/home/ines/repositories/representation_learning_variability/DATA/Sub-trial/Design matrix/' + 'v4_21oct2024/' + str(bin_size) + '/'\n",
    "\n",
    "data_path = data_path_v4\n",
    "\n",
    "os.chdir(data_path)\n",
    "design_matrices = os.listdir(data_path)\n",
    "\n",
    "if data_path == data_path_v1:\n",
    "       var_names = ['avg_wheel_vel', 'pupil_diameter',\n",
    "              'whisker_me', 'nose_speed_X', 'nose_speed_Y', \n",
    "              'l_paw_speed_X', 'l_paw_speed_Y', 'pupil_speed_X',\n",
    "              'pupil_speed_Y', 'Gaussian_licks']\n",
    "elif data_path == data_path_v2:\n",
    "       var_names = ['avg_wheel_vel', 'pupil_diameter',\n",
    "              'whisker_me', 'nose_speed', 'l_paw_speed', 'left_X', 'left_Y',\n",
    "              'pupil_speed', 'pupil_X', 'pupil_Y', 'Lick count']\n",
    "       # var_names = ['avg_wheel_vel', 'whisker_me']\n",
    "       var_names = ['avg_wheel_vel']\n",
    "elif data_path == data_path_v3:\n",
    "       var_names = [ 'wheel_final', 'Lick count', 'pupil_diameter', 'whisker_me',\n",
    "       'left_X', 'left_Y', 'pupil_X', 'pupil_Y', 'nose_X', 'nose_Y']\n",
    "       var_names = ['Lick count']\n",
    "elif data_path == data_path_v4:\n",
    "       var_names = ['nose_X', 'nose_Y']\n",
    "       # var_names = ['right_X', 'right_Y']\n",
    "       var_names = ['avg_wheel_vel']\n",
    "       \n",
    "# Load frame rate\n",
    "fr_path =  '/home/ines/repositories/representation_learning_variability/DATA/Sub-trial/Design matrix/frame_rate/'\n",
    "os.chdir(fr_path)\n",
    "frame_rate = pickle.load(open(fr_path + \"frame_rate\", \"rb\"))"
   ]
  },
  {
   "cell_type": "code",
   "execution_count": 5,
   "metadata": {},
   "outputs": [
    {
     "name": "stderr",
     "output_type": "stream",
     "text": [
      "local md5 mismatch on dataset: churchlandlab/Subjects/CSHL049/2020-01-11/001/alf/_ibl_trials.stimOff_times.npy\n"
     ]
    },
    {
     "name": "stdout",
     "output_type": "stream",
     "text": [
      "Downloading: /home/ines/Downloads/ONE/alyx.internationalbrainlab.org/churchlandlab/Subjects/CSHL049/2020-01-11/001/alf/_ibl_trials.stimOff_times.c07b94b4-18c6-4940-9bd6-9661f4ae5ceb.npy Bytes: 4600\n"
     ]
    },
    {
     "name": "stderr",
     "output_type": "stream",
     "text": [
      "100%|██████████| 0.00438690185546875/0.00438690185546875 [00:00<00:00,  1.47it/s]\n",
      "local md5 mismatch on dataset: cortexlab/Subjects/KS023/2019-12-10/001/alf/_ibl_trials.goCueTrigger_times.npy\n"
     ]
    },
    {
     "name": "stdout",
     "output_type": "stream",
     "text": [
      "Downloading: /home/ines/Downloads/ONE/alyx.internationalbrainlab.org/cortexlab/Subjects/KS023/2019-12-10/001/alf/_ibl_trials.goCueTrigger_times.16c81eaf-a032-49cd-9823-09c0c7350fd2.npy Bytes: 5256\n"
     ]
    },
    {
     "name": "stderr",
     "output_type": "stream",
     "text": [
      "100%|██████████| 0.00501251220703125/0.00501251220703125 [00:00<00:00,  3.87it/s]\n"
     ]
    },
    {
     "name": "stdout",
     "output_type": "stream",
     "text": [
      "Downloading: /home/ines/Downloads/ONE/alyx.internationalbrainlab.org/cortexlab/Subjects/KS091/2022-07-04/001/alf/#2024-07-15#/_ibl_trials.table.e549d9d0-9791-4adc-b1b0-0b512e5d99a3.pqt Bytes: 69151\n"
     ]
    },
    {
     "name": "stderr",
     "output_type": "stream",
     "text": [
      "100%|██████████| 0.0659475326538086/0.0659475326538086 [00:00<00:00,  4.86s/it]\n"
     ]
    },
    {
     "name": "stdout",
     "output_type": "stream",
     "text": [
      "Downloading: /home/ines/Downloads/ONE/alyx.internationalbrainlab.org/cortexlab/Subjects/KS091/2022-07-04/001/alf/#2024-07-15#/_ibl_trials.stimOnTrigger_times.17fcd419-b54a-41cc-835e-370dd75a5615.npy Bytes: 7264\n"
     ]
    },
    {
     "name": "stderr",
     "output_type": "stream",
     "text": [
      "100%|██████████| 0.006927490234375/0.006927490234375 [00:00<00:00,  1.88it/s]\n",
      "local md5 mismatch on dataset: cortexlab/Subjects/KS023/2019-12-08/001/alf/_ibl_trials.goCueTrigger_times.npy\n"
     ]
    },
    {
     "name": "stdout",
     "output_type": "stream",
     "text": [
      "Downloading: /home/ines/Downloads/ONE/alyx.internationalbrainlab.org/cortexlab/Subjects/KS023/2019-12-08/001/alf/_ibl_trials.goCueTrigger_times.60917ccf-cc92-4430-9006-81ee13118d9d.npy Bytes: 6528\n"
     ]
    },
    {
     "name": "stderr",
     "output_type": "stream",
     "text": [
      "100%|██████████| 0.0062255859375/0.0062255859375 [00:00<00:00,  2.25it/s]\n"
     ]
    },
    {
     "name": "stdout",
     "output_type": "stream",
     "text": [
      "Downloading: /home/ines/Downloads/ONE/alyx.internationalbrainlab.org/steinmetzlab/Subjects/NR_0020/2022-05-10/001/alf/#2024-07-15#/_ibl_trials.stimOffTrigger_times.41788499-1ad2-4173-9861-cb356de58ac1.npy Bytes: 6312\n",
      "Downloading: /home/ines/Downloads/ONE/alyx.internationalbrainlab.org/steinmetzlab/Subjects/NR_0020/2022-05-10/001/alf/#2024-07-15#/_ibl_trials.stimOnTrigger_times.4c23fb8a-0454-4e79-ba64-08127d18413e.npy Bytes: 6312\n"
     ]
    },
    {
     "name": "stderr",
     "output_type": "stream",
     "text": [
      "100%|██████████| 0.00601959228515625/0.00601959228515625 [00:00<00:00,  2.22s/it]\n",
      "100%|██████████| 0.00601959228515625/0.00601959228515625 [00:00<00:00,  1.05s/it]\n"
     ]
    },
    {
     "name": "stdout",
     "output_type": "stream",
     "text": [
      "Downloading: /home/ines/Downloads/ONE/alyx.internationalbrainlab.org/steinmetzlab/Subjects/NR_0020/2022-05-10/001/alf/#2024-07-15#/_ibl_trials.table.e7556b3c-a1de-4bf3-ae27-a004b9b87823.pqt Bytes: 61291\n",
      "Downloading: /home/ines/Downloads/ONE/alyx.internationalbrainlab.org/steinmetzlab/Subjects/NR_0020/2022-05-10/001/alf/#2024-07-15#/_ibl_trials.stimOff_times.13512e8f-8b16-4fac-8615-ac7755117ce1.npy Bytes: 6312\n"
     ]
    },
    {
     "name": "stderr",
     "output_type": "stream",
     "text": [
      "100%|██████████| 0.00601959228515625/0.00601959228515625 [00:00<00:00,  1.25s/it]\n",
      "100%|██████████| 0.05845165252685547/0.05845165252685547 [00:00<00:00,  5.34s/it]\n",
      "local md5 mismatch on dataset: cortexlab/Subjects/KS023/2019-12-06/001/alf/_ibl_trials.goCueTrigger_times.npy\n"
     ]
    },
    {
     "name": "stdout",
     "output_type": "stream",
     "text": [
      "Downloading: /home/ines/Downloads/ONE/alyx.internationalbrainlab.org/cortexlab/Subjects/KS023/2019-12-06/001/alf/_ibl_trials.goCueTrigger_times.624b4901-d15f-40b4-97af-f9f72d74a51c.npy Bytes: 5352\n"
     ]
    },
    {
     "name": "stderr",
     "output_type": "stream",
     "text": [
      "100%|██████████| 0.00510406494140625/0.00510406494140625 [00:00<00:00,  1.38it/s]\n",
      "local md5 mismatch on dataset: cortexlab/Subjects/KS014/2019-12-03/001/alf/_ibl_trials.goCueTrigger_times.npy\n"
     ]
    },
    {
     "name": "stdout",
     "output_type": "stream",
     "text": [
      "Downloading: /home/ines/Downloads/ONE/alyx.internationalbrainlab.org/cortexlab/Subjects/KS014/2019-12-03/001/alf/_ibl_trials.goCueTrigger_times.1914cfdd-0a05-437a-a7b4-867ad6a98f95.npy Bytes: 4376\n"
     ]
    },
    {
     "name": "stderr",
     "output_type": "stream",
     "text": [
      "100%|██████████| 0.00417327880859375/0.00417327880859375 [00:00<00:00,  1.12it/s]\n"
     ]
    },
    {
     "name": "stdout",
     "output_type": "stream",
     "text": [
      "Downloading: /home/ines/Downloads/ONE/alyx.internationalbrainlab.org/wittenlab/Subjects/ibl_witten_29/2021-06-17/001/alf/#2024-07-15#/_ibl_trials.stimOff_times.deec1559-62ec-40d9-92cb-8e2415d98944.npy Bytes: 4896\n"
     ]
    },
    {
     "name": "stderr",
     "output_type": "stream",
     "text": [
      "100%|██████████| 0.004669189453125/0.004669189453125 [00:00<00:00,  2.89it/s]"
     ]
    },
    {
     "name": "stdout",
     "output_type": "stream",
     "text": [
      "Downloading: /home/ines/Downloads/ONE/alyx.internationalbrainlab.org/wittenlab/Subjects/ibl_witten_29/2021-06-17/001/alf/#2024-07-15#/_ibl_trials.stimOnTrigger_times.fa844f1f-5c6a-4bc9-a1b8-de1c1b0b30cf.npy Bytes: 4896\n"
     ]
    },
    {
     "name": "stderr",
     "output_type": "stream",
     "text": [
      "\n"
     ]
    },
    {
     "name": "stdout",
     "output_type": "stream",
     "text": [
      "Downloading: /home/ines/Downloads/ONE/alyx.internationalbrainlab.org/wittenlab/Subjects/ibl_witten_29/2021-06-17/001/alf/#2024-07-15#/_ibl_trials.table.2e7e8e5e-879d-4cdb-bd01-eb6a3bd3e06e.pqt Bytes: 49683\n",
      "Downloading: /home/ines/Downloads/ONE/alyx.internationalbrainlab.org/wittenlab/Subjects/ibl_witten_29/2021-06-17/001/alf/#2024-07-15#/_ibl_trials.stimOffTrigger_times.199ef636-e5c1-4e93-a9b4-6ed2ce7b0b26.npy Bytes: 4896\n"
     ]
    },
    {
     "name": "stderr",
     "output_type": "stream",
     "text": [
      "100%|██████████| 0.004669189453125/0.004669189453125 [00:00<00:00,  1.22it/s]\n",
      "100%|██████████| 0.004669189453125/0.004669189453125 [00:00<00:00,  4.22it/s]\n",
      "100%|██████████| 0.04738140106201172/0.04738140106201172 [00:00<00:00,  5.88s/it]\n"
     ]
    },
    {
     "name": "stdout",
     "output_type": "stream",
     "text": [
      "Downloading: /home/ines/Downloads/ONE/alyx.internationalbrainlab.org/angelakilab/Subjects/NYU-40/2021-04-15/001/alf/#2024-07-15#/_ibl_trials.stimOff_times.44c27306-1d0a-4740-950f-a835974cafad.npy Bytes: 4256\n",
      "Downloading: /home/ines/Downloads/ONE/alyx.internationalbrainlab.org/angelakilab/Subjects/NYU-40/2021-04-15/001/alf/#2024-07-15#/_ibl_trials.table.067e393f-5a61-48e3-b7b1-13a2f2e40bc7.pqt Bytes: 44354\n"
     ]
    },
    {
     "name": "stderr",
     "output_type": "stream",
     "text": [
      "100%|██████████| 0.004058837890625/0.004058837890625 [00:00<00:00,  1.71s/it]"
     ]
    },
    {
     "name": "stdout",
     "output_type": "stream",
     "text": [
      "Downloading: /home/ines/Downloads/ONE/alyx.internationalbrainlab.org/angelakilab/Subjects/NYU-40/2021-04-15/001/alf/#2024-07-15#/_ibl_trials.stimOnTrigger_times.e313a1aa-e6ff-4276-b341-e2a981a1e17f.npy Bytes: 4256\n",
      "Downloading: /home/ines/Downloads/ONE/alyx.internationalbrainlab.org/angelakilab/Subjects/NYU-40/2021-04-15/001/alf/#2024-07-15#/_ibl_trials.stimOffTrigger_times.3cbecd76-1224-485e-8115-b6af1b0fd24c.npy Bytes: 4256\n"
     ]
    },
    {
     "name": "stderr",
     "output_type": "stream",
     "text": [
      "\n",
      "\n",
      "100%|██████████| 0.004058837890625/0.004058837890625 [00:00<00:00,  1.82s/it]\n",
      "100%|██████████| 0.004058837890625/0.004058837890625 [00:00<00:00,  2.29it/s]\n",
      "\n",
      "100%|██████████| 0.04229927062988281/0.04229927062988281 [00:00<00:00,  6.60s/it]\n"
     ]
    },
    {
     "name": "stdout",
     "output_type": "stream",
     "text": [
      "Downloading: /home/ines/Downloads/ONE/alyx.internationalbrainlab.org/mrsicflogellab/Subjects/SWC_054/2020-10-10/001/alf/#2024-07-15#/_ibl_trials.table.390b4be8-1cfe-4163-963d-9530885b8716.pqt Bytes: 62434\n"
     ]
    },
    {
     "name": "stderr",
     "output_type": "stream",
     "text": [
      "  0%|          | 0/0.05954170227050781 [00:00<?, ?it/s]"
     ]
    },
    {
     "name": "stdout",
     "output_type": "stream",
     "text": [
      "Downloading: /home/ines/Downloads/ONE/alyx.internationalbrainlab.org/mrsicflogellab/Subjects/SWC_054/2020-10-10/001/alf/#2024-07-15#/_ibl_trials.stimOnTrigger_times.b5af4db0-6eaa-47b5-80b4-cd15bc233636.npy Bytes: 6544\n"
     ]
    },
    {
     "name": "stderr",
     "output_type": "stream",
     "text": [
      "100%|██████████| 0.0062408447265625/0.0062408447265625 [00:00<00:00,  5.17it/s]\n"
     ]
    },
    {
     "name": "stdout",
     "output_type": "stream",
     "text": [
      "Downloading: /home/ines/Downloads/ONE/alyx.internationalbrainlab.org/mrsicflogellab/Subjects/SWC_054/2020-10-10/001/alf/#2024-07-15#/_ibl_trials.stimOffTrigger_times.9aa2bff7-75fa-45f9-b74f-337c49cb7625.npy Bytes: 6544\n"
     ]
    },
    {
     "name": "stderr",
     "output_type": "stream",
     "text": [
      "100%|██████████| 0.0062408447265625/0.0062408447265625 [00:00<00:00,  5.77it/s]\n"
     ]
    },
    {
     "name": "stdout",
     "output_type": "stream",
     "text": [
      "Downloading: /home/ines/Downloads/ONE/alyx.internationalbrainlab.org/mrsicflogellab/Subjects/SWC_054/2020-10-10/001/alf/#2024-07-15#/_ibl_trials.stimOff_times.3042d8a9-fde6-410a-8171-4c501fce2f85.npy Bytes: 6544\n"
     ]
    },
    {
     "name": "stderr",
     "output_type": "stream",
     "text": [
      "100%|██████████| 0.0062408447265625/0.0062408447265625 [00:00<00:00,  6.09it/s]\n",
      "100%|██████████| 0.05954170227050781/0.05954170227050781 [00:00<00:00,  5.29s/it]\n"
     ]
    },
    {
     "name": "stdout",
     "output_type": "stream",
     "text": [
      "Downloading: /home/ines/Downloads/ONE/alyx.internationalbrainlab.org/angelakilab/Subjects/NYU-45/2021-07-20/002/alf/#2024-07-15#/_ibl_trials.stimOffTrigger_times.907fa111-a382-420a-b891-d306635e0d87.npy Bytes: 3920\n"
     ]
    },
    {
     "name": "stderr",
     "output_type": "stream",
     "text": [
      "100%|██████████| 0.0037384033203125/0.0037384033203125 [00:00<00:00,  1.21it/s]\n"
     ]
    },
    {
     "name": "stdout",
     "output_type": "stream",
     "text": [
      "Downloading: /home/ines/Downloads/ONE/alyx.internationalbrainlab.org/angelakilab/Subjects/NYU-45/2021-07-20/002/alf/#2024-07-15#/_ibl_trials.table.284eca65-2050-4594-a02c-5fd4e29833c6.pqt Bytes: 41150\n",
      "Downloading: /home/ines/Downloads/ONE/alyx.internationalbrainlab.org/angelakilab/Subjects/NYU-45/2021-07-20/002/alf/#2024-07-15#/_ibl_trials.stimOnTrigger_times.31a1a6c2-9c1c-4927-99a2-c3a2ffbb0d27.npy Bytes: 3920\n",
      "Downloading: /home/ines/Downloads/ONE/alyx.internationalbrainlab.org/angelakilab/Subjects/NYU-45/2021-07-20/002/alf/#2024-07-15#/_ibl_trials.stimOff_times.76d02a2a-4a80-4dd1-96d7-3f9d9238697f.npy Bytes: 3920\n"
     ]
    },
    {
     "name": "stderr",
     "output_type": "stream",
     "text": [
      "100%|██████████| 0.0037384033203125/0.0037384033203125 [00:00<00:00,  1.40it/s]\n",
      "100%|██████████| 0.0037384033203125/0.0037384033203125 [00:00<00:00,  3.43it/s]\n",
      "100%|██████████| 0.03924369812011719/0.03924369812011719 [00:00<00:00,  7.36s/it]\n"
     ]
    },
    {
     "name": "stdout",
     "output_type": "stream",
     "text": [
      "Downloading: /home/ines/Downloads/ONE/alyx.internationalbrainlab.org/danlab/Subjects/DY_009/2020-03-09/001/alf/#2024-07-15#/_ibl_trials.table.22da4d87-7b1a-41ed-84b8-6918a9cb73d5.pqt Bytes: 38078\n"
     ]
    },
    {
     "name": "stderr",
     "output_type": "stream",
     "text": [
      "  0%|          | 0/0.03631401062011719 [00:00<?, ?it/s]"
     ]
    },
    {
     "name": "stdout",
     "output_type": "stream",
     "text": [
      "Downloading: /home/ines/Downloads/ONE/alyx.internationalbrainlab.org/danlab/Subjects/DY_009/2020-03-09/001/alf/#2024-07-15#/_ibl_trials.stimOffTrigger_times.8661ae47-db0c-4172-ad16-8b6073eacdc1.npy Bytes: 3544\n",
      "Downloading: /home/ines/Downloads/ONE/alyx.internationalbrainlab.org/danlab/Subjects/DY_009/2020-03-09/001/alf/#2024-07-15#/_ibl_trials.stimOff_times.cb732962-7f02-4658-8aa1-68bb0ad57891.npy Bytes: 3544\n"
     ]
    },
    {
     "name": "stderr",
     "output_type": "stream",
     "text": [
      "100%|██████████| 0.00337982177734375/0.00337982177734375 [00:00<00:00,  1.14s/it]\n"
     ]
    },
    {
     "name": "stdout",
     "output_type": "stream",
     "text": [
      "Downloading: /home/ines/Downloads/ONE/alyx.internationalbrainlab.org/danlab/Subjects/DY_009/2020-03-09/001/alf/#2024-07-15#/_ibl_trials.stimOnTrigger_times.50a21d4c-4d13-45d8-a8ac-ab70d9e7fb48.npy Bytes: 3544\n"
     ]
    },
    {
     "name": "stderr",
     "output_type": "stream",
     "text": [
      "\n",
      "100%|██████████| 0.00337982177734375/0.00337982177734375 [00:00<00:00,  1.78it/s]\n",
      "100%|██████████| 0.00337982177734375/0.00337982177734375 [00:00<00:00,  1.55s/it]\n",
      "100%|██████████| 0.03631401062011719/0.03631401062011719 [00:00<00:00,  4.41s/it]\n"
     ]
    },
    {
     "name": "stdout",
     "output_type": "stream",
     "text": [
      "Downloading: /home/ines/Downloads/ONE/alyx.internationalbrainlab.org/mainenlab/Subjects/ZFM-02372/2021-06-02/002/alf/#2024-07-15#/_ibl_trials.table.4af8166e-4573-45af-8073-8565765b7671.pqt Bytes: 50903\n"
     ]
    },
    {
     "name": "stderr",
     "output_type": "stream",
     "text": [
      "  0%|          | 0/0.048544883728027344 [00:00<?, ?it/s]"
     ]
    },
    {
     "name": "stdout",
     "output_type": "stream",
     "text": [
      "Downloading: /home/ines/Downloads/ONE/alyx.internationalbrainlab.org/mainenlab/Subjects/ZFM-02372/2021-06-02/002/alf/#2024-07-15#/_ibl_trials.stimOff_times.cb3dec29-fce6-4f93-b319-b732753bdef4.npy Bytes: 5056\n",
      "Downloading: /home/ines/Downloads/ONE/alyx.internationalbrainlab.org/mainenlab/Subjects/ZFM-02372/2021-06-02/002/alf/#2024-07-15#/_ibl_trials.stimOffTrigger_times.efa06b7f-5ad9-42d8-8393-db225f6bfc4c.npy Bytes: 5056\n",
      "Downloading: /home/ines/Downloads/ONE/alyx.internationalbrainlab.org/mainenlab/Subjects/ZFM-02372/2021-06-02/002/alf/#2024-07-15#/_ibl_trials.stimOnTrigger_times.e57ced43-d610-4f1f-af43-57c8d1eda26c.npy Bytes: 5056\n"
     ]
    },
    {
     "name": "stderr",
     "output_type": "stream",
     "text": [
      "\n",
      "\u001b[A\n",
      "\n",
      "100%|██████████| 0.00482177734375/0.00482177734375 [00:00<00:00,  1.58it/s]\n",
      "100%|██████████| 0.00482177734375/0.00482177734375 [00:00<00:00,  1.23s/it]\n",
      "100%|██████████| 0.00482177734375/0.00482177734375 [00:00<00:00,  2.70it/s]\n",
      "100%|██████████| 0.048544883728027344/0.048544883728027344 [00:00<00:00,  6.74s/it]\n"
     ]
    },
    {
     "name": "stdout",
     "output_type": "stream",
     "text": [
      "Downloading: /home/ines/Downloads/ONE/alyx.internationalbrainlab.org/danlab/Subjects/DY_014/2020-07-15/001/alf/#2024-07-15#/_ibl_trials.table.5ebb4d8b-1c03-4024-86fd-69b8182e44a7.pqt Bytes: 48910\n",
      "Downloading: /home/ines/Downloads/ONE/alyx.internationalbrainlab.org/danlab/Subjects/DY_014/2020-07-15/001/alf/#2024-07-15#/_ibl_trials.stimOffTrigger_times.56da5c68-23ad-4d59-8aee-e7608b27919a.npy Bytes: 4808\n",
      "Downloading: /home/ines/Downloads/ONE/alyx.internationalbrainlab.org/danlab/Subjects/DY_014/2020-07-15/001/alf/#2024-07-15#/_ibl_trials.stimOff_times.37a9347b-8f9a-49d3-a242-8f6907e84538.npy Bytes: 4808\n"
     ]
    },
    {
     "name": "stderr",
     "output_type": "stream",
     "text": [
      "100%|██████████| 0.00458526611328125/0.00458526611328125 [00:00<00:00,  4.72it/s]"
     ]
    },
    {
     "name": "stdout",
     "output_type": "stream",
     "text": [
      "Downloading: /home/ines/Downloads/ONE/alyx.internationalbrainlab.org/danlab/Subjects/DY_014/2020-07-15/001/alf/#2024-07-15#/_ibl_trials.stimOnTrigger_times.713ee687-1c6f-40c5-a868-5a6532bb2c12.npy Bytes: 4808\n"
     ]
    },
    {
     "name": "stderr",
     "output_type": "stream",
     "text": [
      "\n",
      "\n",
      "\n",
      "\u001b[A\u001b[A\n",
      "100%|██████████| 0.00458526611328125/0.00458526611328125 [00:00<00:00,  1.62s/it]\n",
      "100%|██████████| 0.00458526611328125/0.00458526611328125 [00:00<00:00,  1.03s/it]\n",
      "100%|██████████| 0.04664421081542969/0.04664421081542969 [00:00<00:00,  6.75s/it]\n"
     ]
    },
    {
     "name": "stdout",
     "output_type": "stream",
     "text": [
      "Downloading: /home/ines/Downloads/ONE/alyx.internationalbrainlab.org/mainenlab/Subjects/ZFM-02370/2021-04-28/001/alf/#2024-07-15#/_ibl_trials.stimOff_times.01c295bc-4686-47c4-97bf-697860801ae4.npy Bytes: 4544\n"
     ]
    },
    {
     "name": "stderr",
     "output_type": "stream",
     "text": [
      "100%|██████████| 0.00433349609375/0.00433349609375 [00:00<00:00,  1.11s/it]\n"
     ]
    },
    {
     "name": "stdout",
     "output_type": "stream",
     "text": [
      "Downloading: /home/ines/Downloads/ONE/alyx.internationalbrainlab.org/mainenlab/Subjects/ZFM-02370/2021-04-28/001/alf/#2024-07-15#/_ibl_trials.stimOnTrigger_times.06aeed20-1d44-4d51-80e4-6c9ca982a444.npy Bytes: 4544\n",
      "Downloading: /home/ines/Downloads/ONE/alyx.internationalbrainlab.org/mainenlab/Subjects/ZFM-02370/2021-04-28/001/alf/#2024-07-15#/_ibl_trials.table.5860436f-d673-4f42-947c-810f21741b26.pqt Bytes: 46692\n",
      "Downloading: /home/ines/Downloads/ONE/alyx.internationalbrainlab.org/mainenlab/Subjects/ZFM-02370/2021-04-28/001/alf/#2024-07-15#/_ibl_trials.stimOffTrigger_times.d6a58b75-4fc4-4395-a6df-263aaf289250.npy Bytes: 4544\n"
     ]
    },
    {
     "name": "stderr",
     "output_type": "stream",
     "text": [
      "100%|██████████| 0.00433349609375/0.00433349609375 [00:00<00:00,  2.38it/s]\n",
      "\n",
      "100%|██████████| 0.00433349609375/0.00433349609375 [00:00<00:00,  2.56it/s]\n",
      "100%|██████████| 0.044528961181640625/0.044528961181640625 [00:00<00:00,  6.94s/it]\n"
     ]
    },
    {
     "name": "stdout",
     "output_type": "stream",
     "text": [
      "Downloading: /home/ines/Downloads/ONE/alyx.internationalbrainlab.org/angelakilab/Subjects/NYU-45/2021-07-23/001/alf/#2024-07-15#/_ibl_trials.table.58368cf0-6339-407a-a0e3-c7d1d8941247.pqt Bytes: 38580\n",
      "Downloading: /home/ines/Downloads/ONE/alyx.internationalbrainlab.org/angelakilab/Subjects/NYU-45/2021-07-23/001/alf/#2024-07-15#/_ibl_trials.stimOffTrigger_times.8b8311b1-6ea6-430c-905e-a90aa8987ca1.npy Bytes: 3616\n",
      "Downloading: /home/ines/Downloads/ONE/alyx.internationalbrainlab.org/angelakilab/Subjects/NYU-45/2021-07-23/001/alf/#2024-07-15#/_ibl_trials.stimOff_times.634be7fe-7d6a-4573-9e7e-a2de0b6d5f01.npy Bytes: 3616\n"
     ]
    },
    {
     "name": "stderr",
     "output_type": "stream",
     "text": [
      "  0%|          | 0/0.036792755126953125 [00:00<?, ?it/s]"
     ]
    },
    {
     "name": "stdout",
     "output_type": "stream",
     "text": [
      "Downloading: /home/ines/Downloads/ONE/alyx.internationalbrainlab.org/angelakilab/Subjects/NYU-45/2021-07-23/001/alf/#2024-07-15#/_ibl_trials.stimOnTrigger_times.b9c5c0e6-3082-45b8-b91f-fe7c2caa1a72.npy Bytes: 3616\n"
     ]
    },
    {
     "name": "stderr",
     "output_type": "stream",
     "text": [
      "\n",
      "100%|██████████| 0.003448486328125/0.003448486328125 [00:00<00:00,  1.81it/s]\n",
      "100%|██████████| 0.003448486328125/0.003448486328125 [00:00<00:00,  1.83s/it]\n",
      "\n",
      "\n",
      "100%|██████████| 0.003448486328125/0.003448486328125 [00:00<00:00,  1.77it/s]\n",
      "100%|██████████| 0.036792755126953125/0.036792755126953125 [00:00<00:00,  4.12s/it]\n"
     ]
    },
    {
     "name": "stdout",
     "output_type": "stream",
     "text": [
      "Downloading: /home/ines/Downloads/ONE/alyx.internationalbrainlab.org/angelakilab/Subjects/NYU-45/2021-07-19/001/alf/#2024-07-15#/_ibl_trials.stimOnTrigger_times.b2156ff4-468a-476b-ba08-5c201c53baa2.npy Bytes: 4168\n"
     ]
    },
    {
     "name": "stderr",
     "output_type": "stream",
     "text": [
      "100%|██████████| 0.00397491455078125/0.00397491455078125 [00:00<00:00,  1.98s/it]\n"
     ]
    },
    {
     "name": "stdout",
     "output_type": "stream",
     "text": [
      "Downloading: /home/ines/Downloads/ONE/alyx.internationalbrainlab.org/angelakilab/Subjects/NYU-45/2021-07-19/001/alf/#2024-07-15#/_ibl_trials.stimOff_times.a11789dd-a405-4ae9-94ae-557e2986429a.npy Bytes: 4168\n"
     ]
    },
    {
     "name": "stderr",
     "output_type": "stream",
     "text": [
      "100%|██████████| 0.00397491455078125/0.00397491455078125 [00:00<00:00,  1.06it/s]\n"
     ]
    },
    {
     "name": "stdout",
     "output_type": "stream",
     "text": [
      "Downloading: /home/ines/Downloads/ONE/alyx.internationalbrainlab.org/angelakilab/Subjects/NYU-45/2021-07-19/001/alf/#2024-07-15#/_ibl_trials.table.eb733aae-f747-4991-9e50-7ace29f96aee.pqt Bytes: 43109\n"
     ]
    },
    {
     "name": "stderr",
     "output_type": "stream",
     "text": [
      "  0%|          | 0/0.04111194610595703 [00:00<?, ?it/s]"
     ]
    },
    {
     "name": "stdout",
     "output_type": "stream",
     "text": [
      "Downloading: /home/ines/Downloads/ONE/alyx.internationalbrainlab.org/angelakilab/Subjects/NYU-45/2021-07-19/001/alf/#2024-07-15#/_ibl_trials.stimOffTrigger_times.768298c0-ab0a-47d6-a59d-aa1c877199f2.npy Bytes: 4168\n"
     ]
    },
    {
     "name": "stderr",
     "output_type": "stream",
     "text": [
      "100%|██████████| 0.00397491455078125/0.00397491455078125 [00:00<00:00,  3.82it/s]\n",
      "100%|██████████| 0.04111194610595703/0.04111194610595703 [00:00<00:00,  7.23s/it]\n"
     ]
    },
    {
     "name": "stdout",
     "output_type": "stream",
     "text": [
      "Downloading: /home/ines/Downloads/ONE/alyx.internationalbrainlab.org/mainenlab/Subjects/ZM_2240/2020-01-22/001/alf/#2024-07-15#/_ibl_trials.stimOff_times.7fe9dadc-6eb8-4e5d-b0b0-11b10a091a8a.npy Bytes: 5296\n",
      "Downloading: /home/ines/Downloads/ONE/alyx.internationalbrainlab.org/mainenlab/Subjects/ZM_2240/2020-01-22/001/alf/#2024-07-15#/_ibl_trials.stimOnTrigger_times.80c4c10c-010c-4371-96ca-ce4077534626.npy Bytes: 5296\n",
      "Downloading: /home/ines/Downloads/ONE/alyx.internationalbrainlab.org/mainenlab/Subjects/ZM_2240/2020-01-22/001/alf/#2024-07-15#/_ibl_trials.stimOffTrigger_times.bbca772c-08d5-4ce7-9be0-da65b3e49202.npy Bytes: 5296\n"
     ]
    },
    {
     "name": "stderr",
     "output_type": "stream",
     "text": [
      "\n"
     ]
    },
    {
     "name": "stdout",
     "output_type": "stream",
     "text": [
      "Downloading: /home/ines/Downloads/ONE/alyx.internationalbrainlab.org/mainenlab/Subjects/ZM_2240/2020-01-22/001/alf/#2024-07-15#/_ibl_trials.table.6fae954c-2227-4b58-85b1-71e7348605a5.pqt Bytes: 52887\n"
     ]
    },
    {
     "name": "stderr",
     "output_type": "stream",
     "text": [
      "  0%|          | 0/0.0050506591796875 [00:00<?, ?it/s]\u001b[A\n",
      "100%|██████████| 0.0050506591796875/0.0050506591796875 [00:00<00:00,  3.84s/it]\n",
      "100%|██████████| 0.0050506591796875/0.0050506591796875 [00:00<00:00,  2.38s/it]\n",
      "100%|██████████| 0.0050506591796875/0.0050506591796875 [00:00<00:00,  1.58s/it]\n",
      "\n",
      "\n",
      "\u001b[A\u001b[A\n",
      "\n",
      "100%|██████████| 0.050436973571777344/0.050436973571777344 [00:00<00:00,  5.70s/it]\n",
      "local md5 mismatch on dataset: cortexlab/Subjects/KS014/2019-12-07/001/alf/_ibl_trials.goCueTrigger_times.npy\n"
     ]
    },
    {
     "name": "stdout",
     "output_type": "stream",
     "text": [
      "Downloading: /home/ines/Downloads/ONE/alyx.internationalbrainlab.org/cortexlab/Subjects/KS014/2019-12-07/001/alf/_ibl_trials.goCueTrigger_times.bc2892ec-a74f-4697-ab1f-42ccf0a00443.npy Bytes: 5384\n"
     ]
    },
    {
     "name": "stderr",
     "output_type": "stream",
     "text": [
      "100%|██████████| 0.00513458251953125/0.00513458251953125 [00:00<00:00,  1.40it/s]\n"
     ]
    },
    {
     "name": "stdout",
     "output_type": "stream",
     "text": [
      "Downloading: /home/ines/Downloads/ONE/alyx.internationalbrainlab.org/hoferlab/Subjects/SWC_043/2020-09-18/001/alf/#2024-07-15#/_ibl_trials.table.2689a585-a0cd-47ae-bf8f-43df4c98254c.pqt Bytes: 43413\n"
     ]
    },
    {
     "name": "stderr",
     "output_type": "stream",
     "text": [
      "100%|██████████| 0.04140186309814453/0.04140186309814453 [00:00<00:00,  7.23s/it]\n"
     ]
    },
    {
     "name": "stdout",
     "output_type": "stream",
     "text": [
      "Downloading: /home/ines/Downloads/ONE/alyx.internationalbrainlab.org/hoferlab/Subjects/SWC_043/2020-09-18/001/alf/#2024-07-15#/_ibl_trials.stimOnTrigger_times.31d13fa3-ad3b-49b5-b44e-d0d3d2a45b70.npy Bytes: 4192\n"
     ]
    },
    {
     "name": "stderr",
     "output_type": "stream",
     "text": [
      "100%|██████████| 0.003997802734375/0.003997802734375 [00:00<00:00,  2.41s/it]\n"
     ]
    },
    {
     "name": "stdout",
     "output_type": "stream",
     "text": [
      "Downloading: /home/ines/Downloads/ONE/alyx.internationalbrainlab.org/hoferlab/Subjects/SWC_043/2020-09-18/001/alf/#2024-07-15#/_ibl_trials.stimOff_times.fdccd771-2216-4e8a-b9eb-9be8eda6c8ab.npy Bytes: 4192\n",
      "Downloading: /home/ines/Downloads/ONE/alyx.internationalbrainlab.org/hoferlab/Subjects/SWC_043/2020-09-18/001/alf/#2024-07-15#/_ibl_trials.stimOffTrigger_times.0b0f5d0c-1fa7-49de-9c55-41203e97f574.npy Bytes: 4192\n"
     ]
    },
    {
     "name": "stderr",
     "output_type": "stream",
     "text": [
      "100%|██████████| 0.003997802734375/0.003997802734375 [00:00<00:00,  2.76s/it]\n",
      "100%|██████████| 0.003997802734375/0.003997802734375 [00:00<00:00,  1.05s/it]\n",
      "local md5 mismatch on dataset: churchlandlab/Subjects/CSHL049/2020-01-11/001/alf/_ibl_trials.stimOff_times.npy\n"
     ]
    },
    {
     "name": "stdout",
     "output_type": "stream",
     "text": [
      "Downloading: /home/ines/Downloads/ONE/alyx.internationalbrainlab.org/churchlandlab/Subjects/CSHL049/2020-01-11/001/alf/_ibl_trials.stimOff_times.c07b94b4-18c6-4940-9bd6-9661f4ae5ceb.npy Bytes: 4600\n"
     ]
    },
    {
     "name": "stderr",
     "output_type": "stream",
     "text": [
      "100%|██████████| 0.00438690185546875/0.00438690185546875 [00:00<00:00,  1.32it/s]\n",
      "local md5 mismatch on dataset: cortexlab/Subjects/KS023/2019-12-10/001/alf/_ibl_trials.goCueTrigger_times.npy\n"
     ]
    },
    {
     "name": "stdout",
     "output_type": "stream",
     "text": [
      "Downloading: /home/ines/Downloads/ONE/alyx.internationalbrainlab.org/cortexlab/Subjects/KS023/2019-12-10/001/alf/_ibl_trials.goCueTrigger_times.16c81eaf-a032-49cd-9823-09c0c7350fd2.npy Bytes: 5256\n"
     ]
    },
    {
     "name": "stderr",
     "output_type": "stream",
     "text": [
      "100%|██████████| 0.00501251220703125/0.00501251220703125 [00:00<00:00,  6.12it/s]\n"
     ]
    },
    {
     "name": "stdout",
     "output_type": "stream",
     "text": [
      "78b4fff5-c5ec-44d9-b5f9-d59493063f00\n"
     ]
    },
    {
     "name": "stderr",
     "output_type": "stream",
     "text": [
      "local md5 mismatch on dataset: cortexlab/Subjects/KS023/2019-12-06/001/alf/_ibl_trials.goCueTrigger_times.npy\n"
     ]
    },
    {
     "name": "stdout",
     "output_type": "stream",
     "text": [
      "Downloading: /home/ines/Downloads/ONE/alyx.internationalbrainlab.org/cortexlab/Subjects/KS023/2019-12-06/001/alf/_ibl_trials.goCueTrigger_times.624b4901-d15f-40b4-97af-f9f72d74a51c.npy Bytes: 5352\n"
     ]
    },
    {
     "name": "stderr",
     "output_type": "stream",
     "text": [
      "100%|██████████| 0.00510406494140625/0.00510406494140625 [00:00<00:00,  5.19it/s]\n",
      "local md5 mismatch on dataset: cortexlab/Subjects/KS014/2019-12-03/001/alf/_ibl_trials.goCueTrigger_times.npy\n"
     ]
    },
    {
     "name": "stdout",
     "output_type": "stream",
     "text": [
      "Downloading: /home/ines/Downloads/ONE/alyx.internationalbrainlab.org/cortexlab/Subjects/KS014/2019-12-03/001/alf/_ibl_trials.goCueTrigger_times.1914cfdd-0a05-437a-a7b4-867ad6a98f95.npy Bytes: 4376\n"
     ]
    },
    {
     "name": "stderr",
     "output_type": "stream",
     "text": [
      "100%|██████████| 0.00417327880859375/0.00417327880859375 [00:00<00:00,  1.46it/s]\n"
     ]
    },
    {
     "name": "stdout",
     "output_type": "stream",
     "text": [
      "196a2adf-ff83-49b2-823a-33f990049c2e\n"
     ]
    },
    {
     "name": "stderr",
     "output_type": "stream",
     "text": [
      "local md5 mismatch on dataset: cortexlab/Subjects/KS014/2019-12-07/001/alf/_ibl_trials.goCueTrigger_times.npy\n"
     ]
    },
    {
     "name": "stdout",
     "output_type": "stream",
     "text": [
      "Downloading: /home/ines/Downloads/ONE/alyx.internationalbrainlab.org/cortexlab/Subjects/KS014/2019-12-07/001/alf/_ibl_trials.goCueTrigger_times.bc2892ec-a74f-4697-ab1f-42ccf0a00443.npy Bytes: 5384\n"
     ]
    },
    {
     "name": "stderr",
     "output_type": "stream",
     "text": [
      "100%|██████████| 0.00513458251953125/0.00513458251953125 [00:00<00:00,  1.57it/s]\n"
     ]
    }
   ],
   "source": [
    "use_vars = ['avg_wheel_vel', 'Lick count', 'whisker_me',\n",
    "       'left_X', 'left_Y', 'right_X', 'right_Y', 'nose_X', 'nose_Y']\n",
    "idxs, mouse_names = idxs_from_files(one, design_matrices, frame_rate, data_path, bin_size)\n",
    "matrix_all, matrix_all_unnorm, session_all = prepro_design_matrix(one, idxs, mouse_names, \n",
    "                                                                  bin_size, use_vars, data_path, first_90=False)\n",
    "\n",
    "# Save\n",
    "to_save = idxs, mouse_names, matrix_all, matrix_all_unnorm, session_all\n",
    "\n",
    "# Save most_likely_states\n",
    "prepro_results_path =  '/home/ines/repositories/representation_learning_variability/DATA/Sub-trial/Results/' + str(bin_size) + '/'\n",
    "os.chdir(prepro_results_path)\n",
    "pickle.dump(to_save, open(\"preprocessed_data_v4_211024_alltrials\", \"wb\"))   "
   ]
  },
  {
   "cell_type": "code",
   "execution_count": null,
   "metadata": {},
   "outputs": [],
   "source": []
  }
 ],
 "metadata": {
  "kernelspec": {
   "display_name": "iblenv",
   "language": "python",
   "name": "python3"
  },
  "language_info": {
   "codemirror_mode": {
    "name": "ipython",
    "version": 3
   },
   "file_extension": ".py",
   "mimetype": "text/x-python",
   "name": "python",
   "nbconvert_exporter": "python",
   "pygments_lexer": "ipython3",
   "version": "3.9.15"
  },
  "orig_nbformat": 4,
  "vscode": {
   "interpreter": {
    "hash": "21541729b5da47a594818561e91cb4175a7e192d68b7cc4221509f43b2f902b5"
   }
  }
 },
 "nbformat": 4,
 "nbformat_minor": 2
}
