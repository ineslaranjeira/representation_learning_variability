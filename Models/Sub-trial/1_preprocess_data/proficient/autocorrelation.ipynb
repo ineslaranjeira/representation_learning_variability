{
 "cells": [
  {
   "attachments": {},
   "cell_type": "markdown",
   "metadata": {},
   "source": [
    "# Cross-correlogram"
   ]
  },
  {
   "cell_type": "code",
   "execution_count": null,
   "metadata": {},
   "outputs": [],
   "source": [
    "\"\"\" \n",
    "IMPORTS\n",
    "\"\"\"\n",
    "import os\n",
    "import autograd.numpy as np\n",
    "import pickle\n",
    "import seaborn as sns\n",
    "from collections import defaultdict\n",
    "import pandas as pd\n",
    "\n",
    "# --Machine learning and statistics\n",
    "from sklearn.decomposition import PCA\n",
    "from sklearn.preprocessing import StandardScaler, MinMaxScaler, Normalizer\n",
    "from sklearn.cluster import KMeans\n",
    "\n",
    "from one.api import ONE\n",
    "from jax import vmap\n",
    "from pprint import pprint\n",
    "import jax.numpy as jnp\n",
    "import jax.random as jr\n",
    "import matplotlib.pyplot as plt\n",
    "from dynamax.hidden_markov_model import GaussianHMM\n",
    "\n",
    "# Get my functions\n",
    "functions_path =  '/home/ines/repositories/representation_learning_variability/Models/Sub-trial//2_fit_models/'\n",
    "#functions_path = '/Users/ineslaranjeira/Documents/Repositories/representation_learning_variability//Models/Sub-trial//2_fit_models/'\n",
    "os.chdir(functions_path)\n",
    "#from fitting_functions import cross_validate_model\n",
    "#from plotting_functions import plot_transition_mat, plot_states_aligned, params_to_df, align_bin_design_matrix, states_per_trial_phase, plot_states_aligned_trial, traces_over_sates\n",
    "\n",
    "one = ONE()"
   ]
  },
  {
   "cell_type": "markdown",
   "metadata": {},
   "source": [
    "### Get design matrices"
   ]
  },
  {
   "cell_type": "code",
   "execution_count": null,
   "metadata": {},
   "outputs": [],
   "source": [
    "bin_size = 0.1\n",
    "var_names = ['avg_wheel_vel', 'pupil_diameter',\n",
    "       'whisker_me', 'nose_speed_X', 'nose_speed_Y', \n",
    "       'l_paw_speed_X', 'l_paw_speed_Y', 'pupil_speed_X',\n",
    "       'pupil_speed_Y', 'Gaussian_licks']\n",
    "\n",
    "data_path =  '/home/ines/repositories/representation_learning_variability/DATA/Sub-trial/Design matrix/' + str(bin_size) + '/'\n",
    "os.chdir(data_path)\n",
    "design_matrices = os.listdir(data_path)"
   ]
  },
  {
   "cell_type": "markdown",
   "metadata": {},
   "source": [
    "## Preprocess list of design matrices"
   ]
  },
  {
   "cell_type": "code",
   "execution_count": null,
   "metadata": {},
   "outputs": [],
   "source": [
    "# Save data of all sessions for latter\n",
    "matrix_all = defaultdict(list)\n",
    "session_all = defaultdict(list)\n",
    "\n",
    "for m, mat in enumerate(design_matrices):\n",
    "   \n",
    "    # Trials data\n",
    "    session = design_matrices[m][14:-4]\n",
    "    session_trials = one.load_object(session, obj='trials', namespace='ibl')\n",
    "    session_trials = session_trials.to_df()\n",
    "    session_end = list(session_trials['stimOff_times'][-1:])[0]  # TODO: this might not work if stimOff times are missing\n",
    "    session_start = list(session_trials['stimOn_times'])[0]\n",
    "    \n",
    "    big_design_matrix = pickle.load(open(mat, \"rb\"))\n",
    "    \n",
    "    design_matrix = big_design_matrix.groupby('Bin')[var_names].mean()  # \n",
    "    design_matrix = design_matrix.reset_index(level = [0])  # , 'Onset times'\n",
    "    design_matrix = design_matrix.dropna()\n",
    "    \n",
    "    # Trim design matrix to be as long as the session (otherwise it will include task-unrelated behavior)\n",
    "    design_matrix = design_matrix.loc[(design_matrix['Bin'] < session_end * 10) & (design_matrix['Bin'] > session_start * 10)]\n",
    "    training_set = np.array(design_matrix[var_names]).copy() \n",
    "    \n",
    "    if len(training_set) > 0:\n",
    "      # Standardization using StandardScaler\n",
    "      scaler = StandardScaler()\n",
    "      standardized = scaler.fit_transform(training_set)\n",
    "      # Normalize between 0 and 1\n",
    "      normalizer = Normalizer().fit(standardized)\n",
    "      normalized = normalizer.transform(standardized)\n",
    "      \n",
    "      # Save results\n",
    "      matrix_all[mat].append(normalized)\n",
    "      session_all[mat].append(session_trials)    "
   ]
  },
  {
   "cell_type": "code",
   "execution_count": null,
   "metadata": {},
   "outputs": [],
   "source": []
  }
 ],
 "metadata": {
  "kernelspec": {
   "display_name": "glmhmm",
   "language": "python",
   "name": "python3"
  },
  "language_info": {
   "name": "python",
   "version": "3.7.6"
  },
  "orig_nbformat": 4,
  "vscode": {
   "interpreter": {
    "hash": "e0570267f7605a5796a6c6283f704801f1f25a3a6f849e378a7aefdb53302a15"
   }
  }
 },
 "nbformat": 4,
 "nbformat_minor": 2
}
