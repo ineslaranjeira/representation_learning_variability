{
 "cells": [
  {
   "cell_type": "markdown",
   "metadata": {},
   "source": [
    "## Load deep lab cut data"
   ]
  },
  {
   "cell_type": "code",
   "execution_count": null,
   "metadata": {},
   "outputs": [],
   "source": [
    "import os\n",
    "import numpy as np\n",
    "from one.api import ONE\n",
    "import pickle\n",
    "import matplotlib.pyplot as plt\n",
    "import pandas as pd\n",
    "import seaborn as sns\n",
    "import brainbox.behavior.wheel as wh\n",
    "from scipy.stats import zscore\n",
    "import concurrent.futures\n",
    "\n",
    "# one = ONE(base_url='https://alyx.internationalbrainlab.org')\n",
    "one = ONE(mode='remote')\n",
    "# Get my functions\n",
    "from video_functions_jaime import *"
   ]
  },
  {
   "cell_type": "markdown",
   "metadata": {},
   "source": [
    "### Get QC of all sessions"
   ]
  },
  {
   "cell_type": "code",
   "execution_count": null,
   "metadata": {},
   "outputs": [],
   "source": [
    "data_path =  '/home/ines/repositories/representation_learning_variability/DATA/Brainwidemap/'\n",
    "\n",
    "os.chdir(data_path)\n",
    "qc = pd.read_csv(\"Brainwidemap_QC - behavior_data.csv\")\n"
   ]
  },
  {
   "cell_type": "markdown",
   "metadata": {},
   "source": [
    "### Select sessions that pass QC for left DLC and left video"
   ]
  },
  {
   "cell_type": "markdown",
   "metadata": {},
   "source": [
    "Video and DLC are set to pass if all tests in the respective categories pass as well"
   ]
  },
  {
   "cell_type": "code",
   "execution_count": null,
   "metadata": {},
   "outputs": [
    {
     "name": "stdout",
     "output_type": "stream",
     "text": [
      "25 sessions pass QC\n"
     ]
    }
   ],
   "source": [
    "pass_qc = qc.loc[(qc['leftVideo']=='PASS') & (qc['leftDLC']=='PASS'), 'Session ID']\n",
    "print(str(len(pass_qc)) + ' sessions pass QC')"
   ]
  },
  {
   "cell_type": "markdown",
   "metadata": {},
   "source": [
    "Some sessions pass leftDLC but not leftVideo. Why would this be?"
   ]
  },
  {
   "cell_type": "code",
   "execution_count": null,
   "metadata": {},
   "outputs": [
    {
     "name": "stdout",
     "output_type": "stream",
     "text": [
      "176 sessions pass QC\n"
     ]
    }
   ],
   "source": [
    "pass_qc = qc.loc[(qc['leftDLC']=='PASS'), 'Session ID']\n",
    "print(str(len(pass_qc)) + ' sessions pass QC')"
   ]
  },
  {
   "cell_type": "markdown",
   "metadata": {},
   "source": [
    "### Video that is both good on the left and right sides"
   ]
  },
  {
   "cell_type": "code",
   "execution_count": null,
   "metadata": {},
   "outputs": [
    {
     "name": "stdout",
     "output_type": "stream",
     "text": [
      "6 sessions pass QC\n"
     ]
    }
   ],
   "source": [
    "pass_qc = qc.loc[(qc['leftVideo']=='PASS') & (qc['leftDLC']=='PASS') &\n",
    "                 (qc['rightVideo']=='PASS') & (qc['rightDLC']=='PASS'), 'Session ID']\n",
    "print(str(len(pass_qc)) + ' sessions pass QC')"
   ]
  },
  {
   "cell_type": "markdown",
   "metadata": {},
   "source": [
    "Look into the extended QC of a passed session"
   ]
  },
  {
   "cell_type": "code",
   "execution_count": null,
   "metadata": {},
   "outputs": [
    {
     "data": {
      "text/plain": [
       "{'task': 'WARNING',\n",
       " 'dlcBody': 'PASS',\n",
       " 'dlcLeft': 'PASS',\n",
       " 'behavior': 1,\n",
       " 'dlcRight': 'FAIL',\n",
       " 'videoBody': 'WARNING',\n",
       " 'videoLeft': 'PASS',\n",
       " 'videoRight': 'PASS',\n",
       " '_task_iti_delays': 0.1706896551724138,\n",
       " '_videoBody_focus': True,\n",
       " '_videoLeft_focus': True,\n",
       " '_videoRight_focus': True,\n",
       " '_task_goCue_delays': 0.9965576592082617,\n",
       " '_task_trial_length': 0.9965576592082617,\n",
       " '_task_stimOn_delays': 0.9931153184165232,\n",
       " '_videoBody_position': True,\n",
       " '_videoLeft_position': True,\n",
       " '_dlcBody_paw_far_nan': None,\n",
       " '_dlcLeft_paw_far_nan': True,\n",
       " '_task_n_trial_events': 0.9913941480206541,\n",
       " '_task_reward_volumes': 1.0,\n",
       " '_task_stimOff_delays': 0.9931153184165232,\n",
       " '_videoBody_framerate': [True, 30.063],\n",
       " '_videoBody_pin_state': [True, 0, 0],\n",
       " '_videoLeft_framerate': [True, 60.006],\n",
       " '_videoLeft_pin_state': [True, 0, 0],\n",
       " '_videoRight_position': True,\n",
       " '_dlcBody_mean_in_bbox': True,\n",
       " '_dlcLeft_mean_in_bbox': True,\n",
       " '_dlcRight_paw_far_nan': False,\n",
       " '_task_audio_pre_trial': 1.0,\n",
       " '_task_errorCue_delays': 1.0,\n",
       " '_task_wheel_integrity': 1.0,\n",
       " '_videoBody_brightness': True,\n",
       " '_videoBody_resolution': True,\n",
       " '_videoBody_timestamps': True,\n",
       " '_videoLeft_brightness': True,\n",
       " '_videoLeft_resolution': True,\n",
       " '_videoLeft_timestamps': True,\n",
       " '_videoRight_framerate': [True, 150.015],\n",
       " '_videoRight_pin_state': [True, 0, 0],\n",
       " '_dlcBody_paw_close_nan': None,\n",
       " '_dlcBody_pupil_blocked': None,\n",
       " '_dlcBody_trace_all_nan': True,\n",
       " '_dlcLeft_paw_close_nan': True,\n",
       " '_dlcLeft_pupil_blocked': True,\n",
       " '_dlcLeft_trace_all_nan': True,\n",
       " '_dlcRight_mean_in_bbox': True,\n",
       " '_videoRight_brightness': True,\n",
       " '_videoRight_resolution': True,\n",
       " '_videoRight_timestamps': True,\n",
       " '_dlcBody_lick_detection': None,\n",
       " '_dlcLeft_lick_detection': True,\n",
       " '_dlcRight_paw_close_nan': True,\n",
       " '_dlcRight_pupil_blocked': True,\n",
       " '_dlcRight_trace_all_nan': True,\n",
       " '_task_reward_volume_set': 1.0,\n",
       " '_task_stimFreeze_delays': 0.9759036144578314,\n",
       " '_videoBody_camera_times': [True, 0],\n",
       " '_videoBody_file_headers': True,\n",
       " '_videoLeft_camera_times': [True, 0],\n",
       " '_videoLeft_file_headers': True,\n",
       " '_dlcRight_lick_detection': True,\n",
       " '_videoRight_camera_times': [True, 0],\n",
       " '_videoRight_file_headers': True,\n",
       " '_task_passed_trial_checks': 0.16351118760757316,\n",
       " '_task_stimOn_goCue_delays': 0.9931153184165232,\n",
       " '_videoBody_dropped_frames': [True, 0, 0],\n",
       " '_videoLeft_dropped_frames': [True, 0, 0],\n",
       " '_task_detected_wheel_moves': 0.9896373056994818,\n",
       " '_task_stimOff_itiIn_delays': 0.9948186528497409,\n",
       " '_videoBody_wheel_alignment': None,\n",
       " '_videoLeft_wheel_alignment': [True, 1],\n",
       " '_videoRight_dropped_frames': [True, 23, 0],\n",
       " '_dlcBody_pupil_diameter_snr': None,\n",
       " '_dlcLeft_pupil_diameter_snr': [False, 5.298],\n",
       " '_videoRight_wheel_alignment': [True, 0],\n",
       " '_dlcRight_pupil_diameter_snr': [False, 4.004],\n",
       " '_task_response_feedback_delays': 0.9965576592082617,\n",
       " '_dlcBody_time_trace_length_match': True,\n",
       " '_dlcLeft_time_trace_length_match': True,\n",
       " '_task_error_trial_event_sequence': 0.9906542056074766,\n",
       " '_task_response_stimFreeze_delays': 0.9792746113989638,\n",
       " '_task_stimulus_move_before_goCue': 0.9965457685664939,\n",
       " '_task_wheel_move_before_feedback': 0.9965457685664939,\n",
       " '_dlcRight_time_trace_length_match': True,\n",
       " '_task_correct_trial_event_sequence': 0.9957805907172996,\n",
       " '_task_wheel_move_during_closed_loop': 0.9913644214162349,\n",
       " '_task_wheel_freeze_during_quiescence': 1.0,\n",
       " '_task_negative_feedback_stimOff_delays': 0.9719626168224299,\n",
       " '_task_positive_feedback_stimOff_delays': 0.9957805907172996,\n",
       " '_task_wheel_move_during_closed_loop_bpod': 1.0}"
      ]
     },
     "metadata": {},
     "output_type": "display_data"
    }
   ],
   "source": [
    "example_session = list(pass_qc)[4]\n",
    "extended_qc = one.get_details(example_session, True)['extended_qc']\n",
    "extended_qc\n"
   ]
  },
  {
   "cell_type": "markdown",
   "metadata": {},
   "source": [
    "### Parameters"
   ]
  },
  {
   "cell_type": "code",
   "execution_count": null,
   "metadata": {},
   "outputs": [],
   "source": [
    "bin_size = 0.1  # seconds\n",
    "video_type = 'left'    "
   ]
  },
  {
   "cell_type": "code",
   "execution_count": null,
   "metadata": {},
   "outputs": [
    {
     "name": "stdout",
     "output_type": "stream",
     "text": [
      "d32876dd-8303-4720-8e7e-20678dc2fd71\n"
     ]
    },
    {
     "ename": "",
     "evalue": "",
     "output_type": "error",
     "traceback": [
      "\u001b[1;31mCannot execute code, session has been disposed. Please try restarting the Kernel."
     ]
    },
    {
     "ename": "",
     "evalue": "",
     "output_type": "error",
     "traceback": [
      "\u001b[1;31mCannot execute code, session has been disposed. Please try restarting the Kernel. \n",
      "\n",
      "\u001b[1;31mView Jupyter <a href='command:jupyter.viewOutput'>log</a> for further details."
     ]
    }
   ],
   "source": [
    "# Can further filter based on actual frame rate (if it is not the expected one)\n",
    "def check_fr(one, pass_qc, video_type):\n",
    "    frame_rate = pass_qc.copy()\n",
    "    frame_rate['frame_rate'] = np.zeros(len(pass_qc)) * np.nan\n",
    "    for s, session in enumerate(pass_qc['session_uuid']):\n",
    "        try:\n",
    "            \n",
    "            mouse_name = pass_qc['subject_nickname'][s]\n",
    "            dlc_times, XYs = get_dlc_XYs(one, session, view=video_type, likelihood_thresh=0.9)\n",
    "            frt = 1/np.mean(np.diff(dlc_times))\n",
    "            \n",
    "            # Save\n",
    "            frame_rate.loc[(frame_rate['subject_nickname']==mouse_name) & \n",
    "                        (frame_rate['session_uuid']==session), 'frame_rate'] = frt\n",
    "\n",
    "        except:\n",
    "            print(session)\n",
    "    return frame_rate\n",
    "\n",
    "frame_rate = check_fr(pass_qc)"
   ]
  },
  {
   "cell_type": "code",
   "execution_count": null,
   "metadata": {},
   "outputs": [],
   "source": [
    "for s, session in enumerate(pass_qc['session_uuid']):\n",
    "    try:\n",
    "        mouse_name = list(pass_qc.loc[pass_qc['session_uuid']==session, 'subject_nickname'])[0]\n",
    "\n",
    "        session_trials = one.load_object(session, obj='trials', namespace='ibl')\n",
    "        session_trials = session_trials.to_df()\n",
    "\n",
    "        # Licks\n",
    "        session_licks = get_lick_times(one, session, combine=False, video_type=video_type)\n",
    "\n",
    "        # Wheel\n",
    "        wheel = one.load_object(session, 'wheel', collection='alf')\n",
    "        pos, wheel_times = wh.interpolate_position(wheel.timestamps, wheel.position)\n",
    "\n",
    "        # # Pupil diameter\n",
    "        pupil_dia_raw, pupil_dia_smooth, _, _ = (\n",
    "            get_raw_and_smooth_position(one, session, video_type, ephys=True, position_function=get_pupil_diameter))\n",
    "        dlc_times, XYs = get_dlc_XYs(one, session, view=video_type, likelihood_thresh=0.9)\n",
    "        \n",
    "        # # Pupil position\n",
    "        pupil_X, pupil_Y = pupil_center(XYs)\n",
    "        \n",
    "        # Motion energy of whisker pad\n",
    "        me_times, motion_energy = get_ME(one, session, video_type)       \n",
    "        motion_energy = zscore(motion_energy, nan_policy='omit') \n",
    "        \n",
    "        # Nose positions\n",
    "        nose_X, nose_Y = nose_tip(XYs)\n",
    "\n",
    "        # Left paw positions\n",
    "        left_paw_X, left_paw_Y = left_paw(XYs)\n",
    "        \n",
    "        # Right paw positions\n",
    "        right_paw_X, right_paw_Y = right_paw(XYs)\n",
    "        \n",
    "        # Code below is for further processing video data into design matrix (binning, merging, etc)\n",
    "        \"\"\"\n",
    "        # Get session values\n",
    "        # session_length = list(session_trials['stimOff_times'][-1:])[0]  # TODO: this might not work if stimOff times are missing\n",
    "        # n_bins = int(np.floor(session_length/bin_size))\n",
    "        # onsets = session_trials['stimOn_times']\n",
    "\n",
    "        # Initialize dataframe\n",
    "        licking = lick_rate(bin_size, session_licks, session_trials)\n",
    "        wheel_vel = wheel_velocity(bin_size, wheel_times, pos, session_trials)\n",
    "        wheel_disp = wheel_displacement(wheel_times, pos, session_trials, bin_size, onset_subtraction=True)\n",
    "        pupil_dia = pupil_diam(dlc_times, pupil_dia_smooth, session_trials, bin_size, onset_subtraction=True)\n",
    "        whisker_me = cont_bin(me_times, motion_energy, session_trials, bin_size)\n",
    "        left_X = cont_bin(dlc_times, left_paw_X, session_trials, bin_size)\n",
    "        left_Y = cont_bin(dlc_times, left_paw_Y, session_trials, bin_size)\n",
    "        right_X = cont_bin(dlc_times, right_paw_X, session_trials, bin_size)\n",
    "        right_Y = cont_bin(dlc_times, right_paw_Y, session_trials, bin_size)\n",
    "        pupil_X_pos = cont_bin(dlc_times, pupil_X, session_trials, bin_size)\n",
    "        pupil_Y_pos = cont_bin(dlc_times, pupil_Y, session_trials, bin_size)\n",
    "        nose_X_pos = cont_bin(dlc_times, nose_X, session_trials, bin_size)\n",
    "        nose_Y_pos = cont_bin(dlc_times, nose_Y, session_trials, bin_size)\n",
    "        \n",
    "        # Rename column names\n",
    "        pupil_dia = pupil_dia.rename(columns={'pupil_final':'pupil_diameter'})\n",
    "        whisker_me = whisker_me.rename(columns={'Values':'whisker_me'})\n",
    "        left_X = left_X.rename(columns={'Values':'left_X'})\n",
    "        left_Y = left_Y.rename(columns={'Values':'left_Y'})\n",
    "        right_X = right_X.rename(columns={'Values':'right_X'})\n",
    "        right_Y = right_Y.rename(columns={'Values':'right_Y'})\n",
    "        pupil_X_pos = pupil_X_pos.rename(columns={'Values':'pupil_X'})\n",
    "        pupil_Y_pos = pupil_Y_pos.rename(columns={'Values':'pupil_Y'})   \n",
    "        nose_X_pos = nose_X_pos.rename(columns={'Values':'nose_X'})\n",
    "        nose_Y_pos = nose_Y_pos.rename(columns={'Values':'nose_Y'})     \n",
    "        \n",
    "        # Merge all tables\n",
    "        all_metrics = wheel_vel[['Bin', 'avg_wheel_vel']].dropna().merge(licking[['Bin', 'Lick count']], on='Bin', how='outer')\n",
    "        all_metrics = all_metrics.merge(wheel_disp[['Bin', 'wheel_final']], on='Bin', how='outer')\n",
    "        # all_metrics = all_metrics.merge(pupil_dia[['Bin', 'pupil_diameter']], on='Bin', how='outer')\n",
    "        all_metrics = all_metrics.merge(whisker_me[['Bin', 'whisker_me']], on='Bin', how='outer')\n",
    "        all_metrics = all_metrics.merge(left_X[['Bin', 'left_X']], on='Bin', how='outer')\n",
    "        all_metrics = all_metrics.merge(left_Y[['Bin', 'left_Y']], on='Bin', how='outer')\n",
    "        all_metrics = all_metrics.merge(right_X[['Bin', 'right_X']], on='Bin', how='outer')\n",
    "        all_metrics = all_metrics.merge(right_Y[['Bin', 'right_Y']], on='Bin', how='outer')\n",
    "        # all_metrics = all_metrics.merge(pupil_X_pos[['Bin', 'pupil_X']], on='Bin', how='outer')\n",
    "        # all_metrics = all_metrics.merge(pupil_Y_pos[['Bin', 'pupil_Y']], on='Bin', how='outer')\n",
    "        all_metrics = all_metrics.merge(nose_X_pos[['Bin', 'nose_X']], on='Bin', how='outer')\n",
    "        all_metrics = all_metrics.merge(nose_Y_pos[['Bin', 'nose_Y']], on='Bin', how='outer')\n",
    "\n",
    "        # Remove Nans before adding more data or else this breaks (not sure if this is really tru, but worked like this)\n",
    "        all_metrics['Lick count'] = all_metrics['Lick count'].replace(np.NaN, 0)\n",
    "        all_metrics = all_metrics.dropna().drop_duplicates()\n",
    "\n",
    "        # # Save design matrix\n",
    "        # data_path =  '/home/ines/repositories/representation_learning_variability/DATA/Sub-trial/Design matrix/v4_5Jul2024/' + str(bin_size) + '/'\n",
    "        # os.chdir(data_path)\n",
    "        # pickle.dump(all_metrics, open(\"design_matrix_\" + str(session) + '_'  + mouse_name + '_' + str(bin_size), \"wb\"))\n",
    "        \"\"\"\n",
    "    except:\n",
    "       print(session)\n"
   ]
  }
 ],
 "metadata": {
  "language_info": {
   "name": "python"
  }
 },
 "nbformat": 4,
 "nbformat_minor": 2
}
