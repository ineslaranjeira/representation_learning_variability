{
 "cells": [
  {
   "attachments": {},
   "cell_type": "markdown",
   "metadata": {},
   "source": [
    "# Combination of fits of different models"
   ]
  },
  {
   "cell_type": "code",
   "execution_count": 2,
   "metadata": {},
   "outputs": [
    {
     "name": "stderr",
     "output_type": "stream",
     "text": [
      "No GPU/TPU found, falling back to CPU. (Set TF_CPP_MIN_LOG_LEVEL=0 and rerun for more info.)\n"
     ]
    }
   ],
   "source": [
    "\n",
    "\"\"\" \n",
    "IMPORTS\n",
    "\"\"\"\n",
    "import os\n",
    "import autograd.numpy as np\n",
    "import pickle\n",
    "from sklearn.preprocessing import StandardScaler, MinMaxScaler, Normalizer\n",
    "import seaborn as sns\n",
    "from collections import defaultdict\n",
    "import pandas as pd\n",
    "\n",
    "from one.api import ONE\n",
    "from jax import vmap\n",
    "from pprint import pprint\n",
    "import jax.numpy as jnp\n",
    "import jax.random as jr\n",
    "import matplotlib.pyplot as plt\n",
    "# from dynamax.hidden_markov_model import GaussianHMM\n",
    "from dynamax.hidden_markov_model import LinearAutoregressiveHMM\n",
    "from dynamax.hidden_markov_model import PoissonHMM\n",
    "\n",
    "from dynamax.utils.plotting import gradient_cmap\n",
    "from dynamax.utils.utils import random_rotation\n",
    "\n",
    "# Get my functions\n",
    "functions_path =  '/home/ines/repositories/representation_learning_variability/Models/Sub-trial//2_fit_models/'\n",
    "#functions_path = '/Users/ineslaranjeira/Documents/Repositories/representation_learning_variability//Models/Sub-trial//2_fit_models/'\n",
    "os.chdir(functions_path)\n",
    "from preprocessing_functions import idxs_from_files, prepro_design_matrix, concatenate_sessions, fix_discontinuities\n",
    "from fitting_functions import cross_validate_armodel, compute_inputs\n",
    "\n",
    "functions_path =  '/home/ines/repositories/representation_learning_variability/Models/Sub-trial//3_postprocess_results/'\n",
    "# functions_path = '/Users/ineslaranjeira/Documents/Repositories/representation_learning_variability//Models/Sub-trial//2_fit_models/'\n",
    "os.chdir(functions_path)\n",
    "from postprocessing_functions import best__kappa, best_lag_kappa\n",
    "\n",
    "one = ONE()"
   ]
  },
  {
   "cell_type": "markdown",
   "metadata": {},
   "source": [
    "## Parameters"
   ]
  },
  {
   "cell_type": "code",
   "execution_count": 3,
   "metadata": {},
   "outputs": [],
   "source": [
    "bin_size = 0.1\n",
    "\n",
    "# Plotting params\n",
    "multiplier = 1/bin_size\n",
    "\n",
    "event_type_list = ['goCueTrigger_times']  # , 'feedback_times', 'firstMovement_times'\n",
    "event_type_name = ['Go cue']  # , 'Feedback time', 'First movement onset'\n"
   ]
  },
  {
   "attachments": {},
   "cell_type": "markdown",
   "metadata": {},
   "source": [
    "## Data path"
   ]
  },
  {
   "cell_type": "code",
   "execution_count": 4,
   "metadata": {},
   "outputs": [],
   "source": [
    "data_path =  '/home/ines/repositories/representation_learning_variability/DATA/Sub-trial/Design matrix/' + 'v4_5Jul2024/' + str(bin_size) + '/'\n",
    "\n",
    "os.chdir(data_path)\n",
    "design_matrices = os.listdir(data_path)\n",
    "\n",
    "var_sets = [['avg_wheel_vel'], ['nose_X', 'nose_Y'], ['Lick count'], \n",
    "                    ['left_X', 'left_Y', 'right_X', 'right_Y'], ['whisker_me']]\n",
    "# var_sets = [['avg_wheel_vel'], ['nose_X', 'nose_Y'], \n",
    "#                     ['left_X', 'left_Y', 'right_X', 'right_Y'], ['whisker_me']]\n",
    "    \n",
    "# Load frame rate\n",
    "fr_path =  '/home/ines/repositories/representation_learning_variability/DATA/Sub-trial/Design matrix/frame_rate/'\n",
    "os.chdir(fr_path)\n",
    "frame_rate = pickle.load(open(fr_path + \"frame_rate\", \"rb\"))\n"
   ]
  },
  {
   "attachments": {},
   "cell_type": "markdown",
   "metadata": {},
   "source": [
    "## Get mice list"
   ]
  },
  {
   "cell_type": "code",
   "execution_count": 5,
   "metadata": {},
   "outputs": [
    {
     "name": "stderr",
     "output_type": "stream",
     "text": [
      "local md5 mismatch on dataset: churchlandlab/Subjects/CSHL049/2020-01-11/001/alf/_ibl_trials.stimOff_times.npy\n",
      "/home/ines/Downloads/ONE/alyx.internationalbrainlab.org/churchlandlab/Subjects/CSHL049/2020-01-11/001/alf/_ibl_trials.stimOff_times.npy: 100%|██████████| 4.60k/4.60k [00:00<00:00, 13.6kB/s]\n",
      "local md5 mismatch on dataset: cortexlab/Subjects/KS014/2019-12-03/001/alf/_ibl_trials.goCueTrigger_times.npy\n",
      "/home/ines/Downloads/ONE/alyx.internationalbrainlab.org/cortexlab/Subjects/KS014/2019-12-03/001/alf/_ibl_trials.goCueTrigger_times.npy: 100%|██████████| 4.38k/4.38k [00:00<00:00, 13.5kB/s]\n"
     ]
    }
   ],
   "source": [
    "idxs, mouse_names = idxs_from_files(one, design_matrices, frame_rate, data_path, bin_size)"
   ]
  },
  {
   "cell_type": "markdown",
   "metadata": {},
   "source": [
    "## Parameters"
   ]
  },
  {
   "cell_type": "code",
   "execution_count": 6,
   "metadata": {},
   "outputs": [],
   "source": [
    "num_iters = 100\n",
    "num_train_batches = 5\n",
    "method = 'kmeans'\n",
    "threshold = 0.05\n",
    "\n",
    "num_lags = 11  # First order ARHMM\n",
    "num_states = 2\n",
    "kappa = 1000\n",
    "\n",
    "# Plotting params\n",
    "bin_size = 0.1\n",
    "\n",
    "# Values for grid search (should get this from results)\n",
    "last_lag = 20\n",
    "lag_step = 2\n",
    "start_lag = 1\n",
    "Lags = list(range(start_lag, last_lag, lag_step))\n",
    "kappas = [0, 1, 5, 10, 100, 500, 1000, 2000, 5000, 7000, 10000]"
   ]
  },
  {
   "attachments": {},
   "cell_type": "markdown",
   "metadata": {},
   "source": [
    "## Fit sessions with params from best fit for all variable sets (models)"
   ]
  },
  {
   "cell_type": "code",
   "execution_count": 7,
   "metadata": {},
   "outputs": [
    {
     "name": "stderr",
     "output_type": "stream",
     "text": [
      "local md5 mismatch on dataset: churchlandlab/Subjects/CSHL049/2020-01-11/001/alf/_ibl_trials.stimOff_times.npy\n",
      "/home/ines/Downloads/ONE/alyx.internationalbrainlab.org/churchlandlab/Subjects/CSHL049/2020-01-11/001/alf/_ibl_trials.stimOff_times.npy: 100%|██████████| 4.60k/4.60k [00:00<00:00, 13.8kB/s]\n",
      "local md5 mismatch on dataset: cortexlab/Subjects/KS014/2019-12-03/001/alf/_ibl_trials.goCueTrigger_times.npy\n",
      "/home/ines/Downloads/ONE/alyx.internationalbrainlab.org/cortexlab/Subjects/KS014/2019-12-03/001/alf/_ibl_trials.goCueTrigger_times.npy: 100%|██████████| 4.38k/4.38k [00:00<00:00, 13.8kB/s]\n",
      "local md5 mismatch on dataset: churchlandlab/Subjects/CSHL049/2020-01-11/001/alf/_ibl_trials.stimOff_times.npy\n",
      "/home/ines/Downloads/ONE/alyx.internationalbrainlab.org/churchlandlab/Subjects/CSHL049/2020-01-11/001/alf/_ibl_trials.stimOff_times.npy: 100%|██████████| 4.60k/4.60k [00:00<00:00, 13.5kB/s]\n",
      "local md5 mismatch on dataset: cortexlab/Subjects/KS014/2019-12-03/001/alf/_ibl_trials.goCueTrigger_times.npy\n",
      "/home/ines/Downloads/ONE/alyx.internationalbrainlab.org/cortexlab/Subjects/KS014/2019-12-03/001/alf/_ibl_trials.goCueTrigger_times.npy: 100%|██████████| 4.38k/4.38k [00:00<00:00, 13.0kB/s]\n",
      "local md5 mismatch on dataset: churchlandlab/Subjects/CSHL049/2020-01-11/001/alf/_ibl_trials.stimOff_times.npy\n",
      "/home/ines/Downloads/ONE/alyx.internationalbrainlab.org/churchlandlab/Subjects/CSHL049/2020-01-11/001/alf/_ibl_trials.stimOff_times.npy: 100%|██████████| 4.60k/4.60k [00:00<00:00, 14.4kB/s]\n",
      "local md5 mismatch on dataset: cortexlab/Subjects/KS014/2019-12-03/001/alf/_ibl_trials.goCueTrigger_times.npy\n",
      "/home/ines/Downloads/ONE/alyx.internationalbrainlab.org/cortexlab/Subjects/KS014/2019-12-03/001/alf/_ibl_trials.goCueTrigger_times.npy: 100%|██████████| 4.38k/4.38k [00:00<00:00, 13.8kB/s]\n",
      "local md5 mismatch on dataset: churchlandlab/Subjects/CSHL049/2020-01-11/001/alf/_ibl_trials.stimOff_times.npy\n",
      "/home/ines/Downloads/ONE/alyx.internationalbrainlab.org/churchlandlab/Subjects/CSHL049/2020-01-11/001/alf/_ibl_trials.stimOff_times.npy: 100%|██████████| 4.60k/4.60k [00:00<00:00, 14.9kB/s]\n",
      "local md5 mismatch on dataset: cortexlab/Subjects/KS014/2019-12-03/001/alf/_ibl_trials.goCueTrigger_times.npy\n",
      "/home/ines/Downloads/ONE/alyx.internationalbrainlab.org/cortexlab/Subjects/KS014/2019-12-03/001/alf/_ibl_trials.goCueTrigger_times.npy: 100%|██████████| 4.38k/4.38k [00:00<00:00, 13.5kB/s]\n",
      "local md5 mismatch on dataset: churchlandlab/Subjects/CSHL049/2020-01-11/001/alf/_ibl_trials.stimOff_times.npy\n",
      "/home/ines/Downloads/ONE/alyx.internationalbrainlab.org/churchlandlab/Subjects/CSHL049/2020-01-11/001/alf/_ibl_trials.stimOff_times.npy: 100%|██████████| 4.60k/4.60k [00:00<00:00, 15.1kB/s]\n",
      "local md5 mismatch on dataset: cortexlab/Subjects/KS014/2019-12-03/001/alf/_ibl_trials.goCueTrigger_times.npy\n",
      "/home/ines/Downloads/ONE/alyx.internationalbrainlab.org/cortexlab/Subjects/KS014/2019-12-03/001/alf/_ibl_trials.goCueTrigger_times.npy: 100%|██████████| 4.38k/4.38k [00:00<00:00, 13.3kB/s]\n"
     ]
    }
   ],
   "source": [
    "\n",
    "for s, set in enumerate(var_sets):\n",
    "    \n",
    "    var_names = set\n",
    "    \n",
    "    # Get data for all mice for the model of interest\n",
    "    os.chdir(data_path)\n",
    "    matrix_all, matrix_all_unnorm, session_all = prepro_design_matrix(one, idxs, mouse_names, \n",
    "                                                                      bin_size, var_names, data_path, first_90=True)\n",
    "    collapsed_matrices, collapsed_unnorm, collapsed_trials = concatenate_sessions(mouse_names, matrix_all, \n",
    "                                                                                   matrix_all_unnorm, session_all)\n",
    "    \n",
    "    # Loop through animals\n",
    "    for m, mat in enumerate(idxs[0:1]):\n",
    "        if len(mat) > 35: \n",
    "            mat = '46794e05-3f6a-4d35-afb3-9165091a5a74_CSHL045'\n",
    "            \n",
    "            mouse_name = mat[37:]\n",
    "            session = mat[0:36]\n",
    "            \n",
    "            # Get design_matrix\n",
    "            design_matrix = collapsed_matrices[mouse_name]\n",
    "            if len(np.shape(design_matrix)) > 2:\n",
    "                design_matrix = design_matrix[0]\n",
    "            \n",
    "            # Get results from grid search\n",
    "            results_path =  '/home/ines/repositories/representation_learning_variability/DATA/Sub-trial/Results/grid_search'\n",
    "            os.chdir(results_path)\n",
    "            all_lls, all_baseline_lls, all_init_params, all_fit_params = pickle.load(open(\"best_results_\" + var_names[0] + '_' + mouse_name, \"rb\"))\n",
    "    \n",
    "            # Prepare data \n",
    "            num_timesteps = np.shape(design_matrix)[0]\n",
    "            emission_dim = np.shape(design_matrix)[1]\n",
    "            shortened_array = np.array(design_matrix[:(num_timesteps // num_train_batches) * num_train_batches])\n",
    "            train_emissions = jnp.stack(jnp.split(shortened_array, num_train_batches))\n",
    "            \n",
    "            # Retrieve best fits\n",
    "            if 'Lick count' in var_names:\n",
    "                best_kappa, mean_bits_LL, best_fold = best__kappa(all_lls, all_baseline_lls, design_matrix, num_train_batches, kappas)\n",
    "                index_kappa = np.where(np.array(kappas)==best_kappa)[0][0]\n",
    "                use_fold = int(best_fold[index_kappa])\n",
    "                \n",
    "                \" Fit model with best params\"\n",
    "        \n",
    "                best_params = all_fit_params[best_kappa]\n",
    "                \n",
    "                # Find parameters for best fold\n",
    "                initial_probs = best_params[0].probs[use_fold]\n",
    "                transition_matrix = best_params[1].transition_matrix[use_fold]\n",
    "                emission_rates = best_params[2].rates[use_fold]      \n",
    "                \n",
    "                # Initialize new hmm\n",
    "                test_phmm = PoissonHMM(num_states, emission_dim, transition_matrix_stickiness=best_kappa)\n",
    "                best_fold_params, props = test_phmm.initialize(key=jr.PRNGKey(0), method=method,\n",
    "                                                initial_probs=initial_probs,\n",
    "                                                transition_matrix=transition_matrix,               \n",
    "                                                emission_rates=emission_rates)  # not sure if I need to include  \n",
    "                \n",
    "                # Get state estimates for validation data\n",
    "                most_likely_states = test_phmm.most_likely_states(best_fold_params, shortened_array)\n",
    "                \n",
    "            else:\n",
    "                best_lag, best_kappa, mean_bits_LL, best_fold = best_lag_kappa(all_lls, all_baseline_lls, design_matrix, num_train_batches, kappas, Lags)\n",
    "                index_lag = np.where(np.array(Lags)==best_lag)[0][0]\n",
    "                index_kappa = np.where(np.array(kappas)==best_kappa)[0][0]\n",
    "                use_fold = int(best_fold[index_lag, index_kappa])\n",
    "            \n",
    "                \" Fit model with best params\"\n",
    "                # Compute inputs for required timelags\n",
    "                my_inputs = compute_inputs(shortened_array, best_lag, emission_dim)\n",
    "                train_inputs = jnp.stack(jnp.split(my_inputs, num_train_batches))\n",
    "                \n",
    "                best_params = all_fit_params[best_lag][best_kappa]\n",
    "                \n",
    "                # Find parameters for best fold\n",
    "                initial_probs = best_params[0].probs[use_fold]\n",
    "                transition_matrix = best_params[1].transition_matrix[use_fold]\n",
    "                emission_weights = best_params[2].weights[use_fold]\n",
    "                emission_biases = best_params[2].biases[use_fold]\n",
    "                emission_covariances = best_params[2].covs[use_fold]        \n",
    "                \n",
    "                # Initialize new hmm\n",
    "                new_arhmm = LinearAutoregressiveHMM(num_states, emission_dim, num_lags=best_lag, transition_matrix_stickiness=best_kappa)\n",
    "                best_fold_params, props = new_arhmm.initialize(key=jr.PRNGKey(0), method=method,\n",
    "                                                initial_probs=initial_probs,\n",
    "                                                transition_matrix=transition_matrix,               \n",
    "                                                emission_weights=emission_weights,\n",
    "                                                emission_biases=emission_biases, \n",
    "                                                emission_covariances=emission_covariances,\n",
    "                                                emissions=shortened_array)  # not sure if I need to include  \n",
    "                \n",
    "                # Get state estimates for validation data\n",
    "                most_likely_states = new_arhmm.most_likely_states(best_fold_params, shortened_array, my_inputs)\n",
    "\n",
    "            to_save = most_likely_states, use_fold\n",
    "            \n",
    "            # Save most_likely_states\n",
    "            states_results_path =  '/home/ines/repositories/representation_learning_variability/DATA/Sub-trial/Results/most_likely_states'\n",
    "            os.chdir(states_results_path)\n",
    "            pickle.dump(to_save, open(\"most_likely_states\" + var_names[0] + '_' + mouse_name , \"wb\"))   \n",
    "        "
   ]
  }
 ],
 "metadata": {
  "kernelspec": {
   "display_name": "iblenv",
   "language": "python",
   "name": "python3"
  },
  "language_info": {
   "codemirror_mode": {
    "name": "ipython",
    "version": 3
   },
   "file_extension": ".py",
   "mimetype": "text/x-python",
   "name": "python",
   "nbconvert_exporter": "python",
   "pygments_lexer": "ipython3",
   "version": "3.9.15"
  },
  "orig_nbformat": 4,
  "vscode": {
   "interpreter": {
    "hash": "21541729b5da47a594818561e91cb4175a7e192d68b7cc4221509f43b2f902b5"
   }
  }
 },
 "nbformat": 4,
 "nbformat_minor": 2
}
