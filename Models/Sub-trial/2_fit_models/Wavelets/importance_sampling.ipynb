{
 "cells": [
  {
   "attachments": {},
   "cell_type": "markdown",
   "metadata": {},
   "source": [
    "# Importance sampling"
   ]
  },
  {
   "cell_type": "code",
   "execution_count": 67,
   "metadata": {},
   "outputs": [],
   "source": [
    "\n",
    "\"\"\" \n",
    "IMPORTS\n",
    "\"\"\"\n",
    "import os\n",
    "import numpy as np\n",
    "import pickle\n",
    "import pandas as pd\n",
    "from one.api import ONE\n",
    "from sklearn.manifold import TSNE\n",
    "from matplotlib import pyplot as plt\n",
    "from scipy import stats\n",
    "\n",
    "# Get my functions\n",
    "functions_path =  '/home/ines/repositories/representation_learning_variability/Models/Sub-trial//2_fit_models/'\n",
    "#functions_path = '/Users/ineslaranjeira/Documents/Repositories/representation_learning_variability//Models/Sub-trial//2_fit_models/'\n",
    "os.chdir(functions_path)\n",
    "from preprocessing_functions import idxs_from_files\n",
    "functions_path =  '/home/ines/repositories/representation_learning_variability/Functions/'\n",
    "os.chdir(functions_path)\n",
    "from data_processing import save_and_log\n",
    "\n",
    "one = ONE(mode='remote')"
   ]
  },
  {
   "cell_type": "markdown",
   "metadata": {},
   "source": [
    "## Parameters"
   ]
  },
  {
   "cell_type": "code",
   "execution_count": 4,
   "metadata": {},
   "outputs": [],
   "source": [
    "# Parameters\n",
    "bin_size = 0.017\n",
    "multiplier=1\n",
    "num_states = 2\n",
    "num_train_batches = 5\n",
    "\n",
    "event_type_list = ['goCueTrigger_times']  # , 'feedback_times', 'firstMovement_times'\n",
    "event_type_name = ['Go cue']  # , 'Feedback time', 'First movement onset'\n",
    "\n",
    "# LOAD DATA\n",
    "cv_results_path = '/home/ines/repositories/representation_learning_variability/DATA/Sub-trial/Results/'  + str(bin_size) + '/'+str(num_states)+'_states/most_likely_states/'\n",
    "data_path ='/home/ines/repositories/representation_learning_variability/DATA/Sub-trial/Design matrix/' + 'v5_15Jan2025/' + str(bin_size) + '/'\n",
    "grid_search_path = '/home/ines/repositories/representation_learning_variability/DATA/Sub-trial/Results/'  + str(bin_size) + '/'+str(num_states)+'_states/grid_search/individual_sessions/'\n",
    "\n",
    "all_files = os.listdir(data_path)\n",
    "design_matrices = [item for item in all_files if 'design_matrix' in item and 'standardized' not in item]\n",
    "idxs, mouse_names = idxs_from_files(design_matrices, bin_size)\n",
    "\n",
    "use_sets = [['avg_wheel_vel'], ['whisker_me'], ['Lick count'], ['0.25', '0.5',\n",
    "    '1.0', '2.0', '4.0', '8.0', '16.0']]\n",
    "var_interest_map = ['avg_wheel_vel', 'whisker_me', 'Lick count', 'wavelet']\n",
    "idx_init_list = [0, 1, 2, 3]\n",
    "idx_end_list = [1, 2, 3, 10]\n",
    "\n",
    "use_sets = [['avg_wheel_vel'], ['whisker_me'], ['Lick count'], ['0.5',\n",
    "    '1.0', '2.0', '4.0', '8.0']]\n",
    "var_interest_map = ['avg_wheel_vel', 'whisker_me', 'Lick count', 'wavelet']\n",
    "idx_init_list = [0, 1, 2, 4]\n",
    "idx_end_list = [1, 2, 3, 9]\n",
    "\n",
    "var_interest = 'wavelet'\n"
   ]
  },
  {
   "cell_type": "markdown",
   "metadata": {},
   "source": [
    "# Subsample and embedd "
   ]
  },
  {
   "cell_type": "code",
   "execution_count": 5,
   "metadata": {},
   "outputs": [],
   "source": [
    "# Identify sessions availableto process\n",
    "sessions_to_process = []\n",
    "for m, mat in enumerate(idxs):\n",
    "    mouse_name = mat[37:]\n",
    "    session = mat[:36]\n",
    "    sessions_to_process.append((mouse_name, session))"
   ]
  },
  {
   "cell_type": "code",
   "execution_count": 53,
   "metadata": {},
   "outputs": [],
   "source": [
    "def plot_kde(X_embedded, kernel):\n",
    "    xmin = -150\n",
    "    xmax = 150\n",
    "    ymin=-150\n",
    "    ymax=150\n",
    "    X, Y = np.mgrid[xmin:xmax:100j, ymin:ymax:100j]\n",
    "    positions = np.vstack([X.ravel(), Y.ravel()])\n",
    "    Z = np.reshape(kernel(positions).T, X.shape)\n",
    "\n",
    "    fig, ax = plt.subplots()\n",
    "    ax.imshow(np.rot90(Z), cmap=plt.cm.gist_earth_r,\n",
    "            extent=[xmin, xmax, ymin, ymax])\n",
    "    ax.plot(X_embedded[:, 0], X_embedded[:, 1], 'k.', markersize=2)\n",
    "    ax.set_xlim([xmin, xmax])\n",
    "    ax.set_ylim([ymin, ymax])\n",
    "    plt.show()"
   ]
  },
  {
   "cell_type": "code",
   "execution_count": 62,
   "metadata": {},
   "outputs": [],
   "source": [
    "concatenated_subsampled = np.array([])\n",
    "\n",
    "index_var = np.where(np.array(var_interest_map)==var_interest)[0][0]\n",
    "idx_init = idx_init_list[index_var]\n",
    "idx_end = idx_end_list[index_var]\n",
    "var_names = use_sets[index_var]\n",
    "\n",
    "for m, mat in enumerate(sessions_to_process):\n",
    "\n",
    "    mouse_name = mat[0]\n",
    "    session = mat[1]\n",
    "\n",
    "    fit_id = str(mouse_name+session)\n",
    "\n",
    "    # Get standardized design_matrix\n",
    "    filename = data_path + \"standardized_design_matrix_\" + str(session) + '_'  + mouse_name\n",
    "    standardized_designmatrix = np.load(filename+str('.npy'))\n",
    "    filtered_matrix = standardized_designmatrix[~np.isnan(standardized_designmatrix).any(axis=1)]  # Need to dropnans\n",
    "    # design_matrix = np.abs(filtered_matrix.copy()[:, idx_init:idx_end])\n",
    "    design_matrix = filtered_matrix.copy()[:, idx_init:idx_end]\n",
    "\n",
    "    num_timesteps = np.shape(design_matrix)[0]\n",
    "    data = design_matrix[:(num_timesteps // num_train_batches) * num_train_batches]\n",
    "    \n",
    "    \"\"\" Randomly subsample \"\"\"\n",
    "    n_samples = 20000\n",
    "    sampled_indices = np.random.choice(data.shape[0], \n",
    "                                       n_samples, \n",
    "                                       replace=False)\n",
    "    sampled_data = data[sampled_indices, :]\n",
    "    \n",
    "    \"\"\" Perform t-SNE \"\"\"\n",
    "    X = sampled_data.copy()\n",
    "    X_embedded = TSNE(n_components=2, learning_rate='auto',\n",
    "                  init='random', perplexity=32).fit_transform(X)\n",
    "    # plt.scatter(X_embedded[:, 0], X_embedded[:, 1], alpha=0.02)\n",
    "    \n",
    "    \"\"\" Perform Gaussian kde \"\"\"\n",
    "    values = X_embedded.T.copy()\n",
    "    kernel = stats.gaussian_kde(values)\n",
    "    # plot_kde(X_embedded, kernel)\n",
    "    \n",
    "    \"\"\" Resample weighted by kde estimate \"\"\"\n",
    "    sample_prob = kernel(values)\n",
    "    norm_sample_prob = sample_prob/ np.sum(sample_prob)\n",
    "    resampled_indices = np.random.choice(sampled_data.shape[0], \n",
    "                                    size=2000, \n",
    "                                    p=norm_sample_prob, replace=False)\n",
    "    resampled_data = sampled_data[resampled_indices, :]\n",
    "    \n",
    "    \"\"\" Concatenate session \"\"\"\n",
    "    if len(concatenated_subsampled) == 0:\n",
    "        concatenated_subsampled = resampled_data.copy()\n",
    "    else:\n",
    "        concatenated_subsampled = np.vstack([concatenated_subsampled, resampled_data])\n",
    "        "
   ]
  },
  {
   "cell_type": "markdown",
   "metadata": {},
   "source": [
    "## Save data"
   ]
  },
  {
   "cell_type": "code",
   "execution_count": 65,
   "metadata": {},
   "outputs": [],
   "source": [
    "assert concatenated_subsampled.shape[0] == 2000 * len(sessions_to_process)"
   ]
  },
  {
   "cell_type": "code",
   "execution_count": 74,
   "metadata": {},
   "outputs": [],
   "source": [
    "file_to_save = concatenated_subsampled.copy()\n",
    "filename = 'supersession_wavelets'\n",
    "save_path = '/home/ines/repositories/representation_learning_variability/Models/Maths intuitions/Wavelets/'\n",
    "file_format = 'npy'\n",
    "script_name = 'importance_sampling.ipynb'\n",
    "metadata = save_and_log(file_to_save, filename, file_format, save_path, script_name)"
   ]
  }
 ],
 "metadata": {
  "kernelspec": {
   "display_name": "iblenv",
   "language": "python",
   "name": "python3"
  },
  "language_info": {
   "codemirror_mode": {
    "name": "ipython",
    "version": 3
   },
   "file_extension": ".py",
   "mimetype": "text/x-python",
   "name": "python",
   "nbconvert_exporter": "python",
   "pygments_lexer": "ipython3",
   "version": "3.9.15"
  },
  "orig_nbformat": 4,
  "vscode": {
   "interpreter": {
    "hash": "21541729b5da47a594818561e91cb4175a7e192d68b7cc4221509f43b2f902b5"
   }
  }
 },
 "nbformat": 4,
 "nbformat_minor": 2
}
