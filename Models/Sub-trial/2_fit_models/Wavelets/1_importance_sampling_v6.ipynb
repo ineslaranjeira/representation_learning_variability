{
 "cells": [
  {
   "attachments": {},
   "cell_type": "markdown",
   "metadata": {},
   "source": [
    "# Importance sampling"
   ]
  },
  {
   "cell_type": "code",
   "execution_count": 7,
   "metadata": {},
   "outputs": [],
   "source": [
    "prefix = '/home/ines/repositories/'\n",
    "# prefix = '/Users/ineslaranjeira/Documents/Repositories/'"
   ]
  },
  {
   "cell_type": "code",
   "execution_count": 9,
   "metadata": {},
   "outputs": [],
   "source": [
    "\n",
    "\"\"\" \n",
    "IMPORTS\n",
    "\"\"\"\n",
    "import os\n",
    "import numpy as np\n",
    "import pickle\n",
    "import pandas as pd\n",
    "from one.api import ONE\n",
    "from sklearn.manifold import TSNE\n",
    "from matplotlib import pyplot as plt\n",
    "from scipy import stats\n",
    "\n",
    "# Get my functions\n",
    "functions_path =  prefix + 'representation_learning_variability/Models/Sub-trial//2_fit_models/'\n",
    "os.chdir(functions_path)\n",
    "from preprocessing_functions import idxs_from_files\n",
    "functions_path =  prefix + 'representation_learning_variability/Functions/'\n",
    "os.chdir(functions_path)\n",
    "from data_processing import save_and_log\n",
    "\n",
    "one = ONE(mode='remote')"
   ]
  },
  {
   "cell_type": "code",
   "execution_count": 19,
   "metadata": {},
   "outputs": [],
   "source": [
    "# LOAD DATA\n",
    "bin_size = 0.017\n",
    "\n",
    "num_train_batches = 5\n",
    "\n",
    "data_path =prefix + 'representation_learning_variability/DATA/Sub-trial/Design matrix/' + 'v6_21Jul2025/' + str(bin_size) + '/'\n",
    "all_files = os.listdir(data_path)\n",
    "design_matrices = [item for item in all_files if 'design_matrix' in item and 'standardized' not in item]\n",
    "idxs, mouse_names = idxs_from_files(design_matrices, bin_size)"
   ]
  },
  {
   "cell_type": "markdown",
   "metadata": {},
   "source": [
    "# Subsample and embedd "
   ]
  },
  {
   "cell_type": "code",
   "execution_count": 11,
   "metadata": {},
   "outputs": [],
   "source": [
    "# Identify sessions availableto process\n",
    "sessions_to_process = []\n",
    "for m, mat in enumerate(idxs):\n",
    "    mouse_name = mat[37:]\n",
    "    session = mat[:36]\n",
    "    sessions_to_process.append((mouse_name, session))"
   ]
  },
  {
   "cell_type": "code",
   "execution_count": 13,
   "metadata": {},
   "outputs": [],
   "source": [
    "def plot_kde(X_embedded, kernel):\n",
    "    xmin = -150\n",
    "    xmax = 150\n",
    "    ymin=-150\n",
    "    ymax=150\n",
    "    X, Y = np.mgrid[xmin:xmax:100j, ymin:ymax:100j]\n",
    "    positions = np.vstack([X.ravel(), Y.ravel()])\n",
    "    Z = np.reshape(kernel(positions).T, X.shape)\n",
    "\n",
    "    fig, ax = plt.subplots()\n",
    "    ax.imshow(np.rot90(Z), cmap=plt.cm.gist_earth_r,\n",
    "            extent=[xmin, xmax, ymin, ymax])\n",
    "    ax.plot(X_embedded[:, 0], X_embedded[:, 1], 'k.', markersize=2)\n",
    "    ax.set_xlim([xmin, xmax])\n",
    "    ax.set_ylim([ymin, ymax])\n",
    "    plt.show()"
   ]
  },
  {
   "cell_type": "code",
   "execution_count": 24,
   "metadata": {},
   "outputs": [],
   "source": [
    "concatenated_subsampled = np.array([])\n",
    "\n",
    "var_interest = ['0.5', '1.0', '2.0', '4.0', '8.0']\n",
    "\n",
    "for m, mat in enumerate(sessions_to_process):\n",
    "\n",
    "    mouse_name = mat[0]\n",
    "    session = mat[1]\n",
    "    fit_id = str(mouse_name+session)\n",
    "    filename = data_path + \"design_matrix_\" + str(session) + '_'  + mouse_name\n",
    "    original_design_matrix = pd.read_parquet(filename)\n",
    "    array_matrix = np.array(original_design_matrix)\n",
    "\n",
    "    # Remove NaNs\n",
    "    filtered_matrix = array_matrix[~np.isnan(array_matrix).any(axis=1)]\n",
    "    keys = np.where(original_design_matrix.keys().isin(var_interest))\n",
    "    design_matrix = filtered_matrix[:, keys]\n",
    "    design_matrix = np.reshape(design_matrix,(np.shape(design_matrix)[0], np.shape(design_matrix)[2]))\n",
    "\n",
    "    # Prepare data\n",
    "    num_timesteps = np.shape(design_matrix)[0]\n",
    "    data = design_matrix[:(num_timesteps // num_train_batches) * num_train_batches]\n",
    "    \n",
    "    \"\"\" Randomly subsample \"\"\"\n",
    "    n_samples = 20000\n",
    "    sampled_indices = np.random.choice(data.shape[0], \n",
    "                                       n_samples, \n",
    "                                       replace=False)\n",
    "    sampled_data = data[sampled_indices, :]\n",
    "    \n",
    "    \"\"\" Perform t-SNE \"\"\"\n",
    "    X = sampled_data.copy()\n",
    "    X_embedded = TSNE(n_components=2, learning_rate='auto',\n",
    "                  init='random', perplexity=32).fit_transform(X)\n",
    "    # plt.scatter(X_embedded[:, 0], X_embedded[:, 1], alpha=0.02)\n",
    "    \n",
    "    \"\"\" Perform Gaussian kde \"\"\"\n",
    "    values = X_embedded.T.copy()\n",
    "    kernel = stats.gaussian_kde(values)\n",
    "    # plot_kde(X_embedded, kernel)\n",
    "    \n",
    "    \"\"\" Resample weighted by kde estimate \"\"\"\n",
    "    sample_prob = kernel(values)\n",
    "    norm_sample_prob = sample_prob/ np.sum(sample_prob)\n",
    "    resampled_indices = np.random.choice(sampled_data.shape[0], \n",
    "                                    size=2000, \n",
    "                                    p=norm_sample_prob, replace=False)\n",
    "    resampled_data = sampled_data[resampled_indices, :]\n",
    "    \n",
    "    \"\"\" Concatenate session \"\"\"\n",
    "    if len(concatenated_subsampled) == 0:\n",
    "        concatenated_subsampled = resampled_data.copy()\n",
    "    else:\n",
    "        concatenated_subsampled = np.vstack([concatenated_subsampled, resampled_data])\n",
    "        "
   ]
  },
  {
   "cell_type": "markdown",
   "metadata": {},
   "source": [
    "## Save data"
   ]
  },
  {
   "cell_type": "code",
   "execution_count": 65,
   "metadata": {},
   "outputs": [],
   "source": [
    "assert concatenated_subsampled.shape[0] == 2000 * len(sessions_to_process)"
   ]
  },
  {
   "cell_type": "code",
   "execution_count": 74,
   "metadata": {},
   "outputs": [],
   "source": [
    "file_to_save = concatenated_subsampled.copy()\n",
    "filename = 'supersession_wavelets'\n",
    "save_path = '/home/ines/repositories/representation_learning_variability/Models/Maths intuitions/Wavelets/'\n",
    "file_format = 'npy'\n",
    "script_name = 'importance_sampling.ipynb'\n",
    "metadata = save_and_log(file_to_save, filename, file_format, save_path, script_name)"
   ]
  }
 ],
 "metadata": {
  "kernelspec": {
   "display_name": "iblenv",
   "language": "python",
   "name": "python3"
  },
  "language_info": {
   "codemirror_mode": {
    "name": "ipython",
    "version": 3
   },
   "file_extension": ".py",
   "mimetype": "text/x-python",
   "name": "python",
   "nbconvert_exporter": "python",
   "pygments_lexer": "ipython3",
   "version": "3.10.18"
  },
  "orig_nbformat": 4,
  "vscode": {
   "interpreter": {
    "hash": "21541729b5da47a594818561e91cb4175a7e192d68b7cc4221509f43b2f902b5"
   }
  }
 },
 "nbformat": 4,
 "nbformat_minor": 2
}
