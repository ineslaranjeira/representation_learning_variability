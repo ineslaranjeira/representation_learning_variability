{
 "cells": [
  {
   "cell_type": "code",
   "execution_count": 1,
   "metadata": {},
   "outputs": [
    {
     "name": "stdout",
     "output_type": "stream",
     "text": [
      "Loop iteration 0\n",
      "7416f387-b302-4ca3-8daf-03b585a1b7ec_SWC_052\n"
     ]
    },
    {
     "data": {
      "application/javascript": "Jupyter.notebook.kernel.restart()",
      "text/plain": [
       "<IPython.core.display.Javascript object>"
      ]
     },
     "metadata": {},
     "output_type": "display_data"
    },
    {
     "name": "stdout",
     "output_type": "stream",
     "text": [
      "Restored state: {'iteration': 0}\n",
      "Loop iteration 1\n",
      "72cb5550-43b4-4ef0-add5-e4adfdfb5e02_ZFM-02369\n"
     ]
    },
    {
     "data": {
      "application/javascript": "Jupyter.notebook.kernel.restart()",
      "text/plain": [
       "<IPython.core.display.Javascript object>"
      ]
     },
     "metadata": {},
     "output_type": "display_data"
    },
    {
     "name": "stdout",
     "output_type": "stream",
     "text": [
      "Restored state: {'iteration': 1}\n",
      "Loop iteration 2\n",
      "360eac0c-7d2d-4cc1-9dcf-79fc7afc56e7_SWC_061\n"
     ]
    },
    {
     "data": {
      "application/javascript": "Jupyter.notebook.kernel.restart()",
      "text/plain": [
       "<IPython.core.display.Javascript object>"
      ]
     },
     "metadata": {},
     "output_type": "display_data"
    },
    {
     "name": "stdout",
     "output_type": "stream",
     "text": [
      "Restored state: {'iteration': 2}\n",
      "Loop iteration 3\n",
      "d839491f-55d8-4cbe-a298-7839208ba12b_CSHL049\n"
     ]
    },
    {
     "data": {
      "application/javascript": "Jupyter.notebook.kernel.restart()",
      "text/plain": [
       "<IPython.core.display.Javascript object>"
      ]
     },
     "metadata": {},
     "output_type": "display_data"
    },
    {
     "name": "stdout",
     "output_type": "stream",
     "text": [
      "Restored state: {'iteration': 3}\n",
      "Loop iteration 4\n",
      "032452e9-1886-449d-9c13-0f192572e19f_SWC_053\n"
     ]
    },
    {
     "data": {
      "application/javascript": "Jupyter.notebook.kernel.restart()",
      "text/plain": [
       "<IPython.core.display.Javascript object>"
      ]
     },
     "metadata": {},
     "output_type": "display_data"
    },
    {
     "name": "stdout",
     "output_type": "stream",
     "text": [
      "Restored state: {'iteration': 4}\n",
      "Loop iteration 5\n",
      "28741f91-c837-4147-939e-918d38d849f2_CSHL058\n"
     ]
    },
    {
     "data": {
      "application/javascript": "Jupyter.notebook.kernel.restart()",
      "text/plain": [
       "<IPython.core.display.Javascript object>"
      ]
     },
     "metadata": {},
     "output_type": "display_data"
    },
    {
     "name": "stdout",
     "output_type": "stream",
     "text": [
      "Restored state: {'iteration': 5}\n",
      "Loop iteration 6\n",
      "2c44a360-5a56-4971-8009-f469fb59de98_ZFM-01936\n"
     ]
    },
    {
     "data": {
      "application/javascript": "Jupyter.notebook.kernel.restart()",
      "text/plain": [
       "<IPython.core.display.Javascript object>"
      ]
     },
     "metadata": {},
     "output_type": "display_data"
    },
    {
     "name": "stdout",
     "output_type": "stream",
     "text": [
      "Restored state: {'iteration': 6}\n",
      "Loop iteration 7\n",
      "c6db3304-c906-400c-aa0f-45dd3945b2ea_SWC_043\n"
     ]
    },
    {
     "data": {
      "application/javascript": "Jupyter.notebook.kernel.restart()",
      "text/plain": [
       "<IPython.core.display.Javascript object>"
      ]
     },
     "metadata": {},
     "output_type": "display_data"
    },
    {
     "name": "stdout",
     "output_type": "stream",
     "text": [
      "Restored state: {'iteration': 7}\n",
      "Loop iteration 8\n",
      "aad23144-0e52-4eac-80c5-c4ee2decb198_KS023\n"
     ]
    },
    {
     "data": {
      "application/javascript": "Jupyter.notebook.kernel.restart()",
      "text/plain": [
       "<IPython.core.display.Javascript object>"
      ]
     },
     "metadata": {},
     "output_type": "display_data"
    },
    {
     "name": "stdout",
     "output_type": "stream",
     "text": [
      "Restored state: {'iteration': 8}\n",
      "Loop iteration 9\n",
      "75b6b132-d998-4fba-8482-961418ac957d_SWC_053\n"
     ]
    },
    {
     "data": {
      "application/javascript": "Jupyter.notebook.kernel.restart()",
      "text/plain": [
       "<IPython.core.display.Javascript object>"
      ]
     },
     "metadata": {},
     "output_type": "display_data"
    },
    {
     "name": "stdout",
     "output_type": "stream",
     "text": [
      "Restored state: {'iteration': 9}\n",
      "Loop iteration 10\n",
      "d33baf74-263c-4b37-a0d0-b79dcb80a764_ZM_2240\n"
     ]
    },
    {
     "data": {
      "application/javascript": "Jupyter.notebook.kernel.restart()",
      "text/plain": [
       "<IPython.core.display.Javascript object>"
      ]
     },
     "metadata": {},
     "output_type": "display_data"
    },
    {
     "name": "stdout",
     "output_type": "stream",
     "text": [
      "Restored state: {'iteration': 10}\n",
      "Loop iteration 11\n",
      "54238fd6-d2d0-4408-b1a9-d19d24fd29ce_DY_018\n"
     ]
    },
    {
     "data": {
      "application/javascript": "Jupyter.notebook.kernel.restart()",
      "text/plain": [
       "<IPython.core.display.Javascript object>"
      ]
     },
     "metadata": {},
     "output_type": "display_data"
    },
    {
     "name": "stdout",
     "output_type": "stream",
     "text": [
      "Restored state: {'iteration': 11}\n",
      "Loop iteration 12\n",
      "fb70ebf7-8175-42b0-9b7a-7c6e8612226e_CSHL058\n"
     ]
    },
    {
     "data": {
      "application/javascript": "Jupyter.notebook.kernel.restart()",
      "text/plain": [
       "<IPython.core.display.Javascript object>"
      ]
     },
     "metadata": {},
     "output_type": "display_data"
    },
    {
     "name": "stdout",
     "output_type": "stream",
     "text": [
      "Restored state: {'iteration': 12}\n",
      "Loop iteration 13\n",
      "510b1a50-825d-44ce-86f6-9678f5396e02_ZM_2240\n"
     ]
    },
    {
     "data": {
      "application/javascript": "Jupyter.notebook.kernel.restart()",
      "text/plain": [
       "<IPython.core.display.Javascript object>"
      ]
     },
     "metadata": {},
     "output_type": "display_data"
    },
    {
     "name": "stdout",
     "output_type": "stream",
     "text": [
      "Restored state: {'iteration': 13}\n",
      "Loop iteration 14\n",
      "746d1902-fa59-4cab-b0aa-013be36060d5_ZFM-01592\n"
     ]
    },
    {
     "data": {
      "application/javascript": "Jupyter.notebook.kernel.restart()",
      "text/plain": [
       "<IPython.core.display.Javascript object>"
      ]
     },
     "metadata": {},
     "output_type": "display_data"
    },
    {
     "name": "stdout",
     "output_type": "stream",
     "text": [
      "Restored state: {'iteration': 14}\n",
      "Loop iteration 15\n",
      "46794e05-3f6a-4d35-afb3-9165091a5a74_CSHL045\n"
     ]
    },
    {
     "data": {
      "application/javascript": "Jupyter.notebook.kernel.restart()",
      "text/plain": [
       "<IPython.core.display.Javascript object>"
      ]
     },
     "metadata": {},
     "output_type": "display_data"
    },
    {
     "name": "stdout",
     "output_type": "stream",
     "text": [
      "Restored state: {'iteration': 15}\n",
      "Loop iteration 16\n",
      "934dd7a4-fbdc-459c-8830-04fe9033bc28_ZM_3003\n"
     ]
    },
    {
     "data": {
      "application/javascript": "Jupyter.notebook.kernel.restart()",
      "text/plain": [
       "<IPython.core.display.Javascript object>"
      ]
     },
     "metadata": {},
     "output_type": "display_data"
    },
    {
     "name": "stdout",
     "output_type": "stream",
     "text": [
      "Restored state: {'iteration': 16}\n",
      "Loop iteration 17\n",
      "71e03be6-b497-4991-a121-9416dcc1a6e7_ZFM-01935\n"
     ]
    },
    {
     "data": {
      "application/javascript": "Jupyter.notebook.kernel.restart()",
      "text/plain": [
       "<IPython.core.display.Javascript object>"
      ]
     },
     "metadata": {},
     "output_type": "display_data"
    },
    {
     "name": "stdout",
     "output_type": "stream",
     "text": [
      "Restored state: {'iteration': 17}\n",
      "Loop iteration 18\n",
      "5339812f-8b91-40ba-9d8f-a559563cc46b_DY_016\n",
      "best_results_avg_wheel_vel_DY_0165339812f-8b91-40ba-9d8f-a559563cc46b\n",
      "Fitting mouse DY_016\n"
     ]
    },
    {
     "data": {
      "application/javascript": "Jupyter.notebook.kernel.restart()",
      "text/plain": [
       "<IPython.core.display.Javascript object>"
      ]
     },
     "metadata": {},
     "output_type": "display_data"
    },
    {
     "name": "stdout",
     "output_type": "stream",
     "text": [
      "Restored state: {'iteration': 18}\n",
      "Loop iteration 19\n",
      "45ef6691-7b80-4a43-bd1a-85fc00851ae8_SWC_052\n",
      "best_results_avg_wheel_vel_SWC_05245ef6691-7b80-4a43-bd1a-85fc00851ae8\n",
      "Fitting mouse SWC_052\n"
     ]
    },
    {
     "data": {
      "application/javascript": "Jupyter.notebook.kernel.restart()",
      "text/plain": [
       "<IPython.core.display.Javascript object>"
      ]
     },
     "metadata": {},
     "output_type": "display_data"
    },
    {
     "name": "stdout",
     "output_type": "stream",
     "text": [
      "Restored state: {'iteration': 19}\n",
      "Loop iteration 20\n",
      "6bb5da8f-6858-4fdd-96d9-c34b3b841593_SWC_054\n",
      "best_results_avg_wheel_vel_SWC_0546bb5da8f-6858-4fdd-96d9-c34b3b841593\n",
      "Fitting mouse SWC_054\n"
     ]
    },
    {
     "data": {
      "application/javascript": "Jupyter.notebook.kernel.restart()",
      "text/plain": [
       "<IPython.core.display.Javascript object>"
      ]
     },
     "metadata": {},
     "output_type": "display_data"
    },
    {
     "name": "stdout",
     "output_type": "stream",
     "text": [
      "Restored state: {'iteration': 20}\n",
      "Loop iteration 21\n",
      "bda2faf5-9563-4940-a80f-ce444259e47b_UCLA037\n",
      "best_results_avg_wheel_vel_UCLA037bda2faf5-9563-4940-a80f-ce444259e47b\n",
      "Fitting mouse UCLA037\n"
     ]
    },
    {
     "data": {
      "application/javascript": "Jupyter.notebook.kernel.restart()",
      "text/plain": [
       "<IPython.core.display.Javascript object>"
      ]
     },
     "metadata": {},
     "output_type": "display_data"
    },
    {
     "name": "stdout",
     "output_type": "stream",
     "text": [
      "Restored state: {'iteration': 21}\n",
      "Loop iteration 22\n",
      "7939711b-8b4d-4251-b698-b97c1eaa846e_CSHL045\n",
      "best_results_avg_wheel_vel_CSHL0457939711b-8b4d-4251-b698-b97c1eaa846e\n",
      "Fitting mouse CSHL045\n"
     ]
    },
    {
     "data": {
      "application/javascript": "Jupyter.notebook.kernel.restart()",
      "text/plain": [
       "<IPython.core.display.Javascript object>"
      ]
     },
     "metadata": {},
     "output_type": "display_data"
    },
    {
     "name": "stdout",
     "output_type": "stream",
     "text": [
      "Restored state: {'iteration': 22}\n",
      "Loop iteration 23\n",
      "86b6ba67-c1db-4333-add0-f8105ea6e363_ibl_witten_29\n",
      "best_results_avg_wheel_vel_ibl_witten_2986b6ba67-c1db-4333-add0-f8105ea6e363\n",
      "Fitting mouse ibl_witten_29\n"
     ]
    },
    {
     "data": {
      "application/javascript": "Jupyter.notebook.kernel.restart()",
      "text/plain": [
       "<IPython.core.display.Javascript object>"
      ]
     },
     "metadata": {},
     "output_type": "display_data"
    },
    {
     "name": "stdout",
     "output_type": "stream",
     "text": [
      "Restored state: {'iteration': 23}\n",
      "Loop iteration 24\n",
      "d901aff5-2250-467a-b4a1-0cb9729df9e2_NR_0020\n",
      "best_results_avg_wheel_vel_NR_0020d901aff5-2250-467a-b4a1-0cb9729df9e2\n",
      "Fitting mouse NR_0020\n"
     ]
    },
    {
     "data": {
      "application/javascript": "Jupyter.notebook.kernel.restart()",
      "text/plain": [
       "<IPython.core.display.Javascript object>"
      ]
     },
     "metadata": {},
     "output_type": "display_data"
    },
    {
     "name": "stdout",
     "output_type": "stream",
     "text": [
      "Restored state: {'iteration': 24}\n",
      "Loop iteration 25\n",
      "53738f95-bd08-4d9d-9133-483fdb19e8da_ZM_1898\n",
      "best_results_avg_wheel_vel_ZM_189853738f95-bd08-4d9d-9133-483fdb19e8da\n",
      "Fitting mouse ZM_1898\n"
     ]
    },
    {
     "data": {
      "application/javascript": "Jupyter.notebook.kernel.restart()",
      "text/plain": [
       "<IPython.core.display.Javascript object>"
      ]
     },
     "metadata": {},
     "output_type": "display_data"
    },
    {
     "name": "stdout",
     "output_type": "stream",
     "text": [
      "Restored state: {'iteration': 25}\n",
      "Loop iteration 26\n",
      "3f6e25ae-c007-4dc3-aa77-450fd5705046_ZFM-01936\n",
      "best_results_avg_wheel_vel_ZFM-019363f6e25ae-c007-4dc3-aa77-450fd5705046\n",
      "Fitting mouse ZFM-01936\n"
     ]
    },
    {
     "data": {
      "application/javascript": "Jupyter.notebook.kernel.restart()",
      "text/plain": [
       "<IPython.core.display.Javascript object>"
      ]
     },
     "metadata": {},
     "output_type": "display_data"
    },
    {
     "name": "stdout",
     "output_type": "stream",
     "text": [
      "Restored state: {'iteration': 26}\n",
      "Loop iteration 27\n",
      "1b715600-0cbc-442c-bd00-5b0ac2865de1_KS084\n",
      "best_results_avg_wheel_vel_KS0841b715600-0cbc-442c-bd00-5b0ac2865de1\n",
      "Fitting mouse KS084\n"
     ]
    },
    {
     "data": {
      "application/javascript": "Jupyter.notebook.kernel.restart()",
      "text/plain": [
       "<IPython.core.display.Javascript object>"
      ]
     },
     "metadata": {},
     "output_type": "display_data"
    },
    {
     "name": "stdout",
     "output_type": "stream",
     "text": [
      "Restored state: {'iteration': 27}\n",
      "Loop iteration 28\n",
      "78b4fff5-c5ec-44d9-b5f9-d59493063f00_KS091\n",
      "best_results_avg_wheel_vel_KS09178b4fff5-c5ec-44d9-b5f9-d59493063f00\n",
      "Fitting mouse KS091\n"
     ]
    },
    {
     "data": {
      "application/javascript": "Jupyter.notebook.kernel.restart()",
      "text/plain": [
       "<IPython.core.display.Javascript object>"
      ]
     },
     "metadata": {},
     "output_type": "display_data"
    },
    {
     "name": "stdout",
     "output_type": "stream",
     "text": [
      "Restored state: {'iteration': 28}\n",
      "Loop iteration 29\n",
      "15f742e1-1043-45c9-9504-f1e8a53c1744_KS022\n",
      "best_results_avg_wheel_vel_KS02215f742e1-1043-45c9-9504-f1e8a53c1744\n",
      "Fitting mouse KS022\n"
     ]
    },
    {
     "data": {
      "application/javascript": "Jupyter.notebook.kernel.restart()",
      "text/plain": [
       "<IPython.core.display.Javascript object>"
      ]
     },
     "metadata": {},
     "output_type": "display_data"
    },
    {
     "name": "stdout",
     "output_type": "stream",
     "text": [
      "Restored state: {'iteration': 29}\n",
      "Loop iteration 30\n",
      "111c1762-7908-47e0-9f40-2f2ee55b6505_UCLA033\n",
      "best_results_avg_wheel_vel_UCLA033111c1762-7908-47e0-9f40-2f2ee55b6505\n",
      "Fitting mouse UCLA033\n"
     ]
    },
    {
     "data": {
      "application/javascript": "Jupyter.notebook.kernel.restart()",
      "text/plain": [
       "<IPython.core.display.Javascript object>"
      ]
     },
     "metadata": {},
     "output_type": "display_data"
    },
    {
     "name": "stdout",
     "output_type": "stream",
     "text": [
      "Restored state: {'iteration': 30}\n",
      "Loop iteration 31\n",
      "c3d9b6fb-7fa9-4413-a364-92a54df0fc5d_DY_016\n",
      "best_results_avg_wheel_vel_DY_016c3d9b6fb-7fa9-4413-a364-92a54df0fc5d\n",
      "Fitting mouse DY_016\n"
     ]
    },
    {
     "data": {
      "application/javascript": "Jupyter.notebook.kernel.restart()",
      "text/plain": [
       "<IPython.core.display.Javascript object>"
      ]
     },
     "metadata": {},
     "output_type": "display_data"
    },
    {
     "name": "stdout",
     "output_type": "stream",
     "text": [
      "Restored state: {'iteration': 31}\n",
      "Loop iteration 32\n",
      "37e96d0b-5b4b-4c6e-9b29-7edbdc94bbd0_CSHL059\n",
      "best_results_avg_wheel_vel_CSHL05937e96d0b-5b4b-4c6e-9b29-7edbdc94bbd0\n",
      "Fitting mouse CSHL059\n"
     ]
    },
    {
     "data": {
      "application/javascript": "Jupyter.notebook.kernel.restart()",
      "text/plain": [
       "<IPython.core.display.Javascript object>"
      ]
     },
     "metadata": {},
     "output_type": "display_data"
    },
    {
     "name": "stdout",
     "output_type": "stream",
     "text": [
      "Restored state: {'iteration': 32}\n",
      "Loop iteration 33\n",
      "88224abb-5746-431f-9c17-17d7ef806e6a_ZFM-02372\n",
      "best_results_avg_wheel_vel_ZFM-0237288224abb-5746-431f-9c17-17d7ef806e6a\n",
      "Fitting mouse ZFM-02372\n"
     ]
    },
    {
     "data": {
      "application/javascript": "Jupyter.notebook.kernel.restart()",
      "text/plain": [
       "<IPython.core.display.Javascript object>"
      ]
     },
     "metadata": {},
     "output_type": "display_data"
    },
    {
     "name": "stdout",
     "output_type": "stream",
     "text": [
      "Restored state: {'iteration': 33}\n",
      "Loop iteration 34\n",
      "8b1f4024-3d96-4ee7-95f9-8a1dfd4ce4ef_PL017\n",
      "best_results_avg_wheel_vel_PL0178b1f4024-3d96-4ee7-95f9-8a1dfd4ce4ef\n",
      "Fitting mouse PL017\n"
     ]
    },
    {
     "data": {
      "application/javascript": "Jupyter.notebook.kernel.restart()",
      "text/plain": [
       "<IPython.core.display.Javascript object>"
      ]
     },
     "metadata": {},
     "output_type": "display_data"
    },
    {
     "name": "stdout",
     "output_type": "stream",
     "text": [
      "Restored state: {'iteration': 34}\n",
      "Loop iteration 35\n",
      "fa704052-147e-46f6-b190-a65b837e605e_CSHL045\n",
      "best_results_avg_wheel_vel_CSHL045fa704052-147e-46f6-b190-a65b837e605e\n",
      "Fitting mouse CSHL045\n"
     ]
    },
    {
     "data": {
      "application/javascript": "Jupyter.notebook.kernel.restart()",
      "text/plain": [
       "<IPython.core.display.Javascript object>"
      ]
     },
     "metadata": {},
     "output_type": "display_data"
    },
    {
     "name": "stdout",
     "output_type": "stream",
     "text": [
      "Restored state: {'iteration': 35}\n",
      "Loop iteration 36\n",
      "4aa1d525-5c7d-4c50-a147-ec53a9014812_ZFM-01936\n",
      "best_results_avg_wheel_vel_ZFM-019364aa1d525-5c7d-4c50-a147-ec53a9014812\n",
      "Fitting mouse ZFM-01936\n"
     ]
    },
    {
     "data": {
      "application/javascript": "Jupyter.notebook.kernel.restart()",
      "text/plain": [
       "<IPython.core.display.Javascript object>"
      ]
     },
     "metadata": {},
     "output_type": "display_data"
    },
    {
     "name": "stdout",
     "output_type": "stream",
     "text": [
      "Restored state: {'iteration': 36}\n",
      "Loop iteration 37\n",
      "58b1e920-cfc8-467e-b28b-7654a55d0977_ibl_witten_29\n",
      "best_results_avg_wheel_vel_ibl_witten_2958b1e920-cfc8-467e-b28b-7654a55d0977\n",
      "Fitting mouse ibl_witten_29\n"
     ]
    },
    {
     "data": {
      "application/javascript": "Jupyter.notebook.kernel.restart()",
      "text/plain": [
       "<IPython.core.display.Javascript object>"
      ]
     },
     "metadata": {},
     "output_type": "display_data"
    },
    {
     "name": "stdout",
     "output_type": "stream",
     "text": [
      "Restored state: {'iteration': 37}\n",
      "Loop iteration 38\n",
      "1f095590-6669-46c9-986b-ccaf0620c5e9_UCLA012\n",
      "best_results_avg_wheel_vel_UCLA0121f095590-6669-46c9-986b-ccaf0620c5e9\n",
      "Fitting mouse UCLA012\n"
     ]
    },
    {
     "data": {
      "application/javascript": "Jupyter.notebook.kernel.restart()",
      "text/plain": [
       "<IPython.core.display.Javascript object>"
      ]
     },
     "metadata": {},
     "output_type": "display_data"
    },
    {
     "name": "stdout",
     "output_type": "stream",
     "text": [
      "Restored state: {'iteration': 38}\n",
      "Loop iteration 39\n",
      "a71175be-d1fd-47a3-aa93-b830ea3634a1_CSHL054\n",
      "best_results_avg_wheel_vel_CSHL054a71175be-d1fd-47a3-aa93-b830ea3634a1\n",
      "Fitting mouse CSHL054\n"
     ]
    },
    {
     "data": {
      "application/javascript": "Jupyter.notebook.kernel.restart()",
      "text/plain": [
       "<IPython.core.display.Javascript object>"
      ]
     },
     "metadata": {},
     "output_type": "display_data"
    },
    {
     "name": "stdout",
     "output_type": "stream",
     "text": [
      "Restored state: {'iteration': 39}\n",
      "Loop iteration 40\n",
      "fe1fd79f-b051-411f-a0a9-2530a02cc78d_ZM_3003\n",
      "best_results_avg_wheel_vel_ZM_3003fe1fd79f-b051-411f-a0a9-2530a02cc78d\n",
      "Fitting mouse ZM_3003\n"
     ]
    },
    {
     "data": {
      "application/javascript": "Jupyter.notebook.kernel.restart()",
      "text/plain": [
       "<IPython.core.display.Javascript object>"
      ]
     },
     "metadata": {},
     "output_type": "display_data"
    },
    {
     "name": "stdout",
     "output_type": "stream",
     "text": [
      "Restored state: {'iteration': 40}\n",
      "Loop iteration 41\n",
      "ecb5520d-1358-434c-95ec-93687ecd1396_CSHL051\n",
      "best_results_avg_wheel_vel_CSHL051ecb5520d-1358-434c-95ec-93687ecd1396\n",
      "Fitting mouse CSHL051\n"
     ]
    },
    {
     "data": {
      "application/javascript": "Jupyter.notebook.kernel.restart()",
      "text/plain": [
       "<IPython.core.display.Javascript object>"
      ]
     },
     "metadata": {},
     "output_type": "display_data"
    },
    {
     "name": "stdout",
     "output_type": "stream",
     "text": [
      "Restored state: {'iteration': 41}\n",
      "Loop iteration 42\n",
      "9b5a1754-ac99-4d53-97d3-35c2f6638507_ZFM-01936\n",
      "best_results_avg_wheel_vel_ZFM-019369b5a1754-ac99-4d53-97d3-35c2f6638507\n",
      "Fitting mouse ZFM-01936\n"
     ]
    },
    {
     "data": {
      "application/javascript": "Jupyter.notebook.kernel.restart()",
      "text/plain": [
       "<IPython.core.display.Javascript object>"
      ]
     },
     "metadata": {},
     "output_type": "display_data"
    },
    {
     "name": "stdout",
     "output_type": "stream",
     "text": [
      "Restored state: {'iteration': 42}\n",
      "Loop iteration 43\n",
      "e535fb62-e245-4a48-b119-88ce62a6fe67_DY_013\n",
      "best_results_avg_wheel_vel_DY_013e535fb62-e245-4a48-b119-88ce62a6fe67\n",
      "Fitting mouse DY_013\n"
     ]
    },
    {
     "data": {
      "application/javascript": "Jupyter.notebook.kernel.restart()",
      "text/plain": [
       "<IPython.core.display.Javascript object>"
      ]
     },
     "metadata": {},
     "output_type": "display_data"
    },
    {
     "name": "stdout",
     "output_type": "stream",
     "text": [
      "Restored state: {'iteration': 43}\n",
      "Loop iteration 44\n",
      "7be8fec4-406b-4e74-8548-d2885dcc3d5e_CSHL060\n",
      "best_results_avg_wheel_vel_CSHL0607be8fec4-406b-4e74-8548-d2885dcc3d5e\n",
      "Fitting mouse CSHL060\n"
     ]
    },
    {
     "data": {
      "application/javascript": "Jupyter.notebook.kernel.restart()",
      "text/plain": [
       "<IPython.core.display.Javascript object>"
      ]
     },
     "metadata": {},
     "output_type": "display_data"
    },
    {
     "name": "stdout",
     "output_type": "stream",
     "text": [
      "Restored state: {'iteration': 44}\n",
      "Loop iteration 45\n",
      "a4000c2f-fa75-4b3e-8f06-a7cf599b87ad_KS023\n",
      "best_results_avg_wheel_vel_KS023a4000c2f-fa75-4b3e-8f06-a7cf599b87ad\n",
      "Fitting mouse KS023\n"
     ]
    },
    {
     "data": {
      "application/javascript": "Jupyter.notebook.kernel.restart()",
      "text/plain": [
       "<IPython.core.display.Javascript object>"
      ]
     },
     "metadata": {},
     "output_type": "display_data"
    },
    {
     "name": "stdout",
     "output_type": "stream",
     "text": [
      "Restored state: {'iteration': 45}\n",
      "Loop iteration 46\n",
      "ab8a0899-a59f-42e4-8807-95b14056104b_ZFM-01935\n",
      "best_results_avg_wheel_vel_ZFM-01935ab8a0899-a59f-42e4-8807-95b14056104b\n",
      "Fitting mouse ZFM-01935\n"
     ]
    },
    {
     "data": {
      "application/javascript": "Jupyter.notebook.kernel.restart()",
      "text/plain": [
       "<IPython.core.display.Javascript object>"
      ]
     },
     "metadata": {},
     "output_type": "display_data"
    },
    {
     "name": "stdout",
     "output_type": "stream",
     "text": [
      "Restored state: {'iteration': 46}\n",
      "Loop iteration 47\n",
      "03063955-2523-47bd-ae57-f7489dd40f15_SWC_038\n",
      "best_results_avg_wheel_vel_SWC_03803063955-2523-47bd-ae57-f7489dd40f15\n",
      "Fitting mouse SWC_038\n"
     ]
    },
    {
     "data": {
      "application/javascript": "Jupyter.notebook.kernel.restart()",
      "text/plain": [
       "<IPython.core.display.Javascript object>"
      ]
     },
     "metadata": {},
     "output_type": "display_data"
    },
    {
     "name": "stdout",
     "output_type": "stream",
     "text": [
      "Restored state: {'iteration': 47}\n",
      "Loop iteration 48\n",
      "f27e6cd6-cdd3-4524-b8e3-8146046e2a7d_PL017\n",
      "best_results_avg_wheel_vel_PL017f27e6cd6-cdd3-4524-b8e3-8146046e2a7d\n",
      "Fitting mouse PL017\n"
     ]
    },
    {
     "data": {
      "application/javascript": "Jupyter.notebook.kernel.restart()",
      "text/plain": [
       "<IPython.core.display.Javascript object>"
      ]
     },
     "metadata": {},
     "output_type": "display_data"
    },
    {
     "name": "stdout",
     "output_type": "stream",
     "text": [
      "Restored state: {'iteration': 48}\n",
      "Loop iteration 49\n",
      "9a6e127b-bb07-4be2-92e2-53dd858c2762_PL015\n",
      "best_results_avg_wheel_vel_PL0159a6e127b-bb07-4be2-92e2-53dd858c2762\n",
      "Fitting mouse PL015\n"
     ]
    },
    {
     "data": {
      "application/javascript": "Jupyter.notebook.kernel.restart()",
      "text/plain": [
       "<IPython.core.display.Javascript object>"
      ]
     },
     "metadata": {},
     "output_type": "display_data"
    },
    {
     "name": "stdout",
     "output_type": "stream",
     "text": [
      "Restored state: {'iteration': 49}\n",
      "Loop iteration 50\n",
      "a4747ac8-6a75-444f-b99b-696fff0243fd_SWC_066\n",
      "best_results_avg_wheel_vel_SWC_066a4747ac8-6a75-444f-b99b-696fff0243fd\n",
      "Fitting mouse SWC_066\n"
     ]
    },
    {
     "data": {
      "application/javascript": "Jupyter.notebook.kernel.restart()",
      "text/plain": [
       "<IPython.core.display.Javascript object>"
      ]
     },
     "metadata": {},
     "output_type": "display_data"
    },
    {
     "name": "stdout",
     "output_type": "stream",
     "text": [
      "Restored state: {'iteration': 50}\n",
      "Loop iteration 51\n",
      "aa20388b-9ea3-4506-92f1-3c2be84b85db_DY_016\n",
      "best_results_avg_wheel_vel_DY_016aa20388b-9ea3-4506-92f1-3c2be84b85db\n",
      "Fitting mouse DY_016\n"
     ]
    },
    {
     "data": {
      "application/javascript": "Jupyter.notebook.kernel.restart()",
      "text/plain": [
       "<IPython.core.display.Javascript object>"
      ]
     },
     "metadata": {},
     "output_type": "display_data"
    },
    {
     "name": "stdout",
     "output_type": "stream",
     "text": [
      "Restored state: {'iteration': 51}\n",
      "Loop iteration 52\n",
      "90e524a2-aa63-47ce-b5b8-1b1941a1223a_PL015\n",
      "best_results_avg_wheel_vel_PL01590e524a2-aa63-47ce-b5b8-1b1941a1223a\n",
      "Fitting mouse PL015\n"
     ]
    },
    {
     "data": {
      "application/javascript": "Jupyter.notebook.kernel.restart()",
      "text/plain": [
       "<IPython.core.display.Javascript object>"
      ]
     },
     "metadata": {},
     "output_type": "display_data"
    },
    {
     "name": "stdout",
     "output_type": "stream",
     "text": [
      "Restored state: {'iteration': 52}\n",
      "Loop iteration 53\n",
      "16693458-0801-4d35-a3f1-9115c7e5acfd_KS014\n",
      "best_results_avg_wheel_vel_KS01416693458-0801-4d35-a3f1-9115c7e5acfd\n",
      "Fitting mouse KS014\n"
     ]
    },
    {
     "data": {
      "application/javascript": "Jupyter.notebook.kernel.restart()",
      "text/plain": [
       "<IPython.core.display.Javascript object>"
      ]
     },
     "metadata": {},
     "output_type": "display_data"
    },
    {
     "name": "stdout",
     "output_type": "stream",
     "text": [
      "Restored state: {'iteration': 53}\n",
      "Loop iteration 54\n",
      "b658bc7d-07cd-4203-8a25-7b16b549851b_DY_014\n",
      "best_results_avg_wheel_vel_DY_014b658bc7d-07cd-4203-8a25-7b16b549851b\n",
      "Fitting mouse DY_014\n"
     ]
    },
    {
     "data": {
      "application/javascript": "Jupyter.notebook.kernel.restart()",
      "text/plain": [
       "<IPython.core.display.Javascript object>"
      ]
     },
     "metadata": {},
     "output_type": "display_data"
    },
    {
     "name": "stdout",
     "output_type": "stream",
     "text": [
      "Restored state: {'iteration': 54}\n",
      "Loop iteration 55\n",
      "1191f865-b10a-45c8-9c48-24a980fd9402_CSHL060\n",
      "best_results_avg_wheel_vel_CSHL0601191f865-b10a-45c8-9c48-24a980fd9402\n",
      "Fitting mouse CSHL060\n"
     ]
    },
    {
     "data": {
      "application/javascript": "Jupyter.notebook.kernel.restart()",
      "text/plain": [
       "<IPython.core.display.Javascript object>"
      ]
     },
     "metadata": {},
     "output_type": "display_data"
    },
    {
     "name": "stdout",
     "output_type": "stream",
     "text": [
      "Restored state: {'iteration': 55}\n",
      "Loop iteration 56\n",
      "b39752db-abdb-47ab-ae78-e8608bbf50ed_DY_014\n",
      "best_results_avg_wheel_vel_DY_014b39752db-abdb-47ab-ae78-e8608bbf50ed\n",
      "Fitting mouse DY_014\n"
     ]
    },
    {
     "data": {
      "application/javascript": "Jupyter.notebook.kernel.restart()",
      "text/plain": [
       "<IPython.core.display.Javascript object>"
      ]
     },
     "metadata": {},
     "output_type": "display_data"
    },
    {
     "name": "stdout",
     "output_type": "stream",
     "text": [
      "Restored state: {'iteration': 56}\n",
      "Loop iteration 57\n",
      "69a0e953-a643-4f0e-bb26-dc65af3ea7d7_ibl_witten_29\n",
      "best_results_avg_wheel_vel_ibl_witten_2969a0e953-a643-4f0e-bb26-dc65af3ea7d7\n",
      "Fitting mouse ibl_witten_29\n"
     ]
    },
    {
     "data": {
      "application/javascript": "Jupyter.notebook.kernel.restart()",
      "text/plain": [
       "<IPython.core.display.Javascript object>"
      ]
     },
     "metadata": {},
     "output_type": "display_data"
    },
    {
     "name": "stdout",
     "output_type": "stream",
     "text": [
      "Restored state: {'iteration': 57}\n",
      "Loop iteration 58\n",
      "e1931de1-cf7b-49af-af33-2ade15e8abe7_KS014\n",
      "best_results_avg_wheel_vel_KS014e1931de1-cf7b-49af-af33-2ade15e8abe7\n",
      "Fitting mouse KS014\n"
     ]
    },
    {
     "data": {
      "application/javascript": "Jupyter.notebook.kernel.restart()",
      "text/plain": [
       "<IPython.core.display.Javascript object>"
      ]
     },
     "metadata": {},
     "output_type": "display_data"
    },
    {
     "name": "stdout",
     "output_type": "stream",
     "text": [
      "Restored state: {'iteration': 58}\n",
      "Loop iteration 59\n",
      "8d316998-28c3-4265-b029-e2ca82375b2f_UCLA037\n",
      "best_results_avg_wheel_vel_UCLA0378d316998-28c3-4265-b029-e2ca82375b2f\n",
      "Fitting mouse UCLA037\n"
     ]
    },
    {
     "data": {
      "application/javascript": "Jupyter.notebook.kernel.restart()",
      "text/plain": [
       "<IPython.core.display.Javascript object>"
      ]
     },
     "metadata": {},
     "output_type": "display_data"
    },
    {
     "name": "stdout",
     "output_type": "stream",
     "text": [
      "Restored state: {'iteration': 59}\n",
      "Loop iteration 60\n",
      "58c4bf97-ec3b-45b4-9db4-d5d9515d5b00_PL016\n",
      "best_results_avg_wheel_vel_PL01658c4bf97-ec3b-45b4-9db4-d5d9515d5b00\n",
      "Fitting mouse PL016\n"
     ]
    },
    {
     "data": {
      "application/javascript": "Jupyter.notebook.kernel.restart()",
      "text/plain": [
       "<IPython.core.display.Javascript object>"
      ]
     },
     "metadata": {},
     "output_type": "display_data"
    },
    {
     "name": "stdout",
     "output_type": "stream",
     "text": [
      "Restored state: {'iteration': 60}\n",
      "Loop iteration 61\n",
      "2d5f6d81-38c4-4bdc-ac3c-302ea4d5f46e_CSHL047\n",
      "best_results_avg_wheel_vel_CSHL0472d5f6d81-38c4-4bdc-ac3c-302ea4d5f46e\n",
      "Fitting mouse CSHL047\n"
     ]
    },
    {
     "data": {
      "application/javascript": "Jupyter.notebook.kernel.restart()",
      "text/plain": [
       "<IPython.core.display.Javascript object>"
      ]
     },
     "metadata": {},
     "output_type": "display_data"
    },
    {
     "name": "stdout",
     "output_type": "stream",
     "text": [
      "Restored state: {'iteration': 61}\n",
      "Loop iteration 62\n",
      "821f1883-27f3-411d-afd3-fb8241bbc39a_ibl_witten_29\n",
      "best_results_avg_wheel_vel_ibl_witten_29821f1883-27f3-411d-afd3-fb8241bbc39a\n",
      "Fitting mouse ibl_witten_29\n"
     ]
    },
    {
     "data": {
      "application/javascript": "Jupyter.notebook.kernel.restart()",
      "text/plain": [
       "<IPython.core.display.Javascript object>"
      ]
     },
     "metadata": {},
     "output_type": "display_data"
    },
    {
     "name": "stdout",
     "output_type": "stream",
     "text": [
      "Restored state: {'iteration': 11}\n",
      "Loop iteration 63\n",
      "bd456d8f-d36e-434a-8051-ff3997253802_DY_014\n",
      "best_results_avg_wheel_vel_DY_014bd456d8f-d36e-434a-8051-ff3997253802\n",
      "Fitting mouse DY_014\n"
     ]
    },
    {
     "data": {
      "application/javascript": "Jupyter.notebook.kernel.restart()",
      "text/plain": [
       "<IPython.core.display.Javascript object>"
      ]
     },
     "metadata": {},
     "output_type": "display_data"
    },
    {
     "name": "stdout",
     "output_type": "stream",
     "text": [
      "Restored state: {'iteration': 63}\n",
      "Loop iteration 64\n",
      "0f25376f-2b78-4ddc-8c39-b6cdbe7bf5b9_DY_008\n",
      "best_results_avg_wheel_vel_DY_0080f25376f-2b78-4ddc-8c39-b6cdbe7bf5b9\n",
      "Fitting mouse DY_008\n"
     ]
    },
    {
     "data": {
      "application/javascript": "Jupyter.notebook.kernel.restart()",
      "text/plain": [
       "<IPython.core.display.Javascript object>"
      ]
     },
     "metadata": {},
     "output_type": "display_data"
    },
    {
     "name": "stdout",
     "output_type": "stream",
     "text": [
      "Restored state: {'iteration': 30}\n",
      "Loop iteration 65\n",
      "9545aa05-3945-4054-a5c3-a259f7209d61_SWC_058\n",
      "best_results_avg_wheel_vel_SWC_0589545aa05-3945-4054-a5c3-a259f7209d61\n",
      "Fitting mouse SWC_058\n"
     ]
    },
    {
     "data": {
      "application/javascript": "Jupyter.notebook.kernel.restart()",
      "text/plain": [
       "<IPython.core.display.Javascript object>"
      ]
     },
     "metadata": {},
     "output_type": "display_data"
    },
    {
     "name": "stdout",
     "output_type": "stream",
     "text": [
      "Restored state: {'iteration': 65}\n",
      "Loop iteration 66\n",
      "671c7ea7-6726-4fbe-adeb-f89c2c8e489b_SWC_054\n",
      "best_results_avg_wheel_vel_SWC_054671c7ea7-6726-4fbe-adeb-f89c2c8e489b\n",
      "Fitting mouse SWC_054\n"
     ]
    },
    {
     "data": {
      "application/javascript": "Jupyter.notebook.kernel.restart()",
      "text/plain": [
       "<IPython.core.display.Javascript object>"
      ]
     },
     "metadata": {},
     "output_type": "display_data"
    },
    {
     "name": "stdout",
     "output_type": "stream",
     "text": [
      "Restored state: {'iteration': 49}\n",
      "Loop iteration 67\n",
      "537677fe-1e24-4755-948c-fa4a4e8ecce5_NYU-45\n",
      "best_results_avg_wheel_vel_NYU-45537677fe-1e24-4755-948c-fa4a4e8ecce5\n",
      "Fitting mouse NYU-45\n"
     ]
    },
    {
     "data": {
      "application/javascript": "Jupyter.notebook.kernel.restart()",
      "text/plain": [
       "<IPython.core.display.Javascript object>"
      ]
     },
     "metadata": {},
     "output_type": "display_data"
    },
    {
     "name": "stdout",
     "output_type": "stream",
     "text": [
      "Restored state: {'iteration': 67}\n",
      "Loop iteration 68\n",
      "239cdbb1-68e2-4eb0-91d8-ae5ae4001c7a_SWC_053\n",
      "best_results_avg_wheel_vel_SWC_053239cdbb1-68e2-4eb0-91d8-ae5ae4001c7a\n",
      "Fitting mouse SWC_053\n"
     ]
    },
    {
     "data": {
      "application/javascript": "Jupyter.notebook.kernel.restart()",
      "text/plain": [
       "<IPython.core.display.Javascript object>"
      ]
     },
     "metadata": {},
     "output_type": "display_data"
    },
    {
     "name": "stdout",
     "output_type": "stream",
     "text": [
      "Restored state: {'iteration': 68}\n",
      "Loop iteration 69\n",
      "1b9e349e-93f2-41cc-a4b5-b212d7ddc8df_KS096\n",
      "best_results_avg_wheel_vel_KS0961b9e349e-93f2-41cc-a4b5-b212d7ddc8df\n",
      "Fitting mouse KS096\n"
     ]
    },
    {
     "data": {
      "application/javascript": "Jupyter.notebook.kernel.restart()",
      "text/plain": [
       "<IPython.core.display.Javascript object>"
      ]
     },
     "metadata": {},
     "output_type": "display_data"
    },
    {
     "name": "stdout",
     "output_type": "stream",
     "text": [
      "Restored state: {'iteration': 69}\n",
      "Loop iteration 70\n",
      "0a018f12-ee06-4b11-97aa-bbbff5448e9f_KS051\n",
      "best_results_avg_wheel_vel_KS0510a018f12-ee06-4b11-97aa-bbbff5448e9f\n",
      "Fitting mouse KS051\n"
     ]
    },
    {
     "data": {
      "application/javascript": "Jupyter.notebook.kernel.restart()",
      "text/plain": [
       "<IPython.core.display.Javascript object>"
      ]
     },
     "metadata": {},
     "output_type": "display_data"
    },
    {
     "name": "stdout",
     "output_type": "stream",
     "text": [
      "Restored state: {'iteration': 87}\n",
      "Loop iteration 71\n",
      "dfd8e7df-dc51-4589-b6ca-7baccfeb94b4_CSHL045\n",
      "best_results_avg_wheel_vel_CSHL045dfd8e7df-dc51-4589-b6ca-7baccfeb94b4\n",
      "Fitting mouse CSHL045\n"
     ]
    },
    {
     "data": {
      "application/javascript": "Jupyter.notebook.kernel.restart()",
      "text/plain": [
       "<IPython.core.display.Javascript object>"
      ]
     },
     "metadata": {},
     "output_type": "display_data"
    },
    {
     "name": "stdout",
     "output_type": "stream",
     "text": [
      "Restored state: {'iteration': 96}\n",
      "Loop iteration 72\n",
      "d23a44ef-1402-4ed7-97f5-47e9a7a504d9_DY_016\n",
      "best_results_avg_wheel_vel_DY_016d23a44ef-1402-4ed7-97f5-47e9a7a504d9\n",
      "Fitting mouse DY_016\n"
     ]
    },
    {
     "data": {
      "application/javascript": "Jupyter.notebook.kernel.restart()",
      "text/plain": [
       "<IPython.core.display.Javascript object>"
      ]
     },
     "metadata": {},
     "output_type": "display_data"
    },
    {
     "name": "stdout",
     "output_type": "stream",
     "text": [
      "Restored state: {'iteration': 72}\n",
      "Loop iteration 73\n",
      "7cb81727-2097-4b52-b480-c89867b5b34c_SWC_052\n",
      "best_results_avg_wheel_vel_SWC_0527cb81727-2097-4b52-b480-c89867b5b34c\n",
      "Fitting mouse SWC_052\n"
     ]
    },
    {
     "data": {
      "application/javascript": "Jupyter.notebook.kernel.restart()",
      "text/plain": [
       "<IPython.core.display.Javascript object>"
      ]
     },
     "metadata": {},
     "output_type": "display_data"
    },
    {
     "name": "stdout",
     "output_type": "stream",
     "text": [
      "Restored state: {'iteration': 115}\n",
      "Loop iteration 74\n",
      "f10efe41-0dc0-44d0-8f26-5ff68dca23e9_CSHL060\n",
      "best_results_avg_wheel_vel_CSHL060f10efe41-0dc0-44d0-8f26-5ff68dca23e9\n",
      "Fitting mouse CSHL060\n"
     ]
    },
    {
     "data": {
      "application/javascript": "Jupyter.notebook.kernel.restart()",
      "text/plain": [
       "<IPython.core.display.Javascript object>"
      ]
     },
     "metadata": {},
     "output_type": "display_data"
    },
    {
     "name": "stdout",
     "output_type": "stream",
     "text": [
      "Restored state: {'iteration': 74}\n",
      "Loop iteration 75\n",
      "6668c4a0-70a4-4012-a7da-709660971d7a_DY_009\n",
      "best_results_avg_wheel_vel_DY_0096668c4a0-70a4-4012-a7da-709660971d7a\n",
      "Fitting mouse DY_009\n"
     ]
    },
    {
     "data": {
      "application/javascript": "Jupyter.notebook.kernel.restart()",
      "text/plain": [
       "<IPython.core.display.Javascript object>"
      ]
     },
     "metadata": {},
     "output_type": "display_data"
    },
    {
     "name": "stdout",
     "output_type": "stream",
     "text": [
      "Restored state: {'iteration': 134}\n",
      "Loop iteration 76\n",
      "57b5ae8f-d446-4161-b439-b191c5e3e77b_CSHL059\n",
      "best_results_avg_wheel_vel_CSHL05957b5ae8f-d446-4161-b439-b191c5e3e77b\n",
      "Fitting mouse CSHL059\n"
     ]
    },
    {
     "data": {
      "application/javascript": "Jupyter.notebook.kernel.restart()",
      "text/plain": [
       "<IPython.core.display.Javascript object>"
      ]
     },
     "metadata": {},
     "output_type": "display_data"
    },
    {
     "name": "stdout",
     "output_type": "stream",
     "text": [
      "Restored state: {'iteration': 76}\n",
      "Loop iteration 77\n",
      "f819d499-8bf7-4da0-a431-15377a8319d5_KS096\n",
      "best_results_avg_wheel_vel_KS096f819d499-8bf7-4da0-a431-15377a8319d5\n",
      "Fitting mouse KS096\n"
     ]
    },
    {
     "data": {
      "application/javascript": "Jupyter.notebook.kernel.restart()",
      "text/plain": [
       "<IPython.core.display.Javascript object>"
      ]
     },
     "metadata": {},
     "output_type": "display_data"
    },
    {
     "name": "stdout",
     "output_type": "stream",
     "text": [
      "Restored state: {'iteration': 77}\n",
      "Loop iteration 78\n",
      "4720c98a-a305-4fba-affb-bbfa00a724a4_DY_014\n",
      "best_results_avg_wheel_vel_DY_0144720c98a-a305-4fba-affb-bbfa00a724a4\n",
      "Fitting mouse DY_014\n"
     ]
    },
    {
     "data": {
      "application/javascript": "Jupyter.notebook.kernel.restart()",
      "text/plain": [
       "<IPython.core.display.Javascript object>"
      ]
     },
     "metadata": {},
     "output_type": "display_data"
    },
    {
     "name": "stdout",
     "output_type": "stream",
     "text": [
      "Restored state: {'iteration': 78}\n",
      "Loop iteration 79\n",
      "3663d82b-f197-4e8b-b299-7b803a155b84_CSHL052\n",
      "best_results_avg_wheel_vel_CSHL0523663d82b-f197-4e8b-b299-7b803a155b84\n",
      "Fitting mouse CSHL052\n"
     ]
    },
    {
     "data": {
      "application/javascript": "Jupyter.notebook.kernel.restart()",
      "text/plain": [
       "<IPython.core.display.Javascript object>"
      ]
     },
     "metadata": {},
     "output_type": "display_data"
    },
    {
     "name": "stdout",
     "output_type": "stream",
     "text": [
      "Restored state: {'iteration': 79}\n",
      "Loop iteration 80\n",
      "5285c561-80da-4563-8694-739da92e5dd0_ibl_witten_25\n",
      "best_results_avg_wheel_vel_ibl_witten_255285c561-80da-4563-8694-739da92e5dd0\n",
      "Fitting mouse ibl_witten_25\n"
     ]
    },
    {
     "data": {
      "application/javascript": "Jupyter.notebook.kernel.restart()",
      "text/plain": [
       "<IPython.core.display.Javascript object>"
      ]
     },
     "metadata": {},
     "output_type": "display_data"
    },
    {
     "name": "stdout",
     "output_type": "stream",
     "text": [
      "Restored state: {'iteration': 80}\n",
      "Loop iteration 81\n",
      "7cec9792-b8f9-4878-be7e-f08103dc0323_ZFM-02372\n",
      "best_results_avg_wheel_vel_ZFM-023727cec9792-b8f9-4878-be7e-f08103dc0323\n",
      "Fitting mouse ZFM-02372\n"
     ]
    },
    {
     "data": {
      "application/javascript": "Jupyter.notebook.kernel.restart()",
      "text/plain": [
       "<IPython.core.display.Javascript object>"
      ]
     },
     "metadata": {},
     "output_type": "display_data"
    },
    {
     "name": "stdout",
     "output_type": "stream",
     "text": [
      "Restored state: {'iteration': 81}\n",
      "Loop iteration 82\n",
      "0802ced5-33a3-405e-8336-b65ebc5cb07c_ZFM-02373\n",
      "best_results_avg_wheel_vel_ZFM-023730802ced5-33a3-405e-8336-b65ebc5cb07c\n",
      "Fitting mouse ZFM-02373\n"
     ]
    },
    {
     "data": {
      "application/javascript": "Jupyter.notebook.kernel.restart()",
      "text/plain": [
       "<IPython.core.display.Javascript object>"
      ]
     },
     "metadata": {},
     "output_type": "display_data"
    },
    {
     "name": "stdout",
     "output_type": "stream",
     "text": [
      "Restored state: {'iteration': 82}\n",
      "Loop iteration 83\n",
      "0cc486c3-8c7b-494d-aa04-b70e2690bcba_ibl_witten_29\n",
      "best_results_avg_wheel_vel_ibl_witten_290cc486c3-8c7b-494d-aa04-b70e2690bcba\n",
      "Fitting mouse ibl_witten_29\n"
     ]
    },
    {
     "data": {
      "application/javascript": "Jupyter.notebook.kernel.restart()",
      "text/plain": [
       "<IPython.core.display.Javascript object>"
      ]
     },
     "metadata": {},
     "output_type": "display_data"
    },
    {
     "name": "stdout",
     "output_type": "stream",
     "text": [
      "Restored state: {'iteration': 83}\n",
      "Loop iteration 84\n",
      "cb2ad999-a6cb-42ff-bf71-1774c57e5308_ZM_2245\n",
      "best_results_avg_wheel_vel_ZM_2245cb2ad999-a6cb-42ff-bf71-1774c57e5308\n",
      "Fitting mouse ZM_2245\n"
     ]
    },
    {
     "data": {
      "application/javascript": "Jupyter.notebook.kernel.restart()",
      "text/plain": [
       "<IPython.core.display.Javascript object>"
      ]
     },
     "metadata": {},
     "output_type": "display_data"
    },
    {
     "name": "stdout",
     "output_type": "stream",
     "text": [
      "Restored state: {'iteration': 84}\n",
      "Loop iteration 85\n",
      "ffef0311-8ffa-49e3-a857-b3adf6d86e12_KS086\n",
      "best_results_avg_wheel_vel_KS086ffef0311-8ffa-49e3-a857-b3adf6d86e12\n",
      "Fitting mouse KS086\n"
     ]
    },
    {
     "data": {
      "application/javascript": "Jupyter.notebook.kernel.restart()",
      "text/plain": [
       "<IPython.core.display.Javascript object>"
      ]
     },
     "metadata": {},
     "output_type": "display_data"
    },
    {
     "name": "stdout",
     "output_type": "stream",
     "text": [
      "Restored state: {'iteration': 85}\n",
      "Loop iteration 86\n",
      "1425bd6f-c625-4f6a-b237-dc5bcfc42c87_SWC_065\n",
      "best_results_avg_wheel_vel_SWC_0651425bd6f-c625-4f6a-b237-dc5bcfc42c87\n",
      "Fitting mouse SWC_065\n"
     ]
    },
    {
     "data": {
      "application/javascript": "Jupyter.notebook.kernel.restart()",
      "text/plain": [
       "<IPython.core.display.Javascript object>"
      ]
     },
     "metadata": {},
     "output_type": "display_data"
    },
    {
     "name": "stdout",
     "output_type": "stream",
     "text": [
      "Restored state: {'iteration': 86}\n",
      "Loop iteration 87\n",
      "d0ea3148-948d-4817-94f8-dcaf2342bbbe_ZFM-01936\n",
      "best_results_avg_wheel_vel_ZFM-01936d0ea3148-948d-4817-94f8-dcaf2342bbbe\n",
      "Fitting mouse ZFM-01936\n"
     ]
    },
    {
     "data": {
      "application/javascript": "Jupyter.notebook.kernel.restart()",
      "text/plain": [
       "<IPython.core.display.Javascript object>"
      ]
     },
     "metadata": {},
     "output_type": "display_data"
    },
    {
     "name": "stdout",
     "output_type": "stream",
     "text": [
      "Restored state: {'iteration': 87}\n",
      "Loop iteration 88\n",
      "a6fe44a8-07ab-49b8-81f9-e18575aa85cc_KS044\n",
      "best_results_avg_wheel_vel_KS044a6fe44a8-07ab-49b8-81f9-e18575aa85cc\n",
      "Fitting mouse KS044\n"
     ]
    },
    {
     "data": {
      "application/javascript": "Jupyter.notebook.kernel.restart()",
      "text/plain": [
       "<IPython.core.display.Javascript object>"
      ]
     },
     "metadata": {},
     "output_type": "display_data"
    },
    {
     "name": "stdout",
     "output_type": "stream",
     "text": [
      "Restored state: {'iteration': 88}\n",
      "Loop iteration 89\n",
      "8928f98a-b411-497e-aa4b-aa752434686d_KS096\n",
      "best_results_avg_wheel_vel_KS0968928f98a-b411-497e-aa4b-aa752434686d\n",
      "Fitting mouse KS096\n"
     ]
    },
    {
     "data": {
      "application/javascript": "Jupyter.notebook.kernel.restart()",
      "text/plain": [
       "<IPython.core.display.Javascript object>"
      ]
     },
     "metadata": {},
     "output_type": "display_data"
    },
    {
     "name": "stdout",
     "output_type": "stream",
     "text": [
      "Restored state: {'iteration': 89}\n",
      "Loop iteration 90\n",
      "e9fc0a2d-c69d-44d1-9fa3-314782387cae_ibl_witten_29\n",
      "best_results_avg_wheel_vel_ibl_witten_29e9fc0a2d-c69d-44d1-9fa3-314782387cae\n",
      "Fitting mouse ibl_witten_29\n"
     ]
    },
    {
     "data": {
      "application/javascript": "Jupyter.notebook.kernel.restart()",
      "text/plain": [
       "<IPython.core.display.Javascript object>"
      ]
     },
     "metadata": {},
     "output_type": "display_data"
    },
    {
     "name": "stdout",
     "output_type": "stream",
     "text": [
      "Restored state: {'iteration': 90}\n",
      "Loop iteration 91\n",
      "dda5fc59-f09a-4256-9fb5-66c67667a466_CSHL059\n",
      "best_results_avg_wheel_vel_CSHL059dda5fc59-f09a-4256-9fb5-66c67667a466\n",
      "Fitting mouse CSHL059\n"
     ]
    },
    {
     "data": {
      "application/javascript": "Jupyter.notebook.kernel.restart()",
      "text/plain": [
       "<IPython.core.display.Javascript object>"
      ]
     },
     "metadata": {},
     "output_type": "display_data"
    },
    {
     "name": "stdout",
     "output_type": "stream",
     "text": [
      "Restored state: {'iteration': 91}\n",
      "Loop iteration 92\n",
      "56bc129c-6265-407a-a208-cc16d20a6c01_ZFM-01592\n",
      "best_results_avg_wheel_vel_ZFM-0159256bc129c-6265-407a-a208-cc16d20a6c01\n",
      "Fitting mouse ZFM-01592\n"
     ]
    },
    {
     "data": {
      "application/javascript": "Jupyter.notebook.kernel.restart()",
      "text/plain": [
       "<IPython.core.display.Javascript object>"
      ]
     },
     "metadata": {},
     "output_type": "display_data"
    },
    {
     "name": "stdout",
     "output_type": "stream",
     "text": [
      "Restored state: {'iteration': 92}\n",
      "Loop iteration 93\n",
      "ebc9392c-1ecb-4b4b-a545-4e3d70d23611_UCLA034\n",
      "best_results_avg_wheel_vel_UCLA034ebc9392c-1ecb-4b4b-a545-4e3d70d23611\n",
      "Fitting mouse UCLA034\n"
     ]
    },
    {
     "data": {
      "application/javascript": "Jupyter.notebook.kernel.restart()",
      "text/plain": [
       "<IPython.core.display.Javascript object>"
      ]
     },
     "metadata": {},
     "output_type": "display_data"
    },
    {
     "name": "stdout",
     "output_type": "stream",
     "text": [
      "Restored state: {'iteration': 93}\n",
      "Loop iteration 94\n",
      "7622da34-51b6-4661-98ae-a57d40806008_DY_014\n",
      "best_results_avg_wheel_vel_DY_0147622da34-51b6-4661-98ae-a57d40806008\n",
      "Fitting mouse DY_014\n"
     ]
    },
    {
     "data": {
      "application/javascript": "Jupyter.notebook.kernel.restart()",
      "text/plain": [
       "<IPython.core.display.Javascript object>"
      ]
     },
     "metadata": {},
     "output_type": "display_data"
    },
    {
     "name": "stdout",
     "output_type": "stream",
     "text": [
      "Restored state: {'iteration': 94}\n",
      "Loop iteration 95\n",
      "1a507308-c63a-4e02-8f32-3239a07dc578_ZFM-01935\n",
      "best_results_avg_wheel_vel_ZFM-019351a507308-c63a-4e02-8f32-3239a07dc578\n",
      "Fitting mouse ZFM-01935\n"
     ]
    },
    {
     "data": {
      "application/javascript": "Jupyter.notebook.kernel.restart()",
      "text/plain": [
       "<IPython.core.display.Javascript object>"
      ]
     },
     "metadata": {},
     "output_type": "display_data"
    },
    {
     "name": "stdout",
     "output_type": "stream",
     "text": [
      "Restored state: {'iteration': 95}\n",
      "Loop iteration 96\n",
      "1d4a7bd6-296a-48b9-b20e-bd0ac80750a5_PL015\n",
      "best_results_avg_wheel_vel_PL0151d4a7bd6-296a-48b9-b20e-bd0ac80750a5\n",
      "Fitting mouse PL015\n"
     ]
    },
    {
     "data": {
      "application/javascript": "Jupyter.notebook.kernel.restart()",
      "text/plain": [
       "<IPython.core.display.Javascript object>"
      ]
     },
     "metadata": {},
     "output_type": "display_data"
    },
    {
     "name": "stdout",
     "output_type": "stream",
     "text": [
      "Restored state: {'iteration': 96}\n",
      "Loop iteration 97\n",
      "b52182e7-39f6-4914-9717-136db589706e_CSHL047\n",
      "best_results_avg_wheel_vel_CSHL047b52182e7-39f6-4914-9717-136db589706e\n",
      "Fitting mouse CSHL047\n"
     ]
    },
    {
     "data": {
      "application/javascript": "Jupyter.notebook.kernel.restart()",
      "text/plain": [
       "<IPython.core.display.Javascript object>"
      ]
     },
     "metadata": {},
     "output_type": "display_data"
    },
    {
     "name": "stdout",
     "output_type": "stream",
     "text": [
      "Restored state: {'iteration': 97}\n",
      "Loop iteration 98\n",
      "a2701b93-d8e1-47e9-a819-f1063046f3e7_KS096\n",
      "best_results_avg_wheel_vel_KS096a2701b93-d8e1-47e9-a819-f1063046f3e7\n",
      "Fitting mouse KS096\n"
     ]
    },
    {
     "data": {
      "application/javascript": "Jupyter.notebook.kernel.restart()",
      "text/plain": [
       "<IPython.core.display.Javascript object>"
      ]
     },
     "metadata": {},
     "output_type": "display_data"
    },
    {
     "name": "stdout",
     "output_type": "stream",
     "text": [
      "Restored state: {'iteration': 98}\n",
      "Loop iteration 99\n",
      "c99d53e6-c317-4c53-99ba-070b26673ac4_CSHL049\n",
      "best_results_avg_wheel_vel_CSHL049c99d53e6-c317-4c53-99ba-070b26673ac4\n",
      "Fitting mouse CSHL049\n"
     ]
    },
    {
     "data": {
      "application/javascript": "Jupyter.notebook.kernel.restart()",
      "text/plain": [
       "<IPython.core.display.Javascript object>"
      ]
     },
     "metadata": {},
     "output_type": "display_data"
    },
    {
     "name": "stdout",
     "output_type": "stream",
     "text": [
      "Restored state: {'iteration': 99}\n",
      "Loop iteration 100\n",
      "f8d5c8b0-b931-4151-b86c-c471e2e80e5d_ZM_2241\n",
      "best_results_avg_wheel_vel_ZM_2241f8d5c8b0-b931-4151-b86c-c471e2e80e5d\n",
      "Fitting mouse ZM_2241\n"
     ]
    },
    {
     "data": {
      "application/javascript": "Jupyter.notebook.kernel.restart()",
      "text/plain": [
       "<IPython.core.display.Javascript object>"
      ]
     },
     "metadata": {},
     "output_type": "display_data"
    },
    {
     "name": "stdout",
     "output_type": "stream",
     "text": [
      "Restored state: {'iteration': 100}\n",
      "Loop iteration 101\n",
      "ee8b36de-779f-4dea-901f-e0141c95722b_DY_014\n",
      "best_results_avg_wheel_vel_DY_014ee8b36de-779f-4dea-901f-e0141c95722b\n",
      "Fitting mouse DY_014\n"
     ]
    },
    {
     "data": {
      "application/javascript": "Jupyter.notebook.kernel.restart()",
      "text/plain": [
       "<IPython.core.display.Javascript object>"
      ]
     },
     "metadata": {},
     "output_type": "display_data"
    },
    {
     "name": "stdout",
     "output_type": "stream",
     "text": [
      "Restored state: {'iteration': 101}\n",
      "Loop iteration 102\n",
      "196a2adf-ff83-49b2-823a-33f990049c2e_KS091\n",
      "best_results_avg_wheel_vel_KS091196a2adf-ff83-49b2-823a-33f990049c2e\n",
      "Fitting mouse KS091\n"
     ]
    },
    {
     "data": {
      "application/javascript": "Jupyter.notebook.kernel.restart()",
      "text/plain": [
       "<IPython.core.display.Javascript object>"
      ]
     },
     "metadata": {},
     "output_type": "display_data"
    },
    {
     "name": "stdout",
     "output_type": "stream",
     "text": [
      "Restored state: {'iteration': 102}\n",
      "Loop iteration 103\n",
      "193fe7a8-4eb5-4f3e-815a-0c45864ddd77_ZM_2240\n",
      "best_results_avg_wheel_vel_ZM_2240193fe7a8-4eb5-4f3e-815a-0c45864ddd77\n",
      "Fitting mouse ZM_2240\n"
     ]
    },
    {
     "data": {
      "application/javascript": "Jupyter.notebook.kernel.restart()",
      "text/plain": [
       "<IPython.core.display.Javascript object>"
      ]
     },
     "metadata": {},
     "output_type": "display_data"
    },
    {
     "name": "stdout",
     "output_type": "stream",
     "text": [
      "Restored state: {'iteration': 103}\n",
      "Loop iteration 104\n",
      "ff96bfe1-d925-4553-94b5-bf8297adf259_ibl_witten_26\n",
      "best_results_avg_wheel_vel_ibl_witten_26ff96bfe1-d925-4553-94b5-bf8297adf259\n",
      "Fitting mouse ibl_witten_26\n"
     ]
    },
    {
     "data": {
      "application/javascript": "Jupyter.notebook.kernel.restart()",
      "text/plain": [
       "<IPython.core.display.Javascript object>"
      ]
     },
     "metadata": {},
     "output_type": "display_data"
    },
    {
     "name": "stdout",
     "output_type": "stream",
     "text": [
      "Restored state: {'iteration': 104}\n",
      "Loop iteration 105\n",
      "f312aaec-3b6f-44b3-86b4-3a0c119c0438_CSHL058\n",
      "best_results_avg_wheel_vel_CSHL058f312aaec-3b6f-44b3-86b4-3a0c119c0438\n",
      "Fitting mouse CSHL058\n"
     ]
    },
    {
     "data": {
      "application/javascript": "Jupyter.notebook.kernel.restart()",
      "text/plain": [
       "<IPython.core.display.Javascript object>"
      ]
     },
     "metadata": {},
     "output_type": "display_data"
    },
    {
     "name": "stdout",
     "output_type": "stream",
     "text": [
      "Restored state: {'iteration': 105}\n",
      "Loop iteration 106\n",
      "3638d102-e8b6-4230-8742-e548cd87a949_SWC_058\n",
      "best_results_avg_wheel_vel_SWC_0583638d102-e8b6-4230-8742-e548cd87a949\n",
      "Fitting mouse SWC_058\n"
     ]
    },
    {
     "data": {
      "application/javascript": "Jupyter.notebook.kernel.restart()",
      "text/plain": [
       "<IPython.core.display.Javascript object>"
      ]
     },
     "metadata": {},
     "output_type": "display_data"
    },
    {
     "name": "stdout",
     "output_type": "stream",
     "text": [
      "Restored state: {'iteration': 106}\n",
      "Loop iteration 107\n",
      "cde63527-7f5a-4cc3-8ac2-215d82e7da26_DY_018\n",
      "best_results_avg_wheel_vel_DY_018cde63527-7f5a-4cc3-8ac2-215d82e7da26\n",
      "Fitting mouse DY_018\n"
     ]
    },
    {
     "data": {
      "application/javascript": "Jupyter.notebook.kernel.restart()",
      "text/plain": [
       "<IPython.core.display.Javascript object>"
      ]
     },
     "metadata": {},
     "output_type": "display_data"
    },
    {
     "name": "stdout",
     "output_type": "stream",
     "text": [
      "Restored state: {'iteration': 107}\n",
      "Loop iteration 108\n",
      "6f6d2c8e-28be-49f4-ae4d-06be2d3148c1_ZFM-02370\n",
      "best_results_avg_wheel_vel_ZFM-023706f6d2c8e-28be-49f4-ae4d-06be2d3148c1\n",
      "Fitting mouse ZFM-02370\n"
     ]
    },
    {
     "data": {
      "application/javascript": "Jupyter.notebook.kernel.restart()",
      "text/plain": [
       "<IPython.core.display.Javascript object>"
      ]
     },
     "metadata": {},
     "output_type": "display_data"
    },
    {
     "name": "stdout",
     "output_type": "stream",
     "text": [
      "Restored state: {'iteration': 108}\n",
      "Loop iteration 109\n",
      "dc21e80d-97d7-44ca-a729-a8e3f9b14305_ibl_witten_26\n",
      "best_results_avg_wheel_vel_ibl_witten_26dc21e80d-97d7-44ca-a729-a8e3f9b14305\n",
      "Fitting mouse ibl_witten_26\n"
     ]
    },
    {
     "data": {
      "application/javascript": "Jupyter.notebook.kernel.restart()",
      "text/plain": [
       "<IPython.core.display.Javascript object>"
      ]
     },
     "metadata": {},
     "output_type": "display_data"
    },
    {
     "name": "stdout",
     "output_type": "stream",
     "text": [
      "Restored state: {'iteration': 109}\n",
      "Loop iteration 110\n",
      "3c851386-e92d-4533-8d55-89a46f0e7384_DY_009\n",
      "best_results_avg_wheel_vel_DY_0093c851386-e92d-4533-8d55-89a46f0e7384\n",
      "Fitting mouse DY_009\n"
     ]
    },
    {
     "data": {
      "application/javascript": "Jupyter.notebook.kernel.restart()",
      "text/plain": [
       "<IPython.core.display.Javascript object>"
      ]
     },
     "metadata": {},
     "output_type": "display_data"
    },
    {
     "name": "stdout",
     "output_type": "stream",
     "text": [
      "Restored state: {'iteration': 110}\n",
      "Loop iteration 111\n",
      "1928bf72-2002-46a6-8930-728420402e01_SWC_052\n",
      "best_results_avg_wheel_vel_SWC_0521928bf72-2002-46a6-8930-728420402e01\n",
      "Fitting mouse SWC_052\n"
     ]
    },
    {
     "data": {
      "application/javascript": "Jupyter.notebook.kernel.restart()",
      "text/plain": [
       "<IPython.core.display.Javascript object>"
      ]
     },
     "metadata": {},
     "output_type": "display_data"
    },
    {
     "name": "stdout",
     "output_type": "stream",
     "text": [
      "Restored state: {'iteration': 111}\n",
      "Loop iteration 112\n",
      "695a6073-eae0-49e0-bb0f-e9e57a9275b9_SWC_043\n",
      "best_results_avg_wheel_vel_SWC_043695a6073-eae0-49e0-bb0f-e9e57a9275b9\n",
      "Fitting mouse SWC_043\n"
     ]
    },
    {
     "data": {
      "application/javascript": "Jupyter.notebook.kernel.restart()",
      "text/plain": [
       "<IPython.core.display.Javascript object>"
      ]
     },
     "metadata": {},
     "output_type": "display_data"
    },
    {
     "name": "stdout",
     "output_type": "stream",
     "text": [
      "Restored state: {'iteration': 112}\n",
      "Loop iteration 113\n",
      "e8b4fda3-7fe4-4706-8ec2-91036cfee6bd_DY_018\n",
      "best_results_avg_wheel_vel_DY_018e8b4fda3-7fe4-4706-8ec2-91036cfee6bd\n",
      "Fitting mouse DY_018\n"
     ]
    },
    {
     "data": {
      "application/javascript": "Jupyter.notebook.kernel.restart()",
      "text/plain": [
       "<IPython.core.display.Javascript object>"
      ]
     },
     "metadata": {},
     "output_type": "display_data"
    },
    {
     "name": "stdout",
     "output_type": "stream",
     "text": [
      "Restored state: {'iteration': 113}\n",
      "Loop iteration 114\n",
      "d2832a38-27f6-452d-91d6-af72d794136c_ibl_witten_29\n",
      "best_results_avg_wheel_vel_ibl_witten_29d2832a38-27f6-452d-91d6-af72d794136c\n",
      "Fitting mouse ibl_witten_29\n"
     ]
    },
    {
     "data": {
      "application/javascript": "Jupyter.notebook.kernel.restart()",
      "text/plain": [
       "<IPython.core.display.Javascript object>"
      ]
     },
     "metadata": {},
     "output_type": "display_data"
    },
    {
     "name": "stdout",
     "output_type": "stream",
     "text": [
      "Restored state: {'iteration': 114}\n",
      "Loop iteration 115\n",
      "4503697e-af44-47d9-898d-4924be990240_KS051\n",
      "best_results_avg_wheel_vel_KS0514503697e-af44-47d9-898d-4924be990240\n",
      "Fitting mouse KS051\n"
     ]
    },
    {
     "data": {
      "application/javascript": "Jupyter.notebook.kernel.restart()",
      "text/plain": [
       "<IPython.core.display.Javascript object>"
      ]
     },
     "metadata": {},
     "output_type": "display_data"
    },
    {
     "name": "stdout",
     "output_type": "stream",
     "text": [
      "Restored state: {'iteration': 115}\n",
      "Loop iteration 116\n",
      "21e16736-fd59-44c7-b938-9b1333d25da8_ZM_1898\n",
      "best_results_avg_wheel_vel_ZM_189821e16736-fd59-44c7-b938-9b1333d25da8\n",
      "Fitting mouse ZM_1898\n"
     ]
    },
    {
     "data": {
      "application/javascript": "Jupyter.notebook.kernel.restart()",
      "text/plain": [
       "<IPython.core.display.Javascript object>"
      ]
     },
     "metadata": {},
     "output_type": "display_data"
    },
    {
     "name": "stdout",
     "output_type": "stream",
     "text": [
      "Restored state: {'iteration': 116}\n",
      "Loop iteration 117\n",
      "ee40aece-cffd-4edb-a4b6-155f158c666a_ZM_2241\n",
      "best_results_avg_wheel_vel_ZM_2241ee40aece-cffd-4edb-a4b6-155f158c666a\n",
      "Fitting mouse ZM_2241\n"
     ]
    },
    {
     "data": {
      "application/javascript": "Jupyter.notebook.kernel.restart()",
      "text/plain": [
       "<IPython.core.display.Javascript object>"
      ]
     },
     "metadata": {},
     "output_type": "display_data"
    },
    {
     "name": "stdout",
     "output_type": "stream",
     "text": [
      "Restored state: {'iteration': 117}\n",
      "Loop iteration 118\n",
      "a9138924-4395-4981-83d1-530f6ff7c8fc_ibl_witten_26\n",
      "best_results_avg_wheel_vel_ibl_witten_26a9138924-4395-4981-83d1-530f6ff7c8fc\n",
      "Fitting mouse ibl_witten_26\n"
     ]
    },
    {
     "data": {
      "application/javascript": "Jupyter.notebook.kernel.restart()",
      "text/plain": [
       "<IPython.core.display.Javascript object>"
      ]
     },
     "metadata": {},
     "output_type": "display_data"
    },
    {
     "name": "stdout",
     "output_type": "stream",
     "text": [
      "Restored state: {'iteration': 118}\n",
      "Loop iteration 119\n",
      "f84045b0-ce09-4ace-9d11-5ea491620707_SWC_052\n",
      "best_results_avg_wheel_vel_SWC_052f84045b0-ce09-4ace-9d11-5ea491620707\n",
      "Fitting mouse SWC_052\n"
     ]
    },
    {
     "data": {
      "application/javascript": "Jupyter.notebook.kernel.restart()",
      "text/plain": [
       "<IPython.core.display.Javascript object>"
      ]
     },
     "metadata": {},
     "output_type": "display_data"
    },
    {
     "name": "stdout",
     "output_type": "stream",
     "text": [
      "Restored state: {'iteration': 119}\n",
      "Loop iteration 120\n",
      "e49d8ee7-24b9-416a-9d04-9be33b655f40_ZM_2241\n",
      "best_results_avg_wheel_vel_ZM_2241e49d8ee7-24b9-416a-9d04-9be33b655f40\n",
      "Fitting mouse ZM_2241\n"
     ]
    },
    {
     "data": {
      "application/javascript": "Jupyter.notebook.kernel.restart()",
      "text/plain": [
       "<IPython.core.display.Javascript object>"
      ]
     },
     "metadata": {},
     "output_type": "display_data"
    },
    {
     "name": "stdout",
     "output_type": "stream",
     "text": [
      "Restored state: {'iteration': 120}\n",
      "Loop iteration 121\n",
      "d16a9a8d-5f42-4b49-ba58-1746f807fcc1_CSHL059\n",
      "best_results_avg_wheel_vel_CSHL059d16a9a8d-5f42-4b49-ba58-1746f807fcc1\n",
      "Fitting mouse CSHL059\n"
     ]
    },
    {
     "data": {
      "application/javascript": "Jupyter.notebook.kernel.restart()",
      "text/plain": [
       "<IPython.core.display.Javascript object>"
      ]
     },
     "metadata": {},
     "output_type": "display_data"
    },
    {
     "name": "stdout",
     "output_type": "stream",
     "text": [
      "Restored state: {'iteration': 121}\n",
      "Loop iteration 122\n",
      "f25642c6-27a5-4a97-9ea0-06652db79fbd_DY_014\n",
      "best_results_avg_wheel_vel_DY_014f25642c6-27a5-4a97-9ea0-06652db79fbd\n",
      "Fitting mouse DY_014\n"
     ]
    },
    {
     "data": {
      "application/javascript": "Jupyter.notebook.kernel.restart()",
      "text/plain": [
       "<IPython.core.display.Javascript object>"
      ]
     },
     "metadata": {},
     "output_type": "display_data"
    },
    {
     "name": "stdout",
     "output_type": "stream",
     "text": [
      "Restored state: {'iteration': 122}\n",
      "Loop iteration 123\n",
      "f5591ac5-311d-4fa8-9bad-029d7be9c491_ZFM-01935\n",
      "best_results_avg_wheel_vel_ZFM-01935f5591ac5-311d-4fa8-9bad-029d7be9c491\n",
      "Fitting mouse ZFM-01935\n"
     ]
    },
    {
     "data": {
      "application/javascript": "Jupyter.notebook.kernel.restart()",
      "text/plain": [
       "<IPython.core.display.Javascript object>"
      ]
     },
     "metadata": {},
     "output_type": "display_data"
    },
    {
     "name": "stdout",
     "output_type": "stream",
     "text": [
      "Restored state: {'iteration': 123}\n",
      "Loop iteration 124\n",
      "465c44bd-2e67-4112-977b-36e1ac7e3f8c_ZM_2241\n",
      "best_results_avg_wheel_vel_ZM_2241465c44bd-2e67-4112-977b-36e1ac7e3f8c\n",
      "Fitting mouse ZM_2241\n"
     ]
    },
    {
     "data": {
      "application/javascript": "Jupyter.notebook.kernel.restart()",
      "text/plain": [
       "<IPython.core.display.Javascript object>"
      ]
     },
     "metadata": {},
     "output_type": "display_data"
    },
    {
     "name": "stdout",
     "output_type": "stream",
     "text": [
      "Restored state: {'iteration': 124}\n",
      "Loop iteration 125\n",
      "32d27583-56aa-4510-bc03-669036edad20_UCLA033\n",
      "best_results_avg_wheel_vel_UCLA03332d27583-56aa-4510-bc03-669036edad20\n",
      "Fitting mouse UCLA033\n"
     ]
    },
    {
     "data": {
      "application/javascript": "Jupyter.notebook.kernel.restart()",
      "text/plain": [
       "<IPython.core.display.Javascript object>"
      ]
     },
     "metadata": {},
     "output_type": "display_data"
    },
    {
     "name": "stdout",
     "output_type": "stream",
     "text": [
      "Restored state: {'iteration': 125}\n",
      "Loop iteration 126\n",
      "64977c74-9c04-437a-9ea1-50386c4996db_PL015\n",
      "best_results_avg_wheel_vel_PL01564977c74-9c04-437a-9ea1-50386c4996db\n",
      "Fitting mouse PL015\n"
     ]
    },
    {
     "data": {
      "application/javascript": "Jupyter.notebook.kernel.restart()",
      "text/plain": [
       "<IPython.core.display.Javascript object>"
      ]
     },
     "metadata": {},
     "output_type": "display_data"
    },
    {
     "name": "stdout",
     "output_type": "stream",
     "text": [
      "Restored state: {'iteration': 126}\n",
      "Loop iteration 127\n",
      "259927fd-7563-4b03-bc5d-17b4d0fa7a55_ZM_2240\n",
      "best_results_avg_wheel_vel_ZM_2240259927fd-7563-4b03-bc5d-17b4d0fa7a55\n",
      "Fitting mouse ZM_2240\n"
     ]
    },
    {
     "data": {
      "application/javascript": "Jupyter.notebook.kernel.restart()",
      "text/plain": [
       "<IPython.core.display.Javascript object>"
      ]
     },
     "metadata": {},
     "output_type": "display_data"
    },
    {
     "name": "stdout",
     "output_type": "stream",
     "text": [
      "Restored state: {'iteration': 127}\n",
      "Loop iteration 128\n",
      "2e6e179c-fccc-4e8f-9448-ce5b6858a183_CSHL060\n",
      "best_results_avg_wheel_vel_CSHL0602e6e179c-fccc-4e8f-9448-ce5b6858a183\n",
      "Fitting mouse CSHL060\n"
     ]
    },
    {
     "data": {
      "application/javascript": "Jupyter.notebook.kernel.restart()",
      "text/plain": [
       "<IPython.core.display.Javascript object>"
      ]
     },
     "metadata": {},
     "output_type": "display_data"
    },
    {
     "name": "stdout",
     "output_type": "stream",
     "text": [
      "Restored state: {'iteration': 128}\n",
      "Loop iteration 129\n",
      "d3a2b25e-46d3-4f0b-ade6-4e32255f4c35_SWC_058\n",
      "best_results_avg_wheel_vel_SWC_058d3a2b25e-46d3-4f0b-ade6-4e32255f4c35\n",
      "Fitting mouse SWC_058\n"
     ]
    },
    {
     "data": {
      "application/javascript": "Jupyter.notebook.kernel.restart()",
      "text/plain": [
       "<IPython.core.display.Javascript object>"
      ]
     },
     "metadata": {},
     "output_type": "display_data"
    },
    {
     "name": "stdout",
     "output_type": "stream",
     "text": [
      "Restored state: {'iteration': 129}\n",
      "Loop iteration 130\n",
      "f99ac31f-171b-4208-a55d-5644c0ad51c3_UCLA035\n",
      "best_results_avg_wheel_vel_UCLA035f99ac31f-171b-4208-a55d-5644c0ad51c3\n",
      "Fitting mouse UCLA035\n"
     ]
    },
    {
     "data": {
      "application/javascript": "Jupyter.notebook.kernel.restart()",
      "text/plain": [
       "<IPython.core.display.Javascript object>"
      ]
     },
     "metadata": {},
     "output_type": "display_data"
    },
    {
     "name": "stdout",
     "output_type": "stream",
     "text": [
      "Restored state: {'iteration': 130}\n",
      "Loop iteration 131\n",
      "f1db6257-85ef-4385-b415-2d078ec75df2_SWC_058\n",
      "best_results_avg_wheel_vel_SWC_058f1db6257-85ef-4385-b415-2d078ec75df2\n",
      "Fitting mouse SWC_058\n"
     ]
    },
    {
     "data": {
      "application/javascript": "Jupyter.notebook.kernel.restart()",
      "text/plain": [
       "<IPython.core.display.Javascript object>"
      ]
     },
     "metadata": {},
     "output_type": "display_data"
    },
    {
     "name": "stdout",
     "output_type": "stream",
     "text": [
      "Restored state: {'iteration': 131}\n",
      "Loop iteration 132\n",
      "b9c205c3-feac-485b-a89d-afc96d9cb280_KS014\n",
      "best_results_avg_wheel_vel_KS014b9c205c3-feac-485b-a89d-afc96d9cb280\n",
      "Fitting mouse KS014\n"
     ]
    },
    {
     "data": {
      "application/javascript": "Jupyter.notebook.kernel.restart()",
      "text/plain": [
       "<IPython.core.display.Javascript object>"
      ]
     },
     "metadata": {},
     "output_type": "display_data"
    },
    {
     "name": "stdout",
     "output_type": "stream",
     "text": [
      "Restored state: {'iteration': 132}\n",
      "Loop iteration 133\n",
      "6fb1e12c-883b-46d1-a745-473cde3232c8_SWC_043\n",
      "best_results_avg_wheel_vel_SWC_0436fb1e12c-883b-46d1-a745-473cde3232c8\n",
      "Fitting mouse SWC_043\n"
     ]
    },
    {
     "data": {
      "application/javascript": "Jupyter.notebook.kernel.restart()",
      "text/plain": [
       "<IPython.core.display.Javascript object>"
      ]
     },
     "metadata": {},
     "output_type": "display_data"
    },
    {
     "name": "stdout",
     "output_type": "stream",
     "text": [
      "Restored state: {'iteration': 133}\n",
      "Loop iteration 134\n",
      "251ece37-7798-477c-8a06-2845d4aa270c_DY_016\n",
      "best_results_avg_wheel_vel_DY_016251ece37-7798-477c-8a06-2845d4aa270c\n",
      "Fitting mouse DY_016\n"
     ]
    },
    {
     "data": {
      "application/javascript": "Jupyter.notebook.kernel.restart()",
      "text/plain": [
       "<IPython.core.display.Javascript object>"
      ]
     },
     "metadata": {},
     "output_type": "display_data"
    },
    {
     "name": "stdout",
     "output_type": "stream",
     "text": [
      "Restored state: {'iteration': 134}\n",
      "Loop iteration 135\n",
      "ee13c19e-2790-4418-97ca-48f02e8013bb_DY_008\n",
      "best_results_avg_wheel_vel_DY_008ee13c19e-2790-4418-97ca-48f02e8013bb\n",
      "Fitting mouse DY_008\n"
     ]
    },
    {
     "data": {
      "application/javascript": "Jupyter.notebook.kernel.restart()",
      "text/plain": [
       "<IPython.core.display.Javascript object>"
      ]
     },
     "metadata": {},
     "output_type": "display_data"
    },
    {
     "name": "stdout",
     "output_type": "stream",
     "text": [
      "Restored state: {'iteration': 135}\n",
      "Processing completed.\n"
     ]
    }
   ],
   "source": [
    "import os\n",
    "import sys\n",
    "import time\n",
    "import pickle\n",
    "from IPython.display import display, Javascript\n",
    "\n",
    "# Save the state before restarting\n",
    "def save_state(state, state_filename='state.pkl'):\n",
    "    with open(state_filename, 'wb') as f:\n",
    "        pickle.dump(state, f)\n",
    "\n",
    "# Load the state after restarting\n",
    "def load_state(state_filename='state.pkl'):\n",
    "    with open(state_filename, 'rb') as f:\n",
    "        return pickle.load(f)\n",
    "\n",
    "# Restart the kernel\n",
    "def restart_kernel():\n",
    "    display(Javascript('Jupyter.notebook.kernel.restart()'))\n",
    "\n",
    "# Restart the program\n",
    "def restart_program():\n",
    "    \"\"\"Restarts the current program.\"\"\"\n",
    "    print(\"Restarting the program...\")\n",
    "    os.execv(sys.executable, ['python'] + sys.argv)\n",
    "\n",
    "##################################################\n",
    "################### MY CODE ######################\n",
    "##################################################\n",
    "\n",
    "import os\n",
    "import autograd.numpy as np\n",
    "import pickle\n",
    "from collections import defaultdict\n",
    "import tracemalloc\n",
    "import gc\n",
    "from one.api import ONE\n",
    "import jax.numpy as jnp\n",
    "import jax.random as jr\n",
    "from dynamax.hidden_markov_model import LinearAutoregressiveHMM\n",
    "import sys\n",
    "import jax\n",
    "\n",
    "# Get my functions\n",
    "functions_path =  '/home/ines/repositories/representation_learning_variability/Models/Sub-trial//2_fit_models/'\n",
    "#functions_path = '/Users/ineslaranjeira/Documents/Repositories/representation_learning_variability//Models/Sub-trial//2_fit_models/'\n",
    "os.chdir(functions_path)\n",
    "from preprocessing_functions import concatenate_sessions\n",
    "from fitting_functions import cross_validate_armodel, compute_inputs\n",
    "one = ONE(mode=\"remote\")\n",
    "\n",
    "\"\"\" \n",
    "PARAMETERS\n",
    "\"\"\"\n",
    "bin_size = 0.1\n",
    "multiplier = 1/bin_size\n",
    "num_iters = 100\n",
    "num_train_batches = 5\n",
    "method = 'kmeans'\n",
    "threshold = 0.05\n",
    "\n",
    "\"\"\" \n",
    "FITTING PARAMETERS\n",
    "\"\"\"\n",
    "# Load preprocessed data\n",
    "prepro_results_path =  '/home/ines/repositories/representation_learning_variability/DATA/Sub-trial/Results/' + str(bin_size) + '/'\n",
    "os.chdir(prepro_results_path)\n",
    "idxs, mouse_names, matrix_all, matrix_all_unnorm, session_all = pickle.load(open(prepro_results_path + \"preprocessed_data_v4_170724\", \"rb\"))\n",
    "collapsed_matrices, collapsed_unnorm, collapsed_trials = concatenate_sessions (mouse_names, matrix_all, matrix_all_unnorm, session_all)\n",
    "\n",
    "var_interest = 'avg_wheel_vel'\n",
    "concatenate = False\n",
    "num_states = 2\n",
    "last_lag = 20\n",
    "lag_step = 2\n",
    "start_lag = 1\n",
    "all_num_lags = list(range(start_lag, last_lag, lag_step))\n",
    "\n",
    "sticky = False\n",
    "if sticky == True:\n",
    "    kappas = [1, 5, 10, 100, 500, 1000, 2000, 5000, 7000, 10000]\n",
    "else:\n",
    "    kappas = [0, 0.2, 0.5, 0.7, 1, 5, 10, 100, 500, 1000, 2000, 5000, 7000, 10000]\n",
    "    kappas = [0, 0.2, 0.5, 0.7, 1, 5, 10, 100, 500, 1000, 2000, 5000, 7000, 10000]\n",
    "    kappas = [0, 0.5, 1, 5, 10, 100, 1000, 5000, 10000]\n",
    "    \n",
    "use_sets = [['avg_wheel_vel'], ['Lick count'], ['whisker_me'],\n",
    "            ['left_X', 'left_Y', 'right_X', 'right_Y'], ['nose_X', 'nose_Y']]\n",
    "var_interest_map = ['avg_wheel_vel', 'Lick count', 'whisker_me', 'left_X', 'nose_X']\n",
    "idx_init_list = [0, 1, 2, 3, 7]\n",
    "idx_end_list = [1, 2, 3, 7, 9]\n",
    "\n",
    "\n",
    "# Loop through mice to find next one\n",
    "for m, mat in enumerate(idxs):\n",
    "    if len(mat) > 35:\n",
    "        mouse_name = mat[37:]\n",
    "        session = mat[0:36]\n",
    "        fit_id = str(mouse_name+session)\n",
    "        if sticky:\n",
    "            filename = \"best_sticky_results_\" + var_interest + '_' + fit_id\n",
    "        else:\n",
    "            filename = \"best_results_\" + var_interest + '_' + fit_id\n",
    "        data_path =  '/home/ines/repositories/representation_learning_variability/DATA/Sub-trial/Results/' + str(bin_size) + '/grid_search/individual_sessions/'\n",
    "        os.chdir(data_path)\n",
    "        files = os.listdir()\n",
    "\n",
    "\"\"\" \n",
    "FUNCTIONS\n",
    "\"\"\"\n",
    "# The good one\n",
    "def grid_search_lag_kappa(id, matrix_all, collapsed_matrices, var_interest, var_interest_map, idx_init_list, idx_end_list, use_sets, concatenate, num_states, all_num_lags, kappas, sticky):\n",
    "    \n",
    "    index_var = np.where(np.array(var_interest_map)==var_interest)[0][0]\n",
    "    idx_init = idx_init_list[index_var]\n",
    "    idx_end = idx_end_list[index_var]\n",
    "    var_names = use_sets[index_var]\n",
    "    \n",
    "    # Initialize vars for saving results\n",
    "    all_init_params = defaultdict(list)\n",
    "    all_fit_params = defaultdict(list)\n",
    "    all_lls = defaultdict(list)\n",
    "    all_baseline_lls = defaultdict(list)\n",
    "    \n",
    "    # Get mouse data\n",
    "    if concatenate == True:\n",
    "        mouse_name = id\n",
    "        design_matrix = collapsed_matrices[mouse_name][:,idx_init:idx_end]\n",
    "        fit_id = mouse_name\n",
    "    else:\n",
    "        mouse_name, session = id\n",
    "        design_matrix = matrix_all[mouse_name][session][:,idx_init:idx_end]\n",
    "        fit_id = str(mouse_name+session)\n",
    "\n",
    "    if len(np.shape(design_matrix)) > 2:\n",
    "        design_matrix = design_matrix[0]\n",
    "\n",
    "    print('Fitting mouse ' + mouse_name)\n",
    "        \n",
    "    \" Fit model with cross-validation\"\n",
    "    # Prepare data for cross-validationfrom jax.interpreters import xla\n",
    "\n",
    "    num_timesteps = np.shape(design_matrix)[0]\n",
    "    emission_dim = np.shape(design_matrix)[1]\n",
    "    shortened_array = np.array(design_matrix[:(num_timesteps // num_train_batches) * num_train_batches])\n",
    "    train_emissions = jnp.stack(jnp.split(shortened_array, num_train_batches))\n",
    "    \n",
    "    \" Fit model with cross-validation across kappas and lags \"\n",
    "    for lag in all_num_lags:\n",
    "        \n",
    "        # print(f\"fitting model with {lag} lags\")\n",
    "        # Initialize lag \n",
    "        all_lls[lag] = {}\n",
    "        all_baseline_lls[lag] = {}\n",
    "        all_init_params[lag] = {}\n",
    "        all_fit_params[lag] = {}\n",
    "        \n",
    "        for kappa in kappas:\n",
    "            \n",
    "            # print(f\"fitting model with kappa {kappa}\")\n",
    "            # Initialize stickiness \n",
    "            all_lls[lag][kappa] = {}\n",
    "            all_baseline_lls[lag][kappa] = {}\n",
    "            all_init_params[lag][kappa] = {}\n",
    "            all_fit_params[lag][kappa] = {}\n",
    "        \n",
    "            # Make a range of Gaussian HMMs\n",
    "            test_arhmm = LinearAutoregressiveHMM(num_states, emission_dim, num_lags=lag, transition_matrix_stickiness=kappa)\n",
    "            # Compute inputs for required timelags\n",
    "            my_inputs = compute_inputs(shortened_array, lag, emission_dim)\n",
    "            train_inputs = jnp.stack(jnp.split(my_inputs, num_train_batches))\n",
    "        \n",
    "            all_val_lls, fit_params, init_params, baseline_lls = cross_validate_armodel(test_arhmm, jr.PRNGKey(0), shortened_array, \n",
    "                                                train_emissions, train_inputs, method, num_train_batches)\n",
    "        \n",
    "            # Save results\n",
    "            all_lls[lag][kappa] = all_val_lls\n",
    "            all_baseline_lls[lag][kappa] = baseline_lls\n",
    "            all_init_params[lag][kappa] = init_params\n",
    "            all_fit_params[lag][kappa] = fit_params\n",
    "            \n",
    "            gc.collect()\n",
    "            # pdb.set_trace()\n",
    "                \n",
    "    mouse_results = all_lls, all_baseline_lls, all_init_params, all_fit_params, design_matrix, kappas, all_num_lags\n",
    "    \n",
    "    # Save design matrix\n",
    "    data_path =  '/home/ines/repositories/representation_learning_variability/DATA/Sub-trial/Results/' + str(bin_size) + '/grid_search/individual_sessions/'\n",
    "    os.chdir(data_path)\n",
    "    \n",
    "    if sticky == True:\n",
    "        pickle.dump(mouse_results, open(\"best_sticky_results_\" + var_names[0] + '_' + fit_id , \"wb\"))\n",
    "    else:\n",
    "        pickle.dump(mouse_results, open(\"best_results_\" + var_names[0] + '_' + fit_id , \"wb\"))\n",
    "\n",
    "    del mouse_results, all_lls, all_baseline_lls, all_init_params, all_fit_params\n",
    "    \n",
    "    # snapshot = tracemalloc.take_snapshot()\n",
    "    # top_stats = snapshot.statistics('lineno')\n",
    "\n",
    "    # print(\"[ Top 10 ]\")\n",
    "    # for stat in top_stats[:10]:\n",
    "    #     print(stat)\n",
    "    \n",
    "    # tracemalloc.clear_traces()\n",
    "    # Clear caches and collect garbage\n",
    "    jax.clear_caches()\n",
    "    gc.collect()\n",
    "                \n",
    "                \n",
    "# Example state\n",
    "state = {'iteration': 0}\n",
    "\n",
    "# Loop with kernel restarts\n",
    "for m, mat in enumerate(idxs):\n",
    "    state['iteration'] = m\n",
    "    print(f\"Loop iteration {m}\")\n",
    "    \n",
    "    # Your processing code here\n",
    "\n",
    "    print(mat)\n",
    "    mouse_name = mat[37:]\n",
    "    session = mat[0:36]\n",
    "    fit_id = str(mouse_name+session)\n",
    "    # Check if session has been computed\n",
    "    if sticky:\n",
    "        filename = \"best_sticky_results_\" + var_interest + '_' + fit_id\n",
    "    else:\n",
    "        filename = \"best_results_\" + var_interest + '_' + fit_id\n",
    "    if filename not in files:\n",
    "        id = mouse_name, session\n",
    "        print(filename)\n",
    "        grid_search_lag_kappa(id, matrix_all, collapsed_matrices, var_interest, var_interest_map, idx_init_list, idx_end_list, use_sets, concatenate, num_states, all_num_lags, kappas, sticky)\n",
    "\n",
    "    save_state(state)\n",
    "    restart_kernel()\n",
    "    # restart_program()\n",
    "    time.sleep(10)  # Adjust sleep time if needed\n",
    "\n",
    "    state = load_state()\n",
    "    import os, sys, time, pickle  # Re-import modules\n",
    "    \n",
    "    print(f\"Restored state: {state}\")\n",
    "\n",
    "print(\"Processing completed.\")"
   ]
  },
  {
   "cell_type": "code",
   "execution_count": null,
   "metadata": {},
   "outputs": [],
   "source": []
  }
 ],
 "metadata": {
  "kernelspec": {
   "display_name": "iblenv",
   "language": "python",
   "name": "python3"
  },
  "language_info": {
   "codemirror_mode": {
    "name": "ipython",
    "version": 3
   },
   "file_extension": ".py",
   "mimetype": "text/x-python",
   "name": "python",
   "nbconvert_exporter": "python",
   "pygments_lexer": "ipython3",
   "version": "3.9.15"
  },
  "orig_nbformat": 4,
  "vscode": {
   "interpreter": {
    "hash": "21541729b5da47a594818561e91cb4175a7e192d68b7cc4221509f43b2f902b5"
   }
  }
 },
 "nbformat": 4,
 "nbformat_minor": 2
}
