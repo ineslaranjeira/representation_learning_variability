{
 "cells": [
  {
   "cell_type": "code",
   "execution_count": 3,
   "metadata": {},
   "outputs": [],
   "source": [
    "from math import ceil\n",
    "from matplotlib.lines import Line2D\n",
    "import networkx as nx\n",
    "import os\n",
    "import numpy as np\n",
    "import pandas as pd\n",
    "import seaborn as sns\n",
    "import matplotlib.pyplot as plt\n",
    "from scipy import stats\n",
    "from statsmodels.stats.multitest import multipletests\n",
    "from itertools import combinations\n",
    "from copy import deepcopy\n",
    "from glob import glob\n"
   ]
  },
  {
   "cell_type": "code",
   "execution_count": null,
   "metadata": {},
   "outputs": [],
   "source": []
  },
  {
   "cell_type": "code",
   "execution_count": null,
   "metadata": {},
   "outputs": [],
   "source": [
    "def plot_transition_graph_group(\n",
    "    project_dir,\n",
    "    model_name,\n",
    "    groups,\n",
    "    trans_mats,\n",
    "    usages,\n",
    "    syll_include,\n",
    "    save_dir=None,\n",
    "    layout=\"circular\",\n",
    "    node_scaling=2000,\n",
    "    show_syllable_names=False,\n",
    "):\n",
    "    \"\"\"Plot the transition graph for each group.\n",
    "\n",
    "    Parameters\n",
    "    ----------\n",
    "    groups : list\n",
    "        the list of groups to plot\n",
    "    trans_mats : list\n",
    "        the list of transition matrices for each group\n",
    "    usages : list\n",
    "        the list of syllable usage for each group\n",
    "    layout : str, optional\n",
    "        the layout of the graph, by default 'circular'\n",
    "    node_scaling : int, optional\n",
    "        the scaling factor for the node size, by default 2000,\n",
    "    show_syllable_names : bool, optional\n",
    "        whether to show just syllable indexes (False) or syllable indexes and\n",
    "        names (True)\n",
    "    \"\"\"\n",
    "    # if show_syllable_names:\n",
    "    #     syll_names = get_syllable_names(project_dir, model_name, syll_include)\n",
    "    # else:\n",
    "    #     syll_names = [f\"{ix}\" for ix in syll_include]\n",
    "\n",
    "    syll_names = most_likely_states\n",
    "    usages = \n",
    "    \n",
    "\n",
    "    n_row = ceil(len(groups) / 2)\n",
    "    fig, all_axes = plt.subplots(n_row, 2, figsize=(20, 10 * n_row))\n",
    "    ax = all_axes.flat\n",
    "\n",
    "    for i in range(len(groups)):\n",
    "        G = nx.from_numpy_array(trans_mats[i] * 100)\n",
    "        widths = nx.get_edge_attributes(G, \"weight\")\n",
    "        if layout == \"circular\":\n",
    "            pos = nx.circular_layout(G)\n",
    "        else:\n",
    "            pos = nx.spring_layout(G)\n",
    "        # get node list\n",
    "        nodelist = G.nodes()\n",
    "        # normalize the usage values\n",
    "        sum_usages = sum(usages[i])\n",
    "        normalized_usages = (\n",
    "            np.array([u / sum_usages for u in usages[i]]) * node_scaling + 1000\n",
    "        )\n",
    "        nx.draw_networkx_nodes(\n",
    "            G,\n",
    "            pos,\n",
    "            nodelist=nodelist,\n",
    "            node_size=normalized_usages,\n",
    "            node_color=\"white\",\n",
    "            edgecolors=\"red\",\n",
    "            ax=ax[i],\n",
    "        )\n",
    "        nx.draw_networkx_edges(\n",
    "            G,\n",
    "            pos,\n",
    "            edgelist=widths.keys(),\n",
    "            width=list(widths.values()),\n",
    "            edge_color=\"black\",\n",
    "            ax=ax[i],\n",
    "            alpha=0.6,\n",
    "        )\n",
    "        nx.draw_networkx_labels(\n",
    "            G,\n",
    "            pos=pos,\n",
    "            labels=dict(zip(nodelist, syll_names)),\n",
    "            font_color=\"black\",\n",
    "            ax=ax[i],\n",
    "        )\n",
    "        ax[i].set_title(groups[i])\n",
    "    # turn off the axis spines\n",
    "    for sub_ax in ax:\n",
    "        sub_ax.axis(\"off\")\n",
    "\n",
    "\n"
   ]
  },
  {
   "cell_type": "code",
   "execution_count": 4,
   "metadata": {},
   "outputs": [],
   "source": [
    "num_states = 4\n",
    "transition_probs = (np.arange(num_states)**10).astype(float)\n",
    "transition_probs /= transition_probs.sum()\n",
    "transition_matrix = np.zeros((num_states, num_states))\n",
    "for k, p in enumerate(transition_probs[::-1]):\n",
    "    transition_matrix += np.roll(p * np.eye(num_states), k, axis=1)\n",
    "    "
   ]
  },
  {
   "cell_type": "code",
   "execution_count": 7,
   "metadata": {},
   "outputs": [],
   "source": [
    "    syll_names = np.random.randint(4, size=1000)"
   ]
  },
  {
   "cell_type": "code",
   "execution_count": 10,
   "metadata": {},
   "outputs": [],
   "source": [
    "unique, counts = np.unique(syll_names, return_counts=True)"
   ]
  },
  {
   "cell_type": "code",
   "execution_count": 20,
   "metadata": {},
   "outputs": [],
   "source": [
    "syll_names = [2, 2, 2, 2, 3, 2, 2, 1, 1, 0, 3, 2, 2, 2, 2, 2, 3, 3, 3, 3, 3, 3, 3, 3, 0, 0, 1, 0, 0, 0, 0, 0, 2, 2, 2, 0, 2, 2, 2, 2, 2,   0, 0, 0, 0, \n",
    "              1, 1, 1, 1, 1, 1, 1, 1, 1, 1, 3, 3, 3, 3, 1, 1, 1, 3,3, 1, 1, 1, 1, 1,1 ,1 ,1 ,1, 2, 2, 1, 2, 2, 2, 2, 2]"
   ]
  },
  {
   "cell_type": "code",
   "execution_count": 5,
   "metadata": {},
   "outputs": [
    {
     "data": {
      "text/plain": [
       "array([[9.82937710e-01, 1.70456437e-02, 1.66461364e-05, 0.00000000e+00],\n",
       "       [0.00000000e+00, 9.82937710e-01, 1.70456437e-02, 1.66461364e-05],\n",
       "       [1.66461364e-05, 0.00000000e+00, 9.82937710e-01, 1.70456437e-02],\n",
       "       [1.70456437e-02, 1.66461364e-05, 0.00000000e+00, 9.82937710e-01]])"
      ]
     },
     "execution_count": 5,
     "metadata": {},
     "output_type": "execute_result"
    }
   ],
   "source": [
    "transition_matrix"
   ]
  },
  {
   "cell_type": "code",
   "execution_count": 21,
   "metadata": {},
   "outputs": [
    {
     "data": {
      "text/plain": [
       "<matplotlib.collections.LineCollection at 0x7fee49fa08e0>"
      ]
     },
     "execution_count": 21,
     "metadata": {},
     "output_type": "execute_result"
    },
    {
     "data": {
      "image/png": "[encoded data removed]",
      "text/plain": [
       "<Figure size 2000x1000 with 1 Axes>"
      ]
     },
     "metadata": {},
     "output_type": "display_data"
    }
   ],
   "source": [
    "    # syll_names = np.random.randint(4, size=1000)\n",
    "    _, usages = np.unique(syll_names, return_counts=True)\n",
    "    trans_mat = transition_matrix\n",
    "    layout=\"circular\"\n",
    "    node_scaling=2000\n",
    "    show_syllable_names=False\n",
    "\n",
    "    # n_row = ceil(len(groups) / 2)\n",
    "    fig, all_axes = plt.subplots(1, 1, figsize=(20, 10 * 1))\n",
    "    # ax = all_axes.flat\n",
    "\n",
    "    # for i in range(len(groups)):\n",
    "    G = nx.from_numpy_array(trans_mat * 100)\n",
    "    widths = nx.get_edge_attributes(G, \"weight\")\n",
    "    if layout == \"circular\":\n",
    "        pos = nx.circular_layout(G)\n",
    "    else:\n",
    "        pos = nx.spring_layout(G)\n",
    "    # get node list\n",
    "    nodelist = G.nodes()\n",
    "    # normalize the usage values\n",
    "    sum_usages = sum(usages)\n",
    "    normalized_usages = (\n",
    "        np.array([u / sum_usages for u in usages]) * node_scaling + 1000\n",
    "    )\n",
    "    nx.draw_networkx_nodes(\n",
    "        G,\n",
    "        pos,\n",
    "        nodelist=nodelist,\n",
    "        node_size=normalized_usages,\n",
    "        node_color=\"white\",\n",
    "        edgecolors=\"red\",\n",
    "    )\n",
    "    nx.draw_networkx_edges(\n",
    "        G,\n",
    "        pos,\n",
    "        edgelist=widths.keys(),\n",
    "        width=list(widths.values()),\n",
    "        edge_color=\"black\",\n",
    "        alpha=0.6,\n",
    "    )\n",
    "    # nx.draw_networkx_labels(\n",
    "    #     G,\n",
    "    #     pos=pos,\n",
    "    #     labels=dict(zip(nodelist, syll_names)),\n",
    "    #     font_color=\"black\",\n",
    "    # )  #        ax=ax,\n",
    "\n",
    "    # # turn off the axis spines\n",
    "    # for sub_ax in ax:\n",
    "    #     sub_ax.axis(\"off\")"
   ]
  },
  {
   "cell_type": "code",
   "execution_count": null,
   "metadata": {},
   "outputs": [],
   "source": []
  }
 ],
 "metadata": {
  "kernelspec": {
   "display_name": "iblenv",
   "language": "python",
   "name": "python3"
  },
  "language_info": {
   "codemirror_mode": {
    "name": "ipython",
    "version": 3
   },
   "file_extension": ".py",
   "mimetype": "text/x-python",
   "name": "python",
   "nbconvert_exporter": "python",
   "pygments_lexer": "ipython3",
   "version": "3.10.12"
  }
 },
 "nbformat": 4,
 "nbformat_minor": 2
}
