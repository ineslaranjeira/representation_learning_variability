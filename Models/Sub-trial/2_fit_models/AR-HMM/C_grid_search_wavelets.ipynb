{
 "cells": [
  {
   "cell_type": "code",
   "execution_count": 1,
   "metadata": {},
   "outputs": [
    {
     "name": "stdout",
     "output_type": "stream",
     "text": [
      "Loop iteration 0\n",
      "10fac7a1-919d-4ca7-83c4-4675bd8d9416_PL017\n"
     ]
    },
    {
     "data": {
      "application/javascript": "Jupyter.notebook.kernel.restart()",
      "text/plain": [
       "<IPython.core.display.Javascript object>"
      ]
     },
     "metadata": {},
     "output_type": "display_data"
    },
    {
     "name": "stdout",
     "output_type": "stream",
     "text": [
      "Restored state: {'iteration': 0}\n",
      "Loop iteration 1\n",
      "7416f387-b302-4ca3-8daf-03b585a1b7ec_SWC_052\n"
     ]
    },
    {
     "data": {
      "application/javascript": "Jupyter.notebook.kernel.restart()",
      "text/plain": [
       "<IPython.core.display.Javascript object>"
      ]
     },
     "metadata": {},
     "output_type": "display_data"
    },
    {
     "name": "stdout",
     "output_type": "stream",
     "text": [
      "Restored state: {'iteration': 1}\n",
      "Loop iteration 2\n",
      "72cb5550-43b4-4ef0-add5-e4adfdfb5e02_ZFM-02369\n"
     ]
    },
    {
     "data": {
      "application/javascript": "Jupyter.notebook.kernel.restart()",
      "text/plain": [
       "<IPython.core.display.Javascript object>"
      ]
     },
     "metadata": {},
     "output_type": "display_data"
    },
    {
     "name": "stdout",
     "output_type": "stream",
     "text": [
      "Restored state: {'iteration': 2}\n",
      "Loop iteration 3\n",
      "360eac0c-7d2d-4cc1-9dcf-79fc7afc56e7_SWC_061\n"
     ]
    },
    {
     "data": {
      "application/javascript": "Jupyter.notebook.kernel.restart()",
      "text/plain": [
       "<IPython.core.display.Javascript object>"
      ]
     },
     "metadata": {},
     "output_type": "display_data"
    },
    {
     "name": "stdout",
     "output_type": "stream",
     "text": [
      "Restored state: {'iteration': 3}\n",
      "Loop iteration 4\n",
      "d839491f-55d8-4cbe-a298-7839208ba12b_CSHL049\n"
     ]
    },
    {
     "data": {
      "application/javascript": "Jupyter.notebook.kernel.restart()",
      "text/plain": [
       "<IPython.core.display.Javascript object>"
      ]
     },
     "metadata": {},
     "output_type": "display_data"
    },
    {
     "name": "stdout",
     "output_type": "stream",
     "text": [
      "Restored state: {'iteration': 4}\n",
      "Loop iteration 5\n",
      "19e66dc9-bf9f-430b-9d6a-acfa85de6fb7_UCLA006\n"
     ]
    },
    {
     "data": {
      "application/javascript": "Jupyter.notebook.kernel.restart()",
      "text/plain": [
       "<IPython.core.display.Javascript object>"
      ]
     },
     "metadata": {},
     "output_type": "display_data"
    },
    {
     "name": "stdout",
     "output_type": "stream",
     "text": [
      "Restored state: {'iteration': 5}\n",
      "Loop iteration 6\n",
      "032452e9-1886-449d-9c13-0f192572e19f_SWC_053\n"
     ]
    },
    {
     "data": {
      "application/javascript": "Jupyter.notebook.kernel.restart()",
      "text/plain": [
       "<IPython.core.display.Javascript object>"
      ]
     },
     "metadata": {},
     "output_type": "display_data"
    },
    {
     "name": "stdout",
     "output_type": "stream",
     "text": [
      "Restored state: {'iteration': 6}\n",
      "Loop iteration 7\n",
      "28741f91-c837-4147-939e-918d38d849f2_CSHL058\n"
     ]
    },
    {
     "data": {
      "application/javascript": "Jupyter.notebook.kernel.restart()",
      "text/plain": [
       "<IPython.core.display.Javascript object>"
      ]
     },
     "metadata": {},
     "output_type": "display_data"
    },
    {
     "name": "stdout",
     "output_type": "stream",
     "text": [
      "Restored state: {'iteration': 7}\n",
      "Loop iteration 8\n",
      "2c44a360-5a56-4971-8009-f469fb59de98_ZFM-01936\n"
     ]
    },
    {
     "data": {
      "application/javascript": "Jupyter.notebook.kernel.restart()",
      "text/plain": [
       "<IPython.core.display.Javascript object>"
      ]
     },
     "metadata": {},
     "output_type": "display_data"
    },
    {
     "name": "stdout",
     "output_type": "stream",
     "text": [
      "Restored state: {'iteration': 8}\n",
      "Loop iteration 9\n",
      "9fe512b8-92a8-4642-83b6-01158ab66c3c_DY_020\n"
     ]
    },
    {
     "data": {
      "application/javascript": "Jupyter.notebook.kernel.restart()",
      "text/plain": [
       "<IPython.core.display.Javascript object>"
      ]
     },
     "metadata": {},
     "output_type": "display_data"
    },
    {
     "name": "stdout",
     "output_type": "stream",
     "text": [
      "Restored state: {'iteration': 9}\n",
      "Loop iteration 10\n",
      "c6db3304-c906-400c-aa0f-45dd3945b2ea_SWC_043\n"
     ]
    },
    {
     "data": {
      "application/javascript": "Jupyter.notebook.kernel.restart()",
      "text/plain": [
       "<IPython.core.display.Javascript object>"
      ]
     },
     "metadata": {},
     "output_type": "display_data"
    },
    {
     "name": "stdout",
     "output_type": "stream",
     "text": [
      "Restored state: {'iteration': 10}\n",
      "Loop iteration 11\n",
      "3537d970-f515-4786-853f-23de525e110f_UCLA034\n"
     ]
    },
    {
     "data": {
      "application/javascript": "Jupyter.notebook.kernel.restart()",
      "text/plain": [
       "<IPython.core.display.Javascript object>"
      ]
     },
     "metadata": {},
     "output_type": "display_data"
    },
    {
     "name": "stdout",
     "output_type": "stream",
     "text": [
      "Restored state: {'iteration': 11}\n",
      "Loop iteration 12\n",
      "75b6b132-d998-4fba-8482-961418ac957d_SWC_053\n"
     ]
    },
    {
     "data": {
      "application/javascript": "Jupyter.notebook.kernel.restart()",
      "text/plain": [
       "<IPython.core.display.Javascript object>"
      ]
     },
     "metadata": {},
     "output_type": "display_data"
    },
    {
     "name": "stdout",
     "output_type": "stream",
     "text": [
      "Restored state: {'iteration': 12}\n",
      "Loop iteration 13\n",
      "a4a74102-2af5-45dc-9e41-ef7f5aed88be_ZFM-02368\n"
     ]
    },
    {
     "data": {
      "application/javascript": "Jupyter.notebook.kernel.restart()",
      "text/plain": [
       "<IPython.core.display.Javascript object>"
      ]
     },
     "metadata": {},
     "output_type": "display_data"
    },
    {
     "name": "stdout",
     "output_type": "stream",
     "text": [
      "Restored state: {'iteration': 13}\n",
      "Loop iteration 14\n",
      "88d24c31-52e4-49cc-9f32-6adbeb9eba87_SWC_043\n"
     ]
    },
    {
     "data": {
      "application/javascript": "Jupyter.notebook.kernel.restart()",
      "text/plain": [
       "<IPython.core.display.Javascript object>"
      ]
     },
     "metadata": {},
     "output_type": "display_data"
    },
    {
     "name": "stdout",
     "output_type": "stream",
     "text": [
      "Restored state: {'iteration': 14}\n",
      "Loop iteration 15\n",
      "f7335a49-4a98-46d2-a8ce-d041d2eac1d6_DY_020\n"
     ]
    },
    {
     "data": {
      "application/javascript": "Jupyter.notebook.kernel.restart()",
      "text/plain": [
       "<IPython.core.display.Javascript object>"
      ]
     },
     "metadata": {},
     "output_type": "display_data"
    },
    {
     "name": "stdout",
     "output_type": "stream",
     "text": [
      "Restored state: {'iteration': 15}\n",
      "Loop iteration 16\n",
      "54238fd6-d2d0-4408-b1a9-d19d24fd29ce_DY_018\n"
     ]
    },
    {
     "data": {
      "application/javascript": "Jupyter.notebook.kernel.restart()",
      "text/plain": [
       "<IPython.core.display.Javascript object>"
      ]
     },
     "metadata": {},
     "output_type": "display_data"
    },
    {
     "name": "stdout",
     "output_type": "stream",
     "text": [
      "Restored state: {'iteration': 16}\n",
      "Loop iteration 17\n",
      "fb70ebf7-8175-42b0-9b7a-7c6e8612226e_CSHL058\n"
     ]
    },
    {
     "data": {
      "application/javascript": "Jupyter.notebook.kernel.restart()",
      "text/plain": [
       "<IPython.core.display.Javascript object>"
      ]
     },
     "metadata": {},
     "output_type": "display_data"
    },
    {
     "name": "stdout",
     "output_type": "stream",
     "text": [
      "Restored state: {'iteration': 17}\n",
      "Loop iteration 18\n",
      "91796ceb-e314-4859-9a1f-092f85cc846a_SWC_054\n"
     ]
    },
    {
     "data": {
      "application/javascript": "Jupyter.notebook.kernel.restart()",
      "text/plain": [
       "<IPython.core.display.Javascript object>"
      ]
     },
     "metadata": {},
     "output_type": "display_data"
    },
    {
     "name": "stdout",
     "output_type": "stream",
     "text": [
      "Restored state: {'iteration': 18}\n",
      "Loop iteration 19\n",
      "63f3dbc1-1a5f-44e5-98dd-ce25cd2b7871_ZFM-01577\n"
     ]
    },
    {
     "data": {
      "application/javascript": "Jupyter.notebook.kernel.restart()",
      "text/plain": [
       "<IPython.core.display.Javascript object>"
      ]
     },
     "metadata": {},
     "output_type": "display_data"
    },
    {
     "name": "stdout",
     "output_type": "stream",
     "text": [
      "Restored state: {'iteration': 19}\n",
      "Loop iteration 20\n",
      "746d1902-fa59-4cab-b0aa-013be36060d5_ZFM-01592\n"
     ]
    },
    {
     "data": {
      "application/javascript": "Jupyter.notebook.kernel.restart()",
      "text/plain": [
       "<IPython.core.display.Javascript object>"
      ]
     },
     "metadata": {},
     "output_type": "display_data"
    },
    {
     "name": "stdout",
     "output_type": "stream",
     "text": [
      "Restored state: {'iteration': 20}\n",
      "Loop iteration 21\n",
      "46794e05-3f6a-4d35-afb3-9165091a5a74_CSHL045\n"
     ]
    },
    {
     "data": {
      "application/javascript": "Jupyter.notebook.kernel.restart()",
      "text/plain": [
       "<IPython.core.display.Javascript object>"
      ]
     },
     "metadata": {},
     "output_type": "display_data"
    },
    {
     "name": "stdout",
     "output_type": "stream",
     "text": [
      "Restored state: {'iteration': 21}\n",
      "Loop iteration 22\n",
      "f9860a11-24d3-452e-ab95-39e199f20a93_SWC_042\n"
     ]
    },
    {
     "data": {
      "application/javascript": "Jupyter.notebook.kernel.restart()",
      "text/plain": [
       "<IPython.core.display.Javascript object>"
      ]
     },
     "metadata": {},
     "output_type": "display_data"
    },
    {
     "name": "stdout",
     "output_type": "stream",
     "text": [
      "Restored state: {'iteration': 22}\n",
      "Loop iteration 23\n",
      "810b1e07-009e-4ebe-930a-915e4cd8ece4_CSHL053\n"
     ]
    },
    {
     "data": {
      "application/javascript": "Jupyter.notebook.kernel.restart()",
      "text/plain": [
       "<IPython.core.display.Javascript object>"
      ]
     },
     "metadata": {},
     "output_type": "display_data"
    },
    {
     "name": "stdout",
     "output_type": "stream",
     "text": [
      "Restored state: {'iteration': 23}\n",
      "Loop iteration 24\n",
      "bb099402-fb31-4cfd-824e-1c97530a0875_UCLA017\n"
     ]
    },
    {
     "data": {
      "application/javascript": "Jupyter.notebook.kernel.restart()",
      "text/plain": [
       "<IPython.core.display.Javascript object>"
      ]
     },
     "metadata": {},
     "output_type": "display_data"
    },
    {
     "name": "stdout",
     "output_type": "stream",
     "text": [
      "Restored state: {'iteration': 24}\n",
      "Loop iteration 25\n",
      "a66f1593-dafd-4982-9b66-f9554b6c86b5_CSH_ZAD_022\n"
     ]
    },
    {
     "data": {
      "application/javascript": "Jupyter.notebook.kernel.restart()",
      "text/plain": [
       "<IPython.core.display.Javascript object>"
      ]
     },
     "metadata": {},
     "output_type": "display_data"
    },
    {
     "name": "stdout",
     "output_type": "stream",
     "text": [
      "Restored state: {'iteration': 25}\n",
      "Loop iteration 26\n",
      "56b57c38-2699-4091-90a8-aba35103155e_SWC_054\n"
     ]
    },
    {
     "data": {
      "application/javascript": "Jupyter.notebook.kernel.restart()",
      "text/plain": [
       "<IPython.core.display.Javascript object>"
      ]
     },
     "metadata": {},
     "output_type": "display_data"
    },
    {
     "name": "stdout",
     "output_type": "stream",
     "text": [
      "Restored state: {'iteration': 26}\n",
      "Loop iteration 27\n",
      "113c5b6c-940e-4b21-b462-789b4c2be0e5_ZFM-01937\n"
     ]
    },
    {
     "data": {
      "application/javascript": "Jupyter.notebook.kernel.restart()",
      "text/plain": [
       "<IPython.core.display.Javascript object>"
      ]
     },
     "metadata": {},
     "output_type": "display_data"
    },
    {
     "name": "stdout",
     "output_type": "stream",
     "text": [
      "Restored state: {'iteration': 27}\n",
      "Loop iteration 28\n",
      "5386aba9-9b97-4557-abcd-abc2da66b863_CSHL052\n"
     ]
    },
    {
     "data": {
      "application/javascript": "Jupyter.notebook.kernel.restart()",
      "text/plain": [
       "<IPython.core.display.Javascript object>"
      ]
     },
     "metadata": {},
     "output_type": "display_data"
    },
    {
     "name": "stdout",
     "output_type": "stream",
     "text": [
      "Restored state: {'iteration': 28}\n",
      "Loop iteration 29\n",
      "d7e60cc3-6020-429e-a654-636c6cc677ea_SWC_061\n"
     ]
    },
    {
     "data": {
      "application/javascript": "Jupyter.notebook.kernel.restart()",
      "text/plain": [
       "<IPython.core.display.Javascript object>"
      ]
     },
     "metadata": {},
     "output_type": "display_data"
    },
    {
     "name": "stdout",
     "output_type": "stream",
     "text": [
      "Restored state: {'iteration': 29}\n",
      "Loop iteration 30\n",
      "2e22c1fc-eec6-4856-85a0-7dba8668f646_DY_020\n"
     ]
    },
    {
     "data": {
      "application/javascript": "Jupyter.notebook.kernel.restart()",
      "text/plain": [
       "<IPython.core.display.Javascript object>"
      ]
     },
     "metadata": {},
     "output_type": "display_data"
    },
    {
     "name": "stdout",
     "output_type": "stream",
     "text": [
      "Restored state: {'iteration': 30}\n",
      "Loop iteration 31\n",
      "73918ae1-e4fd-4c18-b132-00cb555b1ad2_ibl_witten_27\n"
     ]
    },
    {
     "data": {
      "application/javascript": "Jupyter.notebook.kernel.restart()",
      "text/plain": [
       "<IPython.core.display.Javascript object>"
      ]
     },
     "metadata": {},
     "output_type": "display_data"
    },
    {
     "name": "stdout",
     "output_type": "stream",
     "text": [
      "Restored state: {'iteration': 31}\n",
      "Loop iteration 32\n",
      "9eec761e-9762-4897-b308-a3a08c311e69_DY_020\n"
     ]
    },
    {
     "data": {
      "application/javascript": "Jupyter.notebook.kernel.restart()",
      "text/plain": [
       "<IPython.core.display.Javascript object>"
      ]
     },
     "metadata": {},
     "output_type": "display_data"
    },
    {
     "name": "stdout",
     "output_type": "stream",
     "text": [
      "Restored state: {'iteration': 32}\n",
      "Loop iteration 33\n",
      "8a3a0197-b40a-449f-be55-c00b23253bbf_UCLA034\n"
     ]
    },
    {
     "data": {
      "application/javascript": "Jupyter.notebook.kernel.restart()",
      "text/plain": [
       "<IPython.core.display.Javascript object>"
      ]
     },
     "metadata": {},
     "output_type": "display_data"
    },
    {
     "name": "stdout",
     "output_type": "stream",
     "text": [
      "Restored state: {'iteration': 33}\n",
      "Loop iteration 34\n",
      "e2b845a1-e313-4a08-bc61-a5f662ed295e_UCLA036\n"
     ]
    },
    {
     "data": {
      "application/javascript": "Jupyter.notebook.kernel.restart()",
      "text/plain": [
       "<IPython.core.display.Javascript object>"
      ]
     },
     "metadata": {},
     "output_type": "display_data"
    },
    {
     "name": "stdout",
     "output_type": "stream",
     "text": [
      "Restored state: {'iteration': 34}\n",
      "Loop iteration 35\n",
      "71e03be6-b497-4991-a121-9416dcc1a6e7_ZFM-01935\n"
     ]
    },
    {
     "data": {
      "application/javascript": "Jupyter.notebook.kernel.restart()",
      "text/plain": [
       "<IPython.core.display.Javascript object>"
      ]
     },
     "metadata": {},
     "output_type": "display_data"
    },
    {
     "name": "stdout",
     "output_type": "stream",
     "text": [
      "Restored state: {'iteration': 35}\n",
      "Loop iteration 36\n",
      "5339812f-8b91-40ba-9d8f-a559563cc46b_DY_016\n"
     ]
    },
    {
     "data": {
      "application/javascript": "Jupyter.notebook.kernel.restart()",
      "text/plain": [
       "<IPython.core.display.Javascript object>"
      ]
     },
     "metadata": {},
     "output_type": "display_data"
    },
    {
     "name": "stdout",
     "output_type": "stream",
     "text": [
      "Restored state: {'iteration': 36}\n",
      "Loop iteration 37\n",
      "3e6a97d3-3991-49e2-b346-6948cb4580fb_NR_0020\n"
     ]
    },
    {
     "data": {
      "application/javascript": "Jupyter.notebook.kernel.restart()",
      "text/plain": [
       "<IPython.core.display.Javascript object>"
      ]
     },
     "metadata": {},
     "output_type": "display_data"
    },
    {
     "name": "stdout",
     "output_type": "stream",
     "text": [
      "Restored state: {'iteration': 37}\n",
      "Loop iteration 38\n",
      "45ef6691-7b80-4a43-bd1a-85fc00851ae8_SWC_052\n"
     ]
    },
    {
     "data": {
      "application/javascript": "Jupyter.notebook.kernel.restart()",
      "text/plain": [
       "<IPython.core.display.Javascript object>"
      ]
     },
     "metadata": {},
     "output_type": "display_data"
    },
    {
     "name": "stdout",
     "output_type": "stream",
     "text": [
      "Restored state: {'iteration': 38}\n",
      "Loop iteration 39\n",
      "6ed57216-498d-48a6-b48b-a243a34710ea_NYU-39\n"
     ]
    },
    {
     "data": {
      "application/javascript": "Jupyter.notebook.kernel.restart()",
      "text/plain": [
       "<IPython.core.display.Javascript object>"
      ]
     },
     "metadata": {},
     "output_type": "display_data"
    },
    {
     "name": "stdout",
     "output_type": "stream",
     "text": [
      "Restored state: {'iteration': 39}\n",
      "Loop iteration 40\n",
      "6bb5da8f-6858-4fdd-96d9-c34b3b841593_SWC_054\n"
     ]
    },
    {
     "data": {
      "application/javascript": "Jupyter.notebook.kernel.restart()",
      "text/plain": [
       "<IPython.core.display.Javascript object>"
      ]
     },
     "metadata": {},
     "output_type": "display_data"
    },
    {
     "name": "stdout",
     "output_type": "stream",
     "text": [
      "Restored state: {'iteration': 40}\n",
      "Loop iteration 41\n",
      "bda2faf5-9563-4940-a80f-ce444259e47b_UCLA037\n"
     ]
    },
    {
     "data": {
      "application/javascript": "Jupyter.notebook.kernel.restart()",
      "text/plain": [
       "<IPython.core.display.Javascript object>"
      ]
     },
     "metadata": {},
     "output_type": "display_data"
    },
    {
     "name": "stdout",
     "output_type": "stream",
     "text": [
      "Restored state: {'iteration': 41}\n",
      "Loop iteration 42\n",
      "280ee768-f7b8-4c6c-9ea0-48ca75d6b6f3_CSH_ZAD_025\n"
     ]
    },
    {
     "data": {
      "application/javascript": "Jupyter.notebook.kernel.restart()",
      "text/plain": [
       "<IPython.core.display.Javascript object>"
      ]
     },
     "metadata": {},
     "output_type": "display_data"
    },
    {
     "name": "stdout",
     "output_type": "stream",
     "text": [
      "Restored state: {'iteration': 42}\n",
      "Loop iteration 43\n",
      "6b0b5d24-bcda-4053-a59c-beaa1fe03b8f_KS094\n"
     ]
    },
    {
     "data": {
      "application/javascript": "Jupyter.notebook.kernel.restart()",
      "text/plain": [
       "<IPython.core.display.Javascript object>"
      ]
     },
     "metadata": {},
     "output_type": "display_data"
    },
    {
     "name": "stdout",
     "output_type": "stream",
     "text": [
      "Restored state: {'iteration': 43}\n",
      "Loop iteration 44\n",
      "0deb75fb-9088-42d9-b744-012fb8fc4afb_CSHL053\n"
     ]
    },
    {
     "data": {
      "application/javascript": "Jupyter.notebook.kernel.restart()",
      "text/plain": [
       "<IPython.core.display.Javascript object>"
      ]
     },
     "metadata": {},
     "output_type": "display_data"
    },
    {
     "name": "stdout",
     "output_type": "stream",
     "text": [
      "Restored state: {'iteration': 44}\n",
      "Loop iteration 45\n",
      "7939711b-8b4d-4251-b698-b97c1eaa846e_CSHL045\n"
     ]
    },
    {
     "data": {
      "application/javascript": "Jupyter.notebook.kernel.restart()",
      "text/plain": [
       "<IPython.core.display.Javascript object>"
      ]
     },
     "metadata": {},
     "output_type": "display_data"
    },
    {
     "name": "stdout",
     "output_type": "stream",
     "text": [
      "Restored state: {'iteration': 45}\n",
      "Loop iteration 46\n",
      "81a78eac-9d36-4f90-a73a-7eb3ad7f770b_CSH_ZAD_026\n"
     ]
    },
    {
     "data": {
      "application/javascript": "Jupyter.notebook.kernel.restart()",
      "text/plain": [
       "<IPython.core.display.Javascript object>"
      ]
     },
     "metadata": {},
     "output_type": "display_data"
    },
    {
     "name": "stdout",
     "output_type": "stream",
     "text": [
      "Restored state: {'iteration': 46}\n",
      "Loop iteration 47\n",
      "86b6ba67-c1db-4333-add0-f8105ea6e363_ibl_witten_29\n"
     ]
    },
    {
     "data": {
      "application/javascript": "Jupyter.notebook.kernel.restart()",
      "text/plain": [
       "<IPython.core.display.Javascript object>"
      ]
     },
     "metadata": {},
     "output_type": "display_data"
    },
    {
     "name": "stdout",
     "output_type": "stream",
     "text": [
      "Restored state: {'iteration': 47}\n",
      "Loop iteration 48\n",
      "90d1e82c-c96f-496c-ad4e-ee3f02067f25_DY_010\n"
     ]
    },
    {
     "data": {
      "application/javascript": "Jupyter.notebook.kernel.restart()",
      "text/plain": [
       "<IPython.core.display.Javascript object>"
      ]
     },
     "metadata": {},
     "output_type": "display_data"
    },
    {
     "name": "stdout",
     "output_type": "stream",
     "text": [
      "Restored state: {'iteration': 48}\n",
      "Loop iteration 49\n",
      "15948667-747b-4702-9d53-354ac70e9119_NYU-47\n"
     ]
    },
    {
     "data": {
      "application/javascript": "Jupyter.notebook.kernel.restart()",
      "text/plain": [
       "<IPython.core.display.Javascript object>"
      ]
     },
     "metadata": {},
     "output_type": "display_data"
    },
    {
     "name": "stdout",
     "output_type": "stream",
     "text": [
      "Restored state: {'iteration': 49}\n",
      "Loop iteration 50\n",
      "d0c91c3c-8cbb-4929-8657-31f18bffc294_ZFM-02370\n"
     ]
    },
    {
     "data": {
      "application/javascript": "Jupyter.notebook.kernel.restart()",
      "text/plain": [
       "<IPython.core.display.Javascript object>"
      ]
     },
     "metadata": {},
     "output_type": "display_data"
    },
    {
     "name": "stdout",
     "output_type": "stream",
     "text": [
      "Restored state: {'iteration': 50}\n",
      "Loop iteration 51\n",
      "3f6e25ae-c007-4dc3-aa77-450fd5705046_ZFM-01936\n"
     ]
    },
    {
     "data": {
      "application/javascript": "Jupyter.notebook.kernel.restart()",
      "text/plain": [
       "<IPython.core.display.Javascript object>"
      ]
     },
     "metadata": {},
     "output_type": "display_data"
    },
    {
     "name": "stdout",
     "output_type": "stream",
     "text": [
      "Restored state: {'iteration': 51}\n",
      "Loop iteration 52\n",
      "948fd27b-507b-41b3-bdf8-f9f5f0af8e0b_DY_020\n"
     ]
    },
    {
     "data": {
      "application/javascript": "Jupyter.notebook.kernel.restart()",
      "text/plain": [
       "<IPython.core.display.Javascript object>"
      ]
     },
     "metadata": {},
     "output_type": "display_data"
    },
    {
     "name": "stdout",
     "output_type": "stream",
     "text": [
      "Restored state: {'iteration': 52}\n",
      "Loop iteration 53\n",
      "f4ffb731-8349-4fe4-806e-0232a84e52dd_SWC_066\n"
     ]
    },
    {
     "data": {
      "application/javascript": "Jupyter.notebook.kernel.restart()",
      "text/plain": [
       "<IPython.core.display.Javascript object>"
      ]
     },
     "metadata": {},
     "output_type": "display_data"
    },
    {
     "name": "stdout",
     "output_type": "stream",
     "text": [
      "Restored state: {'iteration': 53}\n",
      "Loop iteration 54\n",
      "1b715600-0cbc-442c-bd00-5b0ac2865de1_KS084\n"
     ]
    },
    {
     "data": {
      "application/javascript": "Jupyter.notebook.kernel.restart()",
      "text/plain": [
       "<IPython.core.display.Javascript object>"
      ]
     },
     "metadata": {},
     "output_type": "display_data"
    },
    {
     "name": "stdout",
     "output_type": "stream",
     "text": [
      "Restored state: {'iteration': 54}\n",
      "Loop iteration 55\n",
      "cf43dbb1-6992-40ec-a5f9-e8e838d0f643_DY_011\n"
     ]
    },
    {
     "data": {
      "application/javascript": "Jupyter.notebook.kernel.restart()",
      "text/plain": [
       "<IPython.core.display.Javascript object>"
      ]
     },
     "metadata": {},
     "output_type": "display_data"
    },
    {
     "name": "stdout",
     "output_type": "stream",
     "text": [
      "Restored state: {'iteration': 55}\n",
      "Loop iteration 56\n",
      "09156021-9a1d-4e1d-ae59-48cbde3c5d42_PL015\n"
     ]
    },
    {
     "data": {
      "application/javascript": "Jupyter.notebook.kernel.restart()",
      "text/plain": [
       "<IPython.core.display.Javascript object>"
      ]
     },
     "metadata": {},
     "output_type": "display_data"
    },
    {
     "name": "stdout",
     "output_type": "stream",
     "text": [
      "Restored state: {'iteration': 56}\n",
      "Loop iteration 57\n",
      "78b4fff5-c5ec-44d9-b5f9-d59493063f00_KS091\n"
     ]
    },
    {
     "data": {
      "application/javascript": "Jupyter.notebook.kernel.restart()",
      "text/plain": [
       "<IPython.core.display.Javascript object>"
      ]
     },
     "metadata": {},
     "output_type": "display_data"
    },
    {
     "name": "stdout",
     "output_type": "stream",
     "text": [
      "Restored state: {'iteration': 57}\n",
      "Loop iteration 58\n",
      "c557324b-b95d-414c-888f-6ee1329a2329_CSH_ZAD_025\n"
     ]
    },
    {
     "data": {
      "application/javascript": "Jupyter.notebook.kernel.restart()",
      "text/plain": [
       "<IPython.core.display.Javascript object>"
      ]
     },
     "metadata": {},
     "output_type": "display_data"
    },
    {
     "name": "stdout",
     "output_type": "stream",
     "text": [
      "Restored state: {'iteration': 58}\n",
      "Loop iteration 59\n",
      "875c1e5c-f7ec-45ac-ab82-ecfe7276a707_SWC_060\n"
     ]
    },
    {
     "data": {
      "application/javascript": "Jupyter.notebook.kernel.restart()",
      "text/plain": [
       "<IPython.core.display.Javascript object>"
      ]
     },
     "metadata": {},
     "output_type": "display_data"
    },
    {
     "name": "stdout",
     "output_type": "stream",
     "text": [
      "Restored state: {'iteration': 59}\n",
      "Loop iteration 60\n",
      "19b44992-d527-4a12-8bda-aa11379cb08c_UCLA034\n"
     ]
    },
    {
     "data": {
      "application/javascript": "Jupyter.notebook.kernel.restart()",
      "text/plain": [
       "<IPython.core.display.Javascript object>"
      ]
     },
     "metadata": {},
     "output_type": "display_data"
    },
    {
     "name": "stdout",
     "output_type": "stream",
     "text": [
      "Restored state: {'iteration': 60}\n",
      "Loop iteration 61\n",
      "c3d9b6fb-7fa9-4413-a364-92a54df0fc5d_DY_016\n"
     ]
    },
    {
     "data": {
      "application/javascript": "Jupyter.notebook.kernel.restart()",
      "text/plain": [
       "<IPython.core.display.Javascript object>"
      ]
     },
     "metadata": {},
     "output_type": "display_data"
    },
    {
     "name": "stdout",
     "output_type": "stream",
     "text": [
      "Restored state: {'iteration': 61}\n",
      "Loop iteration 62\n",
      "37e96d0b-5b4b-4c6e-9b29-7edbdc94bbd0_CSHL059\n"
     ]
    },
    {
     "data": {
      "application/javascript": "Jupyter.notebook.kernel.restart()",
      "text/plain": [
       "<IPython.core.display.Javascript object>"
      ]
     },
     "metadata": {},
     "output_type": "display_data"
    },
    {
     "name": "stdout",
     "output_type": "stream",
     "text": [
      "Restored state: {'iteration': 62}\n",
      "Loop iteration 63\n",
      "dac3a4c1-b666-4de0-87e8-8c514483cacf_SWC_060\n"
     ]
    },
    {
     "data": {
      "application/javascript": "Jupyter.notebook.kernel.restart()",
      "text/plain": [
       "<IPython.core.display.Javascript object>"
      ]
     },
     "metadata": {},
     "output_type": "display_data"
    },
    {
     "name": "stdout",
     "output_type": "stream",
     "text": [
      "Restored state: {'iteration': 63}\n",
      "Loop iteration 64\n",
      "41431f53-69fd-4e3b-80ce-ea62e03bf9c7_CSH_ZAD_022\n"
     ]
    },
    {
     "data": {
      "application/javascript": "Jupyter.notebook.kernel.restart()",
      "text/plain": [
       "<IPython.core.display.Javascript object>"
      ]
     },
     "metadata": {},
     "output_type": "display_data"
    },
    {
     "name": "stdout",
     "output_type": "stream",
     "text": [
      "Restored state: {'iteration': 64}\n",
      "Loop iteration 65\n",
      "3f859b5c-e73a-4044-b49e-34bb81e96715_KS094\n"
     ]
    },
    {
     "data": {
      "application/javascript": "Jupyter.notebook.kernel.restart()",
      "text/plain": [
       "<IPython.core.display.Javascript object>"
      ]
     },
     "metadata": {},
     "output_type": "display_data"
    },
    {
     "name": "stdout",
     "output_type": "stream",
     "text": [
      "Restored state: {'iteration': 65}\n",
      "Loop iteration 66\n",
      "88224abb-5746-431f-9c17-17d7ef806e6a_ZFM-02372\n"
     ]
    },
    {
     "data": {
      "application/javascript": "Jupyter.notebook.kernel.restart()",
      "text/plain": [
       "<IPython.core.display.Javascript object>"
      ]
     },
     "metadata": {},
     "output_type": "display_data"
    },
    {
     "name": "stdout",
     "output_type": "stream",
     "text": [
      "Restored state: {'iteration': 66}\n",
      "Loop iteration 67\n",
      "8b1f4024-3d96-4ee7-95f9-8a1dfd4ce4ef_PL017\n"
     ]
    },
    {
     "data": {
      "application/javascript": "Jupyter.notebook.kernel.restart()",
      "text/plain": [
       "<IPython.core.display.Javascript object>"
      ]
     },
     "metadata": {},
     "output_type": "display_data"
    },
    {
     "name": "stdout",
     "output_type": "stream",
     "text": [
      "Restored state: {'iteration': 67}\n",
      "Loop iteration 68\n",
      "fa8ad50d-76f2-45fa-a52f-08fe3d942345_UCLA037\n"
     ]
    },
    {
     "data": {
      "application/javascript": "Jupyter.notebook.kernel.restart()",
      "text/plain": [
       "<IPython.core.display.Javascript object>"
      ]
     },
     "metadata": {},
     "output_type": "display_data"
    },
    {
     "name": "stdout",
     "output_type": "stream",
     "text": [
      "Restored state: {'iteration': 68}\n",
      "Loop iteration 69\n",
      "bb6a5aae-2431-401d-8f6a-9fdd6de655a9_DY_010\n"
     ]
    },
    {
     "data": {
      "application/javascript": "Jupyter.notebook.kernel.restart()",
      "text/plain": [
       "<IPython.core.display.Javascript object>"
      ]
     },
     "metadata": {},
     "output_type": "display_data"
    },
    {
     "name": "stdout",
     "output_type": "stream",
     "text": [
      "Restored state: {'iteration': 69}\n",
      "Loop iteration 70\n",
      "fa704052-147e-46f6-b190-a65b837e605e_CSHL045\n"
     ]
    },
    {
     "data": {
      "application/javascript": "Jupyter.notebook.kernel.restart()",
      "text/plain": [
       "<IPython.core.display.Javascript object>"
      ]
     },
     "metadata": {},
     "output_type": "display_data"
    },
    {
     "name": "stdout",
     "output_type": "stream",
     "text": [
      "Restored state: {'iteration': 70}\n",
      "Loop iteration 71\n",
      "4aa1d525-5c7d-4c50-a147-ec53a9014812_ZFM-01936\n"
     ]
    },
    {
     "data": {
      "application/javascript": "Jupyter.notebook.kernel.restart()",
      "text/plain": [
       "<IPython.core.display.Javascript object>"
      ]
     },
     "metadata": {},
     "output_type": "display_data"
    },
    {
     "name": "stdout",
     "output_type": "stream",
     "text": [
      "Restored state: {'iteration': 71}\n",
      "Loop iteration 72\n",
      "fc43390d-457e-463a-9fd4-b94a0a8b48f5_NYU-47\n"
     ]
    },
    {
     "data": {
      "application/javascript": "Jupyter.notebook.kernel.restart()",
      "text/plain": [
       "<IPython.core.display.Javascript object>"
      ]
     },
     "metadata": {},
     "output_type": "display_data"
    },
    {
     "name": "stdout",
     "output_type": "stream",
     "text": [
      "Restored state: {'iteration': 72}\n",
      "Loop iteration 73\n",
      "58b1e920-cfc8-467e-b28b-7654a55d0977_ibl_witten_29\n"
     ]
    },
    {
     "data": {
      "application/javascript": "Jupyter.notebook.kernel.restart()",
      "text/plain": [
       "<IPython.core.display.Javascript object>"
      ]
     },
     "metadata": {},
     "output_type": "display_data"
    },
    {
     "name": "stdout",
     "output_type": "stream",
     "text": [
      "Restored state: {'iteration': 73}\n",
      "Loop iteration 74\n",
      "1f095590-6669-46c9-986b-ccaf0620c5e9_UCLA012\n"
     ]
    },
    {
     "data": {
      "application/javascript": "Jupyter.notebook.kernel.restart()",
      "text/plain": [
       "<IPython.core.display.Javascript object>"
      ]
     },
     "metadata": {},
     "output_type": "display_data"
    },
    {
     "name": "stdout",
     "output_type": "stream",
     "text": [
      "Restored state: {'iteration': 74}\n",
      "Loop iteration 75\n",
      "a71175be-d1fd-47a3-aa93-b830ea3634a1_CSHL054\n"
     ]
    },
    {
     "data": {
      "application/javascript": "Jupyter.notebook.kernel.restart()",
      "text/plain": [
       "<IPython.core.display.Javascript object>"
      ]
     },
     "metadata": {},
     "output_type": "display_data"
    },
    {
     "name": "stdout",
     "output_type": "stream",
     "text": [
      "Restored state: {'iteration': 75}\n",
      "Loop iteration 76\n",
      "ecb5520d-1358-434c-95ec-93687ecd1396_CSHL051\n"
     ]
    },
    {
     "data": {
      "application/javascript": "Jupyter.notebook.kernel.restart()",
      "text/plain": [
       "<IPython.core.display.Javascript object>"
      ]
     },
     "metadata": {},
     "output_type": "display_data"
    },
    {
     "name": "stdout",
     "output_type": "stream",
     "text": [
      "Restored state: {'iteration': 76}\n",
      "Loop iteration 77\n",
      "9b5a1754-ac99-4d53-97d3-35c2f6638507_ZFM-01936\n"
     ]
    },
    {
     "data": {
      "application/javascript": "Jupyter.notebook.kernel.restart()",
      "text/plain": [
       "<IPython.core.display.Javascript object>"
      ]
     },
     "metadata": {},
     "output_type": "display_data"
    },
    {
     "name": "stdout",
     "output_type": "stream",
     "text": [
      "Restored state: {'iteration': 77}\n",
      "Loop iteration 78\n",
      "e535fb62-e245-4a48-b119-88ce62a6fe67_DY_013\n"
     ]
    },
    {
     "data": {
      "application/javascript": "Jupyter.notebook.kernel.restart()",
      "text/plain": [
       "<IPython.core.display.Javascript object>"
      ]
     },
     "metadata": {},
     "output_type": "display_data"
    },
    {
     "name": "stdout",
     "output_type": "stream",
     "text": [
      "Restored state: {'iteration': 78}\n",
      "Loop iteration 79\n",
      "f304211a-81b1-446f-a435-25e589fe3a5a_ibl_witten_27\n"
     ]
    },
    {
     "data": {
      "application/javascript": "Jupyter.notebook.kernel.restart()",
      "text/plain": [
       "<IPython.core.display.Javascript object>"
      ]
     },
     "metadata": {},
     "output_type": "display_data"
    },
    {
     "name": "stdout",
     "output_type": "stream",
     "text": [
      "Restored state: {'iteration': 79}\n",
      "Loop iteration 80\n",
      "ff48aa1d-ef30-4903-ac34-8c41b738c1b9_CSH_ZAD_025\n"
     ]
    },
    {
     "data": {
      "application/javascript": "Jupyter.notebook.kernel.restart()",
      "text/plain": [
       "<IPython.core.display.Javascript object>"
      ]
     },
     "metadata": {},
     "output_type": "display_data"
    },
    {
     "name": "stdout",
     "output_type": "stream",
     "text": [
      "Restored state: {'iteration': 80}\n",
      "Loop iteration 81\n",
      "7be8fec4-406b-4e74-8548-d2885dcc3d5e_CSHL060\n"
     ]
    },
    {
     "data": {
      "application/javascript": "Jupyter.notebook.kernel.restart()",
      "text/plain": [
       "<IPython.core.display.Javascript object>"
      ]
     },
     "metadata": {},
     "output_type": "display_data"
    },
    {
     "name": "stdout",
     "output_type": "stream",
     "text": [
      "Restored state: {'iteration': 81}\n",
      "Loop iteration 82\n",
      "446f4724-1690-49f9-819a-2bd8e2ea88ce_KS096\n"
     ]
    },
    {
     "data": {
      "application/javascript": "Jupyter.notebook.kernel.restart()",
      "text/plain": [
       "<IPython.core.display.Javascript object>"
      ]
     },
     "metadata": {},
     "output_type": "display_data"
    },
    {
     "name": "stdout",
     "output_type": "stream",
     "text": [
      "Restored state: {'iteration': 82}\n",
      "Loop iteration 83\n",
      "768a371d-7e88-47f8-bf21-4a6a6570dd6e_SWC_039\n"
     ]
    },
    {
     "data": {
      "application/javascript": "Jupyter.notebook.kernel.restart()",
      "text/plain": [
       "<IPython.core.display.Javascript object>"
      ]
     },
     "metadata": {},
     "output_type": "display_data"
    },
    {
     "name": "stdout",
     "output_type": "stream",
     "text": [
      "Restored state: {'iteration': 83}\n",
      "Loop iteration 84\n",
      "ab8a0899-a59f-42e4-8807-95b14056104b_ZFM-01935\n"
     ]
    },
    {
     "data": {
      "application/javascript": "Jupyter.notebook.kernel.restart()",
      "text/plain": [
       "<IPython.core.display.Javascript object>"
      ]
     },
     "metadata": {},
     "output_type": "display_data"
    },
    {
     "name": "stdout",
     "output_type": "stream",
     "text": [
      "Restored state: {'iteration': 84}\n",
      "Loop iteration 85\n",
      "03063955-2523-47bd-ae57-f7489dd40f15_SWC_038\n"
     ]
    },
    {
     "data": {
      "application/javascript": "Jupyter.notebook.kernel.restart()",
      "text/plain": [
       "<IPython.core.display.Javascript object>"
      ]
     },
     "metadata": {},
     "output_type": "display_data"
    },
    {
     "name": "stdout",
     "output_type": "stream",
     "text": [
      "Restored state: {'iteration': 85}\n",
      "Loop iteration 86\n",
      "f27e6cd6-cdd3-4524-b8e3-8146046e2a7d_PL017\n"
     ]
    },
    {
     "data": {
      "application/javascript": "Jupyter.notebook.kernel.restart()",
      "text/plain": [
       "<IPython.core.display.Javascript object>"
      ]
     },
     "metadata": {},
     "output_type": "display_data"
    },
    {
     "name": "stdout",
     "output_type": "stream",
     "text": [
      "Restored state: {'iteration': 86}\n",
      "Loop iteration 87\n",
      "d2f5a130-b981-4546-8858-c94ae1da75ff_CSHL059\n"
     ]
    },
    {
     "data": {
      "application/javascript": "Jupyter.notebook.kernel.restart()",
      "text/plain": [
       "<IPython.core.display.Javascript object>"
      ]
     },
     "metadata": {},
     "output_type": "display_data"
    },
    {
     "name": "stdout",
     "output_type": "stream",
     "text": [
      "Restored state: {'iteration': 87}\n",
      "Loop iteration 88\n",
      "9a6e127b-bb07-4be2-92e2-53dd858c2762_PL015\n"
     ]
    },
    {
     "data": {
      "application/javascript": "Jupyter.notebook.kernel.restart()",
      "text/plain": [
       "<IPython.core.display.Javascript object>"
      ]
     },
     "metadata": {},
     "output_type": "display_data"
    },
    {
     "name": "stdout",
     "output_type": "stream",
     "text": [
      "Restored state: {'iteration': 88}\n",
      "Loop iteration 89\n",
      "a4747ac8-6a75-444f-b99b-696fff0243fd_SWC_066\n"
     ]
    },
    {
     "data": {
      "application/javascript": "Jupyter.notebook.kernel.restart()",
      "text/plain": [
       "<IPython.core.display.Javascript object>"
      ]
     },
     "metadata": {},
     "output_type": "display_data"
    },
    {
     "name": "stdout",
     "output_type": "stream",
     "text": [
      "Restored state: {'iteration': 89}\n",
      "Loop iteration 90\n",
      "aa20388b-9ea3-4506-92f1-3c2be84b85db_DY_016\n"
     ]
    },
    {
     "data": {
      "application/javascript": "Jupyter.notebook.kernel.restart()",
      "text/plain": [
       "<IPython.core.display.Javascript object>"
      ]
     },
     "metadata": {},
     "output_type": "display_data"
    },
    {
     "name": "stdout",
     "output_type": "stream",
     "text": [
      "Restored state: {'iteration': 90}\n",
      "Loop iteration 91\n",
      "4ecb5d24-f5cc-402c-be28-9d0f7cb14b3a_SWC_043\n"
     ]
    },
    {
     "data": {
      "application/javascript": "Jupyter.notebook.kernel.restart()",
      "text/plain": [
       "<IPython.core.display.Javascript object>"
      ]
     },
     "metadata": {},
     "output_type": "display_data"
    },
    {
     "name": "stdout",
     "output_type": "stream",
     "text": [
      "Restored state: {'iteration': 91}\n",
      "Loop iteration 92\n",
      "6c6983ef-7383-4989-9183-32b1a300d17a_SWC_054\n"
     ]
    },
    {
     "data": {
      "application/javascript": "Jupyter.notebook.kernel.restart()",
      "text/plain": [
       "<IPython.core.display.Javascript object>"
      ]
     },
     "metadata": {},
     "output_type": "display_data"
    },
    {
     "name": "stdout",
     "output_type": "stream",
     "text": [
      "Restored state: {'iteration': 92}\n",
      "Loop iteration 93\n",
      "09b2c4d1-058d-4c84-9fd4-97530f85baf6_ZFM-01577\n"
     ]
    },
    {
     "data": {
      "application/javascript": "Jupyter.notebook.kernel.restart()",
      "text/plain": [
       "<IPython.core.display.Javascript object>"
      ]
     },
     "metadata": {},
     "output_type": "display_data"
    },
    {
     "name": "stdout",
     "output_type": "stream",
     "text": [
      "Restored state: {'iteration': 93}\n",
      "Loop iteration 94\n",
      "b658bc7d-07cd-4203-8a25-7b16b549851b_DY_014\n"
     ]
    },
    {
     "data": {
      "application/javascript": "Jupyter.notebook.kernel.restart()",
      "text/plain": [
       "<IPython.core.display.Javascript object>"
      ]
     },
     "metadata": {},
     "output_type": "display_data"
    },
    {
     "name": "stdout",
     "output_type": "stream",
     "text": [
      "Restored state: {'iteration': 94}\n",
      "Loop iteration 95\n",
      "09394481-8dd2-4d5c-9327-f2753ede92d7_ibl_witten_26\n"
     ]
    },
    {
     "data": {
      "application/javascript": "Jupyter.notebook.kernel.restart()",
      "text/plain": [
       "<IPython.core.display.Javascript object>"
      ]
     },
     "metadata": {},
     "output_type": "display_data"
    },
    {
     "name": "stdout",
     "output_type": "stream",
     "text": [
      "Restored state: {'iteration': 95}\n",
      "Loop iteration 96\n",
      "5b44c40f-80f4-44fb-abfb-c7f19e27a6ca_CSH_ZAD_011\n"
     ]
    },
    {
     "data": {
      "application/javascript": "Jupyter.notebook.kernel.restart()",
      "text/plain": [
       "<IPython.core.display.Javascript object>"
      ]
     },
     "metadata": {},
     "output_type": "display_data"
    },
    {
     "name": "stdout",
     "output_type": "stream",
     "text": [
      "Restored state: {'iteration': 96}\n",
      "Loop iteration 97\n",
      "1191f865-b10a-45c8-9c48-24a980fd9402_CSHL060\n"
     ]
    },
    {
     "data": {
      "application/javascript": "Jupyter.notebook.kernel.restart()",
      "text/plain": [
       "<IPython.core.display.Javascript object>"
      ]
     },
     "metadata": {},
     "output_type": "display_data"
    },
    {
     "name": "stdout",
     "output_type": "stream",
     "text": [
      "Restored state: {'iteration': 97}\n",
      "Loop iteration 98\n",
      "fc14c0d6-51cf-48ba-b326-56ed5a9420c3_SWC_052\n"
     ]
    },
    {
     "data": {
      "application/javascript": "Jupyter.notebook.kernel.restart()",
      "text/plain": [
       "<IPython.core.display.Javascript object>"
      ]
     },
     "metadata": {},
     "output_type": "display_data"
    },
    {
     "name": "stdout",
     "output_type": "stream",
     "text": [
      "Restored state: {'iteration': 98}\n",
      "Loop iteration 99\n",
      "e6043c7d-8f6e-4b66-8309-2ec0abac0f79_NR_0017\n"
     ]
    },
    {
     "data": {
      "application/javascript": "Jupyter.notebook.kernel.restart()",
      "text/plain": [
       "<IPython.core.display.Javascript object>"
      ]
     },
     "metadata": {},
     "output_type": "display_data"
    },
    {
     "name": "stdout",
     "output_type": "stream",
     "text": [
      "Restored state: {'iteration': 99}\n",
      "Loop iteration 100\n",
      "8db36de1-8f17-4446-b527-b5d91909b45a_CSH_ZAD_022\n"
     ]
    },
    {
     "data": {
      "application/javascript": "Jupyter.notebook.kernel.restart()",
      "text/plain": [
       "<IPython.core.display.Javascript object>"
      ]
     },
     "metadata": {},
     "output_type": "display_data"
    },
    {
     "name": "stdout",
     "output_type": "stream",
     "text": [
      "Restored state: {'iteration': 100}\n",
      "Loop iteration 101\n",
      "952870e5-f2a7-4518-9e6d-71585460f6fe_ibl_witten_27\n"
     ]
    },
    {
     "data": {
      "application/javascript": "Jupyter.notebook.kernel.restart()",
      "text/plain": [
       "<IPython.core.display.Javascript object>"
      ]
     },
     "metadata": {},
     "output_type": "display_data"
    },
    {
     "name": "stdout",
     "output_type": "stream",
     "text": [
      "Restored state: {'iteration': 101}\n",
      "Loop iteration 102\n",
      "26aa51ff-968c-42e4-85c8-8ff47d19254d_DY_020\n"
     ]
    },
    {
     "data": {
      "application/javascript": "Jupyter.notebook.kernel.restart()",
      "text/plain": [
       "<IPython.core.display.Javascript object>"
      ]
     },
     "metadata": {},
     "output_type": "display_data"
    },
    {
     "name": "stdout",
     "output_type": "stream",
     "text": [
      "Restored state: {'iteration': 102}\n",
      "Loop iteration 103\n",
      "81a1dca0-cc90-47c5-afe3-c277319c47c8_SWC_060\n"
     ]
    },
    {
     "data": {
      "application/javascript": "Jupyter.notebook.kernel.restart()",
      "text/plain": [
       "<IPython.core.display.Javascript object>"
      ]
     },
     "metadata": {},
     "output_type": "display_data"
    },
    {
     "name": "stdout",
     "output_type": "stream",
     "text": [
      "Restored state: {'iteration': 103}\n",
      "Loop iteration 104\n",
      "c8d46ee6-eb68-4535-8756-7c9aa32f10e4_KS094\n"
     ]
    },
    {
     "data": {
      "application/javascript": "Jupyter.notebook.kernel.restart()",
      "text/plain": [
       "<IPython.core.display.Javascript object>"
      ]
     },
     "metadata": {},
     "output_type": "display_data"
    },
    {
     "name": "stdout",
     "output_type": "stream",
     "text": [
      "Restored state: {'iteration': 104}\n",
      "Loop iteration 105\n",
      "b39752db-abdb-47ab-ae78-e8608bbf50ed_DY_014\n"
     ]
    },
    {
     "data": {
      "application/javascript": "Jupyter.notebook.kernel.restart()",
      "text/plain": [
       "<IPython.core.display.Javascript object>"
      ]
     },
     "metadata": {},
     "output_type": "display_data"
    },
    {
     "name": "stdout",
     "output_type": "stream",
     "text": [
      "Restored state: {'iteration': 105}\n",
      "Loop iteration 106\n",
      "69a0e953-a643-4f0e-bb26-dc65af3ea7d7_ibl_witten_29\n"
     ]
    },
    {
     "data": {
      "application/javascript": "Jupyter.notebook.kernel.restart()",
      "text/plain": [
       "<IPython.core.display.Javascript object>"
      ]
     },
     "metadata": {},
     "output_type": "display_data"
    },
    {
     "name": "stdout",
     "output_type": "stream",
     "text": [
      "Restored state: {'iteration': 106}\n",
      "Loop iteration 107\n",
      "8d316998-28c3-4265-b029-e2ca82375b2f_UCLA037\n"
     ]
    },
    {
     "data": {
      "application/javascript": "Jupyter.notebook.kernel.restart()",
      "text/plain": [
       "<IPython.core.display.Javascript object>"
      ]
     },
     "metadata": {},
     "output_type": "display_data"
    },
    {
     "name": "stdout",
     "output_type": "stream",
     "text": [
      "Restored state: {'iteration': 107}\n",
      "Loop iteration 108\n",
      "30e5937e-e86a-47e6-93ae-d2ae3877ff8e_DY_009\n"
     ]
    },
    {
     "data": {
      "application/javascript": "Jupyter.notebook.kernel.restart()",
      "text/plain": [
       "<IPython.core.display.Javascript object>"
      ]
     },
     "metadata": {},
     "output_type": "display_data"
    },
    {
     "name": "stdout",
     "output_type": "stream",
     "text": [
      "Restored state: {'iteration': 108}\n",
      "Loop iteration 109\n",
      "7f6b86f9-879a-4ea2-8531-294a221af5d0_CSH_ZAD_019\n"
     ]
    },
    {
     "data": {
      "application/javascript": "Jupyter.notebook.kernel.restart()",
      "text/plain": [
       "<IPython.core.display.Javascript object>"
      ]
     },
     "metadata": {},
     "output_type": "display_data"
    },
    {
     "name": "stdout",
     "output_type": "stream",
     "text": [
      "Restored state: {'iteration': 109}\n",
      "Loop iteration 110\n",
      "58c4bf97-ec3b-45b4-9db4-d5d9515d5b00_PL016\n"
     ]
    },
    {
     "data": {
      "application/javascript": "Jupyter.notebook.kernel.restart()",
      "text/plain": [
       "<IPython.core.display.Javascript object>"
      ]
     },
     "metadata": {},
     "output_type": "display_data"
    },
    {
     "name": "stdout",
     "output_type": "stream",
     "text": [
      "Restored state: {'iteration': 110}\n",
      "Loop iteration 111\n",
      "2d5f6d81-38c4-4bdc-ac3c-302ea4d5f46e_CSHL047\n"
     ]
    },
    {
     "data": {
      "application/javascript": "Jupyter.notebook.kernel.restart()",
      "text/plain": [
       "<IPython.core.display.Javascript object>"
      ]
     },
     "metadata": {},
     "output_type": "display_data"
    },
    {
     "name": "stdout",
     "output_type": "stream",
     "text": [
      "Restored state: {'iteration': 111}\n",
      "Loop iteration 112\n",
      "821f1883-27f3-411d-afd3-fb8241bbc39a_ibl_witten_29\n"
     ]
    },
    {
     "data": {
      "application/javascript": "Jupyter.notebook.kernel.restart()",
      "text/plain": [
       "<IPython.core.display.Javascript object>"
      ]
     },
     "metadata": {},
     "output_type": "display_data"
    },
    {
     "name": "stdout",
     "output_type": "stream",
     "text": [
      "Restored state: {'iteration': 112}\n",
      "Loop iteration 113\n",
      "bd456d8f-d36e-434a-8051-ff3997253802_DY_014\n"
     ]
    },
    {
     "data": {
      "application/javascript": "Jupyter.notebook.kernel.restart()",
      "text/plain": [
       "<IPython.core.display.Javascript object>"
      ]
     },
     "metadata": {},
     "output_type": "display_data"
    },
    {
     "name": "stdout",
     "output_type": "stream",
     "text": [
      "Restored state: {'iteration': 113}\n",
      "Loop iteration 114\n",
      "9545aa05-3945-4054-a5c3-a259f7209d61_SWC_058\n"
     ]
    },
    {
     "data": {
      "application/javascript": "Jupyter.notebook.kernel.restart()",
      "text/plain": [
       "<IPython.core.display.Javascript object>"
      ]
     },
     "metadata": {},
     "output_type": "display_data"
    },
    {
     "name": "stdout",
     "output_type": "stream",
     "text": [
      "Restored state: {'iteration': 114}\n",
      "Loop iteration 115\n",
      "5d01d14e-aced-4465-8f8e-9a1c674f62ec_CSH_ZAD_026\n"
     ]
    },
    {
     "data": {
      "application/javascript": "Jupyter.notebook.kernel.restart()",
      "text/plain": [
       "<IPython.core.display.Javascript object>"
      ]
     },
     "metadata": {},
     "output_type": "display_data"
    },
    {
     "name": "stdout",
     "output_type": "stream",
     "text": [
      "Restored state: {'iteration': 115}\n",
      "Loop iteration 116\n",
      "6434f2f5-6bce-42b8-8563-d93d493613a2_NYU-46\n"
     ]
    },
    {
     "data": {
      "application/javascript": "Jupyter.notebook.kernel.restart()",
      "text/plain": [
       "<IPython.core.display.Javascript object>"
      ]
     },
     "metadata": {},
     "output_type": "display_data"
    },
    {
     "name": "stdout",
     "output_type": "stream",
     "text": [
      "Restored state: {'iteration': 116}\n",
      "Loop iteration 117\n",
      "eef82e27-c20e-48da-b4b7-c443031649e3_CSHL053\n"
     ]
    },
    {
     "data": {
      "application/javascript": "Jupyter.notebook.kernel.restart()",
      "text/plain": [
       "<IPython.core.display.Javascript object>"
      ]
     },
     "metadata": {},
     "output_type": "display_data"
    },
    {
     "name": "stdout",
     "output_type": "stream",
     "text": [
      "Restored state: {'iteration': 117}\n",
      "Loop iteration 118\n",
      "671c7ea7-6726-4fbe-adeb-f89c2c8e489b_SWC_054\n"
     ]
    },
    {
     "data": {
      "application/javascript": "Jupyter.notebook.kernel.restart()",
      "text/plain": [
       "<IPython.core.display.Javascript object>"
      ]
     },
     "metadata": {},
     "output_type": "display_data"
    },
    {
     "name": "stdout",
     "output_type": "stream",
     "text": [
      "Restored state: {'iteration': 118}\n",
      "Loop iteration 119\n",
      "537677fe-1e24-4755-948c-fa4a4e8ecce5_NYU-45\n"
     ]
    },
    {
     "data": {
      "application/javascript": "Jupyter.notebook.kernel.restart()",
      "text/plain": [
       "<IPython.core.display.Javascript object>"
      ]
     },
     "metadata": {},
     "output_type": "display_data"
    },
    {
     "name": "stdout",
     "output_type": "stream",
     "text": [
      "Restored state: {'iteration': 119}\n",
      "Loop iteration 120\n",
      "239cdbb1-68e2-4eb0-91d8-ae5ae4001c7a_SWC_053\n"
     ]
    },
    {
     "data": {
      "application/javascript": "Jupyter.notebook.kernel.restart()",
      "text/plain": [
       "<IPython.core.display.Javascript object>"
      ]
     },
     "metadata": {},
     "output_type": "display_data"
    },
    {
     "name": "stdout",
     "output_type": "stream",
     "text": [
      "Restored state: {'iteration': 120}\n",
      "Loop iteration 121\n",
      "1b9e349e-93f2-41cc-a4b5-b212d7ddc8df_KS096\n"
     ]
    },
    {
     "data": {
      "application/javascript": "Jupyter.notebook.kernel.restart()",
      "text/plain": [
       "<IPython.core.display.Javascript object>"
      ]
     },
     "metadata": {},
     "output_type": "display_data"
    },
    {
     "name": "stdout",
     "output_type": "stream",
     "text": [
      "Restored state: {'iteration': 121}\n",
      "Loop iteration 122\n",
      "4fa70097-8101-4f10-b585-db39429c5ed0_DY_010\n"
     ]
    },
    {
     "data": {
      "application/javascript": "Jupyter.notebook.kernel.restart()",
      "text/plain": [
       "<IPython.core.display.Javascript object>"
      ]
     },
     "metadata": {},
     "output_type": "display_data"
    },
    {
     "name": "stdout",
     "output_type": "stream",
     "text": [
      "Restored state: {'iteration': 122}\n",
      "Loop iteration 123\n",
      "dfd8e7df-dc51-4589-b6ca-7baccfeb94b4_CSHL045\n"
     ]
    },
    {
     "data": {
      "application/javascript": "Jupyter.notebook.kernel.restart()",
      "text/plain": [
       "<IPython.core.display.Javascript object>"
      ]
     },
     "metadata": {},
     "output_type": "display_data"
    },
    {
     "name": "stdout",
     "output_type": "stream",
     "text": [
      "Restored state: {'iteration': 123}\n",
      "Loop iteration 124\n",
      "d23a44ef-1402-4ed7-97f5-47e9a7a504d9_DY_016\n"
     ]
    },
    {
     "data": {
      "application/javascript": "Jupyter.notebook.kernel.restart()",
      "text/plain": [
       "<IPython.core.display.Javascript object>"
      ]
     },
     "metadata": {},
     "output_type": "display_data"
    },
    {
     "name": "stdout",
     "output_type": "stream",
     "text": [
      "Restored state: {'iteration': 124}\n",
      "Loop iteration 125\n",
      "7cb81727-2097-4b52-b480-c89867b5b34c_SWC_052\n"
     ]
    },
    {
     "data": {
      "application/javascript": "Jupyter.notebook.kernel.restart()",
      "text/plain": [
       "<IPython.core.display.Javascript object>"
      ]
     },
     "metadata": {},
     "output_type": "display_data"
    },
    {
     "name": "stdout",
     "output_type": "stream",
     "text": [
      "Restored state: {'iteration': 125}\n",
      "Loop iteration 126\n",
      "f10efe41-0dc0-44d0-8f26-5ff68dca23e9_CSHL060\n"
     ]
    },
    {
     "data": {
      "application/javascript": "Jupyter.notebook.kernel.restart()",
      "text/plain": [
       "<IPython.core.display.Javascript object>"
      ]
     },
     "metadata": {},
     "output_type": "display_data"
    },
    {
     "name": "stdout",
     "output_type": "stream",
     "text": [
      "Restored state: {'iteration': 126}\n",
      "Loop iteration 127\n",
      "6f09ba7e-e3ce-44b0-932b-c003fb44fb89_SWC_043\n"
     ]
    },
    {
     "data": {
      "application/javascript": "Jupyter.notebook.kernel.restart()",
      "text/plain": [
       "<IPython.core.display.Javascript object>"
      ]
     },
     "metadata": {},
     "output_type": "display_data"
    },
    {
     "name": "stdout",
     "output_type": "stream",
     "text": [
      "Restored state: {'iteration': 127}\n",
      "Loop iteration 128\n",
      "57b5ae8f-d446-4161-b439-b191c5e3e77b_CSHL059\n"
     ]
    },
    {
     "data": {
      "application/javascript": "Jupyter.notebook.kernel.restart()",
      "text/plain": [
       "<IPython.core.display.Javascript object>"
      ]
     },
     "metadata": {},
     "output_type": "display_data"
    },
    {
     "name": "stdout",
     "output_type": "stream",
     "text": [
      "Restored state: {'iteration': 128}\n",
      "Loop iteration 129\n",
      "f819d499-8bf7-4da0-a431-15377a8319d5_KS096\n"
     ]
    },
    {
     "data": {
      "application/javascript": "Jupyter.notebook.kernel.restart()",
      "text/plain": [
       "<IPython.core.display.Javascript object>"
      ]
     },
     "metadata": {},
     "output_type": "display_data"
    },
    {
     "name": "stdout",
     "output_type": "stream",
     "text": [
      "Restored state: {'iteration': 129}\n",
      "Loop iteration 130\n",
      "4720c98a-a305-4fba-affb-bbfa00a724a4_DY_014\n"
     ]
    },
    {
     "data": {
      "application/javascript": "Jupyter.notebook.kernel.restart()",
      "text/plain": [
       "<IPython.core.display.Javascript object>"
      ]
     },
     "metadata": {},
     "output_type": "display_data"
    },
    {
     "name": "stdout",
     "output_type": "stream",
     "text": [
      "Restored state: {'iteration': 130}\n",
      "Loop iteration 131\n",
      "3663d82b-f197-4e8b-b299-7b803a155b84_CSHL052\n"
     ]
    },
    {
     "data": {
      "application/javascript": "Jupyter.notebook.kernel.restart()",
      "text/plain": [
       "<IPython.core.display.Javascript object>"
      ]
     },
     "metadata": {},
     "output_type": "display_data"
    },
    {
     "name": "stdout",
     "output_type": "stream",
     "text": [
      "Restored state: {'iteration': 131}\n",
      "Loop iteration 132\n",
      "4a45c8ba-db6f-4f11-9403-56e06a33dfa4_DY_020\n"
     ]
    },
    {
     "data": {
      "application/javascript": "Jupyter.notebook.kernel.restart()",
      "text/plain": [
       "<IPython.core.display.Javascript object>"
      ]
     },
     "metadata": {},
     "output_type": "display_data"
    },
    {
     "name": "stdout",
     "output_type": "stream",
     "text": [
      "Restored state: {'iteration': 132}\n",
      "Loop iteration 133\n",
      "3d59aa1a-b4ba-47fe-b9cf-741b5fdb0c7b_NYU-48\n"
     ]
    },
    {
     "data": {
      "application/javascript": "Jupyter.notebook.kernel.restart()",
      "text/plain": [
       "<IPython.core.display.Javascript object>"
      ]
     },
     "metadata": {},
     "output_type": "display_data"
    },
    {
     "name": "stdout",
     "output_type": "stream",
     "text": [
      "Restored state: {'iteration': 133}\n",
      "Loop iteration 134\n",
      "5285c561-80da-4563-8694-739da92e5dd0_ibl_witten_25\n"
     ]
    },
    {
     "data": {
      "application/javascript": "Jupyter.notebook.kernel.restart()",
      "text/plain": [
       "<IPython.core.display.Javascript object>"
      ]
     },
     "metadata": {},
     "output_type": "display_data"
    },
    {
     "name": "stdout",
     "output_type": "stream",
     "text": [
      "Restored state: {'iteration': 134}\n",
      "Loop iteration 135\n",
      "b69b86be-af7d-4ecf-8cbf-0cd356afa1bd_CSH_ZAD_026\n"
     ]
    },
    {
     "data": {
      "application/javascript": "Jupyter.notebook.kernel.restart()",
      "text/plain": [
       "<IPython.core.display.Javascript object>"
      ]
     },
     "metadata": {},
     "output_type": "display_data"
    },
    {
     "name": "stdout",
     "output_type": "stream",
     "text": [
      "Restored state: {'iteration': 135}\n",
      "Loop iteration 136\n",
      "7cec9792-b8f9-4878-be7e-f08103dc0323_ZFM-02372\n"
     ]
    },
    {
     "data": {
      "application/javascript": "Jupyter.notebook.kernel.restart()",
      "text/plain": [
       "<IPython.core.display.Javascript object>"
      ]
     },
     "metadata": {},
     "output_type": "display_data"
    },
    {
     "name": "stdout",
     "output_type": "stream",
     "text": [
      "Restored state: {'iteration': 136}\n",
      "Loop iteration 137\n",
      "0802ced5-33a3-405e-8336-b65ebc5cb07c_ZFM-02373\n"
     ]
    },
    {
     "data": {
      "application/javascript": "Jupyter.notebook.kernel.restart()",
      "text/plain": [
       "<IPython.core.display.Javascript object>"
      ]
     },
     "metadata": {},
     "output_type": "display_data"
    },
    {
     "name": "stdout",
     "output_type": "stream",
     "text": [
      "Restored state: {'iteration': 137}\n",
      "Loop iteration 138\n",
      "824cf03d-4012-4ab1-b499-c83a92c5589e_UCLA011\n"
     ]
    },
    {
     "data": {
      "application/javascript": "Jupyter.notebook.kernel.restart()",
      "text/plain": [
       "<IPython.core.display.Javascript object>"
      ]
     },
     "metadata": {},
     "output_type": "display_data"
    },
    {
     "name": "stdout",
     "output_type": "stream",
     "text": [
      "Restored state: {'iteration': 138}\n",
      "Loop iteration 139\n",
      "0cc486c3-8c7b-494d-aa04-b70e2690bcba_ibl_witten_29\n"
     ]
    },
    {
     "data": {
      "application/javascript": "Jupyter.notebook.kernel.restart()",
      "text/plain": [
       "<IPython.core.display.Javascript object>"
      ]
     },
     "metadata": {},
     "output_type": "display_data"
    },
    {
     "name": "stdout",
     "output_type": "stream",
     "text": [
      "Restored state: {'iteration': 139}\n",
      "Loop iteration 140\n",
      "22e04698-b974-4805-b241-3b547dbf37bf_SWC_052\n"
     ]
    },
    {
     "data": {
      "application/javascript": "Jupyter.notebook.kernel.restart()",
      "text/plain": [
       "<IPython.core.display.Javascript object>"
      ]
     },
     "metadata": {},
     "output_type": "display_data"
    },
    {
     "name": "stdout",
     "output_type": "stream",
     "text": [
      "Restored state: {'iteration': 140}\n",
      "Loop iteration 141\n",
      "64e3fb86-928c-4079-865c-b364205b502e_NYU-46\n"
     ]
    },
    {
     "data": {
      "application/javascript": "Jupyter.notebook.kernel.restart()",
      "text/plain": [
       "<IPython.core.display.Javascript object>"
      ]
     },
     "metadata": {},
     "output_type": "display_data"
    },
    {
     "name": "stdout",
     "output_type": "stream",
     "text": [
      "Restored state: {'iteration': 141}\n",
      "Loop iteration 142\n",
      "2bdf206a-820f-402f-920a-9e86cd5388a4_UCLA037\n"
     ]
    },
    {
     "data": {
      "application/javascript": "Jupyter.notebook.kernel.restart()",
      "text/plain": [
       "<IPython.core.display.Javascript object>"
      ]
     },
     "metadata": {},
     "output_type": "display_data"
    },
    {
     "name": "stdout",
     "output_type": "stream",
     "text": [
      "Restored state: {'iteration': 142}\n",
      "Loop iteration 143\n",
      "1425bd6f-c625-4f6a-b237-dc5bcfc42c87_SWC_065\n"
     ]
    },
    {
     "data": {
      "application/javascript": "Jupyter.notebook.kernel.restart()",
      "text/plain": [
       "<IPython.core.display.Javascript object>"
      ]
     },
     "metadata": {},
     "output_type": "display_data"
    },
    {
     "name": "stdout",
     "output_type": "stream",
     "text": [
      "Restored state: {'iteration': 143}\n",
      "Loop iteration 144\n",
      "8207abc6-6b23-4762-92b4-82e05bed5143_CSH_ZAD_024\n"
     ]
    },
    {
     "data": {
      "application/javascript": "Jupyter.notebook.kernel.restart()",
      "text/plain": [
       "<IPython.core.display.Javascript object>"
      ]
     },
     "metadata": {},
     "output_type": "display_data"
    },
    {
     "name": "stdout",
     "output_type": "stream",
     "text": [
      "Restored state: {'iteration': 144}\n",
      "Loop iteration 145\n",
      "d0ea3148-948d-4817-94f8-dcaf2342bbbe_ZFM-01936\n"
     ]
    },
    {
     "data": {
      "application/javascript": "Jupyter.notebook.kernel.restart()",
      "text/plain": [
       "<IPython.core.display.Javascript object>"
      ]
     },
     "metadata": {},
     "output_type": "display_data"
    },
    {
     "name": "stdout",
     "output_type": "stream",
     "text": [
      "Restored state: {'iteration': 145}\n",
      "Loop iteration 146\n",
      "eebacd5a-7dcd-4ba6-9dff-ec2a4d2f19e0_SWC_054\n"
     ]
    },
    {
     "data": {
      "application/javascript": "Jupyter.notebook.kernel.restart()",
      "text/plain": [
       "<IPython.core.display.Javascript object>"
      ]
     },
     "metadata": {},
     "output_type": "display_data"
    },
    {
     "name": "stdout",
     "output_type": "stream",
     "text": [
      "Restored state: {'iteration': 146}\n",
      "Loop iteration 147\n",
      "4b7fbad4-f6de-43b4-9b15-c7c7ef44db4b_CSHL049\n"
     ]
    },
    {
     "data": {
      "application/javascript": "Jupyter.notebook.kernel.restart()",
      "text/plain": [
       "<IPython.core.display.Javascript object>"
      ]
     },
     "metadata": {},
     "output_type": "display_data"
    },
    {
     "name": "stdout",
     "output_type": "stream",
     "text": [
      "Restored state: {'iteration': 147}\n",
      "Loop iteration 148\n",
      "8928f98a-b411-497e-aa4b-aa752434686d_KS096\n"
     ]
    },
    {
     "data": {
      "application/javascript": "Jupyter.notebook.kernel.restart()",
      "text/plain": [
       "<IPython.core.display.Javascript object>"
      ]
     },
     "metadata": {},
     "output_type": "display_data"
    },
    {
     "name": "stdout",
     "output_type": "stream",
     "text": [
      "Restored state: {'iteration': 148}\n",
      "Loop iteration 149\n",
      "e9fc0a2d-c69d-44d1-9fa3-314782387cae_ibl_witten_29\n"
     ]
    },
    {
     "data": {
      "application/javascript": "Jupyter.notebook.kernel.restart()",
      "text/plain": [
       "<IPython.core.display.Javascript object>"
      ]
     },
     "metadata": {},
     "output_type": "display_data"
    },
    {
     "name": "stdout",
     "output_type": "stream",
     "text": [
      "Restored state: {'iteration': 149}\n",
      "Loop iteration 150\n",
      "034e726f-b35f-41e0-8d6c-a22cc32391fb_CSHL045\n"
     ]
    },
    {
     "data": {
      "application/javascript": "Jupyter.notebook.kernel.restart()",
      "text/plain": [
       "<IPython.core.display.Javascript object>"
      ]
     },
     "metadata": {},
     "output_type": "display_data"
    },
    {
     "name": "stdout",
     "output_type": "stream",
     "text": [
      "Restored state: {'iteration': 150}\n",
      "Loop iteration 151\n",
      "dda5fc59-f09a-4256-9fb5-66c67667a466_CSHL059\n",
      "best_results_whisker_me_CSHL059dda5fc59-f09a-4256-9fb5-66c67667a466\n",
      "Fitting mouse CSHL059\n"
     ]
    },
    {
     "data": {
      "application/javascript": "Jupyter.notebook.kernel.restart()",
      "text/plain": [
       "<IPython.core.display.Javascript object>"
      ]
     },
     "metadata": {},
     "output_type": "display_data"
    },
    {
     "name": "stdout",
     "output_type": "stream",
     "text": [
      "Restored state: {'iteration': 151}\n",
      "Loop iteration 152\n",
      "56bc129c-6265-407a-a208-cc16d20a6c01_ZFM-01592\n",
      "best_results_whisker_me_ZFM-0159256bc129c-6265-407a-a208-cc16d20a6c01\n",
      "Fitting mouse ZFM-01592\n"
     ]
    },
    {
     "data": {
      "application/javascript": "Jupyter.notebook.kernel.restart()",
      "text/plain": [
       "<IPython.core.display.Javascript object>"
      ]
     },
     "metadata": {},
     "output_type": "display_data"
    },
    {
     "name": "stdout",
     "output_type": "stream",
     "text": [
      "Restored state: {'iteration': 152}\n",
      "Loop iteration 153\n",
      "288bfbf3-3700-4abe-b6e4-130b5c541e61_NYU-47\n",
      "best_results_whisker_me_NYU-47288bfbf3-3700-4abe-b6e4-130b5c541e61\n",
      "Fitting mouse NYU-47\n"
     ]
    },
    {
     "data": {
      "application/javascript": "Jupyter.notebook.kernel.restart()",
      "text/plain": [
       "<IPython.core.display.Javascript object>"
      ]
     },
     "metadata": {},
     "output_type": "display_data"
    },
    {
     "name": "stdout",
     "output_type": "stream",
     "text": [
      "Restored state: {'iteration': 153}\n",
      "Loop iteration 154\n",
      "5455a21c-1be7-4cae-ae8e-8853a8d5f55e_UCLA033\n",
      "best_results_whisker_me_UCLA0335455a21c-1be7-4cae-ae8e-8853a8d5f55e\n",
      "Fitting mouse UCLA033\n"
     ]
    },
    {
     "data": {
      "application/javascript": "Jupyter.notebook.kernel.restart()",
      "text/plain": [
       "<IPython.core.display.Javascript object>"
      ]
     },
     "metadata": {},
     "output_type": "display_data"
    },
    {
     "name": "stdout",
     "output_type": "stream",
     "text": [
      "Restored state: {'iteration': 154}\n",
      "Loop iteration 155\n",
      "ebc9392c-1ecb-4b4b-a545-4e3d70d23611_UCLA034\n",
      "best_results_whisker_me_UCLA034ebc9392c-1ecb-4b4b-a545-4e3d70d23611\n",
      "Fitting mouse UCLA034\n"
     ]
    },
    {
     "data": {
      "application/javascript": "Jupyter.notebook.kernel.restart()",
      "text/plain": [
       "<IPython.core.display.Javascript object>"
      ]
     },
     "metadata": {},
     "output_type": "display_data"
    },
    {
     "name": "stdout",
     "output_type": "stream",
     "text": [
      "Restored state: {'iteration': 155}\n",
      "Loop iteration 156\n",
      "1a507308-c63a-4e02-8f32-3239a07dc578_ZFM-01935\n",
      "best_results_whisker_me_ZFM-019351a507308-c63a-4e02-8f32-3239a07dc578\n",
      "Fitting mouse ZFM-01935\n"
     ]
    },
    {
     "data": {
      "application/javascript": "Jupyter.notebook.kernel.restart()",
      "text/plain": [
       "<IPython.core.display.Javascript object>"
      ]
     },
     "metadata": {},
     "output_type": "display_data"
    },
    {
     "name": "stdout",
     "output_type": "stream",
     "text": [
      "Restored state: {'iteration': 156}\n",
      "Loop iteration 157\n",
      "af55d16f-0e31-4073-bdb5-26da54914aa2_ibl_witten_29\n",
      "best_results_whisker_me_ibl_witten_29af55d16f-0e31-4073-bdb5-26da54914aa2\n",
      "Fitting mouse ibl_witten_29\n"
     ]
    },
    {
     "data": {
      "application/javascript": "Jupyter.notebook.kernel.restart()",
      "text/plain": [
       "<IPython.core.display.Javascript object>"
      ]
     },
     "metadata": {},
     "output_type": "display_data"
    },
    {
     "name": "stdout",
     "output_type": "stream",
     "text": [
      "Restored state: {'iteration': 157}\n",
      "Loop iteration 158\n",
      "72982282-e493-45ee-87ce-aa45cb3a3ec1_NYU-46\n",
      "best_results_whisker_me_NYU-4672982282-e493-45ee-87ce-aa45cb3a3ec1\n",
      "Fitting mouse NYU-46\n"
     ]
    },
    {
     "data": {
      "application/javascript": "Jupyter.notebook.kernel.restart()",
      "text/plain": [
       "<IPython.core.display.Javascript object>"
      ]
     },
     "metadata": {},
     "output_type": "display_data"
    },
    {
     "name": "stdout",
     "output_type": "stream",
     "text": [
      "Restored state: {'iteration': 158}\n",
      "Loop iteration 159\n",
      "b52182e7-39f6-4914-9717-136db589706e_CSHL047\n",
      "best_results_whisker_me_CSHL047b52182e7-39f6-4914-9717-136db589706e\n",
      "Fitting mouse CSHL047\n"
     ]
    },
    {
     "data": {
      "application/javascript": "Jupyter.notebook.kernel.restart()",
      "text/plain": [
       "<IPython.core.display.Javascript object>"
      ]
     },
     "metadata": {},
     "output_type": "display_data"
    },
    {
     "name": "stdout",
     "output_type": "stream",
     "text": [
      "Restored state: {'iteration': 159}\n",
      "Loop iteration 160\n",
      "a2701b93-d8e1-47e9-a819-f1063046f3e7_KS096\n",
      "best_results_whisker_me_KS096a2701b93-d8e1-47e9-a819-f1063046f3e7\n",
      "Fitting mouse KS096\n"
     ]
    },
    {
     "data": {
      "application/javascript": "Jupyter.notebook.kernel.restart()",
      "text/plain": [
       "<IPython.core.display.Javascript object>"
      ]
     },
     "metadata": {},
     "output_type": "display_data"
    },
    {
     "name": "stdout",
     "output_type": "stream",
     "text": [
      "Restored state: {'iteration': 160}\n",
      "Loop iteration 161\n",
      "c99d53e6-c317-4c53-99ba-070b26673ac4_CSHL049\n",
      "best_results_whisker_me_CSHL049c99d53e6-c317-4c53-99ba-070b26673ac4\n",
      "Fitting mouse CSHL049\n"
     ]
    },
    {
     "data": {
      "application/javascript": "Jupyter.notebook.kernel.restart()",
      "text/plain": [
       "<IPython.core.display.Javascript object>"
      ]
     },
     "metadata": {},
     "output_type": "display_data"
    },
    {
     "name": "stdout",
     "output_type": "stream",
     "text": [
      "Restored state: {'iteration': 161}\n",
      "Loop iteration 162\n",
      "4b00df29-3769-43be-bb40-128b1cba6d35_CSHL052\n",
      "best_results_whisker_me_CSHL0524b00df29-3769-43be-bb40-128b1cba6d35\n",
      "Fitting mouse CSHL052\n"
     ]
    },
    {
     "data": {
      "application/javascript": "Jupyter.notebook.kernel.restart()",
      "text/plain": [
       "<IPython.core.display.Javascript object>"
      ]
     },
     "metadata": {},
     "output_type": "display_data"
    },
    {
     "name": "stdout",
     "output_type": "stream",
     "text": [
      "Restored state: {'iteration': 162}\n",
      "Loop iteration 163\n",
      "ee8b36de-779f-4dea-901f-e0141c95722b_DY_014\n",
      "best_results_whisker_me_DY_014ee8b36de-779f-4dea-901f-e0141c95722b\n",
      "Fitting mouse DY_014\n"
     ]
    },
    {
     "data": {
      "application/javascript": "Jupyter.notebook.kernel.restart()",
      "text/plain": [
       "<IPython.core.display.Javascript object>"
      ]
     },
     "metadata": {},
     "output_type": "display_data"
    },
    {
     "name": "stdout",
     "output_type": "stream",
     "text": [
      "Restored state: {'iteration': 163}\n",
      "Loop iteration 164\n",
      "9e9c6fc0-4769-4d83-9ea4-b59a1230510e_ZFM-01576\n",
      "best_results_whisker_me_ZFM-015769e9c6fc0-4769-4d83-9ea4-b59a1230510e\n",
      "Fitting mouse ZFM-01576\n"
     ]
    },
    {
     "data": {
      "application/javascript": "Jupyter.notebook.kernel.restart()",
      "text/plain": [
       "<IPython.core.display.Javascript object>"
      ]
     },
     "metadata": {},
     "output_type": "display_data"
    },
    {
     "name": "stdout",
     "output_type": "stream",
     "text": [
      "Restored state: {'iteration': 164}\n",
      "Loop iteration 165\n",
      "d57df551-6dcb-4242-9c72-b806cff5613a_UCLA005\n",
      "best_results_whisker_me_UCLA005d57df551-6dcb-4242-9c72-b806cff5613a\n",
      "Fitting mouse UCLA005\n"
     ]
    },
    {
     "data": {
      "application/javascript": "Jupyter.notebook.kernel.restart()",
      "text/plain": [
       "<IPython.core.display.Javascript object>"
      ]
     },
     "metadata": {},
     "output_type": "display_data"
    },
    {
     "name": "stdout",
     "output_type": "stream",
     "text": [
      "Restored state: {'iteration': 165}\n",
      "Loop iteration 166\n",
      "e012d3e3-fdbc-4661-9ffa-5fa284e4e706_DY_020\n",
      "best_results_whisker_me_DY_020e012d3e3-fdbc-4661-9ffa-5fa284e4e706\n",
      "Fitting mouse DY_020\n"
     ]
    },
    {
     "data": {
      "application/javascript": "Jupyter.notebook.kernel.restart()",
      "text/plain": [
       "<IPython.core.display.Javascript object>"
      ]
     },
     "metadata": {},
     "output_type": "display_data"
    },
    {
     "name": "stdout",
     "output_type": "stream",
     "text": [
      "Restored state: {'iteration': 166}\n",
      "Loop iteration 167\n",
      "fa1f26a1-eb49-4b24-917e-19f02a18ac61_NYU-39\n",
      "best_results_whisker_me_NYU-39fa1f26a1-eb49-4b24-917e-19f02a18ac61\n",
      "Fitting mouse NYU-39\n"
     ]
    },
    {
     "data": {
      "application/javascript": "Jupyter.notebook.kernel.restart()",
      "text/plain": [
       "<IPython.core.display.Javascript object>"
      ]
     },
     "metadata": {},
     "output_type": "display_data"
    },
    {
     "name": "stdout",
     "output_type": "stream",
     "text": [
      "Restored state: {'iteration': 167}\n",
      "Loop iteration 168\n",
      "12dc8b34-b18e-4cdd-90a9-da134a9be79c_CSHL053\n",
      "best_results_whisker_me_CSHL05312dc8b34-b18e-4cdd-90a9-da134a9be79c\n",
      "Fitting mouse CSHL053\n"
     ]
    },
    {
     "data": {
      "application/javascript": "Jupyter.notebook.kernel.restart()",
      "text/plain": [
       "<IPython.core.display.Javascript object>"
      ]
     },
     "metadata": {},
     "output_type": "display_data"
    },
    {
     "name": "stdout",
     "output_type": "stream",
     "text": [
      "Restored state: {'iteration': 168}\n",
      "Loop iteration 169\n",
      "ff96bfe1-d925-4553-94b5-bf8297adf259_ibl_witten_26\n",
      "best_results_whisker_me_ibl_witten_26ff96bfe1-d925-4553-94b5-bf8297adf259\n",
      "Fitting mouse ibl_witten_26\n"
     ]
    },
    {
     "data": {
      "application/javascript": "Jupyter.notebook.kernel.restart()",
      "text/plain": [
       "<IPython.core.display.Javascript object>"
      ]
     },
     "metadata": {},
     "output_type": "display_data"
    },
    {
     "name": "stdout",
     "output_type": "stream",
     "text": [
      "Restored state: {'iteration': 169}\n",
      "Loop iteration 170\n",
      "f312aaec-3b6f-44b3-86b4-3a0c119c0438_CSHL058\n",
      "best_results_whisker_me_CSHL058f312aaec-3b6f-44b3-86b4-3a0c119c0438\n",
      "Fitting mouse CSHL058\n"
     ]
    },
    {
     "data": {
      "application/javascript": "Jupyter.notebook.kernel.restart()",
      "text/plain": [
       "<IPython.core.display.Javascript object>"
      ]
     },
     "metadata": {},
     "output_type": "display_data"
    },
    {
     "name": "stdout",
     "output_type": "stream",
     "text": [
      "Restored state: {'iteration': 170}\n",
      "Loop iteration 171\n",
      "3638d102-e8b6-4230-8742-e548cd87a949_SWC_058\n",
      "best_results_whisker_me_SWC_0583638d102-e8b6-4230-8742-e548cd87a949\n",
      "Fitting mouse SWC_058\n"
     ]
    },
    {
     "data": {
      "application/javascript": "Jupyter.notebook.kernel.restart()",
      "text/plain": [
       "<IPython.core.display.Javascript object>"
      ]
     },
     "metadata": {},
     "output_type": "display_data"
    },
    {
     "name": "stdout",
     "output_type": "stream",
     "text": [
      "Restored state: {'iteration': 171}\n",
      "Loop iteration 172\n",
      "cde63527-7f5a-4cc3-8ac2-215d82e7da26_DY_018\n",
      "best_results_whisker_me_DY_018cde63527-7f5a-4cc3-8ac2-215d82e7da26\n",
      "Fitting mouse DY_018\n"
     ]
    },
    {
     "data": {
      "application/javascript": "Jupyter.notebook.kernel.restart()",
      "text/plain": [
       "<IPython.core.display.Javascript object>"
      ]
     },
     "metadata": {},
     "output_type": "display_data"
    },
    {
     "name": "stdout",
     "output_type": "stream",
     "text": [
      "Restored state: {'iteration': 172}\n",
      "Loop iteration 173\n",
      "6f6d2c8e-28be-49f4-ae4d-06be2d3148c1_ZFM-02370\n",
      "best_results_whisker_me_ZFM-023706f6d2c8e-28be-49f4-ae4d-06be2d3148c1\n",
      "Fitting mouse ZFM-02370\n"
     ]
    },
    {
     "data": {
      "application/javascript": "Jupyter.notebook.kernel.restart()",
      "text/plain": [
       "<IPython.core.display.Javascript object>"
      ]
     },
     "metadata": {},
     "output_type": "display_data"
    },
    {
     "name": "stdout",
     "output_type": "stream",
     "text": [
      "Restored state: {'iteration': 173}\n",
      "Loop iteration 174\n",
      "dc21e80d-97d7-44ca-a729-a8e3f9b14305_ibl_witten_26\n",
      "best_results_whisker_me_ibl_witten_26dc21e80d-97d7-44ca-a729-a8e3f9b14305\n",
      "Fitting mouse ibl_witten_26\n"
     ]
    },
    {
     "data": {
      "application/javascript": "Jupyter.notebook.kernel.restart()",
      "text/plain": [
       "<IPython.core.display.Javascript object>"
      ]
     },
     "metadata": {},
     "output_type": "display_data"
    },
    {
     "name": "stdout",
     "output_type": "stream",
     "text": [
      "Restored state: {'iteration': 174}\n",
      "Loop iteration 175\n",
      "5d6aa933-4b00-4e99-ae2d-5003657592e9_ZFM-01577\n",
      "best_results_whisker_me_ZFM-015775d6aa933-4b00-4e99-ae2d-5003657592e9\n",
      "Fitting mouse ZFM-01577\n"
     ]
    },
    {
     "data": {
      "application/javascript": "Jupyter.notebook.kernel.restart()",
      "text/plain": [
       "<IPython.core.display.Javascript object>"
      ]
     },
     "metadata": {},
     "output_type": "display_data"
    },
    {
     "name": "stdout",
     "output_type": "stream",
     "text": [
      "Restored state: {'iteration': 175}\n",
      "Loop iteration 176\n",
      "c4432264-e1ae-446f-8a07-6280abade813_ZFM-01576\n",
      "best_results_whisker_me_ZFM-01576c4432264-e1ae-446f-8a07-6280abade813\n",
      "Fitting mouse ZFM-01576\n"
     ]
    },
    {
     "data": {
      "application/javascript": "Jupyter.notebook.kernel.restart()",
      "text/plain": [
       "<IPython.core.display.Javascript object>"
      ]
     },
     "metadata": {},
     "output_type": "display_data"
    },
    {
     "name": "stdout",
     "output_type": "stream",
     "text": [
      "Restored state: {'iteration': 176}\n",
      "Loop iteration 177\n",
      "d32876dd-8303-4720-8e7e-20678dc2fd71_NYU-46\n",
      "best_results_whisker_me_NYU-46d32876dd-8303-4720-8e7e-20678dc2fd71\n",
      "Fitting mouse NYU-46\n"
     ]
    },
    {
     "data": {
      "application/javascript": "Jupyter.notebook.kernel.restart()",
      "text/plain": [
       "<IPython.core.display.Javascript object>"
      ]
     },
     "metadata": {},
     "output_type": "display_data"
    },
    {
     "name": "stdout",
     "output_type": "stream",
     "text": [
      "Restored state: {'iteration': 177}\n",
      "Loop iteration 178\n",
      "1928bf72-2002-46a6-8930-728420402e01_SWC_052\n",
      "best_results_whisker_me_SWC_0521928bf72-2002-46a6-8930-728420402e01\n",
      "Fitting mouse SWC_052\n"
     ]
    },
    {
     "data": {
      "application/javascript": "Jupyter.notebook.kernel.restart()",
      "text/plain": [
       "<IPython.core.display.Javascript object>"
      ]
     },
     "metadata": {},
     "output_type": "display_data"
    },
    {
     "name": "stdout",
     "output_type": "stream",
     "text": [
      "Restored state: {'iteration': 178}\n",
      "Loop iteration 179\n",
      "83e77b4b-dfa0-4af9-968b-7ea0c7a0c7e4_CSHL052\n",
      "best_results_whisker_me_CSHL05283e77b4b-dfa0-4af9-968b-7ea0c7a0c7e4\n",
      "Fitting mouse CSHL052\n"
     ]
    },
    {
     "data": {
      "application/javascript": "Jupyter.notebook.kernel.restart()",
      "text/plain": [
       "<IPython.core.display.Javascript object>"
      ]
     },
     "metadata": {},
     "output_type": "display_data"
    },
    {
     "name": "stdout",
     "output_type": "stream",
     "text": [
      "Restored state: {'iteration': 179}\n",
      "Loop iteration 180\n",
      "695a6073-eae0-49e0-bb0f-e9e57a9275b9_SWC_043\n",
      "best_results_whisker_me_SWC_043695a6073-eae0-49e0-bb0f-e9e57a9275b9\n",
      "Fitting mouse SWC_043\n"
     ]
    },
    {
     "data": {
      "application/javascript": "Jupyter.notebook.kernel.restart()",
      "text/plain": [
       "<IPython.core.display.Javascript object>"
      ]
     },
     "metadata": {},
     "output_type": "display_data"
    },
    {
     "name": "stdout",
     "output_type": "stream",
     "text": [
      "Restored state: {'iteration': 180}\n",
      "Loop iteration 181\n",
      "e8b4fda3-7fe4-4706-8ec2-91036cfee6bd_DY_018\n",
      "best_results_whisker_me_DY_018e8b4fda3-7fe4-4706-8ec2-91036cfee6bd\n",
      "Fitting mouse DY_018\n"
     ]
    },
    {
     "data": {
      "application/javascript": "Jupyter.notebook.kernel.restart()",
      "text/plain": [
       "<IPython.core.display.Javascript object>"
      ]
     },
     "metadata": {},
     "output_type": "display_data"
    },
    {
     "name": "stdout",
     "output_type": "stream",
     "text": [
      "Restored state: {'iteration': 181}\n",
      "Loop iteration 182\n",
      "d2832a38-27f6-452d-91d6-af72d794136c_ibl_witten_29\n",
      "best_results_whisker_me_ibl_witten_29d2832a38-27f6-452d-91d6-af72d794136c\n",
      "Fitting mouse ibl_witten_29\n"
     ]
    },
    {
     "data": {
      "application/javascript": "Jupyter.notebook.kernel.restart()",
      "text/plain": [
       "<IPython.core.display.Javascript object>"
      ]
     },
     "metadata": {},
     "output_type": "display_data"
    },
    {
     "name": "stdout",
     "output_type": "stream",
     "text": [
      "Restored state: {'iteration': 182}\n",
      "Loop iteration 183\n",
      "4503697e-af44-47d9-898d-4924be990240_KS051\n",
      "best_results_whisker_me_KS0514503697e-af44-47d9-898d-4924be990240\n",
      "Fitting mouse KS051\n"
     ]
    },
    {
     "data": {
      "application/javascript": "Jupyter.notebook.kernel.restart()",
      "text/plain": [
       "<IPython.core.display.Javascript object>"
      ]
     },
     "metadata": {},
     "output_type": "display_data"
    },
    {
     "name": "stdout",
     "output_type": "stream",
     "text": [
      "Restored state: {'iteration': 183}\n",
      "Loop iteration 184\n",
      "5b609f9b-75cb-43d3-9c39-b5b4b7a0db67_ZFM-01592\n",
      "best_results_whisker_me_ZFM-015925b609f9b-75cb-43d3-9c39-b5b4b7a0db67\n",
      "Fitting mouse ZFM-01592\n"
     ]
    },
    {
     "data": {
      "application/javascript": "Jupyter.notebook.kernel.restart()",
      "text/plain": [
       "<IPython.core.display.Javascript object>"
      ]
     },
     "metadata": {},
     "output_type": "display_data"
    },
    {
     "name": "stdout",
     "output_type": "stream",
     "text": [
      "Restored state: {'iteration': 184}\n",
      "Loop iteration 185\n",
      "a7763417-e0d6-4f2a-aa55-e382fd9b5fb8_ibl_witten_20\n",
      "best_results_whisker_me_ibl_witten_20a7763417-e0d6-4f2a-aa55-e382fd9b5fb8\n",
      "Fitting mouse ibl_witten_20\n"
     ]
    },
    {
     "data": {
      "application/javascript": "Jupyter.notebook.kernel.restart()",
      "text/plain": [
       "<IPython.core.display.Javascript object>"
      ]
     },
     "metadata": {},
     "output_type": "display_data"
    },
    {
     "name": "stdout",
     "output_type": "stream",
     "text": [
      "Restored state: {'iteration': 185}\n",
      "Loop iteration 186\n",
      "741979ce-3f10-443a-8526-2275620c8473_DY_011\n",
      "best_results_whisker_me_DY_011741979ce-3f10-443a-8526-2275620c8473\n",
      "Fitting mouse DY_011\n"
     ]
    },
    {
     "data": {
      "application/javascript": "Jupyter.notebook.kernel.restart()",
      "text/plain": [
       "<IPython.core.display.Javascript object>"
      ]
     },
     "metadata": {},
     "output_type": "display_data"
    },
    {
     "name": "stdout",
     "output_type": "stream",
     "text": [
      "Restored state: {'iteration': 186}\n",
      "Loop iteration 187\n",
      "03d9a098-07bf-4765-88b7-85f8d8f620cc_UCLA014\n",
      "best_results_whisker_me_UCLA01403d9a098-07bf-4765-88b7-85f8d8f620cc\n",
      "Fitting mouse UCLA014\n"
     ]
    },
    {
     "data": {
      "application/javascript": "Jupyter.notebook.kernel.restart()",
      "text/plain": [
       "<IPython.core.display.Javascript object>"
      ]
     },
     "metadata": {},
     "output_type": "display_data"
    },
    {
     "name": "stdout",
     "output_type": "stream",
     "text": [
      "Restored state: {'iteration': 187}\n",
      "Loop iteration 188\n",
      "a9138924-4395-4981-83d1-530f6ff7c8fc_ibl_witten_26\n",
      "best_results_whisker_me_ibl_witten_26a9138924-4395-4981-83d1-530f6ff7c8fc\n",
      "Fitting mouse ibl_witten_26\n"
     ]
    },
    {
     "data": {
      "application/javascript": "Jupyter.notebook.kernel.restart()",
      "text/plain": [
       "<IPython.core.display.Javascript object>"
      ]
     },
     "metadata": {},
     "output_type": "display_data"
    },
    {
     "name": "stdout",
     "output_type": "stream",
     "text": [
      "Restored state: {'iteration': 188}\n",
      "Loop iteration 189\n",
      "f84045b0-ce09-4ace-9d11-5ea491620707_SWC_052\n",
      "best_results_whisker_me_SWC_052f84045b0-ce09-4ace-9d11-5ea491620707\n",
      "Fitting mouse SWC_052\n"
     ]
    },
    {
     "data": {
      "application/javascript": "Jupyter.notebook.kernel.restart()",
      "text/plain": [
       "<IPython.core.display.Javascript object>"
      ]
     },
     "metadata": {},
     "output_type": "display_data"
    },
    {
     "name": "stdout",
     "output_type": "stream",
     "text": [
      "Restored state: {'iteration': 189}\n",
      "Loop iteration 190\n",
      "d16a9a8d-5f42-4b49-ba58-1746f807fcc1_CSHL059\n",
      "best_results_whisker_me_CSHL059d16a9a8d-5f42-4b49-ba58-1746f807fcc1\n",
      "Fitting mouse CSHL059\n"
     ]
    },
    {
     "data": {
      "application/javascript": "Jupyter.notebook.kernel.restart()",
      "text/plain": [
       "<IPython.core.display.Javascript object>"
      ]
     },
     "metadata": {},
     "output_type": "display_data"
    },
    {
     "name": "stdout",
     "output_type": "stream",
     "text": [
      "Restored state: {'iteration': 190}\n",
      "Loop iteration 191\n",
      "f25642c6-27a5-4a97-9ea0-06652db79fbd_DY_014\n",
      "best_results_whisker_me_DY_014f25642c6-27a5-4a97-9ea0-06652db79fbd\n",
      "Fitting mouse DY_014\n"
     ]
    },
    {
     "data": {
      "application/javascript": "Jupyter.notebook.kernel.restart()",
      "text/plain": [
       "<IPython.core.display.Javascript object>"
      ]
     },
     "metadata": {},
     "output_type": "display_data"
    },
    {
     "name": "stdout",
     "output_type": "stream",
     "text": [
      "Restored state: {'iteration': 191}\n",
      "Loop iteration 192\n",
      "93ad879a-aa42-4150-83e1-38773c9785e4_NYU-48\n",
      "best_results_whisker_me_NYU-4893ad879a-aa42-4150-83e1-38773c9785e4\n",
      "Fitting mouse NYU-48\n"
     ]
    },
    {
     "data": {
      "application/javascript": "Jupyter.notebook.kernel.restart()",
      "text/plain": [
       "<IPython.core.display.Javascript object>"
      ]
     },
     "metadata": {},
     "output_type": "display_data"
    },
    {
     "name": "stdout",
     "output_type": "stream",
     "text": [
      "Restored state: {'iteration': 192}\n",
      "Loop iteration 193\n",
      "493170a6-fd94-4ee4-884f-cc018c17eeb9_SWC_061\n",
      "best_results_whisker_me_SWC_061493170a6-fd94-4ee4-884f-cc018c17eeb9\n",
      "Fitting mouse SWC_061\n"
     ]
    },
    {
     "data": {
      "application/javascript": "Jupyter.notebook.kernel.restart()",
      "text/plain": [
       "<IPython.core.display.Javascript object>"
      ]
     },
     "metadata": {},
     "output_type": "display_data"
    },
    {
     "name": "stdout",
     "output_type": "stream",
     "text": [
      "Restored state: {'iteration': 193}\n",
      "Loop iteration 194\n",
      "f5591ac5-311d-4fa8-9bad-029d7be9c491_ZFM-01935\n",
      "best_results_whisker_me_ZFM-01935f5591ac5-311d-4fa8-9bad-029d7be9c491\n",
      "Fitting mouse ZFM-01935\n"
     ]
    },
    {
     "data": {
      "application/javascript": "Jupyter.notebook.kernel.restart()",
      "text/plain": [
       "<IPython.core.display.Javascript object>"
      ]
     },
     "metadata": {},
     "output_type": "display_data"
    },
    {
     "name": "stdout",
     "output_type": "stream",
     "text": [
      "Restored state: {'iteration': 194}\n",
      "Loop iteration 195\n",
      "1eac875c-feaa-4a30-b148-059b954b11d8_CSH_ZAD_022\n",
      "best_results_whisker_me_CSH_ZAD_0221eac875c-feaa-4a30-b148-059b954b11d8\n",
      "Fitting mouse CSH_ZAD_022\n"
     ]
    },
    {
     "data": {
      "application/javascript": "Jupyter.notebook.kernel.restart()",
      "text/plain": [
       "<IPython.core.display.Javascript object>"
      ]
     },
     "metadata": {},
     "output_type": "display_data"
    },
    {
     "name": "stdout",
     "output_type": "stream",
     "text": [
      "Restored state: {'iteration': 195}\n",
      "Loop iteration 196\n",
      "5157810e-0fff-4bcf-b19d-32d4e39c7dfc_NYU-40\n",
      "best_results_whisker_me_NYU-405157810e-0fff-4bcf-b19d-32d4e39c7dfc\n",
      "Fitting mouse NYU-40\n"
     ]
    },
    {
     "data": {
      "application/javascript": "Jupyter.notebook.kernel.restart()",
      "text/plain": [
       "<IPython.core.display.Javascript object>"
      ]
     },
     "metadata": {},
     "output_type": "display_data"
    },
    {
     "name": "stdout",
     "output_type": "stream",
     "text": [
      "Restored state: {'iteration': 196}\n",
      "Loop iteration 197\n",
      "68775ca0-b056-48d5-b6ae-a4c2a76ae48f_PL017\n",
      "best_results_whisker_me_PL01768775ca0-b056-48d5-b6ae-a4c2a76ae48f\n",
      "Fitting mouse PL017\n"
     ]
    },
    {
     "data": {
      "application/javascript": "Jupyter.notebook.kernel.restart()",
      "text/plain": [
       "<IPython.core.display.Javascript object>"
      ]
     },
     "metadata": {},
     "output_type": "display_data"
    },
    {
     "name": "stdout",
     "output_type": "stream",
     "text": [
      "Restored state: {'iteration': 197}\n",
      "Loop iteration 198\n",
      "6364ff7f-6471-415a-ab9e-632a12052690_CSHL060\n",
      "best_results_whisker_me_CSHL0606364ff7f-6471-415a-ab9e-632a12052690\n",
      "Fitting mouse CSHL060\n"
     ]
    },
    {
     "data": {
      "application/javascript": "Jupyter.notebook.kernel.restart()",
      "text/plain": [
       "<IPython.core.display.Javascript object>"
      ]
     },
     "metadata": {},
     "output_type": "display_data"
    },
    {
     "name": "stdout",
     "output_type": "stream",
     "text": [
      "Restored state: {'iteration': 198}\n",
      "Loop iteration 199\n",
      "0cbeae00-e229-4b7d-bdcc-1b0569d7e0c3_CSHL055\n",
      "best_results_whisker_me_CSHL0550cbeae00-e229-4b7d-bdcc-1b0569d7e0c3\n",
      "Fitting mouse CSHL055\n"
     ]
    },
    {
     "data": {
      "application/javascript": "Jupyter.notebook.kernel.restart()",
      "text/plain": [
       "<IPython.core.display.Javascript object>"
      ]
     },
     "metadata": {},
     "output_type": "display_data"
    },
    {
     "name": "stdout",
     "output_type": "stream",
     "text": [
      "Restored state: {'iteration': 199}\n",
      "Loop iteration 200\n",
      "32d27583-56aa-4510-bc03-669036edad20_UCLA033\n",
      "best_results_whisker_me_UCLA03332d27583-56aa-4510-bc03-669036edad20\n",
      "Fitting mouse UCLA033\n"
     ]
    },
    {
     "data": {
      "application/javascript": "Jupyter.notebook.kernel.restart()",
      "text/plain": [
       "<IPython.core.display.Javascript object>"
      ]
     },
     "metadata": {},
     "output_type": "display_data"
    },
    {
     "name": "stdout",
     "output_type": "stream",
     "text": [
      "Restored state: {'iteration': 200}\n",
      "Loop iteration 201\n",
      "64977c74-9c04-437a-9ea1-50386c4996db_PL015\n",
      "best_results_whisker_me_PL01564977c74-9c04-437a-9ea1-50386c4996db\n",
      "Fitting mouse PL015\n"
     ]
    },
    {
     "data": {
      "application/javascript": "Jupyter.notebook.kernel.restart()",
      "text/plain": [
       "<IPython.core.display.Javascript object>"
      ]
     },
     "metadata": {},
     "output_type": "display_data"
    },
    {
     "name": "stdout",
     "output_type": "stream",
     "text": [
      "Restored state: {'iteration': 201}\n",
      "Loop iteration 202\n",
      "752456f3-9f47-4fbf-bd44-9d131c0f41aa_KS094\n",
      "best_results_whisker_me_KS094752456f3-9f47-4fbf-bd44-9d131c0f41aa\n",
      "Fitting mouse KS094\n"
     ]
    },
    {
     "data": {
      "application/javascript": "Jupyter.notebook.kernel.restart()",
      "text/plain": [
       "<IPython.core.display.Javascript object>"
      ]
     },
     "metadata": {},
     "output_type": "display_data"
    },
    {
     "name": "stdout",
     "output_type": "stream",
     "text": [
      "Restored state: {'iteration': 202}\n",
      "Loop iteration 203\n",
      "2e6e179c-fccc-4e8f-9448-ce5b6858a183_CSHL060\n",
      "best_results_whisker_me_CSHL0602e6e179c-fccc-4e8f-9448-ce5b6858a183\n",
      "Fitting mouse CSHL060\n"
     ]
    },
    {
     "data": {
      "application/javascript": "Jupyter.notebook.kernel.restart()",
      "text/plain": [
       "<IPython.core.display.Javascript object>"
      ]
     },
     "metadata": {},
     "output_type": "display_data"
    },
    {
     "name": "stdout",
     "output_type": "stream",
     "text": [
      "Restored state: {'iteration': 203}\n",
      "Loop iteration 204\n",
      "d3a2b25e-46d3-4f0b-ade6-4e32255f4c35_SWC_058\n",
      "best_results_whisker_me_SWC_058d3a2b25e-46d3-4f0b-ade6-4e32255f4c35\n",
      "Fitting mouse SWC_058\n"
     ]
    },
    {
     "data": {
      "application/javascript": "Jupyter.notebook.kernel.restart()",
      "text/plain": [
       "<IPython.core.display.Javascript object>"
      ]
     },
     "metadata": {},
     "output_type": "display_data"
    },
    {
     "name": "stdout",
     "output_type": "stream",
     "text": [
      "Restored state: {'iteration': 204}\n",
      "Loop iteration 205\n",
      "f99ac31f-171b-4208-a55d-5644c0ad51c3_UCLA035\n",
      "best_results_whisker_me_UCLA035f99ac31f-171b-4208-a55d-5644c0ad51c3\n",
      "Fitting mouse UCLA035\n"
     ]
    },
    {
     "data": {
      "application/javascript": "Jupyter.notebook.kernel.restart()",
      "text/plain": [
       "<IPython.core.display.Javascript object>"
      ]
     },
     "metadata": {},
     "output_type": "display_data"
    },
    {
     "name": "stdout",
     "output_type": "stream",
     "text": [
      "Restored state: {'iteration': 205}\n",
      "Loop iteration 206\n",
      "f1db6257-85ef-4385-b415-2d078ec75df2_SWC_058\n",
      "best_results_whisker_me_SWC_058f1db6257-85ef-4385-b415-2d078ec75df2\n",
      "Fitting mouse SWC_058\n"
     ]
    },
    {
     "data": {
      "application/javascript": "Jupyter.notebook.kernel.restart()",
      "text/plain": [
       "<IPython.core.display.Javascript object>"
      ]
     },
     "metadata": {},
     "output_type": "display_data"
    },
    {
     "name": "stdout",
     "output_type": "stream",
     "text": [
      "Restored state: {'iteration': 206}\n",
      "Loop iteration 207\n",
      "0b7ee1b6-42db-46cd-a465-08f531366187_ZFM-01937\n",
      "best_results_whisker_me_ZFM-019370b7ee1b6-42db-46cd-a465-08f531366187\n",
      "Fitting mouse ZFM-01937\n"
     ]
    },
    {
     "data": {
      "application/javascript": "Jupyter.notebook.kernel.restart()",
      "text/plain": [
       "<IPython.core.display.Javascript object>"
      ]
     },
     "metadata": {},
     "output_type": "display_data"
    },
    {
     "name": "stdout",
     "output_type": "stream",
     "text": [
      "Restored state: {'iteration': 207}\n",
      "Loop iteration 208\n",
      "626126d5-eecf-4e9b-900e-ec29a17ece07_CSH_ZAD_026\n",
      "best_results_whisker_me_CSH_ZAD_026626126d5-eecf-4e9b-900e-ec29a17ece07\n",
      "Fitting mouse CSH_ZAD_026\n"
     ]
    },
    {
     "data": {
      "application/javascript": "Jupyter.notebook.kernel.restart()",
      "text/plain": [
       "<IPython.core.display.Javascript object>"
      ]
     },
     "metadata": {},
     "output_type": "display_data"
    },
    {
     "name": "stdout",
     "output_type": "stream",
     "text": [
      "Restored state: {'iteration': 208}\n",
      "Loop iteration 209\n",
      "56956777-dca5-468c-87cb-78150432cc57_NYU-11\n",
      "best_results_whisker_me_NYU-1156956777-dca5-468c-87cb-78150432cc57\n",
      "Fitting mouse NYU-11\n"
     ]
    },
    {
     "data": {
      "application/javascript": "Jupyter.notebook.kernel.restart()",
      "text/plain": [
       "<IPython.core.display.Javascript object>"
      ]
     },
     "metadata": {},
     "output_type": "display_data"
    },
    {
     "name": "stdout",
     "output_type": "stream",
     "text": [
      "Restored state: {'iteration': 209}\n",
      "Loop iteration 210\n",
      "6fb1e12c-883b-46d1-a745-473cde3232c8_SWC_043\n",
      "best_results_whisker_me_SWC_0436fb1e12c-883b-46d1-a745-473cde3232c8\n",
      "Fitting mouse SWC_043\n"
     ]
    },
    {
     "data": {
      "application/javascript": "Jupyter.notebook.kernel.restart()",
      "text/plain": [
       "<IPython.core.display.Javascript object>"
      ]
     },
     "metadata": {},
     "output_type": "display_data"
    },
    {
     "name": "stdout",
     "output_type": "stream",
     "text": [
      "Restored state: {'iteration': 210}\n",
      "Loop iteration 211\n",
      "6f36868f-5cc1-450c-82fa-6b9829ce0cfe_UCLA035\n",
      "best_results_whisker_me_UCLA0356f36868f-5cc1-450c-82fa-6b9829ce0cfe\n",
      "Fitting mouse UCLA035\n"
     ]
    },
    {
     "data": {
      "application/javascript": "Jupyter.notebook.kernel.restart()",
      "text/plain": [
       "<IPython.core.display.Javascript object>"
      ]
     },
     "metadata": {},
     "output_type": "display_data"
    },
    {
     "name": "stdout",
     "output_type": "stream",
     "text": [
      "Restored state: {'iteration': 211}\n",
      "Loop iteration 212\n",
      "91a3353a-2da1-420d-8c7c-fad2fedfdd18_NYU-39\n",
      "best_results_whisker_me_NYU-3991a3353a-2da1-420d-8c7c-fad2fedfdd18\n",
      "Fitting mouse NYU-39\n"
     ]
    },
    {
     "data": {
      "application/javascript": "Jupyter.notebook.kernel.restart()",
      "text/plain": [
       "<IPython.core.display.Javascript object>"
      ]
     },
     "metadata": {},
     "output_type": "display_data"
    },
    {
     "name": "stdout",
     "output_type": "stream",
     "text": [
      "Restored state: {'iteration': 212}\n",
      "Loop iteration 213\n",
      "1b61b7f2-a599-4e40-abd6-3e758d2c9e25_PL017\n",
      "best_results_whisker_me_PL0171b61b7f2-a599-4e40-abd6-3e758d2c9e25\n",
      "Fitting mouse PL017\n"
     ]
    },
    {
     "data": {
      "application/javascript": "Jupyter.notebook.kernel.restart()",
      "text/plain": [
       "<IPython.core.display.Javascript object>"
      ]
     },
     "metadata": {},
     "output_type": "display_data"
    },
    {
     "name": "stdout",
     "output_type": "stream",
     "text": [
      "Restored state: {'iteration': 213}\n",
      "Loop iteration 214\n",
      "251ece37-7798-477c-8a06-2845d4aa270c_DY_016\n",
      "best_results_whisker_me_DY_016251ece37-7798-477c-8a06-2845d4aa270c\n",
      "Fitting mouse DY_016\n"
     ]
    },
    {
     "data": {
      "application/javascript": "Jupyter.notebook.kernel.restart()",
      "text/plain": [
       "<IPython.core.display.Javascript object>"
      ]
     },
     "metadata": {},
     "output_type": "display_data"
    },
    {
     "name": "stdout",
     "output_type": "stream",
     "text": [
      "Restored state: {'iteration': 214}\n",
      "Processing completed.\n"
     ]
    }
   ],
   "source": [
    "import os\n",
    "import sys\n",
    "import time\n",
    "import pickle\n",
    "from IPython.display import display, Javascript\n",
    "\n",
    "# Save the state before restarting\n",
    "def save_state(state, state_filename='state.pkl'):\n",
    "    with open(state_filename, 'wb') as f:\n",
    "        pickle.dump(state, f)\n",
    "\n",
    "# Load the state after restarting\n",
    "def load_state(state_filename='state.pkl'):\n",
    "    with open(state_filename, 'rb') as f:\n",
    "        return pickle.load(f)\n",
    "\n",
    "# Restart the kernel\n",
    "def restart_kernel():\n",
    "    display(Javascript('Jupyter.notebook.kernel.restart()'))\n",
    "\n",
    "# Restart the program\n",
    "def restart_program():\n",
    "    \"\"\"Restarts the current program.\"\"\"\n",
    "    print(\"Restarting the program...\")\n",
    "    os.execv(sys.executable, ['python'] + sys.argv)\n",
    "\n",
    "##################################################\n",
    "################### MY CODE ######################\n",
    "##################################################\n",
    "\n",
    "import os\n",
    "import autograd.numpy as np\n",
    "import pickle\n",
    "from collections import defaultdict\n",
    "import tracemalloc\n",
    "import gc\n",
    "from one.api import ONE\n",
    "import jax.numpy as jnp\n",
    "import jax.random as jr\n",
    "from dynamax.hidden_markov_model import LinearAutoregressiveHMM\n",
    "import sys\n",
    "import jax\n",
    "import pandas as pd\n",
    "\n",
    "# Get my functions\n",
    "functions_path =  '/home/ines/repositories/representation_learning_variability/Models/Sub-trial//2_fit_models/'\n",
    "#functions_path = '/Users/ineslaranjeira/Documents/Repositories/representation_learning_variability//Models/Sub-trial//2_fit_models/'\n",
    "os.chdir(functions_path)\n",
    "from preprocessing_functions import concatenate_sessions\n",
    "from fitting_functions import cross_validate_armodel, compute_inputs\n",
    "one = ONE(mode=\"remote\")\n",
    "\n",
    "\"\"\" \n",
    "PARAMETERS\n",
    "\"\"\"\n",
    "bin_size = 0.1\n",
    "bin_size = 0.017\n",
    "multiplier = 1/bin_size\n",
    "multiplier = 1\n",
    "\n",
    "num_iters = 100\n",
    "num_train_batches = 5\n",
    "method = 'kmeans'\n",
    "threshold = 0.05\n",
    "\n",
    "\"\"\" \n",
    "FITTING PARAMETERS\n",
    "\"\"\"\n",
    "\n",
    "var_interest = 'whisker_me'\n",
    "\n",
    "concatenate = False\n",
    "num_states = 2\n",
    "last_lag = 20\n",
    "lag_step = 2\n",
    "start_lag = 1\n",
    "all_num_lags = list(range(start_lag, last_lag, lag_step))\n",
    "\n",
    "sticky = False\n",
    "if sticky == True:\n",
    "    kappas = [1, 5, 10, 100, 500, 1000, 2000, 5000, 7000, 10000]\n",
    "else:\n",
    "    kappas = [0, 0.2, 0.5, 0.7, 1, 5, 10, 100, 500, 1000, 2000, 5000, 7000, 10000]\n",
    "    kappas = [0, 0.5, 1, 5, 10, 100, 1000, 5000, 10000]\n",
    "    \n",
    "data_file = \"preprocessed_data_v5\"\n",
    "\n",
    "if data_file == \"preprocessed_data_v4_170724\":\n",
    "    use_sets = [['avg_wheel_vel'], ['Lick count'], ['whisker_me'],\n",
    "                ['left_X', 'left_Y', 'right_X', 'right_Y'], ['nose_X', 'nose_Y']]\n",
    "    var_interest_map = ['avg_wheel_vel', 'Lick count', 'whisker_me', 'left_X', 'nose_X']\n",
    "    idx_init_list = [0, 1, 2, 3, 7]\n",
    "    idx_end_list = [1, 2, 3, 7, 9]\n",
    "    \n",
    "    # Load preprocessed data\n",
    "    prepro_results_path =  '/home/ines/repositories/representation_learning_variability/DATA/Sub-trial/Results/90_trials/' + str(bin_size) + '/'\n",
    "    os.chdir(prepro_results_path)\n",
    "    idxs, mouse_names, matrix_all, matrix_all_unnorm, session_all = pickle.load(open(prepro_results_path + data_file, \"rb\"))\n",
    "    collapsed_matrices, collapsed_unnorm, collapsed_trials = concatenate_sessions (mouse_names, matrix_all, matrix_all_unnorm, session_all)\n",
    "    \n",
    "elif data_file == \"preprocessed_data_v4_171224_alltrials\":\n",
    "    use_sets = [['avg_wheel_vel'], ['whisker_me'], ['Lick count']]\n",
    "    var_interest_map = ['avg_wheel_vel', 'whisker_me', 'Lick count']\n",
    "    idx_init_list = [0, 1, 2]\n",
    "    idx_end_list = [1, 2, 3]\n",
    "    \n",
    "    # Load preprocessed data\n",
    "    prepro_results_path =  '/home/ines/repositories/representation_learning_variability/DATA/Sub-trial/Results/' + str(bin_size) + '/'\n",
    "    os.chdir(prepro_results_path)\n",
    "    idxs, mouse_names, matrix_all, matrix_all_unnorm, session_all = pickle.load(open(prepro_results_path + data_file, \"rb\"))\n",
    "    collapsed_matrices, collapsed_unnorm, collapsed_trials = concatenate_sessions (mouse_names, matrix_all, matrix_all_unnorm, session_all)\n",
    "\n",
    "elif data_file == \"preprocessed_data_v5_\":\n",
    "    use_sets = [['avg_wheel_vel'], ['whisker_me'], ['Lick count'], ['0.25', '0.5',\n",
    "       '1.0', '2.0', '4.0', '8.0', '16.0']]\n",
    "    var_interest_map = ['avg_wheel_vel', 'whisker_me', 'Lick count', '0.25', '0.5',\n",
    "       '1.0', '2.0', '4.0', '8.0', '16.0']\n",
    "    idx_init_list = [0, 1, 2, 3]\n",
    "    idx_end_list = [1, 2, 3, 9]\n",
    "    \n",
    "    # Load preprocessed data\n",
    "    prepro_results_path =  '/home/ines/repositories/representation_learning_variability/DATA/Sub-trial/Results/' + str(bin_size) + '/'\n",
    "    filename = prepro_results_path + data_file\n",
    "    idxs, mouse_names, matrix_all, matrix_all_unnorm, session_all = pd.read_parquet(filename, engine='pyarrow')\n",
    "    # collapsed_matrices, collapsed_unnorm, collapsed_trials = concatenate_sessions (mouse_names, matrix_all, matrix_all_unnorm, session_all)\n",
    "    \n",
    "    \n",
    "# Loop through mice to find next one\n",
    "for m, mat in enumerate(idxs):\n",
    "    if len(mat) > 35:\n",
    "        mouse_name = mat[37:]\n",
    "        session = mat[0:36]\n",
    "        fit_id = str(mouse_name+session)\n",
    "        if sticky:\n",
    "            filename = \"best_sticky_results_\" + var_interest + '_' + fit_id\n",
    "        else:\n",
    "            filename = \"best_results_\" + var_interest + '_' + fit_id\n",
    "        data_path =  '/home/ines/repositories/representation_learning_variability/DATA/Sub-trial/Results/' + str(bin_size) + '/'+str(num_states)+'_states/grid_search/individual_sessions/'\n",
    "        os.chdir(data_path)\n",
    "        files = os.listdir()\n",
    "\n",
    "\"\"\" \n",
    "FUNCTIONS\n",
    "\"\"\"\n",
    "# The good one\n",
    "def grid_search_lag_kappa(id, matrix_all, collapsed_matrices, var_interest, var_interest_map, idx_init_list, idx_end_list, use_sets, concatenate, num_states, all_num_lags, kappas, sticky):\n",
    "    \n",
    "    index_var = np.where(np.array(var_interest_map)==var_interest)[0][0]\n",
    "    idx_init = idx_init_list[index_var]\n",
    "    idx_end = idx_end_list[index_var]\n",
    "    var_names = use_sets[index_var]\n",
    "    \n",
    "    # Initialize vars for saving results\n",
    "    all_init_params = defaultdict(list)\n",
    "    all_fit_params = defaultdict(list)\n",
    "    all_lls = defaultdict(list)\n",
    "    all_baseline_lls = defaultdict(list)\n",
    "    \n",
    "    # Get mouse data\n",
    "    if concatenate == True:\n",
    "        mouse_name = id\n",
    "        design_matrix = collapsed_matrices[mouse_name][:,idx_init:idx_end]\n",
    "        fit_id = mouse_name\n",
    "    else:\n",
    "        mouse_name, session = id\n",
    "        design_matrix = matrix_all[mouse_name][session][:,idx_init:idx_end]\n",
    "        fit_id = str(mouse_name+session)\n",
    "\n",
    "    if len(np.shape(design_matrix)) > 2:\n",
    "        design_matrix = design_matrix[0]\n",
    "\n",
    "    print('Fitting mouse ' + mouse_name)\n",
    "        \n",
    "    \" Fit model with cross-validation\"\n",
    "    # Prepare data for cross-validationfrom jax.interpreters import xla\n",
    "\n",
    "    num_timesteps = np.shape(design_matrix)[0]\n",
    "    emission_dim = np.shape(design_matrix)[1]\n",
    "    shortened_array = np.array(design_matrix[:(num_timesteps // num_train_batches) * num_train_batches])\n",
    "    train_emissions = jnp.stack(jnp.split(shortened_array, num_train_batches))\n",
    "    \n",
    "    \" Fit model with cross-validation across kappas and lags \"\n",
    "    for lag in all_num_lags:\n",
    "        \n",
    "        # print(f\"fitting model with {lag} lags\")\n",
    "        # Initialize lag \n",
    "        all_lls[lag] = {}\n",
    "        all_baseline_lls[lag] = {}\n",
    "        all_init_params[lag] = {}\n",
    "        all_fit_params[lag] = {}\n",
    "        \n",
    "        for kappa in kappas:\n",
    "            \n",
    "            # print(f\"fitting model with kappa {kappa}\")\n",
    "            # Initialize stickiness \n",
    "            all_lls[lag][kappa] = {}\n",
    "            all_baseline_lls[lag][kappa] = {}\n",
    "            all_init_params[lag][kappa] = {}\n",
    "            all_fit_params[lag][kappa] = {}\n",
    "        \n",
    "            # Make a range of Gaussian HMMs\n",
    "            test_arhmm = LinearAutoregressiveHMM(num_states, emission_dim, num_lags=lag, transition_matrix_stickiness=kappa)\n",
    "            # Compute inputs for required timelags\n",
    "            my_inputs = compute_inputs(shortened_array, lag, emission_dim)\n",
    "            train_inputs = jnp.stack(jnp.split(my_inputs, num_train_batches))\n",
    "        \n",
    "            all_val_lls, fit_params, init_params, baseline_lls = cross_validate_armodel(test_arhmm, jr.PRNGKey(0), shortened_array, \n",
    "                                                train_emissions, train_inputs, method, num_train_batches)\n",
    "        \n",
    "            # Save results\n",
    "            all_lls[lag][kappa] = all_val_lls\n",
    "            all_baseline_lls[lag][kappa] = baseline_lls\n",
    "            all_init_params[lag][kappa] = init_params\n",
    "            all_fit_params[lag][kappa] = fit_params\n",
    "            \n",
    "            gc.collect()\n",
    "            # pdb.set_trace()\n",
    "                \n",
    "    mouse_results = all_lls, all_baseline_lls, all_init_params, all_fit_params, design_matrix, kappas, all_num_lags\n",
    "    \n",
    "    # Save design matrix\n",
    "    data_path =  '/home/ines/repositories/representation_learning_variability/DATA/Sub-trial/Results/' + str(bin_size) + '/'+str(num_states)+'_states/grid_search/individual_sessions/'\n",
    "    os.chdir(data_path)\n",
    "    \n",
    "    if sticky == True:\n",
    "        pickle.dump(mouse_results, open(\"best_sticky_results_\" + var_names[0] + '_' + fit_id , \"wb\"))\n",
    "    else:\n",
    "        pickle.dump(mouse_results, open(\"best_results_\" + var_names[0] + '_' + fit_id , \"wb\"))\n",
    "\n",
    "    del mouse_results, all_lls, all_baseline_lls, all_init_params, all_fit_params\n",
    "    \n",
    "    # snapshot = tracemalloc.take_snapshot()\n",
    "    # top_stats = snapshot.statistics('lineno')\n",
    "\n",
    "    # print(\"[ Top 10 ]\")\n",
    "    # for stat in top_stats[:10]:\n",
    "    #     print(stat)\n",
    "    \n",
    "    # tracemalloc.clear_traces()\n",
    "    # Clear caches and collect garbage\n",
    "    jax.clear_caches()\n",
    "    gc.collect()\n",
    "                \n",
    "                \n",
    "# Example state\n",
    "state = {'iteration': 0}\n",
    "\n",
    "# Loop with kernel restarts\n",
    "for m, mat in enumerate(idxs):\n",
    "    state['iteration'] = m\n",
    "    print(f\"Loop iteration {m}\")\n",
    "    \n",
    "    # Your processing code here\n",
    "\n",
    "    print(mat)\n",
    "    mouse_name = mat[37:]\n",
    "    session = mat[0:36]\n",
    "    # mouse_name = 'ZM_3003'\n",
    "    # session = '934dd7a4-fbdc-459c-8830-04fe9033bc28'\n",
    "    fit_id = str(mouse_name+session)\n",
    "    # Check if session has been computed\n",
    "    if sticky:\n",
    "        filename = \"best_sticky_results_\" + var_interest + '_' + fit_id\n",
    "    else:\n",
    "        filename = \"best_results_\" + var_interest + '_' + fit_id\n",
    "    if filename not in files:\n",
    "        id = mouse_name, session\n",
    "        print(filename)\n",
    "        grid_search_lag_kappa(id, matrix_all, collapsed_matrices, var_interest, var_interest_map, idx_init_list, idx_end_list, use_sets, concatenate, num_states, all_num_lags, kappas, sticky)\n",
    "\n",
    "    save_state(state)\n",
    "    restart_kernel()\n",
    "    # restart_program()\n",
    "    time.sleep(10)  # Adjust sleep time if needed\n",
    "\n",
    "    state = load_state()\n",
    "    import os, sys, time, pickle  # Re-import modules\n",
    "    \n",
    "    print(f\"Restored state: {state}\")\n",
    "\n",
    "print(\"Processing completed.\")"
   ]
  },
  {
   "cell_type": "code",
   "execution_count": null,
   "metadata": {},
   "outputs": [],
   "source": []
  }
 ],
 "metadata": {
  "kernelspec": {
   "display_name": "iblenv",
   "language": "python",
   "name": "python3"
  },
  "language_info": {
   "codemirror_mode": {
    "name": "ipython",
    "version": 3
   },
   "file_extension": ".py",
   "mimetype": "text/x-python",
   "name": "python",
   "nbconvert_exporter": "python",
   "pygments_lexer": "ipython3",
   "version": "3.9.15"
  },
  "orig_nbformat": 4,
  "vscode": {
   "interpreter": {
    "hash": "21541729b5da47a594818561e91cb4175a7e192d68b7cc4221509f43b2f902b5"
   }
  }
 },
 "nbformat": 4,
 "nbformat_minor": 2
}
