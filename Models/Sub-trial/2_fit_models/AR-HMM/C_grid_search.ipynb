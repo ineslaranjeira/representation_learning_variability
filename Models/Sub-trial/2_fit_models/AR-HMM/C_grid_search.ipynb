{
 "cells": [
  {
   "cell_type": "code",
   "execution_count": 5,
   "metadata": {},
   "outputs": [
    {
     "name": "stdout",
     "output_type": "stream",
     "text": [
      "Loop iteration 0\n",
      "10fac7a1-919d-4ca7-83c4-4675bd8d9416_PL017\n",
      "best_results_whisker_me_PL01710fac7a1-919d-4ca7-83c4-4675bd8d9416\n",
      "Fitting mouse PL017\n"
     ]
    },
    {
     "data": {
      "application/javascript": "Jupyter.notebook.kernel.restart()",
      "text/plain": [
       "<IPython.core.display.Javascript object>"
      ]
     },
     "metadata": {},
     "output_type": "display_data"
    },
    {
     "name": "stdout",
     "output_type": "stream",
     "text": [
      "Restored state: {'iteration': 0}\n",
      "Loop iteration 1\n",
      "7416f387-b302-4ca3-8daf-03b585a1b7ec_SWC_052\n",
      "best_results_whisker_me_SWC_0527416f387-b302-4ca3-8daf-03b585a1b7ec\n",
      "Fitting mouse SWC_052\n"
     ]
    },
    {
     "data": {
      "application/javascript": "Jupyter.notebook.kernel.restart()",
      "text/plain": [
       "<IPython.core.display.Javascript object>"
      ]
     },
     "metadata": {},
     "output_type": "display_data"
    },
    {
     "name": "stdout",
     "output_type": "stream",
     "text": [
      "Restored state: {'iteration': 1}\n",
      "Loop iteration 2\n",
      "72cb5550-43b4-4ef0-add5-e4adfdfb5e02_ZFM-02369\n",
      "best_results_whisker_me_ZFM-0236972cb5550-43b4-4ef0-add5-e4adfdfb5e02\n",
      "Fitting mouse ZFM-02369\n"
     ]
    },
    {
     "data": {
      "application/javascript": "Jupyter.notebook.kernel.restart()",
      "text/plain": [
       "<IPython.core.display.Javascript object>"
      ]
     },
     "metadata": {},
     "output_type": "display_data"
    },
    {
     "name": "stdout",
     "output_type": "stream",
     "text": [
      "Restored state: {'iteration': 2}\n",
      "Loop iteration 3\n",
      "360eac0c-7d2d-4cc1-9dcf-79fc7afc56e7_SWC_061\n",
      "best_results_whisker_me_SWC_061360eac0c-7d2d-4cc1-9dcf-79fc7afc56e7\n",
      "Fitting mouse SWC_061\n"
     ]
    },
    {
     "data": {
      "application/javascript": "Jupyter.notebook.kernel.restart()",
      "text/plain": [
       "<IPython.core.display.Javascript object>"
      ]
     },
     "metadata": {},
     "output_type": "display_data"
    },
    {
     "name": "stdout",
     "output_type": "stream",
     "text": [
      "Restored state: {'iteration': 3}\n",
      "Loop iteration 4\n",
      "d839491f-55d8-4cbe-a298-7839208ba12b_CSHL049\n",
      "best_results_whisker_me_CSHL049d839491f-55d8-4cbe-a298-7839208ba12b\n",
      "Fitting mouse CSHL049\n"
     ]
    },
    {
     "data": {
      "application/javascript": "Jupyter.notebook.kernel.restart()",
      "text/plain": [
       "<IPython.core.display.Javascript object>"
      ]
     },
     "metadata": {},
     "output_type": "display_data"
    },
    {
     "name": "stdout",
     "output_type": "stream",
     "text": [
      "Restored state: {'iteration': 4}\n",
      "Loop iteration 5\n",
      "19e66dc9-bf9f-430b-9d6a-acfa85de6fb7_UCLA006\n",
      "best_results_whisker_me_UCLA00619e66dc9-bf9f-430b-9d6a-acfa85de6fb7\n",
      "Fitting mouse UCLA006\n"
     ]
    },
    {
     "data": {
      "application/javascript": "Jupyter.notebook.kernel.restart()",
      "text/plain": [
       "<IPython.core.display.Javascript object>"
      ]
     },
     "metadata": {},
     "output_type": "display_data"
    },
    {
     "name": "stdout",
     "output_type": "stream",
     "text": [
      "Restored state: {'iteration': 5}\n",
      "Loop iteration 6\n",
      "032452e9-1886-449d-9c13-0f192572e19f_SWC_053\n",
      "best_results_whisker_me_SWC_053032452e9-1886-449d-9c13-0f192572e19f\n",
      "Fitting mouse SWC_053\n"
     ]
    },
    {
     "data": {
      "application/javascript": "Jupyter.notebook.kernel.restart()",
      "text/plain": [
       "<IPython.core.display.Javascript object>"
      ]
     },
     "metadata": {},
     "output_type": "display_data"
    },
    {
     "name": "stdout",
     "output_type": "stream",
     "text": [
      "Restored state: {'iteration': 6}\n",
      "Loop iteration 7\n",
      "28741f91-c837-4147-939e-918d38d849f2_CSHL058\n",
      "best_results_whisker_me_CSHL05828741f91-c837-4147-939e-918d38d849f2\n",
      "Fitting mouse CSHL058\n"
     ]
    },
    {
     "data": {
      "application/javascript": "Jupyter.notebook.kernel.restart()",
      "text/plain": [
       "<IPython.core.display.Javascript object>"
      ]
     },
     "metadata": {},
     "output_type": "display_data"
    },
    {
     "name": "stdout",
     "output_type": "stream",
     "text": [
      "Restored state: {'iteration': 7}\n",
      "Loop iteration 8\n",
      "2c44a360-5a56-4971-8009-f469fb59de98_ZFM-01936\n",
      "best_results_whisker_me_ZFM-019362c44a360-5a56-4971-8009-f469fb59de98\n",
      "Fitting mouse ZFM-01936\n"
     ]
    },
    {
     "data": {
      "application/javascript": "Jupyter.notebook.kernel.restart()",
      "text/plain": [
       "<IPython.core.display.Javascript object>"
      ]
     },
     "metadata": {},
     "output_type": "display_data"
    },
    {
     "name": "stdout",
     "output_type": "stream",
     "text": [
      "Restored state: {'iteration': 8}\n",
      "Loop iteration 9\n",
      "9fe512b8-92a8-4642-83b6-01158ab66c3c_DY_020\n",
      "best_results_whisker_me_DY_0209fe512b8-92a8-4642-83b6-01158ab66c3c\n",
      "Fitting mouse DY_020\n"
     ]
    },
    {
     "data": {
      "application/javascript": "Jupyter.notebook.kernel.restart()",
      "text/plain": [
       "<IPython.core.display.Javascript object>"
      ]
     },
     "metadata": {},
     "output_type": "display_data"
    },
    {
     "name": "stdout",
     "output_type": "stream",
     "text": [
      "Restored state: {'iteration': 9}\n",
      "Loop iteration 10\n",
      "c6db3304-c906-400c-aa0f-45dd3945b2ea_SWC_043\n",
      "best_results_whisker_me_SWC_043c6db3304-c906-400c-aa0f-45dd3945b2ea\n",
      "Fitting mouse SWC_043\n"
     ]
    },
    {
     "data": {
      "application/javascript": "Jupyter.notebook.kernel.restart()",
      "text/plain": [
       "<IPython.core.display.Javascript object>"
      ]
     },
     "metadata": {},
     "output_type": "display_data"
    },
    {
     "name": "stdout",
     "output_type": "stream",
     "text": [
      "Restored state: {'iteration': 10}\n",
      "Loop iteration 11\n",
      "3537d970-f515-4786-853f-23de525e110f_UCLA034\n",
      "best_results_whisker_me_UCLA0343537d970-f515-4786-853f-23de525e110f\n",
      "Fitting mouse UCLA034\n"
     ]
    },
    {
     "data": {
      "application/javascript": "Jupyter.notebook.kernel.restart()",
      "text/plain": [
       "<IPython.core.display.Javascript object>"
      ]
     },
     "metadata": {},
     "output_type": "display_data"
    },
    {
     "name": "stdout",
     "output_type": "stream",
     "text": [
      "Restored state: {'iteration': 11}\n",
      "Loop iteration 12\n",
      "75b6b132-d998-4fba-8482-961418ac957d_SWC_053\n",
      "best_results_whisker_me_SWC_05375b6b132-d998-4fba-8482-961418ac957d\n",
      "Fitting mouse SWC_053\n"
     ]
    },
    {
     "data": {
      "application/javascript": "Jupyter.notebook.kernel.restart()",
      "text/plain": [
       "<IPython.core.display.Javascript object>"
      ]
     },
     "metadata": {},
     "output_type": "display_data"
    },
    {
     "name": "stdout",
     "output_type": "stream",
     "text": [
      "Restored state: {'iteration': 12}\n",
      "Loop iteration 13\n",
      "a4a74102-2af5-45dc-9e41-ef7f5aed88be_ZFM-02368\n",
      "best_results_whisker_me_ZFM-02368a4a74102-2af5-45dc-9e41-ef7f5aed88be\n",
      "Fitting mouse ZFM-02368\n"
     ]
    },
    {
     "data": {
      "application/javascript": "Jupyter.notebook.kernel.restart()",
      "text/plain": [
       "<IPython.core.display.Javascript object>"
      ]
     },
     "metadata": {},
     "output_type": "display_data"
    },
    {
     "name": "stdout",
     "output_type": "stream",
     "text": [
      "Restored state: {'iteration': 13}\n",
      "Loop iteration 14\n",
      "88d24c31-52e4-49cc-9f32-6adbeb9eba87_SWC_043\n",
      "best_results_whisker_me_SWC_04388d24c31-52e4-49cc-9f32-6adbeb9eba87\n",
      "Fitting mouse SWC_043\n"
     ]
    },
    {
     "data": {
      "application/javascript": "Jupyter.notebook.kernel.restart()",
      "text/plain": [
       "<IPython.core.display.Javascript object>"
      ]
     },
     "metadata": {},
     "output_type": "display_data"
    },
    {
     "name": "stdout",
     "output_type": "stream",
     "text": [
      "Restored state: {'iteration': 14}\n",
      "Loop iteration 15\n",
      "f7335a49-4a98-46d2-a8ce-d041d2eac1d6_DY_020\n",
      "best_results_whisker_me_DY_020f7335a49-4a98-46d2-a8ce-d041d2eac1d6\n",
      "Fitting mouse DY_020\n"
     ]
    },
    {
     "data": {
      "application/javascript": "Jupyter.notebook.kernel.restart()",
      "text/plain": [
       "<IPython.core.display.Javascript object>"
      ]
     },
     "metadata": {},
     "output_type": "display_data"
    },
    {
     "name": "stdout",
     "output_type": "stream",
     "text": [
      "Restored state: {'iteration': 15}\n",
      "Loop iteration 16\n",
      "54238fd6-d2d0-4408-b1a9-d19d24fd29ce_DY_018\n",
      "best_results_whisker_me_DY_01854238fd6-d2d0-4408-b1a9-d19d24fd29ce\n",
      "Fitting mouse DY_018\n"
     ]
    },
    {
     "data": {
      "application/javascript": "Jupyter.notebook.kernel.restart()",
      "text/plain": [
       "<IPython.core.display.Javascript object>"
      ]
     },
     "metadata": {},
     "output_type": "display_data"
    },
    {
     "name": "stdout",
     "output_type": "stream",
     "text": [
      "Restored state: {'iteration': 16}\n",
      "Loop iteration 17\n",
      "fb70ebf7-8175-42b0-9b7a-7c6e8612226e_CSHL058\n",
      "best_results_whisker_me_CSHL058fb70ebf7-8175-42b0-9b7a-7c6e8612226e\n",
      "Fitting mouse CSHL058\n"
     ]
    },
    {
     "data": {
      "application/javascript": "Jupyter.notebook.kernel.restart()",
      "text/plain": [
       "<IPython.core.display.Javascript object>"
      ]
     },
     "metadata": {},
     "output_type": "display_data"
    },
    {
     "name": "stdout",
     "output_type": "stream",
     "text": [
      "Restored state: {'iteration': 17}\n",
      "Loop iteration 18\n",
      "91796ceb-e314-4859-9a1f-092f85cc846a_SWC_054\n",
      "best_results_whisker_me_SWC_05491796ceb-e314-4859-9a1f-092f85cc846a\n",
      "Fitting mouse SWC_054\n"
     ]
    },
    {
     "data": {
      "application/javascript": "Jupyter.notebook.kernel.restart()",
      "text/plain": [
       "<IPython.core.display.Javascript object>"
      ]
     },
     "metadata": {},
     "output_type": "display_data"
    },
    {
     "name": "stdout",
     "output_type": "stream",
     "text": [
      "Restored state: {'iteration': 18}\n",
      "Loop iteration 19\n",
      "63f3dbc1-1a5f-44e5-98dd-ce25cd2b7871_ZFM-01577\n",
      "best_results_whisker_me_ZFM-0157763f3dbc1-1a5f-44e5-98dd-ce25cd2b7871\n",
      "Fitting mouse ZFM-01577\n"
     ]
    },
    {
     "data": {
      "application/javascript": "Jupyter.notebook.kernel.restart()",
      "text/plain": [
       "<IPython.core.display.Javascript object>"
      ]
     },
     "metadata": {},
     "output_type": "display_data"
    },
    {
     "name": "stdout",
     "output_type": "stream",
     "text": [
      "Restored state: {'iteration': 19}\n",
      "Loop iteration 20\n",
      "746d1902-fa59-4cab-b0aa-013be36060d5_ZFM-01592\n",
      "best_results_whisker_me_ZFM-01592746d1902-fa59-4cab-b0aa-013be36060d5\n",
      "Fitting mouse ZFM-01592\n"
     ]
    },
    {
     "data": {
      "application/javascript": "Jupyter.notebook.kernel.restart()",
      "text/plain": [
       "<IPython.core.display.Javascript object>"
      ]
     },
     "metadata": {},
     "output_type": "display_data"
    },
    {
     "name": "stdout",
     "output_type": "stream",
     "text": [
      "Restored state: {'iteration': 20}\n",
      "Loop iteration 21\n",
      "46794e05-3f6a-4d35-afb3-9165091a5a74_CSHL045\n",
      "best_results_whisker_me_CSHL04546794e05-3f6a-4d35-afb3-9165091a5a74\n",
      "Fitting mouse CSHL045\n"
     ]
    },
    {
     "data": {
      "application/javascript": "Jupyter.notebook.kernel.restart()",
      "text/plain": [
       "<IPython.core.display.Javascript object>"
      ]
     },
     "metadata": {},
     "output_type": "display_data"
    },
    {
     "name": "stdout",
     "output_type": "stream",
     "text": [
      "Restored state: {'iteration': 21}\n",
      "Loop iteration 22\n",
      "f9860a11-24d3-452e-ab95-39e199f20a93_SWC_042\n",
      "best_results_whisker_me_SWC_042f9860a11-24d3-452e-ab95-39e199f20a93\n",
      "Fitting mouse SWC_042\n"
     ]
    },
    {
     "data": {
      "application/javascript": "Jupyter.notebook.kernel.restart()",
      "text/plain": [
       "<IPython.core.display.Javascript object>"
      ]
     },
     "metadata": {},
     "output_type": "display_data"
    },
    {
     "name": "stdout",
     "output_type": "stream",
     "text": [
      "Restored state: {'iteration': 22}\n",
      "Loop iteration 23\n",
      "810b1e07-009e-4ebe-930a-915e4cd8ece4_CSHL053\n",
      "best_results_whisker_me_CSHL053810b1e07-009e-4ebe-930a-915e4cd8ece4\n",
      "Fitting mouse CSHL053\n"
     ]
    },
    {
     "data": {
      "application/javascript": "Jupyter.notebook.kernel.restart()",
      "text/plain": [
       "<IPython.core.display.Javascript object>"
      ]
     },
     "metadata": {},
     "output_type": "display_data"
    },
    {
     "name": "stdout",
     "output_type": "stream",
     "text": [
      "Restored state: {'iteration': 23}\n",
      "Loop iteration 24\n",
      "bb099402-fb31-4cfd-824e-1c97530a0875_UCLA017\n",
      "best_results_whisker_me_UCLA017bb099402-fb31-4cfd-824e-1c97530a0875\n",
      "Fitting mouse UCLA017\n"
     ]
    },
    {
     "data": {
      "application/javascript": "Jupyter.notebook.kernel.restart()",
      "text/plain": [
       "<IPython.core.display.Javascript object>"
      ]
     },
     "metadata": {},
     "output_type": "display_data"
    },
    {
     "name": "stdout",
     "output_type": "stream",
     "text": [
      "Restored state: {'iteration': 24}\n",
      "Loop iteration 25\n",
      "a66f1593-dafd-4982-9b66-f9554b6c86b5_CSH_ZAD_022\n",
      "best_results_whisker_me_CSH_ZAD_022a66f1593-dafd-4982-9b66-f9554b6c86b5\n",
      "Fitting mouse CSH_ZAD_022\n"
     ]
    },
    {
     "data": {
      "application/javascript": "Jupyter.notebook.kernel.restart()",
      "text/plain": [
       "<IPython.core.display.Javascript object>"
      ]
     },
     "metadata": {},
     "output_type": "display_data"
    },
    {
     "name": "stdout",
     "output_type": "stream",
     "text": [
      "Restored state: {'iteration': 25}\n",
      "Loop iteration 26\n",
      "56b57c38-2699-4091-90a8-aba35103155e_SWC_054\n",
      "best_results_whisker_me_SWC_05456b57c38-2699-4091-90a8-aba35103155e\n",
      "Fitting mouse SWC_054\n"
     ]
    },
    {
     "data": {
      "application/javascript": "Jupyter.notebook.kernel.restart()",
      "text/plain": [
       "<IPython.core.display.Javascript object>"
      ]
     },
     "metadata": {},
     "output_type": "display_data"
    },
    {
     "name": "stdout",
     "output_type": "stream",
     "text": [
      "Restored state: {'iteration': 26}\n",
      "Loop iteration 27\n",
      "113c5b6c-940e-4b21-b462-789b4c2be0e5_ZFM-01937\n",
      "best_results_whisker_me_ZFM-01937113c5b6c-940e-4b21-b462-789b4c2be0e5\n",
      "Fitting mouse ZFM-01937\n"
     ]
    },
    {
     "data": {
      "application/javascript": "Jupyter.notebook.kernel.restart()",
      "text/plain": [
       "<IPython.core.display.Javascript object>"
      ]
     },
     "metadata": {},
     "output_type": "display_data"
    },
    {
     "name": "stdout",
     "output_type": "stream",
     "text": [
      "Restored state: {'iteration': 27}\n",
      "Loop iteration 28\n",
      "5386aba9-9b97-4557-abcd-abc2da66b863_CSHL052\n",
      "best_results_whisker_me_CSHL0525386aba9-9b97-4557-abcd-abc2da66b863\n",
      "Fitting mouse CSHL052\n"
     ]
    },
    {
     "data": {
      "application/javascript": "Jupyter.notebook.kernel.restart()",
      "text/plain": [
       "<IPython.core.display.Javascript object>"
      ]
     },
     "metadata": {},
     "output_type": "display_data"
    },
    {
     "name": "stdout",
     "output_type": "stream",
     "text": [
      "Restored state: {'iteration': 28}\n",
      "Loop iteration 29\n",
      "d7e60cc3-6020-429e-a654-636c6cc677ea_SWC_061\n",
      "best_results_whisker_me_SWC_061d7e60cc3-6020-429e-a654-636c6cc677ea\n",
      "Fitting mouse SWC_061\n"
     ]
    },
    {
     "data": {
      "application/javascript": "Jupyter.notebook.kernel.restart()",
      "text/plain": [
       "<IPython.core.display.Javascript object>"
      ]
     },
     "metadata": {},
     "output_type": "display_data"
    },
    {
     "name": "stdout",
     "output_type": "stream",
     "text": [
      "Restored state: {'iteration': 29}\n",
      "Loop iteration 30\n",
      "2e22c1fc-eec6-4856-85a0-7dba8668f646_DY_020\n",
      "best_results_whisker_me_DY_0202e22c1fc-eec6-4856-85a0-7dba8668f646\n",
      "Fitting mouse DY_020\n"
     ]
    },
    {
     "data": {
      "application/javascript": "Jupyter.notebook.kernel.restart()",
      "text/plain": [
       "<IPython.core.display.Javascript object>"
      ]
     },
     "metadata": {},
     "output_type": "display_data"
    },
    {
     "name": "stdout",
     "output_type": "stream",
     "text": [
      "Restored state: {'iteration': 30}\n",
      "Loop iteration 31\n",
      "73918ae1-e4fd-4c18-b132-00cb555b1ad2_ibl_witten_27\n",
      "best_results_whisker_me_ibl_witten_2773918ae1-e4fd-4c18-b132-00cb555b1ad2\n",
      "Fitting mouse ibl_witten_27\n"
     ]
    },
    {
     "data": {
      "application/javascript": "Jupyter.notebook.kernel.restart()",
      "text/plain": [
       "<IPython.core.display.Javascript object>"
      ]
     },
     "metadata": {},
     "output_type": "display_data"
    },
    {
     "name": "stdout",
     "output_type": "stream",
     "text": [
      "Restored state: {'iteration': 31}\n",
      "Loop iteration 32\n",
      "9eec761e-9762-4897-b308-a3a08c311e69_DY_020\n",
      "best_results_whisker_me_DY_0209eec761e-9762-4897-b308-a3a08c311e69\n",
      "Fitting mouse DY_020\n"
     ]
    },
    {
     "data": {
      "application/javascript": "Jupyter.notebook.kernel.restart()",
      "text/plain": [
       "<IPython.core.display.Javascript object>"
      ]
     },
     "metadata": {},
     "output_type": "display_data"
    },
    {
     "name": "stdout",
     "output_type": "stream",
     "text": [
      "Restored state: {'iteration': 32}\n",
      "Loop iteration 33\n",
      "8a3a0197-b40a-449f-be55-c00b23253bbf_UCLA034\n",
      "best_results_whisker_me_UCLA0348a3a0197-b40a-449f-be55-c00b23253bbf\n",
      "Fitting mouse UCLA034\n"
     ]
    },
    {
     "data": {
      "application/javascript": "Jupyter.notebook.kernel.restart()",
      "text/plain": [
       "<IPython.core.display.Javascript object>"
      ]
     },
     "metadata": {},
     "output_type": "display_data"
    },
    {
     "name": "stdout",
     "output_type": "stream",
     "text": [
      "Restored state: {'iteration': 33}\n",
      "Loop iteration 34\n",
      "e2b845a1-e313-4a08-bc61-a5f662ed295e_UCLA036\n",
      "best_results_whisker_me_UCLA036e2b845a1-e313-4a08-bc61-a5f662ed295e\n",
      "Fitting mouse UCLA036\n"
     ]
    },
    {
     "data": {
      "application/javascript": "Jupyter.notebook.kernel.restart()",
      "text/plain": [
       "<IPython.core.display.Javascript object>"
      ]
     },
     "metadata": {},
     "output_type": "display_data"
    },
    {
     "name": "stdout",
     "output_type": "stream",
     "text": [
      "Restored state: {'iteration': 34}\n",
      "Loop iteration 35\n",
      "71e03be6-b497-4991-a121-9416dcc1a6e7_ZFM-01935\n",
      "best_results_whisker_me_ZFM-0193571e03be6-b497-4991-a121-9416dcc1a6e7\n",
      "Fitting mouse ZFM-01935\n"
     ]
    },
    {
     "data": {
      "application/javascript": "Jupyter.notebook.kernel.restart()",
      "text/plain": [
       "<IPython.core.display.Javascript object>"
      ]
     },
     "metadata": {},
     "output_type": "display_data"
    },
    {
     "name": "stdout",
     "output_type": "stream",
     "text": [
      "Restored state: {'iteration': 35}\n",
      "Loop iteration 36\n",
      "5339812f-8b91-40ba-9d8f-a559563cc46b_DY_016\n",
      "best_results_whisker_me_DY_0165339812f-8b91-40ba-9d8f-a559563cc46b\n",
      "Fitting mouse DY_016\n"
     ]
    },
    {
     "data": {
      "application/javascript": "Jupyter.notebook.kernel.restart()",
      "text/plain": [
       "<IPython.core.display.Javascript object>"
      ]
     },
     "metadata": {},
     "output_type": "display_data"
    },
    {
     "name": "stdout",
     "output_type": "stream",
     "text": [
      "Restored state: {'iteration': 36}\n",
      "Loop iteration 37\n",
      "3e6a97d3-3991-49e2-b346-6948cb4580fb_NR_0020\n",
      "best_results_whisker_me_NR_00203e6a97d3-3991-49e2-b346-6948cb4580fb\n",
      "Fitting mouse NR_0020\n"
     ]
    },
    {
     "data": {
      "application/javascript": "Jupyter.notebook.kernel.restart()",
      "text/plain": [
       "<IPython.core.display.Javascript object>"
      ]
     },
     "metadata": {},
     "output_type": "display_data"
    },
    {
     "name": "stdout",
     "output_type": "stream",
     "text": [
      "Restored state: {'iteration': 37}\n",
      "Loop iteration 38\n",
      "45ef6691-7b80-4a43-bd1a-85fc00851ae8_SWC_052\n",
      "best_results_whisker_me_SWC_05245ef6691-7b80-4a43-bd1a-85fc00851ae8\n",
      "Fitting mouse SWC_052\n"
     ]
    },
    {
     "data": {
      "application/javascript": "Jupyter.notebook.kernel.restart()",
      "text/plain": [
       "<IPython.core.display.Javascript object>"
      ]
     },
     "metadata": {},
     "output_type": "display_data"
    },
    {
     "name": "stdout",
     "output_type": "stream",
     "text": [
      "Restored state: {'iteration': 38}\n",
      "Loop iteration 39\n",
      "6ed57216-498d-48a6-b48b-a243a34710ea_NYU-39\n",
      "best_results_whisker_me_NYU-396ed57216-498d-48a6-b48b-a243a34710ea\n",
      "Fitting mouse NYU-39\n"
     ]
    },
    {
     "data": {
      "application/javascript": "Jupyter.notebook.kernel.restart()",
      "text/plain": [
       "<IPython.core.display.Javascript object>"
      ]
     },
     "metadata": {},
     "output_type": "display_data"
    },
    {
     "name": "stdout",
     "output_type": "stream",
     "text": [
      "Restored state: {'iteration': 39}\n",
      "Loop iteration 40\n",
      "6bb5da8f-6858-4fdd-96d9-c34b3b841593_SWC_054\n",
      "best_results_whisker_me_SWC_0546bb5da8f-6858-4fdd-96d9-c34b3b841593\n",
      "Fitting mouse SWC_054\n"
     ]
    },
    {
     "data": {
      "application/javascript": "Jupyter.notebook.kernel.restart()",
      "text/plain": [
       "<IPython.core.display.Javascript object>"
      ]
     },
     "metadata": {},
     "output_type": "display_data"
    },
    {
     "name": "stdout",
     "output_type": "stream",
     "text": [
      "Restored state: {'iteration': 40}\n",
      "Loop iteration 41\n",
      "bda2faf5-9563-4940-a80f-ce444259e47b_UCLA037\n",
      "best_results_whisker_me_UCLA037bda2faf5-9563-4940-a80f-ce444259e47b\n",
      "Fitting mouse UCLA037\n"
     ]
    },
    {
     "data": {
      "application/javascript": "Jupyter.notebook.kernel.restart()",
      "text/plain": [
       "<IPython.core.display.Javascript object>"
      ]
     },
     "metadata": {},
     "output_type": "display_data"
    },
    {
     "name": "stdout",
     "output_type": "stream",
     "text": [
      "Restored state: {'iteration': 41}\n",
      "Loop iteration 42\n",
      "280ee768-f7b8-4c6c-9ea0-48ca75d6b6f3_CSH_ZAD_025\n",
      "best_results_whisker_me_CSH_ZAD_025280ee768-f7b8-4c6c-9ea0-48ca75d6b6f3\n",
      "Fitting mouse CSH_ZAD_025\n"
     ]
    },
    {
     "data": {
      "application/javascript": "Jupyter.notebook.kernel.restart()",
      "text/plain": [
       "<IPython.core.display.Javascript object>"
      ]
     },
     "metadata": {},
     "output_type": "display_data"
    },
    {
     "name": "stdout",
     "output_type": "stream",
     "text": [
      "Restored state: {'iteration': 42}\n",
      "Loop iteration 43\n",
      "6b0b5d24-bcda-4053-a59c-beaa1fe03b8f_KS094\n",
      "best_results_whisker_me_KS0946b0b5d24-bcda-4053-a59c-beaa1fe03b8f\n",
      "Fitting mouse KS094\n"
     ]
    },
    {
     "data": {
      "application/javascript": "Jupyter.notebook.kernel.restart()",
      "text/plain": [
       "<IPython.core.display.Javascript object>"
      ]
     },
     "metadata": {},
     "output_type": "display_data"
    },
    {
     "name": "stdout",
     "output_type": "stream",
     "text": [
      "Restored state: {'iteration': 43}\n",
      "Loop iteration 44\n",
      "0deb75fb-9088-42d9-b744-012fb8fc4afb_CSHL053\n",
      "best_results_whisker_me_CSHL0530deb75fb-9088-42d9-b744-012fb8fc4afb\n",
      "Fitting mouse CSHL053\n"
     ]
    },
    {
     "data": {
      "application/javascript": "Jupyter.notebook.kernel.restart()",
      "text/plain": [
       "<IPython.core.display.Javascript object>"
      ]
     },
     "metadata": {},
     "output_type": "display_data"
    },
    {
     "name": "stdout",
     "output_type": "stream",
     "text": [
      "Restored state: {'iteration': 44}\n",
      "Loop iteration 45\n",
      "7939711b-8b4d-4251-b698-b97c1eaa846e_CSHL045\n",
      "best_results_whisker_me_CSHL0457939711b-8b4d-4251-b698-b97c1eaa846e\n",
      "Fitting mouse CSHL045\n"
     ]
    },
    {
     "data": {
      "application/javascript": "Jupyter.notebook.kernel.restart()",
      "text/plain": [
       "<IPython.core.display.Javascript object>"
      ]
     },
     "metadata": {},
     "output_type": "display_data"
    },
    {
     "name": "stdout",
     "output_type": "stream",
     "text": [
      "Restored state: {'iteration': 45}\n",
      "Loop iteration 46\n",
      "81a78eac-9d36-4f90-a73a-7eb3ad7f770b_CSH_ZAD_026\n",
      "best_results_whisker_me_CSH_ZAD_02681a78eac-9d36-4f90-a73a-7eb3ad7f770b\n",
      "Fitting mouse CSH_ZAD_026\n"
     ]
    },
    {
     "data": {
      "application/javascript": "Jupyter.notebook.kernel.restart()",
      "text/plain": [
       "<IPython.core.display.Javascript object>"
      ]
     },
     "metadata": {},
     "output_type": "display_data"
    },
    {
     "name": "stdout",
     "output_type": "stream",
     "text": [
      "Restored state: {'iteration': 46}\n",
      "Loop iteration 47\n",
      "86b6ba67-c1db-4333-add0-f8105ea6e363_ibl_witten_29\n",
      "best_results_whisker_me_ibl_witten_2986b6ba67-c1db-4333-add0-f8105ea6e363\n",
      "Fitting mouse ibl_witten_29\n"
     ]
    },
    {
     "data": {
      "application/javascript": "Jupyter.notebook.kernel.restart()",
      "text/plain": [
       "<IPython.core.display.Javascript object>"
      ]
     },
     "metadata": {},
     "output_type": "display_data"
    },
    {
     "name": "stdout",
     "output_type": "stream",
     "text": [
      "Restored state: {'iteration': 47}\n",
      "Loop iteration 48\n",
      "90d1e82c-c96f-496c-ad4e-ee3f02067f25_DY_010\n",
      "best_results_whisker_me_DY_01090d1e82c-c96f-496c-ad4e-ee3f02067f25\n",
      "Fitting mouse DY_010\n"
     ]
    },
    {
     "data": {
      "application/javascript": "Jupyter.notebook.kernel.restart()",
      "text/plain": [
       "<IPython.core.display.Javascript object>"
      ]
     },
     "metadata": {},
     "output_type": "display_data"
    },
    {
     "name": "stdout",
     "output_type": "stream",
     "text": [
      "Restored state: {'iteration': 48}\n",
      "Loop iteration 49\n",
      "15948667-747b-4702-9d53-354ac70e9119_NYU-47\n",
      "best_results_whisker_me_NYU-4715948667-747b-4702-9d53-354ac70e9119\n",
      "Fitting mouse NYU-47\n"
     ]
    },
    {
     "data": {
      "application/javascript": "Jupyter.notebook.kernel.restart()",
      "text/plain": [
       "<IPython.core.display.Javascript object>"
      ]
     },
     "metadata": {},
     "output_type": "display_data"
    },
    {
     "name": "stdout",
     "output_type": "stream",
     "text": [
      "Restored state: {'iteration': 49}\n",
      "Loop iteration 50\n",
      "d0c91c3c-8cbb-4929-8657-31f18bffc294_ZFM-02370\n",
      "best_results_whisker_me_ZFM-02370d0c91c3c-8cbb-4929-8657-31f18bffc294\n",
      "Fitting mouse ZFM-02370\n"
     ]
    },
    {
     "data": {
      "application/javascript": "Jupyter.notebook.kernel.restart()",
      "text/plain": [
       "<IPython.core.display.Javascript object>"
      ]
     },
     "metadata": {},
     "output_type": "display_data"
    },
    {
     "name": "stdout",
     "output_type": "stream",
     "text": [
      "Restored state: {'iteration': 50}\n",
      "Loop iteration 51\n",
      "3f6e25ae-c007-4dc3-aa77-450fd5705046_ZFM-01936\n",
      "best_results_whisker_me_ZFM-019363f6e25ae-c007-4dc3-aa77-450fd5705046\n",
      "Fitting mouse ZFM-01936\n"
     ]
    },
    {
     "data": {
      "application/javascript": "Jupyter.notebook.kernel.restart()",
      "text/plain": [
       "<IPython.core.display.Javascript object>"
      ]
     },
     "metadata": {},
     "output_type": "display_data"
    },
    {
     "name": "stdout",
     "output_type": "stream",
     "text": [
      "Restored state: {'iteration': 51}\n",
      "Loop iteration 52\n",
      "948fd27b-507b-41b3-bdf8-f9f5f0af8e0b_DY_020\n",
      "best_results_whisker_me_DY_020948fd27b-507b-41b3-bdf8-f9f5f0af8e0b\n",
      "Fitting mouse DY_020\n"
     ]
    },
    {
     "data": {
      "application/javascript": "Jupyter.notebook.kernel.restart()",
      "text/plain": [
       "<IPython.core.display.Javascript object>"
      ]
     },
     "metadata": {},
     "output_type": "display_data"
    },
    {
     "name": "stdout",
     "output_type": "stream",
     "text": [
      "Restored state: {'iteration': 52}\n",
      "Loop iteration 53\n",
      "f4ffb731-8349-4fe4-806e-0232a84e52dd_SWC_066\n",
      "best_results_whisker_me_SWC_066f4ffb731-8349-4fe4-806e-0232a84e52dd\n",
      "Fitting mouse SWC_066\n"
     ]
    },
    {
     "data": {
      "application/javascript": "Jupyter.notebook.kernel.restart()",
      "text/plain": [
       "<IPython.core.display.Javascript object>"
      ]
     },
     "metadata": {},
     "output_type": "display_data"
    },
    {
     "name": "stdout",
     "output_type": "stream",
     "text": [
      "Restored state: {'iteration': 53}\n",
      "Loop iteration 54\n",
      "1b715600-0cbc-442c-bd00-5b0ac2865de1_KS084\n",
      "best_results_whisker_me_KS0841b715600-0cbc-442c-bd00-5b0ac2865de1\n",
      "Fitting mouse KS084\n"
     ]
    },
    {
     "data": {
      "application/javascript": "Jupyter.notebook.kernel.restart()",
      "text/plain": [
       "<IPython.core.display.Javascript object>"
      ]
     },
     "metadata": {},
     "output_type": "display_data"
    },
    {
     "name": "stdout",
     "output_type": "stream",
     "text": [
      "Restored state: {'iteration': 54}\n",
      "Loop iteration 55\n",
      "cf43dbb1-6992-40ec-a5f9-e8e838d0f643_DY_011\n",
      "best_results_whisker_me_DY_011cf43dbb1-6992-40ec-a5f9-e8e838d0f643\n",
      "Fitting mouse DY_011\n"
     ]
    },
    {
     "data": {
      "application/javascript": "Jupyter.notebook.kernel.restart()",
      "text/plain": [
       "<IPython.core.display.Javascript object>"
      ]
     },
     "metadata": {},
     "output_type": "display_data"
    },
    {
     "name": "stdout",
     "output_type": "stream",
     "text": [
      "Restored state: {'iteration': 55}\n",
      "Loop iteration 56\n",
      "09156021-9a1d-4e1d-ae59-48cbde3c5d42_PL015\n",
      "best_results_whisker_me_PL01509156021-9a1d-4e1d-ae59-48cbde3c5d42\n",
      "Fitting mouse PL015\n"
     ]
    },
    {
     "data": {
      "application/javascript": "Jupyter.notebook.kernel.restart()",
      "text/plain": [
       "<IPython.core.display.Javascript object>"
      ]
     },
     "metadata": {},
     "output_type": "display_data"
    },
    {
     "name": "stdout",
     "output_type": "stream",
     "text": [
      "Restored state: {'iteration': 56}\n",
      "Loop iteration 57\n",
      "78b4fff5-c5ec-44d9-b5f9-d59493063f00_KS091\n",
      "best_results_whisker_me_KS09178b4fff5-c5ec-44d9-b5f9-d59493063f00\n",
      "Fitting mouse KS091\n"
     ]
    },
    {
     "data": {
      "application/javascript": "Jupyter.notebook.kernel.restart()",
      "text/plain": [
       "<IPython.core.display.Javascript object>"
      ]
     },
     "metadata": {},
     "output_type": "display_data"
    },
    {
     "name": "stdout",
     "output_type": "stream",
     "text": [
      "Restored state: {'iteration': 57}\n",
      "Loop iteration 58\n",
      "c557324b-b95d-414c-888f-6ee1329a2329_CSH_ZAD_025\n",
      "best_results_whisker_me_CSH_ZAD_025c557324b-b95d-414c-888f-6ee1329a2329\n",
      "Fitting mouse CSH_ZAD_025\n"
     ]
    },
    {
     "data": {
      "application/javascript": "Jupyter.notebook.kernel.restart()",
      "text/plain": [
       "<IPython.core.display.Javascript object>"
      ]
     },
     "metadata": {},
     "output_type": "display_data"
    },
    {
     "name": "stdout",
     "output_type": "stream",
     "text": [
      "Restored state: {'iteration': 58}\n",
      "Loop iteration 59\n",
      "875c1e5c-f7ec-45ac-ab82-ecfe7276a707_SWC_060\n",
      "best_results_whisker_me_SWC_060875c1e5c-f7ec-45ac-ab82-ecfe7276a707\n",
      "Fitting mouse SWC_060\n"
     ]
    },
    {
     "data": {
      "application/javascript": "Jupyter.notebook.kernel.restart()",
      "text/plain": [
       "<IPython.core.display.Javascript object>"
      ]
     },
     "metadata": {},
     "output_type": "display_data"
    },
    {
     "name": "stdout",
     "output_type": "stream",
     "text": [
      "Restored state: {'iteration': 59}\n",
      "Loop iteration 60\n",
      "19b44992-d527-4a12-8bda-aa11379cb08c_UCLA034\n",
      "best_results_whisker_me_UCLA03419b44992-d527-4a12-8bda-aa11379cb08c\n",
      "Fitting mouse UCLA034\n"
     ]
    },
    {
     "data": {
      "application/javascript": "Jupyter.notebook.kernel.restart()",
      "text/plain": [
       "<IPython.core.display.Javascript object>"
      ]
     },
     "metadata": {},
     "output_type": "display_data"
    },
    {
     "name": "stdout",
     "output_type": "stream",
     "text": [
      "Restored state: {'iteration': 60}\n",
      "Loop iteration 61\n",
      "c3d9b6fb-7fa9-4413-a364-92a54df0fc5d_DY_016\n",
      "best_results_whisker_me_DY_016c3d9b6fb-7fa9-4413-a364-92a54df0fc5d\n",
      "Fitting mouse DY_016\n"
     ]
    },
    {
     "data": {
      "application/javascript": "Jupyter.notebook.kernel.restart()",
      "text/plain": [
       "<IPython.core.display.Javascript object>"
      ]
     },
     "metadata": {},
     "output_type": "display_data"
    },
    {
     "name": "stdout",
     "output_type": "stream",
     "text": [
      "Restored state: {'iteration': 61}\n",
      "Loop iteration 62\n",
      "37e96d0b-5b4b-4c6e-9b29-7edbdc94bbd0_CSHL059\n",
      "best_results_whisker_me_CSHL05937e96d0b-5b4b-4c6e-9b29-7edbdc94bbd0\n",
      "Fitting mouse CSHL059\n"
     ]
    },
    {
     "data": {
      "application/javascript": "Jupyter.notebook.kernel.restart()",
      "text/plain": [
       "<IPython.core.display.Javascript object>"
      ]
     },
     "metadata": {},
     "output_type": "display_data"
    },
    {
     "name": "stdout",
     "output_type": "stream",
     "text": [
      "Restored state: {'iteration': 62}\n",
      "Loop iteration 63\n",
      "dac3a4c1-b666-4de0-87e8-8c514483cacf_SWC_060\n",
      "best_results_whisker_me_SWC_060dac3a4c1-b666-4de0-87e8-8c514483cacf\n",
      "Fitting mouse SWC_060\n"
     ]
    },
    {
     "data": {
      "application/javascript": "Jupyter.notebook.kernel.restart()",
      "text/plain": [
       "<IPython.core.display.Javascript object>"
      ]
     },
     "metadata": {},
     "output_type": "display_data"
    },
    {
     "name": "stdout",
     "output_type": "stream",
     "text": [
      "Restored state: {'iteration': 63}\n",
      "Loop iteration 64\n",
      "41431f53-69fd-4e3b-80ce-ea62e03bf9c7_CSH_ZAD_022\n",
      "best_results_whisker_me_CSH_ZAD_02241431f53-69fd-4e3b-80ce-ea62e03bf9c7\n",
      "Fitting mouse CSH_ZAD_022\n"
     ]
    },
    {
     "data": {
      "application/javascript": "Jupyter.notebook.kernel.restart()",
      "text/plain": [
       "<IPython.core.display.Javascript object>"
      ]
     },
     "metadata": {},
     "output_type": "display_data"
    },
    {
     "name": "stdout",
     "output_type": "stream",
     "text": [
      "Restored state: {'iteration': 64}\n",
      "Loop iteration 65\n",
      "3f859b5c-e73a-4044-b49e-34bb81e96715_KS094\n",
      "best_results_whisker_me_KS0943f859b5c-e73a-4044-b49e-34bb81e96715\n",
      "Fitting mouse KS094\n"
     ]
    },
    {
     "data": {
      "application/javascript": "Jupyter.notebook.kernel.restart()",
      "text/plain": [
       "<IPython.core.display.Javascript object>"
      ]
     },
     "metadata": {},
     "output_type": "display_data"
    },
    {
     "name": "stdout",
     "output_type": "stream",
     "text": [
      "Restored state: {'iteration': 65}\n",
      "Loop iteration 66\n",
      "88224abb-5746-431f-9c17-17d7ef806e6a_ZFM-02372\n",
      "best_results_whisker_me_ZFM-0237288224abb-5746-431f-9c17-17d7ef806e6a\n",
      "Fitting mouse ZFM-02372\n"
     ]
    },
    {
     "data": {
      "application/javascript": "Jupyter.notebook.kernel.restart()",
      "text/plain": [
       "<IPython.core.display.Javascript object>"
      ]
     },
     "metadata": {},
     "output_type": "display_data"
    },
    {
     "name": "stdout",
     "output_type": "stream",
     "text": [
      "Restored state: {'iteration': 66}\n",
      "Loop iteration 67\n",
      "8b1f4024-3d96-4ee7-95f9-8a1dfd4ce4ef_PL017\n",
      "best_results_whisker_me_PL0178b1f4024-3d96-4ee7-95f9-8a1dfd4ce4ef\n",
      "Fitting mouse PL017\n"
     ]
    },
    {
     "data": {
      "application/javascript": "Jupyter.notebook.kernel.restart()",
      "text/plain": [
       "<IPython.core.display.Javascript object>"
      ]
     },
     "metadata": {},
     "output_type": "display_data"
    },
    {
     "name": "stdout",
     "output_type": "stream",
     "text": [
      "Restored state: {'iteration': 67}\n",
      "Loop iteration 68\n",
      "fa8ad50d-76f2-45fa-a52f-08fe3d942345_UCLA037\n",
      "best_results_whisker_me_UCLA037fa8ad50d-76f2-45fa-a52f-08fe3d942345\n",
      "Fitting mouse UCLA037\n"
     ]
    },
    {
     "data": {
      "application/javascript": "Jupyter.notebook.kernel.restart()",
      "text/plain": [
       "<IPython.core.display.Javascript object>"
      ]
     },
     "metadata": {},
     "output_type": "display_data"
    },
    {
     "name": "stdout",
     "output_type": "stream",
     "text": [
      "Restored state: {'iteration': 68}\n",
      "Loop iteration 69\n",
      "bb6a5aae-2431-401d-8f6a-9fdd6de655a9_DY_010\n",
      "best_results_whisker_me_DY_010bb6a5aae-2431-401d-8f6a-9fdd6de655a9\n",
      "Fitting mouse DY_010\n"
     ]
    },
    {
     "data": {
      "application/javascript": "Jupyter.notebook.kernel.restart()",
      "text/plain": [
       "<IPython.core.display.Javascript object>"
      ]
     },
     "metadata": {},
     "output_type": "display_data"
    },
    {
     "name": "stdout",
     "output_type": "stream",
     "text": [
      "Restored state: {'iteration': 69}\n",
      "Loop iteration 70\n",
      "fa704052-147e-46f6-b190-a65b837e605e_CSHL045\n",
      "best_results_whisker_me_CSHL045fa704052-147e-46f6-b190-a65b837e605e\n",
      "Fitting mouse CSHL045\n"
     ]
    },
    {
     "data": {
      "application/javascript": "Jupyter.notebook.kernel.restart()",
      "text/plain": [
       "<IPython.core.display.Javascript object>"
      ]
     },
     "metadata": {},
     "output_type": "display_data"
    },
    {
     "name": "stdout",
     "output_type": "stream",
     "text": [
      "Restored state: {'iteration': 70}\n",
      "Loop iteration 71\n",
      "4aa1d525-5c7d-4c50-a147-ec53a9014812_ZFM-01936\n",
      "best_results_whisker_me_ZFM-019364aa1d525-5c7d-4c50-a147-ec53a9014812\n",
      "Fitting mouse ZFM-01936\n"
     ]
    },
    {
     "data": {
      "application/javascript": "Jupyter.notebook.kernel.restart()",
      "text/plain": [
       "<IPython.core.display.Javascript object>"
      ]
     },
     "metadata": {},
     "output_type": "display_data"
    },
    {
     "name": "stdout",
     "output_type": "stream",
     "text": [
      "Restored state: {'iteration': 71}\n",
      "Loop iteration 72\n",
      "fc43390d-457e-463a-9fd4-b94a0a8b48f5_NYU-47\n",
      "best_results_whisker_me_NYU-47fc43390d-457e-463a-9fd4-b94a0a8b48f5\n",
      "Fitting mouse NYU-47\n"
     ]
    },
    {
     "data": {
      "application/javascript": "Jupyter.notebook.kernel.restart()",
      "text/plain": [
       "<IPython.core.display.Javascript object>"
      ]
     },
     "metadata": {},
     "output_type": "display_data"
    },
    {
     "name": "stdout",
     "output_type": "stream",
     "text": [
      "Restored state: {'iteration': 72}\n",
      "Loop iteration 73\n",
      "58b1e920-cfc8-467e-b28b-7654a55d0977_ibl_witten_29\n",
      "best_results_whisker_me_ibl_witten_2958b1e920-cfc8-467e-b28b-7654a55d0977\n",
      "Fitting mouse ibl_witten_29\n"
     ]
    },
    {
     "data": {
      "application/javascript": "Jupyter.notebook.kernel.restart()",
      "text/plain": [
       "<IPython.core.display.Javascript object>"
      ]
     },
     "metadata": {},
     "output_type": "display_data"
    },
    {
     "name": "stdout",
     "output_type": "stream",
     "text": [
      "Restored state: {'iteration': 73}\n",
      "Loop iteration 74\n",
      "1f095590-6669-46c9-986b-ccaf0620c5e9_UCLA012\n",
      "best_results_whisker_me_UCLA0121f095590-6669-46c9-986b-ccaf0620c5e9\n",
      "Fitting mouse UCLA012\n"
     ]
    },
    {
     "data": {
      "application/javascript": "Jupyter.notebook.kernel.restart()",
      "text/plain": [
       "<IPython.core.display.Javascript object>"
      ]
     },
     "metadata": {},
     "output_type": "display_data"
    },
    {
     "name": "stdout",
     "output_type": "stream",
     "text": [
      "Restored state: {'iteration': 74}\n",
      "Loop iteration 75\n",
      "a71175be-d1fd-47a3-aa93-b830ea3634a1_CSHL054\n",
      "best_results_whisker_me_CSHL054a71175be-d1fd-47a3-aa93-b830ea3634a1\n",
      "Fitting mouse CSHL054\n"
     ]
    },
    {
     "data": {
      "application/javascript": "Jupyter.notebook.kernel.restart()",
      "text/plain": [
       "<IPython.core.display.Javascript object>"
      ]
     },
     "metadata": {},
     "output_type": "display_data"
    },
    {
     "name": "stdout",
     "output_type": "stream",
     "text": [
      "Restored state: {'iteration': 75}\n",
      "Loop iteration 76\n",
      "ecb5520d-1358-434c-95ec-93687ecd1396_CSHL051\n",
      "best_results_whisker_me_CSHL051ecb5520d-1358-434c-95ec-93687ecd1396\n",
      "Fitting mouse CSHL051\n"
     ]
    },
    {
     "data": {
      "application/javascript": "Jupyter.notebook.kernel.restart()",
      "text/plain": [
       "<IPython.core.display.Javascript object>"
      ]
     },
     "metadata": {},
     "output_type": "display_data"
    },
    {
     "name": "stdout",
     "output_type": "stream",
     "text": [
      "Restored state: {'iteration': 76}\n",
      "Loop iteration 77\n",
      "9b5a1754-ac99-4d53-97d3-35c2f6638507_ZFM-01936\n",
      "best_results_whisker_me_ZFM-019369b5a1754-ac99-4d53-97d3-35c2f6638507\n",
      "Fitting mouse ZFM-01936\n"
     ]
    },
    {
     "data": {
      "application/javascript": "Jupyter.notebook.kernel.restart()",
      "text/plain": [
       "<IPython.core.display.Javascript object>"
      ]
     },
     "metadata": {},
     "output_type": "display_data"
    },
    {
     "name": "stdout",
     "output_type": "stream",
     "text": [
      "Restored state: {'iteration': 77}\n",
      "Loop iteration 78\n",
      "e535fb62-e245-4a48-b119-88ce62a6fe67_DY_013\n",
      "best_results_whisker_me_DY_013e535fb62-e245-4a48-b119-88ce62a6fe67\n",
      "Fitting mouse DY_013\n"
     ]
    },
    {
     "data": {
      "application/javascript": "Jupyter.notebook.kernel.restart()",
      "text/plain": [
       "<IPython.core.display.Javascript object>"
      ]
     },
     "metadata": {},
     "output_type": "display_data"
    },
    {
     "name": "stdout",
     "output_type": "stream",
     "text": [
      "Restored state: {'iteration': 78}\n",
      "Loop iteration 79\n",
      "f304211a-81b1-446f-a435-25e589fe3a5a_ibl_witten_27\n",
      "best_results_whisker_me_ibl_witten_27f304211a-81b1-446f-a435-25e589fe3a5a\n",
      "Fitting mouse ibl_witten_27\n"
     ]
    },
    {
     "data": {
      "application/javascript": "Jupyter.notebook.kernel.restart()",
      "text/plain": [
       "<IPython.core.display.Javascript object>"
      ]
     },
     "metadata": {},
     "output_type": "display_data"
    },
    {
     "name": "stdout",
     "output_type": "stream",
     "text": [
      "Restored state: {'iteration': 79}\n",
      "Loop iteration 80\n",
      "ff48aa1d-ef30-4903-ac34-8c41b738c1b9_CSH_ZAD_025\n",
      "best_results_whisker_me_CSH_ZAD_025ff48aa1d-ef30-4903-ac34-8c41b738c1b9\n",
      "Fitting mouse CSH_ZAD_025\n"
     ]
    },
    {
     "data": {
      "application/javascript": "Jupyter.notebook.kernel.restart()",
      "text/plain": [
       "<IPython.core.display.Javascript object>"
      ]
     },
     "metadata": {},
     "output_type": "display_data"
    },
    {
     "name": "stdout",
     "output_type": "stream",
     "text": [
      "Restored state: {'iteration': 80}\n",
      "Loop iteration 81\n",
      "7be8fec4-406b-4e74-8548-d2885dcc3d5e_CSHL060\n",
      "best_results_whisker_me_CSHL0607be8fec4-406b-4e74-8548-d2885dcc3d5e\n",
      "Fitting mouse CSHL060\n"
     ]
    },
    {
     "data": {
      "application/javascript": "Jupyter.notebook.kernel.restart()",
      "text/plain": [
       "<IPython.core.display.Javascript object>"
      ]
     },
     "metadata": {},
     "output_type": "display_data"
    },
    {
     "name": "stdout",
     "output_type": "stream",
     "text": [
      "Restored state: {'iteration': 81}\n",
      "Loop iteration 82\n",
      "446f4724-1690-49f9-819a-2bd8e2ea88ce_KS096\n",
      "best_results_whisker_me_KS096446f4724-1690-49f9-819a-2bd8e2ea88ce\n",
      "Fitting mouse KS096\n"
     ]
    },
    {
     "data": {
      "application/javascript": "Jupyter.notebook.kernel.restart()",
      "text/plain": [
       "<IPython.core.display.Javascript object>"
      ]
     },
     "metadata": {},
     "output_type": "display_data"
    },
    {
     "name": "stdout",
     "output_type": "stream",
     "text": [
      "Restored state: {'iteration': 82}\n",
      "Loop iteration 83\n",
      "768a371d-7e88-47f8-bf21-4a6a6570dd6e_SWC_039\n",
      "best_results_whisker_me_SWC_039768a371d-7e88-47f8-bf21-4a6a6570dd6e\n",
      "Fitting mouse SWC_039\n"
     ]
    },
    {
     "ename": "KeyboardInterrupt",
     "evalue": "",
     "output_type": "error",
     "traceback": [
      "\u001b[0;31m---------------------------------------------------------------------------\u001b[0m",
      "\u001b[0;31mKeyboardInterrupt\u001b[0m                         Traceback (most recent call last)",
      "Cell \u001b[0;32mIn[5], line 251\u001b[0m\n\u001b[1;32m    249\u001b[0m     \u001b[38;5;28mid\u001b[39m \u001b[38;5;241m=\u001b[39m mouse_name, session\n\u001b[1;32m    250\u001b[0m     \u001b[38;5;28mprint\u001b[39m(filename)\n\u001b[0;32m--> 251\u001b[0m     \u001b[43mgrid_search_lag_kappa\u001b[49m\u001b[43m(\u001b[49m\u001b[38;5;28;43mid\u001b[39;49m\u001b[43m,\u001b[49m\u001b[43m \u001b[49m\u001b[43mmatrix_all\u001b[49m\u001b[43m,\u001b[49m\u001b[43m \u001b[49m\u001b[43mcollapsed_matrices\u001b[49m\u001b[43m,\u001b[49m\u001b[43m \u001b[49m\u001b[43mvar_interest\u001b[49m\u001b[43m,\u001b[49m\u001b[43m \u001b[49m\u001b[43mvar_interest_map\u001b[49m\u001b[43m,\u001b[49m\u001b[43m \u001b[49m\u001b[43midx_init_list\u001b[49m\u001b[43m,\u001b[49m\u001b[43m \u001b[49m\u001b[43midx_end_list\u001b[49m\u001b[43m,\u001b[49m\u001b[43m \u001b[49m\u001b[43muse_sets\u001b[49m\u001b[43m,\u001b[49m\u001b[43m \u001b[49m\u001b[43mconcatenate\u001b[49m\u001b[43m,\u001b[49m\u001b[43m \u001b[49m\u001b[43mnum_states\u001b[49m\u001b[43m,\u001b[49m\u001b[43m \u001b[49m\u001b[43mall_num_lags\u001b[49m\u001b[43m,\u001b[49m\u001b[43m \u001b[49m\u001b[43mkappas\u001b[49m\u001b[43m,\u001b[49m\u001b[43m \u001b[49m\u001b[43msticky\u001b[49m\u001b[43m)\u001b[49m\n\u001b[1;32m    253\u001b[0m save_state(state)\n\u001b[1;32m    254\u001b[0m restart_kernel()\n",
      "Cell \u001b[0;32mIn[5], line 189\u001b[0m, in \u001b[0;36mgrid_search_lag_kappa\u001b[0;34m(id, matrix_all, collapsed_matrices, var_interest, var_interest_map, idx_init_list, idx_end_list, use_sets, concatenate, num_states, all_num_lags, kappas, sticky)\u001b[0m\n\u001b[1;32m    186\u001b[0m my_inputs \u001b[38;5;241m=\u001b[39m compute_inputs(shortened_array, lag, emission_dim)\n\u001b[1;32m    187\u001b[0m train_inputs \u001b[38;5;241m=\u001b[39m jnp\u001b[38;5;241m.\u001b[39mstack(jnp\u001b[38;5;241m.\u001b[39msplit(my_inputs, num_train_batches))\n\u001b[0;32m--> 189\u001b[0m all_val_lls, fit_params, init_params, baseline_lls \u001b[38;5;241m=\u001b[39m \u001b[43mcross_validate_armodel\u001b[49m\u001b[43m(\u001b[49m\u001b[43mtest_arhmm\u001b[49m\u001b[43m,\u001b[49m\u001b[43m \u001b[49m\u001b[43mjr\u001b[49m\u001b[38;5;241;43m.\u001b[39;49m\u001b[43mPRNGKey\u001b[49m\u001b[43m(\u001b[49m\u001b[38;5;241;43m0\u001b[39;49m\u001b[43m)\u001b[49m\u001b[43m,\u001b[49m\u001b[43m \u001b[49m\u001b[43mshortened_array\u001b[49m\u001b[43m,\u001b[49m\u001b[43m \u001b[49m\n\u001b[1;32m    190\u001b[0m \u001b[43m                                    \u001b[49m\u001b[43mtrain_emissions\u001b[49m\u001b[43m,\u001b[49m\u001b[43m \u001b[49m\u001b[43mtrain_inputs\u001b[49m\u001b[43m,\u001b[49m\u001b[43m \u001b[49m\u001b[43mmethod\u001b[49m\u001b[43m,\u001b[49m\u001b[43m \u001b[49m\u001b[43mnum_train_batches\u001b[49m\u001b[43m)\u001b[49m\n\u001b[1;32m    192\u001b[0m \u001b[38;5;66;03m# Save results\u001b[39;00m\n\u001b[1;32m    193\u001b[0m all_lls[lag][kappa] \u001b[38;5;241m=\u001b[39m all_val_lls\n",
      "File \u001b[0;32m~/repositories/representation_learning_variability/Models/Sub-trial/2_fit_models/fitting_functions.py:133\u001b[0m, in \u001b[0;36mcross_validate_armodel\u001b[0;34m(model, key, all_emissions, train_emissions, train_inputs, method_to_use, num_train_batches, num_iters)\u001b[0m\n\u001b[1;32m    129\u001b[0m     fit_params, train_lps \u001b[38;5;241m=\u001b[39m model\u001b[38;5;241m.\u001b[39mfit_em(init_params, props, y_train, inpt_folds, \n\u001b[1;32m    130\u001b[0m                                          num_iters\u001b[38;5;241m=\u001b[39mnum_iters, verbose\u001b[38;5;241m=\u001b[39m\u001b[38;5;28;01mFalse\u001b[39;00m)\n\u001b[1;32m    131\u001b[0m     \u001b[38;5;28;01mreturn\u001b[39;00m model\u001b[38;5;241m.\u001b[39mmarginal_log_prob(fit_params, y_val, inpts) , fit_params  \u001b[38;5;66;03m# np.shape(y_val)[1]\u001b[39;00m\n\u001b[0;32m--> 133\u001b[0m val_lls, fit_params \u001b[38;5;241m=\u001b[39m \u001b[43mvmap\u001b[49m\u001b[43m(\u001b[49m\u001b[43m_fit_fold\u001b[49m\u001b[43m)\u001b[49m\u001b[43m(\u001b[49m\u001b[43mfolds\u001b[49m\u001b[43m,\u001b[49m\u001b[43m \u001b[49m\u001b[43mtrain_emissions\u001b[49m\u001b[43m,\u001b[49m\u001b[43m \u001b[49m\u001b[43minpt_folds\u001b[49m\u001b[43m,\u001b[49m\u001b[43m \u001b[49m\u001b[43mtrain_inputs\u001b[49m\u001b[43m)\u001b[49m\n\u001b[1;32m    135\u001b[0m \u001b[38;5;28;01mreturn\u001b[39;00m val_lls, fit_params, init_params, baseline_val_lls\n",
      "    \u001b[0;31m[... skipping hidden 1 frame]\u001b[0m\n",
      "File \u001b[0;32m~/miniconda3/envs/iblenv/lib/python3.9/site-packages/jax/_src/api.py:1249\u001b[0m, in \u001b[0;36mvmap.<locals>.vmap_f\u001b[0;34m(*args, **kwargs)\u001b[0m\n\u001b[1;32m   1246\u001b[0m in_axes_flat \u001b[38;5;241m=\u001b[39m flatten_axes(\u001b[38;5;124m\"\u001b[39m\u001b[38;5;124mvmap in_axes\u001b[39m\u001b[38;5;124m\"\u001b[39m, in_tree, (in_axes, \u001b[38;5;241m0\u001b[39m), kws\u001b[38;5;241m=\u001b[39m\u001b[38;5;28;01mTrue\u001b[39;00m)\n\u001b[1;32m   1247\u001b[0m axis_size_ \u001b[38;5;241m=\u001b[39m (axis_size \u001b[38;5;28;01mif\u001b[39;00m axis_size \u001b[38;5;129;01mis\u001b[39;00m \u001b[38;5;129;01mnot\u001b[39;00m \u001b[38;5;28;01mNone\u001b[39;00m \u001b[38;5;28;01melse\u001b[39;00m\n\u001b[1;32m   1248\u001b[0m               _mapped_axis_size(fun, in_tree, args_flat, in_axes_flat, \u001b[38;5;124m\"\u001b[39m\u001b[38;5;124mvmap\u001b[39m\u001b[38;5;124m\"\u001b[39m))\n\u001b[0;32m-> 1249\u001b[0m out_flat \u001b[38;5;241m=\u001b[39m \u001b[43mbatching\u001b[49m\u001b[38;5;241;43m.\u001b[39;49m\u001b[43mbatch\u001b[49m\u001b[43m(\u001b[49m\n\u001b[1;32m   1250\u001b[0m \u001b[43m    \u001b[49m\u001b[43mflat_fun\u001b[49m\u001b[43m,\u001b[49m\u001b[43m \u001b[49m\u001b[43maxis_name\u001b[49m\u001b[43m,\u001b[49m\u001b[43m \u001b[49m\u001b[43maxis_size_\u001b[49m\u001b[43m,\u001b[49m\u001b[43m \u001b[49m\u001b[43min_axes_flat\u001b[49m\u001b[43m,\u001b[49m\n\u001b[1;32m   1251\u001b[0m \u001b[43m    \u001b[49m\u001b[38;5;28;43;01mlambda\u001b[39;49;00m\u001b[43m:\u001b[49m\u001b[43m \u001b[49m\u001b[43mflatten_axes\u001b[49m\u001b[43m(\u001b[49m\u001b[38;5;124;43m\"\u001b[39;49m\u001b[38;5;124;43mvmap out_axes\u001b[39;49m\u001b[38;5;124;43m\"\u001b[39;49m\u001b[43m,\u001b[49m\u001b[43m \u001b[49m\u001b[43mout_tree\u001b[49m\u001b[43m(\u001b[49m\u001b[43m)\u001b[49m\u001b[43m,\u001b[49m\u001b[43m \u001b[49m\u001b[43mout_axes\u001b[49m\u001b[43m)\u001b[49m\u001b[43m,\u001b[49m\n\u001b[1;32m   1252\u001b[0m \u001b[43m    \u001b[49m\u001b[43mspmd_axis_name\u001b[49m\u001b[38;5;241;43m=\u001b[39;49m\u001b[43mspmd_axis_name\u001b[49m\n\u001b[1;32m   1253\u001b[0m \u001b[43m\u001b[49m\u001b[43m)\u001b[49m\u001b[38;5;241;43m.\u001b[39;49m\u001b[43mcall_wrapped\u001b[49m\u001b[43m(\u001b[49m\u001b[38;5;241;43m*\u001b[39;49m\u001b[43margs_flat\u001b[49m\u001b[43m)\u001b[49m\n\u001b[1;32m   1254\u001b[0m \u001b[38;5;28;01mreturn\u001b[39;00m tree_unflatten(out_tree(), out_flat)\n",
      "File \u001b[0;32m~/miniconda3/envs/iblenv/lib/python3.9/site-packages/jax/_src/linear_util.py:191\u001b[0m, in \u001b[0;36mWrappedFun.call_wrapped\u001b[0;34m(self, *args, **kwargs)\u001b[0m\n\u001b[1;32m    188\u001b[0m gen \u001b[38;5;241m=\u001b[39m gen_static_args \u001b[38;5;241m=\u001b[39m out_store \u001b[38;5;241m=\u001b[39m \u001b[38;5;28;01mNone\u001b[39;00m\n\u001b[1;32m    190\u001b[0m \u001b[38;5;28;01mtry\u001b[39;00m:\n\u001b[0;32m--> 191\u001b[0m   ans \u001b[38;5;241m=\u001b[39m \u001b[38;5;28;43mself\u001b[39;49m\u001b[38;5;241;43m.\u001b[39;49m\u001b[43mf\u001b[49m\u001b[43m(\u001b[49m\u001b[38;5;241;43m*\u001b[39;49m\u001b[43margs\u001b[49m\u001b[43m,\u001b[49m\u001b[43m \u001b[49m\u001b[38;5;241;43m*\u001b[39;49m\u001b[38;5;241;43m*\u001b[39;49m\u001b[38;5;28;43mdict\u001b[39;49m\u001b[43m(\u001b[49m\u001b[38;5;28;43mself\u001b[39;49m\u001b[38;5;241;43m.\u001b[39;49m\u001b[43mparams\u001b[49m\u001b[43m,\u001b[49m\u001b[43m \u001b[49m\u001b[38;5;241;43m*\u001b[39;49m\u001b[38;5;241;43m*\u001b[39;49m\u001b[43mkwargs\u001b[49m\u001b[43m)\u001b[49m\u001b[43m)\u001b[49m\n\u001b[1;32m    192\u001b[0m \u001b[38;5;28;01mexcept\u001b[39;00m:\n\u001b[1;32m    193\u001b[0m   \u001b[38;5;66;03m# Some transformations yield from inside context managers, so we have to\u001b[39;00m\n\u001b[1;32m    194\u001b[0m   \u001b[38;5;66;03m# interrupt them before reraising the exception. Otherwise they will only\u001b[39;00m\n\u001b[1;32m    195\u001b[0m   \u001b[38;5;66;03m# get garbage-collected at some later time, running their cleanup tasks\u001b[39;00m\n\u001b[1;32m    196\u001b[0m   \u001b[38;5;66;03m# only after this exception is handled, which can corrupt the global\u001b[39;00m\n\u001b[1;32m    197\u001b[0m   \u001b[38;5;66;03m# state.\u001b[39;00m\n\u001b[1;32m    198\u001b[0m   \u001b[38;5;28;01mwhile\u001b[39;00m stack:\n",
      "File \u001b[0;32m~/repositories/representation_learning_variability/Models/Sub-trial/2_fit_models/fitting_functions.py:129\u001b[0m, in \u001b[0;36mcross_validate_armodel.<locals>._fit_fold\u001b[0;34m(y_train, y_val, inpt_folds, inpts)\u001b[0m\n\u001b[1;32m    128\u001b[0m \u001b[38;5;28;01mdef\u001b[39;00m \u001b[38;5;21m_fit_fold\u001b[39m(y_train, y_val, inpt_folds, inpts):\n\u001b[0;32m--> 129\u001b[0m     fit_params, train_lps \u001b[38;5;241m=\u001b[39m \u001b[43mmodel\u001b[49m\u001b[38;5;241;43m.\u001b[39;49m\u001b[43mfit_em\u001b[49m\u001b[43m(\u001b[49m\u001b[43minit_params\u001b[49m\u001b[43m,\u001b[49m\u001b[43m \u001b[49m\u001b[43mprops\u001b[49m\u001b[43m,\u001b[49m\u001b[43m \u001b[49m\u001b[43my_train\u001b[49m\u001b[43m,\u001b[49m\u001b[43m \u001b[49m\u001b[43minpt_folds\u001b[49m\u001b[43m,\u001b[49m\u001b[43m \u001b[49m\n\u001b[1;32m    130\u001b[0m \u001b[43m                                         \u001b[49m\u001b[43mnum_iters\u001b[49m\u001b[38;5;241;43m=\u001b[39;49m\u001b[43mnum_iters\u001b[49m\u001b[43m,\u001b[49m\u001b[43m \u001b[49m\u001b[43mverbose\u001b[49m\u001b[38;5;241;43m=\u001b[39;49m\u001b[38;5;28;43;01mFalse\u001b[39;49;00m\u001b[43m)\u001b[49m\n\u001b[1;32m    131\u001b[0m     \u001b[38;5;28;01mreturn\u001b[39;00m model\u001b[38;5;241m.\u001b[39mmarginal_log_prob(fit_params, y_val, inpts) , fit_params\n",
      "File \u001b[0;32m~/repositories/dynamax/dynamax/ssm.py:397\u001b[0m, in \u001b[0;36mSSM.fit_em\u001b[0;34m(self, params, props, emissions, inputs, num_iters, verbose)\u001b[0m\n\u001b[1;32m    395\u001b[0m pbar \u001b[38;5;241m=\u001b[39m progress_bar(\u001b[38;5;28mrange\u001b[39m(num_iters)) \u001b[38;5;28;01mif\u001b[39;00m verbose \u001b[38;5;28;01melse\u001b[39;00m \u001b[38;5;28mrange\u001b[39m(num_iters)\n\u001b[1;32m    396\u001b[0m \u001b[38;5;28;01mfor\u001b[39;00m _ \u001b[38;5;129;01min\u001b[39;00m pbar:\n\u001b[0;32m--> 397\u001b[0m     params, m_step_state, marginal_loglik \u001b[38;5;241m=\u001b[39m \u001b[43mem_step\u001b[49m\u001b[43m(\u001b[49m\u001b[43mparams\u001b[49m\u001b[43m,\u001b[49m\u001b[43m \u001b[49m\u001b[43mm_step_state\u001b[49m\u001b[43m)\u001b[49m\n\u001b[1;32m    398\u001b[0m     log_probs\u001b[38;5;241m.\u001b[39mappend(marginal_loglik)\n\u001b[1;32m    399\u001b[0m \u001b[38;5;28;01mreturn\u001b[39;00m params, jnp\u001b[38;5;241m.\u001b[39marray(log_probs)\n",
      "    \u001b[0;31m[... skipping hidden 1 frame]\u001b[0m\n",
      "File \u001b[0;32m~/miniconda3/envs/iblenv/lib/python3.9/site-packages/jax/_src/pjit.py:256\u001b[0m, in \u001b[0;36m_cpp_pjit.<locals>.cache_miss\u001b[0;34m(*args, **kwargs)\u001b[0m\n\u001b[1;32m    254\u001b[0m \u001b[38;5;129m@api_boundary\u001b[39m\n\u001b[1;32m    255\u001b[0m \u001b[38;5;28;01mdef\u001b[39;00m \u001b[38;5;21mcache_miss\u001b[39m(\u001b[38;5;241m*\u001b[39margs, \u001b[38;5;241m*\u001b[39m\u001b[38;5;241m*\u001b[39mkwargs):\n\u001b[0;32m--> 256\u001b[0m   outs, out_flat, out_tree, args_flat, jaxpr \u001b[38;5;241m=\u001b[39m \u001b[43m_python_pjit_helper\u001b[49m\u001b[43m(\u001b[49m\n\u001b[1;32m    257\u001b[0m \u001b[43m      \u001b[49m\u001b[43mfun\u001b[49m\u001b[43m,\u001b[49m\u001b[43m \u001b[49m\u001b[43minfer_params_fn\u001b[49m\u001b[43m,\u001b[49m\u001b[43m \u001b[49m\u001b[38;5;241;43m*\u001b[39;49m\u001b[43margs\u001b[49m\u001b[43m,\u001b[49m\u001b[43m \u001b[49m\u001b[38;5;241;43m*\u001b[39;49m\u001b[38;5;241;43m*\u001b[39;49m\u001b[43mkwargs\u001b[49m\u001b[43m)\u001b[49m\n\u001b[1;32m    258\u001b[0m   executable \u001b[38;5;241m=\u001b[39m _read_most_recent_pjit_call_executable(jaxpr)\n\u001b[1;32m    259\u001b[0m   fastpath_data \u001b[38;5;241m=\u001b[39m _get_fastpath_data(executable, out_tree, args_flat, out_flat)\n",
      "File \u001b[0;32m~/miniconda3/envs/iblenv/lib/python3.9/site-packages/jax/_src/pjit.py:167\u001b[0m, in \u001b[0;36m_python_pjit_helper\u001b[0;34m(fun, infer_params_fn, *args, **kwargs)\u001b[0m\n\u001b[1;32m    165\u001b[0m   dispatch\u001b[38;5;241m.\u001b[39mcheck_arg(arg)\n\u001b[1;32m    166\u001b[0m \u001b[38;5;28;01mtry\u001b[39;00m:\n\u001b[0;32m--> 167\u001b[0m   out_flat \u001b[38;5;241m=\u001b[39m \u001b[43mpjit_p\u001b[49m\u001b[38;5;241;43m.\u001b[39;49m\u001b[43mbind\u001b[49m\u001b[43m(\u001b[49m\u001b[38;5;241;43m*\u001b[39;49m\u001b[43margs_flat\u001b[49m\u001b[43m,\u001b[49m\u001b[43m \u001b[49m\u001b[38;5;241;43m*\u001b[39;49m\u001b[38;5;241;43m*\u001b[39;49m\u001b[43mparams\u001b[49m\u001b[43m)\u001b[49m\n\u001b[1;32m    168\u001b[0m \u001b[38;5;28;01mexcept\u001b[39;00m pxla\u001b[38;5;241m.\u001b[39mDeviceAssignmentMismatchError \u001b[38;5;28;01mas\u001b[39;00m e:\n\u001b[1;32m    169\u001b[0m   fails, \u001b[38;5;241m=\u001b[39m e\u001b[38;5;241m.\u001b[39margs\n",
      "File \u001b[0;32m~/miniconda3/envs/iblenv/lib/python3.9/site-packages/jax/_src/core.py:2656\u001b[0m, in \u001b[0;36mAxisPrimitive.bind\u001b[0;34m(self, *args, **params)\u001b[0m\n\u001b[1;32m   2652\u001b[0m axis_main \u001b[38;5;241m=\u001b[39m \u001b[38;5;28mmax\u001b[39m((axis_frame(a)\u001b[38;5;241m.\u001b[39mmain_trace \u001b[38;5;28;01mfor\u001b[39;00m a \u001b[38;5;129;01min\u001b[39;00m used_axis_names(\u001b[38;5;28mself\u001b[39m, params)),\n\u001b[1;32m   2653\u001b[0m                 default\u001b[38;5;241m=\u001b[39m\u001b[38;5;28;01mNone\u001b[39;00m, key\u001b[38;5;241m=\u001b[39m\u001b[38;5;28;01mlambda\u001b[39;00m t: \u001b[38;5;28mgetattr\u001b[39m(t, \u001b[38;5;124m'\u001b[39m\u001b[38;5;124mlevel\u001b[39m\u001b[38;5;124m'\u001b[39m, \u001b[38;5;241m-\u001b[39m\u001b[38;5;241m1\u001b[39m))\n\u001b[1;32m   2654\u001b[0m top_trace \u001b[38;5;241m=\u001b[39m (top_trace \u001b[38;5;28;01mif\u001b[39;00m \u001b[38;5;129;01mnot\u001b[39;00m axis_main \u001b[38;5;129;01mor\u001b[39;00m axis_main\u001b[38;5;241m.\u001b[39mlevel \u001b[38;5;241m<\u001b[39m top_trace\u001b[38;5;241m.\u001b[39mlevel\n\u001b[1;32m   2655\u001b[0m              \u001b[38;5;28;01melse\u001b[39;00m axis_main\u001b[38;5;241m.\u001b[39mwith_cur_sublevel())\n\u001b[0;32m-> 2656\u001b[0m \u001b[38;5;28;01mreturn\u001b[39;00m \u001b[38;5;28;43mself\u001b[39;49m\u001b[38;5;241;43m.\u001b[39;49m\u001b[43mbind_with_trace\u001b[49m\u001b[43m(\u001b[49m\u001b[43mtop_trace\u001b[49m\u001b[43m,\u001b[49m\u001b[43m \u001b[49m\u001b[43margs\u001b[49m\u001b[43m,\u001b[49m\u001b[43m \u001b[49m\u001b[43mparams\u001b[49m\u001b[43m)\u001b[49m\n",
      "File \u001b[0;32m~/miniconda3/envs/iblenv/lib/python3.9/site-packages/jax/_src/core.py:388\u001b[0m, in \u001b[0;36mPrimitive.bind_with_trace\u001b[0;34m(self, trace, args, params)\u001b[0m\n\u001b[1;32m    387\u001b[0m \u001b[38;5;28;01mdef\u001b[39;00m \u001b[38;5;21mbind_with_trace\u001b[39m(\u001b[38;5;28mself\u001b[39m, trace, args, params):\n\u001b[0;32m--> 388\u001b[0m   out \u001b[38;5;241m=\u001b[39m \u001b[43mtrace\u001b[49m\u001b[38;5;241;43m.\u001b[39;49m\u001b[43mprocess_primitive\u001b[49m\u001b[43m(\u001b[49m\u001b[38;5;28;43mself\u001b[39;49m\u001b[43m,\u001b[49m\u001b[43m \u001b[49m\u001b[38;5;28;43mmap\u001b[39;49m\u001b[43m(\u001b[49m\u001b[43mtrace\u001b[49m\u001b[38;5;241;43m.\u001b[39;49m\u001b[43mfull_raise\u001b[49m\u001b[43m,\u001b[49m\u001b[43m \u001b[49m\u001b[43margs\u001b[49m\u001b[43m)\u001b[49m\u001b[43m,\u001b[49m\u001b[43m \u001b[49m\u001b[43mparams\u001b[49m\u001b[43m)\u001b[49m\n\u001b[1;32m    389\u001b[0m   \u001b[38;5;28;01mreturn\u001b[39;00m \u001b[38;5;28mmap\u001b[39m(full_lower, out) \u001b[38;5;28;01mif\u001b[39;00m \u001b[38;5;28mself\u001b[39m\u001b[38;5;241m.\u001b[39mmultiple_results \u001b[38;5;28;01melse\u001b[39;00m full_lower(out)\n",
      "File \u001b[0;32m~/miniconda3/envs/iblenv/lib/python3.9/site-packages/jax/_src/interpreters/batching.py:433\u001b[0m, in \u001b[0;36mBatchTrace.process_primitive\u001b[0;34m(self, primitive, tracers, params)\u001b[0m\n\u001b[1;32m    431\u001b[0m   frame \u001b[38;5;241m=\u001b[39m \u001b[38;5;28mself\u001b[39m\u001b[38;5;241m.\u001b[39mget_frame(vals_in, dims_in)\n\u001b[1;32m    432\u001b[0m   batched_primitive \u001b[38;5;241m=\u001b[39m \u001b[38;5;28mself\u001b[39m\u001b[38;5;241m.\u001b[39mget_primitive_batcher(primitive, frame)\n\u001b[0;32m--> 433\u001b[0m   val_out, dim_out \u001b[38;5;241m=\u001b[39m \u001b[43mbatched_primitive\u001b[49m\u001b[43m(\u001b[49m\u001b[43mvals_in\u001b[49m\u001b[43m,\u001b[49m\u001b[43m \u001b[49m\u001b[43mdims_in\u001b[49m\u001b[43m,\u001b[49m\u001b[43m \u001b[49m\u001b[38;5;241;43m*\u001b[39;49m\u001b[38;5;241;43m*\u001b[39;49m\u001b[43mparams\u001b[49m\u001b[43m)\u001b[49m\n\u001b[1;32m    434\u001b[0m src \u001b[38;5;241m=\u001b[39m source_info_util\u001b[38;5;241m.\u001b[39mcurrent()\n\u001b[1;32m    435\u001b[0m \u001b[38;5;28;01mif\u001b[39;00m primitive\u001b[38;5;241m.\u001b[39mmultiple_results:\n",
      "File \u001b[0;32m~/miniconda3/envs/iblenv/lib/python3.9/site-packages/jax/_src/pjit.py:1448\u001b[0m, in \u001b[0;36m_pjit_batcher\u001b[0;34m(insert_axis, spmd_axis_name, axis_size, axis_name, main_type, vals_in, dims_in, jaxpr, in_shardings, out_shardings, resource_env, donated_invars, name, keep_unused, inline)\u001b[0m\n\u001b[1;32m   1440\u001b[0m in_shardings \u001b[38;5;241m=\u001b[39m \u001b[38;5;28mtuple\u001b[39m(\n\u001b[1;32m   1441\u001b[0m     _pjit_batcher_for_sharding(i, axis_in, new_parts, mesh, aval\u001b[38;5;241m.\u001b[39mndim)\n\u001b[1;32m   1442\u001b[0m     \u001b[38;5;28;01mif\u001b[39;00m axis_in \u001b[38;5;129;01mis\u001b[39;00m \u001b[38;5;129;01mnot\u001b[39;00m \u001b[38;5;28;01mNone\u001b[39;00m \u001b[38;5;28;01melse\u001b[39;00m i\n\u001b[1;32m   1443\u001b[0m     \u001b[38;5;28;01mfor\u001b[39;00m axis_in, i, aval \u001b[38;5;129;01min\u001b[39;00m \u001b[38;5;28mzip\u001b[39m(dims_in, in_shardings, new_jaxpr\u001b[38;5;241m.\u001b[39min_avals))\n\u001b[1;32m   1444\u001b[0m out_shardings \u001b[38;5;241m=\u001b[39m \u001b[38;5;28mtuple\u001b[39m(\n\u001b[1;32m   1445\u001b[0m     _pjit_batcher_for_sharding(o, axis_out, new_parts, mesh, aval\u001b[38;5;241m.\u001b[39mndim)\n\u001b[1;32m   1446\u001b[0m     \u001b[38;5;28;01mif\u001b[39;00m axis_out \u001b[38;5;129;01mis\u001b[39;00m \u001b[38;5;129;01mnot\u001b[39;00m \u001b[38;5;28;01mNone\u001b[39;00m \u001b[38;5;28;01melse\u001b[39;00m o\n\u001b[1;32m   1447\u001b[0m     \u001b[38;5;28;01mfor\u001b[39;00m axis_out, o, aval \u001b[38;5;129;01min\u001b[39;00m \u001b[38;5;28mzip\u001b[39m(axes_out, out_shardings, new_jaxpr\u001b[38;5;241m.\u001b[39mout_avals))\n\u001b[0;32m-> 1448\u001b[0m vals_out \u001b[38;5;241m=\u001b[39m \u001b[43mpjit_p\u001b[49m\u001b[38;5;241;43m.\u001b[39;49m\u001b[43mbind\u001b[49m\u001b[43m(\u001b[49m\n\u001b[1;32m   1449\u001b[0m \u001b[43m  \u001b[49m\u001b[38;5;241;43m*\u001b[39;49m\u001b[43mvals_in\u001b[49m\u001b[43m,\u001b[49m\n\u001b[1;32m   1450\u001b[0m \u001b[43m  \u001b[49m\u001b[43mjaxpr\u001b[49m\u001b[38;5;241;43m=\u001b[39;49m\u001b[43mnew_jaxpr\u001b[49m\u001b[43m,\u001b[49m\n\u001b[1;32m   1451\u001b[0m \u001b[43m  \u001b[49m\u001b[43min_shardings\u001b[49m\u001b[38;5;241;43m=\u001b[39;49m\u001b[43min_shardings\u001b[49m\u001b[43m,\u001b[49m\n\u001b[1;32m   1452\u001b[0m \u001b[43m  \u001b[49m\u001b[43mout_shardings\u001b[49m\u001b[38;5;241;43m=\u001b[39;49m\u001b[43mout_shardings\u001b[49m\u001b[43m,\u001b[49m\n\u001b[1;32m   1453\u001b[0m \u001b[43m  \u001b[49m\u001b[43mresource_env\u001b[49m\u001b[38;5;241;43m=\u001b[39;49m\u001b[43mresource_env\u001b[49m\u001b[43m,\u001b[49m\n\u001b[1;32m   1454\u001b[0m \u001b[43m  \u001b[49m\u001b[43mdonated_invars\u001b[49m\u001b[38;5;241;43m=\u001b[39;49m\u001b[43mdonated_invars\u001b[49m\u001b[43m,\u001b[49m\n\u001b[1;32m   1455\u001b[0m \u001b[43m  \u001b[49m\u001b[43mname\u001b[49m\u001b[38;5;241;43m=\u001b[39;49m\u001b[43mname\u001b[49m\u001b[43m,\u001b[49m\n\u001b[1;32m   1456\u001b[0m \u001b[43m  \u001b[49m\u001b[43mkeep_unused\u001b[49m\u001b[38;5;241;43m=\u001b[39;49m\u001b[43mkeep_unused\u001b[49m\u001b[43m,\u001b[49m\n\u001b[1;32m   1457\u001b[0m \u001b[43m  \u001b[49m\u001b[43minline\u001b[49m\u001b[38;5;241;43m=\u001b[39;49m\u001b[43minline\u001b[49m\u001b[43m)\u001b[49m\n\u001b[1;32m   1458\u001b[0m resolved_axes_out \u001b[38;5;241m=\u001b[39m batching\u001b[38;5;241m.\u001b[39mresolve_ragged_axes_against_inputs_outputs(\n\u001b[1;32m   1459\u001b[0m     vals_in, vals_out, axes_out)\n\u001b[1;32m   1460\u001b[0m \u001b[38;5;28;01mreturn\u001b[39;00m vals_out, resolved_axes_out\n",
      "File \u001b[0;32m~/miniconda3/envs/iblenv/lib/python3.9/site-packages/jax/_src/core.py:2656\u001b[0m, in \u001b[0;36mAxisPrimitive.bind\u001b[0;34m(self, *args, **params)\u001b[0m\n\u001b[1;32m   2652\u001b[0m axis_main \u001b[38;5;241m=\u001b[39m \u001b[38;5;28mmax\u001b[39m((axis_frame(a)\u001b[38;5;241m.\u001b[39mmain_trace \u001b[38;5;28;01mfor\u001b[39;00m a \u001b[38;5;129;01min\u001b[39;00m used_axis_names(\u001b[38;5;28mself\u001b[39m, params)),\n\u001b[1;32m   2653\u001b[0m                 default\u001b[38;5;241m=\u001b[39m\u001b[38;5;28;01mNone\u001b[39;00m, key\u001b[38;5;241m=\u001b[39m\u001b[38;5;28;01mlambda\u001b[39;00m t: \u001b[38;5;28mgetattr\u001b[39m(t, \u001b[38;5;124m'\u001b[39m\u001b[38;5;124mlevel\u001b[39m\u001b[38;5;124m'\u001b[39m, \u001b[38;5;241m-\u001b[39m\u001b[38;5;241m1\u001b[39m))\n\u001b[1;32m   2654\u001b[0m top_trace \u001b[38;5;241m=\u001b[39m (top_trace \u001b[38;5;28;01mif\u001b[39;00m \u001b[38;5;129;01mnot\u001b[39;00m axis_main \u001b[38;5;129;01mor\u001b[39;00m axis_main\u001b[38;5;241m.\u001b[39mlevel \u001b[38;5;241m<\u001b[39m top_trace\u001b[38;5;241m.\u001b[39mlevel\n\u001b[1;32m   2655\u001b[0m              \u001b[38;5;28;01melse\u001b[39;00m axis_main\u001b[38;5;241m.\u001b[39mwith_cur_sublevel())\n\u001b[0;32m-> 2656\u001b[0m \u001b[38;5;28;01mreturn\u001b[39;00m \u001b[38;5;28;43mself\u001b[39;49m\u001b[38;5;241;43m.\u001b[39;49m\u001b[43mbind_with_trace\u001b[49m\u001b[43m(\u001b[49m\u001b[43mtop_trace\u001b[49m\u001b[43m,\u001b[49m\u001b[43m \u001b[49m\u001b[43margs\u001b[49m\u001b[43m,\u001b[49m\u001b[43m \u001b[49m\u001b[43mparams\u001b[49m\u001b[43m)\u001b[49m\n",
      "File \u001b[0;32m~/miniconda3/envs/iblenv/lib/python3.9/site-packages/jax/_src/core.py:388\u001b[0m, in \u001b[0;36mPrimitive.bind_with_trace\u001b[0;34m(self, trace, args, params)\u001b[0m\n\u001b[1;32m    387\u001b[0m \u001b[38;5;28;01mdef\u001b[39;00m \u001b[38;5;21mbind_with_trace\u001b[39m(\u001b[38;5;28mself\u001b[39m, trace, args, params):\n\u001b[0;32m--> 388\u001b[0m   out \u001b[38;5;241m=\u001b[39m \u001b[43mtrace\u001b[49m\u001b[38;5;241;43m.\u001b[39;49m\u001b[43mprocess_primitive\u001b[49m\u001b[43m(\u001b[49m\u001b[38;5;28;43mself\u001b[39;49m\u001b[43m,\u001b[49m\u001b[43m \u001b[49m\u001b[38;5;28;43mmap\u001b[39;49m\u001b[43m(\u001b[49m\u001b[43mtrace\u001b[49m\u001b[38;5;241;43m.\u001b[39;49m\u001b[43mfull_raise\u001b[49m\u001b[43m,\u001b[49m\u001b[43m \u001b[49m\u001b[43margs\u001b[49m\u001b[43m)\u001b[49m\u001b[43m,\u001b[49m\u001b[43m \u001b[49m\u001b[43mparams\u001b[49m\u001b[43m)\u001b[49m\n\u001b[1;32m    389\u001b[0m   \u001b[38;5;28;01mreturn\u001b[39;00m \u001b[38;5;28mmap\u001b[39m(full_lower, out) \u001b[38;5;28;01mif\u001b[39;00m \u001b[38;5;28mself\u001b[39m\u001b[38;5;241m.\u001b[39mmultiple_results \u001b[38;5;28;01melse\u001b[39;00m full_lower(out)\n",
      "File \u001b[0;32m~/miniconda3/envs/iblenv/lib/python3.9/site-packages/jax/_src/core.py:868\u001b[0m, in \u001b[0;36mEvalTrace.process_primitive\u001b[0;34m(self, primitive, tracers, params)\u001b[0m\n\u001b[1;32m    867\u001b[0m \u001b[38;5;28;01mdef\u001b[39;00m \u001b[38;5;21mprocess_primitive\u001b[39m(\u001b[38;5;28mself\u001b[39m, primitive, tracers, params):\n\u001b[0;32m--> 868\u001b[0m   \u001b[38;5;28;01mreturn\u001b[39;00m \u001b[43mprimitive\u001b[49m\u001b[38;5;241;43m.\u001b[39;49m\u001b[43mimpl\u001b[49m\u001b[43m(\u001b[49m\u001b[38;5;241;43m*\u001b[39;49m\u001b[43mtracers\u001b[49m\u001b[43m,\u001b[49m\u001b[43m \u001b[49m\u001b[38;5;241;43m*\u001b[39;49m\u001b[38;5;241;43m*\u001b[39;49m\u001b[43mparams\u001b[49m\u001b[43m)\u001b[49m\n",
      "File \u001b[0;32m~/miniconda3/envs/iblenv/lib/python3.9/site-packages/jax/_src/pjit.py:1212\u001b[0m, in \u001b[0;36m_pjit_call_impl\u001b[0;34m(jaxpr, in_shardings, out_shardings, resource_env, donated_invars, name, keep_unused, inline, *args)\u001b[0m\n\u001b[1;32m   1209\u001b[0m donated_argnums \u001b[38;5;241m=\u001b[39m [i \u001b[38;5;28;01mfor\u001b[39;00m i, d \u001b[38;5;129;01min\u001b[39;00m \u001b[38;5;28menumerate\u001b[39m(donated_invars) \u001b[38;5;28;01mif\u001b[39;00m d]\n\u001b[1;32m   1210\u001b[0m has_explicit_sharding \u001b[38;5;241m=\u001b[39m _pjit_explicit_sharding(\n\u001b[1;32m   1211\u001b[0m     in_shardings, out_shardings, \u001b[38;5;28;01mNone\u001b[39;00m, \u001b[38;5;28;01mNone\u001b[39;00m)\n\u001b[0;32m-> 1212\u001b[0m \u001b[38;5;28;01mreturn\u001b[39;00m \u001b[43mxc\u001b[49m\u001b[38;5;241;43m.\u001b[39;49m\u001b[43m_xla\u001b[49m\u001b[38;5;241;43m.\u001b[39;49m\u001b[43mpjit\u001b[49m\u001b[43m(\u001b[49m\u001b[43mname\u001b[49m\u001b[43m,\u001b[49m\u001b[43m \u001b[49m\u001b[43mf\u001b[49m\u001b[43m,\u001b[49m\u001b[43m \u001b[49m\u001b[43mcall_impl_cache_miss\u001b[49m\u001b[43m,\u001b[49m\u001b[43m \u001b[49m\u001b[43m[\u001b[49m\u001b[43m]\u001b[49m\u001b[43m,\u001b[49m\u001b[43m \u001b[49m\u001b[43m[\u001b[49m\u001b[43m]\u001b[49m\u001b[43m,\u001b[49m\u001b[43m \u001b[49m\u001b[43mdonated_argnums\u001b[49m\u001b[43m,\u001b[49m\n\u001b[1;32m   1213\u001b[0m \u001b[43m                    \u001b[49m\u001b[43mtree_util\u001b[49m\u001b[38;5;241;43m.\u001b[39;49m\u001b[43mdispatch_registry\u001b[49m\u001b[43m,\u001b[49m\n\u001b[1;32m   1214\u001b[0m \u001b[43m                    \u001b[49m\u001b[43m_get_cpp_global_cache\u001b[49m\u001b[43m(\u001b[49m\u001b[43mhas_explicit_sharding\u001b[49m\u001b[43m)\u001b[49m\u001b[43m)\u001b[49m\u001b[43m(\u001b[49m\u001b[38;5;241;43m*\u001b[39;49m\u001b[43margs\u001b[49m\u001b[43m)\u001b[49m\n",
      "File \u001b[0;32m~/miniconda3/envs/iblenv/lib/python3.9/site-packages/jax/_src/pjit.py:1196\u001b[0m, in \u001b[0;36m_pjit_call_impl.<locals>.call_impl_cache_miss\u001b[0;34m(*args_, **kwargs_)\u001b[0m\n\u001b[1;32m   1195\u001b[0m \u001b[38;5;28;01mdef\u001b[39;00m \u001b[38;5;21mcall_impl_cache_miss\u001b[39m(\u001b[38;5;241m*\u001b[39margs_, \u001b[38;5;241m*\u001b[39m\u001b[38;5;241m*\u001b[39mkwargs_):\n\u001b[0;32m-> 1196\u001b[0m   out_flat, compiled \u001b[38;5;241m=\u001b[39m \u001b[43m_pjit_call_impl_python\u001b[49m\u001b[43m(\u001b[49m\n\u001b[1;32m   1197\u001b[0m \u001b[43m      \u001b[49m\u001b[38;5;241;43m*\u001b[39;49m\u001b[43margs\u001b[49m\u001b[43m,\u001b[49m\u001b[43m \u001b[49m\u001b[43mjaxpr\u001b[49m\u001b[38;5;241;43m=\u001b[39;49m\u001b[43mjaxpr\u001b[49m\u001b[43m,\u001b[49m\u001b[43m \u001b[49m\u001b[43min_shardings\u001b[49m\u001b[38;5;241;43m=\u001b[39;49m\u001b[43min_shardings\u001b[49m\u001b[43m,\u001b[49m\n\u001b[1;32m   1198\u001b[0m \u001b[43m      \u001b[49m\u001b[43mout_shardings\u001b[49m\u001b[38;5;241;43m=\u001b[39;49m\u001b[43mout_shardings\u001b[49m\u001b[43m,\u001b[49m\u001b[43m \u001b[49m\u001b[43mresource_env\u001b[49m\u001b[38;5;241;43m=\u001b[39;49m\u001b[43mresource_env\u001b[49m\u001b[43m,\u001b[49m\n\u001b[1;32m   1199\u001b[0m \u001b[43m      \u001b[49m\u001b[43mdonated_invars\u001b[49m\u001b[38;5;241;43m=\u001b[39;49m\u001b[43mdonated_invars\u001b[49m\u001b[43m,\u001b[49m\u001b[43m \u001b[49m\u001b[43mname\u001b[49m\u001b[38;5;241;43m=\u001b[39;49m\u001b[43mname\u001b[49m\u001b[43m,\u001b[49m\u001b[43m \u001b[49m\u001b[43mkeep_unused\u001b[49m\u001b[38;5;241;43m=\u001b[39;49m\u001b[43mkeep_unused\u001b[49m\u001b[43m,\u001b[49m\n\u001b[1;32m   1200\u001b[0m \u001b[43m      \u001b[49m\u001b[43minline\u001b[49m\u001b[38;5;241;43m=\u001b[39;49m\u001b[43minline\u001b[49m\u001b[43m)\u001b[49m\n\u001b[1;32m   1201\u001b[0m   fastpath_data \u001b[38;5;241m=\u001b[39m _get_fastpath_data(\n\u001b[1;32m   1202\u001b[0m       compiled, tree_structure(out_flat), args, out_flat)\n\u001b[1;32m   1203\u001b[0m   \u001b[38;5;28;01mreturn\u001b[39;00m out_flat, fastpath_data\n",
      "File \u001b[0;32m~/miniconda3/envs/iblenv/lib/python3.9/site-packages/jax/_src/pjit.py:1129\u001b[0m, in \u001b[0;36m_pjit_call_impl_python\u001b[0;34m(jaxpr, in_shardings, out_shardings, resource_env, donated_invars, name, keep_unused, inline, *args)\u001b[0m\n\u001b[1;32m   1123\u001b[0m \u001b[38;5;28;01mglobal\u001b[39;00m _most_recent_pjit_call_executable\n\u001b[1;32m   1125\u001b[0m in_shardings \u001b[38;5;241m=\u001b[39m _resolve_in_shardings(\n\u001b[1;32m   1126\u001b[0m     args, in_shardings, out_shardings,\n\u001b[1;32m   1127\u001b[0m     resource_env\u001b[38;5;241m.\u001b[39mphysical_mesh \u001b[38;5;28;01mif\u001b[39;00m resource_env \u001b[38;5;129;01mis\u001b[39;00m \u001b[38;5;129;01mnot\u001b[39;00m \u001b[38;5;28;01mNone\u001b[39;00m \u001b[38;5;28;01melse\u001b[39;00m \u001b[38;5;28;01mNone\u001b[39;00m)\n\u001b[0;32m-> 1129\u001b[0m compiled \u001b[38;5;241m=\u001b[39m \u001b[43m_pjit_lower\u001b[49m\u001b[43m(\u001b[49m\n\u001b[1;32m   1130\u001b[0m \u001b[43m    \u001b[49m\u001b[43mjaxpr\u001b[49m\u001b[43m,\u001b[49m\u001b[43m \u001b[49m\u001b[43min_shardings\u001b[49m\u001b[43m,\u001b[49m\u001b[43m \u001b[49m\u001b[43mout_shardings\u001b[49m\u001b[43m,\u001b[49m\u001b[43m \u001b[49m\u001b[43mresource_env\u001b[49m\u001b[43m,\u001b[49m\n\u001b[1;32m   1131\u001b[0m \u001b[43m    \u001b[49m\u001b[43mdonated_invars\u001b[49m\u001b[43m,\u001b[49m\u001b[43m \u001b[49m\u001b[43mname\u001b[49m\u001b[43m,\u001b[49m\u001b[43m \u001b[49m\u001b[43mkeep_unused\u001b[49m\u001b[43m,\u001b[49m\u001b[43m \u001b[49m\u001b[43minline\u001b[49m\u001b[43m,\u001b[49m\n\u001b[1;32m   1132\u001b[0m \u001b[43m    \u001b[49m\u001b[43mlowering_parameters\u001b[49m\u001b[38;5;241;43m=\u001b[39;49m\u001b[43mmlir\u001b[49m\u001b[38;5;241;43m.\u001b[39;49m\u001b[43mLoweringParameters\u001b[49m\u001b[43m(\u001b[49m\u001b[43m)\u001b[49m\u001b[43m)\u001b[49m\u001b[38;5;241;43m.\u001b[39;49m\u001b[43mcompile\u001b[49m\u001b[43m(\u001b[49m\u001b[43m)\u001b[49m\n\u001b[1;32m   1133\u001b[0m _most_recent_pjit_call_executable\u001b[38;5;241m.\u001b[39mweak_key_dict[jaxpr] \u001b[38;5;241m=\u001b[39m compiled\n\u001b[1;32m   1134\u001b[0m \u001b[38;5;66;03m# This check is expensive so only do it if enable_checks is on.\u001b[39;00m\n",
      "File \u001b[0;32m~/miniconda3/envs/iblenv/lib/python3.9/site-packages/jax/_src/interpreters/pxla.py:2258\u001b[0m, in \u001b[0;36mMeshComputation.compile\u001b[0;34m(self, compiler_options)\u001b[0m\n\u001b[1;32m   2256\u001b[0m \u001b[38;5;28;01mdef\u001b[39;00m \u001b[38;5;21mcompile\u001b[39m(\u001b[38;5;28mself\u001b[39m, compiler_options\u001b[38;5;241m=\u001b[39m\u001b[38;5;28;01mNone\u001b[39;00m) \u001b[38;5;241m-\u001b[39m\u001b[38;5;241m>\u001b[39m MeshExecutable:\n\u001b[1;32m   2257\u001b[0m   \u001b[38;5;28;01mif\u001b[39;00m \u001b[38;5;28mself\u001b[39m\u001b[38;5;241m.\u001b[39m_executable \u001b[38;5;129;01mis\u001b[39;00m \u001b[38;5;28;01mNone\u001b[39;00m \u001b[38;5;129;01mor\u001b[39;00m compiler_options \u001b[38;5;129;01mis\u001b[39;00m \u001b[38;5;129;01mnot\u001b[39;00m \u001b[38;5;28;01mNone\u001b[39;00m:\n\u001b[0;32m-> 2258\u001b[0m     executable \u001b[38;5;241m=\u001b[39m \u001b[43mUnloadedMeshExecutable\u001b[49m\u001b[38;5;241;43m.\u001b[39;49m\u001b[43mfrom_hlo\u001b[49m\u001b[43m(\u001b[49m\n\u001b[1;32m   2259\u001b[0m \u001b[43m        \u001b[49m\u001b[38;5;28;43mself\u001b[39;49m\u001b[38;5;241;43m.\u001b[39;49m\u001b[43m_name\u001b[49m\u001b[43m,\u001b[49m\u001b[43m \u001b[49m\u001b[38;5;28;43mself\u001b[39;49m\u001b[38;5;241;43m.\u001b[39;49m\u001b[43m_hlo\u001b[49m\u001b[43m,\u001b[49m\u001b[43m \u001b[49m\u001b[38;5;241;43m*\u001b[39;49m\u001b[38;5;241;43m*\u001b[39;49m\u001b[38;5;28;43mself\u001b[39;49m\u001b[38;5;241;43m.\u001b[39;49m\u001b[43mcompile_args\u001b[49m\u001b[43m,\u001b[49m\n\u001b[1;32m   2260\u001b[0m \u001b[43m        \u001b[49m\u001b[43mcompiler_options\u001b[49m\u001b[38;5;241;43m=\u001b[39;49m\u001b[43mcompiler_options\u001b[49m\u001b[43m)\u001b[49m\n\u001b[1;32m   2261\u001b[0m     \u001b[38;5;28;01mif\u001b[39;00m compiler_options \u001b[38;5;129;01mis\u001b[39;00m \u001b[38;5;28;01mNone\u001b[39;00m:\n\u001b[1;32m   2262\u001b[0m       \u001b[38;5;28mself\u001b[39m\u001b[38;5;241m.\u001b[39m_executable \u001b[38;5;241m=\u001b[39m executable\n",
      "File \u001b[0;32m~/miniconda3/envs/iblenv/lib/python3.9/site-packages/jax/_src/interpreters/pxla.py:2606\u001b[0m, in \u001b[0;36mUnloadedMeshExecutable.from_hlo\u001b[0;34m(***failed resolving arguments***)\u001b[0m\n\u001b[1;32m   2603\u001b[0m       mesh \u001b[38;5;241m=\u001b[39m i\u001b[38;5;241m.\u001b[39mmesh  \u001b[38;5;66;03m# type: ignore\u001b[39;00m\n\u001b[1;32m   2604\u001b[0m       \u001b[38;5;28;01mbreak\u001b[39;00m\n\u001b[0;32m-> 2606\u001b[0m xla_executable, compile_options \u001b[38;5;241m=\u001b[39m \u001b[43m_cached_compilation\u001b[49m\u001b[43m(\u001b[49m\n\u001b[1;32m   2607\u001b[0m \u001b[43m    \u001b[49m\u001b[43mhlo\u001b[49m\u001b[43m,\u001b[49m\u001b[43m \u001b[49m\u001b[43mname\u001b[49m\u001b[43m,\u001b[49m\u001b[43m \u001b[49m\u001b[43mmesh\u001b[49m\u001b[43m,\u001b[49m\u001b[43m \u001b[49m\u001b[43mspmd_lowering\u001b[49m\u001b[43m,\u001b[49m\n\u001b[1;32m   2608\u001b[0m \u001b[43m    \u001b[49m\u001b[43mtuple_args\u001b[49m\u001b[43m,\u001b[49m\u001b[43m \u001b[49m\u001b[43mauto_spmd_lowering\u001b[49m\u001b[43m,\u001b[49m\u001b[43m \u001b[49m\u001b[43mallow_prop_to_outputs\u001b[49m\u001b[43m,\u001b[49m\n\u001b[1;32m   2609\u001b[0m \u001b[43m    \u001b[49m\u001b[38;5;28;43mtuple\u001b[39;49m\u001b[43m(\u001b[49m\u001b[43mhost_callbacks\u001b[49m\u001b[43m)\u001b[49m\u001b[43m,\u001b[49m\u001b[43m \u001b[49m\u001b[43mbackend\u001b[49m\u001b[43m,\u001b[49m\u001b[43m \u001b[49m\u001b[43mda\u001b[49m\u001b[43m,\u001b[49m\u001b[43m \u001b[49m\u001b[43mpmap_nreps\u001b[49m\u001b[43m,\u001b[49m\n\u001b[1;32m   2610\u001b[0m \u001b[43m    \u001b[49m\u001b[43mcompiler_options_keys\u001b[49m\u001b[43m,\u001b[49m\u001b[43m \u001b[49m\u001b[43mcompiler_options_values\u001b[49m\u001b[43m)\u001b[49m\n\u001b[1;32m   2612\u001b[0m \u001b[38;5;28;01mif\u001b[39;00m \u001b[38;5;28mhasattr\u001b[39m(backend, \u001b[38;5;124m\"\u001b[39m\u001b[38;5;124mcompile_replicated\u001b[39m\u001b[38;5;124m\"\u001b[39m):\n\u001b[1;32m   2613\u001b[0m   semantics_in_shardings \u001b[38;5;241m=\u001b[39m SemanticallyEqualShardings(in_shardings)  \u001b[38;5;66;03m# type: ignore\u001b[39;00m\n",
      "File \u001b[0;32m~/miniconda3/envs/iblenv/lib/python3.9/site-packages/jax/_src/interpreters/pxla.py:2513\u001b[0m, in \u001b[0;36m_cached_compilation\u001b[0;34m(computation, name, mesh, spmd_lowering, tuple_args, auto_spmd_lowering, _allow_propagation_to_outputs, host_callbacks, backend, da, pmap_nreps, compiler_options_keys, compiler_options_values)\u001b[0m\n\u001b[1;32m   2508\u001b[0m   \u001b[38;5;28;01mreturn\u001b[39;00m \u001b[38;5;28;01mNone\u001b[39;00m, compile_options\n\u001b[1;32m   2510\u001b[0m \u001b[38;5;28;01mwith\u001b[39;00m dispatch\u001b[38;5;241m.\u001b[39mlog_elapsed_time(\n\u001b[1;32m   2511\u001b[0m     \u001b[38;5;124m\"\u001b[39m\u001b[38;5;124mFinished XLA compilation of \u001b[39m\u001b[38;5;132;01m{fun_name}\u001b[39;00m\u001b[38;5;124m in \u001b[39m\u001b[38;5;132;01m{elapsed_time}\u001b[39;00m\u001b[38;5;124m sec\u001b[39m\u001b[38;5;124m\"\u001b[39m,\n\u001b[1;32m   2512\u001b[0m     fun_name\u001b[38;5;241m=\u001b[39mname, event\u001b[38;5;241m=\u001b[39mdispatch\u001b[38;5;241m.\u001b[39mBACKEND_COMPILE_EVENT):\n\u001b[0;32m-> 2513\u001b[0m   xla_executable \u001b[38;5;241m=\u001b[39m \u001b[43mcompiler\u001b[49m\u001b[38;5;241;43m.\u001b[39;49m\u001b[43mcompile_or_get_cached\u001b[49m\u001b[43m(\u001b[49m\n\u001b[1;32m   2514\u001b[0m \u001b[43m      \u001b[49m\u001b[43mbackend\u001b[49m\u001b[43m,\u001b[49m\u001b[43m \u001b[49m\u001b[43mcomputation\u001b[49m\u001b[43m,\u001b[49m\u001b[43m \u001b[49m\u001b[43mdev\u001b[49m\u001b[43m,\u001b[49m\u001b[43m \u001b[49m\u001b[43mcompile_options\u001b[49m\u001b[43m,\u001b[49m\u001b[43m \u001b[49m\u001b[43mhost_callbacks\u001b[49m\u001b[43m)\u001b[49m\n\u001b[1;32m   2515\u001b[0m \u001b[38;5;28;01mreturn\u001b[39;00m xla_executable, compile_options\n",
      "File \u001b[0;32m~/miniconda3/envs/iblenv/lib/python3.9/site-packages/jax/_src/compiler.py:295\u001b[0m, in \u001b[0;36mcompile_or_get_cached\u001b[0;34m(backend, computation, devices, compile_options, host_callbacks)\u001b[0m\n\u001b[1;32m    291\u001b[0m use_compilation_cache \u001b[38;5;241m=\u001b[39m (compilation_cache\u001b[38;5;241m.\u001b[39mis_initialized() \u001b[38;5;129;01mand\u001b[39;00m\n\u001b[1;32m    292\u001b[0m                          backend\u001b[38;5;241m.\u001b[39mplatform \u001b[38;5;129;01min\u001b[39;00m supported_platforms)\n\u001b[1;32m    294\u001b[0m \u001b[38;5;28;01mif\u001b[39;00m \u001b[38;5;129;01mnot\u001b[39;00m use_compilation_cache:\n\u001b[0;32m--> 295\u001b[0m   \u001b[38;5;28;01mreturn\u001b[39;00m \u001b[43mbackend_compile\u001b[49m\u001b[43m(\u001b[49m\u001b[43mbackend\u001b[49m\u001b[43m,\u001b[49m\u001b[43m \u001b[49m\u001b[43mcomputation\u001b[49m\u001b[43m,\u001b[49m\u001b[43m \u001b[49m\u001b[43mcompile_options\u001b[49m\u001b[43m,\u001b[49m\n\u001b[1;32m    296\u001b[0m \u001b[43m                         \u001b[49m\u001b[43mhost_callbacks\u001b[49m\u001b[43m)\u001b[49m\n\u001b[1;32m    298\u001b[0m \u001b[38;5;28;01mglobal\u001b[39;00m _cache_used\n\u001b[1;32m    299\u001b[0m \u001b[38;5;28;01mif\u001b[39;00m \u001b[38;5;129;01mnot\u001b[39;00m _cache_used:\n",
      "File \u001b[0;32m~/miniconda3/envs/iblenv/lib/python3.9/site-packages/jax/_src/profiler.py:340\u001b[0m, in \u001b[0;36mannotate_function.<locals>.wrapper\u001b[0;34m(*args, **kwargs)\u001b[0m\n\u001b[1;32m    337\u001b[0m \u001b[38;5;129m@wraps\u001b[39m(func)\n\u001b[1;32m    338\u001b[0m \u001b[38;5;28;01mdef\u001b[39;00m \u001b[38;5;21mwrapper\u001b[39m(\u001b[38;5;241m*\u001b[39margs, \u001b[38;5;241m*\u001b[39m\u001b[38;5;241m*\u001b[39mkwargs):\n\u001b[1;32m    339\u001b[0m   \u001b[38;5;28;01mwith\u001b[39;00m TraceAnnotation(name, \u001b[38;5;241m*\u001b[39m\u001b[38;5;241m*\u001b[39mdecorator_kwargs):\n\u001b[0;32m--> 340\u001b[0m     \u001b[38;5;28;01mreturn\u001b[39;00m \u001b[43mfunc\u001b[49m\u001b[43m(\u001b[49m\u001b[38;5;241;43m*\u001b[39;49m\u001b[43margs\u001b[49m\u001b[43m,\u001b[49m\u001b[43m \u001b[49m\u001b[38;5;241;43m*\u001b[39;49m\u001b[38;5;241;43m*\u001b[39;49m\u001b[43mkwargs\u001b[49m\u001b[43m)\u001b[49m\n\u001b[1;32m    341\u001b[0m   \u001b[38;5;28;01mreturn\u001b[39;00m wrapper\n",
      "File \u001b[0;32m~/miniconda3/envs/iblenv/lib/python3.9/site-packages/jax/_src/compiler.py:255\u001b[0m, in \u001b[0;36mbackend_compile\u001b[0;34m(backend, module, options, host_callbacks)\u001b[0m\n\u001b[1;32m    250\u001b[0m   \u001b[38;5;28;01mreturn\u001b[39;00m backend\u001b[38;5;241m.\u001b[39mcompile(built_c, compile_options\u001b[38;5;241m=\u001b[39moptions,\n\u001b[1;32m    251\u001b[0m                          host_callbacks\u001b[38;5;241m=\u001b[39mhost_callbacks)\n\u001b[1;32m    252\u001b[0m \u001b[38;5;66;03m# Some backends don't have `host_callbacks` option yet\u001b[39;00m\n\u001b[1;32m    253\u001b[0m \u001b[38;5;66;03m# TODO(sharadmv): remove this fallback when all backends allow `compile`\u001b[39;00m\n\u001b[1;32m    254\u001b[0m \u001b[38;5;66;03m# to take in `host_callbacks`\u001b[39;00m\n\u001b[0;32m--> 255\u001b[0m \u001b[38;5;28;01mreturn\u001b[39;00m \u001b[43mbackend\u001b[49m\u001b[38;5;241;43m.\u001b[39;49m\u001b[43mcompile\u001b[49m\u001b[43m(\u001b[49m\u001b[43mbuilt_c\u001b[49m\u001b[43m,\u001b[49m\u001b[43m \u001b[49m\u001b[43mcompile_options\u001b[49m\u001b[38;5;241;43m=\u001b[39;49m\u001b[43moptions\u001b[49m\u001b[43m)\u001b[49m\n",
      "\u001b[0;31mKeyboardInterrupt\u001b[0m: "
     ]
    }
   ],
   "source": [
    "import os\n",
    "import sys\n",
    "import time\n",
    "import pickle\n",
    "from IPython.display import display, Javascript\n",
    "\n",
    "# Save the state before restarting\n",
    "def save_state(state, state_filename='state.pkl'):\n",
    "    with open(state_filename, 'wb') as f:\n",
    "        pickle.dump(state, f)\n",
    "\n",
    "# Load the state after restarting\n",
    "def load_state(state_filename='state.pkl'):\n",
    "    with open(state_filename, 'rb') as f:\n",
    "        return pickle.load(f)\n",
    "\n",
    "# Restart the kernel\n",
    "def restart_kernel():\n",
    "    display(Javascript('Jupyter.notebook.kernel.restart()'))\n",
    "\n",
    "# Restart the program\n",
    "def restart_program():\n",
    "    \"\"\"Restarts the current program.\"\"\"\n",
    "    print(\"Restarting the program...\")\n",
    "    os.execv(sys.executable, ['python'] + sys.argv)\n",
    "\n",
    "##################################################\n",
    "################### MY CODE ######################\n",
    "##################################################\n",
    "\n",
    "import os\n",
    "import autograd.numpy as np\n",
    "import pickle\n",
    "from collections import defaultdict\n",
    "import tracemalloc\n",
    "import gc\n",
    "from one.api import ONE\n",
    "import jax.numpy as jnp\n",
    "import jax.random as jr\n",
    "from dynamax.hidden_markov_model import LinearAutoregressiveHMM\n",
    "import sys\n",
    "import jax\n",
    "\n",
    "# Get my functions\n",
    "functions_path =  '/home/ines/repositories/representation_learning_variability/Models/Sub-trial//2_fit_models/'\n",
    "#functions_path = '/Users/ineslaranjeira/Documents/Repositories/representation_learning_variability//Models/Sub-trial//2_fit_models/'\n",
    "os.chdir(functions_path)\n",
    "from preprocessing_functions import concatenate_sessions\n",
    "from fitting_functions import cross_validate_armodel, compute_inputs\n",
    "one = ONE(mode=\"remote\")\n",
    "\n",
    "\"\"\" \n",
    "PARAMETERS\n",
    "\"\"\"\n",
    "bin_size = 0.1\n",
    "# bin_size = 0.02^\n",
    "multiplier = 1/bin_size\n",
    "num_iters = 100\n",
    "num_train_batches = 5\n",
    "method = 'kmeans'\n",
    "threshold = 0.05\n",
    "\n",
    "\"\"\" \n",
    "FITTING PARAMETERS\n",
    "\"\"\"\n",
    "\n",
    "var_interest = 'whisker_me'\n",
    "concatenate = False\n",
    "num_states = 2\n",
    "last_lag = 20\n",
    "lag_step = 2\n",
    "start_lag = 1\n",
    "all_num_lags = list(range(start_lag, last_lag, lag_step))\n",
    "\n",
    "sticky = False\n",
    "if sticky == True:\n",
    "    kappas = [1, 5, 10, 100, 500, 1000, 2000, 5000, 7000, 10000]\n",
    "else:\n",
    "    kappas = [0, 0.2, 0.5, 0.7, 1, 5, 10, 100, 500, 1000, 2000, 5000, 7000, 10000]\n",
    "    kappas = [0, 0.2, 0.5, 0.7, 1, 5, 10, 100, 500, 1000, 2000, 5000, 7000, 10000]\n",
    "    kappas = [0, 0.5, 1, 5, 10, 100, 1000, 5000, 10000]\n",
    "    \n",
    "data_file = \"preprocessed_data_v4_171224_alltrials\"\n",
    "if data_file == \"preprocessed_data_v4_170724\":\n",
    "    use_sets = [['avg_wheel_vel'], ['Lick count'], ['whisker_me'],\n",
    "                ['left_X', 'left_Y', 'right_X', 'right_Y'], ['nose_X', 'nose_Y']]\n",
    "    var_interest_map = ['avg_wheel_vel', 'Lick count', 'whisker_me', 'left_X', 'nose_X']\n",
    "    idx_init_list = [0, 1, 2, 3, 7]\n",
    "    idx_end_list = [1, 2, 3, 7, 9]\n",
    "    \n",
    "    # Load preprocessed data\n",
    "    prepro_results_path =  '/home/ines/repositories/representation_learning_variability/DATA/Sub-trial/Results/90_trials/' + str(bin_size) + '/'\n",
    "    os.chdir(prepro_results_path)\n",
    "    idxs, mouse_names, matrix_all, matrix_all_unnorm, session_all = pickle.load(open(prepro_results_path + data_file, \"rb\"))\n",
    "    collapsed_matrices, collapsed_unnorm, collapsed_trials = concatenate_sessions (mouse_names, matrix_all, matrix_all_unnorm, session_all)\n",
    "    \n",
    "elif data_file == \"preprocessed_data_v4_171224_alltrials\":\n",
    "    use_sets = [['avg_wheel_vel'], ['whisker_me'], ['Lick count']]\n",
    "    var_interest_map = ['avg_wheel_vel', 'whisker_me', 'Lick count']\n",
    "    idx_init_list = [0, 1, 2]\n",
    "    idx_end_list = [1, 2, 3]\n",
    "    \n",
    "    # Load preprocessed data\n",
    "    prepro_results_path =  '/home/ines/repositories/representation_learning_variability/DATA/Sub-trial/Results/' + str(bin_size) + '/'\n",
    "    os.chdir(prepro_results_path)\n",
    "    idxs, mouse_names, matrix_all, matrix_all_unnorm, session_all = pickle.load(open(prepro_results_path + data_file, \"rb\"))\n",
    "    collapsed_matrices, collapsed_unnorm, collapsed_trials = concatenate_sessions (mouse_names, matrix_all, matrix_all_unnorm, session_all)\n",
    "\n",
    "\n",
    "# Loop through mice to find next one\n",
    "for m, mat in enumerate(idxs):\n",
    "    if len(mat) > 35:\n",
    "        mouse_name = mat[37:]\n",
    "        session = mat[0:36]\n",
    "        fit_id = str(mouse_name+session)\n",
    "        if sticky:\n",
    "            filename = \"best_sticky_results_\" + var_interest + '_' + fit_id\n",
    "        else:\n",
    "            filename = \"best_results_\" + var_interest + '_' + fit_id\n",
    "        data_path =  '/home/ines/repositories/representation_learning_variability/DATA/Sub-trial/Results/' + str(bin_size) + '/'+str(num_states)+'_states/grid_search/individual_sessions/'\n",
    "        os.chdir(data_path)\n",
    "        files = os.listdir()\n",
    "\n",
    "\"\"\" \n",
    "FUNCTIONS\n",
    "\"\"\"\n",
    "# The good one\n",
    "def grid_search_lag_kappa(id, matrix_all, collapsed_matrices, var_interest, var_interest_map, idx_init_list, idx_end_list, use_sets, concatenate, num_states, all_num_lags, kappas, sticky):\n",
    "    \n",
    "    index_var = np.where(np.array(var_interest_map)==var_interest)[0][0]\n",
    "    idx_init = idx_init_list[index_var]\n",
    "    idx_end = idx_end_list[index_var]\n",
    "    var_names = use_sets[index_var]\n",
    "    \n",
    "    # Initialize vars for saving results\n",
    "    all_init_params = defaultdict(list)\n",
    "    all_fit_params = defaultdict(list)\n",
    "    all_lls = defaultdict(list)\n",
    "    all_baseline_lls = defaultdict(list)\n",
    "    \n",
    "    # Get mouse data\n",
    "    if concatenate == True:\n",
    "        mouse_name = id\n",
    "        design_matrix = collapsed_matrices[mouse_name][:,idx_init:idx_end]\n",
    "        fit_id = mouse_name\n",
    "    else:\n",
    "        mouse_name, session = id\n",
    "        design_matrix = matrix_all[mouse_name][session][:,idx_init:idx_end]\n",
    "        fit_id = str(mouse_name+session)\n",
    "\n",
    "    if len(np.shape(design_matrix)) > 2:\n",
    "        design_matrix = design_matrix[0]\n",
    "\n",
    "    print('Fitting mouse ' + mouse_name)\n",
    "        \n",
    "    \" Fit model with cross-validation\"\n",
    "    # Prepare data for cross-validationfrom jax.interpreters import xla\n",
    "\n",
    "    num_timesteps = np.shape(design_matrix)[0]\n",
    "    emission_dim = np.shape(design_matrix)[1]\n",
    "    shortened_array = np.array(design_matrix[:(num_timesteps // num_train_batches) * num_train_batches])\n",
    "    train_emissions = jnp.stack(jnp.split(shortened_array, num_train_batches))\n",
    "    \n",
    "    \" Fit model with cross-validation across kappas and lags \"\n",
    "    for lag in all_num_lags:\n",
    "        \n",
    "        # print(f\"fitting model with {lag} lags\")\n",
    "        # Initialize lag \n",
    "        all_lls[lag] = {}\n",
    "        all_baseline_lls[lag] = {}\n",
    "        all_init_params[lag] = {}\n",
    "        all_fit_params[lag] = {}\n",
    "        \n",
    "        for kappa in kappas:\n",
    "            \n",
    "            # print(f\"fitting model with kappa {kappa}\")\n",
    "            # Initialize stickiness \n",
    "            all_lls[lag][kappa] = {}\n",
    "            all_baseline_lls[lag][kappa] = {}\n",
    "            all_init_params[lag][kappa] = {}\n",
    "            all_fit_params[lag][kappa] = {}\n",
    "        \n",
    "            # Make a range of Gaussian HMMs\n",
    "            test_arhmm = LinearAutoregressiveHMM(num_states, emission_dim, num_lags=lag, transition_matrix_stickiness=kappa)\n",
    "            # Compute inputs for required timelags\n",
    "            my_inputs = compute_inputs(shortened_array, lag, emission_dim)\n",
    "            train_inputs = jnp.stack(jnp.split(my_inputs, num_train_batches))\n",
    "        \n",
    "            all_val_lls, fit_params, init_params, baseline_lls = cross_validate_armodel(test_arhmm, jr.PRNGKey(0), shortened_array, \n",
    "                                                train_emissions, train_inputs, method, num_train_batches)\n",
    "        \n",
    "            # Save results\n",
    "            all_lls[lag][kappa] = all_val_lls\n",
    "            all_baseline_lls[lag][kappa] = baseline_lls\n",
    "            all_init_params[lag][kappa] = init_params\n",
    "            all_fit_params[lag][kappa] = fit_params\n",
    "            \n",
    "            gc.collect()\n",
    "            # pdb.set_trace()\n",
    "                \n",
    "    mouse_results = all_lls, all_baseline_lls, all_init_params, all_fit_params, design_matrix, kappas, all_num_lags\n",
    "    \n",
    "    # Save design matrix\n",
    "    data_path =  '/home/ines/repositories/representation_learning_variability/DATA/Sub-trial/Results/' + str(bin_size) + '/'+str(num_states)+'_states/grid_search/individual_sessions/'\n",
    "    os.chdir(data_path)\n",
    "    \n",
    "    if sticky == True:\n",
    "        pickle.dump(mouse_results, open(\"best_sticky_results_\" + var_names[0] + '_' + fit_id , \"wb\"))\n",
    "    else:\n",
    "        pickle.dump(mouse_results, open(\"best_results_\" + var_names[0] + '_' + fit_id , \"wb\"))\n",
    "\n",
    "    del mouse_results, all_lls, all_baseline_lls, all_init_params, all_fit_params\n",
    "    \n",
    "    # snapshot = tracemalloc.take_snapshot()\n",
    "    # top_stats = snapshot.statistics('lineno')\n",
    "\n",
    "    # print(\"[ Top 10 ]\")\n",
    "    # for stat in top_stats[:10]:\n",
    "    #     print(stat)\n",
    "    \n",
    "    # tracemalloc.clear_traces()\n",
    "    # Clear caches and collect garbage\n",
    "    jax.clear_caches()\n",
    "    gc.collect()\n",
    "                \n",
    "                \n",
    "# Example state\n",
    "state = {'iteration': 0}\n",
    "\n",
    "# Loop with kernel restarts\n",
    "for m, mat in enumerate(idxs):\n",
    "    state['iteration'] = m\n",
    "    print(f\"Loop iteration {m}\")\n",
    "    \n",
    "    # Your processing code here\n",
    "\n",
    "    print(mat)\n",
    "    mouse_name = mat[37:]\n",
    "    session = mat[0:36]\n",
    "    # mouse_name = 'ZM_3003'\n",
    "    # session = '934dd7a4-fbdc-459c-8830-04fe9033bc28'\n",
    "    fit_id = str(mouse_name+session)\n",
    "    # Check if session has been computed\n",
    "    if sticky:\n",
    "        filename = \"best_sticky_results_\" + var_interest + '_' + fit_id\n",
    "    else:\n",
    "        filename = \"best_results_\" + var_interest + '_' + fit_id\n",
    "    if filename not in files:\n",
    "        id = mouse_name, session\n",
    "        print(filename)\n",
    "        grid_search_lag_kappa(id, matrix_all, collapsed_matrices, var_interest, var_interest_map, idx_init_list, idx_end_list, use_sets, concatenate, num_states, all_num_lags, kappas, sticky)\n",
    "\n",
    "    save_state(state)\n",
    "    restart_kernel()\n",
    "    # restart_program()\n",
    "    time.sleep(10)  # Adjust sleep time if needed\n",
    "\n",
    "    state = load_state()\n",
    "    import os, sys, time, pickle  # Re-import modules\n",
    "    \n",
    "    print(f\"Restored state: {state}\")\n",
    "\n",
    "print(\"Processing completed.\")"
   ]
  },
  {
   "cell_type": "code",
   "execution_count": null,
   "metadata": {},
   "outputs": [],
   "source": []
  }
 ],
 "metadata": {
  "kernelspec": {
   "display_name": "iblenv",
   "language": "python",
   "name": "python3"
  },
  "language_info": {
   "codemirror_mode": {
    "name": "ipython",
    "version": 3
   },
   "file_extension": ".py",
   "mimetype": "text/x-python",
   "name": "python",
   "nbconvert_exporter": "python",
   "pygments_lexer": "ipython3",
   "version": "3.9.15"
  },
  "orig_nbformat": 4,
  "vscode": {
   "interpreter": {
    "hash": "21541729b5da47a594818561e91cb4175a7e192d68b7cc4221509f43b2f902b5"
   }
  }
 },
 "nbformat": 4,
 "nbformat_minor": 2
}
