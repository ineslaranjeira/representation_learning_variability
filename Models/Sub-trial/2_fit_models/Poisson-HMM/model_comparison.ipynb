{
 "cells": [
  {
   "attachments": {},
   "cell_type": "markdown",
   "metadata": {},
   "source": [
    "# Poisson HMM - model comparison"
   ]
  },
  {
   "cell_type": "code",
   "execution_count": 8,
   "metadata": {},
   "outputs": [],
   "source": [
    "\"\"\" \n",
    "IMPORTS\n",
    "\"\"\"\n",
    "import os\n",
    "import autograd.numpy as np\n",
    "import pickle\n",
    "from sklearn.preprocessing import StandardScaler, MinMaxScaler, Normalizer\n",
    "import seaborn as sns\n",
    "from collections import defaultdict\n",
    "import pandas as pd\n",
    "\n",
    "from one.api import ONE\n",
    "from jax import vmap\n",
    "from pprint import pprint\n",
    "import jax.numpy as jnp\n",
    "import jax.random as jr\n",
    "import matplotlib.pyplot as plt\n",
    "from dynamax.hidden_markov_model import PoissonHMM\n",
    "import concurrent.futures\n",
    "\n",
    "# Get my functions\n",
    "functions_path =  '/home/ines/repositories/representation_learning_variability/Models/Sub-trial//2_fit_models/'\n",
    "#functions_path = '/Users/ineslaranjeira/Documents/Repositories/representation_learning_variability//Models/Sub-trial//2_fit_models/'\n",
    "os.chdir(functions_path)\n",
    "from preprocessing_functions import idxs_from_files, prepro_design_matrix, concatenate_sessions\n",
    "from fitting_functions import cross_validate_poismodel, compute_inputs\n",
    "functions_path =  '/home/ines/repositories/representation_learning_variability/Models/Sub-trial//3_postprocess_results/'\n",
    "#functions_path = '/Users/ineslaranjeira/Documents/Repositories/representation_learning_variability//Models/Sub-trial//2_fit_models/'\n",
    "os.chdir(functions_path)\n",
    "from plotting_functions import plot_transition_mat, plot_states_aligned, params_to_df, align_bin_design_matrix, states_per_trial_phase, plot_states_aligned_trial, traces_over_sates\n",
    "\n",
    "one = ONE(mode=\"remote\")"
   ]
  },
  {
   "cell_type": "markdown",
   "metadata": {},
   "source": [
    "## Parameters"
   ]
  },
  {
   "cell_type": "code",
   "execution_count": 9,
   "metadata": {},
   "outputs": [],
   "source": [
    "bin_size = 0.1\n",
    "# bin_size = 0.02\n",
    "\n",
    "# Plotting params\n",
    "multiplier = 1/bin_size\n",
    "\n",
    "event_type_list = ['goCueTrigger_times']  # , 'feedback_times', 'firstMovement_times'\n",
    "event_type_name = ['Go cue']  # , 'Feedback time', 'First movement onset'\n"
   ]
  },
  {
   "cell_type": "code",
   "execution_count": 17,
   "metadata": {},
   "outputs": [],
   "source": [
    "# Load preprocessed data\n",
    "prepro_results_path =  '/home/ines/repositories/representation_learning_variability/DATA/Sub-trial/Results/' + str(bin_size) + '/'\n",
    "os.chdir(prepro_results_path)\n",
    "idxs, mouse_names, matrix_all, matrix_all_unnorm, session_all = pickle.load(open(prepro_results_path + \"preprocessed_data_v4_170724\", \"rb\"))\n",
    "collapsed_matrices, collapsed_unnorm, collapsed_trials = concatenate_sessions (mouse_names, matrix_all, matrix_all_unnorm, session_all)"
   ]
  },
  {
   "cell_type": "markdown",
   "metadata": {},
   "source": [
    "## Parameters"
   ]
  },
  {
   "cell_type": "code",
   "execution_count": 18,
   "metadata": {},
   "outputs": [],
   "source": [
    "num_iters = 100\n",
    "num_train_batches = 5\n",
    "method = 'kmeans'\n",
    "threshold = 0.05\n",
    "\n",
    "\n",
    "use_sets = [['avg_wheel_vel'], ['Lick count'], ['whisker_me'],\n",
    "            ['left_X', 'left_Y', 'right_X', 'right_Y'], ['nose_X', 'nose_Y']]\n",
    "var_interest_map = ['avg_wheel_vel', 'Lick count', 'whisker_me', 'left_X', 'nose_X']\n",
    "idx_init_list = [0, 1, 2, 3, 7]\n",
    "idx_end_list = [1, 2, 3, 7, 9]"
   ]
  },
  {
   "cell_type": "code",
   "execution_count": 19,
   "metadata": {},
   "outputs": [],
   "source": [
    "def grid_search_kappa(mouse_name):\n",
    "\n",
    "    var_interest = 'Lick count'\n",
    "    concatenate = True\n",
    "    num_states = 2\n",
    "\n",
    "    kappas = [0, 5, 10, 50, 100, 500, 800, 1000, 1500]\n",
    "    kappas = [0, 1, 5, 10, 100, 500, 1000, 2000, 5000, 7000, 10000]\n",
    "\n",
    "    index_var = np.where(np.array(var_interest_map)==var_interest)[0][0]\n",
    "    idx_init = idx_init_list[index_var]\n",
    "    idx_end = idx_end_list[index_var]\n",
    "    var_names = use_sets[index_var]\n",
    "    \n",
    "    # Initialize vars for saving results\n",
    "    all_init_params = defaultdict(list)\n",
    "    all_fit_params = defaultdict(list)\n",
    "    all_lls = defaultdict(list)\n",
    "    all_baseline_lls = defaultdict(list)\n",
    "    \n",
    "    print('Fitting mouse ' + mouse_name)\n",
    "    \n",
    "    # Get mouse data\n",
    "    if concatenate == True:\n",
    "        design_matrix = collapsed_matrices[mouse_name][:,idx_init:idx_end]\n",
    "    else:\n",
    "        print('Not ready for non-concatenated sessions')\n",
    "        # design_matrix = matrix_all[mouse_name][session]\n",
    "        \n",
    "    if len(np.shape(design_matrix)) > 2:\n",
    "        design_matrix = design_matrix[0]\n",
    "        \n",
    "    \" Fit model with cross-validation\"\n",
    "    # Prepare data for cross-validation\n",
    "    num_timesteps = np.shape(design_matrix)[0]\n",
    "    emission_dim = np.shape(design_matrix)[1]\n",
    "    shortened_array = np.array(design_matrix[:(num_timesteps // num_train_batches) * num_train_batches])\n",
    "    train_emissions = jnp.stack(jnp.split(shortened_array, num_train_batches))\n",
    "    \n",
    "    \" Fit model with cross-validation across kappas \"\n",
    "    for kappa in kappas:\n",
    "        \n",
    "        print(f\"fitting model with {kappa} kappa\")\n",
    "        \n",
    "        # Make a range of Poisson HMMs\n",
    "        test_arhmm = PoissonHMM(num_states, emission_dim, transition_matrix_stickiness=kappa)\n",
    "    \n",
    "        all_val_lls, fit_params, init_params, baseline_lls = cross_validate_poismodel(test_arhmm, \n",
    "                                                                              jr.PRNGKey(0), shortened_array, \n",
    "                                                                              train_emissions, num_train_batches)\n",
    "        # Save results\n",
    "        all_lls[kappa] = all_val_lls\n",
    "        all_baseline_lls[kappa] = baseline_lls\n",
    "        all_init_params[kappa] = init_params\n",
    "        all_fit_params[kappa] = fit_params\n",
    "            \n",
    "    mouse_results = all_lls, all_baseline_lls, all_init_params, all_fit_params\n",
    "    \n",
    "    # Save design matrix\n",
    "    data_path =  '/home/ines/repositories/representation_learning_variability/DATA/Sub-trial/Results/' + str(bin_size) + '/grid_search/'\n",
    "    os.chdir(data_path)\n",
    "    pickle.dump(mouse_results, open(\"best_results_\" + var_names[0] + '_' + mouse_name , \"wb\"))\n",
    "\n",
    "                \n",
    "def parallel_process_data(sessions, function_name):\n",
    "    with concurrent.futures.ThreadPoolExecutor() as executor:\n",
    "\n",
    "        # Process each chunk in parallel\n",
    "        executor.map(function_name, sessions)\n",
    "        "
   ]
  },
  {
   "cell_type": "code",
   "execution_count": 26,
   "metadata": {},
   "outputs": [
    {
     "name": "stdout",
     "output_type": "stream",
     "text": [
      "UCLA035\n",
      "Fitting mouse UCLA035\n",
      "fitting model with 0 kappa\n",
      "fitting model with 1 kappa\n",
      "fitting model with 5 kappa\n",
      "fitting model with 10 kappa\n",
      "fitting model with 100 kappa\n",
      "fitting model with 500 kappa\n",
      "fitting model with 1000 kappa\n",
      "fitting model with 2000 kappa\n",
      "fitting model with 5000 kappa\n",
      "fitting model with 7000 kappa\n",
      "fitting model with 10000 kappa\n"
     ]
    }
   ],
   "source": [
    "# Loop through animals\n",
    "function_name = grid_search_kappa\n",
    "\n",
    "for m, mouse in enumerate(mouse_names):\n",
    "    filename = \"best_results_\" + 'Lick count' + '_' + mouse\n",
    "    data_path =  '/home/ines/repositories/representation_learning_variability/DATA/Sub-trial/Results/' + str(bin_size) + '/grid_search/'\n",
    "    os.chdir(data_path)\n",
    "    files = os.listdir()\n",
    "    if filename not in files:\n",
    "        print(mouse) \n",
    "        parallel_process_data([mouse], function_name)"
   ]
  },
  {
   "cell_type": "code",
   "execution_count": null,
   "metadata": {},
   "outputs": [],
   "source": []
  }
 ],
 "metadata": {
  "kernelspec": {
   "display_name": "iblenv",
   "language": "python",
   "name": "python3"
  },
  "language_info": {
   "codemirror_mode": {
    "name": "ipython",
    "version": 3
   },
   "file_extension": ".py",
   "mimetype": "text/x-python",
   "name": "python",
   "nbconvert_exporter": "python",
   "pygments_lexer": "ipython3",
   "version": "3.9.15"
  },
  "orig_nbformat": 4,
  "vscode": {
   "interpreter": {
    "hash": "21541729b5da47a594818561e91cb4175a7e192d68b7cc4221509f43b2f902b5"
   }
  }
 },
 "nbformat": 4,
 "nbformat_minor": 2
}
