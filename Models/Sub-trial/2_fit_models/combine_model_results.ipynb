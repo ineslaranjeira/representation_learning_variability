{
 "cells": [
  {
   "attachments": {},
   "cell_type": "markdown",
   "metadata": {},
   "source": [
    "# Combination of fits of different models"
   ]
  },
  {
   "cell_type": "code",
   "execution_count": 1,
   "metadata": {},
   "outputs": [
    {
     "name": "stderr",
     "output_type": "stream",
     "text": [
      "No GPU/TPU found, falling back to CPU. (Set TF_CPP_MIN_LOG_LEVEL=0 and rerun for more info.)\n"
     ]
    },
    {
     "name": "stdout",
     "output_type": "stream",
     "text": [
      "Downloading: /home/ines/Downloads/ONE/alyx.internationalbrainlab.org/tmphw4hchoo/cache.zip Bytes: 127561276\n"
     ]
    },
    {
     "name": "stderr",
     "output_type": "stream",
     "text": [
      " 10%|▉         | 12.0/121.65191268920898 [05:39<51:41, 28.28s/it] \n"
     ]
    },
    {
     "ename": "KeyboardInterrupt",
     "evalue": "",
     "output_type": "error",
     "traceback": [
      "\u001b[0;31m---------------------------------------------------------------------------\u001b[0m",
      "\u001b[0;31mKeyboardInterrupt\u001b[0m                         Traceback (most recent call last)",
      "Cell \u001b[0;32mIn[1], line 33\u001b[0m\n\u001b[1;32m     30\u001b[0m \u001b[39mfrom\u001b[39;00m \u001b[39mfitting_functions\u001b[39;00m \u001b[39mimport\u001b[39;00m cross_validate_armodel, compute_inputs\n\u001b[1;32m     31\u001b[0m \u001b[39mfrom\u001b[39;00m \u001b[39mplotting_functions\u001b[39;00m \u001b[39mimport\u001b[39;00m plot_transition_mat, plot_states_aligned, align_bin_design_matrix, states_per_trial_phase, plot_states_aligned_trial, traces_over_sates, traces_over_few_sates\n\u001b[0;32m---> 33\u001b[0m one \u001b[39m=\u001b[39m ONE()\n",
      "File \u001b[0;32m~/miniconda3/envs/iblenv/lib/python3.9/site-packages/one/api.py:1500\u001b[0m, in \u001b[0;36mONE\u001b[0;34m(mode, wildcards, **kwargs)\u001b[0m\n\u001b[1;32m   1496\u001b[0m     mode \u001b[39m=\u001b[39m \u001b[39m'\u001b[39m\u001b[39mlocal\u001b[39m\u001b[39m'\u001b[39m\n\u001b[1;32m   1498\u001b[0m \u001b[39mif\u001b[39;00m (\u001b[39many\u001b[39m(x \u001b[39min\u001b[39;00m kwargs \u001b[39mfor\u001b[39;00m x \u001b[39min\u001b[39;00m (\u001b[39m'\u001b[39m\u001b[39mbase_url\u001b[39m\u001b[39m'\u001b[39m, \u001b[39m'\u001b[39m\u001b[39musername\u001b[39m\u001b[39m'\u001b[39m, \u001b[39m'\u001b[39m\u001b[39mpassword\u001b[39m\u001b[39m'\u001b[39m)) \u001b[39mor\u001b[39;00m\n\u001b[1;32m   1499\u001b[0m         \u001b[39mnot\u001b[39;00m kwargs\u001b[39m.\u001b[39mget(\u001b[39m'\u001b[39m\u001b[39mcache_dir\u001b[39m\u001b[39m'\u001b[39m, \u001b[39mFalse\u001b[39;00m)):\n\u001b[0;32m-> 1500\u001b[0m     \u001b[39mreturn\u001b[39;00m OneAlyx(mode\u001b[39m=\u001b[39;49mmode, wildcards\u001b[39m=\u001b[39;49mwildcards, \u001b[39m*\u001b[39;49m\u001b[39m*\u001b[39;49mkwargs)\n\u001b[1;32m   1502\u001b[0m \u001b[39m# If cache dir was provided and corresponds to one configured with an Alyx client, use OneAlyx\u001b[39;00m\n\u001b[1;32m   1503\u001b[0m \u001b[39mtry\u001b[39;00m:\n",
      "File \u001b[0;32m~/miniconda3/envs/iblenv/lib/python3.9/site-packages/one/api.py:1551\u001b[0m, in \u001b[0;36mOneAlyx.__init__\u001b[0;34m(self, username, password, base_url, cache_dir, mode, wildcards, tables_dir, **kwargs)\u001b[0m\n\u001b[1;32m   1549\u001b[0m \u001b[39mself\u001b[39m\u001b[39m.\u001b[39m_search_endpoint \u001b[39m=\u001b[39m \u001b[39m'\u001b[39m\u001b[39msessions\u001b[39m\u001b[39m'\u001b[39m\n\u001b[1;32m   1550\u001b[0m \u001b[39m# get parameters override if inputs provided\u001b[39;00m\n\u001b[0;32m-> 1551\u001b[0m \u001b[39msuper\u001b[39;49m(OneAlyx, \u001b[39mself\u001b[39;49m)\u001b[39m.\u001b[39;49m\u001b[39m__init__\u001b[39;49m(\n\u001b[1;32m   1552\u001b[0m     mode\u001b[39m=\u001b[39;49mmode, wildcards\u001b[39m=\u001b[39;49mwildcards, tables_dir\u001b[39m=\u001b[39;49mtables_dir, cache_dir\u001b[39m=\u001b[39;49mcache_dir)\n",
      "File \u001b[0;32m~/miniconda3/envs/iblenv/lib/python3.9/site-packages/one/api.py:84\u001b[0m, in \u001b[0;36mOne.__init__\u001b[0;34m(self, cache_dir, mode, wildcards, tables_dir)\u001b[0m\n\u001b[1;32m     82\u001b[0m \u001b[39m# init the cache file\u001b[39;00m\n\u001b[1;32m     83\u001b[0m \u001b[39mself\u001b[39m\u001b[39m.\u001b[39m_reset_cache()\n\u001b[0;32m---> 84\u001b[0m \u001b[39mself\u001b[39;49m\u001b[39m.\u001b[39;49mload_cache()\n",
      "File \u001b[0;32m~/miniconda3/envs/iblenv/lib/python3.9/site-packages/one/api.py:1651\u001b[0m, in \u001b[0;36mOneAlyx.load_cache\u001b[0;34m(self, tables_dir, clobber, tag)\u001b[0m\n\u001b[1;32m   1649\u001b[0m \u001b[39m# Download the remote cache files\u001b[39;00m\n\u001b[1;32m   1650\u001b[0m _logger\u001b[39m.\u001b[39minfo(\u001b[39m'\u001b[39m\u001b[39mDownloading remote caches...\u001b[39m\u001b[39m'\u001b[39m)\n\u001b[0;32m-> 1651\u001b[0m files \u001b[39m=\u001b[39m \u001b[39mself\u001b[39;49m\u001b[39m.\u001b[39;49malyx\u001b[39m.\u001b[39;49mdownload_cache_tables(cache_info\u001b[39m.\u001b[39;49mget(\u001b[39m'\u001b[39;49m\u001b[39mlocation\u001b[39;49m\u001b[39m'\u001b[39;49m), \u001b[39mself\u001b[39;49m\u001b[39m.\u001b[39;49m_tables_dir)\n\u001b[1;32m   1652\u001b[0m \u001b[39massert\u001b[39;00m \u001b[39many\u001b[39m(files)\n\u001b[1;32m   1653\u001b[0m \u001b[39msuper\u001b[39m(OneAlyx, \u001b[39mself\u001b[39m)\u001b[39m.\u001b[39mload_cache(\u001b[39mself\u001b[39m\u001b[39m.\u001b[39m_tables_dir)  \u001b[39m# Reload cache after download\u001b[39;00m\n",
      "File \u001b[0;32m~/miniconda3/envs/iblenv/lib/python3.9/site-packages/one/webclient.py:803\u001b[0m, in \u001b[0;36mAlyxClient.download_cache_tables\u001b[0;34m(self, source, destination)\u001b[0m\n\u001b[1;32m    801\u001b[0m headers \u001b[39m=\u001b[39m \u001b[39mself\u001b[39m\u001b[39m.\u001b[39m_headers \u001b[39mif\u001b[39;00m source\u001b[39m.\u001b[39mstartswith(\u001b[39mself\u001b[39m\u001b[39m.\u001b[39mbase_url) \u001b[39melse\u001b[39;00m \u001b[39mNone\u001b[39;00m\n\u001b[1;32m    802\u001b[0m \u001b[39mwith\u001b[39;00m tempfile\u001b[39m.\u001b[39mTemporaryDirectory(\u001b[39mdir\u001b[39m\u001b[39m=\u001b[39mdestination) \u001b[39mas\u001b[39;00m tmp:\n\u001b[0;32m--> 803\u001b[0m     file \u001b[39m=\u001b[39m http_download_file(source,\n\u001b[1;32m    804\u001b[0m                               headers\u001b[39m=\u001b[39;49mheaders,\n\u001b[1;32m    805\u001b[0m                               silent\u001b[39m=\u001b[39;49m\u001b[39mself\u001b[39;49m\u001b[39m.\u001b[39;49msilent,\n\u001b[1;32m    806\u001b[0m                               target_dir\u001b[39m=\u001b[39;49mtmp,\n\u001b[1;32m    807\u001b[0m                               clobber\u001b[39m=\u001b[39;49m\u001b[39mTrue\u001b[39;49;00m)\n\u001b[1;32m    808\u001b[0m     \u001b[39mwith\u001b[39;00m zipfile\u001b[39m.\u001b[39mZipFile(file, \u001b[39m'\u001b[39m\u001b[39mr\u001b[39m\u001b[39m'\u001b[39m) \u001b[39mas\u001b[39;00m zipped:\n\u001b[1;32m    809\u001b[0m         files \u001b[39m=\u001b[39m zipped\u001b[39m.\u001b[39mnamelist()\n",
      "File \u001b[0;32m~/miniconda3/envs/iblenv/lib/python3.9/site-packages/one/webclient.py:405\u001b[0m, in \u001b[0;36mhttp_download_file\u001b[0;34m(full_link_to_file, chunks, clobber, silent, username, password, target_dir, return_md5, headers)\u001b[0m\n\u001b[1;32m    403\u001b[0m \u001b[39mwith\u001b[39;00m tqdm(total\u001b[39m=\u001b[39mfile_size \u001b[39m/\u001b[39m \u001b[39m1024\u001b[39m \u001b[39m/\u001b[39m \u001b[39m1024\u001b[39m, disable\u001b[39m=\u001b[39msilent) \u001b[39mas\u001b[39;00m pbar:\n\u001b[1;32m    404\u001b[0m     \u001b[39mwhile\u001b[39;00m \u001b[39mTrue\u001b[39;00m:\n\u001b[0;32m--> 405\u001b[0m         buffer \u001b[39m=\u001b[39m u\u001b[39m.\u001b[39;49mread(block_sz)\n\u001b[1;32m    406\u001b[0m         \u001b[39mif\u001b[39;00m \u001b[39mnot\u001b[39;00m buffer:\n\u001b[1;32m    407\u001b[0m             \u001b[39mbreak\u001b[39;00m\n",
      "File \u001b[0;32m~/miniconda3/envs/iblenv/lib/python3.9/http/client.py:463\u001b[0m, in \u001b[0;36mHTTPResponse.read\u001b[0;34m(self, amt)\u001b[0m\n\u001b[1;32m    460\u001b[0m \u001b[39mif\u001b[39;00m amt \u001b[39mis\u001b[39;00m \u001b[39mnot\u001b[39;00m \u001b[39mNone\u001b[39;00m:\n\u001b[1;32m    461\u001b[0m     \u001b[39m# Amount is given, implement using readinto\u001b[39;00m\n\u001b[1;32m    462\u001b[0m     b \u001b[39m=\u001b[39m \u001b[39mbytearray\u001b[39m(amt)\n\u001b[0;32m--> 463\u001b[0m     n \u001b[39m=\u001b[39m \u001b[39mself\u001b[39;49m\u001b[39m.\u001b[39;49mreadinto(b)\n\u001b[1;32m    464\u001b[0m     \u001b[39mreturn\u001b[39;00m \u001b[39mmemoryview\u001b[39m(b)[:n]\u001b[39m.\u001b[39mtobytes()\n\u001b[1;32m    465\u001b[0m \u001b[39melse\u001b[39;00m:\n\u001b[1;32m    466\u001b[0m     \u001b[39m# Amount is not given (unbounded read) so we must check self.length\u001b[39;00m\n\u001b[1;32m    467\u001b[0m     \u001b[39m# and self.chunked\u001b[39;00m\n",
      "File \u001b[0;32m~/miniconda3/envs/iblenv/lib/python3.9/http/client.py:507\u001b[0m, in \u001b[0;36mHTTPResponse.readinto\u001b[0;34m(self, b)\u001b[0m\n\u001b[1;32m    502\u001b[0m         b \u001b[39m=\u001b[39m \u001b[39mmemoryview\u001b[39m(b)[\u001b[39m0\u001b[39m:\u001b[39mself\u001b[39m\u001b[39m.\u001b[39mlength]\n\u001b[1;32m    504\u001b[0m \u001b[39m# we do not use _safe_read() here because this may be a .will_close\u001b[39;00m\n\u001b[1;32m    505\u001b[0m \u001b[39m# connection, and the user is reading more bytes than will be provided\u001b[39;00m\n\u001b[1;32m    506\u001b[0m \u001b[39m# (for example, reading in 1k chunks)\u001b[39;00m\n\u001b[0;32m--> 507\u001b[0m n \u001b[39m=\u001b[39m \u001b[39mself\u001b[39;49m\u001b[39m.\u001b[39;49mfp\u001b[39m.\u001b[39;49mreadinto(b)\n\u001b[1;32m    508\u001b[0m \u001b[39mif\u001b[39;00m \u001b[39mnot\u001b[39;00m n \u001b[39mand\u001b[39;00m b:\n\u001b[1;32m    509\u001b[0m     \u001b[39m# Ideally, we would raise IncompleteRead if the content-length\u001b[39;00m\n\u001b[1;32m    510\u001b[0m     \u001b[39m# wasn't satisfied, but it might break compatibility.\u001b[39;00m\n\u001b[1;32m    511\u001b[0m     \u001b[39mself\u001b[39m\u001b[39m.\u001b[39m_close_conn()\n",
      "File \u001b[0;32m~/miniconda3/envs/iblenv/lib/python3.9/socket.py:704\u001b[0m, in \u001b[0;36mSocketIO.readinto\u001b[0;34m(self, b)\u001b[0m\n\u001b[1;32m    702\u001b[0m \u001b[39mwhile\u001b[39;00m \u001b[39mTrue\u001b[39;00m:\n\u001b[1;32m    703\u001b[0m     \u001b[39mtry\u001b[39;00m:\n\u001b[0;32m--> 704\u001b[0m         \u001b[39mreturn\u001b[39;00m \u001b[39mself\u001b[39;49m\u001b[39m.\u001b[39;49m_sock\u001b[39m.\u001b[39;49mrecv_into(b)\n\u001b[1;32m    705\u001b[0m     \u001b[39mexcept\u001b[39;00m timeout:\n\u001b[1;32m    706\u001b[0m         \u001b[39mself\u001b[39m\u001b[39m.\u001b[39m_timeout_occurred \u001b[39m=\u001b[39m \u001b[39mTrue\u001b[39;00m\n",
      "File \u001b[0;32m~/miniconda3/envs/iblenv/lib/python3.9/ssl.py:1242\u001b[0m, in \u001b[0;36mSSLSocket.recv_into\u001b[0;34m(self, buffer, nbytes, flags)\u001b[0m\n\u001b[1;32m   1238\u001b[0m     \u001b[39mif\u001b[39;00m flags \u001b[39m!=\u001b[39m \u001b[39m0\u001b[39m:\n\u001b[1;32m   1239\u001b[0m         \u001b[39mraise\u001b[39;00m \u001b[39mValueError\u001b[39;00m(\n\u001b[1;32m   1240\u001b[0m           \u001b[39m\"\u001b[39m\u001b[39mnon-zero flags not allowed in calls to recv_into() on \u001b[39m\u001b[39m%s\u001b[39;00m\u001b[39m\"\u001b[39m \u001b[39m%\u001b[39m\n\u001b[1;32m   1241\u001b[0m           \u001b[39mself\u001b[39m\u001b[39m.\u001b[39m\u001b[39m__class__\u001b[39m)\n\u001b[0;32m-> 1242\u001b[0m     \u001b[39mreturn\u001b[39;00m \u001b[39mself\u001b[39;49m\u001b[39m.\u001b[39;49mread(nbytes, buffer)\n\u001b[1;32m   1243\u001b[0m \u001b[39melse\u001b[39;00m:\n\u001b[1;32m   1244\u001b[0m     \u001b[39mreturn\u001b[39;00m \u001b[39msuper\u001b[39m()\u001b[39m.\u001b[39mrecv_into(buffer, nbytes, flags)\n",
      "File \u001b[0;32m~/miniconda3/envs/iblenv/lib/python3.9/ssl.py:1100\u001b[0m, in \u001b[0;36mSSLSocket.read\u001b[0;34m(self, len, buffer)\u001b[0m\n\u001b[1;32m   1098\u001b[0m \u001b[39mtry\u001b[39;00m:\n\u001b[1;32m   1099\u001b[0m     \u001b[39mif\u001b[39;00m buffer \u001b[39mis\u001b[39;00m \u001b[39mnot\u001b[39;00m \u001b[39mNone\u001b[39;00m:\n\u001b[0;32m-> 1100\u001b[0m         \u001b[39mreturn\u001b[39;00m \u001b[39mself\u001b[39;49m\u001b[39m.\u001b[39;49m_sslobj\u001b[39m.\u001b[39;49mread(\u001b[39mlen\u001b[39;49m, buffer)\n\u001b[1;32m   1101\u001b[0m     \u001b[39melse\u001b[39;00m:\n\u001b[1;32m   1102\u001b[0m         \u001b[39mreturn\u001b[39;00m \u001b[39mself\u001b[39m\u001b[39m.\u001b[39m_sslobj\u001b[39m.\u001b[39mread(\u001b[39mlen\u001b[39m)\n",
      "\u001b[0;31mKeyboardInterrupt\u001b[0m: "
     ]
    }
   ],
   "source": [
    "\n",
    "\"\"\" \n",
    "IMPORTS\n",
    "\"\"\"\n",
    "import os\n",
    "import autograd.numpy as np\n",
    "import pickle\n",
    "from sklearn.preprocessing import StandardScaler, MinMaxScaler, Normalizer\n",
    "import seaborn as sns\n",
    "from collections import defaultdict\n",
    "import pandas as pd\n",
    "\n",
    "from one.api import ONE\n",
    "from jax import vmap\n",
    "from pprint import pprint\n",
    "import jax.numpy as jnp\n",
    "import jax.random as jr\n",
    "import matplotlib.pyplot as plt\n",
    "# from dynamax.hidden_markov_model import GaussianHMM\n",
    "from dynamax.hidden_markov_model import LinearAutoregressiveHMM\n",
    "from dynamax.hidden_markov_model import PoissonHMM\n",
    "\n",
    "from dynamax.utils.plotting import gradient_cmap\n",
    "from dynamax.utils.utils import random_rotation\n",
    "\n",
    "# Get my functions\n",
    "functions_path =  '/home/ines/repositories/representation_learning_variability/Models/Sub-trial//2_fit_models/'\n",
    "#functions_path = '/Users/ineslaranjeira/Documents/Repositories/representation_learning_variability//Models/Sub-trial//2_fit_models/'\n",
    "os.chdir(functions_path)\n",
    "from preprocessing_functions import idxs_from_files, prepro_design_matrix, concatenate_sessions, fix_discontinuities\n",
    "from fitting_functions import cross_validate_armodel, compute_inputs\n",
    "from plotting_functions import plot_transition_mat, plot_states_aligned, align_bin_design_matrix, states_per_trial_phase, plot_states_aligned_trial, traces_over_sates, traces_over_few_sates\n",
    "\n",
    "one = ONE()"
   ]
  },
  {
   "cell_type": "markdown",
   "metadata": {},
   "source": [
    "## Parameters"
   ]
  },
  {
   "cell_type": "code",
   "execution_count": null,
   "metadata": {},
   "outputs": [],
   "source": [
    "bin_size = 0.1\n",
    "\n",
    "# Plotting params\n",
    "multiplier = 1/bin_size\n",
    "\n",
    "event_type_list = ['goCueTrigger_times']  # , 'feedback_times', 'firstMovement_times'\n",
    "event_type_name = ['Go cue']  # , 'Feedback time', 'First movement onset'\n"
   ]
  },
  {
   "attachments": {},
   "cell_type": "markdown",
   "metadata": {},
   "source": [
    "## Data path"
   ]
  },
  {
   "cell_type": "code",
   "execution_count": null,
   "metadata": {},
   "outputs": [],
   "source": [
    "data_path =  '/home/ines/repositories/representation_learning_variability/DATA/Sub-trial/Design matrix/' + 'v4_5Jul2024/' + str(bin_size) + '/'\n",
    "\n",
    "os.chdir(data_path)\n",
    "design_matrices = os.listdir(data_path)\n",
    "\n",
    "var_sets = [['avg_wheel_vel'], ['nose_X', 'nose_Y'], ['Lick count'], \n",
    "                    ['left_X', 'left_Y', 'right_X', 'right_Y'], ['whisker_me']]\n",
    "var_sets = [['avg_wheel_vel'], ['nose_X', 'nose_Y'], \n",
    "                    ['left_X', 'left_Y', 'right_X', 'right_Y'], ['whisker_me']]\n",
    "    \n",
    "# Load frame rate\n",
    "fr_path =  '/home/ines/repositories/representation_learning_variability/DATA/Sub-trial/Design matrix/frame_rate/'\n",
    "os.chdir(fr_path)\n",
    "frame_rate = pickle.load(open(fr_path + \"frame_rate\", \"rb\"))\n"
   ]
  },
  {
   "attachments": {},
   "cell_type": "markdown",
   "metadata": {},
   "source": [
    "## Get mice list"
   ]
  },
  {
   "cell_type": "code",
   "execution_count": null,
   "metadata": {},
   "outputs": [
    {
     "name": "stderr",
     "output_type": "stream",
     "text": [
      "local md5 mismatch on dataset: churchlandlab/Subjects/CSHL049/2020-01-11/001/alf/_ibl_trials.stimOff_times.npy\n",
      "/home/ines/Downloads/ONE/alyx.internationalbrainlab.org/churchlandlab/Subjects/CSHL049/2020-01-11/001/alf/_ibl_trials.stimOff_times.npy: 100%|██████████| 4.60k/4.60k [00:00<00:00, 9.93kB/s]\n",
      "local md5 mismatch on dataset: cortexlab/Subjects/KS014/2019-12-03/001/alf/_ibl_trials.goCueTrigger_times.npy\n",
      "/home/ines/Downloads/ONE/alyx.internationalbrainlab.org/cortexlab/Subjects/KS014/2019-12-03/001/alf/_ibl_trials.goCueTrigger_times.npy: 100%|██████████| 4.38k/4.38k [00:00<00:00, 9.45kB/s]\n"
     ]
    }
   ],
   "source": [
    "idxs, mouse_names = idxs_from_files(one, design_matrices, frame_rate, data_path, bin_size)"
   ]
  },
  {
   "cell_type": "markdown",
   "metadata": {},
   "source": [
    "## Parameters"
   ]
  },
  {
   "cell_type": "code",
   "execution_count": null,
   "metadata": {},
   "outputs": [],
   "source": [
    "num_iters = 100\n",
    "num_train_batches = 5\n",
    "method = 'kmeans'\n",
    "threshold = 0.05\n",
    "\n",
    "num_lags = 11  # First order ARHMM\n",
    "num_states = 2\n",
    "kappa = 1000\n",
    "\n",
    "# Plotting params\n",
    "bin_size = 0.1\n",
    "\n",
    "# Values for grid search (should get this from results)\n",
    "last_lag = 20\n",
    "lag_step = 2\n",
    "start_lag = 1\n",
    "Lags = list(range(start_lag, last_lag, lag_step))\n",
    "kappas = [0, 1, 5, 10, 100, 500, 1000, 2000, 5000, 7000, 10000]"
   ]
  },
  {
   "attachments": {},
   "cell_type": "markdown",
   "metadata": {},
   "source": [
    "## Fit sessions with params from best fit for all variable sets (models)"
   ]
  },
  {
   "cell_type": "code",
   "execution_count": null,
   "metadata": {},
   "outputs": [],
   "source": [
    "def best_lag_kappa(all_lls, all_baseline_lls, design_matrix, num_train_batches, kappas, Lags):\n",
    "    \n",
    "    # Find best params per mouse\n",
    "    best_lag = {}\n",
    "    best_kappa = {}\n",
    "    mean_bits_LL = {}\n",
    "                  \n",
    "    # Get size of folds\n",
    "    num_timesteps = np.shape(design_matrix)[0]\n",
    "    shortened_array = np.array(design_matrix[:(num_timesteps // num_train_batches) * num_train_batches])\n",
    "    fold_len =  len(shortened_array)/num_train_batches\n",
    "    \n",
    "    mean_bits_LL = np.ones((len(Lags), len(kappas))) * np.nan\n",
    "    best_fold = np.ones((len(Lags), len(kappas))) * np.nan\n",
    "    \n",
    "    for l, lag in enumerate(Lags):\n",
    "        \n",
    "        # Reshape\n",
    "        lag_lls = []\n",
    "        b_lag_lls = []\n",
    "        b_fold = []\n",
    "        \n",
    "        for k in kappas:\n",
    "            lag_lls.append(all_lls[lag][k])\n",
    "            b_lag_lls.append(all_baseline_lls[lag][k])\n",
    "            # Best fold\n",
    "            b_f = np.where(all_lls[lag][k]==np.nanmax(all_lls[lag][k]))[0][0]\n",
    "            b_fold.append(b_f)\n",
    "            \n",
    "        avg_val_lls = np.array(lag_lls)\n",
    "        baseline_lls = np.array(b_lag_lls)\n",
    "        bits_LL = (np.array(avg_val_lls) - np.array(baseline_lls)) / fold_len * np.log(2)\n",
    "        \n",
    "        mean_bits_LL[l,:] = np.nanmean(bits_LL, axis=1)        \n",
    "        best_fold[l, :] = b_fold\n",
    "        \n",
    "    # Save best params for the mouse\n",
    "    best_lag = Lags[np.where(mean_bits_LL==np.nanmax(mean_bits_LL))[0][0]]\n",
    "    best_kappa = kappas[np.where(mean_bits_LL==np.nanmax(mean_bits_LL))[1][0]]\n",
    "    \n",
    "\n",
    "    return best_lag, best_kappa, mean_bits_LL, best_fold"
   ]
  },
  {
   "cell_type": "code",
   "execution_count": 20,
   "metadata": {},
   "outputs": [
    {
     "name": "stderr",
     "output_type": "stream",
     "text": [
      "local md5 mismatch on dataset: churchlandlab/Subjects/CSHL049/2020-01-11/001/alf/_ibl_trials.stimOff_times.npy\n",
      "/home/ines/Downloads/ONE/alyx.internationalbrainlab.org/churchlandlab/Subjects/CSHL049/2020-01-11/001/alf/_ibl_trials.stimOff_times.npy: 100%|██████████| 4.60k/4.60k [00:00<00:00, 10.0kB/s]\n",
      "local md5 mismatch on dataset: cortexlab/Subjects/KS014/2019-12-03/001/alf/_ibl_trials.goCueTrigger_times.npy\n",
      "/home/ines/Downloads/ONE/alyx.internationalbrainlab.org/cortexlab/Subjects/KS014/2019-12-03/001/alf/_ibl_trials.goCueTrigger_times.npy: 100%|██████████| 4.38k/4.38k [00:00<00:00, 6.69kB/s]\n",
      "local md5 mismatch on dataset: churchlandlab/Subjects/CSHL049/2020-01-11/001/alf/_ibl_trials.stimOff_times.npy\n",
      "/home/ines/Downloads/ONE/alyx.internationalbrainlab.org/churchlandlab/Subjects/CSHL049/2020-01-11/001/alf/_ibl_trials.stimOff_times.npy: 100%|██████████| 4.60k/4.60k [00:00<00:00, 9.16kB/s]\n",
      "local md5 mismatch on dataset: cortexlab/Subjects/KS014/2019-12-03/001/alf/_ibl_trials.goCueTrigger_times.npy\n",
      "/home/ines/Downloads/ONE/alyx.internationalbrainlab.org/cortexlab/Subjects/KS014/2019-12-03/001/alf/_ibl_trials.goCueTrigger_times.npy: 100%|██████████| 4.38k/4.38k [00:00<00:00, 4.87kB/s]\n",
      "local md5 mismatch on dataset: churchlandlab/Subjects/CSHL049/2020-01-11/001/alf/_ibl_trials.stimOff_times.npy\n",
      "/home/ines/Downloads/ONE/alyx.internationalbrainlab.org/churchlandlab/Subjects/CSHL049/2020-01-11/001/alf/_ibl_trials.stimOff_times.npy: 100%|██████████| 4.60k/4.60k [00:00<00:00, 9.43kB/s]\n",
      "local md5 mismatch on dataset: cortexlab/Subjects/KS014/2019-12-03/001/alf/_ibl_trials.goCueTrigger_times.npy\n",
      "/home/ines/Downloads/ONE/alyx.internationalbrainlab.org/cortexlab/Subjects/KS014/2019-12-03/001/alf/_ibl_trials.goCueTrigger_times.npy: 100%|██████████| 4.38k/4.38k [00:00<00:00, 13.8kB/s]\n",
      "local md5 mismatch on dataset: churchlandlab/Subjects/CSHL049/2020-01-11/001/alf/_ibl_trials.stimOff_times.npy\n",
      "/home/ines/Downloads/ONE/alyx.internationalbrainlab.org/churchlandlab/Subjects/CSHL049/2020-01-11/001/alf/_ibl_trials.stimOff_times.npy: 100%|██████████| 4.60k/4.60k [00:00<00:00, 9.97kB/s]\n",
      "local md5 mismatch on dataset: cortexlab/Subjects/KS014/2019-12-03/001/alf/_ibl_trials.goCueTrigger_times.npy\n",
      "/home/ines/Downloads/ONE/alyx.internationalbrainlab.org/cortexlab/Subjects/KS014/2019-12-03/001/alf/_ibl_trials.goCueTrigger_times.npy: 100%|██████████| 4.38k/4.38k [00:00<00:00, 5.00kB/s]\n"
     ]
    }
   ],
   "source": [
    "\n",
    "for s, set in enumerate(var_sets):\n",
    "    \n",
    "    var_names = set\n",
    "    \n",
    "    # Get data for all mice for the model of interest\n",
    "    os.chdir(data_path)\n",
    "    matrix_all, matrix_all_unnorm, session_all = prepro_design_matrix(one, idxs, mouse_names, \n",
    "                                                                      bin_size, var_names, data_path, first_90=True)\n",
    "    collapsed_matrices, collapsed_unnorm, collapsed_trials = concatenate_sessions(mouse_names, matrix_all, \n",
    "                                                                                   matrix_all_unnorm, session_all)\n",
    "    \n",
    "    # Loop through animals\n",
    "    for m, mat in enumerate(idxs[0:1]):\n",
    "        if len(mat) > 35: \n",
    "            mat = '46794e05-3f6a-4d35-afb3-9165091a5a74_CSHL045'\n",
    "            \n",
    "            mouse_name = mat[37:]\n",
    "            session = mat[0:36]\n",
    "            \n",
    "            # Get design_matrix\n",
    "            design_matrix = collapsed_matrices[mouse_name]\n",
    "            if len(np.shape(design_matrix)) > 2:\n",
    "                design_matrix = design_matrix[0]\n",
    "            \n",
    "            # Get results from grid search\n",
    "            results_path =  '/home/ines/repositories/representation_learning_variability/DATA/Sub-trial/Results/'\n",
    "            os.chdir(results_path)\n",
    "            all_lls, all_baseline_lls, all_init_params, all_fit_params = pickle.load(open(\"best_results_\" + var_names[0] + '_' + mouse_name, \"rb\"))\n",
    "            \n",
    "            # Retrieve best fits\n",
    "            best_lag, best_kappa, mean_bits_LL, best_fold = best_lag_kappa(all_lls, all_baseline_lls, design_matrix, num_train_batches, kappas, Lags)\n",
    "            index_lag = np.where(np.array(Lags)==best_lag)[0][0]\n",
    "            index_kappa = np.where(np.array(kappas)==best_kappa)[0][0]\n",
    "            use_fold = int(best_fold[index_lag, index_kappa])\n",
    "            \n",
    "            \" Fit model with best params\"\n",
    "            # Prepare data \n",
    "            num_timesteps = np.shape(design_matrix)[0]\n",
    "            emission_dim = np.shape(design_matrix)[1]\n",
    "            shortened_array = np.array(design_matrix[:(num_timesteps // num_train_batches) * num_train_batches])\n",
    "            train_emissions = jnp.stack(jnp.split(shortened_array, num_train_batches))\n",
    "            \n",
    "            # Compute inputs for required timelags\n",
    "            my_inputs = compute_inputs(shortened_array, best_lag, emission_dim)\n",
    "            train_inputs = jnp.stack(jnp.split(my_inputs, num_train_batches))\n",
    "            \n",
    "            best_params = all_fit_params[best_lag][best_kappa]\n",
    "            \n",
    "            # Find parameters for best fold\n",
    "            initial_probs = best_params[0].probs[use_fold]\n",
    "            transition_matrix = best_params[1].transition_matrix[use_fold]\n",
    "            emission_weights = best_params[2].weights[use_fold]\n",
    "            emission_biases = best_params[2].biases[use_fold]\n",
    "            emission_covariances = best_params[2].covs[use_fold]        \n",
    "            \n",
    "            # Initialize new hmm\n",
    "            new_arhmm = LinearAutoregressiveHMM(num_states, emission_dim, num_lags=best_lag, transition_matrix_stickiness=best_kappa)\n",
    "            best_fold_params, props = new_arhmm.initialize(key=jr.PRNGKey(0), method=method,\n",
    "                                            initial_probs=initial_probs,\n",
    "                                            transition_matrix=transition_matrix,               \n",
    "                                            emission_weights=emission_weights,\n",
    "                                            emission_biases=emission_biases, \n",
    "                                            emission_covariances=emission_covariances,\n",
    "                                            emissions=shortened_array)  # not sure if I need to include  \n",
    "            \n",
    "            # Get state estimates for validation data\n",
    "            most_likely_states = new_arhmm.most_likely_states(best_fold_params, shortened_array, my_inputs)\n",
    "\n",
    "            # Save most_likely_states\n",
    "            os.chdir(results_path)\n",
    "            pickle.dump(most_likely_states, open(\"most_likely_states\" + var_names[0] + '_' + mouse_name , \"wb\"))   \n",
    "        "
   ]
  },
  {
   "cell_type": "code",
   "execution_count": 22,
   "metadata": {},
   "outputs": [],
   "source": [
    "# Get results from grid search\n",
    "results_path =  '/home/ines/repositories/representation_learning_variability/DATA/Sub-trial/Results/'\n",
    "os.chdir(results_path)\n",
    "most_likely_states = pickle.load(open(\"most_likely_states\" + var_names[0] + '_' + mouse_name, \"rb\"))\n"
   ]
  },
  {
   "cell_type": "code",
   "execution_count": null,
   "metadata": {},
   "outputs": [],
   "source": []
  }
 ],
 "metadata": {
  "kernelspec": {
   "display_name": "iblenv",
   "language": "python",
   "name": "python3"
  },
  "language_info": {
   "codemirror_mode": {
    "name": "ipython",
    "version": 3
   },
   "file_extension": ".py",
   "mimetype": "text/x-python",
   "name": "python",
   "nbconvert_exporter": "python",
   "pygments_lexer": "ipython3",
   "version": "3.9.15"
  },
  "orig_nbformat": 4,
  "vscode": {
   "interpreter": {
    "hash": "21541729b5da47a594818561e91cb4175a7e192d68b7cc4221509f43b2f902b5"
   }
  }
 },
 "nbformat": 4,
 "nbformat_minor": 2
}
