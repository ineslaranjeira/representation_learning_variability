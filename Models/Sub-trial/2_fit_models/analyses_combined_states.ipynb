{
 "cells": [
  {
   "cell_type": "markdown",
   "metadata": {},
   "source": [
    "# Analyses of combined states (from different models)"
   ]
  },
  {
   "cell_type": "code",
   "execution_count": 7,
   "metadata": {},
   "outputs": [],
   "source": [
    "\n",
    "\"\"\" \n",
    "IMPORTS\n",
    "\"\"\"\n",
    "import os\n",
    "import autograd.numpy as np\n",
    "import pickle\n",
    "from sklearn.preprocessing import StandardScaler, MinMaxScaler, Normalizer\n",
    "import seaborn as sns\n",
    "from collections import defaultdict\n",
    "import pandas as pd\n",
    "\n",
    "from one.api import ONE\n",
    "from pprint import pprint\n",
    "import numpy as np\n",
    "import matplotlib.pyplot as plt\n",
    "\n",
    "# Get my functions\n",
    "functions_path =  '/home/ines/repositories/representation_learning_variability/Models/Sub-trial//2_fit_models/'\n",
    "functions_path = '/Users/ineslaranjeira/Documents/Repositories/representation_learning_variability//Models/Sub-trial//2_fit_models/'\n",
    "os.chdir(functions_path)\n",
    "from preprocessing_functions import idxs_from_files, prepro_design_matrix, concatenate_sessions, fix_discontinuities\n",
    "from postprocessing_functions import best_lag_kappa\n",
    "# from fitting_functions import cross_validate_armodel, compute_inputs\n",
    "# from plotting_functions import plot_transition_mat, plot_states_aligned, align_bin_design_matrix, states_per_trial_phase, plot_states_aligned_trial, traces_over_sates, traces_over_few_sates\n",
    "\n",
    "one = ONE()"
   ]
  },
  {
   "cell_type": "markdown",
   "metadata": {},
   "source": [
    "## Parameters"
   ]
  },
  {
   "cell_type": "code",
   "execution_count": 8,
   "metadata": {},
   "outputs": [],
   "source": [
    "bin_size = 0.1\n",
    "\n",
    "# Plotting params\n",
    "multiplier = 1/bin_size\n",
    "\n",
    "event_type_list = ['goCueTrigger_times']  # , 'feedback_times', 'firstMovement_times'\n",
    "event_type_name = ['Go cue']  # , 'Feedback time', 'First movement onset'\n"
   ]
  },
  {
   "cell_type": "markdown",
   "metadata": {},
   "source": [
    "## Data path"
   ]
  },
  {
   "cell_type": "code",
   "execution_count": 9,
   "metadata": {},
   "outputs": [],
   "source": [
    "data_path =  '/home/ines/repositories/representation_learning_variability/DATA/Sub-trial/Design matrix/' + 'v4_5Jul2024/' + str(bin_size) + '/'\n",
    "data_path =  '/Users/ineslaranjeira/Documents/Repositories/representation_learning_variability/DATA/Sub-trial/Design matrix/' + 'v4_5Jul2024/' + str(bin_size) + '/'\n",
    "\n",
    "os.chdir(data_path)\n",
    "design_matrices = os.listdir(data_path)\n",
    "\n",
    "var_sets = [['avg_wheel_vel'], ['nose_X', 'nose_Y'], ['Lick count'], \n",
    "                    ['left_X', 'left_Y', 'right_X', 'right_Y'], ['whisker_me']]\n",
    "var_sets = [['avg_wheel_vel'], ['nose_X', 'nose_Y'], \n",
    "                    ['left_X', 'left_Y', 'right_X', 'right_Y'], ['whisker_me']]\n",
    "    \n",
    "# # Load frame rate\n",
    "# fr_path =  '/home/ines/repositories/representation_learning_variability/DATA/Sub-trial/Design matrix/frame_rate/'\n",
    "fr_path =  '/Users/ineslaranjeira/Documents/Repositories/representation_learning_variability/DATA/Sub-trial/Design matrix/frame_rate/'\n",
    "\n",
    "os.chdir(fr_path)\n",
    "frame_rate = pickle.load(open(fr_path + \"frame_rate\", \"rb\"))\n"
   ]
  },
  {
   "cell_type": "markdown",
   "metadata": {},
   "source": [
    "## Get mice list"
   ]
  },
  {
   "cell_type": "code",
   "execution_count": 10,
   "metadata": {},
   "outputs": [],
   "source": [
    "idxs, mouse_names = idxs_from_files(one, design_matrices, frame_rate, data_path, bin_size)"
   ]
  },
  {
   "cell_type": "markdown",
   "metadata": {},
   "source": [
    "## Parameters"
   ]
  },
  {
   "cell_type": "code",
   "execution_count": 11,
   "metadata": {},
   "outputs": [],
   "source": [
    "threshold = 0.05\n",
    "bin_size = 0.1"
   ]
  },
  {
   "cell_type": "markdown",
   "metadata": {},
   "source": [
    "## Plot combined states per animal"
   ]
  },
  {
   "cell_type": "code",
   "execution_count": 13,
   "metadata": {},
   "outputs": [],
   "source": [
    "var_names = ['avg_wheel_vel', 'nose_X', 'nose_Y',\n",
    "              'left_X', 'left_Y', 'right_X', 'right_Y', 'whisker_me']\n",
    "\n",
    "# Get data for all mice for the model of interest\n",
    "os.chdir(data_path)\n",
    "matrix_all, matrix_all_unnorm, session_all = prepro_design_matrix(one, idxs, mouse_names, \n",
    "                                                                    bin_size, var_names, data_path, first_90=True)\n",
    "collapsed_matrices, collapsed_unnorm, collapsed_trials = concatenate_sessions(mouse_names, matrix_all, \n",
    "                                                                                matrix_all_unnorm, session_all)"
   ]
  },
  {
   "cell_type": "code",
   "execution_count": 16,
   "metadata": {},
   "outputs": [
    {
     "ename": "RuntimeError",
     "evalue": "This version of jaxlib was built using AVX instructions, which your CPU and/or operating system do not support. You may be able work around this issue by building jaxlib from source.",
     "output_type": "error",
     "traceback": [
      "\u001b[0;31m---------------------------------------------------------------------------\u001b[0m",
      "\u001b[0;31mRuntimeError\u001b[0m                              Traceback (most recent call last)",
      "Cell \u001b[0;32mIn[16], line 20\u001b[0m\n\u001b[1;32m     17\u001b[0m combined_states \u001b[38;5;241m=\u001b[39m []\n\u001b[1;32m     18\u001b[0m \u001b[38;5;28;01mfor\u001b[39;00m s, \u001b[38;5;28mset\u001b[39m \u001b[38;5;129;01min\u001b[39;00m \u001b[38;5;28menumerate\u001b[39m(var_sets):\n\u001b[0;32m---> 20\u001b[0m     most_likely_states \u001b[38;5;241m=\u001b[39m \u001b[43mpickle\u001b[49m\u001b[38;5;241;43m.\u001b[39;49m\u001b[43mload\u001b[49m\u001b[43m(\u001b[49m\u001b[38;5;28;43mopen\u001b[39;49m\u001b[43m(\u001b[49m\u001b[38;5;124;43m\"\u001b[39;49m\u001b[38;5;124;43mmost_likely_states\u001b[39;49m\u001b[38;5;124;43m\"\u001b[39;49m\u001b[43m \u001b[49m\u001b[38;5;241;43m+\u001b[39;49m\u001b[43m \u001b[49m\u001b[38;5;28;43mset\u001b[39;49m\u001b[43m[\u001b[49m\u001b[38;5;241;43m0\u001b[39;49m\u001b[43m]\u001b[49m\u001b[43m \u001b[49m\u001b[38;5;241;43m+\u001b[39;49m\u001b[43m \u001b[49m\u001b[38;5;124;43m'\u001b[39;49m\u001b[38;5;124;43m_\u001b[39;49m\u001b[38;5;124;43m'\u001b[39;49m\u001b[43m \u001b[49m\u001b[38;5;241;43m+\u001b[39;49m\u001b[43m \u001b[49m\u001b[43mmouse_name\u001b[49m\u001b[43m,\u001b[49m\u001b[43m \u001b[49m\u001b[38;5;124;43m\"\u001b[39;49m\u001b[38;5;124;43mrb\u001b[39;49m\u001b[38;5;124;43m\"\u001b[39;49m\u001b[43m)\u001b[49m\u001b[43m)\u001b[49m\n\u001b[1;32m     21\u001b[0m     \u001b[38;5;66;03m# Save\u001b[39;00m\n\u001b[1;32m     22\u001b[0m     \u001b[38;5;28;01mif\u001b[39;00m \u001b[38;5;28mlen\u001b[39m(combined_states) \u001b[38;5;241m>\u001b[39m \u001b[38;5;241m0\u001b[39m:\n",
      "File \u001b[0;32m/opt/anaconda3/envs/iblenv/lib/python3.10/site-packages/jax/__init__.py:35\u001b[0m\n\u001b[1;32m     30\u001b[0m \u001b[38;5;28;01mdel\u001b[39;00m _cloud_tpu_init\n\u001b[1;32m     32\u001b[0m \u001b[38;5;66;03m# Confusingly there are two things named \"config\": the module and the class.\u001b[39;00m\n\u001b[1;32m     33\u001b[0m \u001b[38;5;66;03m# We want the exported object to be the class, so we first import the module\u001b[39;00m\n\u001b[1;32m     34\u001b[0m \u001b[38;5;66;03m# to make sure a later import doesn't overwrite the class.\u001b[39;00m\n\u001b[0;32m---> 35\u001b[0m \u001b[38;5;28;01mfrom\u001b[39;00m \u001b[38;5;21;01mjax\u001b[39;00m \u001b[38;5;28;01mimport\u001b[39;00m config \u001b[38;5;28;01mas\u001b[39;00m _config_module\n\u001b[1;32m     36\u001b[0m \u001b[38;5;28;01mdel\u001b[39;00m _config_module\n\u001b[1;32m     38\u001b[0m \u001b[38;5;66;03m# Force early import, allowing use of `jax.core` after importing `jax`.\u001b[39;00m\n",
      "File \u001b[0;32m/opt/anaconda3/envs/iblenv/lib/python3.10/site-packages/jax/config.py:17\u001b[0m\n\u001b[1;32m      1\u001b[0m \u001b[38;5;66;03m# Copyright 2018 The JAX Authors.\u001b[39;00m\n\u001b[1;32m      2\u001b[0m \u001b[38;5;66;03m#\u001b[39;00m\n\u001b[1;32m      3\u001b[0m \u001b[38;5;66;03m# Licensed under the Apache License, Version 2.0 (the \"License\");\u001b[39;00m\n\u001b[0;32m   (...)\u001b[0m\n\u001b[1;32m     14\u001b[0m \n\u001b[1;32m     15\u001b[0m \u001b[38;5;66;03m# TODO(phawkins): fix users of this alias and delete this file.\u001b[39;00m\n\u001b[0;32m---> 17\u001b[0m \u001b[38;5;28;01mfrom\u001b[39;00m \u001b[38;5;21;01mjax\u001b[39;00m\u001b[38;5;21;01m.\u001b[39;00m\u001b[38;5;21;01m_src\u001b[39;00m\u001b[38;5;21;01m.\u001b[39;00m\u001b[38;5;21;01mconfig\u001b[39;00m \u001b[38;5;28;01mimport\u001b[39;00m config  \u001b[38;5;66;03m# noqa: F401\u001b[39;00m\n",
      "File \u001b[0;32m/opt/anaconda3/envs/iblenv/lib/python3.10/site-packages/jax/_src/config.py:27\u001b[0m\n\u001b[1;32m     24\u001b[0m \u001b[38;5;28;01mimport\u001b[39;00m \u001b[38;5;21;01mthreading\u001b[39;00m\n\u001b[1;32m     25\u001b[0m \u001b[38;5;28;01mfrom\u001b[39;00m \u001b[38;5;21;01mtyping\u001b[39;00m \u001b[38;5;28;01mimport\u001b[39;00m Any, Callable, Generic, NamedTuple, Optional, TypeVar\n\u001b[0;32m---> 27\u001b[0m \u001b[38;5;28;01mfrom\u001b[39;00m \u001b[38;5;21;01mjax\u001b[39;00m\u001b[38;5;21;01m.\u001b[39;00m\u001b[38;5;21;01m_src\u001b[39;00m \u001b[38;5;28;01mimport\u001b[39;00m lib\n\u001b[1;32m     28\u001b[0m \u001b[38;5;28;01mfrom\u001b[39;00m \u001b[38;5;21;01mjax\u001b[39;00m\u001b[38;5;21;01m.\u001b[39;00m\u001b[38;5;21;01m_src\u001b[39;00m\u001b[38;5;21;01m.\u001b[39;00m\u001b[38;5;21;01mlib\u001b[39;00m \u001b[38;5;28;01mimport\u001b[39;00m jax_jit\n\u001b[1;32m     29\u001b[0m \u001b[38;5;28;01mfrom\u001b[39;00m \u001b[38;5;21;01mjax\u001b[39;00m\u001b[38;5;21;01m.\u001b[39;00m\u001b[38;5;21;01m_src\u001b[39;00m\u001b[38;5;21;01m.\u001b[39;00m\u001b[38;5;21;01mlib\u001b[39;00m \u001b[38;5;28;01mimport\u001b[39;00m transfer_guard_lib\n",
      "File \u001b[0;32m/opt/anaconda3/envs/iblenv/lib/python3.10/site-packages/jax/_src/lib/__init__.py:84\u001b[0m\n\u001b[1;32m     80\u001b[0m \u001b[38;5;66;03m# Before importing any C compiled modules from jaxlib, first import the CPU\u001b[39;00m\n\u001b[1;32m     81\u001b[0m \u001b[38;5;66;03m# feature guard module to verify that jaxlib was compiled in a way that only\u001b[39;00m\n\u001b[1;32m     82\u001b[0m \u001b[38;5;66;03m# uses instructions that are present on this machine.\u001b[39;00m\n\u001b[1;32m     83\u001b[0m \u001b[38;5;28;01mimport\u001b[39;00m \u001b[38;5;21;01mjaxlib\u001b[39;00m\u001b[38;5;21;01m.\u001b[39;00m\u001b[38;5;21;01mcpu_feature_guard\u001b[39;00m \u001b[38;5;28;01mas\u001b[39;00m \u001b[38;5;21;01mcpu_feature_guard\u001b[39;00m\n\u001b[0;32m---> 84\u001b[0m \u001b[43mcpu_feature_guard\u001b[49m\u001b[38;5;241;43m.\u001b[39;49m\u001b[43mcheck_cpu_features\u001b[49m\u001b[43m(\u001b[49m\u001b[43m)\u001b[49m\n\u001b[1;32m     86\u001b[0m \u001b[38;5;28;01mimport\u001b[39;00m \u001b[38;5;21;01mjaxlib\u001b[39;00m\u001b[38;5;21;01m.\u001b[39;00m\u001b[38;5;21;01mutils\u001b[39;00m \u001b[38;5;28;01mas\u001b[39;00m \u001b[38;5;21;01mutils\u001b[39;00m\n\u001b[1;32m     87\u001b[0m \u001b[38;5;28;01mimport\u001b[39;00m \u001b[38;5;21;01mjaxlib\u001b[39;00m\u001b[38;5;21;01m.\u001b[39;00m\u001b[38;5;21;01mxla_client\u001b[39;00m \u001b[38;5;28;01mas\u001b[39;00m \u001b[38;5;21;01mxla_client\u001b[39;00m\n",
      "\u001b[0;31mRuntimeError\u001b[0m: This version of jaxlib was built using AVX instructions, which your CPU and/or operating system do not support. You may be able work around this issue by building jaxlib from source."
     ]
    }
   ],
   "source": [
    "\n",
    "# Loop through animals\n",
    "for m, mat in enumerate(idxs[0:1]):\n",
    "    if len(mat) > 35: \n",
    "        \n",
    "        mouse_name = mat[37:]\n",
    "        \n",
    "        # Get design_matrix\n",
    "        design_matrix = collapsed_matrices[mouse_name]\n",
    "        if len(np.shape(design_matrix)) > 2:\n",
    "            design_matrix = design_matrix[0]\n",
    "        \n",
    "        # Get states per variable and concatenate\n",
    "        results_path =  '/home/ines/repositories/representation_learning_variability/DATA/Sub-trial/Results/'\n",
    "        results_path =  '/Users/ineslaranjeira/Documents/Repositories/representation_learning_variability/DATA/Sub-trial/Results/'\n",
    "        os.chdir(results_path)\n",
    "\n",
    "        combined_states = []\n",
    "        for s, set in enumerate(var_sets):\n",
    "            \n",
    "            most_likely_states = pickle.load(open(\"most_likely_states\" + set[0] + '_' + mouse_name, \"rb\"))\n",
    "            # Save\n",
    "            if len(combined_states) > 0:\n",
    "                combined_states = most_likely_states\n",
    "            else:\n",
    "                combined_states = np.vstack((combined_states, most_likely_states))\n",
    "\n",
    "\n",
    "\n",
    "\n",
    "        "
   ]
  },
  {
   "cell_type": "code",
   "execution_count": null,
   "metadata": {},
   "outputs": [],
   "source": [
    "        \n",
    "        unique, counts = np.unique(most_likely_states, return_counts=True)\n",
    "        threshold_count = threshold * len(most_likely_states)\n",
    "        excluded_bins = 0\n",
    "        remaining_states = list(counts.copy())\n",
    "        for state in unique:\n",
    "            size_smallest_state = np.nanmin(remaining_states)\n",
    "            if size_smallest_state + excluded_bins < threshold_count:\n",
    "                remaining_states[np.where(counts==size_smallest_state)[0][0]] = np.nan\n",
    "                excluded_bins += size_smallest_state\n",
    "        \n",
    "        # Remove states below threshold\n",
    "        new_states = np.array(most_likely_states).astype(float)\n",
    "        exclude_states = np.where(np.isnan(np.array(remaining_states)))[0].astype(float)\n",
    "        # Create a boolean mask to identify values to replace\n",
    "        mask = np.isin(new_states, exclude_states)\n",
    "        # Replace values in main_array with np.nan using the boolean mask\n",
    "        new_states[mask] = np.nan\n",
    "\n",
    "        new_states = most_likely_states\n",
    "        \n",
    "        \" Plots \"\n",
    "        # Prepare data\n",
    "        design_matrix_heading = pd.DataFrame(columns=var_names)\n",
    "        design_matrix_heading[var_names] = design_matrix[0:len(most_likely_states)]  # TODO: need to understand why number is the same and whether it depends on lag\n",
    "        bins = unnorm_mat[:(num_timesteps // num_train_batches) * num_train_batches]['Bin']\n",
    "        design_matrix_heading['Bin'] = bins\n",
    "        \n",
    "        # Fix discontinuities\n",
    "        cont_trials, cont_design_matrix_heading = fix_discontinuities(session_trials, design_matrix_heading)\n",
    "        \n",
    "        # Align bins\n",
    "        init = -10\n",
    "        end = 15\n",
    "        empirical_data = align_bin_design_matrix(init, end, event_type_list, cont_trials, cont_design_matrix_heading, new_states, multiplier)\n",
    "\n",
    "    \n",
    "        \"\"\" Stack trial states \"\"\"\n",
    "        trial_init = 30  # First trial to plot\n",
    "        trials_to_plot = 20  # How many trials to plot (if very different will compromise readibility)\n",
    "        plot_states_aligned_trial(trial_init, empirical_data, cont_trials, bin_size, trials_to_plot, num_states)\n",
    "\n",
    "        # \" Plot states stacked and aligned per trial type \"\n",
    "        # plot_states_aligned(init, end, empirical_data, event_type_name, bin_size)\n",
    "        \n",
    "        # \"\"\" Plot states per trial epoch \"\"\"\n",
    "        # colors = sns.color_palette(\"viridis\", num_states)\n",
    "        # states_trial = states_per_trial_phase(empirical_data, session_trials)\n",
    "        # plt.figure(figsize=[7, 5])\n",
    "        # sns.histplot(x='label', hue=0, data=states_trial, stat = 'percent',\n",
    "        #                     multiple=\"stack\", legend=True, palette='viridis', alpha=0.3)  # stat='frequency',\n",
    "        # plt.xlabel('Trial phase')\n",
    "        # plt.legend(loc='upper left', bbox_to_anchor=(1, -0.5))\n",
    "        # plt.xticks(rotation=45)\n",
    "        # plt.tight_layout()\n",
    "        # plt.title(mouse_name)\n",
    "        # plt.show()\n",
    "    \n",
    "        \"\"\" Plot raw traces over states \"\"\"\n",
    "        init = 2500 # First bin\n",
    "        inter = 200\n",
    "        # traces_over_few_sates(init, empirical_data, session_trials, var_names)\n",
    "        traces_over_few_sates(init, inter, empirical_data, cont_trials, var_names)\n"
   ]
  },
  {
   "cell_type": "code",
   "execution_count": null,
   "metadata": {},
   "outputs": [],
   "source": [
    "# Get results from grid search\n",
    "results_path =  '/home/ines/repositories/representation_learning_variability/DATA/Sub-trial/Results/'\n",
    "os.chdir(results_path)\n",
    "most_likely_states = pickle.load(open(\"most_likely_states\" + var_names[0] + '_' + mouse_name, \"rb\"))\n"
   ]
  }
 ],
 "metadata": {
  "kernelspec": {
   "display_name": "iblenv",
   "language": "python",
   "name": "python3"
  },
  "language_info": {
   "codemirror_mode": {
    "name": "ipython",
    "version": 3
   },
   "file_extension": ".py",
   "mimetype": "text/x-python",
   "name": "python",
   "nbconvert_exporter": "python",
   "pygments_lexer": "ipython3",
   "version": "3.10.12"
  }
 },
 "nbformat": 4,
 "nbformat_minor": 2
}
