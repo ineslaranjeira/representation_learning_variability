{
 "cells": [
  {
   "cell_type": "markdown",
   "metadata": {},
   "source": [
    "### Get data selected for leanring variability project"
   ]
  },
  {
   "cell_type": "code",
   "execution_count": 3,
   "metadata": {},
   "outputs": [],
   "source": [
    "\"\"\"\n",
    "IMPORTS\n",
    "\"\"\"\n",
    "import numpy as np\n",
    "from oneibl.onelight import ONE\n",
    "import numpy.random as npr\n",
    "import pandas as pd\n",
    "import json\n",
    "from collections import defaultdict\n",
    "import wget\n",
    "from zipfile import ZipFile\n",
    "import os\n",
    "import pickle\n",
    "from preprocessing_utils_ines import get_animal_name, load_animal_list\n",
    "\n",
    "npr.seed(65)"
   ]
  },
  {
   "cell_type": "code",
   "execution_count": 6,
   "metadata": {},
   "outputs": [
    {
     "name": "stderr",
     "output_type": "stream",
     "text": [
      "/home/ines/miniconda3/envs/glmhmm/lib/python3.7/site-packages/IPython/core/interactiveshell.py:3258: DtypeWarning: Columns (23) have mixed types.Specify dtype option on import or set low_memory=False.\n",
      "  interactivity=interactivity, compiler=compiler, result=result)\n"
     ]
    }
   ],
   "source": [
    "\"\"\"\n",
    "GET ANIMALS OF INTEREST\n",
    "\"\"\"\n",
    "# Animals in this path were filtered based on having finished training, belonging to the brainwidemap project\n",
    "# TODO: should add here the code that generates the data I'm using here\n",
    "\n",
    "trials_dir = '/home/ines/repositories/learning_variability/DATA/'\n",
    "all_trials = pd.read_csv(trials_dir + \"learning_private_one.csv\")  \n",
    "animal_list = all_trials['subject_nickname'].unique()\n",
    "data_dir = '/home/ines/repositories/learning_variability/DATA/GLMHMM/'\n",
    "os.chdir(data_dir)\n",
    "np.savez('animal_list.npz', animal_list)"
   ]
  },
  {
   "cell_type": "code",
   "execution_count": 7,
   "metadata": {},
   "outputs": [],
   "source": [
    "data_dir = '/home/ines/repositories/learning_variability/DATA/GLMHMM/'\n",
    "os.chdir(data_dir)\n",
    "animal_list = load_animal_list('animal_list.npz')"
   ]
  },
  {
   "cell_type": "code",
   "execution_count": 13,
   "metadata": {},
   "outputs": [],
   "source": [
    "\"\"\"\n",
    "GET eids of interest\n",
    "\"\"\"\n",
    "# change directory so that ONE searches in correct directory:\n",
    "one_local_rep_path = '/home/ines/Downloads/ONE/alyx.internationalbrainlab.org/'\n",
    "os.chdir(one_local_rep_path)\n",
    "one = ONE()\n",
    "\n",
    "# Get all eids in the local database\n",
    "eids = one.search(['_ibl_trials.*'])\n",
    "assert len(eids) > 0, \"ONE search is in incorrect directory\"\n",
    "\n",
    "# Filter eids based on animal_list\n",
    "animal_eid_dict = defaultdict(list)\n",
    "\n",
    "for eid in eids:\n",
    "    animal = get_animal_name(eid)\n",
    "    raw_session_id = eid.split('Subjects/')[1]\n",
    "    date = raw_session_id[-14:-4]\n",
    "    session_no = raw_session_id[-1:]\n",
    "\n",
    "    animal_session = all_trials.loc[(all_trials['session_date']==date) &\n",
    "                            (all_trials['subject_nickname']==animal) &\n",
    "                            (all_trials['session_number']==int(session_no))]\n",
    "    if len(animal_session) > 0:\n",
    "        animal_eid_dict[animal].append(eid)\n",
    "        \n",
    "os.chdir(data_dir)\n",
    "json = json.dumps(animal_eid_dict)\n",
    "f = open(\"animal_eid_dict.json\",  \"w\")\n",
    "f.write(json)\n",
    "f.close()\n"
   ]
  },
  {
   "cell_type": "code",
   "execution_count": null,
   "metadata": {},
   "outputs": [],
   "source": []
  }
 ],
 "metadata": {
  "kernelspec": {
   "display_name": "Python 3.7.6 ('glmhmm')",
   "language": "python",
   "name": "python3"
  },
  "language_info": {
   "codemirror_mode": {
    "name": "ipython",
    "version": 3
   },
   "file_extension": ".py",
   "mimetype": "text/x-python",
   "name": "python",
   "nbconvert_exporter": "python",
   "pygments_lexer": "ipython3",
   "version": "3.7.6"
  },
  "orig_nbformat": 4,
  "vscode": {
   "interpreter": {
    "hash": "e0570267f7605a5796a6c6283f704801f1f25a3a6f849e378a7aefdb53302a15"
   }
  }
 },
 "nbformat": 4,
 "nbformat_minor": 2
}
