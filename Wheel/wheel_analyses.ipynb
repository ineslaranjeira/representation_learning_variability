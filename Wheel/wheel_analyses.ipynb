{
 "cells": [
  {
   "attachments": {},
   "cell_type": "markdown",
   "metadata": {},
   "source": [
    "# Wheel data\n",
    "Feb2023 \\\n",
    "author: Inês Laranjeira"
   ]
  },
  {
   "cell_type": "code",
   "execution_count": 1,
   "metadata": {},
   "outputs": [
    {
     "name": "stderr",
     "output_type": "stream",
     "text": [
      "/opt/anaconda3/envs/iblenv/lib/python3.9/site-packages/one/webclient.py:127: RuntimeWarning: Failed to connect, returning cached response\n",
      "  warnings.warn('Failed to connect, returning cached response', RuntimeWarning)\n"
     ]
    }
   ],
   "source": [
    "\"\"\"\n",
    "IMPORTS\n",
    "\"\"\"\n",
    "import pandas as pd \n",
    "import numpy as np\n",
    "import seaborn as sns\n",
    "import matplotlib.pyplot as plt\n",
    "import pickle\n",
    "\n",
    "# --Get my functions\n",
    "\n",
    "import sys\n",
    "sys.path.append('/Users/ineslaranjeira/Documents/Repositories/learning_variability/Functions/')\n",
    "from one_functions_generic import get_trials, performance_metrics\n",
    "\n",
    "from one.api import ONE\n",
    "#one = ONE(base_url='https://openalyx.internationalbrainlab.org')  # public database\n",
    "one = ONE(base_url='https://alyx.internationalbrainlab.org', silent=True)\n"
   ]
  },
  {
   "cell_type": "code",
   "execution_count": null,
   "metadata": {},
   "outputs": [],
   "source": [
    "from one.api import ONE\n",
    "one = ONE()\n",
    "eid = '4ecb5d24-f5cc-402c-be28-9d0f7cb14b3a'\n",
    "\n",
    "wheel = one.load_object(eid, 'wheel', collection='alf')\n",
    "wheelMoves = one.load_object(eid, 'wheelMoves', collection='alf')"
   ]
  },
  {
   "cell_type": "markdown",
   "metadata": {},
   "source": [
    "## Get data"
   ]
  },
  {
   "cell_type": "code",
   "execution_count": null,
   "metadata": {},
   "outputs": [],
   "source": [
    "\"\"\" \n",
    "GET LEARNING DATA\n",
    "\"\"\"\n",
    "trials = pickle.load(open(\"learning_private_one\", \"rb\"))\n",
    "#trials = pickle.load(open(\"training_time_private_one\", \"rb\"))\n"
   ]
  }
 ],
 "metadata": {
  "kernelspec": {
   "display_name": "iblenv",
   "language": "python",
   "name": "python3"
  },
  "language_info": {
   "codemirror_mode": {
    "name": "ipython",
    "version": 3
   },
   "file_extension": ".py",
   "mimetype": "text/x-python",
   "name": "python",
   "nbconvert_exporter": "python",
   "pygments_lexer": "ipython3",
   "version": "3.9.16"
  },
  "orig_nbformat": 4,
  "vscode": {
   "interpreter": {
    "hash": "e9892cec72515149f4f6a0d1b41a288ae833c5ee356d79a360c099cd2369ac23"
   }
  }
 },
 "nbformat": 4,
 "nbformat_minor": 2
}
