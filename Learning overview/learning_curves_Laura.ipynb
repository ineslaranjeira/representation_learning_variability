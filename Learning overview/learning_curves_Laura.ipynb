{
 "cells": [
  {
   "attachments": {},
   "cell_type": "markdown",
   "metadata": {},
   "source": [
    "## Learning overview "
   ]
  },
  {
   "attachments": {},
   "cell_type": "markdown",
   "metadata": {},
   "source": [
    "### Import functions"
   ]
  },
  {
   "cell_type": "code",
   "execution_count": 1,
   "metadata": {},
   "outputs": [],
   "source": [
    "import pandas as pd \n",
    "import numpy as np\n",
    "import seaborn as sns\n",
    "import matplotlib.pyplot as plt\n",
    "import datetime\n",
    "from pathlib import Path\n",
    "import uuid\n",
    "\n",
    "from brainbox.task.trials import find_trial_ids\n",
    "from brainbox.behavior.training import get_sessions, get_training_status\n",
    "\n",
    "from one.api import ONE\n",
    "from one.alf.files import add_uuid_string\n",
    "from one.remote import aws\n",
    "\n",
    "one = ONE(base_url='https://alyx.internationalbrainlab.org')"
   ]
  },
  {
   "attachments": {},
   "cell_type": "markdown",
   "metadata": {},
   "source": [
    "### Custom functions"
   ]
  },
  {
   "cell_type": "code",
   "execution_count": 2,
   "metadata": {},
   "outputs": [],
   "source": [
    "\"\"\"\n",
    "GET TRIALS INFO INTO ONE TABLE\n",
    "\"\"\"\n",
    "\n",
    "# Function written by Julia \n",
    "def download_subjectTables(one, subject=None, trials=True, training=True,\n",
    "                           target_path=None, tag=None, overwrite=False, check_updates=True):\n",
    "    \"\"\"\n",
    "    Function to download the aggregated clusters information associated with the given data release tag from AWS.\n",
    "    Parameters\n",
    "    ----------\n",
    "    one: one.api.ONE\n",
    "        Instance to be used to connect to database.\n",
    "    trials: bool\n",
    "        Whether to download the subjectTrials.table.pqt, default is True\n",
    "    training: bool\n",
    "        Whether to donwnload the subjectTraining.table.pqt, defaults is True\n",
    "    subject: str, uuid or None\n",
    "        Nickname or UUID of the subject to download all trials from. If None, download all available trials tables\n",
    "        (associated with 'tag' if one is given)\n",
    "    target_path: str or pathlib.Path\n",
    "        Directory to which files should be downloaded. If None, downloads to one.cache_dir/aggregates\n",
    "    tag: str\n",
    "        Data release tag to download _ibl_subjectTrials.table datasets from. Default is None.\n",
    "    overwrite : bool\n",
    "        If True, will re-download files even if file exists locally and file sizes match.\n",
    "    check_updates : bool\n",
    "        If True, will check if file sizes match and skip download if they do. If False, will just return the paths\n",
    "        and not check if the data was updated on AWS.\n",
    "    Returns\n",
    "    -------\n",
    "    trials_tables: list of pathlib.Path\n",
    "        Paths to the downloaded subjectTrials files\n",
    "    training_tables: list of pathlib.Path\n",
    "        Paths to the downloaded subjectTraining files\n",
    "    \"\"\"\n",
    "\n",
    "    if target_path is None:\n",
    "        target_path = Path(one.cache_dir).joinpath('aggregates')\n",
    "        target_path.mkdir(exist_ok=True)\n",
    "    else:\n",
    "        assert target_path.exists(), 'The target_path you passed does not exist.'\n",
    "\n",
    "    # Get the datasets\n",
    "    trials_ds = []\n",
    "    training_ds = []\n",
    "    if subject:\n",
    "        try:\n",
    "            subject_id = uuid.UUID(subject)\n",
    "        except ValueError:\n",
    "            subject_id = one.alyx.rest('subjects', 'list', nickname=subject)[0]['id']\n",
    "        if trials:\n",
    "            trials_ds.extend(one.alyx.rest('datasets', 'list', name='_ibl_subjectTrials.table.pqt',\n",
    "                                           django=f'object_id,{subject_id}'))\n",
    "        if training:\n",
    "            training_ds.extend(one.alyx.rest('datasets', 'list', name='_ibl_subjectTraining.table.pqt',\n",
    "                                             django=f'object_id,{subject_id}'))\n",
    "    else:\n",
    "        if tag:\n",
    "            if trials:\n",
    "                trials_ds.extend(one.alyx.rest('datasets', 'list', name='_ibl_subjectTrials.table.pqt', tag=tag))\n",
    "            if training:\n",
    "                training_ds.extend(one.alyx.rest('datasets', 'list', name='_ibl_subjectTraining.table.pqt', tag=tag))\n",
    "        else:\n",
    "            if trials:\n",
    "                trials_ds.extend(one.alyx.rest('datasets', 'list', name='_ibl_subjectTrials.table.pqt'))\n",
    "            if training:\n",
    "                training_ds.extend(one.alyx.rest('datasets', 'list', name='_ibl_subjectTraining.table.pqt'))\n",
    "\n",
    "    # Set up the bucket\n",
    "    s3, bucket_name = aws.get_s3_from_alyx(alyx=one.alyx)\n",
    "\n",
    "    all_out = []\n",
    "    for ds_list in [trials_ds, training_ds]:\n",
    "        out_paths = []\n",
    "        for ds in ds_list:\n",
    "            relative_path = add_uuid_string(ds['file_records'][0]['relative_path'], ds['url'][-36:])\n",
    "            src_path = 'aggregates/' + str(relative_path)\n",
    "            dst_path = target_path.joinpath(relative_path)\n",
    "            if check_updates:\n",
    "                out = aws.s3_download_file(src_path, dst_path, s3=s3, bucket_name=bucket_name, overwrite=overwrite)\n",
    "            else:\n",
    "                out = dst_path\n",
    "\n",
    "            if out and out.exists():\n",
    "                out_paths.append(out)\n",
    "            else:\n",
    "                print(f'Downloading of {src_path} table failed.')\n",
    "        all_out.append(out_paths)\n",
    "\n",
    "    return all_out[0], all_out[1]\n",
    "\n",
    "\n",
    "def query_subjects_interest(cutoff_date, lab, protocol='training', ibl_project='ibl_neuropixel_brainwide_01'):\n",
    "    \n",
    "    # Function to query subjects of interest based on task protocol and project\n",
    "\n",
    "    \"\"\" Download session data \"\"\"\n",
    "    # Search sessions of interest\n",
    "    sessions = one.search(task_protocol=protocol, project=ibl_project, details=True)\n",
    "    session_details = sessions[1]\n",
    "    \n",
    "    \"\"\" List animals of interest\"\"\"\n",
    "    subjects_interest = []\n",
    "    for s, ses in enumerate(session_details):\n",
    "        if (session_details[s]['lab']==lab) & (session_details[s]['date']>cutoff_date):\n",
    "            \n",
    "            nickname = session_details[s]['subject']\n",
    "            subjects_interest = np.append(subjects_interest, nickname)\n",
    "\n",
    "    subjects_interest = np.unique(subjects_interest)\n",
    "    \n",
    "    return subjects_interest\n",
    "\n",
    "\n",
    "def subjects_interest_data(subjects_interest, phase, protocol):\n",
    "    \n",
    "    # Parameters\n",
    "    # phase can be 'learning' or 'profficient'\n",
    "\n",
    "    all_data = pd.DataFrame()\n",
    "    # Loop through subjects and get data and training status for each\n",
    "    for s, subject in enumerate(subjects_interest):\n",
    "\n",
    "        subject_trials, subject_training = download_subjectTables(one, subject=subject, trials=True, training=True,\n",
    "                            target_path=None, tag=None, overwrite=False, check_updates=True)\n",
    "\n",
    "        # Check if there is data for this mouse\n",
    "        if (len(subject_trials) > 0) & (len(subject_training) > 0):\n",
    "            dsets = [subject_trials[0], subject_training[0]]\n",
    "            files = [one.cache_dir.joinpath(x) for x in dsets]\n",
    "            trials, training = [pd.read_parquet(file) for file in files]\n",
    "            trials['subject_nickname'] = subject\n",
    "            \n",
    "            # Check if animal ever got trained\n",
    "            if 'trained 1a' in training['training_status'].unique():\n",
    "                training_date = list(training.loc[training['training_status']=='trained 1a'].reset_index()['date'])[0]\n",
    "            elif 'trained 1b' in training['training_status'].unique():\n",
    "                training_date = list(training.loc[training['training_status']=='trained 1b'].reset_index()['date'])[0]\n",
    "            else:\n",
    "                training_date = []\n",
    "\n",
    "            # If animal got trained, include\n",
    "            if len(training_date) > 0:\n",
    "                # Check phase of interest\n",
    "                if phase == 'learning':\n",
    "                    # If learning keep all sessions until trained\n",
    "                    subject_data = trials.loc[trials['session_start_time'] <= pd.to_datetime(training_date)]\n",
    "                if phase == 'proficient':\n",
    "                    # If proficient, take the date of trained_1b:\n",
    "                    # Check if animal ever got trained\n",
    "                    if 'trained 1b' in training['training_status'].unique():\n",
    "                        training_1b = list(training.loc[training['training_status']=='trained 1b'].reset_index()['date'])[0]\n",
    "                    else:\n",
    "                        training_1b = []\n",
    "                        \n",
    "                    # Select protocol\n",
    "                    if protocol == 'biased':\n",
    "                        # If profficient keep all biased sessions after 1b\n",
    "                        subject_data = trials.loc[(trials['session_start_time'] > pd.to_datetime(training_1b)) \n",
    "                                                & (trials['task_protocol'].apply(lambda x: x[14:18])=='bias')]\n",
    "                    elif protocol == 'ephys':\n",
    "                        # If profficient keep all biased sessions after 1b\n",
    "                        subject_data = trials.loc[(trials['session_start_time'] > pd.to_datetime(training_1b)) \n",
    "                                                & (trials['task_protocol'].apply(lambda x: x[14:18])=='ephy')]\n",
    "                    else:\n",
    "                        print('Protocol not contemplated yet')\n",
    "                        \n",
    "\n",
    "                # Save to main dataframe\n",
    "                if len(all_data) == 0:\n",
    "                    all_data = subject_data\n",
    "                else:\n",
    "                    all_data = all_data.append(subject_data)\n",
    "        else:\n",
    "            print('No available data for subject ' + str(subject))\n",
    "\n",
    "    return all_data"
   ]
  },
  {
   "attachments": {},
   "cell_type": "markdown",
   "metadata": {},
   "source": [
    "### Example use case"
   ]
  },
  {
   "cell_type": "code",
   "execution_count": 4,
   "metadata": {},
   "outputs": [
    {
     "name": "stdout",
     "output_type": "stream",
     "text": [
      "No available data for subject ZFM-06440\n"
     ]
    }
   ],
   "source": [
    "phase = 'learning'  # If learning keep all sessions until trained, else, keep sessions after 'trained'\n",
    "protocol = 'training'  # which sessions to query: training or biased\n",
    "data = subjects_interest_data(['ZFM-06440'], phase, protocol)"
   ]
  },
  {
   "cell_type": "code",
   "execution_count": 56,
   "metadata": {},
   "outputs": [
    {
     "name": "stdout",
     "output_type": "stream",
     "text": [
      "No available data for subject ZFM-05229\n"
     ]
    },
    {
     "name": "stderr",
     "output_type": "stream",
     "text": [
      "/home/ines/Downloads/ONE/alyx.internationalbrainlab.org/aggregates/Subjects/mainenlab/ZFM-05231/_ibl_subjectTrials.table.b9f8176f-b05d-443c-b090-4a740b20cbf5.pqt: 100%|██████████| 6.64M/6.64M [00:07<00:00, 890kB/s] \n",
      "/home/ines/Downloads/ONE/alyx.internationalbrainlab.org/aggregates/Subjects/mainenlab/ZFM-05231/_ibl_subjectTraining.table.1b703052-41dd-4615-abd5-75fe3e96bb15.pqt: 100%|██████████| 3.14k/3.14k [00:00<00:00, 9.95kB/s]\n",
      "/home/ines/Downloads/ONE/alyx.internationalbrainlab.org/aggregates/Subjects/mainenlab/ZFM-05232/_ibl_subjectTrials.table.5b01a0a2-b21c-4043-9817-fa2c2538b287.pqt: 100%|██████████| 1.12M/1.12M [00:01<00:00, 852kB/s] \n",
      "/home/ines/Downloads/ONE/alyx.internationalbrainlab.org/aggregates/Subjects/mainenlab/ZFM-05232/_ibl_subjectTraining.table.a8ae9ca0-3bdd-49db-84ad-b944a3c42031.pqt: 100%|██████████| 2.94k/2.94k [00:00<00:00, 9.08kB/s]\n",
      "/home/ines/Downloads/ONE/alyx.internationalbrainlab.org/aggregates/Subjects/mainenlab/ZFM-05234/_ibl_subjectTrials.table.d1101b6e-4632-440d-83ec-ab3040fbf867.pqt: 100%|██████████| 3.11M/3.11M [00:06<00:00, 486kB/s]\n",
      "/home/ines/Downloads/ONE/alyx.internationalbrainlab.org/aggregates/Subjects/mainenlab/ZFM-05234/_ibl_subjectTraining.table.c1b5d44d-0d90-4a90-b67b-9efcf25b2e18.pqt: 100%|██████████| 3.08k/3.08k [00:00<00:00, 8.69kB/s]\n",
      "/tmp/ipykernel_39244/1143217590.py:174: FutureWarning: The frame.append method is deprecated and will be removed from pandas in a future version. Use pandas.concat instead.\n",
      "  all_data = all_data.append(subject_data)\n"
     ]
    },
    {
     "name": "stdout",
     "output_type": "stream",
     "text": [
      "No available data for subject ZFM-05923\n"
     ]
    },
    {
     "name": "stderr",
     "output_type": "stream",
     "text": [
      "/home/ines/Downloads/ONE/alyx.internationalbrainlab.org/aggregates/Subjects/mainenlab/ZFM-05925/_ibl_subjectTrials.table.3230000b-0029-4c7d-a0e6-ebb22b882eb0.pqt: 100%|██████████| 160k/160k [00:00<00:00, 193kB/s]\n",
      "/home/ines/Downloads/ONE/alyx.internationalbrainlab.org/aggregates/Subjects/mainenlab/ZFM-05925/_ibl_subjectTraining.table.ed6a226d-5d28-417a-94c0-993babf63e16.pqt: 100%|██████████| 2.94k/2.94k [00:00<00:00, 9.08kB/s]\n",
      "/home/ines/Downloads/ONE/alyx.internationalbrainlab.org/aggregates/Subjects/mainenlab/ZFM-05926/_ibl_subjectTrials.table.f1f7c770-10b0-481c-b178-8a53e6d5d15f.pqt: 100%|██████████| 2.03M/2.03M [00:01<00:00, 1.51MB/s]\n",
      "/home/ines/Downloads/ONE/alyx.internationalbrainlab.org/aggregates/Subjects/mainenlab/ZFM-05926/_ibl_subjectTraining.table.e42f6843-9f68-420b-a1b9-81e60a397e2f.pqt: 100%|██████████| 3.25k/3.25k [00:00<00:00, 10.8kB/s]\n",
      "/tmp/ipykernel_39244/1143217590.py:174: FutureWarning: The frame.append method is deprecated and will be removed from pandas in a future version. Use pandas.concat instead.\n",
      "  all_data = all_data.append(subject_data)\n"
     ]
    },
    {
     "name": "stdout",
     "output_type": "stream",
     "text": [
      "No available data for subject ZFM-05927\n"
     ]
    },
    {
     "name": "stderr",
     "output_type": "stream",
     "text": [
      "/home/ines/Downloads/ONE/alyx.internationalbrainlab.org/aggregates/Subjects/mainenlab/ZFM-05928/_ibl_subjectTrials.table.9cd3193e-8a3f-4e9d-b32d-69d9223f0e1c.pqt: 100%|██████████| 86.6k/86.6k [00:00<00:00, 131kB/s]\n",
      "/home/ines/Downloads/ONE/alyx.internationalbrainlab.org/aggregates/Subjects/mainenlab/ZFM-05928/_ibl_subjectTraining.table.e2719a4c-e219-42a9-a311-a898f45b0347.pqt: 100%|██████████| 2.94k/2.94k [00:00<00:00, 8.13kB/s]\n"
     ]
    },
    {
     "name": "stdout",
     "output_type": "stream",
     "text": [
      "No available data for subject ZFM-06171\n",
      "No available data for subject ZFM-06190\n",
      "No available data for subject ZFM-06193\n"
     ]
    },
    {
     "name": "stderr",
     "output_type": "stream",
     "text": [
      "/home/ines/Downloads/ONE/alyx.internationalbrainlab.org/aggregates/Subjects/mainenlab/ZFM-06195/_ibl_subjectTrials.table.3fdfab2f-5c1c-462c-a68d-9bbfc7d1f14f.pqt: 100%|██████████| 1.20M/1.20M [00:02<00:00, 458kB/s]\n",
      "/home/ines/Downloads/ONE/alyx.internationalbrainlab.org/aggregates/Subjects/mainenlab/ZFM-06195/_ibl_subjectTraining.table.4ee1c5b5-e72f-4ba5-804f-277538e8651a.pqt: 100%|██████████| 2.94k/2.94k [00:00<00:00, 8.98kB/s]\n"
     ]
    },
    {
     "name": "stdout",
     "output_type": "stream",
     "text": [
      "No available data for subject ZFM-06438\n",
      "No available data for subject ZFM-06439\n",
      "No available data for subject ZFM-06440\n"
     ]
    }
   ],
   "source": [
    "# Find subjects based on lab\n",
    "cutoff_date = datetime.date(2022, 7, 27)  # Find mice with sessions after this date\n",
    "lab = 'mainenlab'\n",
    "subjects_of_interest = query_subjects_interest(cutoff_date, lab, protocol='training', ibl_project='ibl_neuropixel_brainwide_01')\n",
    "# Then query their data\n",
    "phase = 'learning'  # If learning keep all sessions until trained, else, keep sessions after 'trained'\n",
    "protocol = 'training'  # which sessions to query: training or biased\n",
    "data = subjects_interest_data(subjects_of_interest, phase, protocol)"
   ]
  },
  {
   "cell_type": "code",
   "execution_count": null,
   "metadata": {},
   "outputs": [],
   "source": [
    "# Alternatively, directly query data from a specific mouse\n",
    "data = subjects_interest_data(['KS014'])"
   ]
  },
  {
   "attachments": {},
   "cell_type": "markdown",
   "metadata": {},
   "source": [
    "### Now look at the data!"
   ]
  },
  {
   "cell_type": "code",
   "execution_count": null,
   "metadata": {},
   "outputs": [],
   "source": []
  }
 ],
 "metadata": {
  "kernelspec": {
   "display_name": "iblenv",
   "language": "python",
   "name": "python3"
  },
  "language_info": {
   "codemirror_mode": {
    "name": "ipython",
    "version": 3
   },
   "file_extension": ".py",
   "mimetype": "text/x-python",
   "name": "python",
   "nbconvert_exporter": "python",
   "pygments_lexer": "ipython3",
   "version": "3.9.15"
  },
  "orig_nbformat": 4,
  "vscode": {
   "interpreter": {
    "hash": "21541729b5da47a594818561e91cb4175a7e192d68b7cc4221509f43b2f902b5"
   }
  }
 },
 "nbformat": 4,
 "nbformat_minor": 2
}
