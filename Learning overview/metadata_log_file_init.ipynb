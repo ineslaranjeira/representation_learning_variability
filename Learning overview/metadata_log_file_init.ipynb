{
 "cells": [
  {
   "cell_type": "code",
   "execution_count": 21,
   "metadata": {},
   "outputs": [],
   "source": [
    "\"\"\"\n",
    "Create log file that can be populated automatically each time data is saved\n",
    "@author: Ines\n",
    "\"\"\"\n",
    "import os\n",
    "import json\n",
    "from datetime import datetime\n",
    "import pickle\n",
    "from collections import defaultdict"
   ]
  },
  {
   "cell_type": "code",
   "execution_count": 26,
   "metadata": {},
   "outputs": [],
   "source": [
    "# Data to be written\n",
    "\n",
    "log = defaultdict(list)\n",
    "\n",
    "# current date\n",
    "now = datetime.now() # current date and time\n",
    "date_time = now.strftime(\"%m-%d-%Y\")\n",
    "\n",
    "# List all .ipynb files in the current working directory\n",
    "notebook_files = [f for f in os.listdir() if f.endswith('.ipynb')]\n",
    "notebook_name = notebook_files[0]\n",
    "\n",
    "log_entry = {\"data_filename\": \"metadata_log.json\",\n",
    "    \"script_name\": str(notebook_name),\n",
    "    \"timestamp\": date_time\n",
    "}\n",
    "# First entry\n",
    "log[0] = log_entry\n",
    "# Where to put json\n",
    "log_file_path =  '/home/ines/repositories/representation_learning_variability/DATA/'\n",
    " \n",
    "# Serializing json\n",
    "log_file = json.dumps(log, indent=4)\n",
    "\n",
    "# Writing to sample.json\n",
    "with open(log_file_path+\"metadata_log.json\", \"w\") as outfile:\n",
    "    outfile.write(log_file)\n",
    "\n",
    " \n",
    "# Opening JSON file\n",
    "with open(log_file_path+'metadata_log.json', 'r') as openfile:\n",
    " \n",
    "    # Reading from json file\n",
    "    json_object = json.load(openfile)"
   ]
  },
  {
   "cell_type": "code",
   "execution_count": 28,
   "metadata": {},
   "outputs": [
    {
     "data": {
      "text/plain": [
       "{'0': {'data_filename': 'metadata_log.json',\n",
       "  'script_name': 'first_pass_analyses.ipynb',\n",
       "  'timestamp': '12-20-2024'}}"
      ]
     },
     "execution_count": 28,
     "metadata": {},
     "output_type": "execute_result"
    }
   ],
   "source": [
    "json_object"
   ]
  },
  {
   "cell_type": "markdown",
   "metadata": {},
   "source": [
    "### Automatically update log when saving\n",
    "This function is copied in data_processing.py and should be called from there"
   ]
  },
  {
   "cell_type": "code",
   "execution_count": 8,
   "metadata": {},
   "outputs": [],
   "source": [
    "def save_pickle_and_log(file_to_save, filename, save_path):\n",
    "\n",
    "    # current date\n",
    "    now = datetime.now() # current date and time\n",
    "    date_time = now.strftime(\"%m-%d-%Y\")\n",
    "    \n",
    "    # First, save file in desired location\n",
    "    os.chdir(save_path)\n",
    "    pickle.dump(file_to_save, open(filename+date_time, \"wb\"))\n",
    "    \n",
    "    # Open log file json\n",
    "    log_file_path =  '/home/ines/repositories/representation_learning_variability/DATA/' \n",
    "    with open(log_file_path + 'metadata_log.json', 'r') as openfile:\n",
    "        # Reading from json file\n",
    "        metadata_log = json.load(openfile)\n",
    "    \n",
    "    # Then create entry for the log file\n",
    "    files = [f for f in os.listdir() if f.endswith('.ipynb')]\n",
    "    script_name = files[0]\n",
    "    \n",
    "    # Populate new entry\n",
    "    new_log_entry = {\n",
    "    \"data_filename\": filename,\n",
    "    \"script_name\": script_name,\n",
    "    \"timestamp\": date_time\n",
    "    }\n",
    "    \n",
    "    # Update log dict\n",
    "    order_last_entry = int(list(metadata_log.keys())[-1])\n",
    "    metadata_log[order_last_entry+1] = new_log_entry\n",
    "    \n",
    "    # Overwrite json log file\n",
    "    with open(log_file_path+\"metadata_log.json\", \"w\") as outfile:\n",
    "        outfile.write(str(metadata_log))\n",
    "        \n",
    "    return metadata_log\n"
   ]
  },
  {
   "cell_type": "code",
   "execution_count": null,
   "metadata": {},
   "outputs": [],
   "source": []
  }
 ],
 "metadata": {
  "kernelspec": {
   "display_name": "iblenv",
   "language": "python",
   "name": "python3"
  },
  "language_info": {
   "codemirror_mode": {
    "name": "ipython",
    "version": 3
   },
   "file_extension": ".py",
   "mimetype": "text/x-python",
   "name": "python",
   "nbconvert_exporter": "python",
   "pygments_lexer": "ipython3",
   "version": "3.9.15"
  }
 },
 "nbformat": 4,
 "nbformat_minor": 2
}
