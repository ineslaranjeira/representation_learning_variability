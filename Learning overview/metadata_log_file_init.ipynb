{
 "cells": [
  {
   "cell_type": "code",
   "execution_count": 1,
   "metadata": {},
   "outputs": [],
   "source": [
    "\"\"\"\n",
    "Create log file that can be populated automatically each time data is saved\n",
    "@author: Ines\n",
    "\"\"\"\n",
    "import os\n",
    "import json\n",
    "from datetime import datetime\n",
    "import pickle\n",
    "from collections import defaultdict\n",
    "import sys"
   ]
  },
  {
   "cell_type": "code",
   "execution_count": 2,
   "metadata": {},
   "outputs": [],
   "source": [
    "# Data to be written\n",
    "\n",
    "log = defaultdict(list)\n",
    "\n",
    "# current date\n",
    "now = datetime.now() # current date and time\n",
    "date_time = now.strftime(\"%m-%d-%Y\")\n",
    "\n",
    "# List all .ipynb files in the current working directory\n",
    "notebook_files = [f for f in os.listdir() if f.endswith('.ipynb')]\n",
    "notebook_name = notebook_files[0]\n",
    "\n",
    "log_entry = {\"data_filename\": \"metadata_log.json\",\n",
    "    \"script_name\": str(notebook_name),\n",
    "    \"timestamp\": date_time\n",
    "}\n",
    "# First entry\n",
    "log[0] = log_entry\n",
    "# Where to put json\n",
    "log_file_path =  '/home/ines/repositories/representation_learning_variability/DATA/'\n",
    " \n",
    "# Serializing json\n",
    "# log_file = json.dumps(log, indent=4)\n",
    "log_file = json.dumps(log)\n",
    "\n",
    "# Writing to sample.json\n",
    "with open(log_file_path+\"metadata_log.json\", \"w\") as outfile:\n",
    "    outfile.write(log_file)\n",
    "\n",
    " \n",
    "# Opening JSON file\n",
    "with open(log_file_path+'metadata_log.json', 'r') as openfile:\n",
    " \n",
    "    # Reading from json file\n",
    "    json_object = json.load(openfile)"
   ]
  },
  {
   "cell_type": "code",
   "execution_count": 2,
   "metadata": {},
   "outputs": [],
   "source": [
    "log_file_path =  '/home/ines/repositories/representation_learning_variability/DATA/'\n",
    " \n",
    "# Opening JSON file\n",
    "with open(log_file_path+'metadata_log.json', 'r') as openfile:\n",
    " \n",
    "    # Reading from json file\n",
    "    json_object = json.load(openfile)"
   ]
  },
  {
   "cell_type": "markdown",
   "metadata": {},
   "source": [
    "### Automatically update log when saving\n",
    "This function is copied in data_processing.py and should be called from there"
   ]
  },
  {
   "cell_type": "code",
   "execution_count": 8,
   "metadata": {},
   "outputs": [],
   "source": [
    "def save_and_log(file_to_save, filename, file_format, save_path, script_name):\n",
    "\n",
    "    # current date\n",
    "    now = datetime.now() # current date and time\n",
    "    date_time = now.strftime(\"%m-%d-%Y\")\n",
    "    \n",
    "    # First, save file in desired location and with desired format\n",
    "    os.chdir(save_path)\n",
    "    if file_format == 'pickle':\n",
    "        pickle.dump(file_to_save, open(filename+date_time, \"wb\"))\n",
    "    elif file_format == 'parquet':\n",
    "        assert isinstance(file_to_save, pd.DataFrame) \n",
    "        file_to_save.to_parquet(filename+date_time, compression='gzip')  \n",
    "    else: \n",
    "        sys.exit(\"File format not implemented\")        \n",
    "\n",
    "    # Open log file json\n",
    "    log_file_path =  '/home/ines/repositories/representation_learning_variability/DATA/' \n",
    "    with open(log_file_path + 'metadata_log.json', 'r') as openfile:\n",
    "        # Reading from json file\n",
    "        metadata_log = json.load(openfile)\n",
    "    \n",
    "    # # Then create entry for the log file\n",
    "    # files = [f for f in os.listdir() if f.endswith('.ipynb')]\n",
    "    # script_name = files[0]\n",
    "    \n",
    "    # Populate new entry\n",
    "    new_log_entry = {\n",
    "    \"data_filename\": filename,\n",
    "    \"script_name\": script_name,\n",
    "    \"timestamp\": date_time\n",
    "    }\n",
    "    \n",
    "    # Update log dict\n",
    "    order_last_entry = int(list(metadata_log.keys())[-1])\n",
    "    metadata_log[order_last_entry+1] = new_log_entry\n",
    "    updated_json = json.dumps(metadata_log)\n",
    "\n",
    "    # Overwrite json log file\n",
    "    with open(log_file_path+\"metadata_log.json\", \"w\") as outfile:\n",
    "        outfile.write(updated_json)\n",
    "\n",
    "    return metadata_log\n"
   ]
  },
  {
   "cell_type": "code",
   "execution_count": null,
   "metadata": {},
   "outputs": [],
   "source": []
  }
 ],
 "metadata": {
  "kernelspec": {
   "display_name": "iblenv",
   "language": "python",
   "name": "python3"
  },
  "language_info": {
   "codemirror_mode": {
    "name": "ipython",
    "version": 3
   },
   "file_extension": ".py",
   "mimetype": "text/x-python",
   "name": "python",
   "nbconvert_exporter": "python",
   "pygments_lexer": "ipython3",
   "version": "3.9.15"
  }
 },
 "nbformat": 4,
 "nbformat_minor": 2
}
