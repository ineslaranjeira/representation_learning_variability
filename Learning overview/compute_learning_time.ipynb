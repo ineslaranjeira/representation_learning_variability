{
 "cells": [
  {
   "attachments": {},
   "cell_type": "markdown",
   "metadata": {},
   "source": [
    "# Compute learning time for subjects of interest\n",
    "Mar2025 \\\n",
    "author: Inês Laranjeira"
   ]
  },
  {
   "cell_type": "code",
   "execution_count": 1,
   "metadata": {},
   "outputs": [],
   "source": [
    "\"\"\"\n",
    "IMPORTS\n",
    "\"\"\"\n",
    "import pandas as pd \n",
    "import numpy as np\n",
    "import os\n",
    "\n",
    "from one.api import ONE\n",
    "one=ONE(mode='remote')\n",
    "\n",
    "# Get my functions\n",
    "functions_path =  '/home/ines/repositories/representation_learning_variability/Functions/'\n",
    "functions_path = '/Users/ineslaranjeira/Documents/Repositories/representation_learning_variability/Functions/'\n",
    "os.chdir(functions_path)\n",
    "from one_functions_generic import training_time_mice, download_subjectTables\n",
    "from data_processing import save_and_log\n"
   ]
  },
  {
   "cell_type": "markdown",
   "metadata": {},
   "source": [
    "## Get mice names of interest"
   ]
  },
  {
   "cell_type": "code",
   "execution_count": 2,
   "metadata": {},
   "outputs": [],
   "source": [
    "# Load trial clsuters\n",
    "results_path = '/home/ines/repositories/representation_learning_variability/Models/Sub-trial/4_analyses/'\n",
    "results_path = '/Users/ineslaranjeira/Documents/Repositories/representation_learning_variability/Models/Sub-trial/4_analyses/'\n",
    "\n",
    "trials_filename = str(results_path + 'cluster_per_trial_part_info03-12-2025')\n",
    "trial_clusters = pd.read_parquet(trials_filename, engine='pyarrow')"
   ]
  },
  {
   "cell_type": "code",
   "execution_count": 3,
   "metadata": {},
   "outputs": [],
   "source": [
    "mouse_names = trial_clusters['mouse_name'].unique()"
   ]
  },
  {
   "cell_type": "markdown",
   "metadata": {},
   "source": [
    "## Compute training time for mice of interest"
   ]
  },
  {
   "cell_type": "code",
   "execution_count": 4,
   "metadata": {},
   "outputs": [
    {
     "name": "stdout",
     "output_type": "stream",
     "text": [
      "0 SWC_038\n",
      "1 SWC_053\n",
      "2 CSHL045\n",
      "3 UCLA014\n",
      "4 ZFM-02373\n",
      "5 PL015\n",
      "6 ibl_witten_26\n",
      "7 ZFM-01577\n",
      "8 ZFM-01937\n",
      "9 CSHL055\n",
      "10 ibl_witten_29\n",
      "11 CSHL053\n",
      "12 PL017\n",
      "13 CSHL060\n",
      "14 SWC_065\n",
      "15 NYU-47\n",
      "16 SWC_052\n",
      "17 UCLA034\n",
      "18 UCLA006\n",
      "19 ZFM-01935\n",
      "20 KS084\n",
      "21 KS096\n",
      "22 CSH_ZAD_022\n",
      "23 UCLA012\n",
      "24 DY_016\n",
      "25 DY_020\n",
      "26 CSH_ZAD_025\n",
      "27 CSHL058\n",
      "28 UCLA037\n",
      "29 ZFM-01936\n",
      "30 CSHL047\n",
      "31 DY_009\n",
      "32 UCLA033\n",
      "33 SWC_061\n",
      "34 SWC_058\n",
      "35 CSHL052\n",
      "36 CSHL059\n",
      "37 NYU-48\n",
      "38 NR_0020\n",
      "39 KS094\n",
      "40 KS051\n",
      "41 DY_014\n",
      "42 CSHL049\n",
      "43 SWC_043\n",
      "44 DY_010\n",
      "45 NYU-40\n",
      "46 ibl_witten_25\n",
      "47 NYU-45\n",
      "48 DY_018\n",
      "49 NYU-11\n",
      "50 SWC_054\n",
      "51 ZFM-01592\n",
      "52 PL016\n",
      "53 CSH_ZAD_011\n",
      "54 CSH_ZAD_026\n",
      "55 NYU-46\n",
      "56 NYU-39\n",
      "57 UCLA035\n",
      "58 ZFM-02370\n",
      "59 ZFM-02369\n",
      "60 ibl_witten_27\n",
      "61 DY_011\n",
      "62 SWC_039\n",
      "63 KS091\n",
      "64 ZFM-02372\n",
      "65 CSH_ZAD_019\n",
      "66 SWC_060\n",
      "67 CSH_ZAD_024\n",
      "68 UCLA011\n",
      "69 ZFM-01576\n",
      "70 SWC_066\n",
      "71 ZFM-02368\n",
      "72 CSHL054\n",
      "73 ibl_witten_20\n",
      "74 UCLA017\n",
      "75 UCLA005\n",
      "76 UCLA036\n",
      "77 DY_013\n",
      "78 NR_0017\n",
      "79 CSHL051\n",
      "80 SWC_042\n"
     ]
    }
   ],
   "source": [
    "training_times = training_time_mice(mouse_names, one)"
   ]
  },
  {
   "cell_type": "code",
   "execution_count": 6,
   "metadata": {},
   "outputs": [
    {
     "data": {
      "text/plain": [
       "4"
      ]
     },
     "execution_count": 6,
     "metadata": {},
     "output_type": "execute_result"
    }
   ],
   "source": [
    "np.min(training_times['training_time'])"
   ]
  },
  {
   "cell_type": "code",
   "execution_count": null,
   "metadata": {},
   "outputs": [
    {
     "data": {
      "text/plain": [
       "(array([25., 21., 13., 11.,  3.,  3.,  2.,  0.,  1.,  2.]),\n",
       " array([ 4. , 13.2, 22.4, 31.6, 40.8, 50. , 59.2, 68.4, 77.6, 86.8, 96. ]),\n",
       " <BarContainer object of 10 artists>)"
      ]
     },
     "execution_count": 7,
     "metadata": {},
     "output_type": "execute_result"
    },
    {
     "data": {
      "image/png": "[encoded data removed]",
      "text/plain": [
       "<Figure size 640x480 with 1 Axes>"
      ]
     },
     "metadata": {},
     "output_type": "display_data"
    }
   ],
   "source": [
    "import matplotlib.pyplot as plt\n",
    "plt.hist(training_times['training_time'])\n"
   ]
  },
  {
   "cell_type": "markdown",
   "metadata": {},
   "source": [
    "# Save"
   ]
  },
  {
   "cell_type": "code",
   "execution_count": null,
   "metadata": {},
   "outputs": [
    {
     "ename": "FileNotFoundError",
     "evalue": "[Errno 2] No such file or directory: '/home/ines/repositories/representation_learning_variability/DATA/metadata_log.json'",
     "output_type": "error",
     "traceback": [
      "\u001b[0;31m---------------------------------------------------------------------------\u001b[0m",
      "\u001b[0;31mFileNotFoundError\u001b[0m                         Traceback (most recent call last)",
      "Cell \u001b[0;32mIn[13], line 6\u001b[0m\n\u001b[1;32m      4\u001b[0m file_format \u001b[38;5;241m=\u001b[39m \u001b[38;5;124m'\u001b[39m\u001b[38;5;124mparquet\u001b[39m\u001b[38;5;124m'\u001b[39m\n\u001b[1;32m      5\u001b[0m script_name \u001b[38;5;241m=\u001b[39m \u001b[38;5;124m'\u001b[39m\u001b[38;5;124mcompute_learning_time.ipynb\u001b[39m\u001b[38;5;124m'\u001b[39m\n\u001b[0;32m----> 6\u001b[0m metadata \u001b[38;5;241m=\u001b[39m \u001b[43msave_and_log\u001b[49m\u001b[43m(\u001b[49m\u001b[43mfile_to_save\u001b[49m\u001b[43m,\u001b[49m\u001b[43m \u001b[49m\u001b[43mfilename\u001b[49m\u001b[43m,\u001b[49m\u001b[43m \u001b[49m\u001b[43mfile_format\u001b[49m\u001b[43m,\u001b[49m\u001b[43m \u001b[49m\u001b[43msave_path\u001b[49m\u001b[43m,\u001b[49m\u001b[43m \u001b[49m\u001b[43mscript_name\u001b[49m\u001b[43m)\u001b[49m\n",
      "File \u001b[0;32m~/Documents/Repositories/representation_learning_variability/Functions/data_processing.py:389\u001b[0m, in \u001b[0;36msave_and_log\u001b[0;34m(file_to_save, filename, file_format, save_path, script_name)\u001b[0m\n\u001b[1;32m    387\u001b[0m \u001b[38;5;66;03m# Open log file json\u001b[39;00m\n\u001b[1;32m    388\u001b[0m log_file_path \u001b[38;5;241m=\u001b[39m  \u001b[38;5;124m'\u001b[39m\u001b[38;5;124m/home/ines/repositories/representation_learning_variability/DATA/\u001b[39m\u001b[38;5;124m'\u001b[39m \n\u001b[0;32m--> 389\u001b[0m \u001b[38;5;28;01mwith\u001b[39;00m \u001b[38;5;28;43mopen\u001b[39;49m\u001b[43m(\u001b[49m\u001b[43mlog_file_path\u001b[49m\u001b[43m \u001b[49m\u001b[38;5;241;43m+\u001b[39;49m\u001b[43m \u001b[49m\u001b[38;5;124;43m'\u001b[39;49m\u001b[38;5;124;43mmetadata_log.json\u001b[39;49m\u001b[38;5;124;43m'\u001b[39;49m\u001b[43m,\u001b[49m\u001b[43m \u001b[49m\u001b[38;5;124;43m'\u001b[39;49m\u001b[38;5;124;43mr\u001b[39;49m\u001b[38;5;124;43m'\u001b[39;49m\u001b[43m)\u001b[49m \u001b[38;5;28;01mas\u001b[39;00m openfile:\n\u001b[1;32m    390\u001b[0m     \u001b[38;5;66;03m# Reading from json file\u001b[39;00m\n\u001b[1;32m    391\u001b[0m     metadata_log \u001b[38;5;241m=\u001b[39m json\u001b[38;5;241m.\u001b[39mload(openfile)\n\u001b[1;32m    393\u001b[0m \u001b[38;5;66;03m# # Then create entry for the log file\u001b[39;00m\n\u001b[1;32m    394\u001b[0m \u001b[38;5;66;03m# files = [f for f in os.listdir() if f.endswith('.ipynb')]\u001b[39;00m\n\u001b[1;32m    395\u001b[0m \u001b[38;5;66;03m# script_name = files[0]\u001b[39;00m\n\u001b[1;32m    396\u001b[0m \n\u001b[1;32m    397\u001b[0m \u001b[38;5;66;03m# Populate new entry\u001b[39;00m\n",
      "\u001b[0;31mFileNotFoundError\u001b[0m: [Errno 2] No such file or directory: '/home/ines/repositories/representation_learning_variability/DATA/metadata_log.json'"
     ]
    }
   ],
   "source": [
    "file_to_save = training_times.copy()\n",
    "filename = \"training_time_\"\n",
    "save_path = '/Users/ineslaranjeira/Documents/Repositories/representation_learning_variability/DATA/'\n",
    "file_format = 'parquet'\n",
    "script_name = 'compute_learning_time.ipynb'\n",
    "metadata = save_and_log(file_to_save, filename, file_format, save_path, script_name)"
   ]
  }
 ],
 "metadata": {
  "kernelspec": {
   "display_name": "iblenv",
   "language": "python",
   "name": "python3"
  },
  "language_info": {
   "codemirror_mode": {
    "name": "ipython",
    "version": 3
   },
   "file_extension": ".py",
   "mimetype": "text/x-python",
   "name": "python",
   "nbconvert_exporter": "python",
   "pygments_lexer": "ipython3",
   "version": "3.10.12"
  },
  "orig_nbformat": 4,
  "vscode": {
   "interpreter": {
    "hash": "21541729b5da47a594818561e91cb4175a7e192d68b7cc4221509f43b2f902b5"
   }
  }
 },
 "nbformat": 4,
 "nbformat_minor": 2
}
