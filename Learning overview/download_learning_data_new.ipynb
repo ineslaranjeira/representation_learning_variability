{
 "cells": [
  {
   "attachments": {},
   "cell_type": "markdown",
   "metadata": {},
   "source": [
    "# Download learning data\n",
    "Jan2023 \\\n",
    "author: Inês Laranjeira"
   ]
  },
  {
   "cell_type": "code",
   "execution_count": 1,
   "metadata": {},
   "outputs": [
    {
     "name": "stderr",
     "output_type": "stream",
     "text": [
      "/opt/anaconda3/envs/iblenv/lib/python3.10/site-packages/one/api.py:1577: UserWarning: Newer cache tables require ONE version 2.7 or greater\n",
      "  warnings.warn(f'Newer cache tables require ONE version {min_version} or greater')\n"
     ]
    }
   ],
   "source": [
    "\"\"\"\n",
    "IMPORTS\n",
    "\"\"\"\n",
    "import pandas as pd \n",
    "import numpy as np\n",
    "import seaborn as sns\n",
    "import matplotlib.pyplot as plt\n",
    "import pickle\n",
    "import os\n",
    "from collections import defaultdict\n",
    "from datetime import datetime\n",
    "import concurrent.futures\n",
    "\n",
    "from brainbox.task.trials import find_trial_ids\n",
    "from brainbox.behavior.training import get_sessions, get_training_status\n",
    "\n",
    "from one.api import ONE\n",
    "one = ONE(base_url='https://alyx.internationalbrainlab.org')\n",
    "\n",
    "# Get my functions\n",
    "functions_path =  '/home/ines/repositories/representation_learning_variability/Functions/'\n",
    "functions_path = '/Users/ineslaranjeira/Documents/Repositories/representation_learning_variability/Functions/'\n",
    "os.chdir(functions_path)\n",
    "from one_functions_generic import query_subjects_interest, subjects_interest_data, prepro\n"
   ]
  },
  {
   "cell_type": "markdown",
   "metadata": {},
   "source": [
    "## Get mice names for which there are design matrices"
   ]
  },
  {
   "cell_type": "code",
   "execution_count": 2,
   "metadata": {},
   "outputs": [],
   "source": [
    "bin_size = 0.1\n",
    "\n",
    "data_path_v1 =  '/home/ines/repositories/representation_learning_variability/DATA/Sub-trial/Design matrix/' + 'v1/' + str(bin_size) + '/'\n",
    "data_path_v2 =  '/home/ines/repositories/representation_learning_variability/DATA/Sub-trial/Design matrix/' + 'v2_3Nov2023/' + str(bin_size) + '/'\n",
    "data_path_v2 =  '/Users/ineslaranjeira/Documents/Repositories/representation_learning_variability/DATA/Sub-trial/Design matrix/' + 'v2_3Nov2023/' + str(bin_size) + '/'\n",
    "data_path = data_path_v2\n",
    "\n",
    "os.chdir(data_path)\n",
    "design_matrices = os.listdir(data_path)\n",
    "\n",
    "# Get mice which have design matrix\n",
    "idxs = []\n",
    "mouse_names = []\n",
    "for m, mat in enumerate(design_matrices):\n",
    "    \n",
    "    mouse_name = design_matrices[m][51:-4]\n",
    "    eid = design_matrices[m][14:50]\n",
    "    idx = str(eid + '_' + mouse_name)\n",
    "    if m == 0:\n",
    "        idxs = idx\n",
    "        mouse_names = mouse_name\n",
    "    else:\n",
    "        idxs = np.hstack((idxs, idx))\n",
    "        mouse_names = np.hstack((mouse_names, mouse_name))\n"
   ]
  },
  {
   "cell_type": "code",
   "execution_count": 8,
   "metadata": {},
   "outputs": [],
   "source": [
    "# Choose a session with good QC\n",
    "data_path = '/home/ines/repositories/representation_learning_variability/Video and wheel/'\n",
    "data_path = '/Users/ineslaranjeira/Documents/Repositories/representation_learning_variability/Video and wheel/'\n",
    "# save_path = '/home/ines/repositories/representation_learning_variability/Exported figures/'\n",
    "\n",
    "os.chdir(data_path)\n",
    "pass_qc = pickle.load(open(data_path + \"good_brainwide_sessions_metadata\", \"rb\"))\n",
    "pass_qc = pickle.load(open(data_path + \"good_dlc_bwm_sessions_metadata\", \"rb\"))\n",
    "mouse_names = pass_qc['subject_nickname'].unique()"
   ]
  },
  {
   "cell_type": "markdown",
   "metadata": {},
   "source": [
    "## Load data"
   ]
  },
  {
   "cell_type": "code",
   "execution_count": 4,
   "metadata": {},
   "outputs": [],
   "source": [
    "need_to_compute = True"
   ]
  },
  {
   "cell_type": "code",
   "execution_count": 5,
   "metadata": {},
   "outputs": [],
   "source": [
    "def download_trial_data_paralell(mouse_name):\n",
    "\n",
    "    if len(mouse_name) > 0: \n",
    "        print('Successful for mouse ' + mouse_name)\n",
    "        # Trials data\n",
    "        mouse_data = prepro(subjects_interest_data(one, [mouse_name], 'learning', 'training'))\n",
    "\n",
    "        # Save data\n",
    "        pickle.dump(mouse_data, open(str('training_data_trials_'+mouse_name), 'wb'))\n",
    "    else:\n",
    "        print(mouse_name)\n",
    "\n",
    "def parallel_process_data(mouse_names, function_name):\n",
    "    with concurrent.futures.ThreadPoolExecutor() as executor:\n",
    "\n",
    "        # Process each chunk in parallel\n",
    "        executor.map(function_name, mouse_names)"
   ]
  },
  {
   "cell_type": "code",
   "execution_count": 9,
   "metadata": {},
   "outputs": [
    {
     "name": "stdout",
     "output_type": "stream",
     "text": [
      "Successful for mouse NYU-37\n",
      "Successful for mouse NYU-39\n",
      "Successful for mouse NYU-40\n",
      "Successful for mouse NYU-45\n",
      "Successful for mouse NYU-46\n",
      "Successful for mouse NYU-47\n",
      "Successful for mouse NYU-48\n",
      "Successful for mouse CSHL045\n",
      "Successful for mouse CSHL047\n",
      "Successful for mouse CSHL049\n",
      "Successful for mouse CSHL051\n",
      "Successful for mouse CSHL052\n",
      "Successful for mouse CSHL054\n",
      "Successful for mouse CSHL058\n",
      "Successful for mouse CSHL059\n",
      "Successful for mouse CSHL060\n",
      "Successful for mouse UCLA012\n",
      "Successful for mouse UCLA033\n",
      "Successful for mouse UCLA034\n",
      "Successful for mouse UCLA035\n",
      "Successful for mouse UCLA037\n",
      "Successful for mouse KS014\n",
      "Successful for mouse KS022\n",
      "Successful for mouse KS023\n",
      "Successful for mouse KS044\n",
      "Successful for mouse KS051\n",
      "Successful for mouse KS055\n",
      "Successful for mouse KS084\n",
      "Successful for mouse KS086\n",
      "Successful for mouse KS091\n",
      "Successful for mouse KS096\n",
      "Successful for mouse DY_008\n",
      "Successful for mouse DY_009\n",
      "Successful for mouse DY_010\n",
      "Successful for mouse DY_013\n",
      "Successful for mouse DY_014\n",
      "Successful for mouse DY_016\n",
      "Successful for mouse DY_018\n",
      "Successful for mouse PL015\n",
      "Successful for mouse PL016\n",
      "Successful for mouse PL017\n",
      "Successful for mouse SWC_043\n",
      "Successful for mouse SWC_061\n",
      "Successful for mouse SWC_066\n",
      "Successful for mouse ZFM-01592\n",
      "Successful for mouse ZFM-01935\n",
      "Successful for mouse ZFM-01936\n",
      "Successful for mouse ZFM-01937\n",
      "Successful for mouse ZFM-02369\n",
      "Successful for mouse ZFM-02370\n",
      "Successful for mouse ZFM-02372\n",
      "Successful for mouse ZFM-02373\n",
      "Successful for mouse ZM_1898\n",
      "Successful for mouse ZM_2240Successful for mouse ZM_2241\n",
      "\n",
      "Successful for mouse ZM_2245\n",
      "Successful for mouse ZM_3003\n",
      "Successful for mouse SWC_038\n",
      "Successful for mouse SWC_052\n",
      "Successful for mouse SWC_053\n",
      "Successful for mouse SWC_054\n",
      "Successful for mouse SWC_058\n",
      "Successful for mouse SWC_065\n",
      "Successful for mouse NR_0019\n",
      "Successful for mouse NR_0020\n",
      "Successful for mouse NR_0027\n",
      "Successful for mouse ibl_witten_25\n",
      "Successful for mouse ibl_witten_26\n",
      "Successful for mouse ibl_witten_29\n"
     ]
    }
   ],
   "source": [
    "# Loop through animals\n",
    "function_name = download_trial_data_paralell\n",
    "data_path =  '/Users/ineslaranjeira/Documents/Repositories/representation_learning_variability/DATA/Trial_data/'\n",
    "os.chdir(data_path)\n",
    "parallel_process_data(mouse_names, function_name)"
   ]
  },
  {
   "cell_type": "code",
   "execution_count": null,
   "metadata": {},
   "outputs": [],
   "source": []
  }
 ],
 "metadata": {
  "kernelspec": {
   "display_name": "iblenv",
   "language": "python",
   "name": "python3"
  },
  "language_info": {
   "codemirror_mode": {
    "name": "ipython",
    "version": 3
   },
   "file_extension": ".py",
   "mimetype": "text/x-python",
   "name": "python",
   "nbconvert_exporter": "python",
   "pygments_lexer": "ipython3",
   "version": "3.10.12"
  },
  "orig_nbformat": 4,
  "vscode": {
   "interpreter": {
    "hash": "21541729b5da47a594818561e91cb4175a7e192d68b7cc4221509f43b2f902b5"
   }
  }
 },
 "nbformat": 4,
 "nbformat_minor": 2
}
