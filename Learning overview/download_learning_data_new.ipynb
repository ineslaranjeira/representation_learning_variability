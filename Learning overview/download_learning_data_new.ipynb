{
 "cells": [
  {
   "attachments": {},
   "cell_type": "markdown",
   "metadata": {},
   "source": [
    "# Download learning data\n",
    "Jan2023 \\\n",
    "author: Inês Laranjeira"
   ]
  },
  {
   "cell_type": "code",
   "execution_count": 1,
   "metadata": {},
   "outputs": [
    {
     "name": "stderr",
     "output_type": "stream",
     "text": [
      "/home/ines/miniconda3/envs/iblenv/lib/python3.9/site-packages/one/api.py:1465: UserWarning: Newer cache tables require ONE version 2.7 or greater\n",
      "  warnings.warn(f'Newer cache tables require ONE version {min_version} or greater')\n"
     ]
    }
   ],
   "source": [
    "\"\"\"\n",
    "IMPORTS\n",
    "\"\"\"\n",
    "import pandas as pd \n",
    "import numpy as np\n",
    "import seaborn as sns\n",
    "import matplotlib.pyplot as plt\n",
    "import pickle\n",
    "import os\n",
    "from collections import defaultdict\n",
    "from datetime import datetime\n",
    "\n",
    "from brainbox.task.trials import find_trial_ids\n",
    "from brainbox.behavior.training import get_sessions, get_training_status\n",
    "\n",
    "from one.api import ONE\n",
    "one = ONE(base_url='https://alyx.internationalbrainlab.org')\n",
    "\n",
    "# Get my functions\n",
    "functions_path =  '/home/ines/repositories/representation_learning_variability/Functions/'\n",
    "# functions_path = '/Users/ineslaranjeira/Documents/Repositories/representation_learning_variability/Functions/'\n",
    "os.chdir(functions_path)\n",
    "from one_functions_generic import query_subjects_interest, subjects_interest_data, prepro\n"
   ]
  },
  {
   "cell_type": "markdown",
   "metadata": {},
   "source": [
    "## Get mice names for which there are design matrices"
   ]
  },
  {
   "cell_type": "code",
   "execution_count": 2,
   "metadata": {},
   "outputs": [],
   "source": [
    "bin_size = 0.1\n",
    "\n",
    "data_path_v1 =  '/home/ines/repositories/representation_learning_variability/DATA/Sub-trial/Design matrix/' + 'v1/' + str(bin_size) + '/'\n",
    "data_path_v2 =  '/home/ines/repositories/representation_learning_variability/DATA/Sub-trial/Design matrix/' + 'v2_3Nov2023/' + str(bin_size) + '/'\n",
    "# data_path_v2 =  '/Users/ineslaranjeira/Documents/Repositories/representation_learning_variability/DATA/Sub-trial/Design matrix/' + 'v2_3Nov2023/' + str(bin_size) + '/'\n",
    "data_path = data_path_v2\n",
    "\n",
    "os.chdir(data_path)\n",
    "design_matrices = os.listdir(data_path)\n",
    "\n",
    "# Get mice which have design matrix\n",
    "idxs = []\n",
    "mouse_names = []\n",
    "for m, mat in enumerate(design_matrices):\n",
    "    \n",
    "    mouse_name = design_matrices[m][51:-4]\n",
    "    eid = design_matrices[m][14:50]\n",
    "    idx = str(eid + '_' + mouse_name)\n",
    "    if m == 0:\n",
    "        idxs = idx\n",
    "        mouse_names = mouse_name\n",
    "    else:\n",
    "        idxs = np.hstack((idxs, idx))\n",
    "        mouse_names = np.hstack((mouse_names, mouse_name))\n"
   ]
  },
  {
   "cell_type": "markdown",
   "metadata": {},
   "source": [
    "## Load data"
   ]
  },
  {
   "cell_type": "code",
   "execution_count": 3,
   "metadata": {},
   "outputs": [],
   "source": [
    "need_to_compute = True"
   ]
  },
  {
   "cell_type": "code",
   "execution_count": 4,
   "metadata": {},
   "outputs": [
    {
     "name": "stdout",
     "output_type": "stream",
     "text": [
      "\n",
      "Successful for mouse CSHL045\n",
      "Successful for mouse CSHL047\n",
      "Successful for mouse CSHL049\n",
      "Successful for mouse CSHL051\n",
      "Successful for mouse CSHL052\n",
      "Successful for mouse CSHL054\n",
      "Successful for mouse CSHL058\n",
      "Successful for mouse CSHL059\n",
      "Successful for mouse CSHL060\n",
      "Successful for mouse DY_008\n",
      "Successful for mouse DY_009\n",
      "Successful for mouse DY_010\n",
      "Successful for mouse DY_013\n",
      "Successful for mouse DY_014\n",
      "Successful for mouse DY_016\n",
      "Successful for mouse DY_018\n",
      "Successful for mouse KS014\n",
      "Successful for mouse KS022\n",
      "Successful for mouse KS023\n",
      "Successful for mouse KS044\n",
      "Successful for mouse KS051\n",
      "Successful for mouse KS084\n",
      "Successful for mouse KS086\n",
      "Successful for mouse KS091\n",
      "Successful for mouse KS096\n",
      "Successful for mouse NR_0019\n",
      "Successful for mouse NR_0020\n"
     ]
    },
    {
     "name": "stderr",
     "output_type": "stream",
     "text": [
      "/home/ines/Downloads/ONE/alyx.internationalbrainlab.org/aggregates/Subjects/steinmetzlab/NR_0020/_ibl_subjectTraining.table.52d6375d-7213-48b0-a2c6-fee4f9734c44.pqt: 100%|██████████| 3.25k/3.25k [00:00<00:00, 9.08kB/s]\n"
     ]
    },
    {
     "name": "stdout",
     "output_type": "stream",
     "text": [
      "Successful for mouse NR_0027\n"
     ]
    },
    {
     "name": "stderr",
     "output_type": "stream",
     "text": [
      "/home/ines/Downloads/ONE/alyx.internationalbrainlab.org/aggregates/Subjects/steinmetzlab/NR_0027/#2024-04-11#/_ibl_subjectTrials.table.9dd6ca49-4f08-42ce-a180-df8e5e65dcf5.pqt: 100%|██████████| 2.59M/2.59M [00:02<00:00, 952kB/s] \n",
      "/home/ines/Downloads/ONE/alyx.internationalbrainlab.org/aggregates/Subjects/steinmetzlab/NR_0027/_ibl_subjectTrials.table.a00e5cf6-9c42-44a1-bda6-b437da142911.pqt: 100%|██████████| 2.53M/2.53M [00:02<00:00, 1.23MB/s]\n",
      "/home/ines/Downloads/ONE/alyx.internationalbrainlab.org/aggregates/Subjects/steinmetzlab/NR_0027/_ibl_subjectTraining.table.847c052d-95c4-4590-add5-35f9f29f88aa.pqt: 100%|██████████| 3.20k/3.20k [00:00<00:00, 8.94kB/s]\n"
     ]
    },
    {
     "name": "stdout",
     "output_type": "stream",
     "text": [
      "Successful for mouse NYU-37\n"
     ]
    },
    {
     "name": "stderr",
     "output_type": "stream",
     "text": [
      "/home/ines/Downloads/ONE/alyx.internationalbrainlab.org/aggregates/Subjects/angelakilab/NYU-37/_ibl_subjectTrials.table.7a4a22e8-cd05-4409-ad14-7060a3552015.pqt: 100%|██████████| 2.30M/2.30M [00:01<00:00, 1.23MB/s]\n"
     ]
    },
    {
     "name": "stdout",
     "output_type": "stream",
     "text": [
      "Successful for mouse NYU-39\n"
     ]
    },
    {
     "name": "stderr",
     "output_type": "stream",
     "text": [
      "/home/ines/Downloads/ONE/alyx.internationalbrainlab.org/aggregates/Subjects/angelakilab/NYU-39/_ibl_subjectTrials.table.55587d91-ba90-408c-b1b5-5edfe6bc2b37.pqt: 100%|██████████| 2.66M/2.66M [00:01<00:00, 1.85MB/s]\n",
      "/home/ines/Downloads/ONE/alyx.internationalbrainlab.org/aggregates/Subjects/angelakilab/NYU-39/#2024-04-11#/_ibl_subjectTrials.table.b456a03e-5853-407b-9f9c-e86e3891d373.pqt: 100%|██████████| 2.86M/2.86M [00:00<00:00, 2.98MB/s]\n"
     ]
    },
    {
     "name": "stdout",
     "output_type": "stream",
     "text": [
      "Successful for mouse NYU-40\n",
      "Successful for mouse NYU-45\n"
     ]
    },
    {
     "name": "stderr",
     "output_type": "stream",
     "text": [
      "/home/ines/Downloads/ONE/alyx.internationalbrainlab.org/aggregates/Subjects/angelakilab/NYU-45/_ibl_subjectTrials.table.54fe9cf4-4c67-4b6d-8c92-afa2dbba2b48.pqt: 100%|██████████| 3.51M/3.51M [00:01<00:00, 1.85MB/s]\n"
     ]
    },
    {
     "name": "stdout",
     "output_type": "stream",
     "text": [
      "Successful for mouse PL015\n"
     ]
    },
    {
     "name": "stderr",
     "output_type": "stream",
     "text": [
      "/home/ines/Downloads/ONE/alyx.internationalbrainlab.org/aggregates/Subjects/hausserlab/PL015/_ibl_subjectTrials.table.2f22a943-76e8-4667-b6bb-eab926cfe29d.pqt: 100%|██████████| 11.6M/11.6M [00:09<00:00, 1.27MB/s]\n",
      "/home/ines/Downloads/ONE/alyx.internationalbrainlab.org/aggregates/Subjects/hausserlab/PL015/#2024-04-11#/_ibl_subjectTrials.table.c769f33e-9494-4cd0-b2e6-ec17b1a12014.pqt: 100%|██████████| 11.6M/11.6M [00:11<00:00, 1.03MB/s]\n",
      "/home/ines/Downloads/ONE/alyx.internationalbrainlab.org/aggregates/Subjects/hausserlab/PL015/_ibl_subjectTraining.table.6cdd829d-ba9c-41f2-817f-6bc04552e4ab.pqt: 100%|██████████| 3.20k/3.20k [00:00<00:00, 9.61kB/s]\n"
     ]
    },
    {
     "name": "stdout",
     "output_type": "stream",
     "text": [
      "Successful for mouse PL016\n"
     ]
    },
    {
     "name": "stderr",
     "output_type": "stream",
     "text": [
      "/home/ines/Downloads/ONE/alyx.internationalbrainlab.org/aggregates/Subjects/hausserlab/PL016/_ibl_subjectTraining.table.6af70595-f0d3-4273-8fb8-89824d11cb47.pqt: 100%|██████████| 3.20k/3.20k [00:00<00:00, 8.65kB/s]\n"
     ]
    },
    {
     "name": "stdout",
     "output_type": "stream",
     "text": [
      "Successful for mouse PL017\n"
     ]
    },
    {
     "name": "stderr",
     "output_type": "stream",
     "text": [
      "/home/ines/Downloads/ONE/alyx.internationalbrainlab.org/aggregates/Subjects/hausserlab/PL017/_ibl_subjectTrials.table.6e9f2e01-22fc-4867-8b08-51e965114440.pqt: 100%|██████████| 4.83M/4.83M [00:06<00:00, 690kB/s]\n",
      "/home/ines/Downloads/ONE/alyx.internationalbrainlab.org/aggregates/Subjects/hausserlab/PL017/_ibl_subjectTraining.table.48c74cda-1aa5-481a-a6e0-f8aadf93a543.pqt: 100%|██████████| 3.25k/3.25k [00:00<00:00, 10.0kB/s]\n"
     ]
    },
    {
     "name": "stdout",
     "output_type": "stream",
     "text": [
      "Successful for mouse SWC_043\n"
     ]
    },
    {
     "name": "stderr",
     "output_type": "stream",
     "text": [
      "/home/ines/Downloads/ONE/alyx.internationalbrainlab.org/aggregates/Subjects/hoferlab/SWC_043/#2024-04-16#/_ibl_subjectTrials.table.e13f394d-d052-4eff-bb7a-47e7f2dba5e6.pqt: 100%|██████████| 4.87M/4.87M [00:13<00:00, 358kB/s]\n"
     ]
    },
    {
     "name": "stdout",
     "output_type": "stream",
     "text": [
      "Successful for mouse SWC_052\n"
     ]
    },
    {
     "name": "stderr",
     "output_type": "stream",
     "text": [
      "/home/ines/Downloads/ONE/alyx.internationalbrainlab.org/aggregates/Subjects/mrsicflogellab/SWC_052/#2024-04-16#/_ibl_subjectTrials.table.037dccb2-1da4-430e-8226-4e866735120c.pqt: 100%|██████████| 4.18M/4.18M [00:04<00:00, 867kB/s] \n",
      "/home/ines/Downloads/ONE/alyx.internationalbrainlab.org/aggregates/Subjects/mrsicflogellab/SWC_052/_ibl_subjectTrials.table.5e8bc752-6891-478b-ae75-040cb8dea55b.pqt: 100%|██████████| 4.11M/4.11M [00:04<00:00, 993kB/s] \n"
     ]
    },
    {
     "name": "stdout",
     "output_type": "stream",
     "text": [
      "Successful for mouse SWC_053\n"
     ]
    },
    {
     "name": "stderr",
     "output_type": "stream",
     "text": [
      "/home/ines/Downloads/ONE/alyx.internationalbrainlab.org/aggregates/Subjects/mrsicflogellab/SWC_053/#2024-04-16#/_ibl_subjectTrials.table.e3e146ed-e6af-451f-a4e3-a9f3f4826117.pqt: 100%|██████████| 5.11M/5.11M [00:12<00:00, 396kB/s]\n"
     ]
    },
    {
     "name": "stdout",
     "output_type": "stream",
     "text": [
      "Successful for mouse SWC_054\n"
     ]
    },
    {
     "name": "stderr",
     "output_type": "stream",
     "text": [
      "/home/ines/Downloads/ONE/alyx.internationalbrainlab.org/aggregates/Subjects/mrsicflogellab/SWC_054/#2024-04-16#/_ibl_subjectTrials.table.22552b58-3f6a-4d7b-96c7-d021dc60c261.pqt: 100%|██████████| 3.03M/3.03M [00:05<00:00, 555kB/s]\n",
      "/home/ines/Downloads/ONE/alyx.internationalbrainlab.org/aggregates/Subjects/mrsicflogellab/SWC_054/_ibl_subjectTrials.table.4d8163e9-6f87-4d51-80b1-d4ddce0b48c7.pqt: 100%|██████████| 2.85M/2.85M [00:04<00:00, 571kB/s]\n"
     ]
    },
    {
     "name": "stdout",
     "output_type": "stream",
     "text": [
      "Successful for mouse SWC_058\n"
     ]
    },
    {
     "name": "stderr",
     "output_type": "stream",
     "text": [
      "/home/ines/Downloads/ONE/alyx.internationalbrainlab.org/aggregates/Subjects/mrsicflogellab/SWC_058/#2024-04-16#/_ibl_subjectTrials.table.1f79597a-50e6-4dd6-8fd8-c8cba88c5b83.pqt: 100%|██████████| 2.74M/2.74M [00:04<00:00, 611kB/s]\n",
      "/home/ines/Downloads/ONE/alyx.internationalbrainlab.org/aggregates/Subjects/mrsicflogellab/SWC_058/_ibl_subjectTrials.table.21db4fea-fb26-40c1-b07e-7ef88f9654d9.pqt: 100%|██████████| 2.67M/2.67M [00:05<00:00, 514kB/s]\n"
     ]
    },
    {
     "name": "stdout",
     "output_type": "stream",
     "text": [
      "Successful for mouse SWC_061\n"
     ]
    },
    {
     "name": "stderr",
     "output_type": "stream",
     "text": [
      "/home/ines/Downloads/ONE/alyx.internationalbrainlab.org/aggregates/Subjects/hoferlab/SWC_061/_ibl_subjectTrials.table.4b8c948e-8c7e-47ed-a0bb-d317245d87f1.pqt: 100%|██████████| 1.58M/1.58M [00:02<00:00, 562kB/s]\n",
      "/home/ines/Downloads/ONE/alyx.internationalbrainlab.org/aggregates/Subjects/hoferlab/SWC_061/#2024-04-10#/_ibl_subjectTrials.table.5fcb2f0f-2a38-4b6c-85cc-4f5d90b47b25.pqt: 100%|██████████| 1.80M/1.80M [00:04<00:00, 365kB/s]\n"
     ]
    },
    {
     "name": "stdout",
     "output_type": "stream",
     "text": [
      "Successful for mouse SWC_065\n"
     ]
    },
    {
     "name": "stderr",
     "output_type": "stream",
     "text": [
      "/home/ines/Downloads/ONE/alyx.internationalbrainlab.org/aggregates/Subjects/mrsicflogellab/SWC_065/_ibl_subjectTrials.table.af901d28-93ff-460c-9592-4e3c9efe3643.pqt: 100%|██████████| 2.56M/2.56M [00:07<00:00, 332kB/s]\n",
      "/home/ines/Downloads/ONE/alyx.internationalbrainlab.org/aggregates/Subjects/mrsicflogellab/SWC_065/#2024-04-16#/_ibl_subjectTrials.table.fcdc2d19-6fd6-49be-a096-50a3b6c0ebea.pqt: 100%|██████████| 2.63M/2.63M [00:05<00:00, 446kB/s]\n"
     ]
    },
    {
     "name": "stdout",
     "output_type": "stream",
     "text": [
      "Successful for mouse SWC_066\n",
      "Successful for mouse UCLA012\n"
     ]
    },
    {
     "name": "stderr",
     "output_type": "stream",
     "text": [
      "/home/ines/Downloads/ONE/alyx.internationalbrainlab.org/aggregates/Subjects/churchlandlab_ucla/UCLA012/#2024-04-16#/_ibl_subjectTrials.table.01fcb6e6-d354-41b8-907c-a2e2a610bb44.pqt: 100%|██████████| 3.58M/3.58M [00:01<00:00, 2.33MB/s]\n",
      "/home/ines/Downloads/ONE/alyx.internationalbrainlab.org/aggregates/Subjects/churchlandlab_ucla/UCLA012/_ibl_subjectTrials.table.2b14cf13-4a1a-42e8-b973-9bee59a1c67b.pqt: 100%|██████████| 3.57M/3.57M [00:01<00:00, 3.19MB/s]\n"
     ]
    },
    {
     "name": "stdout",
     "output_type": "stream",
     "text": [
      "Successful for mouse UCLA033\n"
     ]
    },
    {
     "name": "stderr",
     "output_type": "stream",
     "text": [
      "/home/ines/Downloads/ONE/alyx.internationalbrainlab.org/aggregates/Subjects/churchlandlab_ucla/UCLA033/_ibl_subjectTrials.table.63c4f605-43d9-4248-a9d5-03edaf843c58.pqt: 100%|██████████| 4.42M/4.42M [00:10<00:00, 414kB/s]\n"
     ]
    },
    {
     "name": "stdout",
     "output_type": "stream",
     "text": [
      "Successful for mouse UCLA034\n"
     ]
    },
    {
     "name": "stderr",
     "output_type": "stream",
     "text": [
      "/home/ines/Downloads/ONE/alyx.internationalbrainlab.org/aggregates/Subjects/churchlandlab_ucla/UCLA034/_ibl_subjectTrials.table.31abd382-f448-400e-8738-323c62e48e11.pqt: 100%|██████████| 2.19M/2.19M [00:01<00:00, 1.47MB/s]\n",
      "/home/ines/Downloads/ONE/alyx.internationalbrainlab.org/aggregates/Subjects/churchlandlab_ucla/UCLA034/_ibl_subjectTraining.table.96b8f920-f802-4c4f-850c-e3891670453e.pqt: 100%|██████████| 3.26k/3.26k [00:00<00:00, 9.43kB/s]\n"
     ]
    },
    {
     "name": "stdout",
     "output_type": "stream",
     "text": [
      "Successful for mouse UCLA035\n"
     ]
    },
    {
     "name": "stderr",
     "output_type": "stream",
     "text": [
      "/home/ines/Downloads/ONE/alyx.internationalbrainlab.org/aggregates/Subjects/churchlandlab_ucla/UCLA035/_ibl_subjectTrials.table.ac02ad63-8b0f-4f5d-aca6-0844392d07bb.pqt: 100%|██████████| 3.22M/3.22M [00:02<00:00, 1.50MB/s]\n"
     ]
    },
    {
     "name": "stdout",
     "output_type": "stream",
     "text": [
      "Successful for mouse UCLA037\n"
     ]
    },
    {
     "name": "stderr",
     "output_type": "stream",
     "text": [
      "/home/ines/Downloads/ONE/alyx.internationalbrainlab.org/aggregates/Subjects/churchlandlab_ucla/UCLA037/_ibl_subjectTrials.table.68cd67fd-7a24-4e2e-9db1-ee9a6f1ed75e.pqt: 100%|██████████| 2.46M/2.46M [00:03<00:00, 726kB/s]\n",
      "/home/ines/Downloads/ONE/alyx.internationalbrainlab.org/aggregates/Subjects/churchlandlab_ucla/UCLA037/_ibl_subjectTraining.table.a0984451-42b2-49fa-a736-8b4d060cea11.pqt: 100%|██████████| 3.25k/3.25k [00:00<00:00, 9.74kB/s]\n"
     ]
    },
    {
     "name": "stdout",
     "output_type": "stream",
     "text": [
      "Successful for mouse ZFM-01592\n",
      "Successful for mouse ZFM-01935\n"
     ]
    },
    {
     "name": "stderr",
     "output_type": "stream",
     "text": [
      "/home/ines/Downloads/ONE/alyx.internationalbrainlab.org/aggregates/Subjects/mainenlab/ZFM-01935/_ibl_subjectTrials.table.34c67da3-7326-4515-bf3a-6bbb5e0d6f98.pqt: 100%|██████████| 2.66M/2.66M [00:01<00:00, 1.51MB/s]\n"
     ]
    },
    {
     "name": "stdout",
     "output_type": "stream",
     "text": [
      "Successful for mouse ZFM-01936\n"
     ]
    },
    {
     "name": "stderr",
     "output_type": "stream",
     "text": [
      "/home/ines/Downloads/ONE/alyx.internationalbrainlab.org/aggregates/Subjects/mainenlab/ZFM-01936/_ibl_subjectTrials.table.f1d15bab-042b-4c71-bd98-2f87ff1471ee.pqt: 100%|██████████| 1.98M/1.98M [00:05<00:00, 362kB/s]\n"
     ]
    },
    {
     "name": "stdout",
     "output_type": "stream",
     "text": [
      "Successful for mouse ZFM-02369\n"
     ]
    },
    {
     "name": "stderr",
     "output_type": "stream",
     "text": [
      "/home/ines/Downloads/ONE/alyx.internationalbrainlab.org/aggregates/Subjects/mainenlab/ZFM-02369/#2024-04-10#/_ibl_subjectTrials.table.16359c5f-87c6-4083-965d-c87544b26037.pqt: 100%|██████████| 3.04M/3.04M [00:04<00:00, 740kB/s]\n"
     ]
    },
    {
     "name": "stdout",
     "output_type": "stream",
     "text": [
      "Successful for mouse ZFM-02370\n"
     ]
    },
    {
     "name": "stderr",
     "output_type": "stream",
     "text": [
      "/home/ines/Downloads/ONE/alyx.internationalbrainlab.org/aggregates/Subjects/mainenlab/ZFM-02370/_ibl_subjectTrials.table.4e77c6e4-ea3c-42f9-8a85-b6bdb902d7e9.pqt: 100%|██████████| 2.37M/2.37M [00:02<00:00, 1.17MB/s]\n"
     ]
    },
    {
     "name": "stdout",
     "output_type": "stream",
     "text": [
      "Successful for mouse ZFM-02372\n"
     ]
    },
    {
     "name": "stderr",
     "output_type": "stream",
     "text": [
      "/home/ines/Downloads/ONE/alyx.internationalbrainlab.org/aggregates/Subjects/mainenlab/ZFM-02372/_ibl_subjectTrials.table.a94312fd-a09a-42bf-9493-4d65db379b86.pqt: 100%|██████████| 3.65M/3.65M [00:01<00:00, 2.15MB/s]\n"
     ]
    },
    {
     "name": "stdout",
     "output_type": "stream",
     "text": [
      "Successful for mouse ZFM-02373\n"
     ]
    },
    {
     "name": "stderr",
     "output_type": "stream",
     "text": [
      "/home/ines/Downloads/ONE/alyx.internationalbrainlab.org/aggregates/Subjects/mainenlab/ZFM-02373/_ibl_subjectTrials.table.338a5522-36b6-48d6-b41e-bf3791638843.pqt: 100%|██████████| 3.86M/3.86M [00:06<00:00, 624kB/s]\n"
     ]
    },
    {
     "name": "stdout",
     "output_type": "stream",
     "text": [
      "Successful for mouse ZM_1898\n"
     ]
    },
    {
     "name": "stderr",
     "output_type": "stream",
     "text": [
      "/home/ines/Downloads/ONE/alyx.internationalbrainlab.org/aggregates/Subjects/mainenlab/ZM_1898/_ibl_subjectTrials.table.ebe7390c-aa47-4639-b508-4e42d83d4c44.pqt: 100%|██████████| 4.39M/4.39M [00:06<00:00, 655kB/s] \n"
     ]
    },
    {
     "name": "stdout",
     "output_type": "stream",
     "text": [
      "Successful for mouse ZM_2240\n"
     ]
    },
    {
     "name": "stderr",
     "output_type": "stream",
     "text": [
      "/home/ines/Downloads/ONE/alyx.internationalbrainlab.org/aggregates/Subjects/mainenlab/ZM_2240/_ibl_subjectTrials.table.2eb628fd-a5be-432f-b0bb-008de096b175.pqt: 100%|██████████| 2.50M/2.50M [00:02<00:00, 1.20MB/s]\n"
     ]
    },
    {
     "name": "stdout",
     "output_type": "stream",
     "text": [
      "Successful for mouse ZM_2241\n",
      "Successful for mouse ZM_2245\n",
      "Successful for mouse ZM_3003\n"
     ]
    },
    {
     "name": "stderr",
     "output_type": "stream",
     "text": [
      "/home/ines/Downloads/ONE/alyx.internationalbrainlab.org/aggregates/Subjects/mainenlab/ZM_3003/_ibl_subjectTrials.table.3cb005b0-7e59-48eb-8a77-246810a269a3.pqt: 100%|██████████| 2.38M/2.38M [00:01<00:00, 1.27MB/s]\n"
     ]
    },
    {
     "name": "stdout",
     "output_type": "stream",
     "text": [
      "Successful for mouse ibl_witten_25\n"
     ]
    },
    {
     "name": "stderr",
     "output_type": "stream",
     "text": [
      "/home/ines/Downloads/ONE/alyx.internationalbrainlab.org/aggregates/Subjects/wittenlab/ibl_witten_25/_ibl_subjectTrials.table.a5c185fe-82c1-4772-9a62-21889c01cf7e.pqt: 100%|██████████| 2.67M/2.67M [00:01<00:00, 1.41MB/s]\n",
      "/home/ines/Downloads/ONE/alyx.internationalbrainlab.org/aggregates/Subjects/wittenlab/ibl_witten_25/#2024-04-11#/_ibl_subjectTrials.table.d8799b62-47d6-4003-a0c7-0e25a4206b42.pqt: 100%|██████████| 2.72M/2.72M [00:00<00:00, 3.00MB/s]\n"
     ]
    },
    {
     "name": "stdout",
     "output_type": "stream",
     "text": [
      "Successful for mouse ibl_witten_26\n"
     ]
    },
    {
     "name": "stderr",
     "output_type": "stream",
     "text": [
      "/home/ines/Downloads/ONE/alyx.internationalbrainlab.org/aggregates/Subjects/wittenlab/ibl_witten_26/_ibl_subjectTrials.table.1d5b60f3-9304-4a0e-baad-a4d3967ca958.pqt: 100%|██████████| 5.75M/5.75M [00:04<00:00, 1.16MB/s]\n",
      "/home/ines/Downloads/ONE/alyx.internationalbrainlab.org/aggregates/Subjects/wittenlab/ibl_witten_26/#2024-04-11#/_ibl_subjectTrials.table.3b7fc404-d020-47e7-bf27-3806bb300e7d.pqt: 100%|██████████| 5.84M/5.84M [00:04<00:00, 1.41MB/s]\n"
     ]
    },
    {
     "name": "stdout",
     "output_type": "stream",
     "text": [
      "Successful for mouse ibl_witten_29\n"
     ]
    },
    {
     "name": "stderr",
     "output_type": "stream",
     "text": [
      "/home/ines/Downloads/ONE/alyx.internationalbrainlab.org/aggregates/Subjects/wittenlab/ibl_witten_29/_ibl_subjectTrials.table.cdd9a821-a6b7-48c9-8fe0-3ef87aa0b84f.pqt: 100%|██████████| 8.18M/8.18M [00:11<00:00, 696kB/s] \n"
     ]
    }
   ],
   "source": [
    "if need_to_compute:\n",
    "\n",
    "    # Save data of all sessions for latter\n",
    "    session_all = defaultdict(list)\n",
    "\n",
    "    for m, mouse_name in enumerate(np.unique(mouse_names)):\n",
    "        if len(mouse_name) > 0: \n",
    "            print('Successful for mouse ' + mouse_name)\n",
    "            # Trials data\n",
    "            mouse_data = prepro(subjects_interest_data(one, [mouse_name], 'learning', 'training'))\n",
    "            # Save results per mouse\n",
    "            session_all[mouse_name] = mouse_data\n",
    "        else:\n",
    "            print(mouse_name)\n",
    "\n",
    "    # Get current date\n",
    "    current_date = datetime.now()\n",
    "    # Convert current date to string format\n",
    "    date_string = current_date.strftime('%Y-%m-%d')  # Format: YYYY-MM-DD\n",
    "\n",
    "    # Save data\n",
    "    pickle.dump(session_all, open(str('training_'+date_string), 'wb'))\n",
    "\n",
    "else:\n",
    "    data_path =  '/home/ines/repositories/representation_learning_variability/DATA/Sub-trial/Design matrix/'\n",
    "    data_path =  '/Users/ineslaranjeira/Documents/Repositories/representation_learning_variability/DATA/Sub-trial/Design matrix/'\n",
    "    os.chdir(data_path)\n",
    "    session_all = pickle.load(open('training_2024-04-26', 'rb'))\n"
   ]
  },
  {
   "cell_type": "code",
   "execution_count": 3,
   "metadata": {},
   "outputs": [
    {
     "name": "stderr",
     "output_type": "stream",
     "text": [
      "/home/ines/Downloads/ONE/alyx.internationalbrainlab.org/aggregates/Subjects/cortexlab/KS014/_ibl_subjectTrials.table.450249e6-04cd-4610-b748-200f0d592a11.pqt: 100%|██████████| 2.18M/2.18M [00:01<00:00, 1.40MB/s]\n",
      "/home/ines/Downloads/ONE/alyx.internationalbrainlab.org/aggregates/Subjects/cortexlab/KS014/_ibl_subjectTraining.table.eae64301-8164-490a-9f4d-2b9c4f33c1cc.pqt: 100%|██████████| 3.19k/3.19k [00:00<00:00, 9.46kB/s]\n"
     ]
    }
   ],
   "source": [
    "# Get subjects of interest\n",
    "subjects_of_interest = query_subjects_interest(protocol='training', ibl_project='ibl_neuropixel_brainwide_01')\n",
    "#data = subjects_interest_data(subjects_of_interest)\n",
    "data = subjects_interest_data(['KS014'])\n"
   ]
  },
  {
   "cell_type": "code",
   "execution_count": null,
   "metadata": {},
   "outputs": [],
   "source": []
  }
 ],
 "metadata": {
  "kernelspec": {
   "display_name": "iblenv",
   "language": "python",
   "name": "python3"
  },
  "language_info": {
   "codemirror_mode": {
    "name": "ipython",
    "version": 3
   },
   "file_extension": ".py",
   "mimetype": "text/x-python",
   "name": "python",
   "nbconvert_exporter": "python",
   "pygments_lexer": "ipython3",
   "version": "3.9.15"
  },
  "orig_nbformat": 4,
  "vscode": {
   "interpreter": {
    "hash": "21541729b5da47a594818561e91cb4175a7e192d68b7cc4221509f43b2f902b5"
   }
  }
 },
 "nbformat": 4,
 "nbformat_minor": 2
}
