{
 "cells": [
  {
   "cell_type": "markdown",
   "metadata": {},
   "source": [
    "# Download learning data\n",
    "Jan2023 \\\n",
    "author: Inês Laranjeira"
   ]
  },
  {
   "cell_type": "code",
   "execution_count": 1,
   "metadata": {},
   "outputs": [],
   "source": [
    "\"\"\"\n",
    "IMPORTS\n",
    "\"\"\"\n",
    "import pandas as pd \n",
    "import numpy as np\n",
    "import seaborn as sns\n",
    "import matplotlib.pyplot as plt\n",
    "import pickle\n",
    "import os\n",
    "\n",
    "from brainbox.task.trials import find_trial_ids\n",
    "from brainbox.behavior.training import get_sessions, get_training_status\n",
    "\n",
    "from one.api import ONE\n",
    "#one = ONE(base_url='https://openalyx.internationalbrainlab.org')  # public database\n",
    "#one = ONE(base_url='https://alyx.internationalbrainlab.org')  # public database\n",
    "one = ONE()\n",
    "\n",
    "# Get my functions\n",
    "functions_path = \"../Functions/\"\n",
    "os.chdir(functions_path)\n",
    "from one_functions_generic import query_subjects_interest, subjects_interest_data, filter_training_data, download_subjectTables"
   ]
  },
  {
   "cell_type": "code",
   "execution_count": 2,
   "metadata": {},
   "outputs": [],
   "source": [
    "# Get subjects of interest\n",
    "subjects_of_interest = query_subjects_interest(protocol='training', ibl_project='ibl_neuropixel_brainwide_01')\n",
    "#data = subjects_interest_data(subjects_of_interest)\n",
    "data = subjects_interest_data(['KS014'])\n"
   ]
  }
 ],
 "metadata": {
  "kernelspec": {
   "display_name": "iblenv",
   "language": "python",
   "name": "python3"
  },
  "language_info": {
   "codemirror_mode": {
    "name": "ipython",
    "version": 3
   },
   "file_extension": ".py",
   "mimetype": "text/x-python",
   "name": "python",
   "nbconvert_exporter": "python",
   "pygments_lexer": "ipython3",
   "version": "3.9.16"
  },
  "orig_nbformat": 4
 },
 "nbformat": 4,
 "nbformat_minor": 2
}
