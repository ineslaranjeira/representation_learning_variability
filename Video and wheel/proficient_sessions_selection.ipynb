{
 "cells": [
  {
   "attachments": {},
   "cell_type": "markdown",
   "metadata": {},
   "source": [
    "## Selection of Brainwide map sessions with good QC"
   ]
  },
  {
   "cell_type": "code",
   "execution_count": 2,
   "metadata": {},
   "outputs": [
    {
     "name": "stdout",
     "output_type": "stream",
     "text": [
      "Downloading: /Users/ineslaranjeira/Downloads/FlatIron/tmp2ugo60nf/cache.zip Bytes: 107643050\n"
     ]
    },
    {
     "name": "stderr",
     "output_type": "stream",
     "text": [
      "100%|██████████| 102.65641212463379/102.65641212463379 [00:19<00:00,  5.21it/s]\n"
     ]
    }
   ],
   "source": [
    "\"\"\"\n",
    "Check sessions available with dlc data\n",
    "@author: Ines\n",
    "\"\"\"\n",
    "import pandas as pd\n",
    "import pickle \n",
    "import csv\n",
    "import seaborn as sns\n",
    "import matplotlib.pyplot as plt\n",
    "import os\n",
    "import numpy as np\n",
    "from one.api import ONE\n",
    "from uuid import UUID\n",
    "\n",
    "# Get my functions\n",
    "functions_path =  '/home/ines/repositories/representation_learning_variability/Functions/'\n",
    "functions_path = '/Users/ineslaranjeira/Documents/Repositories/representation_learning_variability/Functions/'\n",
    "\n",
    "os.chdir(functions_path)\n",
    "from one_functions_generic import query_subjects_interest, subjects_interest_data, prepro\n"
   ]
  },
  {
   "attachments": {},
   "cell_type": "markdown",
   "metadata": {},
   "source": [
    "### Get QC of all sessions"
   ]
  },
  {
   "cell_type": "code",
   "execution_count": 5,
   "metadata": {},
   "outputs": [],
   "source": [
    "data_path =  '/home/ines/repositories/representation_learning_variability/DATA/Brainwidemap/'\n",
    "data_path = '/Users/ineslaranjeira/Documents/Repositories/representation_learning_variability/DATA/Brainwidemap/'\n",
    "\n",
    "os.chdir(data_path)\n",
    "qc = pd.read_csv(\"Brainwidemap_QC - behavior_data.csv\")\n"
   ]
  },
  {
   "attachments": {},
   "cell_type": "markdown",
   "metadata": {},
   "source": [
    "### Select sessions that pass QC for left DLC and left video"
   ]
  },
  {
   "attachments": {},
   "cell_type": "markdown",
   "metadata": {},
   "source": [
    "Video and DLC are set to pass if all tests in the respective categories pass as well"
   ]
  },
  {
   "cell_type": "code",
   "execution_count": 6,
   "metadata": {},
   "outputs": [
    {
     "name": "stdout",
     "output_type": "stream",
     "text": [
      "25 sessions pass QC\n"
     ]
    }
   ],
   "source": [
    "pass_qc = qc.loc[(qc['leftVideo']=='PASS') & (qc['leftDLC']=='PASS'), 'Session ID']\n",
    "print(str(len(pass_qc)) + ' sessions pass QC')"
   ]
  },
  {
   "cell_type": "markdown",
   "metadata": {},
   "source": [
    "### Video that is both good on the left and right sides"
   ]
  },
  {
   "cell_type": "code",
   "execution_count": 7,
   "metadata": {},
   "outputs": [
    {
     "name": "stdout",
     "output_type": "stream",
     "text": [
      "6 sessions pass QC\n"
     ]
    }
   ],
   "source": [
    "pass_qc = qc.loc[(qc['leftVideo']=='PASS') & (qc['leftDLC']=='PASS') &\n",
    "                 (qc['rightVideo']=='PASS') & (qc['rightDLC']=='PASS'), 'Session ID']\n",
    "print(str(len(pass_qc)) + ' sessions pass QC')"
   ]
  },
  {
   "cell_type": "code",
   "execution_count": 8,
   "metadata": {},
   "outputs": [
    {
     "data": {
      "text/plain": [
       "166    251ece37-7798-477c-8a06-2845d4aa270c\n",
       "179    9a6e127b-bb07-4be2-92e2-53dd858c2762\n",
       "185    8b1f4024-3d96-4ee7-95f9-8a1dfd4ce4ef\n",
       "187    f27e6cd6-cdd3-4524-b8e3-8146046e2a7d\n",
       "311    0cc486c3-8c7b-494d-aa04-b70e2690bcba\n",
       "312    e9fc0a2d-c69d-44d1-9fa3-314782387cae\n",
       "Name: Session ID, dtype: object"
      ]
     },
     "execution_count": 8,
     "metadata": {},
     "output_type": "execute_result"
    }
   ],
   "source": [
    "pass_qc"
   ]
  },
  {
   "attachments": {},
   "cell_type": "markdown",
   "metadata": {},
   "source": [
    "Look into the extended QC of a passed session"
   ]
  },
  {
   "cell_type": "code",
   "execution_count": 24,
   "metadata": {},
   "outputs": [
    {
     "data": {
      "text/plain": [
       "{'task': 'WARNING',\n",
       " 'dlcBody': 'PASS',\n",
       " 'dlcLeft': 'PASS',\n",
       " 'behavior': 1,\n",
       " 'dlcRight': 'FAIL',\n",
       " 'videoBody': 'WARNING',\n",
       " 'videoLeft': 'PASS',\n",
       " 'videoRight': 'PASS',\n",
       " '_task_iti_delays': 0.1706896551724138,\n",
       " '_videoBody_focus': True,\n",
       " '_videoLeft_focus': True,\n",
       " '_videoRight_focus': True,\n",
       " '_task_goCue_delays': 0.9965576592082617,\n",
       " '_task_trial_length': 0.9965576592082617,\n",
       " '_task_stimOn_delays': 0.9931153184165232,\n",
       " '_videoBody_position': True,\n",
       " '_videoLeft_position': True,\n",
       " '_dlcBody_paw_far_nan': None,\n",
       " '_dlcLeft_paw_far_nan': True,\n",
       " '_task_n_trial_events': 0.9913941480206541,\n",
       " '_task_reward_volumes': 1.0,\n",
       " '_task_stimOff_delays': 0.9931153184165232,\n",
       " '_videoBody_framerate': [True, 30.063],\n",
       " '_videoBody_pin_state': [True, 0, 0],\n",
       " '_videoLeft_framerate': [True, 60.006],\n",
       " '_videoLeft_pin_state': [True, 0, 0],\n",
       " '_videoRight_position': True,\n",
       " '_dlcBody_mean_in_bbox': True,\n",
       " '_dlcLeft_mean_in_bbox': True,\n",
       " '_dlcRight_paw_far_nan': False,\n",
       " '_task_audio_pre_trial': 1.0,\n",
       " '_task_errorCue_delays': 1.0,\n",
       " '_task_wheel_integrity': 1.0,\n",
       " '_videoBody_brightness': True,\n",
       " '_videoBody_resolution': True,\n",
       " '_videoBody_timestamps': True,\n",
       " '_videoLeft_brightness': True,\n",
       " '_videoLeft_resolution': True,\n",
       " '_videoLeft_timestamps': True,\n",
       " '_videoRight_framerate': [True, 150.015],\n",
       " '_videoRight_pin_state': [True, 0, 0],\n",
       " '_dlcBody_paw_close_nan': None,\n",
       " '_dlcBody_pupil_blocked': None,\n",
       " '_dlcBody_trace_all_nan': True,\n",
       " '_dlcLeft_paw_close_nan': True,\n",
       " '_dlcLeft_pupil_blocked': True,\n",
       " '_dlcLeft_trace_all_nan': True,\n",
       " '_dlcRight_mean_in_bbox': True,\n",
       " '_videoRight_brightness': True,\n",
       " '_videoRight_resolution': True,\n",
       " '_videoRight_timestamps': True,\n",
       " '_dlcBody_lick_detection': None,\n",
       " '_dlcLeft_lick_detection': True,\n",
       " '_dlcRight_paw_close_nan': True,\n",
       " '_dlcRight_pupil_blocked': True,\n",
       " '_dlcRight_trace_all_nan': True,\n",
       " '_task_reward_volume_set': 1.0,\n",
       " '_task_stimFreeze_delays': 0.9759036144578314,\n",
       " '_videoBody_camera_times': [True, 0],\n",
       " '_videoBody_file_headers': True,\n",
       " '_videoLeft_camera_times': [True, 0],\n",
       " '_videoLeft_file_headers': True,\n",
       " '_dlcRight_lick_detection': True,\n",
       " '_videoRight_camera_times': [True, 0],\n",
       " '_videoRight_file_headers': True,\n",
       " '_task_passed_trial_checks': 0.16351118760757316,\n",
       " '_task_stimOn_goCue_delays': 0.9931153184165232,\n",
       " '_videoBody_dropped_frames': [True, 0, 0],\n",
       " '_videoLeft_dropped_frames': [True, 0, 0],\n",
       " '_task_detected_wheel_moves': 0.9896373056994818,\n",
       " '_task_stimOff_itiIn_delays': 0.9948186528497409,\n",
       " '_videoBody_wheel_alignment': None,\n",
       " '_videoLeft_wheel_alignment': [True, 1],\n",
       " '_videoRight_dropped_frames': [True, 23, 0],\n",
       " '_dlcBody_pupil_diameter_snr': None,\n",
       " '_dlcLeft_pupil_diameter_snr': [False, 5.298],\n",
       " '_videoRight_wheel_alignment': [True, 0],\n",
       " '_dlcRight_pupil_diameter_snr': [False, 4.004],\n",
       " '_task_response_feedback_delays': 0.9965576592082617,\n",
       " '_dlcBody_time_trace_length_match': True,\n",
       " '_dlcLeft_time_trace_length_match': True,\n",
       " '_task_error_trial_event_sequence': 0.9906542056074766,\n",
       " '_task_response_stimFreeze_delays': 0.9792746113989638,\n",
       " '_task_stimulus_move_before_goCue': 0.9965457685664939,\n",
       " '_task_wheel_move_before_feedback': 0.9965457685664939,\n",
       " '_dlcRight_time_trace_length_match': True,\n",
       " '_task_correct_trial_event_sequence': 0.9957805907172996,\n",
       " '_task_wheel_move_during_closed_loop': 0.9913644214162349,\n",
       " '_task_wheel_freeze_during_quiescence': 1.0,\n",
       " '_task_negative_feedback_stimOff_delays': 0.9719626168224299,\n",
       " '_task_positive_feedback_stimOff_delays': 0.9957805907172996,\n",
       " '_task_wheel_move_during_closed_loop_bpod': 1.0}"
      ]
     },
     "execution_count": 24,
     "metadata": {},
     "output_type": "execute_result"
    }
   ],
   "source": [
    "example_session = list(pass_qc)[4]\n",
    "one = ONE()\n",
    "extended_qc = one.get_details(example_session, True)['extended_qc']\n",
    "extended_qc\n"
   ]
  },
  {
   "cell_type": "code",
   "execution_count": 27,
   "metadata": {},
   "outputs": [],
   "source": [
    "save_path = '/home/ines/repositories/representation_learning_variability/Video/'\n",
    "os.chdir(save_path)\n",
    "pickle.dump(pass_qc, open(\"good_brainwide_sessions\", \"wb\"))"
   ]
  },
  {
   "cell_type": "code",
   "execution_count": null,
   "metadata": {},
   "outputs": [],
   "source": []
  }
 ],
 "metadata": {
  "kernelspec": {
   "display_name": "iblenv",
   "language": "python",
   "name": "python3"
  },
  "language_info": {
   "codemirror_mode": {
    "name": "ipython",
    "version": 3
   },
   "file_extension": ".py",
   "mimetype": "text/x-python",
   "name": "python",
   "nbconvert_exporter": "python",
   "pygments_lexer": "ipython3",
   "version": "3.10.12"
  },
  "orig_nbformat": 4,
  "vscode": {
   "interpreter": {
    "hash": "21541729b5da47a594818561e91cb4175a7e192d68b7cc4221509f43b2f902b5"
   }
  }
 },
 "nbformat": 4,
 "nbformat_minor": 2
}
