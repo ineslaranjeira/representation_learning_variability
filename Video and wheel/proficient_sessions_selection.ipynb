{
 "cells": [
  {
   "attachments": {},
   "cell_type": "markdown",
   "metadata": {},
   "source": [
    "## Selection of Brainwide map sessions with good QC"
   ]
  },
  {
   "cell_type": "code",
   "execution_count": 1,
   "metadata": {},
   "outputs": [],
   "source": [
    "\"\"\"\n",
    "Check sessions available with dlc data\n",
    "@author: Ines\n",
    "\"\"\"\n",
    "import pandas as pd\n",
    "import pickle \n",
    "import csv\n",
    "import seaborn as sns\n",
    "import matplotlib.pyplot as plt\n",
    "import os\n",
    "import numpy as np\n",
    "from one.api import ONE\n",
    "from uuid import UUID\n",
    "import json\n",
    "\n",
    "# Get my functions\n",
    "functions_path =  '/home/ines/repositories/representation_learning_variability/Functions/'\n",
    "# functions_path = '/Users/ineslaranjeira/Documents/Repositories/representation_learning_variability/Functions/'\n",
    "\n",
    "os.chdir(functions_path)\n",
    "from one_functions_generic import query_subjects_interest, subjects_interest_data, prepro\n",
    "\n",
    "one = ONE()"
   ]
  },
  {
   "cell_type": "code",
   "execution_count": 2,
   "metadata": {},
   "outputs": [],
   "source": [
    "\n",
    "def get_sess_metadata(input_sessions):\n",
    "    \n",
    "    \"\"\" Download session data \"\"\"\n",
    "    # Search sessions of interest\n",
    "    mouse_project='ibl_neuropixel_brainwide_01'# GETS DATA PER SESSION\n",
    "    sessions = one.search(project=mouse_project, details=True)\n",
    "    session_eids = sessions[0]\n",
    "    session_details = sessions[1]\n",
    "\n",
    "    # Initialize dataframe to collect all data\n",
    "    trials_df = pd.DataFrame(columns=['subject_nickname', 'session_date', 'task_protocol', 'session_uuid'], index=range(len(input_sessions)))\n",
    "    # Loop through sessions\n",
    "    for i, ses in enumerate(list(input_sessions)):\n",
    "        index = np.where(np.array(session_eids) == ses)[0][0]\n",
    "        # Save session details\n",
    "        trials_df['subject_nickname'][i] = session_details[index]['subject']\n",
    "        trials_df['session_date'][i] = session_details[index]['date']\n",
    "        trials_df['task_protocol'][i] = session_details[index]['task_protocol']\n",
    "        trials_df['session_uuid'][i] = ses\n",
    "        \n",
    "    return trials_df\n"
   ]
  },
  {
   "cell_type": "code",
   "execution_count": 5,
   "metadata": {},
   "outputs": [
    {
     "data": {
      "text/html": [
       "<div>\n",
       "<style scoped>\n",
       "    .dataframe tbody tr th:only-of-type {\n",
       "        vertical-align: middle;\n",
       "    }\n",
       "\n",
       "    .dataframe tbody tr th {\n",
       "        vertical-align: top;\n",
       "    }\n",
       "\n",
       "    .dataframe thead th {\n",
       "        text-align: right;\n",
       "    }\n",
       "</style>\n",
       "<table border=\"1\" class=\"dataframe\">\n",
       "  <thead>\n",
       "    <tr style=\"text-align: right;\">\n",
       "      <th></th>\n",
       "      <th>subject_nickname</th>\n",
       "      <th>session_date</th>\n",
       "      <th>task_protocol</th>\n",
       "      <th>session_uuid</th>\n",
       "    </tr>\n",
       "  </thead>\n",
       "  <tbody>\n",
       "    <tr>\n",
       "      <th>0</th>\n",
       "      <td>NYU-37</td>\n",
       "      <td>2021-01-25</td>\n",
       "      <td>_iblrig_tasks_ephysChoiceWorld6.4.2</td>\n",
       "      <td>7af49c00-63dd-4fed-b2e0-1b3bd945b20b</td>\n",
       "    </tr>\n",
       "    <tr>\n",
       "      <th>1</th>\n",
       "      <td>NYU-37</td>\n",
       "      <td>2021-01-26</td>\n",
       "      <td>_iblrig_tasks_ephysChoiceWorld6.4.2</td>\n",
       "      <td>f88d4dd4-ccd7-400e-9035-fa00be3bcfa8</td>\n",
       "    </tr>\n",
       "    <tr>\n",
       "      <th>2</th>\n",
       "      <td>NYU-37</td>\n",
       "      <td>2021-01-27</td>\n",
       "      <td>_iblrig_tasks_ephysChoiceWorld6.4.2</td>\n",
       "      <td>83d85891-bd75-4557-91b4-1cbb5f8bfc9d</td>\n",
       "    </tr>\n",
       "    <tr>\n",
       "      <th>3</th>\n",
       "      <td>NYU-37</td>\n",
       "      <td>2021-01-30</td>\n",
       "      <td>_iblrig_tasks_ephysChoiceWorld6.4.2</td>\n",
       "      <td>aec5d3cc-4bb2-4349-80a9-0395b76f04e2</td>\n",
       "    </tr>\n",
       "    <tr>\n",
       "      <th>4</th>\n",
       "      <td>NYU-39</td>\n",
       "      <td>2021-05-13</td>\n",
       "      <td>_iblrig_tasks_ephysChoiceWorld6.4.2</td>\n",
       "      <td>ee212778-3903-4f5b-ac4b-a72f22debf03</td>\n",
       "    </tr>\n",
       "    <tr>\n",
       "      <th>...</th>\n",
       "      <td>...</td>\n",
       "      <td>...</td>\n",
       "      <td>...</td>\n",
       "      <td>...</td>\n",
       "    </tr>\n",
       "    <tr>\n",
       "      <th>171</th>\n",
       "      <td>ibl_witten_29</td>\n",
       "      <td>2021-06-10</td>\n",
       "      <td>_iblrig_tasks_ephysChoiceWorld6.4.2</td>\n",
       "      <td>e9fc0a2d-c69d-44d1-9fa3-314782387cae</td>\n",
       "    </tr>\n",
       "    <tr>\n",
       "      <th>172</th>\n",
       "      <td>ibl_witten_29</td>\n",
       "      <td>2021-06-16</td>\n",
       "      <td>_iblrig_tasks_ephysChoiceWorld6.4.2</td>\n",
       "      <td>821f1883-27f3-411d-afd3-fb8241bbc39a</td>\n",
       "    </tr>\n",
       "    <tr>\n",
       "      <th>173</th>\n",
       "      <td>ibl_witten_29</td>\n",
       "      <td>2021-06-17</td>\n",
       "      <td>_iblrig_tasks_ephysChoiceWorld6.4.2</td>\n",
       "      <td>69a0e953-a643-4f0e-bb26-dc65af3ea7d7</td>\n",
       "    </tr>\n",
       "    <tr>\n",
       "      <th>174</th>\n",
       "      <td>ibl_witten_29</td>\n",
       "      <td>2021-06-18</td>\n",
       "      <td>_iblrig_tasks_ephysChoiceWorld6.4.2</td>\n",
       "      <td>86b6ba67-c1db-4333-add0-f8105ea6e363</td>\n",
       "    </tr>\n",
       "    <tr>\n",
       "      <th>175</th>\n",
       "      <td>ibl_witten_29</td>\n",
       "      <td>2021-06-19</td>\n",
       "      <td>_iblrig_tasks_ephysChoiceWorld6.4.2</td>\n",
       "      <td>58b1e920-cfc8-467e-b28b-7654a55d0977</td>\n",
       "    </tr>\n",
       "  </tbody>\n",
       "</table>\n",
       "<p>176 rows × 4 columns</p>\n",
       "</div>"
      ],
      "text/plain": [
       "    subject_nickname session_date                        task_protocol  \\\n",
       "0             NYU-37   2021-01-25  _iblrig_tasks_ephysChoiceWorld6.4.2   \n",
       "1             NYU-37   2021-01-26  _iblrig_tasks_ephysChoiceWorld6.4.2   \n",
       "2             NYU-37   2021-01-27  _iblrig_tasks_ephysChoiceWorld6.4.2   \n",
       "3             NYU-37   2021-01-30  _iblrig_tasks_ephysChoiceWorld6.4.2   \n",
       "4             NYU-39   2021-05-13  _iblrig_tasks_ephysChoiceWorld6.4.2   \n",
       "..               ...          ...                                  ...   \n",
       "171    ibl_witten_29   2021-06-10  _iblrig_tasks_ephysChoiceWorld6.4.2   \n",
       "172    ibl_witten_29   2021-06-16  _iblrig_tasks_ephysChoiceWorld6.4.2   \n",
       "173    ibl_witten_29   2021-06-17  _iblrig_tasks_ephysChoiceWorld6.4.2   \n",
       "174    ibl_witten_29   2021-06-18  _iblrig_tasks_ephysChoiceWorld6.4.2   \n",
       "175    ibl_witten_29   2021-06-19  _iblrig_tasks_ephysChoiceWorld6.4.2   \n",
       "\n",
       "                             session_uuid  \n",
       "0    7af49c00-63dd-4fed-b2e0-1b3bd945b20b  \n",
       "1    f88d4dd4-ccd7-400e-9035-fa00be3bcfa8  \n",
       "2    83d85891-bd75-4557-91b4-1cbb5f8bfc9d  \n",
       "3    aec5d3cc-4bb2-4349-80a9-0395b76f04e2  \n",
       "4    ee212778-3903-4f5b-ac4b-a72f22debf03  \n",
       "..                                    ...  \n",
       "171  e9fc0a2d-c69d-44d1-9fa3-314782387cae  \n",
       "172  821f1883-27f3-411d-afd3-fb8241bbc39a  \n",
       "173  69a0e953-a643-4f0e-bb26-dc65af3ea7d7  \n",
       "174  86b6ba67-c1db-4333-add0-f8105ea6e363  \n",
       "175  58b1e920-cfc8-467e-b28b-7654a55d0977  \n",
       "\n",
       "[176 rows x 4 columns]"
      ]
     },
     "execution_count": 5,
     "metadata": {},
     "output_type": "execute_result"
    }
   ],
   "source": [
    "sess_metadata = get_sess_metadata(pass_qc)\n",
    "sess_metadata"
   ]
  },
  {
   "attachments": {},
   "cell_type": "markdown",
   "metadata": {},
   "source": [
    "### Get QC of all sessions"
   ]
  },
  {
   "cell_type": "code",
   "execution_count": 3,
   "metadata": {},
   "outputs": [],
   "source": [
    "data_path =  '/home/ines/repositories/representation_learning_variability/DATA/Brainwidemap/'\n",
    "# data_path = '/Users/ineslaranjeira/Documents/Repositories/representation_learning_variability/DATA/Brainwidemap/'\n",
    "\n",
    "os.chdir(data_path)\n",
    "qc = pd.read_csv(\"Brainwidemap_QC - behavior_data.csv\")\n"
   ]
  },
  {
   "attachments": {},
   "cell_type": "markdown",
   "metadata": {},
   "source": [
    "### Select sessions that pass QC for left DLC and left video"
   ]
  },
  {
   "attachments": {},
   "cell_type": "markdown",
   "metadata": {},
   "source": [
    "Video and DLC are set to pass if all tests in the respective categories pass as well"
   ]
  },
  {
   "cell_type": "code",
   "execution_count": 36,
   "metadata": {},
   "outputs": [
    {
     "name": "stdout",
     "output_type": "stream",
     "text": [
      "25 sessions pass QC\n"
     ]
    }
   ],
   "source": [
    "pass_qc = qc.loc[(qc['leftVideo']=='PASS') & (qc['leftDLC']=='PASS'), 'Session ID']\n",
    "print(str(len(pass_qc)) + ' sessions pass QC')"
   ]
  },
  {
   "attachments": {},
   "cell_type": "markdown",
   "metadata": {},
   "source": [
    "Some sessions pass leftDLC but not leftVideo. Why would this be?"
   ]
  },
  {
   "cell_type": "code",
   "execution_count": 4,
   "metadata": {},
   "outputs": [
    {
     "name": "stdout",
     "output_type": "stream",
     "text": [
      "176 sessions pass QC\n"
     ]
    }
   ],
   "source": [
    "pass_qc = qc.loc[(qc['leftDLC']=='PASS'), 'Session ID']\n",
    "print(str(len(pass_qc)) + ' sessions pass QC')"
   ]
  },
  {
   "cell_type": "markdown",
   "metadata": {},
   "source": [
    "### Video that is both good on the left and right sides"
   ]
  },
  {
   "cell_type": "code",
   "execution_count": 7,
   "metadata": {},
   "outputs": [
    {
     "name": "stdout",
     "output_type": "stream",
     "text": [
      "6 sessions pass QC\n"
     ]
    }
   ],
   "source": [
    "pass_qc = qc.loc[(qc['leftVideo']=='PASS') & (qc['leftDLC']=='PASS') &\n",
    "                 (qc['rightVideo']=='PASS') & (qc['rightDLC']=='PASS'), 'Session ID']\n",
    "print(str(len(pass_qc)) + ' sessions pass QC')"
   ]
  },
  {
   "attachments": {},
   "cell_type": "markdown",
   "metadata": {},
   "source": [
    "Look into the extended QC of a passed session"
   ]
  },
  {
   "cell_type": "code",
   "execution_count": 24,
   "metadata": {},
   "outputs": [
    {
     "data": {
      "text/plain": [
       "{'task': 'WARNING',\n",
       " 'dlcBody': 'PASS',\n",
       " 'dlcLeft': 'PASS',\n",
       " 'behavior': 1,\n",
       " 'dlcRight': 'FAIL',\n",
       " 'videoBody': 'WARNING',\n",
       " 'videoLeft': 'PASS',\n",
       " 'videoRight': 'PASS',\n",
       " '_task_iti_delays': 0.1706896551724138,\n",
       " '_videoBody_focus': True,\n",
       " '_videoLeft_focus': True,\n",
       " '_videoRight_focus': True,\n",
       " '_task_goCue_delays': 0.9965576592082617,\n",
       " '_task_trial_length': 0.9965576592082617,\n",
       " '_task_stimOn_delays': 0.9931153184165232,\n",
       " '_videoBody_position': True,\n",
       " '_videoLeft_position': True,\n",
       " '_dlcBody_paw_far_nan': None,\n",
       " '_dlcLeft_paw_far_nan': True,\n",
       " '_task_n_trial_events': 0.9913941480206541,\n",
       " '_task_reward_volumes': 1.0,\n",
       " '_task_stimOff_delays': 0.9931153184165232,\n",
       " '_videoBody_framerate': [True, 30.063],\n",
       " '_videoBody_pin_state': [True, 0, 0],\n",
       " '_videoLeft_framerate': [True, 60.006],\n",
       " '_videoLeft_pin_state': [True, 0, 0],\n",
       " '_videoRight_position': True,\n",
       " '_dlcBody_mean_in_bbox': True,\n",
       " '_dlcLeft_mean_in_bbox': True,\n",
       " '_dlcRight_paw_far_nan': False,\n",
       " '_task_audio_pre_trial': 1.0,\n",
       " '_task_errorCue_delays': 1.0,\n",
       " '_task_wheel_integrity': 1.0,\n",
       " '_videoBody_brightness': True,\n",
       " '_videoBody_resolution': True,\n",
       " '_videoBody_timestamps': True,\n",
       " '_videoLeft_brightness': True,\n",
       " '_videoLeft_resolution': True,\n",
       " '_videoLeft_timestamps': True,\n",
       " '_videoRight_framerate': [True, 150.015],\n",
       " '_videoRight_pin_state': [True, 0, 0],\n",
       " '_dlcBody_paw_close_nan': None,\n",
       " '_dlcBody_pupil_blocked': None,\n",
       " '_dlcBody_trace_all_nan': True,\n",
       " '_dlcLeft_paw_close_nan': True,\n",
       " '_dlcLeft_pupil_blocked': True,\n",
       " '_dlcLeft_trace_all_nan': True,\n",
       " '_dlcRight_mean_in_bbox': True,\n",
       " '_videoRight_brightness': True,\n",
       " '_videoRight_resolution': True,\n",
       " '_videoRight_timestamps': True,\n",
       " '_dlcBody_lick_detection': None,\n",
       " '_dlcLeft_lick_detection': True,\n",
       " '_dlcRight_paw_close_nan': True,\n",
       " '_dlcRight_pupil_blocked': True,\n",
       " '_dlcRight_trace_all_nan': True,\n",
       " '_task_reward_volume_set': 1.0,\n",
       " '_task_stimFreeze_delays': 0.9759036144578314,\n",
       " '_videoBody_camera_times': [True, 0],\n",
       " '_videoBody_file_headers': True,\n",
       " '_videoLeft_camera_times': [True, 0],\n",
       " '_videoLeft_file_headers': True,\n",
       " '_dlcRight_lick_detection': True,\n",
       " '_videoRight_camera_times': [True, 0],\n",
       " '_videoRight_file_headers': True,\n",
       " '_task_passed_trial_checks': 0.16351118760757316,\n",
       " '_task_stimOn_goCue_delays': 0.9931153184165232,\n",
       " '_videoBody_dropped_frames': [True, 0, 0],\n",
       " '_videoLeft_dropped_frames': [True, 0, 0],\n",
       " '_task_detected_wheel_moves': 0.9896373056994818,\n",
       " '_task_stimOff_itiIn_delays': 0.9948186528497409,\n",
       " '_videoBody_wheel_alignment': None,\n",
       " '_videoLeft_wheel_alignment': [True, 1],\n",
       " '_videoRight_dropped_frames': [True, 23, 0],\n",
       " '_dlcBody_pupil_diameter_snr': None,\n",
       " '_dlcLeft_pupil_diameter_snr': [False, 5.298],\n",
       " '_videoRight_wheel_alignment': [True, 0],\n",
       " '_dlcRight_pupil_diameter_snr': [False, 4.004],\n",
       " '_task_response_feedback_delays': 0.9965576592082617,\n",
       " '_dlcBody_time_trace_length_match': True,\n",
       " '_dlcLeft_time_trace_length_match': True,\n",
       " '_task_error_trial_event_sequence': 0.9906542056074766,\n",
       " '_task_response_stimFreeze_delays': 0.9792746113989638,\n",
       " '_task_stimulus_move_before_goCue': 0.9965457685664939,\n",
       " '_task_wheel_move_before_feedback': 0.9965457685664939,\n",
       " '_dlcRight_time_trace_length_match': True,\n",
       " '_task_correct_trial_event_sequence': 0.9957805907172996,\n",
       " '_task_wheel_move_during_closed_loop': 0.9913644214162349,\n",
       " '_task_wheel_freeze_during_quiescence': 1.0,\n",
       " '_task_negative_feedback_stimOff_delays': 0.9719626168224299,\n",
       " '_task_positive_feedback_stimOff_delays': 0.9957805907172996,\n",
       " '_task_wheel_move_during_closed_loop_bpod': 1.0}"
      ]
     },
     "execution_count": 24,
     "metadata": {},
     "output_type": "execute_result"
    }
   ],
   "source": [
    "example_session = list(pass_qc)[4]\n",
    "one = ONE()\n",
    "extended_qc = one.get_details(example_session, True)['extended_qc']\n",
    "extended_qc\n"
   ]
  },
  {
   "cell_type": "code",
   "execution_count": 6,
   "metadata": {},
   "outputs": [],
   "source": [
    "save_path = '/home/ines/repositories/representation_learning_variability/Video and wheel/'\n",
    "os.chdir(save_path)\n",
    "pickle.dump(sess_metadata, open(\"good_dlc_bwm_sessions_metadata\", \"wb\"))"
   ]
  },
  {
   "cell_type": "code",
   "execution_count": null,
   "metadata": {},
   "outputs": [],
   "source": []
  }
 ],
 "metadata": {
  "kernelspec": {
   "display_name": "iblenv",
   "language": "python",
   "name": "python3"
  },
  "language_info": {
   "codemirror_mode": {
    "name": "ipython",
    "version": 3
   },
   "file_extension": ".py",
   "mimetype": "text/x-python",
   "name": "python",
   "nbconvert_exporter": "python",
   "pygments_lexer": "ipython3",
   "version": "3.9.15"
  },
  "orig_nbformat": 4,
  "vscode": {
   "interpreter": {
    "hash": "21541729b5da47a594818561e91cb4175a7e192d68b7cc4221509f43b2f902b5"
   }
  }
 },
 "nbformat": 4,
 "nbformat_minor": 2
}
