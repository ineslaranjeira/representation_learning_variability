{
 "cells": [
  {
   "cell_type": "markdown",
   "metadata": {},
   "source": [
    "# Save extended QC for bwm dataset"
   ]
  },
  {
   "cell_type": "code",
   "execution_count": 5,
   "metadata": {},
   "outputs": [],
   "source": [
    "prefix = '/home/ines/repositories/'\n",
    "# prefix = '/Users/ineslaranjeira/Documents/Repositories/'"
   ]
  },
  {
   "cell_type": "code",
   "execution_count": 3,
   "metadata": {},
   "outputs": [],
   "source": [
    "\"\"\"\n",
    "Check sessions available with dlc data\n",
    "@author: Ines\n",
    "\"\"\"\n",
    "import pandas as pd\n",
    "import pickle \n",
    "import os\n",
    "import numpy as np\n",
    "from one.api import ONE\n",
    "import matplotlib.pyplot as plt\n",
    "from brainbox.io.one import SessionLoader\n",
    "from dateutil import parser\n",
    "\n",
    "# Get my functions\n",
    "functions_path =  prefix + '/representation_learning_variability/Functions/'\n",
    "\n",
    "os.chdir(functions_path)\n",
    "from video_functions import get_lick_times, lick_psth\n",
    "# from data_processing import save_and_log\n",
    "\n",
    "one = ONE(mode='remote')\n"
   ]
  },
  {
   "cell_type": "markdown",
   "metadata": {},
   "source": [
    "# Lightning pose QC"
   ]
  },
  {
   "cell_type": "code",
   "execution_count": 7,
   "metadata": {},
   "outputs": [
    {
     "ename": "FileNotFoundError",
     "evalue": "[Errno 2] No such file or directory: '/home/ines/repositories/representation_learning_variability/Video and wheel/Video QC/extended_qc07-10-2025'",
     "output_type": "error",
     "traceback": [
      "\u001b[0;31m---------------------------------------------------------------------------\u001b[0m",
      "\u001b[0;31mFileNotFoundError\u001b[0m                         Traceback (most recent call last)",
      "Cell \u001b[0;32mIn[7], line 3\u001b[0m\n\u001b[1;32m      1\u001b[0m ext_qc_path \u001b[38;5;241m=\u001b[39m prefix \u001b[38;5;241m+\u001b[39m \u001b[38;5;124m'\u001b[39m\u001b[38;5;124mrepresentation_learning_variability/Video and wheel/Video QC/\u001b[39m\u001b[38;5;124m'\u001b[39m\n\u001b[1;32m      2\u001b[0m os\u001b[38;5;241m.\u001b[39mchdir(ext_qc_path)\n\u001b[0;32m----> 3\u001b[0m ext_qc \u001b[38;5;241m=\u001b[39m pickle\u001b[38;5;241m.\u001b[39mload(\u001b[38;5;28;43mopen\u001b[39;49m\u001b[43m(\u001b[49m\u001b[43mext_qc_path\u001b[49m\u001b[43m \u001b[49m\u001b[38;5;241;43m+\u001b[39;49m\u001b[43m \u001b[49m\u001b[38;5;124;43m\"\u001b[39;49m\u001b[38;5;124;43mextended_qc07-10-2025\u001b[39;49m\u001b[38;5;124;43m\"\u001b[39;49m\u001b[43m,\u001b[49m\u001b[43m \u001b[49m\u001b[38;5;124;43m\"\u001b[39;49m\u001b[38;5;124;43mrb\u001b[39;49m\u001b[38;5;124;43m\"\u001b[39;49m\u001b[43m)\u001b[49m)  \u001b[38;5;66;03m# This is the one from the paper code\u001b[39;00m\n\u001b[1;32m      4\u001b[0m use_qc \u001b[38;5;241m=\u001b[39m ext_qc\u001b[38;5;241m.\u001b[39mloc[ext_qc[\u001b[38;5;124m'\u001b[39m\u001b[38;5;124mtask\u001b[39m\u001b[38;5;124m'\u001b[39m]\u001b[38;5;241m.\u001b[39misin([\u001b[38;5;124m'\u001b[39m\u001b[38;5;124mPASS\u001b[39m\u001b[38;5;124m'\u001b[39m, \u001b[38;5;124m'\u001b[39m\u001b[38;5;124mWARNING\u001b[39m\u001b[38;5;124m'\u001b[39m])]\n",
      "File \u001b[0;32m~/miniconda3/envs/iblenv/lib/python3.9/site-packages/IPython/core/interactiveshell.py:284\u001b[0m, in \u001b[0;36m_modified_open\u001b[0;34m(file, *args, **kwargs)\u001b[0m\n\u001b[1;32m    277\u001b[0m \u001b[38;5;28;01mif\u001b[39;00m file \u001b[38;5;129;01min\u001b[39;00m {\u001b[38;5;241m0\u001b[39m, \u001b[38;5;241m1\u001b[39m, \u001b[38;5;241m2\u001b[39m}:\n\u001b[1;32m    278\u001b[0m     \u001b[38;5;28;01mraise\u001b[39;00m \u001b[38;5;167;01mValueError\u001b[39;00m(\n\u001b[1;32m    279\u001b[0m         \u001b[38;5;124mf\u001b[39m\u001b[38;5;124m\"\u001b[39m\u001b[38;5;124mIPython won\u001b[39m\u001b[38;5;124m'\u001b[39m\u001b[38;5;124mt let you open fd=\u001b[39m\u001b[38;5;132;01m{\u001b[39;00mfile\u001b[38;5;132;01m}\u001b[39;00m\u001b[38;5;124m by default \u001b[39m\u001b[38;5;124m\"\u001b[39m\n\u001b[1;32m    280\u001b[0m         \u001b[38;5;124m\"\u001b[39m\u001b[38;5;124mas it is likely to crash IPython. If you know what you are doing, \u001b[39m\u001b[38;5;124m\"\u001b[39m\n\u001b[1;32m    281\u001b[0m         \u001b[38;5;124m\"\u001b[39m\u001b[38;5;124myou can use builtins\u001b[39m\u001b[38;5;124m'\u001b[39m\u001b[38;5;124m open.\u001b[39m\u001b[38;5;124m\"\u001b[39m\n\u001b[1;32m    282\u001b[0m     )\n\u001b[0;32m--> 284\u001b[0m \u001b[38;5;28;01mreturn\u001b[39;00m \u001b[43mio_open\u001b[49m\u001b[43m(\u001b[49m\u001b[43mfile\u001b[49m\u001b[43m,\u001b[49m\u001b[43m \u001b[49m\u001b[38;5;241;43m*\u001b[39;49m\u001b[43margs\u001b[49m\u001b[43m,\u001b[49m\u001b[43m \u001b[49m\u001b[38;5;241;43m*\u001b[39;49m\u001b[38;5;241;43m*\u001b[39;49m\u001b[43mkwargs\u001b[49m\u001b[43m)\u001b[49m\n",
      "\u001b[0;31mFileNotFoundError\u001b[0m: [Errno 2] No such file or directory: '/home/ines/repositories/representation_learning_variability/Video and wheel/Video QC/extended_qc07-10-2025'"
     ]
    }
   ],
   "source": [
    "ext_qc_path = prefix + 'representation_learning_variability/Video and wheel/Video QC/'\n",
    "os.chdir(ext_qc_path)\n",
    "ext_qc = pickle.load(open(ext_qc_path + \"extended_qc07-10-2025\", \"rb\"))  # This is the one from the paper code\n",
    "use_qc = ext_qc.loc[ext_qc['task'].isin(['PASS', 'WARNING'])]\n"
   ]
  },
  {
   "cell_type": "code",
   "execution_count": 4,
   "metadata": {},
   "outputs": [
    {
     "name": "stdout",
     "output_type": "stream",
     "text": [
      "218\n"
     ]
    }
   ],
   "source": [
    "final_qc = use_qc.loc[(use_qc['_lightningPoseLeft_lick_detection'].isin(['PASS'])) &\n",
    "                             (use_qc['_lightningPoseLeft_time_trace_length_match'].isin(['PASS'])) &   \n",
    "                             (use_qc['_videoLeft_pin_state'].apply(lambda x: (isinstance(x, list) and True in x) or x == 'PASS')) &\n",
    "                             (use_qc['_lightningPoseLeft_trace_all_nan'].isin(['PASS'])) &\n",
    "                             (use_qc['_videoLeft_framerate'].apply(lambda x: (isinstance(x, list) and True in x) or x == 'PASS')) &   \n",
    "                             (use_qc['_videoLeft_camera_times'].apply(lambda x: (isinstance(x, list) and True in x) or x == 'PASS')) &   \n",
    "                             (use_qc['_videoLeft_dropped_frames'].apply(lambda x: (isinstance(x, list) and True in x) or x == 'PASS')) &  # can make more conservative by removing or  x == None\n",
    "                             (use_qc['_videoLeft_timestamps'].isin([True, 'PASS']))                   \n",
    "                            ]\n",
    "\n",
    "print(len(final_qc))"
   ]
  },
  {
   "cell_type": "code",
   "execution_count": null,
   "metadata": {},
   "outputs": [],
   "source": []
  },
  {
   "cell_type": "code",
   "execution_count": null,
   "metadata": {},
   "outputs": [],
   "source": []
  },
  {
   "cell_type": "code",
   "execution_count": 8,
   "metadata": {},
   "outputs": [
    {
     "name": "stderr",
     "output_type": "stream",
     "text": [
      "/tmp/ipykernel_27244/2377349551.py:4: DeprecationWarning: numpy.core.numeric is deprecated and has been renamed to numpy._core.numeric. The numpy._core namespace contains private NumPy internals and its use is discouraged, as NumPy internals can change without warning in any release. In practice, most real-world usage of numpy.core is to access functionality in the public NumPy API. If that is the case, use the public NumPy API. If not, you are using NumPy internals. If you would still like to access an internal attribute, use numpy._core.numeric._frombuffer.\n",
      "  bwm_query = pickle.load(open(filename, \"rb\"))\n"
     ]
    }
   ],
   "source": [
    "# Load preprocessed data\n",
    "results_path = prefix + 'representation_learning_variability/paper-individuality/'\n",
    "filename = str(results_path + '1_bwm_qc_07-10-2025')\n",
    "bwm_query = pickle.load(open(filename, \"rb\"))"
   ]
  },
  {
   "cell_type": "code",
   "execution_count": 13,
   "metadata": {},
   "outputs": [],
   "source": [
    "def get_XYs(one, eid, view, likelihood_thresh=0.9, lp=True):\n",
    "    try:\n",
    "        times = one.load_dataset(eid, '_ibl_%sCamera.times.npy' % view)\n",
    "        if lp:\n",
    "            cam = one.load_dataset(eid, '_ibl_%sCamera.lightningPose.pqt' % view)\n",
    "        else:\n",
    "            cam = one.load_dataset(eid, '_ibl_%sCamera.dlc.pqt' % view)\n",
    "    except KeyError:\n",
    "        print('not all data available')\n",
    "        return None, None\n",
    "\n",
    "    if lp:\n",
    "        keys = cam.keys()\n",
    "        sufixes = np.array(['_'.join(x.split('_')[-1:]) for x in keys])\n",
    "        Xs = keys[np.where(sufixes == 'x')]\n",
    "        points = np.array(['_'.join(x.split('_')[:-1]) for x in Xs])\n",
    "    else:\n",
    "        points = np.unique(['_'.join(x.split('_')[:-1]) for x in cam.keys()])\n",
    "\n",
    "    # Set values to nan if likelyhood is too low # for pqt: .to_numpy()\n",
    "    XYs = {}\n",
    "    for point in points:\n",
    "        x = np.ma.masked_where(cam[point + '_likelihood'] < likelihood_thresh, cam[point + '_x'])\n",
    "        x = x.filled(np.nan)\n",
    "        y = np.ma.masked_where(cam[point + '_likelihood'] < likelihood_thresh, cam[point + '_y'])\n",
    "        y = y.filled(np.nan)\n",
    "        XYs[point] = np.array([x, y]).T\n",
    "    return times, XYs\n",
    "\n",
    "\n",
    "\"\"\" LICKs \"\"\"\n",
    "\n",
    "def get_licks(XYs):\n",
    "\n",
    "    '''\n",
    "    define a frame as a lick frame if\n",
    "    x or y for left or right tongue point\n",
    "    change more than half the sdt of the diff\n",
    "    '''  \n",
    "    \n",
    "    licks = []\n",
    "    for point in ['tongue_end_l', 'tongue_end_r']:\n",
    "        for c in XYs[point].T:\n",
    "           thr = np.nanstd(np.diff(c))/4\n",
    "           licks.append(set(np.where(abs(np.diff(c))>thr)[0]))\n",
    "    return sorted(list(set.union(*licks))) \n",
    "\n",
    "\n",
    "def get_lick_times(one, eid, lp, combine=False, video_type='left'):\n",
    "    \n",
    "    if combine:    \n",
    "        # combine licking events from left and right cam\n",
    "        lick_times = []\n",
    "        for video_type in ['right','left']:\n",
    "            times, XYs = get_XYs(one, eid, video_type, likelihood_thresh=0.9, lp=lp)\n",
    "            r = get_licks(XYs)\n",
    "            # cover case that there are less times than DLC points            \n",
    "            idx = np.where(np.array(r)<len(times))[0][-1]            \n",
    "            lick_times.append(times[r[:idx]])\n",
    "        \n",
    "        # lick_times = sorted(np.concatenate(lick_times))\n",
    "        lick_times = np.array(sorted(np.concatenate(lick_times)))\n",
    "        \n",
    "    else:\n",
    "        times, XYs = get_XYs(one, eid, video_type, likelihood_thresh=0.9, lp=lp)    \n",
    "        r = get_licks(XYs)\n",
    "        # cover case that there are less times than DLC points\n",
    "        idx = np.where(np.array(r)<len(times))[0][-1]              \n",
    "        lick_times = times[r[:idx]]\n",
    "        # lick_times = times[r]\n",
    "\n",
    "    return lick_times\n",
    "\n",
    "\n",
    "def get_feature_event_times(dlc, dlc_t, features):\n",
    "    \"\"\"\n",
    "    Detect events from the dlc traces. Based on the standard deviation between frames\n",
    "    :param dlc: dlc pqt table\n",
    "    :param dlc_t: dlc times\n",
    "    :param features: features to consider\n",
    "    :return:\n",
    "    \"\"\"\n",
    "\n",
    "    for i, feat in enumerate(features):\n",
    "        f = dlc[feat]\n",
    "        threshold = np.nanstd(np.diff(f)) / 4\n",
    "        if i == 0:\n",
    "            events = np.where(np.abs(np.diff(f)) > threshold)[0]\n",
    "        else:\n",
    "            events = np.r_[events, np.where(np.abs(np.diff(f)) > threshold)[0]]\n",
    "\n",
    "    return dlc_t[np.unique(events)]"
   ]
  },
  {
   "cell_type": "markdown",
   "metadata": {},
   "source": [
    "## Plot lick PSTHs"
   ]
  },
  {
   "cell_type": "code",
   "execution_count": null,
   "metadata": {},
   "outputs": [
    {
     "name": "stderr",
     "output_type": "stream",
     "text": [
      "/opt/anaconda3/envs/iblenv/lib/python3.10/site-packages/brainbox/behavior/dlc.py:59: FutureWarning: ChainedAssignmentError: behaviour will change in pandas 3.0!\n",
      "You are setting values through chained assignment. Currently this works in certain cases, but when using Copy-on-Write (which will become the default behaviour in pandas 3.0) this will never work to update the original DataFrame or Series, because the intermediate object on which we are setting values will behave as a copy.\n",
      "A typical example is when you are setting values in a column of a DataFrame, like:\n",
      "\n",
      "df[\"col\"][row_indexer] = value\n",
      "\n",
      "Use `df.loc[row_indexer, \"col\"] = values` instead, to perform the assignment in a single step and ensure this keeps updating the original `df`.\n",
      "\n",
      "See the caveats in the documentation: https://pandas.pydata.org/pandas-docs/stable/user_guide/indexing.html#returning-a-view-versus-a-copy\n",
      "\n",
      "  dlc[f'{feat}_x'][nan_fill] = np.nan\n",
      "/opt/anaconda3/envs/iblenv/lib/python3.10/site-packages/brainbox/behavior/dlc.py:60: FutureWarning: ChainedAssignmentError: behaviour will change in pandas 3.0!\n",
      "You are setting values through chained assignment. Currently this works in certain cases, but when using Copy-on-Write (which will become the default behaviour in pandas 3.0) this will never work to update the original DataFrame or Series, because the intermediate object on which we are setting values will behave as a copy.\n",
      "A typical example is when you are setting values in a column of a DataFrame, like:\n",
      "\n",
      "df[\"col\"][row_indexer] = value\n",
      "\n",
      "Use `df.loc[row_indexer, \"col\"] = values` instead, to perform the assignment in a single step and ensure this keeps updating the original `df`.\n",
      "\n",
      "See the caveats in the documentation: https://pandas.pydata.org/pandas-docs/stable/user_guide/indexing.html#returning-a-view-versus-a-copy\n",
      "\n",
      "  dlc[f'{feat}_y'][nan_fill] = np.nan\n",
      "/opt/anaconda3/envs/iblenv/lib/python3.10/site-packages/brainbox/behavior/dlc.py:59: FutureWarning: ChainedAssignmentError: behaviour will change in pandas 3.0!\n",
      "You are setting values through chained assignment. Currently this works in certain cases, but when using Copy-on-Write (which will become the default behaviour in pandas 3.0) this will never work to update the original DataFrame or Series, because the intermediate object on which we are setting values will behave as a copy.\n",
      "A typical example is when you are setting values in a column of a DataFrame, like:\n",
      "\n",
      "df[\"col\"][row_indexer] = value\n",
      "\n",
      "Use `df.loc[row_indexer, \"col\"] = values` instead, to perform the assignment in a single step and ensure this keeps updating the original `df`.\n",
      "\n",
      "See the caveats in the documentation: https://pandas.pydata.org/pandas-docs/stable/user_guide/indexing.html#returning-a-view-versus-a-copy\n",
      "\n",
      "  dlc[f'{feat}_x'][nan_fill] = np.nan\n",
      "/opt/anaconda3/envs/iblenv/lib/python3.10/site-packages/brainbox/behavior/dlc.py:60: FutureWarning: ChainedAssignmentError: behaviour will change in pandas 3.0!\n",
      "You are setting values through chained assignment. Currently this works in certain cases, but when using Copy-on-Write (which will become the default behaviour in pandas 3.0) this will never work to update the original DataFrame or Series, because the intermediate object on which we are setting values will behave as a copy.\n",
      "A typical example is when you are setting values in a column of a DataFrame, like:\n",
      "\n",
      "df[\"col\"][row_indexer] = value\n",
      "\n",
      "Use `df.loc[row_indexer, \"col\"] = values` instead, to perform the assignment in a single step and ensure this keeps updating the original `df`.\n",
      "\n",
      "See the caveats in the documentation: https://pandas.pydata.org/pandas-docs/stable/user_guide/indexing.html#returning-a-view-versus-a-copy\n",
      "\n",
      "  dlc[f'{feat}_y'][nan_fill] = np.nan\n",
      "/opt/anaconda3/envs/iblenv/lib/python3.10/site-packages/brainbox/behavior/dlc.py:59: FutureWarning: ChainedAssignmentError: behaviour will change in pandas 3.0!\n",
      "You are setting values through chained assignment. Currently this works in certain cases, but when using Copy-on-Write (which will become the default behaviour in pandas 3.0) this will never work to update the original DataFrame or Series, because the intermediate object on which we are setting values will behave as a copy.\n",
      "A typical example is when you are setting values in a column of a DataFrame, like:\n",
      "\n",
      "df[\"col\"][row_indexer] = value\n",
      "\n",
      "Use `df.loc[row_indexer, \"col\"] = values` instead, to perform the assignment in a single step and ensure this keeps updating the original `df`.\n",
      "\n",
      "See the caveats in the documentation: https://pandas.pydata.org/pandas-docs/stable/user_guide/indexing.html#returning-a-view-versus-a-copy\n",
      "\n",
      "  dlc[f'{feat}_x'][nan_fill] = np.nan\n",
      "/opt/anaconda3/envs/iblenv/lib/python3.10/site-packages/brainbox/behavior/dlc.py:60: FutureWarning: ChainedAssignmentError: behaviour will change in pandas 3.0!\n",
      "You are setting values through chained assignment. Currently this works in certain cases, but when using Copy-on-Write (which will become the default behaviour in pandas 3.0) this will never work to update the original DataFrame or Series, because the intermediate object on which we are setting values will behave as a copy.\n",
      "A typical example is when you are setting values in a column of a DataFrame, like:\n",
      "\n",
      "df[\"col\"][row_indexer] = value\n",
      "\n",
      "Use `df.loc[row_indexer, \"col\"] = values` instead, to perform the assignment in a single step and ensure this keeps updating the original `df`.\n",
      "\n",
      "See the caveats in the documentation: https://pandas.pydata.org/pandas-docs/stable/user_guide/indexing.html#returning-a-view-versus-a-copy\n",
      "\n",
      "  dlc[f'{feat}_y'][nan_fill] = np.nan\n",
      "/opt/anaconda3/envs/iblenv/lib/python3.10/site-packages/brainbox/behavior/dlc.py:59: FutureWarning: ChainedAssignmentError: behaviour will change in pandas 3.0!\n",
      "You are setting values through chained assignment. Currently this works in certain cases, but when using Copy-on-Write (which will become the default behaviour in pandas 3.0) this will never work to update the original DataFrame or Series, because the intermediate object on which we are setting values will behave as a copy.\n",
      "A typical example is when you are setting values in a column of a DataFrame, like:\n",
      "\n",
      "df[\"col\"][row_indexer] = value\n",
      "\n",
      "Use `df.loc[row_indexer, \"col\"] = values` instead, to perform the assignment in a single step and ensure this keeps updating the original `df`.\n",
      "\n",
      "See the caveats in the documentation: https://pandas.pydata.org/pandas-docs/stable/user_guide/indexing.html#returning-a-view-versus-a-copy\n",
      "\n",
      "  dlc[f'{feat}_x'][nan_fill] = np.nan\n",
      "/opt/anaconda3/envs/iblenv/lib/python3.10/site-packages/brainbox/behavior/dlc.py:60: FutureWarning: ChainedAssignmentError: behaviour will change in pandas 3.0!\n",
      "You are setting values through chained assignment. Currently this works in certain cases, but when using Copy-on-Write (which will become the default behaviour in pandas 3.0) this will never work to update the original DataFrame or Series, because the intermediate object on which we are setting values will behave as a copy.\n",
      "A typical example is when you are setting values in a column of a DataFrame, like:\n",
      "\n",
      "df[\"col\"][row_indexer] = value\n",
      "\n",
      "Use `df.loc[row_indexer, \"col\"] = values` instead, to perform the assignment in a single step and ensure this keeps updating the original `df`.\n",
      "\n",
      "See the caveats in the documentation: https://pandas.pydata.org/pandas-docs/stable/user_guide/indexing.html#returning-a-view-versus-a-copy\n",
      "\n",
      "  dlc[f'{feat}_y'][nan_fill] = np.nan\n",
      "/opt/anaconda3/envs/iblenv/lib/python3.10/site-packages/brainbox/behavior/dlc.py:59: FutureWarning: ChainedAssignmentError: behaviour will change in pandas 3.0!\n",
      "You are setting values through chained assignment. Currently this works in certain cases, but when using Copy-on-Write (which will become the default behaviour in pandas 3.0) this will never work to update the original DataFrame or Series, because the intermediate object on which we are setting values will behave as a copy.\n",
      "A typical example is when you are setting values in a column of a DataFrame, like:\n",
      "\n",
      "df[\"col\"][row_indexer] = value\n",
      "\n",
      "Use `df.loc[row_indexer, \"col\"] = values` instead, to perform the assignment in a single step and ensure this keeps updating the original `df`.\n",
      "\n",
      "See the caveats in the documentation: https://pandas.pydata.org/pandas-docs/stable/user_guide/indexing.html#returning-a-view-versus-a-copy\n",
      "\n",
      "  dlc[f'{feat}_x'][nan_fill] = np.nan\n",
      "/opt/anaconda3/envs/iblenv/lib/python3.10/site-packages/brainbox/behavior/dlc.py:60: FutureWarning: ChainedAssignmentError: behaviour will change in pandas 3.0!\n",
      "You are setting values through chained assignment. Currently this works in certain cases, but when using Copy-on-Write (which will become the default behaviour in pandas 3.0) this will never work to update the original DataFrame or Series, because the intermediate object on which we are setting values will behave as a copy.\n",
      "A typical example is when you are setting values in a column of a DataFrame, like:\n",
      "\n",
      "df[\"col\"][row_indexer] = value\n",
      "\n",
      "Use `df.loc[row_indexer, \"col\"] = values` instead, to perform the assignment in a single step and ensure this keeps updating the original `df`.\n",
      "\n",
      "See the caveats in the documentation: https://pandas.pydata.org/pandas-docs/stable/user_guide/indexing.html#returning-a-view-versus-a-copy\n",
      "\n",
      "  dlc[f'{feat}_y'][nan_fill] = np.nan\n",
      "/opt/anaconda3/envs/iblenv/lib/python3.10/site-packages/brainbox/behavior/dlc.py:59: FutureWarning: ChainedAssignmentError: behaviour will change in pandas 3.0!\n",
      "You are setting values through chained assignment. Currently this works in certain cases, but when using Copy-on-Write (which will become the default behaviour in pandas 3.0) this will never work to update the original DataFrame or Series, because the intermediate object on which we are setting values will behave as a copy.\n",
      "A typical example is when you are setting values in a column of a DataFrame, like:\n",
      "\n",
      "df[\"col\"][row_indexer] = value\n",
      "\n",
      "Use `df.loc[row_indexer, \"col\"] = values` instead, to perform the assignment in a single step and ensure this keeps updating the original `df`.\n",
      "\n",
      "See the caveats in the documentation: https://pandas.pydata.org/pandas-docs/stable/user_guide/indexing.html#returning-a-view-versus-a-copy\n",
      "\n",
      "  dlc[f'{feat}_x'][nan_fill] = np.nan\n",
      "/opt/anaconda3/envs/iblenv/lib/python3.10/site-packages/brainbox/behavior/dlc.py:60: FutureWarning: ChainedAssignmentError: behaviour will change in pandas 3.0!\n",
      "You are setting values through chained assignment. Currently this works in certain cases, but when using Copy-on-Write (which will become the default behaviour in pandas 3.0) this will never work to update the original DataFrame or Series, because the intermediate object on which we are setting values will behave as a copy.\n",
      "A typical example is when you are setting values in a column of a DataFrame, like:\n",
      "\n",
      "df[\"col\"][row_indexer] = value\n",
      "\n",
      "Use `df.loc[row_indexer, \"col\"] = values` instead, to perform the assignment in a single step and ensure this keeps updating the original `df`.\n",
      "\n",
      "See the caveats in the documentation: https://pandas.pydata.org/pandas-docs/stable/user_guide/indexing.html#returning-a-view-versus-a-copy\n",
      "\n",
      "  dlc[f'{feat}_y'][nan_fill] = np.nan\n",
      "/opt/anaconda3/envs/iblenv/lib/python3.10/site-packages/brainbox/behavior/dlc.py:59: FutureWarning: ChainedAssignmentError: behaviour will change in pandas 3.0!\n",
      "You are setting values through chained assignment. Currently this works in certain cases, but when using Copy-on-Write (which will become the default behaviour in pandas 3.0) this will never work to update the original DataFrame or Series, because the intermediate object on which we are setting values will behave as a copy.\n",
      "A typical example is when you are setting values in a column of a DataFrame, like:\n",
      "\n",
      "df[\"col\"][row_indexer] = value\n",
      "\n",
      "Use `df.loc[row_indexer, \"col\"] = values` instead, to perform the assignment in a single step and ensure this keeps updating the original `df`.\n",
      "\n",
      "See the caveats in the documentation: https://pandas.pydata.org/pandas-docs/stable/user_guide/indexing.html#returning-a-view-versus-a-copy\n",
      "\n",
      "  dlc[f'{feat}_x'][nan_fill] = np.nan\n",
      "/opt/anaconda3/envs/iblenv/lib/python3.10/site-packages/brainbox/behavior/dlc.py:60: FutureWarning: ChainedAssignmentError: behaviour will change in pandas 3.0!\n",
      "You are setting values through chained assignment. Currently this works in certain cases, but when using Copy-on-Write (which will become the default behaviour in pandas 3.0) this will never work to update the original DataFrame or Series, because the intermediate object on which we are setting values will behave as a copy.\n",
      "A typical example is when you are setting values in a column of a DataFrame, like:\n",
      "\n",
      "df[\"col\"][row_indexer] = value\n",
      "\n",
      "Use `df.loc[row_indexer, \"col\"] = values` instead, to perform the assignment in a single step and ensure this keeps updating the original `df`.\n",
      "\n",
      "See the caveats in the documentation: https://pandas.pydata.org/pandas-docs/stable/user_guide/indexing.html#returning-a-view-versus-a-copy\n",
      "\n",
      "  dlc[f'{feat}_y'][nan_fill] = np.nan\n",
      "/opt/anaconda3/envs/iblenv/lib/python3.10/site-packages/brainbox/behavior/dlc.py:59: FutureWarning: ChainedAssignmentError: behaviour will change in pandas 3.0!\n",
      "You are setting values through chained assignment. Currently this works in certain cases, but when using Copy-on-Write (which will become the default behaviour in pandas 3.0) this will never work to update the original DataFrame or Series, because the intermediate object on which we are setting values will behave as a copy.\n",
      "A typical example is when you are setting values in a column of a DataFrame, like:\n",
      "\n",
      "df[\"col\"][row_indexer] = value\n",
      "\n",
      "Use `df.loc[row_indexer, \"col\"] = values` instead, to perform the assignment in a single step and ensure this keeps updating the original `df`.\n",
      "\n",
      "See the caveats in the documentation: https://pandas.pydata.org/pandas-docs/stable/user_guide/indexing.html#returning-a-view-versus-a-copy\n",
      "\n",
      "  dlc[f'{feat}_x'][nan_fill] = np.nan\n",
      "/opt/anaconda3/envs/iblenv/lib/python3.10/site-packages/brainbox/behavior/dlc.py:60: FutureWarning: ChainedAssignmentError: behaviour will change in pandas 3.0!\n",
      "You are setting values through chained assignment. Currently this works in certain cases, but when using Copy-on-Write (which will become the default behaviour in pandas 3.0) this will never work to update the original DataFrame or Series, because the intermediate object on which we are setting values will behave as a copy.\n",
      "A typical example is when you are setting values in a column of a DataFrame, like:\n",
      "\n",
      "df[\"col\"][row_indexer] = value\n",
      "\n",
      "Use `df.loc[row_indexer, \"col\"] = values` instead, to perform the assignment in a single step and ensure this keeps updating the original `df`.\n",
      "\n",
      "See the caveats in the documentation: https://pandas.pydata.org/pandas-docs/stable/user_guide/indexing.html#returning-a-view-versus-a-copy\n",
      "\n",
      "  dlc[f'{feat}_y'][nan_fill] = np.nan\n",
      "/opt/anaconda3/envs/iblenv/lib/python3.10/site-packages/brainbox/behavior/dlc.py:59: FutureWarning: ChainedAssignmentError: behaviour will change in pandas 3.0!\n",
      "You are setting values through chained assignment. Currently this works in certain cases, but when using Copy-on-Write (which will become the default behaviour in pandas 3.0) this will never work to update the original DataFrame or Series, because the intermediate object on which we are setting values will behave as a copy.\n",
      "A typical example is when you are setting values in a column of a DataFrame, like:\n",
      "\n",
      "df[\"col\"][row_indexer] = value\n",
      "\n",
      "Use `df.loc[row_indexer, \"col\"] = values` instead, to perform the assignment in a single step and ensure this keeps updating the original `df`.\n",
      "\n",
      "See the caveats in the documentation: https://pandas.pydata.org/pandas-docs/stable/user_guide/indexing.html#returning-a-view-versus-a-copy\n",
      "\n",
      "  dlc[f'{feat}_x'][nan_fill] = np.nan\n",
      "/opt/anaconda3/envs/iblenv/lib/python3.10/site-packages/brainbox/behavior/dlc.py:60: FutureWarning: ChainedAssignmentError: behaviour will change in pandas 3.0!\n",
      "You are setting values through chained assignment. Currently this works in certain cases, but when using Copy-on-Write (which will become the default behaviour in pandas 3.0) this will never work to update the original DataFrame or Series, because the intermediate object on which we are setting values will behave as a copy.\n",
      "A typical example is when you are setting values in a column of a DataFrame, like:\n",
      "\n",
      "df[\"col\"][row_indexer] = value\n",
      "\n",
      "Use `df.loc[row_indexer, \"col\"] = values` instead, to perform the assignment in a single step and ensure this keeps updating the original `df`.\n",
      "\n",
      "See the caveats in the documentation: https://pandas.pydata.org/pandas-docs/stable/user_guide/indexing.html#returning-a-view-versus-a-copy\n",
      "\n",
      "  dlc[f'{feat}_y'][nan_fill] = np.nan\n",
      "/opt/anaconda3/envs/iblenv/lib/python3.10/site-packages/brainbox/behavior/dlc.py:59: FutureWarning: ChainedAssignmentError: behaviour will change in pandas 3.0!\n",
      "You are setting values through chained assignment. Currently this works in certain cases, but when using Copy-on-Write (which will become the default behaviour in pandas 3.0) this will never work to update the original DataFrame or Series, because the intermediate object on which we are setting values will behave as a copy.\n",
      "A typical example is when you are setting values in a column of a DataFrame, like:\n",
      "\n",
      "df[\"col\"][row_indexer] = value\n",
      "\n",
      "Use `df.loc[row_indexer, \"col\"] = values` instead, to perform the assignment in a single step and ensure this keeps updating the original `df`.\n",
      "\n",
      "See the caveats in the documentation: https://pandas.pydata.org/pandas-docs/stable/user_guide/indexing.html#returning-a-view-versus-a-copy\n",
      "\n",
      "  dlc[f'{feat}_x'][nan_fill] = np.nan\n",
      "/opt/anaconda3/envs/iblenv/lib/python3.10/site-packages/brainbox/behavior/dlc.py:60: FutureWarning: ChainedAssignmentError: behaviour will change in pandas 3.0!\n",
      "You are setting values through chained assignment. Currently this works in certain cases, but when using Copy-on-Write (which will become the default behaviour in pandas 3.0) this will never work to update the original DataFrame or Series, because the intermediate object on which we are setting values will behave as a copy.\n",
      "A typical example is when you are setting values in a column of a DataFrame, like:\n",
      "\n",
      "df[\"col\"][row_indexer] = value\n",
      "\n",
      "Use `df.loc[row_indexer, \"col\"] = values` instead, to perform the assignment in a single step and ensure this keeps updating the original `df`.\n",
      "\n",
      "See the caveats in the documentation: https://pandas.pydata.org/pandas-docs/stable/user_guide/indexing.html#returning-a-view-versus-a-copy\n",
      "\n",
      "  dlc[f'{feat}_y'][nan_fill] = np.nan\n",
      "/opt/anaconda3/envs/iblenv/lib/python3.10/site-packages/brainbox/behavior/dlc.py:59: FutureWarning: ChainedAssignmentError: behaviour will change in pandas 3.0!\n",
      "You are setting values through chained assignment. Currently this works in certain cases, but when using Copy-on-Write (which will become the default behaviour in pandas 3.0) this will never work to update the original DataFrame or Series, because the intermediate object on which we are setting values will behave as a copy.\n",
      "A typical example is when you are setting values in a column of a DataFrame, like:\n",
      "\n",
      "df[\"col\"][row_indexer] = value\n",
      "\n",
      "Use `df.loc[row_indexer, \"col\"] = values` instead, to perform the assignment in a single step and ensure this keeps updating the original `df`.\n",
      "\n",
      "See the caveats in the documentation: https://pandas.pydata.org/pandas-docs/stable/user_guide/indexing.html#returning-a-view-versus-a-copy\n",
      "\n",
      "  dlc[f'{feat}_x'][nan_fill] = np.nan\n",
      "/opt/anaconda3/envs/iblenv/lib/python3.10/site-packages/brainbox/behavior/dlc.py:60: FutureWarning: ChainedAssignmentError: behaviour will change in pandas 3.0!\n",
      "You are setting values through chained assignment. Currently this works in certain cases, but when using Copy-on-Write (which will become the default behaviour in pandas 3.0) this will never work to update the original DataFrame or Series, because the intermediate object on which we are setting values will behave as a copy.\n",
      "A typical example is when you are setting values in a column of a DataFrame, like:\n",
      "\n",
      "df[\"col\"][row_indexer] = value\n",
      "\n",
      "Use `df.loc[row_indexer, \"col\"] = values` instead, to perform the assignment in a single step and ensure this keeps updating the original `df`.\n",
      "\n",
      "See the caveats in the documentation: https://pandas.pydata.org/pandas-docs/stable/user_guide/indexing.html#returning-a-view-versus-a-copy\n",
      "\n",
      "  dlc[f'{feat}_y'][nan_fill] = np.nan\n"
     ]
    }
   ],
   "source": [
    "# Alternative loading\n",
    " \n",
    "# sl = SessionLoader(eid=eid, one=one)\n",
    "# sl.load_pose(views=['left'])\n",
    "# poses = sl.pose['leftCamera']\n",
    "\n",
    "# dlc = sl.pose['leftCamera']\n",
    "# dlc_t = sl.pose['leftCamera']['times']\n",
    "# features = ['tongue_end_l_x', 'tongue_end_l_y','tongue_end_r_x', 'tongue_end_r_y']\n",
    "# lick_times = get_feature_event_times(dlc, dlc_t, features)\n",
    "# len(lick_times)"
   ]
  },
  {
   "cell_type": "code",
   "execution_count": 19,
   "metadata": {},
   "outputs": [
    {
     "name": "stderr",
     "output_type": "stream",
     "text": [
      "/home/ines/miniconda3/envs/iblenv/lib/python3.9/site-packages/one/util.py:543: ALFWarning: Multiple revisions: \"\", \"2025-06-18\", \"2025-03-03\", \"2025-06-01\", \"2025-05-29\", \"2024-05-06\", \"2025-05-31\"\n",
      "  warnings.warn(f'Multiple revisions: {rev_list}', alferr.ALFWarning)\n"
     ]
    }
   ],
   "source": [
    "session = bwm_query['eid'].unique()[10]\n",
    "sl = SessionLoader(eid=session, one=one)\n",
    "sl.load_pose(views=['left'])\n",
    "poses = sl.pose['leftCamera']\n",
    "\n",
    "dlc = sl.pose['leftCamera']\n",
    "dlc_t = sl.pose['leftCamera']['times']\n",
    "features = ['tongue_end_l_x', 'tongue_end_l_y','tongue_end_r_x', 'tongue_end_r_y']\n",
    "lick_times = get_feature_event_times(dlc, dlc_t, features)"
   ]
  },
  {
   "cell_type": "code",
   "execution_count": 5,
   "metadata": {},
   "outputs": [],
   "source": [
    "save_path = prefix + '/representation_learning_variability/Video and wheel/Video QC/Figures/2_cameras/'\n",
    "files = os.listdir(save_path)\n",
    "counter = 0\n",
    "eids = final_qc['eid'].unique()\n",
    "for eid in eids:\n",
    "\n",
    "    filename = str(eid + '_2_camera_lick_psth_-12_feedback.png')\n",
    "    if filename not in files:\n",
    "        counter = counter +1"
   ]
  },
  {
   "cell_type": "code",
   "execution_count": 6,
   "metadata": {},
   "outputs": [
    {
     "name": "stdout",
     "output_type": "stream",
     "text": [
      "22\n"
     ]
    }
   ],
   "source": [
    "print(counter)"
   ]
  },
  {
   "cell_type": "code",
   "execution_count": null,
   "metadata": {},
   "outputs": [
    {
     "name": "stderr",
     "output_type": "stream",
     "text": [
      "/opt/anaconda3/envs/iblenv/lib/python3.10/site-packages/one/api.py:291: FutureWarning: Setting an item of incompatible dtype is deprecated and will raise an error in a future version of pandas. Value '[nan nan nan nan nan nan nan nan nan nan nan nan nan nan nan nan nan nan\n",
      " nan nan nan nan nan nan nan nan nan nan nan nan nan nan nan nan nan nan\n",
      " nan nan nan nan nan nan nan nan nan nan nan nan nan nan nan nan nan nan\n",
      " nan nan nan nan nan nan nan nan nan nan nan nan nan nan nan nan nan nan\n",
      " nan nan nan nan nan nan nan nan nan nan nan nan nan nan nan nan nan nan\n",
      " nan nan nan nan nan nan nan nan nan nan nan nan nan nan nan nan nan nan\n",
      " nan nan nan nan nan nan nan nan nan nan nan nan nan nan nan nan nan nan\n",
      " nan nan nan nan nan nan nan nan nan nan nan nan nan nan nan nan nan nan\n",
      " nan nan nan nan nan nan nan nan nan nan nan nan nan nan nan nan nan nan\n",
      " nan nan nan nan nan nan nan nan nan nan nan nan nan nan nan nan nan nan\n",
      " nan nan nan nan nan nan nan nan nan nan nan nan nan nan nan nan nan nan\n",
      " nan nan nan nan nan nan nan nan nan nan nan nan nan nan nan nan nan nan\n",
      " nan nan nan nan nan nan nan nan nan nan nan nan nan nan nan nan nan nan]' has dtype incompatible with bool, please explicitly cast to a compatible dtype first.\n",
      "  self._cache[table].loc[records.index[to_update], :] = records[to_update]\n",
      "/opt/anaconda3/envs/iblenv/lib/python3.10/site-packages/one/api.py:291: FutureWarning: Setting an item of incompatible dtype is deprecated and will raise an error in a future version of pandas. Value '[nan nan nan nan nan nan nan nan nan nan nan nan nan nan nan nan nan nan\n",
      " nan nan nan nan nan nan nan nan nan nan nan nan nan nan nan nan nan nan\n",
      " nan nan nan nan nan nan nan nan nan nan nan nan nan nan nan nan nan nan\n",
      " nan nan nan nan nan nan nan nan nan nan nan nan nan nan nan nan nan nan\n",
      " nan nan nan nan nan nan nan nan nan nan nan nan nan nan nan nan nan nan\n",
      " nan nan nan nan nan nan nan nan nan nan nan nan nan nan nan nan nan nan\n",
      " nan nan nan nan nan nan nan nan nan nan nan nan nan nan nan nan nan nan\n",
      " nan nan nan nan nan nan nan nan nan nan nan nan nan nan nan nan nan nan\n",
      " nan nan nan nan nan nan nan nan nan nan nan nan nan nan nan nan nan nan\n",
      " nan nan nan nan nan nan nan nan nan nan nan nan nan nan nan nan nan nan\n",
      " nan nan nan nan nan nan nan nan nan nan nan nan nan nan nan nan nan nan\n",
      " nan nan nan nan nan nan nan nan nan nan nan nan nan nan nan nan nan nan\n",
      " nan nan nan nan nan nan nan nan nan nan nan nan nan nan nan nan nan nan]' has dtype incompatible with bool, please explicitly cast to a compatible dtype first.\n",
      "  self._cache[table].loc[records.index[to_update], :] = records[to_update]\n"
     ]
    },
    {
     "name": "stdout",
     "output_type": "stream",
     "text": [
      "Downloading: /Users/ineslaranjeira/Downloads/FlatIron/angelakilab/Subjects/NYU-30/2020-10-22/001/alf/_ibl_rightCamera.lightningPose.e30c2d51-bdc1-4a9d-9f97-35f0bba5ca23.pqt Bytes: 415277062\n"
     ]
    },
    {
     "name": "stderr",
     "output_type": "stream",
     "text": [
      "100%|██████████| 396.0390682220459/396.0390682220459 [03:16<00:00,  2.01it/s]\n",
      "/Users/ineslaranjeira/Documents/Repositories/representation_learning_variability/Functions/video_functions.py:172: FutureWarning: The behavior of DataFrame concatenation with empty or all-NA entries is deprecated. In a future version, this will no longer exclude empty or all-NA columns when determining the result dtypes. To retain the old behavior, exclude the relevant entries before the concat operation.\n",
      "  licks_df = pd.concat([licks_df, temp_df])\n",
      "/opt/anaconda3/envs/iblenv/lib/python3.10/site-packages/numpy/lib/nanfunctions.py:1872: RuntimeWarning: Degrees of freedom <= 0 for slice.\n",
      "  var = nanvar(a, axis=axis, dtype=dtype, out=out, ddof=ddof,\n",
      "/opt/anaconda3/envs/iblenv/lib/python3.10/site-packages/numpy/lib/nanfunctions.py:1872: RuntimeWarning: Degrees of freedom <= 0 for slice.\n",
      "  var = nanvar(a, axis=axis, dtype=dtype, out=out, ddof=ddof,\n"
     ]
    },
    {
     "name": "stdout",
     "output_type": "stream",
     "text": [
      "Missing data for mouse 5ec72172-3901-4771-8777-6e9490ca51fc\n"
     ]
    },
    {
     "name": "stderr",
     "output_type": "stream",
     "text": [
      "local md5 mismatch on dataset: danlab/Subjects/DY_016/2020-09-13/001/alf/_ibl_rightCamera.times.npy\n"
     ]
    },
    {
     "name": "stdout",
     "output_type": "stream",
     "text": [
      "Downloading: /Users/ineslaranjeira/Downloads/FlatIron/danlab/Subjects/DY_016/2020-09-13/001/alf/_ibl_rightCamera.times.b2b75f85-5977-47bf-873d-dbccaf0355f2.npy Bytes: 5608616\n"
     ]
    },
    {
     "name": "stderr",
     "output_type": "stream",
     "text": [
      "100%|██████████| 5.348793029785156/5.348793029785156 [00:03<00:00,  1.39it/s]\n"
     ]
    },
    {
     "name": "stdout",
     "output_type": "stream",
     "text": [
      "Downloading: /Users/ineslaranjeira/Downloads/FlatIron/danlab/Subjects/DY_016/2020-09-13/001/alf/_ibl_rightCamera.lightningPose.f25ae4e2-236e-499a-aca0-86d76ea3765a.pqt Bytes: 316061105\n"
     ]
    },
    {
     "name": "stderr",
     "output_type": "stream",
     "text": [
      "100%|██████████| 301.419358253479/301.419358253479 [02:24<00:00,  2.08it/s]\n",
      "local md5 mismatch on dataset: danlab/Subjects/DY_016/2020-09-13/001/alf/_ibl_leftCamera.lightningPose.pqt\n"
     ]
    },
    {
     "name": "stdout",
     "output_type": "stream",
     "text": [
      "Missing data for mouse c3d9b6fb-7fa9-4413-a364-92a54df0fc5d\n"
     ]
    },
    {
     "name": "stderr",
     "output_type": "stream",
     "text": [
      "local md5 mismatch on dataset: danlab/Subjects/DY_016/2020-09-14/001/alf/_ibl_rightCamera.times.npy\n"
     ]
    },
    {
     "name": "stdout",
     "output_type": "stream",
     "text": [
      "Downloading: /Users/ineslaranjeira/Downloads/FlatIron/danlab/Subjects/DY_016/2020-09-14/001/alf/_ibl_rightCamera.times.f36f2d61-aece-409e-bbee-f5374480e474.npy Bytes: 5351568\n"
     ]
    },
    {
     "name": "stderr",
     "output_type": "stream",
     "text": [
      "100%|██████████| 5.1036529541015625/5.1036529541015625 [00:02<00:00,  2.14it/s]\n"
     ]
    },
    {
     "name": "stdout",
     "output_type": "stream",
     "text": [
      "Downloading: /Users/ineslaranjeira/Downloads/FlatIron/danlab/Subjects/DY_016/2020-09-14/001/alf/_ibl_rightCamera.lightningPose.d3250939-e622-48eb-9b0d-8d04f8372beb.pqt Bytes: 300946360\n"
     ]
    },
    {
     "name": "stderr",
     "output_type": "stream",
     "text": [
      "100%|██████████| 287.0048141479492/287.0048141479492 [01:26<00:00,  3.32it/s]\n",
      "local md5 mismatch on dataset: danlab/Subjects/DY_016/2020-09-14/001/alf/_ibl_leftCamera.lightningPose.pqt\n"
     ]
    },
    {
     "name": "stdout",
     "output_type": "stream",
     "text": [
      "Downloading: /Users/ineslaranjeira/Downloads/FlatIron/danlab/Subjects/DY_016/2020-09-14/001/alf/_ibl_leftCamera.lightningPose.e8ab41e4-0d95-472f-b722-b51f361b401a.pqt Bytes: 130188442\n"
     ]
    },
    {
     "name": "stderr",
     "output_type": "stream",
     "text": [
      "100%|██████████| 124.15737342834473/124.15737342834473 [02:44<00:00,  1.33s/it]\n",
      "/Users/ineslaranjeira/Documents/Repositories/representation_learning_variability/Functions/video_functions.py:172: FutureWarning: The behavior of DataFrame concatenation with empty or all-NA entries is deprecated. In a future version, this will no longer exclude empty or all-NA columns when determining the result dtypes. To retain the old behavior, exclude the relevant entries before the concat operation.\n",
      "  licks_df = pd.concat([licks_df, temp_df])\n"
     ]
    },
    {
     "name": "stdout",
     "output_type": "stream",
     "text": [
      "Downloading: /Users/ineslaranjeira/Downloads/FlatIron/danlab/Subjects/DY_016/2020-09-14/001/alf/_ibl_rightCamera.dlc.dad38af1-e933-4c95-94db-309f99f2fc28.pqt Bytes: 85113815\n"
     ]
    },
    {
     "name": "stderr",
     "output_type": "stream",
     "text": [
      "100%|██████████| 81.17085933685303/81.17085933685303 [00:35<00:00,  2.26it/s]\n",
      "/Users/ineslaranjeira/Documents/Repositories/representation_learning_variability/Functions/video_functions.py:172: FutureWarning: The behavior of DataFrame concatenation with empty or all-NA entries is deprecated. In a future version, this will no longer exclude empty or all-NA columns when determining the result dtypes. To retain the old behavior, exclude the relevant entries before the concat operation.\n",
      "  licks_df = pd.concat([licks_df, temp_df])\n",
      "local md5 mismatch on dataset: danlab/Subjects/DY_016/2020-09-15/001/alf/_ibl_rightCamera.lightningPose.pqt\n"
     ]
    },
    {
     "name": "stdout",
     "output_type": "stream",
     "text": [
      "Downloading: /Users/ineslaranjeira/Downloads/FlatIron/danlab/Subjects/DY_016/2020-09-15/001/alf/_ibl_rightCamera.lightningPose.b31b61b8-c89d-4a11-a021-34a208571e55.pqt Bytes: 273320521\n"
     ]
    },
    {
     "name": "stderr",
     "output_type": "stream",
     "text": [
      "100%|██████████| 260.6587610244751/260.6587610244751 [04:15<00:00,  1.02it/s]\n",
      "local md5 mismatch on dataset: danlab/Subjects/DY_016/2020-09-15/001/alf/_ibl_leftCamera.lightningPose.pqt\n"
     ]
    },
    {
     "name": "stdout",
     "output_type": "stream",
     "text": [
      "Downloading: /Users/ineslaranjeira/Downloads/FlatIron/danlab/Subjects/DY_016/2020-09-15/001/alf/_ibl_leftCamera.lightningPose.dc945562-e1b9-42a0-82d4-b0478e56f800.pqt Bytes: 118726324\n"
     ]
    },
    {
     "name": "stderr",
     "output_type": "stream",
     "text": [
      "100%|██████████| 113.22624588012695/113.22624588012695 [02:46<00:00,  1.47s/it]\n",
      "/Users/ineslaranjeira/Documents/Repositories/representation_learning_variability/Functions/video_functions.py:172: FutureWarning: The behavior of DataFrame concatenation with empty or all-NA entries is deprecated. In a future version, this will no longer exclude empty or all-NA columns when determining the result dtypes. To retain the old behavior, exclude the relevant entries before the concat operation.\n",
      "  licks_df = pd.concat([licks_df, temp_df])\n",
      "/Users/ineslaranjeira/Documents/Repositories/representation_learning_variability/Functions/video_functions.py:172: FutureWarning: The behavior of DataFrame concatenation with empty or all-NA entries is deprecated. In a future version, this will no longer exclude empty or all-NA columns when determining the result dtypes. To retain the old behavior, exclude the relevant entries before the concat operation.\n",
      "  licks_df = pd.concat([licks_df, temp_df])\n",
      "No default revision for dataset alf/probe00/pykilosort/#2024-03-22#/clusters.amps.npy; using most recent\n",
      "No default revision for dataset alf/probe01/pykilosort/#2024-05-06#/clusters.metrics.pqt; using most recent\n",
      "No default revision for dataset alf/probe00/pykilosort/#2024-03-22#/clusters.amps.npy; using most recent\n",
      "No default revision for dataset alf/probe01/pykilosort/#2024-05-06#/clusters.metrics.pqt; using most recent\n",
      "local md5 mismatch on dataset: danlab/Subjects/DY_018/2020-10-15/001/alf/_ibl_rightCamera.times.npy\n"
     ]
    },
    {
     "name": "stdout",
     "output_type": "stream",
     "text": [
      "Downloading: /Users/ineslaranjeira/Downloads/FlatIron/danlab/Subjects/DY_018/2020-10-15/001/alf/_ibl_rightCamera.times.ecf2fa51-b23e-43aa-8689-41e9509a4f2d.npy Bytes: 5110024\n"
     ]
    },
    {
     "name": "stderr",
     "output_type": "stream",
     "text": [
      "100%|██████████| 4.873298645019531/4.873298645019531 [00:04<00:00,  1.01it/s]\n",
      "No default revision for dataset alf/probe00/pykilosort/#2024-03-22#/clusters.amps.npy; using most recent\n",
      "No default revision for dataset alf/probe01/pykilosort/#2024-05-06#/clusters.metrics.pqt; using most recent\n"
     ]
    },
    {
     "name": "stdout",
     "output_type": "stream",
     "text": [
      "Downloading: /Users/ineslaranjeira/Downloads/FlatIron/danlab/Subjects/DY_018/2020-10-15/001/alf/_ibl_rightCamera.lightningPose.b114176a-4d02-4232-b34b-d124eac0264a.pqt Bytes: 286448606\n"
     ]
    },
    {
     "name": "stderr",
     "output_type": "stream",
     "text": [
      "100%|██████████| 273.17867851257324/273.17867851257324 [05:39<00:00,  1.24s/it]\n",
      "No default revision for dataset alf/probe00/pykilosort/#2024-03-22#/clusters.amps.npy; using most recent\n",
      "No default revision for dataset alf/probe01/pykilosort/#2024-05-06#/clusters.metrics.pqt; using most recent\n",
      "No default revision for dataset alf/probe00/pykilosort/#2024-03-22#/clusters.amps.npy; using most recent\n",
      "No default revision for dataset alf/probe01/pykilosort/#2024-05-06#/clusters.metrics.pqt; using most recent\n"
     ]
    },
    {
     "name": "stdout",
     "output_type": "stream",
     "text": [
      "Downloading: /Users/ineslaranjeira/Downloads/FlatIron/danlab/Subjects/DY_018/2020-10-15/001/alf/#2025-05-31#/_ibl_leftCamera.lightningPose.7cc1a257-fb9b-4895-a604-10845d40c1e5.pqt Bytes: 124099415\n"
     ]
    },
    {
     "name": "stderr",
     "output_type": "stream",
     "text": [
      "100%|██████████| 118.35042476654053/118.35042476654053 [02:26<00:00,  1.24s/it]\n",
      "/Users/ineslaranjeira/Documents/Repositories/representation_learning_variability/Functions/video_functions.py:172: FutureWarning: The behavior of DataFrame concatenation with empty or all-NA entries is deprecated. In a future version, this will no longer exclude empty or all-NA columns when determining the result dtypes. To retain the old behavior, exclude the relevant entries before the concat operation.\n",
      "  licks_df = pd.concat([licks_df, temp_df])\n",
      "No default revision for dataset alf/probe00/pykilosort/#2024-03-22#/clusters.amps.npy; using most recent\n",
      "No default revision for dataset alf/probe01/pykilosort/#2024-05-06#/clusters.metrics.pqt; using most recent\n",
      "No default revision for dataset alf/probe00/pykilosort/#2024-03-22#/clusters.amps.npy; using most recent\n",
      "No default revision for dataset alf/probe01/pykilosort/#2024-05-06#/clusters.metrics.pqt; using most recent\n"
     ]
    },
    {
     "name": "stdout",
     "output_type": "stream",
     "text": [
      "Downloading: /Users/ineslaranjeira/Downloads/FlatIron/danlab/Subjects/DY_018/2020-10-15/001/alf/_ibl_rightCamera.dlc.09d9f515-1479-4b7e-97ab-cb00edbb11c7.pqt Bytes: 83508536\n"
     ]
    },
    {
     "name": "stderr",
     "output_type": "stream",
     "text": [
      "100%|██████████| 79.63994598388672/79.63994598388672 [01:22<00:00,  1.03s/it]\n",
      "No default revision for dataset alf/probe00/pykilosort/#2024-03-22#/clusters.amps.npy; using most recent\n",
      "No default revision for dataset alf/probe01/pykilosort/#2024-05-06#/clusters.metrics.pqt; using most recent\n",
      "No default revision for dataset alf/probe00/pykilosort/#2024-03-22#/clusters.amps.npy; using most recent\n",
      "No default revision for dataset alf/probe01/pykilosort/#2024-05-06#/clusters.metrics.pqt; using most recent\n",
      "/Users/ineslaranjeira/Documents/Repositories/representation_learning_variability/Functions/video_functions.py:172: FutureWarning: The behavior of DataFrame concatenation with empty or all-NA entries is deprecated. In a future version, this will no longer exclude empty or all-NA columns when determining the result dtypes. To retain the old behavior, exclude the relevant entries before the concat operation.\n",
      "  licks_df = pd.concat([licks_df, temp_df])\n",
      "local md5 mismatch on dataset: danlab/Subjects/DY_018/2020-10-17/001/alf/_ibl_rightCamera.times.npy\n"
     ]
    },
    {
     "name": "stdout",
     "output_type": "stream",
     "text": [
      "Downloading: /Users/ineslaranjeira/Downloads/FlatIron/danlab/Subjects/DY_018/2020-10-17/001/alf/_ibl_rightCamera.times.3d4b39d7-97b6-4cce-9368-b8a006d93534.npy Bytes: 4328304\n"
     ]
    },
    {
     "name": "stderr",
     "output_type": "stream",
     "text": [
      "100%|██████████| 4.1277923583984375/4.1277923583984375 [00:04<00:00,  1.06s/it]\n"
     ]
    },
    {
     "name": "stdout",
     "output_type": "stream",
     "text": [
      "Downloading: /Users/ineslaranjeira/Downloads/FlatIron/danlab/Subjects/DY_018/2020-10-17/001/alf/_ibl_rightCamera.lightningPose.6830b96b-1ce3-487f-a984-c7eff832b5bb.pqt Bytes: 244655392\n"
     ]
    },
    {
     "name": "stderr",
     "output_type": "stream",
     "text": [
      "100%|██████████| 233.32156372070312/233.32156372070312 [02:09<00:00,  1.80it/s]\n",
      "local md5 mismatch on dataset: danlab/Subjects/DY_018/2020-10-17/001/alf/_ibl_leftCamera.lightningPose.pqt\n"
     ]
    },
    {
     "name": "stdout",
     "output_type": "stream",
     "text": [
      "Downloading: /Users/ineslaranjeira/Downloads/FlatIron/danlab/Subjects/DY_018/2020-10-17/001/alf/_ibl_leftCamera.lightningPose.4cb30f63-0377-4b77-9f4d-3b964cf7fafd.pqt Bytes: 108261044\n"
     ]
    },
    {
     "name": "stderr",
     "output_type": "stream",
     "text": [
      "100%|██████████| 103.24577713012695/103.24577713012695 [01:05<00:00,  1.58it/s]\n",
      "/Users/ineslaranjeira/Documents/Repositories/representation_learning_variability/Functions/video_functions.py:172: FutureWarning: The behavior of DataFrame concatenation with empty or all-NA entries is deprecated. In a future version, this will no longer exclude empty or all-NA columns when determining the result dtypes. To retain the old behavior, exclude the relevant entries before the concat operation.\n",
      "  licks_df = pd.concat([licks_df, temp_df])\n"
     ]
    },
    {
     "name": "stdout",
     "output_type": "stream",
     "text": [
      "Downloading: /Users/ineslaranjeira/Downloads/FlatIron/danlab/Subjects/DY_018/2020-10-17/001/alf/_ibl_rightCamera.dlc.d8f22cd9-7978-445b-a689-012fdcc17e3c.pqt Bytes: 71646940\n"
     ]
    },
    {
     "name": "stderr",
     "output_type": "stream",
     "text": [
      "100%|██████████| 68.32784652709961/68.32784652709961 [01:32<00:00,  1.36s/it]\n",
      "/Users/ineslaranjeira/Documents/Repositories/representation_learning_variability/Functions/video_functions.py:172: FutureWarning: The behavior of DataFrame concatenation with empty or all-NA entries is deprecated. In a future version, this will no longer exclude empty or all-NA columns when determining the result dtypes. To retain the old behavior, exclude the relevant entries before the concat operation.\n",
      "  licks_df = pd.concat([licks_df, temp_df])\n",
      "No default revision for dataset alf/probe01/pykilosort/clusters.metrics.pqt; using most recent\n",
      "No default revision for dataset alf/probe01/pykilosort/clusters.metrics.pqt; using most recent\n",
      "local md5 mismatch on dataset: danlab/Subjects/DY_018/2020-10-20/001/alf/_ibl_rightCamera.times.npy\n"
     ]
    },
    {
     "name": "stdout",
     "output_type": "stream",
     "text": [
      "Downloading: /Users/ineslaranjeira/Downloads/FlatIron/danlab/Subjects/DY_018/2020-10-20/001/alf/_ibl_rightCamera.times.01d7b3a0-f723-4622-bb62-a27d5a584ccd.npy Bytes: 4098224\n"
     ]
    },
    {
     "name": "stderr",
     "output_type": "stream",
     "text": [
      "100%|██████████| 3.9083709716796875/3.9083709716796875 [00:03<00:00,  1.05it/s]\n",
      "No default revision for dataset alf/probe01/pykilosort/clusters.metrics.pqt; using most recent\n"
     ]
    },
    {
     "name": "stdout",
     "output_type": "stream",
     "text": [
      "Downloading: /Users/ineslaranjeira/Downloads/FlatIron/danlab/Subjects/DY_018/2020-10-20/001/alf/_ibl_rightCamera.lightningPose.d281bba8-d8d9-4106-b373-02ecb8713e6b.pqt Bytes: 233620858\n"
     ]
    },
    {
     "name": "stderr",
     "output_type": "stream",
     "text": [
      "100%|██████████| 222.7982120513916/222.7982120513916 [04:48<00:00,  1.30s/it]\n",
      "No default revision for dataset alf/probe01/pykilosort/clusters.metrics.pqt; using most recent\n",
      "No default revision for dataset alf/probe01/pykilosort/clusters.metrics.pqt; using most recent\n",
      "local md5 mismatch on dataset: danlab/Subjects/DY_018/2020-10-20/001/alf/_ibl_leftCamera.lightningPose.pqt\n"
     ]
    },
    {
     "name": "stdout",
     "output_type": "stream",
     "text": [
      "Downloading: /Users/ineslaranjeira/Downloads/FlatIron/danlab/Subjects/DY_018/2020-10-20/001/alf/_ibl_leftCamera.lightningPose.86604cdc-4100-494c-aacf-254bb96fd36f.pqt Bytes: 103365096\n"
     ]
    },
    {
     "name": "stderr",
     "output_type": "stream",
     "text": [
      "100%|██████████| 98.5766372680664/98.5766372680664 [02:38<00:00,  1.61s/it]\n",
      "/Users/ineslaranjeira/Documents/Repositories/representation_learning_variability/Functions/video_functions.py:172: FutureWarning: The behavior of DataFrame concatenation with empty or all-NA entries is deprecated. In a future version, this will no longer exclude empty or all-NA columns when determining the result dtypes. To retain the old behavior, exclude the relevant entries before the concat operation.\n",
      "  licks_df = pd.concat([licks_df, temp_df])\n",
      "No default revision for dataset alf/probe01/pykilosort/clusters.metrics.pqt; using most recent\n",
      "No default revision for dataset alf/probe01/pykilosort/clusters.metrics.pqt; using most recent\n"
     ]
    },
    {
     "name": "stdout",
     "output_type": "stream",
     "text": [
      "Downloading: /Users/ineslaranjeira/Downloads/FlatIron/danlab/Subjects/DY_018/2020-10-20/001/alf/_ibl_rightCamera.dlc.304fa6e3-0a4a-4416-8c4f-a4632ede247f.pqt Bytes: 69311011\n"
     ]
    },
    {
     "name": "stderr",
     "output_type": "stream",
     "text": [
      "100%|██████████| 66.10013103485107/66.10013103485107 [01:53<00:00,  1.72s/it]\n",
      "No default revision for dataset alf/probe01/pykilosort/clusters.metrics.pqt; using most recent\n",
      "No default revision for dataset alf/probe01/pykilosort/clusters.metrics.pqt; using most recent\n",
      "/Users/ineslaranjeira/Documents/Repositories/representation_learning_variability/Functions/video_functions.py:172: FutureWarning: The behavior of DataFrame concatenation with empty or all-NA entries is deprecated. In a future version, this will no longer exclude empty or all-NA columns when determining the result dtypes. To retain the old behavior, exclude the relevant entries before the concat operation.\n",
      "  licks_df = pd.concat([licks_df, temp_df])\n",
      "No default revision for dataset alf/probe00/pykilosort/#2024-05-06#/clusters.amps.npy; using most recent\n",
      "No default revision for dataset alf/probe00/pykilosort/#2024-05-06#/clusters.amps.npy; using most recent\n",
      "local md5 mismatch on dataset: danlab/Subjects/DY_020/2020-09-29/001/alf/_ibl_rightCamera.times.npy\n"
     ]
    },
    {
     "name": "stdout",
     "output_type": "stream",
     "text": [
      "Downloading: /Users/ineslaranjeira/Downloads/FlatIron/danlab/Subjects/DY_020/2020-09-29/001/alf/_ibl_rightCamera.times.d4243f51-b71b-45b9-b69c-81e2ebd98861.npy Bytes: 5709264\n"
     ]
    },
    {
     "name": "stderr",
     "output_type": "stream",
     "text": [
      "100%|██████████| 5.4447784423828125/5.4447784423828125 [00:03<00:00,  1.52it/s]\n",
      "No default revision for dataset alf/probe00/pykilosort/#2024-05-06#/clusters.amps.npy; using most recent\n"
     ]
    },
    {
     "name": "stdout",
     "output_type": "stream",
     "text": [
      "Downloading: /Users/ineslaranjeira/Downloads/FlatIron/danlab/Subjects/DY_020/2020-09-29/001/alf/_ibl_rightCamera.lightningPose.5790ed1a-ffb9-4d10-a811-193bea6dc6cd.pqt Bytes: 319495874\n"
     ]
    },
    {
     "name": "stderr",
     "output_type": "stream",
     "text": [
      "100%|██████████| 304.6950092315674/304.6950092315674 [02:37<00:00,  1.93it/s]\n",
      "No default revision for dataset alf/probe00/pykilosort/#2024-05-06#/clusters.amps.npy; using most recent\n",
      "No default revision for dataset alf/probe00/pykilosort/#2024-05-06#/clusters.amps.npy; using most recent\n"
     ]
    },
    {
     "name": "stdout",
     "output_type": "stream",
     "text": [
      "Downloading: /Users/ineslaranjeira/Downloads/FlatIron/danlab/Subjects/DY_020/2020-09-29/001/alf/#2025-05-30#/_ibl_leftCamera.lightningPose.5f088778-548f-4220-ac99-b54bc0d4aa5d.pqt Bytes: 137302970\n"
     ]
    },
    {
     "name": "stderr",
     "output_type": "stream",
     "text": [
      "100%|██████████| 130.94231605529785/130.94231605529785 [02:01<00:00,  1.08it/s]\n",
      "/Users/ineslaranjeira/Documents/Repositories/representation_learning_variability/Functions/video_functions.py:172: FutureWarning: The behavior of DataFrame concatenation with empty or all-NA entries is deprecated. In a future version, this will no longer exclude empty or all-NA columns when determining the result dtypes. To retain the old behavior, exclude the relevant entries before the concat operation.\n",
      "  licks_df = pd.concat([licks_df, temp_df])\n",
      "No default revision for dataset alf/probe00/pykilosort/#2024-05-06#/clusters.amps.npy; using most recent\n",
      "No default revision for dataset alf/probe00/pykilosort/#2024-05-06#/clusters.amps.npy; using most recent\n"
     ]
    },
    {
     "name": "stdout",
     "output_type": "stream",
     "text": [
      "Downloading: /Users/ineslaranjeira/Downloads/FlatIron/danlab/Subjects/DY_020/2020-09-29/001/alf/_ibl_rightCamera.dlc.ba8be0ed-f573-495c-a545-263749a6ade6.pqt Bytes: 90181541\n"
     ]
    },
    {
     "name": "stderr",
     "output_type": "stream",
     "text": [
      "100%|██████████| 86.0038194656372/86.0038194656372 [00:29<00:00,  2.91it/s]\n",
      "No default revision for dataset alf/probe00/pykilosort/#2024-05-06#/clusters.amps.npy; using most recent\n",
      "No default revision for dataset alf/probe00/pykilosort/#2024-05-06#/clusters.amps.npy; using most recent\n",
      "/Users/ineslaranjeira/Documents/Repositories/representation_learning_variability/Functions/video_functions.py:172: FutureWarning: The behavior of DataFrame concatenation with empty or all-NA entries is deprecated. In a future version, this will no longer exclude empty or all-NA columns when determining the result dtypes. To retain the old behavior, exclude the relevant entries before the concat operation.\n",
      "  licks_df = pd.concat([licks_df, temp_df])\n",
      "local md5 mismatch on dataset: danlab/Subjects/DY_020/2020-09-30/001/alf/_ibl_rightCamera.times.npy\n"
     ]
    },
    {
     "name": "stdout",
     "output_type": "stream",
     "text": [
      "Downloading: /Users/ineslaranjeira/Downloads/FlatIron/danlab/Subjects/DY_020/2020-09-30/001/alf/_ibl_rightCamera.times.a915855a-a495-44ee-93c2-e9e75d13ea76.npy Bytes: 5716696\n"
     ]
    },
    {
     "name": "stderr",
     "output_type": "stream",
     "text": [
      "100%|██████████| 5.451866149902344/5.451866149902344 [00:02<00:00,  2.34it/s]\n"
     ]
    },
    {
     "name": "stdout",
     "output_type": "stream",
     "text": [
      "Downloading: /Users/ineslaranjeira/Downloads/FlatIron/danlab/Subjects/DY_020/2020-09-30/001/alf/_ibl_rightCamera.lightningPose.8be46ee1-f2c4-47f5-bb66-868f06cdb473.pqt Bytes: 316105021\n"
     ]
    },
    {
     "name": "stderr",
     "output_type": "stream",
     "text": [
      "100%|██████████| 301.4612398147583/301.4612398147583 [02:01<00:00,  2.47it/s]\n",
      "local md5 mismatch on dataset: danlab/Subjects/DY_020/2020-09-30/001/alf/_ibl_leftCamera.lightningPose.pqt\n"
     ]
    },
    {
     "name": "stdout",
     "output_type": "stream",
     "text": [
      "Downloading: /Users/ineslaranjeira/Downloads/FlatIron/danlab/Subjects/DY_020/2020-09-30/001/alf/_ibl_leftCamera.lightningPose.272ca4ae-72eb-4117-bda8-69b9e0cf69d4.pqt Bytes: 137827195\n"
     ]
    },
    {
     "name": "stderr",
     "output_type": "stream",
     "text": [
      "100%|██████████| 131.44225597381592/131.44225597381592 [01:06<00:00,  1.97it/s]\n",
      "/Users/ineslaranjeira/Documents/Repositories/representation_learning_variability/Functions/video_functions.py:172: FutureWarning: The behavior of DataFrame concatenation with empty or all-NA entries is deprecated. In a future version, this will no longer exclude empty or all-NA columns when determining the result dtypes. To retain the old behavior, exclude the relevant entries before the concat operation.\n",
      "  licks_df = pd.concat([licks_df, temp_df])\n"
     ]
    },
    {
     "name": "stdout",
     "output_type": "stream",
     "text": [
      "Downloading: /Users/ineslaranjeira/Downloads/FlatIron/danlab/Subjects/DY_020/2020-09-30/001/alf/_ibl_rightCamera.dlc.8929359b-bcd5-4788-9974-9be5e7f5b930.pqt Bytes: 88892711\n"
     ]
    },
    {
     "name": "stderr",
     "output_type": "stream",
     "text": [
      "100%|██████████| 84.77469539642334/84.77469539642334 [00:35<00:00,  2.38it/s]\n",
      "/Users/ineslaranjeira/Documents/Repositories/representation_learning_variability/Functions/video_functions.py:172: FutureWarning: The behavior of DataFrame concatenation with empty or all-NA entries is deprecated. In a future version, this will no longer exclude empty or all-NA columns when determining the result dtypes. To retain the old behavior, exclude the relevant entries before the concat operation.\n",
      "  licks_df = pd.concat([licks_df, temp_df])\n",
      "local md5 mismatch on dataset: danlab/Subjects/DY_020/2020-10-01/001/alf/_ibl_rightCamera.times.npy\n"
     ]
    },
    {
     "name": "stdout",
     "output_type": "stream",
     "text": [
      "Downloading: /Users/ineslaranjeira/Downloads/FlatIron/danlab/Subjects/DY_020/2020-10-01/001/alf/_ibl_rightCamera.times.dd41e1cc-c782-4416-907a-d66f788f1b1d.npy Bytes: 6005920\n"
     ]
    },
    {
     "name": "stderr",
     "output_type": "stream",
     "text": [
      "100%|██████████| 5.727691650390625/5.727691650390625 [00:05<00:00,  1.01it/s]\n"
     ]
    },
    {
     "name": "stdout",
     "output_type": "stream",
     "text": [
      "Downloading: /Users/ineslaranjeira/Downloads/FlatIron/danlab/Subjects/DY_020/2020-10-01/001/alf/_ibl_rightCamera.lightningPose.735e33e2-9ff4-4444-927d-6912d8de3a88.pqt Bytes: 336198845\n"
     ]
    },
    {
     "name": "stderr",
     "output_type": "stream",
     "text": [
      "100%|██████████| 320.6242036819458/320.6242036819458 [03:27<00:00,  1.54it/s]\n",
      "local md5 mismatch on dataset: danlab/Subjects/DY_020/2020-10-01/001/alf/_ibl_leftCamera.lightningPose.pqt\n"
     ]
    },
    {
     "name": "stdout",
     "output_type": "stream",
     "text": [
      "Downloading: /Users/ineslaranjeira/Downloads/FlatIron/danlab/Subjects/DY_020/2020-10-01/001/alf/_ibl_leftCamera.lightningPose.d220d0c0-2ff9-4e07-a7dd-97465242302e.pqt Bytes: 144662310\n"
     ]
    },
    {
     "name": "stderr",
     "output_type": "stream",
     "text": [
      "100%|██████████| 137.96072959899902/137.96072959899902 [01:07<00:00,  2.04it/s]\n",
      "/Users/ineslaranjeira/Documents/Repositories/representation_learning_variability/Functions/video_functions.py:172: FutureWarning: The behavior of DataFrame concatenation with empty or all-NA entries is deprecated. In a future version, this will no longer exclude empty or all-NA columns when determining the result dtypes. To retain the old behavior, exclude the relevant entries before the concat operation.\n",
      "  licks_df = pd.concat([licks_df, temp_df])\n"
     ]
    },
    {
     "name": "stdout",
     "output_type": "stream",
     "text": [
      "Downloading: /Users/ineslaranjeira/Downloads/FlatIron/danlab/Subjects/DY_020/2020-10-01/001/alf/_ibl_rightCamera.dlc.a03244ec-ae6a-436a-94b3-0c0ab128152b.pqt Bytes: 96832050\n"
     ]
    },
    {
     "name": "stderr",
     "output_type": "stream",
     "text": [
      "100%|██████████| 92.34623908996582/92.34623908996582 [00:44<00:00,  2.08it/s]\n",
      "/Users/ineslaranjeira/Documents/Repositories/representation_learning_variability/Functions/video_functions.py:172: FutureWarning: The behavior of DataFrame concatenation with empty or all-NA entries is deprecated. In a future version, this will no longer exclude empty or all-NA columns when determining the result dtypes. To retain the old behavior, exclude the relevant entries before the concat operation.\n",
      "  licks_df = pd.concat([licks_df, temp_df])\n",
      "local md5 mismatch on dataset: danlab/Subjects/DY_020/2020-10-02/001/alf/_ibl_rightCamera.times.npy\n"
     ]
    },
    {
     "name": "stdout",
     "output_type": "stream",
     "text": [
      "Downloading: /Users/ineslaranjeira/Downloads/FlatIron/danlab/Subjects/DY_020/2020-10-02/001/alf/_ibl_rightCamera.times.9d96ad37-141f-4484-8395-1e079f0d32ed.npy Bytes: 5765136\n"
     ]
    },
    {
     "name": "stderr",
     "output_type": "stream",
     "text": [
      "100%|██████████| 5.4980621337890625/5.4980621337890625 [00:07<00:00,  1.38s/it]\n"
     ]
    },
    {
     "name": "stdout",
     "output_type": "stream",
     "text": [
      "Downloading: /Users/ineslaranjeira/Downloads/FlatIron/danlab/Subjects/DY_020/2020-10-02/001/alf/_ibl_rightCamera.lightningPose.83c9ab05-bf96-493b-aaae-71a9437f1e0b.pqt Bytes: 323806831\n"
     ]
    },
    {
     "name": "stderr",
     "output_type": "stream",
     "text": [
      "100%|██████████| 308.8062582015991/308.8062582015991 [03:03<00:00,  1.68it/s]\n",
      "local md5 mismatch on dataset: danlab/Subjects/DY_020/2020-10-02/001/alf/_ibl_leftCamera.lightningPose.pqt\n"
     ]
    },
    {
     "name": "stdout",
     "output_type": "stream",
     "text": [
      "Downloading: /Users/ineslaranjeira/Downloads/FlatIron/danlab/Subjects/DY_020/2020-10-02/001/alf/_ibl_leftCamera.lightningPose.fbffb274-c00e-4af1-aa40-672de4620606.pqt Bytes: 140789741\n"
     ]
    },
    {
     "name": "stderr",
     "output_type": "stream",
     "text": [
      "100%|██████████| 134.267560005188/134.267560005188 [01:09<00:00,  1.92it/s]\n",
      "/Users/ineslaranjeira/Documents/Repositories/representation_learning_variability/Functions/video_functions.py:172: FutureWarning: The behavior of DataFrame concatenation with empty or all-NA entries is deprecated. In a future version, this will no longer exclude empty or all-NA columns when determining the result dtypes. To retain the old behavior, exclude the relevant entries before the concat operation.\n",
      "  licks_df = pd.concat([licks_df, temp_df])\n"
     ]
    },
    {
     "name": "stdout",
     "output_type": "stream",
     "text": [
      "Downloading: /Users/ineslaranjeira/Downloads/FlatIron/danlab/Subjects/DY_020/2020-10-02/001/alf/_ibl_rightCamera.dlc.4ab37dc6-9e79-4010-8015-46f179fc0674.pqt Bytes: 94968459\n"
     ]
    },
    {
     "name": "stderr",
     "output_type": "stream",
     "text": [
      "100%|██████████| 90.56898021697998/90.56898021697998 [00:39<00:00,  2.28it/s]\n",
      "/Users/ineslaranjeira/Documents/Repositories/representation_learning_variability/Functions/video_functions.py:172: FutureWarning: The behavior of DataFrame concatenation with empty or all-NA entries is deprecated. In a future version, this will no longer exclude empty or all-NA columns when determining the result dtypes. To retain the old behavior, exclude the relevant entries before the concat operation.\n",
      "  licks_df = pd.concat([licks_df, temp_df])\n",
      "local md5 mismatch on dataset: danlab/Subjects/DY_020/2020-10-03/001/alf/_ibl_rightCamera.times.npy\n"
     ]
    },
    {
     "name": "stdout",
     "output_type": "stream",
     "text": [
      "Downloading: /Users/ineslaranjeira/Downloads/FlatIron/danlab/Subjects/DY_020/2020-10-03/001/alf/_ibl_rightCamera.times.9a48ab39-b00b-48eb-bd7b-8598d08ada6b.npy Bytes: 4892352\n"
     ]
    },
    {
     "name": "stderr",
     "output_type": "stream",
     "text": [
      "100%|██████████| 4.66571044921875/4.66571044921875 [00:03<00:00,  1.40it/s]\n"
     ]
    },
    {
     "name": "stdout",
     "output_type": "stream",
     "text": [
      "Downloading: /Users/ineslaranjeira/Downloads/FlatIron/danlab/Subjects/DY_020/2020-10-03/001/alf/_ibl_rightCamera.lightningPose.d192a942-e70b-450e-94bd-91fc7cdc5d12.pqt Bytes: 275408267\n"
     ]
    },
    {
     "name": "stderr",
     "output_type": "stream",
     "text": [
      "100%|██████████| 262.649790763855/262.649790763855 [02:16<00:00,  1.93it/s]\n",
      "local md5 mismatch on dataset: danlab/Subjects/DY_020/2020-10-03/001/alf/_ibl_leftCamera.lightningPose.pqt\n"
     ]
    },
    {
     "name": "stdout",
     "output_type": "stream",
     "text": [
      "Downloading: /Users/ineslaranjeira/Downloads/FlatIron/danlab/Subjects/DY_020/2020-10-03/001/alf/_ibl_leftCamera.lightningPose.2c52cf98-8bcf-4e9c-bc2f-bb3997919a42.pqt Bytes: 121551138\n"
     ]
    },
    {
     "name": "stderr",
     "output_type": "stream",
     "text": [
      "100%|██████████| 115.92019844055176/115.92019844055176 [01:52<00:00,  1.03it/s]\n",
      "/Users/ineslaranjeira/Documents/Repositories/representation_learning_variability/Functions/video_functions.py:172: FutureWarning: The behavior of DataFrame concatenation with empty or all-NA entries is deprecated. In a future version, this will no longer exclude empty or all-NA columns when determining the result dtypes. To retain the old behavior, exclude the relevant entries before the concat operation.\n",
      "  licks_df = pd.concat([licks_df, temp_df])\n"
     ]
    },
    {
     "name": "stdout",
     "output_type": "stream",
     "text": [
      "Downloading: /Users/ineslaranjeira/Downloads/FlatIron/danlab/Subjects/DY_020/2020-10-03/001/alf/_ibl_rightCamera.dlc.3ac87252-c793-4016-b6ab-5dc01be6ca6d.pqt Bytes: 81707201\n"
     ]
    },
    {
     "name": "stderr",
     "output_type": "stream",
     "text": [
      "100%|██████████| 77.92205905914307/77.92205905914307 [01:11<00:00,  1.09it/s]\n",
      "/Users/ineslaranjeira/Documents/Repositories/representation_learning_variability/Functions/video_functions.py:172: FutureWarning: The behavior of DataFrame concatenation with empty or all-NA entries is deprecated. In a future version, this will no longer exclude empty or all-NA columns when determining the result dtypes. To retain the old behavior, exclude the relevant entries before the concat operation.\n",
      "  licks_df = pd.concat([licks_df, temp_df])\n",
      "local md5 mismatch on dataset: danlab/Subjects/DY_020/2020-10-04/001/alf/_ibl_rightCamera.times.npy\n"
     ]
    },
    {
     "name": "stdout",
     "output_type": "stream",
     "text": [
      "Downloading: /Users/ineslaranjeira/Downloads/FlatIron/danlab/Subjects/DY_020/2020-10-04/001/alf/_ibl_rightCamera.times.5f774f0c-9b3a-4a7a-9c20-f0ff08eb0e9e.npy Bytes: 5598048\n"
     ]
    },
    {
     "name": "stderr",
     "output_type": "stream",
     "text": [
      "100%|██████████| 5.338714599609375/5.338714599609375 [00:05<00:00,  1.09s/it]\n"
     ]
    },
    {
     "name": "stdout",
     "output_type": "stream",
     "text": [
      "Downloading: /Users/ineslaranjeira/Downloads/FlatIron/danlab/Subjects/DY_020/2020-10-04/001/alf/_ibl_rightCamera.lightningPose.f837bbdd-aee5-45c7-a0ab-ad9f35df012f.pqt Bytes: 315440839\n"
     ]
    },
    {
     "name": "stderr",
     "output_type": "stream",
     "text": [
      "100%|██████████| 300.82782649993896/300.82782649993896 [04:21<00:00,  1.15it/s]\n",
      "local md5 mismatch on dataset: danlab/Subjects/DY_020/2020-10-04/001/alf/_ibl_leftCamera.lightningPose.pqt\n"
     ]
    },
    {
     "name": "stdout",
     "output_type": "stream",
     "text": [
      "Downloading: /Users/ineslaranjeira/Downloads/FlatIron/danlab/Subjects/DY_020/2020-10-04/001/alf/_ibl_leftCamera.lightningPose.3d2194c5-f627-48e6-870c-49521527c2ba.pqt Bytes: 138014954\n"
     ]
    },
    {
     "name": "stderr",
     "output_type": "stream",
     "text": [
      "100%|██████████| 131.62131690979004/131.62131690979004 [02:14<00:00,  1.02s/it]\n",
      "/Users/ineslaranjeira/Documents/Repositories/representation_learning_variability/Functions/video_functions.py:172: FutureWarning: The behavior of DataFrame concatenation with empty or all-NA entries is deprecated. In a future version, this will no longer exclude empty or all-NA columns when determining the result dtypes. To retain the old behavior, exclude the relevant entries before the concat operation.\n",
      "  licks_df = pd.concat([licks_df, temp_df])\n"
     ]
    },
    {
     "name": "stdout",
     "output_type": "stream",
     "text": [
      "Downloading: /Users/ineslaranjeira/Downloads/FlatIron/danlab/Subjects/DY_020/2020-10-04/001/alf/_ibl_rightCamera.dlc.d1e5423b-ce31-4f59-b3e7-5f8cf6c1c190.pqt Bytes: 94480453\n"
     ]
    },
    {
     "name": "stderr",
     "output_type": "stream",
     "text": [
      "100%|██████████| 90.10358142852783/90.10358142852783 [01:44<00:00,  1.16s/it]\n",
      "/Users/ineslaranjeira/Documents/Repositories/representation_learning_variability/Functions/video_functions.py:172: FutureWarning: The behavior of DataFrame concatenation with empty or all-NA entries is deprecated. In a future version, this will no longer exclude empty or all-NA columns when determining the result dtypes. To retain the old behavior, exclude the relevant entries before the concat operation.\n",
      "  licks_df = pd.concat([licks_df, temp_df])\n",
      "local md5 mismatch on dataset: danlab/Subjects/DY_020/2020-10-05/001/alf/_ibl_rightCamera.times.npy\n"
     ]
    },
    {
     "name": "stdout",
     "output_type": "stream",
     "text": [
      "Downloading: /Users/ineslaranjeira/Downloads/FlatIron/danlab/Subjects/DY_020/2020-10-05/001/alf/_ibl_rightCamera.times.16e8a5fb-b21f-49b0-9181-1f50d1f0a1e5.npy Bytes: 5282872\n"
     ]
    },
    {
     "name": "stderr",
     "output_type": "stream",
     "text": [
      "100%|██████████| 5.038139343261719/5.038139343261719 [00:04<00:00,  1.12it/s]\n"
     ]
    },
    {
     "name": "stdout",
     "output_type": "stream",
     "text": [
      "Downloading: /Users/ineslaranjeira/Downloads/FlatIron/danlab/Subjects/DY_020/2020-10-05/001/alf/_ibl_rightCamera.lightningPose.d5db1134-142a-4243-86d5-e87039541170.pqt Bytes: 297123537\n"
     ]
    },
    {
     "name": "stderr",
     "output_type": "stream",
     "text": [
      "100%|██████████| 283.35908603668213/283.35908603668213 [04:35<00:00,  1.03it/s]\n",
      "local md5 mismatch on dataset: danlab/Subjects/DY_020/2020-10-05/001/alf/_ibl_leftCamera.lightningPose.pqt\n"
     ]
    },
    {
     "name": "stdout",
     "output_type": "stream",
     "text": [
      "Downloading: /Users/ineslaranjeira/Downloads/FlatIron/danlab/Subjects/DY_020/2020-10-05/001/alf/_ibl_leftCamera.lightningPose.ced9f3f9-3d21-4e51-9bce-a052c347487a.pqt Bytes: 130722052\n"
     ]
    },
    {
     "name": "stderr",
     "output_type": "stream",
     "text": [
      "100%|██████████| 124.66626358032227/124.66626358032227 [02:14<00:00,  1.08s/it]\n",
      "/Users/ineslaranjeira/Documents/Repositories/representation_learning_variability/Functions/video_functions.py:172: FutureWarning: The behavior of DataFrame concatenation with empty or all-NA entries is deprecated. In a future version, this will no longer exclude empty or all-NA columns when determining the result dtypes. To retain the old behavior, exclude the relevant entries before the concat operation.\n",
      "  licks_df = pd.concat([licks_df, temp_df])\n"
     ]
    },
    {
     "name": "stdout",
     "output_type": "stream",
     "text": [
      "Downloading: /Users/ineslaranjeira/Downloads/FlatIron/danlab/Subjects/DY_020/2020-10-05/001/alf/_ibl_rightCamera.dlc.30a281c8-7217-418c-aa9d-6fc0f959954a.pqt Bytes: 92795559\n"
     ]
    },
    {
     "name": "stderr",
     "output_type": "stream",
     "text": [
      "100%|██████████| 88.49674129486084/88.49674129486084 [01:37<00:00,  1.10s/it]\n",
      "/Users/ineslaranjeira/Documents/Repositories/representation_learning_variability/Functions/video_functions.py:172: FutureWarning: The behavior of DataFrame concatenation with empty or all-NA entries is deprecated. In a future version, this will no longer exclude empty or all-NA columns when determining the result dtypes. To retain the old behavior, exclude the relevant entries before the concat operation.\n",
      "  licks_df = pd.concat([licks_df, temp_df])\n"
     ]
    },
    {
     "name": "stdout",
     "output_type": "stream",
     "text": [
      "Missing data for mouse a4a74102-2af5-45dc-9e41-ef7f5aed88be\n"
     ]
    },
    {
     "name": "stderr",
     "output_type": "stream",
     "text": [
      "No default revision for dataset alf/probe00/pykilosort/#2022-10-31#/clusters.amps.npy; using most recent\n",
      "No default revision for dataset alf/probe00/pykilosort/#2022-10-31#/clusters.amps.npy; using most recent\n",
      "No default revision for dataset alf/probe00/pykilosort/#2022-10-31#/clusters.amps.npy; using most recent\n"
     ]
    },
    {
     "name": "stdout",
     "output_type": "stream",
     "text": [
      "Downloading: /Users/ineslaranjeira/Downloads/FlatIron/mainenlab/Subjects/ZFM-02369/2021-05-19/001/alf/_ibl_rightCamera.lightningPose.333a4ff1-6d0e-455e-9448-912e5066d73e.pqt Bytes: 410865267\n"
     ]
    },
    {
     "name": "stderr",
     "output_type": "stream",
     "text": [
      "100%|██████████| 391.8316526412964/391.8316526412964 [05:25<00:00,  1.20it/s]\n"
     ]
    },
    {
     "name": "stdout",
     "output_type": "stream",
     "text": [
      "Missing data for mouse 72cb5550-43b4-4ef0-add5-e4adfdfb5e02\n",
      "Downloading: /Users/ineslaranjeira/Downloads/FlatIron/mainenlab/Subjects/ZFM-02370/2021-04-27/001/alf/_ibl_rightCamera.lightningPose.4ee4d52a-cd35-421a-b1b5-9713c95ee116.pqt Bytes: 256626495\n"
     ]
    },
    {
     "name": "stderr",
     "output_type": "stream",
     "text": [
      "100%|██████████| 244.73809719085693/244.73809719085693 [02:59<00:00,  1.36it/s]\n"
     ]
    },
    {
     "name": "stdout",
     "output_type": "stream",
     "text": [
      "Missing data for mouse d0c91c3c-8cbb-4929-8657-31f18bffc294\n",
      "Downloading: /Users/ineslaranjeira/Downloads/FlatIron/mainenlab/Subjects/ZFM-02370/2021-04-28/001/alf/_ibl_rightCamera.lightningPose.baa2d33e-ef0c-4b43-b880-45fa5d832dfb.pqt Bytes: 281828157\n"
     ]
    },
    {
     "name": "stderr",
     "output_type": "stream",
     "text": [
      "100%|██████████| 268.7722749710083/268.7722749710083 [03:23<00:00,  1.32it/s]\n"
     ]
    },
    {
     "name": "stdout",
     "output_type": "stream",
     "text": [
      "Missing data for mouse 6f6d2c8e-28be-49f4-ae4d-06be2d3148c1\n"
     ]
    },
    {
     "name": "stderr",
     "output_type": "stream",
     "text": [
      "No default revision for dataset alf/probe00/pykilosort/#2024-03-22#/clusters.amps.npy; using most recent\n",
      "No default revision for dataset alf/probe00/pykilosort/#2024-03-22#/clusters.amps.npy; using most recent\n",
      "No default revision for dataset alf/probe00/pykilosort/#2024-03-22#/clusters.amps.npy; using most recent\n"
     ]
    },
    {
     "name": "stdout",
     "output_type": "stream",
     "text": [
      "Downloading: /Users/ineslaranjeira/Downloads/FlatIron/mainenlab/Subjects/ZFM-02372/2021-06-01/002/alf/_ibl_rightCamera.lightningPose.9d254644-1f5f-419a-8c1d-29078f7a5c1b.pqt Bytes: 313628502\n"
     ]
    },
    {
     "name": "stderr",
     "output_type": "stream",
     "text": [
      "100%|██████████| 299.0994472503662/299.0994472503662 [03:13<00:00,  1.54it/s]\n"
     ]
    },
    {
     "name": "stdout",
     "output_type": "stream",
     "text": [
      "Missing data for mouse 88224abb-5746-431f-9c17-17d7ef806e6a\n",
      "Downloading: /Users/ineslaranjeira/Downloads/FlatIron/mainenlab/Subjects/ZFM-02372/2021-06-02/002/alf/_ibl_rightCamera.lightningPose.2b65066a-749f-4246-93bd-e7985caf7a5c.pqt Bytes: 288692914\n"
     ]
    },
    {
     "name": "stderr",
     "output_type": "stream",
     "text": [
      "100%|██████████| 275.3190174102783/275.3190174102783 [03:03<00:00,  1.50it/s]\n"
     ]
    },
    {
     "name": "stdout",
     "output_type": "stream",
     "text": [
      "Missing data for mouse 7cec9792-b8f9-4878-be7e-f08103dc0323\n"
     ]
    },
    {
     "name": "stderr",
     "output_type": "stream",
     "text": [
      "/var/folders/nt/d2j3zp9d1xzb8wgfrw81j0c40000gn/T/ipykernel_70817/3821151616.py:10: RuntimeWarning: More than 20 figures have been opened. Figures created through the pyplot interface (`matplotlib.pyplot.figure`) are retained until explicitly closed and may consume too much memory. (To control this warning, see the rcParam `figure.max_open_warning`). Consider using `matplotlib.pyplot.close()`.\n",
      "  fig, ax = plt.subplots(nrows=2, ncols=1, sharex=True, sharey=True, figsize=[7, 7])\n",
      "No default revision for dataset alf/probe00/pykilosort/#2024-03-22#/clusters.amps.npy; using most recent\n",
      "No default revision for dataset alf/probe00/pykilosort/#2024-03-22#/clusters.amps.npy; using most recent\n",
      "No default revision for dataset alf/probe00/pykilosort/#2024-03-22#/clusters.amps.npy; using most recent\n"
     ]
    },
    {
     "name": "stdout",
     "output_type": "stream",
     "text": [
      "Downloading: /Users/ineslaranjeira/Downloads/FlatIron/mainenlab/Subjects/ZFM-02373/2021-06-23/001/alf/_ibl_rightCamera.lightningPose.b2ca6059-66af-47ee-8e57-488929b1184d.pqt Bytes: 263033699\n"
     ]
    },
    {
     "name": "stderr",
     "output_type": "stream",
     "text": [
      "100%|██████████| 250.84848308563232/250.84848308563232 [04:35<00:00,  1.10s/it]\n"
     ]
    },
    {
     "name": "stdout",
     "output_type": "stream",
     "text": [
      "Missing data for mouse 0802ced5-33a3-405e-8336-b65ebc5cb07c\n"
     ]
    },
    {
     "name": "stderr",
     "output_type": "stream",
     "text": [
      "No default revision for dataset alf/probe00/pykilosort/#2024-03-12#/clusters.metrics.pqt; using most recent\n",
      "No default revision for dataset alf/probe01/pykilosort/#2024-03-12#/clusters.metrics.pqt; using most recent\n",
      "No default revision for dataset alf/probe00/pykilosort/#2024-03-12#/clusters.metrics.pqt; using most recent\n",
      "No default revision for dataset alf/probe01/pykilosort/#2024-03-12#/clusters.metrics.pqt; using most recent\n",
      "No default revision for dataset alf/probe00/pykilosort/#2024-03-12#/clusters.metrics.pqt; using most recent\n",
      "No default revision for dataset alf/probe01/pykilosort/#2024-03-12#/clusters.metrics.pqt; using most recent\n"
     ]
    },
    {
     "name": "stdout",
     "output_type": "stream",
     "text": [
      "Downloading: /Users/ineslaranjeira/Downloads/FlatIron/mainenlab/Subjects/ZFM-04308/2022-07-26/001/alf/_ibl_rightCamera.lightningPose.78666cb1-cb1e-4d90-8313-841fa8204df6.pqt Bytes: 293708774\n"
     ]
    },
    {
     "name": "stderr",
     "output_type": "stream",
     "text": [
      "100%|██████████| 280.1025142669678/280.1025142669678 [03:08<00:00,  1.48it/s]\n"
     ]
    },
    {
     "name": "stdout",
     "output_type": "stream",
     "text": [
      "Missing data for mouse 239dd3c9-35f3-4462-95ee-91b822a22e6b\n"
     ]
    },
    {
     "name": "stderr",
     "output_type": "stream",
     "text": [
      "No default revision for dataset alf/probe01/pykilosort/#2024-03-12#/clusters.metrics.pqt; using most recent\n",
      "No default revision for dataset alf/probe01/pykilosort/#2024-03-12#/clusters.metrics.pqt; using most recent\n",
      "No default revision for dataset alf/probe01/pykilosort/#2024-03-12#/clusters.metrics.pqt; using most recent\n"
     ]
    },
    {
     "name": "stdout",
     "output_type": "stream",
     "text": [
      "Downloading: /Users/ineslaranjeira/Downloads/FlatIron/mainenlab/Subjects/ZFM-04308/2022-07-27/001/alf/_ibl_rightCamera.lightningPose.e4967c65-ddf1-4eed-8f10-6c4015ba1809.pqt Bytes: 320031294\n"
     ]
    },
    {
     "name": "stderr",
     "output_type": "stream",
     "text": [
      "100%|██████████| 305.2056255340576/305.2056255340576 [04:00<00:00,  1.27it/s]\n"
     ]
    },
    {
     "name": "stdout",
     "output_type": "stream",
     "text": [
      "Missing data for mouse 9dd72e52-5393-4c08-9eca-f7dace2e59f6\n",
      "Downloading: /Users/ineslaranjeira/Downloads/FlatIron/mrsicflogellab/Subjects/SWC_039/2020-09-10/001/alf/_ibl_rightCamera.lightningPose.4a8031cb-6121-414e-86c7-1bf706dd718b.pqt Bytes: 276109121\n"
     ]
    },
    {
     "name": "stderr",
     "output_type": "stream",
     "text": [
      "100%|██████████| 263.31817722320557/263.31817722320557 [03:08<00:00,  1.40it/s]\n"
     ]
    },
    {
     "name": "stdout",
     "output_type": "stream",
     "text": [
      "Missing data for mouse 768a371d-7e88-47f8-bf21-4a6a6570dd6e\n"
     ]
    },
    {
     "name": "stderr",
     "output_type": "stream",
     "text": [
      "local md5 mismatch on dataset: mrsicflogellab/Subjects/SWC_052/2020-10-17/001/alf/_ibl_leftCamera.lightningPose.pqt\n"
     ]
    },
    {
     "name": "stdout",
     "output_type": "stream",
     "text": [
      "Missing data for mouse 45ef6691-7b80-4a43-bd1a-85fc00851ae8\n"
     ]
    },
    {
     "name": "stderr",
     "output_type": "stream",
     "text": [
      "No default revision for dataset alf/probe00/pykilosort/#2024-05-06#/clusters.metrics.pqt; using most recent\n"
     ]
    },
    {
     "name": "stdout",
     "output_type": "stream",
     "text": [
      "Downloading: /Users/ineslaranjeira/Downloads/FlatIron/mrsicflogellab/Subjects/SWC_052/2020-10-18/001/alf/#2025-03-03#/_ibl_trials.stimOff_times.05216144-1e30-40fc-a23d-42b3e2cb6c82.npy Bytes: 4280Downloading: /Users/ineslaranjeira/Downloads/FlatIron/mrsicflogellab/Subjects/SWC_052/2020-10-18/001/alf/#2025-03-03#/_ibl_trials.stimOffTrigger_times.637d8f4d-9498-439f-9853-531502126d98.npy Bytes: 4280\n",
      "Downloading: /Users/ineslaranjeira/Downloads/FlatIron/mrsicflogellab/Subjects/SWC_052/2020-10-18/001/alf/#2025-03-03#/_ibl_trials.table.de6b4214-ea8b-48d7-b702-edcc1d07b979.pqt Bytes: 44571\n",
      "\n",
      "Downloading: /Users/ineslaranjeira/Downloads/FlatIron/mrsicflogellab/Subjects/SWC_052/2020-10-18/001/alf/#2025-03-03#/_ibl_trials.stimOnTrigger_times.9ce78cad-32e4-4da0-9bab-7cbc45d7626e.npy Bytes: 4280\n"
     ]
    },
    {
     "name": "stderr",
     "output_type": "stream",
     "text": [
      "  0%|          | 0/0.04250621795654297 [00:00<?, ?it/s]\n",
      "\u001b[A\n",
      "\n",
      "100%|██████████| 0.00408172607421875/0.00408172607421875 [00:00<00:00,  4.18s/it]\n",
      "100%|██████████| 0.00408172607421875/0.00408172607421875 [00:00<00:00,  2.88s/it]\n",
      "100%|██████████| 0.00408172607421875/0.00408172607421875 [00:00<00:00,  1.86s/it]\n",
      "100%|██████████| 0.04250621795654297/0.04250621795654297 [00:00<00:00,  6.13s/it]\n",
      "No default revision for dataset alf/probe00/pykilosort/#2024-05-06#/clusters.metrics.pqt; using most recent\n"
     ]
    },
    {
     "name": "stdout",
     "output_type": "stream",
     "text": [
      "Downloading: /Users/ineslaranjeira/Downloads/FlatIron/mrsicflogellab/Subjects/SWC_052/2020-10-18/001/alf/_ibl_rightCamera.times.8dcaf1ff-c79b-4868-a7c8-71ff83508c60.npy Bytes: 4585496\n"
     ]
    },
    {
     "name": "stderr",
     "output_type": "stream",
     "text": [
      "100%|██████████| 4.373069763183594/4.373069763183594 [00:02<00:00,  1.46it/s]\n",
      "No default revision for dataset alf/probe00/pykilosort/#2024-05-06#/clusters.metrics.pqt; using most recent\n"
     ]
    },
    {
     "name": "stdout",
     "output_type": "stream",
     "text": [
      "Downloading: /Users/ineslaranjeira/Downloads/FlatIron/mrsicflogellab/Subjects/SWC_052/2020-10-18/001/alf/_ibl_rightCamera.lightningPose.fd5a3caa-0594-4d06-994f-51b608226c8e.pqt Bytes: 261319148\n"
     ]
    },
    {
     "name": "stderr",
     "output_type": "stream",
     "text": [
      "100%|██████████| 249.21335983276367/249.21335983276367 [02:50<00:00,  1.46it/s]\n",
      "No default revision for dataset alf/probe00/pykilosort/#2024-05-06#/clusters.metrics.pqt; using most recent\n",
      "No default revision for dataset alf/probe00/pykilosort/#2024-05-06#/clusters.metrics.pqt; using most recent\n",
      "local md5 mismatch on dataset: mrsicflogellab/Subjects/SWC_052/2020-10-18/001/alf/_ibl_leftCamera.lightningPose.pqt\n"
     ]
    },
    {
     "name": "stdout",
     "output_type": "stream",
     "text": [
      "Downloading: /Users/ineslaranjeira/Downloads/FlatIron/mrsicflogellab/Subjects/SWC_052/2020-10-18/001/alf/_ibl_leftCamera.lightningPose.17e9557f-8a21-4573-b0db-50726db61a26.pqt Bytes: 114250509\n"
     ]
    },
    {
     "name": "stderr",
     "output_type": "stream",
     "text": [
      "100%|██████████| 108.95777606964111/108.95777606964111 [00:59<00:00,  1.84it/s]\n",
      "/Users/ineslaranjeira/Documents/Repositories/representation_learning_variability/Functions/video_functions.py:172: FutureWarning: The behavior of DataFrame concatenation with empty or all-NA entries is deprecated. In a future version, this will no longer exclude empty or all-NA columns when determining the result dtypes. To retain the old behavior, exclude the relevant entries before the concat operation.\n",
      "  licks_df = pd.concat([licks_df, temp_df])\n",
      "No default revision for dataset alf/probe00/pykilosort/#2024-05-06#/clusters.metrics.pqt; using most recent\n",
      "No default revision for dataset alf/probe00/pykilosort/#2024-05-06#/clusters.metrics.pqt; using most recent\n"
     ]
    },
    {
     "name": "stdout",
     "output_type": "stream",
     "text": [
      "Downloading: /Users/ineslaranjeira/Downloads/FlatIron/mrsicflogellab/Subjects/SWC_052/2020-10-18/001/alf/_ibl_rightCamera.dlc.efad5127-9619-484c-b854-b19f9374f5cb.pqt Bytes: 79775973\n"
     ]
    },
    {
     "name": "stderr",
     "output_type": "stream",
     "text": [
      "100%|██████████| 76.08029651641846/76.08029651641846 [00:50<00:00,  1.51it/s]\n",
      "No default revision for dataset alf/probe00/pykilosort/#2024-05-06#/clusters.metrics.pqt; using most recent\n",
      "No default revision for dataset alf/probe00/pykilosort/#2024-05-06#/clusters.metrics.pqt; using most recent\n",
      "/Users/ineslaranjeira/Documents/Repositories/representation_learning_variability/Functions/video_functions.py:172: FutureWarning: The behavior of DataFrame concatenation with empty or all-NA entries is deprecated. In a future version, this will no longer exclude empty or all-NA columns when determining the result dtypes. To retain the old behavior, exclude the relevant entries before the concat operation.\n",
      "  licks_df = pd.concat([licks_df, temp_df])\n"
     ]
    },
    {
     "name": "stdout",
     "output_type": "stream",
     "text": [
      "Downloading: /Users/ineslaranjeira/Downloads/FlatIron/mrsicflogellab/Subjects/SWC_052/2020-10-19/001/alf/#2025-03-03#/_ibl_trials.table.f9101417-c046-4b26-b5de-ce8b53d43073.pqt Bytes: 41250\n"
     ]
    },
    {
     "name": "stderr",
     "output_type": "stream",
     "text": [
      "  0%|          | 0/0.03933906555175781 [00:00<?, ?it/s]"
     ]
    },
    {
     "name": "stdout",
     "output_type": "stream",
     "text": [
      "Downloading: /Users/ineslaranjeira/Downloads/FlatIron/mrsicflogellab/Subjects/SWC_052/2020-10-19/001/alf/#2025-03-03#/_ibl_trials.stimOff_times.bbc57a50-9103-4e7f-9535-e048b54c440e.npy Bytes: 3936\n"
     ]
    },
    {
     "name": "stderr",
     "output_type": "stream",
     "text": [
      "100%|██████████| 0.003753662109375/0.003753662109375 [00:00<00:00,  1.14it/s]\n"
     ]
    },
    {
     "name": "stdout",
     "output_type": "stream",
     "text": [
      "Downloading: /Users/ineslaranjeira/Downloads/FlatIron/mrsicflogellab/Subjects/SWC_052/2020-10-19/001/alf/#2025-03-03#/_ibl_trials.stimOffTrigger_times.79a48d2c-6691-4e4d-b160-ae996c84547e.npy Bytes: 3936Downloading: /Users/ineslaranjeira/Downloads/FlatIron/mrsicflogellab/Subjects/SWC_052/2020-10-19/001/alf/#2025-03-03#/_ibl_trials.stimOnTrigger_times.612431fd-0cf6-4845-883d-77c0697026eb.npy Bytes: 3936\n",
      "\n"
     ]
    },
    {
     "name": "stderr",
     "output_type": "stream",
     "text": [
      "\n",
      "100%|██████████| 0.003753662109375/0.003753662109375 [00:00<00:00,  1.53it/s]\n",
      "100%|██████████| 0.003753662109375/0.003753662109375 [00:00<00:00,  1.98s/it]\n",
      "100%|██████████| 0.03933906555175781/0.03933906555175781 [00:00<00:00,  7.59s/it]\n"
     ]
    },
    {
     "name": "stdout",
     "output_type": "stream",
     "text": [
      "Downloading: /Users/ineslaranjeira/Downloads/FlatIron/mrsicflogellab/Subjects/SWC_052/2020-10-19/001/alf/_ibl_rightCamera.times.874c0539-6dd0-4b91-afd2-e2ff5b8dba35.npy Bytes: 5589552\n"
     ]
    },
    {
     "name": "stderr",
     "output_type": "stream",
     "text": [
      "100%|██████████| 5.3306121826171875/5.3306121826171875 [00:02<00:00,  2.17it/s]\n"
     ]
    },
    {
     "name": "stdout",
     "output_type": "stream",
     "text": [
      "Downloading: /Users/ineslaranjeira/Downloads/FlatIron/mrsicflogellab/Subjects/SWC_052/2020-10-19/001/alf/_ibl_rightCamera.lightningPose.bc8765d4-6c78-408c-9683-e289dfbb6f0b.pqt Bytes: 316710984\n"
     ]
    },
    {
     "name": "stderr",
     "output_type": "stream",
     "text": [
      "100%|██████████| 302.0391311645508/302.0391311645508 [02:34<00:00,  1.95it/s]\n",
      "local md5 mismatch on dataset: mrsicflogellab/Subjects/SWC_052/2020-10-19/001/alf/_ibl_leftCamera.lightningPose.pqt\n"
     ]
    },
    {
     "name": "stdout",
     "output_type": "stream",
     "text": [
      "Downloading: /Users/ineslaranjeira/Downloads/FlatIron/mrsicflogellab/Subjects/SWC_052/2020-10-19/001/alf/_ibl_leftCamera.lightningPose.9f701827-13b0-4382-a01c-dafe497db52e.pqt Bytes: 135370883\n"
     ]
    },
    {
     "name": "stderr",
     "output_type": "stream",
     "text": [
      "100%|██████████| 129.09973430633545/129.09973430633545 [01:02<00:00,  2.08it/s]\n",
      "/Users/ineslaranjeira/Documents/Repositories/representation_learning_variability/Functions/video_functions.py:172: FutureWarning: The behavior of DataFrame concatenation with empty or all-NA entries is deprecated. In a future version, this will no longer exclude empty or all-NA columns when determining the result dtypes. To retain the old behavior, exclude the relevant entries before the concat operation.\n",
      "  licks_df = pd.concat([licks_df, temp_df])\n"
     ]
    },
    {
     "name": "stdout",
     "output_type": "stream",
     "text": [
      "Downloading: /Users/ineslaranjeira/Downloads/FlatIron/mrsicflogellab/Subjects/SWC_052/2020-10-19/001/alf/_ibl_rightCamera.dlc.46d14566-21fe-48d0-a7c3-df1e7de355f4.pqt Bytes: 97761284\n"
     ]
    },
    {
     "name": "stderr",
     "output_type": "stream",
     "text": [
      "100%|██████████| 93.23242568969727/93.23242568969727 [00:41<00:00,  2.26it/s]\n",
      "/Users/ineslaranjeira/Documents/Repositories/representation_learning_variability/Functions/video_functions.py:172: FutureWarning: The behavior of DataFrame concatenation with empty or all-NA entries is deprecated. In a future version, this will no longer exclude empty or all-NA columns when determining the result dtypes. To retain the old behavior, exclude the relevant entries before the concat operation.\n",
      "  licks_df = pd.concat([licks_df, temp_df])\n"
     ]
    },
    {
     "name": "stdout",
     "output_type": "stream",
     "text": [
      "Downloading: /Users/ineslaranjeira/Downloads/FlatIron/mrsicflogellab/Subjects/SWC_052/2020-10-20/001/alf/#2025-03-03#/_ibl_trials.stimOff_times.9a39a119-ad8d-42dd-a740-8fb55622421d.npy Bytes: 5480\n"
     ]
    },
    {
     "name": "stderr",
     "output_type": "stream",
     "text": [
      "100%|██████████| 0.00522613525390625/0.00522613525390625 [00:00<00:00,  1.13it/s]\n"
     ]
    },
    {
     "name": "stdout",
     "output_type": "stream",
     "text": [
      "Downloading: /Users/ineslaranjeira/Downloads/FlatIron/mrsicflogellab/Subjects/SWC_052/2020-10-20/001/alf/#2025-03-03#/_ibl_trials.stimOffTrigger_times.b4809da4-0beb-43dd-9030-ea94377366ce.npy Bytes: 5480\n"
     ]
    },
    {
     "name": "stderr",
     "output_type": "stream",
     "text": [
      "100%|██████████| 0.00522613525390625/0.00522613525390625 [00:00<00:00,  1.13it/s]\n"
     ]
    },
    {
     "name": "stdout",
     "output_type": "stream",
     "text": [
      "Downloading: /Users/ineslaranjeira/Downloads/FlatIron/mrsicflogellab/Subjects/SWC_052/2020-10-20/001/alf/#2025-03-03#/_ibl_trials.table.91859499-3fdc-4d3a-9daf-ed1f14722a67.pqt Bytes: 54417\n"
     ]
    },
    {
     "name": "stderr",
     "output_type": "stream",
     "text": [
      "  0%|          | 0/0.051896095275878906 [00:00<?, ?it/s]"
     ]
    },
    {
     "name": "stdout",
     "output_type": "stream",
     "text": [
      "Downloading: /Users/ineslaranjeira/Downloads/FlatIron/mrsicflogellab/Subjects/SWC_052/2020-10-20/001/alf/#2025-03-03#/_ibl_trials.stimOnTrigger_times.d2bf8807-aed5-43a9-81cf-83d29df1f7c4.npy Bytes: 5480\n"
     ]
    },
    {
     "name": "stderr",
     "output_type": "stream",
     "text": [
      "100%|██████████| 0.00522613525390625/0.00522613525390625 [00:00<00:00,  1.01s/it]\n",
      "100%|██████████| 0.051896095275878906/0.051896095275878906 [00:00<00:00,  7.27s/it]\n"
     ]
    },
    {
     "name": "stdout",
     "output_type": "stream",
     "text": [
      "Downloading: /Users/ineslaranjeira/Downloads/FlatIron/mrsicflogellab/Subjects/SWC_052/2020-10-20/001/alf/_ibl_rightCamera.times.95739700-819f-4586-a4c2-87cd16295d25.npy Bytes: 6637096\n"
     ]
    },
    {
     "name": "stderr",
     "output_type": "stream",
     "text": [
      "100%|██████████| 6.329627990722656/6.329627990722656 [00:03<00:00,  1.65it/s]\n"
     ]
    },
    {
     "name": "stdout",
     "output_type": "stream",
     "text": [
      "Downloading: /Users/ineslaranjeira/Downloads/FlatIron/mrsicflogellab/Subjects/SWC_052/2020-10-20/001/alf/_ibl_rightCamera.lightningPose.334eb5cb-9d00-4ac5-a583-e61592482cc4.pqt Bytes: 371109084\n"
     ]
    },
    {
     "name": "stderr",
     "output_type": "stream",
     "text": [
      "100%|██████████| 353.9172019958496/353.9172019958496 [03:11<00:00,  1.84it/s]\n",
      "local md5 mismatch on dataset: mrsicflogellab/Subjects/SWC_052/2020-10-20/001/alf/_ibl_leftCamera.lightningPose.pqt\n"
     ]
    },
    {
     "name": "stdout",
     "output_type": "stream",
     "text": [
      "Downloading: /Users/ineslaranjeira/Downloads/FlatIron/mrsicflogellab/Subjects/SWC_052/2020-10-20/001/alf/_ibl_leftCamera.lightningPose.42e0b3ec-a777-4441-9c99-e3141ee5c1de.pqt Bytes: 157288094\n"
     ]
    },
    {
     "name": "stderr",
     "output_type": "stream",
     "text": [
      "100%|██████████| 150.001615524292/150.001615524292 [01:19<00:00,  1.88it/s]\n",
      "/Users/ineslaranjeira/Documents/Repositories/representation_learning_variability/Functions/video_functions.py:172: FutureWarning: The behavior of DataFrame concatenation with empty or all-NA entries is deprecated. In a future version, this will no longer exclude empty or all-NA columns when determining the result dtypes. To retain the old behavior, exclude the relevant entries before the concat operation.\n",
      "  licks_df = pd.concat([licks_df, temp_df])\n"
     ]
    },
    {
     "name": "stdout",
     "output_type": "stream",
     "text": [
      "Downloading: /Users/ineslaranjeira/Downloads/FlatIron/mrsicflogellab/Subjects/SWC_052/2020-10-20/001/alf/_ibl_rightCamera.dlc.ea53b0e8-1083-47da-90e7-75b6d6c155d0.pqt Bytes: 112558871\n"
     ]
    },
    {
     "name": "stderr",
     "output_type": "stream",
     "text": [
      "100%|██████████| 107.34450435638428/107.34450435638428 [02:06<00:00,  1.18s/it]\n",
      "/Users/ineslaranjeira/Documents/Repositories/representation_learning_variability/Functions/video_functions.py:172: FutureWarning: The behavior of DataFrame concatenation with empty or all-NA entries is deprecated. In a future version, this will no longer exclude empty or all-NA columns when determining the result dtypes. To retain the old behavior, exclude the relevant entries before the concat operation.\n",
      "  licks_df = pd.concat([licks_df, temp_df])\n",
      "No default revision for dataset alf/probe00/pykilosort/#2024-03-12#/clusters.metrics.pqt; using most recent\n"
     ]
    },
    {
     "name": "stdout",
     "output_type": "stream",
     "text": [
      "Downloading: /Users/ineslaranjeira/Downloads/FlatIron/mrsicflogellab/Subjects/SWC_052/2020-10-21/002/alf/#2025-03-03#/_ibl_trials.stimOff_times.fe667cce-36a5-41f4-9807-5744336d0d31.npy Bytes: 4272\n"
     ]
    },
    {
     "name": "stderr",
     "output_type": "stream",
     "text": [
      "100%|██████████| 0.0040740966796875/0.0040740966796875 [00:00<00:00,  2.16s/it]\n"
     ]
    },
    {
     "name": "stdout",
     "output_type": "stream",
     "text": [
      "Downloading: /Users/ineslaranjeira/Downloads/FlatIron/mrsicflogellab/Subjects/SWC_052/2020-10-21/002/alf/#2025-03-03#/_ibl_trials.table.dd0d9dce-9c2a-49f6-a670-076d04fb7756.pqt Bytes: 44449\n",
      "Downloading: /Users/ineslaranjeira/Downloads/FlatIron/mrsicflogellab/Subjects/SWC_052/2020-10-21/002/alf/#2025-03-03#/_ibl_trials.stimOffTrigger_times.f802cd18-4dbc-45d6-b7fd-c39e6f470345.npy Bytes: 4272\n"
     ]
    },
    {
     "name": "stderr",
     "output_type": "stream",
     "text": [
      "100%|██████████| 0.0040740966796875/0.0040740966796875 [00:00<00:00,  1.27it/s]\n"
     ]
    },
    {
     "name": "stdout",
     "output_type": "stream",
     "text": [
      "Downloading: /Users/ineslaranjeira/Downloads/FlatIron/mrsicflogellab/Subjects/SWC_052/2020-10-21/002/alf/#2025-03-03#/_ibl_trials.stimOnTrigger_times.25ec053b-c628-4b8a-81ed-186c2e3c85e6.npy Bytes: 4272\n"
     ]
    },
    {
     "name": "stderr",
     "output_type": "stream",
     "text": [
      "100%|██████████| 0.0040740966796875/0.0040740966796875 [00:00<00:00,  1.54it/s]\n",
      "100%|██████████| 0.042389869689941406/0.042389869689941406 [00:00<00:00,  6.23s/it]\n",
      "No default revision for dataset alf/probe00/pykilosort/#2024-03-12#/clusters.metrics.pqt; using most recent\n"
     ]
    },
    {
     "name": "stdout",
     "output_type": "stream",
     "text": [
      "Downloading: /Users/ineslaranjeira/Downloads/FlatIron/mrsicflogellab/Subjects/SWC_052/2020-10-21/002/alf/_ibl_rightCamera.times.bcae294a-ea74-4d92-b149-36897eae2bd7.npy Bytes: 4637096\n"
     ]
    },
    {
     "name": "stderr",
     "output_type": "stream",
     "text": [
      "100%|██████████| 4.422279357910156/4.422279357910156 [00:05<00:00,  1.25s/it]\n",
      "No default revision for dataset alf/probe00/pykilosort/#2024-03-12#/clusters.metrics.pqt; using most recent\n"
     ]
    },
    {
     "name": "stdout",
     "output_type": "stream",
     "text": [
      "Downloading: /Users/ineslaranjeira/Downloads/FlatIron/mrsicflogellab/Subjects/SWC_052/2020-10-21/002/alf/_ibl_rightCamera.lightningPose.7147362d-ab25-4a2a-80e1-41fd690b1ee8.pqt Bytes: 263103197\n"
     ]
    },
    {
     "name": "stderr",
     "output_type": "stream",
     "text": [
      "100%|██████████| 250.91476154327393/250.91476154327393 [03:11<00:00,  1.31it/s]\n",
      "No default revision for dataset alf/probe00/pykilosort/#2024-03-12#/clusters.metrics.pqt; using most recent\n",
      "No default revision for dataset alf/probe00/pykilosort/#2024-03-12#/clusters.metrics.pqt; using most recent\n",
      "local md5 mismatch on dataset: mrsicflogellab/Subjects/SWC_052/2020-10-21/002/alf/_ibl_leftCamera.lightningPose.pqt\n"
     ]
    },
    {
     "name": "stdout",
     "output_type": "stream",
     "text": [
      "Downloading: /Users/ineslaranjeira/Downloads/FlatIron/mrsicflogellab/Subjects/SWC_052/2020-10-21/002/alf/_ibl_leftCamera.lightningPose.2b6a4121-dd06-4fcb-81e3-f10a85663114.pqt Bytes: 115279519\n"
     ]
    },
    {
     "name": "stderr",
     "output_type": "stream",
     "text": [
      "100%|██████████| 109.93911647796631/109.93911647796631 [01:36<00:00,  1.14it/s]\n",
      "/Users/ineslaranjeira/Documents/Repositories/representation_learning_variability/Functions/video_functions.py:172: FutureWarning: The behavior of DataFrame concatenation with empty or all-NA entries is deprecated. In a future version, this will no longer exclude empty or all-NA columns when determining the result dtypes. To retain the old behavior, exclude the relevant entries before the concat operation.\n",
      "  licks_df = pd.concat([licks_df, temp_df])\n",
      "No default revision for dataset alf/probe00/pykilosort/#2024-03-12#/clusters.metrics.pqt; using most recent\n",
      "No default revision for dataset alf/probe00/pykilosort/#2024-03-12#/clusters.metrics.pqt; using most recent\n"
     ]
    },
    {
     "name": "stdout",
     "output_type": "stream",
     "text": [
      "Downloading: /Users/ineslaranjeira/Downloads/FlatIron/mrsicflogellab/Subjects/SWC_052/2020-10-21/002/alf/_ibl_rightCamera.dlc.464583ae-6efa-4827-9d5f-669379c32ed1.pqt Bytes: 81672953\n"
     ]
    },
    {
     "name": "stderr",
     "output_type": "stream",
     "text": [
      "100%|██████████| 77.88939762115479/77.88939762115479 [00:45<00:00,  1.71it/s]\n",
      "No default revision for dataset alf/probe00/pykilosort/#2024-03-12#/clusters.metrics.pqt; using most recent\n",
      "No default revision for dataset alf/probe00/pykilosort/#2024-03-12#/clusters.metrics.pqt; using most recent\n",
      "/Users/ineslaranjeira/Documents/Repositories/representation_learning_variability/Functions/video_functions.py:172: FutureWarning: The behavior of DataFrame concatenation with empty or all-NA entries is deprecated. In a future version, this will no longer exclude empty or all-NA columns when determining the result dtypes. To retain the old behavior, exclude the relevant entries before the concat operation.\n",
      "  licks_df = pd.concat([licks_df, temp_df])\n",
      "No default revision for dataset alf/probe01/pykilosort/#2022-10-31#/clusters.amps.npy; using most recent\n"
     ]
    },
    {
     "name": "stdout",
     "output_type": "stream",
     "text": [
      "Downloading: /Users/ineslaranjeira/Downloads/FlatIron/mrsicflogellab/Subjects/SWC_052/2020-10-22/001/alf/#2025-03-03#/_ibl_trials.stimOnTrigger_times.f58ba1fe-b9d4-46f8-bc2d-74ca5d3069dc.npy Bytes: 5392\n",
      "Downloading: /Users/ineslaranjeira/Downloads/FlatIron/mrsicflogellab/Subjects/SWC_052/2020-10-22/001/alf/#2025-03-03#/_ibl_trials.table.deeac4d3-7823-4b38-9095-4684b62c75ae.pqt Bytes: 53675\n"
     ]
    },
    {
     "name": "stderr",
     "output_type": "stream",
     "text": [
      "100%|██████████| 0.0051422119140625/0.0051422119140625 [00:00<00:00,  1.37it/s]\n"
     ]
    },
    {
     "name": "stdout",
     "output_type": "stream",
     "text": [
      "Downloading: /Users/ineslaranjeira/Downloads/FlatIron/mrsicflogellab/Subjects/SWC_052/2020-10-22/001/alf/#2025-03-03#/_ibl_trials.stimOff_times.83138384-be1a-4817-b88e-3053132984f5.npy Bytes: 5392\n"
     ]
    },
    {
     "name": "stderr",
     "output_type": "stream",
     "text": [
      "100%|██████████| 0.0051422119140625/0.0051422119140625 [00:00<00:00,  1.49it/s]\n"
     ]
    },
    {
     "name": "stdout",
     "output_type": "stream",
     "text": [
      "Downloading: /Users/ineslaranjeira/Downloads/FlatIron/mrsicflogellab/Subjects/SWC_052/2020-10-22/001/alf/#2025-03-03#/_ibl_trials.stimOffTrigger_times.1bd42a0c-9d1f-48c4-ac5e-37886067a5f9.npy Bytes: 5392\n"
     ]
    },
    {
     "name": "stderr",
     "output_type": "stream",
     "text": [
      "100%|██████████| 0.0051422119140625/0.0051422119140625 [00:00<00:00,  1.97it/s]\n",
      "100%|██████████| 0.05118846893310547/0.05118846893310547 [00:00<00:00,  5.97s/it]\n",
      "No default revision for dataset alf/probe01/pykilosort/#2022-10-31#/clusters.amps.npy; using most recent\n"
     ]
    },
    {
     "name": "stdout",
     "output_type": "stream",
     "text": [
      "Downloading: /Users/ineslaranjeira/Downloads/FlatIron/mrsicflogellab/Subjects/SWC_052/2020-10-22/001/alf/_ibl_rightCamera.times.7158702a-c5c5-4dde-99f6-578667b01a72.npy Bytes: 6136160\n"
     ]
    },
    {
     "name": "stderr",
     "output_type": "stream",
     "text": [
      "100%|██████████| 5.851898193359375/5.851898193359375 [00:03<00:00,  1.49it/s]\n",
      "No default revision for dataset alf/probe01/pykilosort/#2022-10-31#/clusters.amps.npy; using most recent\n"
     ]
    },
    {
     "name": "stdout",
     "output_type": "stream",
     "text": [
      "Downloading: /Users/ineslaranjeira/Downloads/FlatIron/mrsicflogellab/Subjects/SWC_052/2020-10-22/001/alf/_ibl_rightCamera.lightningPose.a01294fa-5a13-41b7-9457-f204b5e4199f.pqt Bytes: 341777471\n"
     ]
    },
    {
     "name": "stderr",
     "output_type": "stream",
     "text": [
      "100%|██████████| 325.94439601898193/325.94439601898193 [04:00<00:00,  1.35it/s]\n",
      "No default revision for dataset alf/probe01/pykilosort/#2022-10-31#/clusters.amps.npy; using most recent\n",
      "No default revision for dataset alf/probe01/pykilosort/#2022-10-31#/clusters.amps.npy; using most recent\n"
     ]
    },
    {
     "name": "stdout",
     "output_type": "stream",
     "text": [
      "Downloading: /Users/ineslaranjeira/Downloads/FlatIron/mrsicflogellab/Subjects/SWC_052/2020-10-22/001/alf/#2025-05-30#/_ibl_leftCamera.lightningPose.ce7ea7e2-3b00-420b-b95d-126ad5cbfe70.pqt Bytes: 146843455\n"
     ]
    },
    {
     "name": "stderr",
     "output_type": "stream",
     "text": [
      "100%|██████████| 140.04083156585693/140.04083156585693 [01:14<00:00,  1.88it/s]\n",
      "/Users/ineslaranjeira/Documents/Repositories/representation_learning_variability/Functions/video_functions.py:172: FutureWarning: The behavior of DataFrame concatenation with empty or all-NA entries is deprecated. In a future version, this will no longer exclude empty or all-NA columns when determining the result dtypes. To retain the old behavior, exclude the relevant entries before the concat operation.\n",
      "  licks_df = pd.concat([licks_df, temp_df])\n",
      "No default revision for dataset alf/probe01/pykilosort/#2022-10-31#/clusters.amps.npy; using most recent\n",
      "No default revision for dataset alf/probe01/pykilosort/#2022-10-31#/clusters.amps.npy; using most recent\n"
     ]
    },
    {
     "name": "stdout",
     "output_type": "stream",
     "text": [
      "Downloading: /Users/ineslaranjeira/Downloads/FlatIron/mrsicflogellab/Subjects/SWC_052/2020-10-22/001/alf/_ibl_rightCamera.dlc.55bb6220-b4ec-400d-a07c-59629b3a68d6.pqt Bytes: 103044041\n"
     ]
    },
    {
     "name": "stderr",
     "output_type": "stream",
     "text": [
      "100%|██████████| 98.2704553604126/98.2704553604126 [00:55<00:00,  1.76it/s]\n",
      "No default revision for dataset alf/probe01/pykilosort/#2022-10-31#/clusters.amps.npy; using most recent\n",
      "No default revision for dataset alf/probe01/pykilosort/#2022-10-31#/clusters.amps.npy; using most recent\n",
      "/Users/ineslaranjeira/Documents/Repositories/representation_learning_variability/Functions/video_functions.py:172: FutureWarning: The behavior of DataFrame concatenation with empty or all-NA entries is deprecated. In a future version, this will no longer exclude empty or all-NA columns when determining the result dtypes. To retain the old behavior, exclude the relevant entries before the concat operation.\n",
      "  licks_df = pd.concat([licks_df, temp_df])\n"
     ]
    },
    {
     "name": "stdout",
     "output_type": "stream",
     "text": [
      "Downloading: /Users/ineslaranjeira/Downloads/FlatIron/mrsicflogellab/Subjects/SWC_052/2020-10-23/001/alf/#2025-03-03#/_ibl_trials.table.e63cd672-53bc-4479-af32-a2a8128ae4c2.pqt Bytes: 48681Downloading: /Users/ineslaranjeira/Downloads/FlatIron/mrsicflogellab/Subjects/SWC_052/2020-10-23/001/alf/#2025-03-03#/_ibl_trials.stimOff_times.f5aa8a95-abe3-49b4-abcb-f5b44c439b62.npy Bytes: 4792\n",
      "Downloading: /Users/ineslaranjeira/Downloads/FlatIron/mrsicflogellab/Subjects/SWC_052/2020-10-23/001/alf/#2025-03-03#/_ibl_trials.stimOffTrigger_times.df17a8ce-fa72-488b-9dd7-8e71e8e16c2b.npy Bytes: 4792\n",
      "Downloading: /Users/ineslaranjeira/Downloads/FlatIron/mrsicflogellab/Subjects/SWC_052/2020-10-23/001/alf/#2025-03-03#/_ibl_trials.stimOnTrigger_times.e2cb507e-087e-47f9-a6ca-abe99fe01251.npy Bytes: 4792\n",
      "\n"
     ]
    },
    {
     "name": "stderr",
     "output_type": "stream",
     "text": [
      "  0%|          | 0/0.00457000732421875 [00:00<?, ?it/s]\n",
      "\u001b[A\n",
      "\n",
      "100%|██████████| 0.00457000732421875/0.00457000732421875 [00:00<00:00,  2.17s/it]\n",
      "100%|██████████| 0.00457000732421875/0.00457000732421875 [00:00<00:00,  3.66s/it]\n",
      "100%|██████████| 0.00457000732421875/0.00457000732421875 [00:00<00:00,  1.32s/it]\n",
      "\n",
      "100%|██████████| 0.046425819396972656/0.046425819396972656 [00:00<00:00,  7.56s/it]\n"
     ]
    },
    {
     "name": "stdout",
     "output_type": "stream",
     "text": [
      "Downloading: /Users/ineslaranjeira/Downloads/FlatIron/mrsicflogellab/Subjects/SWC_052/2020-10-23/001/alf/_ibl_rightCamera.times.76feebbb-a3cd-4d32-88d6-1dd84aaba934.npy Bytes: 5748768\n"
     ]
    },
    {
     "name": "stderr",
     "output_type": "stream",
     "text": [
      "100%|██████████| 5.482452392578125/5.482452392578125 [00:03<00:00,  1.46it/s]\n"
     ]
    },
    {
     "name": "stdout",
     "output_type": "stream",
     "text": [
      "Downloading: /Users/ineslaranjeira/Downloads/FlatIron/mrsicflogellab/Subjects/SWC_052/2020-10-23/001/alf/_ibl_rightCamera.lightningPose.df4c4b23-eb06-4006-9948-5a28fb146b92.pqt Bytes: 322046646\n"
     ]
    },
    {
     "name": "stderr",
     "output_type": "stream",
     "text": [
      "100%|██████████| 307.1276149749756/307.1276149749756 [03:24<00:00,  1.50it/s]\n",
      "local md5 mismatch on dataset: mrsicflogellab/Subjects/SWC_052/2020-10-23/001/alf/_ibl_leftCamera.lightningPose.pqt\n"
     ]
    },
    {
     "name": "stdout",
     "output_type": "stream",
     "text": [
      "Downloading: /Users/ineslaranjeira/Downloads/FlatIron/mrsicflogellab/Subjects/SWC_052/2020-10-23/001/alf/_ibl_leftCamera.lightningPose.c1b0c07a-97e7-44cd-b40d-9594e7fae89e.pqt Bytes: 138586365\n"
     ]
    },
    {
     "name": "stderr",
     "output_type": "stream",
     "text": [
      "100%|██████████| 132.16625690460205/132.16625690460205 [01:42<00:00,  1.28it/s]\n",
      "/Users/ineslaranjeira/Documents/Repositories/representation_learning_variability/Functions/video_functions.py:172: FutureWarning: The behavior of DataFrame concatenation with empty or all-NA entries is deprecated. In a future version, this will no longer exclude empty or all-NA columns when determining the result dtypes. To retain the old behavior, exclude the relevant entries before the concat operation.\n",
      "  licks_df = pd.concat([licks_df, temp_df])\n"
     ]
    },
    {
     "name": "stdout",
     "output_type": "stream",
     "text": [
      "Downloading: /Users/ineslaranjeira/Downloads/FlatIron/mrsicflogellab/Subjects/SWC_052/2020-10-23/001/alf/_ibl_rightCamera.dlc.dd50aa87-e43b-4a10-b647-a30d782a6bbe.pqt Bytes: 98466610\n"
     ]
    },
    {
     "name": "stderr",
     "output_type": "stream",
     "text": [
      "100%|██████████| 93.90507698059082/93.90507698059082 [01:44<00:00,  1.11s/it]\n",
      "/Users/ineslaranjeira/Documents/Repositories/representation_learning_variability/Functions/video_functions.py:172: FutureWarning: The behavior of DataFrame concatenation with empty or all-NA entries is deprecated. In a future version, this will no longer exclude empty or all-NA columns when determining the result dtypes. To retain the old behavior, exclude the relevant entries before the concat operation.\n",
      "  licks_df = pd.concat([licks_df, temp_df])\n"
     ]
    },
    {
     "name": "stdout",
     "output_type": "stream",
     "text": [
      "Downloading: /Users/ineslaranjeira/Downloads/FlatIron/mrsicflogellab/Subjects/SWC_053/2020-11-10/001/alf/#2025-03-03#/_ibl_trials.table.64b482d6-3e00-4445-8b22-9af0bf16eca7.pqt Bytes: 52250\n"
     ]
    },
    {
     "name": "stderr",
     "output_type": "stream",
     "text": [
      "  0%|          | 0/0.04982948303222656 [00:00<?, ?it/s]"
     ]
    },
    {
     "name": "stdout",
     "output_type": "stream",
     "text": [
      "Downloading: /Users/ineslaranjeira/Downloads/FlatIron/mrsicflogellab/Subjects/SWC_053/2020-11-10/001/alf/#2025-03-03#/_ibl_trials.stimOffTrigger_times.ec0e6e6d-498d-48d6-b1e6-5e92fc11e088.npy Bytes: 5216\n"
     ]
    },
    {
     "name": "stderr",
     "output_type": "stream",
     "text": []
    },
    {
     "name": "stdout",
     "output_type": "stream",
     "text": [
      "Downloading: /Users/ineslaranjeira/Downloads/FlatIron/mrsicflogellab/Subjects/SWC_053/2020-11-10/001/alf/#2025-03-03#/_ibl_trials.stimOff_times.a0a80ace-bbaf-4662-a2a7-0c7d36a797cf.npy Bytes: 5216\n",
      "Downloading: /Users/ineslaranjeira/Downloads/FlatIron/mrsicflogellab/Subjects/SWC_053/2020-11-10/001/alf/#2025-03-03#/_ibl_trials.stimOnTrigger_times.aa58845e-5c68-4434-a02c-13b100563f0f.npy Bytes: 5216\n"
     ]
    },
    {
     "name": "stderr",
     "output_type": "stream",
     "text": [
      "100%|██████████| 0.004974365234375/0.004974365234375 [00:00<00:00,  1.02it/s]\n",
      "\n",
      "100%|██████████| 0.004974365234375/0.004974365234375 [00:00<00:00,  1.30it/s]\n",
      "100%|██████████| 0.004974365234375/0.004974365234375 [00:00<00:00,  1.07it/s]\n",
      "100%|██████████| 0.04982948303222656/0.04982948303222656 [00:00<00:00,  6.93s/it]\n"
     ]
    },
    {
     "name": "stdout",
     "output_type": "stream",
     "text": [
      "Downloading: /Users/ineslaranjeira/Downloads/FlatIron/mrsicflogellab/Subjects/SWC_053/2020-11-10/001/alf/_ibl_rightCamera.times.6c968fdd-86c1-4e29-a5f3-ecc42f6d861b.npy Bytes: 5387992\n"
     ]
    },
    {
     "name": "stderr",
     "output_type": "stream",
     "text": [
      "100%|██████████| 5.138389587402344/5.138389587402344 [00:03<00:00,  1.56it/s]\n"
     ]
    },
    {
     "name": "stdout",
     "output_type": "stream",
     "text": [
      "Downloading: /Users/ineslaranjeira/Downloads/FlatIron/mrsicflogellab/Subjects/SWC_053/2020-11-10/001/alf/_ibl_rightCamera.lightningPose.69b3210d-98b8-4a45-b811-f20f4c20658a.pqt Bytes: 303712207\n"
     ]
    },
    {
     "name": "stderr",
     "output_type": "stream",
     "text": [
      "100%|██████████| 289.6425313949585/289.6425313949585 [03:42<00:00,  1.30it/s]\n",
      "local md5 mismatch on dataset: mrsicflogellab/Subjects/SWC_053/2020-11-10/001/alf/_ibl_leftCamera.lightningPose.pqt\n"
     ]
    },
    {
     "name": "stdout",
     "output_type": "stream",
     "text": [
      "Downloading: /Users/ineslaranjeira/Downloads/FlatIron/mrsicflogellab/Subjects/SWC_053/2020-11-10/001/alf/_ibl_leftCamera.lightningPose.5756beed-94a0-4e86-9cdc-17156df3ea31.pqt Bytes: 130395252\n"
     ]
    },
    {
     "name": "stderr",
     "output_type": "stream",
     "text": [
      "100%|██████████| 124.3546028137207/124.3546028137207 [01:22<00:00,  1.51it/s]\n",
      "/Users/ineslaranjeira/Documents/Repositories/representation_learning_variability/Functions/video_functions.py:172: FutureWarning: The behavior of DataFrame concatenation with empty or all-NA entries is deprecated. In a future version, this will no longer exclude empty or all-NA columns when determining the result dtypes. To retain the old behavior, exclude the relevant entries before the concat operation.\n",
      "  licks_df = pd.concat([licks_df, temp_df])\n"
     ]
    },
    {
     "name": "stdout",
     "output_type": "stream",
     "text": [
      "Downloading: /Users/ineslaranjeira/Downloads/FlatIron/mrsicflogellab/Subjects/SWC_053/2020-11-10/001/alf/_ibl_rightCamera.dlc.77501bfa-9b64-4590-9af0-99944b20d062.pqt Bytes: 90615760\n"
     ]
    },
    {
     "name": "stderr",
     "output_type": "stream",
     "text": [
      "100%|██████████| 86.41792297363281/86.41792297363281 [01:30<00:00,  1.05s/it]\n",
      "/Users/ineslaranjeira/Documents/Repositories/representation_learning_variability/Functions/video_functions.py:172: FutureWarning: The behavior of DataFrame concatenation with empty or all-NA entries is deprecated. In a future version, this will no longer exclude empty or all-NA columns when determining the result dtypes. To retain the old behavior, exclude the relevant entries before the concat operation.\n",
      "  licks_df = pd.concat([licks_df, temp_df])\n"
     ]
    },
    {
     "name": "stdout",
     "output_type": "stream",
     "text": [
      "Downloading: /Users/ineslaranjeira/Downloads/FlatIron/mrsicflogellab/Subjects/SWC_053/2020-11-11/001/alf/#2025-03-03#/_ibl_trials.stimOffTrigger_times.0a61284b-4ffb-4dc1-af3e-0d5768dffd36.npy Bytes: 3896Downloading: /Users/ineslaranjeira/Downloads/FlatIron/mrsicflogellab/Subjects/SWC_053/2020-11-11/001/alf/#2025-03-03#/_ibl_trials.stimOff_times.b84b6062-0e07-493f-afba-4c6e98e0aa3d.npy Bytes: 3896\n",
      "\n"
     ]
    },
    {
     "name": "stderr",
     "output_type": "stream",
     "text": [
      "100%|██████████| 0.00371551513671875/0.00371551513671875 [00:00<00:00,  1.25s/it]\n",
      "100%|██████████| 0.00371551513671875/0.00371551513671875 [00:00<00:00,  1.07it/s]\n"
     ]
    },
    {
     "name": "stdout",
     "output_type": "stream",
     "text": [
      "Downloading: /Users/ineslaranjeira/Downloads/FlatIron/mrsicflogellab/Subjects/SWC_053/2020-11-11/001/alf/#2025-03-03#/_ibl_trials.table.cdec58e0-9bfe-4cd1-8260-d5c6c8ade773.pqt Bytes: 40893\n"
     ]
    },
    {
     "name": "stderr",
     "output_type": "stream",
     "text": [
      "  0%|          | 0/0.03899860382080078 [00:00<?, ?it/s]"
     ]
    },
    {
     "name": "stdout",
     "output_type": "stream",
     "text": [
      "Downloading: /Users/ineslaranjeira/Downloads/FlatIron/mrsicflogellab/Subjects/SWC_053/2020-11-11/001/alf/#2025-03-03#/_ibl_trials.stimOnTrigger_times.e091e68f-6a1f-42e2-8b8b-687a2c0a3951.npy Bytes: 3896\n"
     ]
    },
    {
     "name": "stderr",
     "output_type": "stream",
     "text": [
      "100%|██████████| 0.00371551513671875/0.00371551513671875 [00:00<00:00,  1.19it/s]\n",
      "100%|██████████| 0.03899860382080078/0.03899860382080078 [00:00<00:00,  6.98s/it]\n"
     ]
    },
    {
     "name": "stdout",
     "output_type": "stream",
     "text": [
      "Downloading: /Users/ineslaranjeira/Downloads/FlatIron/mrsicflogellab/Subjects/SWC_053/2020-11-11/001/alf/_ibl_rightCamera.times.59d8930c-c208-4d27-abeb-9b7e950e50a3.npy Bytes: 5454600\n"
     ]
    },
    {
     "name": "stderr",
     "output_type": "stream",
     "text": [
      "100%|██████████| 5.201911926269531/5.201911926269531 [00:02<00:00,  2.05it/s]\n"
     ]
    },
    {
     "name": "stdout",
     "output_type": "stream",
     "text": [
      "Downloading: /Users/ineslaranjeira/Downloads/FlatIron/mrsicflogellab/Subjects/SWC_053/2020-11-11/001/alf/_ibl_rightCamera.lightningPose.0109000d-ffc0-42c8-8670-c321fe4a0c2f.pqt Bytes: 307299209\n"
     ]
    },
    {
     "name": "stderr",
     "output_type": "stream",
     "text": [
      "100%|██████████| 293.06336307525635/293.06336307525635 [03:19<00:00,  1.47it/s]\n",
      "local md5 mismatch on dataset: mrsicflogellab/Subjects/SWC_053/2020-11-11/001/alf/_ibl_leftCamera.lightningPose.pqt\n"
     ]
    },
    {
     "name": "stdout",
     "output_type": "stream",
     "text": [
      "Downloading: /Users/ineslaranjeira/Downloads/FlatIron/mrsicflogellab/Subjects/SWC_053/2020-11-11/001/alf/_ibl_leftCamera.lightningPose.efaa203e-caf6-4c14-863f-549684d59e53.pqt Bytes: 131409840\n"
     ]
    },
    {
     "name": "stderr",
     "output_type": "stream",
     "text": [
      "100%|██████████| 125.32218933105469/125.32218933105469 [00:59<00:00,  2.09it/s]\n",
      "/Users/ineslaranjeira/Documents/Repositories/representation_learning_variability/Functions/video_functions.py:172: FutureWarning: The behavior of DataFrame concatenation with empty or all-NA entries is deprecated. In a future version, this will no longer exclude empty or all-NA columns when determining the result dtypes. To retain the old behavior, exclude the relevant entries before the concat operation.\n",
      "  licks_df = pd.concat([licks_df, temp_df])\n"
     ]
    },
    {
     "name": "stdout",
     "output_type": "stream",
     "text": [
      "Downloading: /Users/ineslaranjeira/Downloads/FlatIron/mrsicflogellab/Subjects/SWC_053/2020-11-11/001/alf/_ibl_rightCamera.dlc.55c5b977-2aa2-42f7-a077-56294e39dfdf.pqt Bytes: 91086581\n"
     ]
    },
    {
     "name": "stderr",
     "output_type": "stream",
     "text": [
      "100%|██████████| 86.86693286895752/86.86693286895752 [00:46<00:00,  1.85it/s]\n",
      "/Users/ineslaranjeira/Documents/Repositories/representation_learning_variability/Functions/video_functions.py:172: FutureWarning: The behavior of DataFrame concatenation with empty or all-NA entries is deprecated. In a future version, this will no longer exclude empty or all-NA columns when determining the result dtypes. To retain the old behavior, exclude the relevant entries before the concat operation.\n",
      "  licks_df = pd.concat([licks_df, temp_df])\n"
     ]
    },
    {
     "name": "stdout",
     "output_type": "stream",
     "text": [
      "Downloading: /Users/ineslaranjeira/Downloads/FlatIron/mrsicflogellab/Subjects/SWC_053/2020-11-12/001/alf/#2025-03-03#/_ibl_trials.table.ed1bf7aa-2081-409c-b019-064ba844404e.pqt Bytes: 37999\n"
     ]
    },
    {
     "name": "stderr",
     "output_type": "stream",
     "text": [
      "  0%|          | 0/0.036238670349121094 [00:00<?, ?it/s]"
     ]
    },
    {
     "name": "stdout",
     "output_type": "stream",
     "text": [
      "Downloading: /Users/ineslaranjeira/Downloads/FlatIron/mrsicflogellab/Subjects/SWC_053/2020-11-12/001/alf/#2025-03-03#/_ibl_trials.stimOff_times.a719b73e-1589-4c08-b506-9ac3996b46f3.npy Bytes: 3536\n"
     ]
    },
    {
     "name": "stderr",
     "output_type": "stream",
     "text": [
      "100%|██████████| 0.0033721923828125/0.0033721923828125 [00:00<00:00,  1.21it/s]\n"
     ]
    },
    {
     "name": "stdout",
     "output_type": "stream",
     "text": [
      "Downloading: /Users/ineslaranjeira/Downloads/FlatIron/mrsicflogellab/Subjects/SWC_053/2020-11-12/001/alf/#2025-03-03#/_ibl_trials.stimOffTrigger_times.aa31122e-a6c1-4077-ae0b-d072ebe5e07a.npy Bytes: 3536\n"
     ]
    },
    {
     "name": "stderr",
     "output_type": "stream",
     "text": [
      "100%|██████████| 0.0033721923828125/0.0033721923828125 [00:00<00:00,  1.01s/it]\n"
     ]
    },
    {
     "name": "stdout",
     "output_type": "stream",
     "text": [
      "Downloading: /Users/ineslaranjeira/Downloads/FlatIron/mrsicflogellab/Subjects/SWC_053/2020-11-12/001/alf/#2025-03-03#/_ibl_trials.stimOnTrigger_times.bb65fea8-6f4a-4812-a2d0-9a42057130dd.npy Bytes: 3536\n"
     ]
    },
    {
     "name": "stderr",
     "output_type": "stream",
     "text": [
      "100%|██████████| 0.0033721923828125/0.0033721923828125 [00:00<00:00,  1.10it/s]\n",
      "100%|██████████| 0.036238670349121094/0.036238670349121094 [00:00<00:00,  4.39s/it]\n"
     ]
    },
    {
     "name": "stdout",
     "output_type": "stream",
     "text": [
      "Downloading: /Users/ineslaranjeira/Downloads/FlatIron/mrsicflogellab/Subjects/SWC_053/2020-11-12/001/alf/_ibl_rightCamera.times.2dcdead0-4b0e-4e23-abf2-8dbdb451f9f6.npy Bytes: 6059000\n"
     ]
    },
    {
     "name": "stderr",
     "output_type": "stream",
     "text": [
      "100%|██████████| 5.778312683105469/5.778312683105469 [00:06<00:00,  1.17s/it]\n"
     ]
    },
    {
     "name": "stdout",
     "output_type": "stream",
     "text": [
      "Downloading: /Users/ineslaranjeira/Downloads/FlatIron/mrsicflogellab/Subjects/SWC_053/2020-11-12/001/alf/_ibl_rightCamera.lightningPose.e834b22c-ba0d-46ef-a94c-e01b67154f7d.pqt Bytes: 337259787\n"
     ]
    },
    {
     "name": "stderr",
     "output_type": "stream",
     "text": [
      "100%|██████████| 321.6359968185425/321.6359968185425 [04:00<00:00,  1.34it/s]\n"
     ]
    },
    {
     "name": "stdout",
     "output_type": "stream",
     "text": [
      "Downloading: /Users/ineslaranjeira/Downloads/FlatIron/mrsicflogellab/Subjects/SWC_053/2020-11-12/001/alf/_ibl_leftCamera.lightningPose.92abf515-35d0-4022-8a22-5e59df8ed92a.pqt Bytes: 143278634\n"
     ]
    },
    {
     "name": "stderr",
     "output_type": "stream",
     "text": [
      "100%|██████████| 136.6411533355713/136.6411533355713 [01:42<00:00,  1.34it/s]\n",
      "/Users/ineslaranjeira/Documents/Repositories/representation_learning_variability/Functions/video_functions.py:172: FutureWarning: The behavior of DataFrame concatenation with empty or all-NA entries is deprecated. In a future version, this will no longer exclude empty or all-NA columns when determining the result dtypes. To retain the old behavior, exclude the relevant entries before the concat operation.\n",
      "  licks_df = pd.concat([licks_df, temp_df])\n"
     ]
    },
    {
     "name": "stdout",
     "output_type": "stream",
     "text": [
      "Downloading: /Users/ineslaranjeira/Downloads/FlatIron/mrsicflogellab/Subjects/SWC_053/2020-11-12/001/alf/_ibl_rightCamera.dlc.3dd87c59-b684-4edd-97f4-f0646f13f4f4.pqt Bytes: 95381697\n"
     ]
    },
    {
     "name": "stderr",
     "output_type": "stream",
     "text": [
      "100%|██████████| 90.96307468414307/90.96307468414307 [01:35<00:00,  1.05s/it]\n",
      "/Users/ineslaranjeira/Documents/Repositories/representation_learning_variability/Functions/video_functions.py:172: FutureWarning: The behavior of DataFrame concatenation with empty or all-NA entries is deprecated. In a future version, this will no longer exclude empty or all-NA columns when determining the result dtypes. To retain the old behavior, exclude the relevant entries before the concat operation.\n",
      "  licks_df = pd.concat([licks_df, temp_df])\n",
      "No default revision for dataset alf/probe01/pykilosort/clusters.amps.npy; using most recent\n"
     ]
    },
    {
     "name": "stdout",
     "output_type": "stream",
     "text": [
      "Downloading: /Users/ineslaranjeira/Downloads/FlatIron/mrsicflogellab/Subjects/SWC_054/2020-10-05/001/alf/#2025-03-03#/_ibl_trials.stimOff_times.b24e7167-ea86-4e62-beb1-e59fa4bcf16c.npy Bytes: 4696\n",
      "Downloading: /Users/ineslaranjeira/Downloads/FlatIron/mrsicflogellab/Subjects/SWC_054/2020-10-05/001/alf/#2025-03-03#/_ibl_trials.table.356613af-6cc6-4541-9ce5-8e18b9e8dae0.pqt Bytes: 47984\n",
      "Downloading: /Users/ineslaranjeira/Downloads/FlatIron/mrsicflogellab/Subjects/SWC_054/2020-10-05/001/alf/#2025-03-03#/_ibl_trials.stimOnTrigger_times.e11f0e8d-b831-4788-b630-00b7e1835ed5.npy Bytes: 4696\n",
      "Downloading: /Users/ineslaranjeira/Downloads/FlatIron/mrsicflogellab/Subjects/SWC_054/2020-10-05/001/alf/#2025-03-03#/_ibl_trials.stimOffTrigger_times.e5ef938b-a200-4d13-a25b-c6efd7da5b71.npy Bytes: 4696\n"
     ]
    },
    {
     "name": "stderr",
     "output_type": "stream",
     "text": [
      "  0%|          | 0/0.0457611083984375 [00:00<?, ?it/s]\n",
      "\n",
      "\u001b[A\u001b[A\n",
      "100%|██████████| 0.00447845458984375/0.00447845458984375 [00:00<00:00,  2.37s/it]\n",
      "100%|██████████| 0.00447845458984375/0.00447845458984375 [00:00<00:00,  4.83s/it]\n",
      "100%|██████████| 0.00447845458984375/0.00447845458984375 [00:00<00:00,  3.06s/it]\n",
      "100%|██████████| 0.0457611083984375/0.0457611083984375 [00:00<00:00,  5.27s/it]\n",
      "No default revision for dataset alf/probe01/pykilosort/clusters.amps.npy; using most recent\n"
     ]
    },
    {
     "name": "stdout",
     "output_type": "stream",
     "text": [
      "Downloading: /Users/ineslaranjeira/Downloads/FlatIron/mrsicflogellab/Subjects/SWC_054/2020-10-05/001/alf/_ibl_rightCamera.times.715f2d6b-bf16-4dc5-91c8-49be8ca7f7db.npy Bytes: 4819328\n"
     ]
    },
    {
     "name": "stderr",
     "output_type": "stream",
     "text": [
      "100%|██████████| 4.5960693359375/4.5960693359375 [00:05<00:00,  1.22s/it]\n",
      "No default revision for dataset alf/probe01/pykilosort/clusters.amps.npy; using most recent\n"
     ]
    },
    {
     "name": "stdout",
     "output_type": "stream",
     "text": [
      "Downloading: /Users/ineslaranjeira/Downloads/FlatIron/mrsicflogellab/Subjects/SWC_054/2020-10-05/001/alf/_ibl_rightCamera.lightningPose.13be2fe5-40fb-4678-86f9-d5a04f2ecc73.pqt Bytes: 270823260\n"
     ]
    },
    {
     "name": "stderr",
     "output_type": "stream",
     "text": [
      "100%|██████████| 258.2771873474121/258.2771873474121 [04:09<00:00,  1.03it/s]\n",
      "No default revision for dataset alf/probe01/pykilosort/clusters.amps.npy; using most recent\n",
      "No default revision for dataset alf/probe01/pykilosort/clusters.amps.npy; using most recent\n"
     ]
    },
    {
     "name": "stdout",
     "output_type": "stream",
     "text": [
      "Downloading: /Users/ineslaranjeira/Downloads/FlatIron/mrsicflogellab/Subjects/SWC_054/2020-10-05/001/alf/#2025-05-30#/_ibl_leftCamera.lightningPose.c43321bb-2d6b-4e22-8026-2f5021db141b.pqt Bytes: 118697737\n"
     ]
    },
    {
     "name": "stderr",
     "output_type": "stream",
     "text": [
      "100%|██████████| 113.19898319244385/113.19898319244385 [01:18<00:00,  1.44it/s]\n",
      "/Users/ineslaranjeira/Documents/Repositories/representation_learning_variability/Functions/video_functions.py:172: FutureWarning: The behavior of DataFrame concatenation with empty or all-NA entries is deprecated. In a future version, this will no longer exclude empty or all-NA columns when determining the result dtypes. To retain the old behavior, exclude the relevant entries before the concat operation.\n",
      "  licks_df = pd.concat([licks_df, temp_df])\n",
      "No default revision for dataset alf/probe01/pykilosort/clusters.amps.npy; using most recent\n",
      "No default revision for dataset alf/probe01/pykilosort/clusters.amps.npy; using most recent\n"
     ]
    },
    {
     "name": "stdout",
     "output_type": "stream",
     "text": [
      "Downloading: /Users/ineslaranjeira/Downloads/FlatIron/mrsicflogellab/Subjects/SWC_054/2020-10-05/001/alf/_ibl_rightCamera.dlc.a256ea6f-c62d-42d0-99e4-994f325f9942.pqt Bytes: 82298785\n"
     ]
    },
    {
     "name": "stderr",
     "output_type": "stream",
     "text": [
      "100%|██████████| 78.48623752593994/78.48623752593994 [00:46<00:00,  1.70it/s]\n",
      "No default revision for dataset alf/probe01/pykilosort/clusters.amps.npy; using most recent\n",
      "No default revision for dataset alf/probe01/pykilosort/clusters.amps.npy; using most recent\n",
      "/Users/ineslaranjeira/Documents/Repositories/representation_learning_variability/Functions/video_functions.py:172: FutureWarning: The behavior of DataFrame concatenation with empty or all-NA entries is deprecated. In a future version, this will no longer exclude empty or all-NA columns when determining the result dtypes. To retain the old behavior, exclude the relevant entries before the concat operation.\n",
      "  licks_df = pd.concat([licks_df, temp_df])\n"
     ]
    },
    {
     "name": "stdout",
     "output_type": "stream",
     "text": [
      "Downloading: /Users/ineslaranjeira/Downloads/FlatIron/mrsicflogellab/Subjects/SWC_054/2020-10-06/001/alf/#2025-03-03#/_ibl_trials.stimOffTrigger_times.cf5f497f-fd9c-4e9c-a499-4629846c045c.npy Bytes: 5136\n"
     ]
    },
    {
     "name": "stderr",
     "output_type": "stream",
     "text": [
      "100%|██████████| 0.0048980712890625/0.0048980712890625 [00:00<00:00,  1.60it/s]"
     ]
    },
    {
     "name": "stdout",
     "output_type": "stream",
     "text": [
      "Downloading: /Users/ineslaranjeira/Downloads/FlatIron/mrsicflogellab/Subjects/SWC_054/2020-10-06/001/alf/#2025-03-03#/_ibl_trials.stimOff_times.3df552f4-f36f-4b6e-ac30-6db0932a282a.npy Bytes: 5136\n"
     ]
    },
    {
     "name": "stderr",
     "output_type": "stream",
     "text": [
      "\n"
     ]
    },
    {
     "name": "stdout",
     "output_type": "stream",
     "text": [
      "Downloading: /Users/ineslaranjeira/Downloads/FlatIron/mrsicflogellab/Subjects/SWC_054/2020-10-06/001/alf/#2025-03-03#/_ibl_trials.table.cc8c7208-9df4-4800-9a31-4e037f4874a3.pqt Bytes: 51669\n",
      "Downloading: /Users/ineslaranjeira/Downloads/FlatIron/mrsicflogellab/Subjects/SWC_054/2020-10-06/001/alf/#2025-03-03#/_ibl_trials.stimOnTrigger_times.f4bf0203-e56e-4ae6-b6e7-945f6ef98e8b.npy Bytes: 5136\n"
     ]
    },
    {
     "name": "stderr",
     "output_type": "stream",
     "text": [
      "100%|██████████| 0.0048980712890625/0.0048980712890625 [00:00<00:00,  1.41it/s]\n",
      "  0%|          | 0/0.04927539825439453 [00:00<?, ?it/s]\n",
      "100%|██████████| 0.0048980712890625/0.0048980712890625 [00:00<00:00,  1.01s/it]\n",
      "100%|██████████| 0.04927539825439453/0.04927539825439453 [00:00<00:00,  6.05s/it]\n"
     ]
    },
    {
     "name": "stdout",
     "output_type": "stream",
     "text": [
      "Downloading: /Users/ineslaranjeira/Downloads/FlatIron/mrsicflogellab/Subjects/SWC_054/2020-10-06/001/alf/_ibl_rightCamera.times.25671661-ac95-4ea7-a989-e7b2048b049c.npy Bytes: 5787240\n"
     ]
    },
    {
     "name": "stderr",
     "output_type": "stream",
     "text": [
      "100%|██████████| 5.519142150878906/5.519142150878906 [00:03<00:00,  1.70it/s]\n"
     ]
    },
    {
     "name": "stdout",
     "output_type": "stream",
     "text": [
      "Downloading: /Users/ineslaranjeira/Downloads/FlatIron/mrsicflogellab/Subjects/SWC_054/2020-10-06/001/alf/_ibl_rightCamera.lightningPose.858b942c-dd00-49bb-bd6c-23af4c39ad7d.pqt Bytes: 323426950\n"
     ]
    },
    {
     "name": "stderr",
     "output_type": "stream",
     "text": [
      "100%|██████████| 308.4439754486084/308.4439754486084 [04:43<00:00,  1.09it/s]\n",
      "local md5 mismatch on dataset: mrsicflogellab/Subjects/SWC_054/2020-10-06/001/alf/_ibl_leftCamera.lightningPose.pqt\n"
     ]
    },
    {
     "name": "stdout",
     "output_type": "stream",
     "text": [
      "Downloading: /Users/ineslaranjeira/Downloads/FlatIron/mrsicflogellab/Subjects/SWC_054/2020-10-06/001/alf/_ibl_leftCamera.lightningPose.882e32c9-d92c-43ca-9834-bc21d7ccc90c.pqt Bytes: 139444102\n"
     ]
    },
    {
     "name": "stderr",
     "output_type": "stream",
     "text": [
      "100%|██████████| 132.9842586517334/132.9842586517334 [01:53<00:00,  1.17it/s]\n",
      "/Users/ineslaranjeira/Documents/Repositories/representation_learning_variability/Functions/video_functions.py:172: FutureWarning: The behavior of DataFrame concatenation with empty or all-NA entries is deprecated. In a future version, this will no longer exclude empty or all-NA columns when determining the result dtypes. To retain the old behavior, exclude the relevant entries before the concat operation.\n",
      "  licks_df = pd.concat([licks_df, temp_df])\n"
     ]
    },
    {
     "name": "stdout",
     "output_type": "stream",
     "text": [
      "Downloading: /Users/ineslaranjeira/Downloads/FlatIron/mrsicflogellab/Subjects/SWC_054/2020-10-06/001/alf/_ibl_rightCamera.dlc.bc95ec39-556d-49e3-b03d-6efd4a824387.pqt Bytes: 98441975\n"
     ]
    },
    {
     "name": "stderr",
     "output_type": "stream",
     "text": [
      "100%|██████████| 93.88158321380615/93.88158321380615 [01:30<00:00,  1.04it/s]\n",
      "/Users/ineslaranjeira/Documents/Repositories/representation_learning_variability/Functions/video_functions.py:172: FutureWarning: The behavior of DataFrame concatenation with empty or all-NA entries is deprecated. In a future version, this will no longer exclude empty or all-NA columns when determining the result dtypes. To retain the old behavior, exclude the relevant entries before the concat operation.\n",
      "  licks_df = pd.concat([licks_df, temp_df])\n"
     ]
    },
    {
     "name": "stdout",
     "output_type": "stream",
     "text": [
      "Downloading: /Users/ineslaranjeira/Downloads/FlatIron/mrsicflogellab/Subjects/SWC_054/2020-10-07/001/alf/_ibl_rightCamera.times.760a6d22-627b-4a06-a2fa-badd642fd717.npy Bytes: 5132000\n"
     ]
    },
    {
     "name": "stderr",
     "output_type": "stream",
     "text": [
      "100%|██████████| 4.894256591796875/4.894256591796875 [00:03<00:00,  1.58it/s]\n"
     ]
    },
    {
     "name": "stdout",
     "output_type": "stream",
     "text": [
      "Downloading: /Users/ineslaranjeira/Downloads/FlatIron/mrsicflogellab/Subjects/SWC_054/2020-10-07/001/alf/_ibl_rightCamera.lightningPose.5226c2d6-fec1-4257-aaa8-944b358b8fac.pqt Bytes: 288479644\n"
     ]
    },
    {
     "name": "stderr",
     "output_type": "stream",
     "text": [
      "100%|██████████| 275.11562728881836/275.11562728881836 [04:47<00:00,  1.05s/it]\n",
      "local md5 mismatch on dataset: mrsicflogellab/Subjects/SWC_054/2020-10-07/001/alf/_ibl_leftCamera.lightningPose.pqt\n"
     ]
    },
    {
     "name": "stdout",
     "output_type": "stream",
     "text": [
      "Downloading: /Users/ineslaranjeira/Downloads/FlatIron/mrsicflogellab/Subjects/SWC_054/2020-10-07/001/alf/_ibl_leftCamera.lightningPose.4201ea73-c0cb-4dd1-95f2-6aa4b78711f4.pqt Bytes: 125505526\n"
     ]
    },
    {
     "name": "stderr",
     "output_type": "stream",
     "text": [
      "100%|██████████| 119.69139671325684/119.69139671325684 [02:16<00:00,  1.14s/it]\n",
      "/Users/ineslaranjeira/Documents/Repositories/representation_learning_variability/Functions/video_functions.py:172: FutureWarning: The behavior of DataFrame concatenation with empty or all-NA entries is deprecated. In a future version, this will no longer exclude empty or all-NA columns when determining the result dtypes. To retain the old behavior, exclude the relevant entries before the concat operation.\n",
      "  licks_df = pd.concat([licks_df, temp_df])\n"
     ]
    },
    {
     "name": "stdout",
     "output_type": "stream",
     "text": [
      "Downloading: /Users/ineslaranjeira/Downloads/FlatIron/mrsicflogellab/Subjects/SWC_054/2020-10-07/001/alf/_ibl_rightCamera.dlc.e78c0864-63ef-4412-9e20-81736817c7aa.pqt Bytes: 88420333\n"
     ]
    },
    {
     "name": "stderr",
     "output_type": "stream",
     "text": [
      "100%|██████████| 84.32420063018799/84.32420063018799 [01:44<00:00,  1.23s/it]\n",
      "/Users/ineslaranjeira/Documents/Repositories/representation_learning_variability/Functions/video_functions.py:172: FutureWarning: The behavior of DataFrame concatenation with empty or all-NA entries is deprecated. In a future version, this will no longer exclude empty or all-NA columns when determining the result dtypes. To retain the old behavior, exclude the relevant entries before the concat operation.\n",
      "  licks_df = pd.concat([licks_df, temp_df])\n",
      "No default revision for dataset alf/probe00/pykilosort/clusters.metrics.pqt; using most recent\n",
      "No default revision for dataset alf/probe00/pykilosort/clusters.metrics.pqt; using most recent\n"
     ]
    },
    {
     "name": "stdout",
     "output_type": "stream",
     "text": [
      "Downloading: /Users/ineslaranjeira/Downloads/FlatIron/mrsicflogellab/Subjects/SWC_054/2020-10-09/001/alf/_ibl_rightCamera.times.3c3343b8-f70d-4338-896b-d2164b23bd26.npy Bytes: 4782240\n"
     ]
    },
    {
     "name": "stderr",
     "output_type": "stream",
     "text": [
      "100%|██████████| 4.560699462890625/4.560699462890625 [00:04<00:00,  1.07s/it]\n",
      "No default revision for dataset alf/probe00/pykilosort/clusters.metrics.pqt; using most recent\n"
     ]
    },
    {
     "name": "stdout",
     "output_type": "stream",
     "text": [
      "Downloading: /Users/ineslaranjeira/Downloads/FlatIron/mrsicflogellab/Subjects/SWC_054/2020-10-09/001/alf/_ibl_rightCamera.lightningPose.a4481b2a-7d9d-41da-8405-b2fd273830bd.pqt Bytes: 268541591\n"
     ]
    },
    {
     "name": "stderr",
     "output_type": "stream",
     "text": [
      "100%|██████████| 256.1012182235718/256.1012182235718 [04:57<00:00,  1.16s/it]\n",
      "No default revision for dataset alf/probe00/pykilosort/clusters.metrics.pqt; using most recent\n",
      "No default revision for dataset alf/probe00/pykilosort/clusters.metrics.pqt; using most recent\n"
     ]
    },
    {
     "name": "stdout",
     "output_type": "stream",
     "text": [
      "Downloading: /Users/ineslaranjeira/Downloads/FlatIron/mrsicflogellab/Subjects/SWC_054/2020-10-09/001/alf/_ibl_leftCamera.lightningPose.b361a55a-3305-4ea3-8471-baccf14f16dd.pqt Bytes: 118527265\n"
     ]
    },
    {
     "name": "stderr",
     "output_type": "stream",
     "text": [
      "100%|██████████| 113.03640842437744/113.03640842437744 [02:29<00:00,  1.32s/it]\n",
      "/Users/ineslaranjeira/Documents/Repositories/representation_learning_variability/Functions/video_functions.py:172: FutureWarning: The behavior of DataFrame concatenation with empty or all-NA entries is deprecated. In a future version, this will no longer exclude empty or all-NA columns when determining the result dtypes. To retain the old behavior, exclude the relevant entries before the concat operation.\n",
      "  licks_df = pd.concat([licks_df, temp_df])\n",
      "No default revision for dataset alf/probe00/pykilosort/clusters.metrics.pqt; using most recent\n",
      "No default revision for dataset alf/probe00/pykilosort/clusters.metrics.pqt; using most recent\n"
     ]
    },
    {
     "name": "stdout",
     "output_type": "stream",
     "text": [
      "Downloading: /Users/ineslaranjeira/Downloads/FlatIron/mrsicflogellab/Subjects/SWC_054/2020-10-09/001/alf/_ibl_rightCamera.dlc.84d87c65-2478-411d-bed6-8b5d04597b14.pqt Bytes: 78282843\n"
     ]
    },
    {
     "name": "stderr",
     "output_type": "stream",
     "text": [
      "100%|██████████| 74.6563367843628/74.6563367843628 [01:14<00:00,  1.00it/s]\n",
      "No default revision for dataset alf/probe00/pykilosort/clusters.metrics.pqt; using most recent\n",
      "No default revision for dataset alf/probe00/pykilosort/clusters.metrics.pqt; using most recent\n",
      "/Users/ineslaranjeira/Documents/Repositories/representation_learning_variability/Functions/video_functions.py:172: FutureWarning: The behavior of DataFrame concatenation with empty or all-NA entries is deprecated. In a future version, this will no longer exclude empty or all-NA columns when determining the result dtypes. To retain the old behavior, exclude the relevant entries before the concat operation.\n",
      "  licks_df = pd.concat([licks_df, temp_df])\n"
     ]
    },
    {
     "name": "stdout",
     "output_type": "stream",
     "text": [
      "Downloading: /Users/ineslaranjeira/Downloads/FlatIron/mrsicflogellab/Subjects/SWC_054/2020-10-10/001/alf/_ibl_rightCamera.times.75646333-af7b-4c91-afdc-5d8a6c86890f.npy Bytes: 5836816\n"
     ]
    },
    {
     "name": "stderr",
     "output_type": "stream",
     "text": [
      "100%|██████████| 5.5664215087890625/5.5664215087890625 [00:11<00:00,  2.14s/it]\n"
     ]
    },
    {
     "name": "stdout",
     "output_type": "stream",
     "text": [
      "Downloading: /Users/ineslaranjeira/Downloads/FlatIron/mrsicflogellab/Subjects/SWC_054/2020-10-10/001/alf/_ibl_rightCamera.lightningPose.02b181d4-5e63-4ce8-a02a-31454d7b2b0a.pqt Bytes: 324492641\n"
     ]
    },
    {
     "name": "stderr",
     "output_type": "stream",
     "text": [
      "100%|██████████| 309.4602975845337/309.4602975845337 [04:23<00:00,  1.18it/s]\n"
     ]
    },
    {
     "name": "stdout",
     "output_type": "stream",
     "text": [
      "Downloading: /Users/ineslaranjeira/Downloads/FlatIron/mrsicflogellab/Subjects/SWC_054/2020-10-10/001/alf/_ibl_leftCamera.lightningPose.efc80e00-9869-4b75-83ea-176a50fc97bc.pqt Bytes: 140587017\n"
     ]
    },
    {
     "name": "stderr",
     "output_type": "stream",
     "text": [
      "100%|██████████| 134.07422733306885/134.07422733306885 [02:41<00:00,  1.21s/it]\n",
      "/Users/ineslaranjeira/Documents/Repositories/representation_learning_variability/Functions/video_functions.py:172: FutureWarning: The behavior of DataFrame concatenation with empty or all-NA entries is deprecated. In a future version, this will no longer exclude empty or all-NA columns when determining the result dtypes. To retain the old behavior, exclude the relevant entries before the concat operation.\n",
      "  licks_df = pd.concat([licks_df, temp_df])\n"
     ]
    },
    {
     "name": "stdout",
     "output_type": "stream",
     "text": [
      "Downloading: /Users/ineslaranjeira/Downloads/FlatIron/mrsicflogellab/Subjects/SWC_054/2020-10-10/001/alf/_ibl_rightCamera.dlc.37cf4159-4413-43f6-851d-8cd99d531687.pqt Bytes: 98201698\n"
     ]
    },
    {
     "name": "stderr",
     "output_type": "stream",
     "text": [
      "100%|██████████| 93.65243721008301/93.65243721008301 [01:27<00:00,  1.07it/s]\n",
      "/Users/ineslaranjeira/Documents/Repositories/representation_learning_variability/Functions/video_functions.py:172: FutureWarning: The behavior of DataFrame concatenation with empty or all-NA entries is deprecated. In a future version, this will no longer exclude empty or all-NA columns when determining the result dtypes. To retain the old behavior, exclude the relevant entries before the concat operation.\n",
      "  licks_df = pd.concat([licks_df, temp_df])\n"
     ]
    },
    {
     "name": "stdout",
     "output_type": "stream",
     "text": [
      "Downloading: /Users/ineslaranjeira/Downloads/FlatIron/mrsicflogellab/Subjects/SWC_054/2020-10-11/001/alf/_ibl_rightCamera.times.af50abea-3ab2-4e12-a328-3d09c254e8f8.npy Bytes: 5041040\n"
     ]
    },
    {
     "name": "stderr",
     "output_type": "stream",
     "text": [
      "100%|██████████| 4.8075103759765625/4.8075103759765625 [00:12<00:00,  2.51s/it]\n"
     ]
    },
    {
     "name": "stdout",
     "output_type": "stream",
     "text": [
      "Downloading: /Users/ineslaranjeira/Downloads/FlatIron/mrsicflogellab/Subjects/SWC_054/2020-10-11/001/alf/_ibl_rightCamera.lightningPose.dfc63266-73cc-4a38-88fe-08ef065744c4.pqt Bytes: 283493477\n"
     ]
    },
    {
     "name": "stderr",
     "output_type": "stream",
     "text": [
      "100%|██████████| 270.36044788360596/270.36044788360596 [02:41<00:00,  1.67it/s]\n",
      "local md5 mismatch on dataset: mrsicflogellab/Subjects/SWC_054/2020-10-11/001/alf/_ibl_leftCamera.lightningPose.pqt\n"
     ]
    },
    {
     "name": "stdout",
     "output_type": "stream",
     "text": [
      "Downloading: /Users/ineslaranjeira/Downloads/FlatIron/mrsicflogellab/Subjects/SWC_054/2020-10-11/001/alf/_ibl_leftCamera.lightningPose.d87e7b38-afc1-40c9-bb23-47d7cf5e1bde.pqt Bytes: 124146375\n"
     ]
    },
    {
     "name": "stderr",
     "output_type": "stream",
     "text": [
      "100%|██████████| 118.39520931243896/118.39520931243896 [01:34<00:00,  1.25it/s]\n",
      "/Users/ineslaranjeira/Documents/Repositories/representation_learning_variability/Functions/video_functions.py:172: FutureWarning: The behavior of DataFrame concatenation with empty or all-NA entries is deprecated. In a future version, this will no longer exclude empty or all-NA columns when determining the result dtypes. To retain the old behavior, exclude the relevant entries before the concat operation.\n",
      "  licks_df = pd.concat([licks_df, temp_df])\n"
     ]
    },
    {
     "name": "stdout",
     "output_type": "stream",
     "text": [
      "Downloading: /Users/ineslaranjeira/Downloads/FlatIron/mrsicflogellab/Subjects/SWC_054/2020-10-11/001/alf/_ibl_rightCamera.dlc.498fb43c-c0b9-497b-8d76-85533b4f5fb1.pqt Bytes: 87687318\n"
     ]
    },
    {
     "name": "stderr",
     "output_type": "stream",
     "text": [
      "100%|██████████| 83.62514305114746/83.62514305114746 [01:21<00:00,  1.02it/s]\n",
      "/Users/ineslaranjeira/Documents/Repositories/representation_learning_variability/Functions/video_functions.py:172: FutureWarning: The behavior of DataFrame concatenation with empty or all-NA entries is deprecated. In a future version, this will no longer exclude empty or all-NA columns when determining the result dtypes. To retain the old behavior, exclude the relevant entries before the concat operation.\n",
      "  licks_df = pd.concat([licks_df, temp_df])\n",
      "No default revision for dataset alf/probe01/pykilosort/#2022-10-31#/clusters.amps.npy; using most recent\n",
      "No default revision for dataset alf/probe01/pykilosort/#2022-10-31#/clusters.amps.npy; using most recent\n"
     ]
    },
    {
     "name": "stdout",
     "output_type": "stream",
     "text": [
      "Downloading: /Users/ineslaranjeira/Downloads/FlatIron/mrsicflogellab/Subjects/SWC_058/2020-12-07/001/alf/_ibl_rightCamera.times.75200363-5744-44c9-a7eb-6caa249b56b4.npy Bytes: 7324304\n"
     ]
    },
    {
     "name": "stderr",
     "output_type": "stream",
     "text": [
      "100%|██████████| 6.9850006103515625/6.9850006103515625 [00:06<00:00,  1.10it/s]\n",
      "No default revision for dataset alf/probe01/pykilosort/#2022-10-31#/clusters.amps.npy; using most recent\n"
     ]
    },
    {
     "name": "stdout",
     "output_type": "stream",
     "text": [
      "Downloading: /Users/ineslaranjeira/Downloads/FlatIron/mrsicflogellab/Subjects/SWC_058/2020-12-07/001/alf/_ibl_rightCamera.lightningPose.8401d1b3-8fb0-477f-8952-2917f3981402.pqt Bytes: 401172923\n"
     ]
    },
    {
     "name": "stderr",
     "output_type": "stream",
     "text": [
      "100%|██████████| 382.58831310272217/382.58831310272217 [04:41<00:00,  1.36it/s]\n",
      "No default revision for dataset alf/probe01/pykilosort/#2022-10-31#/clusters.amps.npy; using most recent\n",
      "No default revision for dataset alf/probe01/pykilosort/#2022-10-31#/clusters.amps.npy; using most recent\n"
     ]
    },
    {
     "name": "stdout",
     "output_type": "stream",
     "text": [
      "Downloading: /Users/ineslaranjeira/Downloads/FlatIron/mrsicflogellab/Subjects/SWC_058/2020-12-07/001/alf/#2025-05-30#/_ibl_leftCamera.lightningPose.2db45bd9-a38c-43f5-aac1-0904c1f0c2ab.pqt Bytes: 170055994\n"
     ]
    },
    {
     "name": "stderr",
     "output_type": "stream",
     "text": [
      "100%|██████████| 162.17803382873535/162.17803382873535 [00:39<00:00,  4.13it/s]\n",
      "/Users/ineslaranjeira/Documents/Repositories/representation_learning_variability/Functions/video_functions.py:172: FutureWarning: The behavior of DataFrame concatenation with empty or all-NA entries is deprecated. In a future version, this will no longer exclude empty or all-NA columns when determining the result dtypes. To retain the old behavior, exclude the relevant entries before the concat operation.\n",
      "  licks_df = pd.concat([licks_df, temp_df])\n",
      "No default revision for dataset alf/probe01/pykilosort/#2022-10-31#/clusters.amps.npy; using most recent\n",
      "No default revision for dataset alf/probe01/pykilosort/#2022-10-31#/clusters.amps.npy; using most recent\n"
     ]
    },
    {
     "name": "stdout",
     "output_type": "stream",
     "text": [
      "Downloading: /Users/ineslaranjeira/Downloads/FlatIron/mrsicflogellab/Subjects/SWC_058/2020-12-07/001/alf/_ibl_rightCamera.dlc.9a81a556-ecf1-4769-9f61-ba44bf29c352.pqt Bytes: 114800087\n"
     ]
    },
    {
     "name": "stderr",
     "output_type": "stream",
     "text": [
      "100%|██████████| 109.48189449310303/109.48189449310303 [00:32<00:00,  3.34it/s]\n",
      "No default revision for dataset alf/probe01/pykilosort/#2022-10-31#/clusters.amps.npy; using most recent\n",
      "No default revision for dataset alf/probe01/pykilosort/#2022-10-31#/clusters.amps.npy; using most recent\n",
      "/Users/ineslaranjeira/Documents/Repositories/representation_learning_variability/Functions/video_functions.py:172: FutureWarning: The behavior of DataFrame concatenation with empty or all-NA entries is deprecated. In a future version, this will no longer exclude empty or all-NA columns when determining the result dtypes. To retain the old behavior, exclude the relevant entries before the concat operation.\n",
      "  licks_df = pd.concat([licks_df, temp_df])\n"
     ]
    },
    {
     "name": "stdout",
     "output_type": "stream",
     "text": [
      "Downloading: /Users/ineslaranjeira/Downloads/FlatIron/mrsicflogellab/Subjects/SWC_058/2020-12-08/001/alf/_ibl_rightCamera.times.b8fccfe3-da85-4b89-9d63-6324f780fb86.npy Bytes: 6441024\n"
     ]
    },
    {
     "name": "stderr",
     "output_type": "stream",
     "text": [
      "100%|██████████| 6.14263916015625/6.14263916015625 [00:04<00:00,  1.52it/s]\n"
     ]
    },
    {
     "name": "stdout",
     "output_type": "stream",
     "text": [
      "Downloading: /Users/ineslaranjeira/Downloads/FlatIron/mrsicflogellab/Subjects/SWC_058/2020-12-08/001/alf/_ibl_rightCamera.lightningPose.e0294d16-0f1c-4700-b9d4-269473ddfd9a.pqt Bytes: 357774054\n"
     ]
    },
    {
     "name": "stderr",
     "output_type": "stream",
     "text": [
      "100%|██████████| 341.1999263763428/341.1999263763428 [02:02<00:00,  2.78it/s]\n",
      "local md5 mismatch on dataset: mrsicflogellab/Subjects/SWC_058/2020-12-08/001/alf/_ibl_leftCamera.lightningPose.pqt\n"
     ]
    },
    {
     "name": "stdout",
     "output_type": "stream",
     "text": [
      "Downloading: /Users/ineslaranjeira/Downloads/FlatIron/mrsicflogellab/Subjects/SWC_058/2020-12-08/001/alf/_ibl_leftCamera.lightningPose.ba506be8-fa52-4014-a16e-b0e32a3c5631.pqt Bytes: 152026120\n"
     ]
    },
    {
     "name": "stderr",
     "output_type": "stream",
     "text": [
      "100%|██████████| 144.98340606689453/144.98340606689453 [00:32<00:00,  4.49it/s]\n",
      "/Users/ineslaranjeira/Documents/Repositories/representation_learning_variability/Functions/video_functions.py:172: FutureWarning: The behavior of DataFrame concatenation with empty or all-NA entries is deprecated. In a future version, this will no longer exclude empty or all-NA columns when determining the result dtypes. To retain the old behavior, exclude the relevant entries before the concat operation.\n",
      "  licks_df = pd.concat([licks_df, temp_df])\n"
     ]
    },
    {
     "name": "stdout",
     "output_type": "stream",
     "text": [
      "Downloading: /Users/ineslaranjeira/Downloads/FlatIron/mrsicflogellab/Subjects/SWC_058/2020-12-08/001/alf/_ibl_rightCamera.dlc.08b24347-0c22-46f5-9543-582eb2b29497.pqt Bytes: 104887525\n"
     ]
    },
    {
     "name": "stderr",
     "output_type": "stream",
     "text": [
      "100%|██████████| 100.02853870391846/100.02853870391846 [00:25<00:00,  3.99it/s]\n",
      "/Users/ineslaranjeira/Documents/Repositories/representation_learning_variability/Functions/video_functions.py:172: FutureWarning: The behavior of DataFrame concatenation with empty or all-NA entries is deprecated. In a future version, this will no longer exclude empty or all-NA columns when determining the result dtypes. To retain the old behavior, exclude the relevant entries before the concat operation.\n",
      "  licks_df = pd.concat([licks_df, temp_df])\n"
     ]
    },
    {
     "name": "stdout",
     "output_type": "stream",
     "text": [
      "Downloading: /Users/ineslaranjeira/Downloads/FlatIron/mrsicflogellab/Subjects/SWC_058/2020-12-09/001/alf/_ibl_rightCamera.times.7f5edb8b-4bbf-4a69-8998-d7d48d501e4f.npy Bytes: 6923264\n"
     ]
    },
    {
     "name": "stderr",
     "output_type": "stream",
     "text": [
      "100%|██████████| 6.6025390625/6.6025390625 [00:02<00:00,  3.28it/s]\n"
     ]
    },
    {
     "name": "stdout",
     "output_type": "stream",
     "text": [
      "Downloading: /Users/ineslaranjeira/Downloads/FlatIron/mrsicflogellab/Subjects/SWC_058/2020-12-09/001/alf/_ibl_rightCamera.lightningPose.73049b3e-dbd0-4b6d-8705-f01f46a9cb72.pqt Bytes: 381423371\n"
     ]
    },
    {
     "name": "stderr",
     "output_type": "stream",
     "text": [
      "100%|██████████| 363.7536725997925/363.7536725997925 [02:09<00:00,  2.81it/s]\n",
      "local md5 mismatch on dataset: mrsicflogellab/Subjects/SWC_058/2020-12-09/001/alf/_ibl_leftCamera.lightningPose.pqt\n"
     ]
    },
    {
     "name": "stdout",
     "output_type": "stream",
     "text": [
      "Downloading: /Users/ineslaranjeira/Downloads/FlatIron/mrsicflogellab/Subjects/SWC_058/2020-12-09/001/alf/_ibl_leftCamera.lightningPose.69ee94c1-0d56-4924-b94f-28ac2aad73e0.pqt Bytes: 162452774\n"
     ]
    },
    {
     "name": "stderr",
     "output_type": "stream",
     "text": [
      "100%|██████████| 154.92703819274902/154.92703819274902 [00:53<00:00,  2.89it/s]\n",
      "/Users/ineslaranjeira/Documents/Repositories/representation_learning_variability/Functions/video_functions.py:172: FutureWarning: The behavior of DataFrame concatenation with empty or all-NA entries is deprecated. In a future version, this will no longer exclude empty or all-NA columns when determining the result dtypes. To retain the old behavior, exclude the relevant entries before the concat operation.\n",
      "  licks_df = pd.concat([licks_df, temp_df])\n"
     ]
    },
    {
     "name": "stdout",
     "output_type": "stream",
     "text": [
      "Downloading: /Users/ineslaranjeira/Downloads/FlatIron/mrsicflogellab/Subjects/SWC_058/2020-12-09/001/alf/_ibl_rightCamera.dlc.a9b23f6d-ec19-4b23-8698-b1a9af588cec.pqt Bytes: 109776041\n"
     ]
    },
    {
     "name": "stderr",
     "output_type": "stream",
     "text": [
      "100%|██████████| 104.69059085845947/104.69059085845947 [00:30<00:00,  3.38it/s]\n",
      "/Users/ineslaranjeira/Documents/Repositories/representation_learning_variability/Functions/video_functions.py:172: FutureWarning: The behavior of DataFrame concatenation with empty or all-NA entries is deprecated. In a future version, this will no longer exclude empty or all-NA columns when determining the result dtypes. To retain the old behavior, exclude the relevant entries before the concat operation.\n",
      "  licks_df = pd.concat([licks_df, temp_df])\n"
     ]
    },
    {
     "name": "stdout",
     "output_type": "stream",
     "text": [
      "Downloading: /Users/ineslaranjeira/Downloads/FlatIron/mrsicflogellab/Subjects/SWC_058/2020-12-10/001/alf/_ibl_rightCamera.times.fdf49618-7fac-4db2-a300-873c1afa1252.npy Bytes: 5256416\n"
     ]
    },
    {
     "name": "stderr",
     "output_type": "stream",
     "text": [
      "100%|██████████| 5.012908935546875/5.012908935546875 [00:01<00:00,  3.05it/s]\n"
     ]
    },
    {
     "name": "stdout",
     "output_type": "stream",
     "text": [
      "Downloading: /Users/ineslaranjeira/Downloads/FlatIron/mrsicflogellab/Subjects/SWC_058/2020-12-10/001/alf/_ibl_rightCamera.lightningPose.1e014125-57d1-4d23-9707-1aa1f11d2af9.pqt Bytes: 293987112\n"
     ]
    },
    {
     "name": "stderr",
     "output_type": "stream",
     "text": [
      "100%|██████████| 280.36795806884766/280.36795806884766 [01:25<00:00,  3.27it/s]\n",
      "local md5 mismatch on dataset: mrsicflogellab/Subjects/SWC_058/2020-12-10/001/alf/_ibl_leftCamera.lightningPose.pqt\n"
     ]
    },
    {
     "name": "stdout",
     "output_type": "stream",
     "text": [
      "Downloading: /Users/ineslaranjeira/Downloads/FlatIron/mrsicflogellab/Subjects/SWC_058/2020-12-10/001/alf/_ibl_leftCamera.lightningPose.32b307af-6e84-4a7c-8b5a-f0f8d6d56daa.pqt Bytes: 127581943\n"
     ]
    },
    {
     "name": "stderr",
     "output_type": "stream",
     "text": [
      "100%|██████████| 121.67162227630615/121.67162227630615 [00:32<00:00,  3.70it/s]\n",
      "/Users/ineslaranjeira/Documents/Repositories/representation_learning_variability/Functions/video_functions.py:172: FutureWarning: The behavior of DataFrame concatenation with empty or all-NA entries is deprecated. In a future version, this will no longer exclude empty or all-NA columns when determining the result dtypes. To retain the old behavior, exclude the relevant entries before the concat operation.\n",
      "  licks_df = pd.concat([licks_df, temp_df])\n"
     ]
    },
    {
     "name": "stdout",
     "output_type": "stream",
     "text": [
      "Downloading: /Users/ineslaranjeira/Downloads/FlatIron/mrsicflogellab/Subjects/SWC_058/2020-12-10/001/alf/_ibl_rightCamera.dlc.c0f046cd-0722-442e-af9d-487a19d290b3.pqt Bytes: 85154069\n"
     ]
    },
    {
     "name": "stderr",
     "output_type": "stream",
     "text": [
      "100%|██████████| 81.20924854278564/81.20924854278564 [00:34<00:00,  2.33it/s]\n",
      "/Users/ineslaranjeira/Documents/Repositories/representation_learning_variability/Functions/video_functions.py:172: FutureWarning: The behavior of DataFrame concatenation with empty or all-NA entries is deprecated. In a future version, this will no longer exclude empty or all-NA columns when determining the result dtypes. To retain the old behavior, exclude the relevant entries before the concat operation.\n",
      "  licks_df = pd.concat([licks_df, temp_df])\n"
     ]
    },
    {
     "name": "stdout",
     "output_type": "stream",
     "text": [
      "Downloading: /Users/ineslaranjeira/Downloads/FlatIron/mrsicflogellab/Subjects/SWC_065/2022-05-07/001/alf/_ibl_rightCamera.times.88303616-97e6-472f-aff3-a19ba085c4f4.npy Bytes: 6440312\n"
     ]
    },
    {
     "name": "stderr",
     "output_type": "stream",
     "text": [
      "100%|██████████| 6.141960144042969/6.141960144042969 [00:03<00:00,  1.55it/s]\n"
     ]
    },
    {
     "name": "stdout",
     "output_type": "stream",
     "text": [
      "Downloading: /Users/ineslaranjeira/Downloads/FlatIron/mrsicflogellab/Subjects/SWC_065/2022-05-07/001/alf/_ibl_rightCamera.lightningPose.392d59ed-47f0-4052-93c9-36355b29f42b.pqt Bytes: 364272153\n"
     ]
    },
    {
     "name": "stderr",
     "output_type": "stream",
     "text": [
      "100%|██████████| 347.3969964981079/347.3969964981079 [01:32<00:00,  3.77it/s]\n",
      "local md5 mismatch on dataset: mrsicflogellab/Subjects/SWC_065/2022-05-07/001/alf/_ibl_leftCamera.lightningPose.pqt\n"
     ]
    },
    {
     "name": "stdout",
     "output_type": "stream",
     "text": [
      "Downloading: /Users/ineslaranjeira/Downloads/FlatIron/mrsicflogellab/Subjects/SWC_065/2022-05-07/001/alf/_ibl_leftCamera.lightningPose.d25ffc9d-4930-43e0-b552-be3c3403dce0.pqt Bytes: 154213529\n"
     ]
    },
    {
     "name": "stderr",
     "output_type": "stream",
     "text": [
      "100%|██████████| 147.0694818496704/147.0694818496704 [00:44<00:00,  3.34it/s]\n",
      "/Users/ineslaranjeira/Documents/Repositories/representation_learning_variability/Functions/video_functions.py:172: FutureWarning: The behavior of DataFrame concatenation with empty or all-NA entries is deprecated. In a future version, this will no longer exclude empty or all-NA columns when determining the result dtypes. To retain the old behavior, exclude the relevant entries before the concat operation.\n",
      "  licks_df = pd.concat([licks_df, temp_df])\n"
     ]
    },
    {
     "name": "stdout",
     "output_type": "stream",
     "text": [
      "Downloading: /Users/ineslaranjeira/Downloads/FlatIron/mrsicflogellab/Subjects/SWC_065/2022-05-07/001/alf/_ibl_rightCamera.dlc.aab06d0e-591f-4f75-9ced-4fac001d517a.pqt Bytes: 113310781\n"
     ]
    },
    {
     "name": "stderr",
     "output_type": "stream",
     "text": [
      "100%|██████████| 108.0615816116333/108.0615816116333 [00:47<00:00,  2.26it/s]\n",
      "/Users/ineslaranjeira/Documents/Repositories/representation_learning_variability/Functions/video_functions.py:172: FutureWarning: The behavior of DataFrame concatenation with empty or all-NA entries is deprecated. In a future version, this will no longer exclude empty or all-NA columns when determining the result dtypes. To retain the old behavior, exclude the relevant entries before the concat operation.\n",
      "  licks_df = pd.concat([licks_df, temp_df])\n"
     ]
    },
    {
     "name": "stdout",
     "output_type": "stream",
     "text": [
      "Downloading: /Users/ineslaranjeira/Downloads/FlatIron/steinmetzlab/Subjects/NR_0017/2022-03-22/001/alf/_ibl_rightCamera.times.a88b22d8-045a-409c-9750-2ee0cb2e2850.npy Bytes: 6594416\n"
     ]
    },
    {
     "name": "stderr",
     "output_type": "stream",
     "text": [
      "100%|██████████| 6.2889251708984375/6.2889251708984375 [00:01<00:00,  3.19it/s]\n"
     ]
    },
    {
     "name": "stdout",
     "output_type": "stream",
     "text": [
      "Downloading: /Users/ineslaranjeira/Downloads/FlatIron/steinmetzlab/Subjects/NR_0017/2022-03-22/001/alf/_ibl_rightCamera.lightningPose.892fcb53-ec55-426b-8c0a-30cfeb6b80ee.pqt Bytes: 372262570\n"
     ]
    },
    {
     "name": "stderr",
     "output_type": "stream",
     "text": [
      "100%|██████████| 355.0172519683838/355.0172519683838 [02:20<00:00,  2.53it/s]\n"
     ]
    },
    {
     "name": "stdout",
     "output_type": "stream",
     "text": [
      "Downloading: /Users/ineslaranjeira/Downloads/FlatIron/steinmetzlab/Subjects/NR_0017/2022-03-22/001/alf/_ibl_leftCamera.lightningPose.c659557e-0a0a-46fd-9903-30528200ee26.pqt Bytes: 163605929\n"
     ]
    },
    {
     "name": "stderr",
     "output_type": "stream",
     "text": [
      "100%|██████████| 156.02677249908447/156.02677249908447 [00:40<00:00,  3.87it/s]\n",
      "/Users/ineslaranjeira/Documents/Repositories/representation_learning_variability/Functions/video_functions.py:172: FutureWarning: The behavior of DataFrame concatenation with empty or all-NA entries is deprecated. In a future version, this will no longer exclude empty or all-NA columns when determining the result dtypes. To retain the old behavior, exclude the relevant entries before the concat operation.\n",
      "  licks_df = pd.concat([licks_df, temp_df])\n"
     ]
    },
    {
     "name": "stdout",
     "output_type": "stream",
     "text": [
      "Downloading: /Users/ineslaranjeira/Downloads/FlatIron/steinmetzlab/Subjects/NR_0017/2022-03-22/001/alf/_ibl_rightCamera.dlc.4001ce20-4372-400d-81e4-b4e91a717115.pqt Bytes: 116738873\n"
     ]
    },
    {
     "name": "stderr",
     "output_type": "stream",
     "text": [
      "100%|██████████| 111.33086490631104/111.33086490631104 [00:33<00:00,  3.31it/s]\n",
      "/Users/ineslaranjeira/Documents/Repositories/representation_learning_variability/Functions/video_functions.py:172: FutureWarning: The behavior of DataFrame concatenation with empty or all-NA entries is deprecated. In a future version, this will no longer exclude empty or all-NA columns when determining the result dtypes. To retain the old behavior, exclude the relevant entries before the concat operation.\n",
      "  licks_df = pd.concat([licks_df, temp_df])\n"
     ]
    },
    {
     "name": "stdout",
     "output_type": "stream",
     "text": [
      "Downloading: /Users/ineslaranjeira/Downloads/FlatIron/steinmetzlab/Subjects/NR_0019/2022-04-29/001/alf/_ibl_rightCamera.times.44a805a8-6b27-42a2-9fc8-54f69f842cc5.npy Bytes: 4917680\n"
     ]
    },
    {
     "name": "stderr",
     "output_type": "stream",
     "text": [
      "100%|██████████| 4.6898651123046875/4.6898651123046875 [00:01<00:00,  3.03it/s]\n"
     ]
    },
    {
     "name": "stdout",
     "output_type": "stream",
     "text": [
      "Downloading: /Users/ineslaranjeira/Downloads/FlatIron/steinmetzlab/Subjects/NR_0019/2022-04-29/001/alf/_ibl_rightCamera.lightningPose.264427ec-daa6-4ff6-a97c-c89ac77b5d33.pqt Bytes: 280355063\n"
     ]
    },
    {
     "name": "stderr",
     "output_type": "stream",
     "text": [
      "100%|██████████| 267.36742305755615/267.36742305755615 [01:34<00:00,  2.82it/s]\n"
     ]
    },
    {
     "name": "stdout",
     "output_type": "stream",
     "text": [
      "Downloading: /Users/ineslaranjeira/Downloads/FlatIron/steinmetzlab/Subjects/NR_0019/2022-04-29/001/alf/#2025-05-30#/_ibl_leftCamera.lightningPose.b7971118-e523-4858-9844-00c46c1835c5.pqt Bytes: 126750906\n"
     ]
    },
    {
     "name": "stderr",
     "output_type": "stream",
     "text": [
      "100%|██████████| 120.87908363342285/120.87908363342285 [00:36<00:00,  3.33it/s]\n",
      "/Users/ineslaranjeira/Documents/Repositories/representation_learning_variability/Functions/video_functions.py:172: FutureWarning: The behavior of DataFrame concatenation with empty or all-NA entries is deprecated. In a future version, this will no longer exclude empty or all-NA columns when determining the result dtypes. To retain the old behavior, exclude the relevant entries before the concat operation.\n",
      "  licks_df = pd.concat([licks_df, temp_df])\n"
     ]
    },
    {
     "name": "stdout",
     "output_type": "stream",
     "text": [
      "Downloading: /Users/ineslaranjeira/Downloads/FlatIron/steinmetzlab/Subjects/NR_0019/2022-04-29/001/alf/_ibl_rightCamera.dlc.b97acb1c-1e8e-4054-8479-c33e60b8573f.pqt Bytes: 92773023\n"
     ]
    },
    {
     "name": "stderr",
     "output_type": "stream",
     "text": [
      "100%|██████████| 88.47524929046631/88.47524929046631 [00:26<00:00,  3.36it/s]\n",
      "/opt/anaconda3/envs/iblenv/lib/python3.10/site-packages/numpy/lib/nanfunctions.py:1872: RuntimeWarning: Degrees of freedom <= 0 for slice.\n",
      "  var = nanvar(a, axis=axis, dtype=dtype, out=out, ddof=ddof,\n",
      "/Users/ineslaranjeira/Documents/Repositories/representation_learning_variability/Functions/video_functions.py:172: FutureWarning: The behavior of DataFrame concatenation with empty or all-NA entries is deprecated. In a future version, this will no longer exclude empty or all-NA columns when determining the result dtypes. To retain the old behavior, exclude the relevant entries before the concat operation.\n",
      "  licks_df = pd.concat([licks_df, temp_df])\n",
      "No default revision for dataset alf/probe00/pykilosort/#2024-03-12#/clusters.metrics.pqt; using most recent\n",
      "No default revision for dataset alf/probe01/pykilosort/#2024-03-12#/clusters.metrics.pqt; using most recent\n"
     ]
    },
    {
     "name": "stdout",
     "output_type": "stream",
     "text": [
      "Downloading: /Users/ineslaranjeira/Downloads/FlatIron/steinmetzlab/Subjects/NR_0019/2022-05-01/001/alf/#2025-03-03#/_ibl_trials.table.10b5277c-26e3-4bb8-90f7-28e5bd264e85.pqt Bytes: 41470Downloading: /Users/ineslaranjeira/Downloads/FlatIron/steinmetzlab/Subjects/NR_0019/2022-05-01/001/alf/#2025-03-03#/_ibl_trials.stimOffTrigger_times.e99b6d6c-153e-4e8e-a43a-b1695578450f.npy Bytes: 3952\n",
      "\n"
     ]
    },
    {
     "name": "stderr",
     "output_type": "stream",
     "text": [
      "100%|██████████| 0.0037689208984375/0.0037689208984375 [00:00<00:00,  1.01s/it]\n"
     ]
    },
    {
     "name": "stdout",
     "output_type": "stream",
     "text": [
      "Downloading: /Users/ineslaranjeira/Downloads/FlatIron/steinmetzlab/Subjects/NR_0019/2022-05-01/001/alf/#2025-03-03#/_ibl_trials.stimOnTrigger_times.0e817e4a-bbb4-434c-a904-31afe4198c96.npy Bytes: 3952Downloading: /Users/ineslaranjeira/Downloads/FlatIron/steinmetzlab/Subjects/NR_0019/2022-05-01/001/alf/#2025-03-03#/_ibl_trials.stimOff_times.c3cecf4a-75e8-4304-868a-2672563fc891.npy Bytes: 3952\n",
      "\n"
     ]
    },
    {
     "name": "stderr",
     "output_type": "stream",
     "text": [
      "  0%|          | 0/0.0037689208984375 [00:00<?, ?it/s]\n",
      "100%|██████████| 0.0037689208984375/0.0037689208984375 [00:00<00:00,  1.11s/it]\n",
      "100%|██████████| 0.0037689208984375/0.0037689208984375 [00:00<00:00,  1.27it/s]\n",
      "100%|██████████| 0.03954887390136719/0.03954887390136719 [00:00<00:00,  6.95s/it]\n",
      "No default revision for dataset alf/probe00/pykilosort/#2024-03-12#/clusters.metrics.pqt; using most recent\n",
      "No default revision for dataset alf/probe01/pykilosort/#2024-03-12#/clusters.metrics.pqt; using most recent\n"
     ]
    },
    {
     "name": "stdout",
     "output_type": "stream",
     "text": [
      "Downloading: /Users/ineslaranjeira/Downloads/FlatIron/steinmetzlab/Subjects/NR_0019/2022-05-01/001/alf/_ibl_rightCamera.times.b02edc64-20df-4e7e-90f1-41ff7e2b7eac.npy Bytes: 3113712\n"
     ]
    },
    {
     "name": "stderr",
     "output_type": "stream",
     "text": [
      "100%|██████████| 2.9694671630859375/2.9694671630859375 [00:01<00:00,  2.36it/s]\n",
      "No default revision for dataset alf/probe00/pykilosort/#2024-03-12#/clusters.metrics.pqt; using most recent\n",
      "No default revision for dataset alf/probe01/pykilosort/#2024-03-12#/clusters.metrics.pqt; using most recent\n"
     ]
    },
    {
     "name": "stdout",
     "output_type": "stream",
     "text": [
      "Downloading: /Users/ineslaranjeira/Downloads/FlatIron/steinmetzlab/Subjects/NR_0019/2022-05-01/001/alf/_ibl_rightCamera.lightningPose.83ea51ef-136c-4246-bc6d-83b9e30ac26d.pqt Bytes: 183059484\n"
     ]
    },
    {
     "name": "stderr",
     "output_type": "stream",
     "text": [
      "100%|██████████| 174.57912826538086/174.57912826538086 [00:48<00:00,  3.58it/s]\n",
      "No default revision for dataset alf/probe00/pykilosort/#2024-03-12#/clusters.metrics.pqt; using most recent\n",
      "No default revision for dataset alf/probe01/pykilosort/#2024-03-12#/clusters.metrics.pqt; using most recent\n",
      "No default revision for dataset alf/probe00/pykilosort/#2024-03-12#/clusters.metrics.pqt; using most recent\n",
      "No default revision for dataset alf/probe01/pykilosort/#2024-03-12#/clusters.metrics.pqt; using most recent\n",
      "local md5 mismatch on dataset: steinmetzlab/Subjects/NR_0019/2022-05-01/001/alf/_ibl_leftCamera.lightningPose.pqt\n"
     ]
    },
    {
     "name": "stdout",
     "output_type": "stream",
     "text": [
      "Downloading: /Users/ineslaranjeira/Downloads/FlatIron/steinmetzlab/Subjects/NR_0019/2022-05-01/001/alf/_ibl_leftCamera.lightningPose.7c35eb30-606e-412c-8136-e5168e8fd208.pqt Bytes: 84992781\n"
     ]
    },
    {
     "name": "stderr",
     "output_type": "stream",
     "text": [
      "100%|██████████| 81.05543231964111/81.05543231964111 [00:30<00:00,  2.66it/s]\n",
      "/Users/ineslaranjeira/Documents/Repositories/representation_learning_variability/Functions/video_functions.py:172: FutureWarning: The behavior of DataFrame concatenation with empty or all-NA entries is deprecated. In a future version, this will no longer exclude empty or all-NA columns when determining the result dtypes. To retain the old behavior, exclude the relevant entries before the concat operation.\n",
      "  licks_df = pd.concat([licks_df, temp_df])\n",
      "No default revision for dataset alf/probe00/pykilosort/#2024-03-12#/clusters.metrics.pqt; using most recent\n",
      "No default revision for dataset alf/probe01/pykilosort/#2024-03-12#/clusters.metrics.pqt; using most recent\n",
      "No default revision for dataset alf/probe00/pykilosort/#2024-03-12#/clusters.metrics.pqt; using most recent\n",
      "No default revision for dataset alf/probe01/pykilosort/#2024-03-12#/clusters.metrics.pqt; using most recent\n"
     ]
    },
    {
     "name": "stdout",
     "output_type": "stream",
     "text": [
      "Downloading: /Users/ineslaranjeira/Downloads/FlatIron/steinmetzlab/Subjects/NR_0019/2022-05-01/001/alf/_ibl_rightCamera.dlc.ace105e3-e722-4d3e-81f8-b9c05c57e363.pqt Bytes: 58986923\n"
     ]
    },
    {
     "name": "stderr",
     "output_type": "stream",
     "text": [
      "100%|██████████| 56.254313468933105/56.254313468933105 [00:23<00:00,  2.42it/s]\n",
      "No default revision for dataset alf/probe00/pykilosort/#2024-03-12#/clusters.metrics.pqt; using most recent\n",
      "No default revision for dataset alf/probe01/pykilosort/#2024-03-12#/clusters.metrics.pqt; using most recent\n",
      "No default revision for dataset alf/probe00/pykilosort/#2024-03-12#/clusters.metrics.pqt; using most recent\n",
      "No default revision for dataset alf/probe01/pykilosort/#2024-03-12#/clusters.metrics.pqt; using most recent\n",
      "/Users/ineslaranjeira/Documents/Repositories/representation_learning_variability/Functions/video_functions.py:172: FutureWarning: The behavior of DataFrame concatenation with empty or all-NA entries is deprecated. In a future version, this will no longer exclude empty or all-NA columns when determining the result dtypes. To retain the old behavior, exclude the relevant entries before the concat operation.\n",
      "  licks_df = pd.concat([licks_df, temp_df])\n"
     ]
    },
    {
     "name": "stdout",
     "output_type": "stream",
     "text": [
      "Downloading: /Users/ineslaranjeira/Downloads/FlatIron/steinmetzlab/Subjects/NR_0019/2022-05-03/001/alf/_ibl_rightCamera.times.7067f180-9d42-47dc-a312-0cb38be8b13e.npy Bytes: 6529576\n"
     ]
    },
    {
     "name": "stderr",
     "output_type": "stream",
     "text": [
      "100%|██████████| 6.227088928222656/6.227088928222656 [00:01<00:00,  3.31it/s]\n"
     ]
    },
    {
     "name": "stdout",
     "output_type": "stream",
     "text": [
      "Downloading: /Users/ineslaranjeira/Downloads/FlatIron/steinmetzlab/Subjects/NR_0019/2022-05-03/001/alf/_ibl_rightCamera.lightningPose.fcfee05e-53d1-470e-a9a7-1c8d48b42214.pqt Bytes: 365273435\n"
     ]
    },
    {
     "name": "stderr",
     "output_type": "stream",
     "text": [
      "100%|██████████| 348.3518934249878/348.3518934249878 [02:01<00:00,  2.87it/s]\n",
      "local md5 mismatch on dataset: steinmetzlab/Subjects/NR_0019/2022-05-03/001/alf/_ibl_leftCamera.lightningPose.pqt\n"
     ]
    },
    {
     "name": "stdout",
     "output_type": "stream",
     "text": [
      "Downloading: /Users/ineslaranjeira/Downloads/FlatIron/steinmetzlab/Subjects/NR_0019/2022-05-03/001/alf/_ibl_leftCamera.lightningPose.9caf40aa-604b-4548-996e-30a7bd300026.pqt Bytes: 160514867\n"
     ]
    },
    {
     "name": "stderr",
     "output_type": "stream",
     "text": [
      "100%|██████████| 153.07890605926514/153.07890605926514 [00:43<00:00,  3.54it/s]\n",
      "/Users/ineslaranjeira/Documents/Repositories/representation_learning_variability/Functions/video_functions.py:172: FutureWarning: The behavior of DataFrame concatenation with empty or all-NA entries is deprecated. In a future version, this will no longer exclude empty or all-NA columns when determining the result dtypes. To retain the old behavior, exclude the relevant entries before the concat operation.\n",
      "  licks_df = pd.concat([licks_df, temp_df])\n"
     ]
    },
    {
     "name": "stdout",
     "output_type": "stream",
     "text": [
      "Downloading: /Users/ineslaranjeira/Downloads/FlatIron/steinmetzlab/Subjects/NR_0019/2022-05-03/001/alf/_ibl_rightCamera.dlc.d14bba21-8e02-4f59-88e3-213e67932c86.pqt Bytes: 116295433\n"
     ]
    },
    {
     "name": "stderr",
     "output_type": "stream",
     "text": [
      "100%|██████████| 110.90796756744385/110.90796756744385 [00:25<00:00,  4.37it/s]\n",
      "/Users/ineslaranjeira/Documents/Repositories/representation_learning_variability/Functions/video_functions.py:172: FutureWarning: The behavior of DataFrame concatenation with empty or all-NA entries is deprecated. In a future version, this will no longer exclude empty or all-NA columns when determining the result dtypes. To retain the old behavior, exclude the relevant entries before the concat operation.\n",
      "  licks_df = pd.concat([licks_df, temp_df])\n"
     ]
    },
    {
     "name": "stdout",
     "output_type": "stream",
     "text": [
      "Downloading: /Users/ineslaranjeira/Downloads/FlatIron/steinmetzlab/Subjects/NR_0020/2022-05-08/001/alf/_ibl_rightCamera.times.8fd3962b-50ef-4191-a819-5b4004033fa6.npy Bytes: 4589584\n"
     ]
    },
    {
     "name": "stderr",
     "output_type": "stream",
     "text": [
      "100%|██████████| 4.3769683837890625/4.3769683837890625 [00:01<00:00,  2.76it/s]\n"
     ]
    },
    {
     "name": "stdout",
     "output_type": "stream",
     "text": [
      "Downloading: /Users/ineslaranjeira/Downloads/FlatIron/steinmetzlab/Subjects/NR_0020/2022-05-08/001/alf/_ibl_rightCamera.lightningPose.bac495f5-87a0-4eab-a7cc-495c20f0fae4.pqt Bytes: 263152947\n"
     ]
    },
    {
     "name": "stderr",
     "output_type": "stream",
     "text": [
      "100%|██████████| 250.96220684051514/250.96220684051514 [01:16<00:00,  3.26it/s]\n"
     ]
    },
    {
     "name": "stdout",
     "output_type": "stream",
     "text": [
      "Downloading: /Users/ineslaranjeira/Downloads/FlatIron/steinmetzlab/Subjects/NR_0020/2022-05-08/001/alf/#2025-05-30#/_ibl_leftCamera.lightningPose.a5608306-8bb4-470b-8123-b4fd92a77a73.pqt Bytes: 118992761\n"
     ]
    },
    {
     "name": "stderr",
     "output_type": "stream",
     "text": [
      "100%|██████████| 113.48034000396729/113.48034000396729 [00:31<00:00,  3.64it/s]\n",
      "/Users/ineslaranjeira/Documents/Repositories/representation_learning_variability/Functions/video_functions.py:172: FutureWarning: The behavior of DataFrame concatenation with empty or all-NA entries is deprecated. In a future version, this will no longer exclude empty or all-NA columns when determining the result dtypes. To retain the old behavior, exclude the relevant entries before the concat operation.\n",
      "  licks_df = pd.concat([licks_df, temp_df])\n"
     ]
    },
    {
     "name": "stdout",
     "output_type": "stream",
     "text": [
      "Downloading: /Users/ineslaranjeira/Downloads/FlatIron/steinmetzlab/Subjects/NR_0020/2022-05-08/001/alf/_ibl_rightCamera.dlc.57b65879-93a5-4943-9aea-0af654bdff88.pqt Bytes: 84522067\n"
     ]
    },
    {
     "name": "stderr",
     "output_type": "stream",
     "text": [
      "100%|██████████| 80.60652446746826/80.60652446746826 [00:22<00:00,  3.55it/s]\n",
      "/Users/ineslaranjeira/Documents/Repositories/representation_learning_variability/Functions/video_functions.py:172: FutureWarning: The behavior of DataFrame concatenation with empty or all-NA entries is deprecated. In a future version, this will no longer exclude empty or all-NA columns when determining the result dtypes. To retain the old behavior, exclude the relevant entries before the concat operation.\n",
      "  licks_df = pd.concat([licks_df, temp_df])\n"
     ]
    },
    {
     "name": "stdout",
     "output_type": "stream",
     "text": [
      "Downloading: /Users/ineslaranjeira/Downloads/FlatIron/steinmetzlab/Subjects/NR_0020/2022-05-09/001/alf/_ibl_rightCamera.times.8091f325-a803-4cfb-b444-07b638badb50.npy Bytes: 5577056\n"
     ]
    },
    {
     "name": "stderr",
     "output_type": "stream",
     "text": [
      "100%|██████████| 5.318695068359375/5.318695068359375 [00:02<00:00,  2.21it/s]\n"
     ]
    },
    {
     "name": "stdout",
     "output_type": "stream",
     "text": [
      "Downloading: /Users/ineslaranjeira/Downloads/FlatIron/steinmetzlab/Subjects/NR_0020/2022-05-09/001/alf/_ibl_rightCamera.lightningPose.bdbf1e5a-a973-4756-b254-07ba6ffd9ff2.pqt Bytes: 316062521\n"
     ]
    },
    {
     "name": "stderr",
     "output_type": "stream",
     "text": [
      "100%|██████████| 301.42070865631104/301.42070865631104 [01:41<00:00,  2.97it/s]\n",
      "local md5 mismatch on dataset: steinmetzlab/Subjects/NR_0020/2022-05-09/001/alf/_ibl_leftCamera.lightningPose.pqt\n"
     ]
    },
    {
     "name": "stdout",
     "output_type": "stream",
     "text": [
      "Downloading: /Users/ineslaranjeira/Downloads/FlatIron/steinmetzlab/Subjects/NR_0020/2022-05-09/001/alf/_ibl_leftCamera.lightningPose.cef261f0-35fd-4967-b134-bf09ba6f8284.pqt Bytes: 141409240\n"
     ]
    },
    {
     "name": "stderr",
     "output_type": "stream",
     "text": [
      "100%|██████████| 134.85836029052734/134.85836029052734 [00:54<00:00,  2.48it/s]\n",
      "/Users/ineslaranjeira/Documents/Repositories/representation_learning_variability/Functions/video_functions.py:172: FutureWarning: The behavior of DataFrame concatenation with empty or all-NA entries is deprecated. In a future version, this will no longer exclude empty or all-NA columns when determining the result dtypes. To retain the old behavior, exclude the relevant entries before the concat operation.\n",
      "  licks_df = pd.concat([licks_df, temp_df])\n"
     ]
    },
    {
     "name": "stdout",
     "output_type": "stream",
     "text": [
      "Downloading: /Users/ineslaranjeira/Downloads/FlatIron/steinmetzlab/Subjects/NR_0020/2022-05-09/001/alf/_ibl_rightCamera.dlc.f5571651-e441-4605-8742-ebec256cc4e8.pqt Bytes: 102737374\n"
     ]
    },
    {
     "name": "stderr",
     "output_type": "stream",
     "text": [
      "100%|██████████| 97.97799491882324/97.97799491882324 [00:29<00:00,  3.32it/s]\n",
      "/Users/ineslaranjeira/Documents/Repositories/representation_learning_variability/Functions/video_functions.py:172: FutureWarning: The behavior of DataFrame concatenation with empty or all-NA entries is deprecated. In a future version, this will no longer exclude empty or all-NA columns when determining the result dtypes. To retain the old behavior, exclude the relevant entries before the concat operation.\n",
      "  licks_df = pd.concat([licks_df, temp_df])\n"
     ]
    },
    {
     "name": "stdout",
     "output_type": "stream",
     "text": [
      "Downloading: /Users/ineslaranjeira/Downloads/FlatIron/steinmetzlab/Subjects/NR_0020/2022-05-10/001/alf/_ibl_rightCamera.times.a00b67f8-9c98-4db7-ba72-74693418d337.npy Bytes: 5589272\n"
     ]
    },
    {
     "name": "stderr",
     "output_type": "stream",
     "text": [
      "100%|██████████| 5.330345153808594/5.330345153808594 [00:02<00:00,  2.37it/s]\n"
     ]
    },
    {
     "name": "stdout",
     "output_type": "stream",
     "text": [
      "Downloading: /Users/ineslaranjeira/Downloads/FlatIron/steinmetzlab/Subjects/NR_0020/2022-05-10/001/alf/_ibl_rightCamera.lightningPose.0b7efdca-81cb-4163-9c5d-2ad3661cbe6b.pqt Bytes: 318901666\n"
     ]
    },
    {
     "name": "stderr",
     "output_type": "stream",
     "text": [
      "100%|██████████| 304.12832832336426/304.12832832336426 [02:27<00:00,  2.06it/s]\n",
      "local md5 mismatch on dataset: steinmetzlab/Subjects/NR_0020/2022-05-10/001/alf/_ibl_leftCamera.lightningPose.pqt\n"
     ]
    },
    {
     "name": "stdout",
     "output_type": "stream",
     "text": [
      "Downloading: /Users/ineslaranjeira/Downloads/FlatIron/steinmetzlab/Subjects/NR_0020/2022-05-10/001/alf/_ibl_leftCamera.lightningPose.d85fd207-a2be-4858-8ec1-9d3303271d76.pqt Bytes: 142071433\n"
     ]
    },
    {
     "name": "stderr",
     "output_type": "stream",
     "text": [
      "100%|██████████| 135.48987674713135/135.48987674713135 [00:48<00:00,  2.77it/s]\n",
      "/Users/ineslaranjeira/Documents/Repositories/representation_learning_variability/Functions/video_functions.py:172: FutureWarning: The behavior of DataFrame concatenation with empty or all-NA entries is deprecated. In a future version, this will no longer exclude empty or all-NA columns when determining the result dtypes. To retain the old behavior, exclude the relevant entries before the concat operation.\n",
      "  licks_df = pd.concat([licks_df, temp_df])\n"
     ]
    },
    {
     "name": "stdout",
     "output_type": "stream",
     "text": [
      "Downloading: /Users/ineslaranjeira/Downloads/FlatIron/steinmetzlab/Subjects/NR_0020/2022-05-10/001/alf/_ibl_rightCamera.dlc.6c406146-00a7-4b6f-92be-4ee8c61cbf1f.pqt Bytes: 103046243\n"
     ]
    },
    {
     "name": "stderr",
     "output_type": "stream",
     "text": [
      "100%|██████████| 98.27255535125732/98.27255535125732 [00:20<00:00,  4.68it/s]\n",
      "/Users/ineslaranjeira/Documents/Repositories/representation_learning_variability/Functions/video_functions.py:172: FutureWarning: The behavior of DataFrame concatenation with empty or all-NA entries is deprecated. In a future version, this will no longer exclude empty or all-NA columns when determining the result dtypes. To retain the old behavior, exclude the relevant entries before the concat operation.\n",
      "  licks_df = pd.concat([licks_df, temp_df])\n",
      "No default revision for dataset alf/probe01/pykilosort/#2024-03-12#/clusters.metrics.pqt; using most recent\n",
      "No default revision for dataset alf/probe01/pykilosort/#2024-03-12#/clusters.metrics.pqt; using most recent\n"
     ]
    },
    {
     "name": "stdout",
     "output_type": "stream",
     "text": [
      "Downloading: /Users/ineslaranjeira/Downloads/FlatIron/steinmetzlab/Subjects/NR_0020/2022-05-11/001/alf/_ibl_rightCamera.times.ffff2711-4335-430d-aabc-86ee940037a5.npy Bytes: 4641160\n"
     ]
    },
    {
     "name": "stderr",
     "output_type": "stream",
     "text": [
      "100%|██████████| 4.426155090332031/4.426155090332031 [00:01<00:00,  2.82it/s]\n",
      "No default revision for dataset alf/probe01/pykilosort/#2024-03-12#/clusters.metrics.pqt; using most recent\n"
     ]
    },
    {
     "name": "stdout",
     "output_type": "stream",
     "text": [
      "Downloading: /Users/ineslaranjeira/Downloads/FlatIron/steinmetzlab/Subjects/NR_0020/2022-05-11/001/alf/_ibl_rightCamera.lightningPose.b274b225-e9b3-4b86-b521-07dc17ce2c7f.pqt Bytes: 268047714\n"
     ]
    },
    {
     "name": "stderr",
     "output_type": "stream",
     "text": [
      "100%|██████████| 255.630220413208/255.630220413208 [01:23<00:00,  3.06it/s]\n",
      "No default revision for dataset alf/probe01/pykilosort/#2024-03-12#/clusters.metrics.pqt; using most recent\n",
      "No default revision for dataset alf/probe01/pykilosort/#2024-03-12#/clusters.metrics.pqt; using most recent\n",
      "local md5 mismatch on dataset: steinmetzlab/Subjects/NR_0020/2022-05-11/001/alf/_ibl_leftCamera.lightningPose.pqt\n"
     ]
    },
    {
     "name": "stdout",
     "output_type": "stream",
     "text": [
      "Downloading: /Users/ineslaranjeira/Downloads/FlatIron/steinmetzlab/Subjects/NR_0020/2022-05-11/001/alf/_ibl_leftCamera.lightningPose.20b8af75-0222-41bd-a2c1-00b590fc3226.pqt Bytes: 120635369\n"
     ]
    },
    {
     "name": "stderr",
     "output_type": "stream",
     "text": [
      "100%|██████████| 115.04685306549072/115.04685306549072 [00:32<00:00,  3.57it/s]\n",
      "/Users/ineslaranjeira/Documents/Repositories/representation_learning_variability/Functions/video_functions.py:172: FutureWarning: The behavior of DataFrame concatenation with empty or all-NA entries is deprecated. In a future version, this will no longer exclude empty or all-NA columns when determining the result dtypes. To retain the old behavior, exclude the relevant entries before the concat operation.\n",
      "  licks_df = pd.concat([licks_df, temp_df])\n",
      "No default revision for dataset alf/probe01/pykilosort/#2024-03-12#/clusters.metrics.pqt; using most recent\n",
      "No default revision for dataset alf/probe01/pykilosort/#2024-03-12#/clusters.metrics.pqt; using most recent\n"
     ]
    },
    {
     "name": "stdout",
     "output_type": "stream",
     "text": [
      "Downloading: /Users/ineslaranjeira/Downloads/FlatIron/steinmetzlab/Subjects/NR_0020/2022-05-11/001/alf/_ibl_rightCamera.dlc.a0e2f8b1-9642-41a9-ad40-ebd1828ca2a6.pqt Bytes: 84695374\n"
     ]
    },
    {
     "name": "stderr",
     "output_type": "stream",
     "text": [
      "100%|██████████| 80.77180290222168/80.77180290222168 [00:22<00:00,  3.64it/s]\n",
      "No default revision for dataset alf/probe01/pykilosort/#2024-03-12#/clusters.metrics.pqt; using most recent\n",
      "No default revision for dataset alf/probe01/pykilosort/#2024-03-12#/clusters.metrics.pqt; using most recent\n",
      "/Users/ineslaranjeira/Documents/Repositories/representation_learning_variability/Functions/video_functions.py:172: FutureWarning: The behavior of DataFrame concatenation with empty or all-NA entries is deprecated. In a future version, this will no longer exclude empty or all-NA columns when determining the result dtypes. To retain the old behavior, exclude the relevant entries before the concat operation.\n",
      "  licks_df = pd.concat([licks_df, temp_df])\n"
     ]
    },
    {
     "name": "stdout",
     "output_type": "stream",
     "text": [
      "Downloading: /Users/ineslaranjeira/Downloads/FlatIron/steinmetzlab/Subjects/NR_0021/2022-06-28/001/alf/_ibl_rightCamera.times.4565cf6d-5de6-453c-bb66-b4f29953de9c.npy Bytes: 5758264\n"
     ]
    },
    {
     "name": "stderr",
     "output_type": "stream",
     "text": [
      "100%|██████████| 5.491508483886719/5.491508483886719 [00:01<00:00,  2.82it/s]\n"
     ]
    },
    {
     "name": "stdout",
     "output_type": "stream",
     "text": [
      "Downloading: /Users/ineslaranjeira/Downloads/FlatIron/steinmetzlab/Subjects/NR_0021/2022-06-28/001/alf/_ibl_rightCamera.lightningPose.f1725192-df1f-4ad8-b4aa-469d88624936.pqt Bytes: 327777632\n"
     ]
    },
    {
     "name": "stderr",
     "output_type": "stream",
     "text": [
      "100%|██████████| 312.5931091308594/312.5931091308594 [01:27<00:00,  3.59it/s]\n",
      "local md5 mismatch on dataset: steinmetzlab/Subjects/NR_0021/2022-06-28/001/alf/_ibl_leftCamera.lightningPose.pqt\n"
     ]
    },
    {
     "name": "stdout",
     "output_type": "stream",
     "text": [
      "Downloading: /Users/ineslaranjeira/Downloads/FlatIron/steinmetzlab/Subjects/NR_0021/2022-06-28/001/alf/_ibl_leftCamera.lightningPose.e0661b23-5c4c-4846-b998-6f0aba088943.pqt Bytes: 145026068\n"
     ]
    },
    {
     "name": "stderr",
     "output_type": "stream",
     "text": [
      "100%|██████████| 138.30763626098633/138.30763626098633 [00:52<00:00,  2.66it/s]\n",
      "/Users/ineslaranjeira/Documents/Repositories/representation_learning_variability/Functions/video_functions.py:172: FutureWarning: The behavior of DataFrame concatenation with empty or all-NA entries is deprecated. In a future version, this will no longer exclude empty or all-NA columns when determining the result dtypes. To retain the old behavior, exclude the relevant entries before the concat operation.\n",
      "  licks_df = pd.concat([licks_df, temp_df])\n"
     ]
    },
    {
     "name": "stdout",
     "output_type": "stream",
     "text": [
      "Downloading: /Users/ineslaranjeira/Downloads/FlatIron/steinmetzlab/Subjects/NR_0021/2022-06-28/001/alf/_ibl_rightCamera.dlc.5538ed47-1f4a-4789-875a-ff00d7313cfc.pqt Bytes: 104069715\n"
     ]
    },
    {
     "name": "stderr",
     "output_type": "stream",
     "text": [
      "100%|██████████| 99.24861431121826/99.24861431121826 [00:28<00:00,  3.45it/s]\n",
      "/Users/ineslaranjeira/Documents/Repositories/representation_learning_variability/Functions/video_functions.py:172: FutureWarning: The behavior of DataFrame concatenation with empty or all-NA entries is deprecated. In a future version, this will no longer exclude empty or all-NA columns when determining the result dtypes. To retain the old behavior, exclude the relevant entries before the concat operation.\n",
      "  licks_df = pd.concat([licks_df, temp_df])\n"
     ]
    },
    {
     "name": "stdout",
     "output_type": "stream",
     "text": [
      "Downloading: /Users/ineslaranjeira/Downloads/FlatIron/steinmetzlab/Subjects/NR_0021/2022-06-30/002/alf/_ibl_rightCamera.times.0ef17f48-bdb2-4ab2-92e4-cda73284b700.npy Bytes: 5604568\n"
     ]
    },
    {
     "name": "stderr",
     "output_type": "stream",
     "text": [
      "100%|██████████| 5.344932556152344/5.344932556152344 [00:01<00:00,  3.06it/s]\n"
     ]
    },
    {
     "name": "stdout",
     "output_type": "stream",
     "text": [
      "Downloading: /Users/ineslaranjeira/Downloads/FlatIron/steinmetzlab/Subjects/NR_0021/2022-06-30/002/alf/_ibl_rightCamera.lightningPose.3323828d-b476-4a48-9020-0c6bab19d8ab.pqt Bytes: 320093463\n"
     ]
    },
    {
     "name": "stderr",
     "output_type": "stream",
     "text": [
      "100%|██████████| 305.2649145126343/305.2649145126343 [01:38<00:00,  3.11it/s]\n",
      "local md5 mismatch on dataset: steinmetzlab/Subjects/NR_0021/2022-06-30/002/alf/_ibl_leftCamera.lightningPose.pqt\n"
     ]
    },
    {
     "name": "stdout",
     "output_type": "stream",
     "text": [
      "Downloading: /Users/ineslaranjeira/Downloads/FlatIron/steinmetzlab/Subjects/NR_0021/2022-06-30/002/alf/_ibl_leftCamera.lightningPose.9032f496-2055-484a-8326-deed3cd38278.pqt Bytes: 141058739\n"
     ]
    },
    {
     "name": "stderr",
     "output_type": "stream",
     "text": [
      "100%|██████████| 134.52409648895264/134.52409648895264 [00:41<00:00,  3.27it/s]\n",
      "/Users/ineslaranjeira/Documents/Repositories/representation_learning_variability/Functions/video_functions.py:172: FutureWarning: The behavior of DataFrame concatenation with empty or all-NA entries is deprecated. In a future version, this will no longer exclude empty or all-NA columns when determining the result dtypes. To retain the old behavior, exclude the relevant entries before the concat operation.\n",
      "  licks_df = pd.concat([licks_df, temp_df])\n"
     ]
    },
    {
     "name": "stdout",
     "output_type": "stream",
     "text": [
      "Downloading: /Users/ineslaranjeira/Downloads/FlatIron/steinmetzlab/Subjects/NR_0021/2022-06-30/002/alf/_ibl_rightCamera.dlc.84dc4f10-afc3-409d-8332-cd9d7fe41f98.pqt Bytes: 102990682\n"
     ]
    },
    {
     "name": "stderr",
     "output_type": "stream",
     "text": [
      "100%|██████████| 98.21956825256348/98.21956825256348 [00:26<00:00,  3.77it/s]\n",
      "/Users/ineslaranjeira/Documents/Repositories/representation_learning_variability/Functions/video_functions.py:172: FutureWarning: The behavior of DataFrame concatenation with empty or all-NA entries is deprecated. In a future version, this will no longer exclude empty or all-NA columns when determining the result dtypes. To retain the old behavior, exclude the relevant entries before the concat operation.\n",
      "  licks_df = pd.concat([licks_df, temp_df])\n"
     ]
    },
    {
     "name": "stdout",
     "output_type": "stream",
     "text": [
      "Downloading: /Users/ineslaranjeira/Downloads/FlatIron/steinmetzlab/Subjects/NR_0021/2022-07-08/001/alf/_ibl_rightCamera.times.f5fce21d-c91e-4433-9ff3-fe0e886bd3be.npy Bytes: 5204176\n"
     ]
    },
    {
     "name": "stderr",
     "output_type": "stream",
     "text": [
      "100%|██████████| 4.9630889892578125/4.9630889892578125 [00:01<00:00,  2.85it/s]\n"
     ]
    },
    {
     "name": "stdout",
     "output_type": "stream",
     "text": [
      "Downloading: /Users/ineslaranjeira/Downloads/FlatIron/steinmetzlab/Subjects/NR_0021/2022-07-08/001/alf/_ibl_rightCamera.lightningPose.f027c9d1-3684-4722-8f2a-a3b4cc907a67.pqt Bytes: 297842874\n"
     ]
    },
    {
     "name": "stderr",
     "output_type": "stream",
     "text": [
      "100%|██████████| 284.04509925842285/284.04509925842285 [01:05<00:00,  4.33it/s]\n"
     ]
    },
    {
     "name": "stdout",
     "output_type": "stream",
     "text": [
      "Downloading: /Users/ineslaranjeira/Downloads/FlatIron/steinmetzlab/Subjects/NR_0021/2022-07-08/001/alf/#2025-05-30#/_ibl_leftCamera.lightningPose.7645715d-fefb-4f2e-9718-0db1fd2c2b09.pqt Bytes: 132743125\n"
     ]
    },
    {
     "name": "stderr",
     "output_type": "stream",
     "text": [
      "100%|██████████| 126.5937089920044/126.5937089920044 [00:44<00:00,  2.83it/s]\n",
      "/Users/ineslaranjeira/Documents/Repositories/representation_learning_variability/Functions/video_functions.py:172: FutureWarning: The behavior of DataFrame concatenation with empty or all-NA entries is deprecated. In a future version, this will no longer exclude empty or all-NA columns when determining the result dtypes. To retain the old behavior, exclude the relevant entries before the concat operation.\n",
      "  licks_df = pd.concat([licks_df, temp_df])\n"
     ]
    },
    {
     "name": "stdout",
     "output_type": "stream",
     "text": [
      "Downloading: /Users/ineslaranjeira/Downloads/FlatIron/steinmetzlab/Subjects/NR_0021/2022-07-08/001/alf/_ibl_rightCamera.dlc.61da42bd-48cf-4bee-b54c-6f52ffc8afb6.pqt Bytes: 96011021\n"
     ]
    },
    {
     "name": "stderr",
     "output_type": "stream",
     "text": [
      "100%|██████████| 91.56324481964111/91.56324481964111 [00:18<00:00,  4.84it/s]\n",
      "/Users/ineslaranjeira/Documents/Repositories/representation_learning_variability/Functions/video_functions.py:172: FutureWarning: The behavior of DataFrame concatenation with empty or all-NA entries is deprecated. In a future version, this will no longer exclude empty or all-NA columns when determining the result dtypes. To retain the old behavior, exclude the relevant entries before the concat operation.\n",
      "  licks_df = pd.concat([licks_df, temp_df])\n"
     ]
    },
    {
     "name": "stdout",
     "output_type": "stream",
     "text": [
      "Downloading: /Users/ineslaranjeira/Downloads/FlatIron/steinmetzlab/Subjects/NR_0027/2022-08-19/001/alf/_ibl_rightCamera.times.a17f030c-d750-48aa-80a5-440637549abf.npy Bytes: 7665248\n"
     ]
    },
    {
     "name": "stderr",
     "output_type": "stream",
     "text": [
      "100%|██████████| 7.310150146484375/7.310150146484375 [00:02<00:00,  3.47it/s]\n"
     ]
    },
    {
     "name": "stdout",
     "output_type": "stream",
     "text": [
      "Downloading: /Users/ineslaranjeira/Downloads/FlatIron/steinmetzlab/Subjects/NR_0027/2022-08-19/001/alf/_ibl_rightCamera.lightningPose.c4e423cd-31f1-473f-bbf5-8e2e06670e85.pqt Bytes: 429780670\n"
     ]
    },
    {
     "name": "stderr",
     "output_type": "stream",
     "text": [
      "100%|██████████| 409.8707866668701/409.8707866668701 [01:28<00:00,  4.61it/s]\n"
     ]
    },
    {
     "name": "stdout",
     "output_type": "stream",
     "text": [
      "Downloading: /Users/ineslaranjeira/Downloads/FlatIron/steinmetzlab/Subjects/NR_0027/2022-08-19/001/alf/_ibl_leftCamera.lightningPose.293ac3b6-e39c-4fe3-b0c9-ea7713f696f8.pqt Bytes: 183518959\n"
     ]
    },
    {
     "name": "stderr",
     "output_type": "stream",
     "text": [
      "100%|██████████| 175.01731777191162/175.01731777191162 [00:46<00:00,  3.74it/s]\n",
      "/Users/ineslaranjeira/Documents/Repositories/representation_learning_variability/Functions/video_functions.py:172: FutureWarning: The behavior of DataFrame concatenation with empty or all-NA entries is deprecated. In a future version, this will no longer exclude empty or all-NA columns when determining the result dtypes. To retain the old behavior, exclude the relevant entries before the concat operation.\n",
      "  licks_df = pd.concat([licks_df, temp_df])\n"
     ]
    },
    {
     "name": "stdout",
     "output_type": "stream",
     "text": [
      "Downloading: /Users/ineslaranjeira/Downloads/FlatIron/steinmetzlab/Subjects/NR_0027/2022-08-19/001/alf/_ibl_rightCamera.dlc.6157d664-81db-4330-92ce-b7c383af7b6d.pqt Bytes: 131312008\n"
     ]
    },
    {
     "name": "stderr",
     "output_type": "stream",
     "text": [
      "100%|██████████| 125.22888946533203/125.22888946533203 [00:45<00:00,  2.76it/s]\n",
      "/Users/ineslaranjeira/Documents/Repositories/representation_learning_variability/Functions/video_functions.py:172: FutureWarning: The behavior of DataFrame concatenation with empty or all-NA entries is deprecated. In a future version, this will no longer exclude empty or all-NA columns when determining the result dtypes. To retain the old behavior, exclude the relevant entries before the concat operation.\n",
      "  licks_df = pd.concat([licks_df, temp_df])\n",
      "No default revision for dataset alf/probe00/pykilosort/#2024-05-06#/clusters.metrics.pqt; using most recent\n"
     ]
    },
    {
     "name": "stdout",
     "output_type": "stream",
     "text": [
      "Downloading: /Users/ineslaranjeira/Downloads/FlatIron/steinmetzlab/Subjects/NR_0027/2022-08-20/001/alf/_ibl_trials.quiescencePeriod.af26d708-ceaf-4787-af34-045cf1b107ae.npy Bytes: 8424Downloading: /Users/ineslaranjeira/Downloads/FlatIron/steinmetzlab/Subjects/NR_0027/2022-08-20/001/alf/_ibl_trials.intervals_bpod.87022e92-6069-45f2-b57b-e9246c35c360.npy Bytes: 16720\n",
      "Downloading: /Users/ineslaranjeira/Downloads/FlatIron/steinmetzlab/Subjects/NR_0027/2022-08-20/001/alf/#2025-03-03#/_ibl_trials.stimOffTrigger_times.7a7a64e8-b465-49c8-85fe-2e3fdc5a2e2e.npy Bytes: 8424\n",
      "\n"
     ]
    },
    {
     "name": "stderr",
     "output_type": "stream",
     "text": [
      "  0%|          | 0/0.0159454345703125 [00:00<?, ?it/s]\n",
      "100%|██████████| 0.00803375244140625/0.00803375244140625 [00:00<00:00,  1.24s/it]\n",
      "100%|██████████| 0.00803375244140625/0.00803375244140625 [00:00<00:00,  1.91it/s]\n"
     ]
    },
    {
     "name": "stdout",
     "output_type": "stream",
     "text": [
      "Downloading: /Users/ineslaranjeira/Downloads/FlatIron/steinmetzlab/Subjects/NR_0027/2022-08-20/001/alf/_ibl_trials.goCueTrigger_times.a0589d17-4488-4199-8382-c58f0fe7e065.npy Bytes: 8424\n"
     ]
    },
    {
     "name": "stderr",
     "output_type": "stream",
     "text": [
      "100%|██████████| 0.00803375244140625/0.00803375244140625 [00:00<00:00,  2.42it/s]\n",
      "100%|██████████| 0.0159454345703125/0.0159454345703125 [00:00<00:00,  8.45s/it]\n"
     ]
    },
    {
     "name": "stdout",
     "output_type": "stream",
     "text": [
      "Downloading: /Users/ineslaranjeira/Downloads/FlatIron/steinmetzlab/Subjects/NR_0027/2022-08-20/001/alf/#2025-03-03#/_ibl_trials.stimOnTrigger_times.022fd763-d97f-4142-8c52-25114a0a3bee.npy Bytes: 8424\n"
     ]
    },
    {
     "name": "stderr",
     "output_type": "stream",
     "text": [
      "100%|██████████| 0.00803375244140625/0.00803375244140625 [00:00<00:00,  1.64it/s]\n"
     ]
    },
    {
     "name": "stdout",
     "output_type": "stream",
     "text": [
      "Downloading: /Users/ineslaranjeira/Downloads/FlatIron/steinmetzlab/Subjects/NR_0027/2022-08-20/001/alf/#2025-03-03#/_ibl_trials.table.3b3f8d29-6684-479d-b649-598020ddc9d1.pqt Bytes: 79607\n",
      "Downloading: /Users/ineslaranjeira/Downloads/FlatIron/steinmetzlab/Subjects/NR_0027/2022-08-20/001/alf/#2025-03-03#/_ibl_trials.stimOff_times.ff89230d-2afd-4b91-9a7d-4dc37fb45735.npy Bytes: 8424\n"
     ]
    },
    {
     "name": "stderr",
     "output_type": "stream",
     "text": [
      "100%|██████████| 0.00803375244140625/0.00803375244140625 [00:00<00:00,  2.49it/s]\n",
      "100%|██████████| 0.07591915130615234/0.07591915130615234 [00:00<00:00,  4.27s/it]\n",
      "No default revision for dataset alf/probe00/pykilosort/#2024-05-06#/clusters.metrics.pqt; using most recent\n"
     ]
    },
    {
     "name": "stdout",
     "output_type": "stream",
     "text": [
      "Downloading: /Users/ineslaranjeira/Downloads/FlatIron/steinmetzlab/Subjects/NR_0027/2022-08-20/001/alf/_ibl_rightCamera.times.525b39a5-b1ac-4dd6-b0b4-ee1182c13c24.npy Bytes: 8383488\n"
     ]
    },
    {
     "name": "stderr",
     "output_type": "stream",
     "text": [
      "100%|██████████| 7.9951171875/7.9951171875 [00:02<00:00,  3.26it/s]\n",
      "No default revision for dataset alf/probe00/pykilosort/#2024-05-06#/clusters.metrics.pqt; using most recent\n"
     ]
    },
    {
     "name": "stdout",
     "output_type": "stream",
     "text": [
      "Downloading: /Users/ineslaranjeira/Downloads/FlatIron/steinmetzlab/Subjects/NR_0027/2022-08-20/001/alf/_ibl_rightCamera.lightningPose.d8cfaa04-e595-416d-b9c9-3e5c707b11d2.pqt Bytes: 465752943\n"
     ]
    },
    {
     "name": "stderr",
     "output_type": "stream",
     "text": [
      "100%|██████████| 444.1766195297241/444.1766195297241 [01:56<00:00,  3.81it/s]\n",
      "No default revision for dataset alf/probe00/pykilosort/#2024-05-06#/clusters.metrics.pqt; using most recent\n"
     ]
    },
    {
     "name": "stdout",
     "output_type": "stream",
     "text": [
      "Downloading: /Users/ineslaranjeira/Downloads/FlatIron/steinmetzlab/Subjects/NR_0027/2022-08-20/001/alf/_ibl_leftCamera.times.cde438ef-2248-4c47-b818-60f305ff2071.npy Bytes: 3346648\n"
     ]
    },
    {
     "name": "stderr",
     "output_type": "stream",
     "text": [
      "100%|██████████| 3.1916122436523438/3.1916122436523438 [00:01<00:00,  2.37it/s]\n",
      "No default revision for dataset alf/probe00/pykilosort/#2024-05-06#/clusters.metrics.pqt; using most recent\n"
     ]
    },
    {
     "name": "stdout",
     "output_type": "stream",
     "text": [
      "Downloading: /Users/ineslaranjeira/Downloads/FlatIron/steinmetzlab/Subjects/NR_0027/2022-08-20/001/alf/_ibl_leftCamera.lightningPose.3a162cca-dda7-4eee-a945-faa8e23833b6.pqt Bytes: 198191241\n"
     ]
    },
    {
     "name": "stderr",
     "output_type": "stream",
     "text": [
      "100%|██████████| 189.00989627838135/189.00989627838135 [00:49<00:00,  3.84it/s]\n",
      "/Users/ineslaranjeira/Documents/Repositories/representation_learning_variability/Functions/video_functions.py:172: FutureWarning: The behavior of DataFrame concatenation with empty or all-NA entries is deprecated. In a future version, this will no longer exclude empty or all-NA columns when determining the result dtypes. To retain the old behavior, exclude the relevant entries before the concat operation.\n",
      "  licks_df = pd.concat([licks_df, temp_df])\n",
      "No default revision for dataset alf/probe00/pykilosort/#2024-05-06#/clusters.metrics.pqt; using most recent\n",
      "No default revision for dataset alf/probe00/pykilosort/#2024-05-06#/clusters.metrics.pqt; using most recent\n"
     ]
    },
    {
     "name": "stdout",
     "output_type": "stream",
     "text": [
      "Downloading: /Users/ineslaranjeira/Downloads/FlatIron/steinmetzlab/Subjects/NR_0027/2022-08-20/001/alf/_ibl_rightCamera.dlc.a6e6360d-4866-425b-a2a2-e137b0e034fd.pqt Bytes: 142761148\n"
     ]
    },
    {
     "name": "stderr",
     "output_type": "stream",
     "text": [
      "100%|██████████| 136.14764022827148/136.14764022827148 [00:32<00:00,  4.24it/s]\n",
      "No default revision for dataset alf/probe00/pykilosort/#2024-05-06#/clusters.metrics.pqt; using most recent\n",
      "No default revision for dataset alf/probe00/pykilosort/#2024-05-06#/clusters.metrics.pqt; using most recent\n"
     ]
    },
    {
     "name": "stdout",
     "output_type": "stream",
     "text": [
      "Downloading: /Users/ineslaranjeira/Downloads/FlatIron/steinmetzlab/Subjects/NR_0027/2022-08-20/001/alf/_ibl_leftCamera.dlc.af0a476a-4cd5-4de2-936b-b1660455290f.pqt Bytes: 66566768\n"
     ]
    },
    {
     "name": "stderr",
     "output_type": "stream",
     "text": [
      "100%|██████████| 63.48301696777344/63.48301696777344 [00:16<00:00,  3.81it/s]\n",
      "/Users/ineslaranjeira/Documents/Repositories/representation_learning_variability/Functions/video_functions.py:172: FutureWarning: The behavior of DataFrame concatenation with empty or all-NA entries is deprecated. In a future version, this will no longer exclude empty or all-NA columns when determining the result dtypes. To retain the old behavior, exclude the relevant entries before the concat operation.\n",
      "  licks_df = pd.concat([licks_df, temp_df])\n"
     ]
    },
    {
     "name": "stdout",
     "output_type": "stream",
     "text": [
      "Downloading: /Users/ineslaranjeira/Downloads/FlatIron/steinmetzlab/Subjects/NR_0027/2022-08-22/001/alf/_ibl_rightCamera.times.f5dfba73-0b7d-4548-acec-4f3b25bec4c4.npy Bytes: 8111696\n"
     ]
    },
    {
     "name": "stderr",
     "output_type": "stream",
     "text": [
      "100%|██████████| 7.7359161376953125/7.7359161376953125 [00:04<00:00,  1.73it/s]\n"
     ]
    },
    {
     "name": "stdout",
     "output_type": "stream",
     "text": [
      "Downloading: /Users/ineslaranjeira/Downloads/FlatIron/steinmetzlab/Subjects/NR_0027/2022-08-22/001/alf/_ibl_rightCamera.lightningPose.4d924882-38de-44d8-abc3-ad83ac6f8c9e.pqt Bytes: 452461764\n"
     ]
    },
    {
     "name": "stderr",
     "output_type": "stream",
     "text": [
      "100%|██████████| 431.501163482666/431.501163482666 [01:56<00:00,  3.69it/s]\n",
      "local md5 mismatch on dataset: steinmetzlab/Subjects/NR_0027/2022-08-22/001/alf/_ibl_leftCamera.lightningPose.pqt\n"
     ]
    },
    {
     "name": "stdout",
     "output_type": "stream",
     "text": [
      "Downloading: /Users/ineslaranjeira/Downloads/FlatIron/steinmetzlab/Subjects/NR_0027/2022-08-22/001/alf/_ibl_leftCamera.lightningPose.2c35d889-52de-4429-be12-b8b534634a11.pqt Bytes: 191819377\n"
     ]
    },
    {
     "name": "stderr",
     "output_type": "stream",
     "text": [
      "100%|██████████| 182.93321323394775/182.93321323394775 [00:45<00:00,  3.99it/s]\n",
      "/Users/ineslaranjeira/Documents/Repositories/representation_learning_variability/Functions/video_functions.py:172: FutureWarning: The behavior of DataFrame concatenation with empty or all-NA entries is deprecated. In a future version, this will no longer exclude empty or all-NA columns when determining the result dtypes. To retain the old behavior, exclude the relevant entries before the concat operation.\n",
      "  licks_df = pd.concat([licks_df, temp_df])\n"
     ]
    },
    {
     "name": "stdout",
     "output_type": "stream",
     "text": [
      "Downloading: /Users/ineslaranjeira/Downloads/FlatIron/steinmetzlab/Subjects/NR_0027/2022-08-22/001/alf/_ibl_rightCamera.dlc.f63d7441-0f91-4fe9-a4a1-e4072e662778.pqt Bytes: 140368203\n"
     ]
    },
    {
     "name": "stderr",
     "output_type": "stream",
     "text": [
      "100%|██████████| 133.86555004119873/133.86555004119873 [00:26<00:00,  4.99it/s]\n",
      "/Users/ineslaranjeira/Documents/Repositories/representation_learning_variability/Functions/video_functions.py:172: FutureWarning: The behavior of DataFrame concatenation with empty or all-NA entries is deprecated. In a future version, this will no longer exclude empty or all-NA columns when determining the result dtypes. To retain the old behavior, exclude the relevant entries before the concat operation.\n",
      "  licks_df = pd.concat([licks_df, temp_df])\n",
      "No default revision for dataset alf/probe01/pykilosort/#2024-05-06#/clusters.metrics.pqt; using most recent\n",
      "No default revision for dataset alf/probe01/pykilosort/#2024-05-06#/clusters.metrics.pqt; using most recent\n"
     ]
    },
    {
     "name": "stdout",
     "output_type": "stream",
     "text": [
      "Downloading: /Users/ineslaranjeira/Downloads/FlatIron/steinmetzlab/Subjects/NR_0027/2022-08-23/001/alf/_ibl_rightCamera.times.0ae492f9-d106-4efd-94c5-15d738f86c23.npy Bytes: 6626112\n"
     ]
    },
    {
     "name": "stderr",
     "output_type": "stream",
     "text": [
      "100%|██████████| 6.31915283203125/6.31915283203125 [00:02<00:00,  2.83it/s]\n",
      "No default revision for dataset alf/probe01/pykilosort/#2024-05-06#/clusters.metrics.pqt; using most recent\n"
     ]
    },
    {
     "name": "stdout",
     "output_type": "stream",
     "text": [
      "Downloading: /Users/ineslaranjeira/Downloads/FlatIron/steinmetzlab/Subjects/NR_0027/2022-08-23/001/alf/_ibl_rightCamera.lightningPose.26c88f78-20c0-448e-9bf3-f907c0c6a421.pqt Bytes: 372219972\n"
     ]
    },
    {
     "name": "stderr",
     "output_type": "stream",
     "text": [
      "100%|██████████| 354.9766273498535/354.9766273498535 [01:27<00:00,  4.04it/s]\n",
      "No default revision for dataset alf/probe01/pykilosort/#2024-05-06#/clusters.metrics.pqt; using most recent\n",
      "No default revision for dataset alf/probe01/pykilosort/#2024-05-06#/clusters.metrics.pqt; using most recent\n"
     ]
    },
    {
     "name": "stdout",
     "output_type": "stream",
     "text": [
      "Downloading: /Users/ineslaranjeira/Downloads/FlatIron/steinmetzlab/Subjects/NR_0027/2022-08-23/001/alf/_ibl_leftCamera.lightningPose.b274defe-e923-4214-8bc4-753b539fc0b3.pqt Bytes: 159468884\n"
     ]
    },
    {
     "name": "stderr",
     "output_type": "stream",
     "text": [
      "100%|██████████| 152.08137893676758/152.08137893676758 [01:18<00:00,  1.95it/s]\n",
      "/Users/ineslaranjeira/Documents/Repositories/representation_learning_variability/Functions/video_functions.py:172: FutureWarning: The behavior of DataFrame concatenation with empty or all-NA entries is deprecated. In a future version, this will no longer exclude empty or all-NA columns when determining the result dtypes. To retain the old behavior, exclude the relevant entries before the concat operation.\n",
      "  licks_df = pd.concat([licks_df, temp_df])\n",
      "No default revision for dataset alf/probe01/pykilosort/#2024-05-06#/clusters.metrics.pqt; using most recent\n",
      "No default revision for dataset alf/probe01/pykilosort/#2024-05-06#/clusters.metrics.pqt; using most recent\n"
     ]
    },
    {
     "name": "stdout",
     "output_type": "stream",
     "text": [
      "Downloading: /Users/ineslaranjeira/Downloads/FlatIron/steinmetzlab/Subjects/NR_0027/2022-08-23/001/alf/_ibl_rightCamera.dlc.e27d87e7-b2f5-4d34-9fb2-8d12848a460b.pqt Bytes: 115654338\n"
     ]
    },
    {
     "name": "stderr",
     "output_type": "stream",
     "text": [
      "100%|██████████| 110.29657173156738/110.29657173156738 [00:29<00:00,  3.73it/s]\n",
      "No default revision for dataset alf/probe01/pykilosort/#2024-05-06#/clusters.metrics.pqt; using most recent\n",
      "No default revision for dataset alf/probe01/pykilosort/#2024-05-06#/clusters.metrics.pqt; using most recent\n",
      "/Users/ineslaranjeira/Documents/Repositories/representation_learning_variability/Functions/video_functions.py:172: FutureWarning: The behavior of DataFrame concatenation with empty or all-NA entries is deprecated. In a future version, this will no longer exclude empty or all-NA columns when determining the result dtypes. To retain the old behavior, exclude the relevant entries before the concat operation.\n",
      "  licks_df = pd.concat([licks_df, temp_df])\n"
     ]
    },
    {
     "name": "stdout",
     "output_type": "stream",
     "text": [
      "Downloading: /Users/ineslaranjeira/Downloads/FlatIron/wittenlab/Subjects/ibl_witten_18/2020-09-01/004/alf/_ibl_rightCamera.times.8373b556-fc90-4cb0-a49a-a23bb39f1d2e.npy Bytes: 6183912\n"
     ]
    },
    {
     "name": "stderr",
     "output_type": "stream",
     "text": [
      "100%|██████████| 5.897438049316406/5.897438049316406 [00:02<00:00,  2.46it/s]\n"
     ]
    },
    {
     "name": "stdout",
     "output_type": "stream",
     "text": [
      "Downloading: /Users/ineslaranjeira/Downloads/FlatIron/wittenlab/Subjects/ibl_witten_18/2020-09-01/004/alf/_ibl_rightCamera.lightningPose.e323edd2-c03d-4f20-9185-3daa4379d0d8.pqt Bytes: 346434867\n"
     ]
    },
    {
     "name": "stderr",
     "output_type": "stream",
     "text": [
      "100%|██████████| 330.38603496551514/330.38603496551514 [02:19<00:00,  2.38it/s]\n"
     ]
    },
    {
     "name": "stdout",
     "output_type": "stream",
     "text": [
      "Downloading: /Users/ineslaranjeira/Downloads/FlatIron/wittenlab/Subjects/ibl_witten_18/2020-09-01/004/alf/_ibl_leftCamera.lightningPose.45e7e846-7a83-4220-bbef-b22c9ac81183.pqt Bytes: 155081058\n"
     ]
    },
    {
     "name": "stderr",
     "output_type": "stream",
     "text": [
      "100%|██████████| 147.896821975708/147.896821975708 [00:43<00:00,  3.44it/s]\n",
      "/Users/ineslaranjeira/Documents/Repositories/representation_learning_variability/Functions/video_functions.py:172: FutureWarning: The behavior of DataFrame concatenation with empty or all-NA entries is deprecated. In a future version, this will no longer exclude empty or all-NA columns when determining the result dtypes. To retain the old behavior, exclude the relevant entries before the concat operation.\n",
      "  licks_df = pd.concat([licks_df, temp_df])\n"
     ]
    },
    {
     "name": "stdout",
     "output_type": "stream",
     "text": [
      "Downloading: /Users/ineslaranjeira/Downloads/FlatIron/wittenlab/Subjects/ibl_witten_18/2020-09-01/004/alf/_ibl_rightCamera.dlc.7c4bcc50-1dda-4405-b756-910f22539c41.pqt Bytes: 100379326\n"
     ]
    },
    {
     "name": "stderr",
     "output_type": "stream",
     "text": [
      "100%|██████████| 95.72918510437012/95.72918510437012 [00:24<00:00,  3.93it/s]\n",
      "/Users/ineslaranjeira/Documents/Repositories/representation_learning_variability/Functions/video_functions.py:172: FutureWarning: The behavior of DataFrame concatenation with empty or all-NA entries is deprecated. In a future version, this will no longer exclude empty or all-NA columns when determining the result dtypes. To retain the old behavior, exclude the relevant entries before the concat operation.\n",
      "  licks_df = pd.concat([licks_df, temp_df])\n",
      "No default revision for dataset alf/probe00/pykilosort/clusters.metrics.pqt; using most recent\n"
     ]
    },
    {
     "name": "stdout",
     "output_type": "stream",
     "text": [
      "Downloading: /Users/ineslaranjeira/Downloads/FlatIron/wittenlab/Subjects/ibl_witten_20/2020-09-01/001/alf/_ibl_trials.goCueTrigger_times.b1614b36-3077-4c0e-a9d1-3ec462416599.npy Bytes: 6864\n"
     ]
    },
    {
     "name": "stderr",
     "output_type": "stream",
     "text": [
      "100%|██████████| 0.0065460205078125/0.0065460205078125 [00:00<00:00,  1.43s/it]\n"
     ]
    },
    {
     "name": "stdout",
     "output_type": "stream",
     "text": [
      "Downloading: /Users/ineslaranjeira/Downloads/FlatIron/wittenlab/Subjects/ibl_witten_20/2020-09-01/001/alf/#2025-03-03#/_ibl_trials.stimOffTrigger_times.f54cc360-d28a-4664-bb0a-c0133118d930.npy Bytes: 6864Downloading: /Users/ineslaranjeira/Downloads/FlatIron/wittenlab/Subjects/ibl_witten_20/2020-09-01/001/alf/_ibl_trials.quiescencePeriod.e358d963-986f-4c16-b889-e53af556aafa.npy Bytes: 6864\n",
      "\n"
     ]
    },
    {
     "name": "stderr",
     "output_type": "stream",
     "text": [
      "100%|██████████| 0.0065460205078125/0.0065460205078125 [00:00<00:00,  1.30s/it]\n",
      "100%|██████████| 0.0065460205078125/0.0065460205078125 [00:00<00:00,  1.33it/s]\n"
     ]
    },
    {
     "name": "stdout",
     "output_type": "stream",
     "text": [
      "Downloading: /Users/ineslaranjeira/Downloads/FlatIron/wittenlab/Subjects/ibl_witten_20/2020-09-01/001/alf/_ibl_trials.intervals_bpod.bef4c81b-4c7e-439f-a457-b456b871ddf0.npy Bytes: 13600\n"
     ]
    },
    {
     "name": "stderr",
     "output_type": "stream",
     "text": [
      "100%|██████████| 0.012969970703125/0.012969970703125 [00:00<00:00,  2.91s/it]\n"
     ]
    },
    {
     "name": "stdout",
     "output_type": "stream",
     "text": [
      "Downloading: /Users/ineslaranjeira/Downloads/FlatIron/wittenlab/Subjects/ibl_witten_20/2020-09-01/001/alf/#2025-03-03#/_ibl_trials.stimOnTrigger_times.db28f6ea-c100-4629-b5dd-b763dd95c6e6.npy Bytes: 6864\n",
      "Downloading: /Users/ineslaranjeira/Downloads/FlatIron/wittenlab/Subjects/ibl_witten_20/2020-09-01/001/alf/#2025-03-03#/_ibl_trials.table.457ba4d7-e7b1-464f-b628-16dead08b7b5.pqt Bytes: 65896\n"
     ]
    },
    {
     "name": "stderr",
     "output_type": "stream",
     "text": [
      "100%|██████████| 0.0065460205078125/0.0065460205078125 [00:00<00:00,  1.80it/s]"
     ]
    },
    {
     "name": "stdout",
     "output_type": "stream",
     "text": [
      "Downloading: /Users/ineslaranjeira/Downloads/FlatIron/wittenlab/Subjects/ibl_witten_20/2020-09-01/001/alf/#2025-03-03#/_ibl_trials.stimOff_times.e5081176-3506-468b-a904-4d2a05c930b9.npy Bytes: 6864\n"
     ]
    },
    {
     "name": "stderr",
     "output_type": "stream",
     "text": [
      "\n",
      "\n",
      "100%|██████████| 0.0065460205078125/0.0065460205078125 [00:00<00:00,  1.72it/s]\n",
      "100%|██████████| 0.06284332275390625/0.06284332275390625 [00:00<00:00,  4.93s/it]\n",
      "No default revision for dataset alf/probe00/pykilosort/clusters.metrics.pqt; using most recent\n"
     ]
    },
    {
     "name": "stdout",
     "output_type": "stream",
     "text": [
      "Downloading: /Users/ineslaranjeira/Downloads/FlatIron/wittenlab/Subjects/ibl_witten_20/2020-09-01/001/alf/_ibl_rightCamera.times.1fbab376-c4c3-40a8-b2b4-c75bef8d972a.npy Bytes: 7165800\n"
     ]
    },
    {
     "name": "stderr",
     "output_type": "stream",
     "text": [
      "100%|██████████| 6.833839416503906/6.833839416503906 [00:02<00:00,  2.40it/s]\n",
      "No default revision for dataset alf/probe00/pykilosort/clusters.metrics.pqt; using most recent\n"
     ]
    },
    {
     "name": "stdout",
     "output_type": "stream",
     "text": [
      "Downloading: /Users/ineslaranjeira/Downloads/FlatIron/wittenlab/Subjects/ibl_witten_20/2020-09-01/001/alf/_ibl_rightCamera.lightningPose.235cbbc6-cbaf-43a8-a741-f68739e46287.pqt Bytes: 403344502\n"
     ]
    },
    {
     "name": "stderr",
     "output_type": "stream",
     "text": [
      "100%|██████████| 384.65929222106934/384.65929222106934 [02:39<00:00,  2.41it/s]\n",
      "No default revision for dataset alf/probe00/pykilosort/clusters.metrics.pqt; using most recent\n"
     ]
    },
    {
     "name": "stdout",
     "output_type": "stream",
     "text": [
      "Downloading: /Users/ineslaranjeira/Downloads/FlatIron/wittenlab/Subjects/ibl_witten_20/2020-09-01/001/alf/_ibl_leftCamera.times.8c692e05-5475-47f0-82c3-54ba9d9cb922.npy Bytes: 2868880\n"
     ]
    },
    {
     "name": "stderr",
     "output_type": "stream",
     "text": [
      "100%|██████████| 2.7359771728515625/2.7359771728515625 [00:01<00:00,  2.16it/s]\n",
      "No default revision for dataset alf/probe00/pykilosort/clusters.metrics.pqt; using most recent\n"
     ]
    },
    {
     "name": "stdout",
     "output_type": "stream",
     "text": [
      "Downloading: /Users/ineslaranjeira/Downloads/FlatIron/wittenlab/Subjects/ibl_witten_20/2020-09-01/001/alf/_ibl_leftCamera.lightningPose.e9835684-6588-4e90-9c9c-30054f2d7b54.pqt Bytes: 175464767\n"
     ]
    },
    {
     "name": "stderr",
     "output_type": "stream",
     "text": [
      "100%|██████████| 167.33624172210693/167.33624172210693 [00:32<00:00,  5.21it/s]\n",
      "/Users/ineslaranjeira/Documents/Repositories/representation_learning_variability/Functions/video_functions.py:172: FutureWarning: The behavior of DataFrame concatenation with empty or all-NA entries is deprecated. In a future version, this will no longer exclude empty or all-NA columns when determining the result dtypes. To retain the old behavior, exclude the relevant entries before the concat operation.\n",
      "  licks_df = pd.concat([licks_df, temp_df])\n",
      "No default revision for dataset alf/probe00/pykilosort/clusters.metrics.pqt; using most recent\n",
      "No default revision for dataset alf/probe00/pykilosort/clusters.metrics.pqt; using most recent\n"
     ]
    },
    {
     "name": "stdout",
     "output_type": "stream",
     "text": [
      "Downloading: /Users/ineslaranjeira/Downloads/FlatIron/wittenlab/Subjects/ibl_witten_20/2020-09-01/001/alf/_ibl_rightCamera.dlc.7b54111c-ed7a-4332-bea3-184734f71cd3.pqt Bytes: 124648182\n"
     ]
    },
    {
     "name": "stderr",
     "output_type": "stream",
     "text": [
      "100%|██████████| 118.87376976013184/118.87376976013184 [00:26<00:00,  4.42it/s]\n",
      "No default revision for dataset alf/probe00/pykilosort/clusters.metrics.pqt; using most recent\n",
      "No default revision for dataset alf/probe00/pykilosort/clusters.metrics.pqt; using most recent\n"
     ]
    },
    {
     "name": "stdout",
     "output_type": "stream",
     "text": [
      "Downloading: /Users/ineslaranjeira/Downloads/FlatIron/wittenlab/Subjects/ibl_witten_20/2020-09-01/001/alf/_ibl_leftCamera.dlc.c7ccd583-015b-4491-80eb-4bfc88b93254.pqt Bytes: 60712727\n"
     ]
    },
    {
     "name": "stderr",
     "output_type": "stream",
     "text": [
      "100%|██████████| 57.90016841888428/57.90016841888428 [00:26<00:00,  2.19it/s]\n",
      "/Users/ineslaranjeira/Documents/Repositories/representation_learning_variability/Functions/video_functions.py:172: FutureWarning: The behavior of DataFrame concatenation with empty or all-NA entries is deprecated. In a future version, this will no longer exclude empty or all-NA columns when determining the result dtypes. To retain the old behavior, exclude the relevant entries before the concat operation.\n",
      "  licks_df = pd.concat([licks_df, temp_df])\n"
     ]
    },
    {
     "name": "stdout",
     "output_type": "stream",
     "text": [
      "Downloading: /Users/ineslaranjeira/Downloads/FlatIron/wittenlab/Subjects/ibl_witten_25/2020-12-08/001/alf/_ibl_rightCamera.times.1f63729d-6249-4344-a5fa-b417966322b0.npy Bytes: 5473088\n"
     ]
    },
    {
     "name": "stderr",
     "output_type": "stream",
     "text": [
      "100%|██████████| 5.21954345703125/5.21954345703125 [00:01<00:00,  2.74it/s]\n"
     ]
    },
    {
     "name": "stdout",
     "output_type": "stream",
     "text": [
      "Downloading: /Users/ineslaranjeira/Downloads/FlatIron/wittenlab/Subjects/ibl_witten_25/2020-12-08/001/alf/_ibl_rightCamera.lightningPose.26df518c-1c74-44e8-bc51-d614b65aaf1e.pqt Bytes: 309449546\n"
     ]
    },
    {
     "name": "stderr",
     "output_type": "stream",
     "text": [
      "100%|██████████| 295.1140842437744/295.1140842437744 [02:58<00:00,  1.65it/s]\n",
      "local md5 mismatch on dataset: wittenlab/Subjects/ibl_witten_25/2020-12-08/001/alf/_ibl_leftCamera.lightningPose.pqt\n"
     ]
    },
    {
     "name": "stdout",
     "output_type": "stream",
     "text": [
      "Downloading: /Users/ineslaranjeira/Downloads/FlatIron/wittenlab/Subjects/ibl_witten_25/2020-12-08/001/alf/_ibl_leftCamera.lightningPose.bc4b6a5b-763c-48c2-8694-5914c5c47ecc.pqt Bytes: 136598683\n"
     ]
    },
    {
     "name": "stderr",
     "output_type": "stream",
     "text": [
      "100%|██████████| 130.27065563201904/130.27065563201904 [01:10<00:00,  1.85it/s]\n",
      "/Users/ineslaranjeira/Documents/Repositories/representation_learning_variability/Functions/video_functions.py:172: FutureWarning: The behavior of DataFrame concatenation with empty or all-NA entries is deprecated. In a future version, this will no longer exclude empty or all-NA columns when determining the result dtypes. To retain the old behavior, exclude the relevant entries before the concat operation.\n",
      "  licks_df = pd.concat([licks_df, temp_df])\n"
     ]
    },
    {
     "name": "stdout",
     "output_type": "stream",
     "text": [
      "Downloading: /Users/ineslaranjeira/Downloads/FlatIron/wittenlab/Subjects/ibl_witten_25/2020-12-08/001/alf/_ibl_rightCamera.dlc.173d4da3-e8fb-45f8-89ab-5fd780176b5c.pqt Bytes: 92672014\n"
     ]
    },
    {
     "name": "stderr",
     "output_type": "stream",
     "text": [
      "100%|██████████| 88.37891960144043/88.37891960144043 [00:29<00:00,  3.02it/s]\n",
      "/Users/ineslaranjeira/Documents/Repositories/representation_learning_variability/Functions/video_functions.py:172: FutureWarning: The behavior of DataFrame concatenation with empty or all-NA entries is deprecated. In a future version, this will no longer exclude empty or all-NA columns when determining the result dtypes. To retain the old behavior, exclude the relevant entries before the concat operation.\n",
      "  licks_df = pd.concat([licks_df, temp_df])\n",
      "No default revision for dataset alf/probe01/pykilosort/clusters.amps.npy; using most recent\n",
      "No default revision for dataset alf/probe01/pykilosort/clusters.amps.npy; using most recent\n"
     ]
    },
    {
     "name": "stdout",
     "output_type": "stream",
     "text": [
      "Downloading: /Users/ineslaranjeira/Downloads/FlatIron/wittenlab/Subjects/ibl_witten_26/2021-01-27/002/alf/#2023-04-20#/_ibl_rightCamera.times.db15aa7c-02ad-4376-955c-81b1c494468f.npy Bytes: 5466152\n"
     ]
    },
    {
     "name": "stderr",
     "output_type": "stream",
     "text": [
      "100%|██████████| 5.212928771972656/5.212928771972656 [00:04<00:00,  1.26it/s]\n",
      "No default revision for dataset alf/probe01/pykilosort/clusters.amps.npy; using most recent\n"
     ]
    },
    {
     "name": "stdout",
     "output_type": "stream",
     "text": [
      "Downloading: /Users/ineslaranjeira/Downloads/FlatIron/wittenlab/Subjects/ibl_witten_26/2021-01-27/002/alf/_ibl_rightCamera.lightningPose.dc9670f2-1a7f-4fc1-88fb-fe7755650826.pqt Bytes: 305529595\n"
     ]
    },
    {
     "name": "stderr",
     "output_type": "stream",
     "text": [
      "100%|██████████| 291.3757276535034/291.3757276535034 [04:10<00:00,  1.16it/s]\n",
      "No default revision for dataset alf/probe01/pykilosort/clusters.amps.npy; using most recent\n",
      "No default revision for dataset alf/probe01/pykilosort/clusters.amps.npy; using most recent\n"
     ]
    },
    {
     "name": "stdout",
     "output_type": "stream",
     "text": [
      "Downloading: /Users/ineslaranjeira/Downloads/FlatIron/wittenlab/Subjects/ibl_witten_26/2021-01-27/002/alf/#2025-05-30#/_ibl_leftCamera.lightningPose.47981950-165b-4301-b341-8fa5c7fc23fc.pqt Bytes: 135353796\n"
     ]
    },
    {
     "name": "stderr",
     "output_type": "stream",
     "text": [
      "100%|██████████| 129.08343887329102/129.08343887329102 [00:41<00:00,  3.14it/s]\n",
      "/Users/ineslaranjeira/Documents/Repositories/representation_learning_variability/Functions/video_functions.py:172: FutureWarning: The behavior of DataFrame concatenation with empty or all-NA entries is deprecated. In a future version, this will no longer exclude empty or all-NA columns when determining the result dtypes. To retain the old behavior, exclude the relevant entries before the concat operation.\n",
      "  licks_df = pd.concat([licks_df, temp_df])\n",
      "No default revision for dataset alf/probe01/pykilosort/clusters.amps.npy; using most recent\n",
      "No default revision for dataset alf/probe01/pykilosort/clusters.amps.npy; using most recent\n"
     ]
    },
    {
     "name": "stdout",
     "output_type": "stream",
     "text": [
      "Downloading: /Users/ineslaranjeira/Downloads/FlatIron/wittenlab/Subjects/ibl_witten_26/2021-01-27/002/alf/_ibl_rightCamera.dlc.20a7601d-00ed-4b42-86be-fd0d0edea0fd.pqt Bytes: 92257568\n"
     ]
    },
    {
     "name": "stderr",
     "output_type": "stream",
     "text": [
      "100%|██████████| 87.98367309570312/87.98367309570312 [00:20<00:00,  4.31it/s]\n",
      "No default revision for dataset alf/probe01/pykilosort/clusters.amps.npy; using most recent\n",
      "No default revision for dataset alf/probe01/pykilosort/clusters.amps.npy; using most recent\n",
      "/Users/ineslaranjeira/Documents/Repositories/representation_learning_variability/Functions/video_functions.py:172: FutureWarning: The behavior of DataFrame concatenation with empty or all-NA entries is deprecated. In a future version, this will no longer exclude empty or all-NA columns when determining the result dtypes. To retain the old behavior, exclude the relevant entries before the concat operation.\n",
      "  licks_df = pd.concat([licks_df, temp_df])\n",
      "No default revision for dataset alf/probe00/pykilosort/#2024-05-06#/clusters.metrics.pqt; using most recent\n",
      "No default revision for dataset alf/probe00/pykilosort/#2024-05-06#/clusters.metrics.pqt; using most recent\n"
     ]
    },
    {
     "name": "stdout",
     "output_type": "stream",
     "text": [
      "Downloading: /Users/ineslaranjeira/Downloads/FlatIron/wittenlab/Subjects/ibl_witten_26/2021-01-28/001/alf/#2023-04-20#/_ibl_rightCamera.times.79607620-21d3-4e23-82e2-21a522d41516.npy Bytes: 7057160\n"
     ]
    },
    {
     "name": "stderr",
     "output_type": "stream",
     "text": [
      "100%|██████████| 6.730232238769531/6.730232238769531 [00:02<00:00,  3.07it/s]\n",
      "No default revision for dataset alf/probe00/pykilosort/#2024-05-06#/clusters.metrics.pqt; using most recent\n"
     ]
    },
    {
     "name": "stdout",
     "output_type": "stream",
     "text": [
      "Downloading: /Users/ineslaranjeira/Downloads/FlatIron/wittenlab/Subjects/ibl_witten_26/2021-01-28/001/alf/_ibl_rightCamera.lightningPose.7120d1b9-3625-45f0-9afd-2f290cb7e23a.pqt Bytes: 388378182\n"
     ]
    },
    {
     "name": "stderr",
     "output_type": "stream",
     "text": [
      "100%|██████████| 370.38629722595215/370.38629722595215 [01:30<00:00,  4.09it/s]\n",
      "No default revision for dataset alf/probe00/pykilosort/#2024-05-06#/clusters.metrics.pqt; using most recent\n",
      "No default revision for dataset alf/probe00/pykilosort/#2024-05-06#/clusters.metrics.pqt; using most recent\n",
      "local md5 mismatch on dataset: wittenlab/Subjects/ibl_witten_26/2021-01-28/001/alf/_ibl_leftCamera.lightningPose.pqt\n"
     ]
    },
    {
     "name": "stdout",
     "output_type": "stream",
     "text": [
      "Downloading: /Users/ineslaranjeira/Downloads/FlatIron/wittenlab/Subjects/ibl_witten_26/2021-01-28/001/alf/_ibl_leftCamera.lightningPose.730b38b1-63b8-4657-8c13-ed1a0f9b4ce6.pqt Bytes: 168455098\n"
     ]
    },
    {
     "name": "stderr",
     "output_type": "stream",
     "text": [
      "100%|██████████| 160.65130043029785/160.65130043029785 [00:38<00:00,  4.15it/s]\n",
      "/Users/ineslaranjeira/Documents/Repositories/representation_learning_variability/Functions/video_functions.py:172: FutureWarning: The behavior of DataFrame concatenation with empty or all-NA entries is deprecated. In a future version, this will no longer exclude empty or all-NA columns when determining the result dtypes. To retain the old behavior, exclude the relevant entries before the concat operation.\n",
      "  licks_df = pd.concat([licks_df, temp_df])\n",
      "No default revision for dataset alf/probe00/pykilosort/#2024-05-06#/clusters.metrics.pqt; using most recent\n",
      "No default revision for dataset alf/probe00/pykilosort/#2024-05-06#/clusters.metrics.pqt; using most recent\n"
     ]
    },
    {
     "name": "stdout",
     "output_type": "stream",
     "text": [
      "Downloading: /Users/ineslaranjeira/Downloads/FlatIron/wittenlab/Subjects/ibl_witten_26/2021-01-28/001/alf/_ibl_rightCamera.dlc.b1146353-7d4f-4ffe-b81c-cc9def25fa06.pqt Bytes: 119510884\n"
     ]
    },
    {
     "name": "stderr",
     "output_type": "stream",
     "text": [
      "100%|██████████| 113.97446060180664/113.97446060180664 [00:50<00:00,  2.27it/s]\n",
      "No default revision for dataset alf/probe00/pykilosort/#2024-05-06#/clusters.metrics.pqt; using most recent\n",
      "No default revision for dataset alf/probe00/pykilosort/#2024-05-06#/clusters.metrics.pqt; using most recent\n",
      "/Users/ineslaranjeira/Documents/Repositories/representation_learning_variability/Functions/video_functions.py:172: FutureWarning: The behavior of DataFrame concatenation with empty or all-NA entries is deprecated. In a future version, this will no longer exclude empty or all-NA columns when determining the result dtypes. To retain the old behavior, exclude the relevant entries before the concat operation.\n",
      "  licks_df = pd.concat([licks_df, temp_df])\n"
     ]
    },
    {
     "name": "stdout",
     "output_type": "stream",
     "text": [
      "Downloading: /Users/ineslaranjeira/Downloads/FlatIron/wittenlab/Subjects/ibl_witten_26/2021-01-30/001/alf/#2023-04-20#/_ibl_rightCamera.times.bdd12b80-a527-457d-a98e-f35f5177495b.npy Bytes: 6649432\n"
     ]
    },
    {
     "name": "stderr",
     "output_type": "stream",
     "text": [
      "100%|██████████| 6.341392517089844/6.341392517089844 [00:03<00:00,  2.05it/s]\n"
     ]
    },
    {
     "name": "stdout",
     "output_type": "stream",
     "text": [
      "Downloading: /Users/ineslaranjeira/Downloads/FlatIron/wittenlab/Subjects/ibl_witten_26/2021-01-30/001/alf/_ibl_rightCamera.lightningPose.738cb18c-ef86-480a-9d1d-8cfd5be48a71.pqt Bytes: 369284347\n"
     ]
    },
    {
     "name": "stderr",
     "output_type": "stream",
     "text": [
      "100%|██████████| 352.1769971847534/352.1769971847534 [02:36<00:00,  2.25it/s]\n"
     ]
    },
    {
     "name": "stdout",
     "output_type": "stream",
     "text": [
      "Downloading: /Users/ineslaranjeira/Downloads/FlatIron/wittenlab/Subjects/ibl_witten_26/2021-01-30/001/alf/_ibl_leftCamera.lightningPose.f605a9d1-d0be-45b0-8be9-a802adfe3965.pqt Bytes: 157845386\n"
     ]
    },
    {
     "name": "stderr",
     "output_type": "stream",
     "text": [
      "100%|██████████| 150.53309059143066/150.53309059143066 [00:43<00:00,  3.44it/s]\n",
      "/Users/ineslaranjeira/Documents/Repositories/representation_learning_variability/Functions/video_functions.py:172: FutureWarning: The behavior of DataFrame concatenation with empty or all-NA entries is deprecated. In a future version, this will no longer exclude empty or all-NA columns when determining the result dtypes. To retain the old behavior, exclude the relevant entries before the concat operation.\n",
      "  licks_df = pd.concat([licks_df, temp_df])\n"
     ]
    },
    {
     "name": "stdout",
     "output_type": "stream",
     "text": [
      "Downloading: /Users/ineslaranjeira/Downloads/FlatIron/wittenlab/Subjects/ibl_witten_26/2021-01-30/001/alf/_ibl_rightCamera.dlc.39bd9081-788b-48f9-8921-107cc66e9d1f.pqt Bytes: 115853201\n"
     ]
    },
    {
     "name": "stderr",
     "output_type": "stream",
     "text": [
      "100%|██████████| 110.48622226715088/110.48622226715088 [00:35<00:00,  3.13it/s]\n",
      "/Users/ineslaranjeira/Documents/Repositories/representation_learning_variability/Functions/video_functions.py:172: FutureWarning: The behavior of DataFrame concatenation with empty or all-NA entries is deprecated. In a future version, this will no longer exclude empty or all-NA columns when determining the result dtypes. To retain the old behavior, exclude the relevant entries before the concat operation.\n",
      "  licks_df = pd.concat([licks_df, temp_df])\n"
     ]
    },
    {
     "name": "stdout",
     "output_type": "stream",
     "text": [
      "Downloading: /Users/ineslaranjeira/Downloads/FlatIron/wittenlab/Subjects/ibl_witten_26/2021-01-31/001/alf/#2023-04-20#/_ibl_rightCamera.times.db961303-dbe0-44e7-87c5-2715058a9f69.npy Bytes: 7724768\n"
     ]
    },
    {
     "name": "stderr",
     "output_type": "stream",
     "text": [
      "100%|██████████| 7.366912841796875/7.366912841796875 [00:02<00:00,  3.10it/s]\n"
     ]
    },
    {
     "name": "stdout",
     "output_type": "stream",
     "text": [
      "Downloading: /Users/ineslaranjeira/Downloads/FlatIron/wittenlab/Subjects/ibl_witten_26/2021-01-31/001/alf/_ibl_rightCamera.lightningPose.ed511891-b818-434f-98e9-59f54c4695db.pqt Bytes: 427180192\n"
     ]
    },
    {
     "name": "stderr",
     "output_type": "stream",
     "text": [
      "100%|██████████| 407.3907775878906/407.3907775878906 [01:54<00:00,  3.55it/s]\n"
     ]
    },
    {
     "name": "stdout",
     "output_type": "stream",
     "text": [
      "Downloading: /Users/ineslaranjeira/Downloads/FlatIron/wittenlab/Subjects/ibl_witten_26/2021-01-31/001/alf/_ibl_leftCamera.lightningPose.1f711d2c-8aea-498d-aa82-b6238bd056c8.pqt Bytes: 181029188\n"
     ]
    },
    {
     "name": "stderr",
     "output_type": "stream",
     "text": [
      "100%|██████████| 172.64288711547852/172.64288711547852 [00:51<00:00,  3.34it/s]\n",
      "/Users/ineslaranjeira/Documents/Repositories/representation_learning_variability/Functions/video_functions.py:172: FutureWarning: The behavior of DataFrame concatenation with empty or all-NA entries is deprecated. In a future version, this will no longer exclude empty or all-NA columns when determining the result dtypes. To retain the old behavior, exclude the relevant entries before the concat operation.\n",
      "  licks_df = pd.concat([licks_df, temp_df])\n"
     ]
    },
    {
     "name": "stdout",
     "output_type": "stream",
     "text": [
      "Downloading: /Users/ineslaranjeira/Downloads/FlatIron/wittenlab/Subjects/ibl_witten_26/2021-01-31/001/alf/_ibl_rightCamera.dlc.6942d7fd-3fee-40a4-87b0-14b754794710.pqt Bytes: 134747774\n"
     ]
    },
    {
     "name": "stderr",
     "output_type": "stream",
     "text": [
      "100%|██████████| 128.50549125671387/128.50549125671387 [01:06<00:00,  1.93it/s]\n",
      "/Users/ineslaranjeira/Documents/Repositories/representation_learning_variability/Functions/video_functions.py:172: FutureWarning: The behavior of DataFrame concatenation with empty or all-NA entries is deprecated. In a future version, this will no longer exclude empty or all-NA columns when determining the result dtypes. To retain the old behavior, exclude the relevant entries before the concat operation.\n",
      "  licks_df = pd.concat([licks_df, temp_df])\n"
     ]
    },
    {
     "name": "stdout",
     "output_type": "stream",
     "text": [
      "Downloading: /Users/ineslaranjeira/Downloads/FlatIron/wittenlab/Subjects/ibl_witten_27/2021-01-19/001/alf/#2025-03-03#/_ibl_trials.stimOff_times.6bf60caf-2115-493b-87a9-65ac363d870f.npy Bytes: 7376\n"
     ]
    },
    {
     "name": "stderr",
     "output_type": "stream",
     "text": [
      "100%|██████████| 0.0070343017578125/0.0070343017578125 [00:00<00:00,  1.35it/s]\n"
     ]
    },
    {
     "name": "stdout",
     "output_type": "stream",
     "text": [
      "Downloading: /Users/ineslaranjeira/Downloads/FlatIron/wittenlab/Subjects/ibl_witten_27/2021-01-19/001/alf/#2025-03-03#/_ibl_trials.stimOnTrigger_times.74c2f525-da15-4869-b930-adae41d85ac6.npy Bytes: 7376Downloading: /Users/ineslaranjeira/Downloads/FlatIron/wittenlab/Subjects/ibl_witten_27/2021-01-19/001/alf/#2025-03-03#/_ibl_trials.stimOffTrigger_times.8c7d0112-2051-43b6-968d-80bede716ea3.npy Bytes: 7376\n",
      "Downloading: /Users/ineslaranjeira/Downloads/FlatIron/wittenlab/Subjects/ibl_witten_27/2021-01-19/001/alf/#2025-03-03#/_ibl_trials.table.4f4a54cc-039c-448d-b1d7-bd3b302a3fbc.pqt Bytes: 70152\n",
      "\n"
     ]
    },
    {
     "name": "stderr",
     "output_type": "stream",
     "text": [
      "  0%|          | 0/0.06690216064453125 [00:00<?, ?it/s]\n",
      "100%|██████████| 0.0070343017578125/0.0070343017578125 [00:00<00:00,  1.20s/it]\n",
      "100%|██████████| 0.0070343017578125/0.0070343017578125 [00:00<00:00,  1.82it/s]\n",
      "100%|██████████| 0.06690216064453125/0.06690216064453125 [00:00<00:00,  4.66s/it]\n"
     ]
    },
    {
     "name": "stdout",
     "output_type": "stream",
     "text": [
      "Downloading: /Users/ineslaranjeira/Downloads/FlatIron/wittenlab/Subjects/ibl_witten_27/2021-01-19/001/alf/_ibl_rightCamera.times.275992a1-371d-402a-a378-9d09437e5983.npy Bytes: 6275912\n"
     ]
    },
    {
     "name": "stderr",
     "output_type": "stream",
     "text": [
      "100%|██████████| 5.985176086425781/5.985176086425781 [00:02<00:00,  2.75it/s]\n"
     ]
    },
    {
     "name": "stdout",
     "output_type": "stream",
     "text": [
      "Downloading: /Users/ineslaranjeira/Downloads/FlatIron/wittenlab/Subjects/ibl_witten_27/2021-01-19/001/alf/_ibl_rightCamera.lightningPose.7eb71655-2f50-474c-a295-421245f5af67.pqt Bytes: 349145651\n"
     ]
    },
    {
     "name": "stderr",
     "output_type": "stream",
     "text": [
      "100%|██████████| 332.97124004364014/332.97124004364014 [01:59<00:00,  2.79it/s]\n"
     ]
    },
    {
     "name": "stdout",
     "output_type": "stream",
     "text": [
      "Downloading: /Users/ineslaranjeira/Downloads/FlatIron/wittenlab/Subjects/ibl_witten_27/2021-01-19/001/alf/_ibl_leftCamera.lightningPose.35323e29-9149-4fe2-ae8a-241823ca4ab4.pqt Bytes: 151952110\n"
     ]
    },
    {
     "name": "stderr",
     "output_type": "stream",
     "text": [
      "100%|██████████| 144.9128246307373/144.9128246307373 [00:58<00:00,  2.46it/s]\n",
      "/Users/ineslaranjeira/Documents/Repositories/representation_learning_variability/Functions/video_functions.py:172: FutureWarning: The behavior of DataFrame concatenation with empty or all-NA entries is deprecated. In a future version, this will no longer exclude empty or all-NA columns when determining the result dtypes. To retain the old behavior, exclude the relevant entries before the concat operation.\n",
      "  licks_df = pd.concat([licks_df, temp_df])\n"
     ]
    },
    {
     "name": "stdout",
     "output_type": "stream",
     "text": [
      "Downloading: /Users/ineslaranjeira/Downloads/FlatIron/wittenlab/Subjects/ibl_witten_27/2021-01-19/001/alf/_ibl_rightCamera.dlc.31c9b034-f189-4d19-86e8-abb7fd178c6c.pqt Bytes: 106219846\n"
     ]
    },
    {
     "name": "stderr",
     "output_type": "stream",
     "text": [
      "100%|██████████| 101.29913902282715/101.29913902282715 [00:31<00:00,  3.23it/s]\n",
      "/Users/ineslaranjeira/Documents/Repositories/representation_learning_variability/Functions/video_functions.py:172: FutureWarning: The behavior of DataFrame concatenation with empty or all-NA entries is deprecated. In a future version, this will no longer exclude empty or all-NA columns when determining the result dtypes. To retain the old behavior, exclude the relevant entries before the concat operation.\n",
      "  licks_df = pd.concat([licks_df, temp_df])\n"
     ]
    },
    {
     "name": "stdout",
     "output_type": "stream",
     "text": [
      "Downloading: /Users/ineslaranjeira/Downloads/FlatIron/wittenlab/Subjects/ibl_witten_27/2021-01-20/001/alf/_ibl_rightCamera.times.9a4294fb-cdac-401f-8057-ee27c1f3032e.npy Bytes: 6611160\n"
     ]
    },
    {
     "name": "stderr",
     "output_type": "stream",
     "text": [
      "100%|██████████| 6.304893493652344/6.304893493652344 [00:02<00:00,  3.07it/s]\n"
     ]
    },
    {
     "name": "stdout",
     "output_type": "stream",
     "text": [
      "Downloading: /Users/ineslaranjeira/Downloads/FlatIron/wittenlab/Subjects/ibl_witten_27/2021-01-20/001/alf/_ibl_rightCamera.lightningPose.0697618e-e67b-4f6e-8494-9cd076fe1a21.pqt Bytes: 368335857\n"
     ]
    },
    {
     "name": "stderr",
     "output_type": "stream",
     "text": [
      "100%|██████████| 351.27244663238525/351.27244663238525 [04:28<00:00,  1.31it/s]\n"
     ]
    },
    {
     "name": "stdout",
     "output_type": "stream",
     "text": [
      "Downloading: /Users/ineslaranjeira/Downloads/FlatIron/wittenlab/Subjects/ibl_witten_27/2021-01-20/001/alf/_ibl_leftCamera.lightningPose.aa3d5a24-976e-4a56-b7d9-c526c49138b1.pqt Bytes: 159823308\n"
     ]
    },
    {
     "name": "stderr",
     "output_type": "stream",
     "text": [
      "100%|██████████| 152.41938400268555/152.41938400268555 [01:47<00:00,  1.42it/s]\n",
      "/Users/ineslaranjeira/Documents/Repositories/representation_learning_variability/Functions/video_functions.py:172: FutureWarning: The behavior of DataFrame concatenation with empty or all-NA entries is deprecated. In a future version, this will no longer exclude empty or all-NA columns when determining the result dtypes. To retain the old behavior, exclude the relevant entries before the concat operation.\n",
      "  licks_df = pd.concat([licks_df, temp_df])\n"
     ]
    },
    {
     "name": "stdout",
     "output_type": "stream",
     "text": [
      "Downloading: /Users/ineslaranjeira/Downloads/FlatIron/wittenlab/Subjects/ibl_witten_27/2021-01-20/001/alf/_ibl_rightCamera.dlc.bba0ef1f-80a1-4edb-a77a-6c05c7ee8320.pqt Bytes: 113361057\n"
     ]
    },
    {
     "name": "stderr",
     "output_type": "stream",
     "text": [
      "100%|██████████| 108.10952854156494/108.10952854156494 [01:11<00:00,  1.51it/s]\n",
      "/Users/ineslaranjeira/Documents/Repositories/representation_learning_variability/Functions/video_functions.py:172: FutureWarning: The behavior of DataFrame concatenation with empty or all-NA entries is deprecated. In a future version, this will no longer exclude empty or all-NA columns when determining the result dtypes. To retain the old behavior, exclude the relevant entries before the concat operation.\n",
      "  licks_df = pd.concat([licks_df, temp_df])\n",
      "No default revision for dataset alf/probe01/pykilosort/clusters.amps.npy; using most recent\n"
     ]
    },
    {
     "name": "stdout",
     "output_type": "stream",
     "text": [
      "Downloading: /Users/ineslaranjeira/Downloads/FlatIron/wittenlab/Subjects/ibl_witten_27/2021-01-21/001/alf/#2025-03-03#/_ibl_trials.stimOnTrigger_times.025abc1d-4fd2-4fdb-a111-8ed38de40838.npy Bytes: 5128Downloading: /Users/ineslaranjeira/Downloads/FlatIron/wittenlab/Subjects/ibl_witten_27/2021-01-21/001/alf/#2025-03-03#/_ibl_trials.stimOffTrigger_times.75abecfb-3b57-4129-ae10-275be2337d70.npy Bytes: 5128\n",
      "Downloading: /Users/ineslaranjeira/Downloads/FlatIron/wittenlab/Subjects/ibl_witten_27/2021-01-21/001/alf/#2025-03-03#/_ibl_trials.stimOff_times.d971b83c-9eb9-43dd-b4ae-46cb389c0002.npy Bytes: 5128\n",
      "\n"
     ]
    },
    {
     "name": "stderr",
     "output_type": "stream",
     "text": [
      "  0%|          | 0/0.00489044189453125 [00:00<?, ?it/s]\n",
      "100%|██████████| 0.00489044189453125/0.00489044189453125 [00:00<00:00,  2.73s/it]\n",
      "100%|██████████| 0.00489044189453125/0.00489044189453125 [00:00<00:00,  4.21s/it]\n",
      "100%|██████████| 0.00489044189453125/0.00489044189453125 [00:00<00:00,  1.49s/it]"
     ]
    },
    {
     "name": "stdout",
     "output_type": "stream",
     "text": [
      "Downloading: /Users/ineslaranjeira/Downloads/FlatIron/wittenlab/Subjects/ibl_witten_27/2021-01-21/001/alf/#2025-03-03#/_ibl_trials.table.5e878866-d3d6-45e2-b59a-86e6be717b49.pqt Bytes: 51569\n"
     ]
    },
    {
     "name": "stderr",
     "output_type": "stream",
     "text": [
      "\n",
      "100%|██████████| 0.049180030822753906/0.049180030822753906 [00:00<00:00,  6.30s/it]\n",
      "No default revision for dataset alf/probe01/pykilosort/clusters.amps.npy; using most recent\n"
     ]
    },
    {
     "name": "stdout",
     "output_type": "stream",
     "text": [
      "Downloading: /Users/ineslaranjeira/Downloads/FlatIron/wittenlab/Subjects/ibl_witten_27/2021-01-21/001/alf/_ibl_rightCamera.times.b2664240-8d7d-4095-aa28-e9a1009b69a5.npy Bytes: 5027816\n"
     ]
    },
    {
     "name": "stderr",
     "output_type": "stream",
     "text": [
      "100%|██████████| 4.794898986816406/4.794898986816406 [00:04<00:00,  1.18it/s]\n",
      "No default revision for dataset alf/probe01/pykilosort/clusters.amps.npy; using most recent\n"
     ]
    },
    {
     "name": "stdout",
     "output_type": "stream",
     "text": [
      "Downloading: /Users/ineslaranjeira/Downloads/FlatIron/wittenlab/Subjects/ibl_witten_27/2021-01-21/001/alf/_ibl_rightCamera.lightningPose.80712e72-3454-41ad-b21f-6454ad0d3b8b.pqt Bytes: 282414776\n"
     ]
    },
    {
     "name": "stderr",
     "output_type": "stream",
     "text": [
      "100%|██████████| 269.3317184448242/269.3317184448242 [03:15<00:00,  1.38it/s]\n",
      "No default revision for dataset alf/probe01/pykilosort/clusters.amps.npy; using most recent\n",
      "No default revision for dataset alf/probe01/pykilosort/clusters.amps.npy; using most recent\n"
     ]
    },
    {
     "name": "stdout",
     "output_type": "stream",
     "text": [
      "Downloading: /Users/ineslaranjeira/Downloads/FlatIron/wittenlab/Subjects/ibl_witten_27/2021-01-21/001/alf/#2025-05-30#/_ibl_leftCamera.lightningPose.0fb0fea9-5030-4bd6-a26b-b6db2e039bba.pqt Bytes: 124637899\n"
     ]
    },
    {
     "name": "stderr",
     "output_type": "stream",
     "text": [
      "100%|██████████| 118.86396312713623/118.86396312713623 [01:51<00:00,  1.07it/s]\n",
      "/Users/ineslaranjeira/Documents/Repositories/representation_learning_variability/Functions/video_functions.py:172: FutureWarning: The behavior of DataFrame concatenation with empty or all-NA entries is deprecated. In a future version, this will no longer exclude empty or all-NA columns when determining the result dtypes. To retain the old behavior, exclude the relevant entries before the concat operation.\n",
      "  licks_df = pd.concat([licks_df, temp_df])\n",
      "No default revision for dataset alf/probe01/pykilosort/clusters.amps.npy; using most recent\n",
      "No default revision for dataset alf/probe01/pykilosort/clusters.amps.npy; using most recent\n"
     ]
    },
    {
     "name": "stdout",
     "output_type": "stream",
     "text": [
      "Downloading: /Users/ineslaranjeira/Downloads/FlatIron/wittenlab/Subjects/ibl_witten_27/2021-01-21/001/alf/_ibl_rightCamera.dlc.d2439829-bc32-460a-848b-60169da8f07d.pqt Bytes: 86280830\n"
     ]
    },
    {
     "name": "stderr",
     "output_type": "stream",
     "text": [
      "100%|██████████| 82.28381156921387/82.28381156921387 [01:07<00:00,  1.22it/s]\n",
      "No default revision for dataset alf/probe01/pykilosort/clusters.amps.npy; using most recent\n",
      "No default revision for dataset alf/probe01/pykilosort/clusters.amps.npy; using most recent\n",
      "/Users/ineslaranjeira/Documents/Repositories/representation_learning_variability/Functions/video_functions.py:172: FutureWarning: The behavior of DataFrame concatenation with empty or all-NA entries is deprecated. In a future version, this will no longer exclude empty or all-NA columns when determining the result dtypes. To retain the old behavior, exclude the relevant entries before the concat operation.\n",
      "  licks_df = pd.concat([licks_df, temp_df])\n",
      "No default revision for dataset alf/probe00/pykilosort/clusters.amps.npy; using most recent\n"
     ]
    },
    {
     "name": "stdout",
     "output_type": "stream",
     "text": [
      "Downloading: /Users/ineslaranjeira/Downloads/FlatIron/wittenlab/Subjects/ibl_witten_29/2021-06-08/001/alf/#2025-03-03#/_ibl_trials.stimOffTrigger_times.856f18aa-dc97-448b-841a-e818aeeab1ef.npy Bytes: 5432Downloading: /Users/ineslaranjeira/Downloads/FlatIron/wittenlab/Subjects/ibl_witten_29/2021-06-08/001/alf/#2025-03-03#/_ibl_trials.stimOnTrigger_times.f994bf16-7b39-4b66-85ab-98e8f245692b.npy Bytes: 5432\n",
      "Downloading: /Users/ineslaranjeira/Downloads/FlatIron/wittenlab/Subjects/ibl_witten_29/2021-06-08/001/alf/#2025-03-03#/_ibl_trials.stimOff_times.18bb3ab7-a9f8-41bf-a4df-65fdfdf70c4f.npy Bytes: 5432\n",
      "\n"
     ]
    },
    {
     "name": "stderr",
     "output_type": "stream",
     "text": [
      "  0%|          | 0/0.00518035888671875 [00:00<?, ?it/s]\n",
      "100%|██████████| 0.00518035888671875/0.00518035888671875 [00:00<00:00,  2.69s/it]\n",
      "100%|██████████| 0.00518035888671875/0.00518035888671875 [00:00<00:00,  1.83s/it]\n",
      "100%|██████████| 0.00518035888671875/0.00518035888671875 [00:00<00:00,  1.03s/it]\n"
     ]
    },
    {
     "name": "stdout",
     "output_type": "stream",
     "text": [
      "Downloading: /Users/ineslaranjeira/Downloads/FlatIron/wittenlab/Subjects/ibl_witten_29/2021-06-08/001/alf/#2025-03-03#/_ibl_trials.table.22287b9a-75f3-4482-af54-93ee5e408c27.pqt Bytes: 54012\n"
     ]
    },
    {
     "name": "stderr",
     "output_type": "stream",
     "text": [
      "100%|██████████| 0.051509857177734375/0.051509857177734375 [00:00<00:00,  6.74s/it]\n",
      "No default revision for dataset alf/probe00/pykilosort/clusters.amps.npy; using most recent\n"
     ]
    },
    {
     "name": "stdout",
     "output_type": "stream",
     "text": [
      "Downloading: /Users/ineslaranjeira/Downloads/FlatIron/wittenlab/Subjects/ibl_witten_29/2021-06-08/001/alf/_ibl_rightCamera.times.22b16823-b8f6-468d-ae78-f334c6bf9b57.npy Bytes: 6032800\n"
     ]
    },
    {
     "name": "stderr",
     "output_type": "stream",
     "text": [
      "100%|██████████| 5.753326416015625/5.753326416015625 [00:02<00:00,  2.20it/s]\n",
      "No default revision for dataset alf/probe00/pykilosort/clusters.amps.npy; using most recent\n"
     ]
    },
    {
     "name": "stdout",
     "output_type": "stream",
     "text": [
      "Downloading: /Users/ineslaranjeira/Downloads/FlatIron/wittenlab/Subjects/ibl_witten_29/2021-06-08/001/alf/_ibl_rightCamera.lightningPose.50643663-35b9-4d2c-9924-577b37d18632.pqt Bytes: 339006171\n"
     ]
    },
    {
     "name": "stderr",
     "output_type": "stream",
     "text": [
      "100%|██████████| 323.3014783859253/323.3014783859253 [02:58<00:00,  1.81it/s]\n",
      "No default revision for dataset alf/probe00/pykilosort/clusters.amps.npy; using most recent\n",
      "No default revision for dataset alf/probe00/pykilosort/clusters.amps.npy; using most recent\n"
     ]
    },
    {
     "name": "stdout",
     "output_type": "stream",
     "text": [
      "Downloading: /Users/ineslaranjeira/Downloads/FlatIron/wittenlab/Subjects/ibl_witten_29/2021-06-08/001/alf/_ibl_leftCamera.lightningPose.dee41d8d-cac5-4af5-a8a6-dd9304ff7530.pqt Bytes: 147267617\n"
     ]
    },
    {
     "name": "stderr",
     "output_type": "stream",
     "text": [
      "100%|██████████| 140.44534397125244/140.44534397125244 [01:12<00:00,  1.93it/s]\n",
      "/Users/ineslaranjeira/Documents/Repositories/representation_learning_variability/Functions/video_functions.py:172: FutureWarning: The behavior of DataFrame concatenation with empty or all-NA entries is deprecated. In a future version, this will no longer exclude empty or all-NA columns when determining the result dtypes. To retain the old behavior, exclude the relevant entries before the concat operation.\n",
      "  licks_df = pd.concat([licks_df, temp_df])\n",
      "No default revision for dataset alf/probe00/pykilosort/clusters.amps.npy; using most recent\n",
      "No default revision for dataset alf/probe00/pykilosort/clusters.amps.npy; using most recent\n"
     ]
    },
    {
     "name": "stdout",
     "output_type": "stream",
     "text": [
      "Downloading: /Users/ineslaranjeira/Downloads/FlatIron/wittenlab/Subjects/ibl_witten_29/2021-06-08/001/alf/_ibl_rightCamera.dlc.ccd6bcea-cd19-4e15-8a5f-a9abeb995f96.pqt Bytes: 103546312\n"
     ]
    },
    {
     "name": "stderr",
     "output_type": "stream",
     "text": [
      "100%|██████████| 98.74945831298828/98.74945831298828 [00:50<00:00,  1.96it/s]\n",
      "No default revision for dataset alf/probe00/pykilosort/clusters.amps.npy; using most recent\n",
      "No default revision for dataset alf/probe00/pykilosort/clusters.amps.npy; using most recent\n",
      "/Users/ineslaranjeira/Documents/Repositories/representation_learning_variability/Functions/video_functions.py:172: FutureWarning: The behavior of DataFrame concatenation with empty or all-NA entries is deprecated. In a future version, this will no longer exclude empty or all-NA columns when determining the result dtypes. To retain the old behavior, exclude the relevant entries before the concat operation.\n",
      "  licks_df = pd.concat([licks_df, temp_df])\n",
      "No default revision for dataset alf/probe01/pykilosort/clusters.metrics.pqt; using most recent\n"
     ]
    },
    {
     "name": "stdout",
     "output_type": "stream",
     "text": [
      "Downloading: /Users/ineslaranjeira/Downloads/FlatIron/wittenlab/Subjects/ibl_witten_29/2021-06-09/002/alf/#2025-03-03#/_ibl_trials.stimOffTrigger_times.af39238a-c2ea-4218-9646-8121a5297fa1.npy Bytes: 4632Downloading: /Users/ineslaranjeira/Downloads/FlatIron/wittenlab/Subjects/ibl_witten_29/2021-06-09/002/alf/#2025-03-03#/_ibl_trials.stimOnTrigger_times.b0b0a418-026d-4e24-b763-17a07d3c929a.npy Bytes: 4632\n",
      "\n"
     ]
    },
    {
     "name": "stderr",
     "output_type": "stream",
     "text": [
      "100%|██████████| 0.00441741943359375/0.00441741943359375 [00:00<00:00,  2.27s/it]\n",
      "100%|██████████| 0.00441741943359375/0.00441741943359375 [00:00<00:00,  1.99s/it]\n"
     ]
    },
    {
     "name": "stdout",
     "output_type": "stream",
     "text": [
      "Downloading: /Users/ineslaranjeira/Downloads/FlatIron/wittenlab/Subjects/ibl_witten_29/2021-06-09/002/alf/#2025-03-03#/_ibl_trials.table.ff1b90f4-3d2d-4525-8d80-6c5cbc713321.pqt Bytes: 47528\n"
     ]
    },
    {
     "name": "stderr",
     "output_type": "stream",
     "text": [
      "  0%|          | 0/0.04532623291015625 [00:00<?, ?it/s]"
     ]
    },
    {
     "name": "stdout",
     "output_type": "stream",
     "text": [
      "Downloading: /Users/ineslaranjeira/Downloads/FlatIron/wittenlab/Subjects/ibl_witten_29/2021-06-09/002/alf/#2025-03-03#/_ibl_trials.stimOff_times.0116791c-3fcb-4d9e-9d67-e3cf048902f8.npy Bytes: 4632\n"
     ]
    },
    {
     "name": "stderr",
     "output_type": "stream",
     "text": [
      "100%|██████████| 0.00441741943359375/0.00441741943359375 [00:00<00:00,  1.50it/s]\n",
      "100%|██████████| 0.04532623291015625/0.04532623291015625 [00:00<00:00,  6.11s/it]\n",
      "No default revision for dataset alf/probe01/pykilosort/clusters.metrics.pqt; using most recent\n"
     ]
    },
    {
     "name": "stdout",
     "output_type": "stream",
     "text": [
      "Downloading: /Users/ineslaranjeira/Downloads/FlatIron/wittenlab/Subjects/ibl_witten_29/2021-06-09/002/alf/_ibl_rightCamera.times.6d85b8a7-0b24-444d-bb6f-b9abfa112ac8.npy Bytes: 5204408\n"
     ]
    },
    {
     "name": "stderr",
     "output_type": "stream",
     "text": [
      "100%|██████████| 4.963310241699219/4.963310241699219 [00:03<00:00,  1.36it/s]\n",
      "No default revision for dataset alf/probe01/pykilosort/clusters.metrics.pqt; using most recent\n"
     ]
    },
    {
     "name": "stdout",
     "output_type": "stream",
     "text": [
      "Downloading: /Users/ineslaranjeira/Downloads/FlatIron/wittenlab/Subjects/ibl_witten_29/2021-06-09/002/alf/_ibl_rightCamera.lightningPose.4eb6509c-734c-410f-9276-70e54d0332b3.pqt Bytes: 295185867\n"
     ]
    },
    {
     "name": "stderr",
     "output_type": "stream",
     "text": [
      "100%|██████████| 281.51117992401123/281.51117992401123 [02:00<00:00,  2.34it/s]\n",
      "No default revision for dataset alf/probe01/pykilosort/clusters.metrics.pqt; using most recent\n",
      "No default revision for dataset alf/probe01/pykilosort/clusters.metrics.pqt; using most recent\n",
      "local md5 mismatch on dataset: wittenlab/Subjects/ibl_witten_29/2021-06-09/002/alf/_ibl_leftCamera.lightningPose.pqt\n"
     ]
    },
    {
     "name": "stdout",
     "output_type": "stream",
     "text": [
      "Downloading: /Users/ineslaranjeira/Downloads/FlatIron/wittenlab/Subjects/ibl_witten_29/2021-06-09/002/alf/_ibl_leftCamera.lightningPose.16eaf31c-2fb4-42fa-89d5-a052a880878f.pqt Bytes: 128557495\n"
     ]
    },
    {
     "name": "stderr",
     "output_type": "stream",
     "text": [
      "100%|██████████| 122.6019811630249/122.6019811630249 [00:45<00:00,  2.68it/s]\n",
      "/Users/ineslaranjeira/Documents/Repositories/representation_learning_variability/Functions/video_functions.py:172: FutureWarning: The behavior of DataFrame concatenation with empty or all-NA entries is deprecated. In a future version, this will no longer exclude empty or all-NA columns when determining the result dtypes. To retain the old behavior, exclude the relevant entries before the concat operation.\n",
      "  licks_df = pd.concat([licks_df, temp_df])\n",
      "No default revision for dataset alf/probe01/pykilosort/clusters.metrics.pqt; using most recent\n",
      "No default revision for dataset alf/probe01/pykilosort/clusters.metrics.pqt; using most recent\n"
     ]
    },
    {
     "name": "stdout",
     "output_type": "stream",
     "text": [
      "Downloading: /Users/ineslaranjeira/Downloads/FlatIron/wittenlab/Subjects/ibl_witten_29/2021-06-09/002/alf/_ibl_rightCamera.dlc.9b253844-0210-4b61-8408-cdc776d023d2.pqt Bytes: 91141252\n"
     ]
    },
    {
     "name": "stderr",
     "output_type": "stream",
     "text": [
      "100%|██████████| 86.91907119750977/86.91907119750977 [00:31<00:00,  2.77it/s]\n",
      "No default revision for dataset alf/probe01/pykilosort/clusters.metrics.pqt; using most recent\n",
      "No default revision for dataset alf/probe01/pykilosort/clusters.metrics.pqt; using most recent\n",
      "/Users/ineslaranjeira/Documents/Repositories/representation_learning_variability/Functions/video_functions.py:172: FutureWarning: The behavior of DataFrame concatenation with empty or all-NA entries is deprecated. In a future version, this will no longer exclude empty or all-NA columns when determining the result dtypes. To retain the old behavior, exclude the relevant entries before the concat operation.\n",
      "  licks_df = pd.concat([licks_df, temp_df])\n"
     ]
    },
    {
     "name": "stdout",
     "output_type": "stream",
     "text": [
      "Downloading: /Users/ineslaranjeira/Downloads/FlatIron/wittenlab/Subjects/ibl_witten_29/2021-06-10/003/alf/#2025-03-03#/_ibl_trials.stimOffTrigger_times.0a54ae2b-2066-44ae-b245-2215e33e029f.npy Bytes: 3568Downloading: /Users/ineslaranjeira/Downloads/FlatIron/wittenlab/Subjects/ibl_witten_29/2021-06-10/003/alf/#2025-03-03#/_ibl_trials.table.fa6edde1-ec6a-4ec5-82c8-4edd11985229.pqt Bytes: 38326\n",
      "\n",
      "Downloading: /Users/ineslaranjeira/Downloads/FlatIron/wittenlab/Subjects/ibl_witten_29/2021-06-10/003/alf/#2025-03-03#/_ibl_trials.stimOff_times.0e2a79fa-a70c-4316-a9dc-9660cdbdeb68.npy Bytes: 3568\n"
     ]
    },
    {
     "name": "stderr",
     "output_type": "stream",
     "text": [
      "  0%|          | 0/0.03655052185058594 [00:00<?, ?it/s]\n",
      "100%|██████████| 0.0034027099609375/0.0034027099609375 [00:00<00:00,  2.63s/it]\n",
      "100%|██████████| 0.0034027099609375/0.0034027099609375 [00:00<00:00,  1.26s/it]\n"
     ]
    },
    {
     "name": "stdout",
     "output_type": "stream",
     "text": [
      "Downloading: /Users/ineslaranjeira/Downloads/FlatIron/wittenlab/Subjects/ibl_witten_29/2021-06-10/003/alf/#2025-03-03#/_ibl_trials.stimOnTrigger_times.a500b4f4-8735-4c52-ba8a-0c915e570186.npy Bytes: 3568\n"
     ]
    },
    {
     "name": "stderr",
     "output_type": "stream",
     "text": [
      "100%|██████████| 0.0034027099609375/0.0034027099609375 [00:00<00:00,  1.42it/s]\n",
      "100%|██████████| 0.03655052185058594/0.03655052185058594 [00:00<00:00,  4.09s/it]\n"
     ]
    },
    {
     "name": "stdout",
     "output_type": "stream",
     "text": [
      "Downloading: /Users/ineslaranjeira/Downloads/FlatIron/wittenlab/Subjects/ibl_witten_29/2021-06-10/003/alf/_ibl_rightCamera.times.93b55508-7dc1-40a0-9d8d-f81e3349fddf.npy Bytes: 5802152\n"
     ]
    },
    {
     "name": "stderr",
     "output_type": "stream",
     "text": [
      "100%|██████████| 5.533363342285156/5.533363342285156 [00:03<00:00,  1.43it/s]\n"
     ]
    },
    {
     "name": "stdout",
     "output_type": "stream",
     "text": [
      "Downloading: /Users/ineslaranjeira/Downloads/FlatIron/wittenlab/Subjects/ibl_witten_29/2021-06-10/003/alf/_ibl_rightCamera.lightningPose.c7b97582-ba04-496c-bb0d-054e65795ec2.pqt Bytes: 326872218\n"
     ]
    },
    {
     "name": "stderr",
     "output_type": "stream",
     "text": [
      "100%|██████████| 311.7296390533447/311.7296390533447 [02:18<00:00,  2.25it/s]\n",
      "local md5 mismatch on dataset: wittenlab/Subjects/ibl_witten_29/2021-06-10/003/alf/_ibl_leftCamera.lightningPose.pqt\n"
     ]
    },
    {
     "name": "stdout",
     "output_type": "stream",
     "text": [
      "Downloading: /Users/ineslaranjeira/Downloads/FlatIron/wittenlab/Subjects/ibl_witten_29/2021-06-10/003/alf/_ibl_leftCamera.lightningPose.7b92ecbc-5656-4453-b490-ddacb9b6d7a7.pqt Bytes: 141444078\n"
     ]
    },
    {
     "name": "stderr",
     "output_type": "stream",
     "text": [
      "100%|██████████| 134.8915843963623/134.8915843963623 [01:39<00:00,  1.35it/s]\n",
      "/Users/ineslaranjeira/Documents/Repositories/representation_learning_variability/Functions/video_functions.py:172: FutureWarning: The behavior of DataFrame concatenation with empty or all-NA entries is deprecated. In a future version, this will no longer exclude empty or all-NA columns when determining the result dtypes. To retain the old behavior, exclude the relevant entries before the concat operation.\n",
      "  licks_df = pd.concat([licks_df, temp_df])\n"
     ]
    },
    {
     "name": "stdout",
     "output_type": "stream",
     "text": [
      "Downloading: /Users/ineslaranjeira/Downloads/FlatIron/wittenlab/Subjects/ibl_witten_29/2021-06-10/003/alf/_ibl_rightCamera.dlc.21aaf0c0-c543-48f5-9b87-91b2d8c6e6c5.pqt Bytes: 102529018\n"
     ]
    },
    {
     "name": "stderr",
     "output_type": "stream",
     "text": [
      "100%|██████████| 97.7792911529541/97.7792911529541 [01:16<00:00,  1.28it/s]\n",
      "/Users/ineslaranjeira/Documents/Repositories/representation_learning_variability/Functions/video_functions.py:172: FutureWarning: The behavior of DataFrame concatenation with empty or all-NA entries is deprecated. In a future version, this will no longer exclude empty or all-NA columns when determining the result dtypes. To retain the old behavior, exclude the relevant entries before the concat operation.\n",
      "  licks_df = pd.concat([licks_df, temp_df])\n",
      "No default revision for dataset alf/probe00/pykilosort/clusters.metrics.pqt; using most recent\n"
     ]
    },
    {
     "name": "stdout",
     "output_type": "stream",
     "text": [
      "Downloading: /Users/ineslaranjeira/Downloads/FlatIron/wittenlab/Subjects/ibl_witten_29/2021-06-11/001/alf/#2025-03-03#/_ibl_trials.stimOffTrigger_times.b193b3cc-6ade-42dc-b000-130ce321718c.npy Bytes: 8016Downloading: /Users/ineslaranjeira/Downloads/FlatIron/wittenlab/Subjects/ibl_witten_29/2021-06-11/001/alf/#2025-03-03#/_ibl_trials.stimOff_times.985789f6-2a82-4a1b-960e-c151de4a8431.npy Bytes: 8016\n",
      "\n",
      "Downloading: /Users/ineslaranjeira/Downloads/FlatIron/wittenlab/Subjects/ibl_witten_29/2021-06-11/001/alf/#2025-03-03#/_ibl_trials.stimOnTrigger_times.ac97bc61-11c6-4bd8-9f59-21d4e8542de6.npy Bytes: 8016\n"
     ]
    },
    {
     "name": "stderr",
     "output_type": "stream",
     "text": [
      "  0%|          | 0/0.0076446533203125 [00:00<?, ?it/s]\n",
      "100%|██████████| 0.0076446533203125/0.0076446533203125 [00:00<00:00,  1.83s/it]\n",
      "100%|██████████| 0.0076446533203125/0.0076446533203125 [00:00<00:00,  1.21s/it]\n",
      "100%|██████████| 0.0076446533203125/0.0076446533203125 [00:00<00:00,  1.61it/s]\n"
     ]
    },
    {
     "name": "stdout",
     "output_type": "stream",
     "text": [
      "Downloading: /Users/ineslaranjeira/Downloads/FlatIron/wittenlab/Subjects/ibl_witten_29/2021-06-11/001/alf/#2025-03-03#/_ibl_trials.table.7fe2c5a1-f707-4c36-95e7-55ba466c517c.pqt Bytes: 75407\n"
     ]
    },
    {
     "name": "stderr",
     "output_type": "stream",
     "text": [
      "100%|██████████| 0.0719137191772461/0.0719137191772461 [00:00<00:00,  4.69s/it]\n",
      "No default revision for dataset alf/probe00/pykilosort/clusters.metrics.pqt; using most recent\n"
     ]
    },
    {
     "name": "stdout",
     "output_type": "stream",
     "text": [
      "Downloading: /Users/ineslaranjeira/Downloads/FlatIron/wittenlab/Subjects/ibl_witten_29/2021-06-11/001/alf/_ibl_rightCamera.times.3ce574d6-008d-4140-813b-38ec89d2e869.npy Bytes: 6791888\n"
     ]
    },
    {
     "name": "stderr",
     "output_type": "stream",
     "text": [
      "100%|██████████| 6.4772491455078125/6.4772491455078125 [00:07<00:00,  1.11s/it]\n",
      "No default revision for dataset alf/probe00/pykilosort/clusters.metrics.pqt; using most recent\n"
     ]
    },
    {
     "name": "stdout",
     "output_type": "stream",
     "text": [
      "Downloading: /Users/ineslaranjeira/Downloads/FlatIron/wittenlab/Subjects/ibl_witten_29/2021-06-11/001/alf/_ibl_rightCamera.lightningPose.0da24487-6baf-4077-a83b-fbe281b48ac4.pqt Bytes: 378781939\n"
     ]
    },
    {
     "name": "stderr",
     "output_type": "stream",
     "text": [
      "100%|██████████| 361.2346067428589/361.2346067428589 [02:31<00:00,  2.38it/s]\n",
      "No default revision for dataset alf/probe00/pykilosort/clusters.metrics.pqt; using most recent\n",
      "No default revision for dataset alf/probe00/pykilosort/clusters.metrics.pqt; using most recent\n",
      "local md5 mismatch on dataset: wittenlab/Subjects/ibl_witten_29/2021-06-11/001/alf/_ibl_leftCamera.lightningPose.pqt\n"
     ]
    },
    {
     "name": "stdout",
     "output_type": "stream",
     "text": [
      "Downloading: /Users/ineslaranjeira/Downloads/FlatIron/wittenlab/Subjects/ibl_witten_29/2021-06-11/001/alf/_ibl_leftCamera.lightningPose.fd451d81-d6c0-4cd0-8c2f-01ae173b097e.pqt Bytes: 161814880\n"
     ]
    },
    {
     "name": "stderr",
     "output_type": "stream",
     "text": [
      "100%|██████████| 154.31869506835938/154.31869506835938 [01:13<00:00,  2.11it/s]\n",
      "/Users/ineslaranjeira/Documents/Repositories/representation_learning_variability/Functions/video_functions.py:172: FutureWarning: The behavior of DataFrame concatenation with empty or all-NA entries is deprecated. In a future version, this will no longer exclude empty or all-NA columns when determining the result dtypes. To retain the old behavior, exclude the relevant entries before the concat operation.\n",
      "  licks_df = pd.concat([licks_df, temp_df])\n",
      "No default revision for dataset alf/probe00/pykilosort/clusters.metrics.pqt; using most recent\n",
      "No default revision for dataset alf/probe00/pykilosort/clusters.metrics.pqt; using most recent\n"
     ]
    },
    {
     "name": "stdout",
     "output_type": "stream",
     "text": [
      "Downloading: /Users/ineslaranjeira/Downloads/FlatIron/wittenlab/Subjects/ibl_witten_29/2021-06-11/001/alf/_ibl_rightCamera.dlc.c63c786a-1959-49d8-96e8-1d7e98b206d0.pqt Bytes: 118148647\n"
     ]
    },
    {
     "name": "stderr",
     "output_type": "stream",
     "text": [
      "100%|██████████| 112.67533016204834/112.67533016204834 [01:24<00:00,  1.33it/s]\n",
      "No default revision for dataset alf/probe00/pykilosort/clusters.metrics.pqt; using most recent\n",
      "No default revision for dataset alf/probe00/pykilosort/clusters.metrics.pqt; using most recent\n",
      "/Users/ineslaranjeira/Documents/Repositories/representation_learning_variability/Functions/video_functions.py:172: FutureWarning: The behavior of DataFrame concatenation with empty or all-NA entries is deprecated. In a future version, this will no longer exclude empty or all-NA columns when determining the result dtypes. To retain the old behavior, exclude the relevant entries before the concat operation.\n",
      "  licks_df = pd.concat([licks_df, temp_df])\n"
     ]
    },
    {
     "name": "stdout",
     "output_type": "stream",
     "text": [
      "Downloading: /Users/ineslaranjeira/Downloads/FlatIron/wittenlab/Subjects/ibl_witten_29/2021-06-14/003/alf/#2025-03-03#/_ibl_trials.stimOffTrigger_times.10ad297a-7d7b-43eb-9574-405621d17bcd.npy Bytes: 9072Downloading: /Users/ineslaranjeira/Downloads/FlatIron/wittenlab/Subjects/ibl_witten_29/2021-06-14/003/alf/#2025-03-03#/_ibl_trials.table.689335e0-56dd-44d4-ad87-21539b81af8d.pqt Bytes: 85056\n",
      "Downloading: /Users/ineslaranjeira/Downloads/FlatIron/wittenlab/Subjects/ibl_witten_29/2021-06-14/003/alf/#2025-03-03#/_ibl_trials.stimOnTrigger_times.eafc0c37-cd6f-4cdf-a949-858d25c37c1d.npy Bytes: 9072\n",
      "\n",
      "Downloading: /Users/ineslaranjeira/Downloads/FlatIron/wittenlab/Subjects/ibl_witten_29/2021-06-14/003/alf/#2025-03-03#/_ibl_trials.stimOff_times.7480bd26-3f10-44d2-a869-f17ecfae674e.npy Bytes: 9072\n"
     ]
    },
    {
     "name": "stderr",
     "output_type": "stream",
     "text": [
      "\n",
      "  0%|          | 0/0.08111572265625 [00:00<?, ?it/s]\n",
      "\n",
      "100%|██████████| 0.0086517333984375/0.0086517333984375 [00:00<00:00,  1.01s/it]\n",
      "100%|██████████| 0.0086517333984375/0.0086517333984375 [00:00<00:00,  1.77s/it]\n",
      "100%|██████████| 0.0086517333984375/0.0086517333984375 [00:00<00:00,  1.81it/s]\n",
      "100%|██████████| 0.08111572265625/0.08111572265625 [00:00<00:00,  3.72s/it]\n"
     ]
    },
    {
     "name": "stdout",
     "output_type": "stream",
     "text": [
      "Downloading: /Users/ineslaranjeira/Downloads/FlatIron/wittenlab/Subjects/ibl_witten_29/2021-06-14/003/alf/#2023-04-20#/_ibl_rightCamera.times.126d2679-90c7-41ef-afca-d07acd355b27.npy Bytes: 8404424\n"
     ]
    },
    {
     "name": "stderr",
     "output_type": "stream",
     "text": [
      "100%|██████████| 8.015083312988281/8.015083312988281 [00:12<00:00,  1.52s/it]\n"
     ]
    },
    {
     "name": "stdout",
     "output_type": "stream",
     "text": [
      "Downloading: /Users/ineslaranjeira/Downloads/FlatIron/wittenlab/Subjects/ibl_witten_29/2021-06-14/003/alf/_ibl_rightCamera.lightningPose.e50a7830-496f-40cf-9301-61a4c5187d10.pqt Bytes: 461992873\n"
     ]
    },
    {
     "name": "stderr",
     "output_type": "stream",
     "text": [
      "100%|██████████| 440.5907373428345/440.5907373428345 [03:28<00:00,  2.11it/s]\n"
     ]
    },
    {
     "name": "stdout",
     "output_type": "stream",
     "text": [
      "Downloading: /Users/ineslaranjeira/Downloads/FlatIron/wittenlab/Subjects/ibl_witten_29/2021-06-14/003/alf/_ibl_leftCamera.lightningPose.61f793ba-cd27-4b57-a7b4-d7ceef0029d0.pqt Bytes: 195959928\n"
     ]
    },
    {
     "name": "stderr",
     "output_type": "stream",
     "text": [
      "100%|██████████| 186.88195037841797/186.88195037841797 [01:24<00:00,  2.21it/s]\n",
      "/Users/ineslaranjeira/Documents/Repositories/representation_learning_variability/Functions/video_functions.py:172: FutureWarning: The behavior of DataFrame concatenation with empty or all-NA entries is deprecated. In a future version, this will no longer exclude empty or all-NA columns when determining the result dtypes. To retain the old behavior, exclude the relevant entries before the concat operation.\n",
      "  licks_df = pd.concat([licks_df, temp_df])\n"
     ]
    },
    {
     "name": "stdout",
     "output_type": "stream",
     "text": [
      "Downloading: /Users/ineslaranjeira/Downloads/FlatIron/wittenlab/Subjects/ibl_witten_29/2021-06-14/003/alf/_ibl_rightCamera.dlc.acaa9755-e839-4e66-ab3f-94027c02ee26.pqt Bytes: 141898750\n"
     ]
    },
    {
     "name": "stderr",
     "output_type": "stream",
     "text": [
      "100%|██████████| 135.32519340515137/135.32519340515137 [01:07<00:00,  2.00it/s]\n",
      "/Users/ineslaranjeira/Documents/Repositories/representation_learning_variability/Functions/video_functions.py:172: FutureWarning: The behavior of DataFrame concatenation with empty or all-NA entries is deprecated. In a future version, this will no longer exclude empty or all-NA columns when determining the result dtypes. To retain the old behavior, exclude the relevant entries before the concat operation.\n",
      "  licks_df = pd.concat([licks_df, temp_df])\n"
     ]
    },
    {
     "name": "stdout",
     "output_type": "stream",
     "text": [
      "Downloading: /Users/ineslaranjeira/Downloads/FlatIron/wittenlab/Subjects/ibl_witten_29/2021-06-16/001/alf/#2025-03-03#/_ibl_trials.stimOff_times.e4a1fd0b-21eb-402d-a39c-3c6d2975c967.npy Bytes: 4864Downloading: /Users/ineslaranjeira/Downloads/FlatIron/wittenlab/Subjects/ibl_witten_29/2021-06-16/001/alf/#2025-03-03#/_ibl_trials.stimOnTrigger_times.161da434-85cb-47c4-a94c-ba1a9471c24a.npy Bytes: 4864\n",
      "Downloading: /Users/ineslaranjeira/Downloads/FlatIron/wittenlab/Subjects/ibl_witten_29/2021-06-16/001/alf/#2025-03-03#/_ibl_trials.stimOffTrigger_times.578c1d5f-b30e-45ab-bcce-9f62003871ab.npy Bytes: 4864\n",
      "\n"
     ]
    },
    {
     "name": "stderr",
     "output_type": "stream",
     "text": [
      "  0%|          | 0/0.004638671875 [00:00<?, ?it/s]\n",
      "100%|██████████| 0.004638671875/0.004638671875 [00:00<00:00,  1.71s/it]\n",
      "100%|██████████| 0.004638671875/0.004638671875 [00:00<00:00,  3.13s/it]\n",
      "100%|██████████| 0.004638671875/0.004638671875 [00:00<00:00,  1.05s/it]\n"
     ]
    },
    {
     "name": "stdout",
     "output_type": "stream",
     "text": [
      "Downloading: /Users/ineslaranjeira/Downloads/FlatIron/wittenlab/Subjects/ibl_witten_29/2021-06-16/001/alf/#2025-03-03#/_ibl_trials.table.19251819-728e-4a82-a716-92166d4a52ee.pqt Bytes: 49329\n"
     ]
    },
    {
     "name": "stderr",
     "output_type": "stream",
     "text": [
      "100%|██████████| 0.047043800354003906/0.047043800354003906 [00:00<00:00,  3.71s/it]\n"
     ]
    },
    {
     "name": "stdout",
     "output_type": "stream",
     "text": [
      "Downloading: /Users/ineslaranjeira/Downloads/FlatIron/wittenlab/Subjects/ibl_witten_29/2021-06-16/001/alf/_ibl_rightCamera.times.f59ecdbd-5a03-4aac-a24f-fb66b614f0c3.npy Bytes: 5038832\n"
     ]
    },
    {
     "name": "stderr",
     "output_type": "stream",
     "text": [
      "100%|██████████| 4.8054046630859375/4.8054046630859375 [00:03<00:00,  1.24it/s]\n"
     ]
    },
    {
     "name": "stdout",
     "output_type": "stream",
     "text": [
      "Downloading: /Users/ineslaranjeira/Downloads/FlatIron/wittenlab/Subjects/ibl_witten_29/2021-06-16/001/alf/_ibl_rightCamera.lightningPose.56352f9f-923a-4456-874e-5538f5a9bd9f.pqt Bytes: 285257806\n"
     ]
    },
    {
     "name": "stderr",
     "output_type": "stream",
     "text": [
      "100%|██████████| 272.0430431365967/272.0430431365967 [02:49<00:00,  1.61it/s]\n",
      "local md5 mismatch on dataset: wittenlab/Subjects/ibl_witten_29/2021-06-16/001/alf/_ibl_leftCamera.lightningPose.pqt\n"
     ]
    },
    {
     "name": "stdout",
     "output_type": "stream",
     "text": [
      "Downloading: /Users/ineslaranjeira/Downloads/FlatIron/wittenlab/Subjects/ibl_witten_29/2021-06-16/001/alf/_ibl_leftCamera.lightningPose.f507984a-65d4-4715-a37c-67a9cd297c46.pqt Bytes: 125187870\n"
     ]
    },
    {
     "name": "stderr",
     "output_type": "stream",
     "text": [
      "100%|██████████| 119.38845634460449/119.38845634460449 [01:01<00:00,  1.94it/s]\n",
      "/Users/ineslaranjeira/Documents/Repositories/representation_learning_variability/Functions/video_functions.py:172: FutureWarning: The behavior of DataFrame concatenation with empty or all-NA entries is deprecated. In a future version, this will no longer exclude empty or all-NA columns when determining the result dtypes. To retain the old behavior, exclude the relevant entries before the concat operation.\n",
      "  licks_df = pd.concat([licks_df, temp_df])\n"
     ]
    },
    {
     "name": "stdout",
     "output_type": "stream",
     "text": [
      "Downloading: /Users/ineslaranjeira/Downloads/FlatIron/wittenlab/Subjects/ibl_witten_29/2021-06-16/001/alf/_ibl_rightCamera.dlc.a1e2bd63-56cf-4a5d-aaf0-148b8da2da98.pqt Bytes: 87298591\n"
     ]
    },
    {
     "name": "stderr",
     "output_type": "stream",
     "text": [
      "100%|██████████| 83.25442409515381/83.25442409515381 [00:31<00:00,  2.66it/s]\n",
      "/Users/ineslaranjeira/Documents/Repositories/representation_learning_variability/Functions/video_functions.py:172: FutureWarning: The behavior of DataFrame concatenation with empty or all-NA entries is deprecated. In a future version, this will no longer exclude empty or all-NA columns when determining the result dtypes. To retain the old behavior, exclude the relevant entries before the concat operation.\n",
      "  licks_df = pd.concat([licks_df, temp_df])\n"
     ]
    },
    {
     "name": "stdout",
     "output_type": "stream",
     "text": [
      "Downloading: /Users/ineslaranjeira/Downloads/FlatIron/wittenlab/Subjects/ibl_witten_29/2021-06-17/001/alf/#2025-03-03#/_ibl_trials.stimOnTrigger_times.c61acf6b-f2ed-422e-ba43-cab4445bb393.npy Bytes: 4896\n"
     ]
    },
    {
     "name": "stderr",
     "output_type": "stream",
     "text": [
      "100%|██████████| 0.004669189453125/0.004669189453125 [00:00<00:00,  1.04it/s]\n"
     ]
    },
    {
     "name": "stdout",
     "output_type": "stream",
     "text": [
      "Downloading: /Users/ineslaranjeira/Downloads/FlatIron/wittenlab/Subjects/ibl_witten_29/2021-06-17/001/alf/#2025-03-03#/_ibl_trials.stimOff_times.dc6a349a-761e-4e0f-a0ec-27d7420290c4.npy Bytes: 4896\n",
      "Downloading: /Users/ineslaranjeira/Downloads/FlatIron/wittenlab/Subjects/ibl_witten_29/2021-06-17/001/alf/#2025-03-03#/_ibl_trials.table.63095b71-cadf-41fb-b7c6-ff479bce854f.pqt Bytes: 49683\n",
      "Downloading: /Users/ineslaranjeira/Downloads/FlatIron/wittenlab/Subjects/ibl_witten_29/2021-06-17/001/alf/#2025-03-03#/_ibl_trials.stimOffTrigger_times.2c1a59fb-6a71-456f-bf30-68a59490ee6c.npy Bytes: 4896\n"
     ]
    },
    {
     "name": "stderr",
     "output_type": "stream",
     "text": [
      "  0%|          | 0/0.004669189453125 [00:00<?, ?it/s]\n",
      "100%|██████████| 0.004669189453125/0.004669189453125 [00:00<00:00,  1.93s/it]\n",
      "100%|██████████| 0.004669189453125/0.004669189453125 [00:00<00:00,  1.21s/it]\n",
      "\n",
      "100%|██████████| 0.04738140106201172/0.04738140106201172 [00:00<00:00,  5.70s/it]\n"
     ]
    },
    {
     "name": "stdout",
     "output_type": "stream",
     "text": [
      "Downloading: /Users/ineslaranjeira/Downloads/FlatIron/wittenlab/Subjects/ibl_witten_29/2021-06-17/001/alf/_ibl_rightCamera.times.6855874e-e07a-4d90-bd9a-671933160416.npy Bytes: 5564896\n"
     ]
    },
    {
     "name": "stderr",
     "output_type": "stream",
     "text": [
      "100%|██████████| 5.307098388671875/5.307098388671875 [00:02<00:00,  1.96it/s]\n"
     ]
    },
    {
     "name": "stdout",
     "output_type": "stream",
     "text": [
      "Downloading: /Users/ineslaranjeira/Downloads/FlatIron/wittenlab/Subjects/ibl_witten_29/2021-06-17/001/alf/_ibl_rightCamera.lightningPose.84d350f7-063f-49b6-9100-65ec328bc161.pqt Bytes: 311425753\n"
     ]
    },
    {
     "name": "stderr",
     "output_type": "stream",
     "text": [
      "100%|██████████| 296.99874210357666/296.99874210357666 [02:38<00:00,  1.88it/s]\n",
      "local md5 mismatch on dataset: wittenlab/Subjects/ibl_witten_29/2021-06-17/001/alf/_ibl_leftCamera.lightningPose.pqt\n"
     ]
    },
    {
     "name": "stdout",
     "output_type": "stream",
     "text": [
      "Downloading: /Users/ineslaranjeira/Downloads/FlatIron/wittenlab/Subjects/ibl_witten_29/2021-06-17/001/alf/_ibl_leftCamera.lightningPose.1492a52e-30e1-41d5-ae75-cfdb3efe4f0d.pqt Bytes: 135409148\n"
     ]
    },
    {
     "name": "stderr",
     "output_type": "stream",
     "text": [
      "100%|██████████| 129.13622665405273/129.13622665405273 [00:56<00:00,  2.28it/s]\n",
      "/Users/ineslaranjeira/Documents/Repositories/representation_learning_variability/Functions/video_functions.py:172: FutureWarning: The behavior of DataFrame concatenation with empty or all-NA entries is deprecated. In a future version, this will no longer exclude empty or all-NA columns when determining the result dtypes. To retain the old behavior, exclude the relevant entries before the concat operation.\n",
      "  licks_df = pd.concat([licks_df, temp_df])\n"
     ]
    },
    {
     "name": "stdout",
     "output_type": "stream",
     "text": [
      "Downloading: /Users/ineslaranjeira/Downloads/FlatIron/wittenlab/Subjects/ibl_witten_29/2021-06-17/001/alf/_ibl_rightCamera.dlc.4c185213-2d71-4486-b6f2-e6a76efefa07.pqt Bytes: 96083810\n"
     ]
    },
    {
     "name": "stderr",
     "output_type": "stream",
     "text": [
      "100%|██████████| 91.63266181945801/91.63266181945801 [00:34<00:00,  2.63it/s]\n",
      "/Users/ineslaranjeira/Documents/Repositories/representation_learning_variability/Functions/video_functions.py:172: FutureWarning: The behavior of DataFrame concatenation with empty or all-NA entries is deprecated. In a future version, this will no longer exclude empty or all-NA columns when determining the result dtypes. To retain the old behavior, exclude the relevant entries before the concat operation.\n",
      "  licks_df = pd.concat([licks_df, temp_df])\n"
     ]
    },
    {
     "name": "stdout",
     "output_type": "stream",
     "text": [
      "Downloading: /Users/ineslaranjeira/Downloads/FlatIron/wittenlab/Subjects/ibl_witten_29/2021-06-18/001/alf/#2025-03-03#/_ibl_trials.table.5801a357-b7e5-4914-b4e3-14cdc1814ecc.pqt Bytes: 47605Downloading: /Users/ineslaranjeira/Downloads/FlatIron/wittenlab/Subjects/ibl_witten_29/2021-06-18/001/alf/#2025-03-03#/_ibl_trials.stimOnTrigger_times.5ccb9847-3602-47c0-a128-d494e73f8fb2.npy Bytes: 4648\n",
      "\n"
     ]
    },
    {
     "name": "stderr",
     "output_type": "stream",
     "text": [
      "100%|██████████| 0.00443267822265625/0.00443267822265625 [00:00<00:00,  1.34s/it]\n"
     ]
    },
    {
     "name": "stdout",
     "output_type": "stream",
     "text": [
      "Downloading: /Users/ineslaranjeira/Downloads/FlatIron/wittenlab/Subjects/ibl_witten_29/2021-06-18/001/alf/#2025-03-03#/_ibl_trials.stimOff_times.3f068168-6aec-4402-a25d-6d8ba5b39104.npy Bytes: 4648\n"
     ]
    },
    {
     "name": "stderr",
     "output_type": "stream",
     "text": [
      "100%|██████████| 0.00443267822265625/0.00443267822265625 [00:00<00:00,  1.61it/s]\n"
     ]
    },
    {
     "name": "stdout",
     "output_type": "stream",
     "text": [
      "Downloading: /Users/ineslaranjeira/Downloads/FlatIron/wittenlab/Subjects/ibl_witten_29/2021-06-18/001/alf/#2025-03-03#/_ibl_trials.stimOffTrigger_times.fcfa2ee0-96a3-40a7-8a92-b28836b292de.npy Bytes: 4648\n"
     ]
    },
    {
     "name": "stderr",
     "output_type": "stream",
     "text": [
      "100%|██████████| 0.00443267822265625/0.00443267822265625 [00:00<00:00,  1.53it/s]\n",
      "100%|██████████| 0.04539966583251953/0.04539966583251953 [00:00<00:00,  6.24s/it]\n"
     ]
    },
    {
     "name": "stdout",
     "output_type": "stream",
     "text": [
      "Downloading: /Users/ineslaranjeira/Downloads/FlatIron/wittenlab/Subjects/ibl_witten_29/2021-06-18/001/alf/_ibl_rightCamera.times.98ee2b4e-07ef-4216-b6e6-c7da31e5cc8a.npy Bytes: 4904104\n"
     ]
    },
    {
     "name": "stderr",
     "output_type": "stream",
     "text": [
      "100%|██████████| 4.676918029785156/4.676918029785156 [00:02<00:00,  2.30it/s]\n"
     ]
    },
    {
     "name": "stdout",
     "output_type": "stream",
     "text": [
      "Downloading: /Users/ineslaranjeira/Downloads/FlatIron/wittenlab/Subjects/ibl_witten_29/2021-06-18/001/alf/_ibl_rightCamera.lightningPose.ec8005e0-ee38-4725-bb2e-1821caca3aa8.pqt Bytes: 277326727\n"
     ]
    },
    {
     "name": "stderr",
     "output_type": "stream",
     "text": [
      "100%|██████████| 264.4793767929077/264.4793767929077 [02:09<00:00,  2.04it/s]\n",
      "local md5 mismatch on dataset: wittenlab/Subjects/ibl_witten_29/2021-06-18/001/alf/_ibl_leftCamera.lightningPose.pqt\n"
     ]
    },
    {
     "name": "stdout",
     "output_type": "stream",
     "text": [
      "Downloading: /Users/ineslaranjeira/Downloads/FlatIron/wittenlab/Subjects/ibl_witten_29/2021-06-18/001/alf/_ibl_leftCamera.lightningPose.d8f46b24-52bf-4222-997d-46b7fffcb6c0.pqt Bytes: 122003527\n"
     ]
    },
    {
     "name": "stderr",
     "output_type": "stream",
     "text": [
      "100%|██████████| 116.35163021087646/116.35163021087646 [01:08<00:00,  1.69it/s]\n",
      "/Users/ineslaranjeira/Documents/Repositories/representation_learning_variability/Functions/video_functions.py:172: FutureWarning: The behavior of DataFrame concatenation with empty or all-NA entries is deprecated. In a future version, this will no longer exclude empty or all-NA columns when determining the result dtypes. To retain the old behavior, exclude the relevant entries before the concat operation.\n",
      "  licks_df = pd.concat([licks_df, temp_df])\n"
     ]
    },
    {
     "name": "stdout",
     "output_type": "stream",
     "text": [
      "Downloading: /Users/ineslaranjeira/Downloads/FlatIron/wittenlab/Subjects/ibl_witten_29/2021-06-18/001/alf/_ibl_rightCamera.dlc.0bdf75c5-a9d7-40c2-a738-b72e9c446f64.pqt Bytes: 84557853\n"
     ]
    },
    {
     "name": "stderr",
     "output_type": "stream",
     "text": [
      "100%|██████████| 80.64065265655518/80.64065265655518 [00:38<00:00,  2.09it/s]\n",
      "/Users/ineslaranjeira/Documents/Repositories/representation_learning_variability/Functions/video_functions.py:172: FutureWarning: The behavior of DataFrame concatenation with empty or all-NA entries is deprecated. In a future version, this will no longer exclude empty or all-NA columns when determining the result dtypes. To retain the old behavior, exclude the relevant entries before the concat operation.\n",
      "  licks_df = pd.concat([licks_df, temp_df])\n"
     ]
    },
    {
     "name": "stdout",
     "output_type": "stream",
     "text": [
      "Downloading: /Users/ineslaranjeira/Downloads/FlatIron/wittenlab/Subjects/ibl_witten_29/2021-06-19/001/alf/#2025-03-03#/_ibl_trials.stimOffTrigger_times.2566bb45-d7aa-4e7c-b956-4df15eeb78a5.npy Bytes: 5952Downloading: /Users/ineslaranjeira/Downloads/FlatIron/wittenlab/Subjects/ibl_witten_29/2021-06-19/001/alf/#2025-03-03#/_ibl_trials.table.cc3e7a49-43e0-466c-822e-e2162749bc05.pqt Bytes: 58363\n",
      "Downloading: /Users/ineslaranjeira/Downloads/FlatIron/wittenlab/Subjects/ibl_witten_29/2021-06-19/001/alf/#2025-03-03#/_ibl_trials.stimOnTrigger_times.d95193e3-c390-463e-9f29-ca277e67bbd8.npy Bytes: 5952\n",
      "\n"
     ]
    },
    {
     "name": "stderr",
     "output_type": "stream",
     "text": [
      "\n",
      "100%|██████████| 0.00567626953125/0.00567626953125 [00:00<00:00,  1.29it/s]\n",
      "100%|██████████| 0.00567626953125/0.00567626953125 [00:00<00:00,  1.97s/it]\n",
      "100%|██████████| 0.05565929412841797/0.05565929412841797 [00:00<00:00,  5.28s/it]\n"
     ]
    },
    {
     "name": "stdout",
     "output_type": "stream",
     "text": [
      "Downloading: /Users/ineslaranjeira/Downloads/FlatIron/wittenlab/Subjects/ibl_witten_29/2021-06-19/001/alf/#2025-03-03#/_ibl_trials.stimOff_times.961c53c9-34bc-4f8f-bc9d-5178b416d55f.npy Bytes: 5952\n"
     ]
    },
    {
     "name": "stderr",
     "output_type": "stream",
     "text": [
      "100%|██████████| 0.00567626953125/0.00567626953125 [00:00<00:00,  1.31it/s]\n"
     ]
    },
    {
     "name": "stdout",
     "output_type": "stream",
     "text": [
      "Downloading: /Users/ineslaranjeira/Downloads/FlatIron/wittenlab/Subjects/ibl_witten_29/2021-06-19/001/alf/_ibl_rightCamera.times.b2be945c-2227-4cbc-9555-3cf443a4fb70.npy Bytes: 6037400\n"
     ]
    },
    {
     "name": "stderr",
     "output_type": "stream",
     "text": [
      "100%|██████████| 5.757713317871094/5.757713317871094 [00:04<00:00,  1.41it/s]\n"
     ]
    },
    {
     "name": "stdout",
     "output_type": "stream",
     "text": [
      "Downloading: /Users/ineslaranjeira/Downloads/FlatIron/wittenlab/Subjects/ibl_witten_29/2021-06-19/001/alf/_ibl_rightCamera.lightningPose.e680663d-da12-424f-8645-adce21577d1c.pqt Bytes: 336956860\n"
     ]
    },
    {
     "name": "stderr",
     "output_type": "stream",
     "text": [
      "100%|██████████| 321.3471031188965/321.3471031188965 [02:41<00:00,  1.99it/s]\n"
     ]
    },
    {
     "name": "stdout",
     "output_type": "stream",
     "text": [
      "Downloading: /Users/ineslaranjeira/Downloads/FlatIron/wittenlab/Subjects/ibl_witten_29/2021-06-19/001/alf/#2025-05-30#/_ibl_leftCamera.lightningPose.e95528e9-9811-4155-ad29-6998b0051619.pqt Bytes: 146478769\n"
     ]
    },
    {
     "name": "stderr",
     "output_type": "stream",
     "text": [
      "100%|██████████| 139.693039894104/139.693039894104 [01:20<00:00,  1.73it/s]\n",
      "/Users/ineslaranjeira/Documents/Repositories/representation_learning_variability/Functions/video_functions.py:172: FutureWarning: The behavior of DataFrame concatenation with empty or all-NA entries is deprecated. In a future version, this will no longer exclude empty or all-NA columns when determining the result dtypes. To retain the old behavior, exclude the relevant entries before the concat operation.\n",
      "  licks_df = pd.concat([licks_df, temp_df])\n"
     ]
    },
    {
     "name": "stdout",
     "output_type": "stream",
     "text": [
      "Downloading: /Users/ineslaranjeira/Downloads/FlatIron/wittenlab/Subjects/ibl_witten_29/2021-06-19/001/alf/_ibl_rightCamera.dlc.4ec236d7-a94d-439a-a1de-f43387b2828f.pqt Bytes: 100468738\n"
     ]
    },
    {
     "name": "stderr",
     "output_type": "stream",
     "text": [
      "100%|██████████| 95.81445503234863/95.81445503234863 [00:59<00:00,  1.62it/s]\n",
      "/Users/ineslaranjeira/Documents/Repositories/representation_learning_variability/Functions/video_functions.py:172: FutureWarning: The behavior of DataFrame concatenation with empty or all-NA entries is deprecated. In a future version, this will no longer exclude empty or all-NA columns when determining the result dtypes. To retain the old behavior, exclude the relevant entries before the concat operation.\n",
      "  licks_df = pd.concat([licks_df, temp_df])\n",
      "No default revision for dataset alf/probe01/pykilosort/#2024-03-12#/clusters.metrics.pqt; using most recent\n"
     ]
    },
    {
     "name": "stdout",
     "output_type": "stream",
     "text": [
      "Downloading: /Users/ineslaranjeira/Downloads/FlatIron/wittenlab/Subjects/ibl_witten_32/2021-07-21/002/alf/#2025-03-03#/_ibl_trials.stimOffTrigger_times.b787d7ba-1d37-463d-8b25-f471151b4a8b.npy Bytes: 3376Downloading: /Users/ineslaranjeira/Downloads/FlatIron/wittenlab/Subjects/ibl_witten_32/2021-07-21/002/alf/#2025-03-03#/_ibl_trials.stimOnTrigger_times.0d71d48c-2b86-4c64-bc48-e5dfe448140c.npy Bytes: 3376\n",
      "Downloading: /Users/ineslaranjeira/Downloads/FlatIron/wittenlab/Subjects/ibl_witten_32/2021-07-21/002/alf/#2025-03-03#/_ibl_trials.stimOff_times.e7c9399c-db3f-4054-a158-17ea2292a84b.npy Bytes: 3376\n",
      "\n",
      "Downloading: /Users/ineslaranjeira/Downloads/FlatIron/wittenlab/Subjects/ibl_witten_32/2021-07-21/002/alf/#2025-03-03#/_ibl_trials.table.2e0ad626-b8b6-4967-bbcc-e5fa5c7dcee4.pqt Bytes: 36720\n"
     ]
    },
    {
     "name": "stderr",
     "output_type": "stream",
     "text": [
      "  0%|          | 0/0.0032196044921875 [00:00<?, ?it/s]\n",
      "\u001b[A\n",
      "\n",
      "100%|██████████| 0.0032196044921875/0.0032196044921875 [00:00<00:00,  3.29s/it]\n",
      "100%|██████████| 0.0032196044921875/0.0032196044921875 [00:00<00:00,  5.34s/it]\n",
      "100%|██████████| 0.0032196044921875/0.0032196044921875 [00:00<00:00,  2.16s/it]\n",
      "\n",
      "\n",
      "100%|██████████| 0.0350189208984375/0.0350189208984375 [00:00<00:00,  3.92s/it]\n",
      "No default revision for dataset alf/probe01/pykilosort/#2024-03-12#/clusters.metrics.pqt; using most recent\n"
     ]
    },
    {
     "name": "stdout",
     "output_type": "stream",
     "text": [
      "Downloading: /Users/ineslaranjeira/Downloads/FlatIron/wittenlab/Subjects/ibl_witten_32/2021-07-21/002/alf/_ibl_rightCamera.times.6289005b-6c96-4e12-b9ca-92233dd93c5c.npy Bytes: 6500272\n"
     ]
    },
    {
     "name": "stderr",
     "output_type": "stream",
     "text": [
      "100%|██████████| 6.1991424560546875/6.1991424560546875 [00:04<00:00,  1.51it/s]\n",
      "No default revision for dataset alf/probe01/pykilosort/#2024-03-12#/clusters.metrics.pqt; using most recent\n"
     ]
    },
    {
     "name": "stdout",
     "output_type": "stream",
     "text": [
      "Downloading: /Users/ineslaranjeira/Downloads/FlatIron/wittenlab/Subjects/ibl_witten_32/2021-07-21/002/alf/_ibl_rightCamera.lightningPose.6eaa7f24-197a-40d3-9ba4-5ef8937f707e.pqt Bytes: 358205295\n"
     ]
    },
    {
     "name": "stderr",
     "output_type": "stream",
     "text": [
      "100%|██████████| 341.6111898422241/341.6111898422241 [03:21<00:00,  1.69it/s]\n",
      "No default revision for dataset alf/probe01/pykilosort/#2024-03-12#/clusters.metrics.pqt; using most recent\n",
      "No default revision for dataset alf/probe01/pykilosort/#2024-03-12#/clusters.metrics.pqt; using most recent\n",
      "local md5 mismatch on dataset: wittenlab/Subjects/ibl_witten_32/2021-07-21/002/alf/_ibl_leftCamera.lightningPose.pqt\n"
     ]
    },
    {
     "name": "stdout",
     "output_type": "stream",
     "text": [
      "Downloading: /Users/ineslaranjeira/Downloads/FlatIron/wittenlab/Subjects/ibl_witten_32/2021-07-21/002/alf/_ibl_leftCamera.lightningPose.634cb09c-8308-4d50-ac9d-bffd70f8809f.pqt Bytes: 155434002\n"
     ]
    },
    {
     "name": "stderr",
     "output_type": "stream",
     "text": [
      "100%|██████████| 148.2334156036377/148.2334156036377 [01:42<00:00,  1.44it/s]\n",
      "/Users/ineslaranjeira/Documents/Repositories/representation_learning_variability/Functions/video_functions.py:172: FutureWarning: The behavior of DataFrame concatenation with empty or all-NA entries is deprecated. In a future version, this will no longer exclude empty or all-NA columns when determining the result dtypes. To retain the old behavior, exclude the relevant entries before the concat operation.\n",
      "  licks_df = pd.concat([licks_df, temp_df])\n",
      "No default revision for dataset alf/probe01/pykilosort/#2024-03-12#/clusters.metrics.pqt; using most recent\n",
      "No default revision for dataset alf/probe01/pykilosort/#2024-03-12#/clusters.metrics.pqt; using most recent\n"
     ]
    },
    {
     "name": "stdout",
     "output_type": "stream",
     "text": [
      "Downloading: /Users/ineslaranjeira/Downloads/FlatIron/wittenlab/Subjects/ibl_witten_32/2021-07-21/002/alf/_ibl_rightCamera.dlc.232d543f-ce5d-4ee1-8588-6b505eed759e.pqt Bytes: 103675762\n"
     ]
    },
    {
     "name": "stderr",
     "output_type": "stream",
     "text": [
      "100%|██████████| 98.87291145324707/98.87291145324707 [01:06<00:00,  1.49it/s]\n",
      "No default revision for dataset alf/probe01/pykilosort/#2024-03-12#/clusters.metrics.pqt; using most recent\n",
      "No default revision for dataset alf/probe01/pykilosort/#2024-03-12#/clusters.metrics.pqt; using most recent\n",
      "/Users/ineslaranjeira/Documents/Repositories/representation_learning_variability/Functions/video_functions.py:172: FutureWarning: The behavior of DataFrame concatenation with empty or all-NA entries is deprecated. In a future version, this will no longer exclude empty or all-NA columns when determining the result dtypes. To retain the old behavior, exclude the relevant entries before the concat operation.\n",
      "  licks_df = pd.concat([licks_df, temp_df])\n",
      "No default revision for dataset alf/probe00/pykilosort/#2024-03-22#/clusters.amps.npy; using most recent\n"
     ]
    },
    {
     "name": "stdout",
     "output_type": "stream",
     "text": [
      "Downloading: /Users/ineslaranjeira/Downloads/FlatIron/zadorlab/Subjects/CSH_ZAD_019/2020-08-14/001/alf/#2025-03-03#/_ibl_trials.stimOff_times.d38c336c-a0b6-4265-8985-13360ce60542.npy Bytes: 8232Downloading: /Users/ineslaranjeira/Downloads/FlatIron/zadorlab/Subjects/CSH_ZAD_019/2020-08-14/001/alf/#2025-03-03#/_ibl_trials.stimOnTrigger_times.ae6bada3-89ef-4fd3-aafb-59f57581e75f.npy Bytes: 8232\n",
      "\n",
      "Downloading: /Users/ineslaranjeira/Downloads/FlatIron/zadorlab/Subjects/CSH_ZAD_019/2020-08-14/001/alf/#2025-03-03#/_ibl_trials.table.f6812a64-bef4-49fc-8803-556af7635d34.pqt Bytes: 77277\n",
      "Downloading: /Users/ineslaranjeira/Downloads/FlatIron/zadorlab/Subjects/CSH_ZAD_019/2020-08-14/001/alf/#2025-03-03#/_ibl_trials.stimOffTrigger_times.7060a30c-a781-4022-ab99-3d7a913f7c15.npy Bytes: 8232"
     ]
    },
    {
     "name": "stderr",
     "output_type": "stream",
     "text": [
      "\n"
     ]
    },
    {
     "name": "stdout",
     "output_type": "stream",
     "text": [
      "\n"
     ]
    },
    {
     "name": "stderr",
     "output_type": "stream",
     "text": [
      "  0%|          | 0/0.00785064697265625 [00:00<?, ?it/s]\u001b[A\n",
      "\u001b[A\n",
      "\n",
      "100%|██████████| 0.00785064697265625/0.00785064697265625 [00:00<00:00,  1.28s/it]\n",
      "100%|██████████| 0.00785064697265625/0.00785064697265625 [00:00<00:00,  1.95s/it]\n",
      "100%|██████████| 0.00785064697265625/0.00785064697265625 [00:00<00:00,  1.63it/s]\n",
      "\n",
      "100%|██████████| 0.07369709014892578/0.07369709014892578 [00:00<00:00,  4.60s/it]\n",
      "No default revision for dataset alf/probe00/pykilosort/#2024-03-22#/clusters.amps.npy; using most recent\n"
     ]
    },
    {
     "name": "stdout",
     "output_type": "stream",
     "text": [
      "Downloading: /Users/ineslaranjeira/Downloads/FlatIron/zadorlab/Subjects/CSH_ZAD_019/2020-08-14/001/alf/_ibl_rightCamera.times.f3b2535e-e23c-44de-9b59-3aae96852c9a.npy Bytes: 7731648\n"
     ]
    },
    {
     "name": "stderr",
     "output_type": "stream",
     "text": [
      "100%|██████████| 7.37347412109375/7.37347412109375 [00:12<00:00,  1.65s/it]\n",
      "No default revision for dataset alf/probe00/pykilosort/#2024-03-22#/clusters.amps.npy; using most recent\n"
     ]
    },
    {
     "name": "stdout",
     "output_type": "stream",
     "text": [
      "Downloading: /Users/ineslaranjeira/Downloads/FlatIron/zadorlab/Subjects/CSH_ZAD_019/2020-08-14/001/alf/_ibl_rightCamera.lightningPose.d0556e98-30df-4f36-be63-fbdb63a4a304.pqt Bytes: 429106757\n"
     ]
    },
    {
     "name": "stderr",
     "output_type": "stream",
     "text": [
      "100%|██████████| 409.22809314727783/409.22809314727783 [05:26<00:00,  1.25it/s]\n",
      "No default revision for dataset alf/probe00/pykilosort/#2024-03-22#/clusters.amps.npy; using most recent\n",
      "No default revision for dataset alf/probe00/pykilosort/#2024-03-22#/clusters.amps.npy; using most recent\n"
     ]
    },
    {
     "name": "stdout",
     "output_type": "stream",
     "text": [
      "Downloading: /Users/ineslaranjeira/Downloads/FlatIron/zadorlab/Subjects/CSH_ZAD_019/2020-08-14/001/alf/_ibl_leftCamera.lightningPose.0d18b315-9bdc-440b-9d71-615580fc66ce.pqt Bytes: 184078537\n"
     ]
    },
    {
     "name": "stderr",
     "output_type": "stream",
     "text": [
      "100%|██████████| 175.5509729385376/175.5509729385376 [02:31<00:00,  1.16it/s]\n",
      "/Users/ineslaranjeira/Documents/Repositories/representation_learning_variability/Functions/video_functions.py:172: FutureWarning: The behavior of DataFrame concatenation with empty or all-NA entries is deprecated. In a future version, this will no longer exclude empty or all-NA columns when determining the result dtypes. To retain the old behavior, exclude the relevant entries before the concat operation.\n",
      "  licks_df = pd.concat([licks_df, temp_df])\n",
      "No default revision for dataset alf/probe00/pykilosort/#2024-03-22#/clusters.amps.npy; using most recent\n",
      "No default revision for dataset alf/probe00/pykilosort/#2024-03-22#/clusters.amps.npy; using most recent\n"
     ]
    },
    {
     "name": "stdout",
     "output_type": "stream",
     "text": [
      "Downloading: /Users/ineslaranjeira/Downloads/FlatIron/zadorlab/Subjects/CSH_ZAD_019/2020-08-14/001/alf/_ibl_rightCamera.dlc.a8b0ccda-1287-400b-ad5f-3f5b7662fa00.pqt Bytes: 128332873\n"
     ]
    },
    {
     "name": "stderr",
     "output_type": "stream",
     "text": [
      "100%|██████████| 122.3877649307251/122.3877649307251 [01:39<00:00,  1.23it/s]\n",
      "No default revision for dataset alf/probe00/pykilosort/#2024-03-22#/clusters.amps.npy; using most recent\n",
      "No default revision for dataset alf/probe00/pykilosort/#2024-03-22#/clusters.amps.npy; using most recent\n",
      "/Users/ineslaranjeira/Documents/Repositories/representation_learning_variability/Functions/video_functions.py:172: FutureWarning: The behavior of DataFrame concatenation with empty or all-NA entries is deprecated. In a future version, this will no longer exclude empty or all-NA columns when determining the result dtypes. To retain the old behavior, exclude the relevant entries before the concat operation.\n",
      "  licks_df = pd.concat([licks_df, temp_df])\n"
     ]
    },
    {
     "name": "stdout",
     "output_type": "stream",
     "text": [
      "Downloading: /Users/ineslaranjeira/Downloads/FlatIron/zadorlab/Subjects/CSH_ZAD_019/2020-08-16/001/alf/#2025-03-03#/_ibl_trials.stimOnTrigger_times.6550a503-7a40-42fb-80a7-bf7bf3660305.npy Bytes: 5504Downloading: /Users/ineslaranjeira/Downloads/FlatIron/zadorlab/Subjects/CSH_ZAD_019/2020-08-16/001/alf/#2025-03-03#/_ibl_trials.stimOff_times.f49e7780-ab8c-4e7f-b440-cc74bf1d7563.npy Bytes: 5504\n",
      "\n"
     ]
    },
    {
     "name": "stderr",
     "output_type": "stream",
     "text": [
      "  0%|          | 0/0.0052490234375 [00:00<?, ?it/s]"
     ]
    },
    {
     "name": "stdout",
     "output_type": "stream",
     "text": [
      "Downloading: /Users/ineslaranjeira/Downloads/FlatIron/zadorlab/Subjects/CSH_ZAD_019/2020-08-16/001/alf/#2025-03-03#/_ibl_trials.table.b8652a0f-f4c0-417c-ac04-9926034ee9ef.pqt Bytes: 54654\n",
      "Downloading: /Users/ineslaranjeira/Downloads/FlatIron/zadorlab/Subjects/CSH_ZAD_019/2020-08-16/001/alf/#2025-03-03#/_ibl_trials.stimOffTrigger_times.236352a6-632a-41af-bfeb-fbfd6cd57511.npy Bytes: 5504\n"
     ]
    },
    {
     "name": "stderr",
     "output_type": "stream",
     "text": [
      "100%|██████████| 0.0052490234375/0.0052490234375 [00:00<00:00,  1.52s/it]\n",
      "100%|██████████| 0.0052490234375/0.0052490234375 [00:00<00:00,  1.05s/it]\n",
      "\n",
      "100%|██████████| 0.0052490234375/0.0052490234375 [00:00<00:00,  1.08it/s]\n",
      "100%|██████████| 0.05212211608886719/0.05212211608886719 [00:00<00:00,  7.06s/it]\n"
     ]
    },
    {
     "name": "stdout",
     "output_type": "stream",
     "text": [
      "Downloading: /Users/ineslaranjeira/Downloads/FlatIron/zadorlab/Subjects/CSH_ZAD_019/2020-08-16/001/alf/_ibl_rightCamera.times.96305b95-c147-4d8d-99be-73163d90cd5b.npy Bytes: 5813568\n"
     ]
    },
    {
     "name": "stderr",
     "output_type": "stream",
     "text": [
      "100%|██████████| 5.54425048828125/5.54425048828125 [00:03<00:00,  1.64it/s]\n"
     ]
    },
    {
     "name": "stdout",
     "output_type": "stream",
     "text": [
      "Downloading: /Users/ineslaranjeira/Downloads/FlatIron/zadorlab/Subjects/CSH_ZAD_019/2020-08-16/001/alf/_ibl_rightCamera.lightningPose.59257c25-7a81-4916-94b1-16291c2c75bd.pqt Bytes: 327354998\n"
     ]
    },
    {
     "name": "stderr",
     "output_type": "stream",
     "text": [
      "100%|██████████| 312.19005393981934/312.19005393981934 [04:06<00:00,  1.27it/s]\n"
     ]
    },
    {
     "name": "stdout",
     "output_type": "stream",
     "text": [
      "Downloading: /Users/ineslaranjeira/Downloads/FlatIron/zadorlab/Subjects/CSH_ZAD_019/2020-08-16/001/alf/_ibl_leftCamera.lightningPose.c8aed118-5f31-468a-a822-fa2cbf6a5de3.pqt Bytes: 142430550\n"
     ]
    },
    {
     "name": "stderr",
     "output_type": "stream",
     "text": [
      "100%|██████████| 135.8323574066162/135.8323574066162 [01:37<00:00,  1.40it/s]\n",
      "/Users/ineslaranjeira/Documents/Repositories/representation_learning_variability/Functions/video_functions.py:172: FutureWarning: The behavior of DataFrame concatenation with empty or all-NA entries is deprecated. In a future version, this will no longer exclude empty or all-NA columns when determining the result dtypes. To retain the old behavior, exclude the relevant entries before the concat operation.\n",
      "  licks_df = pd.concat([licks_df, temp_df])\n"
     ]
    },
    {
     "name": "stdout",
     "output_type": "stream",
     "text": [
      "Downloading: /Users/ineslaranjeira/Downloads/FlatIron/zadorlab/Subjects/CSH_ZAD_019/2020-08-16/001/alf/_ibl_rightCamera.dlc.32846b28-1389-44cf-bbef-417951312cd7.pqt Bytes: 96704276\n"
     ]
    },
    {
     "name": "stderr",
     "output_type": "stream",
     "text": [
      "100%|██████████| 92.22438430786133/92.22438430786133 [00:58<00:00,  1.59it/s]\n",
      "/opt/anaconda3/envs/iblenv/lib/python3.10/site-packages/numpy/lib/nanfunctions.py:1872: RuntimeWarning: Degrees of freedom <= 0 for slice.\n",
      "  var = nanvar(a, axis=axis, dtype=dtype, out=out, ddof=ddof,\n",
      "/Users/ineslaranjeira/Documents/Repositories/representation_learning_variability/Functions/video_functions.py:172: FutureWarning: The behavior of DataFrame concatenation with empty or all-NA entries is deprecated. In a future version, this will no longer exclude empty or all-NA columns when determining the result dtypes. To retain the old behavior, exclude the relevant entries before the concat operation.\n",
      "  licks_df = pd.concat([licks_df, temp_df])\n"
     ]
    },
    {
     "name": "stdout",
     "output_type": "stream",
     "text": [
      "Downloading: /Users/ineslaranjeira/Downloads/FlatIron/zadorlab/Subjects/CSH_ZAD_019/2020-08-18/001/alf/#2025-03-03#/_ibl_trials.table.653e1beb-9741-49a0-a421-7bcf2159980e.pqt Bytes: 68738\n",
      "Downloading: /Users/ineslaranjeira/Downloads/FlatIron/zadorlab/Subjects/CSH_ZAD_019/2020-08-18/001/alf/#2025-03-03#/_ibl_trials.stimOnTrigger_times.4ca0b91d-9f6b-47a2-8853-33f040917a39.npy Bytes: 7200\n"
     ]
    },
    {
     "name": "stderr",
     "output_type": "stream",
     "text": [
      "100%|██████████| 0.006866455078125/0.006866455078125 [00:00<00:00,  3.22it/s]\n"
     ]
    },
    {
     "name": "stdout",
     "output_type": "stream",
     "text": [
      "Downloading: /Users/ineslaranjeira/Downloads/FlatIron/zadorlab/Subjects/CSH_ZAD_019/2020-08-18/001/alf/#2025-03-03#/_ibl_trials.stimOffTrigger_times.9b02ce52-33ec-43f0-8004-4d66d16cee9b.npy Bytes: 7200\n"
     ]
    },
    {
     "name": "stderr",
     "output_type": "stream",
     "text": [
      "100%|██████████| 0.006866455078125/0.006866455078125 [00:00<00:00,  2.61it/s]\n"
     ]
    },
    {
     "name": "stdout",
     "output_type": "stream",
     "text": [
      "Downloading: /Users/ineslaranjeira/Downloads/FlatIron/zadorlab/Subjects/CSH_ZAD_019/2020-08-18/001/alf/#2025-03-03#/_ibl_trials.stimOff_times.73c6e92a-a0de-471d-8a97-ea51781c9791.npy Bytes: 7200\n"
     ]
    },
    {
     "name": "stderr",
     "output_type": "stream",
     "text": [
      "100%|██████████| 0.006866455078125/0.006866455078125 [00:00<00:00,  2.64it/s]\n",
      "100%|██████████| 0.06555366516113281/0.06555366516113281 [00:00<00:00,  5.58s/it]\n"
     ]
    },
    {
     "name": "stdout",
     "output_type": "stream",
     "text": [
      "Downloading: /Users/ineslaranjeira/Downloads/FlatIron/zadorlab/Subjects/CSH_ZAD_019/2020-08-18/001/alf/_ibl_rightCamera.times.b2b50186-503b-4550-8b68-0b45ac10ab91.npy Bytes: 6554048\n"
     ]
    },
    {
     "name": "stderr",
     "output_type": "stream",
     "text": [
      "100%|██████████| 6.25042724609375/6.25042724609375 [00:05<00:00,  1.14it/s]\n"
     ]
    },
    {
     "name": "stdout",
     "output_type": "stream",
     "text": [
      "Downloading: /Users/ineslaranjeira/Downloads/FlatIron/zadorlab/Subjects/CSH_ZAD_019/2020-08-18/001/alf/_ibl_rightCamera.lightningPose.7e33bdbc-da32-4867-9ea6-f31fa472f5f8.pqt Bytes: 367269031\n"
     ]
    },
    {
     "name": "stderr",
     "output_type": "stream",
     "text": [
      "100%|██████████| 350.25504207611084/350.25504207611084 [04:08<00:00,  1.41it/s]\n"
     ]
    },
    {
     "name": "stdout",
     "output_type": "stream",
     "text": [
      "Downloading: /Users/ineslaranjeira/Downloads/FlatIron/zadorlab/Subjects/CSH_ZAD_019/2020-08-18/001/alf/_ibl_leftCamera.lightningPose.7c3bba27-8e3e-4d51-b65a-ba79f377c9d7.pqt Bytes: 158647275\n"
     ]
    },
    {
     "name": "stderr",
     "output_type": "stream",
     "text": [
      "100%|██████████| 151.29783153533936/151.29783153533936 [01:36<00:00,  1.57it/s]\n",
      "/Users/ineslaranjeira/Documents/Repositories/representation_learning_variability/Functions/video_functions.py:172: FutureWarning: The behavior of DataFrame concatenation with empty or all-NA entries is deprecated. In a future version, this will no longer exclude empty or all-NA columns when determining the result dtypes. To retain the old behavior, exclude the relevant entries before the concat operation.\n",
      "  licks_df = pd.concat([licks_df, temp_df])\n"
     ]
    },
    {
     "name": "stdout",
     "output_type": "stream",
     "text": [
      "Downloading: /Users/ineslaranjeira/Downloads/FlatIron/zadorlab/Subjects/CSH_ZAD_019/2020-08-18/001/alf/_ibl_rightCamera.dlc.8604b1ec-5551-448b-99db-9bfdbe1a4741.pqt Bytes: 110385826\n"
     ]
    },
    {
     "name": "stderr",
     "output_type": "stream",
     "text": [
      "100%|██████████| 105.27212715148926/105.27212715148926 [01:14<00:00,  1.41it/s]\n",
      "/opt/anaconda3/envs/iblenv/lib/python3.10/site-packages/numpy/lib/nanfunctions.py:1872: RuntimeWarning: Degrees of freedom <= 0 for slice.\n",
      "  var = nanvar(a, axis=axis, dtype=dtype, out=out, ddof=ddof,\n",
      "/Users/ineslaranjeira/Documents/Repositories/representation_learning_variability/Functions/video_functions.py:172: FutureWarning: The behavior of DataFrame concatenation with empty or all-NA entries is deprecated. In a future version, this will no longer exclude empty or all-NA columns when determining the result dtypes. To retain the old behavior, exclude the relevant entries before the concat operation.\n",
      "  licks_df = pd.concat([licks_df, temp_df])\n"
     ]
    },
    {
     "name": "stdout",
     "output_type": "stream",
     "text": [
      "Downloading: /Users/ineslaranjeira/Downloads/FlatIron/zadorlab/Subjects/CSH_ZAD_019/2020-08-19/001/alf/#2025-03-03#/_ibl_trials.stimOffTrigger_times.efaccb01-dcc4-4554-99f3-272754dcd310.npy Bytes: 7256Downloading: /Users/ineslaranjeira/Downloads/FlatIron/zadorlab/Subjects/CSH_ZAD_019/2020-08-19/001/alf/#2025-03-03#/_ibl_trials.table.626a70e7-a65b-4eae-8fba-93e58803073e.pqt Bytes: 69170\n",
      "\n",
      "Downloading: /Users/ineslaranjeira/Downloads/FlatIron/zadorlab/Subjects/CSH_ZAD_019/2020-08-19/001/alf/#2025-03-03#/_ibl_trials.stimOff_times.58712c5a-1530-49b7-bc30-4debfa594c67.npy Bytes: 7256\n",
      "Downloading: /Users/ineslaranjeira/Downloads/FlatIron/zadorlab/Subjects/CSH_ZAD_019/2020-08-19/001/alf/#2025-03-03#/_ibl_trials.stimOnTrigger_times.52bc10fe-b800-4981-94e4-68b04a4eb963.npy Bytes: 7256\n"
     ]
    },
    {
     "name": "stderr",
     "output_type": "stream",
     "text": [
      "  0%|          | 0/0.06596565246582031 [00:00<?, ?it/s]\n",
      "\n",
      "\u001b[A\u001b[A\n",
      "100%|██████████| 0.00691986083984375/0.00691986083984375 [00:00<00:00,  1.88s/it]\n",
      "100%|██████████| 0.00691986083984375/0.00691986083984375 [00:00<00:00,  1.22s/it]\n",
      "100%|██████████| 0.00691986083984375/0.00691986083984375 [00:00<00:00,  1.43it/s]\n",
      "100%|██████████| 0.06596565246582031/0.06596565246582031 [00:00<00:00,  4.94s/it]\n"
     ]
    },
    {
     "name": "stdout",
     "output_type": "stream",
     "text": [
      "Downloading: /Users/ineslaranjeira/Downloads/FlatIron/zadorlab/Subjects/CSH_ZAD_019/2020-08-19/001/alf/_ibl_rightCamera.times.8e4aecd3-1a20-4133-b22a-4b0e040572f0.npy Bytes: 6367816\n"
     ]
    },
    {
     "name": "stderr",
     "output_type": "stream",
     "text": [
      "100%|██████████| 6.072822570800781/6.072822570800781 [00:05<00:00,  1.03it/s]\n"
     ]
    },
    {
     "name": "stdout",
     "output_type": "stream",
     "text": [
      "Downloading: /Users/ineslaranjeira/Downloads/FlatIron/zadorlab/Subjects/CSH_ZAD_019/2020-08-19/001/alf/_ibl_rightCamera.lightningPose.79cd0f4b-ff8e-4769-a333-5398688147a5.pqt Bytes: 356806072\n"
     ]
    },
    {
     "name": "stderr",
     "output_type": "stream",
     "text": [
      "100%|██████████| 340.2767868041992/340.2767868041992 [03:49<00:00,  1.49it/s]\n"
     ]
    },
    {
     "name": "stdout",
     "output_type": "stream",
     "text": [
      "Downloading: /Users/ineslaranjeira/Downloads/FlatIron/zadorlab/Subjects/CSH_ZAD_019/2020-08-19/001/alf/_ibl_leftCamera.lightningPose.fb53d453-c3b2-40a1-b7f0-4fe5e502637d.pqt Bytes: 154354322\n"
     ]
    },
    {
     "name": "stderr",
     "output_type": "stream",
     "text": [
      "100%|██████████| 147.2037525177002/147.2037525177002 [01:32<00:00,  1.59it/s]\n",
      "/Users/ineslaranjeira/Documents/Repositories/representation_learning_variability/Functions/video_functions.py:172: FutureWarning: The behavior of DataFrame concatenation with empty or all-NA entries is deprecated. In a future version, this will no longer exclude empty or all-NA columns when determining the result dtypes. To retain the old behavior, exclude the relevant entries before the concat operation.\n",
      "  licks_df = pd.concat([licks_df, temp_df])\n"
     ]
    },
    {
     "name": "stdout",
     "output_type": "stream",
     "text": [
      "Downloading: /Users/ineslaranjeira/Downloads/FlatIron/zadorlab/Subjects/CSH_ZAD_019/2020-08-19/001/alf/_ibl_rightCamera.dlc.b8bdbb7c-8620-4fbf-86a0-ac48617beb0a.pqt Bytes: 108130567\n"
     ]
    },
    {
     "name": "stderr",
     "output_type": "stream",
     "text": [
      "100%|██████████| 103.12134456634521/103.12134456634521 [01:19<00:00,  1.29it/s]\n",
      "/Users/ineslaranjeira/Documents/Repositories/representation_learning_variability/Functions/video_functions.py:172: FutureWarning: The behavior of DataFrame concatenation with empty or all-NA entries is deprecated. In a future version, this will no longer exclude empty or all-NA columns when determining the result dtypes. To retain the old behavior, exclude the relevant entries before the concat operation.\n",
      "  licks_df = pd.concat([licks_df, temp_df])\n"
     ]
    },
    {
     "name": "stdout",
     "output_type": "stream",
     "text": [
      "Downloading: /Users/ineslaranjeira/Downloads/FlatIron/zadorlab/Subjects/CSH_ZAD_026/2020-08-14/002/alf/#2025-03-03#/_ibl_trials.stimOffTrigger_times.1e943a80-f2f4-4da3-879d-8c9d6fdfd7d4.npy Bytes: 4568Downloading: /Users/ineslaranjeira/Downloads/FlatIron/zadorlab/Subjects/CSH_ZAD_026/2020-08-14/002/alf/#2025-03-03#/_ibl_trials.stimOnTrigger_times.45f60ed0-d7ae-4280-8ea9-6bb1d65f191c.npy Bytes: 4568\n",
      "Downloading: /Users/ineslaranjeira/Downloads/FlatIron/zadorlab/Subjects/CSH_ZAD_026/2020-08-14/002/alf/#2025-03-03#/_ibl_trials.table.5ab7d131-8baf-4e13-9c70-882a7f24f872.pqt Bytes: 46978\n",
      "\n",
      "Downloading: /Users/ineslaranjeira/Downloads/FlatIron/zadorlab/Subjects/CSH_ZAD_026/2020-08-14/002/alf/#2025-03-03#/_ibl_trials.stimOff_times.2625714d-048c-4704-888a-11c3881d283e.npy Bytes: 4568\n"
     ]
    },
    {
     "name": "stderr",
     "output_type": "stream",
     "text": [
      "  0%|          | 0/0.00435638427734375 [00:00<?, ?it/s]\n",
      "\n",
      "\u001b[A\u001b[A\n",
      "100%|██████████| 0.00435638427734375/0.00435638427734375 [00:00<00:00,  1.88s/it]\n",
      "100%|██████████| 0.00435638427734375/0.00435638427734375 [00:00<00:00,  3.38s/it]\n",
      "100%|██████████| 0.00435638427734375/0.00435638427734375 [00:00<00:00,  1.17s/it]\n",
      "100%|██████████| 0.04480171203613281/0.04480171203613281 [00:00<00:00,  6.15s/it]\n"
     ]
    },
    {
     "name": "stdout",
     "output_type": "stream",
     "text": [
      "Downloading: /Users/ineslaranjeira/Downloads/FlatIron/zadorlab/Subjects/CSH_ZAD_026/2020-08-14/002/alf/_ibl_rightCamera.times.91ee38d2-29a0-45a0-925a-f3d24ba2fd6d.npy Bytes: 6703720\n"
     ]
    },
    {
     "name": "stderr",
     "output_type": "stream",
     "text": [
      "100%|██████████| 6.393165588378906/6.393165588378906 [00:05<00:00,  1.12it/s]\n"
     ]
    },
    {
     "name": "stdout",
     "output_type": "stream",
     "text": [
      "Downloading: /Users/ineslaranjeira/Downloads/FlatIron/zadorlab/Subjects/CSH_ZAD_026/2020-08-14/002/alf/_ibl_rightCamera.lightningPose.6abf29ca-63d9-4206-9983-013661b39ebb.pqt Bytes: 376184198\n"
     ]
    },
    {
     "name": "stderr",
     "output_type": "stream",
     "text": [
      "100%|██████████| 358.7572078704834/358.7572078704834 [04:18<00:00,  1.39it/s]\n"
     ]
    },
    {
     "name": "stdout",
     "output_type": "stream",
     "text": [
      "Downloading: /Users/ineslaranjeira/Downloads/FlatIron/zadorlab/Subjects/CSH_ZAD_026/2020-08-14/002/alf/#2025-05-31#/_ibl_leftCamera.lightningPose.2eb65f4b-8f2f-40ed-92fa-984ba084c4a9.pqt Bytes: 159483798\n"
     ]
    },
    {
     "name": "stderr",
     "output_type": "stream",
     "text": [
      "100%|██████████| 152.09560203552246/152.09560203552246 [01:54<00:00,  1.33it/s]\n",
      "/Users/ineslaranjeira/Documents/Repositories/representation_learning_variability/Functions/video_functions.py:172: FutureWarning: The behavior of DataFrame concatenation with empty or all-NA entries is deprecated. In a future version, this will no longer exclude empty or all-NA columns when determining the result dtypes. To retain the old behavior, exclude the relevant entries before the concat operation.\n",
      "  licks_df = pd.concat([licks_df, temp_df])\n"
     ]
    },
    {
     "name": "stdout",
     "output_type": "stream",
     "text": [
      "Downloading: /Users/ineslaranjeira/Downloads/FlatIron/zadorlab/Subjects/CSH_ZAD_026/2020-08-14/002/alf/_ibl_rightCamera.dlc.6f9b8c2e-10e9-4b92-8f89-a386b4b443e7.pqt Bytes: 113914369\n"
     ]
    },
    {
     "name": "stderr",
     "output_type": "stream",
     "text": [
      "100%|██████████| 108.63720798492432/108.63720798492432 [01:25<00:00,  1.27it/s]\n",
      "/Users/ineslaranjeira/Documents/Repositories/representation_learning_variability/Functions/video_functions.py:172: FutureWarning: The behavior of DataFrame concatenation with empty or all-NA entries is deprecated. In a future version, this will no longer exclude empty or all-NA columns when determining the result dtypes. To retain the old behavior, exclude the relevant entries before the concat operation.\n",
      "  licks_df = pd.concat([licks_df, temp_df])\n",
      "No default revision for dataset alf/probe01/pykilosort/#2024-03-12#/clusters.metrics.pqt; using most recent\n"
     ]
    },
    {
     "name": "stdout",
     "output_type": "stream",
     "text": [
      "Downloading: /Users/ineslaranjeira/Downloads/FlatIron/zadorlab/Subjects/CSH_ZAD_026/2020-08-15/001/alf/#2025-03-03#/_ibl_trials.stimOffTrigger_times.19c7e138-3644-4297-905d-347bb7670077.npy Bytes: 4792\n"
     ]
    },
    {
     "name": "stderr",
     "output_type": "stream",
     "text": [
      "100%|██████████| 0.00457000732421875/0.00457000732421875 [00:00<00:00,  1.44s/it]\n"
     ]
    },
    {
     "name": "stdout",
     "output_type": "stream",
     "text": [
      "Downloading: /Users/ineslaranjeira/Downloads/FlatIron/zadorlab/Subjects/CSH_ZAD_026/2020-08-15/001/alf/_ibl_trials.intervals_bpod.399ae0b0-c413-4f68-bdce-f2b475219b29.npy Bytes: 9456\n",
      "Downloading: /Users/ineslaranjeira/Downloads/FlatIron/zadorlab/Subjects/CSH_ZAD_026/2020-08-15/001/alf/_ibl_trials.goCueTrigger_times.be38c152-8616-477c-bfc0-2dff367e0c0a.npy Bytes: 4792\n"
     ]
    },
    {
     "name": "stderr",
     "output_type": "stream",
     "text": [
      "100%|██████████| 0.00457000732421875/0.00457000732421875 [00:00<00:00,  1.24s/it]\n",
      "100%|██████████| 0.0090179443359375/0.0090179443359375 [00:00<00:00,  2.46it/s]\n"
     ]
    },
    {
     "name": "stdout",
     "output_type": "stream",
     "text": [
      "Downloading: /Users/ineslaranjeira/Downloads/FlatIron/zadorlab/Subjects/CSH_ZAD_026/2020-08-15/001/alf/_ibl_trials.quiescencePeriod.771a4f09-e3aa-4d19-a41b-fe1f4b4ed61f.npy Bytes: 4792\n"
     ]
    },
    {
     "name": "stderr",
     "output_type": "stream",
     "text": [
      "100%|██████████| 0.00457000732421875/0.00457000732421875 [00:00<00:00,  1.67it/s]\n"
     ]
    },
    {
     "name": "stdout",
     "output_type": "stream",
     "text": [
      "Downloading: /Users/ineslaranjeira/Downloads/FlatIron/zadorlab/Subjects/CSH_ZAD_026/2020-08-15/001/alf/#2025-03-03#/_ibl_trials.table.b98ed0e4-d13c-4ed1-8edd-196f549d6bd5.pqt Bytes: 48814\n"
     ]
    },
    {
     "name": "stderr",
     "output_type": "stream",
     "text": [
      "  0%|          | 0/0.04655265808105469 [00:00<?, ?it/s]"
     ]
    },
    {
     "name": "stdout",
     "output_type": "stream",
     "text": [
      "Downloading: /Users/ineslaranjeira/Downloads/FlatIron/zadorlab/Subjects/CSH_ZAD_026/2020-08-15/001/alf/#2025-03-03#/_ibl_trials.stimOff_times.9a916e40-c483-49b0-bf3a-1861e9e659b6.npy Bytes: 4792\n"
     ]
    },
    {
     "name": "stderr",
     "output_type": "stream",
     "text": [
      "100%|██████████| 0.00457000732421875/0.00457000732421875 [00:00<00:00,  1.74s/it]\n"
     ]
    },
    {
     "name": "stdout",
     "output_type": "stream",
     "text": [
      "Downloading: /Users/ineslaranjeira/Downloads/FlatIron/zadorlab/Subjects/CSH_ZAD_026/2020-08-15/001/alf/#2025-03-03#/_ibl_trials.stimOnTrigger_times.75cfb35e-641c-4ef9-8177-075467d41c39.npy Bytes: 4792\n"
     ]
    },
    {
     "name": "stderr",
     "output_type": "stream",
     "text": [
      "100%|██████████| 0.00457000732421875/0.00457000732421875 [00:00<00:00,  1.31it/s]\n",
      "100%|██████████| 0.04655265808105469/0.04655265808105469 [00:00<00:00,  6.21s/it]\n",
      "No default revision for dataset alf/probe01/pykilosort/#2024-03-12#/clusters.metrics.pqt; using most recent\n"
     ]
    },
    {
     "name": "stdout",
     "output_type": "stream",
     "text": [
      "Downloading: /Users/ineslaranjeira/Downloads/FlatIron/zadorlab/Subjects/CSH_ZAD_026/2020-08-15/001/alf/_ibl_rightCamera.times.00312128-ed06-47e4-9ae2-edd98cb36dcd.npy Bytes: 6164384\n"
     ]
    },
    {
     "name": "stderr",
     "output_type": "stream",
     "text": [
      "100%|██████████| 5.878814697265625/5.878814697265625 [00:04<00:00,  1.33it/s]\n",
      "No default revision for dataset alf/probe01/pykilosort/#2024-03-12#/clusters.metrics.pqt; using most recent\n"
     ]
    },
    {
     "name": "stdout",
     "output_type": "stream",
     "text": [
      "Downloading: /Users/ineslaranjeira/Downloads/FlatIron/zadorlab/Subjects/CSH_ZAD_026/2020-08-15/001/alf/_ibl_rightCamera.lightningPose.99c95c86-f9a8-4bd9-8568-9deb4bdca987.pqt Bytes: 347306847\n"
     ]
    },
    {
     "name": "stderr",
     "output_type": "stream",
     "text": [
      "100%|██████████| 331.21761989593506/331.21761989593506 [04:21<00:00,  1.27it/s]\n",
      "No default revision for dataset alf/probe01/pykilosort/#2024-03-12#/clusters.metrics.pqt; using most recent\n",
      "No default revision for dataset alf/probe01/pykilosort/#2024-03-12#/clusters.metrics.pqt; using most recent\n"
     ]
    },
    {
     "name": "stdout",
     "output_type": "stream",
     "text": [
      "Downloading: /Users/ineslaranjeira/Downloads/FlatIron/zadorlab/Subjects/CSH_ZAD_026/2020-08-15/001/alf/_ibl_leftCamera.lightningPose.6a95a1a0-14e6-47b0-9918-87ce0e725a50.pqt Bytes: 148341168\n"
     ]
    },
    {
     "name": "stderr",
     "output_type": "stream",
     "text": [
      "100%|██████████| 141.4691619873047/141.4691619873047 [01:41<00:00,  1.39it/s]\n",
      "/Users/ineslaranjeira/Documents/Repositories/representation_learning_variability/Functions/video_functions.py:172: FutureWarning: The behavior of DataFrame concatenation with empty or all-NA entries is deprecated. In a future version, this will no longer exclude empty or all-NA columns when determining the result dtypes. To retain the old behavior, exclude the relevant entries before the concat operation.\n",
      "  licks_df = pd.concat([licks_df, temp_df])\n",
      "No default revision for dataset alf/probe01/pykilosort/#2024-03-12#/clusters.metrics.pqt; using most recent\n",
      "No default revision for dataset alf/probe01/pykilosort/#2024-03-12#/clusters.metrics.pqt; using most recent\n"
     ]
    },
    {
     "name": "stdout",
     "output_type": "stream",
     "text": [
      "Downloading: /Users/ineslaranjeira/Downloads/FlatIron/zadorlab/Subjects/CSH_ZAD_026/2020-08-15/001/alf/_ibl_rightCamera.dlc.a177a866-216a-4b2c-9ec9-b16809320e9e.pqt Bytes: 110521970\n"
     ]
    },
    {
     "name": "stderr",
     "output_type": "stream",
     "text": [
      "100%|██████████| 105.40196418762207/105.40196418762207 [01:16<00:00,  1.39it/s]\n",
      "No default revision for dataset alf/probe01/pykilosort/#2024-03-12#/clusters.metrics.pqt; using most recent\n",
      "No default revision for dataset alf/probe01/pykilosort/#2024-03-12#/clusters.metrics.pqt; using most recent\n",
      "/opt/anaconda3/envs/iblenv/lib/python3.10/site-packages/numpy/lib/nanfunctions.py:1872: RuntimeWarning: Degrees of freedom <= 0 for slice.\n",
      "  var = nanvar(a, axis=axis, dtype=dtype, out=out, ddof=ddof,\n",
      "/Users/ineslaranjeira/Documents/Repositories/representation_learning_variability/Functions/video_functions.py:172: FutureWarning: The behavior of DataFrame concatenation with empty or all-NA entries is deprecated. In a future version, this will no longer exclude empty or all-NA columns when determining the result dtypes. To retain the old behavior, exclude the relevant entries before the concat operation.\n",
      "  licks_df = pd.concat([licks_df, temp_df])\n"
     ]
    },
    {
     "name": "stdout",
     "output_type": "stream",
     "text": [
      "Downloading: /Users/ineslaranjeira/Downloads/FlatIron/zadorlab/Subjects/CSH_ZAD_026/2020-08-17/001/alf/#2025-03-03#/_ibl_trials.stimOff_times.378acc0d-af91-4241-94bf-69bbf754397d.npy Bytes: 8952Downloading: /Users/ineslaranjeira/Downloads/FlatIron/zadorlab/Subjects/CSH_ZAD_026/2020-08-17/001/alf/#2025-03-03#/_ibl_trials.stimOffTrigger_times.373d747e-0e93-42f0-97c8-9b78f4d77ecb.npy Bytes: 8952\n",
      "Downloading: /Users/ineslaranjeira/Downloads/FlatIron/zadorlab/Subjects/CSH_ZAD_026/2020-08-17/001/alf/#2025-03-03#/_ibl_trials.table.c3da3daf-d72f-4764-a4e2-0757fd5bf9fa.pqt Bytes: 84040\n",
      "\n",
      "Downloading: /Users/ineslaranjeira/Downloads/FlatIron/zadorlab/Subjects/CSH_ZAD_026/2020-08-17/001/alf/#2025-03-03#/_ibl_trials.stimOnTrigger_times.281aec06-870a-42e7-b02f-90c350f76458.npy Bytes: 8952\n"
     ]
    },
    {
     "name": "stderr",
     "output_type": "stream",
     "text": [
      "  0%|          | 0/0.00853729248046875 [00:00<?, ?it/s]\n",
      "\u001b[A\n",
      "\n",
      "100%|██████████| 0.00853729248046875/0.00853729248046875 [00:00<00:00,  1.54it/s]\n",
      "100%|██████████| 0.00853729248046875/0.00853729248046875 [00:00<00:00,  1.72s/it]\n",
      "100%|██████████| 0.00853729248046875/0.00853729248046875 [00:00<00:00,  1.63it/s]\n",
      "100%|██████████| 0.08014678955078125/0.08014678955078125 [00:00<00:00,  4.13s/it]\n"
     ]
    },
    {
     "name": "stdout",
     "output_type": "stream",
     "text": [
      "Downloading: /Users/ineslaranjeira/Downloads/FlatIron/zadorlab/Subjects/CSH_ZAD_026/2020-08-17/001/alf/_ibl_rightCamera.times.536ed388-9e55-497f-abab-5f9c531cbe57.npy Bytes: 6995424\n"
     ]
    },
    {
     "name": "stderr",
     "output_type": "stream",
     "text": [
      "100%|██████████| 6.671356201171875/6.671356201171875 [00:04<00:00,  1.61it/s]\n"
     ]
    },
    {
     "name": "stdout",
     "output_type": "stream",
     "text": [
      "Downloading: /Users/ineslaranjeira/Downloads/FlatIron/zadorlab/Subjects/CSH_ZAD_026/2020-08-17/001/alf/_ibl_rightCamera.lightningPose.85974f30-50aa-421b-9376-65043e1f715b.pqt Bytes: 395980301\n"
     ]
    },
    {
     "name": "stderr",
     "output_type": "stream",
     "text": [
      " 85%|████████▍ | 320.57947635650635/377.6362428665161 [15:38<02:47,  2.93s/it]  \n"
     ]
    },
    {
     "name": "stdout",
     "output_type": "stream",
     "text": [
      "Missing data for mouse 81a78eac-9d36-4f90-a73a-7eb3ad7f770b\n",
      "Downloading: /Users/ineslaranjeira/Downloads/FlatIron/zadorlab/Subjects/CSH_ZAD_026/2020-08-18/001/alf/#2025-03-03#/_ibl_trials.stimOnTrigger_times.7461de97-a5d9-49c1-ae91-61a5f2c3b303.npy Bytes: 7904\n"
     ]
    },
    {
     "name": "stderr",
     "output_type": "stream",
     "text": [
      "100%|██████████| 0.007537841796875/0.007537841796875 [00:00<00:00,  1.17s/it]\n"
     ]
    },
    {
     "name": "stdout",
     "output_type": "stream",
     "text": [
      "Downloading: /Users/ineslaranjeira/Downloads/FlatIron/zadorlab/Subjects/CSH_ZAD_026/2020-08-18/001/alf/#2025-03-03#/_ibl_trials.stimOff_times.b72c218e-1ac4-4e25-9aa4-ac2e4e02f880.npy Bytes: 7904Downloading: /Users/ineslaranjeira/Downloads/FlatIron/zadorlab/Subjects/CSH_ZAD_026/2020-08-18/001/alf/#2025-03-03#/_ibl_trials.stimOffTrigger_times.e867fe03-21b8-402f-8f85-574403fc2fb9.npy Bytes: 7904\n",
      "\n"
     ]
    },
    {
     "name": "stderr",
     "output_type": "stream",
     "text": [
      "100%|██████████| 0.007537841796875/0.007537841796875 [00:00<00:00,  1.79it/s]\n",
      "100%|██████████| 0.007537841796875/0.007537841796875 [00:00<00:00,  1.90s/it]\n"
     ]
    },
    {
     "name": "stdout",
     "output_type": "stream",
     "text": [
      "Downloading: /Users/ineslaranjeira/Downloads/FlatIron/zadorlab/Subjects/CSH_ZAD_026/2020-08-18/001/alf/#2025-03-03#/_ibl_trials.table.7e566fce-8ae9-43ff-a810-7a89a6f3d0dd.pqt Bytes: 74464\n"
     ]
    },
    {
     "name": "stderr",
     "output_type": "stream",
     "text": [
      "100%|██████████| 0.071014404296875/0.071014404296875 [00:00<00:00,  4.19s/it]\n"
     ]
    },
    {
     "name": "stdout",
     "output_type": "stream",
     "text": [
      "Downloading: /Users/ineslaranjeira/Downloads/FlatIron/zadorlab/Subjects/CSH_ZAD_026/2020-08-18/001/alf/_ibl_rightCamera.times.60415fcb-c7c1-44d2-b65f-385d613304d2.npy Bytes: 7039832\n"
     ]
    },
    {
     "name": "stderr",
     "output_type": "stream",
     "text": [
      "100%|██████████| 6.713706970214844/6.713706970214844 [00:02<00:00,  2.84it/s]\n"
     ]
    },
    {
     "name": "stdout",
     "output_type": "stream",
     "text": [
      "Missing data for mouse 626126d5-eecf-4e9b-900e-ec29a17ece07\n",
      "Downloading: /Users/ineslaranjeira/Downloads/FlatIron/zadorlab/Subjects/CSH_ZAD_026/2020-08-19/001/alf/#2025-03-03#/_ibl_trials.table.c303b61e-cfe3-4040-a48e-f629ccdb8add.pqt Bytes: 40367Downloading: /Users/ineslaranjeira/Downloads/FlatIron/zadorlab/Subjects/CSH_ZAD_026/2020-08-19/001/alf/#2025-03-03#/_ibl_trials.stimOffTrigger_times.d983afef-f83f-4af1-b6ab-1cdf0a65dfb2.npy Bytes: 3824\n",
      "\n",
      "Downloading: /Users/ineslaranjeira/Downloads/FlatIron/zadorlab/Subjects/CSH_ZAD_026/2020-08-19/001/alf/#2025-03-03#/_ibl_trials.stimOnTrigger_times.1f7ffbff-5f7a-4471-8dbb-0852eded25e3.npy Bytes: 3824\n"
     ]
    },
    {
     "name": "stderr",
     "output_type": "stream",
     "text": [
      "  0%|          | 0/0.0036468505859375 [00:00<?, ?it/s]\n",
      "100%|██████████| 0.0036468505859375/0.0036468505859375 [00:00<00:00,  8.23s/it]\n",
      "100%|██████████| 0.0036468505859375/0.0036468505859375 [00:00<00:00,  2.39s/it]"
     ]
    },
    {
     "name": "stdout",
     "output_type": "stream",
     "text": [
      "Downloading: /Users/ineslaranjeira/Downloads/FlatIron/zadorlab/Subjects/CSH_ZAD_026/2020-08-19/001/alf/#2025-03-03#/_ibl_trials.stimOff_times.cf376a83-10d7-4d0a-952a-897421bab64b.npy Bytes: 3824\n"
     ]
    },
    {
     "name": "stderr",
     "output_type": "stream",
     "text": [
      "\n",
      "100%|██████████| 0.0036468505859375/0.0036468505859375 [00:00<00:00,  1.37s/it]\n",
      "100%|██████████| 0.038496971130371094/0.038496971130371094 [00:00<00:00,  8.22s/it]\n"
     ]
    },
    {
     "name": "stdout",
     "output_type": "stream",
     "text": [
      "Downloading: /Users/ineslaranjeira/Downloads/FlatIron/zadorlab/Subjects/CSH_ZAD_026/2020-08-19/001/alf/_ibl_rightCamera.times.e8491ea2-4870-4862-be35-cc227c1443ed.npy Bytes: 6531096\n"
     ]
    },
    {
     "name": "stderr",
     "output_type": "stream",
     "text": [
      "100%|██████████| 6.228538513183594/6.228538513183594 [00:11<00:00,  1.89s/it]\n"
     ]
    },
    {
     "name": "stdout",
     "output_type": "stream",
     "text": [
      "Missing data for mouse b69b86be-af7d-4ecf-8cbf-0cd356afa1bd\n"
     ]
    },
    {
     "name": "stderr",
     "output_type": "stream",
     "text": [
      "No default revision for dataset alf/probe00/pykilosort/clusters.amps.npy; using most recent\n"
     ]
    },
    {
     "name": "stdout",
     "output_type": "stream",
     "text": [
      "Downloading: /Users/ineslaranjeira/Downloads/FlatIron/zadorlab/Subjects/CSH_ZAD_026/2020-09-04/001/alf/#2025-03-03#/_ibl_trials.stimOff_times.a2623ca5-ee0f-42cf-9fb9-ca01ae3b3cf7.npy Bytes: 7280Downloading: /Users/ineslaranjeira/Downloads/FlatIron/zadorlab/Subjects/CSH_ZAD_026/2020-09-04/001/alf/#2025-03-03#/_ibl_trials.stimOffTrigger_times.f3e81c3a-06fa-47b4-9967-df6aca120ec0.npy Bytes: 7280\n",
      "\n",
      "Downloading: /Users/ineslaranjeira/Downloads/FlatIron/zadorlab/Subjects/CSH_ZAD_026/2020-09-04/001/alf/#2025-03-03#/_ibl_trials.stimOnTrigger_times.f4caf30f-7b48-4219-acd6-d1dca58265db.npy Bytes: 7280\n"
     ]
    },
    {
     "name": "stderr",
     "output_type": "stream",
     "text": [
      "100%|██████████| 0.0069427490234375/0.0069427490234375 [00:00<00:00,  1.77it/s]\n",
      "100%|██████████| 0.0069427490234375/0.0069427490234375 [00:00<00:00,  1.34s/it]\n",
      "\n",
      "100%|██████████| 0.0069427490234375/0.0069427490234375 [00:00<00:00,  1.07it/s]\n"
     ]
    },
    {
     "name": "stdout",
     "output_type": "stream",
     "text": [
      "Downloading: /Users/ineslaranjeira/Downloads/FlatIron/zadorlab/Subjects/CSH_ZAD_026/2020-09-04/001/alf/#2025-03-03#/_ibl_trials.table.4f0c1084-2cd1-4c1b-8cb8-dbf24b056346.pqt Bytes: 69374\n"
     ]
    },
    {
     "name": "stderr",
     "output_type": "stream",
     "text": [
      "100%|██████████| 0.06616020202636719/0.06616020202636719 [00:00<00:00,  4.99s/it]\n",
      "No default revision for dataset alf/probe00/pykilosort/clusters.amps.npy; using most recent\n"
     ]
    },
    {
     "name": "stdout",
     "output_type": "stream",
     "text": [
      "Downloading: /Users/ineslaranjeira/Downloads/FlatIron/zadorlab/Subjects/CSH_ZAD_026/2020-09-04/001/alf/_ibl_rightCamera.times.b524fe5d-7483-4af2-970b-bc07fbcec66f.npy Bytes: 7408856\n"
     ]
    },
    {
     "name": "stderr",
     "output_type": "stream",
     "text": [
      "100%|██████████| 7.065635681152344/7.065635681152344 [00:03<00:00,  2.06it/s]\n",
      "No default revision for dataset alf/probe00/pykilosort/clusters.amps.npy; using most recent\n"
     ]
    },
    {
     "name": "stdout",
     "output_type": "stream",
     "text": [
      "Downloading: /Users/ineslaranjeira/Downloads/FlatIron/zadorlab/Subjects/CSH_ZAD_026/2020-09-04/001/alf/_ibl_rightCamera.lightningPose.e81c0281-6aaf-4630-b3d4-69915cde1144.pqt Bytes: 414216502\n"
     ]
    },
    {
     "name": "stderr",
     "output_type": "stream",
     "text": [
      " 17%|█▋        | 68.0/395.0276393890381 [00:31<02:46,  1.96it/s]"
     ]
    }
   ],
   "source": [
    "save_path = prefix + '/representation_learning_variability/Video and wheel/Video QC/Figures/2_cameras/'\n",
    "files = os.listdir(save_path)\n",
    "\n",
    "eids = final_qc['eid'].unique()\n",
    "for eid in eids:\n",
    "\n",
    "    filename = str(eid + '_2_camera_lick_psth_-12_feedback.png')\n",
    "    if filename not in files:\n",
    "\n",
    "        fig, ax = plt.subplots(nrows=2, ncols=1, sharex=True, sharey=True, figsize=[7, 7])\n",
    "        trials = one.load_object(eid, obj='trials', namespace='ibl')\n",
    "        trial_df = trials.to_df()\n",
    "\n",
    "        try:\n",
    "            lick_times_lp = get_lick_times(one, eid, lp=True, combine=True, video_type = 'left')\n",
    "            data_lp = lick_psth(trial_df, lick_times_lp, 1, 2, event='feedback_times')\n",
    "\n",
    "            lick_times_dlc = get_lick_times(one, eid, lp=False, combine=True, video_type = 'left')\n",
    "            data_dlc = lick_psth(trial_df, lick_times_dlc, 1, 2, event='feedback_times')\n",
    "\n",
    "            for d, data in enumerate([data_dlc, data_lp]):\n",
    "                trials = data['trial']\n",
    "                num_trials = int(np.max(trials))\n",
    "                # Plot data\n",
    "                for t, trial in enumerate(range(num_trials)):\n",
    "                    licks_correct = np.array(data.loc[(data['trial']==t) & (data['correct']==1), 'lick_times'])\n",
    "                    licks_incorrect = np.array(data.loc[(data['trial']==t) & (data['correct']==-1), 'lick_times'])\n",
    "                    ax[d].scatter(licks_correct, np.full_like(licks_correct, t), color='green', s=1)\n",
    "                    ax[d].scatter(licks_incorrect, np.full_like(licks_incorrect, t), color='red', s=1)\n",
    "                ax[1].set_xlabel('Time from feedback')\n",
    "                ax[d].set_ylabel('Trial')\n",
    "                if d == 0:\n",
    "                    ax[d].set_title('DLC - ' +eid)\n",
    "                else:\n",
    "                    ax[d].set_title('LP - ' +eid)\n",
    "            plt.tight_layout()\n",
    "            plt.savefig(save_path+filename, format='png')\n",
    "            # plt.show()\n",
    "        except:\n",
    "            print('Missing data for mouse '+eid)\n"
   ]
  },
  {
   "cell_type": "code",
   "execution_count": null,
   "metadata": {},
   "outputs": [],
   "source": []
  },
  {
   "cell_type": "code",
   "execution_count": null,
   "metadata": {},
   "outputs": [],
   "source": []
  },
  {
   "cell_type": "code",
   "execution_count": null,
   "metadata": {},
   "outputs": [],
   "source": []
  },
  {
   "cell_type": "code",
   "execution_count": null,
   "metadata": {},
   "outputs": [],
   "source": []
  },
  {
   "cell_type": "code",
   "execution_count": null,
   "metadata": {},
   "outputs": [],
   "source": []
  }
 ],
 "metadata": {
  "kernelspec": {
   "display_name": "iblenv",
   "language": "python",
   "name": "python3"
  },
  "language_info": {
   "codemirror_mode": {
    "name": "ipython",
    "version": 3
   },
   "file_extension": ".py",
   "mimetype": "text/x-python",
   "name": "python",
   "nbconvert_exporter": "python",
   "pygments_lexer": "ipython3",
   "version": "3.9.15"
  }
 },
 "nbformat": 4,
 "nbformat_minor": 2
}
