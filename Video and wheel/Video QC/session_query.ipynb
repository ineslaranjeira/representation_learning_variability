{
 "cells": [
  {
   "cell_type": "markdown",
   "metadata": {},
   "source": [
    "# Query of sessions"
   ]
  },
  {
   "cell_type": "code",
   "execution_count": 1,
   "metadata": {},
   "outputs": [],
   "source": [
    "prefix = '/home/ines/repositories/'\n",
    "# prefix = '/Users/ineslaranjeira/Documents/Repositories/'"
   ]
  },
  {
   "cell_type": "code",
   "execution_count": 2,
   "metadata": {},
   "outputs": [
    {
     "name": "stderr",
     "output_type": "stream",
     "text": [
      "/home/ines/miniconda3/envs/iblenv/lib/python3.9/site-packages/one/alf/files.py:10: FutureWarning: `one.alf.files` will be removed in version 3.0. Use `one.alf.path` instead.\n",
      "  warnings.warn(\n"
     ]
    }
   ],
   "source": [
    "import os\n",
    "import numpy as np\n",
    "from one.api import ONE\n",
    "import pickle\n",
    "import matplotlib.pyplot as plt\n",
    "import pandas as pd\n",
    "import brainbox.behavior.wheel as wh\n",
    "from scipy.stats import zscore\n",
    "import concurrent.futures\n",
    "from brainbox.io.one import SessionLoader\n",
    "import scipy.interpolate as interpolate\n",
    "from joblib import Parallel, delayed\n",
    "from scipy.fftpack import fft, ifft, fftshift\n",
    "from sklearn.preprocessing import StandardScaler, Normalizer\n",
    "import gc\n",
    "import numpy as np\n",
    "import pandas as pd\n",
    "from dateutil import parser\n",
    "from datetime import datetime\n",
    "\n",
    "# one = ONE(base_url='https://alyx.internationalbrainlab.org')\n",
    "one = ONE(mode='remote')\n",
    "# Get my functions\n",
    "functions_path =  prefix + 'representation_learning_variability/Functions/'\n",
    "os.chdir(functions_path)\n",
    "from video_functions import get_lick_on, get_ME  #get_raw_and_smooth_position, get_dlc_XYs, get_lick_times, get_lick_on, get_pupil_diameter, get_ME, keypoint_speed, pupil_center, nose_tip, left_paw, right_paw\n",
    "from one_functions_generic import download_subjectTables"
   ]
  },
  {
   "cell_type": "code",
   "execution_count": 3,
   "metadata": {},
   "outputs": [
    {
     "name": "stdout",
     "output_type": "stream",
     "text": [
      "735\n"
     ]
    }
   ],
   "source": [
    "base_query = (\n",
    "    'session__projects__name__icontains,ibl_neuropixel_brainwide_01,'\n",
    "    '~session__json__IS_MOCK,True,'\n",
    "    'session__qc__lt,50,'\n",
    "    'session__extended_qc__behavior,1,'\n",
    "    '~json__qc,CRITICAL,'  # Should clarify these\n",
    "    'json__extended_qc__alignment_count__gt,0,'  # No need for alignment resolved\n",
    ")\n",
    "qc_task = (\n",
    "    '~session__extended_qc___task_stimOn_goCue_delays__lt,0.9,'\n",
    "    '~session__extended_qc___task_response_feedback_delays__lt,0.9,'\n",
    "    '~session__extended_qc___task_wheel_move_before_feedback__lt,0.9,'\n",
    "    '~session__extended_qc___task_wheel_freeze_during_quiescence__lt,0.9,'\n",
    "    '~session__extended_qc___task_error_trial_event_sequence__lt,0.9,'\n",
    "    '~session__extended_qc___task_correct_trial_event_sequence__lt,0.9,'\n",
    "    '~session__extended_qc___task_reward_volumes__lt,0.9,'\n",
    "    '~session__extended_qc___task_reward_volume_set__lt,0.9,'\n",
    "    '~session__extended_qc___task_stimulus_move_before_goCue__lt,0.9,'\n",
    "    '~session__extended_qc___task_audio_pre_trial__lt,0.9')\n",
    "\n",
    "marked_pass = (\n",
    "    'session__extended_qc___experimenter_task,PASS')  # What is this?\n",
    "\n",
    "insertions = list(one.alyx.rest('insertions', 'list', django=base_query + qc_task))\n",
    "insertions.extend(list(one.alyx.rest('insertions', 'list', django=base_query + marked_pass)))\n",
    "print(len(insertions))\n",
    "\n",
    "bwm_df = pd.DataFrame({\n",
    "    'pid': np.array([i['id'] for i in insertions]),\n",
    "    'eid': np.array([i['session'] for i in insertions]),\n",
    "    'probe_name': np.array([i['name'] for i in insertions]),\n",
    "    'session_number': np.array([i['session_info']['number'] for i in insertions]),\n",
    "    'date': np.array([parser.parse(i['session_info']['start_time']).date() for i in insertions]),\n",
    "    'subject': np.array([i['session_info']['subject'] for i in insertions]),\n",
    "    'lab': np.array([i['session_info']['lab'] for i in insertions]),\n",
    "}).sort_values(by=['lab', 'subject', 'date', 'eid'])\n",
    "bwm_df.drop_duplicates(inplace=True)\n",
    "bwm_df.reset_index(inplace=True, drop=True)\n"
   ]
  },
  {
   "cell_type": "code",
   "execution_count": 4,
   "metadata": {},
   "outputs": [],
   "source": [
    "def extended_qc(one, eids):\n",
    "\n",
    "    # Initialize df\n",
    "    df = pd.DataFrame()\n",
    "\n",
    "    for e, eid in enumerate(eids):\n",
    "        try:\n",
    "            extended_qc = one.get_details(eid, True)['extended_qc']\n",
    "            transposed_df = pd.DataFrame.from_dict(extended_qc, orient='index').T\n",
    "            transposed_df['eid'] = eid\n",
    "            df = pd.concat([df, transposed_df])\n",
    "        except:\n",
    "            print(eid)\n",
    "    return df\n",
    "    "
   ]
  },
  {
   "cell_type": "markdown",
   "metadata": {},
   "source": [
    "## Recording sessions"
   ]
  },
  {
   "cell_type": "code",
   "execution_count": 5,
   "metadata": {},
   "outputs": [
    {
     "name": "stdout",
     "output_type": "stream",
     "text": [
      "251ece37-7798-477c-8a06-2845d4aa270c\n"
     ]
    }
   ],
   "source": [
    "recording_sessions = bwm_df[['eid', 'date', 'subject']].drop_duplicates().copy()\n",
    "rec_qc = extended_qc(one, recording_sessions['eid'].unique())"
   ]
  },
  {
   "cell_type": "code",
   "execution_count": 6,
   "metadata": {},
   "outputs": [
    {
     "name": "stderr",
     "output_type": "stream",
     "text": [
      "/tmp/ipykernel_5763/551983624.py:12: FutureWarning: DataFrameGroupBy.apply operated on the grouping columns. This behavior is deprecated, and in a future version of pandas the grouping columns will be excluded from the operation. Either pass `include_groups=False` to exclude the groupings or explicitly select the grouping columns after groupby to silence this warning.\n",
      "  recording_sessions = recording_sessions.groupby('subject').apply(pd.DataFrame.sort_values, 'date', ascending=True).reset_index(drop=True)\n"
     ]
    }
   ],
   "source": [
    "rec_qc_pass = rec_qc.loc[(rec_qc['task'].isin(['PASS', 'WARNING'])) &\n",
    "                         (rec_qc['_lightningPoseLeft_lick_detection'].isin(['PASS'])) &\n",
    "                         (rec_qc['_lightningPoseLeft_time_trace_length_match'].isin(['PASS'])) &   \n",
    "                         (rec_qc['_videoLeft_pin_state'].apply(lambda x: (isinstance(x, list) and True in x) or x == 'PASS')) &\n",
    "                         (rec_qc['_lightningPoseLeft_trace_all_nan'].isin(['PASS'])) &\n",
    "                         (rec_qc['_videoLeft_framerate'].apply(lambda x: (isinstance(x, list) and True in x) or x == 'PASS')) &   \n",
    "                         (rec_qc['_videoLeft_camera_times'].apply(lambda x: (isinstance(x, list) and True in x) or x == 'PASS')) &   \n",
    "                         (rec_qc['_videoLeft_dropped_frames'].apply(lambda x: (isinstance(x, list) and True in x) or x == 'PASS')) &  # can make more conservative by removing or  x == None\n",
    "                         (rec_qc['_videoLeft_timestamps'].isin([True, 'PASS']))]\n",
    "recording_sessions['qc'] = 0\n",
    "recording_sessions.loc[recording_sessions['eid'].isin(rec_qc_pass['eid'].unique()), 'qc'] = 1\n",
    "recording_sessions = recording_sessions.groupby('subject').apply(pd.DataFrame.sort_values, 'date', ascending=True).reset_index(drop=True)"
   ]
  },
  {
   "cell_type": "code",
   "execution_count": 7,
   "metadata": {},
   "outputs": [],
   "source": [
    "recording_start_date = recording_sessions.groupby(['subject'])['date'].min().reset_index()\n",
    "recording_start_date = recording_start_date.rename(columns={'date': 'recording_start_date'})\n",
    "recording_sessions = recording_sessions.merge(recording_start_date, on=['subject'])\n",
    "recording_sessions['order_recording']  = recording_sessions.groupby('subject').cumcount() + 1\n"
   ]
  },
  {
   "cell_type": "code",
   "execution_count": 9,
   "metadata": {},
   "outputs": [
    {
     "data": {
      "text/plain": [
       "(10.0, 0.0)"
      ]
     },
     "execution_count": 9,
     "metadata": {},
     "output_type": "execute_result"
    },
    {
     "data": {
      "image/png": "[encoded data removed]",
      "text/plain": [
       "<Figure size 1000x300 with 1 Axes>"
      ]
     },
     "metadata": {},
     "output_type": "display_data"
    }
   ],
   "source": [
    "recording_grid = recording_sessions[['subject', 'qc', 'order_recording']].pivot(index=\"subject\", columns=\"order_recording\")\n",
    "\n",
    "fig, ax = plt.subplots(figsize=(10, 3))\n",
    "ax.imshow(np.array(recording_grid).T,  interpolation='nearest')\n",
    "plt.tight_layout()\n",
    "plt.xlabel('BWM mice')\n",
    "plt.ylabel('Recording sessions')\n",
    "plt.ylim(10, 0)"
   ]
  },
  {
   "cell_type": "markdown",
   "metadata": {},
   "source": [
    "## Extended sessions\n",
    "- Get sessions after ready4ephysrig and before first recording"
   ]
  },
  {
   "cell_type": "code",
   "execution_count": 10,
   "metadata": {},
   "outputs": [
    {
     "name": "stderr",
     "output_type": "stream",
     "text": [
      "/tmp/ipykernel_5763/505617540.py:30: FutureWarning: The behavior of DataFrame concatenation with empty or all-NA entries is deprecated. In a future version, this will no longer exclude empty or all-NA columns when determining the result dtypes. To retain the old behavior, exclude the relevant entries before the concat operation.\n",
      "  extended_sessions = pd.concat([extended_sessions, pre_recording_sessions])\n"
     ]
    }
   ],
   "source": [
    "\n",
    "unique_mice = bwm_df['subject'].unique()\n",
    "extended_sessions = pd.DataFrame(columns=['session', 'task_protocol', 'session_start_time', 'mouse_name'])\n",
    "\n",
    "for mouse_name in unique_mice:\n",
    "    recording_eids = bwm_df.loc[bwm_df['subject']==mouse_name, 'eid']\n",
    "    \n",
    "    subject_trials, subject_training = download_subjectTables(one, subject=mouse_name, trials=True, training=True,\n",
    "                target_path=None, tag=None, overwrite=False, check_updates=True)\n",
    "    dsets = [subject_trials[0], subject_training[0]]\n",
    "    files = [one.cache_dir.joinpath(x) for x in dsets]\n",
    "    trials, training = [pd.read_parquet(file) for file in files]\n",
    "    training = training.reset_index()\n",
    "    \n",
    "    if 'ready4ephysrig' in np.array(training['training_status']):\n",
    "        ready4ephysrig = list(training.loc[training['training_status']=='ready4ephysrig', 'date'])[0]\n",
    "        ephys_rig_sessions = trials.loc[trials['session_start_time'] > \n",
    "                                        ready4ephysrig][['session', 'task_protocol', 'session_start_time']].drop_duplicates()\n",
    "    else:\n",
    "        ready4delay = list(training.loc[training['training_status']=='ready4delay', 'date'])[0]\n",
    "        ephys_rig_sessions = trials.loc[trials['session_start_time'] > \n",
    "                                        ready4delay][['session', 'task_protocol', 'session_start_time']].drop_duplicates()\n",
    "    first_recording_date = list(recording_sessions.loc[recording_sessions['subject']==mouse_name, 'recording_start_date'])[0]\n",
    "    # Pre-recording sessions\n",
    "    pre_recording_sessions = ephys_rig_sessions.loc[(ephys_rig_sessions['task_protocol'].str.contains('biasedChoiceWorld')) |\n",
    "                                                    (ephys_rig_sessions['task_protocol'].str.contains('ephysChoiceWorld'))] \n",
    "    pre_recording_sessions = pre_recording_sessions.loc[pre_recording_sessions['session_start_time']<pd.to_datetime(first_recording_date)]\n",
    "    \n",
    "    \n",
    "    pre_recording_sessions['mouse_name'] = mouse_name\n",
    "    extended_sessions = pd.concat([extended_sessions, pre_recording_sessions])"
   ]
  },
  {
   "cell_type": "code",
   "execution_count": 11,
   "metadata": {},
   "outputs": [
    {
     "name": "stdout",
     "output_type": "stream",
     "text": [
      "bee3fb2c-824b-4883-9508-91c43978eed8\n",
      "94535612-5064-40aa-aa05-8c08c2fa618a\n",
      "29e74e5c-9557-41d6-966d-e9bac6e932fa\n",
      "21d3bbdf-7cb1-4a86-bd7d-16d88c0e38b1\n",
      "0cf783d4-770a-4953-92bb-5de03f3b389e\n",
      "b84a61d2-8e1e-461a-bff1-16b44dc6cea3\n",
      "aed565c2-8f5b-433f-bd30-ed45aedc33a0\n",
      "6dda1b46-afe3-48ee-918b-c308ba7dd519\n",
      "f55e0699-ebc3-447e-a4ff-d0ecf73f3018\n",
      "ea436c57-944a-4cbd-af90-31e3c35e9116\n",
      "9a926b27-6801-4fa4-a362-ebe916ee9009\n",
      "9ecc2335-9a23-40c2-ae0b-c4087818bfd6\n",
      "1114aa6e-a49b-4de7-9a9b-e6fc48ca5d46\n",
      "b9b8fa2a-8949-4f79-ab6a-c90a3d068b55\n",
      "55cbc068-dc37-4e5a-85dc-c7763b508049\n",
      "75c51f31-aa98-40e8-b020-e55d7039b749\n",
      "c0ba910e-3e8b-4596-b509-0e28a15c332b\n",
      "1c5ae8dc-edd4-4ebd-9883-3d8fea79804f\n",
      "8028df72-7f65-4609-9e6a-354f08648ae1\n",
      "faff72fd-a15f-4b12-9f65-7746ae51be61\n",
      "f4542bdd-9e51-4bff-9b56-915664a3a48a\n",
      "e65de8fe-5b69-48fb-81d9-10abda28c3a6\n",
      "468d2123-fbdc-4b8d-bcd2-c72bf345e408\n",
      "1e6c2fed-8e6f-4ff6-b3ff-b982425ed8c6\n",
      "acd8f6b6-ba57-4dcc-9afb-80713e23d354\n",
      "bd5c63bd-296c-41b8-9cfb-a5be1f5fe24c\n",
      "220dd4da-9277-4f15-978a-04c77475b93e\n",
      "682dfa44-b2b2-48ec-9072-882ed63e594f\n",
      "2d92ad3b-422c-445f-b2ca-4d74692dd7e5\n",
      "f58fc56d-49f5-4d87-b3ba-584f943c4ed3\n",
      "02602784-107e-44db-8d38-b719ae7192d7\n",
      "8799e611-a22d-490f-9ecb-0c478e8388fd\n",
      "a72f3c33-5499-41a0-b28a-b377b7c24772\n",
      "c7298713-5759-4afe-bf31-6009499b646c\n",
      "4d56a44f-aa2f-4c87-b142-582144ee7d0d\n",
      "adae1ad3-c729-45c1-9637-a57bac47b5e6\n",
      "833f5506-7907-45a1-be3b-48d8184324b1\n",
      "3793078b-4d2b-44d8-b83a-2c786f4cd750\n",
      "aa3d898d-9d96-4727-a2b0-229e77b85ef3\n",
      "6c0a14e7-a72c-4906-a9f8-ba5a061ab486\n",
      "51a68f4a-94dd-4322-8f0a-00fcd76d1ccf\n",
      "93299c69-59b6-4da4-925d-8d466fa3ce1f\n",
      "46d6aefc-dd83-4a79-a51a-df67414c3319\n",
      "ac9a4e6f-89c8-43d4-b4d6-263573ff2d6d\n",
      "c47f8fc9-35bb-4b10-b409-657265a72ee4\n",
      "d9488ddf-1160-4d7a-88fe-cd8ec4710f10\n",
      "3788f57c-2f5d-4b44-8e94-0956f83cb134\n",
      "9354f70c-1abf-4f37-b8e2-b08811ede39f\n",
      "db61cd84-d125-4a89-b344-660bfab93e99\n",
      "73e6aca6-16cd-4093-a20c-e8a5aabd32ba\n",
      "a031e1b3-eaa4-4ad5-85a4-93f753e1a9ce\n",
      "a6c8b8cc-d7e8-4a6e-8846-c4669089b0ca\n",
      "caa193e0-6aa1-4e9c-8458-add17cf82fd5\n",
      "d261e171-a990-498f-ab76-31cc02ab260a\n",
      "62c0ecec-f8cf-43ad-bcc8-010566d6ad1e\n",
      "703f2ee3-b432-4458-a0d8-c1d26bebdf85\n",
      "247d090b-7952-4bf8-b202-1b3c99bfdabb\n",
      "6fd14a91-8781-4c1d-869e-a730b21268fb\n"
     ]
    }
   ],
   "source": [
    "extended_df = extended_sessions.copy()\n",
    "rec_qc = extended_qc(one, extended_df['session'].unique())\n"
   ]
  },
  {
   "cell_type": "code",
   "execution_count": 12,
   "metadata": {},
   "outputs": [],
   "source": [
    "rec_qc_pass = rec_qc.loc[(rec_qc['task'].isin(['PASS', 'WARNING'])) &\n",
    "                         (rec_qc['_videoLeft_pin_state'].apply(lambda x: (isinstance(x, list) and True in x) or x == 'PASS')) &\n",
    "                         (rec_qc['_videoLeft_framerate'].apply(lambda x: (isinstance(x, list) and True in x) or x == 'PASS')) &   \n",
    "                         (rec_qc['_videoLeft_camera_times'].apply(lambda x: (isinstance(x, list) and True in x) or x == 'PASS')) &   \n",
    "                         (rec_qc['_videoLeft_dropped_frames'].apply(lambda x: (isinstance(x, list) and True in x) or x == 'PASS')) &  # can make more conservative by removing or  x == None\n",
    "                         (rec_qc['_videoLeft_timestamps'].isin([True, 'PASS']))]\n",
    "extended_df['qc'] = 0\n",
    "extended_df = extended_df.rename(columns={'session':'eid', 'mouse_name':'subject'})\n",
    "extended_df.loc[extended_df['eid'].isin(rec_qc_pass['eid'].unique()), 'qc'] = 1\n",
    "extended_df = extended_df.drop_duplicates()\n",
    "extended_df['order_recording'] = -extended_df.groupby('subject')['session_start_time'].rank(method='first', ascending=False).astype(int)"
   ]
  },
  {
   "cell_type": "code",
   "execution_count": 13,
   "metadata": {},
   "outputs": [],
   "source": [
    "rec_qc_pass = rec_qc.loc[(rec_qc['task'].isin(['PASS', 'WARNING'])) &\n",
    "                         (rec_qc['_videoLeft_pin_state'].apply(lambda x: (isinstance(x, list) and True in x) or x == 'PASS')) &\n",
    "                         (rec_qc['_videoLeft_framerate'].apply(lambda x: (isinstance(x, list) and True in x) or x == 'PASS')) &   \n",
    "                         (rec_qc['_videoLeft_camera_times'].apply(lambda x: (isinstance(x, list) and True in x) or x == 'PASS')) &   \n",
    "                         (rec_qc['_videoLeft_dropped_frames'].apply(lambda x: x == [True, 0, 0] or x == 'PASS')) &  # can make more conservative by removing or  x == None\n",
    "                         (rec_qc['_videoLeft_timestamps'].isin([True, 'PASS']))]\n",
    "extended_df['qc'] = 0\n",
    "extended_df = extended_df.rename(columns={'session':'eid', 'mouse_name':'subject'})\n",
    "extended_df.loc[extended_df['eid'].isin(rec_qc_pass['eid'].unique()), 'qc'] = 1\n",
    "extended_df = extended_df.drop_duplicates()\n",
    "extended_df['order_recording'] = -extended_df.groupby('subject')['session_start_time'].rank(method='first', ascending=False).astype(int)"
   ]
  },
  {
   "cell_type": "code",
   "execution_count": 395,
   "metadata": {},
   "outputs": [
    {
     "name": "stderr",
     "output_type": "stream",
     "text": [
      "/home/ines/miniconda3/envs/iblenv/lib/python3.9/site-packages/one/util.py:543: ALFWarning: Multiple revisions: \"\", \"2025-03-03\", \"2022-10-31\", \"2023-04-04\"\n",
      "  warnings.warn(f'Multiple revisions: {rev_list}', alferr.ALFWarning)\n",
      "/home/ines/miniconda3/envs/iblenv/lib/python3.9/site-packages/one/util.py:543: ALFWarning: Multiple revisions: \"\", \"2025-03-03\", \"2022-10-31\", \"2023-04-04\"\n",
      "  warnings.warn(f'Multiple revisions: {rev_list}', alferr.ALFWarning)\n",
      "/home/ines/miniconda3/envs/iblenv/lib/python3.9/site-packages/one/util.py:543: ALFWarning: Multiple revisions: \"\", \"2025-03-03\", \"2022-10-31\", \"2023-04-04\"\n",
      "  warnings.warn(f'Multiple revisions: {rev_list}', alferr.ALFWarning)\n",
      "/home/ines/miniconda3/envs/iblenv/lib/python3.9/site-packages/one/util.py:543: ALFWarning: Multiple revisions: \"\", \"2025-03-03\", \"2022-10-31\", \"2023-04-04\"\n",
      "  warnings.warn(f'Multiple revisions: {rev_list}', alferr.ALFWarning)\n",
      "/home/ines/miniconda3/envs/iblenv/lib/python3.9/site-packages/one/util.py:543: ALFWarning: Multiple revisions: \"\", \"2025-03-03\"\n",
      "  warnings.warn(f'Multiple revisions: {rev_list}', alferr.ALFWarning)\n",
      "/home/ines/miniconda3/envs/iblenv/lib/python3.9/site-packages/one/util.py:543: ALFWarning: Multiple revisions: \"\", \"2025-03-03\", \"2022-10-31\", \"2023-04-04\"\n",
      "  warnings.warn(f'Multiple revisions: {rev_list}', alferr.ALFWarning)\n"
     ]
    }
   ],
   "source": [
    "# further check\n",
    "eids = extended_df.loc[extended_df['qc']>0, 'eid']\n",
    "for eid in eids:\n",
    "    if '_iblrig_leftCamera.frameData.bin' in one.list_datasets(eid):\n",
    "        print(eid)\n",
    "        extended_df.loc[extended_df['eid']==eid, 'qc'] = 0"
   ]
  },
  {
   "cell_type": "code",
   "execution_count": 382,
   "metadata": {},
   "outputs": [
    {
     "data": {
      "image/png": "[encoded data removed]",
      "text/plain": [
       "<Figure size 1000x300 with 1 Axes>"
      ]
     },
     "metadata": {},
     "output_type": "display_data"
    }
   ],
   "source": [
    "all_df = pd.concat([extended_df[['subject', 'qc', 'order_recording']], recording_sessions[['subject', 'qc', 'order_recording']]])\n",
    "grid = all_df.pivot(index=\"subject\", columns=\"order_recording\")\n",
    "\n",
    "fig, ax = plt.subplots(figsize=(10, 3))\n",
    "ax.imshow(np.array(grid)[:, -16:-3].T,  interpolation='nearest')\n",
    "plt.xlabel('BWM mice')\n",
    "plt.ylabel('Sessions from \\n first recording')\n",
    "ax.set_yticks([0, 3, 13], [-3, 0, 10])\n",
    "\n",
    "plt.tight_layout()\n"
   ]
  },
  {
   "cell_type": "code",
   "execution_count": 14,
   "metadata": {},
   "outputs": [],
   "source": [
    "rec_qc_pass = rec_qc.loc[(rec_qc['_videoLeft_dropped_frames'].apply(lambda x: x == [True, 0, 0] or x == 'PASS'))]\n",
    "extended_df['qc'] = 0\n",
    "extended_df = extended_df.rename(columns={'session':'eid', 'mouse_name':'subject'})\n",
    "extended_df.loc[extended_df['eid'].isin(rec_qc_pass['eid'].unique()), 'qc'] = 1\n",
    "extended_df = extended_df.drop_duplicates()\n",
    "extended_df['order_recording'] = -extended_df.groupby('subject')['session_start_time'].rank(method='first', ascending=False).astype(int)"
   ]
  },
  {
   "cell_type": "code",
   "execution_count": 15,
   "metadata": {},
   "outputs": [
    {
     "data": {
      "image/png": "[encoded data removed]",
      "text/plain": [
       "<Figure size 1000x300 with 1 Axes>"
      ]
     },
     "metadata": {},
     "output_type": "display_data"
    }
   ],
   "source": [
    "all_df = pd.concat([extended_df[['subject', 'qc', 'order_recording']], recording_sessions[['subject', 'qc', 'order_recording']]])\n",
    "mice_with_rec = recording_sessions['subject'].unique()[list(recording_sessions.groupby('subject')['qc'].sum()>0)]\n",
    "use_df = all_df.loc[all_df['subject'].isin(mice_with_rec)]\n",
    "use_df = all_df.copy()\n",
    "\n",
    "grid = use_df.pivot(index=\"subject\", columns=\"order_recording\")\n",
    "\n",
    "fig, ax = plt.subplots(figsize=(10, 3))\n",
    "ax.imshow(np.array(grid)[:, -20:-3].T,  interpolation='nearest')\n",
    "plt.xlabel('BWM mice')\n",
    "plt.ylabel('Sessions from \\n first recording')\n",
    "ax.set_yticks([0, 7, 17], [-7, 0, 10])\n",
    "\n",
    "plt.tight_layout()\n"
   ]
  },
  {
   "cell_type": "code",
   "execution_count": 385,
   "metadata": {},
   "outputs": [],
   "source": [
    "rec_qc_pass = rec_qc.loc[(rec_qc['_videoLeft_dropped_frames'].apply(lambda x: (isinstance(x, list) and True in x) or x == 'PASS'))]\n",
    "extended_df['qc'] = 0\n",
    "extended_df = extended_df.rename(columns={'session':'eid', 'mouse_name':'subject'})\n",
    "extended_df.loc[extended_df['eid'].isin(rec_qc_pass['eid'].unique()), 'qc'] = 1\n",
    "extended_df = extended_df.drop_duplicates()\n",
    "extended_df['order_recording'] = -extended_df.groupby('subject')['session_start_time'].rank(method='first', ascending=False).astype(int)"
   ]
  },
  {
   "cell_type": "code",
   "execution_count": 386,
   "metadata": {},
   "outputs": [
    {
     "data": {
      "image/png": "[encoded data removed]",
      "text/plain": [
       "<Figure size 1000x300 with 1 Axes>"
      ]
     },
     "metadata": {},
     "output_type": "display_data"
    }
   ],
   "source": [
    "all_df = pd.concat([extended_df[['subject', 'qc', 'order_recording']], recording_sessions[['subject', 'qc', 'order_recording']]])\n",
    "mice_with_rec = recording_sessions['subject'].unique()[list(recording_sessions.groupby('subject')['qc'].sum()>0)]\n",
    "use_df = all_df.loc[all_df['subject'].isin(mice_with_rec)]\n",
    "\n",
    "grid = use_df.pivot(index=\"subject\", columns=\"order_recording\")\n",
    "\n",
    "fig, ax = plt.subplots(figsize=(10, 3))\n",
    "ax.imshow(np.array(grid)[:, -20:-3].T,  interpolation='nearest')\n",
    "plt.xlabel('BWM mice')\n",
    "plt.ylabel('Sessions from \\n first recording')\n",
    "ax.set_yticks([0, 7, 17], [-7, 0, 10])\n",
    "\n",
    "plt.tight_layout()"
   ]
  },
  {
   "cell_type": "code",
   "execution_count": null,
   "metadata": {},
   "outputs": [],
   "source": []
  },
  {
   "cell_type": "code",
   "execution_count": null,
   "metadata": {},
   "outputs": [],
   "source": []
  },
  {
   "cell_type": "code",
   "execution_count": null,
   "metadata": {},
   "outputs": [],
   "source": []
  },
  {
   "cell_type": "code",
   "execution_count": null,
   "metadata": {},
   "outputs": [],
   "source": []
  },
  {
   "cell_type": "code",
   "execution_count": null,
   "metadata": {},
   "outputs": [],
   "source": [
    "unique_mice, session_count = np.unique(all_mice, return_counts=True)\n",
    "\n",
    "session_count = []\n",
    "extended_1 = []\n",
    "extended_2 = []\n",
    "extended_3 = []\n",
    "extended_sessions = pd.DataFrame(columns=['session', 'task_protocol', 'session_start_time', 'mouse_name'])\n",
    "for mouse_name in unique_mice:\n",
    "    recording_eids = bwm_query.loc[bwm_query['mouse_name']==mouse_name, 'eid']\n",
    "    \n",
    "    subject_trials, subject_training = download_subjectTables(one, subject=mouse_name, trials=True, training=True,\n",
    "                target_path=None, tag=None, overwrite=False, check_updates=True)\n",
    "    dsets = [subject_trials[0], subject_training[0]]\n",
    "    files = [one.cache_dir.joinpath(x) for x in dsets]\n",
    "    trials, training = [pd.read_parquet(file) for file in files]\n",
    "    training = training.reset_index()\n",
    "    ready4delay = list(training.loc[training['training_status']=='ready4delay', 'date'])[0]\n",
    "    ephys_rig_sessions = trials.loc[trials['session_start_time'] > \n",
    "                                    ready4delay][['session', 'task_protocol', 'session_start_time']].drop_duplicates()\n",
    "    pre_recording_sessions = ephys_rig_sessions.loc[ephys_rig_sessions['task_protocol'].str.contains('biasedChoiceWorld')]\n",
    "    pre_recording_sessions['mouse_name'] = mouse_name\n",
    "    extended_sessions = pd.concat([extended_sessions, pre_recording_sessions])\n",
    "    session_count.append(len(pre_recording_sessions))\n",
    "    if len(pre_recording_sessions)>=3:\n",
    "        extended_1.append(list(pre_recording_sessions.sort_values(by='session_start_time')['session'])[-1])\n",
    "        extended_2.append(list(pre_recording_sessions.sort_values(by='session_start_time')['session'])[-2])\n",
    "        extended_3.append(list(pre_recording_sessions.sort_values(by='session_start_time')['session'])[-1])\n",
    "        "
   ]
  }
 ],
 "metadata": {
  "kernelspec": {
   "display_name": "iblenv",
   "language": "python",
   "name": "python3"
  },
  "language_info": {
   "codemirror_mode": {
    "name": "ipython",
    "version": 3
   },
   "file_extension": ".py",
   "mimetype": "text/x-python",
   "name": "python",
   "nbconvert_exporter": "python",
   "pygments_lexer": "ipython3",
   "version": "3.9.15"
  }
 },
 "nbformat": 4,
 "nbformat_minor": 2
}
