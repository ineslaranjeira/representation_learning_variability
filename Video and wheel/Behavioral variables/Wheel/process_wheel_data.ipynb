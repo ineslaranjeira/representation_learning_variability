{
 "cells": [
  {
   "cell_type": "markdown",
   "metadata": {},
   "source": [
    "# Process wheel data into movements "
   ]
  },
  {
   "cell_type": "code",
   "execution_count": 1,
   "metadata": {},
   "outputs": [
    {
     "name": "stderr",
     "output_type": "stream",
     "text": [
      "/home/ines/miniconda3/envs/iblenv/lib/python3.9/site-packages/one/api.py:1465: UserWarning: Newer cache tables require ONE version 2.7 or greater\n",
      "  warnings.warn(f'Newer cache tables require ONE version {min_version} or greater')\n"
     ]
    }
   ],
   "source": [
    "\"\"\" \n",
    "IMPORTS\n",
    "\"\"\"\n",
    "import os\n",
    "import autograd.numpy as np\n",
    "import pickle\n",
    "from collections import defaultdict\n",
    "import pandas as pd\n",
    "from scipy.ndimage import gaussian_filter1d\n",
    "from scipy import stats\n",
    "from datetime import datetime\n",
    "from scipy.interpolate import interp1d\n",
    "from numba import njit, prange \n",
    "from one.api import ONE\n",
    "import concurrent.futures\n",
    "\n",
    "# Get my functions\n",
    "functions_path =  '/home/ines/repositories/representation_learning_variability/Functions/'\n",
    "# functions_path = '/Users/ineslaranjeira/Documents/Repositories/representation_learning_variability/Functions/'\n",
    "os.chdir(functions_path)\n",
    "from data_processing import process_quiescence\n",
    "from wheel_functions import wheel_trial_epoch\n",
    "one = ONE(base_url='https://alyx.internationalbrainlab.org')"
   ]
  },
  {
   "cell_type": "markdown",
   "metadata": {},
   "source": [
    "## Load training data"
   ]
  },
  {
   "cell_type": "code",
   "execution_count": 2,
   "metadata": {},
   "outputs": [],
   "source": [
    "# Choose a session with good QC\n",
    "data_path = '/home/ines/repositories/representation_learning_variability/Video and wheel/'\n",
    "# data_path = '/Users/ineslaranjeira/Documents/Repositories/representation_learning_variability/Video and wheel/'\n",
    "# save_path = '/home/ines/repositories/representation_learning_variability/Exported figures/'\n",
    "\n",
    "os.chdir(data_path)\n",
    "pass_qc = pickle.load(open(data_path + \"good_brainwide_sessions_metadata\", \"rb\"))\n",
    "pass_qc = pickle.load(open(data_path + \"good_dlc_bwm_sessions_metadata\", \"rb\"))\n",
    "mouse_names = pass_qc['subject_nickname'].unique()"
   ]
  },
  {
   "cell_type": "code",
   "execution_count": 3,
   "metadata": {},
   "outputs": [],
   "source": [
    "def process_wheel_movements(mouse_name):\n",
    "\n",
    "    trial_data_path =  '/Users/ineslaranjeira/Documents/Repositories/representation_learning_variability/DATA/Trial_data/'\n",
    "    trial_data_path =  '/home/ines/repositories/representation_learning_variability/DATA/Trial_data/'\n",
    "    os.chdir(trial_data_path)\n",
    "\n",
    "    training_session = 'last'\n",
    "    threshold = 0.2 # Need to check if this makes sense\n",
    "    min_period = 400 # This is to match the minimum length of quiescence periods\n",
    "    bin_size = 0.05\n",
    "    mouse_data = pickle.load(open('training_data_trials_'+ mouse_name, \"rb\"))\n",
    "\n",
    "    if training_session == 'last':\n",
    "        mouse_session_num = np.max(mouse_data['training_day'])\n",
    "        use_data = mouse_data.loc[mouse_data['training_day'] >= mouse_session_num]\n",
    "    else:\n",
    "        use_data = mouse_data.loc[mouse_data['training_day'] == training_session]\n",
    "\n",
    "    wheel_data_path =  '/Users/ineslaranjeira/Documents/Repositories/representation_learning_variability/DATA/Wheel/'\n",
    "    wheel_data_path =  '/home/ines/repositories/representation_learning_variability/DATA/Wheel/'\n",
    "    \n",
    "    existing_files = os.listdir(wheel_data_path)\n",
    "    os.chdir(wheel_data_path)\n",
    "\n",
    "    # Loop through sessions\n",
    "    mouse_sessions = use_data['session'].unique()\n",
    "    for s, session in enumerate(mouse_sessions):\n",
    "        filename = \"wheel_movements_\" + str(training_session) + '_' + session\n",
    "        \n",
    "        if filename not in existing_files:\n",
    "            session_trials = use_data.loc[use_data['session']==session]\n",
    "            session_trials['index'] = np.arange(0, len(session_trials))\n",
    "            \n",
    "            df = wheel_trial_epoch(one, session_trials, session, bin_size, threshold, min_period).dropna()  \n",
    "\n",
    "            # Save to a unique file\n",
    "            pickle.dump(df, open(filename, \"wb\"))\n",
    "\n",
    "def parallel_process_data(mouse_names, function_name):\n",
    "    with concurrent.futures.ThreadPoolExecutor() as executor:\n",
    "\n",
    "        # Process each chunk in parallel\n",
    "        executor.map(function_name, mouse_names)"
   ]
  },
  {
   "cell_type": "code",
   "execution_count": 4,
   "metadata": {},
   "outputs": [
    {
     "name": "stderr",
     "output_type": "stream",
     "text": [
      "/home/ines/Downloads/ONE/alyx.internationalbrainlab.org/churchlandlab_ucla/Subjects/UCLA034/2021-12-07/001/alf/_ibl_wheel.position.npy: 100%|██████████| 3.00M/3.00M [00:02<00:00, 1.31MB/s]\n",
      "/home/ines/Downloads/ONE/alyx.internationalbrainlab.org/churchlandlab_ucla/Subjects/UCLA034/2021-12-07/001/alf/_ibl_wheel.timestamps.npy: 100%|██████████| 3.00M/3.00M [00:02<00:00, 1.28MB/s]\n"
     ]
    }
   ],
   "source": [
    "# Loop through animals\n",
    "function_name = process_wheel_movements\n",
    "parallel_process_data(mouse_names, function_name)"
   ]
  },
  {
   "cell_type": "code",
   "execution_count": null,
   "metadata": {},
   "outputs": [],
   "source": []
  }
 ],
 "metadata": {
  "kernelspec": {
   "display_name": "iblenv",
   "language": "python",
   "name": "python3"
  },
  "language_info": {
   "codemirror_mode": {
    "name": "ipython",
    "version": 3
   },
   "file_extension": ".py",
   "mimetype": "text/x-python",
   "name": "python",
   "nbconvert_exporter": "python",
   "pygments_lexer": "ipython3",
   "version": "3.9.15"
  },
  "vscode": {
   "interpreter": {
    "hash": "21541729b5da47a594818561e91cb4175a7e192d68b7cc4221509f43b2f902b5"
   }
  }
 },
 "nbformat": 4,
 "nbformat_minor": 2
}
