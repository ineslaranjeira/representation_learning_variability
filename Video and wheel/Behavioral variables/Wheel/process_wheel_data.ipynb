{
 "cells": [
  {
   "cell_type": "markdown",
   "metadata": {},
   "source": [
    "# Process wheel data into movements "
   ]
  },
  {
   "cell_type": "code",
   "execution_count": 1,
   "metadata": {},
   "outputs": [
    {
     "name": "stderr",
     "output_type": "stream",
     "text": [
      "/opt/anaconda3/envs/iblenv/lib/python3.10/site-packages/one/api.py:1577: UserWarning: Newer cache tables require ONE version 2.7 or greater\n",
      "  warnings.warn(f'Newer cache tables require ONE version {min_version} or greater')\n"
     ]
    }
   ],
   "source": [
    "\"\"\" \n",
    "IMPORTS\n",
    "\"\"\"\n",
    "import os\n",
    "import autograd.numpy as np\n",
    "import pickle\n",
    "from collections import defaultdict\n",
    "import pandas as pd\n",
    "from scipy.ndimage import gaussian_filter1d\n",
    "from scipy import stats\n",
    "from datetime import datetime\n",
    "from scipy.interpolate import interp1d\n",
    "from numba import njit, prange \n",
    "from one.api import ONE\n",
    "import concurrent.futures\n",
    "\n",
    "# Get my functions\n",
    "functions_path =  '/home/ines/repositories/representation_learning_variability/Functions/'\n",
    "functions_path = '/Users/ineslaranjeira/Documents/Repositories/representation_learning_variability/Functions/'\n",
    "os.chdir(functions_path)\n",
    "from data_processing import process_quiescence\n",
    "from wheel_functions import wheel_trial_epoch\n",
    "one = ONE(base_url='https://alyx.internationalbrainlab.org')"
   ]
  },
  {
   "cell_type": "markdown",
   "metadata": {},
   "source": [
    "## Load training data"
   ]
  },
  {
   "cell_type": "code",
   "execution_count": 2,
   "metadata": {},
   "outputs": [],
   "source": [
    "data_path =  '/home/ines/repositories/representation_learning_variability/DATA/Sub-trial/Design matrix/'\n",
    "data_path =  '/Users/ineslaranjeira/Documents/Repositories/representation_learning_variability/DATA/Sub-trial/Design matrix/'\n",
    "os.chdir(data_path)\n",
    "session_all = pickle.load(open('training_2024-04-23', 'rb'))"
   ]
  },
  {
   "cell_type": "code",
   "execution_count": 3,
   "metadata": {},
   "outputs": [],
   "source": [
    "# Choose a session with good QC\n",
    "data_path = '/home/ines/repositories/representation_learning_variability/Video and wheel/'\n",
    "data_path = '/Users/ineslaranjeira/Documents/Repositories/representation_learning_variability/Video and wheel/'\n",
    "# save_path = '/home/ines/repositories/representation_learning_variability/Exported figures/'\n",
    "\n",
    "os.chdir(data_path)\n",
    "pass_qc = pickle.load(open(data_path + \"good_brainwide_sessions_metadata\", \"rb\"))\n",
    "pass_qc = pickle.load(open(data_path + \"good_dlc_bwm_sessions_metadata\", \"rb\"))\n",
    "mouse_names = pass_qc['subject_nickname'].unique()"
   ]
  },
  {
   "cell_type": "code",
   "execution_count": 6,
   "metadata": {},
   "outputs": [],
   "source": [
    "def process_wheel_movements(mouse_name):\n",
    "\n",
    "    data_path =  '/Users/ineslaranjeira/Documents/Repositories/representation_learning_variability/DATA/Trial_data/'\n",
    "    os.chdir(data_path)\n",
    "\n",
    "    training_session = 'last'\n",
    "    threshold = 0.2 # Need to check if this makes sense\n",
    "    min_period = 400 # This is to match the minimum length of quiescence periods\n",
    "    bin_size = 0.05\n",
    "    mouse_data = pickle.load(open('training_data_trials_'+ mouse_name, \"rb\"))\n",
    "\n",
    "    if training_session == 'last':\n",
    "        mouse_session_num = np.max(mouse_data['training_day'])\n",
    "        use_data = mouse_data.loc[mouse_data['training_day'] >= mouse_session_num]\n",
    "    else:\n",
    "        use_data = mouse_data.loc[mouse_data['training_day'] == training_session]\n",
    "\n",
    "    data_path =  '/Users/ineslaranjeira/Documents/Repositories/representation_learning_variability/DATA/Wheel/'\n",
    "    os.chdir(data_path)\n",
    "\n",
    "    # Loop through sessions\n",
    "    mouse_sessions = use_data['session'].unique()\n",
    "    for s, session in enumerate(mouse_sessions):\n",
    "        \n",
    "        session_trials = use_data.loc[use_data['session']==session]\n",
    "        session_trials['index'] = np.arange(0, len(session_trials))\n",
    "        \n",
    "        df = wheel_trial_epoch(one, session_trials, session, bin_size, threshold, min_period).dropna()  \n",
    "\n",
    "        # Save to a unique file\n",
    "        pickle.dump(df, open(\"wheel_movements_\" + str(training_session) + '_' + session, \"wb\"))\n",
    "\n",
    "\n",
    "def process_quiescence_parallel(mouse_name):\n",
    "\n",
    "    data_path =  '/Users/ineslaranjeira/Documents/Repositories/representation_learning_variability/DATA/Trial_data/'\n",
    "    os.chdir(data_path)\n",
    "\n",
    "    training_session = 'last'\n",
    "    mouse_data = pickle.load(open('training_data_trials_'+ mouse_name, \"rb\"))\n",
    "\n",
    "    if training_session == 'last':\n",
    "        mouse_session_num = np.max(mouse_data['training_day'])\n",
    "        use_data = mouse_data.loc[mouse_data['training_day'] >= mouse_session_num]\n",
    "    else:\n",
    "        use_data = mouse_data.loc[mouse_data['training_day'] == training_session]\n",
    "\n",
    "    # Loop through sessions\n",
    "    mouse_sessions = use_data['session'].unique()\n",
    "    for s, session in enumerate(mouse_sessions):\n",
    "        data_path =  '/Users/ineslaranjeira/Documents/Repositories/representation_learning_variability/DATA/Wheel/'\n",
    "        os.chdir(data_path)\n",
    "        wheel_data = pickle.load(open('wheel_movements_' + str(training_session) + '_' + session, \"rb\"))\n",
    "        processed_quiescence = process_quiescence(wheel_data)\n",
    "\n",
    "        # Save to a unique file\n",
    "        data_path =  '/Users/ineslaranjeira/Documents/Repositories/representation_learning_variability/DATA/Wheel/processed/'\n",
    "        os.chdir(data_path)\n",
    "        pickle.dump(processed_quiescence, open(\"processed_quiescence_\" + str(training_session) + '_' + session, \"wb\"))\n",
    "\n",
    "\n",
    "def parallel_process_data(mouse_names, function_name):\n",
    "    with concurrent.futures.ThreadPoolExecutor() as executor:\n",
    "\n",
    "        # Process each chunk in parallel\n",
    "        executor.map(function_name, mouse_names)\n"
   ]
  },
  {
   "cell_type": "code",
   "execution_count": 7,
   "metadata": {},
   "outputs": [
    {
     "name": "stderr",
     "output_type": "stream",
     "text": [
      "/opt/anaconda3/envs/iblenv/lib/python3.10/site-packages/one/util.py:444: SettingWithCopyWarning: \n",
      "A value is trying to be set on a copy of a slice from a DataFrame.\n",
      "Try using .loc[row_indexer,col_indexer] = value instead\n",
      "\n",
      "See the caveats in the documentation: https://pandas.pydata.org/pandas-docs/stable/user_guide/indexing.html#returning-a-view-versus-a-copy\n",
      "  datasets['revision'] = [rel_path_parts(x)[1] or '' for x in datasets.rel_path]\n"
     ]
    }
   ],
   "source": [
    "# Loop through animals\n",
    "function_name = process_wheel_movements\n",
    "# function_name = process_quiescence_parallel\n",
    "# data_path =  '/Users/ineslaranjeira/Documents/Repositories/representation_learning_variability/DATA/Wheel/'\n",
    "# os.chdir(data_path)\n",
    "parallel_process_data(mouse_names, function_name)"
   ]
  }
 ],
 "metadata": {
  "kernelspec": {
   "display_name": "iblenv",
   "language": "python",
   "name": "python3"
  },
  "language_info": {
   "codemirror_mode": {
    "name": "ipython",
    "version": 3
   },
   "file_extension": ".py",
   "mimetype": "text/x-python",
   "name": "python",
   "nbconvert_exporter": "python",
   "pygments_lexer": "ipython3",
   "version": "3.10.12"
  }
 },
 "nbformat": 4,
 "nbformat_minor": 2
}
