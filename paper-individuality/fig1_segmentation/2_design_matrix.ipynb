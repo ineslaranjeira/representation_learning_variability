{
 "cells": [
  {
   "cell_type": "code",
   "execution_count": 1,
   "id": "c5cc3886",
   "metadata": {},
   "outputs": [],
   "source": [
    "import os\n",
    "import numpy as np\n",
    "import pickle\n",
    "import pandas as pd\n",
    "from scipy.stats import zscore\n",
    "from brainbox.io.one import SessionLoader\n",
    "from sklearn.preprocessing import StandardScaler\n",
    "import gc\n",
    "import concurrent.futures\n",
    "\n",
    "# from functions import get_speed, merge_licks, resample_common_time, interpolate_nans, fast_wavelet_morlet_convolution_parallel\n",
    "# from functions import merge_licks, resample_common_time, interpolate_nans, low_pass, fast_wavelet_morlet_convolution_parallel\n",
    "from functions import merge_licks, resample_common_time, interpolate_nans, low_pass\n",
    "from one.api import ONE\n",
    "one = ONE(mode='remote')\n"
   ]
  },
  {
   "cell_type": "code",
   "execution_count": 2,
   "id": "47406a6b",
   "metadata": {},
   "outputs": [],
   "source": [
    "\n",
    "\"\"\" PARAMETERS \"\"\"\n",
    "SAMPLING = {'left': 60,\n",
    "            'right': 150,\n",
    "            'body': 30}"
   ]
  },
  {
   "cell_type": "code",
   "execution_count": 3,
   "id": "9c55ec0d",
   "metadata": {},
   "outputs": [],
   "source": [
    "\"\"\" Load BWM data post-QC \"\"\"\n",
    "prefix = '/home/ines/repositories/'\n",
    "prefix = '/Users/ineslaranjeira/Documents/Repositories/'\n",
    "data_path = prefix + '/representation_learning_variability/paper-individuality/'\n",
    "filename = '1_bwm_qc_07-10-2025'\n",
    "\n",
    "\n",
    "\n",
    "data_path = prefix + 'representation_learning_variability/Video and wheel/Video QC/'\n",
    "filename = 'final_lp_qc07-10-2025'\n",
    "\n",
    "\n",
    "bwm_query = pickle.load(open(data_path+filename, \"rb\"))\n"
   ]
  },
  {
   "cell_type": "code",
   "execution_count": 11,
   "id": "fe859a79",
   "metadata": {},
   "outputs": [
    {
     "data": {
      "text/plain": [
       "191"
      ]
     },
     "execution_count": 11,
     "metadata": {},
     "output_type": "execute_result"
    }
   ],
   "source": [
    "# Loop through animals\n",
    "sessions = bwm_query['eid'].unique()\n",
    "data_path = prefix + 'representation_learning_variability/paper-individuality/data/design_matrices/'\n",
    "os.chdir(data_path)\n",
    "files = os.listdir()\n",
    "sessions_to_process = []\n",
    "\n",
    "for s, sess in enumerate(sessions):\n",
    "    file_path = one.eid2path(sess)\n",
    "\n",
    "    if prefix == '/home/ines/repositories/':\n",
    "        mouse_name = file_path.parts[8]\n",
    "    else:\n",
    "        mouse_name = file_path.parts[7]\n",
    "\n",
    "    filename = \"design_matrix_\" + str(sess) + '_'  + mouse_name\n",
    "    if filename not in files:\n",
    "        sessions_to_process.append((sess))\n",
    "\n",
    "len(sessions_to_process)\n"
   ]
  },
  {
   "cell_type": "code",
   "execution_count": 12,
   "id": "54e758e3",
   "metadata": {},
   "outputs": [],
   "source": [
    "def process_design_matrix(session):   \n",
    "\n",
    "    file_path = one.eid2path(session)\n",
    "    if prefix == '/home/ines/repositories/':\n",
    "        mouse_name = file_path.parts[8]\n",
    "    else:\n",
    "        mouse_name = file_path.parts[7]\n",
    "\n",
    "    \"\"\" LOAD VARIABLES \"\"\"\n",
    "    sl = SessionLoader(eid=session, one=one)\n",
    "    sl.load_pose(views=['left', 'right'], tracker='lightningPose')\n",
    "    sl.load_session_data(trials=True, wheel=True, motion_energy=True)\n",
    "\n",
    "    # Check if all data is available\n",
    "    if np.sum(sl.data_info['is_loaded']) >= 4:\n",
    "\n",
    "        # Poses\n",
    "        poses = sl.pose\n",
    "        lc_t = np.asarray(poses['leftCamera']['times'])\n",
    "        rc_t = np.asarray(poses['rightCamera']['times'])\n",
    "        # Motion energy\n",
    "        me = sl.motion_energy\n",
    "        mel_t = lc_t\n",
    "        mer_t = rc_t\n",
    "        motion_energy_l = interpolate_nans(me['leftCamera']['whiskerMotionEnergy'], 'left')\n",
    "        motion_energy_r = low_pass(interpolate_nans(me['rightCamera']['whiskerMotionEnergy'], 'right'), \n",
    "                                          cutoff=30, sf=SAMPLING['right'])\n",
    "        # Licks\n",
    "        features = ['tongue_end_l_x', 'tongue_end_l_y', 'tongue_end_r_x', 'tongue_end_r_y']\n",
    "        lick_t, licks = merge_licks(poses, features, common_fs=150)\n",
    "        # Paws\n",
    "        l_paw_x = interpolate_nans(poses['leftCamera']['paw_r_x'], 'left')\n",
    "        l_paw_y = interpolate_nans(poses['leftCamera']['paw_r_y'], 'left')\n",
    "        r_paw_x = low_pass(interpolate_nans(poses['rightCamera']['paw_r_x'], 'right'), \n",
    "                                          cutoff=30, sf=SAMPLING['right'])\n",
    "        r_paw_y = low_pass(interpolate_nans(poses['rightCamera']['paw_r_y'], 'right'), \n",
    "                                          cutoff=30, sf=SAMPLING['right'])\n",
    "        l_paw_t = lc_t\n",
    "        r_paw_t = rc_t\n",
    "        # Wheel\n",
    "        wheel = sl.wheel\n",
    "        wheel_t = np.asarray(wheel['times'], dtype=np.float64)\n",
    "        wheel_vel = wheel['velocity'].astype(np.float32)\n",
    "\n",
    "        # Common resampling window\n",
    "        onset = max(lc_t.min(), rc_t.min(), wheel_t.min(), lick_t.min())\n",
    "        offset = min(lc_t.max(), rc_t.max(), wheel_t.max(), lick_t.max())\n",
    "        fs = 60\n",
    "        ref_t = np.arange(onset, offset, 1 / fs, dtype=np.float64)\n",
    "\n",
    "        # Restrict to time window\n",
    "        def restrict(t, x):\n",
    "            mask = (t >= onset) & (t <= offset)\n",
    "            return t[mask], x[mask]\n",
    "\n",
    "        mel_t, motion_energy_l = restrict(mel_t, motion_energy_l)\n",
    "        mer_t, motion_energy_r = restrict(mer_t, motion_energy_r)\n",
    "        wheel_t, wheel_vel = restrict(wheel_t, wheel_vel)\n",
    "        l_paw_t_x, l_paw_x = restrict(l_paw_t, l_paw_x)\n",
    "        l_paw_t_y, l_paw_y = restrict(l_paw_t, l_paw_y)\n",
    "        r_paw_t_x, r_paw_x = restrict(r_paw_t, r_paw_x)\n",
    "        r_paw_t_y, r_paw_y = restrict(r_paw_t, r_paw_y)\n",
    "        lick_t, licks = restrict(lick_t, licks)\n",
    "\n",
    "        # Resample\n",
    "        mel_down, rt = resample_common_time(ref_t, mel_t, motion_energy_l, kind='linear')\n",
    "        mer_down, _ = resample_common_time(ref_t, mer_t, motion_energy_r, kind='linear')\n",
    "        wh_down, _ = resample_common_time(ref_t, wheel_t, wheel_vel, kind='linear')\n",
    "        lk_down, _ = resample_common_time(ref_t, lick_t, licks, kind='nearest')\n",
    "        lpx_down, _ = resample_common_time(ref_t, l_paw_t_x, l_paw_x, kind='linear')\n",
    "        lpy_down, _ = resample_common_time(ref_t, l_paw_t_y, l_paw_y, kind='linear')\n",
    "        rpx_down, _ = resample_common_time(ref_t, r_paw_t_x, r_paw_x, kind='linear')\n",
    "        rpy_down, _ = resample_common_time(ref_t, r_paw_t_y, r_paw_y, kind='linear')\n",
    "\n",
    "        # Create design matrix\n",
    "        design_matrix = pd.DataFrame({\n",
    "            'Bin': rt,\n",
    "            'Lick count': lk_down.astype(np.int8),\n",
    "            'avg_wheel_vel': wh_down,\n",
    "            'whisker_me': mel_down,  # zscore(mel_down, nan_policy='omit'),\n",
    "            'avg_whisker_me': np.nanmean([mel_down, mer_down], axis=0),  # zscore(np.nanmean([mel_down, mer_down], axis=0), nan_policy='omit'),\n",
    "            'l_paw_x': lpx_down,\n",
    "            'l_paw_y': lpy_down,\n",
    "            'r_paw_x': rpx_down,\n",
    "            'r_paw_y': rpy_down,\n",
    "        })\n",
    "\n",
    "        # \"\"\" LOAD TRIAL DATA \"\"\"\n",
    "        session_trials = sl.trials\n",
    "        session_start = list(session_trials['goCueTrigger_times'])[0]\n",
    "        design_matrix = design_matrix.loc[(design_matrix['Bin'] > session_start)]\n",
    "\n",
    "        \"\"\" SAVE DATA \"\"\"       \n",
    "        # Save unnormalized design matrix\n",
    "        data_path = prefix + 'representation_learning_variability/paper-individuality/data/design_matrices/'\n",
    "        filename = data_path + \"design_matrix_\" + str(session) + '_'  + mouse_name\n",
    "        design_matrix.to_parquet(filename, compression='gzip')  \n",
    "\n",
    "        # Save trials\n",
    "        data_path = prefix + 'representation_learning_variability/paper-individuality/data/design_matrices/'\n",
    "        filename = data_path + \"session_trials_\" + str(session) + '_'  + mouse_name\n",
    "        session_trials.to_parquet(filename, compression='gzip')  \n",
    "        \n",
    "        del design_matrix, session_trials, sl\n",
    "        gc.collect()\n",
    "\n",
    "    else:\n",
    "        print('Data missing for session '+session)  \n",
    "\n",
    "\n",
    "def parallel_process_data(sessions, function_name):\n",
    "    with concurrent.futures.ThreadPoolExecutor() as executor:\n",
    "\n",
    "        # Process each chunk in parallel\n",
    "        executor.map(function_name, sessions)"
   ]
  },
  {
   "cell_type": "code",
   "execution_count": 13,
   "id": "eed85619",
   "metadata": {},
   "outputs": [
    {
     "name": "stderr",
     "output_type": "stream",
     "text": [
      "local file size mismatch on dataset: angelakilab/Subjects/NYU-65/2022-09-15/001/alf/_ibl_leftCamera.lightningPose.pqt\n",
      "(S3) /Users/ineslaranjeira/Downloads/FlatIron/angelakilab/Subjects/NYU-65/2022-09-15/001/alf/_ibl_leftCamera.lightningPose.pqt: 100%|██████████| 207M/207M [00:20<00:00, 10.3MB/s] \n",
      "(S3) /Users/ineslaranjeira/Downloads/FlatIron/angelakilab/Subjects/NYU-65/2022-09-15/001/alf/_ibl_rightCamera.lightningPose.pqt: 100%|██████████| 498M/498M [00:52<00:00, 9.51MB/s] \n"
     ]
    },
    {
     "name": "stdout",
     "output_type": "stream",
     "text": [
      "\u001b[36m2025-09-09 16:21:35 INFO     one.py:1288 Loading trials data\u001b[0m\n"
     ]
    },
    {
     "name": "stderr",
     "output_type": "stream",
     "text": [
      "/opt/anaconda3/envs/iblenv/lib/python3.10/site-packages/one/util.py:428: ALFWarning: Multiple revisions: \"\", \"2025-03-03\"\n",
      "  warnings.warn(f'Multiple revisions: {rev_list}', alferr.ALFWarning)\n"
     ]
    },
    {
     "name": "stdout",
     "output_type": "stream",
     "text": [
      "\u001b[36m2025-09-09 16:21:36 INFO     one.py:1288 Loading wheel data\u001b[0m\n",
      "\u001b[36m2025-09-09 16:21:38 INFO     one.py:1288 Loading motion_energy data\u001b[0m\n"
     ]
    },
    {
     "name": "stderr",
     "output_type": "stream",
     "text": [
      "/opt/anaconda3/envs/iblenv/lib/python3.10/site-packages/one/util.py:428: ALFWarning: Multiple revisions: \"\", \"2025-05-31\"\n",
      "  warnings.warn(f'Multiple revisions: {rev_list}', alferr.ALFWarning)\n",
      "/opt/anaconda3/envs/iblenv/lib/python3.10/site-packages/one/util.py:428: ALFWarning: Multiple revisions: \"\", \"2025-06-01\"\n",
      "  warnings.warn(f'Multiple revisions: {rev_list}', alferr.ALFWarning)\n",
      "/opt/anaconda3/envs/iblenv/lib/python3.10/site-packages/one/util.py:428: ALFWarning: Multiple revisions: \"\", \"2025-06-02\"\n",
      "  warnings.warn(f'Multiple revisions: {rev_list}', alferr.ALFWarning)\n"
     ]
    },
    {
     "name": "stdout",
     "output_type": "stream",
     "text": [
      "\u001b[36m2025-09-09 16:21:39 INFO     one.py:1288 Loading pupil data\u001b[0m\n"
     ]
    },
    {
     "name": "stderr",
     "output_type": "stream",
     "text": [
      "/opt/anaconda3/envs/iblenv/lib/python3.10/site-packages/one/util.py:428: ALFWarning: Multiple revisions: \"2025-06-18\", \"\"\n",
      "  warnings.warn(f'Multiple revisions: {rev_list}', alferr.ALFWarning)\n",
      "local file size mismatch on dataset: angelakilab/Subjects/NYU-65/2022-09-16/001/alf/_ibl_leftCamera.lightningPose.pqt\n",
      "(S3) /Users/ineslaranjeira/Downloads/FlatIron/angelakilab/Subjects/NYU-65/2022-09-16/001/alf/_ibl_leftCamera.lightningPose.pqt: 100%|██████████| 176M/176M [00:20<00:00, 8.65MB/s] \n",
      "(S3) /Users/ineslaranjeira/Downloads/FlatIron/angelakilab/Subjects/NYU-65/2022-09-16/001/alf/_ibl_rightCamera.lightningPose.pqt: 100%|██████████| 410M/410M [00:34<00:00, 11.9MB/s] \n"
     ]
    },
    {
     "name": "stdout",
     "output_type": "stream",
     "text": [
      "\u001b[36m2025-09-09 16:22:44 INFO     one.py:1288 Loading trials data\u001b[0m\n"
     ]
    },
    {
     "name": "stderr",
     "output_type": "stream",
     "text": [
      "/opt/anaconda3/envs/iblenv/lib/python3.10/site-packages/one/util.py:428: ALFWarning: Multiple revisions: \"\", \"2025-03-03\"\n",
      "  warnings.warn(f'Multiple revisions: {rev_list}', alferr.ALFWarning)\n"
     ]
    },
    {
     "name": "stdout",
     "output_type": "stream",
     "text": [
      "\u001b[36m2025-09-09 16:22:45 INFO     one.py:1288 Loading wheel data\u001b[0m\n",
      "\u001b[36m2025-09-09 16:22:46 INFO     one.py:1288 Loading motion_energy data\u001b[0m\n"
     ]
    },
    {
     "name": "stderr",
     "output_type": "stream",
     "text": [
      "/opt/anaconda3/envs/iblenv/lib/python3.10/site-packages/one/util.py:428: ALFWarning: Multiple revisions: \"\", \"2025-05-31\"\n",
      "  warnings.warn(f'Multiple revisions: {rev_list}', alferr.ALFWarning)\n",
      "/opt/anaconda3/envs/iblenv/lib/python3.10/site-packages/one/util.py:428: ALFWarning: Multiple revisions: \"\", \"2025-06-01\"\n",
      "  warnings.warn(f'Multiple revisions: {rev_list}', alferr.ALFWarning)\n",
      "/opt/anaconda3/envs/iblenv/lib/python3.10/site-packages/one/util.py:428: ALFWarning: Multiple revisions: \"\", \"2025-06-02\"\n",
      "  warnings.warn(f'Multiple revisions: {rev_list}', alferr.ALFWarning)\n"
     ]
    },
    {
     "name": "stdout",
     "output_type": "stream",
     "text": [
      "\u001b[36m2025-09-09 16:22:47 INFO     one.py:1288 Loading pupil data\u001b[0m\n"
     ]
    },
    {
     "name": "stderr",
     "output_type": "stream",
     "text": [
      "/opt/anaconda3/envs/iblenv/lib/python3.10/site-packages/one/util.py:428: ALFWarning: Multiple revisions: \"2025-06-18\", \"\"\n",
      "  warnings.warn(f'Multiple revisions: {rev_list}', alferr.ALFWarning)\n",
      "/opt/anaconda3/envs/iblenv/lib/python3.10/site-packages/one/util.py:428: ALFWarning: Multiple revisions: \"\", \"2023-04-20\"\n",
      "  warnings.warn(f'Multiple revisions: {rev_list}', alferr.ALFWarning)\n",
      "/opt/anaconda3/envs/iblenv/lib/python3.10/site-packages/one/util.py:428: ALFWarning: Multiple revisions: \"\", \"2023-04-20\"\n",
      "  warnings.warn(f'Multiple revisions: {rev_list}', alferr.ALFWarning)\n",
      "(S3) /Users/ineslaranjeira/Downloads/FlatIron/churchlandlab_ucla/Subjects/UCLA005/2021-08-02/001/alf/_ibl_rightCamera.lightningPose.pqt: 100%|██████████| 323M/323M [00:27<00:00, 11.9MB/s] \n"
     ]
    },
    {
     "name": "stdout",
     "output_type": "stream",
     "text": [
      "\u001b[36m2025-09-09 16:23:23 INFO     one.py:1288 Loading trials data\u001b[0m\n"
     ]
    },
    {
     "name": "stderr",
     "output_type": "stream",
     "text": [
      "/opt/anaconda3/envs/iblenv/lib/python3.10/site-packages/one/util.py:428: ALFWarning: Multiple revisions: \"\", \"2025-03-03\"\n",
      "  warnings.warn(f'Multiple revisions: {rev_list}', alferr.ALFWarning)\n"
     ]
    },
    {
     "name": "stdout",
     "output_type": "stream",
     "text": [
      "\u001b[36m2025-09-09 16:23:24 INFO     one.py:1288 Loading wheel data\u001b[0m\n",
      "\u001b[36m2025-09-09 16:23:25 INFO     one.py:1288 Loading motion_energy data\u001b[0m\n"
     ]
    },
    {
     "name": "stderr",
     "output_type": "stream",
     "text": [
      "/opt/anaconda3/envs/iblenv/lib/python3.10/site-packages/one/util.py:428: ALFWarning: Multiple revisions: \"2023-04-20\", \"2025-05-29\"\n",
      "  warnings.warn(f'Multiple revisions: {rev_list}', alferr.ALFWarning)\n",
      "/opt/anaconda3/envs/iblenv/lib/python3.10/site-packages/one/util.py:428: ALFWarning: Multiple revisions: \"2023-04-20\", \"2025-05-31\"\n",
      "  warnings.warn(f'Multiple revisions: {rev_list}', alferr.ALFWarning)\n"
     ]
    },
    {
     "name": "stdout",
     "output_type": "stream",
     "text": [
      "\u001b[36m2025-09-09 16:23:25 INFO     one.py:1288 Loading pupil data\u001b[0m\n"
     ]
    },
    {
     "name": "stderr",
     "output_type": "stream",
     "text": [
      "/opt/anaconda3/envs/iblenv/lib/python3.10/site-packages/one/util.py:428: ALFWarning: Multiple revisions: \"2025-06-04\", \"2023-04-20\"\n",
      "  warnings.warn(f'Multiple revisions: {rev_list}', alferr.ALFWarning)\n",
      "/opt/anaconda3/envs/iblenv/lib/python3.10/site-packages/one/util.py:428: ALFWarning: Multiple revisions: \"\", \"2023-04-20\"\n",
      "  warnings.warn(f'Multiple revisions: {rev_list}', alferr.ALFWarning)\n",
      "/opt/anaconda3/envs/iblenv/lib/python3.10/site-packages/one/util.py:428: ALFWarning: Multiple revisions: \"\", \"2023-04-20\"\n",
      "  warnings.warn(f'Multiple revisions: {rev_list}', alferr.ALFWarning)\n",
      "(S3) /Users/ineslaranjeira/Downloads/FlatIron/churchlandlab_ucla/Subjects/UCLA006/2021-12-08/001/alf/_ibl_rightCamera.lightningPose.pqt: 100%|██████████| 342M/342M [00:30<00:00, 11.2MB/s] \n"
     ]
    },
    {
     "name": "stdout",
     "output_type": "stream",
     "text": [
      "\u001b[36m2025-09-09 16:24:03 INFO     one.py:1288 Loading trials data\u001b[0m\n"
     ]
    },
    {
     "name": "stderr",
     "output_type": "stream",
     "text": [
      "/opt/anaconda3/envs/iblenv/lib/python3.10/site-packages/one/util.py:428: ALFWarning: Multiple revisions: \"\", \"2025-03-03\"\n",
      "  warnings.warn(f'Multiple revisions: {rev_list}', alferr.ALFWarning)\n"
     ]
    },
    {
     "name": "stdout",
     "output_type": "stream",
     "text": [
      "\u001b[36m2025-09-09 16:24:04 INFO     one.py:1288 Loading wheel data\u001b[0m\n",
      "\u001b[36m2025-09-09 16:24:05 INFO     one.py:1288 Loading motion_energy data\u001b[0m\n"
     ]
    },
    {
     "name": "stderr",
     "output_type": "stream",
     "text": [
      "/opt/anaconda3/envs/iblenv/lib/python3.10/site-packages/one/util.py:428: ALFWarning: Multiple revisions: \"2023-04-20\", \"2025-05-29\"\n",
      "  warnings.warn(f'Multiple revisions: {rev_list}', alferr.ALFWarning)\n",
      "/opt/anaconda3/envs/iblenv/lib/python3.10/site-packages/one/util.py:428: ALFWarning: Multiple revisions: \"2023-04-20\", \"2025-05-31\"\n",
      "  warnings.warn(f'Multiple revisions: {rev_list}', alferr.ALFWarning)\n"
     ]
    },
    {
     "name": "stdout",
     "output_type": "stream",
     "text": [
      "\u001b[36m2025-09-09 16:24:06 INFO     one.py:1288 Loading pupil data\u001b[0m\n"
     ]
    },
    {
     "name": "stderr",
     "output_type": "stream",
     "text": [
      "/opt/anaconda3/envs/iblenv/lib/python3.10/site-packages/one/util.py:428: ALFWarning: Multiple revisions: \"2025-06-04\", \"2023-04-20\"\n",
      "  warnings.warn(f'Multiple revisions: {rev_list}', alferr.ALFWarning)\n"
     ]
    },
    {
     "name": "stdout",
     "output_type": "stream",
     "text": [
      "\u001b[1;33m2025-09-09 16:24:06 WARNING  one.py:1292 Could not load pupil data.\u001b[0m\n"
     ]
    },
    {
     "name": "stderr",
     "output_type": "stream",
     "text": [
      "/opt/anaconda3/envs/iblenv/lib/python3.10/site-packages/one/util.py:428: ALFWarning: Multiple revisions: \"2025-05-29\", \"2023-04-20\"\n",
      "  warnings.warn(f'Multiple revisions: {rev_list}', alferr.ALFWarning)\n",
      "/opt/anaconda3/envs/iblenv/lib/python3.10/site-packages/one/util.py:428: ALFWarning: Multiple revisions: \"\", \"2023-04-20\"\n",
      "  warnings.warn(f'Multiple revisions: {rev_list}', alferr.ALFWarning)\n",
      "(S3) /Users/ineslaranjeira/Downloads/FlatIron/churchlandlab_ucla/Subjects/UCLA011/2021-07-20/001/alf/_ibl_rightCamera.lightningPose.pqt: 100%|██████████| 309M/309M [00:33<00:00, 9.22MB/s] \n"
     ]
    },
    {
     "name": "stdout",
     "output_type": "stream",
     "text": [
      "\u001b[36m2025-09-09 16:24:47 INFO     one.py:1288 Loading trials data\u001b[0m\n"
     ]
    },
    {
     "name": "stderr",
     "output_type": "stream",
     "text": [
      "/opt/anaconda3/envs/iblenv/lib/python3.10/site-packages/one/util.py:428: ALFWarning: Multiple revisions: \"\", \"2025-03-03\"\n",
      "  warnings.warn(f'Multiple revisions: {rev_list}', alferr.ALFWarning)\n"
     ]
    },
    {
     "name": "stdout",
     "output_type": "stream",
     "text": [
      "\u001b[36m2025-09-09 16:24:48 INFO     one.py:1288 Loading wheel data\u001b[0m\n",
      "\u001b[36m2025-09-09 16:24:49 INFO     one.py:1288 Loading motion_energy data\u001b[0m\n"
     ]
    },
    {
     "name": "stderr",
     "output_type": "stream",
     "text": [
      "/opt/anaconda3/envs/iblenv/lib/python3.10/site-packages/one/util.py:428: ALFWarning: Multiple revisions: \"2023-04-20\", \"2025-05-29\"\n",
      "  warnings.warn(f'Multiple revisions: {rev_list}', alferr.ALFWarning)\n",
      "/opt/anaconda3/envs/iblenv/lib/python3.10/site-packages/one/util.py:428: ALFWarning: Multiple revisions: \"2023-04-20\", \"2025-05-31\"\n",
      "  warnings.warn(f'Multiple revisions: {rev_list}', alferr.ALFWarning)\n"
     ]
    },
    {
     "name": "stdout",
     "output_type": "stream",
     "text": [
      "\u001b[36m2025-09-09 16:24:50 INFO     one.py:1288 Loading pupil data\u001b[0m\n"
     ]
    },
    {
     "name": "stderr",
     "output_type": "stream",
     "text": [
      "/opt/anaconda3/envs/iblenv/lib/python3.10/site-packages/one/util.py:428: ALFWarning: Multiple revisions: \"2025-06-20\", \"2023-04-20\"\n",
      "  warnings.warn(f'Multiple revisions: {rev_list}', alferr.ALFWarning)\n"
     ]
    },
    {
     "name": "stdout",
     "output_type": "stream",
     "text": [
      "\u001b[1;33m2025-09-09 16:24:50 WARNING  one.py:1292 Could not load pupil data.\u001b[0m\n"
     ]
    },
    {
     "name": "stderr",
     "output_type": "stream",
     "text": [
      "/opt/anaconda3/envs/iblenv/lib/python3.10/site-packages/one/util.py:428: ALFWarning: Multiple revisions: \"\", \"2023-04-20\"\n",
      "  warnings.warn(f'Multiple revisions: {rev_list}', alferr.ALFWarning)\n",
      "/opt/anaconda3/envs/iblenv/lib/python3.10/site-packages/one/util.py:428: ALFWarning: Multiple revisions: \"\", \"2023-04-20\"\n",
      "  warnings.warn(f'Multiple revisions: {rev_list}', alferr.ALFWarning)\n",
      "(S3) /Users/ineslaranjeira/Downloads/FlatIron/churchlandlab_ucla/Subjects/UCLA012/2021-07-07/002/alf/_ibl_rightCamera.lightningPose.pqt: 100%|██████████| 345M/345M [00:59<00:00, 5.75MB/s] \n"
     ]
    },
    {
     "name": "stdout",
     "output_type": "stream",
     "text": [
      "\u001b[36m2025-09-09 16:25:58 INFO     one.py:1288 Loading trials data\u001b[0m\n"
     ]
    },
    {
     "name": "stderr",
     "output_type": "stream",
     "text": [
      "/opt/anaconda3/envs/iblenv/lib/python3.10/site-packages/one/util.py:428: ALFWarning: Multiple revisions: \"\", \"2025-03-03\"\n",
      "  warnings.warn(f'Multiple revisions: {rev_list}', alferr.ALFWarning)\n"
     ]
    },
    {
     "name": "stdout",
     "output_type": "stream",
     "text": [
      "\u001b[36m2025-09-09 16:25:59 INFO     one.py:1288 Loading wheel data\u001b[0m\n",
      "\u001b[36m2025-09-09 16:26:00 INFO     one.py:1288 Loading motion_energy data\u001b[0m\n"
     ]
    },
    {
     "name": "stderr",
     "output_type": "stream",
     "text": [
      "/opt/anaconda3/envs/iblenv/lib/python3.10/site-packages/one/util.py:428: ALFWarning: Multiple revisions: \"2023-04-20\", \"2025-05-31\"\n",
      "  warnings.warn(f'Multiple revisions: {rev_list}', alferr.ALFWarning)\n",
      "/opt/anaconda3/envs/iblenv/lib/python3.10/site-packages/one/util.py:428: ALFWarning: Multiple revisions: \"2023-04-20\", \"2025-06-01\"\n",
      "  warnings.warn(f'Multiple revisions: {rev_list}', alferr.ALFWarning)\n"
     ]
    },
    {
     "name": "stdout",
     "output_type": "stream",
     "text": [
      "\u001b[36m2025-09-09 16:26:00 INFO     one.py:1288 Loading pupil data\u001b[0m\n"
     ]
    },
    {
     "name": "stderr",
     "output_type": "stream",
     "text": [
      "/opt/anaconda3/envs/iblenv/lib/python3.10/site-packages/one/util.py:428: ALFWarning: Multiple revisions: \"2025-06-04\", \"2023-04-20\"\n",
      "  warnings.warn(f'Multiple revisions: {rev_list}', alferr.ALFWarning)\n",
      "/opt/anaconda3/envs/iblenv/lib/python3.10/site-packages/one/util.py:428: ALFWarning: Multiple revisions: \"\", \"2023-04-20\"\n",
      "  warnings.warn(f'Multiple revisions: {rev_list}', alferr.ALFWarning)\n",
      "/opt/anaconda3/envs/iblenv/lib/python3.10/site-packages/one/util.py:428: ALFWarning: Multiple revisions: \"\", \"2023-04-20\"\n",
      "  warnings.warn(f'Multiple revisions: {rev_list}', alferr.ALFWarning)\n",
      "(S3) /Users/ineslaranjeira/Downloads/FlatIron/churchlandlab_ucla/Subjects/UCLA014/2021-08-18/001/alf/_ibl_rightCamera.lightningPose.pqt: 100%|██████████| 346M/346M [00:29<00:00, 11.8MB/s] \n"
     ]
    },
    {
     "name": "stdout",
     "output_type": "stream",
     "text": [
      "\u001b[36m2025-09-09 16:26:38 INFO     one.py:1288 Loading trials data\u001b[0m\n"
     ]
    },
    {
     "name": "stderr",
     "output_type": "stream",
     "text": [
      "/opt/anaconda3/envs/iblenv/lib/python3.10/site-packages/one/util.py:428: ALFWarning: Multiple revisions: \"\", \"2025-03-03\"\n",
      "  warnings.warn(f'Multiple revisions: {rev_list}', alferr.ALFWarning)\n"
     ]
    },
    {
     "name": "stdout",
     "output_type": "stream",
     "text": [
      "\u001b[36m2025-09-09 16:26:39 INFO     one.py:1288 Loading wheel data\u001b[0m\n",
      "\u001b[36m2025-09-09 16:26:40 INFO     one.py:1288 Loading motion_energy data\u001b[0m\n"
     ]
    },
    {
     "name": "stderr",
     "output_type": "stream",
     "text": [
      "/opt/anaconda3/envs/iblenv/lib/python3.10/site-packages/one/util.py:428: ALFWarning: Multiple revisions: \"2023-04-20\", \"2025-05-31\"\n",
      "  warnings.warn(f'Multiple revisions: {rev_list}', alferr.ALFWarning)\n",
      "/opt/anaconda3/envs/iblenv/lib/python3.10/site-packages/one/util.py:428: ALFWarning: Multiple revisions: \"2023-04-20\", \"2025-06-01\"\n",
      "  warnings.warn(f'Multiple revisions: {rev_list}', alferr.ALFWarning)\n"
     ]
    },
    {
     "name": "stdout",
     "output_type": "stream",
     "text": [
      "\u001b[36m2025-09-09 16:26:41 INFO     one.py:1288 Loading pupil data\u001b[0m\n"
     ]
    },
    {
     "name": "stderr",
     "output_type": "stream",
     "text": [
      "/opt/anaconda3/envs/iblenv/lib/python3.10/site-packages/one/util.py:428: ALFWarning: Multiple revisions: \"2025-06-04\", \"2023-04-20\"\n",
      "  warnings.warn(f'Multiple revisions: {rev_list}', alferr.ALFWarning)\n"
     ]
    },
    {
     "name": "stdout",
     "output_type": "stream",
     "text": [
      "\u001b[1;33m2025-09-09 16:26:41 WARNING  one.py:1292 Could not load pupil data.\u001b[0m\n"
     ]
    },
    {
     "name": "stderr",
     "output_type": "stream",
     "text": [
      "/opt/anaconda3/envs/iblenv/lib/python3.10/site-packages/one/util.py:428: ALFWarning: Multiple revisions: \"\", \"2023-04-20\"\n",
      "  warnings.warn(f'Multiple revisions: {rev_list}', alferr.ALFWarning)\n",
      "/opt/anaconda3/envs/iblenv/lib/python3.10/site-packages/one/util.py:428: ALFWarning: Multiple revisions: \"\", \"2023-04-20\"\n",
      "  warnings.warn(f'Multiple revisions: {rev_list}', alferr.ALFWarning)\n",
      "(S3) /Users/ineslaranjeira/Downloads/FlatIron/churchlandlab_ucla/Subjects/UCLA017/2021-11-16/002/alf/_ibl_rightCamera.lightningPose.pqt: 100%|██████████| 445M/445M [00:48<00:00, 9.19MB/s] \n"
     ]
    },
    {
     "name": "stdout",
     "output_type": "stream",
     "text": [
      "\u001b[36m2025-09-09 16:27:37 INFO     one.py:1288 Loading trials data\u001b[0m\n"
     ]
    },
    {
     "name": "stderr",
     "output_type": "stream",
     "text": [
      "/opt/anaconda3/envs/iblenv/lib/python3.10/site-packages/one/util.py:428: ALFWarning: Multiple revisions: \"\", \"2025-03-03\"\n",
      "  warnings.warn(f'Multiple revisions: {rev_list}', alferr.ALFWarning)\n"
     ]
    },
    {
     "name": "stdout",
     "output_type": "stream",
     "text": [
      "\u001b[36m2025-09-09 16:27:38 INFO     one.py:1288 Loading wheel data\u001b[0m\n",
      "\u001b[36m2025-09-09 16:27:40 INFO     one.py:1288 Loading motion_energy data\u001b[0m\n"
     ]
    },
    {
     "name": "stderr",
     "output_type": "stream",
     "text": [
      "/opt/anaconda3/envs/iblenv/lib/python3.10/site-packages/one/util.py:428: ALFWarning: Multiple revisions: \"2023-04-20\", \"2025-05-29\"\n",
      "  warnings.warn(f'Multiple revisions: {rev_list}', alferr.ALFWarning)\n",
      "/opt/anaconda3/envs/iblenv/lib/python3.10/site-packages/one/util.py:428: ALFWarning: Multiple revisions: \"2023-04-20\", \"2025-05-31\"\n",
      "  warnings.warn(f'Multiple revisions: {rev_list}', alferr.ALFWarning)\n"
     ]
    },
    {
     "name": "stdout",
     "output_type": "stream",
     "text": [
      "\u001b[36m2025-09-09 16:27:40 INFO     one.py:1288 Loading pupil data\u001b[0m\n"
     ]
    },
    {
     "name": "stderr",
     "output_type": "stream",
     "text": [
      "/opt/anaconda3/envs/iblenv/lib/python3.10/site-packages/one/util.py:428: ALFWarning: Multiple revisions: \"2025-06-04\", \"2023-04-20\"\n",
      "  warnings.warn(f'Multiple revisions: {rev_list}', alferr.ALFWarning)\n",
      "(S3) /Users/ineslaranjeira/Downloads/FlatIron/churchlandlab_ucla/Subjects/UCLA030/2022-05-03/001/alf/_ibl_rightCamera.lightningPose.pqt: 100%|██████████| 321M/321M [01:08<00:00, 4.69MB/s] \n"
     ]
    },
    {
     "name": "stdout",
     "output_type": "stream",
     "text": [
      "\u001b[36m2025-09-09 16:28:58 INFO     one.py:1288 Loading trials data\u001b[0m\n"
     ]
    },
    {
     "name": "stderr",
     "output_type": "stream",
     "text": [
      "/opt/anaconda3/envs/iblenv/lib/python3.10/site-packages/one/util.py:428: ALFWarning: Multiple revisions: \"\", \"2025-03-03\"\n",
      "  warnings.warn(f'Multiple revisions: {rev_list}', alferr.ALFWarning)\n"
     ]
    },
    {
     "name": "stdout",
     "output_type": "stream",
     "text": [
      "\u001b[36m2025-09-09 16:28:58 INFO     one.py:1288 Loading wheel data\u001b[0m\n",
      "\u001b[36m2025-09-09 16:28:59 INFO     one.py:1288 Loading motion_energy data\u001b[0m\n"
     ]
    },
    {
     "name": "stderr",
     "output_type": "stream",
     "text": [
      "/opt/anaconda3/envs/iblenv/lib/python3.10/site-packages/one/util.py:428: ALFWarning: Multiple revisions: \"\", \"2025-05-31\"\n",
      "  warnings.warn(f'Multiple revisions: {rev_list}', alferr.ALFWarning)\n",
      "/opt/anaconda3/envs/iblenv/lib/python3.10/site-packages/one/util.py:428: ALFWarning: Multiple revisions: \"\", \"2025-06-01\"\n",
      "  warnings.warn(f'Multiple revisions: {rev_list}', alferr.ALFWarning)\n"
     ]
    },
    {
     "name": "stdout",
     "output_type": "stream",
     "text": [
      "\u001b[36m2025-09-09 16:29:00 INFO     one.py:1288 Loading pupil data\u001b[0m\n"
     ]
    },
    {
     "name": "stderr",
     "output_type": "stream",
     "text": [
      "/opt/anaconda3/envs/iblenv/lib/python3.10/site-packages/one/util.py:428: ALFWarning: Multiple revisions: \"2025-06-05\", \"\"\n",
      "  warnings.warn(f'Multiple revisions: {rev_list}', alferr.ALFWarning)\n"
     ]
    },
    {
     "name": "stdout",
     "output_type": "stream",
     "text": [
      "\u001b[1;33m2025-09-09 16:29:01 WARNING  one.py:1292 Could not load pupil data.\u001b[0m\n"
     ]
    },
    {
     "name": "stderr",
     "output_type": "stream",
     "text": [
      "/opt/anaconda3/envs/iblenv/lib/python3.10/site-packages/one/util.py:428: ALFWarning: Multiple revisions: \"2025-05-29\", \"2023-04-20\"\n",
      "  warnings.warn(f'Multiple revisions: {rev_list}', alferr.ALFWarning)\n",
      "/opt/anaconda3/envs/iblenv/lib/python3.10/site-packages/one/util.py:428: ALFWarning: Multiple revisions: \"\", \"2023-04-20\"\n",
      "  warnings.warn(f'Multiple revisions: {rev_list}', alferr.ALFWarning)\n",
      "(S3) /Users/ineslaranjeira/Downloads/FlatIron/churchlandlab_ucla/Subjects/UCLA033/2022-02-15/001/alf/_ibl_rightCamera.lightningPose.pqt: 100%|██████████| 314M/314M [00:37<00:00, 8.35MB/s] \n"
     ]
    },
    {
     "name": "stdout",
     "output_type": "stream",
     "text": [
      "\u001b[36m2025-09-09 16:29:46 INFO     one.py:1288 Loading trials data\u001b[0m\n"
     ]
    },
    {
     "name": "stderr",
     "output_type": "stream",
     "text": [
      "/opt/anaconda3/envs/iblenv/lib/python3.10/site-packages/one/util.py:428: ALFWarning: Multiple revisions: \"\", \"2025-03-03\"\n",
      "  warnings.warn(f'Multiple revisions: {rev_list}', alferr.ALFWarning)\n"
     ]
    },
    {
     "name": "stdout",
     "output_type": "stream",
     "text": [
      "\u001b[36m2025-09-09 16:29:47 INFO     one.py:1288 Loading wheel data\u001b[0m\n",
      "\u001b[36m2025-09-09 16:29:48 INFO     one.py:1288 Loading motion_energy data\u001b[0m\n"
     ]
    },
    {
     "name": "stderr",
     "output_type": "stream",
     "text": [
      "/opt/anaconda3/envs/iblenv/lib/python3.10/site-packages/one/util.py:428: ALFWarning: Multiple revisions: \"2023-04-20\", \"2025-05-29\"\n",
      "  warnings.warn(f'Multiple revisions: {rev_list}', alferr.ALFWarning)\n",
      "/opt/anaconda3/envs/iblenv/lib/python3.10/site-packages/one/util.py:428: ALFWarning: Multiple revisions: \"2023-04-20\", \"2025-05-31\"\n",
      "  warnings.warn(f'Multiple revisions: {rev_list}', alferr.ALFWarning)\n"
     ]
    },
    {
     "name": "stdout",
     "output_type": "stream",
     "text": [
      "\u001b[36m2025-09-09 16:29:49 INFO     one.py:1288 Loading pupil data\u001b[0m\n"
     ]
    },
    {
     "name": "stderr",
     "output_type": "stream",
     "text": [
      "/opt/anaconda3/envs/iblenv/lib/python3.10/site-packages/one/util.py:428: ALFWarning: Multiple revisions: \"2025-06-20\", \"2023-04-20\"\n",
      "  warnings.warn(f'Multiple revisions: {rev_list}', alferr.ALFWarning)\n"
     ]
    },
    {
     "name": "stdout",
     "output_type": "stream",
     "text": [
      "\u001b[1;33m2025-09-09 16:29:50 WARNING  one.py:1292 Could not load pupil data.\u001b[0m\n"
     ]
    },
    {
     "name": "stderr",
     "output_type": "stream",
     "text": [
      "/opt/anaconda3/envs/iblenv/lib/python3.10/site-packages/one/util.py:428: ALFWarning: Multiple revisions: \"\", \"2023-04-20\"\n",
      "  warnings.warn(f'Multiple revisions: {rev_list}', alferr.ALFWarning)\n",
      "/opt/anaconda3/envs/iblenv/lib/python3.10/site-packages/one/util.py:428: ALFWarning: Multiple revisions: \"\", \"2023-04-20\"\n",
      "  warnings.warn(f'Multiple revisions: {rev_list}', alferr.ALFWarning)\n",
      "(S3) /Users/ineslaranjeira/Downloads/FlatIron/churchlandlab_ucla/Subjects/UCLA033/2022-02-17/001/alf/_ibl_rightCamera.lightningPose.pqt: 100%|██████████| 310M/310M [00:36<00:00, 8.50MB/s] \n"
     ]
    },
    {
     "name": "stdout",
     "output_type": "stream",
     "text": [
      "\u001b[36m2025-09-09 16:30:33 INFO     one.py:1288 Loading trials data\u001b[0m\n"
     ]
    },
    {
     "name": "stderr",
     "output_type": "stream",
     "text": [
      "/opt/anaconda3/envs/iblenv/lib/python3.10/site-packages/one/util.py:428: ALFWarning: Multiple revisions: \"\", \"2025-03-03\"\n",
      "  warnings.warn(f'Multiple revisions: {rev_list}', alferr.ALFWarning)\n"
     ]
    },
    {
     "name": "stdout",
     "output_type": "stream",
     "text": [
      "\u001b[36m2025-09-09 16:30:34 INFO     one.py:1288 Loading wheel data\u001b[0m\n",
      "\u001b[36m2025-09-09 16:30:35 INFO     one.py:1288 Loading motion_energy data\u001b[0m\n"
     ]
    },
    {
     "name": "stderr",
     "output_type": "stream",
     "text": [
      "/opt/anaconda3/envs/iblenv/lib/python3.10/site-packages/one/util.py:428: ALFWarning: Multiple revisions: \"2023-04-20\", \"2025-05-29\"\n",
      "  warnings.warn(f'Multiple revisions: {rev_list}', alferr.ALFWarning)\n",
      "/opt/anaconda3/envs/iblenv/lib/python3.10/site-packages/one/util.py:428: ALFWarning: Multiple revisions: \"2023-04-20\", \"2025-05-31\"\n",
      "  warnings.warn(f'Multiple revisions: {rev_list}', alferr.ALFWarning)\n"
     ]
    },
    {
     "name": "stdout",
     "output_type": "stream",
     "text": [
      "\u001b[36m2025-09-09 16:30:36 INFO     one.py:1288 Loading pupil data\u001b[0m\n"
     ]
    },
    {
     "name": "stderr",
     "output_type": "stream",
     "text": [
      "/opt/anaconda3/envs/iblenv/lib/python3.10/site-packages/one/util.py:428: ALFWarning: Multiple revisions: \"2025-06-18\", \"2023-04-20\"\n",
      "  warnings.warn(f'Multiple revisions: {rev_list}', alferr.ALFWarning)\n"
     ]
    },
    {
     "name": "stdout",
     "output_type": "stream",
     "text": [
      "\u001b[1;33m2025-09-09 16:30:37 WARNING  one.py:1292 Could not load pupil data.\u001b[0m\n"
     ]
    },
    {
     "name": "stderr",
     "output_type": "stream",
     "text": [
      "/opt/anaconda3/envs/iblenv/lib/python3.10/site-packages/one/util.py:428: ALFWarning: Multiple revisions: \"\", \"2023-04-20\"\n",
      "  warnings.warn(f'Multiple revisions: {rev_list}', alferr.ALFWarning)\n",
      "/opt/anaconda3/envs/iblenv/lib/python3.10/site-packages/one/util.py:428: ALFWarning: Multiple revisions: \"\", \"2023-04-20\"\n",
      "  warnings.warn(f'Multiple revisions: {rev_list}', alferr.ALFWarning)\n"
     ]
    },
    {
     "name": "stdout",
     "output_type": "stream",
     "text": [
      "\u001b[36m2025-09-09 16:30:44 INFO     one.py:1288 Loading trials data\u001b[0m\n"
     ]
    },
    {
     "name": "stderr",
     "output_type": "stream",
     "text": [
      "/opt/anaconda3/envs/iblenv/lib/python3.10/site-packages/one/util.py:428: ALFWarning: Multiple revisions: \"\", \"2025-03-03\"\n",
      "  warnings.warn(f'Multiple revisions: {rev_list}', alferr.ALFWarning)\n"
     ]
    },
    {
     "name": "stdout",
     "output_type": "stream",
     "text": [
      "\u001b[36m2025-09-09 16:30:45 INFO     one.py:1288 Loading wheel data\u001b[0m\n",
      "\u001b[36m2025-09-09 16:30:46 INFO     one.py:1288 Loading motion_energy data\u001b[0m\n"
     ]
    },
    {
     "name": "stderr",
     "output_type": "stream",
     "text": [
      "/opt/anaconda3/envs/iblenv/lib/python3.10/site-packages/one/util.py:428: ALFWarning: Multiple revisions: \"2023-04-20\", \"2025-05-29\"\n",
      "  warnings.warn(f'Multiple revisions: {rev_list}', alferr.ALFWarning)\n",
      "/opt/anaconda3/envs/iblenv/lib/python3.10/site-packages/one/util.py:428: ALFWarning: Multiple revisions: \"2023-04-20\", \"2025-05-31\"\n",
      "  warnings.warn(f'Multiple revisions: {rev_list}', alferr.ALFWarning)\n"
     ]
    },
    {
     "name": "stdout",
     "output_type": "stream",
     "text": [
      "\u001b[36m2025-09-09 16:30:47 INFO     one.py:1288 Loading pupil data\u001b[0m\n"
     ]
    },
    {
     "name": "stderr",
     "output_type": "stream",
     "text": [
      "/opt/anaconda3/envs/iblenv/lib/python3.10/site-packages/one/util.py:428: ALFWarning: Multiple revisions: \"2025-06-18\", \"2023-04-20\"\n",
      "  warnings.warn(f'Multiple revisions: {rev_list}', alferr.ALFWarning)\n"
     ]
    },
    {
     "name": "stdout",
     "output_type": "stream",
     "text": [
      "\u001b[1;33m2025-09-09 16:30:47 WARNING  one.py:1292 Could not load pupil data.\u001b[0m\n"
     ]
    },
    {
     "name": "stderr",
     "output_type": "stream",
     "text": [
      "/opt/anaconda3/envs/iblenv/lib/python3.10/site-packages/one/util.py:428: ALFWarning: Multiple revisions: \"2025-05-29\", \"2023-04-20\"\n",
      "  warnings.warn(f'Multiple revisions: {rev_list}', alferr.ALFWarning)\n",
      "/opt/anaconda3/envs/iblenv/lib/python3.10/site-packages/one/util.py:428: ALFWarning: Multiple revisions: \"\", \"2023-04-20\"\n",
      "  warnings.warn(f'Multiple revisions: {rev_list}', alferr.ALFWarning)\n",
      "(S3) /Users/ineslaranjeira/Downloads/FlatIron/churchlandlab_ucla/Subjects/UCLA034/2022-01-25/001/alf/_ibl_rightCamera.lightningPose.pqt: 100%|██████████| 642M/642M [00:52<00:00, 12.2MB/s] \n"
     ]
    },
    {
     "name": "stdout",
     "output_type": "stream",
     "text": [
      "\u001b[36m2025-09-09 16:31:50 INFO     one.py:1288 Loading trials data\u001b[0m\n"
     ]
    },
    {
     "name": "stderr",
     "output_type": "stream",
     "text": [
      "/opt/anaconda3/envs/iblenv/lib/python3.10/site-packages/one/util.py:428: ALFWarning: Multiple revisions: \"\", \"2025-03-03\"\n",
      "  warnings.warn(f'Multiple revisions: {rev_list}', alferr.ALFWarning)\n"
     ]
    },
    {
     "name": "stdout",
     "output_type": "stream",
     "text": [
      "\u001b[36m2025-09-09 16:31:51 INFO     one.py:1288 Loading wheel data\u001b[0m\n",
      "\u001b[36m2025-09-09 16:31:52 INFO     one.py:1288 Loading motion_energy data\u001b[0m\n"
     ]
    },
    {
     "name": "stderr",
     "output_type": "stream",
     "text": [
      "/opt/anaconda3/envs/iblenv/lib/python3.10/site-packages/one/util.py:428: ALFWarning: Multiple revisions: \"2023-04-20\", \"2025-05-29\"\n",
      "  warnings.warn(f'Multiple revisions: {rev_list}', alferr.ALFWarning)\n",
      "/opt/anaconda3/envs/iblenv/lib/python3.10/site-packages/one/util.py:428: ALFWarning: Multiple revisions: \"2023-04-20\", \"2025-05-31\"\n",
      "  warnings.warn(f'Multiple revisions: {rev_list}', alferr.ALFWarning)\n"
     ]
    },
    {
     "name": "stdout",
     "output_type": "stream",
     "text": [
      "\u001b[36m2025-09-09 16:31:54 INFO     one.py:1288 Loading pupil data\u001b[0m\n"
     ]
    },
    {
     "name": "stderr",
     "output_type": "stream",
     "text": [
      "/opt/anaconda3/envs/iblenv/lib/python3.10/site-packages/one/util.py:428: ALFWarning: Multiple revisions: \"2025-06-20\", \"2023-04-20\"\n",
      "  warnings.warn(f'Multiple revisions: {rev_list}', alferr.ALFWarning)\n"
     ]
    },
    {
     "name": "stdout",
     "output_type": "stream",
     "text": [
      "\u001b[1;33m2025-09-09 16:31:54 WARNING  one.py:1292 Could not load pupil data.\u001b[0m\n"
     ]
    },
    {
     "name": "stderr",
     "output_type": "stream",
     "text": [
      "/opt/anaconda3/envs/iblenv/lib/python3.10/site-packages/one/util.py:428: ALFWarning: Multiple revisions: \"\", \"2023-04-20\"\n",
      "  warnings.warn(f'Multiple revisions: {rev_list}', alferr.ALFWarning)\n",
      "/opt/anaconda3/envs/iblenv/lib/python3.10/site-packages/one/util.py:428: ALFWarning: Multiple revisions: \"\", \"2023-04-20\"\n",
      "  warnings.warn(f'Multiple revisions: {rev_list}', alferr.ALFWarning)\n",
      "(S3) /Users/ineslaranjeira/Downloads/FlatIron/churchlandlab_ucla/Subjects/UCLA034/2022-01-26/001/alf/_ibl_rightCamera.lightningPose.pqt: 100%|██████████| 684M/684M [01:01<00:00, 11.2MB/s] \n"
     ]
    },
    {
     "name": "stdout",
     "output_type": "stream",
     "text": [
      "\u001b[36m2025-09-09 16:33:04 INFO     one.py:1288 Loading trials data\u001b[0m\n"
     ]
    },
    {
     "name": "stderr",
     "output_type": "stream",
     "text": [
      "/opt/anaconda3/envs/iblenv/lib/python3.10/site-packages/one/util.py:428: ALFWarning: Multiple revisions: \"\", \"2025-03-03\"\n",
      "  warnings.warn(f'Multiple revisions: {rev_list}', alferr.ALFWarning)\n"
     ]
    },
    {
     "name": "stdout",
     "output_type": "stream",
     "text": [
      "\u001b[36m2025-09-09 16:33:05 INFO     one.py:1288 Loading wheel data\u001b[0m\n",
      "\u001b[36m2025-09-09 16:33:06 INFO     one.py:1288 Loading motion_energy data\u001b[0m\n"
     ]
    },
    {
     "name": "stderr",
     "output_type": "stream",
     "text": [
      "/opt/anaconda3/envs/iblenv/lib/python3.10/site-packages/one/util.py:428: ALFWarning: Multiple revisions: \"2023-04-20\", \"2025-05-29\"\n",
      "  warnings.warn(f'Multiple revisions: {rev_list}', alferr.ALFWarning)\n",
      "/opt/anaconda3/envs/iblenv/lib/python3.10/site-packages/one/util.py:428: ALFWarning: Multiple revisions: \"2023-04-20\", \"2025-05-31\"\n",
      "  warnings.warn(f'Multiple revisions: {rev_list}', alferr.ALFWarning)\n"
     ]
    },
    {
     "name": "stdout",
     "output_type": "stream",
     "text": [
      "\u001b[36m2025-09-09 16:33:07 INFO     one.py:1288 Loading pupil data\u001b[0m\n"
     ]
    },
    {
     "name": "stderr",
     "output_type": "stream",
     "text": [
      "/opt/anaconda3/envs/iblenv/lib/python3.10/site-packages/one/util.py:428: ALFWarning: Multiple revisions: \"2025-06-04\", \"2023-04-20\"\n",
      "  warnings.warn(f'Multiple revisions: {rev_list}', alferr.ALFWarning)\n"
     ]
    },
    {
     "name": "stdout",
     "output_type": "stream",
     "text": [
      "\u001b[1;33m2025-09-09 16:33:07 WARNING  one.py:1292 Could not load pupil data.\u001b[0m\n"
     ]
    },
    {
     "name": "stderr",
     "output_type": "stream",
     "text": [
      "/opt/anaconda3/envs/iblenv/lib/python3.10/site-packages/one/util.py:428: ALFWarning: Multiple revisions: \"\", \"2023-04-20\"\n",
      "  warnings.warn(f'Multiple revisions: {rev_list}', alferr.ALFWarning)\n",
      "/opt/anaconda3/envs/iblenv/lib/python3.10/site-packages/one/util.py:428: ALFWarning: Multiple revisions: \"\", \"2023-04-20\"\n",
      "  warnings.warn(f'Multiple revisions: {rev_list}', alferr.ALFWarning)\n",
      "100%|██████████| 3/3.0 [00:02<00:00,  1.23it/s]\n"
     ]
    },
    {
     "name": "stdout",
     "output_type": "stream",
     "text": [
      "\u001b[36m2025-09-09 16:33:19 INFO     one.py:1288 Loading trials data\u001b[0m\n"
     ]
    },
    {
     "name": "stderr",
     "output_type": "stream",
     "text": [
      "/opt/anaconda3/envs/iblenv/lib/python3.10/site-packages/one/util.py:428: ALFWarning: Multiple revisions: \"\", \"2025-03-03\"\n",
      "  warnings.warn(f'Multiple revisions: {rev_list}', alferr.ALFWarning)\n"
     ]
    },
    {
     "name": "stdout",
     "output_type": "stream",
     "text": [
      "\u001b[36m2025-09-09 16:33:20 INFO     one.py:1288 Loading wheel data\u001b[0m\n",
      "\u001b[36m2025-09-09 16:33:21 INFO     one.py:1288 Loading motion_energy data\u001b[0m\n"
     ]
    },
    {
     "name": "stderr",
     "output_type": "stream",
     "text": [
      "/opt/anaconda3/envs/iblenv/lib/python3.10/site-packages/one/util.py:428: ALFWarning: Multiple revisions: \"2023-04-20\", \"2025-05-29\"\n",
      "  warnings.warn(f'Multiple revisions: {rev_list}', alferr.ALFWarning)\n",
      "/opt/anaconda3/envs/iblenv/lib/python3.10/site-packages/one/util.py:428: ALFWarning: Multiple revisions: \"2023-04-20\", \"2025-05-31\"\n",
      "  warnings.warn(f'Multiple revisions: {rev_list}', alferr.ALFWarning)\n"
     ]
    },
    {
     "name": "stdout",
     "output_type": "stream",
     "text": [
      "\u001b[36m2025-09-09 16:33:22 INFO     one.py:1288 Loading pupil data\u001b[0m\n"
     ]
    },
    {
     "name": "stderr",
     "output_type": "stream",
     "text": [
      "/opt/anaconda3/envs/iblenv/lib/python3.10/site-packages/one/util.py:428: ALFWarning: Multiple revisions: \"2025-06-18\", \"2023-04-20\"\n",
      "  warnings.warn(f'Multiple revisions: {rev_list}', alferr.ALFWarning)\n"
     ]
    },
    {
     "name": "stdout",
     "output_type": "stream",
     "text": [
      "\u001b[1;33m2025-09-09 16:33:23 WARNING  one.py:1292 Could not load pupil data.\u001b[0m\n"
     ]
    },
    {
     "name": "stderr",
     "output_type": "stream",
     "text": [
      "/opt/anaconda3/envs/iblenv/lib/python3.10/site-packages/one/util.py:428: ALFWarning: Multiple revisions: \"2025-05-29\", \"2023-04-20\"\n",
      "  warnings.warn(f'Multiple revisions: {rev_list}', alferr.ALFWarning)\n",
      "/opt/anaconda3/envs/iblenv/lib/python3.10/site-packages/one/util.py:428: ALFWarning: Multiple revisions: \"\", \"2023-04-20\"\n",
      "  warnings.warn(f'Multiple revisions: {rev_list}', alferr.ALFWarning)\n",
      "(S3) /Users/ineslaranjeira/Downloads/FlatIron/churchlandlab_ucla/Subjects/UCLA034/2022-01-28/001/alf/_ibl_rightCamera.lightningPose.pqt: 100%|██████████| 467M/467M [01:05<00:00, 7.16MB/s] \n"
     ]
    },
    {
     "name": "stdout",
     "output_type": "stream",
     "text": [
      "\u001b[36m2025-09-09 16:34:37 INFO     one.py:1288 Loading trials data\u001b[0m\n"
     ]
    },
    {
     "name": "stderr",
     "output_type": "stream",
     "text": [
      "/opt/anaconda3/envs/iblenv/lib/python3.10/site-packages/one/util.py:428: ALFWarning: Multiple revisions: \"\", \"2025-03-03\"\n",
      "  warnings.warn(f'Multiple revisions: {rev_list}', alferr.ALFWarning)\n"
     ]
    },
    {
     "name": "stdout",
     "output_type": "stream",
     "text": [
      "\u001b[36m2025-09-09 16:34:38 INFO     one.py:1288 Loading wheel data\u001b[0m\n",
      "\u001b[36m2025-09-09 16:34:38 INFO     one.py:1288 Loading motion_energy data\u001b[0m\n"
     ]
    },
    {
     "name": "stderr",
     "output_type": "stream",
     "text": [
      "/opt/anaconda3/envs/iblenv/lib/python3.10/site-packages/one/util.py:428: ALFWarning: Multiple revisions: \"2023-04-20\", \"2025-05-29\"\n",
      "  warnings.warn(f'Multiple revisions: {rev_list}', alferr.ALFWarning)\n",
      "/opt/anaconda3/envs/iblenv/lib/python3.10/site-packages/one/util.py:428: ALFWarning: Multiple revisions: \"2023-04-20\", \"2025-05-31\"\n",
      "  warnings.warn(f'Multiple revisions: {rev_list}', alferr.ALFWarning)\n"
     ]
    },
    {
     "name": "stdout",
     "output_type": "stream",
     "text": [
      "\u001b[36m2025-09-09 16:34:39 INFO     one.py:1288 Loading pupil data\u001b[0m\n"
     ]
    },
    {
     "name": "stderr",
     "output_type": "stream",
     "text": [
      "/opt/anaconda3/envs/iblenv/lib/python3.10/site-packages/one/util.py:428: ALFWarning: Multiple revisions: \"2025-06-20\", \"2023-04-20\"\n",
      "  warnings.warn(f'Multiple revisions: {rev_list}', alferr.ALFWarning)\n"
     ]
    },
    {
     "name": "stdout",
     "output_type": "stream",
     "text": [
      "\u001b[1;33m2025-09-09 16:34:40 WARNING  one.py:1292 Could not load pupil data.\u001b[0m\n"
     ]
    },
    {
     "name": "stderr",
     "output_type": "stream",
     "text": [
      "/opt/anaconda3/envs/iblenv/lib/python3.10/site-packages/one/util.py:428: ALFWarning: Multiple revisions: \"\", \"2023-04-20\"\n",
      "  warnings.warn(f'Multiple revisions: {rev_list}', alferr.ALFWarning)\n",
      "/opt/anaconda3/envs/iblenv/lib/python3.10/site-packages/one/util.py:428: ALFWarning: Multiple revisions: \"\", \"2023-04-20\"\n",
      "  warnings.warn(f'Multiple revisions: {rev_list}', alferr.ALFWarning)\n",
      "(S3) /Users/ineslaranjeira/Downloads/FlatIron/churchlandlab_ucla/Subjects/UCLA035/2022-02-18/001/alf/_ibl_rightCamera.lightningPose.pqt: 100%|██████████| 407M/407M [00:49<00:00, 8.19MB/s] \n"
     ]
    },
    {
     "name": "stdout",
     "output_type": "stream",
     "text": [
      "\u001b[36m2025-09-09 16:35:37 INFO     one.py:1288 Loading trials data\u001b[0m\n"
     ]
    },
    {
     "name": "stderr",
     "output_type": "stream",
     "text": [
      "/opt/anaconda3/envs/iblenv/lib/python3.10/site-packages/one/util.py:428: ALFWarning: Multiple revisions: \"\", \"2025-03-03\"\n",
      "  warnings.warn(f'Multiple revisions: {rev_list}', alferr.ALFWarning)\n"
     ]
    },
    {
     "name": "stdout",
     "output_type": "stream",
     "text": [
      "\u001b[36m2025-09-09 16:35:38 INFO     one.py:1288 Loading wheel data\u001b[0m\n",
      "\u001b[36m2025-09-09 16:35:39 INFO     one.py:1288 Loading motion_energy data\u001b[0m\n"
     ]
    },
    {
     "name": "stderr",
     "output_type": "stream",
     "text": [
      "/opt/anaconda3/envs/iblenv/lib/python3.10/site-packages/one/util.py:428: ALFWarning: Multiple revisions: \"2023-04-20\", \"2025-05-29\"\n",
      "  warnings.warn(f'Multiple revisions: {rev_list}', alferr.ALFWarning)\n",
      "/opt/anaconda3/envs/iblenv/lib/python3.10/site-packages/one/util.py:428: ALFWarning: Multiple revisions: \"2023-04-20\", \"2025-05-31\"\n",
      "  warnings.warn(f'Multiple revisions: {rev_list}', alferr.ALFWarning)\n"
     ]
    },
    {
     "name": "stdout",
     "output_type": "stream",
     "text": [
      "\u001b[36m2025-09-09 16:35:40 INFO     one.py:1288 Loading pupil data\u001b[0m\n"
     ]
    },
    {
     "name": "stderr",
     "output_type": "stream",
     "text": [
      "/opt/anaconda3/envs/iblenv/lib/python3.10/site-packages/one/util.py:428: ALFWarning: Multiple revisions: \"2025-06-18\", \"2023-04-20\"\n",
      "  warnings.warn(f'Multiple revisions: {rev_list}', alferr.ALFWarning)\n"
     ]
    },
    {
     "name": "stdout",
     "output_type": "stream",
     "text": [
      "\u001b[1;33m2025-09-09 16:35:40 WARNING  one.py:1292 Could not load pupil data.\u001b[0m\n"
     ]
    },
    {
     "name": "stderr",
     "output_type": "stream",
     "text": [
      "/opt/anaconda3/envs/iblenv/lib/python3.10/site-packages/one/util.py:428: ALFWarning: Multiple revisions: \"\", \"2023-04-20\"\n",
      "  warnings.warn(f'Multiple revisions: {rev_list}', alferr.ALFWarning)\n",
      "/opt/anaconda3/envs/iblenv/lib/python3.10/site-packages/one/util.py:428: ALFWarning: Multiple revisions: \"\", \"2023-04-20\"\n",
      "  warnings.warn(f'Multiple revisions: {rev_list}', alferr.ALFWarning)\n",
      "(S3) /Users/ineslaranjeira/Downloads/FlatIron/churchlandlab_ucla/Subjects/UCLA035/2022-02-24/001/alf/_ibl_rightCamera.lightningPose.pqt: 100%|██████████| 389M/389M [00:43<00:00, 8.84MB/s] \n"
     ]
    },
    {
     "name": "stdout",
     "output_type": "stream",
     "text": [
      "\u001b[36m2025-09-09 16:36:33 INFO     one.py:1288 Loading trials data\u001b[0m\n"
     ]
    },
    {
     "name": "stderr",
     "output_type": "stream",
     "text": [
      "/opt/anaconda3/envs/iblenv/lib/python3.10/site-packages/one/util.py:428: ALFWarning: Multiple revisions: \"\", \"2025-03-03\"\n",
      "  warnings.warn(f'Multiple revisions: {rev_list}', alferr.ALFWarning)\n"
     ]
    },
    {
     "name": "stdout",
     "output_type": "stream",
     "text": [
      "\u001b[36m2025-09-09 16:36:34 INFO     one.py:1288 Loading wheel data\u001b[0m\n",
      "\u001b[36m2025-09-09 16:36:35 INFO     one.py:1288 Loading motion_energy data\u001b[0m\n"
     ]
    },
    {
     "name": "stderr",
     "output_type": "stream",
     "text": [
      "/opt/anaconda3/envs/iblenv/lib/python3.10/site-packages/one/util.py:428: ALFWarning: Multiple revisions: \"2023-04-20\", \"2025-05-29\"\n",
      "  warnings.warn(f'Multiple revisions: {rev_list}', alferr.ALFWarning)\n",
      "/opt/anaconda3/envs/iblenv/lib/python3.10/site-packages/one/util.py:428: ALFWarning: Multiple revisions: \"2023-04-20\", \"2025-05-31\"\n",
      "  warnings.warn(f'Multiple revisions: {rev_list}', alferr.ALFWarning)\n"
     ]
    },
    {
     "name": "stdout",
     "output_type": "stream",
     "text": [
      "\u001b[36m2025-09-09 16:36:36 INFO     one.py:1288 Loading pupil data\u001b[0m\n"
     ]
    },
    {
     "name": "stderr",
     "output_type": "stream",
     "text": [
      "/opt/anaconda3/envs/iblenv/lib/python3.10/site-packages/one/util.py:428: ALFWarning: Multiple revisions: \"2025-06-04\", \"2023-04-20\"\n",
      "  warnings.warn(f'Multiple revisions: {rev_list}', alferr.ALFWarning)\n"
     ]
    },
    {
     "name": "stdout",
     "output_type": "stream",
     "text": [
      "\u001b[1;33m2025-09-09 16:36:36 WARNING  one.py:1292 Could not load pupil data.\u001b[0m\n"
     ]
    },
    {
     "name": "stderr",
     "output_type": "stream",
     "text": [
      "/opt/anaconda3/envs/iblenv/lib/python3.10/site-packages/one/util.py:428: ALFWarning: Multiple revisions: \"\", \"2023-04-20\"\n",
      "  warnings.warn(f'Multiple revisions: {rev_list}', alferr.ALFWarning)\n",
      "/opt/anaconda3/envs/iblenv/lib/python3.10/site-packages/one/util.py:428: ALFWarning: Multiple revisions: \"\", \"2023-04-20\"\n",
      "  warnings.warn(f'Multiple revisions: {rev_list}', alferr.ALFWarning)\n",
      "(S3) /Users/ineslaranjeira/Downloads/FlatIron/churchlandlab_ucla/Subjects/UCLA036/2022-03-09/001/alf/_ibl_rightCamera.lightningPose.pqt: 100%|██████████| 380M/380M [00:53<00:00, 7.15MB/s] \n"
     ]
    },
    {
     "name": "stdout",
     "output_type": "stream",
     "text": [
      "\u001b[36m2025-09-09 16:37:38 INFO     one.py:1288 Loading trials data\u001b[0m\n"
     ]
    },
    {
     "name": "stderr",
     "output_type": "stream",
     "text": [
      "/opt/anaconda3/envs/iblenv/lib/python3.10/site-packages/one/util.py:428: ALFWarning: Multiple revisions: \"\", \"2025-03-03\"\n",
      "  warnings.warn(f'Multiple revisions: {rev_list}', alferr.ALFWarning)\n"
     ]
    },
    {
     "name": "stdout",
     "output_type": "stream",
     "text": [
      "\u001b[36m2025-09-09 16:37:39 INFO     one.py:1288 Loading wheel data\u001b[0m\n",
      "\u001b[36m2025-09-09 16:37:40 INFO     one.py:1288 Loading motion_energy data\u001b[0m\n"
     ]
    },
    {
     "name": "stderr",
     "output_type": "stream",
     "text": [
      "/opt/anaconda3/envs/iblenv/lib/python3.10/site-packages/one/util.py:428: ALFWarning: Multiple revisions: \"2023-04-20\", \"2025-05-29\"\n",
      "  warnings.warn(f'Multiple revisions: {rev_list}', alferr.ALFWarning)\n",
      "/opt/anaconda3/envs/iblenv/lib/python3.10/site-packages/one/util.py:428: ALFWarning: Multiple revisions: \"2023-04-20\", \"2025-05-31\"\n",
      "  warnings.warn(f'Multiple revisions: {rev_list}', alferr.ALFWarning)\n"
     ]
    },
    {
     "name": "stdout",
     "output_type": "stream",
     "text": [
      "\u001b[36m2025-09-09 16:37:41 INFO     one.py:1288 Loading pupil data\u001b[0m\n"
     ]
    },
    {
     "name": "stderr",
     "output_type": "stream",
     "text": [
      "/opt/anaconda3/envs/iblenv/lib/python3.10/site-packages/one/util.py:428: ALFWarning: Multiple revisions: \"2025-06-04\", \"2023-04-20\"\n",
      "  warnings.warn(f'Multiple revisions: {rev_list}', alferr.ALFWarning)\n"
     ]
    },
    {
     "name": "stdout",
     "output_type": "stream",
     "text": [
      "\u001b[1;33m2025-09-09 16:37:42 WARNING  one.py:1292 Could not load pupil data.\u001b[0m\n"
     ]
    },
    {
     "name": "stderr",
     "output_type": "stream",
     "text": [
      "/opt/anaconda3/envs/iblenv/lib/python3.10/site-packages/one/util.py:428: ALFWarning: Multiple revisions: \"\", \"2023-04-20\"\n",
      "  warnings.warn(f'Multiple revisions: {rev_list}', alferr.ALFWarning)\n",
      "/opt/anaconda3/envs/iblenv/lib/python3.10/site-packages/one/util.py:428: ALFWarning: Multiple revisions: \"\", \"2023-04-20\"\n",
      "  warnings.warn(f'Multiple revisions: {rev_list}', alferr.ALFWarning)\n",
      "(S3) /Users/ineslaranjeira/Downloads/FlatIron/churchlandlab_ucla/Subjects/UCLA037/2022-02-02/001/alf/_ibl_rightCamera.lightningPose.pqt: 100%|██████████| 347M/347M [00:39<00:00, 8.80MB/s] \n"
     ]
    },
    {
     "name": "stdout",
     "output_type": "stream",
     "text": [
      "\u001b[36m2025-09-09 16:38:29 INFO     one.py:1288 Loading trials data\u001b[0m\n"
     ]
    },
    {
     "name": "stderr",
     "output_type": "stream",
     "text": [
      "/opt/anaconda3/envs/iblenv/lib/python3.10/site-packages/one/util.py:428: ALFWarning: Multiple revisions: \"\", \"2025-03-03\"\n",
      "  warnings.warn(f'Multiple revisions: {rev_list}', alferr.ALFWarning)\n"
     ]
    },
    {
     "name": "stdout",
     "output_type": "stream",
     "text": [
      "\u001b[36m2025-09-09 16:38:30 INFO     one.py:1288 Loading wheel data\u001b[0m\n",
      "\u001b[36m2025-09-09 16:38:31 INFO     one.py:1288 Loading motion_energy data\u001b[0m\n"
     ]
    },
    {
     "name": "stderr",
     "output_type": "stream",
     "text": [
      "/opt/anaconda3/envs/iblenv/lib/python3.10/site-packages/one/util.py:428: ALFWarning: Multiple revisions: \"2023-04-20\", \"2025-05-29\"\n",
      "  warnings.warn(f'Multiple revisions: {rev_list}', alferr.ALFWarning)\n",
      "/opt/anaconda3/envs/iblenv/lib/python3.10/site-packages/one/util.py:428: ALFWarning: Multiple revisions: \"2023-04-20\", \"2025-05-31\"\n",
      "  warnings.warn(f'Multiple revisions: {rev_list}', alferr.ALFWarning)\n"
     ]
    },
    {
     "name": "stdout",
     "output_type": "stream",
     "text": [
      "\u001b[36m2025-09-09 16:38:32 INFO     one.py:1288 Loading pupil data\u001b[0m\n"
     ]
    },
    {
     "name": "stderr",
     "output_type": "stream",
     "text": [
      "/opt/anaconda3/envs/iblenv/lib/python3.10/site-packages/one/util.py:428: ALFWarning: Multiple revisions: \"2025-06-18\", \"2023-04-20\"\n",
      "  warnings.warn(f'Multiple revisions: {rev_list}', alferr.ALFWarning)\n",
      "/opt/anaconda3/envs/iblenv/lib/python3.10/site-packages/one/util.py:428: ALFWarning: Multiple revisions: \"\", \"2023-04-20\"\n",
      "  warnings.warn(f'Multiple revisions: {rev_list}', alferr.ALFWarning)\n",
      "/opt/anaconda3/envs/iblenv/lib/python3.10/site-packages/one/util.py:428: ALFWarning: Multiple revisions: \"\", \"2023-04-20\"\n",
      "  warnings.warn(f'Multiple revisions: {rev_list}', alferr.ALFWarning)\n"
     ]
    },
    {
     "name": "stdout",
     "output_type": "stream",
     "text": [
      "\u001b[36m2025-09-09 16:38:40 INFO     one.py:1288 Loading trials data\u001b[0m\n"
     ]
    },
    {
     "name": "stderr",
     "output_type": "stream",
     "text": [
      "/opt/anaconda3/envs/iblenv/lib/python3.10/site-packages/one/util.py:428: ALFWarning: Multiple revisions: \"\", \"2025-03-03\"\n",
      "  warnings.warn(f'Multiple revisions: {rev_list}', alferr.ALFWarning)\n"
     ]
    },
    {
     "name": "stdout",
     "output_type": "stream",
     "text": [
      "\u001b[36m2025-09-09 16:38:40 INFO     one.py:1288 Loading wheel data\u001b[0m\n",
      "\u001b[36m2025-09-09 16:38:41 INFO     one.py:1288 Loading motion_energy data\u001b[0m\n"
     ]
    },
    {
     "name": "stderr",
     "output_type": "stream",
     "text": [
      "/opt/anaconda3/envs/iblenv/lib/python3.10/site-packages/one/util.py:428: ALFWarning: Multiple revisions: \"2023-04-20\", \"2025-05-29\"\n",
      "  warnings.warn(f'Multiple revisions: {rev_list}', alferr.ALFWarning)\n",
      "/opt/anaconda3/envs/iblenv/lib/python3.10/site-packages/one/util.py:428: ALFWarning: Multiple revisions: \"2023-04-20\", \"2025-05-31\"\n",
      "  warnings.warn(f'Multiple revisions: {rev_list}', alferr.ALFWarning)\n"
     ]
    },
    {
     "name": "stdout",
     "output_type": "stream",
     "text": [
      "\u001b[36m2025-09-09 16:38:42 INFO     one.py:1288 Loading pupil data\u001b[0m\n"
     ]
    },
    {
     "name": "stderr",
     "output_type": "stream",
     "text": [
      "/opt/anaconda3/envs/iblenv/lib/python3.10/site-packages/one/util.py:428: ALFWarning: Multiple revisions: \"2025-06-04\", \"2023-04-20\"\n",
      "  warnings.warn(f'Multiple revisions: {rev_list}', alferr.ALFWarning)\n"
     ]
    },
    {
     "name": "stdout",
     "output_type": "stream",
     "text": [
      "\u001b[1;33m2025-09-09 16:38:43 WARNING  one.py:1292 Could not load pupil data.\u001b[0m\n"
     ]
    },
    {
     "name": "stderr",
     "output_type": "stream",
     "text": [
      "/opt/anaconda3/envs/iblenv/lib/python3.10/site-packages/one/util.py:428: ALFWarning: Multiple revisions: \"\", \"2023-04-20\"\n",
      "  warnings.warn(f'Multiple revisions: {rev_list}', alferr.ALFWarning)\n",
      "/opt/anaconda3/envs/iblenv/lib/python3.10/site-packages/one/util.py:428: ALFWarning: Multiple revisions: \"\", \"2023-04-20\"\n",
      "  warnings.warn(f'Multiple revisions: {rev_list}', alferr.ALFWarning)\n",
      "(S3) /Users/ineslaranjeira/Downloads/FlatIron/churchlandlab_ucla/Subjects/UCLA037/2022-02-09/001/alf/_ibl_rightCamera.lightningPose.pqt: 100%|██████████| 284M/284M [00:34<00:00, 8.22MB/s] \n"
     ]
    },
    {
     "name": "stdout",
     "output_type": "stream",
     "text": [
      "\u001b[36m2025-09-09 16:39:24 INFO     one.py:1288 Loading trials data\u001b[0m\n"
     ]
    },
    {
     "name": "stderr",
     "output_type": "stream",
     "text": [
      "/opt/anaconda3/envs/iblenv/lib/python3.10/site-packages/one/util.py:428: ALFWarning: Multiple revisions: \"\", \"2025-03-03\"\n",
      "  warnings.warn(f'Multiple revisions: {rev_list}', alferr.ALFWarning)\n"
     ]
    },
    {
     "name": "stdout",
     "output_type": "stream",
     "text": [
      "\u001b[36m2025-09-09 16:39:24 INFO     one.py:1288 Loading wheel data\u001b[0m\n",
      "\u001b[36m2025-09-09 16:39:25 INFO     one.py:1288 Loading motion_energy data\u001b[0m\n"
     ]
    },
    {
     "name": "stderr",
     "output_type": "stream",
     "text": [
      "/opt/anaconda3/envs/iblenv/lib/python3.10/site-packages/one/util.py:428: ALFWarning: Multiple revisions: \"2023-04-20\", \"2025-05-29\"\n",
      "  warnings.warn(f'Multiple revisions: {rev_list}', alferr.ALFWarning)\n",
      "/opt/anaconda3/envs/iblenv/lib/python3.10/site-packages/one/util.py:428: ALFWarning: Multiple revisions: \"2023-04-20\", \"2025-05-31\"\n",
      "  warnings.warn(f'Multiple revisions: {rev_list}', alferr.ALFWarning)\n"
     ]
    },
    {
     "name": "stdout",
     "output_type": "stream",
     "text": [
      "\u001b[36m2025-09-09 16:39:26 INFO     one.py:1288 Loading pupil data\u001b[0m\n"
     ]
    },
    {
     "name": "stderr",
     "output_type": "stream",
     "text": [
      "/opt/anaconda3/envs/iblenv/lib/python3.10/site-packages/one/util.py:428: ALFWarning: Multiple revisions: \"2025-06-04\", \"2023-04-20\"\n",
      "  warnings.warn(f'Multiple revisions: {rev_list}', alferr.ALFWarning)\n"
     ]
    },
    {
     "name": "stdout",
     "output_type": "stream",
     "text": [
      "\u001b[1;33m2025-09-09 16:39:27 WARNING  one.py:1292 Could not load pupil data.\u001b[0m\n"
     ]
    },
    {
     "name": "stderr",
     "output_type": "stream",
     "text": [
      "/opt/anaconda3/envs/iblenv/lib/python3.10/site-packages/one/util.py:428: ALFWarning: Multiple revisions: \"2025-05-29\", \"2023-04-20\"\n",
      "  warnings.warn(f'Multiple revisions: {rev_list}', alferr.ALFWarning)\n",
      "/opt/anaconda3/envs/iblenv/lib/python3.10/site-packages/one/util.py:428: ALFWarning: Multiple revisions: \"\", \"2023-04-20\"\n",
      "  warnings.warn(f'Multiple revisions: {rev_list}', alferr.ALFWarning)\n"
     ]
    },
    {
     "name": "stdout",
     "output_type": "stream",
     "text": [
      "\u001b[36m2025-09-09 16:39:33 INFO     one.py:1288 Loading trials data\u001b[0m\n"
     ]
    },
    {
     "name": "stderr",
     "output_type": "stream",
     "text": [
      "/opt/anaconda3/envs/iblenv/lib/python3.10/site-packages/one/util.py:428: ALFWarning: Multiple revisions: \"\", \"2025-03-03\"\n",
      "  warnings.warn(f'Multiple revisions: {rev_list}', alferr.ALFWarning)\n"
     ]
    },
    {
     "name": "stdout",
     "output_type": "stream",
     "text": [
      "\u001b[36m2025-09-09 16:39:34 INFO     one.py:1288 Loading wheel data\u001b[0m\n",
      "\u001b[36m2025-09-09 16:39:35 INFO     one.py:1288 Loading motion_energy data\u001b[0m\n"
     ]
    },
    {
     "name": "stderr",
     "output_type": "stream",
     "text": [
      "/opt/anaconda3/envs/iblenv/lib/python3.10/site-packages/one/util.py:428: ALFWarning: Multiple revisions: \"2023-04-20\", \"2025-05-29\"\n",
      "  warnings.warn(f'Multiple revisions: {rev_list}', alferr.ALFWarning)\n",
      "/opt/anaconda3/envs/iblenv/lib/python3.10/site-packages/one/util.py:428: ALFWarning: Multiple revisions: \"2023-04-20\", \"2025-05-31\"\n",
      "  warnings.warn(f'Multiple revisions: {rev_list}', alferr.ALFWarning)\n"
     ]
    },
    {
     "name": "stdout",
     "output_type": "stream",
     "text": [
      "\u001b[36m2025-09-09 16:39:36 INFO     one.py:1288 Loading pupil data\u001b[0m\n"
     ]
    },
    {
     "name": "stderr",
     "output_type": "stream",
     "text": [
      "/opt/anaconda3/envs/iblenv/lib/python3.10/site-packages/one/util.py:428: ALFWarning: Multiple revisions: \"2025-06-20\", \"2023-04-20\"\n",
      "  warnings.warn(f'Multiple revisions: {rev_list}', alferr.ALFWarning)\n"
     ]
    },
    {
     "name": "stdout",
     "output_type": "stream",
     "text": [
      "\u001b[1;33m2025-09-09 16:39:36 WARNING  one.py:1292 Could not load pupil data.\u001b[0m\n"
     ]
    },
    {
     "name": "stderr",
     "output_type": "stream",
     "text": [
      "(S3) /Users/ineslaranjeira/Downloads/FlatIron/churchlandlab_ucla/Subjects/UCLA044/2022-04-22/001/alf/_ibl_rightCamera.lightningPose.pqt: 100%|██████████| 297M/297M [00:39<00:00, 7.46MB/s] \n"
     ]
    },
    {
     "name": "stdout",
     "output_type": "stream",
     "text": [
      "\u001b[36m2025-09-09 16:40:22 INFO     one.py:1288 Loading trials data\u001b[0m\n"
     ]
    },
    {
     "name": "stderr",
     "output_type": "stream",
     "text": [
      "/opt/anaconda3/envs/iblenv/lib/python3.10/site-packages/one/util.py:428: ALFWarning: Multiple revisions: \"\", \"2025-03-03\"\n",
      "  warnings.warn(f'Multiple revisions: {rev_list}', alferr.ALFWarning)\n"
     ]
    },
    {
     "name": "stdout",
     "output_type": "stream",
     "text": [
      "\u001b[36m2025-09-09 16:40:23 INFO     one.py:1288 Loading wheel data\u001b[0m\n",
      "\u001b[36m2025-09-09 16:40:24 INFO     one.py:1288 Loading motion_energy data\u001b[0m\n"
     ]
    },
    {
     "name": "stderr",
     "output_type": "stream",
     "text": [
      "/opt/anaconda3/envs/iblenv/lib/python3.10/site-packages/one/util.py:428: ALFWarning: Multiple revisions: \"\", \"2025-05-31\"\n",
      "  warnings.warn(f'Multiple revisions: {rev_list}', alferr.ALFWarning)\n",
      "/opt/anaconda3/envs/iblenv/lib/python3.10/site-packages/one/util.py:428: ALFWarning: Multiple revisions: \"\", \"2025-06-01\"\n",
      "  warnings.warn(f'Multiple revisions: {rev_list}', alferr.ALFWarning)\n"
     ]
    },
    {
     "name": "stdout",
     "output_type": "stream",
     "text": [
      "\u001b[36m2025-09-09 16:40:25 INFO     one.py:1288 Loading pupil data\u001b[0m\n"
     ]
    },
    {
     "name": "stderr",
     "output_type": "stream",
     "text": [
      "/opt/anaconda3/envs/iblenv/lib/python3.10/site-packages/one/util.py:428: ALFWarning: Multiple revisions: \"2025-06-04\", \"\"\n",
      "  warnings.warn(f'Multiple revisions: {rev_list}', alferr.ALFWarning)\n"
     ]
    },
    {
     "name": "stdout",
     "output_type": "stream",
     "text": [
      "\u001b[1;33m2025-09-09 16:40:25 WARNING  one.py:1292 Could not load pupil data.\u001b[0m\n"
     ]
    },
    {
     "name": "stderr",
     "output_type": "stream",
     "text": [
      "/opt/anaconda3/envs/iblenv/lib/python3.10/site-packages/one/util.py:428: ALFWarning: Multiple revisions: \"2025-05-31\", \"\"\n",
      "  warnings.warn(f'Multiple revisions: {rev_list}', alferr.ALFWarning)\n",
      "(S3) /Users/ineslaranjeira/Downloads/FlatIron/churchlandlab_ucla/Subjects/UCLA048/2022-08-16/001/alf/_ibl_rightCamera.lightningPose.pqt: 100%|██████████| 275M/275M [00:44<00:00, 6.22MB/s] \n"
     ]
    },
    {
     "name": "stdout",
     "output_type": "stream",
     "text": [
      "\u001b[36m2025-09-09 16:41:17 INFO     one.py:1288 Loading trials data\u001b[0m\n"
     ]
    },
    {
     "name": "stderr",
     "output_type": "stream",
     "text": [
      "/opt/anaconda3/envs/iblenv/lib/python3.10/site-packages/one/util.py:428: ALFWarning: Multiple revisions: \"\", \"2025-03-03\"\n",
      "  warnings.warn(f'Multiple revisions: {rev_list}', alferr.ALFWarning)\n"
     ]
    },
    {
     "name": "stdout",
     "output_type": "stream",
     "text": [
      "\u001b[36m2025-09-09 16:41:18 INFO     one.py:1288 Loading wheel data\u001b[0m\n",
      "\u001b[36m2025-09-09 16:41:19 INFO     one.py:1288 Loading motion_energy data\u001b[0m\n"
     ]
    },
    {
     "name": "stderr",
     "output_type": "stream",
     "text": [
      "/opt/anaconda3/envs/iblenv/lib/python3.10/site-packages/one/util.py:428: ALFWarning: Multiple revisions: \"\", \"2025-05-31\"\n",
      "  warnings.warn(f'Multiple revisions: {rev_list}', alferr.ALFWarning)\n",
      "/opt/anaconda3/envs/iblenv/lib/python3.10/site-packages/one/util.py:428: ALFWarning: Multiple revisions: \"\", \"2025-06-01\"\n",
      "  warnings.warn(f'Multiple revisions: {rev_list}', alferr.ALFWarning)\n"
     ]
    },
    {
     "name": "stdout",
     "output_type": "stream",
     "text": [
      "\u001b[36m2025-09-09 16:41:20 INFO     one.py:1288 Loading pupil data\u001b[0m\n"
     ]
    },
    {
     "name": "stderr",
     "output_type": "stream",
     "text": [
      "/opt/anaconda3/envs/iblenv/lib/python3.10/site-packages/one/util.py:428: ALFWarning: Multiple revisions: \"2025-06-20\", \"\"\n",
      "  warnings.warn(f'Multiple revisions: {rev_list}', alferr.ALFWarning)\n"
     ]
    },
    {
     "name": "stdout",
     "output_type": "stream",
     "text": [
      "\u001b[1;33m2025-09-09 16:41:20 WARNING  one.py:1292 Could not load pupil data.\u001b[0m\n"
     ]
    },
    {
     "name": "stderr",
     "output_type": "stream",
     "text": [
      "(S3) /Users/ineslaranjeira/Downloads/FlatIron/churchlandlab_ucla/Subjects/UCLA049/2022-08-02/001/alf/_ibl_rightCamera.lightningPose.pqt: 100%|██████████| 292M/292M [00:39<00:00, 7.47MB/s] \n"
     ]
    },
    {
     "name": "stdout",
     "output_type": "stream",
     "text": [
      "\u001b[36m2025-09-09 16:42:08 INFO     one.py:1288 Loading trials data\u001b[0m\n"
     ]
    },
    {
     "name": "stderr",
     "output_type": "stream",
     "text": [
      "/opt/anaconda3/envs/iblenv/lib/python3.10/site-packages/one/util.py:428: ALFWarning: Multiple revisions: \"\", \"2025-03-03\"\n",
      "  warnings.warn(f'Multiple revisions: {rev_list}', alferr.ALFWarning)\n"
     ]
    },
    {
     "name": "stdout",
     "output_type": "stream",
     "text": [
      "\u001b[36m2025-09-09 16:42:09 INFO     one.py:1288 Loading wheel data\u001b[0m\n",
      "\u001b[36m2025-09-09 16:42:10 INFO     one.py:1288 Loading motion_energy data\u001b[0m\n"
     ]
    },
    {
     "name": "stderr",
     "output_type": "stream",
     "text": [
      "/opt/anaconda3/envs/iblenv/lib/python3.10/site-packages/one/util.py:428: ALFWarning: Multiple revisions: \"\", \"2025-05-31\"\n",
      "  warnings.warn(f'Multiple revisions: {rev_list}', alferr.ALFWarning)\n",
      "/opt/anaconda3/envs/iblenv/lib/python3.10/site-packages/one/util.py:428: ALFWarning: Multiple revisions: \"\", \"2025-06-01\"\n",
      "  warnings.warn(f'Multiple revisions: {rev_list}', alferr.ALFWarning)\n"
     ]
    },
    {
     "name": "stdout",
     "output_type": "stream",
     "text": [
      "\u001b[36m2025-09-09 16:42:11 INFO     one.py:1288 Loading pupil data\u001b[0m\n"
     ]
    },
    {
     "name": "stderr",
     "output_type": "stream",
     "text": [
      "/opt/anaconda3/envs/iblenv/lib/python3.10/site-packages/one/util.py:428: ALFWarning: Multiple revisions: \"2025-06-18\", \"\"\n",
      "  warnings.warn(f'Multiple revisions: {rev_list}', alferr.ALFWarning)\n"
     ]
    },
    {
     "name": "stdout",
     "output_type": "stream",
     "text": [
      "\u001b[1;33m2025-09-09 16:42:11 WARNING  one.py:1292 Could not load pupil data.\u001b[0m\n"
     ]
    },
    {
     "name": "stderr",
     "output_type": "stream",
     "text": [
      "local file size mismatch on dataset: churchlandlab_ucla/Subjects/UCLA049/2022-08-12/001/alf/_ibl_leftCamera.lightningPose.pqt\n",
      "(S3) /Users/ineslaranjeira/Downloads/FlatIron/churchlandlab_ucla/Subjects/UCLA049/2022-08-12/001/alf/_ibl_leftCamera.lightningPose.pqt: 100%|██████████| 128M/128M [00:14<00:00, 8.60MB/s] \n",
      "(S3) /Users/ineslaranjeira/Downloads/FlatIron/churchlandlab_ucla/Subjects/UCLA049/2022-08-12/001/alf/_ibl_rightCamera.lightningPose.pqt: 100%|██████████| 294M/294M [00:33<00:00, 8.85MB/s] \n"
     ]
    },
    {
     "name": "stdout",
     "output_type": "stream",
     "text": [
      "\u001b[36m2025-09-09 16:43:07 INFO     one.py:1288 Loading trials data\u001b[0m\n"
     ]
    },
    {
     "name": "stderr",
     "output_type": "stream",
     "text": [
      "/opt/anaconda3/envs/iblenv/lib/python3.10/site-packages/one/util.py:428: ALFWarning: Multiple revisions: \"\", \"2025-03-03\"\n",
      "  warnings.warn(f'Multiple revisions: {rev_list}', alferr.ALFWarning)\n"
     ]
    },
    {
     "name": "stdout",
     "output_type": "stream",
     "text": [
      "\u001b[36m2025-09-09 16:43:08 INFO     one.py:1288 Loading wheel data\u001b[0m\n",
      "\u001b[36m2025-09-09 16:43:09 INFO     one.py:1288 Loading motion_energy data\u001b[0m\n"
     ]
    },
    {
     "name": "stderr",
     "output_type": "stream",
     "text": [
      "/opt/anaconda3/envs/iblenv/lib/python3.10/site-packages/one/util.py:428: ALFWarning: Multiple revisions: \"\", \"2025-05-31\"\n",
      "  warnings.warn(f'Multiple revisions: {rev_list}', alferr.ALFWarning)\n",
      "/opt/anaconda3/envs/iblenv/lib/python3.10/site-packages/one/util.py:428: ALFWarning: Multiple revisions: \"\", \"2025-06-01\"\n",
      "  warnings.warn(f'Multiple revisions: {rev_list}', alferr.ALFWarning)\n"
     ]
    },
    {
     "name": "stdout",
     "output_type": "stream",
     "text": [
      "\u001b[36m2025-09-09 16:43:10 INFO     one.py:1288 Loading pupil data\u001b[0m\n"
     ]
    },
    {
     "name": "stderr",
     "output_type": "stream",
     "text": [
      "/opt/anaconda3/envs/iblenv/lib/python3.10/site-packages/one/util.py:428: ALFWarning: Multiple revisions: \"2025-06-18\", \"\"\n",
      "  warnings.warn(f'Multiple revisions: {rev_list}', alferr.ALFWarning)\n"
     ]
    },
    {
     "name": "stdout",
     "output_type": "stream",
     "text": [
      "\u001b[1;33m2025-09-09 16:43:10 WARNING  one.py:1292 Could not load pupil data.\u001b[0m\n"
     ]
    },
    {
     "name": "stderr",
     "output_type": "stream",
     "text": [
      "/opt/anaconda3/envs/iblenv/lib/python3.10/site-packages/one/util.py:428: ALFWarning: Multiple revisions: \"2025-05-31\", \"\"\n",
      "  warnings.warn(f'Multiple revisions: {rev_list}', alferr.ALFWarning)\n"
     ]
    },
    {
     "name": "stdout",
     "output_type": "stream",
     "text": [
      "\u001b[36m2025-09-09 16:43:18 INFO     one.py:1288 Loading trials data\u001b[0m\n"
     ]
    },
    {
     "name": "stderr",
     "output_type": "stream",
     "text": [
      "/opt/anaconda3/envs/iblenv/lib/python3.10/site-packages/one/util.py:428: ALFWarning: Multiple revisions: \"\", \"2025-03-03\"\n",
      "  warnings.warn(f'Multiple revisions: {rev_list}', alferr.ALFWarning)\n"
     ]
    },
    {
     "name": "stdout",
     "output_type": "stream",
     "text": [
      "\u001b[36m2025-09-09 16:43:19 INFO     one.py:1288 Loading wheel data\u001b[0m\n",
      "\u001b[36m2025-09-09 16:43:20 INFO     one.py:1288 Loading motion_energy data\u001b[0m\n"
     ]
    },
    {
     "name": "stderr",
     "output_type": "stream",
     "text": [
      "/opt/anaconda3/envs/iblenv/lib/python3.10/site-packages/one/util.py:428: ALFWarning: Multiple revisions: \"\", \"2025-05-31\"\n",
      "  warnings.warn(f'Multiple revisions: {rev_list}', alferr.ALFWarning)\n",
      "/opt/anaconda3/envs/iblenv/lib/python3.10/site-packages/one/util.py:428: ALFWarning: Multiple revisions: \"\", \"2025-06-01\"\n",
      "  warnings.warn(f'Multiple revisions: {rev_list}', alferr.ALFWarning)\n"
     ]
    },
    {
     "name": "stdout",
     "output_type": "stream",
     "text": [
      "\u001b[36m2025-09-09 16:43:21 INFO     one.py:1288 Loading pupil data\u001b[0m\n"
     ]
    },
    {
     "name": "stderr",
     "output_type": "stream",
     "text": [
      "/opt/anaconda3/envs/iblenv/lib/python3.10/site-packages/one/util.py:428: ALFWarning: Multiple revisions: \"2025-06-20\", \"\"\n",
      "  warnings.warn(f'Multiple revisions: {rev_list}', alferr.ALFWarning)\n"
     ]
    },
    {
     "name": "stdout",
     "output_type": "stream",
     "text": [
      "\u001b[1;33m2025-09-09 16:43:21 WARNING  one.py:1292 Could not load pupil data.\u001b[0m\n"
     ]
    },
    {
     "name": "stderr",
     "output_type": "stream",
     "text": [
      "/opt/anaconda3/envs/iblenv/lib/python3.10/site-packages/one/util.py:428: ALFWarning: Multiple revisions: \"2025-05-30\", \"\"\n",
      "  warnings.warn(f'Multiple revisions: {rev_list}', alferr.ALFWarning)\n",
      "(S3) /Users/ineslaranjeira/Downloads/FlatIron/danlab/Subjects/DY_016/2020-09-11/001/alf/_ibl_rightCamera.lightningPose.pqt: 100%|██████████| 281M/281M [00:37<00:00, 7.48MB/s] \n"
     ]
    },
    {
     "name": "stdout",
     "output_type": "stream",
     "text": [
      "\u001b[36m2025-09-09 16:44:07 INFO     one.py:1288 Loading trials data\u001b[0m\n"
     ]
    },
    {
     "name": "stderr",
     "output_type": "stream",
     "text": [
      "/opt/anaconda3/envs/iblenv/lib/python3.10/site-packages/one/util.py:428: ALFWarning: Multiple revisions: \"\", \"2025-03-03\"\n",
      "  warnings.warn(f'Multiple revisions: {rev_list}', alferr.ALFWarning)\n"
     ]
    },
    {
     "name": "stdout",
     "output_type": "stream",
     "text": [
      "\u001b[36m2025-09-09 16:44:08 INFO     one.py:1288 Loading wheel data\u001b[0m\n",
      "\u001b[36m2025-09-09 16:44:09 INFO     one.py:1288 Loading motion_energy data\u001b[0m\n"
     ]
    },
    {
     "name": "stderr",
     "output_type": "stream",
     "text": [
      "/opt/anaconda3/envs/iblenv/lib/python3.10/site-packages/one/util.py:428: ALFWarning: Multiple revisions: \"\", \"2025-05-30\"\n",
      "  warnings.warn(f'Multiple revisions: {rev_list}', alferr.ALFWarning)\n",
      "/opt/anaconda3/envs/iblenv/lib/python3.10/site-packages/one/util.py:428: ALFWarning: Multiple revisions: \"\", \"2025-05-31\"\n",
      "  warnings.warn(f'Multiple revisions: {rev_list}', alferr.ALFWarning)\n",
      "/opt/anaconda3/envs/iblenv/lib/python3.10/site-packages/one/util.py:428: ALFWarning: Multiple revisions: \"\", \"2025-06-02\"\n",
      "  warnings.warn(f'Multiple revisions: {rev_list}', alferr.ALFWarning)\n"
     ]
    },
    {
     "name": "stdout",
     "output_type": "stream",
     "text": [
      "\u001b[36m2025-09-09 16:44:10 INFO     one.py:1288 Loading pupil data\u001b[0m\n"
     ]
    },
    {
     "name": "stderr",
     "output_type": "stream",
     "text": [
      "/opt/anaconda3/envs/iblenv/lib/python3.10/site-packages/one/util.py:428: ALFWarning: Multiple revisions: \"2025-06-20\", \"\"\n",
      "  warnings.warn(f'Multiple revisions: {rev_list}', alferr.ALFWarning)\n"
     ]
    },
    {
     "name": "stdout",
     "output_type": "stream",
     "text": [
      "\u001b[1;33m2025-09-09 16:44:10 WARNING  one.py:1292 Could not load pupil data.\u001b[0m\n"
     ]
    },
    {
     "name": "stderr",
     "output_type": "stream",
     "text": [
      "/opt/anaconda3/envs/iblenv/lib/python3.10/site-packages/one/util.py:428: ALFWarning: Multiple revisions: \"2025-05-30\", \"\"\n",
      "  warnings.warn(f'Multiple revisions: {rev_list}', alferr.ALFWarning)\n"
     ]
    },
    {
     "name": "stdout",
     "output_type": "stream",
     "text": [
      "\u001b[36m2025-09-09 16:44:18 INFO     one.py:1288 Loading trials data\u001b[0m\n"
     ]
    },
    {
     "name": "stderr",
     "output_type": "stream",
     "text": [
      "/opt/anaconda3/envs/iblenv/lib/python3.10/site-packages/one/util.py:428: ALFWarning: Multiple revisions: \"\", \"2025-03-03\"\n",
      "  warnings.warn(f'Multiple revisions: {rev_list}', alferr.ALFWarning)\n"
     ]
    },
    {
     "name": "stdout",
     "output_type": "stream",
     "text": [
      "\u001b[36m2025-09-09 16:44:19 INFO     one.py:1288 Loading wheel data\u001b[0m\n",
      "\u001b[36m2025-09-09 16:44:20 INFO     one.py:1288 Loading motion_energy data\u001b[0m\n"
     ]
    },
    {
     "name": "stderr",
     "output_type": "stream",
     "text": [
      "/opt/anaconda3/envs/iblenv/lib/python3.10/site-packages/one/util.py:428: ALFWarning: Multiple revisions: \"\", \"2025-05-30\"\n",
      "  warnings.warn(f'Multiple revisions: {rev_list}', alferr.ALFWarning)\n",
      "/opt/anaconda3/envs/iblenv/lib/python3.10/site-packages/one/util.py:428: ALFWarning: Multiple revisions: \"\", \"2025-05-31\"\n",
      "  warnings.warn(f'Multiple revisions: {rev_list}', alferr.ALFWarning)\n",
      "/opt/anaconda3/envs/iblenv/lib/python3.10/site-packages/one/util.py:428: ALFWarning: Multiple revisions: \"\", \"2025-06-02\"\n",
      "  warnings.warn(f'Multiple revisions: {rev_list}', alferr.ALFWarning)\n"
     ]
    },
    {
     "name": "stdout",
     "output_type": "stream",
     "text": [
      "\u001b[36m2025-09-09 16:44:21 INFO     one.py:1288 Loading pupil data\u001b[0m\n"
     ]
    },
    {
     "name": "stderr",
     "output_type": "stream",
     "text": [
      "/opt/anaconda3/envs/iblenv/lib/python3.10/site-packages/one/util.py:428: ALFWarning: Multiple revisions: \"2025-06-20\", \"\"\n",
      "  warnings.warn(f'Multiple revisions: {rev_list}', alferr.ALFWarning)\n",
      "(S3) /Users/ineslaranjeira/Downloads/FlatIron/danlab/Subjects/DY_016/2020-09-13/001/alf/_ibl_rightCamera.lightningPose.pqt: 100%|██████████| 316M/316M [00:35<00:00, 8.98MB/s] \n"
     ]
    },
    {
     "name": "stdout",
     "output_type": "stream",
     "text": [
      "\u001b[36m2025-09-09 16:45:04 INFO     one.py:1288 Loading trials data\u001b[0m\n"
     ]
    },
    {
     "name": "stderr",
     "output_type": "stream",
     "text": [
      "/opt/anaconda3/envs/iblenv/lib/python3.10/site-packages/one/util.py:428: ALFWarning: Multiple revisions: \"\", \"2025-03-03\"\n",
      "  warnings.warn(f'Multiple revisions: {rev_list}', alferr.ALFWarning)\n"
     ]
    },
    {
     "name": "stdout",
     "output_type": "stream",
     "text": [
      "\u001b[36m2025-09-09 16:45:05 INFO     one.py:1288 Loading wheel data\u001b[0m\n",
      "\u001b[36m2025-09-09 16:45:06 INFO     one.py:1288 Loading motion_energy data\u001b[0m\n"
     ]
    },
    {
     "name": "stderr",
     "output_type": "stream",
     "text": [
      "/opt/anaconda3/envs/iblenv/lib/python3.10/site-packages/one/util.py:428: ALFWarning: Multiple revisions: \"\", \"2025-05-30\"\n",
      "  warnings.warn(f'Multiple revisions: {rev_list}', alferr.ALFWarning)\n",
      "/opt/anaconda3/envs/iblenv/lib/python3.10/site-packages/one/util.py:428: ALFWarning: Multiple revisions: \"\", \"2025-05-31\"\n",
      "  warnings.warn(f'Multiple revisions: {rev_list}', alferr.ALFWarning)\n",
      "/opt/anaconda3/envs/iblenv/lib/python3.10/site-packages/one/util.py:428: ALFWarning: Multiple revisions: \"\", \"2025-06-02\"\n",
      "  warnings.warn(f'Multiple revisions: {rev_list}', alferr.ALFWarning)\n"
     ]
    },
    {
     "name": "stdout",
     "output_type": "stream",
     "text": [
      "\u001b[36m2025-09-09 16:45:07 INFO     one.py:1288 Loading pupil data\u001b[0m\n"
     ]
    },
    {
     "name": "stderr",
     "output_type": "stream",
     "text": [
      "/opt/anaconda3/envs/iblenv/lib/python3.10/site-packages/one/util.py:428: ALFWarning: Multiple revisions: \"2025-06-04\", \"\"\n",
      "  warnings.warn(f'Multiple revisions: {rev_list}', alferr.ALFWarning)\n",
      "(S3) /Users/ineslaranjeira/Downloads/FlatIron/danlab/Subjects/DY_016/2020-09-14/001/alf/_ibl_rightCamera.lightningPose.pqt: 100%|██████████| 301M/301M [00:32<00:00, 9.34MB/s] \n"
     ]
    },
    {
     "name": "stdout",
     "output_type": "stream",
     "text": [
      "\u001b[36m2025-09-09 16:45:47 INFO     one.py:1288 Loading trials data\u001b[0m\n"
     ]
    },
    {
     "name": "stderr",
     "output_type": "stream",
     "text": [
      "/opt/anaconda3/envs/iblenv/lib/python3.10/site-packages/one/util.py:428: ALFWarning: Multiple revisions: \"\", \"2025-03-03\"\n",
      "  warnings.warn(f'Multiple revisions: {rev_list}', alferr.ALFWarning)\n"
     ]
    },
    {
     "name": "stdout",
     "output_type": "stream",
     "text": [
      "\u001b[36m2025-09-09 16:45:48 INFO     one.py:1288 Loading wheel data\u001b[0m\n",
      "\u001b[36m2025-09-09 16:45:49 INFO     one.py:1288 Loading motion_energy data\u001b[0m\n"
     ]
    },
    {
     "name": "stderr",
     "output_type": "stream",
     "text": [
      "/opt/anaconda3/envs/iblenv/lib/python3.10/site-packages/one/util.py:428: ALFWarning: Multiple revisions: \"\", \"2025-05-30\"\n",
      "  warnings.warn(f'Multiple revisions: {rev_list}', alferr.ALFWarning)\n",
      "/opt/anaconda3/envs/iblenv/lib/python3.10/site-packages/one/util.py:428: ALFWarning: Multiple revisions: \"\", \"2025-05-31\"\n",
      "  warnings.warn(f'Multiple revisions: {rev_list}', alferr.ALFWarning)\n",
      "/opt/anaconda3/envs/iblenv/lib/python3.10/site-packages/one/util.py:428: ALFWarning: Multiple revisions: \"\", \"2025-06-02\"\n",
      "  warnings.warn(f'Multiple revisions: {rev_list}', alferr.ALFWarning)\n"
     ]
    },
    {
     "name": "stdout",
     "output_type": "stream",
     "text": [
      "\u001b[36m2025-09-09 16:45:50 INFO     one.py:1288 Loading pupil data\u001b[0m\n"
     ]
    },
    {
     "name": "stderr",
     "output_type": "stream",
     "text": [
      "/opt/anaconda3/envs/iblenv/lib/python3.10/site-packages/one/util.py:428: ALFWarning: Multiple revisions: \"2025-06-04\", \"\"\n",
      "  warnings.warn(f'Multiple revisions: {rev_list}', alferr.ALFWarning)\n"
     ]
    },
    {
     "name": "stdout",
     "output_type": "stream",
     "text": [
      "\u001b[36m2025-09-09 16:45:58 INFO     one.py:1288 Loading trials data\u001b[0m\n"
     ]
    },
    {
     "name": "stderr",
     "output_type": "stream",
     "text": [
      "/opt/anaconda3/envs/iblenv/lib/python3.10/site-packages/one/util.py:428: ALFWarning: Multiple revisions: \"\", \"2025-03-03\"\n",
      "  warnings.warn(f'Multiple revisions: {rev_list}', alferr.ALFWarning)\n"
     ]
    },
    {
     "name": "stdout",
     "output_type": "stream",
     "text": [
      "\u001b[36m2025-09-09 16:45:59 INFO     one.py:1288 Loading wheel data\u001b[0m\n",
      "\u001b[36m2025-09-09 16:46:00 INFO     one.py:1288 Loading motion_energy data\u001b[0m\n"
     ]
    },
    {
     "name": "stderr",
     "output_type": "stream",
     "text": [
      "/opt/anaconda3/envs/iblenv/lib/python3.10/site-packages/one/util.py:428: ALFWarning: Multiple revisions: \"\", \"2025-05-30\"\n",
      "  warnings.warn(f'Multiple revisions: {rev_list}', alferr.ALFWarning)\n",
      "/opt/anaconda3/envs/iblenv/lib/python3.10/site-packages/one/util.py:428: ALFWarning: Multiple revisions: \"\", \"2025-05-31\"\n",
      "  warnings.warn(f'Multiple revisions: {rev_list}', alferr.ALFWarning)\n",
      "/opt/anaconda3/envs/iblenv/lib/python3.10/site-packages/one/util.py:428: ALFWarning: Multiple revisions: \"\", \"2025-06-02\"\n",
      "  warnings.warn(f'Multiple revisions: {rev_list}', alferr.ALFWarning)\n"
     ]
    },
    {
     "name": "stdout",
     "output_type": "stream",
     "text": [
      "\u001b[36m2025-09-09 16:46:01 INFO     one.py:1288 Loading pupil data\u001b[0m\n"
     ]
    },
    {
     "name": "stderr",
     "output_type": "stream",
     "text": [
      "/opt/anaconda3/envs/iblenv/lib/python3.10/site-packages/one/util.py:428: ALFWarning: Multiple revisions: \"2025-06-18\", \"\"\n",
      "  warnings.warn(f'Multiple revisions: {rev_list}', alferr.ALFWarning)\n",
      "/opt/anaconda3/envs/iblenv/lib/python3.10/site-packages/one/util.py:428: ALFWarning: Multiple revisions: \"2025-05-31\", \"\"\n",
      "  warnings.warn(f'Multiple revisions: {rev_list}', alferr.ALFWarning)\n",
      "(S3) /Users/ineslaranjeira/Downloads/FlatIron/danlab/Subjects/DY_018/2020-10-15/001/alf/_ibl_rightCamera.lightningPose.pqt: 100%|██████████| 286M/286M [00:33<00:00, 8.52MB/s] \n"
     ]
    },
    {
     "name": "stdout",
     "output_type": "stream",
     "text": [
      "\u001b[36m2025-09-09 16:46:43 INFO     one.py:1288 Loading trials data\u001b[0m\n"
     ]
    },
    {
     "name": "stderr",
     "output_type": "stream",
     "text": [
      "/opt/anaconda3/envs/iblenv/lib/python3.10/site-packages/one/util.py:428: ALFWarning: Multiple revisions: \"\", \"2025-03-03\"\n",
      "  warnings.warn(f'Multiple revisions: {rev_list}', alferr.ALFWarning)\n"
     ]
    },
    {
     "name": "stdout",
     "output_type": "stream",
     "text": [
      "\u001b[36m2025-09-09 16:46:44 INFO     one.py:1288 Loading wheel data\u001b[0m\n",
      "\u001b[36m2025-09-09 16:46:45 INFO     one.py:1288 Loading motion_energy data\u001b[0m\n"
     ]
    },
    {
     "name": "stderr",
     "output_type": "stream",
     "text": [
      "/opt/anaconda3/envs/iblenv/lib/python3.10/site-packages/one/util.py:428: ALFWarning: Multiple revisions: \"\", \"2025-05-31\"\n",
      "  warnings.warn(f'Multiple revisions: {rev_list}', alferr.ALFWarning)\n",
      "/opt/anaconda3/envs/iblenv/lib/python3.10/site-packages/one/util.py:428: ALFWarning: Multiple revisions: \"\", \"2025-06-01\"\n",
      "  warnings.warn(f'Multiple revisions: {rev_list}', alferr.ALFWarning)\n",
      "/opt/anaconda3/envs/iblenv/lib/python3.10/site-packages/one/util.py:428: ALFWarning: Multiple revisions: \"\", \"2025-06-03\"\n",
      "  warnings.warn(f'Multiple revisions: {rev_list}', alferr.ALFWarning)\n"
     ]
    },
    {
     "name": "stdout",
     "output_type": "stream",
     "text": [
      "\u001b[36m2025-09-09 16:46:46 INFO     one.py:1288 Loading pupil data\u001b[0m\n"
     ]
    },
    {
     "name": "stderr",
     "output_type": "stream",
     "text": [
      "/opt/anaconda3/envs/iblenv/lib/python3.10/site-packages/one/util.py:428: ALFWarning: Multiple revisions: \"2025-06-23\", \"\"\n",
      "  warnings.warn(f'Multiple revisions: {rev_list}', alferr.ALFWarning)\n",
      "local file size mismatch on dataset: danlab/Subjects/DY_018/2020-10-17/001/alf/_ibl_leftCamera.lightningPose.pqt\n",
      "(S3) /Users/ineslaranjeira/Downloads/FlatIron/danlab/Subjects/DY_018/2020-10-17/001/alf/_ibl_leftCamera.lightningPose.pqt: 100%|██████████| 108M/108M [00:16<00:00, 6.58MB/s] \n"
     ]
    },
    {
     "name": "stdout",
     "output_type": "stream",
     "text": [
      "\u001b[36m2025-09-09 16:47:10 INFO     one.py:1288 Loading trials data\u001b[0m\n"
     ]
    },
    {
     "name": "stderr",
     "output_type": "stream",
     "text": [
      "/opt/anaconda3/envs/iblenv/lib/python3.10/site-packages/one/util.py:428: ALFWarning: Multiple revisions: \"\", \"2025-03-03\"\n",
      "  warnings.warn(f'Multiple revisions: {rev_list}', alferr.ALFWarning)\n"
     ]
    },
    {
     "name": "stdout",
     "output_type": "stream",
     "text": [
      "\u001b[36m2025-09-09 16:47:11 INFO     one.py:1288 Loading wheel data\u001b[0m\n",
      "\u001b[36m2025-09-09 16:47:12 INFO     one.py:1288 Loading motion_energy data\u001b[0m\n"
     ]
    },
    {
     "name": "stderr",
     "output_type": "stream",
     "text": [
      "/opt/anaconda3/envs/iblenv/lib/python3.10/site-packages/one/util.py:428: ALFWarning: Multiple revisions: \"\", \"2025-05-31\"\n",
      "  warnings.warn(f'Multiple revisions: {rev_list}', alferr.ALFWarning)\n",
      "/opt/anaconda3/envs/iblenv/lib/python3.10/site-packages/one/util.py:428: ALFWarning: Multiple revisions: \"\", \"2025-06-01\"\n",
      "  warnings.warn(f'Multiple revisions: {rev_list}', alferr.ALFWarning)\n",
      "/opt/anaconda3/envs/iblenv/lib/python3.10/site-packages/one/util.py:428: ALFWarning: Multiple revisions: \"\", \"2025-06-03\"\n",
      "  warnings.warn(f'Multiple revisions: {rev_list}', alferr.ALFWarning)\n"
     ]
    },
    {
     "name": "stdout",
     "output_type": "stream",
     "text": [
      "\u001b[36m2025-09-09 16:47:13 INFO     one.py:1288 Loading pupil data\u001b[0m\n"
     ]
    },
    {
     "name": "stderr",
     "output_type": "stream",
     "text": [
      "/opt/anaconda3/envs/iblenv/lib/python3.10/site-packages/one/util.py:428: ALFWarning: Multiple revisions: \"2025-06-18\", \"\"\n",
      "  warnings.warn(f'Multiple revisions: {rev_list}', alferr.ALFWarning)\n",
      "local file size mismatch on dataset: danlab/Subjects/DY_018/2020-10-20/001/alf/_ibl_leftCamera.lightningPose.pqt\n",
      "(S3) /Users/ineslaranjeira/Downloads/FlatIron/danlab/Subjects/DY_018/2020-10-20/001/alf/_ibl_leftCamera.lightningPose.pqt: 100%|██████████| 103M/103M [00:16<00:00, 6.24MB/s] \n"
     ]
    },
    {
     "name": "stdout",
     "output_type": "stream",
     "text": [
      "\u001b[36m2025-09-09 16:47:38 INFO     one.py:1288 Loading trials data\u001b[0m\n"
     ]
    },
    {
     "name": "stderr",
     "output_type": "stream",
     "text": [
      "/opt/anaconda3/envs/iblenv/lib/python3.10/site-packages/one/util.py:428: ALFWarning: Multiple revisions: \"\", \"2025-03-03\"\n",
      "  warnings.warn(f'Multiple revisions: {rev_list}', alferr.ALFWarning)\n"
     ]
    },
    {
     "name": "stdout",
     "output_type": "stream",
     "text": [
      "\u001b[36m2025-09-09 16:47:39 INFO     one.py:1288 Loading wheel data\u001b[0m\n",
      "\u001b[36m2025-09-09 16:47:39 INFO     one.py:1288 Loading motion_energy data\u001b[0m\n"
     ]
    },
    {
     "name": "stderr",
     "output_type": "stream",
     "text": [
      "/opt/anaconda3/envs/iblenv/lib/python3.10/site-packages/one/util.py:428: ALFWarning: Multiple revisions: \"\", \"2025-05-31\"\n",
      "  warnings.warn(f'Multiple revisions: {rev_list}', alferr.ALFWarning)\n",
      "/opt/anaconda3/envs/iblenv/lib/python3.10/site-packages/one/util.py:428: ALFWarning: Multiple revisions: \"\", \"2025-06-01\"\n",
      "  warnings.warn(f'Multiple revisions: {rev_list}', alferr.ALFWarning)\n",
      "/opt/anaconda3/envs/iblenv/lib/python3.10/site-packages/one/util.py:428: ALFWarning: Multiple revisions: \"\", \"2025-06-03\"\n",
      "  warnings.warn(f'Multiple revisions: {rev_list}', alferr.ALFWarning)\n"
     ]
    },
    {
     "name": "stdout",
     "output_type": "stream",
     "text": [
      "\u001b[36m2025-09-09 16:47:40 INFO     one.py:1288 Loading pupil data\u001b[0m\n"
     ]
    },
    {
     "name": "stderr",
     "output_type": "stream",
     "text": [
      "/opt/anaconda3/envs/iblenv/lib/python3.10/site-packages/one/util.py:428: ALFWarning: Multiple revisions: \"2025-06-18\", \"\"\n",
      "  warnings.warn(f'Multiple revisions: {rev_list}', alferr.ALFWarning)\n",
      "/opt/anaconda3/envs/iblenv/lib/python3.10/site-packages/one/util.py:428: ALFWarning: Multiple revisions: \"2025-05-30\", \"\"\n",
      "  warnings.warn(f'Multiple revisions: {rev_list}', alferr.ALFWarning)\n",
      "(S3) /Users/ineslaranjeira/Downloads/FlatIron/danlab/Subjects/DY_020/2020-09-29/001/alf/_ibl_rightCamera.lightningPose.pqt: 100%|██████████| 319M/319M [00:35<00:00, 9.03MB/s] \n"
     ]
    },
    {
     "name": "stdout",
     "output_type": "stream",
     "text": [
      "\u001b[36m2025-09-09 16:48:24 INFO     one.py:1288 Loading trials data\u001b[0m\n"
     ]
    },
    {
     "name": "stderr",
     "output_type": "stream",
     "text": [
      "/opt/anaconda3/envs/iblenv/lib/python3.10/site-packages/one/util.py:428: ALFWarning: Multiple revisions: \"\", \"2025-03-03\"\n",
      "  warnings.warn(f'Multiple revisions: {rev_list}', alferr.ALFWarning)\n"
     ]
    },
    {
     "name": "stdout",
     "output_type": "stream",
     "text": [
      "\u001b[36m2025-09-09 16:48:25 INFO     one.py:1288 Loading wheel data\u001b[0m\n",
      "\u001b[36m2025-09-09 16:48:26 INFO     one.py:1288 Loading motion_energy data\u001b[0m\n"
     ]
    },
    {
     "name": "stderr",
     "output_type": "stream",
     "text": [
      "/opt/anaconda3/envs/iblenv/lib/python3.10/site-packages/one/util.py:428: ALFWarning: Multiple revisions: \"\", \"2025-05-30\"\n",
      "  warnings.warn(f'Multiple revisions: {rev_list}', alferr.ALFWarning)\n",
      "/opt/anaconda3/envs/iblenv/lib/python3.10/site-packages/one/util.py:428: ALFWarning: Multiple revisions: \"\", \"2025-05-31\"\n",
      "  warnings.warn(f'Multiple revisions: {rev_list}', alferr.ALFWarning)\n",
      "/opt/anaconda3/envs/iblenv/lib/python3.10/site-packages/one/util.py:428: ALFWarning: Multiple revisions: \"\", \"2025-06-02\"\n",
      "  warnings.warn(f'Multiple revisions: {rev_list}', alferr.ALFWarning)\n"
     ]
    },
    {
     "name": "stdout",
     "output_type": "stream",
     "text": [
      "\u001b[36m2025-09-09 16:48:27 INFO     one.py:1288 Loading pupil data\u001b[0m\n"
     ]
    },
    {
     "name": "stderr",
     "output_type": "stream",
     "text": [
      "/opt/anaconda3/envs/iblenv/lib/python3.10/site-packages/one/util.py:428: ALFWarning: Multiple revisions: \"2025-06-20\", \"\"\n",
      "  warnings.warn(f'Multiple revisions: {rev_list}', alferr.ALFWarning)\n",
      "(S3) /Users/ineslaranjeira/Downloads/FlatIron/danlab/Subjects/DY_020/2020-09-30/001/alf/_ibl_rightCamera.lightningPose.pqt: 100%|██████████| 316M/316M [00:37<00:00, 8.48MB/s] \n"
     ]
    },
    {
     "name": "stdout",
     "output_type": "stream",
     "text": [
      "\u001b[36m2025-09-09 16:49:13 INFO     one.py:1288 Loading trials data\u001b[0m\n"
     ]
    },
    {
     "name": "stderr",
     "output_type": "stream",
     "text": [
      "/opt/anaconda3/envs/iblenv/lib/python3.10/site-packages/one/util.py:428: ALFWarning: Multiple revisions: \"\", \"2025-03-03\"\n",
      "  warnings.warn(f'Multiple revisions: {rev_list}', alferr.ALFWarning)\n"
     ]
    },
    {
     "name": "stdout",
     "output_type": "stream",
     "text": [
      "\u001b[36m2025-09-09 16:49:14 INFO     one.py:1288 Loading wheel data\u001b[0m\n",
      "\u001b[36m2025-09-09 16:49:15 INFO     one.py:1288 Loading motion_energy data\u001b[0m\n"
     ]
    },
    {
     "name": "stderr",
     "output_type": "stream",
     "text": [
      "/opt/anaconda3/envs/iblenv/lib/python3.10/site-packages/one/util.py:428: ALFWarning: Multiple revisions: \"\", \"2025-05-30\"\n",
      "  warnings.warn(f'Multiple revisions: {rev_list}', alferr.ALFWarning)\n",
      "/opt/anaconda3/envs/iblenv/lib/python3.10/site-packages/one/util.py:428: ALFWarning: Multiple revisions: \"\", \"2025-05-31\"\n",
      "  warnings.warn(f'Multiple revisions: {rev_list}', alferr.ALFWarning)\n",
      "/opt/anaconda3/envs/iblenv/lib/python3.10/site-packages/one/util.py:428: ALFWarning: Multiple revisions: \"\", \"2025-06-02\"\n",
      "  warnings.warn(f'Multiple revisions: {rev_list}', alferr.ALFWarning)\n"
     ]
    },
    {
     "name": "stdout",
     "output_type": "stream",
     "text": [
      "\u001b[36m2025-09-09 16:49:16 INFO     one.py:1288 Loading pupil data\u001b[0m\n"
     ]
    },
    {
     "name": "stderr",
     "output_type": "stream",
     "text": [
      "/opt/anaconda3/envs/iblenv/lib/python3.10/site-packages/one/util.py:428: ALFWarning: Multiple revisions: \"2025-06-04\", \"\"\n",
      "  warnings.warn(f'Multiple revisions: {rev_list}', alferr.ALFWarning)\n",
      "(S3) /Users/ineslaranjeira/Downloads/FlatIron/danlab/Subjects/DY_020/2020-10-01/001/alf/_ibl_rightCamera.lightningPose.pqt: 100%|██████████| 336M/336M [00:39<00:00, 8.45MB/s] \n"
     ]
    },
    {
     "name": "stdout",
     "output_type": "stream",
     "text": [
      "\u001b[36m2025-09-09 16:50:16 INFO     one.py:1288 Loading trials data\u001b[0m\n"
     ]
    },
    {
     "name": "stderr",
     "output_type": "stream",
     "text": [
      "/opt/anaconda3/envs/iblenv/lib/python3.10/site-packages/one/util.py:428: ALFWarning: Multiple revisions: \"\", \"2025-03-03\"\n",
      "  warnings.warn(f'Multiple revisions: {rev_list}', alferr.ALFWarning)\n"
     ]
    },
    {
     "name": "stdout",
     "output_type": "stream",
     "text": [
      "\u001b[36m2025-09-09 16:50:17 INFO     one.py:1288 Loading wheel data\u001b[0m\n",
      "\u001b[36m2025-09-09 16:50:18 INFO     one.py:1288 Loading motion_energy data\u001b[0m\n"
     ]
    },
    {
     "name": "stderr",
     "output_type": "stream",
     "text": [
      "/opt/anaconda3/envs/iblenv/lib/python3.10/site-packages/one/util.py:428: ALFWarning: Multiple revisions: \"\", \"2025-05-30\"\n",
      "  warnings.warn(f'Multiple revisions: {rev_list}', alferr.ALFWarning)\n",
      "/opt/anaconda3/envs/iblenv/lib/python3.10/site-packages/one/util.py:428: ALFWarning: Multiple revisions: \"\", \"2025-05-31\"\n",
      "  warnings.warn(f'Multiple revisions: {rev_list}', alferr.ALFWarning)\n",
      "/opt/anaconda3/envs/iblenv/lib/python3.10/site-packages/one/util.py:428: ALFWarning: Multiple revisions: \"\", \"2025-06-02\"\n",
      "  warnings.warn(f'Multiple revisions: {rev_list}', alferr.ALFWarning)\n"
     ]
    },
    {
     "name": "stdout",
     "output_type": "stream",
     "text": [
      "\u001b[36m2025-09-09 16:50:19 INFO     one.py:1288 Loading pupil data\u001b[0m\n"
     ]
    },
    {
     "name": "stderr",
     "output_type": "stream",
     "text": [
      "/opt/anaconda3/envs/iblenv/lib/python3.10/site-packages/one/util.py:428: ALFWarning: Multiple revisions: \"2025-06-04\", \"\"\n",
      "  warnings.warn(f'Multiple revisions: {rev_list}', alferr.ALFWarning)\n",
      "(S3) /Users/ineslaranjeira/Downloads/FlatIron/danlab/Subjects/DY_020/2020-10-02/001/alf/_ibl_rightCamera.lightningPose.pqt: 100%|██████████| 324M/324M [00:41<00:00, 7.83MB/s] \n"
     ]
    },
    {
     "name": "stdout",
     "output_type": "stream",
     "text": [
      "\u001b[36m2025-09-09 16:51:09 INFO     one.py:1288 Loading trials data\u001b[0m\n"
     ]
    },
    {
     "name": "stderr",
     "output_type": "stream",
     "text": [
      "/opt/anaconda3/envs/iblenv/lib/python3.10/site-packages/one/util.py:428: ALFWarning: Multiple revisions: \"\", \"2025-03-03\"\n",
      "  warnings.warn(f'Multiple revisions: {rev_list}', alferr.ALFWarning)\n"
     ]
    },
    {
     "name": "stdout",
     "output_type": "stream",
     "text": [
      "\u001b[36m2025-09-09 16:51:10 INFO     one.py:1288 Loading wheel data\u001b[0m\n",
      "\u001b[36m2025-09-09 16:51:11 INFO     one.py:1288 Loading motion_energy data\u001b[0m\n"
     ]
    },
    {
     "name": "stderr",
     "output_type": "stream",
     "text": [
      "/opt/anaconda3/envs/iblenv/lib/python3.10/site-packages/one/util.py:428: ALFWarning: Multiple revisions: \"\", \"2025-05-30\"\n",
      "  warnings.warn(f'Multiple revisions: {rev_list}', alferr.ALFWarning)\n",
      "/opt/anaconda3/envs/iblenv/lib/python3.10/site-packages/one/util.py:428: ALFWarning: Multiple revisions: \"\", \"2025-05-31\"\n",
      "  warnings.warn(f'Multiple revisions: {rev_list}', alferr.ALFWarning)\n",
      "/opt/anaconda3/envs/iblenv/lib/python3.10/site-packages/one/util.py:428: ALFWarning: Multiple revisions: \"\", \"2025-06-02\"\n",
      "  warnings.warn(f'Multiple revisions: {rev_list}', alferr.ALFWarning)\n"
     ]
    },
    {
     "name": "stdout",
     "output_type": "stream",
     "text": [
      "\u001b[36m2025-09-09 16:51:12 INFO     one.py:1288 Loading pupil data\u001b[0m\n"
     ]
    },
    {
     "name": "stderr",
     "output_type": "stream",
     "text": [
      "/opt/anaconda3/envs/iblenv/lib/python3.10/site-packages/one/util.py:428: ALFWarning: Multiple revisions: \"2025-06-04\", \"\"\n",
      "  warnings.warn(f'Multiple revisions: {rev_list}', alferr.ALFWarning)\n"
     ]
    },
    {
     "name": "stdout",
     "output_type": "stream",
     "text": [
      "\u001b[36m2025-09-09 16:51:20 INFO     one.py:1288 Loading trials data\u001b[0m\n"
     ]
    },
    {
     "name": "stderr",
     "output_type": "stream",
     "text": [
      "/opt/anaconda3/envs/iblenv/lib/python3.10/site-packages/one/util.py:428: ALFWarning: Multiple revisions: \"\", \"2025-03-03\"\n",
      "  warnings.warn(f'Multiple revisions: {rev_list}', alferr.ALFWarning)\n"
     ]
    },
    {
     "name": "stdout",
     "output_type": "stream",
     "text": [
      "\u001b[36m2025-09-09 16:51:21 INFO     one.py:1288 Loading wheel data\u001b[0m\n",
      "\u001b[36m2025-09-09 16:51:22 INFO     one.py:1288 Loading motion_energy data\u001b[0m\n"
     ]
    },
    {
     "name": "stderr",
     "output_type": "stream",
     "text": [
      "/opt/anaconda3/envs/iblenv/lib/python3.10/site-packages/one/util.py:428: ALFWarning: Multiple revisions: \"\", \"2025-05-30\"\n",
      "  warnings.warn(f'Multiple revisions: {rev_list}', alferr.ALFWarning)\n",
      "/opt/anaconda3/envs/iblenv/lib/python3.10/site-packages/one/util.py:428: ALFWarning: Multiple revisions: \"\", \"2025-05-31\"\n",
      "  warnings.warn(f'Multiple revisions: {rev_list}', alferr.ALFWarning)\n",
      "/opt/anaconda3/envs/iblenv/lib/python3.10/site-packages/one/util.py:428: ALFWarning: Multiple revisions: \"\", \"2025-06-02\"\n",
      "  warnings.warn(f'Multiple revisions: {rev_list}', alferr.ALFWarning)\n"
     ]
    },
    {
     "name": "stdout",
     "output_type": "stream",
     "text": [
      "\u001b[36m2025-09-09 16:51:23 INFO     one.py:1288 Loading pupil data\u001b[0m\n"
     ]
    },
    {
     "name": "stderr",
     "output_type": "stream",
     "text": [
      "/opt/anaconda3/envs/iblenv/lib/python3.10/site-packages/one/util.py:428: ALFWarning: Multiple revisions: \"2025-06-18\", \"\"\n",
      "  warnings.warn(f'Multiple revisions: {rev_list}', alferr.ALFWarning)\n",
      "(S3) /Users/ineslaranjeira/Downloads/FlatIron/danlab/Subjects/DY_020/2020-10-04/001/alf/_ibl_rightCamera.lightningPose.pqt: 100%|██████████| 315M/315M [00:37<00:00, 8.38MB/s] \n"
     ]
    },
    {
     "name": "stdout",
     "output_type": "stream",
     "text": [
      "\u001b[36m2025-09-09 16:52:08 INFO     one.py:1288 Loading trials data\u001b[0m\n"
     ]
    },
    {
     "name": "stderr",
     "output_type": "stream",
     "text": [
      "/opt/anaconda3/envs/iblenv/lib/python3.10/site-packages/one/util.py:428: ALFWarning: Multiple revisions: \"\", \"2025-03-03\"\n",
      "  warnings.warn(f'Multiple revisions: {rev_list}', alferr.ALFWarning)\n"
     ]
    },
    {
     "name": "stdout",
     "output_type": "stream",
     "text": [
      "\u001b[36m2025-09-09 16:52:09 INFO     one.py:1288 Loading wheel data\u001b[0m\n",
      "\u001b[36m2025-09-09 16:52:10 INFO     one.py:1288 Loading motion_energy data\u001b[0m\n"
     ]
    },
    {
     "name": "stderr",
     "output_type": "stream",
     "text": [
      "/opt/anaconda3/envs/iblenv/lib/python3.10/site-packages/one/util.py:428: ALFWarning: Multiple revisions: \"\", \"2025-05-30\"\n",
      "  warnings.warn(f'Multiple revisions: {rev_list}', alferr.ALFWarning)\n",
      "/opt/anaconda3/envs/iblenv/lib/python3.10/site-packages/one/util.py:428: ALFWarning: Multiple revisions: \"\", \"2025-05-31\"\n",
      "  warnings.warn(f'Multiple revisions: {rev_list}', alferr.ALFWarning)\n",
      "/opt/anaconda3/envs/iblenv/lib/python3.10/site-packages/one/util.py:428: ALFWarning: Multiple revisions: \"\", \"2025-06-02\"\n",
      "  warnings.warn(f'Multiple revisions: {rev_list}', alferr.ALFWarning)\n"
     ]
    },
    {
     "name": "stdout",
     "output_type": "stream",
     "text": [
      "\u001b[36m2025-09-09 16:52:11 INFO     one.py:1288 Loading pupil data\u001b[0m\n"
     ]
    },
    {
     "name": "stderr",
     "output_type": "stream",
     "text": [
      "/opt/anaconda3/envs/iblenv/lib/python3.10/site-packages/one/util.py:428: ALFWarning: Multiple revisions: \"2025-06-04\", \"\"\n",
      "  warnings.warn(f'Multiple revisions: {rev_list}', alferr.ALFWarning)\n",
      "(S3) /Users/ineslaranjeira/Downloads/FlatIron/danlab/Subjects/DY_020/2020-10-05/001/alf/_ibl_rightCamera.lightningPose.pqt: 100%|██████████| 297M/297M [00:33<00:00, 8.77MB/s] \n"
     ]
    },
    {
     "name": "stdout",
     "output_type": "stream",
     "text": [
      "\u001b[36m2025-09-09 16:52:54 INFO     one.py:1288 Loading trials data\u001b[0m\n"
     ]
    },
    {
     "name": "stderr",
     "output_type": "stream",
     "text": [
      "/opt/anaconda3/envs/iblenv/lib/python3.10/site-packages/one/util.py:428: ALFWarning: Multiple revisions: \"\", \"2025-03-03\"\n",
      "  warnings.warn(f'Multiple revisions: {rev_list}', alferr.ALFWarning)\n"
     ]
    },
    {
     "name": "stdout",
     "output_type": "stream",
     "text": [
      "\u001b[36m2025-09-09 16:52:55 INFO     one.py:1288 Loading wheel data\u001b[0m\n",
      "\u001b[36m2025-09-09 16:52:56 INFO     one.py:1288 Loading motion_energy data\u001b[0m\n"
     ]
    },
    {
     "name": "stderr",
     "output_type": "stream",
     "text": [
      "/opt/anaconda3/envs/iblenv/lib/python3.10/site-packages/one/util.py:428: ALFWarning: Multiple revisions: \"\", \"2025-05-30\"\n",
      "  warnings.warn(f'Multiple revisions: {rev_list}', alferr.ALFWarning)\n",
      "/opt/anaconda3/envs/iblenv/lib/python3.10/site-packages/one/util.py:428: ALFWarning: Multiple revisions: \"\", \"2025-05-31\"\n",
      "  warnings.warn(f'Multiple revisions: {rev_list}', alferr.ALFWarning)\n",
      "/opt/anaconda3/envs/iblenv/lib/python3.10/site-packages/one/util.py:428: ALFWarning: Multiple revisions: \"\", \"2025-06-02\"\n",
      "  warnings.warn(f'Multiple revisions: {rev_list}', alferr.ALFWarning)\n"
     ]
    },
    {
     "name": "stdout",
     "output_type": "stream",
     "text": [
      "\u001b[36m2025-09-09 16:52:57 INFO     one.py:1288 Loading pupil data\u001b[0m\n"
     ]
    },
    {
     "name": "stderr",
     "output_type": "stream",
     "text": [
      "/opt/anaconda3/envs/iblenv/lib/python3.10/site-packages/one/util.py:428: ALFWarning: Multiple revisions: \"2025-06-04\", \"\"\n",
      "  warnings.warn(f'Multiple revisions: {rev_list}', alferr.ALFWarning)\n",
      "(S3) /Users/ineslaranjeira/Downloads/FlatIron/danlab/Subjects/DY_020/2020-10-06/001/alf/_ibl_rightCamera.lightningPose.pqt: 100%|██████████| 297M/297M [00:39<00:00, 7.49MB/s] \n"
     ]
    },
    {
     "name": "stdout",
     "output_type": "stream",
     "text": [
      "\u001b[36m2025-09-09 16:53:45 INFO     one.py:1288 Loading trials data\u001b[0m\n"
     ]
    },
    {
     "name": "stderr",
     "output_type": "stream",
     "text": [
      "/opt/anaconda3/envs/iblenv/lib/python3.10/site-packages/one/util.py:428: ALFWarning: Multiple revisions: \"\", \"2025-03-03\"\n",
      "  warnings.warn(f'Multiple revisions: {rev_list}', alferr.ALFWarning)\n"
     ]
    },
    {
     "name": "stdout",
     "output_type": "stream",
     "text": [
      "\u001b[36m2025-09-09 16:53:46 INFO     one.py:1288 Loading wheel data\u001b[0m\n",
      "\u001b[36m2025-09-09 16:53:47 INFO     one.py:1288 Loading motion_energy data\u001b[0m\n"
     ]
    },
    {
     "name": "stderr",
     "output_type": "stream",
     "text": [
      "/opt/anaconda3/envs/iblenv/lib/python3.10/site-packages/one/util.py:428: ALFWarning: Multiple revisions: \"\", \"2025-05-30\"\n",
      "  warnings.warn(f'Multiple revisions: {rev_list}', alferr.ALFWarning)\n",
      "/opt/anaconda3/envs/iblenv/lib/python3.10/site-packages/one/util.py:428: ALFWarning: Multiple revisions: \"\", \"2025-05-31\"\n",
      "  warnings.warn(f'Multiple revisions: {rev_list}', alferr.ALFWarning)\n",
      "/opt/anaconda3/envs/iblenv/lib/python3.10/site-packages/one/util.py:428: ALFWarning: Multiple revisions: \"\", \"2025-06-02\"\n",
      "  warnings.warn(f'Multiple revisions: {rev_list}', alferr.ALFWarning)\n"
     ]
    },
    {
     "name": "stdout",
     "output_type": "stream",
     "text": [
      "\u001b[36m2025-09-09 16:53:48 INFO     one.py:1288 Loading pupil data\u001b[0m\n"
     ]
    },
    {
     "name": "stderr",
     "output_type": "stream",
     "text": [
      "/opt/anaconda3/envs/iblenv/lib/python3.10/site-packages/one/util.py:428: ALFWarning: Multiple revisions: \"2025-06-18\", \"\"\n",
      "  warnings.warn(f'Multiple revisions: {rev_list}', alferr.ALFWarning)\n",
      "(S3) /Users/ineslaranjeira/Downloads/FlatIron/hausserlab/Subjects/PL015/2022-02-20/001/alf/_ibl_rightCamera.lightningPose.pqt: 100%|██████████| 307M/307M [00:37<00:00, 8.24MB/s] \n"
     ]
    },
    {
     "name": "stdout",
     "output_type": "stream",
     "text": [
      "\u001b[36m2025-09-09 16:54:33 INFO     one.py:1288 Loading trials data\u001b[0m\n"
     ]
    },
    {
     "name": "stderr",
     "output_type": "stream",
     "text": [
      "/opt/anaconda3/envs/iblenv/lib/python3.10/site-packages/one/util.py:428: ALFWarning: Multiple revisions: \"\", \"2025-03-03\"\n",
      "  warnings.warn(f'Multiple revisions: {rev_list}', alferr.ALFWarning)\n"
     ]
    },
    {
     "name": "stdout",
     "output_type": "stream",
     "text": [
      "\u001b[36m2025-09-09 16:54:34 INFO     one.py:1288 Loading wheel data\u001b[0m\n"
     ]
    },
    {
     "name": "stderr",
     "output_type": "stream",
     "text": [
      "/opt/anaconda3/envs/iblenv/lib/python3.10/site-packages/one/util.py:428: ALFWarning: Multiple revisions: \"2024-05-06\", \"\"\n",
      "  warnings.warn(f'Multiple revisions: {rev_list}', alferr.ALFWarning)\n"
     ]
    },
    {
     "name": "stdout",
     "output_type": "stream",
     "text": [
      "\u001b[36m2025-09-09 16:54:35 INFO     one.py:1288 Loading motion_energy data\u001b[0m\n"
     ]
    },
    {
     "name": "stderr",
     "output_type": "stream",
     "text": [
      "/opt/anaconda3/envs/iblenv/lib/python3.10/site-packages/one/util.py:428: ALFWarning: Multiple revisions: \"\", \"2025-05-30\"\n",
      "  warnings.warn(f'Multiple revisions: {rev_list}', alferr.ALFWarning)\n",
      "/opt/anaconda3/envs/iblenv/lib/python3.10/site-packages/one/util.py:428: ALFWarning: Multiple revisions: \"\", \"2025-05-31\"\n",
      "  warnings.warn(f'Multiple revisions: {rev_list}', alferr.ALFWarning)\n",
      "/opt/anaconda3/envs/iblenv/lib/python3.10/site-packages/one/util.py:428: ALFWarning: Multiple revisions: \"\", \"2025-06-02\"\n",
      "  warnings.warn(f'Multiple revisions: {rev_list}', alferr.ALFWarning)\n"
     ]
    },
    {
     "name": "stdout",
     "output_type": "stream",
     "text": [
      "\u001b[36m2025-09-09 16:54:36 INFO     one.py:1288 Loading pupil data\u001b[0m\n"
     ]
    },
    {
     "name": "stderr",
     "output_type": "stream",
     "text": [
      "/opt/anaconda3/envs/iblenv/lib/python3.10/site-packages/one/util.py:428: ALFWarning: Multiple revisions: \"2025-06-18\", \"\"\n",
      "  warnings.warn(f'Multiple revisions: {rev_list}', alferr.ALFWarning)\n"
     ]
    },
    {
     "name": "stdout",
     "output_type": "stream",
     "text": [
      "\u001b[1;33m2025-09-09 16:54:37 WARNING  one.py:1292 Could not load pupil data.\u001b[0m\n",
      "\u001b[36m2025-09-09 16:54:43 INFO     one.py:1288 Loading trials data\u001b[0m\n"
     ]
    },
    {
     "name": "stderr",
     "output_type": "stream",
     "text": [
      "/opt/anaconda3/envs/iblenv/lib/python3.10/site-packages/one/util.py:428: ALFWarning: Multiple revisions: \"\", \"2025-03-03\"\n",
      "  warnings.warn(f'Multiple revisions: {rev_list}', alferr.ALFWarning)\n"
     ]
    },
    {
     "name": "stdout",
     "output_type": "stream",
     "text": [
      "\u001b[36m2025-09-09 16:54:43 INFO     one.py:1288 Loading wheel data\u001b[0m\n"
     ]
    },
    {
     "name": "stderr",
     "output_type": "stream",
     "text": [
      "/opt/anaconda3/envs/iblenv/lib/python3.10/site-packages/one/util.py:428: ALFWarning: Multiple revisions: \"2024-05-06\", \"\"\n",
      "  warnings.warn(f'Multiple revisions: {rev_list}', alferr.ALFWarning)\n"
     ]
    },
    {
     "name": "stdout",
     "output_type": "stream",
     "text": [
      "\u001b[36m2025-09-09 16:54:44 INFO     one.py:1288 Loading motion_energy data\u001b[0m\n"
     ]
    },
    {
     "name": "stderr",
     "output_type": "stream",
     "text": [
      "/opt/anaconda3/envs/iblenv/lib/python3.10/site-packages/one/util.py:428: ALFWarning: Multiple revisions: \"\", \"2025-05-30\"\n",
      "  warnings.warn(f'Multiple revisions: {rev_list}', alferr.ALFWarning)\n",
      "/opt/anaconda3/envs/iblenv/lib/python3.10/site-packages/one/util.py:428: ALFWarning: Multiple revisions: \"\", \"2025-05-31\"\n",
      "  warnings.warn(f'Multiple revisions: {rev_list}', alferr.ALFWarning)\n",
      "/opt/anaconda3/envs/iblenv/lib/python3.10/site-packages/one/util.py:428: ALFWarning: Multiple revisions: \"\", \"2025-06-02\"\n",
      "  warnings.warn(f'Multiple revisions: {rev_list}', alferr.ALFWarning)\n"
     ]
    },
    {
     "name": "stdout",
     "output_type": "stream",
     "text": [
      "\u001b[36m2025-09-09 16:54:45 INFO     one.py:1288 Loading pupil data\u001b[0m\n"
     ]
    },
    {
     "name": "stderr",
     "output_type": "stream",
     "text": [
      "/opt/anaconda3/envs/iblenv/lib/python3.10/site-packages/one/util.py:428: ALFWarning: Multiple revisions: \"2025-06-18\", \"\"\n",
      "  warnings.warn(f'Multiple revisions: {rev_list}', alferr.ALFWarning)\n"
     ]
    },
    {
     "name": "stdout",
     "output_type": "stream",
     "text": [
      "\u001b[1;33m2025-09-09 16:54:45 WARNING  one.py:1292 Could not load pupil data.\u001b[0m\n",
      "\u001b[36m2025-09-09 16:54:51 INFO     one.py:1288 Loading trials data\u001b[0m\n"
     ]
    },
    {
     "name": "stderr",
     "output_type": "stream",
     "text": [
      "/opt/anaconda3/envs/iblenv/lib/python3.10/site-packages/one/util.py:428: ALFWarning: Multiple revisions: \"\", \"2025-03-03\"\n",
      "  warnings.warn(f'Multiple revisions: {rev_list}', alferr.ALFWarning)\n"
     ]
    },
    {
     "name": "stdout",
     "output_type": "stream",
     "text": [
      "\u001b[36m2025-09-09 16:54:52 INFO     one.py:1288 Loading wheel data\u001b[0m\n"
     ]
    },
    {
     "name": "stderr",
     "output_type": "stream",
     "text": [
      "/opt/anaconda3/envs/iblenv/lib/python3.10/site-packages/one/util.py:428: ALFWarning: Multiple revisions: \"\", \"2024-05-06\"\n",
      "  warnings.warn(f'Multiple revisions: {rev_list}', alferr.ALFWarning)\n"
     ]
    },
    {
     "name": "stdout",
     "output_type": "stream",
     "text": [
      "\u001b[36m2025-09-09 16:54:53 INFO     one.py:1288 Loading motion_energy data\u001b[0m\n"
     ]
    },
    {
     "name": "stderr",
     "output_type": "stream",
     "text": [
      "/opt/anaconda3/envs/iblenv/lib/python3.10/site-packages/one/util.py:428: ALFWarning: Multiple revisions: \"\", \"2025-05-30\"\n",
      "  warnings.warn(f'Multiple revisions: {rev_list}', alferr.ALFWarning)\n",
      "/opt/anaconda3/envs/iblenv/lib/python3.10/site-packages/one/util.py:428: ALFWarning: Multiple revisions: \"\", \"2025-05-31\"\n",
      "  warnings.warn(f'Multiple revisions: {rev_list}', alferr.ALFWarning)\n",
      "/opt/anaconda3/envs/iblenv/lib/python3.10/site-packages/one/util.py:428: ALFWarning: Multiple revisions: \"\", \"2025-06-02\"\n",
      "  warnings.warn(f'Multiple revisions: {rev_list}', alferr.ALFWarning)\n"
     ]
    },
    {
     "name": "stdout",
     "output_type": "stream",
     "text": [
      "\u001b[36m2025-09-09 16:54:53 INFO     one.py:1288 Loading pupil data\u001b[0m\n"
     ]
    },
    {
     "name": "stderr",
     "output_type": "stream",
     "text": [
      "/opt/anaconda3/envs/iblenv/lib/python3.10/site-packages/one/util.py:428: ALFWarning: Multiple revisions: \"2025-06-18\", \"\"\n",
      "  warnings.warn(f'Multiple revisions: {rev_list}', alferr.ALFWarning)\n"
     ]
    },
    {
     "name": "stdout",
     "output_type": "stream",
     "text": [
      "\u001b[1;33m2025-09-09 16:54:54 WARNING  one.py:1292 Could not load pupil data.\u001b[0m\n",
      "\u001b[36m2025-09-09 16:54:59 INFO     one.py:1288 Loading trials data\u001b[0m\n"
     ]
    },
    {
     "name": "stderr",
     "output_type": "stream",
     "text": [
      "/opt/anaconda3/envs/iblenv/lib/python3.10/site-packages/one/util.py:428: ALFWarning: Multiple revisions: \"\", \"2025-03-03\"\n",
      "  warnings.warn(f'Multiple revisions: {rev_list}', alferr.ALFWarning)\n"
     ]
    },
    {
     "name": "stdout",
     "output_type": "stream",
     "text": [
      "\u001b[36m2025-09-09 16:55:00 INFO     one.py:1288 Loading wheel data\u001b[0m\n"
     ]
    },
    {
     "name": "stderr",
     "output_type": "stream",
     "text": [
      "/opt/anaconda3/envs/iblenv/lib/python3.10/site-packages/one/util.py:428: ALFWarning: Multiple revisions: \"\", \"2024-05-06\"\n",
      "  warnings.warn(f'Multiple revisions: {rev_list}', alferr.ALFWarning)\n"
     ]
    },
    {
     "name": "stdout",
     "output_type": "stream",
     "text": [
      "\u001b[36m2025-09-09 16:55:00 INFO     one.py:1288 Loading motion_energy data\u001b[0m\n"
     ]
    },
    {
     "name": "stderr",
     "output_type": "stream",
     "text": [
      "/opt/anaconda3/envs/iblenv/lib/python3.10/site-packages/one/util.py:428: ALFWarning: Multiple revisions: \"\", \"2025-05-30\"\n",
      "  warnings.warn(f'Multiple revisions: {rev_list}', alferr.ALFWarning)\n",
      "/opt/anaconda3/envs/iblenv/lib/python3.10/site-packages/one/util.py:428: ALFWarning: Multiple revisions: \"\", \"2025-05-31\"\n",
      "  warnings.warn(f'Multiple revisions: {rev_list}', alferr.ALFWarning)\n",
      "/opt/anaconda3/envs/iblenv/lib/python3.10/site-packages/one/util.py:428: ALFWarning: Multiple revisions: \"\", \"2025-06-02\"\n",
      "  warnings.warn(f'Multiple revisions: {rev_list}', alferr.ALFWarning)\n"
     ]
    },
    {
     "name": "stdout",
     "output_type": "stream",
     "text": [
      "\u001b[36m2025-09-09 16:55:01 INFO     one.py:1288 Loading pupil data\u001b[0m\n"
     ]
    },
    {
     "name": "stderr",
     "output_type": "stream",
     "text": [
      "/opt/anaconda3/envs/iblenv/lib/python3.10/site-packages/one/util.py:428: ALFWarning: Multiple revisions: \"2025-06-18\", \"\"\n",
      "  warnings.warn(f'Multiple revisions: {rev_list}', alferr.ALFWarning)\n",
      "(S3) /Users/ineslaranjeira/Downloads/FlatIron/hausserlab/Subjects/PL015/2022-07-21/001/alf/_ibl_rightCamera.lightningPose.pqt: 100%|██████████| 279M/279M [00:34<00:00, 8.11MB/s] \n"
     ]
    },
    {
     "name": "stdout",
     "output_type": "stream",
     "text": [
      "\u001b[36m2025-09-09 16:55:42 INFO     one.py:1288 Loading trials data\u001b[0m\n"
     ]
    },
    {
     "name": "stderr",
     "output_type": "stream",
     "text": [
      "/opt/anaconda3/envs/iblenv/lib/python3.10/site-packages/one/util.py:428: ALFWarning: Multiple revisions: \"\", \"2025-03-03\"\n",
      "  warnings.warn(f'Multiple revisions: {rev_list}', alferr.ALFWarning)\n"
     ]
    },
    {
     "name": "stdout",
     "output_type": "stream",
     "text": [
      "\u001b[36m2025-09-09 16:55:43 INFO     one.py:1288 Loading wheel data\u001b[0m\n"
     ]
    },
    {
     "name": "stderr",
     "output_type": "stream",
     "text": [
      "/opt/anaconda3/envs/iblenv/lib/python3.10/site-packages/one/util.py:428: ALFWarning: Multiple revisions: \"\", \"2024-05-06\"\n",
      "  warnings.warn(f'Multiple revisions: {rev_list}', alferr.ALFWarning)\n"
     ]
    },
    {
     "name": "stdout",
     "output_type": "stream",
     "text": [
      "\u001b[36m2025-09-09 16:55:44 INFO     one.py:1288 Loading motion_energy data\u001b[0m\n"
     ]
    },
    {
     "name": "stderr",
     "output_type": "stream",
     "text": [
      "/opt/anaconda3/envs/iblenv/lib/python3.10/site-packages/one/util.py:428: ALFWarning: Multiple revisions: \"\", \"2025-05-30\"\n",
      "  warnings.warn(f'Multiple revisions: {rev_list}', alferr.ALFWarning)\n",
      "/opt/anaconda3/envs/iblenv/lib/python3.10/site-packages/one/util.py:428: ALFWarning: Multiple revisions: \"\", \"2025-05-31\"\n",
      "  warnings.warn(f'Multiple revisions: {rev_list}', alferr.ALFWarning)\n",
      "/opt/anaconda3/envs/iblenv/lib/python3.10/site-packages/one/util.py:428: ALFWarning: Multiple revisions: \"\", \"2025-06-02\"\n",
      "  warnings.warn(f'Multiple revisions: {rev_list}', alferr.ALFWarning)\n"
     ]
    },
    {
     "name": "stdout",
     "output_type": "stream",
     "text": [
      "\u001b[36m2025-09-09 16:55:45 INFO     one.py:1288 Loading pupil data\u001b[0m\n"
     ]
    },
    {
     "name": "stderr",
     "output_type": "stream",
     "text": [
      "/opt/anaconda3/envs/iblenv/lib/python3.10/site-packages/one/util.py:428: ALFWarning: Multiple revisions: \"2025-06-18\", \"\"\n",
      "  warnings.warn(f'Multiple revisions: {rev_list}', alferr.ALFWarning)\n"
     ]
    },
    {
     "name": "stdout",
     "output_type": "stream",
     "text": [
      "\u001b[36m2025-09-09 16:55:51 INFO     one.py:1288 Loading trials data\u001b[0m\n"
     ]
    },
    {
     "name": "stderr",
     "output_type": "stream",
     "text": [
      "/opt/anaconda3/envs/iblenv/lib/python3.10/site-packages/one/util.py:428: ALFWarning: Multiple revisions: \"\", \"2025-03-03\"\n",
      "  warnings.warn(f'Multiple revisions: {rev_list}', alferr.ALFWarning)\n"
     ]
    },
    {
     "name": "stdout",
     "output_type": "stream",
     "text": [
      "\u001b[36m2025-09-09 16:55:52 INFO     one.py:1288 Loading wheel data\u001b[0m\n"
     ]
    },
    {
     "name": "stderr",
     "output_type": "stream",
     "text": [
      "/opt/anaconda3/envs/iblenv/lib/python3.10/site-packages/one/util.py:428: ALFWarning: Multiple revisions: \"2024-05-06\", \"\"\n",
      "  warnings.warn(f'Multiple revisions: {rev_list}', alferr.ALFWarning)\n"
     ]
    },
    {
     "name": "stdout",
     "output_type": "stream",
     "text": [
      "\u001b[36m2025-09-09 16:55:53 INFO     one.py:1288 Loading motion_energy data\u001b[0m\n"
     ]
    },
    {
     "name": "stderr",
     "output_type": "stream",
     "text": [
      "/opt/anaconda3/envs/iblenv/lib/python3.10/site-packages/one/util.py:428: ALFWarning: Multiple revisions: \"\", \"2025-05-30\"\n",
      "  warnings.warn(f'Multiple revisions: {rev_list}', alferr.ALFWarning)\n",
      "/opt/anaconda3/envs/iblenv/lib/python3.10/site-packages/one/util.py:428: ALFWarning: Multiple revisions: \"\", \"2025-05-31\"\n",
      "  warnings.warn(f'Multiple revisions: {rev_list}', alferr.ALFWarning)\n",
      "/opt/anaconda3/envs/iblenv/lib/python3.10/site-packages/one/util.py:428: ALFWarning: Multiple revisions: \"\", \"2025-06-02\"\n",
      "  warnings.warn(f'Multiple revisions: {rev_list}', alferr.ALFWarning)\n"
     ]
    },
    {
     "name": "stdout",
     "output_type": "stream",
     "text": [
      "\u001b[36m2025-09-09 16:55:54 INFO     one.py:1288 Loading pupil data\u001b[0m\n"
     ]
    },
    {
     "name": "stderr",
     "output_type": "stream",
     "text": [
      "/opt/anaconda3/envs/iblenv/lib/python3.10/site-packages/one/util.py:428: ALFWarning: Multiple revisions: \"2025-06-18\", \"\"\n",
      "  warnings.warn(f'Multiple revisions: {rev_list}', alferr.ALFWarning)\n"
     ]
    },
    {
     "name": "stdout",
     "output_type": "stream",
     "text": [
      "\u001b[36m2025-09-09 16:56:00 INFO     one.py:1288 Loading trials data\u001b[0m\n"
     ]
    },
    {
     "name": "stderr",
     "output_type": "stream",
     "text": [
      "/opt/anaconda3/envs/iblenv/lib/python3.10/site-packages/one/util.py:428: ALFWarning: Multiple revisions: \"\", \"2025-03-03\"\n",
      "  warnings.warn(f'Multiple revisions: {rev_list}', alferr.ALFWarning)\n"
     ]
    },
    {
     "name": "stdout",
     "output_type": "stream",
     "text": [
      "\u001b[36m2025-09-09 16:56:01 INFO     one.py:1288 Loading wheel data\u001b[0m\n"
     ]
    },
    {
     "name": "stderr",
     "output_type": "stream",
     "text": [
      "/opt/anaconda3/envs/iblenv/lib/python3.10/site-packages/one/util.py:428: ALFWarning: Multiple revisions: \"2024-05-06\", \"\"\n",
      "  warnings.warn(f'Multiple revisions: {rev_list}', alferr.ALFWarning)\n"
     ]
    },
    {
     "name": "stdout",
     "output_type": "stream",
     "text": [
      "\u001b[36m2025-09-09 16:56:02 INFO     one.py:1288 Loading motion_energy data\u001b[0m\n"
     ]
    },
    {
     "name": "stderr",
     "output_type": "stream",
     "text": [
      "/opt/anaconda3/envs/iblenv/lib/python3.10/site-packages/one/util.py:428: ALFWarning: Multiple revisions: \"\", \"2025-05-30\"\n",
      "  warnings.warn(f'Multiple revisions: {rev_list}', alferr.ALFWarning)\n",
      "/opt/anaconda3/envs/iblenv/lib/python3.10/site-packages/one/util.py:428: ALFWarning: Multiple revisions: \"\", \"2025-05-31\"\n",
      "  warnings.warn(f'Multiple revisions: {rev_list}', alferr.ALFWarning)\n",
      "/opt/anaconda3/envs/iblenv/lib/python3.10/site-packages/one/util.py:428: ALFWarning: Multiple revisions: \"\", \"2025-06-02\"\n",
      "  warnings.warn(f'Multiple revisions: {rev_list}', alferr.ALFWarning)\n"
     ]
    },
    {
     "name": "stdout",
     "output_type": "stream",
     "text": [
      "\u001b[36m2025-09-09 16:56:03 INFO     one.py:1288 Loading pupil data\u001b[0m\n"
     ]
    },
    {
     "name": "stderr",
     "output_type": "stream",
     "text": [
      "/opt/anaconda3/envs/iblenv/lib/python3.10/site-packages/one/util.py:428: ALFWarning: Multiple revisions: \"2025-06-18\", \"\"\n",
      "  warnings.warn(f'Multiple revisions: {rev_list}', alferr.ALFWarning)\n"
     ]
    },
    {
     "name": "stdout",
     "output_type": "stream",
     "text": [
      "\u001b[1;33m2025-09-09 16:56:03 WARNING  one.py:1292 Could not load pupil data.\u001b[0m\n"
     ]
    },
    {
     "name": "stderr",
     "output_type": "stream",
     "text": [
      "(S3) /Users/ineslaranjeira/Downloads/FlatIron/hausserlab/Subjects/PL017/2021-11-09/001/alf/_ibl_rightCamera.lightningPose.pqt: 100%|██████████| 298M/298M [00:42<00:00, 7.08MB/s] \n"
     ]
    },
    {
     "name": "stdout",
     "output_type": "stream",
     "text": [
      "\u001b[36m2025-09-09 16:56:52 INFO     one.py:1288 Loading trials data\u001b[0m\n"
     ]
    },
    {
     "name": "stderr",
     "output_type": "stream",
     "text": [
      "/opt/anaconda3/envs/iblenv/lib/python3.10/site-packages/one/util.py:428: ALFWarning: Multiple revisions: \"\", \"2025-03-03\"\n",
      "  warnings.warn(f'Multiple revisions: {rev_list}', alferr.ALFWarning)\n"
     ]
    },
    {
     "name": "stdout",
     "output_type": "stream",
     "text": [
      "\u001b[36m2025-09-09 16:56:53 INFO     one.py:1288 Loading wheel data\u001b[0m\n"
     ]
    },
    {
     "name": "stderr",
     "output_type": "stream",
     "text": [
      "/opt/anaconda3/envs/iblenv/lib/python3.10/site-packages/one/util.py:428: ALFWarning: Multiple revisions: \"2024-05-06\", \"\"\n",
      "  warnings.warn(f'Multiple revisions: {rev_list}', alferr.ALFWarning)\n"
     ]
    },
    {
     "name": "stdout",
     "output_type": "stream",
     "text": [
      "\u001b[36m2025-09-09 16:56:54 INFO     one.py:1288 Loading motion_energy data\u001b[0m\n"
     ]
    },
    {
     "name": "stderr",
     "output_type": "stream",
     "text": [
      "/opt/anaconda3/envs/iblenv/lib/python3.10/site-packages/one/util.py:428: ALFWarning: Multiple revisions: \"\", \"2025-05-30\"\n",
      "  warnings.warn(f'Multiple revisions: {rev_list}', alferr.ALFWarning)\n",
      "/opt/anaconda3/envs/iblenv/lib/python3.10/site-packages/one/util.py:428: ALFWarning: Multiple revisions: \"\", \"2025-05-31\"\n",
      "  warnings.warn(f'Multiple revisions: {rev_list}', alferr.ALFWarning)\n",
      "/opt/anaconda3/envs/iblenv/lib/python3.10/site-packages/one/util.py:428: ALFWarning: Multiple revisions: \"\", \"2025-06-02\"\n",
      "  warnings.warn(f'Multiple revisions: {rev_list}', alferr.ALFWarning)\n"
     ]
    },
    {
     "name": "stdout",
     "output_type": "stream",
     "text": [
      "\u001b[36m2025-09-09 16:56:55 INFO     one.py:1288 Loading pupil data\u001b[0m\n"
     ]
    },
    {
     "name": "stderr",
     "output_type": "stream",
     "text": [
      "/opt/anaconda3/envs/iblenv/lib/python3.10/site-packages/one/util.py:428: ALFWarning: Multiple revisions: \"2025-06-18\", \"\"\n",
      "  warnings.warn(f'Multiple revisions: {rev_list}', alferr.ALFWarning)\n",
      "(S3) /Users/ineslaranjeira/Downloads/FlatIron/hausserlab/Subjects/PL017/2021-11-14/001/alf/_ibl_rightCamera.lightningPose.pqt: 100%|██████████| 365M/365M [00:56<00:00, 6.45MB/s] \n"
     ]
    },
    {
     "name": "stdout",
     "output_type": "stream",
     "text": [
      "\u001b[36m2025-09-09 16:57:59 INFO     one.py:1288 Loading trials data\u001b[0m\n"
     ]
    },
    {
     "name": "stderr",
     "output_type": "stream",
     "text": [
      "/opt/anaconda3/envs/iblenv/lib/python3.10/site-packages/one/util.py:428: ALFWarning: Multiple revisions: \"\", \"2025-03-03\"\n",
      "  warnings.warn(f'Multiple revisions: {rev_list}', alferr.ALFWarning)\n"
     ]
    },
    {
     "name": "stdout",
     "output_type": "stream",
     "text": [
      "\u001b[36m2025-09-09 16:58:00 INFO     one.py:1288 Loading wheel data\u001b[0m\n"
     ]
    },
    {
     "name": "stderr",
     "output_type": "stream",
     "text": [
      "/opt/anaconda3/envs/iblenv/lib/python3.10/site-packages/one/util.py:428: ALFWarning: Multiple revisions: \"\", \"2024-05-06\"\n",
      "  warnings.warn(f'Multiple revisions: {rev_list}', alferr.ALFWarning)\n"
     ]
    },
    {
     "name": "stdout",
     "output_type": "stream",
     "text": [
      "\u001b[36m2025-09-09 16:58:01 INFO     one.py:1288 Loading motion_energy data\u001b[0m\n"
     ]
    },
    {
     "name": "stderr",
     "output_type": "stream",
     "text": [
      "/opt/anaconda3/envs/iblenv/lib/python3.10/site-packages/one/util.py:428: ALFWarning: Multiple revisions: \"\", \"2025-05-30\"\n",
      "  warnings.warn(f'Multiple revisions: {rev_list}', alferr.ALFWarning)\n",
      "/opt/anaconda3/envs/iblenv/lib/python3.10/site-packages/one/util.py:428: ALFWarning: Multiple revisions: \"\", \"2025-05-31\"\n",
      "  warnings.warn(f'Multiple revisions: {rev_list}', alferr.ALFWarning)\n",
      "/opt/anaconda3/envs/iblenv/lib/python3.10/site-packages/one/util.py:428: ALFWarning: Multiple revisions: \"\", \"2025-06-02\"\n",
      "  warnings.warn(f'Multiple revisions: {rev_list}', alferr.ALFWarning)\n"
     ]
    },
    {
     "name": "stdout",
     "output_type": "stream",
     "text": [
      "\u001b[36m2025-09-09 16:58:02 INFO     one.py:1288 Loading pupil data\u001b[0m\n"
     ]
    },
    {
     "name": "stderr",
     "output_type": "stream",
     "text": [
      "/opt/anaconda3/envs/iblenv/lib/python3.10/site-packages/one/util.py:428: ALFWarning: Multiple revisions: \"2025-06-18\", \"\"\n",
      "  warnings.warn(f'Multiple revisions: {rev_list}', alferr.ALFWarning)\n"
     ]
    },
    {
     "name": "stdout",
     "output_type": "stream",
     "text": [
      "\u001b[36m2025-09-09 16:58:10 INFO     one.py:1288 Loading trials data\u001b[0m\n"
     ]
    },
    {
     "name": "stderr",
     "output_type": "stream",
     "text": [
      "/opt/anaconda3/envs/iblenv/lib/python3.10/site-packages/one/util.py:428: ALFWarning: Multiple revisions: \"\", \"2025-03-03\"\n",
      "  warnings.warn(f'Multiple revisions: {rev_list}', alferr.ALFWarning)\n"
     ]
    },
    {
     "name": "stdout",
     "output_type": "stream",
     "text": [
      "\u001b[36m2025-09-09 16:58:11 INFO     one.py:1288 Loading wheel data\u001b[0m\n"
     ]
    },
    {
     "name": "stderr",
     "output_type": "stream",
     "text": [
      "/opt/anaconda3/envs/iblenv/lib/python3.10/site-packages/one/util.py:428: ALFWarning: Multiple revisions: \"2024-05-06\", \"\"\n",
      "  warnings.warn(f'Multiple revisions: {rev_list}', alferr.ALFWarning)\n"
     ]
    },
    {
     "name": "stdout",
     "output_type": "stream",
     "text": [
      "\u001b[36m2025-09-09 16:58:12 INFO     one.py:1288 Loading motion_energy data\u001b[0m\n"
     ]
    },
    {
     "name": "stderr",
     "output_type": "stream",
     "text": [
      "/opt/anaconda3/envs/iblenv/lib/python3.10/site-packages/one/util.py:428: ALFWarning: Multiple revisions: \"\", \"2025-05-30\"\n",
      "  warnings.warn(f'Multiple revisions: {rev_list}', alferr.ALFWarning)\n",
      "/opt/anaconda3/envs/iblenv/lib/python3.10/site-packages/one/util.py:428: ALFWarning: Multiple revisions: \"\", \"2025-05-31\"\n",
      "  warnings.warn(f'Multiple revisions: {rev_list}', alferr.ALFWarning)\n",
      "/opt/anaconda3/envs/iblenv/lib/python3.10/site-packages/one/util.py:428: ALFWarning: Multiple revisions: \"\", \"2025-06-02\"\n",
      "  warnings.warn(f'Multiple revisions: {rev_list}', alferr.ALFWarning)\n"
     ]
    },
    {
     "name": "stdout",
     "output_type": "stream",
     "text": [
      "\u001b[36m2025-09-09 16:58:13 INFO     one.py:1288 Loading pupil data\u001b[0m\n"
     ]
    },
    {
     "name": "stderr",
     "output_type": "stream",
     "text": [
      "/opt/anaconda3/envs/iblenv/lib/python3.10/site-packages/one/util.py:428: ALFWarning: Multiple revisions: \"2025-06-18\", \"\"\n",
      "  warnings.warn(f'Multiple revisions: {rev_list}', alferr.ALFWarning)\n",
      "local file size mismatch on dataset: hausserlab/Subjects/PL017/2021-11-16/001/alf/_ibl_leftCamera.lightningPose.pqt\n",
      "(S3) /Users/ineslaranjeira/Downloads/FlatIron/hausserlab/Subjects/PL017/2021-11-16/001/alf/_ibl_leftCamera.lightningPose.pqt: 100%|██████████| 122M/122M [00:17<00:00, 7.06MB/s] \n",
      "(S3) /Users/ineslaranjeira/Downloads/FlatIron/hausserlab/Subjects/PL017/2021-11-16/001/alf/_ibl_rightCamera.lightningPose.pqt: 100%|██████████| 278M/278M [00:34<00:00, 8.01MB/s] \n"
     ]
    },
    {
     "name": "stdout",
     "output_type": "stream",
     "text": [
      "\u001b[36m2025-09-09 16:59:12 INFO     one.py:1288 Loading trials data\u001b[0m\n"
     ]
    },
    {
     "name": "stderr",
     "output_type": "stream",
     "text": [
      "/opt/anaconda3/envs/iblenv/lib/python3.10/site-packages/one/util.py:428: ALFWarning: Multiple revisions: \"\", \"2025-03-03\"\n",
      "  warnings.warn(f'Multiple revisions: {rev_list}', alferr.ALFWarning)\n"
     ]
    },
    {
     "name": "stdout",
     "output_type": "stream",
     "text": [
      "\u001b[36m2025-09-09 16:59:13 INFO     one.py:1288 Loading wheel data\u001b[0m\n"
     ]
    },
    {
     "name": "stderr",
     "output_type": "stream",
     "text": [
      "/opt/anaconda3/envs/iblenv/lib/python3.10/site-packages/one/util.py:428: ALFWarning: Multiple revisions: \"2024-05-06\", \"\"\n",
      "  warnings.warn(f'Multiple revisions: {rev_list}', alferr.ALFWarning)\n"
     ]
    },
    {
     "name": "stdout",
     "output_type": "stream",
     "text": [
      "\u001b[36m2025-09-09 16:59:14 INFO     one.py:1288 Loading motion_energy data\u001b[0m\n"
     ]
    },
    {
     "name": "stderr",
     "output_type": "stream",
     "text": [
      "/opt/anaconda3/envs/iblenv/lib/python3.10/site-packages/one/util.py:428: ALFWarning: Multiple revisions: \"\", \"2025-05-31\"\n",
      "  warnings.warn(f'Multiple revisions: {rev_list}', alferr.ALFWarning)\n",
      "/opt/anaconda3/envs/iblenv/lib/python3.10/site-packages/one/util.py:428: ALFWarning: Multiple revisions: \"\", \"2025-06-01\"\n",
      "  warnings.warn(f'Multiple revisions: {rev_list}', alferr.ALFWarning)\n",
      "/opt/anaconda3/envs/iblenv/lib/python3.10/site-packages/one/util.py:428: ALFWarning: Multiple revisions: \"\", \"2025-06-02\"\n",
      "  warnings.warn(f'Multiple revisions: {rev_list}', alferr.ALFWarning)\n"
     ]
    },
    {
     "name": "stdout",
     "output_type": "stream",
     "text": [
      "\u001b[36m2025-09-09 16:59:15 INFO     one.py:1288 Loading pupil data\u001b[0m\n"
     ]
    },
    {
     "name": "stderr",
     "output_type": "stream",
     "text": [
      "/opt/anaconda3/envs/iblenv/lib/python3.10/site-packages/one/util.py:428: ALFWarning: Multiple revisions: \"2025-06-18\", \"\"\n",
      "  warnings.warn(f'Multiple revisions: {rev_list}', alferr.ALFWarning)\n",
      "(S3) /Users/ineslaranjeira/Downloads/FlatIron/hausserlab/Subjects/PL017/2021-11-30/001/alf/_ibl_rightCamera.lightningPose.pqt: 100%|██████████| 330M/330M [00:33<00:00, 9.85MB/s] \n"
     ]
    },
    {
     "name": "stdout",
     "output_type": "stream",
     "text": [
      "\u001b[36m2025-09-09 16:59:56 INFO     one.py:1288 Loading trials data\u001b[0m\n"
     ]
    },
    {
     "name": "stderr",
     "output_type": "stream",
     "text": [
      "/opt/anaconda3/envs/iblenv/lib/python3.10/site-packages/one/util.py:428: ALFWarning: Multiple revisions: \"\", \"2025-03-03\"\n",
      "  warnings.warn(f'Multiple revisions: {rev_list}', alferr.ALFWarning)\n"
     ]
    },
    {
     "name": "stdout",
     "output_type": "stream",
     "text": [
      "\u001b[36m2025-09-09 16:59:57 INFO     one.py:1288 Loading wheel data\u001b[0m\n"
     ]
    },
    {
     "name": "stderr",
     "output_type": "stream",
     "text": [
      "/opt/anaconda3/envs/iblenv/lib/python3.10/site-packages/one/util.py:428: ALFWarning: Multiple revisions: \"\", \"2024-05-06\"\n",
      "  warnings.warn(f'Multiple revisions: {rev_list}', alferr.ALFWarning)\n"
     ]
    },
    {
     "name": "stdout",
     "output_type": "stream",
     "text": [
      "\u001b[36m2025-09-09 16:59:58 INFO     one.py:1288 Loading motion_energy data\u001b[0m\n"
     ]
    },
    {
     "name": "stderr",
     "output_type": "stream",
     "text": [
      "/opt/anaconda3/envs/iblenv/lib/python3.10/site-packages/one/util.py:428: ALFWarning: Multiple revisions: \"\", \"2025-05-30\"\n",
      "  warnings.warn(f'Multiple revisions: {rev_list}', alferr.ALFWarning)\n",
      "/opt/anaconda3/envs/iblenv/lib/python3.10/site-packages/one/util.py:428: ALFWarning: Multiple revisions: \"\", \"2025-05-31\"\n",
      "  warnings.warn(f'Multiple revisions: {rev_list}', alferr.ALFWarning)\n"
     ]
    },
    {
     "name": "stdout",
     "output_type": "stream",
     "text": [
      "\u001b[36m2025-09-09 16:59:59 INFO     one.py:1288 Loading pupil data\u001b[0m\n"
     ]
    },
    {
     "name": "stderr",
     "output_type": "stream",
     "text": [
      "/opt/anaconda3/envs/iblenv/lib/python3.10/site-packages/one/util.py:428: ALFWarning: Multiple revisions: \"2025-06-18\", \"\"\n",
      "  warnings.warn(f'Multiple revisions: {rev_list}', alferr.ALFWarning)\n",
      "(S3) /Users/ineslaranjeira/Downloads/FlatIron/hausserlab/Subjects/PL024/2021-12-04/001/alf/_ibl_rightCamera.lightningPose.pqt: 100%|██████████| 277M/277M [00:34<00:00, 7.98MB/s] \n"
     ]
    },
    {
     "name": "stdout",
     "output_type": "stream",
     "text": [
      "\u001b[36m2025-09-09 17:00:43 INFO     one.py:1288 Loading trials data\u001b[0m\n"
     ]
    },
    {
     "name": "stderr",
     "output_type": "stream",
     "text": [
      "/opt/anaconda3/envs/iblenv/lib/python3.10/site-packages/one/util.py:428: ALFWarning: Multiple revisions: \"\", \"2025-03-03\"\n",
      "  warnings.warn(f'Multiple revisions: {rev_list}', alferr.ALFWarning)\n"
     ]
    },
    {
     "name": "stdout",
     "output_type": "stream",
     "text": [
      "\u001b[36m2025-09-09 17:00:44 INFO     one.py:1288 Loading wheel data\u001b[0m\n"
     ]
    },
    {
     "name": "stderr",
     "output_type": "stream",
     "text": [
      "/opt/anaconda3/envs/iblenv/lib/python3.10/site-packages/one/util.py:428: ALFWarning: Multiple revisions: \"\", \"2024-05-06\"\n",
      "  warnings.warn(f'Multiple revisions: {rev_list}', alferr.ALFWarning)\n"
     ]
    },
    {
     "name": "stdout",
     "output_type": "stream",
     "text": [
      "\u001b[36m2025-09-09 17:00:44 INFO     one.py:1288 Loading motion_energy data\u001b[0m\n"
     ]
    },
    {
     "name": "stderr",
     "output_type": "stream",
     "text": [
      "/opt/anaconda3/envs/iblenv/lib/python3.10/site-packages/one/util.py:428: ALFWarning: Multiple revisions: \"\", \"2025-05-30\"\n",
      "  warnings.warn(f'Multiple revisions: {rev_list}', alferr.ALFWarning)\n",
      "/opt/anaconda3/envs/iblenv/lib/python3.10/site-packages/one/util.py:428: ALFWarning: Multiple revisions: \"\", \"2025-05-31\"\n",
      "  warnings.warn(f'Multiple revisions: {rev_list}', alferr.ALFWarning)\n",
      "/opt/anaconda3/envs/iblenv/lib/python3.10/site-packages/one/util.py:428: ALFWarning: Multiple revisions: \"\", \"2025-06-02\"\n",
      "  warnings.warn(f'Multiple revisions: {rev_list}', alferr.ALFWarning)\n"
     ]
    },
    {
     "name": "stdout",
     "output_type": "stream",
     "text": [
      "\u001b[36m2025-09-09 17:00:45 INFO     one.py:1288 Loading pupil data\u001b[0m\n"
     ]
    },
    {
     "name": "stderr",
     "output_type": "stream",
     "text": [
      "/opt/anaconda3/envs/iblenv/lib/python3.10/site-packages/one/util.py:428: ALFWarning: Multiple revisions: \"2025-06-18\", \"\"\n",
      "  warnings.warn(f'Multiple revisions: {rev_list}', alferr.ALFWarning)\n",
      "local file size mismatch on dataset: hausserlab/Subjects/PL030/2022-09-12/001/alf/_ibl_leftCamera.lightningPose.pqt\n",
      "(S3) /Users/ineslaranjeira/Downloads/FlatIron/hausserlab/Subjects/PL030/2022-09-12/001/alf/_ibl_leftCamera.lightningPose.pqt: 100%|██████████| 122M/122M [00:14<00:00, 8.37MB/s] \n",
      "(S3) /Users/ineslaranjeira/Downloads/FlatIron/hausserlab/Subjects/PL030/2022-09-12/001/alf/_ibl_rightCamera.lightningPose.pqt: 100%|██████████| 275M/275M [00:34<00:00, 8.06MB/s] \n"
     ]
    },
    {
     "name": "stdout",
     "output_type": "stream",
     "text": [
      "\u001b[36m2025-09-09 17:01:42 INFO     one.py:1288 Loading trials data\u001b[0m\n"
     ]
    },
    {
     "name": "stderr",
     "output_type": "stream",
     "text": [
      "/opt/anaconda3/envs/iblenv/lib/python3.10/site-packages/one/util.py:428: ALFWarning: Multiple revisions: \"\", \"2025-03-03\"\n",
      "  warnings.warn(f'Multiple revisions: {rev_list}', alferr.ALFWarning)\n"
     ]
    },
    {
     "name": "stdout",
     "output_type": "stream",
     "text": [
      "\u001b[36m2025-09-09 17:01:43 INFO     one.py:1288 Loading wheel data\u001b[0m\n"
     ]
    },
    {
     "name": "stderr",
     "output_type": "stream",
     "text": [
      "/opt/anaconda3/envs/iblenv/lib/python3.10/site-packages/one/util.py:428: ALFWarning: Multiple revisions: \"\", \"2024-05-06\"\n",
      "  warnings.warn(f'Multiple revisions: {rev_list}', alferr.ALFWarning)\n"
     ]
    },
    {
     "name": "stdout",
     "output_type": "stream",
     "text": [
      "\u001b[36m2025-09-09 17:01:44 INFO     one.py:1288 Loading motion_energy data\u001b[0m\n"
     ]
    },
    {
     "name": "stderr",
     "output_type": "stream",
     "text": [
      "/opt/anaconda3/envs/iblenv/lib/python3.10/site-packages/one/util.py:428: ALFWarning: Multiple revisions: \"\", \"2025-05-31\"\n",
      "  warnings.warn(f'Multiple revisions: {rev_list}', alferr.ALFWarning)\n",
      "/opt/anaconda3/envs/iblenv/lib/python3.10/site-packages/one/util.py:428: ALFWarning: Multiple revisions: \"\", \"2025-06-01\"\n",
      "  warnings.warn(f'Multiple revisions: {rev_list}', alferr.ALFWarning)\n",
      "/opt/anaconda3/envs/iblenv/lib/python3.10/site-packages/one/util.py:428: ALFWarning: Multiple revisions: \"\", \"2025-06-02\"\n",
      "  warnings.warn(f'Multiple revisions: {rev_list}', alferr.ALFWarning)\n"
     ]
    },
    {
     "name": "stdout",
     "output_type": "stream",
     "text": [
      "\u001b[36m2025-09-09 17:01:45 INFO     one.py:1288 Loading pupil data\u001b[0m\n"
     ]
    },
    {
     "name": "stderr",
     "output_type": "stream",
     "text": [
      "/opt/anaconda3/envs/iblenv/lib/python3.10/site-packages/one/util.py:428: ALFWarning: Multiple revisions: \"2025-06-18\", \"\"\n",
      "  warnings.warn(f'Multiple revisions: {rev_list}', alferr.ALFWarning)\n",
      "local file size mismatch on dataset: hausserlab/Subjects/PL030/2022-09-14/001/alf/_ibl_leftCamera.lightningPose.pqt\n",
      "(S3) /Users/ineslaranjeira/Downloads/FlatIron/hausserlab/Subjects/PL030/2022-09-14/001/alf/_ibl_leftCamera.lightningPose.pqt: 100%|██████████| 120M/120M [00:14<00:00, 8.11MB/s] \n",
      "(S3) /Users/ineslaranjeira/Downloads/FlatIron/hausserlab/Subjects/PL030/2022-09-14/001/alf/_ibl_rightCamera.lightningPose.pqt: 100%|██████████| 271M/271M [00:30<00:00, 8.79MB/s] \n"
     ]
    },
    {
     "name": "stdout",
     "output_type": "stream",
     "text": [
      "\u001b[36m2025-09-09 17:02:38 INFO     one.py:1288 Loading trials data\u001b[0m\n"
     ]
    },
    {
     "name": "stderr",
     "output_type": "stream",
     "text": [
      "/opt/anaconda3/envs/iblenv/lib/python3.10/site-packages/one/util.py:428: ALFWarning: Multiple revisions: \"\", \"2025-03-03\"\n",
      "  warnings.warn(f'Multiple revisions: {rev_list}', alferr.ALFWarning)\n"
     ]
    },
    {
     "name": "stdout",
     "output_type": "stream",
     "text": [
      "\u001b[36m2025-09-09 17:02:39 INFO     one.py:1288 Loading wheel data\u001b[0m\n"
     ]
    },
    {
     "name": "stderr",
     "output_type": "stream",
     "text": [
      "/opt/anaconda3/envs/iblenv/lib/python3.10/site-packages/one/util.py:428: ALFWarning: Multiple revisions: \"2024-05-06\", \"\"\n",
      "  warnings.warn(f'Multiple revisions: {rev_list}', alferr.ALFWarning)\n"
     ]
    },
    {
     "name": "stdout",
     "output_type": "stream",
     "text": [
      "\u001b[36m2025-09-09 17:02:40 INFO     one.py:1288 Loading motion_energy data\u001b[0m\n"
     ]
    },
    {
     "name": "stderr",
     "output_type": "stream",
     "text": [
      "/opt/anaconda3/envs/iblenv/lib/python3.10/site-packages/one/util.py:428: ALFWarning: Multiple revisions: \"\", \"2025-05-31\"\n",
      "  warnings.warn(f'Multiple revisions: {rev_list}', alferr.ALFWarning)\n",
      "/opt/anaconda3/envs/iblenv/lib/python3.10/site-packages/one/util.py:428: ALFWarning: Multiple revisions: \"\", \"2025-06-01\"\n",
      "  warnings.warn(f'Multiple revisions: {rev_list}', alferr.ALFWarning)\n",
      "/opt/anaconda3/envs/iblenv/lib/python3.10/site-packages/one/util.py:428: ALFWarning: Multiple revisions: \"\", \"2025-06-02\"\n",
      "  warnings.warn(f'Multiple revisions: {rev_list}', alferr.ALFWarning)\n"
     ]
    },
    {
     "name": "stdout",
     "output_type": "stream",
     "text": [
      "\u001b[36m2025-09-09 17:02:41 INFO     one.py:1288 Loading pupil data\u001b[0m\n"
     ]
    },
    {
     "name": "stderr",
     "output_type": "stream",
     "text": [
      "/opt/anaconda3/envs/iblenv/lib/python3.10/site-packages/one/util.py:428: ALFWarning: Multiple revisions: \"2025-06-18\", \"\"\n",
      "  warnings.warn(f'Multiple revisions: {rev_list}', alferr.ALFWarning)\n"
     ]
    },
    {
     "name": "stdout",
     "output_type": "stream",
     "text": [
      "\u001b[1;33m2025-09-09 17:02:41 WARNING  one.py:1292 Could not load pupil data.\u001b[0m\n"
     ]
    },
    {
     "name": "stderr",
     "output_type": "stream",
     "text": [
      "local file size mismatch on dataset: hausserlab/Subjects/PL030/2022-09-15/001/alf/_ibl_leftCamera.lightningPose.pqt\n",
      "(S3) /Users/ineslaranjeira/Downloads/FlatIron/hausserlab/Subjects/PL030/2022-09-15/001/alf/_ibl_leftCamera.lightningPose.pqt: 100%|██████████| 121M/121M [00:17<00:00, 7.00MB/s] \n",
      "(S3) /Users/ineslaranjeira/Downloads/FlatIron/hausserlab/Subjects/PL030/2022-09-15/001/alf/_ibl_rightCamera.lightningPose.pqt: 100%|██████████| 272M/272M [00:30<00:00, 8.89MB/s] \n"
     ]
    },
    {
     "name": "stdout",
     "output_type": "stream",
     "text": [
      "\u001b[36m2025-09-09 17:03:36 INFO     one.py:1288 Loading trials data\u001b[0m\n"
     ]
    },
    {
     "name": "stderr",
     "output_type": "stream",
     "text": [
      "/opt/anaconda3/envs/iblenv/lib/python3.10/site-packages/one/util.py:428: ALFWarning: Multiple revisions: \"\", \"2025-03-03\"\n",
      "  warnings.warn(f'Multiple revisions: {rev_list}', alferr.ALFWarning)\n"
     ]
    },
    {
     "name": "stdout",
     "output_type": "stream",
     "text": [
      "\u001b[36m2025-09-09 17:03:37 INFO     one.py:1288 Loading wheel data\u001b[0m\n"
     ]
    },
    {
     "name": "stderr",
     "output_type": "stream",
     "text": [
      "/opt/anaconda3/envs/iblenv/lib/python3.10/site-packages/one/util.py:428: ALFWarning: Multiple revisions: \"\", \"2024-05-06\"\n",
      "  warnings.warn(f'Multiple revisions: {rev_list}', alferr.ALFWarning)\n"
     ]
    },
    {
     "name": "stdout",
     "output_type": "stream",
     "text": [
      "\u001b[36m2025-09-09 17:03:38 INFO     one.py:1288 Loading motion_energy data\u001b[0m\n"
     ]
    },
    {
     "name": "stderr",
     "output_type": "stream",
     "text": [
      "/opt/anaconda3/envs/iblenv/lib/python3.10/site-packages/one/util.py:428: ALFWarning: Multiple revisions: \"\", \"2025-05-31\"\n",
      "  warnings.warn(f'Multiple revisions: {rev_list}', alferr.ALFWarning)\n",
      "/opt/anaconda3/envs/iblenv/lib/python3.10/site-packages/one/util.py:428: ALFWarning: Multiple revisions: \"\", \"2025-06-01\"\n",
      "  warnings.warn(f'Multiple revisions: {rev_list}', alferr.ALFWarning)\n",
      "/opt/anaconda3/envs/iblenv/lib/python3.10/site-packages/one/util.py:428: ALFWarning: Multiple revisions: \"\", \"2025-06-02\"\n",
      "  warnings.warn(f'Multiple revisions: {rev_list}', alferr.ALFWarning)\n"
     ]
    },
    {
     "name": "stdout",
     "output_type": "stream",
     "text": [
      "\u001b[36m2025-09-09 17:03:39 INFO     one.py:1288 Loading pupil data\u001b[0m\n"
     ]
    },
    {
     "name": "stderr",
     "output_type": "stream",
     "text": [
      "/opt/anaconda3/envs/iblenv/lib/python3.10/site-packages/one/util.py:428: ALFWarning: Multiple revisions: \"2025-06-18\", \"\"\n",
      "  warnings.warn(f'Multiple revisions: {rev_list}', alferr.ALFWarning)\n"
     ]
    },
    {
     "name": "stdout",
     "output_type": "stream",
     "text": [
      "\u001b[1;33m2025-09-09 17:03:39 WARNING  one.py:1292 Could not load pupil data.\u001b[0m\n"
     ]
    },
    {
     "name": "stderr",
     "output_type": "stream",
     "text": [
      "local file size mismatch on dataset: hausserlab/Subjects/PL030/2022-09-16/001/alf/_ibl_leftCamera.lightningPose.pqt\n",
      "(S3) /Users/ineslaranjeira/Downloads/FlatIron/hausserlab/Subjects/PL030/2022-09-16/001/alf/_ibl_leftCamera.lightningPose.pqt: 100%|██████████| 127M/127M [00:16<00:00, 7.76MB/s] \n",
      "(S3) /Users/ineslaranjeira/Downloads/FlatIron/hausserlab/Subjects/PL030/2022-09-16/001/alf/_ibl_rightCamera.lightningPose.pqt: 100%|██████████| 290M/290M [00:28<00:00, 10.3MB/s] \n"
     ]
    },
    {
     "name": "stdout",
     "output_type": "stream",
     "text": [
      "\u001b[36m2025-09-09 17:04:31 INFO     one.py:1288 Loading trials data\u001b[0m\n"
     ]
    },
    {
     "name": "stderr",
     "output_type": "stream",
     "text": [
      "/opt/anaconda3/envs/iblenv/lib/python3.10/site-packages/one/util.py:428: ALFWarning: Multiple revisions: \"\", \"2025-03-03\"\n",
      "  warnings.warn(f'Multiple revisions: {rev_list}', alferr.ALFWarning)\n"
     ]
    },
    {
     "name": "stdout",
     "output_type": "stream",
     "text": [
      "\u001b[36m2025-09-09 17:04:32 INFO     one.py:1288 Loading wheel data\u001b[0m\n"
     ]
    },
    {
     "name": "stderr",
     "output_type": "stream",
     "text": [
      "/opt/anaconda3/envs/iblenv/lib/python3.10/site-packages/one/util.py:428: ALFWarning: Multiple revisions: \"2024-05-06\", \"\"\n",
      "  warnings.warn(f'Multiple revisions: {rev_list}', alferr.ALFWarning)\n"
     ]
    },
    {
     "name": "stdout",
     "output_type": "stream",
     "text": [
      "\u001b[36m2025-09-09 17:04:33 INFO     one.py:1288 Loading motion_energy data\u001b[0m\n"
     ]
    },
    {
     "name": "stderr",
     "output_type": "stream",
     "text": [
      "/opt/anaconda3/envs/iblenv/lib/python3.10/site-packages/one/util.py:428: ALFWarning: Multiple revisions: \"\", \"2025-05-31\"\n",
      "  warnings.warn(f'Multiple revisions: {rev_list}', alferr.ALFWarning)\n",
      "/opt/anaconda3/envs/iblenv/lib/python3.10/site-packages/one/util.py:428: ALFWarning: Multiple revisions: \"\", \"2025-06-01\"\n",
      "  warnings.warn(f'Multiple revisions: {rev_list}', alferr.ALFWarning)\n",
      "/opt/anaconda3/envs/iblenv/lib/python3.10/site-packages/one/util.py:428: ALFWarning: Multiple revisions: \"\", \"2025-06-02\"\n",
      "  warnings.warn(f'Multiple revisions: {rev_list}', alferr.ALFWarning)\n"
     ]
    },
    {
     "name": "stdout",
     "output_type": "stream",
     "text": [
      "\u001b[36m2025-09-09 17:04:34 INFO     one.py:1288 Loading pupil data\u001b[0m\n"
     ]
    },
    {
     "name": "stderr",
     "output_type": "stream",
     "text": [
      "/opt/anaconda3/envs/iblenv/lib/python3.10/site-packages/one/util.py:428: ALFWarning: Multiple revisions: \"2025-06-18\", \"\"\n",
      "  warnings.warn(f'Multiple revisions: {rev_list}', alferr.ALFWarning)\n",
      "local file size mismatch on dataset: hausserlab/Subjects/PL030/2022-10-08/001/alf/_ibl_leftCamera.lightningPose.pqt\n",
      "(S3) /Users/ineslaranjeira/Downloads/FlatIron/hausserlab/Subjects/PL030/2022-10-08/001/alf/_ibl_leftCamera.lightningPose.pqt: 100%|██████████| 89.4M/89.4M [00:08<00:00, 11.0MB/s]\n"
     ]
    },
    {
     "name": "stdout",
     "output_type": "stream",
     "text": [
      "\u001b[36m2025-09-09 17:04:49 INFO     one.py:1288 Loading trials data\u001b[0m\n"
     ]
    },
    {
     "name": "stderr",
     "output_type": "stream",
     "text": [
      "/opt/anaconda3/envs/iblenv/lib/python3.10/site-packages/one/util.py:428: ALFWarning: Multiple revisions: \"\", \"2025-03-03\"\n",
      "  warnings.warn(f'Multiple revisions: {rev_list}', alferr.ALFWarning)\n"
     ]
    },
    {
     "name": "stdout",
     "output_type": "stream",
     "text": [
      "\u001b[36m2025-09-09 17:04:50 INFO     one.py:1288 Loading wheel data\u001b[0m\n"
     ]
    },
    {
     "name": "stderr",
     "output_type": "stream",
     "text": [
      "/opt/anaconda3/envs/iblenv/lib/python3.10/site-packages/one/util.py:428: ALFWarning: Multiple revisions: \"\", \"2024-05-06\"\n",
      "  warnings.warn(f'Multiple revisions: {rev_list}', alferr.ALFWarning)\n"
     ]
    },
    {
     "name": "stdout",
     "output_type": "stream",
     "text": [
      "\u001b[36m2025-09-09 17:04:50 INFO     one.py:1288 Loading motion_energy data\u001b[0m\n"
     ]
    },
    {
     "name": "stderr",
     "output_type": "stream",
     "text": [
      "/opt/anaconda3/envs/iblenv/lib/python3.10/site-packages/one/util.py:428: ALFWarning: Multiple revisions: \"\", \"2025-05-31\"\n",
      "  warnings.warn(f'Multiple revisions: {rev_list}', alferr.ALFWarning)\n",
      "/opt/anaconda3/envs/iblenv/lib/python3.10/site-packages/one/util.py:428: ALFWarning: Multiple revisions: \"\", \"2025-06-01\"\n",
      "  warnings.warn(f'Multiple revisions: {rev_list}', alferr.ALFWarning)\n",
      "/opt/anaconda3/envs/iblenv/lib/python3.10/site-packages/one/util.py:428: ALFWarning: Multiple revisions: \"\", \"2025-06-02\"\n",
      "  warnings.warn(f'Multiple revisions: {rev_list}', alferr.ALFWarning)\n"
     ]
    },
    {
     "name": "stdout",
     "output_type": "stream",
     "text": [
      "\u001b[36m2025-09-09 17:04:51 INFO     one.py:1288 Loading pupil data\u001b[0m\n"
     ]
    },
    {
     "name": "stderr",
     "output_type": "stream",
     "text": [
      "/opt/anaconda3/envs/iblenv/lib/python3.10/site-packages/one/util.py:428: ALFWarning: Multiple revisions: \"2025-06-18\", \"\"\n",
      "  warnings.warn(f'Multiple revisions: {rev_list}', alferr.ALFWarning)\n"
     ]
    },
    {
     "name": "stdout",
     "output_type": "stream",
     "text": [
      "\u001b[1;33m2025-09-09 17:04:52 WARNING  one.py:1292 Could not load pupil data.\u001b[0m\n"
     ]
    },
    {
     "name": "stderr",
     "output_type": "stream",
     "text": [
      "local file size mismatch on dataset: hausserlab/Subjects/PL030/2022-10-13/001/alf/_ibl_leftCamera.lightningPose.pqt\n",
      "(S3) /Users/ineslaranjeira/Downloads/FlatIron/hausserlab/Subjects/PL030/2022-10-13/001/alf/_ibl_leftCamera.lightningPose.pqt: 100%|██████████| 122M/122M [00:11<00:00, 10.2MB/s] \n",
      "(S3) /Users/ineslaranjeira/Downloads/FlatIron/hausserlab/Subjects/PL030/2022-10-13/001/alf/_ibl_rightCamera.lightningPose.pqt: 100%|██████████| 277M/277M [00:23<00:00, 11.7MB/s] \n"
     ]
    },
    {
     "name": "stdout",
     "output_type": "stream",
     "text": [
      "\u001b[36m2025-09-09 17:05:33 INFO     one.py:1288 Loading trials data\u001b[0m\n"
     ]
    },
    {
     "name": "stderr",
     "output_type": "stream",
     "text": [
      "/opt/anaconda3/envs/iblenv/lib/python3.10/site-packages/one/util.py:428: ALFWarning: Multiple revisions: \"\", \"2025-03-03\"\n",
      "  warnings.warn(f'Multiple revisions: {rev_list}', alferr.ALFWarning)\n"
     ]
    },
    {
     "name": "stdout",
     "output_type": "stream",
     "text": [
      "\u001b[36m2025-09-09 17:05:34 INFO     one.py:1288 Loading wheel data\u001b[0m\n"
     ]
    },
    {
     "name": "stderr",
     "output_type": "stream",
     "text": [
      "/opt/anaconda3/envs/iblenv/lib/python3.10/site-packages/one/util.py:428: ALFWarning: Multiple revisions: \"2024-05-06\", \"\"\n",
      "  warnings.warn(f'Multiple revisions: {rev_list}', alferr.ALFWarning)\n"
     ]
    },
    {
     "name": "stdout",
     "output_type": "stream",
     "text": [
      "\u001b[36m2025-09-09 17:05:35 INFO     one.py:1288 Loading motion_energy data\u001b[0m\n"
     ]
    },
    {
     "name": "stderr",
     "output_type": "stream",
     "text": [
      "/opt/anaconda3/envs/iblenv/lib/python3.10/site-packages/one/util.py:428: ALFWarning: Multiple revisions: \"\", \"2025-05-31\"\n",
      "  warnings.warn(f'Multiple revisions: {rev_list}', alferr.ALFWarning)\n",
      "/opt/anaconda3/envs/iblenv/lib/python3.10/site-packages/one/util.py:428: ALFWarning: Multiple revisions: \"\", \"2025-06-01\"\n",
      "  warnings.warn(f'Multiple revisions: {rev_list}', alferr.ALFWarning)\n",
      "/opt/anaconda3/envs/iblenv/lib/python3.10/site-packages/one/util.py:428: ALFWarning: Multiple revisions: \"\", \"2025-06-02\"\n",
      "  warnings.warn(f'Multiple revisions: {rev_list}', alferr.ALFWarning)\n"
     ]
    },
    {
     "name": "stdout",
     "output_type": "stream",
     "text": [
      "\u001b[36m2025-09-09 17:05:36 INFO     one.py:1288 Loading pupil data\u001b[0m\n"
     ]
    },
    {
     "name": "stderr",
     "output_type": "stream",
     "text": [
      "/opt/anaconda3/envs/iblenv/lib/python3.10/site-packages/one/util.py:428: ALFWarning: Multiple revisions: \"2025-06-18\", \"\"\n",
      "  warnings.warn(f'Multiple revisions: {rev_list}', alferr.ALFWarning)\n",
      "local file size mismatch on dataset: hausserlab/Subjects/PL030/2022-10-17/002/alf/_ibl_leftCamera.lightningPose.pqt\n",
      "(S3) /Users/ineslaranjeira/Downloads/FlatIron/hausserlab/Subjects/PL030/2022-10-17/002/alf/_ibl_leftCamera.lightningPose.pqt: 100%|██████████| 121M/121M [00:11<00:00, 11.0MB/s] \n",
      "(S3) /Users/ineslaranjeira/Downloads/FlatIron/hausserlab/Subjects/PL030/2022-10-17/002/alf/_ibl_rightCamera.lightningPose.pqt: 100%|██████████| 277M/277M [00:24<00:00, 11.4MB/s] \n"
     ]
    },
    {
     "name": "stdout",
     "output_type": "stream",
     "text": [
      "\u001b[36m2025-09-09 17:06:18 INFO     one.py:1288 Loading trials data\u001b[0m\n"
     ]
    },
    {
     "name": "stderr",
     "output_type": "stream",
     "text": [
      "/opt/anaconda3/envs/iblenv/lib/python3.10/site-packages/one/util.py:428: ALFWarning: Multiple revisions: \"\", \"2025-03-03\"\n",
      "  warnings.warn(f'Multiple revisions: {rev_list}', alferr.ALFWarning)\n"
     ]
    },
    {
     "name": "stdout",
     "output_type": "stream",
     "text": [
      "\u001b[36m2025-09-09 17:06:19 INFO     one.py:1288 Loading wheel data\u001b[0m\n"
     ]
    },
    {
     "name": "stderr",
     "output_type": "stream",
     "text": [
      "/opt/anaconda3/envs/iblenv/lib/python3.10/site-packages/one/util.py:428: ALFWarning: Multiple revisions: \"\", \"2024-05-06\"\n",
      "  warnings.warn(f'Multiple revisions: {rev_list}', alferr.ALFWarning)\n"
     ]
    },
    {
     "name": "stdout",
     "output_type": "stream",
     "text": [
      "\u001b[36m2025-09-09 17:06:20 INFO     one.py:1288 Loading motion_energy data\u001b[0m\n"
     ]
    },
    {
     "name": "stderr",
     "output_type": "stream",
     "text": [
      "/opt/anaconda3/envs/iblenv/lib/python3.10/site-packages/one/util.py:428: ALFWarning: Multiple revisions: \"\", \"2025-05-31\"\n",
      "  warnings.warn(f'Multiple revisions: {rev_list}', alferr.ALFWarning)\n",
      "/opt/anaconda3/envs/iblenv/lib/python3.10/site-packages/one/util.py:428: ALFWarning: Multiple revisions: \"\", \"2025-06-01\"\n",
      "  warnings.warn(f'Multiple revisions: {rev_list}', alferr.ALFWarning)\n",
      "/opt/anaconda3/envs/iblenv/lib/python3.10/site-packages/one/util.py:428: ALFWarning: Multiple revisions: \"\", \"2025-06-02\"\n",
      "  warnings.warn(f'Multiple revisions: {rev_list}', alferr.ALFWarning)\n"
     ]
    },
    {
     "name": "stdout",
     "output_type": "stream",
     "text": [
      "\u001b[36m2025-09-09 17:06:21 INFO     one.py:1288 Loading pupil data\u001b[0m\n"
     ]
    },
    {
     "name": "stderr",
     "output_type": "stream",
     "text": [
      "/opt/anaconda3/envs/iblenv/lib/python3.10/site-packages/one/util.py:428: ALFWarning: Multiple revisions: \"2025-06-18\", \"\"\n",
      "  warnings.warn(f'Multiple revisions: {rev_list}', alferr.ALFWarning)\n",
      "local file size mismatch on dataset: hausserlab/Subjects/PL031/2022-11-15/001/alf/_ibl_leftCamera.lightningPose.pqt\n",
      "(S3) /Users/ineslaranjeira/Downloads/FlatIron/hausserlab/Subjects/PL031/2022-11-15/001/alf/_ibl_leftCamera.lightningPose.pqt: 100%|██████████| 136M/136M [00:13<00:00, 10.3MB/s] \n",
      "(S3) /Users/ineslaranjeira/Downloads/FlatIron/hausserlab/Subjects/PL031/2022-11-15/001/alf/_ibl_rightCamera.lightningPose.pqt: 100%|██████████| 316M/316M [00:23<00:00, 13.2MB/s] \n"
     ]
    },
    {
     "name": "stdout",
     "output_type": "stream",
     "text": [
      "\u001b[36m2025-09-09 17:07:05 INFO     one.py:1288 Loading trials data\u001b[0m\n"
     ]
    },
    {
     "name": "stderr",
     "output_type": "stream",
     "text": [
      "/opt/anaconda3/envs/iblenv/lib/python3.10/site-packages/one/util.py:428: ALFWarning: Multiple revisions: \"\", \"2025-03-03\"\n",
      "  warnings.warn(f'Multiple revisions: {rev_list}', alferr.ALFWarning)\n"
     ]
    },
    {
     "name": "stdout",
     "output_type": "stream",
     "text": [
      "\u001b[36m2025-09-09 17:07:05 INFO     one.py:1288 Loading wheel data\u001b[0m\n"
     ]
    },
    {
     "name": "stderr",
     "output_type": "stream",
     "text": [
      "/opt/anaconda3/envs/iblenv/lib/python3.10/site-packages/one/util.py:428: ALFWarning: Multiple revisions: \"\", \"2024-05-06\"\n",
      "  warnings.warn(f'Multiple revisions: {rev_list}', alferr.ALFWarning)\n"
     ]
    },
    {
     "name": "stdout",
     "output_type": "stream",
     "text": [
      "\u001b[36m2025-09-09 17:07:07 INFO     one.py:1288 Loading motion_energy data\u001b[0m\n"
     ]
    },
    {
     "name": "stderr",
     "output_type": "stream",
     "text": [
      "/opt/anaconda3/envs/iblenv/lib/python3.10/site-packages/one/util.py:428: ALFWarning: Multiple revisions: \"\", \"2025-05-31\"\n",
      "  warnings.warn(f'Multiple revisions: {rev_list}', alferr.ALFWarning)\n",
      "/opt/anaconda3/envs/iblenv/lib/python3.10/site-packages/one/util.py:428: ALFWarning: Multiple revisions: \"\", \"2025-06-01\"\n",
      "  warnings.warn(f'Multiple revisions: {rev_list}', alferr.ALFWarning)\n",
      "/opt/anaconda3/envs/iblenv/lib/python3.10/site-packages/one/util.py:428: ALFWarning: Multiple revisions: \"\", \"2025-06-02\"\n",
      "  warnings.warn(f'Multiple revisions: {rev_list}', alferr.ALFWarning)\n"
     ]
    },
    {
     "name": "stdout",
     "output_type": "stream",
     "text": [
      "\u001b[36m2025-09-09 17:07:08 INFO     one.py:1288 Loading pupil data\u001b[0m\n"
     ]
    },
    {
     "name": "stderr",
     "output_type": "stream",
     "text": [
      "/opt/anaconda3/envs/iblenv/lib/python3.10/site-packages/one/util.py:428: ALFWarning: Multiple revisions: \"2025-06-18\", \"\"\n",
      "  warnings.warn(f'Multiple revisions: {rev_list}', alferr.ALFWarning)\n",
      "local file size mismatch on dataset: hausserlab/Subjects/PL031/2022-11-16/001/alf/_ibl_leftCamera.lightningPose.pqt\n",
      "(S3) /Users/ineslaranjeira/Downloads/FlatIron/hausserlab/Subjects/PL031/2022-11-16/001/alf/_ibl_leftCamera.lightningPose.pqt: 100%|██████████| 130M/130M [00:14<00:00, 9.18MB/s] \n",
      "(S3) /Users/ineslaranjeira/Downloads/FlatIron/hausserlab/Subjects/PL031/2022-11-16/001/alf/_ibl_rightCamera.lightningPose.pqt: 100%|██████████| 301M/301M [00:25<00:00, 11.7MB/s] \n"
     ]
    },
    {
     "name": "stdout",
     "output_type": "stream",
     "text": [
      "\u001b[36m2025-09-09 17:07:55 INFO     one.py:1288 Loading trials data\u001b[0m\n"
     ]
    },
    {
     "name": "stderr",
     "output_type": "stream",
     "text": [
      "/opt/anaconda3/envs/iblenv/lib/python3.10/site-packages/one/util.py:428: ALFWarning: Multiple revisions: \"\", \"2025-03-03\"\n",
      "  warnings.warn(f'Multiple revisions: {rev_list}', alferr.ALFWarning)\n"
     ]
    },
    {
     "name": "stdout",
     "output_type": "stream",
     "text": [
      "\u001b[36m2025-09-09 17:07:56 INFO     one.py:1288 Loading wheel data\u001b[0m\n"
     ]
    },
    {
     "name": "stderr",
     "output_type": "stream",
     "text": [
      "/opt/anaconda3/envs/iblenv/lib/python3.10/site-packages/one/util.py:428: ALFWarning: Multiple revisions: \"\", \"2024-05-06\"\n",
      "  warnings.warn(f'Multiple revisions: {rev_list}', alferr.ALFWarning)\n"
     ]
    },
    {
     "name": "stdout",
     "output_type": "stream",
     "text": [
      "\u001b[36m2025-09-09 17:07:57 INFO     one.py:1288 Loading motion_energy data\u001b[0m\n"
     ]
    },
    {
     "name": "stderr",
     "output_type": "stream",
     "text": [
      "/opt/anaconda3/envs/iblenv/lib/python3.10/site-packages/one/util.py:428: ALFWarning: Multiple revisions: \"\", \"2025-05-31\"\n",
      "  warnings.warn(f'Multiple revisions: {rev_list}', alferr.ALFWarning)\n",
      "/opt/anaconda3/envs/iblenv/lib/python3.10/site-packages/one/util.py:428: ALFWarning: Multiple revisions: \"\", \"2025-06-01\"\n",
      "  warnings.warn(f'Multiple revisions: {rev_list}', alferr.ALFWarning)\n",
      "/opt/anaconda3/envs/iblenv/lib/python3.10/site-packages/one/util.py:428: ALFWarning: Multiple revisions: \"\", \"2025-06-02\"\n",
      "  warnings.warn(f'Multiple revisions: {rev_list}', alferr.ALFWarning)\n"
     ]
    },
    {
     "name": "stdout",
     "output_type": "stream",
     "text": [
      "\u001b[36m2025-09-09 17:07:58 INFO     one.py:1288 Loading pupil data\u001b[0m\n"
     ]
    },
    {
     "name": "stderr",
     "output_type": "stream",
     "text": [
      "/opt/anaconda3/envs/iblenv/lib/python3.10/site-packages/one/util.py:428: ALFWarning: Multiple revisions: \"2025-06-18\", \"\"\n",
      "  warnings.warn(f'Multiple revisions: {rev_list}', alferr.ALFWarning)\n",
      "local file size mismatch on dataset: hausserlab/Subjects/PL031/2022-11-17/001/alf/_ibl_leftCamera.lightningPose.pqt\n",
      "(S3) /Users/ineslaranjeira/Downloads/FlatIron/hausserlab/Subjects/PL031/2022-11-17/001/alf/_ibl_leftCamera.lightningPose.pqt: 100%|██████████| 131M/131M [00:10<00:00, 12.8MB/s] \n",
      "(S3) /Users/ineslaranjeira/Downloads/FlatIron/hausserlab/Subjects/PL031/2022-11-17/001/alf/_ibl_rightCamera.lightningPose.pqt: 100%|██████████| 305M/305M [00:19<00:00, 16.0MB/s] \n"
     ]
    },
    {
     "name": "stdout",
     "output_type": "stream",
     "text": [
      "\u001b[36m2025-09-09 17:08:35 INFO     one.py:1288 Loading trials data\u001b[0m\n"
     ]
    },
    {
     "name": "stderr",
     "output_type": "stream",
     "text": [
      "/opt/anaconda3/envs/iblenv/lib/python3.10/site-packages/one/util.py:428: ALFWarning: Multiple revisions: \"\", \"2025-03-03\"\n",
      "  warnings.warn(f'Multiple revisions: {rev_list}', alferr.ALFWarning)\n"
     ]
    },
    {
     "name": "stdout",
     "output_type": "stream",
     "text": [
      "\u001b[36m2025-09-09 17:08:36 INFO     one.py:1288 Loading wheel data\u001b[0m\n"
     ]
    },
    {
     "name": "stderr",
     "output_type": "stream",
     "text": [
      "/opt/anaconda3/envs/iblenv/lib/python3.10/site-packages/one/util.py:428: ALFWarning: Multiple revisions: \"\", \"2024-05-06\"\n",
      "  warnings.warn(f'Multiple revisions: {rev_list}', alferr.ALFWarning)\n"
     ]
    },
    {
     "name": "stdout",
     "output_type": "stream",
     "text": [
      "\u001b[36m2025-09-09 17:08:37 INFO     one.py:1288 Loading motion_energy data\u001b[0m\n"
     ]
    },
    {
     "name": "stderr",
     "output_type": "stream",
     "text": [
      "/opt/anaconda3/envs/iblenv/lib/python3.10/site-packages/one/util.py:428: ALFWarning: Multiple revisions: \"\", \"2025-05-31\"\n",
      "  warnings.warn(f'Multiple revisions: {rev_list}', alferr.ALFWarning)\n",
      "/opt/anaconda3/envs/iblenv/lib/python3.10/site-packages/one/util.py:428: ALFWarning: Multiple revisions: \"\", \"2025-06-01\"\n",
      "  warnings.warn(f'Multiple revisions: {rev_list}', alferr.ALFWarning)\n",
      "/opt/anaconda3/envs/iblenv/lib/python3.10/site-packages/one/util.py:428: ALFWarning: Multiple revisions: \"\", \"2025-06-02\"\n",
      "  warnings.warn(f'Multiple revisions: {rev_list}', alferr.ALFWarning)\n"
     ]
    },
    {
     "name": "stdout",
     "output_type": "stream",
     "text": [
      "\u001b[36m2025-09-09 17:08:38 INFO     one.py:1288 Loading pupil data\u001b[0m\n"
     ]
    },
    {
     "name": "stderr",
     "output_type": "stream",
     "text": [
      "/opt/anaconda3/envs/iblenv/lib/python3.10/site-packages/one/util.py:428: ALFWarning: Multiple revisions: \"2025-06-18\", \"\"\n",
      "  warnings.warn(f'Multiple revisions: {rev_list}', alferr.ALFWarning)\n",
      "local file size mismatch on dataset: hausserlab/Subjects/PL031/2022-11-19/001/alf/_ibl_leftCamera.lightningPose.pqt\n",
      "(S3) /Users/ineslaranjeira/Downloads/FlatIron/hausserlab/Subjects/PL031/2022-11-19/001/alf/_ibl_leftCamera.lightningPose.pqt: 100%|██████████| 120M/120M [00:11<00:00, 10.3MB/s] \n",
      "(S3) /Users/ineslaranjeira/Downloads/FlatIron/hausserlab/Subjects/PL031/2022-11-19/001/alf/_ibl_rightCamera.lightningPose.pqt: 100%|██████████| 276M/276M [00:24<00:00, 11.1MB/s] \n"
     ]
    },
    {
     "name": "stdout",
     "output_type": "stream",
     "text": [
      "\u001b[36m2025-09-09 17:09:22 INFO     one.py:1288 Loading trials data\u001b[0m\n"
     ]
    },
    {
     "name": "stderr",
     "output_type": "stream",
     "text": [
      "/opt/anaconda3/envs/iblenv/lib/python3.10/site-packages/one/util.py:428: ALFWarning: Multiple revisions: \"\", \"2025-03-03\"\n",
      "  warnings.warn(f'Multiple revisions: {rev_list}', alferr.ALFWarning)\n"
     ]
    },
    {
     "name": "stdout",
     "output_type": "stream",
     "text": [
      "\u001b[36m2025-09-09 17:09:23 INFO     one.py:1288 Loading wheel data\u001b[0m\n"
     ]
    },
    {
     "name": "stderr",
     "output_type": "stream",
     "text": [
      "/opt/anaconda3/envs/iblenv/lib/python3.10/site-packages/one/util.py:428: ALFWarning: Multiple revisions: \"\", \"2024-05-06\"\n",
      "  warnings.warn(f'Multiple revisions: {rev_list}', alferr.ALFWarning)\n"
     ]
    },
    {
     "name": "stdout",
     "output_type": "stream",
     "text": [
      "\u001b[36m2025-09-09 17:09:23 INFO     one.py:1288 Loading motion_energy data\u001b[0m\n"
     ]
    },
    {
     "name": "stderr",
     "output_type": "stream",
     "text": [
      "/opt/anaconda3/envs/iblenv/lib/python3.10/site-packages/one/util.py:428: ALFWarning: Multiple revisions: \"\", \"2025-05-31\"\n",
      "  warnings.warn(f'Multiple revisions: {rev_list}', alferr.ALFWarning)\n",
      "/opt/anaconda3/envs/iblenv/lib/python3.10/site-packages/one/util.py:428: ALFWarning: Multiple revisions: \"\", \"2025-06-01\"\n",
      "  warnings.warn(f'Multiple revisions: {rev_list}', alferr.ALFWarning)\n"
     ]
    },
    {
     "name": "stdout",
     "output_type": "stream",
     "text": [
      "\u001b[36m2025-09-09 17:09:24 INFO     one.py:1288 Loading pupil data\u001b[0m\n"
     ]
    },
    {
     "name": "stderr",
     "output_type": "stream",
     "text": [
      "/opt/anaconda3/envs/iblenv/lib/python3.10/site-packages/one/util.py:428: ALFWarning: Multiple revisions: \"2025-06-18\", \"\"\n",
      "  warnings.warn(f'Multiple revisions: {rev_list}', alferr.ALFWarning)\n",
      "local file size mismatch on dataset: hausserlab/Subjects/PL033/2022-10-04/002/alf/_ibl_leftCamera.lightningPose.pqt\n",
      "(S3) /Users/ineslaranjeira/Downloads/FlatIron/hausserlab/Subjects/PL033/2022-10-04/002/alf/_ibl_leftCamera.lightningPose.pqt: 100%|██████████| 128M/128M [00:10<00:00, 12.7MB/s] \n",
      "(S3) /Users/ineslaranjeira/Downloads/FlatIron/hausserlab/Subjects/PL033/2022-10-04/002/alf/_ibl_rightCamera.lightningPose.pqt: 100%|██████████| 293M/293M [00:21<00:00, 13.7MB/s] \n"
     ]
    },
    {
     "name": "stdout",
     "output_type": "stream",
     "text": [
      "\u001b[36m2025-09-09 17:10:03 INFO     one.py:1288 Loading trials data\u001b[0m\n"
     ]
    },
    {
     "name": "stderr",
     "output_type": "stream",
     "text": [
      "/opt/anaconda3/envs/iblenv/lib/python3.10/site-packages/one/util.py:428: ALFWarning: Multiple revisions: \"\", \"2025-03-03\"\n",
      "  warnings.warn(f'Multiple revisions: {rev_list}', alferr.ALFWarning)\n"
     ]
    },
    {
     "name": "stdout",
     "output_type": "stream",
     "text": [
      "\u001b[36m2025-09-09 17:10:04 INFO     one.py:1288 Loading wheel data\u001b[0m\n"
     ]
    },
    {
     "name": "stderr",
     "output_type": "stream",
     "text": [
      "/opt/anaconda3/envs/iblenv/lib/python3.10/site-packages/one/util.py:428: ALFWarning: Multiple revisions: \"\", \"2024-05-06\"\n",
      "  warnings.warn(f'Multiple revisions: {rev_list}', alferr.ALFWarning)\n"
     ]
    },
    {
     "name": "stdout",
     "output_type": "stream",
     "text": [
      "\u001b[36m2025-09-09 17:10:05 INFO     one.py:1288 Loading motion_energy data\u001b[0m\n"
     ]
    },
    {
     "name": "stderr",
     "output_type": "stream",
     "text": [
      "/opt/anaconda3/envs/iblenv/lib/python3.10/site-packages/one/util.py:428: ALFWarning: Multiple revisions: \"\", \"2025-05-31\"\n",
      "  warnings.warn(f'Multiple revisions: {rev_list}', alferr.ALFWarning)\n",
      "/opt/anaconda3/envs/iblenv/lib/python3.10/site-packages/one/util.py:428: ALFWarning: Multiple revisions: \"\", \"2025-06-01\"\n",
      "  warnings.warn(f'Multiple revisions: {rev_list}', alferr.ALFWarning)\n",
      "/opt/anaconda3/envs/iblenv/lib/python3.10/site-packages/one/util.py:428: ALFWarning: Multiple revisions: \"\", \"2025-06-03\"\n",
      "  warnings.warn(f'Multiple revisions: {rev_list}', alferr.ALFWarning)\n"
     ]
    },
    {
     "name": "stdout",
     "output_type": "stream",
     "text": [
      "\u001b[36m2025-09-09 17:10:06 INFO     one.py:1288 Loading pupil data\u001b[0m\n"
     ]
    },
    {
     "name": "stderr",
     "output_type": "stream",
     "text": [
      "/opt/anaconda3/envs/iblenv/lib/python3.10/site-packages/one/util.py:428: ALFWarning: Multiple revisions: \"2025-06-18\", \"\"\n",
      "  warnings.warn(f'Multiple revisions: {rev_list}', alferr.ALFWarning)\n"
     ]
    },
    {
     "name": "stdout",
     "output_type": "stream",
     "text": [
      "\u001b[1;33m2025-09-09 17:10:06 WARNING  one.py:1292 Could not load pupil data.\u001b[0m\n"
     ]
    },
    {
     "name": "stderr",
     "output_type": "stream",
     "text": [
      "local file size mismatch on dataset: hausserlab/Subjects/PL033/2022-10-05/001/alf/_ibl_leftCamera.lightningPose.pqt\n",
      "(S3) /Users/ineslaranjeira/Downloads/FlatIron/hausserlab/Subjects/PL033/2022-10-05/001/alf/_ibl_leftCamera.lightningPose.pqt: 100%|██████████| 120M/120M [00:09<00:00, 13.0MB/s] \n",
      "(S3) /Users/ineslaranjeira/Downloads/FlatIron/hausserlab/Subjects/PL033/2022-10-05/001/alf/_ibl_rightCamera.lightningPose.pqt: 100%|██████████| 272M/272M [00:19<00:00, 14.2MB/s] \n"
     ]
    },
    {
     "name": "stdout",
     "output_type": "stream",
     "text": [
      "\u001b[36m2025-09-09 17:10:41 INFO     one.py:1288 Loading trials data\u001b[0m\n"
     ]
    },
    {
     "name": "stderr",
     "output_type": "stream",
     "text": [
      "/opt/anaconda3/envs/iblenv/lib/python3.10/site-packages/one/util.py:428: ALFWarning: Multiple revisions: \"\", \"2025-03-03\"\n",
      "  warnings.warn(f'Multiple revisions: {rev_list}', alferr.ALFWarning)\n"
     ]
    },
    {
     "name": "stdout",
     "output_type": "stream",
     "text": [
      "\u001b[36m2025-09-09 17:10:42 INFO     one.py:1288 Loading wheel data\u001b[0m\n"
     ]
    },
    {
     "name": "stderr",
     "output_type": "stream",
     "text": [
      "/opt/anaconda3/envs/iblenv/lib/python3.10/site-packages/one/util.py:428: ALFWarning: Multiple revisions: \"2024-05-06\", \"\"\n",
      "  warnings.warn(f'Multiple revisions: {rev_list}', alferr.ALFWarning)\n"
     ]
    },
    {
     "name": "stdout",
     "output_type": "stream",
     "text": [
      "\u001b[36m2025-09-09 17:10:43 INFO     one.py:1288 Loading motion_energy data\u001b[0m\n"
     ]
    },
    {
     "name": "stderr",
     "output_type": "stream",
     "text": [
      "/opt/anaconda3/envs/iblenv/lib/python3.10/site-packages/one/util.py:428: ALFWarning: Multiple revisions: \"\", \"2025-05-31\"\n",
      "  warnings.warn(f'Multiple revisions: {rev_list}', alferr.ALFWarning)\n",
      "/opt/anaconda3/envs/iblenv/lib/python3.10/site-packages/one/util.py:428: ALFWarning: Multiple revisions: \"\", \"2025-06-01\"\n",
      "  warnings.warn(f'Multiple revisions: {rev_list}', alferr.ALFWarning)\n",
      "/opt/anaconda3/envs/iblenv/lib/python3.10/site-packages/one/util.py:428: ALFWarning: Multiple revisions: \"\", \"2025-06-03\"\n",
      "  warnings.warn(f'Multiple revisions: {rev_list}', alferr.ALFWarning)\n"
     ]
    },
    {
     "name": "stdout",
     "output_type": "stream",
     "text": [
      "\u001b[36m2025-09-09 17:10:44 INFO     one.py:1288 Loading pupil data\u001b[0m\n"
     ]
    },
    {
     "name": "stderr",
     "output_type": "stream",
     "text": [
      "/opt/anaconda3/envs/iblenv/lib/python3.10/site-packages/one/util.py:428: ALFWarning: Multiple revisions: \"2025-06-18\", \"\"\n",
      "  warnings.warn(f'Multiple revisions: {rev_list}', alferr.ALFWarning)\n"
     ]
    },
    {
     "name": "stdout",
     "output_type": "stream",
     "text": [
      "\u001b[1;33m2025-09-09 17:10:44 WARNING  one.py:1292 Could not load pupil data.\u001b[0m\n"
     ]
    },
    {
     "name": "stderr",
     "output_type": "stream",
     "text": [
      "local file size mismatch on dataset: hausserlab/Subjects/PL033/2022-10-06/001/alf/_ibl_leftCamera.lightningPose.pqt\n",
      "(S3) /Users/ineslaranjeira/Downloads/FlatIron/hausserlab/Subjects/PL033/2022-10-06/001/alf/_ibl_leftCamera.lightningPose.pqt: 100%|██████████| 121M/121M [00:08<00:00, 13.6MB/s] \n",
      "(S3) /Users/ineslaranjeira/Downloads/FlatIron/hausserlab/Subjects/PL033/2022-10-06/001/alf/_ibl_rightCamera.lightningPose.pqt: 100%|██████████| 275M/275M [00:24<00:00, 11.2MB/s] \n"
     ]
    },
    {
     "name": "stdout",
     "output_type": "stream",
     "text": [
      "\u001b[36m2025-09-09 17:11:24 INFO     one.py:1288 Loading trials data\u001b[0m\n"
     ]
    },
    {
     "name": "stderr",
     "output_type": "stream",
     "text": [
      "/opt/anaconda3/envs/iblenv/lib/python3.10/site-packages/one/util.py:428: ALFWarning: Multiple revisions: \"\", \"2025-03-03\"\n",
      "  warnings.warn(f'Multiple revisions: {rev_list}', alferr.ALFWarning)\n"
     ]
    },
    {
     "name": "stdout",
     "output_type": "stream",
     "text": [
      "\u001b[36m2025-09-09 17:11:25 INFO     one.py:1288 Loading wheel data\u001b[0m\n"
     ]
    },
    {
     "name": "stderr",
     "output_type": "stream",
     "text": [
      "/opt/anaconda3/envs/iblenv/lib/python3.10/site-packages/one/util.py:428: ALFWarning: Multiple revisions: \"2024-05-06\", \"\"\n",
      "  warnings.warn(f'Multiple revisions: {rev_list}', alferr.ALFWarning)\n"
     ]
    },
    {
     "name": "stdout",
     "output_type": "stream",
     "text": [
      "\u001b[36m2025-09-09 17:11:26 INFO     one.py:1288 Loading motion_energy data\u001b[0m\n"
     ]
    },
    {
     "name": "stderr",
     "output_type": "stream",
     "text": [
      "/opt/anaconda3/envs/iblenv/lib/python3.10/site-packages/one/util.py:428: ALFWarning: Multiple revisions: \"\", \"2025-05-31\"\n",
      "  warnings.warn(f'Multiple revisions: {rev_list}', alferr.ALFWarning)\n",
      "/opt/anaconda3/envs/iblenv/lib/python3.10/site-packages/one/util.py:428: ALFWarning: Multiple revisions: \"\", \"2025-06-01\"\n",
      "  warnings.warn(f'Multiple revisions: {rev_list}', alferr.ALFWarning)\n",
      "/opt/anaconda3/envs/iblenv/lib/python3.10/site-packages/one/util.py:428: ALFWarning: Multiple revisions: \"\", \"2025-06-03\"\n",
      "  warnings.warn(f'Multiple revisions: {rev_list}', alferr.ALFWarning)\n"
     ]
    },
    {
     "name": "stdout",
     "output_type": "stream",
     "text": [
      "\u001b[36m2025-09-09 17:11:27 INFO     one.py:1288 Loading pupil data\u001b[0m\n"
     ]
    },
    {
     "name": "stderr",
     "output_type": "stream",
     "text": [
      "/opt/anaconda3/envs/iblenv/lib/python3.10/site-packages/one/util.py:428: ALFWarning: Multiple revisions: \"2025-06-18\", \"\"\n",
      "  warnings.warn(f'Multiple revisions: {rev_list}', alferr.ALFWarning)\n"
     ]
    },
    {
     "name": "stdout",
     "output_type": "stream",
     "text": [
      "\u001b[1;33m2025-09-09 17:11:27 WARNING  one.py:1292 Could not load pupil data.\u001b[0m\n"
     ]
    },
    {
     "name": "stderr",
     "output_type": "stream",
     "text": [
      "local file size mismatch on dataset: hausserlab/Subjects/PL033/2022-10-07/001/alf/_ibl_leftCamera.lightningPose.pqt\n",
      "(S3) /Users/ineslaranjeira/Downloads/FlatIron/hausserlab/Subjects/PL033/2022-10-07/001/alf/_ibl_leftCamera.lightningPose.pqt: 100%|██████████| 122M/122M [00:08<00:00, 13.9MB/s] \n",
      "(S3) /Users/ineslaranjeira/Downloads/FlatIron/hausserlab/Subjects/PL033/2022-10-07/001/alf/_ibl_rightCamera.lightningPose.pqt: 100%|██████████| 279M/279M [00:20<00:00, 13.7MB/s] \n"
     ]
    },
    {
     "name": "stdout",
     "output_type": "stream",
     "text": [
      "\u001b[36m2025-09-09 17:12:03 INFO     one.py:1288 Loading trials data\u001b[0m\n"
     ]
    },
    {
     "name": "stderr",
     "output_type": "stream",
     "text": [
      "/opt/anaconda3/envs/iblenv/lib/python3.10/site-packages/one/util.py:428: ALFWarning: Multiple revisions: \"\", \"2025-03-03\"\n",
      "  warnings.warn(f'Multiple revisions: {rev_list}', alferr.ALFWarning)\n"
     ]
    },
    {
     "name": "stdout",
     "output_type": "stream",
     "text": [
      "\u001b[36m2025-09-09 17:12:04 INFO     one.py:1288 Loading wheel data\u001b[0m\n"
     ]
    },
    {
     "name": "stderr",
     "output_type": "stream",
     "text": [
      "/opt/anaconda3/envs/iblenv/lib/python3.10/site-packages/one/util.py:428: ALFWarning: Multiple revisions: \"2024-05-06\", \"\"\n",
      "  warnings.warn(f'Multiple revisions: {rev_list}', alferr.ALFWarning)\n"
     ]
    },
    {
     "name": "stdout",
     "output_type": "stream",
     "text": [
      "\u001b[36m2025-09-09 17:12:05 INFO     one.py:1288 Loading motion_energy data\u001b[0m\n"
     ]
    },
    {
     "name": "stderr",
     "output_type": "stream",
     "text": [
      "/opt/anaconda3/envs/iblenv/lib/python3.10/site-packages/one/util.py:428: ALFWarning: Multiple revisions: \"\", \"2025-05-31\"\n",
      "  warnings.warn(f'Multiple revisions: {rev_list}', alferr.ALFWarning)\n",
      "/opt/anaconda3/envs/iblenv/lib/python3.10/site-packages/one/util.py:428: ALFWarning: Multiple revisions: \"\", \"2025-06-01\"\n",
      "  warnings.warn(f'Multiple revisions: {rev_list}', alferr.ALFWarning)\n",
      "/opt/anaconda3/envs/iblenv/lib/python3.10/site-packages/one/util.py:428: ALFWarning: Multiple revisions: \"\", \"2025-06-03\"\n",
      "  warnings.warn(f'Multiple revisions: {rev_list}', alferr.ALFWarning)\n"
     ]
    },
    {
     "name": "stdout",
     "output_type": "stream",
     "text": [
      "\u001b[36m2025-09-09 17:12:06 INFO     one.py:1288 Loading pupil data\u001b[0m\n"
     ]
    },
    {
     "name": "stderr",
     "output_type": "stream",
     "text": [
      "/opt/anaconda3/envs/iblenv/lib/python3.10/site-packages/one/util.py:428: ALFWarning: Multiple revisions: \"2025-06-18\", \"\"\n",
      "  warnings.warn(f'Multiple revisions: {rev_list}', alferr.ALFWarning)\n"
     ]
    },
    {
     "name": "stdout",
     "output_type": "stream",
     "text": [
      "\u001b[1;33m2025-09-09 17:12:06 WARNING  one.py:1292 Could not load pupil data.\u001b[0m\n"
     ]
    },
    {
     "name": "stderr",
     "output_type": "stream",
     "text": [
      "local file size mismatch on dataset: hausserlab/Subjects/PL033/2022-10-10/001/alf/_ibl_leftCamera.lightningPose.pqt\n",
      "(S3) /Users/ineslaranjeira/Downloads/FlatIron/hausserlab/Subjects/PL033/2022-10-10/001/alf/_ibl_leftCamera.lightningPose.pqt: 100%|██████████| 126M/126M [00:10<00:00, 11.6MB/s] \n",
      "(S3) /Users/ineslaranjeira/Downloads/FlatIron/hausserlab/Subjects/PL033/2022-10-10/001/alf/_ibl_rightCamera.lightningPose.pqt: 100%|██████████| 287M/287M [00:27<00:00, 10.4MB/s] \n"
     ]
    },
    {
     "name": "stdout",
     "output_type": "stream",
     "text": [
      "\u001b[36m2025-09-09 17:12:51 INFO     one.py:1288 Loading trials data\u001b[0m\n"
     ]
    },
    {
     "name": "stderr",
     "output_type": "stream",
     "text": [
      "/opt/anaconda3/envs/iblenv/lib/python3.10/site-packages/one/util.py:428: ALFWarning: Multiple revisions: \"\", \"2025-03-03\"\n",
      "  warnings.warn(f'Multiple revisions: {rev_list}', alferr.ALFWarning)\n"
     ]
    },
    {
     "name": "stdout",
     "output_type": "stream",
     "text": [
      "\u001b[36m2025-09-09 17:12:52 INFO     one.py:1288 Loading wheel data\u001b[0m\n"
     ]
    },
    {
     "name": "stderr",
     "output_type": "stream",
     "text": [
      "/opt/anaconda3/envs/iblenv/lib/python3.10/site-packages/one/util.py:428: ALFWarning: Multiple revisions: \"2024-05-06\", \"\"\n",
      "  warnings.warn(f'Multiple revisions: {rev_list}', alferr.ALFWarning)\n"
     ]
    },
    {
     "name": "stdout",
     "output_type": "stream",
     "text": [
      "\u001b[36m2025-09-09 17:12:53 INFO     one.py:1288 Loading motion_energy data\u001b[0m\n"
     ]
    },
    {
     "name": "stderr",
     "output_type": "stream",
     "text": [
      "/opt/anaconda3/envs/iblenv/lib/python3.10/site-packages/one/util.py:428: ALFWarning: Multiple revisions: \"\", \"2025-05-31\"\n",
      "  warnings.warn(f'Multiple revisions: {rev_list}', alferr.ALFWarning)\n",
      "/opt/anaconda3/envs/iblenv/lib/python3.10/site-packages/one/util.py:428: ALFWarning: Multiple revisions: \"\", \"2025-06-01\"\n",
      "  warnings.warn(f'Multiple revisions: {rev_list}', alferr.ALFWarning)\n",
      "/opt/anaconda3/envs/iblenv/lib/python3.10/site-packages/one/util.py:428: ALFWarning: Multiple revisions: \"\", \"2025-06-03\"\n",
      "  warnings.warn(f'Multiple revisions: {rev_list}', alferr.ALFWarning)\n"
     ]
    },
    {
     "name": "stdout",
     "output_type": "stream",
     "text": [
      "\u001b[36m2025-09-09 17:12:54 INFO     one.py:1288 Loading pupil data\u001b[0m\n"
     ]
    },
    {
     "name": "stderr",
     "output_type": "stream",
     "text": [
      "/opt/anaconda3/envs/iblenv/lib/python3.10/site-packages/one/util.py:428: ALFWarning: Multiple revisions: \"2025-06-18\", \"\"\n",
      "  warnings.warn(f'Multiple revisions: {rev_list}', alferr.ALFWarning)\n"
     ]
    },
    {
     "name": "stdout",
     "output_type": "stream",
     "text": [
      "\u001b[1;33m2025-09-09 17:12:54 WARNING  one.py:1292 Could not load pupil data.\u001b[0m\n"
     ]
    },
    {
     "name": "stderr",
     "output_type": "stream",
     "text": [
      "local file size mismatch on dataset: hausserlab/Subjects/PL033/2022-10-11/001/alf/_ibl_leftCamera.lightningPose.pqt\n",
      "(S3) /Users/ineslaranjeira/Downloads/FlatIron/hausserlab/Subjects/PL033/2022-10-11/001/alf/_ibl_leftCamera.lightningPose.pqt: 100%|██████████| 120M/120M [00:13<00:00, 8.84MB/s] \n",
      "(S3) /Users/ineslaranjeira/Downloads/FlatIron/hausserlab/Subjects/PL033/2022-10-11/001/alf/_ibl_rightCamera.lightningPose.pqt: 100%|██████████| 271M/271M [00:20<00:00, 13.1MB/s] \n"
     ]
    },
    {
     "name": "stdout",
     "output_type": "stream",
     "text": [
      "\u001b[36m2025-09-09 17:13:35 INFO     one.py:1288 Loading trials data\u001b[0m\n"
     ]
    },
    {
     "name": "stderr",
     "output_type": "stream",
     "text": [
      "/opt/anaconda3/envs/iblenv/lib/python3.10/site-packages/one/util.py:428: ALFWarning: Multiple revisions: \"\", \"2025-03-03\"\n",
      "  warnings.warn(f'Multiple revisions: {rev_list}', alferr.ALFWarning)\n"
     ]
    },
    {
     "name": "stdout",
     "output_type": "stream",
     "text": [
      "\u001b[36m2025-09-09 17:13:36 INFO     one.py:1288 Loading wheel data\u001b[0m\n"
     ]
    },
    {
     "name": "stderr",
     "output_type": "stream",
     "text": [
      "/opt/anaconda3/envs/iblenv/lib/python3.10/site-packages/one/util.py:428: ALFWarning: Multiple revisions: \"2024-05-06\", \"\"\n",
      "  warnings.warn(f'Multiple revisions: {rev_list}', alferr.ALFWarning)\n"
     ]
    },
    {
     "name": "stdout",
     "output_type": "stream",
     "text": [
      "\u001b[36m2025-09-09 17:13:37 INFO     one.py:1288 Loading motion_energy data\u001b[0m\n"
     ]
    },
    {
     "name": "stderr",
     "output_type": "stream",
     "text": [
      "/opt/anaconda3/envs/iblenv/lib/python3.10/site-packages/one/util.py:428: ALFWarning: Multiple revisions: \"\", \"2025-05-31\"\n",
      "  warnings.warn(f'Multiple revisions: {rev_list}', alferr.ALFWarning)\n",
      "/opt/anaconda3/envs/iblenv/lib/python3.10/site-packages/one/util.py:428: ALFWarning: Multiple revisions: \"\", \"2025-06-01\"\n",
      "  warnings.warn(f'Multiple revisions: {rev_list}', alferr.ALFWarning)\n",
      "/opt/anaconda3/envs/iblenv/lib/python3.10/site-packages/one/util.py:428: ALFWarning: Multiple revisions: \"\", \"2025-06-03\"\n",
      "  warnings.warn(f'Multiple revisions: {rev_list}', alferr.ALFWarning)\n"
     ]
    },
    {
     "name": "stdout",
     "output_type": "stream",
     "text": [
      "\u001b[36m2025-09-09 17:13:38 INFO     one.py:1288 Loading pupil data\u001b[0m\n"
     ]
    },
    {
     "name": "stderr",
     "output_type": "stream",
     "text": [
      "/opt/anaconda3/envs/iblenv/lib/python3.10/site-packages/one/util.py:428: ALFWarning: Multiple revisions: \"2025-06-18\", \"\"\n",
      "  warnings.warn(f'Multiple revisions: {rev_list}', alferr.ALFWarning)\n"
     ]
    },
    {
     "name": "stdout",
     "output_type": "stream",
     "text": [
      "\u001b[1;33m2025-09-09 17:13:38 WARNING  one.py:1292 Could not load pupil data.\u001b[0m\n"
     ]
    },
    {
     "name": "stderr",
     "output_type": "stream",
     "text": [
      "local file size mismatch on dataset: hausserlab/Subjects/PL033/2022-10-12/001/alf/_ibl_leftCamera.lightningPose.pqt\n",
      "(S3) /Users/ineslaranjeira/Downloads/FlatIron/hausserlab/Subjects/PL033/2022-10-12/001/alf/_ibl_leftCamera.lightningPose.pqt: 100%|██████████| 119M/119M [00:17<00:00, 6.94MB/s] \n",
      "(S3) /Users/ineslaranjeira/Downloads/FlatIron/hausserlab/Subjects/PL033/2022-10-12/001/alf/_ibl_rightCamera.lightningPose.pqt: 100%|██████████| 267M/267M [00:20<00:00, 12.8MB/s] \n"
     ]
    },
    {
     "name": "stdout",
     "output_type": "stream",
     "text": [
      "\u001b[36m2025-09-09 17:14:23 INFO     one.py:1288 Loading trials data\u001b[0m\n"
     ]
    },
    {
     "name": "stderr",
     "output_type": "stream",
     "text": [
      "/opt/anaconda3/envs/iblenv/lib/python3.10/site-packages/one/util.py:428: ALFWarning: Multiple revisions: \"\", \"2025-03-03\"\n",
      "  warnings.warn(f'Multiple revisions: {rev_list}', alferr.ALFWarning)\n"
     ]
    },
    {
     "name": "stdout",
     "output_type": "stream",
     "text": [
      "\u001b[36m2025-09-09 17:14:24 INFO     one.py:1288 Loading wheel data\u001b[0m\n"
     ]
    },
    {
     "name": "stderr",
     "output_type": "stream",
     "text": [
      "/opt/anaconda3/envs/iblenv/lib/python3.10/site-packages/one/util.py:428: ALFWarning: Multiple revisions: \"\", \"2024-05-06\"\n",
      "  warnings.warn(f'Multiple revisions: {rev_list}', alferr.ALFWarning)\n"
     ]
    },
    {
     "name": "stdout",
     "output_type": "stream",
     "text": [
      "\u001b[36m2025-09-09 17:14:25 INFO     one.py:1288 Loading motion_energy data\u001b[0m\n"
     ]
    },
    {
     "name": "stderr",
     "output_type": "stream",
     "text": [
      "/opt/anaconda3/envs/iblenv/lib/python3.10/site-packages/one/util.py:428: ALFWarning: Multiple revisions: \"\", \"2025-05-31\"\n",
      "  warnings.warn(f'Multiple revisions: {rev_list}', alferr.ALFWarning)\n",
      "/opt/anaconda3/envs/iblenv/lib/python3.10/site-packages/one/util.py:428: ALFWarning: Multiple revisions: \"\", \"2025-06-01\"\n",
      "  warnings.warn(f'Multiple revisions: {rev_list}', alferr.ALFWarning)\n",
      "/opt/anaconda3/envs/iblenv/lib/python3.10/site-packages/one/util.py:428: ALFWarning: Multiple revisions: \"\", \"2025-06-03\"\n",
      "  warnings.warn(f'Multiple revisions: {rev_list}', alferr.ALFWarning)\n"
     ]
    },
    {
     "name": "stdout",
     "output_type": "stream",
     "text": [
      "\u001b[36m2025-09-09 17:14:26 INFO     one.py:1288 Loading pupil data\u001b[0m\n"
     ]
    },
    {
     "name": "stderr",
     "output_type": "stream",
     "text": [
      "/opt/anaconda3/envs/iblenv/lib/python3.10/site-packages/one/util.py:428: ALFWarning: Multiple revisions: \"2025-06-18\", \"\"\n",
      "  warnings.warn(f'Multiple revisions: {rev_list}', alferr.ALFWarning)\n"
     ]
    },
    {
     "name": "stdout",
     "output_type": "stream",
     "text": [
      "\u001b[1;33m2025-09-09 17:14:27 WARNING  one.py:1292 Could not load pupil data.\u001b[0m\n"
     ]
    },
    {
     "name": "stderr",
     "output_type": "stream",
     "text": [
      "local file size mismatch on dataset: hausserlab/Subjects/PL033/2022-10-25/001/alf/_ibl_leftCamera.lightningPose.pqt\n",
      "(S3) /Users/ineslaranjeira/Downloads/FlatIron/hausserlab/Subjects/PL033/2022-10-25/001/alf/_ibl_leftCamera.lightningPose.pqt: 100%|██████████| 138M/138M [00:11<00:00, 11.6MB/s] \n",
      "(S3) /Users/ineslaranjeira/Downloads/FlatIron/hausserlab/Subjects/PL033/2022-10-25/001/alf/_ibl_rightCamera.lightningPose.pqt: 100%|██████████| 316M/316M [00:22<00:00, 13.7MB/s] \n"
     ]
    },
    {
     "name": "stdout",
     "output_type": "stream",
     "text": [
      "\u001b[36m2025-09-09 17:15:08 INFO     one.py:1288 Loading trials data\u001b[0m\n"
     ]
    },
    {
     "name": "stderr",
     "output_type": "stream",
     "text": [
      "/opt/anaconda3/envs/iblenv/lib/python3.10/site-packages/one/util.py:428: ALFWarning: Multiple revisions: \"\", \"2025-03-03\"\n",
      "  warnings.warn(f'Multiple revisions: {rev_list}', alferr.ALFWarning)\n"
     ]
    },
    {
     "name": "stdout",
     "output_type": "stream",
     "text": [
      "\u001b[36m2025-09-09 17:15:09 INFO     one.py:1288 Loading wheel data\u001b[0m\n"
     ]
    },
    {
     "name": "stderr",
     "output_type": "stream",
     "text": [
      "/opt/anaconda3/envs/iblenv/lib/python3.10/site-packages/one/util.py:428: ALFWarning: Multiple revisions: \"2024-05-06\", \"\"\n",
      "  warnings.warn(f'Multiple revisions: {rev_list}', alferr.ALFWarning)\n"
     ]
    },
    {
     "name": "stdout",
     "output_type": "stream",
     "text": [
      "\u001b[36m2025-09-09 17:15:10 INFO     one.py:1288 Loading motion_energy data\u001b[0m\n"
     ]
    },
    {
     "name": "stderr",
     "output_type": "stream",
     "text": [
      "/opt/anaconda3/envs/iblenv/lib/python3.10/site-packages/one/util.py:428: ALFWarning: Multiple revisions: \"\", \"2025-05-31\"\n",
      "  warnings.warn(f'Multiple revisions: {rev_list}', alferr.ALFWarning)\n",
      "/opt/anaconda3/envs/iblenv/lib/python3.10/site-packages/one/util.py:428: ALFWarning: Multiple revisions: \"\", \"2025-06-01\"\n",
      "  warnings.warn(f'Multiple revisions: {rev_list}', alferr.ALFWarning)\n",
      "/opt/anaconda3/envs/iblenv/lib/python3.10/site-packages/one/util.py:428: ALFWarning: Multiple revisions: \"\", \"2025-06-03\"\n",
      "  warnings.warn(f'Multiple revisions: {rev_list}', alferr.ALFWarning)\n"
     ]
    },
    {
     "name": "stdout",
     "output_type": "stream",
     "text": [
      "\u001b[36m2025-09-09 17:15:11 INFO     one.py:1288 Loading pupil data\u001b[0m\n"
     ]
    },
    {
     "name": "stderr",
     "output_type": "stream",
     "text": [
      "/opt/anaconda3/envs/iblenv/lib/python3.10/site-packages/one/util.py:428: ALFWarning: Multiple revisions: \"2025-06-18\", \"\"\n",
      "  warnings.warn(f'Multiple revisions: {rev_list}', alferr.ALFWarning)\n"
     ]
    },
    {
     "name": "stdout",
     "output_type": "stream",
     "text": [
      "\u001b[1;33m2025-09-09 17:15:11 WARNING  one.py:1292 Could not load pupil data.\u001b[0m\n"
     ]
    },
    {
     "name": "stderr",
     "output_type": "stream",
     "text": [
      "local file size mismatch on dataset: hausserlab/Subjects/PL033/2022-10-26/001/alf/_ibl_leftCamera.lightningPose.pqt\n",
      "(S3) /Users/ineslaranjeira/Downloads/FlatIron/hausserlab/Subjects/PL033/2022-10-26/001/alf/_ibl_leftCamera.lightningPose.pqt: 100%|██████████| 126M/126M [00:11<00:00, 10.6MB/s] \n",
      "(S3) /Users/ineslaranjeira/Downloads/FlatIron/hausserlab/Subjects/PL033/2022-10-26/001/alf/_ibl_rightCamera.lightningPose.pqt: 100%|██████████| 285M/285M [00:19<00:00, 14.4MB/s] \n"
     ]
    },
    {
     "name": "stdout",
     "output_type": "stream",
     "text": [
      "\u001b[36m2025-09-09 17:15:50 INFO     one.py:1288 Loading trials data\u001b[0m\n"
     ]
    },
    {
     "name": "stderr",
     "output_type": "stream",
     "text": [
      "/opt/anaconda3/envs/iblenv/lib/python3.10/site-packages/one/util.py:428: ALFWarning: Multiple revisions: \"\", \"2025-03-03\"\n",
      "  warnings.warn(f'Multiple revisions: {rev_list}', alferr.ALFWarning)\n"
     ]
    },
    {
     "name": "stdout",
     "output_type": "stream",
     "text": [
      "\u001b[36m2025-09-09 17:15:51 INFO     one.py:1288 Loading wheel data\u001b[0m\n"
     ]
    },
    {
     "name": "stderr",
     "output_type": "stream",
     "text": [
      "/opt/anaconda3/envs/iblenv/lib/python3.10/site-packages/one/util.py:428: ALFWarning: Multiple revisions: \"\", \"2024-05-06\"\n",
      "  warnings.warn(f'Multiple revisions: {rev_list}', alferr.ALFWarning)\n"
     ]
    },
    {
     "name": "stdout",
     "output_type": "stream",
     "text": [
      "\u001b[36m2025-09-09 17:15:52 INFO     one.py:1288 Loading motion_energy data\u001b[0m\n"
     ]
    },
    {
     "name": "stderr",
     "output_type": "stream",
     "text": [
      "/opt/anaconda3/envs/iblenv/lib/python3.10/site-packages/one/util.py:428: ALFWarning: Multiple revisions: \"\", \"2025-05-31\"\n",
      "  warnings.warn(f'Multiple revisions: {rev_list}', alferr.ALFWarning)\n",
      "/opt/anaconda3/envs/iblenv/lib/python3.10/site-packages/one/util.py:428: ALFWarning: Multiple revisions: \"\", \"2025-06-01\"\n",
      "  warnings.warn(f'Multiple revisions: {rev_list}', alferr.ALFWarning)\n",
      "/opt/anaconda3/envs/iblenv/lib/python3.10/site-packages/one/util.py:428: ALFWarning: Multiple revisions: \"\", \"2025-06-03\"\n",
      "  warnings.warn(f'Multiple revisions: {rev_list}', alferr.ALFWarning)\n"
     ]
    },
    {
     "name": "stdout",
     "output_type": "stream",
     "text": [
      "\u001b[36m2025-09-09 17:15:53 INFO     one.py:1288 Loading pupil data\u001b[0m\n"
     ]
    },
    {
     "name": "stderr",
     "output_type": "stream",
     "text": [
      "/opt/anaconda3/envs/iblenv/lib/python3.10/site-packages/one/util.py:428: ALFWarning: Multiple revisions: \"2025-06-18\", \"\"\n",
      "  warnings.warn(f'Multiple revisions: {rev_list}', alferr.ALFWarning)\n",
      "local file size mismatch on dataset: hausserlab/Subjects/PL033/2022-10-28/001/alf/_ibl_leftCamera.lightningPose.pqt\n",
      "(S3) /Users/ineslaranjeira/Downloads/FlatIron/hausserlab/Subjects/PL033/2022-10-28/001/alf/_ibl_leftCamera.lightningPose.pqt: 100%|██████████| 124M/124M [00:10<00:00, 11.6MB/s] \n",
      "(S3) /Users/ineslaranjeira/Downloads/FlatIron/hausserlab/Subjects/PL033/2022-10-28/001/alf/_ibl_rightCamera.lightningPose.pqt: 100%|██████████| 281M/281M [00:18<00:00, 15.0MB/s] \n"
     ]
    },
    {
     "name": "stdout",
     "output_type": "stream",
     "text": [
      "\u001b[36m2025-09-09 17:16:29 INFO     one.py:1288 Loading trials data\u001b[0m\n"
     ]
    },
    {
     "name": "stderr",
     "output_type": "stream",
     "text": [
      "/opt/anaconda3/envs/iblenv/lib/python3.10/site-packages/one/util.py:428: ALFWarning: Multiple revisions: \"\", \"2025-03-03\"\n",
      "  warnings.warn(f'Multiple revisions: {rev_list}', alferr.ALFWarning)\n"
     ]
    },
    {
     "name": "stdout",
     "output_type": "stream",
     "text": [
      "\u001b[36m2025-09-09 17:16:30 INFO     one.py:1288 Loading wheel data\u001b[0m\n"
     ]
    },
    {
     "name": "stderr",
     "output_type": "stream",
     "text": [
      "/opt/anaconda3/envs/iblenv/lib/python3.10/site-packages/one/util.py:428: ALFWarning: Multiple revisions: \"\", \"2024-05-06\"\n",
      "  warnings.warn(f'Multiple revisions: {rev_list}', alferr.ALFWarning)\n"
     ]
    },
    {
     "name": "stdout",
     "output_type": "stream",
     "text": [
      "\u001b[36m2025-09-09 17:16:31 INFO     one.py:1288 Loading motion_energy data\u001b[0m\n"
     ]
    },
    {
     "name": "stderr",
     "output_type": "stream",
     "text": [
      "/opt/anaconda3/envs/iblenv/lib/python3.10/site-packages/one/util.py:428: ALFWarning: Multiple revisions: \"\", \"2025-05-31\"\n",
      "  warnings.warn(f'Multiple revisions: {rev_list}', alferr.ALFWarning)\n",
      "/opt/anaconda3/envs/iblenv/lib/python3.10/site-packages/one/util.py:428: ALFWarning: Multiple revisions: \"\", \"2025-06-01\"\n",
      "  warnings.warn(f'Multiple revisions: {rev_list}', alferr.ALFWarning)\n",
      "/opt/anaconda3/envs/iblenv/lib/python3.10/site-packages/one/util.py:428: ALFWarning: Multiple revisions: \"\", \"2025-06-03\"\n",
      "  warnings.warn(f'Multiple revisions: {rev_list}', alferr.ALFWarning)\n"
     ]
    },
    {
     "name": "stdout",
     "output_type": "stream",
     "text": [
      "\u001b[36m2025-09-09 17:16:32 INFO     one.py:1288 Loading pupil data\u001b[0m\n"
     ]
    },
    {
     "name": "stderr",
     "output_type": "stream",
     "text": [
      "/opt/anaconda3/envs/iblenv/lib/python3.10/site-packages/one/util.py:428: ALFWarning: Multiple revisions: \"2025-06-18\", \"\"\n",
      "  warnings.warn(f'Multiple revisions: {rev_list}', alferr.ALFWarning)\n",
      "local file size mismatch on dataset: hausserlab/Subjects/PL033/2022-10-29/002/alf/_ibl_leftCamera.lightningPose.pqt\n",
      "(S3) /Users/ineslaranjeira/Downloads/FlatIron/hausserlab/Subjects/PL033/2022-10-29/002/alf/_ibl_leftCamera.lightningPose.pqt: 100%|██████████| 125M/125M [00:10<00:00, 12.1MB/s] \n",
      "(S3) /Users/ineslaranjeira/Downloads/FlatIron/hausserlab/Subjects/PL033/2022-10-29/002/alf/_ibl_rightCamera.lightningPose.pqt: 100%|██████████| 287M/287M [00:24<00:00, 11.6MB/s] \n"
     ]
    },
    {
     "name": "stdout",
     "output_type": "stream",
     "text": [
      "\u001b[36m2025-09-09 17:17:14 INFO     one.py:1288 Loading trials data\u001b[0m\n"
     ]
    },
    {
     "name": "stderr",
     "output_type": "stream",
     "text": [
      "/opt/anaconda3/envs/iblenv/lib/python3.10/site-packages/one/util.py:428: ALFWarning: Multiple revisions: \"\", \"2025-03-03\"\n",
      "  warnings.warn(f'Multiple revisions: {rev_list}', alferr.ALFWarning)\n"
     ]
    },
    {
     "name": "stdout",
     "output_type": "stream",
     "text": [
      "\u001b[36m2025-09-09 17:17:15 INFO     one.py:1288 Loading wheel data\u001b[0m\n"
     ]
    },
    {
     "name": "stderr",
     "output_type": "stream",
     "text": [
      "/opt/anaconda3/envs/iblenv/lib/python3.10/site-packages/one/util.py:428: ALFWarning: Multiple revisions: \"2024-05-06\", \"\"\n",
      "  warnings.warn(f'Multiple revisions: {rev_list}', alferr.ALFWarning)\n"
     ]
    },
    {
     "name": "stdout",
     "output_type": "stream",
     "text": [
      "\u001b[36m2025-09-09 17:17:16 INFO     one.py:1288 Loading motion_energy data\u001b[0m\n"
     ]
    },
    {
     "name": "stderr",
     "output_type": "stream",
     "text": [
      "/opt/anaconda3/envs/iblenv/lib/python3.10/site-packages/one/util.py:428: ALFWarning: Multiple revisions: \"\", \"2025-05-31\"\n",
      "  warnings.warn(f'Multiple revisions: {rev_list}', alferr.ALFWarning)\n",
      "/opt/anaconda3/envs/iblenv/lib/python3.10/site-packages/one/util.py:428: ALFWarning: Multiple revisions: \"\", \"2025-06-01\"\n",
      "  warnings.warn(f'Multiple revisions: {rev_list}', alferr.ALFWarning)\n",
      "/opt/anaconda3/envs/iblenv/lib/python3.10/site-packages/one/util.py:428: ALFWarning: Multiple revisions: \"\", \"2025-06-03\"\n",
      "  warnings.warn(f'Multiple revisions: {rev_list}', alferr.ALFWarning)\n"
     ]
    },
    {
     "name": "stdout",
     "output_type": "stream",
     "text": [
      "\u001b[36m2025-09-09 17:17:17 INFO     one.py:1288 Loading pupil data\u001b[0m\n"
     ]
    },
    {
     "name": "stderr",
     "output_type": "stream",
     "text": [
      "/opt/anaconda3/envs/iblenv/lib/python3.10/site-packages/one/util.py:428: ALFWarning: Multiple revisions: \"2025-06-18\", \"\"\n",
      "  warnings.warn(f'Multiple revisions: {rev_list}', alferr.ALFWarning)\n",
      "local file size mismatch on dataset: hausserlab/Subjects/PL033/2022-11-02/001/alf/_ibl_leftCamera.lightningPose.pqt\n",
      "(S3) /Users/ineslaranjeira/Downloads/FlatIron/hausserlab/Subjects/PL033/2022-11-02/001/alf/_ibl_leftCamera.lightningPose.pqt: 100%|██████████| 120M/120M [00:15<00:00, 7.71MB/s] \n",
      "(S3) /Users/ineslaranjeira/Downloads/FlatIron/hausserlab/Subjects/PL033/2022-11-02/001/alf/_ibl_rightCamera.lightningPose.pqt: 100%|██████████| 273M/273M [00:26<00:00, 10.4MB/s] \n"
     ]
    },
    {
     "name": "stdout",
     "output_type": "stream",
     "text": [
      "\u001b[36m2025-09-09 17:18:06 INFO     one.py:1288 Loading trials data\u001b[0m\n"
     ]
    },
    {
     "name": "stderr",
     "output_type": "stream",
     "text": [
      "/opt/anaconda3/envs/iblenv/lib/python3.10/site-packages/one/util.py:428: ALFWarning: Multiple revisions: \"\", \"2025-03-03\"\n",
      "  warnings.warn(f'Multiple revisions: {rev_list}', alferr.ALFWarning)\n"
     ]
    },
    {
     "name": "stdout",
     "output_type": "stream",
     "text": [
      "\u001b[36m2025-09-09 17:18:07 INFO     one.py:1288 Loading wheel data\u001b[0m\n"
     ]
    },
    {
     "name": "stderr",
     "output_type": "stream",
     "text": [
      "/opt/anaconda3/envs/iblenv/lib/python3.10/site-packages/one/util.py:428: ALFWarning: Multiple revisions: \"\", \"2024-05-06\"\n",
      "  warnings.warn(f'Multiple revisions: {rev_list}', alferr.ALFWarning)\n"
     ]
    },
    {
     "name": "stdout",
     "output_type": "stream",
     "text": [
      "\u001b[36m2025-09-09 17:18:07 INFO     one.py:1288 Loading motion_energy data\u001b[0m\n"
     ]
    },
    {
     "name": "stderr",
     "output_type": "stream",
     "text": [
      "/opt/anaconda3/envs/iblenv/lib/python3.10/site-packages/one/util.py:428: ALFWarning: Multiple revisions: \"\", \"2025-05-31\"\n",
      "  warnings.warn(f'Multiple revisions: {rev_list}', alferr.ALFWarning)\n",
      "/opt/anaconda3/envs/iblenv/lib/python3.10/site-packages/one/util.py:428: ALFWarning: Multiple revisions: \"\", \"2025-06-01\"\n",
      "  warnings.warn(f'Multiple revisions: {rev_list}', alferr.ALFWarning)\n",
      "/opt/anaconda3/envs/iblenv/lib/python3.10/site-packages/one/util.py:428: ALFWarning: Multiple revisions: \"\", \"2025-06-03\"\n",
      "  warnings.warn(f'Multiple revisions: {rev_list}', alferr.ALFWarning)\n"
     ]
    },
    {
     "name": "stdout",
     "output_type": "stream",
     "text": [
      "\u001b[36m2025-09-09 17:18:08 INFO     one.py:1288 Loading pupil data\u001b[0m\n"
     ]
    },
    {
     "name": "stderr",
     "output_type": "stream",
     "text": [
      "/opt/anaconda3/envs/iblenv/lib/python3.10/site-packages/one/util.py:428: ALFWarning: Multiple revisions: \"2025-06-18\", \"\"\n",
      "  warnings.warn(f'Multiple revisions: {rev_list}', alferr.ALFWarning)\n",
      "local file size mismatch on dataset: hausserlab/Subjects/PL033/2022-11-03/001/alf/_ibl_leftCamera.lightningPose.pqt\n",
      "(S3) /Users/ineslaranjeira/Downloads/FlatIron/hausserlab/Subjects/PL033/2022-11-03/001/alf/_ibl_leftCamera.lightningPose.pqt: 100%|██████████| 124M/124M [00:13<00:00, 9.11MB/s] \n",
      "(S3) /Users/ineslaranjeira/Downloads/FlatIron/hausserlab/Subjects/PL033/2022-11-03/001/alf/_ibl_rightCamera.lightningPose.pqt: 100%|██████████| 283M/283M [00:27<00:00, 10.3MB/s] \n"
     ]
    },
    {
     "name": "stdout",
     "output_type": "stream",
     "text": [
      "\u001b[36m2025-09-09 17:18:56 INFO     one.py:1288 Loading trials data\u001b[0m\n"
     ]
    },
    {
     "name": "stderr",
     "output_type": "stream",
     "text": [
      "/opt/anaconda3/envs/iblenv/lib/python3.10/site-packages/one/util.py:428: ALFWarning: Multiple revisions: \"\", \"2025-03-03\"\n",
      "  warnings.warn(f'Multiple revisions: {rev_list}', alferr.ALFWarning)\n"
     ]
    },
    {
     "name": "stdout",
     "output_type": "stream",
     "text": [
      "\u001b[36m2025-09-09 17:18:57 INFO     one.py:1288 Loading wheel data\u001b[0m\n"
     ]
    },
    {
     "name": "stderr",
     "output_type": "stream",
     "text": [
      "/opt/anaconda3/envs/iblenv/lib/python3.10/site-packages/one/util.py:428: ALFWarning: Multiple revisions: \"2024-05-06\", \"\"\n",
      "  warnings.warn(f'Multiple revisions: {rev_list}', alferr.ALFWarning)\n"
     ]
    },
    {
     "name": "stdout",
     "output_type": "stream",
     "text": [
      "\u001b[36m2025-09-09 17:18:58 INFO     one.py:1288 Loading motion_energy data\u001b[0m\n"
     ]
    },
    {
     "name": "stderr",
     "output_type": "stream",
     "text": [
      "/opt/anaconda3/envs/iblenv/lib/python3.10/site-packages/one/util.py:428: ALFWarning: Multiple revisions: \"\", \"2025-05-31\"\n",
      "  warnings.warn(f'Multiple revisions: {rev_list}', alferr.ALFWarning)\n",
      "/opt/anaconda3/envs/iblenv/lib/python3.10/site-packages/one/util.py:428: ALFWarning: Multiple revisions: \"\", \"2025-06-01\"\n",
      "  warnings.warn(f'Multiple revisions: {rev_list}', alferr.ALFWarning)\n",
      "/opt/anaconda3/envs/iblenv/lib/python3.10/site-packages/one/util.py:428: ALFWarning: Multiple revisions: \"\", \"2025-06-03\"\n",
      "  warnings.warn(f'Multiple revisions: {rev_list}', alferr.ALFWarning)\n"
     ]
    },
    {
     "name": "stdout",
     "output_type": "stream",
     "text": [
      "\u001b[36m2025-09-09 17:18:59 INFO     one.py:1288 Loading pupil data\u001b[0m\n"
     ]
    },
    {
     "name": "stderr",
     "output_type": "stream",
     "text": [
      "/opt/anaconda3/envs/iblenv/lib/python3.10/site-packages/one/util.py:428: ALFWarning: Multiple revisions: \"2025-06-18\", \"\"\n",
      "  warnings.warn(f'Multiple revisions: {rev_list}', alferr.ALFWarning)\n",
      "local file size mismatch on dataset: hausserlab/Subjects/PL034/2022-10-18/001/alf/_ibl_leftCamera.lightningPose.pqt\n",
      "(S3) /Users/ineslaranjeira/Downloads/FlatIron/hausserlab/Subjects/PL034/2022-10-18/001/alf/_ibl_leftCamera.lightningPose.pqt: 100%|██████████| 152M/152M [00:12<00:00, 12.4MB/s] \n",
      "(S3) /Users/ineslaranjeira/Downloads/FlatIron/hausserlab/Subjects/PL034/2022-10-18/001/alf/_ibl_rightCamera.lightningPose.pqt: 100%|██████████| 351M/351M [00:36<00:00, 9.59MB/s] \n"
     ]
    },
    {
     "name": "stdout",
     "output_type": "stream",
     "text": [
      "\u001b[36m2025-09-09 17:19:55 INFO     one.py:1288 Loading trials data\u001b[0m\n"
     ]
    },
    {
     "name": "stderr",
     "output_type": "stream",
     "text": [
      "/opt/anaconda3/envs/iblenv/lib/python3.10/site-packages/one/util.py:428: ALFWarning: Multiple revisions: \"\", \"2025-03-03\"\n",
      "  warnings.warn(f'Multiple revisions: {rev_list}', alferr.ALFWarning)\n"
     ]
    },
    {
     "name": "stdout",
     "output_type": "stream",
     "text": [
      "\u001b[36m2025-09-09 17:19:56 INFO     one.py:1288 Loading wheel data\u001b[0m\n"
     ]
    },
    {
     "name": "stderr",
     "output_type": "stream",
     "text": [
      "/opt/anaconda3/envs/iblenv/lib/python3.10/site-packages/one/util.py:428: ALFWarning: Multiple revisions: \"2024-05-06\", \"\"\n",
      "  warnings.warn(f'Multiple revisions: {rev_list}', alferr.ALFWarning)\n"
     ]
    },
    {
     "name": "stdout",
     "output_type": "stream",
     "text": [
      "\u001b[36m2025-09-09 17:19:57 INFO     one.py:1288 Loading motion_energy data\u001b[0m\n"
     ]
    },
    {
     "name": "stderr",
     "output_type": "stream",
     "text": [
      "/opt/anaconda3/envs/iblenv/lib/python3.10/site-packages/one/util.py:428: ALFWarning: Multiple revisions: \"\", \"2025-05-31\"\n",
      "  warnings.warn(f'Multiple revisions: {rev_list}', alferr.ALFWarning)\n",
      "/opt/anaconda3/envs/iblenv/lib/python3.10/site-packages/one/util.py:428: ALFWarning: Multiple revisions: \"\", \"2025-06-01\"\n",
      "  warnings.warn(f'Multiple revisions: {rev_list}', alferr.ALFWarning)\n",
      "/opt/anaconda3/envs/iblenv/lib/python3.10/site-packages/one/util.py:428: ALFWarning: Multiple revisions: \"\", \"2025-06-02\"\n",
      "  warnings.warn(f'Multiple revisions: {rev_list}', alferr.ALFWarning)\n"
     ]
    },
    {
     "name": "stdout",
     "output_type": "stream",
     "text": [
      "\u001b[36m2025-09-09 17:19:58 INFO     one.py:1288 Loading pupil data\u001b[0m\n"
     ]
    },
    {
     "name": "stderr",
     "output_type": "stream",
     "text": [
      "/opt/anaconda3/envs/iblenv/lib/python3.10/site-packages/one/util.py:428: ALFWarning: Multiple revisions: \"2025-06-18\", \"\"\n",
      "  warnings.warn(f'Multiple revisions: {rev_list}', alferr.ALFWarning)\n",
      "local file size mismatch on dataset: hausserlab/Subjects/PL034/2022-10-19/001/alf/_ibl_leftCamera.lightningPose.pqt\n",
      "(S3) /Users/ineslaranjeira/Downloads/FlatIron/hausserlab/Subjects/PL034/2022-10-19/001/alf/_ibl_leftCamera.lightningPose.pqt: 100%|██████████| 133M/133M [00:15<00:00, 8.77MB/s] \n",
      "(S3) /Users/ineslaranjeira/Downloads/FlatIron/hausserlab/Subjects/PL034/2022-10-19/001/alf/_ibl_rightCamera.lightningPose.pqt: 100%|██████████| 304M/304M [00:32<00:00, 9.23MB/s] \n"
     ]
    },
    {
     "name": "stdout",
     "output_type": "stream",
     "text": [
      "\u001b[36m2025-09-09 17:20:56 INFO     one.py:1288 Loading trials data\u001b[0m\n"
     ]
    },
    {
     "name": "stderr",
     "output_type": "stream",
     "text": [
      "/opt/anaconda3/envs/iblenv/lib/python3.10/site-packages/one/util.py:428: ALFWarning: Multiple revisions: \"\", \"2025-03-03\"\n",
      "  warnings.warn(f'Multiple revisions: {rev_list}', alferr.ALFWarning)\n"
     ]
    },
    {
     "name": "stdout",
     "output_type": "stream",
     "text": [
      "\u001b[36m2025-09-09 17:20:57 INFO     one.py:1288 Loading wheel data\u001b[0m\n"
     ]
    },
    {
     "name": "stderr",
     "output_type": "stream",
     "text": [
      "/opt/anaconda3/envs/iblenv/lib/python3.10/site-packages/one/util.py:428: ALFWarning: Multiple revisions: \"\", \"2024-05-06\"\n",
      "  warnings.warn(f'Multiple revisions: {rev_list}', alferr.ALFWarning)\n"
     ]
    },
    {
     "name": "stdout",
     "output_type": "stream",
     "text": [
      "\u001b[36m2025-09-09 17:20:58 INFO     one.py:1288 Loading motion_energy data\u001b[0m\n"
     ]
    },
    {
     "name": "stderr",
     "output_type": "stream",
     "text": [
      "/opt/anaconda3/envs/iblenv/lib/python3.10/site-packages/one/util.py:428: ALFWarning: Multiple revisions: \"\", \"2025-05-31\"\n",
      "  warnings.warn(f'Multiple revisions: {rev_list}', alferr.ALFWarning)\n",
      "/opt/anaconda3/envs/iblenv/lib/python3.10/site-packages/one/util.py:428: ALFWarning: Multiple revisions: \"\", \"2025-06-01\"\n",
      "  warnings.warn(f'Multiple revisions: {rev_list}', alferr.ALFWarning)\n",
      "/opt/anaconda3/envs/iblenv/lib/python3.10/site-packages/one/util.py:428: ALFWarning: Multiple revisions: \"\", \"2025-06-02\"\n",
      "  warnings.warn(f'Multiple revisions: {rev_list}', alferr.ALFWarning)\n"
     ]
    },
    {
     "name": "stdout",
     "output_type": "stream",
     "text": [
      "\u001b[36m2025-09-09 17:20:59 INFO     one.py:1288 Loading pupil data\u001b[0m\n"
     ]
    },
    {
     "name": "stderr",
     "output_type": "stream",
     "text": [
      "/opt/anaconda3/envs/iblenv/lib/python3.10/site-packages/one/util.py:428: ALFWarning: Multiple revisions: \"2025-06-18\", \"\"\n",
      "  warnings.warn(f'Multiple revisions: {rev_list}', alferr.ALFWarning)\n",
      "local file size mismatch on dataset: hausserlab/Subjects/PL034/2022-10-20/001/alf/_ibl_leftCamera.lightningPose.pqt\n",
      "(S3) /Users/ineslaranjeira/Downloads/FlatIron/hausserlab/Subjects/PL034/2022-10-20/001/alf/_ibl_leftCamera.lightningPose.pqt: 100%|██████████| 121M/121M [00:10<00:00, 12.1MB/s] \n"
     ]
    },
    {
     "name": "stdout",
     "output_type": "stream",
     "text": [
      "\u001b[36m2025-09-09 17:21:16 INFO     one.py:1288 Loading trials data\u001b[0m\n"
     ]
    },
    {
     "name": "stderr",
     "output_type": "stream",
     "text": [
      "/opt/anaconda3/envs/iblenv/lib/python3.10/site-packages/one/util.py:428: ALFWarning: Multiple revisions: \"\", \"2025-03-03\"\n",
      "  warnings.warn(f'Multiple revisions: {rev_list}', alferr.ALFWarning)\n"
     ]
    },
    {
     "name": "stdout",
     "output_type": "stream",
     "text": [
      "\u001b[36m2025-09-09 17:21:17 INFO     one.py:1288 Loading wheel data\u001b[0m\n"
     ]
    },
    {
     "name": "stderr",
     "output_type": "stream",
     "text": [
      "/opt/anaconda3/envs/iblenv/lib/python3.10/site-packages/one/util.py:428: ALFWarning: Multiple revisions: \"\", \"2024-05-06\"\n",
      "  warnings.warn(f'Multiple revisions: {rev_list}', alferr.ALFWarning)\n"
     ]
    },
    {
     "name": "stdout",
     "output_type": "stream",
     "text": [
      "\u001b[36m2025-09-09 17:21:18 INFO     one.py:1288 Loading motion_energy data\u001b[0m\n"
     ]
    },
    {
     "name": "stderr",
     "output_type": "stream",
     "text": [
      "/opt/anaconda3/envs/iblenv/lib/python3.10/site-packages/one/util.py:428: ALFWarning: Multiple revisions: \"\", \"2025-05-31\"\n",
      "  warnings.warn(f'Multiple revisions: {rev_list}', alferr.ALFWarning)\n",
      "/opt/anaconda3/envs/iblenv/lib/python3.10/site-packages/one/util.py:428: ALFWarning: Multiple revisions: \"\", \"2025-06-01\"\n",
      "  warnings.warn(f'Multiple revisions: {rev_list}', alferr.ALFWarning)\n",
      "/opt/anaconda3/envs/iblenv/lib/python3.10/site-packages/one/util.py:428: ALFWarning: Multiple revisions: \"\", \"2025-06-02\"\n",
      "  warnings.warn(f'Multiple revisions: {rev_list}', alferr.ALFWarning)\n"
     ]
    },
    {
     "name": "stdout",
     "output_type": "stream",
     "text": [
      "\u001b[36m2025-09-09 17:21:19 INFO     one.py:1288 Loading pupil data\u001b[0m\n"
     ]
    },
    {
     "name": "stderr",
     "output_type": "stream",
     "text": [
      "/opt/anaconda3/envs/iblenv/lib/python3.10/site-packages/one/util.py:428: ALFWarning: Multiple revisions: \"2025-06-18\", \"\"\n",
      "  warnings.warn(f'Multiple revisions: {rev_list}', alferr.ALFWarning)\n",
      "(S3) /Users/ineslaranjeira/Downloads/FlatIron/hoferlab/Subjects/SWC_043/2020-09-15/001/alf/_ibl_rightCamera.lightningPose.pqt: 100%|██████████| 427M/427M [00:54<00:00, 7.88MB/s] \n"
     ]
    },
    {
     "name": "stdout",
     "output_type": "stream",
     "text": [
      "\u001b[36m2025-09-09 17:22:21 INFO     one.py:1288 Loading trials data\u001b[0m\n"
     ]
    },
    {
     "name": "stderr",
     "output_type": "stream",
     "text": [
      "/opt/anaconda3/envs/iblenv/lib/python3.10/site-packages/one/util.py:428: ALFWarning: Multiple revisions: \"\", \"2025-03-03\"\n",
      "  warnings.warn(f'Multiple revisions: {rev_list}', alferr.ALFWarning)\n"
     ]
    },
    {
     "name": "stdout",
     "output_type": "stream",
     "text": [
      "\u001b[36m2025-09-09 17:22:22 INFO     one.py:1288 Loading wheel data\u001b[0m\n",
      "\u001b[36m2025-09-09 17:22:24 INFO     one.py:1288 Loading motion_energy data\u001b[0m\n"
     ]
    },
    {
     "name": "stderr",
     "output_type": "stream",
     "text": [
      "/opt/anaconda3/envs/iblenv/lib/python3.10/site-packages/one/util.py:428: ALFWarning: Multiple revisions: \"\", \"2025-05-30\"\n",
      "  warnings.warn(f'Multiple revisions: {rev_list}', alferr.ALFWarning)\n",
      "/opt/anaconda3/envs/iblenv/lib/python3.10/site-packages/one/util.py:428: ALFWarning: Multiple revisions: \"\", \"2025-05-31\"\n",
      "  warnings.warn(f'Multiple revisions: {rev_list}', alferr.ALFWarning)\n",
      "/opt/anaconda3/envs/iblenv/lib/python3.10/site-packages/one/util.py:428: ALFWarning: Multiple revisions: \"\", \"2025-06-02\"\n",
      "  warnings.warn(f'Multiple revisions: {rev_list}', alferr.ALFWarning)\n"
     ]
    },
    {
     "name": "stdout",
     "output_type": "stream",
     "text": [
      "\u001b[36m2025-09-09 17:22:25 INFO     one.py:1288 Loading pupil data\u001b[0m\n"
     ]
    },
    {
     "name": "stderr",
     "output_type": "stream",
     "text": [
      "/opt/anaconda3/envs/iblenv/lib/python3.10/site-packages/one/util.py:428: ALFWarning: Multiple revisions: \"2025-06-04\", \"\"\n",
      "  warnings.warn(f'Multiple revisions: {rev_list}', alferr.ALFWarning)\n",
      "/opt/anaconda3/envs/iblenv/lib/python3.10/site-packages/one/util.py:428: ALFWarning: Multiple revisions: \"2025-05-30\", \"\"\n",
      "  warnings.warn(f'Multiple revisions: {rev_list}', alferr.ALFWarning)\n",
      "(S3) /Users/ineslaranjeira/Downloads/FlatIron/hoferlab/Subjects/SWC_043/2020-09-16/002/alf/_ibl_rightCamera.lightningPose.pqt: 100%|██████████| 382M/382M [00:27<00:00, 14.0MB/s] \n"
     ]
    },
    {
     "name": "stdout",
     "output_type": "stream",
     "text": [
      "\u001b[36m2025-09-09 17:23:02 INFO     one.py:1288 Loading trials data\u001b[0m\n"
     ]
    },
    {
     "name": "stderr",
     "output_type": "stream",
     "text": [
      "/opt/anaconda3/envs/iblenv/lib/python3.10/site-packages/one/util.py:428: ALFWarning: Multiple revisions: \"\", \"2025-03-03\"\n",
      "  warnings.warn(f'Multiple revisions: {rev_list}', alferr.ALFWarning)\n"
     ]
    },
    {
     "name": "stdout",
     "output_type": "stream",
     "text": [
      "\u001b[36m2025-09-09 17:23:03 INFO     one.py:1288 Loading wheel data\u001b[0m\n",
      "\u001b[36m2025-09-09 17:23:04 INFO     one.py:1288 Loading motion_energy data\u001b[0m\n"
     ]
    },
    {
     "name": "stderr",
     "output_type": "stream",
     "text": [
      "/opt/anaconda3/envs/iblenv/lib/python3.10/site-packages/one/util.py:428: ALFWarning: Multiple revisions: \"\", \"2025-05-30\"\n",
      "  warnings.warn(f'Multiple revisions: {rev_list}', alferr.ALFWarning)\n",
      "/opt/anaconda3/envs/iblenv/lib/python3.10/site-packages/one/util.py:428: ALFWarning: Multiple revisions: \"\", \"2025-05-31\"\n",
      "  warnings.warn(f'Multiple revisions: {rev_list}', alferr.ALFWarning)\n",
      "/opt/anaconda3/envs/iblenv/lib/python3.10/site-packages/one/util.py:428: ALFWarning: Multiple revisions: \"\", \"2025-06-02\"\n",
      "  warnings.warn(f'Multiple revisions: {rev_list}', alferr.ALFWarning)\n"
     ]
    },
    {
     "name": "stdout",
     "output_type": "stream",
     "text": [
      "\u001b[36m2025-09-09 17:23:05 INFO     one.py:1288 Loading pupil data\u001b[0m\n"
     ]
    },
    {
     "name": "stderr",
     "output_type": "stream",
     "text": [
      "/opt/anaconda3/envs/iblenv/lib/python3.10/site-packages/one/util.py:428: ALFWarning: Multiple revisions: \"2025-06-20\", \"\"\n",
      "  warnings.warn(f'Multiple revisions: {rev_list}', alferr.ALFWarning)\n",
      "(S3) /Users/ineslaranjeira/Downloads/FlatIron/hoferlab/Subjects/SWC_043/2020-09-17/001/alf/_ibl_rightCamera.lightningPose.pqt: 100%|██████████| 325M/325M [00:27<00:00, 11.9MB/s] \n"
     ]
    },
    {
     "name": "stdout",
     "output_type": "stream",
     "text": [
      "\u001b[36m2025-09-09 17:23:40 INFO     one.py:1288 Loading trials data\u001b[0m\n"
     ]
    },
    {
     "name": "stderr",
     "output_type": "stream",
     "text": [
      "/opt/anaconda3/envs/iblenv/lib/python3.10/site-packages/one/util.py:428: ALFWarning: Multiple revisions: \"\", \"2025-03-03\"\n",
      "  warnings.warn(f'Multiple revisions: {rev_list}', alferr.ALFWarning)\n"
     ]
    },
    {
     "name": "stdout",
     "output_type": "stream",
     "text": [
      "\u001b[36m2025-09-09 17:23:42 INFO     one.py:1288 Loading wheel data\u001b[0m\n",
      "\u001b[36m2025-09-09 17:23:43 INFO     one.py:1288 Loading motion_energy data\u001b[0m\n"
     ]
    },
    {
     "name": "stderr",
     "output_type": "stream",
     "text": [
      "/opt/anaconda3/envs/iblenv/lib/python3.10/site-packages/one/util.py:428: ALFWarning: Multiple revisions: \"\", \"2025-05-30\"\n",
      "  warnings.warn(f'Multiple revisions: {rev_list}', alferr.ALFWarning)\n",
      "/opt/anaconda3/envs/iblenv/lib/python3.10/site-packages/one/util.py:428: ALFWarning: Multiple revisions: \"\", \"2025-05-31\"\n",
      "  warnings.warn(f'Multiple revisions: {rev_list}', alferr.ALFWarning)\n",
      "/opt/anaconda3/envs/iblenv/lib/python3.10/site-packages/one/util.py:428: ALFWarning: Multiple revisions: \"\", \"2025-06-02\"\n",
      "  warnings.warn(f'Multiple revisions: {rev_list}', alferr.ALFWarning)\n"
     ]
    },
    {
     "name": "stdout",
     "output_type": "stream",
     "text": [
      "\u001b[36m2025-09-09 17:23:44 INFO     one.py:1288 Loading pupil data\u001b[0m\n"
     ]
    },
    {
     "name": "stderr",
     "output_type": "stream",
     "text": [
      "/opt/anaconda3/envs/iblenv/lib/python3.10/site-packages/one/util.py:428: ALFWarning: Multiple revisions: \"2025-06-18\", \"\"\n",
      "  warnings.warn(f'Multiple revisions: {rev_list}', alferr.ALFWarning)\n"
     ]
    },
    {
     "name": "stdout",
     "output_type": "stream",
     "text": [
      "\u001b[1;33m2025-09-09 17:23:44 WARNING  one.py:1292 Could not load pupil data.\u001b[0m\n"
     ]
    },
    {
     "name": "stderr",
     "output_type": "stream",
     "text": [
      "(S3) /Users/ineslaranjeira/Downloads/FlatIron/hoferlab/Subjects/SWC_043/2020-09-18/001/alf/_ibl_rightCamera.lightningPose.pqt: 100%|██████████| 293M/293M [00:23<00:00, 12.4MB/s] \n"
     ]
    },
    {
     "name": "stdout",
     "output_type": "stream",
     "text": [
      "\u001b[36m2025-09-09 17:24:15 INFO     one.py:1288 Loading trials data\u001b[0m\n"
     ]
    },
    {
     "name": "stderr",
     "output_type": "stream",
     "text": [
      "/opt/anaconda3/envs/iblenv/lib/python3.10/site-packages/one/util.py:428: ALFWarning: Multiple revisions: \"\", \"2025-03-03\"\n",
      "  warnings.warn(f'Multiple revisions: {rev_list}', alferr.ALFWarning)\n"
     ]
    },
    {
     "name": "stdout",
     "output_type": "stream",
     "text": [
      "\u001b[36m2025-09-09 17:24:16 INFO     one.py:1288 Loading wheel data\u001b[0m\n",
      "\u001b[36m2025-09-09 17:24:17 INFO     one.py:1288 Loading motion_energy data\u001b[0m\n"
     ]
    },
    {
     "name": "stderr",
     "output_type": "stream",
     "text": [
      "/opt/anaconda3/envs/iblenv/lib/python3.10/site-packages/one/util.py:428: ALFWarning: Multiple revisions: \"\", \"2025-05-30\"\n",
      "  warnings.warn(f'Multiple revisions: {rev_list}', alferr.ALFWarning)\n",
      "/opt/anaconda3/envs/iblenv/lib/python3.10/site-packages/one/util.py:428: ALFWarning: Multiple revisions: \"\", \"2025-06-01\"\n",
      "  warnings.warn(f'Multiple revisions: {rev_list}', alferr.ALFWarning)\n",
      "/opt/anaconda3/envs/iblenv/lib/python3.10/site-packages/one/util.py:428: ALFWarning: Multiple revisions: \"\", \"2025-06-02\"\n",
      "  warnings.warn(f'Multiple revisions: {rev_list}', alferr.ALFWarning)\n"
     ]
    },
    {
     "name": "stdout",
     "output_type": "stream",
     "text": [
      "\u001b[36m2025-09-09 17:24:18 INFO     one.py:1288 Loading pupil data\u001b[0m\n"
     ]
    },
    {
     "name": "stderr",
     "output_type": "stream",
     "text": [
      "/opt/anaconda3/envs/iblenv/lib/python3.10/site-packages/one/util.py:428: ALFWarning: Multiple revisions: \"2025-06-18\", \"\"\n",
      "  warnings.warn(f'Multiple revisions: {rev_list}', alferr.ALFWarning)\n",
      "(S3) /Users/ineslaranjeira/Downloads/FlatIron/hoferlab/Subjects/SWC_043/2020-09-19/001/alf/_ibl_rightCamera.lightningPose.pqt: 100%|██████████| 297M/297M [00:27<00:00, 10.8MB/s] \n"
     ]
    },
    {
     "name": "stdout",
     "output_type": "stream",
     "text": [
      "\u001b[36m2025-09-09 17:24:53 INFO     one.py:1288 Loading trials data\u001b[0m\n"
     ]
    },
    {
     "name": "stderr",
     "output_type": "stream",
     "text": [
      "/opt/anaconda3/envs/iblenv/lib/python3.10/site-packages/one/util.py:428: ALFWarning: Multiple revisions: \"\", \"2025-03-03\"\n",
      "  warnings.warn(f'Multiple revisions: {rev_list}', alferr.ALFWarning)\n"
     ]
    },
    {
     "name": "stdout",
     "output_type": "stream",
     "text": [
      "\u001b[36m2025-09-09 17:24:54 INFO     one.py:1288 Loading wheel data\u001b[0m\n",
      "\u001b[36m2025-09-09 17:24:55 INFO     one.py:1288 Loading motion_energy data\u001b[0m\n"
     ]
    },
    {
     "name": "stderr",
     "output_type": "stream",
     "text": [
      "/opt/anaconda3/envs/iblenv/lib/python3.10/site-packages/one/util.py:428: ALFWarning: Multiple revisions: \"\", \"2025-05-30\"\n",
      "  warnings.warn(f'Multiple revisions: {rev_list}', alferr.ALFWarning)\n",
      "/opt/anaconda3/envs/iblenv/lib/python3.10/site-packages/one/util.py:428: ALFWarning: Multiple revisions: \"\", \"2025-06-01\"\n",
      "  warnings.warn(f'Multiple revisions: {rev_list}', alferr.ALFWarning)\n",
      "/opt/anaconda3/envs/iblenv/lib/python3.10/site-packages/one/util.py:428: ALFWarning: Multiple revisions: \"\", \"2025-06-02\"\n",
      "  warnings.warn(f'Multiple revisions: {rev_list}', alferr.ALFWarning)\n"
     ]
    },
    {
     "name": "stdout",
     "output_type": "stream",
     "text": [
      "\u001b[36m2025-09-09 17:24:56 INFO     one.py:1288 Loading pupil data\u001b[0m\n"
     ]
    },
    {
     "name": "stderr",
     "output_type": "stream",
     "text": [
      "/opt/anaconda3/envs/iblenv/lib/python3.10/site-packages/one/util.py:428: ALFWarning: Multiple revisions: \"2025-06-04\", \"\"\n",
      "  warnings.warn(f'Multiple revisions: {rev_list}', alferr.ALFWarning)\n",
      "(S3) /Users/ineslaranjeira/Downloads/FlatIron/hoferlab/Subjects/SWC_043/2020-09-20/001/alf/_ibl_rightCamera.lightningPose.pqt: 100%|██████████| 352M/352M [00:32<00:00, 10.8MB/s] \n"
     ]
    },
    {
     "name": "stdout",
     "output_type": "stream",
     "text": [
      "\u001b[36m2025-09-09 17:25:39 INFO     one.py:1288 Loading trials data\u001b[0m\n"
     ]
    },
    {
     "name": "stderr",
     "output_type": "stream",
     "text": [
      "/opt/anaconda3/envs/iblenv/lib/python3.10/site-packages/one/util.py:428: ALFWarning: Multiple revisions: \"\", \"2025-03-03\"\n",
      "  warnings.warn(f'Multiple revisions: {rev_list}', alferr.ALFWarning)\n"
     ]
    },
    {
     "name": "stdout",
     "output_type": "stream",
     "text": [
      "\u001b[36m2025-09-09 17:25:40 INFO     one.py:1288 Loading wheel data\u001b[0m\n",
      "\u001b[36m2025-09-09 17:25:41 INFO     one.py:1288 Loading motion_energy data\u001b[0m\n"
     ]
    },
    {
     "name": "stderr",
     "output_type": "stream",
     "text": [
      "/opt/anaconda3/envs/iblenv/lib/python3.10/site-packages/one/util.py:428: ALFWarning: Multiple revisions: \"\", \"2025-05-30\"\n",
      "  warnings.warn(f'Multiple revisions: {rev_list}', alferr.ALFWarning)\n",
      "/opt/anaconda3/envs/iblenv/lib/python3.10/site-packages/one/util.py:428: ALFWarning: Multiple revisions: \"\", \"2025-06-01\"\n",
      "  warnings.warn(f'Multiple revisions: {rev_list}', alferr.ALFWarning)\n",
      "/opt/anaconda3/envs/iblenv/lib/python3.10/site-packages/one/util.py:428: ALFWarning: Multiple revisions: \"\", \"2025-06-02\"\n",
      "  warnings.warn(f'Multiple revisions: {rev_list}', alferr.ALFWarning)\n"
     ]
    },
    {
     "name": "stdout",
     "output_type": "stream",
     "text": [
      "\u001b[36m2025-09-09 17:25:42 INFO     one.py:1288 Loading pupil data\u001b[0m\n"
     ]
    },
    {
     "name": "stderr",
     "output_type": "stream",
     "text": [
      "/opt/anaconda3/envs/iblenv/lib/python3.10/site-packages/one/util.py:428: ALFWarning: Multiple revisions: \"2025-06-04\", \"\"\n",
      "  warnings.warn(f'Multiple revisions: {rev_list}', alferr.ALFWarning)\n"
     ]
    },
    {
     "name": "stdout",
     "output_type": "stream",
     "text": [
      "\u001b[36m2025-09-09 17:25:50 INFO     one.py:1288 Loading trials data\u001b[0m\n"
     ]
    },
    {
     "name": "stderr",
     "output_type": "stream",
     "text": [
      "/opt/anaconda3/envs/iblenv/lib/python3.10/site-packages/one/util.py:428: ALFWarning: Multiple revisions: \"\", \"2025-03-03\"\n",
      "  warnings.warn(f'Multiple revisions: {rev_list}', alferr.ALFWarning)\n"
     ]
    },
    {
     "name": "stdout",
     "output_type": "stream",
     "text": [
      "\u001b[36m2025-09-09 17:25:51 INFO     one.py:1288 Loading wheel data\u001b[0m\n",
      "\u001b[36m2025-09-09 17:25:52 INFO     one.py:1288 Loading motion_energy data\u001b[0m\n"
     ]
    },
    {
     "name": "stderr",
     "output_type": "stream",
     "text": [
      "/opt/anaconda3/envs/iblenv/lib/python3.10/site-packages/one/util.py:428: ALFWarning: Multiple revisions: \"\", \"2025-05-30\"\n",
      "  warnings.warn(f'Multiple revisions: {rev_list}', alferr.ALFWarning)\n",
      "/opt/anaconda3/envs/iblenv/lib/python3.10/site-packages/one/util.py:428: ALFWarning: Multiple revisions: \"\", \"2025-06-01\"\n",
      "  warnings.warn(f'Multiple revisions: {rev_list}', alferr.ALFWarning)\n",
      "/opt/anaconda3/envs/iblenv/lib/python3.10/site-packages/one/util.py:428: ALFWarning: Multiple revisions: \"\", \"2025-06-02\"\n",
      "  warnings.warn(f'Multiple revisions: {rev_list}', alferr.ALFWarning)\n"
     ]
    },
    {
     "name": "stdout",
     "output_type": "stream",
     "text": [
      "\u001b[36m2025-09-09 17:25:53 INFO     one.py:1288 Loading pupil data\u001b[0m\n"
     ]
    },
    {
     "name": "stderr",
     "output_type": "stream",
     "text": [
      "/opt/anaconda3/envs/iblenv/lib/python3.10/site-packages/one/util.py:428: ALFWarning: Multiple revisions: \"2025-06-18\", \"\"\n",
      "  warnings.warn(f'Multiple revisions: {rev_list}', alferr.ALFWarning)\n",
      "/opt/anaconda3/envs/iblenv/lib/python3.10/site-packages/one/util.py:428: ALFWarning: Multiple revisions: \"2025-05-30\", \"\"\n",
      "  warnings.warn(f'Multiple revisions: {rev_list}', alferr.ALFWarning)\n",
      "(S3) /Users/ineslaranjeira/Downloads/FlatIron/hoferlab/Subjects/SWC_060/2020-11-24/001/alf/_ibl_rightCamera.lightningPose.pqt: 100%|██████████| 298M/298M [00:28<00:00, 10.5MB/s] \n"
     ]
    },
    {
     "name": "stdout",
     "output_type": "stream",
     "text": [
      "\u001b[36m2025-09-09 17:26:29 INFO     one.py:1288 Loading trials data\u001b[0m\n"
     ]
    },
    {
     "name": "stderr",
     "output_type": "stream",
     "text": [
      "/opt/anaconda3/envs/iblenv/lib/python3.10/site-packages/one/util.py:428: ALFWarning: Multiple revisions: \"\", \"2025-03-03\"\n",
      "  warnings.warn(f'Multiple revisions: {rev_list}', alferr.ALFWarning)\n"
     ]
    },
    {
     "name": "stdout",
     "output_type": "stream",
     "text": [
      "\u001b[36m2025-09-09 17:26:30 INFO     one.py:1288 Loading wheel data\u001b[0m\n",
      "\u001b[36m2025-09-09 17:26:31 INFO     one.py:1288 Loading motion_energy data\u001b[0m\n"
     ]
    },
    {
     "name": "stderr",
     "output_type": "stream",
     "text": [
      "/opt/anaconda3/envs/iblenv/lib/python3.10/site-packages/one/util.py:428: ALFWarning: Multiple revisions: \"\", \"2025-05-30\"\n",
      "  warnings.warn(f'Multiple revisions: {rev_list}', alferr.ALFWarning)\n",
      "/opt/anaconda3/envs/iblenv/lib/python3.10/site-packages/one/util.py:428: ALFWarning: Multiple revisions: \"\", \"2025-06-01\"\n",
      "  warnings.warn(f'Multiple revisions: {rev_list}', alferr.ALFWarning)\n",
      "/opt/anaconda3/envs/iblenv/lib/python3.10/site-packages/one/util.py:428: ALFWarning: Multiple revisions: \"\", \"2025-06-02\"\n",
      "  warnings.warn(f'Multiple revisions: {rev_list}', alferr.ALFWarning)\n"
     ]
    },
    {
     "name": "stdout",
     "output_type": "stream",
     "text": [
      "\u001b[36m2025-09-09 17:26:32 INFO     one.py:1288 Loading pupil data\u001b[0m\n"
     ]
    },
    {
     "name": "stderr",
     "output_type": "stream",
     "text": [
      "/opt/anaconda3/envs/iblenv/lib/python3.10/site-packages/one/util.py:428: ALFWarning: Multiple revisions: \"2025-06-20\", \"\"\n",
      "  warnings.warn(f'Multiple revisions: {rev_list}', alferr.ALFWarning)\n"
     ]
    },
    {
     "name": "stdout",
     "output_type": "stream",
     "text": [
      "\u001b[1;33m2025-09-09 17:26:33 WARNING  one.py:1292 Could not load pupil data.\u001b[0m\n"
     ]
    },
    {
     "name": "stderr",
     "output_type": "stream",
     "text": [
      "(S3) /Users/ineslaranjeira/Downloads/FlatIron/hoferlab/Subjects/SWC_060/2020-11-25/001/alf/_ibl_rightCamera.lightningPose.pqt: 100%|██████████| 364M/364M [00:32<00:00, 11.1MB/s] \n"
     ]
    },
    {
     "name": "stdout",
     "output_type": "stream",
     "text": [
      "\u001b[36m2025-09-09 17:27:13 INFO     one.py:1288 Loading trials data\u001b[0m\n"
     ]
    },
    {
     "name": "stderr",
     "output_type": "stream",
     "text": [
      "/opt/anaconda3/envs/iblenv/lib/python3.10/site-packages/one/util.py:428: ALFWarning: Multiple revisions: \"\", \"2025-03-03\"\n",
      "  warnings.warn(f'Multiple revisions: {rev_list}', alferr.ALFWarning)\n"
     ]
    },
    {
     "name": "stdout",
     "output_type": "stream",
     "text": [
      "\u001b[36m2025-09-09 17:27:14 INFO     one.py:1288 Loading wheel data\u001b[0m\n",
      "\u001b[36m2025-09-09 17:27:15 INFO     one.py:1288 Loading motion_energy data\u001b[0m\n"
     ]
    },
    {
     "name": "stderr",
     "output_type": "stream",
     "text": [
      "/opt/anaconda3/envs/iblenv/lib/python3.10/site-packages/one/util.py:428: ALFWarning: Multiple revisions: \"\", \"2025-05-30\"\n",
      "  warnings.warn(f'Multiple revisions: {rev_list}', alferr.ALFWarning)\n",
      "/opt/anaconda3/envs/iblenv/lib/python3.10/site-packages/one/util.py:428: ALFWarning: Multiple revisions: \"\", \"2025-06-01\"\n",
      "  warnings.warn(f'Multiple revisions: {rev_list}', alferr.ALFWarning)\n",
      "/opt/anaconda3/envs/iblenv/lib/python3.10/site-packages/one/util.py:428: ALFWarning: Multiple revisions: \"\", \"2025-06-02\"\n",
      "  warnings.warn(f'Multiple revisions: {rev_list}', alferr.ALFWarning)\n"
     ]
    },
    {
     "name": "stdout",
     "output_type": "stream",
     "text": [
      "\u001b[36m2025-09-09 17:27:16 INFO     one.py:1288 Loading pupil data\u001b[0m\n"
     ]
    },
    {
     "name": "stderr",
     "output_type": "stream",
     "text": [
      "/opt/anaconda3/envs/iblenv/lib/python3.10/site-packages/one/util.py:428: ALFWarning: Multiple revisions: \"2025-06-04\", \"\"\n",
      "  warnings.warn(f'Multiple revisions: {rev_list}', alferr.ALFWarning)\n"
     ]
    },
    {
     "name": "stdout",
     "output_type": "stream",
     "text": [
      "\u001b[1;33m2025-09-09 17:27:17 WARNING  one.py:1292 Could not load pupil data.\u001b[0m\n"
     ]
    },
    {
     "name": "stderr",
     "output_type": "stream",
     "text": [
      "(S3) /Users/ineslaranjeira/Downloads/FlatIron/hoferlab/Subjects/SWC_060/2020-11-26/001/alf/_ibl_rightCamera.lightningPose.pqt: 100%|██████████| 312M/312M [00:25<00:00, 12.0MB/s] \n"
     ]
    },
    {
     "name": "stdout",
     "output_type": "stream",
     "text": [
      "\u001b[36m2025-09-09 17:27:51 INFO     one.py:1288 Loading trials data\u001b[0m\n"
     ]
    },
    {
     "name": "stderr",
     "output_type": "stream",
     "text": [
      "/opt/anaconda3/envs/iblenv/lib/python3.10/site-packages/one/util.py:428: ALFWarning: Multiple revisions: \"\", \"2025-03-03\"\n",
      "  warnings.warn(f'Multiple revisions: {rev_list}', alferr.ALFWarning)\n"
     ]
    },
    {
     "name": "stdout",
     "output_type": "stream",
     "text": [
      "\u001b[36m2025-09-09 17:27:52 INFO     one.py:1288 Loading wheel data\u001b[0m\n",
      "\u001b[36m2025-09-09 17:27:53 INFO     one.py:1288 Loading motion_energy data\u001b[0m\n"
     ]
    },
    {
     "name": "stderr",
     "output_type": "stream",
     "text": [
      "/opt/anaconda3/envs/iblenv/lib/python3.10/site-packages/one/util.py:428: ALFWarning: Multiple revisions: \"\", \"2025-05-30\"\n",
      "  warnings.warn(f'Multiple revisions: {rev_list}', alferr.ALFWarning)\n",
      "/opt/anaconda3/envs/iblenv/lib/python3.10/site-packages/one/util.py:428: ALFWarning: Multiple revisions: \"\", \"2025-06-01\"\n",
      "  warnings.warn(f'Multiple revisions: {rev_list}', alferr.ALFWarning)\n",
      "/opt/anaconda3/envs/iblenv/lib/python3.10/site-packages/one/util.py:428: ALFWarning: Multiple revisions: \"\", \"2025-06-02\"\n",
      "  warnings.warn(f'Multiple revisions: {rev_list}', alferr.ALFWarning)\n"
     ]
    },
    {
     "name": "stdout",
     "output_type": "stream",
     "text": [
      "\u001b[36m2025-09-09 17:27:54 INFO     one.py:1288 Loading pupil data\u001b[0m\n"
     ]
    },
    {
     "name": "stderr",
     "output_type": "stream",
     "text": [
      "/opt/anaconda3/envs/iblenv/lib/python3.10/site-packages/one/util.py:428: ALFWarning: Multiple revisions: \"2025-06-04\", \"\"\n",
      "  warnings.warn(f'Multiple revisions: {rev_list}', alferr.ALFWarning)\n",
      "local file size mismatch on dataset: hoferlab/Subjects/SWC_061/2020-11-23/001/alf/_ibl_leftCamera.lightningPose.pqt\n",
      "(S3) /Users/ineslaranjeira/Downloads/FlatIron/hoferlab/Subjects/SWC_061/2020-11-23/001/alf/_ibl_leftCamera.lightningPose.pqt: 100%|██████████| 140M/140M [00:13<00:00, 10.7MB/s] \n",
      "(S3) /Users/ineslaranjeira/Downloads/FlatIron/hoferlab/Subjects/SWC_061/2020-11-23/001/alf/_ibl_rightCamera.lightningPose.pqt: 100%|██████████| 327M/327M [00:26<00:00, 12.5MB/s] \n"
     ]
    },
    {
     "name": "stdout",
     "output_type": "stream",
     "text": [
      "\u001b[36m2025-09-09 17:28:42 INFO     one.py:1288 Loading trials data\u001b[0m\n"
     ]
    },
    {
     "name": "stderr",
     "output_type": "stream",
     "text": [
      "/opt/anaconda3/envs/iblenv/lib/python3.10/site-packages/one/util.py:428: ALFWarning: Multiple revisions: \"\", \"2025-03-03\"\n",
      "  warnings.warn(f'Multiple revisions: {rev_list}', alferr.ALFWarning)\n"
     ]
    },
    {
     "name": "stdout",
     "output_type": "stream",
     "text": [
      "\u001b[36m2025-09-09 17:28:43 INFO     one.py:1288 Loading wheel data\u001b[0m\n",
      "\u001b[36m2025-09-09 17:28:44 INFO     one.py:1288 Loading motion_energy data\u001b[0m\n"
     ]
    },
    {
     "name": "stderr",
     "output_type": "stream",
     "text": [
      "/opt/anaconda3/envs/iblenv/lib/python3.10/site-packages/one/util.py:428: ALFWarning: Multiple revisions: \"\", \"2025-05-31\"\n",
      "  warnings.warn(f'Multiple revisions: {rev_list}', alferr.ALFWarning)\n",
      "/opt/anaconda3/envs/iblenv/lib/python3.10/site-packages/one/util.py:428: ALFWarning: Multiple revisions: \"\", \"2025-06-01\"\n",
      "  warnings.warn(f'Multiple revisions: {rev_list}', alferr.ALFWarning)\n",
      "/opt/anaconda3/envs/iblenv/lib/python3.10/site-packages/one/util.py:428: ALFWarning: Multiple revisions: \"\", \"2025-06-03\"\n",
      "  warnings.warn(f'Multiple revisions: {rev_list}', alferr.ALFWarning)\n"
     ]
    },
    {
     "name": "stdout",
     "output_type": "stream",
     "text": [
      "\u001b[36m2025-09-09 17:28:45 INFO     one.py:1288 Loading pupil data\u001b[0m\n"
     ]
    },
    {
     "name": "stderr",
     "output_type": "stream",
     "text": [
      "/opt/anaconda3/envs/iblenv/lib/python3.10/site-packages/one/util.py:428: ALFWarning: Multiple revisions: \"2025-06-18\", \"\"\n",
      "  warnings.warn(f'Multiple revisions: {rev_list}', alferr.ALFWarning)\n"
     ]
    },
    {
     "name": "stdout",
     "output_type": "stream",
     "text": [
      "\u001b[1;33m2025-09-09 17:28:46 WARNING  one.py:1292 Could not load pupil data.\u001b[0m\n"
     ]
    },
    {
     "name": "stderr",
     "output_type": "stream",
     "text": [
      "local file size mismatch on dataset: hoferlab/Subjects/SWC_061/2020-11-26/001/alf/_ibl_leftCamera.lightningPose.pqt\n",
      "(S3) /Users/ineslaranjeira/Downloads/FlatIron/hoferlab/Subjects/SWC_061/2020-11-26/001/alf/_ibl_leftCamera.lightningPose.pqt: 100%|██████████| 161M/161M [00:12<00:00, 13.2MB/s] \n",
      "(S3) /Users/ineslaranjeira/Downloads/FlatIron/hoferlab/Subjects/SWC_061/2020-11-26/001/alf/_ibl_rightCamera.lightningPose.pqt: 100%|██████████| 380M/380M [00:23<00:00, 16.1MB/s] \n"
     ]
    },
    {
     "name": "stdout",
     "output_type": "stream",
     "text": [
      "\u001b[36m2025-09-09 17:29:29 INFO     one.py:1288 Loading trials data\u001b[0m\n"
     ]
    },
    {
     "name": "stderr",
     "output_type": "stream",
     "text": [
      "/opt/anaconda3/envs/iblenv/lib/python3.10/site-packages/one/util.py:428: ALFWarning: Multiple revisions: \"\", \"2025-03-03\"\n",
      "  warnings.warn(f'Multiple revisions: {rev_list}', alferr.ALFWarning)\n"
     ]
    },
    {
     "name": "stdout",
     "output_type": "stream",
     "text": [
      "\u001b[36m2025-09-09 17:29:30 INFO     one.py:1288 Loading wheel data\u001b[0m\n",
      "\u001b[36m2025-09-09 17:29:31 INFO     one.py:1288 Loading motion_energy data\u001b[0m\n"
     ]
    },
    {
     "name": "stderr",
     "output_type": "stream",
     "text": [
      "/opt/anaconda3/envs/iblenv/lib/python3.10/site-packages/one/util.py:428: ALFWarning: Multiple revisions: \"\", \"2025-05-31\"\n",
      "  warnings.warn(f'Multiple revisions: {rev_list}', alferr.ALFWarning)\n",
      "/opt/anaconda3/envs/iblenv/lib/python3.10/site-packages/one/util.py:428: ALFWarning: Multiple revisions: \"\", \"2025-06-01\"\n",
      "  warnings.warn(f'Multiple revisions: {rev_list}', alferr.ALFWarning)\n",
      "/opt/anaconda3/envs/iblenv/lib/python3.10/site-packages/one/util.py:428: ALFWarning: Multiple revisions: \"\", \"2025-06-03\"\n",
      "  warnings.warn(f'Multiple revisions: {rev_list}', alferr.ALFWarning)\n"
     ]
    },
    {
     "name": "stdout",
     "output_type": "stream",
     "text": [
      "\u001b[36m2025-09-09 17:29:33 INFO     one.py:1288 Loading pupil data\u001b[0m\n"
     ]
    },
    {
     "name": "stderr",
     "output_type": "stream",
     "text": [
      "/opt/anaconda3/envs/iblenv/lib/python3.10/site-packages/one/util.py:428: ALFWarning: Multiple revisions: \"2025-06-18\", \"\"\n",
      "  warnings.warn(f'Multiple revisions: {rev_list}', alferr.ALFWarning)\n"
     ]
    },
    {
     "name": "stdout",
     "output_type": "stream",
     "text": [
      "\u001b[1;33m2025-09-09 17:29:33 WARNING  one.py:1292 Could not load pupil data.\u001b[0m\n"
     ]
    },
    {
     "name": "stderr",
     "output_type": "stream",
     "text": [
      "(S3) /Users/ineslaranjeira/Downloads/FlatIron/hoferlab/Subjects/SWC_061/2020-11-30/001/alf/_ibl_rightCamera.lightningPose.pqt: 100%|██████████| 349M/349M [00:26<00:00, 13.3MB/s] \n"
     ]
    },
    {
     "name": "stdout",
     "output_type": "stream",
     "text": [
      "\u001b[36m2025-09-09 17:30:07 INFO     one.py:1288 Loading trials data\u001b[0m\n"
     ]
    },
    {
     "name": "stderr",
     "output_type": "stream",
     "text": [
      "/opt/anaconda3/envs/iblenv/lib/python3.10/site-packages/one/util.py:428: ALFWarning: Multiple revisions: \"\", \"2025-03-03\"\n",
      "  warnings.warn(f'Multiple revisions: {rev_list}', alferr.ALFWarning)\n"
     ]
    },
    {
     "name": "stdout",
     "output_type": "stream",
     "text": [
      "\u001b[36m2025-09-09 17:30:08 INFO     one.py:1288 Loading wheel data\u001b[0m\n",
      "\u001b[36m2025-09-09 17:30:10 INFO     one.py:1288 Loading motion_energy data\u001b[0m\n"
     ]
    },
    {
     "name": "stderr",
     "output_type": "stream",
     "text": [
      "/opt/anaconda3/envs/iblenv/lib/python3.10/site-packages/one/util.py:428: ALFWarning: Multiple revisions: \"\", \"2025-05-31\"\n",
      "  warnings.warn(f'Multiple revisions: {rev_list}', alferr.ALFWarning)\n",
      "/opt/anaconda3/envs/iblenv/lib/python3.10/site-packages/one/util.py:428: ALFWarning: Multiple revisions: \"\", \"2025-06-01\"\n",
      "  warnings.warn(f'Multiple revisions: {rev_list}', alferr.ALFWarning)\n",
      "/opt/anaconda3/envs/iblenv/lib/python3.10/site-packages/one/util.py:428: ALFWarning: Multiple revisions: \"\", \"2025-06-03\"\n",
      "  warnings.warn(f'Multiple revisions: {rev_list}', alferr.ALFWarning)\n"
     ]
    },
    {
     "name": "stdout",
     "output_type": "stream",
     "text": [
      "\u001b[36m2025-09-09 17:30:11 INFO     one.py:1288 Loading pupil data\u001b[0m\n"
     ]
    },
    {
     "name": "stderr",
     "output_type": "stream",
     "text": [
      "/opt/anaconda3/envs/iblenv/lib/python3.10/site-packages/one/util.py:428: ALFWarning: Multiple revisions: \"2025-06-05\", \"\"\n",
      "  warnings.warn(f'Multiple revisions: {rev_list}', alferr.ALFWarning)\n"
     ]
    },
    {
     "name": "stdout",
     "output_type": "stream",
     "text": [
      "\u001b[1;33m2025-09-09 17:30:11 WARNING  one.py:1292 Could not load pupil data.\u001b[0m\n"
     ]
    },
    {
     "name": "stderr",
     "output_type": "stream",
     "text": [
      "(S3) /Users/ineslaranjeira/Downloads/FlatIron/hoferlab/Subjects/SWC_066/2022-04-27/001/alf/_ibl_rightCamera.lightningPose.pqt: 100%|██████████| 336M/336M [00:24<00:00, 13.6MB/s] \n"
     ]
    },
    {
     "name": "stdout",
     "output_type": "stream",
     "text": [
      "\u001b[36m2025-09-09 17:30:44 INFO     one.py:1288 Loading trials data\u001b[0m\n"
     ]
    },
    {
     "name": "stderr",
     "output_type": "stream",
     "text": [
      "/opt/anaconda3/envs/iblenv/lib/python3.10/site-packages/one/util.py:428: ALFWarning: Multiple revisions: \"\", \"2025-03-03\"\n",
      "  warnings.warn(f'Multiple revisions: {rev_list}', alferr.ALFWarning)\n"
     ]
    },
    {
     "name": "stdout",
     "output_type": "stream",
     "text": [
      "\u001b[36m2025-09-09 17:30:45 INFO     one.py:1288 Loading wheel data\u001b[0m\n",
      "\u001b[36m2025-09-09 17:30:46 INFO     one.py:1288 Loading motion_energy data\u001b[0m\n"
     ]
    },
    {
     "name": "stderr",
     "output_type": "stream",
     "text": [
      "/opt/anaconda3/envs/iblenv/lib/python3.10/site-packages/one/util.py:428: ALFWarning: Multiple revisions: \"\", \"2025-05-30\"\n",
      "  warnings.warn(f'Multiple revisions: {rev_list}', alferr.ALFWarning)\n",
      "/opt/anaconda3/envs/iblenv/lib/python3.10/site-packages/one/util.py:428: ALFWarning: Multiple revisions: \"\", \"2025-06-01\"\n",
      "  warnings.warn(f'Multiple revisions: {rev_list}', alferr.ALFWarning)\n",
      "/opt/anaconda3/envs/iblenv/lib/python3.10/site-packages/one/util.py:428: ALFWarning: Multiple revisions: \"\", \"2025-06-02\"\n",
      "  warnings.warn(f'Multiple revisions: {rev_list}', alferr.ALFWarning)\n"
     ]
    },
    {
     "name": "stdout",
     "output_type": "stream",
     "text": [
      "\u001b[36m2025-09-09 17:30:47 INFO     one.py:1288 Loading pupil data\u001b[0m\n"
     ]
    },
    {
     "name": "stderr",
     "output_type": "stream",
     "text": [
      "/opt/anaconda3/envs/iblenv/lib/python3.10/site-packages/one/util.py:428: ALFWarning: Multiple revisions: \"2025-06-04\", \"\"\n",
      "  warnings.warn(f'Multiple revisions: {rev_list}', alferr.ALFWarning)\n"
     ]
    },
    {
     "name": "stdout",
     "output_type": "stream",
     "text": [
      "\u001b[1;33m2025-09-09 17:30:47 WARNING  one.py:1292 Could not load pupil data.\u001b[0m\n",
      "\u001b[36m2025-09-09 17:30:54 INFO     one.py:1288 Loading trials data\u001b[0m\n"
     ]
    },
    {
     "name": "stderr",
     "output_type": "stream",
     "text": [
      "/opt/anaconda3/envs/iblenv/lib/python3.10/site-packages/one/util.py:428: ALFWarning: Multiple revisions: \"\", \"2025-03-03\"\n",
      "  warnings.warn(f'Multiple revisions: {rev_list}', alferr.ALFWarning)\n"
     ]
    },
    {
     "name": "stdout",
     "output_type": "stream",
     "text": [
      "\u001b[36m2025-09-09 17:30:55 INFO     one.py:1288 Loading wheel data\u001b[0m\n",
      "\u001b[36m2025-09-09 17:30:56 INFO     one.py:1288 Loading motion_energy data\u001b[0m\n"
     ]
    },
    {
     "name": "stderr",
     "output_type": "stream",
     "text": [
      "/opt/anaconda3/envs/iblenv/lib/python3.10/site-packages/one/util.py:428: ALFWarning: Multiple revisions: \"\", \"2025-05-30\"\n",
      "  warnings.warn(f'Multiple revisions: {rev_list}', alferr.ALFWarning)\n",
      "/opt/anaconda3/envs/iblenv/lib/python3.10/site-packages/one/util.py:428: ALFWarning: Multiple revisions: \"\", \"2025-06-01\"\n",
      "  warnings.warn(f'Multiple revisions: {rev_list}', alferr.ALFWarning)\n",
      "/opt/anaconda3/envs/iblenv/lib/python3.10/site-packages/one/util.py:428: ALFWarning: Multiple revisions: \"\", \"2025-06-02\"\n",
      "  warnings.warn(f'Multiple revisions: {rev_list}', alferr.ALFWarning)\n"
     ]
    },
    {
     "name": "stdout",
     "output_type": "stream",
     "text": [
      "\u001b[36m2025-09-09 17:30:57 INFO     one.py:1288 Loading pupil data\u001b[0m\n"
     ]
    },
    {
     "name": "stderr",
     "output_type": "stream",
     "text": [
      "/opt/anaconda3/envs/iblenv/lib/python3.10/site-packages/one/util.py:428: ALFWarning: Multiple revisions: \"2025-06-04\", \"\"\n",
      "  warnings.warn(f'Multiple revisions: {rev_list}', alferr.ALFWarning)\n",
      "/opt/anaconda3/envs/iblenv/lib/python3.10/site-packages/one/util.py:428: ALFWarning: Multiple revisions: \"2025-05-31\", \"\"\n",
      "  warnings.warn(f'Multiple revisions: {rev_list}', alferr.ALFWarning)\n",
      "(S3) /Users/ineslaranjeira/Downloads/FlatIron/mainenlab/Subjects/ZFM-01935/2021-02-03/001/alf/_ibl_rightCamera.lightningPose.pqt: 100%|██████████| 356M/356M [00:28<00:00, 12.7MB/s] \n"
     ]
    },
    {
     "name": "stdout",
     "output_type": "stream",
     "text": [
      "\u001b[36m2025-09-09 17:31:33 INFO     one.py:1288 Loading trials data\u001b[0m\n"
     ]
    },
    {
     "name": "stderr",
     "output_type": "stream",
     "text": [
      "/opt/anaconda3/envs/iblenv/lib/python3.10/site-packages/one/util.py:428: ALFWarning: Multiple revisions: \"\", \"2025-03-03\"\n",
      "  warnings.warn(f'Multiple revisions: {rev_list}', alferr.ALFWarning)\n"
     ]
    },
    {
     "name": "stdout",
     "output_type": "stream",
     "text": [
      "\u001b[36m2025-09-09 17:31:34 INFO     one.py:1288 Loading wheel data\u001b[0m\n",
      "\u001b[36m2025-09-09 17:31:35 INFO     one.py:1288 Loading motion_energy data\u001b[0m\n"
     ]
    },
    {
     "name": "stderr",
     "output_type": "stream",
     "text": [
      "/opt/anaconda3/envs/iblenv/lib/python3.10/site-packages/one/util.py:428: ALFWarning: Multiple revisions: \"\", \"2025-05-31\"\n",
      "  warnings.warn(f'Multiple revisions: {rev_list}', alferr.ALFWarning)\n",
      "/opt/anaconda3/envs/iblenv/lib/python3.10/site-packages/one/util.py:428: ALFWarning: Multiple revisions: \"\", \"2025-06-01\"\n",
      "  warnings.warn(f'Multiple revisions: {rev_list}', alferr.ALFWarning)\n",
      "/opt/anaconda3/envs/iblenv/lib/python3.10/site-packages/one/util.py:428: ALFWarning: Multiple revisions: \"\", \"2025-06-03\"\n",
      "  warnings.warn(f'Multiple revisions: {rev_list}', alferr.ALFWarning)\n"
     ]
    },
    {
     "name": "stdout",
     "output_type": "stream",
     "text": [
      "\u001b[36m2025-09-09 17:31:36 INFO     one.py:1288 Loading pupil data\u001b[0m\n"
     ]
    },
    {
     "name": "stderr",
     "output_type": "stream",
     "text": [
      "/opt/anaconda3/envs/iblenv/lib/python3.10/site-packages/one/util.py:428: ALFWarning: Multiple revisions: \"2025-06-23\", \"\"\n",
      "  warnings.warn(f'Multiple revisions: {rev_list}', alferr.ALFWarning)\n",
      "local file size mismatch on dataset: mainenlab/Subjects/ZFM-01935/2021-02-04/001/alf/_ibl_leftCamera.lightningPose.pqt\n",
      "(S3) /Users/ineslaranjeira/Downloads/FlatIron/mainenlab/Subjects/ZFM-01935/2021-02-04/001/alf/_ibl_leftCamera.lightningPose.pqt: 100%|██████████| 154M/154M [00:14<00:00, 10.9MB/s] \n",
      "(S3) /Users/ineslaranjeira/Downloads/FlatIron/mainenlab/Subjects/ZFM-01935/2021-02-04/001/alf/_ibl_rightCamera.lightningPose.pqt: 100%|██████████| 356M/356M [00:24<00:00, 14.7MB/s] \n"
     ]
    },
    {
     "name": "stdout",
     "output_type": "stream",
     "text": [
      "\u001b[36m2025-09-09 17:32:22 INFO     one.py:1288 Loading trials data\u001b[0m\n"
     ]
    },
    {
     "name": "stderr",
     "output_type": "stream",
     "text": [
      "/opt/anaconda3/envs/iblenv/lib/python3.10/site-packages/one/util.py:428: ALFWarning: Multiple revisions: \"\", \"2025-03-03\"\n",
      "  warnings.warn(f'Multiple revisions: {rev_list}', alferr.ALFWarning)\n"
     ]
    },
    {
     "name": "stdout",
     "output_type": "stream",
     "text": [
      "\u001b[36m2025-09-09 17:32:23 INFO     one.py:1288 Loading wheel data\u001b[0m\n",
      "\u001b[36m2025-09-09 17:32:24 INFO     one.py:1288 Loading motion_energy data\u001b[0m\n"
     ]
    },
    {
     "name": "stderr",
     "output_type": "stream",
     "text": [
      "/opt/anaconda3/envs/iblenv/lib/python3.10/site-packages/one/util.py:428: ALFWarning: Multiple revisions: \"\", \"2025-05-31\"\n",
      "  warnings.warn(f'Multiple revisions: {rev_list}', alferr.ALFWarning)\n",
      "/opt/anaconda3/envs/iblenv/lib/python3.10/site-packages/one/util.py:428: ALFWarning: Multiple revisions: \"\", \"2025-06-01\"\n",
      "  warnings.warn(f'Multiple revisions: {rev_list}', alferr.ALFWarning)\n",
      "/opt/anaconda3/envs/iblenv/lib/python3.10/site-packages/one/util.py:428: ALFWarning: Multiple revisions: \"\", \"2025-06-03\"\n",
      "  warnings.warn(f'Multiple revisions: {rev_list}', alferr.ALFWarning)\n"
     ]
    },
    {
     "name": "stdout",
     "output_type": "stream",
     "text": [
      "\u001b[36m2025-09-09 17:32:25 INFO     one.py:1288 Loading pupil data\u001b[0m\n"
     ]
    },
    {
     "name": "stderr",
     "output_type": "stream",
     "text": [
      "/opt/anaconda3/envs/iblenv/lib/python3.10/site-packages/one/util.py:428: ALFWarning: Multiple revisions: \"2025-06-18\", \"\"\n",
      "  warnings.warn(f'Multiple revisions: {rev_list}', alferr.ALFWarning)\n",
      "local file size mismatch on dataset: mainenlab/Subjects/ZFM-01935/2021-02-05/001/alf/_ibl_leftCamera.lightningPose.pqt\n",
      "(S3) /Users/ineslaranjeira/Downloads/FlatIron/mainenlab/Subjects/ZFM-01935/2021-02-05/001/alf/_ibl_leftCamera.lightningPose.pqt: 100%|██████████| 155M/155M [00:12<00:00, 12.4MB/s] \n",
      "(S3) /Users/ineslaranjeira/Downloads/FlatIron/mainenlab/Subjects/ZFM-01935/2021-02-05/001/alf/_ibl_rightCamera.lightningPose.pqt: 100%|██████████| 360M/360M [00:25<00:00, 14.2MB/s] \n"
     ]
    },
    {
     "name": "stdout",
     "output_type": "stream",
     "text": [
      "\u001b[36m2025-09-09 17:33:11 INFO     one.py:1288 Loading trials data\u001b[0m\n"
     ]
    },
    {
     "name": "stderr",
     "output_type": "stream",
     "text": [
      "/opt/anaconda3/envs/iblenv/lib/python3.10/site-packages/one/util.py:428: ALFWarning: Multiple revisions: \"\", \"2025-03-03\"\n",
      "  warnings.warn(f'Multiple revisions: {rev_list}', alferr.ALFWarning)\n"
     ]
    },
    {
     "name": "stdout",
     "output_type": "stream",
     "text": [
      "\u001b[36m2025-09-09 17:33:12 INFO     one.py:1288 Loading wheel data\u001b[0m\n",
      "\u001b[36m2025-09-09 17:33:13 INFO     one.py:1288 Loading motion_energy data\u001b[0m\n"
     ]
    },
    {
     "name": "stderr",
     "output_type": "stream",
     "text": [
      "/opt/anaconda3/envs/iblenv/lib/python3.10/site-packages/one/util.py:428: ALFWarning: Multiple revisions: \"\", \"2025-05-31\"\n",
      "  warnings.warn(f'Multiple revisions: {rev_list}', alferr.ALFWarning)\n",
      "/opt/anaconda3/envs/iblenv/lib/python3.10/site-packages/one/util.py:428: ALFWarning: Multiple revisions: \"\", \"2025-06-01\"\n",
      "  warnings.warn(f'Multiple revisions: {rev_list}', alferr.ALFWarning)\n",
      "/opt/anaconda3/envs/iblenv/lib/python3.10/site-packages/one/util.py:428: ALFWarning: Multiple revisions: \"\", \"2025-06-03\"\n",
      "  warnings.warn(f'Multiple revisions: {rev_list}', alferr.ALFWarning)\n"
     ]
    },
    {
     "name": "stdout",
     "output_type": "stream",
     "text": [
      "\u001b[36m2025-09-09 17:33:14 INFO     one.py:1288 Loading pupil data\u001b[0m\n"
     ]
    },
    {
     "name": "stderr",
     "output_type": "stream",
     "text": [
      "/opt/anaconda3/envs/iblenv/lib/python3.10/site-packages/one/util.py:428: ALFWarning: Multiple revisions: \"2025-06-18\", \"\"\n",
      "  warnings.warn(f'Multiple revisions: {rev_list}', alferr.ALFWarning)\n",
      "local file size mismatch on dataset: mainenlab/Subjects/ZFM-01935/2021-02-06/001/alf/_ibl_leftCamera.lightningPose.pqt\n",
      "(S3) /Users/ineslaranjeira/Downloads/FlatIron/mainenlab/Subjects/ZFM-01935/2021-02-06/001/alf/_ibl_leftCamera.lightningPose.pqt: 100%|██████████| 161M/161M [00:12<00:00, 12.5MB/s] \n",
      "(S3) /Users/ineslaranjeira/Downloads/FlatIron/mainenlab/Subjects/ZFM-01935/2021-02-06/001/alf/_ibl_rightCamera.lightningPose.pqt: 100%|██████████| 377M/377M [00:23<00:00, 15.7MB/s] \n"
     ]
    },
    {
     "name": "stdout",
     "output_type": "stream",
     "text": [
      "\u001b[36m2025-09-09 17:33:59 INFO     one.py:1288 Loading trials data\u001b[0m\n"
     ]
    },
    {
     "name": "stderr",
     "output_type": "stream",
     "text": [
      "/opt/anaconda3/envs/iblenv/lib/python3.10/site-packages/one/util.py:428: ALFWarning: Multiple revisions: \"\", \"2025-03-03\"\n",
      "  warnings.warn(f'Multiple revisions: {rev_list}', alferr.ALFWarning)\n"
     ]
    },
    {
     "name": "stdout",
     "output_type": "stream",
     "text": [
      "\u001b[36m2025-09-09 17:34:00 INFO     one.py:1288 Loading wheel data\u001b[0m\n",
      "\u001b[36m2025-09-09 17:34:01 INFO     one.py:1288 Loading motion_energy data\u001b[0m\n"
     ]
    },
    {
     "name": "stderr",
     "output_type": "stream",
     "text": [
      "/opt/anaconda3/envs/iblenv/lib/python3.10/site-packages/one/util.py:428: ALFWarning: Multiple revisions: \"\", \"2025-05-31\"\n",
      "  warnings.warn(f'Multiple revisions: {rev_list}', alferr.ALFWarning)\n",
      "/opt/anaconda3/envs/iblenv/lib/python3.10/site-packages/one/util.py:428: ALFWarning: Multiple revisions: \"\", \"2025-06-01\"\n",
      "  warnings.warn(f'Multiple revisions: {rev_list}', alferr.ALFWarning)\n",
      "/opt/anaconda3/envs/iblenv/lib/python3.10/site-packages/one/util.py:428: ALFWarning: Multiple revisions: \"\", \"2025-06-03\"\n",
      "  warnings.warn(f'Multiple revisions: {rev_list}', alferr.ALFWarning)\n"
     ]
    },
    {
     "name": "stdout",
     "output_type": "stream",
     "text": [
      "\u001b[36m2025-09-09 17:34:02 INFO     one.py:1288 Loading pupil data\u001b[0m\n"
     ]
    },
    {
     "name": "stderr",
     "output_type": "stream",
     "text": [
      "/opt/anaconda3/envs/iblenv/lib/python3.10/site-packages/one/util.py:428: ALFWarning: Multiple revisions: \"2025-06-18\", \"\"\n",
      "  warnings.warn(f'Multiple revisions: {rev_list}', alferr.ALFWarning)\n",
      "/opt/anaconda3/envs/iblenv/lib/python3.10/site-packages/one/util.py:428: ALFWarning: Multiple revisions: \"2025-05-30\", \"\"\n",
      "  warnings.warn(f'Multiple revisions: {rev_list}', alferr.ALFWarning)\n",
      "(S3) /Users/ineslaranjeira/Downloads/FlatIron/mainenlab/Subjects/ZFM-01936/2021-01-19/001/alf/_ibl_rightCamera.lightningPose.pqt: 100%|██████████| 351M/351M [00:25<00:00, 13.6MB/s] \n"
     ]
    },
    {
     "name": "stdout",
     "output_type": "stream",
     "text": [
      "\u001b[36m2025-09-09 17:34:36 INFO     one.py:1288 Loading trials data\u001b[0m\n"
     ]
    },
    {
     "name": "stderr",
     "output_type": "stream",
     "text": [
      "/opt/anaconda3/envs/iblenv/lib/python3.10/site-packages/one/util.py:428: ALFWarning: Multiple revisions: \"\", \"2025-03-03\"\n",
      "  warnings.warn(f'Multiple revisions: {rev_list}', alferr.ALFWarning)\n"
     ]
    },
    {
     "name": "stdout",
     "output_type": "stream",
     "text": [
      "\u001b[36m2025-09-09 17:34:37 INFO     one.py:1288 Loading wheel data\u001b[0m\n",
      "\u001b[36m2025-09-09 17:34:39 INFO     one.py:1288 Loading motion_energy data\u001b[0m\n"
     ]
    },
    {
     "name": "stderr",
     "output_type": "stream",
     "text": [
      "/opt/anaconda3/envs/iblenv/lib/python3.10/site-packages/one/util.py:428: ALFWarning: Multiple revisions: \"\", \"2025-05-30\"\n",
      "  warnings.warn(f'Multiple revisions: {rev_list}', alferr.ALFWarning)\n",
      "/opt/anaconda3/envs/iblenv/lib/python3.10/site-packages/one/util.py:428: ALFWarning: Multiple revisions: \"\", \"2025-06-01\"\n",
      "  warnings.warn(f'Multiple revisions: {rev_list}', alferr.ALFWarning)\n",
      "/opt/anaconda3/envs/iblenv/lib/python3.10/site-packages/one/util.py:428: ALFWarning: Multiple revisions: \"\", \"2025-06-02\"\n",
      "  warnings.warn(f'Multiple revisions: {rev_list}', alferr.ALFWarning)\n"
     ]
    },
    {
     "name": "stdout",
     "output_type": "stream",
     "text": [
      "\u001b[36m2025-09-09 17:34:40 INFO     one.py:1288 Loading pupil data\u001b[0m\n"
     ]
    },
    {
     "name": "stderr",
     "output_type": "stream",
     "text": [
      "/opt/anaconda3/envs/iblenv/lib/python3.10/site-packages/one/util.py:428: ALFWarning: Multiple revisions: \"2025-06-20\", \"\"\n",
      "  warnings.warn(f'Multiple revisions: {rev_list}', alferr.ALFWarning)\n",
      "(S3) /Users/ineslaranjeira/Downloads/FlatIron/mainenlab/Subjects/ZFM-01936/2021-01-20/001/alf/_ibl_rightCamera.lightningPose.pqt: 100%|██████████| 285M/285M [00:26<00:00, 10.9MB/s] \n"
     ]
    },
    {
     "name": "stdout",
     "output_type": "stream",
     "text": [
      "\u001b[36m2025-09-09 17:35:13 INFO     one.py:1288 Loading trials data\u001b[0m\n"
     ]
    },
    {
     "name": "stderr",
     "output_type": "stream",
     "text": [
      "/opt/anaconda3/envs/iblenv/lib/python3.10/site-packages/one/util.py:428: ALFWarning: Multiple revisions: \"\", \"2025-03-03\"\n",
      "  warnings.warn(f'Multiple revisions: {rev_list}', alferr.ALFWarning)\n"
     ]
    },
    {
     "name": "stdout",
     "output_type": "stream",
     "text": [
      "\u001b[36m2025-09-09 17:35:14 INFO     one.py:1288 Loading wheel data\u001b[0m\n",
      "\u001b[36m2025-09-09 17:35:15 INFO     one.py:1288 Loading motion_energy data\u001b[0m\n"
     ]
    },
    {
     "name": "stderr",
     "output_type": "stream",
     "text": [
      "/opt/anaconda3/envs/iblenv/lib/python3.10/site-packages/one/util.py:428: ALFWarning: Multiple revisions: \"\", \"2025-05-30\"\n",
      "  warnings.warn(f'Multiple revisions: {rev_list}', alferr.ALFWarning)\n",
      "/opt/anaconda3/envs/iblenv/lib/python3.10/site-packages/one/util.py:428: ALFWarning: Multiple revisions: \"\", \"2025-06-01\"\n",
      "  warnings.warn(f'Multiple revisions: {rev_list}', alferr.ALFWarning)\n",
      "/opt/anaconda3/envs/iblenv/lib/python3.10/site-packages/one/util.py:428: ALFWarning: Multiple revisions: \"\", \"2025-06-02\"\n",
      "  warnings.warn(f'Multiple revisions: {rev_list}', alferr.ALFWarning)\n"
     ]
    },
    {
     "name": "stdout",
     "output_type": "stream",
     "text": [
      "\u001b[36m2025-09-09 17:35:16 INFO     one.py:1288 Loading pupil data\u001b[0m\n"
     ]
    },
    {
     "name": "stderr",
     "output_type": "stream",
     "text": [
      "/opt/anaconda3/envs/iblenv/lib/python3.10/site-packages/one/util.py:428: ALFWarning: Multiple revisions: \"2025-06-18\", \"\"\n",
      "  warnings.warn(f'Multiple revisions: {rev_list}', alferr.ALFWarning)\n",
      "(S3) /Users/ineslaranjeira/Downloads/FlatIron/mainenlab/Subjects/ZFM-01936/2021-01-22/002/alf/_ibl_rightCamera.lightningPose.pqt: 100%|██████████| 285M/285M [00:45<00:00, 6.28MB/s] \n"
     ]
    },
    {
     "name": "stdout",
     "output_type": "stream",
     "text": [
      "\u001b[36m2025-09-09 17:36:08 INFO     one.py:1288 Loading trials data\u001b[0m\n"
     ]
    },
    {
     "name": "stderr",
     "output_type": "stream",
     "text": [
      "/opt/anaconda3/envs/iblenv/lib/python3.10/site-packages/one/util.py:428: ALFWarning: Multiple revisions: \"\", \"2025-03-03\"\n",
      "  warnings.warn(f'Multiple revisions: {rev_list}', alferr.ALFWarning)\n"
     ]
    },
    {
     "name": "stdout",
     "output_type": "stream",
     "text": [
      "\u001b[36m2025-09-09 17:36:10 INFO     one.py:1288 Loading wheel data\u001b[0m\n",
      "\u001b[36m2025-09-09 17:36:10 INFO     one.py:1288 Loading motion_energy data\u001b[0m\n"
     ]
    },
    {
     "name": "stderr",
     "output_type": "stream",
     "text": [
      "/opt/anaconda3/envs/iblenv/lib/python3.10/site-packages/one/util.py:428: ALFWarning: Multiple revisions: \"\", \"2025-05-30\"\n",
      "  warnings.warn(f'Multiple revisions: {rev_list}', alferr.ALFWarning)\n",
      "/opt/anaconda3/envs/iblenv/lib/python3.10/site-packages/one/util.py:428: ALFWarning: Multiple revisions: \"\", \"2025-06-01\"\n",
      "  warnings.warn(f'Multiple revisions: {rev_list}', alferr.ALFWarning)\n",
      "/opt/anaconda3/envs/iblenv/lib/python3.10/site-packages/one/util.py:428: ALFWarning: Multiple revisions: \"\", \"2025-06-02\"\n",
      "  warnings.warn(f'Multiple revisions: {rev_list}', alferr.ALFWarning)\n"
     ]
    },
    {
     "name": "stdout",
     "output_type": "stream",
     "text": [
      "\u001b[36m2025-09-09 17:36:12 INFO     one.py:1288 Loading pupil data\u001b[0m\n"
     ]
    },
    {
     "name": "stderr",
     "output_type": "stream",
     "text": [
      "/opt/anaconda3/envs/iblenv/lib/python3.10/site-packages/one/util.py:428: ALFWarning: Multiple revisions: \"2025-06-04\", \"\"\n",
      "  warnings.warn(f'Multiple revisions: {rev_list}', alferr.ALFWarning)\n",
      "(S3) /Users/ineslaranjeira/Downloads/FlatIron/mainenlab/Subjects/ZFM-01936/2021-01-23/001/alf/_ibl_rightCamera.lightningPose.pqt: 100%|██████████| 280M/280M [00:20<00:00, 13.4MB/s] \n"
     ]
    },
    {
     "name": "stdout",
     "output_type": "stream",
     "text": [
      "\u001b[36m2025-09-09 17:36:41 INFO     one.py:1288 Loading trials data\u001b[0m\n"
     ]
    },
    {
     "name": "stderr",
     "output_type": "stream",
     "text": [
      "/opt/anaconda3/envs/iblenv/lib/python3.10/site-packages/one/util.py:428: ALFWarning: Multiple revisions: \"\", \"2025-03-03\"\n",
      "  warnings.warn(f'Multiple revisions: {rev_list}', alferr.ALFWarning)\n"
     ]
    },
    {
     "name": "stdout",
     "output_type": "stream",
     "text": [
      "\u001b[36m2025-09-09 17:36:42 INFO     one.py:1288 Loading wheel data\u001b[0m\n",
      "\u001b[36m2025-09-09 17:36:43 INFO     one.py:1288 Loading motion_energy data\u001b[0m\n"
     ]
    },
    {
     "name": "stderr",
     "output_type": "stream",
     "text": [
      "/opt/anaconda3/envs/iblenv/lib/python3.10/site-packages/one/util.py:428: ALFWarning: Multiple revisions: \"\", \"2025-05-30\"\n",
      "  warnings.warn(f'Multiple revisions: {rev_list}', alferr.ALFWarning)\n",
      "/opt/anaconda3/envs/iblenv/lib/python3.10/site-packages/one/util.py:428: ALFWarning: Multiple revisions: \"\", \"2025-06-01\"\n",
      "  warnings.warn(f'Multiple revisions: {rev_list}', alferr.ALFWarning)\n",
      "/opt/anaconda3/envs/iblenv/lib/python3.10/site-packages/one/util.py:428: ALFWarning: Multiple revisions: \"\", \"2025-06-02\"\n",
      "  warnings.warn(f'Multiple revisions: {rev_list}', alferr.ALFWarning)\n"
     ]
    },
    {
     "name": "stdout",
     "output_type": "stream",
     "text": [
      "\u001b[36m2025-09-09 17:36:44 INFO     one.py:1288 Loading pupil data\u001b[0m\n"
     ]
    },
    {
     "name": "stderr",
     "output_type": "stream",
     "text": [
      "/opt/anaconda3/envs/iblenv/lib/python3.10/site-packages/one/util.py:428: ALFWarning: Multiple revisions: \"2025-06-18\", \"\"\n",
      "  warnings.warn(f'Multiple revisions: {rev_list}', alferr.ALFWarning)\n"
     ]
    },
    {
     "name": "stdout",
     "output_type": "stream",
     "text": [
      "\u001b[36m2025-09-09 17:36:51 INFO     one.py:1288 Loading trials data\u001b[0m\n"
     ]
    },
    {
     "name": "stderr",
     "output_type": "stream",
     "text": [
      "/opt/anaconda3/envs/iblenv/lib/python3.10/site-packages/one/util.py:428: ALFWarning: Multiple revisions: \"\", \"2025-03-03\"\n",
      "  warnings.warn(f'Multiple revisions: {rev_list}', alferr.ALFWarning)\n"
     ]
    },
    {
     "name": "stdout",
     "output_type": "stream",
     "text": [
      "\u001b[36m2025-09-09 17:36:52 INFO     one.py:1288 Loading wheel data\u001b[0m\n",
      "\u001b[36m2025-09-09 17:36:53 INFO     one.py:1288 Loading motion_energy data\u001b[0m\n"
     ]
    },
    {
     "name": "stderr",
     "output_type": "stream",
     "text": [
      "/opt/anaconda3/envs/iblenv/lib/python3.10/site-packages/one/util.py:428: ALFWarning: Multiple revisions: \"\", \"2025-05-30\"\n",
      "  warnings.warn(f'Multiple revisions: {rev_list}', alferr.ALFWarning)\n",
      "/opt/anaconda3/envs/iblenv/lib/python3.10/site-packages/one/util.py:428: ALFWarning: Multiple revisions: \"\", \"2025-06-01\"\n",
      "  warnings.warn(f'Multiple revisions: {rev_list}', alferr.ALFWarning)\n",
      "/opt/anaconda3/envs/iblenv/lib/python3.10/site-packages/one/util.py:428: ALFWarning: Multiple revisions: \"\", \"2025-06-02\"\n",
      "  warnings.warn(f'Multiple revisions: {rev_list}', alferr.ALFWarning)\n"
     ]
    },
    {
     "name": "stdout",
     "output_type": "stream",
     "text": [
      "\u001b[36m2025-09-09 17:36:54 INFO     one.py:1288 Loading pupil data\u001b[0m\n"
     ]
    },
    {
     "name": "stderr",
     "output_type": "stream",
     "text": [
      "/opt/anaconda3/envs/iblenv/lib/python3.10/site-packages/one/util.py:428: ALFWarning: Multiple revisions: \"2025-06-18\", \"\"\n",
      "  warnings.warn(f'Multiple revisions: {rev_list}', alferr.ALFWarning)\n"
     ]
    },
    {
     "name": "stdout",
     "output_type": "stream",
     "text": [
      "\u001b[1;33m2025-09-09 17:36:54 WARNING  one.py:1292 Could not load pupil data.\u001b[0m\n",
      "\u001b[36m2025-09-09 17:37:01 INFO     one.py:1288 Loading trials data\u001b[0m\n"
     ]
    },
    {
     "name": "stderr",
     "output_type": "stream",
     "text": [
      "/opt/anaconda3/envs/iblenv/lib/python3.10/site-packages/one/util.py:428: ALFWarning: Multiple revisions: \"\", \"2025-03-03\"\n",
      "  warnings.warn(f'Multiple revisions: {rev_list}', alferr.ALFWarning)\n"
     ]
    },
    {
     "name": "stdout",
     "output_type": "stream",
     "text": [
      "\u001b[36m2025-09-09 17:37:02 INFO     one.py:1288 Loading wheel data\u001b[0m\n",
      "\u001b[36m2025-09-09 17:37:03 INFO     one.py:1288 Loading motion_energy data\u001b[0m\n"
     ]
    },
    {
     "name": "stderr",
     "output_type": "stream",
     "text": [
      "/opt/anaconda3/envs/iblenv/lib/python3.10/site-packages/one/util.py:428: ALFWarning: Multiple revisions: \"\", \"2025-05-30\"\n",
      "  warnings.warn(f'Multiple revisions: {rev_list}', alferr.ALFWarning)\n",
      "/opt/anaconda3/envs/iblenv/lib/python3.10/site-packages/one/util.py:428: ALFWarning: Multiple revisions: \"\", \"2025-06-01\"\n",
      "  warnings.warn(f'Multiple revisions: {rev_list}', alferr.ALFWarning)\n",
      "/opt/anaconda3/envs/iblenv/lib/python3.10/site-packages/one/util.py:428: ALFWarning: Multiple revisions: \"\", \"2025-06-02\"\n",
      "  warnings.warn(f'Multiple revisions: {rev_list}', alferr.ALFWarning)\n"
     ]
    },
    {
     "name": "stdout",
     "output_type": "stream",
     "text": [
      "\u001b[36m2025-09-09 17:37:04 INFO     one.py:1288 Loading pupil data\u001b[0m\n"
     ]
    },
    {
     "name": "stderr",
     "output_type": "stream",
     "text": [
      "/opt/anaconda3/envs/iblenv/lib/python3.10/site-packages/one/util.py:428: ALFWarning: Multiple revisions: \"2025-06-04\", \"\"\n",
      "  warnings.warn(f'Multiple revisions: {rev_list}', alferr.ALFWarning)\n"
     ]
    },
    {
     "name": "stdout",
     "output_type": "stream",
     "text": [
      "\u001b[36m2025-09-09 17:37:11 INFO     one.py:1288 Loading trials data\u001b[0m\n"
     ]
    },
    {
     "name": "stderr",
     "output_type": "stream",
     "text": [
      "/opt/anaconda3/envs/iblenv/lib/python3.10/site-packages/one/util.py:428: ALFWarning: Multiple revisions: \"\", \"2025-03-03\"\n",
      "  warnings.warn(f'Multiple revisions: {rev_list}', alferr.ALFWarning)\n"
     ]
    },
    {
     "name": "stdout",
     "output_type": "stream",
     "text": [
      "\u001b[36m2025-09-09 17:37:13 INFO     one.py:1288 Loading wheel data\u001b[0m\n",
      "\u001b[36m2025-09-09 17:37:14 INFO     one.py:1288 Loading motion_energy data\u001b[0m\n"
     ]
    },
    {
     "name": "stderr",
     "output_type": "stream",
     "text": [
      "/opt/anaconda3/envs/iblenv/lib/python3.10/site-packages/one/util.py:428: ALFWarning: Multiple revisions: \"\", \"2025-05-30\"\n",
      "  warnings.warn(f'Multiple revisions: {rev_list}', alferr.ALFWarning)\n",
      "/opt/anaconda3/envs/iblenv/lib/python3.10/site-packages/one/util.py:428: ALFWarning: Multiple revisions: \"\", \"2025-06-01\"\n",
      "  warnings.warn(f'Multiple revisions: {rev_list}', alferr.ALFWarning)\n",
      "/opt/anaconda3/envs/iblenv/lib/python3.10/site-packages/one/util.py:428: ALFWarning: Multiple revisions: \"\", \"2025-06-02\"\n",
      "  warnings.warn(f'Multiple revisions: {rev_list}', alferr.ALFWarning)\n"
     ]
    },
    {
     "name": "stdout",
     "output_type": "stream",
     "text": [
      "\u001b[36m2025-09-09 17:37:15 INFO     one.py:1288 Loading pupil data\u001b[0m\n"
     ]
    },
    {
     "name": "stderr",
     "output_type": "stream",
     "text": [
      "/opt/anaconda3/envs/iblenv/lib/python3.10/site-packages/one/util.py:428: ALFWarning: Multiple revisions: \"2025-06-04\", \"\"\n",
      "  warnings.warn(f'Multiple revisions: {rev_list}', alferr.ALFWarning)\n",
      "/opt/anaconda3/envs/iblenv/lib/python3.10/site-packages/one/util.py:428: ALFWarning: Multiple revisions: \"2025-05-30\", \"\"\n",
      "  warnings.warn(f'Multiple revisions: {rev_list}', alferr.ALFWarning)\n"
     ]
    },
    {
     "name": "stdout",
     "output_type": "stream",
     "text": [
      "\u001b[36m2025-09-09 17:37:22 INFO     one.py:1288 Loading trials data\u001b[0m\n"
     ]
    },
    {
     "name": "stderr",
     "output_type": "stream",
     "text": [
      "/opt/anaconda3/envs/iblenv/lib/python3.10/site-packages/one/util.py:428: ALFWarning: Multiple revisions: \"\", \"2025-03-03\"\n",
      "  warnings.warn(f'Multiple revisions: {rev_list}', alferr.ALFWarning)\n"
     ]
    },
    {
     "name": "stdout",
     "output_type": "stream",
     "text": [
      "\u001b[36m2025-09-09 17:37:23 INFO     one.py:1288 Loading wheel data\u001b[0m\n",
      "\u001b[36m2025-09-09 17:37:24 INFO     one.py:1288 Loading motion_energy data\u001b[0m\n"
     ]
    },
    {
     "name": "stderr",
     "output_type": "stream",
     "text": [
      "/opt/anaconda3/envs/iblenv/lib/python3.10/site-packages/one/util.py:428: ALFWarning: Multiple revisions: \"\", \"2025-05-30\"\n",
      "  warnings.warn(f'Multiple revisions: {rev_list}', alferr.ALFWarning)\n",
      "/opt/anaconda3/envs/iblenv/lib/python3.10/site-packages/one/util.py:428: ALFWarning: Multiple revisions: \"\", \"2025-06-01\"\n",
      "  warnings.warn(f'Multiple revisions: {rev_list}', alferr.ALFWarning)\n",
      "/opt/anaconda3/envs/iblenv/lib/python3.10/site-packages/one/util.py:428: ALFWarning: Multiple revisions: \"\", \"2025-06-02\"\n",
      "  warnings.warn(f'Multiple revisions: {rev_list}', alferr.ALFWarning)\n"
     ]
    },
    {
     "name": "stdout",
     "output_type": "stream",
     "text": [
      "\u001b[36m2025-09-09 17:37:25 INFO     one.py:1288 Loading pupil data\u001b[0m\n"
     ]
    },
    {
     "name": "stderr",
     "output_type": "stream",
     "text": [
      "/opt/anaconda3/envs/iblenv/lib/python3.10/site-packages/one/util.py:428: ALFWarning: Multiple revisions: \"2025-06-20\", \"\"\n",
      "  warnings.warn(f'Multiple revisions: {rev_list}', alferr.ALFWarning)\n",
      "/opt/anaconda3/envs/iblenv/lib/python3.10/site-packages/one/util.py:428: ALFWarning: Multiple revisions: \"2025-05-30\", \"\"\n",
      "  warnings.warn(f'Multiple revisions: {rev_list}', alferr.ALFWarning)\n",
      "(S3) /Users/ineslaranjeira/Downloads/FlatIron/mainenlab/Subjects/ZFM-02369/2021-05-19/001/alf/_ibl_rightCamera.lightningPose.pqt: 100%|██████████| 411M/411M [01:06<00:00, 6.22MB/s] \n"
     ]
    },
    {
     "name": "stdout",
     "output_type": "stream",
     "text": [
      "\u001b[36m2025-09-09 17:38:40 INFO     one.py:1288 Loading trials data\u001b[0m\n"
     ]
    },
    {
     "name": "stderr",
     "output_type": "stream",
     "text": [
      "/opt/anaconda3/envs/iblenv/lib/python3.10/site-packages/one/util.py:428: ALFWarning: Multiple revisions: \"\", \"2025-03-03\"\n",
      "  warnings.warn(f'Multiple revisions: {rev_list}', alferr.ALFWarning)\n"
     ]
    },
    {
     "name": "stdout",
     "output_type": "stream",
     "text": [
      "\u001b[36m2025-09-09 17:38:41 INFO     one.py:1288 Loading wheel data\u001b[0m\n",
      "\u001b[36m2025-09-09 17:38:42 INFO     one.py:1288 Loading motion_energy data\u001b[0m\n"
     ]
    },
    {
     "name": "stderr",
     "output_type": "stream",
     "text": [
      "/opt/anaconda3/envs/iblenv/lib/python3.10/site-packages/one/util.py:428: ALFWarning: Multiple revisions: \"\", \"2025-05-30\"\n",
      "  warnings.warn(f'Multiple revisions: {rev_list}', alferr.ALFWarning)\n",
      "/opt/anaconda3/envs/iblenv/lib/python3.10/site-packages/one/util.py:428: ALFWarning: Multiple revisions: \"\", \"2025-06-01\"\n",
      "  warnings.warn(f'Multiple revisions: {rev_list}', alferr.ALFWarning)\n",
      "/opt/anaconda3/envs/iblenv/lib/python3.10/site-packages/one/util.py:428: ALFWarning: Multiple revisions: \"\", \"2025-06-02\"\n",
      "  warnings.warn(f'Multiple revisions: {rev_list}', alferr.ALFWarning)\n"
     ]
    },
    {
     "name": "stdout",
     "output_type": "stream",
     "text": [
      "\u001b[36m2025-09-09 17:38:43 INFO     one.py:1288 Loading pupil data\u001b[0m\n"
     ]
    },
    {
     "name": "stderr",
     "output_type": "stream",
     "text": [
      "/opt/anaconda3/envs/iblenv/lib/python3.10/site-packages/one/util.py:428: ALFWarning: Multiple revisions: \"2025-06-20\", \"\"\n",
      "  warnings.warn(f'Multiple revisions: {rev_list}', alferr.ALFWarning)\n"
     ]
    },
    {
     "name": "stdout",
     "output_type": "stream",
     "text": [
      "\u001b[36m2025-09-09 17:38:51 INFO     one.py:1288 Loading trials data\u001b[0m\n"
     ]
    },
    {
     "name": "stderr",
     "output_type": "stream",
     "text": [
      "/opt/anaconda3/envs/iblenv/lib/python3.10/site-packages/one/util.py:428: ALFWarning: Multiple revisions: \"\", \"2025-03-03\"\n",
      "  warnings.warn(f'Multiple revisions: {rev_list}', alferr.ALFWarning)\n"
     ]
    },
    {
     "name": "stdout",
     "output_type": "stream",
     "text": [
      "\u001b[36m2025-09-09 17:38:52 INFO     one.py:1288 Loading wheel data\u001b[0m\n",
      "\u001b[36m2025-09-09 17:38:53 INFO     one.py:1288 Loading motion_energy data\u001b[0m\n"
     ]
    },
    {
     "name": "stderr",
     "output_type": "stream",
     "text": [
      "/opt/anaconda3/envs/iblenv/lib/python3.10/site-packages/one/util.py:428: ALFWarning: Multiple revisions: \"\", \"2025-05-30\"\n",
      "  warnings.warn(f'Multiple revisions: {rev_list}', alferr.ALFWarning)\n",
      "/opt/anaconda3/envs/iblenv/lib/python3.10/site-packages/one/util.py:428: ALFWarning: Multiple revisions: \"\", \"2025-06-01\"\n",
      "  warnings.warn(f'Multiple revisions: {rev_list}', alferr.ALFWarning)\n",
      "/opt/anaconda3/envs/iblenv/lib/python3.10/site-packages/one/util.py:428: ALFWarning: Multiple revisions: \"\", \"2025-06-02\"\n",
      "  warnings.warn(f'Multiple revisions: {rev_list}', alferr.ALFWarning)\n"
     ]
    },
    {
     "name": "stdout",
     "output_type": "stream",
     "text": [
      "\u001b[36m2025-09-09 17:38:54 INFO     one.py:1288 Loading pupil data\u001b[0m\n"
     ]
    },
    {
     "name": "stderr",
     "output_type": "stream",
     "text": [
      "/opt/anaconda3/envs/iblenv/lib/python3.10/site-packages/one/util.py:428: ALFWarning: Multiple revisions: \"2025-06-04\", \"\"\n",
      "  warnings.warn(f'Multiple revisions: {rev_list}', alferr.ALFWarning)\n"
     ]
    },
    {
     "name": "stdout",
     "output_type": "stream",
     "text": [
      "\u001b[1;33m2025-09-09 17:38:55 WARNING  one.py:1292 Could not load pupil data.\u001b[0m\n"
     ]
    },
    {
     "name": "stderr",
     "output_type": "stream",
     "text": [
      "local file size mismatch on dataset: mainenlab/Subjects/ZFM-02370/2021-04-28/001/alf/_ibl_leftCamera.lightningPose.pqt\n",
      "(S3) /Users/ineslaranjeira/Downloads/FlatIron/mainenlab/Subjects/ZFM-02370/2021-04-28/001/alf/_ibl_leftCamera.lightningPose.pqt: 100%|██████████| 124M/124M [00:14<00:00, 8.49MB/s] \n",
      "(S3) /Users/ineslaranjeira/Downloads/FlatIron/mainenlab/Subjects/ZFM-02370/2021-04-28/001/alf/_ibl_rightCamera.lightningPose.pqt: 100%|██████████| 282M/282M [00:26<00:00, 10.7MB/s] \n"
     ]
    },
    {
     "name": "stdout",
     "output_type": "stream",
     "text": [
      "\u001b[36m2025-09-09 17:39:43 INFO     one.py:1288 Loading trials data\u001b[0m\n"
     ]
    },
    {
     "name": "stderr",
     "output_type": "stream",
     "text": [
      "/opt/anaconda3/envs/iblenv/lib/python3.10/site-packages/one/util.py:428: ALFWarning: Multiple revisions: \"\", \"2025-03-03\"\n",
      "  warnings.warn(f'Multiple revisions: {rev_list}', alferr.ALFWarning)\n"
     ]
    },
    {
     "name": "stdout",
     "output_type": "stream",
     "text": [
      "\u001b[36m2025-09-09 17:39:44 INFO     one.py:1288 Loading wheel data\u001b[0m\n",
      "\u001b[36m2025-09-09 17:39:45 INFO     one.py:1288 Loading motion_energy data\u001b[0m\n"
     ]
    },
    {
     "name": "stderr",
     "output_type": "stream",
     "text": [
      "/opt/anaconda3/envs/iblenv/lib/python3.10/site-packages/one/util.py:428: ALFWarning: Multiple revisions: \"\", \"2025-05-30\"\n",
      "  warnings.warn(f'Multiple revisions: {rev_list}', alferr.ALFWarning)\n",
      "/opt/anaconda3/envs/iblenv/lib/python3.10/site-packages/one/util.py:428: ALFWarning: Multiple revisions: \"\", \"2025-06-01\"\n",
      "  warnings.warn(f'Multiple revisions: {rev_list}', alferr.ALFWarning)\n",
      "/opt/anaconda3/envs/iblenv/lib/python3.10/site-packages/one/util.py:428: ALFWarning: Multiple revisions: \"\", \"2025-06-02\"\n",
      "  warnings.warn(f'Multiple revisions: {rev_list}', alferr.ALFWarning)\n"
     ]
    },
    {
     "name": "stdout",
     "output_type": "stream",
     "text": [
      "\u001b[36m2025-09-09 17:39:46 INFO     one.py:1288 Loading pupil data\u001b[0m\n"
     ]
    },
    {
     "name": "stderr",
     "output_type": "stream",
     "text": [
      "/opt/anaconda3/envs/iblenv/lib/python3.10/site-packages/one/util.py:428: ALFWarning: Multiple revisions: \"2025-06-18\", \"\"\n",
      "  warnings.warn(f'Multiple revisions: {rev_list}', alferr.ALFWarning)\n",
      "/opt/anaconda3/envs/iblenv/lib/python3.10/site-packages/one/util.py:428: ALFWarning: Multiple revisions: \"2025-05-30\", \"\"\n",
      "  warnings.warn(f'Multiple revisions: {rev_list}', alferr.ALFWarning)\n",
      "(S3) /Users/ineslaranjeira/Downloads/FlatIron/mainenlab/Subjects/ZFM-02372/2021-06-01/002/alf/_ibl_rightCamera.lightningPose.pqt: 100%|██████████| 314M/314M [00:27<00:00, 11.3MB/s] \n"
     ]
    },
    {
     "name": "stdout",
     "output_type": "stream",
     "text": [
      "\u001b[36m2025-09-09 17:40:21 INFO     one.py:1288 Loading trials data\u001b[0m\n"
     ]
    },
    {
     "name": "stderr",
     "output_type": "stream",
     "text": [
      "/opt/anaconda3/envs/iblenv/lib/python3.10/site-packages/one/util.py:428: ALFWarning: Multiple revisions: \"\", \"2025-03-03\"\n",
      "  warnings.warn(f'Multiple revisions: {rev_list}', alferr.ALFWarning)\n"
     ]
    },
    {
     "name": "stdout",
     "output_type": "stream",
     "text": [
      "\u001b[36m2025-09-09 17:40:22 INFO     one.py:1288 Loading wheel data\u001b[0m\n",
      "\u001b[36m2025-09-09 17:40:23 INFO     one.py:1288 Loading motion_energy data\u001b[0m\n"
     ]
    },
    {
     "name": "stderr",
     "output_type": "stream",
     "text": [
      "/opt/anaconda3/envs/iblenv/lib/python3.10/site-packages/one/util.py:428: ALFWarning: Multiple revisions: \"\", \"2025-05-30\"\n",
      "  warnings.warn(f'Multiple revisions: {rev_list}', alferr.ALFWarning)\n",
      "/opt/anaconda3/envs/iblenv/lib/python3.10/site-packages/one/util.py:428: ALFWarning: Multiple revisions: \"\", \"2025-06-01\"\n",
      "  warnings.warn(f'Multiple revisions: {rev_list}', alferr.ALFWarning)\n",
      "/opt/anaconda3/envs/iblenv/lib/python3.10/site-packages/one/util.py:428: ALFWarning: Multiple revisions: \"\", \"2025-06-02\"\n",
      "  warnings.warn(f'Multiple revisions: {rev_list}', alferr.ALFWarning)\n"
     ]
    },
    {
     "name": "stdout",
     "output_type": "stream",
     "text": [
      "\u001b[36m2025-09-09 17:40:25 INFO     one.py:1288 Loading pupil data\u001b[0m\n"
     ]
    },
    {
     "name": "stderr",
     "output_type": "stream",
     "text": [
      "/opt/anaconda3/envs/iblenv/lib/python3.10/site-packages/one/util.py:428: ALFWarning: Multiple revisions: \"2025-06-20\", \"\"\n",
      "  warnings.warn(f'Multiple revisions: {rev_list}', alferr.ALFWarning)\n",
      "(S3) /Users/ineslaranjeira/Downloads/FlatIron/mainenlab/Subjects/ZFM-02372/2021-06-02/002/alf/_ibl_rightCamera.lightningPose.pqt: 100%|██████████| 289M/289M [00:27<00:00, 10.4MB/s] \n"
     ]
    },
    {
     "name": "stdout",
     "output_type": "stream",
     "text": [
      "\u001b[36m2025-09-09 17:40:59 INFO     one.py:1288 Loading trials data\u001b[0m\n"
     ]
    },
    {
     "name": "stderr",
     "output_type": "stream",
     "text": [
      "/opt/anaconda3/envs/iblenv/lib/python3.10/site-packages/one/util.py:428: ALFWarning: Multiple revisions: \"\", \"2025-03-03\"\n",
      "  warnings.warn(f'Multiple revisions: {rev_list}', alferr.ALFWarning)\n"
     ]
    },
    {
     "name": "stdout",
     "output_type": "stream",
     "text": [
      "\u001b[36m2025-09-09 17:41:00 INFO     one.py:1288 Loading wheel data\u001b[0m\n",
      "\u001b[36m2025-09-09 17:41:01 INFO     one.py:1288 Loading motion_energy data\u001b[0m\n"
     ]
    },
    {
     "name": "stderr",
     "output_type": "stream",
     "text": [
      "/opt/anaconda3/envs/iblenv/lib/python3.10/site-packages/one/util.py:428: ALFWarning: Multiple revisions: \"\", \"2025-05-30\"\n",
      "  warnings.warn(f'Multiple revisions: {rev_list}', alferr.ALFWarning)\n",
      "/opt/anaconda3/envs/iblenv/lib/python3.10/site-packages/one/util.py:428: ALFWarning: Multiple revisions: \"\", \"2025-06-01\"\n",
      "  warnings.warn(f'Multiple revisions: {rev_list}', alferr.ALFWarning)\n",
      "/opt/anaconda3/envs/iblenv/lib/python3.10/site-packages/one/util.py:428: ALFWarning: Multiple revisions: \"\", \"2025-06-02\"\n",
      "  warnings.warn(f'Multiple revisions: {rev_list}', alferr.ALFWarning)\n"
     ]
    },
    {
     "name": "stdout",
     "output_type": "stream",
     "text": [
      "\u001b[36m2025-09-09 17:41:02 INFO     one.py:1288 Loading pupil data\u001b[0m\n"
     ]
    },
    {
     "name": "stderr",
     "output_type": "stream",
     "text": [
      "/opt/anaconda3/envs/iblenv/lib/python3.10/site-packages/one/util.py:428: ALFWarning: Multiple revisions: \"2025-06-18\", \"\"\n",
      "  warnings.warn(f'Multiple revisions: {rev_list}', alferr.ALFWarning)\n"
     ]
    },
    {
     "name": "stdout",
     "output_type": "stream",
     "text": [
      "\u001b[1;33m2025-09-09 17:41:03 WARNING  one.py:1292 Could not load pupil data.\u001b[0m\n"
     ]
    },
    {
     "name": "stderr",
     "output_type": "stream",
     "text": [
      "/opt/anaconda3/envs/iblenv/lib/python3.10/site-packages/one/util.py:428: ALFWarning: Multiple revisions: \"2025-05-30\", \"\"\n",
      "  warnings.warn(f'Multiple revisions: {rev_list}', alferr.ALFWarning)\n"
     ]
    },
    {
     "name": "stdout",
     "output_type": "stream",
     "text": [
      "\u001b[36m2025-09-09 17:41:09 INFO     one.py:1288 Loading trials data\u001b[0m\n"
     ]
    },
    {
     "name": "stderr",
     "output_type": "stream",
     "text": [
      "/opt/anaconda3/envs/iblenv/lib/python3.10/site-packages/one/util.py:428: ALFWarning: Multiple revisions: \"\", \"2025-03-03\"\n",
      "  warnings.warn(f'Multiple revisions: {rev_list}', alferr.ALFWarning)\n"
     ]
    },
    {
     "name": "stdout",
     "output_type": "stream",
     "text": [
      "\u001b[36m2025-09-09 17:41:10 INFO     one.py:1288 Loading wheel data\u001b[0m\n",
      "\u001b[36m2025-09-09 17:41:11 INFO     one.py:1288 Loading motion_energy data\u001b[0m\n"
     ]
    },
    {
     "name": "stderr",
     "output_type": "stream",
     "text": [
      "/opt/anaconda3/envs/iblenv/lib/python3.10/site-packages/one/util.py:428: ALFWarning: Multiple revisions: \"\", \"2025-05-30\"\n",
      "  warnings.warn(f'Multiple revisions: {rev_list}', alferr.ALFWarning)\n",
      "/opt/anaconda3/envs/iblenv/lib/python3.10/site-packages/one/util.py:428: ALFWarning: Multiple revisions: \"\", \"2025-06-01\"\n",
      "  warnings.warn(f'Multiple revisions: {rev_list}', alferr.ALFWarning)\n",
      "/opt/anaconda3/envs/iblenv/lib/python3.10/site-packages/one/util.py:428: ALFWarning: Multiple revisions: \"\", \"2025-06-02\"\n",
      "  warnings.warn(f'Multiple revisions: {rev_list}', alferr.ALFWarning)\n"
     ]
    },
    {
     "name": "stdout",
     "output_type": "stream",
     "text": [
      "\u001b[36m2025-09-09 17:41:13 INFO     one.py:1288 Loading pupil data\u001b[0m\n"
     ]
    },
    {
     "name": "stderr",
     "output_type": "stream",
     "text": [
      "/opt/anaconda3/envs/iblenv/lib/python3.10/site-packages/one/util.py:428: ALFWarning: Multiple revisions: \"2025-06-20\", \"\"\n",
      "  warnings.warn(f'Multiple revisions: {rev_list}', alferr.ALFWarning)\n",
      "/opt/anaconda3/envs/iblenv/lib/python3.10/site-packages/one/util.py:428: ALFWarning: Multiple revisions: \"2025-05-31\", \"\"\n",
      "  warnings.warn(f'Multiple revisions: {rev_list}', alferr.ALFWarning)\n",
      "(S3) /Users/ineslaranjeira/Downloads/FlatIron/mainenlab/Subjects/ZFM-04308/2022-07-26/001/alf/_ibl_rightCamera.lightningPose.pqt: 100%|██████████| 294M/294M [00:21<00:00, 13.8MB/s] \n"
     ]
    },
    {
     "name": "stdout",
     "output_type": "stream",
     "text": [
      "\u001b[36m2025-09-09 17:41:41 INFO     one.py:1288 Loading trials data\u001b[0m\n"
     ]
    },
    {
     "name": "stderr",
     "output_type": "stream",
     "text": [
      "/opt/anaconda3/envs/iblenv/lib/python3.10/site-packages/one/util.py:428: ALFWarning: Multiple revisions: \"\", \"2025-03-03\"\n",
      "  warnings.warn(f'Multiple revisions: {rev_list}', alferr.ALFWarning)\n"
     ]
    },
    {
     "name": "stdout",
     "output_type": "stream",
     "text": [
      "\u001b[36m2025-09-09 17:41:42 INFO     one.py:1288 Loading wheel data\u001b[0m\n",
      "\u001b[36m2025-09-09 17:41:43 INFO     one.py:1288 Loading motion_energy data\u001b[0m\n"
     ]
    },
    {
     "name": "stderr",
     "output_type": "stream",
     "text": [
      "/opt/anaconda3/envs/iblenv/lib/python3.10/site-packages/one/util.py:428: ALFWarning: Multiple revisions: \"\", \"2025-05-31\"\n",
      "  warnings.warn(f'Multiple revisions: {rev_list}', alferr.ALFWarning)\n",
      "/opt/anaconda3/envs/iblenv/lib/python3.10/site-packages/one/util.py:428: ALFWarning: Multiple revisions: \"\", \"2025-06-01\"\n",
      "  warnings.warn(f'Multiple revisions: {rev_list}', alferr.ALFWarning)\n",
      "/opt/anaconda3/envs/iblenv/lib/python3.10/site-packages/one/util.py:428: ALFWarning: Multiple revisions: \"\", \"2025-06-02\"\n",
      "  warnings.warn(f'Multiple revisions: {rev_list}', alferr.ALFWarning)\n"
     ]
    },
    {
     "name": "stdout",
     "output_type": "stream",
     "text": [
      "\u001b[36m2025-09-09 17:41:44 INFO     one.py:1288 Loading pupil data\u001b[0m\n"
     ]
    },
    {
     "name": "stderr",
     "output_type": "stream",
     "text": [
      "/opt/anaconda3/envs/iblenv/lib/python3.10/site-packages/one/util.py:428: ALFWarning: Multiple revisions: \"2025-06-20\", \"\"\n",
      "  warnings.warn(f'Multiple revisions: {rev_list}', alferr.ALFWarning)\n",
      "local file size mismatch on dataset: mainenlab/Subjects/ZFM-04308/2022-07-27/001/alf/_ibl_leftCamera.lightningPose.pqt\n",
      "(S3) /Users/ineslaranjeira/Downloads/FlatIron/mainenlab/Subjects/ZFM-04308/2022-07-27/001/alf/_ibl_leftCamera.lightningPose.pqt: 100%|██████████| 138M/138M [00:13<00:00, 10.1MB/s] \n",
      "(S3) /Users/ineslaranjeira/Downloads/FlatIron/mainenlab/Subjects/ZFM-04308/2022-07-27/001/alf/_ibl_rightCamera.lightningPose.pqt: 100%|██████████| 320M/320M [00:22<00:00, 14.3MB/s] \n"
     ]
    },
    {
     "name": "stdout",
     "output_type": "stream",
     "text": [
      "\u001b[36m2025-09-09 17:42:28 INFO     one.py:1288 Loading trials data\u001b[0m\n"
     ]
    },
    {
     "name": "stderr",
     "output_type": "stream",
     "text": [
      "/opt/anaconda3/envs/iblenv/lib/python3.10/site-packages/one/util.py:428: ALFWarning: Multiple revisions: \"\", \"2025-03-03\"\n",
      "  warnings.warn(f'Multiple revisions: {rev_list}', alferr.ALFWarning)\n"
     ]
    },
    {
     "name": "stdout",
     "output_type": "stream",
     "text": [
      "\u001b[36m2025-09-09 17:42:29 INFO     one.py:1288 Loading wheel data\u001b[0m\n",
      "\u001b[36m2025-09-09 17:42:30 INFO     one.py:1288 Loading motion_energy data\u001b[0m\n"
     ]
    },
    {
     "name": "stderr",
     "output_type": "stream",
     "text": [
      "/opt/anaconda3/envs/iblenv/lib/python3.10/site-packages/one/util.py:428: ALFWarning: Multiple revisions: \"\", \"2025-05-31\"\n",
      "  warnings.warn(f'Multiple revisions: {rev_list}', alferr.ALFWarning)\n",
      "/opt/anaconda3/envs/iblenv/lib/python3.10/site-packages/one/util.py:428: ALFWarning: Multiple revisions: \"\", \"2025-06-01\"\n",
      "  warnings.warn(f'Multiple revisions: {rev_list}', alferr.ALFWarning)\n",
      "/opt/anaconda3/envs/iblenv/lib/python3.10/site-packages/one/util.py:428: ALFWarning: Multiple revisions: \"\", \"2025-06-02\"\n",
      "  warnings.warn(f'Multiple revisions: {rev_list}', alferr.ALFWarning)\n"
     ]
    },
    {
     "name": "stdout",
     "output_type": "stream",
     "text": [
      "\u001b[36m2025-09-09 17:42:31 INFO     one.py:1288 Loading pupil data\u001b[0m\n"
     ]
    },
    {
     "name": "stderr",
     "output_type": "stream",
     "text": [
      "/opt/anaconda3/envs/iblenv/lib/python3.10/site-packages/one/util.py:428: ALFWarning: Multiple revisions: \"2025-06-18\", \"\"\n",
      "  warnings.warn(f'Multiple revisions: {rev_list}', alferr.ALFWarning)\n",
      "local file size mismatch on dataset: mrsicflogellab/Subjects/SWC_039/2020-09-10/001/alf/_ibl_leftCamera.lightningPose.pqt\n",
      "(S3) /Users/ineslaranjeira/Downloads/FlatIron/mrsicflogellab/Subjects/SWC_039/2020-09-10/001/alf/_ibl_leftCamera.lightningPose.pqt: 100%|██████████| 121M/121M [00:09<00:00, 13.3MB/s] \n",
      "(S3) /Users/ineslaranjeira/Downloads/FlatIron/mrsicflogellab/Subjects/SWC_039/2020-09-10/001/alf/_ibl_rightCamera.lightningPose.pqt: 100%|██████████| 276M/276M [00:27<00:00, 10.2MB/s] \n"
     ]
    },
    {
     "name": "stdout",
     "output_type": "stream",
     "text": [
      "\u001b[36m2025-09-09 17:43:16 INFO     one.py:1288 Loading trials data\u001b[0m\n"
     ]
    },
    {
     "name": "stderr",
     "output_type": "stream",
     "text": [
      "/opt/anaconda3/envs/iblenv/lib/python3.10/site-packages/one/util.py:428: ALFWarning: Multiple revisions: \"\", \"2025-03-03\"\n",
      "  warnings.warn(f'Multiple revisions: {rev_list}', alferr.ALFWarning)\n"
     ]
    },
    {
     "name": "stdout",
     "output_type": "stream",
     "text": [
      "\u001b[36m2025-09-09 17:43:17 INFO     one.py:1288 Loading wheel data\u001b[0m\n",
      "\u001b[36m2025-09-09 17:43:18 INFO     one.py:1288 Loading motion_energy data\u001b[0m\n"
     ]
    },
    {
     "name": "stderr",
     "output_type": "stream",
     "text": [
      "/opt/anaconda3/envs/iblenv/lib/python3.10/site-packages/one/util.py:428: ALFWarning: Multiple revisions: \"\", \"2025-05-30\"\n",
      "  warnings.warn(f'Multiple revisions: {rev_list}', alferr.ALFWarning)\n",
      "/opt/anaconda3/envs/iblenv/lib/python3.10/site-packages/one/util.py:428: ALFWarning: Multiple revisions: \"\", \"2025-06-01\"\n",
      "  warnings.warn(f'Multiple revisions: {rev_list}', alferr.ALFWarning)\n",
      "/opt/anaconda3/envs/iblenv/lib/python3.10/site-packages/one/util.py:428: ALFWarning: Multiple revisions: \"\", \"2025-06-02\"\n",
      "  warnings.warn(f'Multiple revisions: {rev_list}', alferr.ALFWarning)\n"
     ]
    },
    {
     "name": "stdout",
     "output_type": "stream",
     "text": [
      "\u001b[36m2025-09-09 17:43:19 INFO     one.py:1288 Loading pupil data\u001b[0m\n"
     ]
    },
    {
     "name": "stderr",
     "output_type": "stream",
     "text": [
      "/opt/anaconda3/envs/iblenv/lib/python3.10/site-packages/one/util.py:428: ALFWarning: Multiple revisions: \"2025-06-18\", \"\"\n",
      "  warnings.warn(f'Multiple revisions: {rev_list}', alferr.ALFWarning)\n",
      "local file size mismatch on dataset: mrsicflogellab/Subjects/SWC_052/2020-10-17/001/alf/_ibl_leftCamera.lightningPose.pqt\n",
      "(S3) /Users/ineslaranjeira/Downloads/FlatIron/mrsicflogellab/Subjects/SWC_052/2020-10-17/001/alf/_ibl_leftCamera.lightningPose.pqt: 100%|██████████| 136M/136M [00:15<00:00, 8.66MB/s] \n",
      "(S3) /Users/ineslaranjeira/Downloads/FlatIron/mrsicflogellab/Subjects/SWC_052/2020-10-17/001/alf/_ibl_rightCamera.lightningPose.pqt: 100%|██████████| 317M/317M [00:34<00:00, 9.26MB/s] \n"
     ]
    },
    {
     "name": "stdout",
     "output_type": "stream",
     "text": [
      "\u001b[36m2025-09-09 17:44:17 INFO     one.py:1288 Loading trials data\u001b[0m\n"
     ]
    },
    {
     "name": "stderr",
     "output_type": "stream",
     "text": [
      "/opt/anaconda3/envs/iblenv/lib/python3.10/site-packages/one/util.py:428: ALFWarning: Multiple revisions: \"\", \"2025-03-03\"\n",
      "  warnings.warn(f'Multiple revisions: {rev_list}', alferr.ALFWarning)\n"
     ]
    },
    {
     "name": "stdout",
     "output_type": "stream",
     "text": [
      "\u001b[36m2025-09-09 17:44:18 INFO     one.py:1288 Loading wheel data\u001b[0m\n",
      "\u001b[36m2025-09-09 17:44:20 INFO     one.py:1288 Loading motion_energy data\u001b[0m\n"
     ]
    },
    {
     "name": "stderr",
     "output_type": "stream",
     "text": [
      "/opt/anaconda3/envs/iblenv/lib/python3.10/site-packages/one/util.py:428: ALFWarning: Multiple revisions: \"\", \"2025-05-30\"\n",
      "  warnings.warn(f'Multiple revisions: {rev_list}', alferr.ALFWarning)\n",
      "/opt/anaconda3/envs/iblenv/lib/python3.10/site-packages/one/util.py:428: ALFWarning: Multiple revisions: \"\", \"2025-06-01\"\n",
      "  warnings.warn(f'Multiple revisions: {rev_list}', alferr.ALFWarning)\n",
      "/opt/anaconda3/envs/iblenv/lib/python3.10/site-packages/one/util.py:428: ALFWarning: Multiple revisions: \"\", \"2025-06-02\"\n",
      "  warnings.warn(f'Multiple revisions: {rev_list}', alferr.ALFWarning)\n"
     ]
    },
    {
     "name": "stdout",
     "output_type": "stream",
     "text": [
      "\u001b[36m2025-09-09 17:44:21 INFO     one.py:1288 Loading pupil data\u001b[0m\n"
     ]
    },
    {
     "name": "stderr",
     "output_type": "stream",
     "text": [
      "/opt/anaconda3/envs/iblenv/lib/python3.10/site-packages/one/util.py:428: ALFWarning: Multiple revisions: \"2025-06-18\", \"\"\n",
      "  warnings.warn(f'Multiple revisions: {rev_list}', alferr.ALFWarning)\n",
      "local file size mismatch on dataset: mrsicflogellab/Subjects/SWC_052/2020-10-18/001/alf/_ibl_leftCamera.lightningPose.pqt\n",
      "(S3) /Users/ineslaranjeira/Downloads/FlatIron/mrsicflogellab/Subjects/SWC_052/2020-10-18/001/alf/_ibl_leftCamera.lightningPose.pqt: 100%|██████████| 114M/114M [00:12<00:00, 8.95MB/s] \n"
     ]
    },
    {
     "name": "stdout",
     "output_type": "stream",
     "text": [
      "\u001b[36m2025-09-09 17:44:42 INFO     one.py:1288 Loading trials data\u001b[0m\n"
     ]
    },
    {
     "name": "stderr",
     "output_type": "stream",
     "text": [
      "/opt/anaconda3/envs/iblenv/lib/python3.10/site-packages/one/util.py:428: ALFWarning: Multiple revisions: \"\", \"2025-03-03\"\n",
      "  warnings.warn(f'Multiple revisions: {rev_list}', alferr.ALFWarning)\n"
     ]
    },
    {
     "name": "stdout",
     "output_type": "stream",
     "text": [
      "\u001b[36m2025-09-09 17:44:43 INFO     one.py:1288 Loading wheel data\u001b[0m\n",
      "\u001b[36m2025-09-09 17:44:44 INFO     one.py:1288 Loading motion_energy data\u001b[0m\n"
     ]
    },
    {
     "name": "stderr",
     "output_type": "stream",
     "text": [
      "/opt/anaconda3/envs/iblenv/lib/python3.10/site-packages/one/util.py:428: ALFWarning: Multiple revisions: \"\", \"2025-05-30\"\n",
      "  warnings.warn(f'Multiple revisions: {rev_list}', alferr.ALFWarning)\n",
      "/opt/anaconda3/envs/iblenv/lib/python3.10/site-packages/one/util.py:428: ALFWarning: Multiple revisions: \"\", \"2025-06-01\"\n",
      "  warnings.warn(f'Multiple revisions: {rev_list}', alferr.ALFWarning)\n",
      "/opt/anaconda3/envs/iblenv/lib/python3.10/site-packages/one/util.py:428: ALFWarning: Multiple revisions: \"\", \"2025-06-02\"\n",
      "  warnings.warn(f'Multiple revisions: {rev_list}', alferr.ALFWarning)\n"
     ]
    },
    {
     "name": "stdout",
     "output_type": "stream",
     "text": [
      "\u001b[36m2025-09-09 17:44:45 INFO     one.py:1288 Loading pupil data\u001b[0m\n"
     ]
    },
    {
     "name": "stderr",
     "output_type": "stream",
     "text": [
      "/opt/anaconda3/envs/iblenv/lib/python3.10/site-packages/one/util.py:428: ALFWarning: Multiple revisions: \"2025-06-18\", \"\"\n",
      "  warnings.warn(f'Multiple revisions: {rev_list}', alferr.ALFWarning)\n",
      "local file size mismatch on dataset: mrsicflogellab/Subjects/SWC_052/2020-10-19/001/alf/_ibl_leftCamera.lightningPose.pqt\n",
      "(S3) /Users/ineslaranjeira/Downloads/FlatIron/mrsicflogellab/Subjects/SWC_052/2020-10-19/001/alf/_ibl_leftCamera.lightningPose.pqt: 100%|██████████| 135M/135M [00:11<00:00, 11.4MB/s] \n",
      "(S3) /Users/ineslaranjeira/Downloads/FlatIron/mrsicflogellab/Subjects/SWC_052/2020-10-19/001/alf/_ibl_rightCamera.lightningPose.pqt: 100%|██████████| 317M/317M [00:28<00:00, 11.3MB/s] \n"
     ]
    },
    {
     "name": "stdout",
     "output_type": "stream",
     "text": [
      "\u001b[36m2025-09-09 17:45:34 INFO     one.py:1288 Loading trials data\u001b[0m\n"
     ]
    },
    {
     "name": "stderr",
     "output_type": "stream",
     "text": [
      "/opt/anaconda3/envs/iblenv/lib/python3.10/site-packages/one/util.py:428: ALFWarning: Multiple revisions: \"\", \"2025-03-03\"\n",
      "  warnings.warn(f'Multiple revisions: {rev_list}', alferr.ALFWarning)\n"
     ]
    },
    {
     "name": "stdout",
     "output_type": "stream",
     "text": [
      "\u001b[36m2025-09-09 17:45:35 INFO     one.py:1288 Loading wheel data\u001b[0m\n",
      "\u001b[36m2025-09-09 17:45:36 INFO     one.py:1288 Loading motion_energy data\u001b[0m\n"
     ]
    },
    {
     "name": "stderr",
     "output_type": "stream",
     "text": [
      "/opt/anaconda3/envs/iblenv/lib/python3.10/site-packages/one/util.py:428: ALFWarning: Multiple revisions: \"\", \"2025-05-30\"\n",
      "  warnings.warn(f'Multiple revisions: {rev_list}', alferr.ALFWarning)\n",
      "/opt/anaconda3/envs/iblenv/lib/python3.10/site-packages/one/util.py:428: ALFWarning: Multiple revisions: \"\", \"2025-06-01\"\n",
      "  warnings.warn(f'Multiple revisions: {rev_list}', alferr.ALFWarning)\n",
      "/opt/anaconda3/envs/iblenv/lib/python3.10/site-packages/one/util.py:428: ALFWarning: Multiple revisions: \"\", \"2025-06-02\"\n",
      "  warnings.warn(f'Multiple revisions: {rev_list}', alferr.ALFWarning)\n"
     ]
    },
    {
     "name": "stdout",
     "output_type": "stream",
     "text": [
      "\u001b[36m2025-09-09 17:45:37 INFO     one.py:1288 Loading pupil data\u001b[0m\n"
     ]
    },
    {
     "name": "stderr",
     "output_type": "stream",
     "text": [
      "/opt/anaconda3/envs/iblenv/lib/python3.10/site-packages/one/util.py:428: ALFWarning: Multiple revisions: \"2025-06-18\", \"\"\n",
      "  warnings.warn(f'Multiple revisions: {rev_list}', alferr.ALFWarning)\n",
      "local file size mismatch on dataset: mrsicflogellab/Subjects/SWC_052/2020-10-20/001/alf/_ibl_leftCamera.lightningPose.pqt\n",
      "(S3) /Users/ineslaranjeira/Downloads/FlatIron/mrsicflogellab/Subjects/SWC_052/2020-10-20/001/alf/_ibl_leftCamera.lightningPose.pqt: 100%|██████████| 157M/157M [00:19<00:00, 8.27MB/s] \n",
      "(S3) /Users/ineslaranjeira/Downloads/FlatIron/mrsicflogellab/Subjects/SWC_052/2020-10-20/001/alf/_ibl_rightCamera.lightningPose.pqt: 100%|██████████| 371M/371M [00:30<00:00, 12.1MB/s] \n"
     ]
    },
    {
     "name": "stdout",
     "output_type": "stream",
     "text": [
      "\u001b[36m2025-09-09 17:46:35 INFO     one.py:1288 Loading trials data\u001b[0m\n"
     ]
    },
    {
     "name": "stderr",
     "output_type": "stream",
     "text": [
      "/opt/anaconda3/envs/iblenv/lib/python3.10/site-packages/one/util.py:428: ALFWarning: Multiple revisions: \"\", \"2025-03-03\"\n",
      "  warnings.warn(f'Multiple revisions: {rev_list}', alferr.ALFWarning)\n"
     ]
    },
    {
     "name": "stdout",
     "output_type": "stream",
     "text": [
      "\u001b[36m2025-09-09 17:46:36 INFO     one.py:1288 Loading wheel data\u001b[0m\n",
      "\u001b[36m2025-09-09 17:46:38 INFO     one.py:1288 Loading motion_energy data\u001b[0m\n"
     ]
    },
    {
     "name": "stderr",
     "output_type": "stream",
     "text": [
      "/opt/anaconda3/envs/iblenv/lib/python3.10/site-packages/one/util.py:428: ALFWarning: Multiple revisions: \"\", \"2025-05-30\"\n",
      "  warnings.warn(f'Multiple revisions: {rev_list}', alferr.ALFWarning)\n",
      "/opt/anaconda3/envs/iblenv/lib/python3.10/site-packages/one/util.py:428: ALFWarning: Multiple revisions: \"\", \"2025-06-01\"\n",
      "  warnings.warn(f'Multiple revisions: {rev_list}', alferr.ALFWarning)\n",
      "/opt/anaconda3/envs/iblenv/lib/python3.10/site-packages/one/util.py:428: ALFWarning: Multiple revisions: \"\", \"2025-06-02\"\n",
      "  warnings.warn(f'Multiple revisions: {rev_list}', alferr.ALFWarning)\n"
     ]
    },
    {
     "name": "stdout",
     "output_type": "stream",
     "text": [
      "\u001b[36m2025-09-09 17:46:39 INFO     one.py:1288 Loading pupil data\u001b[0m\n"
     ]
    },
    {
     "name": "stderr",
     "output_type": "stream",
     "text": [
      "/opt/anaconda3/envs/iblenv/lib/python3.10/site-packages/one/util.py:428: ALFWarning: Multiple revisions: \"2025-06-18\", \"\"\n",
      "  warnings.warn(f'Multiple revisions: {rev_list}', alferr.ALFWarning)\n",
      "local file size mismatch on dataset: mrsicflogellab/Subjects/SWC_052/2020-10-21/002/alf/_ibl_leftCamera.lightningPose.pqt\n",
      "(S3) /Users/ineslaranjeira/Downloads/FlatIron/mrsicflogellab/Subjects/SWC_052/2020-10-21/002/alf/_ibl_leftCamera.lightningPose.pqt: 100%|██████████| 115M/115M [00:10<00:00, 11.3MB/s] \n"
     ]
    },
    {
     "name": "stdout",
     "output_type": "stream",
     "text": [
      "\u001b[36m2025-09-09 17:46:59 INFO     one.py:1288 Loading trials data\u001b[0m\n"
     ]
    },
    {
     "name": "stderr",
     "output_type": "stream",
     "text": [
      "/opt/anaconda3/envs/iblenv/lib/python3.10/site-packages/one/util.py:428: ALFWarning: Multiple revisions: \"\", \"2025-03-03\"\n",
      "  warnings.warn(f'Multiple revisions: {rev_list}', alferr.ALFWarning)\n"
     ]
    },
    {
     "name": "stdout",
     "output_type": "stream",
     "text": [
      "\u001b[36m2025-09-09 17:47:00 INFO     one.py:1288 Loading wheel data\u001b[0m\n",
      "\u001b[36m2025-09-09 17:47:01 INFO     one.py:1288 Loading motion_energy data\u001b[0m\n"
     ]
    },
    {
     "name": "stderr",
     "output_type": "stream",
     "text": [
      "/opt/anaconda3/envs/iblenv/lib/python3.10/site-packages/one/util.py:428: ALFWarning: Multiple revisions: \"\", \"2025-05-30\"\n",
      "  warnings.warn(f'Multiple revisions: {rev_list}', alferr.ALFWarning)\n",
      "/opt/anaconda3/envs/iblenv/lib/python3.10/site-packages/one/util.py:428: ALFWarning: Multiple revisions: \"\", \"2025-06-01\"\n",
      "  warnings.warn(f'Multiple revisions: {rev_list}', alferr.ALFWarning)\n",
      "/opt/anaconda3/envs/iblenv/lib/python3.10/site-packages/one/util.py:428: ALFWarning: Multiple revisions: \"\", \"2025-06-02\"\n",
      "  warnings.warn(f'Multiple revisions: {rev_list}', alferr.ALFWarning)\n"
     ]
    },
    {
     "name": "stdout",
     "output_type": "stream",
     "text": [
      "\u001b[36m2025-09-09 17:47:02 INFO     one.py:1288 Loading pupil data\u001b[0m\n"
     ]
    },
    {
     "name": "stderr",
     "output_type": "stream",
     "text": [
      "/opt/anaconda3/envs/iblenv/lib/python3.10/site-packages/one/util.py:428: ALFWarning: Multiple revisions: \"2025-06-18\", \"\"\n",
      "  warnings.warn(f'Multiple revisions: {rev_list}', alferr.ALFWarning)\n",
      "/opt/anaconda3/envs/iblenv/lib/python3.10/site-packages/one/util.py:428: ALFWarning: Multiple revisions: \"2025-05-30\", \"\"\n",
      "  warnings.warn(f'Multiple revisions: {rev_list}', alferr.ALFWarning)\n",
      "(S3) /Users/ineslaranjeira/Downloads/FlatIron/mrsicflogellab/Subjects/SWC_052/2020-10-22/001/alf/_ibl_rightCamera.lightningPose.pqt: 100%|██████████| 342M/342M [00:30<00:00, 11.3MB/s] \n"
     ]
    },
    {
     "name": "stdout",
     "output_type": "stream",
     "text": [
      "\u001b[36m2025-09-09 17:47:40 INFO     one.py:1288 Loading trials data\u001b[0m\n"
     ]
    },
    {
     "name": "stderr",
     "output_type": "stream",
     "text": [
      "/opt/anaconda3/envs/iblenv/lib/python3.10/site-packages/one/util.py:428: ALFWarning: Multiple revisions: \"\", \"2025-03-03\"\n",
      "  warnings.warn(f'Multiple revisions: {rev_list}', alferr.ALFWarning)\n"
     ]
    },
    {
     "name": "stdout",
     "output_type": "stream",
     "text": [
      "\u001b[36m2025-09-09 17:47:41 INFO     one.py:1288 Loading wheel data\u001b[0m\n",
      "\u001b[36m2025-09-09 17:47:42 INFO     one.py:1288 Loading motion_energy data\u001b[0m\n"
     ]
    },
    {
     "name": "stderr",
     "output_type": "stream",
     "text": [
      "/opt/anaconda3/envs/iblenv/lib/python3.10/site-packages/one/util.py:428: ALFWarning: Multiple revisions: \"\", \"2025-05-30\"\n",
      "  warnings.warn(f'Multiple revisions: {rev_list}', alferr.ALFWarning)\n",
      "/opt/anaconda3/envs/iblenv/lib/python3.10/site-packages/one/util.py:428: ALFWarning: Multiple revisions: \"\", \"2025-06-01\"\n",
      "  warnings.warn(f'Multiple revisions: {rev_list}', alferr.ALFWarning)\n",
      "/opt/anaconda3/envs/iblenv/lib/python3.10/site-packages/one/util.py:428: ALFWarning: Multiple revisions: \"\", \"2025-06-02\"\n",
      "  warnings.warn(f'Multiple revisions: {rev_list}', alferr.ALFWarning)\n"
     ]
    },
    {
     "name": "stdout",
     "output_type": "stream",
     "text": [
      "\u001b[36m2025-09-09 17:47:43 INFO     one.py:1288 Loading pupil data\u001b[0m\n"
     ]
    },
    {
     "name": "stderr",
     "output_type": "stream",
     "text": [
      "/opt/anaconda3/envs/iblenv/lib/python3.10/site-packages/one/util.py:428: ALFWarning: Multiple revisions: \"2025-06-20\", \"\"\n",
      "  warnings.warn(f'Multiple revisions: {rev_list}', alferr.ALFWarning)\n"
     ]
    },
    {
     "name": "stdout",
     "output_type": "stream",
     "text": [
      "\u001b[1;33m2025-09-09 17:47:44 WARNING  one.py:1292 Could not load pupil data.\u001b[0m\n"
     ]
    },
    {
     "name": "stderr",
     "output_type": "stream",
     "text": [
      "local file size mismatch on dataset: mrsicflogellab/Subjects/SWC_052/2020-10-23/001/alf/_ibl_leftCamera.lightningPose.pqt\n",
      "(S3) /Users/ineslaranjeira/Downloads/FlatIron/mrsicflogellab/Subjects/SWC_052/2020-10-23/001/alf/_ibl_leftCamera.lightningPose.pqt: 100%|██████████| 139M/139M [00:11<00:00, 12.4MB/s] \n",
      "(S3) /Users/ineslaranjeira/Downloads/FlatIron/mrsicflogellab/Subjects/SWC_052/2020-10-23/001/alf/_ibl_rightCamera.lightningPose.pqt: 100%|██████████| 322M/322M [00:24<00:00, 13.1MB/s] \n"
     ]
    },
    {
     "name": "stdout",
     "output_type": "stream",
     "text": [
      "\u001b[36m2025-09-09 17:48:27 INFO     one.py:1288 Loading trials data\u001b[0m\n"
     ]
    },
    {
     "name": "stderr",
     "output_type": "stream",
     "text": [
      "/opt/anaconda3/envs/iblenv/lib/python3.10/site-packages/one/util.py:428: ALFWarning: Multiple revisions: \"\", \"2025-03-03\"\n",
      "  warnings.warn(f'Multiple revisions: {rev_list}', alferr.ALFWarning)\n"
     ]
    },
    {
     "name": "stdout",
     "output_type": "stream",
     "text": [
      "\u001b[36m2025-09-09 17:48:28 INFO     one.py:1288 Loading wheel data\u001b[0m\n",
      "\u001b[36m2025-09-09 17:48:29 INFO     one.py:1288 Loading motion_energy data\u001b[0m\n"
     ]
    },
    {
     "name": "stderr",
     "output_type": "stream",
     "text": [
      "/opt/anaconda3/envs/iblenv/lib/python3.10/site-packages/one/util.py:428: ALFWarning: Multiple revisions: \"\", \"2025-05-30\"\n",
      "  warnings.warn(f'Multiple revisions: {rev_list}', alferr.ALFWarning)\n",
      "/opt/anaconda3/envs/iblenv/lib/python3.10/site-packages/one/util.py:428: ALFWarning: Multiple revisions: \"\", \"2025-06-01\"\n",
      "  warnings.warn(f'Multiple revisions: {rev_list}', alferr.ALFWarning)\n",
      "/opt/anaconda3/envs/iblenv/lib/python3.10/site-packages/one/util.py:428: ALFWarning: Multiple revisions: \"\", \"2025-06-02\"\n",
      "  warnings.warn(f'Multiple revisions: {rev_list}', alferr.ALFWarning)\n"
     ]
    },
    {
     "name": "stdout",
     "output_type": "stream",
     "text": [
      "\u001b[36m2025-09-09 17:48:31 INFO     one.py:1288 Loading pupil data\u001b[0m\n"
     ]
    },
    {
     "name": "stderr",
     "output_type": "stream",
     "text": [
      "/opt/anaconda3/envs/iblenv/lib/python3.10/site-packages/one/util.py:428: ALFWarning: Multiple revisions: \"2025-06-18\", \"\"\n",
      "  warnings.warn(f'Multiple revisions: {rev_list}', alferr.ALFWarning)\n",
      "local file size mismatch on dataset: mrsicflogellab/Subjects/SWC_053/2020-11-10/001/alf/_ibl_leftCamera.lightningPose.pqt\n",
      "(S3) /Users/ineslaranjeira/Downloads/FlatIron/mrsicflogellab/Subjects/SWC_053/2020-11-10/001/alf/_ibl_leftCamera.lightningPose.pqt: 100%|██████████| 130M/130M [00:12<00:00, 10.2MB/s] \n",
      "(S3) /Users/ineslaranjeira/Downloads/FlatIron/mrsicflogellab/Subjects/SWC_053/2020-11-10/001/alf/_ibl_rightCamera.lightningPose.pqt: 100%|██████████| 304M/304M [00:24<00:00, 12.5MB/s] \n"
     ]
    },
    {
     "name": "stdout",
     "output_type": "stream",
     "text": [
      "\u001b[36m2025-09-09 17:49:16 INFO     one.py:1288 Loading trials data\u001b[0m\n"
     ]
    },
    {
     "name": "stderr",
     "output_type": "stream",
     "text": [
      "/opt/anaconda3/envs/iblenv/lib/python3.10/site-packages/one/util.py:428: ALFWarning: Multiple revisions: \"\", \"2025-03-03\"\n",
      "  warnings.warn(f'Multiple revisions: {rev_list}', alferr.ALFWarning)\n"
     ]
    },
    {
     "name": "stdout",
     "output_type": "stream",
     "text": [
      "\u001b[36m2025-09-09 17:49:17 INFO     one.py:1288 Loading wheel data\u001b[0m\n",
      "\u001b[36m2025-09-09 17:49:18 INFO     one.py:1288 Loading motion_energy data\u001b[0m\n"
     ]
    },
    {
     "name": "stderr",
     "output_type": "stream",
     "text": [
      "/opt/anaconda3/envs/iblenv/lib/python3.10/site-packages/one/util.py:428: ALFWarning: Multiple revisions: \"\", \"2025-05-30\"\n",
      "  warnings.warn(f'Multiple revisions: {rev_list}', alferr.ALFWarning)\n",
      "/opt/anaconda3/envs/iblenv/lib/python3.10/site-packages/one/util.py:428: ALFWarning: Multiple revisions: \"\", \"2025-06-01\"\n",
      "  warnings.warn(f'Multiple revisions: {rev_list}', alferr.ALFWarning)\n",
      "/opt/anaconda3/envs/iblenv/lib/python3.10/site-packages/one/util.py:428: ALFWarning: Multiple revisions: \"\", \"2025-06-02\"\n",
      "  warnings.warn(f'Multiple revisions: {rev_list}', alferr.ALFWarning)\n"
     ]
    },
    {
     "name": "stdout",
     "output_type": "stream",
     "text": [
      "\u001b[36m2025-09-09 17:49:19 INFO     one.py:1288 Loading pupil data\u001b[0m\n"
     ]
    },
    {
     "name": "stderr",
     "output_type": "stream",
     "text": [
      "/opt/anaconda3/envs/iblenv/lib/python3.10/site-packages/one/util.py:428: ALFWarning: Multiple revisions: \"2025-06-18\", \"\"\n",
      "  warnings.warn(f'Multiple revisions: {rev_list}', alferr.ALFWarning)\n"
     ]
    },
    {
     "name": "stdout",
     "output_type": "stream",
     "text": [
      "\u001b[1;33m2025-09-09 17:49:20 WARNING  one.py:1292 Could not load pupil data.\u001b[0m\n"
     ]
    },
    {
     "name": "stderr",
     "output_type": "stream",
     "text": [
      "local file size mismatch on dataset: mrsicflogellab/Subjects/SWC_053/2020-11-11/001/alf/_ibl_leftCamera.lightningPose.pqt\n",
      "(S3) /Users/ineslaranjeira/Downloads/FlatIron/mrsicflogellab/Subjects/SWC_053/2020-11-11/001/alf/_ibl_leftCamera.lightningPose.pqt: 100%|██████████| 131M/131M [00:11<00:00, 11.9MB/s] \n",
      "(S3) /Users/ineslaranjeira/Downloads/FlatIron/mrsicflogellab/Subjects/SWC_053/2020-11-11/001/alf/_ibl_rightCamera.lightningPose.pqt: 100%|██████████| 307M/307M [00:25<00:00, 12.0MB/s] \n"
     ]
    },
    {
     "name": "stdout",
     "output_type": "stream",
     "text": [
      "\u001b[36m2025-09-09 17:50:04 INFO     one.py:1288 Loading trials data\u001b[0m\n"
     ]
    },
    {
     "name": "stderr",
     "output_type": "stream",
     "text": [
      "/opt/anaconda3/envs/iblenv/lib/python3.10/site-packages/one/util.py:428: ALFWarning: Multiple revisions: \"\", \"2025-03-03\"\n",
      "  warnings.warn(f'Multiple revisions: {rev_list}', alferr.ALFWarning)\n"
     ]
    },
    {
     "name": "stdout",
     "output_type": "stream",
     "text": [
      "\u001b[36m2025-09-09 17:50:05 INFO     one.py:1288 Loading wheel data\u001b[0m\n",
      "\u001b[36m2025-09-09 17:50:07 INFO     one.py:1288 Loading motion_energy data\u001b[0m\n"
     ]
    },
    {
     "name": "stderr",
     "output_type": "stream",
     "text": [
      "/opt/anaconda3/envs/iblenv/lib/python3.10/site-packages/one/util.py:428: ALFWarning: Multiple revisions: \"\", \"2025-05-30\"\n",
      "  warnings.warn(f'Multiple revisions: {rev_list}', alferr.ALFWarning)\n",
      "/opt/anaconda3/envs/iblenv/lib/python3.10/site-packages/one/util.py:428: ALFWarning: Multiple revisions: \"\", \"2025-06-01\"\n",
      "  warnings.warn(f'Multiple revisions: {rev_list}', alferr.ALFWarning)\n",
      "/opt/anaconda3/envs/iblenv/lib/python3.10/site-packages/one/util.py:428: ALFWarning: Multiple revisions: \"\", \"2025-06-02\"\n",
      "  warnings.warn(f'Multiple revisions: {rev_list}', alferr.ALFWarning)\n"
     ]
    },
    {
     "name": "stdout",
     "output_type": "stream",
     "text": [
      "\u001b[36m2025-09-09 17:50:08 INFO     one.py:1288 Loading pupil data\u001b[0m\n"
     ]
    },
    {
     "name": "stderr",
     "output_type": "stream",
     "text": [
      "/opt/anaconda3/envs/iblenv/lib/python3.10/site-packages/one/util.py:428: ALFWarning: Multiple revisions: \"2025-06-18\", \"\"\n",
      "  warnings.warn(f'Multiple revisions: {rev_list}', alferr.ALFWarning)\n",
      "(S3) /Users/ineslaranjeira/Downloads/FlatIron/mrsicflogellab/Subjects/SWC_053/2020-11-12/001/alf/_ibl_rightCamera.lightningPose.pqt: 100%|██████████| 337M/337M [00:27<00:00, 12.4MB/s] \n"
     ]
    },
    {
     "name": "stdout",
     "output_type": "stream",
     "text": [
      "\u001b[36m2025-09-09 17:50:42 INFO     one.py:1288 Loading trials data\u001b[0m\n"
     ]
    },
    {
     "name": "stderr",
     "output_type": "stream",
     "text": [
      "/opt/anaconda3/envs/iblenv/lib/python3.10/site-packages/one/util.py:428: ALFWarning: Multiple revisions: \"\", \"2025-03-03\"\n",
      "  warnings.warn(f'Multiple revisions: {rev_list}', alferr.ALFWarning)\n"
     ]
    },
    {
     "name": "stdout",
     "output_type": "stream",
     "text": [
      "\u001b[36m2025-09-09 17:50:43 INFO     one.py:1288 Loading wheel data\u001b[0m\n",
      "\u001b[36m2025-09-09 17:50:44 INFO     one.py:1288 Loading motion_energy data\u001b[0m\n"
     ]
    },
    {
     "name": "stderr",
     "output_type": "stream",
     "text": [
      "/opt/anaconda3/envs/iblenv/lib/python3.10/site-packages/one/util.py:428: ALFWarning: Multiple revisions: \"\", \"2025-05-30\"\n",
      "  warnings.warn(f'Multiple revisions: {rev_list}', alferr.ALFWarning)\n",
      "/opt/anaconda3/envs/iblenv/lib/python3.10/site-packages/one/util.py:428: ALFWarning: Multiple revisions: \"\", \"2025-06-01\"\n",
      "  warnings.warn(f'Multiple revisions: {rev_list}', alferr.ALFWarning)\n",
      "/opt/anaconda3/envs/iblenv/lib/python3.10/site-packages/one/util.py:428: ALFWarning: Multiple revisions: \"\", \"2025-06-02\"\n",
      "  warnings.warn(f'Multiple revisions: {rev_list}', alferr.ALFWarning)\n"
     ]
    },
    {
     "name": "stdout",
     "output_type": "stream",
     "text": [
      "\u001b[36m2025-09-09 17:50:45 INFO     one.py:1288 Loading pupil data\u001b[0m\n"
     ]
    },
    {
     "name": "stderr",
     "output_type": "stream",
     "text": [
      "/opt/anaconda3/envs/iblenv/lib/python3.10/site-packages/one/util.py:428: ALFWarning: Multiple revisions: \"2025-06-04\", \"\"\n",
      "  warnings.warn(f'Multiple revisions: {rev_list}', alferr.ALFWarning)\n",
      "/opt/anaconda3/envs/iblenv/lib/python3.10/site-packages/one/util.py:428: ALFWarning: Multiple revisions: \"2025-05-30\", \"\"\n",
      "  warnings.warn(f'Multiple revisions: {rev_list}', alferr.ALFWarning)\n"
     ]
    },
    {
     "name": "stdout",
     "output_type": "stream",
     "text": [
      "\u001b[36m2025-09-09 17:50:54 INFO     one.py:1288 Loading trials data\u001b[0m\n"
     ]
    },
    {
     "name": "stderr",
     "output_type": "stream",
     "text": [
      "/opt/anaconda3/envs/iblenv/lib/python3.10/site-packages/one/util.py:428: ALFWarning: Multiple revisions: \"\", \"2025-03-03\"\n",
      "  warnings.warn(f'Multiple revisions: {rev_list}', alferr.ALFWarning)\n"
     ]
    },
    {
     "name": "stdout",
     "output_type": "stream",
     "text": [
      "\u001b[36m2025-09-09 17:50:55 INFO     one.py:1288 Loading wheel data\u001b[0m\n",
      "\u001b[36m2025-09-09 17:50:56 INFO     one.py:1288 Loading motion_energy data\u001b[0m\n"
     ]
    },
    {
     "name": "stderr",
     "output_type": "stream",
     "text": [
      "/opt/anaconda3/envs/iblenv/lib/python3.10/site-packages/one/util.py:428: ALFWarning: Multiple revisions: \"\", \"2025-05-30\"\n",
      "  warnings.warn(f'Multiple revisions: {rev_list}', alferr.ALFWarning)\n",
      "/opt/anaconda3/envs/iblenv/lib/python3.10/site-packages/one/util.py:428: ALFWarning: Multiple revisions: \"\", \"2025-06-01\"\n",
      "  warnings.warn(f'Multiple revisions: {rev_list}', alferr.ALFWarning)\n"
     ]
    },
    {
     "name": "stdout",
     "output_type": "stream",
     "text": [
      "\u001b[1;33m2025-09-09 17:50:57 WARNING  one.py:1292 Could not load motion_energy data.\u001b[0m\n",
      "\u001b[36m2025-09-09 17:50:57 INFO     one.py:1288 Loading pupil data\u001b[0m\n"
     ]
    },
    {
     "name": "stderr",
     "output_type": "stream",
     "text": [
      "/opt/anaconda3/envs/iblenv/lib/python3.10/site-packages/one/util.py:428: ALFWarning: Multiple revisions: \"2025-06-20\", \"\"\n",
      "  warnings.warn(f'Multiple revisions: {rev_list}', alferr.ALFWarning)\n",
      "local file size mismatch on dataset: mrsicflogellab/Subjects/SWC_054/2020-10-06/001/alf/_ibl_leftCamera.lightningPose.pqt\n",
      "(S3) /Users/ineslaranjeira/Downloads/FlatIron/mrsicflogellab/Subjects/SWC_054/2020-10-06/001/alf/_ibl_leftCamera.lightningPose.pqt: 100%|██████████| 139M/139M [00:17<00:00, 8.07MB/s] \n",
      "(S3) /Users/ineslaranjeira/Downloads/FlatIron/mrsicflogellab/Subjects/SWC_054/2020-10-06/001/alf/_ibl_rightCamera.lightningPose.pqt: 100%|██████████| 323M/323M [00:25<00:00, 12.6MB/s] \n"
     ]
    },
    {
     "name": "stdout",
     "output_type": "stream",
     "text": [
      "\u001b[36m2025-09-09 17:51:48 INFO     one.py:1288 Loading trials data\u001b[0m\n"
     ]
    },
    {
     "name": "stderr",
     "output_type": "stream",
     "text": [
      "/opt/anaconda3/envs/iblenv/lib/python3.10/site-packages/one/util.py:428: ALFWarning: Multiple revisions: \"\", \"2025-03-03\"\n",
      "  warnings.warn(f'Multiple revisions: {rev_list}', alferr.ALFWarning)\n"
     ]
    },
    {
     "name": "stdout",
     "output_type": "stream",
     "text": [
      "\u001b[36m2025-09-09 17:51:49 INFO     one.py:1288 Loading wheel data\u001b[0m\n",
      "\u001b[36m2025-09-09 17:51:51 INFO     one.py:1288 Loading motion_energy data\u001b[0m\n"
     ]
    },
    {
     "name": "stderr",
     "output_type": "stream",
     "text": [
      "/opt/anaconda3/envs/iblenv/lib/python3.10/site-packages/one/util.py:428: ALFWarning: Multiple revisions: \"\", \"2025-05-30\"\n",
      "  warnings.warn(f'Multiple revisions: {rev_list}', alferr.ALFWarning)\n",
      "/opt/anaconda3/envs/iblenv/lib/python3.10/site-packages/one/util.py:428: ALFWarning: Multiple revisions: \"\", \"2025-06-01\"\n",
      "  warnings.warn(f'Multiple revisions: {rev_list}', alferr.ALFWarning)\n"
     ]
    },
    {
     "name": "stdout",
     "output_type": "stream",
     "text": [
      "\u001b[1;33m2025-09-09 17:51:52 WARNING  one.py:1292 Could not load motion_energy data.\u001b[0m\n",
      "\u001b[36m2025-09-09 17:51:52 INFO     one.py:1288 Loading pupil data\u001b[0m\n"
     ]
    },
    {
     "name": "stderr",
     "output_type": "stream",
     "text": [
      "/opt/anaconda3/envs/iblenv/lib/python3.10/site-packages/one/util.py:428: ALFWarning: Multiple revisions: \"2025-06-18\", \"\"\n",
      "  warnings.warn(f'Multiple revisions: {rev_list}', alferr.ALFWarning)\n",
      "local file size mismatch on dataset: mrsicflogellab/Subjects/SWC_054/2020-10-07/001/alf/_ibl_leftCamera.lightningPose.pqt\n",
      "(S3) /Users/ineslaranjeira/Downloads/FlatIron/mrsicflogellab/Subjects/SWC_054/2020-10-07/001/alf/_ibl_leftCamera.lightningPose.pqt: 100%|██████████| 126M/126M [00:11<00:00, 11.0MB/s] \n",
      "(S3) /Users/ineslaranjeira/Downloads/FlatIron/mrsicflogellab/Subjects/SWC_054/2020-10-07/001/alf/_ibl_rightCamera.lightningPose.pqt: 100%|██████████| 288M/288M [00:35<00:00, 8.18MB/s] \n"
     ]
    },
    {
     "name": "stdout",
     "output_type": "stream",
     "text": [
      "\u001b[36m2025-09-09 17:52:47 INFO     one.py:1288 Loading trials data\u001b[0m\n"
     ]
    },
    {
     "name": "stderr",
     "output_type": "stream",
     "text": [
      "/opt/anaconda3/envs/iblenv/lib/python3.10/site-packages/one/util.py:428: ALFWarning: Multiple revisions: \"\", \"2025-03-03\"\n",
      "  warnings.warn(f'Multiple revisions: {rev_list}', alferr.ALFWarning)\n"
     ]
    },
    {
     "name": "stdout",
     "output_type": "stream",
     "text": [
      "\u001b[36m2025-09-09 17:52:48 INFO     one.py:1288 Loading wheel data\u001b[0m\n",
      "\u001b[36m2025-09-09 17:52:49 INFO     one.py:1288 Loading motion_energy data\u001b[0m\n"
     ]
    },
    {
     "name": "stderr",
     "output_type": "stream",
     "text": [
      "/opt/anaconda3/envs/iblenv/lib/python3.10/site-packages/one/util.py:428: ALFWarning: Multiple revisions: \"\", \"2025-05-30\"\n",
      "  warnings.warn(f'Multiple revisions: {rev_list}', alferr.ALFWarning)\n",
      "/opt/anaconda3/envs/iblenv/lib/python3.10/site-packages/one/util.py:428: ALFWarning: Multiple revisions: \"\", \"2025-06-01\"\n",
      "  warnings.warn(f'Multiple revisions: {rev_list}', alferr.ALFWarning)\n"
     ]
    },
    {
     "name": "stdout",
     "output_type": "stream",
     "text": [
      "\u001b[1;33m2025-09-09 17:52:50 WARNING  one.py:1292 Could not load motion_energy data.\u001b[0m\n",
      "\u001b[36m2025-09-09 17:52:50 INFO     one.py:1288 Loading pupil data\u001b[0m\n"
     ]
    },
    {
     "name": "stderr",
     "output_type": "stream",
     "text": [
      "/opt/anaconda3/envs/iblenv/lib/python3.10/site-packages/one/util.py:428: ALFWarning: Multiple revisions: \"2025-06-18\", \"\"\n",
      "  warnings.warn(f'Multiple revisions: {rev_list}', alferr.ALFWarning)\n"
     ]
    },
    {
     "name": "stdout",
     "output_type": "stream",
     "text": [
      "\u001b[36m2025-09-09 17:52:58 INFO     one.py:1288 Loading trials data\u001b[0m\n"
     ]
    },
    {
     "name": "stderr",
     "output_type": "stream",
     "text": [
      "/opt/anaconda3/envs/iblenv/lib/python3.10/site-packages/one/util.py:428: ALFWarning: Multiple revisions: \"\", \"2025-03-03\"\n",
      "  warnings.warn(f'Multiple revisions: {rev_list}', alferr.ALFWarning)\n"
     ]
    },
    {
     "name": "stdout",
     "output_type": "stream",
     "text": [
      "\u001b[36m2025-09-09 17:52:59 INFO     one.py:1288 Loading wheel data\u001b[0m\n",
      "\u001b[36m2025-09-09 17:53:00 INFO     one.py:1288 Loading motion_energy data\u001b[0m\n"
     ]
    },
    {
     "name": "stderr",
     "output_type": "stream",
     "text": [
      "/opt/anaconda3/envs/iblenv/lib/python3.10/site-packages/one/util.py:428: ALFWarning: Multiple revisions: \"\", \"2025-05-30\"\n",
      "  warnings.warn(f'Multiple revisions: {rev_list}', alferr.ALFWarning)\n",
      "/opt/anaconda3/envs/iblenv/lib/python3.10/site-packages/one/util.py:428: ALFWarning: Multiple revisions: \"\", \"2025-06-01\"\n",
      "  warnings.warn(f'Multiple revisions: {rev_list}', alferr.ALFWarning)\n",
      "/opt/anaconda3/envs/iblenv/lib/python3.10/site-packages/one/util.py:428: ALFWarning: Multiple revisions: \"\", \"2025-06-02\"\n",
      "  warnings.warn(f'Multiple revisions: {rev_list}', alferr.ALFWarning)\n"
     ]
    },
    {
     "name": "stdout",
     "output_type": "stream",
     "text": [
      "\u001b[36m2025-09-09 17:53:01 INFO     one.py:1288 Loading pupil data\u001b[0m\n"
     ]
    },
    {
     "name": "stderr",
     "output_type": "stream",
     "text": [
      "/opt/anaconda3/envs/iblenv/lib/python3.10/site-packages/one/util.py:428: ALFWarning: Multiple revisions: \"2025-06-04\", \"\"\n",
      "  warnings.warn(f'Multiple revisions: {rev_list}', alferr.ALFWarning)\n"
     ]
    },
    {
     "name": "stdout",
     "output_type": "stream",
     "text": [
      "\u001b[1;33m2025-09-09 17:53:02 WARNING  one.py:1292 Could not load pupil data.\u001b[0m\n"
     ]
    },
    {
     "name": "stderr",
     "output_type": "stream",
     "text": [
      "(S3) /Users/ineslaranjeira/Downloads/FlatIron/mrsicflogellab/Subjects/SWC_054/2020-10-10/001/alf/_ibl_rightCamera.lightningPose.pqt: 100%|██████████| 324M/324M [00:31<00:00, 10.4MB/s] \n"
     ]
    },
    {
     "name": "stdout",
     "output_type": "stream",
     "text": [
      "\u001b[36m2025-09-09 17:53:40 INFO     one.py:1288 Loading trials data\u001b[0m\n"
     ]
    },
    {
     "name": "stderr",
     "output_type": "stream",
     "text": [
      "/opt/anaconda3/envs/iblenv/lib/python3.10/site-packages/one/util.py:428: ALFWarning: Multiple revisions: \"\", \"2025-03-03\"\n",
      "  warnings.warn(f'Multiple revisions: {rev_list}', alferr.ALFWarning)\n"
     ]
    },
    {
     "name": "stdout",
     "output_type": "stream",
     "text": [
      "\u001b[36m2025-09-09 17:53:41 INFO     one.py:1288 Loading wheel data\u001b[0m\n",
      "\u001b[36m2025-09-09 17:53:43 INFO     one.py:1288 Loading motion_energy data\u001b[0m\n"
     ]
    },
    {
     "name": "stderr",
     "output_type": "stream",
     "text": [
      "/opt/anaconda3/envs/iblenv/lib/python3.10/site-packages/one/util.py:428: ALFWarning: Multiple revisions: \"\", \"2025-05-30\"\n",
      "  warnings.warn(f'Multiple revisions: {rev_list}', alferr.ALFWarning)\n",
      "/opt/anaconda3/envs/iblenv/lib/python3.10/site-packages/one/util.py:428: ALFWarning: Multiple revisions: \"\", \"2025-06-01\"\n",
      "  warnings.warn(f'Multiple revisions: {rev_list}', alferr.ALFWarning)\n",
      "/opt/anaconda3/envs/iblenv/lib/python3.10/site-packages/one/util.py:428: ALFWarning: Multiple revisions: \"\", \"2025-06-02\"\n",
      "  warnings.warn(f'Multiple revisions: {rev_list}', alferr.ALFWarning)\n"
     ]
    },
    {
     "name": "stdout",
     "output_type": "stream",
     "text": [
      "\u001b[36m2025-09-09 17:53:44 INFO     one.py:1288 Loading pupil data\u001b[0m\n"
     ]
    },
    {
     "name": "stderr",
     "output_type": "stream",
     "text": [
      "/opt/anaconda3/envs/iblenv/lib/python3.10/site-packages/one/util.py:428: ALFWarning: Multiple revisions: \"2025-06-18\", \"\"\n",
      "  warnings.warn(f'Multiple revisions: {rev_list}', alferr.ALFWarning)\n",
      "local file size mismatch on dataset: mrsicflogellab/Subjects/SWC_054/2020-10-11/001/alf/_ibl_leftCamera.lightningPose.pqt\n",
      "(S3) /Users/ineslaranjeira/Downloads/FlatIron/mrsicflogellab/Subjects/SWC_054/2020-10-11/001/alf/_ibl_leftCamera.lightningPose.pqt: 100%|██████████| 124M/124M [00:11<00:00, 11.2MB/s] \n",
      "(S3) /Users/ineslaranjeira/Downloads/FlatIron/mrsicflogellab/Subjects/SWC_054/2020-10-11/001/alf/_ibl_rightCamera.lightningPose.pqt: 100%|██████████| 283M/283M [00:23<00:00, 12.1MB/s] \n"
     ]
    },
    {
     "name": "stdout",
     "output_type": "stream",
     "text": [
      "\u001b[36m2025-09-09 17:54:26 INFO     one.py:1288 Loading trials data\u001b[0m\n"
     ]
    },
    {
     "name": "stderr",
     "output_type": "stream",
     "text": [
      "/opt/anaconda3/envs/iblenv/lib/python3.10/site-packages/one/util.py:428: ALFWarning: Multiple revisions: \"\", \"2025-03-03\"\n",
      "  warnings.warn(f'Multiple revisions: {rev_list}', alferr.ALFWarning)\n"
     ]
    },
    {
     "name": "stdout",
     "output_type": "stream",
     "text": [
      "\u001b[36m2025-09-09 17:54:27 INFO     one.py:1288 Loading wheel data\u001b[0m\n",
      "\u001b[36m2025-09-09 17:54:29 INFO     one.py:1288 Loading motion_energy data\u001b[0m\n"
     ]
    },
    {
     "name": "stderr",
     "output_type": "stream",
     "text": [
      "/opt/anaconda3/envs/iblenv/lib/python3.10/site-packages/one/util.py:428: ALFWarning: Multiple revisions: \"\", \"2025-05-30\"\n",
      "  warnings.warn(f'Multiple revisions: {rev_list}', alferr.ALFWarning)\n",
      "/opt/anaconda3/envs/iblenv/lib/python3.10/site-packages/one/util.py:428: ALFWarning: Multiple revisions: \"\", \"2025-06-01\"\n",
      "  warnings.warn(f'Multiple revisions: {rev_list}', alferr.ALFWarning)\n",
      "/opt/anaconda3/envs/iblenv/lib/python3.10/site-packages/one/util.py:428: ALFWarning: Multiple revisions: \"\", \"2025-06-02\"\n",
      "  warnings.warn(f'Multiple revisions: {rev_list}', alferr.ALFWarning)\n"
     ]
    },
    {
     "name": "stdout",
     "output_type": "stream",
     "text": [
      "\u001b[36m2025-09-09 17:54:30 INFO     one.py:1288 Loading pupil data\u001b[0m\n"
     ]
    },
    {
     "name": "stderr",
     "output_type": "stream",
     "text": [
      "/opt/anaconda3/envs/iblenv/lib/python3.10/site-packages/one/util.py:428: ALFWarning: Multiple revisions: \"2025-06-18\", \"\"\n",
      "  warnings.warn(f'Multiple revisions: {rev_list}', alferr.ALFWarning)\n"
     ]
    },
    {
     "name": "stdout",
     "output_type": "stream",
     "text": [
      "\u001b[1;33m2025-09-09 17:54:30 WARNING  one.py:1292 Could not load pupil data.\u001b[0m\n"
     ]
    },
    {
     "name": "stderr",
     "output_type": "stream",
     "text": [
      "/opt/anaconda3/envs/iblenv/lib/python3.10/site-packages/one/util.py:428: ALFWarning: Multiple revisions: \"2025-05-30\", \"\"\n",
      "  warnings.warn(f'Multiple revisions: {rev_list}', alferr.ALFWarning)\n",
      "(S3) /Users/ineslaranjeira/Downloads/FlatIron/mrsicflogellab/Subjects/SWC_058/2020-12-07/001/alf/_ibl_rightCamera.lightningPose.pqt: 100%|██████████| 401M/401M [00:37<00:00, 10.8MB/s] \n"
     ]
    },
    {
     "name": "stdout",
     "output_type": "stream",
     "text": [
      "\u001b[36m2025-09-09 17:55:15 INFO     one.py:1288 Loading trials data\u001b[0m\n"
     ]
    },
    {
     "name": "stderr",
     "output_type": "stream",
     "text": [
      "/opt/anaconda3/envs/iblenv/lib/python3.10/site-packages/one/util.py:428: ALFWarning: Multiple revisions: \"\", \"2025-03-03\"\n",
      "  warnings.warn(f'Multiple revisions: {rev_list}', alferr.ALFWarning)\n"
     ]
    },
    {
     "name": "stdout",
     "output_type": "stream",
     "text": [
      "\u001b[36m2025-09-09 17:55:16 INFO     one.py:1288 Loading wheel data\u001b[0m\n",
      "\u001b[36m2025-09-09 17:55:18 INFO     one.py:1288 Loading motion_energy data\u001b[0m\n"
     ]
    },
    {
     "name": "stderr",
     "output_type": "stream",
     "text": [
      "/opt/anaconda3/envs/iblenv/lib/python3.10/site-packages/one/util.py:428: ALFWarning: Multiple revisions: \"\", \"2025-05-30\"\n",
      "  warnings.warn(f'Multiple revisions: {rev_list}', alferr.ALFWarning)\n",
      "/opt/anaconda3/envs/iblenv/lib/python3.10/site-packages/one/util.py:428: ALFWarning: Multiple revisions: \"\", \"2025-06-01\"\n",
      "  warnings.warn(f'Multiple revisions: {rev_list}', alferr.ALFWarning)\n",
      "/opt/anaconda3/envs/iblenv/lib/python3.10/site-packages/one/util.py:428: ALFWarning: Multiple revisions: \"\", \"2025-06-02\"\n",
      "  warnings.warn(f'Multiple revisions: {rev_list}', alferr.ALFWarning)\n"
     ]
    },
    {
     "name": "stdout",
     "output_type": "stream",
     "text": [
      "\u001b[36m2025-09-09 17:55:19 INFO     one.py:1288 Loading pupil data\u001b[0m\n"
     ]
    },
    {
     "name": "stderr",
     "output_type": "stream",
     "text": [
      "/opt/anaconda3/envs/iblenv/lib/python3.10/site-packages/one/util.py:428: ALFWarning: Multiple revisions: \"2025-06-20\", \"\"\n",
      "  warnings.warn(f'Multiple revisions: {rev_list}', alferr.ALFWarning)\n",
      "local file size mismatch on dataset: mrsicflogellab/Subjects/SWC_058/2020-12-08/001/alf/_ibl_leftCamera.lightningPose.pqt\n",
      "(S3) /Users/ineslaranjeira/Downloads/FlatIron/mrsicflogellab/Subjects/SWC_058/2020-12-08/001/alf/_ibl_leftCamera.lightningPose.pqt: 100%|██████████| 152M/152M [00:14<00:00, 10.8MB/s] \n",
      "(S3) /Users/ineslaranjeira/Downloads/FlatIron/mrsicflogellab/Subjects/SWC_058/2020-12-08/001/alf/_ibl_rightCamera.lightningPose.pqt: 100%|██████████| 358M/358M [00:37<00:00, 9.62MB/s] \n"
     ]
    },
    {
     "name": "stdout",
     "output_type": "stream",
     "text": [
      "\u001b[36m2025-09-09 17:56:20 INFO     one.py:1288 Loading trials data\u001b[0m\n"
     ]
    },
    {
     "name": "stderr",
     "output_type": "stream",
     "text": [
      "/opt/anaconda3/envs/iblenv/lib/python3.10/site-packages/one/util.py:428: ALFWarning: Multiple revisions: \"\", \"2025-03-03\"\n",
      "  warnings.warn(f'Multiple revisions: {rev_list}', alferr.ALFWarning)\n"
     ]
    },
    {
     "name": "stdout",
     "output_type": "stream",
     "text": [
      "\u001b[36m2025-09-09 17:56:22 INFO     one.py:1288 Loading wheel data\u001b[0m\n",
      "\u001b[36m2025-09-09 17:56:23 INFO     one.py:1288 Loading motion_energy data\u001b[0m\n"
     ]
    },
    {
     "name": "stderr",
     "output_type": "stream",
     "text": [
      "/opt/anaconda3/envs/iblenv/lib/python3.10/site-packages/one/util.py:428: ALFWarning: Multiple revisions: \"\", \"2025-05-30\"\n",
      "  warnings.warn(f'Multiple revisions: {rev_list}', alferr.ALFWarning)\n",
      "/opt/anaconda3/envs/iblenv/lib/python3.10/site-packages/one/util.py:428: ALFWarning: Multiple revisions: \"\", \"2025-06-01\"\n",
      "  warnings.warn(f'Multiple revisions: {rev_list}', alferr.ALFWarning)\n",
      "/opt/anaconda3/envs/iblenv/lib/python3.10/site-packages/one/util.py:428: ALFWarning: Multiple revisions: \"\", \"2025-06-02\"\n",
      "  warnings.warn(f'Multiple revisions: {rev_list}', alferr.ALFWarning)\n"
     ]
    },
    {
     "name": "stdout",
     "output_type": "stream",
     "text": [
      "\u001b[36m2025-09-09 17:56:24 INFO     one.py:1288 Loading pupil data\u001b[0m\n"
     ]
    },
    {
     "name": "stderr",
     "output_type": "stream",
     "text": [
      "/opt/anaconda3/envs/iblenv/lib/python3.10/site-packages/one/util.py:428: ALFWarning: Multiple revisions: \"2025-06-18\", \"\"\n",
      "  warnings.warn(f'Multiple revisions: {rev_list}', alferr.ALFWarning)\n",
      "local file size mismatch on dataset: mrsicflogellab/Subjects/SWC_058/2020-12-09/001/alf/_ibl_leftCamera.lightningPose.pqt\n",
      "(S3) /Users/ineslaranjeira/Downloads/FlatIron/mrsicflogellab/Subjects/SWC_058/2020-12-09/001/alf/_ibl_leftCamera.lightningPose.pqt: 100%|██████████| 162M/162M [00:18<00:00, 8.64MB/s] \n",
      "(S3) /Users/ineslaranjeira/Downloads/FlatIron/mrsicflogellab/Subjects/SWC_058/2020-12-09/001/alf/_ibl_rightCamera.lightningPose.pqt: 100%|██████████| 381M/381M [00:39<00:00, 9.68MB/s] \n"
     ]
    },
    {
     "name": "stdout",
     "output_type": "stream",
     "text": [
      "\u001b[36m2025-09-09 17:57:32 INFO     one.py:1288 Loading trials data\u001b[0m\n"
     ]
    },
    {
     "name": "stderr",
     "output_type": "stream",
     "text": [
      "/opt/anaconda3/envs/iblenv/lib/python3.10/site-packages/one/util.py:428: ALFWarning: Multiple revisions: \"\", \"2025-03-03\"\n",
      "  warnings.warn(f'Multiple revisions: {rev_list}', alferr.ALFWarning)\n"
     ]
    },
    {
     "name": "stdout",
     "output_type": "stream",
     "text": [
      "\u001b[36m2025-09-09 17:57:34 INFO     one.py:1288 Loading wheel data\u001b[0m\n",
      "\u001b[36m2025-09-09 17:57:36 INFO     one.py:1288 Loading motion_energy data\u001b[0m\n"
     ]
    },
    {
     "name": "stderr",
     "output_type": "stream",
     "text": [
      "/opt/anaconda3/envs/iblenv/lib/python3.10/site-packages/one/util.py:428: ALFWarning: Multiple revisions: \"\", \"2025-05-30\"\n",
      "  warnings.warn(f'Multiple revisions: {rev_list}', alferr.ALFWarning)\n",
      "/opt/anaconda3/envs/iblenv/lib/python3.10/site-packages/one/util.py:428: ALFWarning: Multiple revisions: \"\", \"2025-06-01\"\n",
      "  warnings.warn(f'Multiple revisions: {rev_list}', alferr.ALFWarning)\n",
      "/opt/anaconda3/envs/iblenv/lib/python3.10/site-packages/one/util.py:428: ALFWarning: Multiple revisions: \"\", \"2025-06-02\"\n",
      "  warnings.warn(f'Multiple revisions: {rev_list}', alferr.ALFWarning)\n"
     ]
    },
    {
     "name": "stdout",
     "output_type": "stream",
     "text": [
      "\u001b[36m2025-09-09 17:57:37 INFO     one.py:1288 Loading pupil data\u001b[0m\n"
     ]
    },
    {
     "name": "stderr",
     "output_type": "stream",
     "text": [
      "/opt/anaconda3/envs/iblenv/lib/python3.10/site-packages/one/util.py:428: ALFWarning: Multiple revisions: \"2025-06-18\", \"\"\n",
      "  warnings.warn(f'Multiple revisions: {rev_list}', alferr.ALFWarning)\n",
      "local file size mismatch on dataset: mrsicflogellab/Subjects/SWC_058/2020-12-10/001/alf/_ibl_leftCamera.lightningPose.pqt\n",
      "(S3) /Users/ineslaranjeira/Downloads/FlatIron/mrsicflogellab/Subjects/SWC_058/2020-12-10/001/alf/_ibl_leftCamera.lightningPose.pqt: 100%|██████████| 128M/128M [00:10<00:00, 12.5MB/s] \n",
      "(S3) /Users/ineslaranjeira/Downloads/FlatIron/mrsicflogellab/Subjects/SWC_058/2020-12-10/001/alf/_ibl_rightCamera.lightningPose.pqt: 100%|██████████| 294M/294M [00:21<00:00, 13.5MB/s] \n"
     ]
    },
    {
     "name": "stdout",
     "output_type": "stream",
     "text": [
      "\u001b[36m2025-09-09 17:58:18 INFO     one.py:1288 Loading trials data\u001b[0m\n"
     ]
    },
    {
     "name": "stderr",
     "output_type": "stream",
     "text": [
      "/opt/anaconda3/envs/iblenv/lib/python3.10/site-packages/one/util.py:428: ALFWarning: Multiple revisions: \"\", \"2025-03-03\"\n",
      "  warnings.warn(f'Multiple revisions: {rev_list}', alferr.ALFWarning)\n"
     ]
    },
    {
     "name": "stdout",
     "output_type": "stream",
     "text": [
      "\u001b[36m2025-09-09 17:58:19 INFO     one.py:1288 Loading wheel data\u001b[0m\n",
      "\u001b[36m2025-09-09 17:58:21 INFO     one.py:1288 Loading motion_energy data\u001b[0m\n"
     ]
    },
    {
     "name": "stderr",
     "output_type": "stream",
     "text": [
      "/opt/anaconda3/envs/iblenv/lib/python3.10/site-packages/one/util.py:428: ALFWarning: Multiple revisions: \"\", \"2025-05-30\"\n",
      "  warnings.warn(f'Multiple revisions: {rev_list}', alferr.ALFWarning)\n",
      "/opt/anaconda3/envs/iblenv/lib/python3.10/site-packages/one/util.py:428: ALFWarning: Multiple revisions: \"\", \"2025-06-01\"\n",
      "  warnings.warn(f'Multiple revisions: {rev_list}', alferr.ALFWarning)\n",
      "/opt/anaconda3/envs/iblenv/lib/python3.10/site-packages/one/util.py:428: ALFWarning: Multiple revisions: \"\", \"2025-06-02\"\n",
      "  warnings.warn(f'Multiple revisions: {rev_list}', alferr.ALFWarning)\n"
     ]
    },
    {
     "name": "stdout",
     "output_type": "stream",
     "text": [
      "\u001b[36m2025-09-09 17:58:22 INFO     one.py:1288 Loading pupil data\u001b[0m\n"
     ]
    },
    {
     "name": "stderr",
     "output_type": "stream",
     "text": [
      "/opt/anaconda3/envs/iblenv/lib/python3.10/site-packages/one/util.py:428: ALFWarning: Multiple revisions: \"2025-06-18\", \"\"\n",
      "  warnings.warn(f'Multiple revisions: {rev_list}', alferr.ALFWarning)\n",
      "local file size mismatch on dataset: mrsicflogellab/Subjects/SWC_065/2022-05-07/001/alf/_ibl_leftCamera.lightningPose.pqt\n",
      "(S3) /Users/ineslaranjeira/Downloads/FlatIron/mrsicflogellab/Subjects/SWC_065/2022-05-07/001/alf/_ibl_leftCamera.lightningPose.pqt: 100%|██████████| 154M/154M [00:13<00:00, 11.5MB/s] \n",
      "(S3) /Users/ineslaranjeira/Downloads/FlatIron/mrsicflogellab/Subjects/SWC_065/2022-05-07/001/alf/_ibl_rightCamera.lightningPose.pqt: 100%|██████████| 364M/364M [00:39<00:00, 9.27MB/s] \n"
     ]
    },
    {
     "name": "stdout",
     "output_type": "stream",
     "text": [
      "\u001b[36m2025-09-09 17:59:22 INFO     one.py:1288 Loading trials data\u001b[0m\n"
     ]
    },
    {
     "name": "stderr",
     "output_type": "stream",
     "text": [
      "/opt/anaconda3/envs/iblenv/lib/python3.10/site-packages/one/util.py:428: ALFWarning: Multiple revisions: \"\", \"2025-03-03\"\n",
      "  warnings.warn(f'Multiple revisions: {rev_list}', alferr.ALFWarning)\n"
     ]
    },
    {
     "name": "stdout",
     "output_type": "stream",
     "text": [
      "\u001b[36m2025-09-09 17:59:23 INFO     one.py:1288 Loading wheel data\u001b[0m\n",
      "\u001b[36m2025-09-09 17:59:25 INFO     one.py:1288 Loading motion_energy data\u001b[0m\n"
     ]
    },
    {
     "name": "stderr",
     "output_type": "stream",
     "text": [
      "/opt/anaconda3/envs/iblenv/lib/python3.10/site-packages/one/util.py:428: ALFWarning: Multiple revisions: \"\", \"2025-05-30\"\n",
      "  warnings.warn(f'Multiple revisions: {rev_list}', alferr.ALFWarning)\n",
      "/opt/anaconda3/envs/iblenv/lib/python3.10/site-packages/one/util.py:428: ALFWarning: Multiple revisions: \"\", \"2025-06-01\"\n",
      "  warnings.warn(f'Multiple revisions: {rev_list}', alferr.ALFWarning)\n",
      "/opt/anaconda3/envs/iblenv/lib/python3.10/site-packages/one/util.py:428: ALFWarning: Multiple revisions: \"\", \"2025-06-02\"\n",
      "  warnings.warn(f'Multiple revisions: {rev_list}', alferr.ALFWarning)\n"
     ]
    },
    {
     "name": "stdout",
     "output_type": "stream",
     "text": [
      "\u001b[36m2025-09-09 17:59:26 INFO     one.py:1288 Loading pupil data\u001b[0m\n"
     ]
    },
    {
     "name": "stderr",
     "output_type": "stream",
     "text": [
      "/opt/anaconda3/envs/iblenv/lib/python3.10/site-packages/one/util.py:428: ALFWarning: Multiple revisions: \"2025-06-18\", \"\"\n",
      "  warnings.warn(f'Multiple revisions: {rev_list}', alferr.ALFWarning)\n",
      "(S3) /Users/ineslaranjeira/Downloads/FlatIron/steinmetzlab/Subjects/NR_0017/2022-03-22/001/alf/_ibl_rightCamera.lightningPose.pqt: 100%|██████████| 372M/372M [00:29<00:00, 12.6MB/s] \n"
     ]
    },
    {
     "name": "stdout",
     "output_type": "stream",
     "text": [
      "\u001b[36m2025-09-09 18:00:04 INFO     one.py:1288 Loading trials data\u001b[0m\n"
     ]
    },
    {
     "name": "stderr",
     "output_type": "stream",
     "text": [
      "/opt/anaconda3/envs/iblenv/lib/python3.10/site-packages/one/util.py:428: ALFWarning: Multiple revisions: \"\", \"2025-03-03\"\n",
      "  warnings.warn(f'Multiple revisions: {rev_list}', alferr.ALFWarning)\n"
     ]
    },
    {
     "name": "stdout",
     "output_type": "stream",
     "text": [
      "\u001b[36m2025-09-09 18:00:05 INFO     one.py:1288 Loading wheel data\u001b[0m\n",
      "\u001b[36m2025-09-09 18:00:07 INFO     one.py:1288 Loading motion_energy data\u001b[0m\n"
     ]
    },
    {
     "name": "stderr",
     "output_type": "stream",
     "text": [
      "/opt/anaconda3/envs/iblenv/lib/python3.10/site-packages/one/util.py:428: ALFWarning: Multiple revisions: \"\", \"2025-05-30\"\n",
      "  warnings.warn(f'Multiple revisions: {rev_list}', alferr.ALFWarning)\n",
      "/opt/anaconda3/envs/iblenv/lib/python3.10/site-packages/one/util.py:428: ALFWarning: Multiple revisions: \"\", \"2025-06-01\"\n",
      "  warnings.warn(f'Multiple revisions: {rev_list}', alferr.ALFWarning)\n",
      "/opt/anaconda3/envs/iblenv/lib/python3.10/site-packages/one/util.py:428: ALFWarning: Multiple revisions: \"\", \"2025-06-02\"\n",
      "  warnings.warn(f'Multiple revisions: {rev_list}', alferr.ALFWarning)\n"
     ]
    },
    {
     "name": "stdout",
     "output_type": "stream",
     "text": [
      "\u001b[36m2025-09-09 18:00:08 INFO     one.py:1288 Loading pupil data\u001b[0m\n"
     ]
    },
    {
     "name": "stderr",
     "output_type": "stream",
     "text": [
      "/opt/anaconda3/envs/iblenv/lib/python3.10/site-packages/one/util.py:428: ALFWarning: Multiple revisions: \"2025-06-04\", \"\"\n",
      "  warnings.warn(f'Multiple revisions: {rev_list}', alferr.ALFWarning)\n"
     ]
    },
    {
     "name": "stdout",
     "output_type": "stream",
     "text": [
      "\u001b[1;33m2025-09-09 18:00:08 WARNING  one.py:1292 Could not load pupil data.\u001b[0m\n"
     ]
    },
    {
     "name": "stderr",
     "output_type": "stream",
     "text": [
      "/opt/anaconda3/envs/iblenv/lib/python3.10/site-packages/one/util.py:428: ALFWarning: Multiple revisions: \"2025-05-30\", \"\"\n",
      "  warnings.warn(f'Multiple revisions: {rev_list}', alferr.ALFWarning)\n",
      "(S3) /Users/ineslaranjeira/Downloads/FlatIron/steinmetzlab/Subjects/NR_0019/2022-04-29/001/alf/_ibl_rightCamera.lightningPose.pqt: 100%|██████████| 280M/280M [00:23<00:00, 11.7MB/s] \n"
     ]
    },
    {
     "name": "stdout",
     "output_type": "stream",
     "text": [
      "\u001b[36m2025-09-09 18:00:40 INFO     one.py:1288 Loading trials data\u001b[0m\n"
     ]
    },
    {
     "name": "stderr",
     "output_type": "stream",
     "text": [
      "/opt/anaconda3/envs/iblenv/lib/python3.10/site-packages/one/util.py:428: ALFWarning: Multiple revisions: \"\", \"2025-03-03\"\n",
      "  warnings.warn(f'Multiple revisions: {rev_list}', alferr.ALFWarning)\n"
     ]
    },
    {
     "name": "stdout",
     "output_type": "stream",
     "text": [
      "\u001b[36m2025-09-09 18:00:41 INFO     one.py:1288 Loading wheel data\u001b[0m\n",
      "\u001b[36m2025-09-09 18:00:43 INFO     one.py:1288 Loading motion_energy data\u001b[0m\n"
     ]
    },
    {
     "name": "stderr",
     "output_type": "stream",
     "text": [
      "/opt/anaconda3/envs/iblenv/lib/python3.10/site-packages/one/util.py:428: ALFWarning: Multiple revisions: \"\", \"2025-05-30\"\n",
      "  warnings.warn(f'Multiple revisions: {rev_list}', alferr.ALFWarning)\n",
      "/opt/anaconda3/envs/iblenv/lib/python3.10/site-packages/one/util.py:428: ALFWarning: Multiple revisions: \"\", \"2025-06-01\"\n",
      "  warnings.warn(f'Multiple revisions: {rev_list}', alferr.ALFWarning)\n",
      "/opt/anaconda3/envs/iblenv/lib/python3.10/site-packages/one/util.py:428: ALFWarning: Multiple revisions: \"\", \"2025-06-02\"\n",
      "  warnings.warn(f'Multiple revisions: {rev_list}', alferr.ALFWarning)\n"
     ]
    },
    {
     "name": "stdout",
     "output_type": "stream",
     "text": [
      "\u001b[36m2025-09-09 18:00:44 INFO     one.py:1288 Loading pupil data\u001b[0m\n"
     ]
    },
    {
     "name": "stderr",
     "output_type": "stream",
     "text": [
      "/opt/anaconda3/envs/iblenv/lib/python3.10/site-packages/one/util.py:428: ALFWarning: Multiple revisions: \"2025-06-20\", \"\"\n",
      "  warnings.warn(f'Multiple revisions: {rev_list}', alferr.ALFWarning)\n",
      "local file size mismatch on dataset: steinmetzlab/Subjects/NR_0019/2022-05-01/001/alf/_ibl_leftCamera.lightningPose.pqt\n",
      "(S3) /Users/ineslaranjeira/Downloads/FlatIron/steinmetzlab/Subjects/NR_0019/2022-05-01/001/alf/_ibl_leftCamera.lightningPose.pqt: 100%|██████████| 85.0M/85.0M [00:06<00:00, 12.9MB/s]\n"
     ]
    },
    {
     "name": "stdout",
     "output_type": "stream",
     "text": [
      "\u001b[36m2025-09-09 18:00:58 INFO     one.py:1288 Loading trials data\u001b[0m\n"
     ]
    },
    {
     "name": "stderr",
     "output_type": "stream",
     "text": [
      "/opt/anaconda3/envs/iblenv/lib/python3.10/site-packages/one/util.py:428: ALFWarning: Multiple revisions: \"\", \"2025-03-03\"\n",
      "  warnings.warn(f'Multiple revisions: {rev_list}', alferr.ALFWarning)\n"
     ]
    },
    {
     "name": "stdout",
     "output_type": "stream",
     "text": [
      "\u001b[36m2025-09-09 18:00:59 INFO     one.py:1288 Loading wheel data\u001b[0m\n",
      "\u001b[36m2025-09-09 18:01:00 INFO     one.py:1288 Loading motion_energy data\u001b[0m\n"
     ]
    },
    {
     "name": "stderr",
     "output_type": "stream",
     "text": [
      "/opt/anaconda3/envs/iblenv/lib/python3.10/site-packages/one/util.py:428: ALFWarning: Multiple revisions: \"\", \"2025-05-31\"\n",
      "  warnings.warn(f'Multiple revisions: {rev_list}', alferr.ALFWarning)\n",
      "/opt/anaconda3/envs/iblenv/lib/python3.10/site-packages/one/util.py:428: ALFWarning: Multiple revisions: \"\", \"2025-06-01\"\n",
      "  warnings.warn(f'Multiple revisions: {rev_list}', alferr.ALFWarning)\n",
      "/opt/anaconda3/envs/iblenv/lib/python3.10/site-packages/one/util.py:428: ALFWarning: Multiple revisions: \"\", \"2025-06-02\"\n",
      "  warnings.warn(f'Multiple revisions: {rev_list}', alferr.ALFWarning)\n"
     ]
    },
    {
     "name": "stdout",
     "output_type": "stream",
     "text": [
      "\u001b[36m2025-09-09 18:01:01 INFO     one.py:1288 Loading pupil data\u001b[0m\n"
     ]
    },
    {
     "name": "stderr",
     "output_type": "stream",
     "text": [
      "/opt/anaconda3/envs/iblenv/lib/python3.10/site-packages/one/util.py:428: ALFWarning: Multiple revisions: \"2025-06-18\", \"\"\n",
      "  warnings.warn(f'Multiple revisions: {rev_list}', alferr.ALFWarning)\n"
     ]
    },
    {
     "name": "stdout",
     "output_type": "stream",
     "text": [
      "\u001b[1;33m2025-09-09 18:01:02 WARNING  one.py:1292 Could not load pupil data.\u001b[0m\n"
     ]
    },
    {
     "name": "stderr",
     "output_type": "stream",
     "text": [
      "local file size mismatch on dataset: steinmetzlab/Subjects/NR_0019/2022-05-03/001/alf/_ibl_leftCamera.lightningPose.pqt\n",
      "(S3) /Users/ineslaranjeira/Downloads/FlatIron/steinmetzlab/Subjects/NR_0019/2022-05-03/001/alf/_ibl_leftCamera.lightningPose.pqt: 100%|██████████| 161M/161M [00:16<00:00, 9.53MB/s] \n",
      "(S3) /Users/ineslaranjeira/Downloads/FlatIron/steinmetzlab/Subjects/NR_0019/2022-05-03/001/alf/_ibl_rightCamera.lightningPose.pqt: 100%|██████████| 365M/365M [00:34<00:00, 10.6MB/s] \n"
     ]
    },
    {
     "name": "stdout",
     "output_type": "stream",
     "text": [
      "\u001b[36m2025-09-09 18:02:00 INFO     one.py:1288 Loading trials data\u001b[0m\n"
     ]
    },
    {
     "name": "stderr",
     "output_type": "stream",
     "text": [
      "/opt/anaconda3/envs/iblenv/lib/python3.10/site-packages/one/util.py:428: ALFWarning: Multiple revisions: \"\", \"2025-03-03\"\n",
      "  warnings.warn(f'Multiple revisions: {rev_list}', alferr.ALFWarning)\n"
     ]
    },
    {
     "name": "stdout",
     "output_type": "stream",
     "text": [
      "\u001b[36m2025-09-09 18:02:01 INFO     one.py:1288 Loading wheel data\u001b[0m\n",
      "\u001b[36m2025-09-09 18:02:02 INFO     one.py:1288 Loading motion_energy data\u001b[0m\n"
     ]
    },
    {
     "name": "stderr",
     "output_type": "stream",
     "text": [
      "/opt/anaconda3/envs/iblenv/lib/python3.10/site-packages/one/util.py:428: ALFWarning: Multiple revisions: \"\", \"2025-05-30\"\n",
      "  warnings.warn(f'Multiple revisions: {rev_list}', alferr.ALFWarning)\n",
      "/opt/anaconda3/envs/iblenv/lib/python3.10/site-packages/one/util.py:428: ALFWarning: Multiple revisions: \"\", \"2025-06-01\"\n",
      "  warnings.warn(f'Multiple revisions: {rev_list}', alferr.ALFWarning)\n",
      "/opt/anaconda3/envs/iblenv/lib/python3.10/site-packages/one/util.py:428: ALFWarning: Multiple revisions: \"\", \"2025-06-02\"\n",
      "  warnings.warn(f'Multiple revisions: {rev_list}', alferr.ALFWarning)\n"
     ]
    },
    {
     "name": "stdout",
     "output_type": "stream",
     "text": [
      "\u001b[36m2025-09-09 18:02:03 INFO     one.py:1288 Loading pupil data\u001b[0m\n"
     ]
    },
    {
     "name": "stderr",
     "output_type": "stream",
     "text": [
      "/opt/anaconda3/envs/iblenv/lib/python3.10/site-packages/one/util.py:428: ALFWarning: Multiple revisions: \"2025-06-18\", \"\"\n",
      "  warnings.warn(f'Multiple revisions: {rev_list}', alferr.ALFWarning)\n",
      "/opt/anaconda3/envs/iblenv/lib/python3.10/site-packages/one/util.py:428: ALFWarning: Multiple revisions: \"2025-05-30\", \"\"\n",
      "  warnings.warn(f'Multiple revisions: {rev_list}', alferr.ALFWarning)\n",
      "(S3) /Users/ineslaranjeira/Downloads/FlatIron/steinmetzlab/Subjects/NR_0020/2022-05-08/001/alf/_ibl_rightCamera.lightningPose.pqt: 100%|██████████| 263M/263M [00:28<00:00, 9.12MB/s] \n"
     ]
    },
    {
     "name": "stdout",
     "output_type": "stream",
     "text": [
      "\u001b[36m2025-09-09 18:02:41 INFO     one.py:1288 Loading trials data\u001b[0m\n"
     ]
    },
    {
     "name": "stderr",
     "output_type": "stream",
     "text": [
      "/opt/anaconda3/envs/iblenv/lib/python3.10/site-packages/one/util.py:428: ALFWarning: Multiple revisions: \"\", \"2025-03-03\"\n",
      "  warnings.warn(f'Multiple revisions: {rev_list}', alferr.ALFWarning)\n"
     ]
    },
    {
     "name": "stdout",
     "output_type": "stream",
     "text": [
      "\u001b[36m2025-09-09 18:02:42 INFO     one.py:1288 Loading wheel data\u001b[0m\n",
      "\u001b[36m2025-09-09 18:02:43 INFO     one.py:1288 Loading motion_energy data\u001b[0m\n"
     ]
    },
    {
     "name": "stderr",
     "output_type": "stream",
     "text": [
      "/opt/anaconda3/envs/iblenv/lib/python3.10/site-packages/one/util.py:428: ALFWarning: Multiple revisions: \"\", \"2025-05-30\"\n",
      "  warnings.warn(f'Multiple revisions: {rev_list}', alferr.ALFWarning)\n",
      "/opt/anaconda3/envs/iblenv/lib/python3.10/site-packages/one/util.py:428: ALFWarning: Multiple revisions: \"\", \"2025-06-01\"\n",
      "  warnings.warn(f'Multiple revisions: {rev_list}', alferr.ALFWarning)\n",
      "/opt/anaconda3/envs/iblenv/lib/python3.10/site-packages/one/util.py:428: ALFWarning: Multiple revisions: \"\", \"2025-06-02\"\n",
      "  warnings.warn(f'Multiple revisions: {rev_list}', alferr.ALFWarning)\n"
     ]
    },
    {
     "name": "stdout",
     "output_type": "stream",
     "text": [
      "\u001b[36m2025-09-09 18:02:45 INFO     one.py:1288 Loading pupil data\u001b[0m\n"
     ]
    },
    {
     "name": "stderr",
     "output_type": "stream",
     "text": [
      "/opt/anaconda3/envs/iblenv/lib/python3.10/site-packages/one/util.py:428: ALFWarning: Multiple revisions: \"2025-06-20\", \"\"\n",
      "  warnings.warn(f'Multiple revisions: {rev_list}', alferr.ALFWarning)\n"
     ]
    },
    {
     "name": "stdout",
     "output_type": "stream",
     "text": [
      "\u001b[1;33m2025-09-09 18:02:45 WARNING  one.py:1292 Could not load pupil data.\u001b[0m\n"
     ]
    },
    {
     "name": "stderr",
     "output_type": "stream",
     "text": [
      "local file size mismatch on dataset: steinmetzlab/Subjects/NR_0020/2022-05-09/001/alf/_ibl_leftCamera.lightningPose.pqt\n",
      "(S3) /Users/ineslaranjeira/Downloads/FlatIron/steinmetzlab/Subjects/NR_0020/2022-05-09/001/alf/_ibl_leftCamera.lightningPose.pqt: 100%|██████████| 141M/141M [00:14<00:00, 9.70MB/s] \n",
      "(S3) /Users/ineslaranjeira/Downloads/FlatIron/steinmetzlab/Subjects/NR_0020/2022-05-09/001/alf/_ibl_rightCamera.lightningPose.pqt: 100%|██████████| 316M/316M [00:28<00:00, 11.2MB/s] \n"
     ]
    },
    {
     "name": "stdout",
     "output_type": "stream",
     "text": [
      "\u001b[36m2025-09-09 18:03:35 INFO     one.py:1288 Loading trials data\u001b[0m\n"
     ]
    },
    {
     "name": "stderr",
     "output_type": "stream",
     "text": [
      "/opt/anaconda3/envs/iblenv/lib/python3.10/site-packages/one/util.py:428: ALFWarning: Multiple revisions: \"\", \"2025-03-03\"\n",
      "  warnings.warn(f'Multiple revisions: {rev_list}', alferr.ALFWarning)\n"
     ]
    },
    {
     "name": "stdout",
     "output_type": "stream",
     "text": [
      "\u001b[36m2025-09-09 18:03:36 INFO     one.py:1288 Loading wheel data\u001b[0m\n",
      "\u001b[36m2025-09-09 18:03:37 INFO     one.py:1288 Loading motion_energy data\u001b[0m\n"
     ]
    },
    {
     "name": "stderr",
     "output_type": "stream",
     "text": [
      "/opt/anaconda3/envs/iblenv/lib/python3.10/site-packages/one/util.py:428: ALFWarning: Multiple revisions: \"\", \"2025-05-30\"\n",
      "  warnings.warn(f'Multiple revisions: {rev_list}', alferr.ALFWarning)\n",
      "/opt/anaconda3/envs/iblenv/lib/python3.10/site-packages/one/util.py:428: ALFWarning: Multiple revisions: \"\", \"2025-06-01\"\n",
      "  warnings.warn(f'Multiple revisions: {rev_list}', alferr.ALFWarning)\n",
      "/opt/anaconda3/envs/iblenv/lib/python3.10/site-packages/one/util.py:428: ALFWarning: Multiple revisions: \"\", \"2025-06-02\"\n",
      "  warnings.warn(f'Multiple revisions: {rev_list}', alferr.ALFWarning)\n"
     ]
    },
    {
     "name": "stdout",
     "output_type": "stream",
     "text": [
      "\u001b[36m2025-09-09 18:03:38 INFO     one.py:1288 Loading pupil data\u001b[0m\n"
     ]
    },
    {
     "name": "stderr",
     "output_type": "stream",
     "text": [
      "/opt/anaconda3/envs/iblenv/lib/python3.10/site-packages/one/util.py:428: ALFWarning: Multiple revisions: \"2025-06-18\", \"\"\n",
      "  warnings.warn(f'Multiple revisions: {rev_list}', alferr.ALFWarning)\n"
     ]
    },
    {
     "name": "stdout",
     "output_type": "stream",
     "text": [
      "\u001b[1;33m2025-09-09 18:03:39 WARNING  one.py:1292 Could not load pupil data.\u001b[0m\n"
     ]
    },
    {
     "name": "stderr",
     "output_type": "stream",
     "text": [
      "local file size mismatch on dataset: steinmetzlab/Subjects/NR_0020/2022-05-10/001/alf/_ibl_leftCamera.lightningPose.pqt\n",
      "(S3) /Users/ineslaranjeira/Downloads/FlatIron/steinmetzlab/Subjects/NR_0020/2022-05-10/001/alf/_ibl_leftCamera.lightningPose.pqt: 100%|██████████| 142M/142M [00:14<00:00, 10.1MB/s] \n",
      "(S3) /Users/ineslaranjeira/Downloads/FlatIron/steinmetzlab/Subjects/NR_0020/2022-05-10/001/alf/_ibl_rightCamera.lightningPose.pqt: 100%|██████████| 319M/319M [00:18<00:00, 17.4MB/s] \n"
     ]
    },
    {
     "name": "stdout",
     "output_type": "stream",
     "text": [
      "\u001b[36m2025-09-09 18:04:19 INFO     one.py:1288 Loading trials data\u001b[0m\n"
     ]
    },
    {
     "name": "stderr",
     "output_type": "stream",
     "text": [
      "/opt/anaconda3/envs/iblenv/lib/python3.10/site-packages/one/util.py:428: ALFWarning: Multiple revisions: \"\", \"2025-03-03\"\n",
      "  warnings.warn(f'Multiple revisions: {rev_list}', alferr.ALFWarning)\n"
     ]
    },
    {
     "name": "stdout",
     "output_type": "stream",
     "text": [
      "\u001b[36m2025-09-09 18:04:20 INFO     one.py:1288 Loading wheel data\u001b[0m\n",
      "\u001b[36m2025-09-09 18:04:21 INFO     one.py:1288 Loading motion_energy data\u001b[0m\n"
     ]
    },
    {
     "name": "stderr",
     "output_type": "stream",
     "text": [
      "/opt/anaconda3/envs/iblenv/lib/python3.10/site-packages/one/util.py:428: ALFWarning: Multiple revisions: \"\", \"2025-05-30\"\n",
      "  warnings.warn(f'Multiple revisions: {rev_list}', alferr.ALFWarning)\n",
      "/opt/anaconda3/envs/iblenv/lib/python3.10/site-packages/one/util.py:428: ALFWarning: Multiple revisions: \"\", \"2025-06-01\"\n",
      "  warnings.warn(f'Multiple revisions: {rev_list}', alferr.ALFWarning)\n",
      "/opt/anaconda3/envs/iblenv/lib/python3.10/site-packages/one/util.py:428: ALFWarning: Multiple revisions: \"\", \"2025-06-02\"\n",
      "  warnings.warn(f'Multiple revisions: {rev_list}', alferr.ALFWarning)\n"
     ]
    },
    {
     "name": "stdout",
     "output_type": "stream",
     "text": [
      "\u001b[36m2025-09-09 18:04:22 INFO     one.py:1288 Loading pupil data\u001b[0m\n"
     ]
    },
    {
     "name": "stderr",
     "output_type": "stream",
     "text": [
      "/opt/anaconda3/envs/iblenv/lib/python3.10/site-packages/one/util.py:428: ALFWarning: Multiple revisions: \"2025-06-18\", \"\"\n",
      "  warnings.warn(f'Multiple revisions: {rev_list}', alferr.ALFWarning)\n"
     ]
    },
    {
     "name": "stdout",
     "output_type": "stream",
     "text": [
      "\u001b[1;33m2025-09-09 18:04:23 WARNING  one.py:1292 Could not load pupil data.\u001b[0m\n"
     ]
    },
    {
     "name": "stderr",
     "output_type": "stream",
     "text": [
      "local file size mismatch on dataset: steinmetzlab/Subjects/NR_0020/2022-05-11/001/alf/_ibl_leftCamera.lightningPose.pqt\n",
      "(S3) /Users/ineslaranjeira/Downloads/FlatIron/steinmetzlab/Subjects/NR_0020/2022-05-11/001/alf/_ibl_leftCamera.lightningPose.pqt: 100%|██████████| 121M/121M [00:10<00:00, 11.4MB/s] \n",
      "(S3) /Users/ineslaranjeira/Downloads/FlatIron/steinmetzlab/Subjects/NR_0020/2022-05-11/001/alf/_ibl_rightCamera.lightningPose.pqt: 100%|██████████| 268M/268M [00:22<00:00, 11.7MB/s] \n"
     ]
    },
    {
     "name": "stdout",
     "output_type": "stream",
     "text": [
      "\u001b[36m2025-09-09 18:05:04 INFO     one.py:1288 Loading trials data\u001b[0m\n"
     ]
    },
    {
     "name": "stderr",
     "output_type": "stream",
     "text": [
      "/opt/anaconda3/envs/iblenv/lib/python3.10/site-packages/one/util.py:428: ALFWarning: Multiple revisions: \"\", \"2025-03-03\"\n",
      "  warnings.warn(f'Multiple revisions: {rev_list}', alferr.ALFWarning)\n"
     ]
    },
    {
     "name": "stdout",
     "output_type": "stream",
     "text": [
      "\u001b[36m2025-09-09 18:05:05 INFO     one.py:1288 Loading wheel data\u001b[0m\n",
      "\u001b[36m2025-09-09 18:05:06 INFO     one.py:1288 Loading motion_energy data\u001b[0m\n"
     ]
    },
    {
     "name": "stderr",
     "output_type": "stream",
     "text": [
      "/opt/anaconda3/envs/iblenv/lib/python3.10/site-packages/one/util.py:428: ALFWarning: Multiple revisions: \"\", \"2025-05-30\"\n",
      "  warnings.warn(f'Multiple revisions: {rev_list}', alferr.ALFWarning)\n",
      "/opt/anaconda3/envs/iblenv/lib/python3.10/site-packages/one/util.py:428: ALFWarning: Multiple revisions: \"\", \"2025-06-01\"\n",
      "  warnings.warn(f'Multiple revisions: {rev_list}', alferr.ALFWarning)\n",
      "/opt/anaconda3/envs/iblenv/lib/python3.10/site-packages/one/util.py:428: ALFWarning: Multiple revisions: \"\", \"2025-06-02\"\n",
      "  warnings.warn(f'Multiple revisions: {rev_list}', alferr.ALFWarning)\n"
     ]
    },
    {
     "name": "stdout",
     "output_type": "stream",
     "text": [
      "\u001b[36m2025-09-09 18:05:08 INFO     one.py:1288 Loading pupil data\u001b[0m\n"
     ]
    },
    {
     "name": "stderr",
     "output_type": "stream",
     "text": [
      "/opt/anaconda3/envs/iblenv/lib/python3.10/site-packages/one/util.py:428: ALFWarning: Multiple revisions: \"2025-06-18\", \"\"\n",
      "  warnings.warn(f'Multiple revisions: {rev_list}', alferr.ALFWarning)\n"
     ]
    },
    {
     "name": "stdout",
     "output_type": "stream",
     "text": [
      "\u001b[1;33m2025-09-09 18:05:08 WARNING  one.py:1292 Could not load pupil data.\u001b[0m\n"
     ]
    },
    {
     "name": "stderr",
     "output_type": "stream",
     "text": [
      "local file size mismatch on dataset: steinmetzlab/Subjects/NR_0021/2022-06-28/001/alf/_ibl_leftCamera.lightningPose.pqt\n",
      "(S3) /Users/ineslaranjeira/Downloads/FlatIron/steinmetzlab/Subjects/NR_0021/2022-06-28/001/alf/_ibl_leftCamera.lightningPose.pqt: 100%|██████████| 145M/145M [00:10<00:00, 13.6MB/s] \n",
      "(S3) /Users/ineslaranjeira/Downloads/FlatIron/steinmetzlab/Subjects/NR_0021/2022-06-28/001/alf/_ibl_rightCamera.lightningPose.pqt: 100%|██████████| 328M/328M [00:23<00:00, 13.8MB/s] \n"
     ]
    },
    {
     "name": "stdout",
     "output_type": "stream",
     "text": [
      "\u001b[36m2025-09-09 18:05:50 INFO     one.py:1288 Loading trials data\u001b[0m\n"
     ]
    },
    {
     "name": "stderr",
     "output_type": "stream",
     "text": [
      "/opt/anaconda3/envs/iblenv/lib/python3.10/site-packages/one/util.py:428: ALFWarning: Multiple revisions: \"\", \"2025-03-03\"\n",
      "  warnings.warn(f'Multiple revisions: {rev_list}', alferr.ALFWarning)\n"
     ]
    },
    {
     "name": "stdout",
     "output_type": "stream",
     "text": [
      "\u001b[36m2025-09-09 18:05:51 INFO     one.py:1288 Loading wheel data\u001b[0m\n",
      "\u001b[36m2025-09-09 18:05:52 INFO     one.py:1288 Loading motion_energy data\u001b[0m\n"
     ]
    },
    {
     "name": "stderr",
     "output_type": "stream",
     "text": [
      "/opt/anaconda3/envs/iblenv/lib/python3.10/site-packages/one/util.py:428: ALFWarning: Multiple revisions: \"\", \"2025-05-30\"\n",
      "  warnings.warn(f'Multiple revisions: {rev_list}', alferr.ALFWarning)\n",
      "/opt/anaconda3/envs/iblenv/lib/python3.10/site-packages/one/util.py:428: ALFWarning: Multiple revisions: \"\", \"2025-06-01\"\n",
      "  warnings.warn(f'Multiple revisions: {rev_list}', alferr.ALFWarning)\n"
     ]
    },
    {
     "name": "stdout",
     "output_type": "stream",
     "text": [
      "\u001b[1;33m2025-09-09 18:05:53 WARNING  one.py:1292 Could not load motion_energy data.\u001b[0m\n",
      "\u001b[36m2025-09-09 18:05:53 INFO     one.py:1288 Loading pupil data\u001b[0m\n"
     ]
    },
    {
     "name": "stderr",
     "output_type": "stream",
     "text": [
      "/opt/anaconda3/envs/iblenv/lib/python3.10/site-packages/one/util.py:428: ALFWarning: Multiple revisions: \"2025-06-18\", \"\"\n",
      "  warnings.warn(f'Multiple revisions: {rev_list}', alferr.ALFWarning)\n"
     ]
    },
    {
     "name": "stdout",
     "output_type": "stream",
     "text": [
      "\u001b[1;33m2025-09-09 18:05:53 WARNING  one.py:1292 Could not load pupil data.\u001b[0m\n"
     ]
    },
    {
     "name": "stderr",
     "output_type": "stream",
     "text": [
      "local file size mismatch on dataset: steinmetzlab/Subjects/NR_0021/2022-06-30/002/alf/_ibl_leftCamera.lightningPose.pqt\n",
      "(S3) /Users/ineslaranjeira/Downloads/FlatIron/steinmetzlab/Subjects/NR_0021/2022-06-30/002/alf/_ibl_leftCamera.lightningPose.pqt: 100%|██████████| 141M/141M [00:10<00:00, 13.8MB/s] \n",
      "(S3) /Users/ineslaranjeira/Downloads/FlatIron/steinmetzlab/Subjects/NR_0021/2022-06-30/002/alf/_ibl_rightCamera.lightningPose.pqt: 100%|██████████| 320M/320M [00:23<00:00, 13.4MB/s] \n"
     ]
    },
    {
     "name": "stdout",
     "output_type": "stream",
     "text": [
      "\u001b[36m2025-09-09 18:06:35 INFO     one.py:1288 Loading trials data\u001b[0m\n"
     ]
    },
    {
     "name": "stderr",
     "output_type": "stream",
     "text": [
      "/opt/anaconda3/envs/iblenv/lib/python3.10/site-packages/one/util.py:428: ALFWarning: Multiple revisions: \"\", \"2025-03-03\"\n",
      "  warnings.warn(f'Multiple revisions: {rev_list}', alferr.ALFWarning)\n"
     ]
    },
    {
     "name": "stdout",
     "output_type": "stream",
     "text": [
      "\u001b[36m2025-09-09 18:06:36 INFO     one.py:1288 Loading wheel data\u001b[0m\n",
      "\u001b[36m2025-09-09 18:06:37 INFO     one.py:1288 Loading motion_energy data\u001b[0m\n"
     ]
    },
    {
     "name": "stderr",
     "output_type": "stream",
     "text": [
      "/opt/anaconda3/envs/iblenv/lib/python3.10/site-packages/one/util.py:428: ALFWarning: Multiple revisions: \"\", \"2025-05-30\"\n",
      "  warnings.warn(f'Multiple revisions: {rev_list}', alferr.ALFWarning)\n",
      "/opt/anaconda3/envs/iblenv/lib/python3.10/site-packages/one/util.py:428: ALFWarning: Multiple revisions: \"\", \"2025-06-01\"\n",
      "  warnings.warn(f'Multiple revisions: {rev_list}', alferr.ALFWarning)\n",
      "/opt/anaconda3/envs/iblenv/lib/python3.10/site-packages/one/util.py:428: ALFWarning: Multiple revisions: \"\", \"2025-06-02\"\n",
      "  warnings.warn(f'Multiple revisions: {rev_list}', alferr.ALFWarning)\n"
     ]
    },
    {
     "name": "stdout",
     "output_type": "stream",
     "text": [
      "\u001b[36m2025-09-09 18:06:38 INFO     one.py:1288 Loading pupil data\u001b[0m\n"
     ]
    },
    {
     "name": "stderr",
     "output_type": "stream",
     "text": [
      "/opt/anaconda3/envs/iblenv/lib/python3.10/site-packages/one/util.py:428: ALFWarning: Multiple revisions: \"2025-06-18\", \"\"\n",
      "  warnings.warn(f'Multiple revisions: {rev_list}', alferr.ALFWarning)\n"
     ]
    },
    {
     "name": "stdout",
     "output_type": "stream",
     "text": [
      "\u001b[1;33m2025-09-09 18:06:39 WARNING  one.py:1292 Could not load pupil data.\u001b[0m\n"
     ]
    },
    {
     "name": "stderr",
     "output_type": "stream",
     "text": [
      "/opt/anaconda3/envs/iblenv/lib/python3.10/site-packages/one/util.py:428: ALFWarning: Multiple revisions: \"2025-05-30\", \"\"\n",
      "  warnings.warn(f'Multiple revisions: {rev_list}', alferr.ALFWarning)\n",
      "(S3) /Users/ineslaranjeira/Downloads/FlatIron/steinmetzlab/Subjects/NR_0021/2022-07-08/001/alf/_ibl_rightCamera.lightningPose.pqt: 100%|██████████| 298M/298M [00:34<00:00, 8.57MB/s] \n"
     ]
    },
    {
     "name": "stdout",
     "output_type": "stream",
     "text": [
      "\u001b[36m2025-09-09 18:07:21 INFO     one.py:1288 Loading trials data\u001b[0m\n"
     ]
    },
    {
     "name": "stderr",
     "output_type": "stream",
     "text": [
      "/opt/anaconda3/envs/iblenv/lib/python3.10/site-packages/one/util.py:428: ALFWarning: Multiple revisions: \"\", \"2025-03-03\"\n",
      "  warnings.warn(f'Multiple revisions: {rev_list}', alferr.ALFWarning)\n"
     ]
    },
    {
     "name": "stdout",
     "output_type": "stream",
     "text": [
      "\u001b[36m2025-09-09 18:07:22 INFO     one.py:1288 Loading wheel data\u001b[0m\n",
      "\u001b[36m2025-09-09 18:07:23 INFO     one.py:1288 Loading motion_energy data\u001b[0m\n"
     ]
    },
    {
     "name": "stderr",
     "output_type": "stream",
     "text": [
      "/opt/anaconda3/envs/iblenv/lib/python3.10/site-packages/one/util.py:428: ALFWarning: Multiple revisions: \"\", \"2025-05-30\"\n",
      "  warnings.warn(f'Multiple revisions: {rev_list}', alferr.ALFWarning)\n",
      "/opt/anaconda3/envs/iblenv/lib/python3.10/site-packages/one/util.py:428: ALFWarning: Multiple revisions: \"\", \"2025-06-01\"\n",
      "  warnings.warn(f'Multiple revisions: {rev_list}', alferr.ALFWarning)\n",
      "/opt/anaconda3/envs/iblenv/lib/python3.10/site-packages/one/util.py:428: ALFWarning: Multiple revisions: \"\", \"2025-06-02\"\n",
      "  warnings.warn(f'Multiple revisions: {rev_list}', alferr.ALFWarning)\n"
     ]
    },
    {
     "name": "stdout",
     "output_type": "stream",
     "text": [
      "\u001b[36m2025-09-09 18:07:25 INFO     one.py:1288 Loading pupil data\u001b[0m\n"
     ]
    },
    {
     "name": "stderr",
     "output_type": "stream",
     "text": [
      "/opt/anaconda3/envs/iblenv/lib/python3.10/site-packages/one/util.py:428: ALFWarning: Multiple revisions: \"2025-06-20\", \"\"\n",
      "  warnings.warn(f'Multiple revisions: {rev_list}', alferr.ALFWarning)\n"
     ]
    },
    {
     "name": "stdout",
     "output_type": "stream",
     "text": [
      "\u001b[1;33m2025-09-09 18:07:25 WARNING  one.py:1292 Could not load pupil data.\u001b[0m\n"
     ]
    },
    {
     "name": "stderr",
     "output_type": "stream",
     "text": [
      "(S3) /Users/ineslaranjeira/Downloads/FlatIron/steinmetzlab/Subjects/NR_0027/2022-08-19/001/alf/_ibl_rightCamera.lightningPose.pqt: 100%|██████████| 430M/430M [00:35<00:00, 12.1MB/s] \n"
     ]
    },
    {
     "name": "stdout",
     "output_type": "stream",
     "text": [
      "\u001b[36m2025-09-09 18:08:08 INFO     one.py:1288 Loading trials data\u001b[0m\n"
     ]
    },
    {
     "name": "stderr",
     "output_type": "stream",
     "text": [
      "/opt/anaconda3/envs/iblenv/lib/python3.10/site-packages/one/util.py:428: ALFWarning: Multiple revisions: \"\", \"2025-03-03\"\n",
      "  warnings.warn(f'Multiple revisions: {rev_list}', alferr.ALFWarning)\n"
     ]
    },
    {
     "name": "stdout",
     "output_type": "stream",
     "text": [
      "\u001b[36m2025-09-09 18:08:10 INFO     one.py:1288 Loading wheel data\u001b[0m\n",
      "\u001b[36m2025-09-09 18:08:11 INFO     one.py:1288 Loading motion_energy data\u001b[0m\n"
     ]
    },
    {
     "name": "stderr",
     "output_type": "stream",
     "text": [
      "/opt/anaconda3/envs/iblenv/lib/python3.10/site-packages/one/util.py:428: ALFWarning: Multiple revisions: \"\", \"2025-05-30\"\n",
      "  warnings.warn(f'Multiple revisions: {rev_list}', alferr.ALFWarning)\n",
      "/opt/anaconda3/envs/iblenv/lib/python3.10/site-packages/one/util.py:428: ALFWarning: Multiple revisions: \"\", \"2025-06-01\"\n",
      "  warnings.warn(f'Multiple revisions: {rev_list}', alferr.ALFWarning)\n",
      "/opt/anaconda3/envs/iblenv/lib/python3.10/site-packages/one/util.py:428: ALFWarning: Multiple revisions: \"\", \"2025-06-02\"\n",
      "  warnings.warn(f'Multiple revisions: {rev_list}', alferr.ALFWarning)\n"
     ]
    },
    {
     "name": "stdout",
     "output_type": "stream",
     "text": [
      "\u001b[36m2025-09-09 18:08:12 INFO     one.py:1288 Loading pupil data\u001b[0m\n"
     ]
    },
    {
     "name": "stderr",
     "output_type": "stream",
     "text": [
      "/opt/anaconda3/envs/iblenv/lib/python3.10/site-packages/one/util.py:428: ALFWarning: Multiple revisions: \"2025-06-18\", \"\"\n",
      "  warnings.warn(f'Multiple revisions: {rev_list}', alferr.ALFWarning)\n"
     ]
    },
    {
     "name": "stdout",
     "output_type": "stream",
     "text": [
      "\u001b[1;33m2025-09-09 18:08:13 WARNING  one.py:1292 Could not load pupil data.\u001b[0m\n"
     ]
    },
    {
     "name": "stderr",
     "output_type": "stream",
     "text": [
      "(S3) /Users/ineslaranjeira/Downloads/FlatIron/steinmetzlab/Subjects/NR_0027/2022-08-20/001/alf/_ibl_rightCamera.lightningPose.pqt: 100%|██████████| 466M/466M [00:29<00:00, 15.7MB/s] \n"
     ]
    },
    {
     "name": "stdout",
     "output_type": "stream",
     "text": [
      "\u001b[36m2025-09-09 18:08:52 INFO     one.py:1288 Loading trials data\u001b[0m\n"
     ]
    },
    {
     "name": "stderr",
     "output_type": "stream",
     "text": [
      "/opt/anaconda3/envs/iblenv/lib/python3.10/site-packages/one/util.py:428: ALFWarning: Multiple revisions: \"\", \"2025-03-03\"\n",
      "  warnings.warn(f'Multiple revisions: {rev_list}', alferr.ALFWarning)\n"
     ]
    },
    {
     "name": "stdout",
     "output_type": "stream",
     "text": [
      "\u001b[36m2025-09-09 18:08:53 INFO     one.py:1288 Loading wheel data\u001b[0m\n",
      "\u001b[36m2025-09-09 18:08:55 INFO     one.py:1288 Loading motion_energy data\u001b[0m\n"
     ]
    },
    {
     "name": "stderr",
     "output_type": "stream",
     "text": [
      "/opt/anaconda3/envs/iblenv/lib/python3.10/site-packages/one/util.py:428: ALFWarning: Multiple revisions: \"\", \"2025-05-31\"\n",
      "  warnings.warn(f'Multiple revisions: {rev_list}', alferr.ALFWarning)\n",
      "/opt/anaconda3/envs/iblenv/lib/python3.10/site-packages/one/util.py:428: ALFWarning: Multiple revisions: \"\", \"2025-06-01\"\n",
      "  warnings.warn(f'Multiple revisions: {rev_list}', alferr.ALFWarning)\n",
      "/opt/anaconda3/envs/iblenv/lib/python3.10/site-packages/one/util.py:428: ALFWarning: Multiple revisions: \"\", \"2025-06-02\"\n",
      "  warnings.warn(f'Multiple revisions: {rev_list}', alferr.ALFWarning)\n"
     ]
    },
    {
     "name": "stdout",
     "output_type": "stream",
     "text": [
      "\u001b[36m2025-09-09 18:08:56 INFO     one.py:1288 Loading pupil data\u001b[0m\n"
     ]
    },
    {
     "name": "stderr",
     "output_type": "stream",
     "text": [
      "/opt/anaconda3/envs/iblenv/lib/python3.10/site-packages/one/util.py:428: ALFWarning: Multiple revisions: \"2025-06-18\", \"\"\n",
      "  warnings.warn(f'Multiple revisions: {rev_list}', alferr.ALFWarning)\n"
     ]
    },
    {
     "name": "stdout",
     "output_type": "stream",
     "text": [
      "\u001b[1;33m2025-09-09 18:08:56 WARNING  one.py:1292 Could not load pupil data.\u001b[0m\n"
     ]
    },
    {
     "name": "stderr",
     "output_type": "stream",
     "text": [
      "local file size mismatch on dataset: steinmetzlab/Subjects/NR_0027/2022-08-22/001/alf/_ibl_leftCamera.lightningPose.pqt\n",
      "(S3) /Users/ineslaranjeira/Downloads/FlatIron/steinmetzlab/Subjects/NR_0027/2022-08-22/001/alf/_ibl_leftCamera.lightningPose.pqt: 100%|██████████| 192M/192M [00:14<00:00, 13.7MB/s] \n",
      "(S3) /Users/ineslaranjeira/Downloads/FlatIron/steinmetzlab/Subjects/NR_0027/2022-08-22/001/alf/_ibl_rightCamera.lightningPose.pqt: 100%|██████████| 452M/452M [00:32<00:00, 13.7MB/s] \n"
     ]
    },
    {
     "name": "stdout",
     "output_type": "stream",
     "text": [
      "\u001b[36m2025-09-09 18:09:54 INFO     one.py:1288 Loading trials data\u001b[0m\n"
     ]
    },
    {
     "name": "stderr",
     "output_type": "stream",
     "text": [
      "/opt/anaconda3/envs/iblenv/lib/python3.10/site-packages/one/util.py:428: ALFWarning: Multiple revisions: \"\", \"2025-03-03\"\n",
      "  warnings.warn(f'Multiple revisions: {rev_list}', alferr.ALFWarning)\n"
     ]
    },
    {
     "name": "stdout",
     "output_type": "stream",
     "text": [
      "\u001b[36m2025-09-09 18:09:55 INFO     one.py:1288 Loading wheel data\u001b[0m\n",
      "\u001b[36m2025-09-09 18:09:56 INFO     one.py:1288 Loading motion_energy data\u001b[0m\n"
     ]
    },
    {
     "name": "stderr",
     "output_type": "stream",
     "text": [
      "/opt/anaconda3/envs/iblenv/lib/python3.10/site-packages/one/util.py:428: ALFWarning: Multiple revisions: \"\", \"2025-05-30\"\n",
      "  warnings.warn(f'Multiple revisions: {rev_list}', alferr.ALFWarning)\n",
      "/opt/anaconda3/envs/iblenv/lib/python3.10/site-packages/one/util.py:428: ALFWarning: Multiple revisions: \"\", \"2025-06-01\"\n",
      "  warnings.warn(f'Multiple revisions: {rev_list}', alferr.ALFWarning)\n",
      "/opt/anaconda3/envs/iblenv/lib/python3.10/site-packages/one/util.py:428: ALFWarning: Multiple revisions: \"\", \"2025-06-02\"\n",
      "  warnings.warn(f'Multiple revisions: {rev_list}', alferr.ALFWarning)\n"
     ]
    },
    {
     "name": "stdout",
     "output_type": "stream",
     "text": [
      "\u001b[36m2025-09-09 18:09:58 INFO     one.py:1288 Loading pupil data\u001b[0m\n"
     ]
    },
    {
     "name": "stderr",
     "output_type": "stream",
     "text": [
      "/opt/anaconda3/envs/iblenv/lib/python3.10/site-packages/one/util.py:428: ALFWarning: Multiple revisions: \"2025-06-18\", \"\"\n",
      "  warnings.warn(f'Multiple revisions: {rev_list}', alferr.ALFWarning)\n"
     ]
    },
    {
     "name": "stdout",
     "output_type": "stream",
     "text": [
      "\u001b[1;33m2025-09-09 18:09:58 WARNING  one.py:1292 Could not load pupil data.\u001b[0m\n"
     ]
    },
    {
     "name": "stderr",
     "output_type": "stream",
     "text": [
      "(S3) /Users/ineslaranjeira/Downloads/FlatIron/steinmetzlab/Subjects/NR_0027/2022-08-23/001/alf/_ibl_rightCamera.lightningPose.pqt: 100%|██████████| 372M/372M [00:26<00:00, 14.2MB/s] \n"
     ]
    },
    {
     "name": "stdout",
     "output_type": "stream",
     "text": [
      "\u001b[36m2025-09-09 18:10:34 INFO     one.py:1288 Loading trials data\u001b[0m\n"
     ]
    },
    {
     "name": "stderr",
     "output_type": "stream",
     "text": [
      "/opt/anaconda3/envs/iblenv/lib/python3.10/site-packages/one/util.py:428: ALFWarning: Multiple revisions: \"\", \"2025-03-03\"\n",
      "  warnings.warn(f'Multiple revisions: {rev_list}', alferr.ALFWarning)\n"
     ]
    },
    {
     "name": "stdout",
     "output_type": "stream",
     "text": [
      "\u001b[36m2025-09-09 18:10:35 INFO     one.py:1288 Loading wheel data\u001b[0m\n",
      "\u001b[36m2025-09-09 18:10:37 INFO     one.py:1288 Loading motion_energy data\u001b[0m\n"
     ]
    },
    {
     "name": "stderr",
     "output_type": "stream",
     "text": [
      "/opt/anaconda3/envs/iblenv/lib/python3.10/site-packages/one/util.py:428: ALFWarning: Multiple revisions: \"\", \"2025-05-30\"\n",
      "  warnings.warn(f'Multiple revisions: {rev_list}', alferr.ALFWarning)\n",
      "/opt/anaconda3/envs/iblenv/lib/python3.10/site-packages/one/util.py:428: ALFWarning: Multiple revisions: \"\", \"2025-06-01\"\n",
      "  warnings.warn(f'Multiple revisions: {rev_list}', alferr.ALFWarning)\n",
      "/opt/anaconda3/envs/iblenv/lib/python3.10/site-packages/one/util.py:428: ALFWarning: Multiple revisions: \"\", \"2025-06-02\"\n",
      "  warnings.warn(f'Multiple revisions: {rev_list}', alferr.ALFWarning)\n"
     ]
    },
    {
     "name": "stdout",
     "output_type": "stream",
     "text": [
      "\u001b[36m2025-09-09 18:10:38 INFO     one.py:1288 Loading pupil data\u001b[0m\n"
     ]
    },
    {
     "name": "stderr",
     "output_type": "stream",
     "text": [
      "/opt/anaconda3/envs/iblenv/lib/python3.10/site-packages/one/util.py:428: ALFWarning: Multiple revisions: \"2025-06-04\", \"\"\n",
      "  warnings.warn(f'Multiple revisions: {rev_list}', alferr.ALFWarning)\n",
      "(S3) /Users/ineslaranjeira/Downloads/FlatIron/wittenlab/Subjects/ibl_witten_18/2020-09-01/004/alf/_ibl_rightCamera.lightningPose.pqt: 100%|██████████| 346M/346M [00:18<00:00, 19.2MB/s] \n"
     ]
    },
    {
     "name": "stdout",
     "output_type": "stream",
     "text": [
      "\u001b[36m2025-09-09 18:11:04 INFO     one.py:1288 Loading trials data\u001b[0m\n"
     ]
    },
    {
     "name": "stderr",
     "output_type": "stream",
     "text": [
      "/opt/anaconda3/envs/iblenv/lib/python3.10/site-packages/one/util.py:428: ALFWarning: Multiple revisions: \"\", \"2025-03-03\"\n",
      "  warnings.warn(f'Multiple revisions: {rev_list}', alferr.ALFWarning)\n"
     ]
    },
    {
     "name": "stdout",
     "output_type": "stream",
     "text": [
      "\u001b[36m2025-09-09 18:11:05 INFO     one.py:1288 Loading wheel data\u001b[0m\n",
      "\u001b[36m2025-09-09 18:11:06 INFO     one.py:1288 Loading motion_energy data\u001b[0m\n"
     ]
    },
    {
     "name": "stderr",
     "output_type": "stream",
     "text": [
      "/opt/anaconda3/envs/iblenv/lib/python3.10/site-packages/one/util.py:428: ALFWarning: Multiple revisions: \"\", \"2025-05-30\"\n",
      "  warnings.warn(f'Multiple revisions: {rev_list}', alferr.ALFWarning)\n",
      "/opt/anaconda3/envs/iblenv/lib/python3.10/site-packages/one/util.py:428: ALFWarning: Multiple revisions: \"\", \"2025-06-01\"\n",
      "  warnings.warn(f'Multiple revisions: {rev_list}', alferr.ALFWarning)\n",
      "/opt/anaconda3/envs/iblenv/lib/python3.10/site-packages/one/util.py:428: ALFWarning: Multiple revisions: \"\", \"2025-06-02\"\n",
      "  warnings.warn(f'Multiple revisions: {rev_list}', alferr.ALFWarning)\n"
     ]
    },
    {
     "name": "stdout",
     "output_type": "stream",
     "text": [
      "\u001b[36m2025-09-09 18:11:07 INFO     one.py:1288 Loading pupil data\u001b[0m\n"
     ]
    },
    {
     "name": "stderr",
     "output_type": "stream",
     "text": [
      "/opt/anaconda3/envs/iblenv/lib/python3.10/site-packages/one/util.py:428: ALFWarning: Multiple revisions: \"2025-06-04\", \"\"\n",
      "  warnings.warn(f'Multiple revisions: {rev_list}', alferr.ALFWarning)\n"
     ]
    },
    {
     "name": "stdout",
     "output_type": "stream",
     "text": [
      "\u001b[1;33m2025-09-09 18:11:07 WARNING  one.py:1292 Could not load pupil data.\u001b[0m\n"
     ]
    },
    {
     "name": "stderr",
     "output_type": "stream",
     "text": [
      "(S3) /Users/ineslaranjeira/Downloads/FlatIron/wittenlab/Subjects/ibl_witten_20/2020-09-01/001/alf/_ibl_rightCamera.lightningPose.pqt: 100%|██████████| 403M/403M [00:30<00:00, 13.3MB/s] \n"
     ]
    },
    {
     "name": "stdout",
     "output_type": "stream",
     "text": [
      "\u001b[36m2025-09-09 18:11:45 INFO     one.py:1288 Loading trials data\u001b[0m\n"
     ]
    },
    {
     "name": "stderr",
     "output_type": "stream",
     "text": [
      "/opt/anaconda3/envs/iblenv/lib/python3.10/site-packages/one/util.py:428: ALFWarning: Multiple revisions: \"\", \"2025-03-03\"\n",
      "  warnings.warn(f'Multiple revisions: {rev_list}', alferr.ALFWarning)\n"
     ]
    },
    {
     "name": "stdout",
     "output_type": "stream",
     "text": [
      "\u001b[36m2025-09-09 18:11:46 INFO     one.py:1288 Loading wheel data\u001b[0m\n",
      "\u001b[36m2025-09-09 18:11:48 INFO     one.py:1288 Loading motion_energy data\u001b[0m\n"
     ]
    },
    {
     "name": "stderr",
     "output_type": "stream",
     "text": [
      "/opt/anaconda3/envs/iblenv/lib/python3.10/site-packages/one/util.py:428: ALFWarning: Multiple revisions: \"\", \"2025-05-31\"\n",
      "  warnings.warn(f'Multiple revisions: {rev_list}', alferr.ALFWarning)\n",
      "/opt/anaconda3/envs/iblenv/lib/python3.10/site-packages/one/util.py:428: ALFWarning: Multiple revisions: \"\", \"2025-06-01\"\n",
      "  warnings.warn(f'Multiple revisions: {rev_list}', alferr.ALFWarning)\n",
      "/opt/anaconda3/envs/iblenv/lib/python3.10/site-packages/one/util.py:428: ALFWarning: Multiple revisions: \"\", \"2025-06-02\"\n",
      "  warnings.warn(f'Multiple revisions: {rev_list}', alferr.ALFWarning)\n"
     ]
    },
    {
     "name": "stdout",
     "output_type": "stream",
     "text": [
      "\u001b[36m2025-09-09 18:11:49 INFO     one.py:1288 Loading pupil data\u001b[0m\n"
     ]
    },
    {
     "name": "stderr",
     "output_type": "stream",
     "text": [
      "/opt/anaconda3/envs/iblenv/lib/python3.10/site-packages/one/util.py:428: ALFWarning: Multiple revisions: \"2025-06-04\", \"\"\n",
      "  warnings.warn(f'Multiple revisions: {rev_list}', alferr.ALFWarning)\n"
     ]
    },
    {
     "name": "stdout",
     "output_type": "stream",
     "text": [
      "\u001b[1;33m2025-09-09 18:11:49 WARNING  one.py:1292 Could not load pupil data.\u001b[0m\n"
     ]
    },
    {
     "name": "stderr",
     "output_type": "stream",
     "text": [
      "local file size mismatch on dataset: wittenlab/Subjects/ibl_witten_25/2020-12-08/001/alf/_ibl_leftCamera.lightningPose.pqt\n",
      "(S3) /Users/ineslaranjeira/Downloads/FlatIron/wittenlab/Subjects/ibl_witten_25/2020-12-08/001/alf/_ibl_leftCamera.lightningPose.pqt: 100%|██████████| 137M/137M [00:12<00:00, 10.7MB/s] \n",
      "(S3) /Users/ineslaranjeira/Downloads/FlatIron/wittenlab/Subjects/ibl_witten_25/2020-12-08/001/alf/_ibl_rightCamera.lightningPose.pqt: 100%|██████████| 309M/309M [00:25<00:00, 12.2MB/s] \n"
     ]
    },
    {
     "name": "stdout",
     "output_type": "stream",
     "text": [
      "\u001b[36m2025-09-09 18:12:35 INFO     one.py:1288 Loading trials data\u001b[0m\n"
     ]
    },
    {
     "name": "stderr",
     "output_type": "stream",
     "text": [
      "/opt/anaconda3/envs/iblenv/lib/python3.10/site-packages/one/util.py:428: ALFWarning: Multiple revisions: \"\", \"2025-03-03\"\n",
      "  warnings.warn(f'Multiple revisions: {rev_list}', alferr.ALFWarning)\n"
     ]
    },
    {
     "name": "stdout",
     "output_type": "stream",
     "text": [
      "\u001b[36m2025-09-09 18:12:37 INFO     one.py:1288 Loading wheel data\u001b[0m\n",
      "\u001b[36m2025-09-09 18:12:38 INFO     one.py:1288 Loading motion_energy data\u001b[0m\n"
     ]
    },
    {
     "name": "stderr",
     "output_type": "stream",
     "text": [
      "/opt/anaconda3/envs/iblenv/lib/python3.10/site-packages/one/util.py:428: ALFWarning: Multiple revisions: \"\", \"2025-05-30\"\n",
      "  warnings.warn(f'Multiple revisions: {rev_list}', alferr.ALFWarning)\n",
      "/opt/anaconda3/envs/iblenv/lib/python3.10/site-packages/one/util.py:428: ALFWarning: Multiple revisions: \"\", \"2025-06-01\"\n",
      "  warnings.warn(f'Multiple revisions: {rev_list}', alferr.ALFWarning)\n",
      "/opt/anaconda3/envs/iblenv/lib/python3.10/site-packages/one/util.py:428: ALFWarning: Multiple revisions: \"\", \"2025-06-02\"\n",
      "  warnings.warn(f'Multiple revisions: {rev_list}', alferr.ALFWarning)\n"
     ]
    },
    {
     "name": "stdout",
     "output_type": "stream",
     "text": [
      "\u001b[36m2025-09-09 18:12:39 INFO     one.py:1288 Loading pupil data\u001b[0m\n"
     ]
    },
    {
     "name": "stderr",
     "output_type": "stream",
     "text": [
      "/opt/anaconda3/envs/iblenv/lib/python3.10/site-packages/one/util.py:428: ALFWarning: Multiple revisions: \"2025-06-18\", \"\"\n",
      "  warnings.warn(f'Multiple revisions: {rev_list}', alferr.ALFWarning)\n",
      "/opt/anaconda3/envs/iblenv/lib/python3.10/site-packages/one/util.py:428: ALFWarning: Multiple revisions: \"2025-05-30\", \"2023-04-20\"\n",
      "  warnings.warn(f'Multiple revisions: {rev_list}', alferr.ALFWarning)\n",
      "/opt/anaconda3/envs/iblenv/lib/python3.10/site-packages/one/util.py:428: ALFWarning: Multiple revisions: \"\", \"2023-04-20\"\n",
      "  warnings.warn(f'Multiple revisions: {rev_list}', alferr.ALFWarning)\n",
      "(S3) /Users/ineslaranjeira/Downloads/FlatIron/wittenlab/Subjects/ibl_witten_26/2021-01-27/002/alf/_ibl_rightCamera.lightningPose.pqt: 100%|██████████| 306M/306M [00:25<00:00, 12.1MB/s] \n"
     ]
    },
    {
     "name": "stdout",
     "output_type": "stream",
     "text": [
      "\u001b[36m2025-09-09 18:13:13 INFO     one.py:1288 Loading trials data\u001b[0m\n"
     ]
    },
    {
     "name": "stderr",
     "output_type": "stream",
     "text": [
      "/opt/anaconda3/envs/iblenv/lib/python3.10/site-packages/one/util.py:428: ALFWarning: Multiple revisions: \"\", \"2025-03-03\"\n",
      "  warnings.warn(f'Multiple revisions: {rev_list}', alferr.ALFWarning)\n"
     ]
    },
    {
     "name": "stdout",
     "output_type": "stream",
     "text": [
      "\u001b[36m2025-09-09 18:13:14 INFO     one.py:1288 Loading wheel data\u001b[0m\n",
      "\u001b[36m2025-09-09 18:13:15 INFO     one.py:1288 Loading motion_energy data\u001b[0m\n"
     ]
    },
    {
     "name": "stderr",
     "output_type": "stream",
     "text": [
      "/opt/anaconda3/envs/iblenv/lib/python3.10/site-packages/one/util.py:428: ALFWarning: Multiple revisions: \"2023-04-20\", \"2025-05-30\"\n",
      "  warnings.warn(f'Multiple revisions: {rev_list}', alferr.ALFWarning)\n",
      "/opt/anaconda3/envs/iblenv/lib/python3.10/site-packages/one/util.py:428: ALFWarning: Multiple revisions: \"2023-04-20\", \"2025-06-01\"\n",
      "  warnings.warn(f'Multiple revisions: {rev_list}', alferr.ALFWarning)\n"
     ]
    },
    {
     "name": "stdout",
     "output_type": "stream",
     "text": [
      "\u001b[36m2025-09-09 18:13:16 INFO     one.py:1288 Loading pupil data\u001b[0m\n"
     ]
    },
    {
     "name": "stderr",
     "output_type": "stream",
     "text": [
      "/opt/anaconda3/envs/iblenv/lib/python3.10/site-packages/one/util.py:428: ALFWarning: Multiple revisions: \"2025-06-20\", \"2023-04-20\"\n",
      "  warnings.warn(f'Multiple revisions: {rev_list}', alferr.ALFWarning)\n",
      "/opt/anaconda3/envs/iblenv/lib/python3.10/site-packages/one/util.py:428: ALFWarning: Multiple revisions: \"\", \"2023-04-20\"\n",
      "  warnings.warn(f'Multiple revisions: {rev_list}', alferr.ALFWarning)\n",
      "local file size mismatch on dataset: wittenlab/Subjects/ibl_witten_26/2021-01-28/001/alf/_ibl_leftCamera.lightningPose.pqt\n",
      "(S3) /Users/ineslaranjeira/Downloads/FlatIron/wittenlab/Subjects/ibl_witten_26/2021-01-28/001/alf/_ibl_leftCamera.lightningPose.pqt: 100%|██████████| 168M/168M [00:15<00:00, 11.1MB/s] \n",
      "/opt/anaconda3/envs/iblenv/lib/python3.10/site-packages/one/util.py:428: ALFWarning: Multiple revisions: \"\", \"2023-04-20\"\n",
      "  warnings.warn(f'Multiple revisions: {rev_list}', alferr.ALFWarning)\n",
      "(S3) /Users/ineslaranjeira/Downloads/FlatIron/wittenlab/Subjects/ibl_witten_26/2021-01-28/001/alf/_ibl_rightCamera.lightningPose.pqt: 100%|██████████| 388M/388M [00:31<00:00, 12.2MB/s] \n"
     ]
    },
    {
     "name": "stdout",
     "output_type": "stream",
     "text": [
      "\u001b[36m2025-09-09 18:14:12 INFO     one.py:1288 Loading trials data\u001b[0m\n"
     ]
    },
    {
     "name": "stderr",
     "output_type": "stream",
     "text": [
      "/opt/anaconda3/envs/iblenv/lib/python3.10/site-packages/one/util.py:428: ALFWarning: Multiple revisions: \"\", \"2025-03-03\"\n",
      "  warnings.warn(f'Multiple revisions: {rev_list}', alferr.ALFWarning)\n"
     ]
    },
    {
     "name": "stdout",
     "output_type": "stream",
     "text": [
      "\u001b[36m2025-09-09 18:14:13 INFO     one.py:1288 Loading wheel data\u001b[0m\n",
      "\u001b[36m2025-09-09 18:14:14 INFO     one.py:1288 Loading motion_energy data\u001b[0m\n"
     ]
    },
    {
     "name": "stderr",
     "output_type": "stream",
     "text": [
      "/opt/anaconda3/envs/iblenv/lib/python3.10/site-packages/one/util.py:428: ALFWarning: Multiple revisions: \"2023-04-20\", \"2025-05-30\"\n",
      "  warnings.warn(f'Multiple revisions: {rev_list}', alferr.ALFWarning)\n",
      "/opt/anaconda3/envs/iblenv/lib/python3.10/site-packages/one/util.py:428: ALFWarning: Multiple revisions: \"2023-04-20\", \"2025-06-01\"\n",
      "  warnings.warn(f'Multiple revisions: {rev_list}', alferr.ALFWarning)\n"
     ]
    },
    {
     "name": "stdout",
     "output_type": "stream",
     "text": [
      "\u001b[36m2025-09-09 18:14:15 INFO     one.py:1288 Loading pupil data\u001b[0m\n"
     ]
    },
    {
     "name": "stderr",
     "output_type": "stream",
     "text": [
      "/opt/anaconda3/envs/iblenv/lib/python3.10/site-packages/one/util.py:428: ALFWarning: Multiple revisions: \"2025-06-18\", \"2023-04-20\"\n",
      "  warnings.warn(f'Multiple revisions: {rev_list}', alferr.ALFWarning)\n",
      "/opt/anaconda3/envs/iblenv/lib/python3.10/site-packages/one/util.py:428: ALFWarning: Multiple revisions: \"\", \"2023-04-20\"\n",
      "  warnings.warn(f'Multiple revisions: {rev_list}', alferr.ALFWarning)\n",
      "(S3) /Users/ineslaranjeira/Downloads/FlatIron/wittenlab/Subjects/ibl_witten_26/2021-01-30/001/alf/_ibl_rightCamera.lightningPose.pqt: 100%|██████████| 369M/369M [00:31<00:00, 11.8MB/s] \n"
     ]
    },
    {
     "name": "stdout",
     "output_type": "stream",
     "text": [
      "\u001b[36m2025-09-09 18:14:56 INFO     one.py:1288 Loading trials data\u001b[0m\n"
     ]
    },
    {
     "name": "stderr",
     "output_type": "stream",
     "text": [
      "/opt/anaconda3/envs/iblenv/lib/python3.10/site-packages/one/util.py:428: ALFWarning: Multiple revisions: \"\", \"2025-03-03\"\n",
      "  warnings.warn(f'Multiple revisions: {rev_list}', alferr.ALFWarning)\n"
     ]
    },
    {
     "name": "stdout",
     "output_type": "stream",
     "text": [
      "\u001b[36m2025-09-09 18:14:57 INFO     one.py:1288 Loading wheel data\u001b[0m\n",
      "\u001b[36m2025-09-09 18:14:58 INFO     one.py:1288 Loading motion_energy data\u001b[0m\n"
     ]
    },
    {
     "name": "stderr",
     "output_type": "stream",
     "text": [
      "/opt/anaconda3/envs/iblenv/lib/python3.10/site-packages/one/util.py:428: ALFWarning: Multiple revisions: \"\", \"2025-05-30\"\n",
      "  warnings.warn(f'Multiple revisions: {rev_list}', alferr.ALFWarning)\n",
      "/opt/anaconda3/envs/iblenv/lib/python3.10/site-packages/one/util.py:428: ALFWarning: Multiple revisions: \"2023-04-20\", \"2025-06-01\"\n",
      "  warnings.warn(f'Multiple revisions: {rev_list}', alferr.ALFWarning)\n"
     ]
    },
    {
     "name": "stdout",
     "output_type": "stream",
     "text": [
      "\u001b[36m2025-09-09 18:14:59 INFO     one.py:1288 Loading pupil data\u001b[0m\n"
     ]
    },
    {
     "name": "stderr",
     "output_type": "stream",
     "text": [
      "/opt/anaconda3/envs/iblenv/lib/python3.10/site-packages/one/util.py:428: ALFWarning: Multiple revisions: \"2025-06-04\", \"\"\n",
      "  warnings.warn(f'Multiple revisions: {rev_list}', alferr.ALFWarning)\n",
      "/opt/anaconda3/envs/iblenv/lib/python3.10/site-packages/one/util.py:428: ALFWarning: Multiple revisions: \"\", \"2023-04-20\"\n",
      "  warnings.warn(f'Multiple revisions: {rev_list}', alferr.ALFWarning)\n",
      "/opt/anaconda3/envs/iblenv/lib/python3.10/site-packages/one/util.py:428: ALFWarning: Multiple revisions: \"\", \"2023-04-20\"\n",
      "  warnings.warn(f'Multiple revisions: {rev_list}', alferr.ALFWarning)\n",
      "(S3) /Users/ineslaranjeira/Downloads/FlatIron/wittenlab/Subjects/ibl_witten_26/2021-01-31/001/alf/_ibl_rightCamera.lightningPose.pqt: 100%|██████████| 427M/427M [00:38<00:00, 11.1MB/s] \n"
     ]
    },
    {
     "name": "stdout",
     "output_type": "stream",
     "text": [
      "\u001b[36m2025-09-09 18:15:47 INFO     one.py:1288 Loading trials data\u001b[0m\n"
     ]
    },
    {
     "name": "stderr",
     "output_type": "stream",
     "text": [
      "/opt/anaconda3/envs/iblenv/lib/python3.10/site-packages/one/util.py:428: ALFWarning: Multiple revisions: \"\", \"2025-03-03\"\n",
      "  warnings.warn(f'Multiple revisions: {rev_list}', alferr.ALFWarning)\n"
     ]
    },
    {
     "name": "stdout",
     "output_type": "stream",
     "text": [
      "\u001b[36m2025-09-09 18:15:48 INFO     one.py:1288 Loading wheel data\u001b[0m\n",
      "\u001b[36m2025-09-09 18:15:49 INFO     one.py:1288 Loading motion_energy data\u001b[0m\n"
     ]
    },
    {
     "name": "stderr",
     "output_type": "stream",
     "text": [
      "/opt/anaconda3/envs/iblenv/lib/python3.10/site-packages/one/util.py:428: ALFWarning: Multiple revisions: \"2023-04-20\", \"2025-05-30\"\n",
      "  warnings.warn(f'Multiple revisions: {rev_list}', alferr.ALFWarning)\n",
      "/opt/anaconda3/envs/iblenv/lib/python3.10/site-packages/one/util.py:428: ALFWarning: Multiple revisions: \"2023-04-20\", \"2025-06-01\"\n",
      "  warnings.warn(f'Multiple revisions: {rev_list}', alferr.ALFWarning)\n"
     ]
    },
    {
     "name": "stdout",
     "output_type": "stream",
     "text": [
      "\u001b[36m2025-09-09 18:15:50 INFO     one.py:1288 Loading pupil data\u001b[0m\n"
     ]
    },
    {
     "name": "stderr",
     "output_type": "stream",
     "text": [
      "/opt/anaconda3/envs/iblenv/lib/python3.10/site-packages/one/util.py:428: ALFWarning: Multiple revisions: \"2025-06-04\", \"2023-04-20\"\n",
      "  warnings.warn(f'Multiple revisions: {rev_list}', alferr.ALFWarning)\n",
      "(S3) /Users/ineslaranjeira/Downloads/FlatIron/wittenlab/Subjects/ibl_witten_27/2021-01-19/001/alf/_ibl_rightCamera.lightningPose.pqt: 100%|██████████| 349M/349M [00:30<00:00, 11.4MB/s] \n"
     ]
    },
    {
     "name": "stdout",
     "output_type": "stream",
     "text": [
      "\u001b[36m2025-09-09 18:16:30 INFO     one.py:1288 Loading trials data\u001b[0m\n"
     ]
    },
    {
     "name": "stderr",
     "output_type": "stream",
     "text": [
      "/opt/anaconda3/envs/iblenv/lib/python3.10/site-packages/one/util.py:428: ALFWarning: Multiple revisions: \"\", \"2025-03-03\"\n",
      "  warnings.warn(f'Multiple revisions: {rev_list}', alferr.ALFWarning)\n"
     ]
    },
    {
     "name": "stdout",
     "output_type": "stream",
     "text": [
      "\u001b[36m2025-09-09 18:16:31 INFO     one.py:1288 Loading wheel data\u001b[0m\n",
      "\u001b[36m2025-09-09 18:16:32 INFO     one.py:1288 Loading motion_energy data\u001b[0m\n"
     ]
    },
    {
     "name": "stderr",
     "output_type": "stream",
     "text": [
      "/opt/anaconda3/envs/iblenv/lib/python3.10/site-packages/one/util.py:428: ALFWarning: Multiple revisions: \"\", \"2025-05-30\"\n",
      "  warnings.warn(f'Multiple revisions: {rev_list}', alferr.ALFWarning)\n",
      "/opt/anaconda3/envs/iblenv/lib/python3.10/site-packages/one/util.py:428: ALFWarning: Multiple revisions: \"\", \"2025-06-01\"\n",
      "  warnings.warn(f'Multiple revisions: {rev_list}', alferr.ALFWarning)\n",
      "/opt/anaconda3/envs/iblenv/lib/python3.10/site-packages/one/util.py:428: ALFWarning: Multiple revisions: \"\", \"2025-06-02\"\n",
      "  warnings.warn(f'Multiple revisions: {rev_list}', alferr.ALFWarning)\n"
     ]
    },
    {
     "name": "stdout",
     "output_type": "stream",
     "text": [
      "\u001b[36m2025-09-09 18:16:33 INFO     one.py:1288 Loading pupil data\u001b[0m\n"
     ]
    },
    {
     "name": "stderr",
     "output_type": "stream",
     "text": [
      "/opt/anaconda3/envs/iblenv/lib/python3.10/site-packages/one/util.py:428: ALFWarning: Multiple revisions: \"2025-06-04\", \"\"\n",
      "  warnings.warn(f'Multiple revisions: {rev_list}', alferr.ALFWarning)\n"
     ]
    },
    {
     "name": "stdout",
     "output_type": "stream",
     "text": [
      "\u001b[1;33m2025-09-09 18:16:34 WARNING  one.py:1292 Could not load pupil data.\u001b[0m\n"
     ]
    },
    {
     "name": "stderr",
     "output_type": "stream",
     "text": [
      "(S3) /Users/ineslaranjeira/Downloads/FlatIron/wittenlab/Subjects/ibl_witten_27/2021-01-20/001/alf/_ibl_rightCamera.lightningPose.pqt: 100%|██████████| 368M/368M [00:37<00:00, 9.81MB/s] \n"
     ]
    },
    {
     "name": "stdout",
     "output_type": "stream",
     "text": [
      "\u001b[36m2025-09-09 18:17:20 INFO     one.py:1288 Loading trials data\u001b[0m\n"
     ]
    },
    {
     "name": "stderr",
     "output_type": "stream",
     "text": [
      "/opt/anaconda3/envs/iblenv/lib/python3.10/site-packages/one/util.py:428: ALFWarning: Multiple revisions: \"\", \"2025-03-03\"\n",
      "  warnings.warn(f'Multiple revisions: {rev_list}', alferr.ALFWarning)\n"
     ]
    },
    {
     "name": "stdout",
     "output_type": "stream",
     "text": [
      "\u001b[36m2025-09-09 18:17:21 INFO     one.py:1288 Loading wheel data\u001b[0m\n",
      "\u001b[36m2025-09-09 18:17:23 INFO     one.py:1288 Loading motion_energy data\u001b[0m\n"
     ]
    },
    {
     "name": "stderr",
     "output_type": "stream",
     "text": [
      "/opt/anaconda3/envs/iblenv/lib/python3.10/site-packages/one/util.py:428: ALFWarning: Multiple revisions: \"\", \"2025-05-30\"\n",
      "  warnings.warn(f'Multiple revisions: {rev_list}', alferr.ALFWarning)\n",
      "/opt/anaconda3/envs/iblenv/lib/python3.10/site-packages/one/util.py:428: ALFWarning: Multiple revisions: \"\", \"2025-06-01\"\n",
      "  warnings.warn(f'Multiple revisions: {rev_list}', alferr.ALFWarning)\n",
      "/opt/anaconda3/envs/iblenv/lib/python3.10/site-packages/one/util.py:428: ALFWarning: Multiple revisions: \"\", \"2025-06-02\"\n",
      "  warnings.warn(f'Multiple revisions: {rev_list}', alferr.ALFWarning)\n"
     ]
    },
    {
     "name": "stdout",
     "output_type": "stream",
     "text": [
      "\u001b[36m2025-09-09 18:17:24 INFO     one.py:1288 Loading pupil data\u001b[0m\n"
     ]
    },
    {
     "name": "stderr",
     "output_type": "stream",
     "text": [
      "/opt/anaconda3/envs/iblenv/lib/python3.10/site-packages/one/util.py:428: ALFWarning: Multiple revisions: \"2025-06-04\", \"\"\n",
      "  warnings.warn(f'Multiple revisions: {rev_list}', alferr.ALFWarning)\n",
      "/opt/anaconda3/envs/iblenv/lib/python3.10/site-packages/one/util.py:428: ALFWarning: Multiple revisions: \"2025-05-30\", \"\"\n",
      "  warnings.warn(f'Multiple revisions: {rev_list}', alferr.ALFWarning)\n",
      "(S3) /Users/ineslaranjeira/Downloads/FlatIron/wittenlab/Subjects/ibl_witten_27/2021-01-21/001/alf/_ibl_rightCamera.lightningPose.pqt: 100%|██████████| 282M/282M [00:33<00:00, 8.40MB/s] \n"
     ]
    },
    {
     "name": "stdout",
     "output_type": "stream",
     "text": [
      "\u001b[36m2025-09-09 18:18:07 INFO     one.py:1288 Loading trials data\u001b[0m\n"
     ]
    },
    {
     "name": "stderr",
     "output_type": "stream",
     "text": [
      "/opt/anaconda3/envs/iblenv/lib/python3.10/site-packages/one/util.py:428: ALFWarning: Multiple revisions: \"\", \"2025-03-03\"\n",
      "  warnings.warn(f'Multiple revisions: {rev_list}', alferr.ALFWarning)\n"
     ]
    },
    {
     "name": "stdout",
     "output_type": "stream",
     "text": [
      "\u001b[36m2025-09-09 18:18:08 INFO     one.py:1288 Loading wheel data\u001b[0m\n",
      "\u001b[36m2025-09-09 18:18:09 INFO     one.py:1288 Loading motion_energy data\u001b[0m\n"
     ]
    },
    {
     "name": "stderr",
     "output_type": "stream",
     "text": [
      "/opt/anaconda3/envs/iblenv/lib/python3.10/site-packages/one/util.py:428: ALFWarning: Multiple revisions: \"\", \"2025-05-30\"\n",
      "  warnings.warn(f'Multiple revisions: {rev_list}', alferr.ALFWarning)\n",
      "/opt/anaconda3/envs/iblenv/lib/python3.10/site-packages/one/util.py:428: ALFWarning: Multiple revisions: \"\", \"2025-06-01\"\n",
      "  warnings.warn(f'Multiple revisions: {rev_list}', alferr.ALFWarning)\n",
      "/opt/anaconda3/envs/iblenv/lib/python3.10/site-packages/one/util.py:428: ALFWarning: Multiple revisions: \"\", \"2025-06-02\"\n",
      "  warnings.warn(f'Multiple revisions: {rev_list}', alferr.ALFWarning)\n"
     ]
    },
    {
     "name": "stdout",
     "output_type": "stream",
     "text": [
      "\u001b[36m2025-09-09 18:18:10 INFO     one.py:1288 Loading pupil data\u001b[0m\n"
     ]
    },
    {
     "name": "stderr",
     "output_type": "stream",
     "text": [
      "/opt/anaconda3/envs/iblenv/lib/python3.10/site-packages/one/util.py:428: ALFWarning: Multiple revisions: \"2025-06-20\", \"\"\n",
      "  warnings.warn(f'Multiple revisions: {rev_list}', alferr.ALFWarning)\n",
      "(S3) /Users/ineslaranjeira/Downloads/FlatIron/wittenlab/Subjects/ibl_witten_29/2021-06-08/001/alf/_ibl_rightCamera.lightningPose.pqt: 100%|██████████| 339M/339M [00:21<00:00, 15.8MB/s] \n"
     ]
    },
    {
     "name": "stdout",
     "output_type": "stream",
     "text": [
      "\u001b[36m2025-09-09 18:18:39 INFO     one.py:1288 Loading trials data\u001b[0m\n"
     ]
    },
    {
     "name": "stderr",
     "output_type": "stream",
     "text": [
      "/opt/anaconda3/envs/iblenv/lib/python3.10/site-packages/one/util.py:428: ALFWarning: Multiple revisions: \"\", \"2025-03-03\"\n",
      "  warnings.warn(f'Multiple revisions: {rev_list}', alferr.ALFWarning)\n"
     ]
    },
    {
     "name": "stdout",
     "output_type": "stream",
     "text": [
      "\u001b[36m2025-09-09 18:18:40 INFO     one.py:1288 Loading wheel data\u001b[0m\n",
      "\u001b[36m2025-09-09 18:18:42 INFO     one.py:1288 Loading motion_energy data\u001b[0m\n"
     ]
    },
    {
     "name": "stderr",
     "output_type": "stream",
     "text": [
      "/opt/anaconda3/envs/iblenv/lib/python3.10/site-packages/one/util.py:428: ALFWarning: Multiple revisions: \"\", \"2025-05-30\"\n",
      "  warnings.warn(f'Multiple revisions: {rev_list}', alferr.ALFWarning)\n",
      "/opt/anaconda3/envs/iblenv/lib/python3.10/site-packages/one/util.py:428: ALFWarning: Multiple revisions: \"\", \"2025-06-01\"\n",
      "  warnings.warn(f'Multiple revisions: {rev_list}', alferr.ALFWarning)\n",
      "/opt/anaconda3/envs/iblenv/lib/python3.10/site-packages/one/util.py:428: ALFWarning: Multiple revisions: \"\", \"2025-06-02\"\n",
      "  warnings.warn(f'Multiple revisions: {rev_list}', alferr.ALFWarning)\n"
     ]
    },
    {
     "name": "stdout",
     "output_type": "stream",
     "text": [
      "\u001b[36m2025-09-09 18:18:43 INFO     one.py:1288 Loading pupil data\u001b[0m\n"
     ]
    },
    {
     "name": "stderr",
     "output_type": "stream",
     "text": [
      "/opt/anaconda3/envs/iblenv/lib/python3.10/site-packages/one/util.py:428: ALFWarning: Multiple revisions: \"2025-06-04\", \"\"\n",
      "  warnings.warn(f'Multiple revisions: {rev_list}', alferr.ALFWarning)\n",
      "local file size mismatch on dataset: wittenlab/Subjects/ibl_witten_29/2021-06-09/002/alf/_ibl_leftCamera.lightningPose.pqt\n",
      "(S3) /Users/ineslaranjeira/Downloads/FlatIron/wittenlab/Subjects/ibl_witten_29/2021-06-09/002/alf/_ibl_leftCamera.lightningPose.pqt: 100%|██████████| 129M/129M [00:09<00:00, 13.4MB/s] \n",
      "(S3) /Users/ineslaranjeira/Downloads/FlatIron/wittenlab/Subjects/ibl_witten_29/2021-06-09/002/alf/_ibl_rightCamera.lightningPose.pqt: 100%|██████████| 295M/295M [00:19<00:00, 15.5MB/s] \n"
     ]
    },
    {
     "name": "stdout",
     "output_type": "stream",
     "text": [
      "\u001b[36m2025-09-09 18:19:19 INFO     one.py:1288 Loading trials data\u001b[0m\n"
     ]
    },
    {
     "name": "stderr",
     "output_type": "stream",
     "text": [
      "/opt/anaconda3/envs/iblenv/lib/python3.10/site-packages/one/util.py:428: ALFWarning: Multiple revisions: \"\", \"2025-03-03\"\n",
      "  warnings.warn(f'Multiple revisions: {rev_list}', alferr.ALFWarning)\n"
     ]
    },
    {
     "name": "stdout",
     "output_type": "stream",
     "text": [
      "\u001b[36m2025-09-09 18:19:20 INFO     one.py:1288 Loading wheel data\u001b[0m\n",
      "\u001b[36m2025-09-09 18:19:21 INFO     one.py:1288 Loading motion_energy data\u001b[0m\n"
     ]
    },
    {
     "name": "stderr",
     "output_type": "stream",
     "text": [
      "/opt/anaconda3/envs/iblenv/lib/python3.10/site-packages/one/util.py:428: ALFWarning: Multiple revisions: \"\", \"2025-05-30\"\n",
      "  warnings.warn(f'Multiple revisions: {rev_list}', alferr.ALFWarning)\n",
      "/opt/anaconda3/envs/iblenv/lib/python3.10/site-packages/one/util.py:428: ALFWarning: Multiple revisions: \"\", \"2025-06-01\"\n",
      "  warnings.warn(f'Multiple revisions: {rev_list}', alferr.ALFWarning)\n",
      "/opt/anaconda3/envs/iblenv/lib/python3.10/site-packages/one/util.py:428: ALFWarning: Multiple revisions: \"\", \"2025-06-02\"\n",
      "  warnings.warn(f'Multiple revisions: {rev_list}', alferr.ALFWarning)\n"
     ]
    },
    {
     "name": "stdout",
     "output_type": "stream",
     "text": [
      "\u001b[36m2025-09-09 18:19:22 INFO     one.py:1288 Loading pupil data\u001b[0m\n"
     ]
    },
    {
     "name": "stderr",
     "output_type": "stream",
     "text": [
      "/opt/anaconda3/envs/iblenv/lib/python3.10/site-packages/one/util.py:428: ALFWarning: Multiple revisions: \"2023-11-07\", \"\"\n",
      "  warnings.warn(f'Multiple revisions: {rev_list}', alferr.ALFWarning)\n",
      "local file size mismatch on dataset: wittenlab/Subjects/ibl_witten_29/2021-06-09/002/alf/#2023-11-07#/_ibl_leftCamera.features.pqt\n",
      "(S3) /Users/ineslaranjeira/Downloads/FlatIron/wittenlab/Subjects/ibl_witten_29/2021-06-09/002/alf/#2023-11-07#/_ibl_leftCamera.features.pqt: 100%|██████████| 4.75M/4.75M [00:01<00:00, 2.93MB/s]\n",
      "local file size mismatch on dataset: wittenlab/Subjects/ibl_witten_29/2021-06-10/003/alf/_ibl_leftCamera.lightningPose.pqt\n",
      "(S3) /Users/ineslaranjeira/Downloads/FlatIron/wittenlab/Subjects/ibl_witten_29/2021-06-10/003/alf/_ibl_leftCamera.lightningPose.pqt: 100%|██████████| 141M/141M [00:11<00:00, 12.3MB/s] \n",
      "(S3) /Users/ineslaranjeira/Downloads/FlatIron/wittenlab/Subjects/ibl_witten_29/2021-06-10/003/alf/_ibl_rightCamera.lightningPose.pqt: 100%|██████████| 327M/327M [00:31<00:00, 10.2MB/s] \n"
     ]
    },
    {
     "name": "stdout",
     "output_type": "stream",
     "text": [
      "\u001b[36m2025-09-09 18:20:16 INFO     one.py:1288 Loading trials data\u001b[0m\n"
     ]
    },
    {
     "name": "stderr",
     "output_type": "stream",
     "text": [
      "/opt/anaconda3/envs/iblenv/lib/python3.10/site-packages/one/util.py:428: ALFWarning: Multiple revisions: \"\", \"2025-03-03\"\n",
      "  warnings.warn(f'Multiple revisions: {rev_list}', alferr.ALFWarning)\n"
     ]
    },
    {
     "name": "stdout",
     "output_type": "stream",
     "text": [
      "\u001b[36m2025-09-09 18:20:17 INFO     one.py:1288 Loading wheel data\u001b[0m\n",
      "\u001b[36m2025-09-09 18:20:18 INFO     one.py:1288 Loading motion_energy data\u001b[0m\n"
     ]
    },
    {
     "name": "stderr",
     "output_type": "stream",
     "text": [
      "/opt/anaconda3/envs/iblenv/lib/python3.10/site-packages/one/util.py:428: ALFWarning: Multiple revisions: \"\", \"2025-05-30\"\n",
      "  warnings.warn(f'Multiple revisions: {rev_list}', alferr.ALFWarning)\n",
      "/opt/anaconda3/envs/iblenv/lib/python3.10/site-packages/one/util.py:428: ALFWarning: Multiple revisions: \"\", \"2025-06-01\"\n",
      "  warnings.warn(f'Multiple revisions: {rev_list}', alferr.ALFWarning)\n",
      "/opt/anaconda3/envs/iblenv/lib/python3.10/site-packages/one/util.py:428: ALFWarning: Multiple revisions: \"\", \"2025-06-02\"\n",
      "  warnings.warn(f'Multiple revisions: {rev_list}', alferr.ALFWarning)\n"
     ]
    },
    {
     "name": "stdout",
     "output_type": "stream",
     "text": [
      "\u001b[36m2025-09-09 18:20:19 INFO     one.py:1288 Loading pupil data\u001b[0m\n"
     ]
    },
    {
     "name": "stderr",
     "output_type": "stream",
     "text": [
      "/opt/anaconda3/envs/iblenv/lib/python3.10/site-packages/one/util.py:428: ALFWarning: Multiple revisions: \"2025-06-18\", \"\"\n",
      "  warnings.warn(f'Multiple revisions: {rev_list}', alferr.ALFWarning)\n",
      "local file size mismatch on dataset: wittenlab/Subjects/ibl_witten_29/2021-06-11/001/alf/_ibl_leftCamera.lightningPose.pqt\n",
      "(S3) /Users/ineslaranjeira/Downloads/FlatIron/wittenlab/Subjects/ibl_witten_29/2021-06-11/001/alf/_ibl_leftCamera.lightningPose.pqt: 100%|██████████| 162M/162M [00:09<00:00, 16.2MB/s] \n",
      "(S3) /Users/ineslaranjeira/Downloads/FlatIron/wittenlab/Subjects/ibl_witten_29/2021-06-11/001/alf/_ibl_rightCamera.lightningPose.pqt: 100%|██████████| 379M/379M [00:21<00:00, 17.7MB/s] \n"
     ]
    },
    {
     "name": "stdout",
     "output_type": "stream",
     "text": [
      "\u001b[36m2025-09-09 18:20:58 INFO     one.py:1288 Loading trials data\u001b[0m\n"
     ]
    },
    {
     "name": "stderr",
     "output_type": "stream",
     "text": [
      "/opt/anaconda3/envs/iblenv/lib/python3.10/site-packages/one/util.py:428: ALFWarning: Multiple revisions: \"\", \"2025-03-03\"\n",
      "  warnings.warn(f'Multiple revisions: {rev_list}', alferr.ALFWarning)\n"
     ]
    },
    {
     "name": "stdout",
     "output_type": "stream",
     "text": [
      "\u001b[36m2025-09-09 18:20:59 INFO     one.py:1288 Loading wheel data\u001b[0m\n",
      "\u001b[36m2025-09-09 18:21:01 INFO     one.py:1288 Loading motion_energy data\u001b[0m\n"
     ]
    },
    {
     "name": "stderr",
     "output_type": "stream",
     "text": [
      "/opt/anaconda3/envs/iblenv/lib/python3.10/site-packages/one/util.py:428: ALFWarning: Multiple revisions: \"\", \"2025-05-31\"\n",
      "  warnings.warn(f'Multiple revisions: {rev_list}', alferr.ALFWarning)\n",
      "/opt/anaconda3/envs/iblenv/lib/python3.10/site-packages/one/util.py:428: ALFWarning: Multiple revisions: \"\", \"2025-06-01\"\n",
      "  warnings.warn(f'Multiple revisions: {rev_list}', alferr.ALFWarning)\n",
      "/opt/anaconda3/envs/iblenv/lib/python3.10/site-packages/one/util.py:428: ALFWarning: Multiple revisions: \"\", \"2025-06-02\"\n",
      "  warnings.warn(f'Multiple revisions: {rev_list}', alferr.ALFWarning)\n"
     ]
    },
    {
     "name": "stdout",
     "output_type": "stream",
     "text": [
      "\u001b[36m2025-09-09 18:21:02 INFO     one.py:1288 Loading pupil data\u001b[0m\n"
     ]
    },
    {
     "name": "stderr",
     "output_type": "stream",
     "text": [
      "/opt/anaconda3/envs/iblenv/lib/python3.10/site-packages/one/util.py:428: ALFWarning: Multiple revisions: \"2025-06-18\", \"\"\n",
      "  warnings.warn(f'Multiple revisions: {rev_list}', alferr.ALFWarning)\n",
      "/opt/anaconda3/envs/iblenv/lib/python3.10/site-packages/one/util.py:428: ALFWarning: Multiple revisions: \"\", \"2023-04-20\"\n",
      "  warnings.warn(f'Multiple revisions: {rev_list}', alferr.ALFWarning)\n",
      "/opt/anaconda3/envs/iblenv/lib/python3.10/site-packages/one/util.py:428: ALFWarning: Multiple revisions: \"\", \"2023-04-20\"\n",
      "  warnings.warn(f'Multiple revisions: {rev_list}', alferr.ALFWarning)\n",
      "(S3) /Users/ineslaranjeira/Downloads/FlatIron/wittenlab/Subjects/ibl_witten_29/2021-06-14/003/alf/_ibl_rightCamera.lightningPose.pqt: 100%|██████████| 462M/462M [00:33<00:00, 13.9MB/s] \n"
     ]
    },
    {
     "name": "stdout",
     "output_type": "stream",
     "text": [
      "\u001b[36m2025-09-09 18:21:44 INFO     one.py:1288 Loading trials data\u001b[0m\n"
     ]
    },
    {
     "name": "stderr",
     "output_type": "stream",
     "text": [
      "/opt/anaconda3/envs/iblenv/lib/python3.10/site-packages/one/util.py:428: ALFWarning: Multiple revisions: \"\", \"2025-03-03\"\n",
      "  warnings.warn(f'Multiple revisions: {rev_list}', alferr.ALFWarning)\n"
     ]
    },
    {
     "name": "stdout",
     "output_type": "stream",
     "text": [
      "\u001b[36m2025-09-09 18:21:45 INFO     one.py:1288 Loading wheel data\u001b[0m\n",
      "\u001b[36m2025-09-09 18:21:47 INFO     one.py:1288 Loading motion_energy data\u001b[0m\n"
     ]
    },
    {
     "name": "stderr",
     "output_type": "stream",
     "text": [
      "/opt/anaconda3/envs/iblenv/lib/python3.10/site-packages/one/util.py:428: ALFWarning: Multiple revisions: \"2023-04-20\", \"2025-05-30\"\n",
      "  warnings.warn(f'Multiple revisions: {rev_list}', alferr.ALFWarning)\n",
      "/opt/anaconda3/envs/iblenv/lib/python3.10/site-packages/one/util.py:428: ALFWarning: Multiple revisions: \"2023-04-20\", \"2025-06-01\"\n",
      "  warnings.warn(f'Multiple revisions: {rev_list}', alferr.ALFWarning)\n"
     ]
    },
    {
     "name": "stdout",
     "output_type": "stream",
     "text": [
      "\u001b[36m2025-09-09 18:21:49 INFO     one.py:1288 Loading pupil data\u001b[0m\n"
     ]
    },
    {
     "name": "stderr",
     "output_type": "stream",
     "text": [
      "/opt/anaconda3/envs/iblenv/lib/python3.10/site-packages/one/util.py:428: ALFWarning: Multiple revisions: \"2025-06-04\", \"2023-04-20\"\n",
      "  warnings.warn(f'Multiple revisions: {rev_list}', alferr.ALFWarning)\n"
     ]
    },
    {
     "name": "stdout",
     "output_type": "stream",
     "text": [
      "\u001b[1;33m2025-09-09 18:21:49 WARNING  one.py:1292 Could not load pupil data.\u001b[0m\n"
     ]
    },
    {
     "name": "stderr",
     "output_type": "stream",
     "text": [
      "local file size mismatch on dataset: wittenlab/Subjects/ibl_witten_29/2021-06-16/001/alf/_ibl_leftCamera.lightningPose.pqt\n",
      "(S3) /Users/ineslaranjeira/Downloads/FlatIron/wittenlab/Subjects/ibl_witten_29/2021-06-16/001/alf/_ibl_leftCamera.lightningPose.pqt: 100%|██████████| 125M/125M [00:11<00:00, 10.9MB/s] \n",
      "(S3) /Users/ineslaranjeira/Downloads/FlatIron/wittenlab/Subjects/ibl_witten_29/2021-06-16/001/alf/_ibl_rightCamera.lightningPose.pqt: 100%|██████████| 285M/285M [00:18<00:00, 15.4MB/s] \n"
     ]
    },
    {
     "name": "stdout",
     "output_type": "stream",
     "text": [
      "\u001b[36m2025-09-09 18:22:27 INFO     one.py:1288 Loading trials data\u001b[0m\n"
     ]
    },
    {
     "name": "stderr",
     "output_type": "stream",
     "text": [
      "/opt/anaconda3/envs/iblenv/lib/python3.10/site-packages/one/util.py:428: ALFWarning: Multiple revisions: \"\", \"2025-03-03\"\n",
      "  warnings.warn(f'Multiple revisions: {rev_list}', alferr.ALFWarning)\n"
     ]
    },
    {
     "name": "stdout",
     "output_type": "stream",
     "text": [
      "\u001b[36m2025-09-09 18:22:28 INFO     one.py:1288 Loading wheel data\u001b[0m\n",
      "\u001b[36m2025-09-09 18:22:30 INFO     one.py:1288 Loading motion_energy data\u001b[0m\n"
     ]
    },
    {
     "name": "stderr",
     "output_type": "stream",
     "text": [
      "/opt/anaconda3/envs/iblenv/lib/python3.10/site-packages/one/util.py:428: ALFWarning: Multiple revisions: \"\", \"2025-05-30\"\n",
      "  warnings.warn(f'Multiple revisions: {rev_list}', alferr.ALFWarning)\n",
      "/opt/anaconda3/envs/iblenv/lib/python3.10/site-packages/one/util.py:428: ALFWarning: Multiple revisions: \"\", \"2025-06-01\"\n",
      "  warnings.warn(f'Multiple revisions: {rev_list}', alferr.ALFWarning)\n",
      "/opt/anaconda3/envs/iblenv/lib/python3.10/site-packages/one/util.py:428: ALFWarning: Multiple revisions: \"\", \"2025-06-02\"\n",
      "  warnings.warn(f'Multiple revisions: {rev_list}', alferr.ALFWarning)\n"
     ]
    },
    {
     "name": "stdout",
     "output_type": "stream",
     "text": [
      "\u001b[36m2025-09-09 18:22:31 INFO     one.py:1288 Loading pupil data\u001b[0m\n"
     ]
    },
    {
     "name": "stderr",
     "output_type": "stream",
     "text": [
      "/opt/anaconda3/envs/iblenv/lib/python3.10/site-packages/one/util.py:428: ALFWarning: Multiple revisions: \"2025-06-18\", \"\"\n",
      "  warnings.warn(f'Multiple revisions: {rev_list}', alferr.ALFWarning)\n",
      "local file size mismatch on dataset: wittenlab/Subjects/ibl_witten_29/2021-06-17/001/alf/_ibl_leftCamera.lightningPose.pqt\n",
      "(S3) /Users/ineslaranjeira/Downloads/FlatIron/wittenlab/Subjects/ibl_witten_29/2021-06-17/001/alf/_ibl_leftCamera.lightningPose.pqt: 100%|██████████| 135M/135M [00:08<00:00, 16.1MB/s] \n",
      "(S3) /Users/ineslaranjeira/Downloads/FlatIron/wittenlab/Subjects/ibl_witten_29/2021-06-17/001/alf/_ibl_rightCamera.lightningPose.pqt: 100%|██████████| 311M/311M [00:22<00:00, 13.6MB/s] \n"
     ]
    },
    {
     "name": "stdout",
     "output_type": "stream",
     "text": [
      "\u001b[36m2025-09-09 18:23:10 INFO     one.py:1288 Loading trials data\u001b[0m\n"
     ]
    },
    {
     "name": "stderr",
     "output_type": "stream",
     "text": [
      "/opt/anaconda3/envs/iblenv/lib/python3.10/site-packages/one/util.py:428: ALFWarning: Multiple revisions: \"\", \"2025-03-03\"\n",
      "  warnings.warn(f'Multiple revisions: {rev_list}', alferr.ALFWarning)\n"
     ]
    },
    {
     "name": "stdout",
     "output_type": "stream",
     "text": [
      "\u001b[36m2025-09-09 18:23:11 INFO     one.py:1288 Loading wheel data\u001b[0m\n",
      "\u001b[36m2025-09-09 18:23:12 INFO     one.py:1288 Loading motion_energy data\u001b[0m\n"
     ]
    },
    {
     "name": "stderr",
     "output_type": "stream",
     "text": [
      "/opt/anaconda3/envs/iblenv/lib/python3.10/site-packages/one/util.py:428: ALFWarning: Multiple revisions: \"\", \"2025-05-30\"\n",
      "  warnings.warn(f'Multiple revisions: {rev_list}', alferr.ALFWarning)\n",
      "/opt/anaconda3/envs/iblenv/lib/python3.10/site-packages/one/util.py:428: ALFWarning: Multiple revisions: \"\", \"2025-06-01\"\n",
      "  warnings.warn(f'Multiple revisions: {rev_list}', alferr.ALFWarning)\n",
      "/opt/anaconda3/envs/iblenv/lib/python3.10/site-packages/one/util.py:428: ALFWarning: Multiple revisions: \"\", \"2025-06-02\"\n",
      "  warnings.warn(f'Multiple revisions: {rev_list}', alferr.ALFWarning)\n"
     ]
    },
    {
     "name": "stdout",
     "output_type": "stream",
     "text": [
      "\u001b[36m2025-09-09 18:23:13 INFO     one.py:1288 Loading pupil data\u001b[0m\n"
     ]
    },
    {
     "name": "stderr",
     "output_type": "stream",
     "text": [
      "/opt/anaconda3/envs/iblenv/lib/python3.10/site-packages/one/util.py:428: ALFWarning: Multiple revisions: \"2025-06-18\", \"\"\n",
      "  warnings.warn(f'Multiple revisions: {rev_list}', alferr.ALFWarning)\n",
      "local file size mismatch on dataset: wittenlab/Subjects/ibl_witten_29/2021-06-18/001/alf/_ibl_leftCamera.lightningPose.pqt\n",
      "(S3) /Users/ineslaranjeira/Downloads/FlatIron/wittenlab/Subjects/ibl_witten_29/2021-06-18/001/alf/_ibl_leftCamera.lightningPose.pqt: 100%|██████████| 122M/122M [00:25<00:00, 4.81MB/s] \n",
      "(S3) /Users/ineslaranjeira/Downloads/FlatIron/wittenlab/Subjects/ibl_witten_29/2021-06-18/001/alf/_ibl_rightCamera.lightningPose.pqt: 100%|██████████| 277M/277M [00:20<00:00, 13.8MB/s] \n"
     ]
    },
    {
     "name": "stdout",
     "output_type": "stream",
     "text": [
      "\u001b[36m2025-09-09 18:24:07 INFO     one.py:1288 Loading trials data\u001b[0m\n"
     ]
    },
    {
     "name": "stderr",
     "output_type": "stream",
     "text": [
      "/opt/anaconda3/envs/iblenv/lib/python3.10/site-packages/one/util.py:428: ALFWarning: Multiple revisions: \"\", \"2025-03-03\"\n",
      "  warnings.warn(f'Multiple revisions: {rev_list}', alferr.ALFWarning)\n"
     ]
    },
    {
     "name": "stdout",
     "output_type": "stream",
     "text": [
      "\u001b[36m2025-09-09 18:24:08 INFO     one.py:1288 Loading wheel data\u001b[0m\n",
      "\u001b[36m2025-09-09 18:24:09 INFO     one.py:1288 Loading motion_energy data\u001b[0m\n"
     ]
    },
    {
     "name": "stderr",
     "output_type": "stream",
     "text": [
      "/opt/anaconda3/envs/iblenv/lib/python3.10/site-packages/one/util.py:428: ALFWarning: Multiple revisions: \"\", \"2025-05-30\"\n",
      "  warnings.warn(f'Multiple revisions: {rev_list}', alferr.ALFWarning)\n",
      "/opt/anaconda3/envs/iblenv/lib/python3.10/site-packages/one/util.py:428: ALFWarning: Multiple revisions: \"\", \"2025-06-01\"\n",
      "  warnings.warn(f'Multiple revisions: {rev_list}', alferr.ALFWarning)\n",
      "/opt/anaconda3/envs/iblenv/lib/python3.10/site-packages/one/util.py:428: ALFWarning: Multiple revisions: \"\", \"2025-06-02\"\n",
      "  warnings.warn(f'Multiple revisions: {rev_list}', alferr.ALFWarning)\n"
     ]
    },
    {
     "name": "stdout",
     "output_type": "stream",
     "text": [
      "\u001b[36m2025-09-09 18:24:11 INFO     one.py:1288 Loading pupil data\u001b[0m\n"
     ]
    },
    {
     "name": "stderr",
     "output_type": "stream",
     "text": [
      "/opt/anaconda3/envs/iblenv/lib/python3.10/site-packages/one/util.py:428: ALFWarning: Multiple revisions: \"2025-06-18\", \"\"\n",
      "  warnings.warn(f'Multiple revisions: {rev_list}', alferr.ALFWarning)\n",
      "/opt/anaconda3/envs/iblenv/lib/python3.10/site-packages/one/util.py:428: ALFWarning: Multiple revisions: \"2025-05-30\", \"\"\n",
      "  warnings.warn(f'Multiple revisions: {rev_list}', alferr.ALFWarning)\n",
      "(S3) /Users/ineslaranjeira/Downloads/FlatIron/wittenlab/Subjects/ibl_witten_29/2021-06-19/001/alf/_ibl_rightCamera.lightningPose.pqt: 100%|██████████| 337M/337M [00:31<00:00, 10.7MB/s] \n"
     ]
    },
    {
     "name": "stdout",
     "output_type": "stream",
     "text": [
      "\u001b[36m2025-09-09 18:24:49 INFO     one.py:1288 Loading trials data\u001b[0m\n"
     ]
    },
    {
     "name": "stderr",
     "output_type": "stream",
     "text": [
      "/opt/anaconda3/envs/iblenv/lib/python3.10/site-packages/one/util.py:428: ALFWarning: Multiple revisions: \"\", \"2025-03-03\"\n",
      "  warnings.warn(f'Multiple revisions: {rev_list}', alferr.ALFWarning)\n"
     ]
    },
    {
     "name": "stdout",
     "output_type": "stream",
     "text": [
      "\u001b[36m2025-09-09 18:24:50 INFO     one.py:1288 Loading wheel data\u001b[0m\n",
      "\u001b[36m2025-09-09 18:24:51 INFO     one.py:1288 Loading motion_energy data\u001b[0m\n"
     ]
    },
    {
     "name": "stderr",
     "output_type": "stream",
     "text": [
      "/opt/anaconda3/envs/iblenv/lib/python3.10/site-packages/one/util.py:428: ALFWarning: Multiple revisions: \"\", \"2025-05-30\"\n",
      "  warnings.warn(f'Multiple revisions: {rev_list}', alferr.ALFWarning)\n",
      "/opt/anaconda3/envs/iblenv/lib/python3.10/site-packages/one/util.py:428: ALFWarning: Multiple revisions: \"\", \"2025-06-01\"\n",
      "  warnings.warn(f'Multiple revisions: {rev_list}', alferr.ALFWarning)\n",
      "/opt/anaconda3/envs/iblenv/lib/python3.10/site-packages/one/util.py:428: ALFWarning: Multiple revisions: \"\", \"2025-06-02\"\n",
      "  warnings.warn(f'Multiple revisions: {rev_list}', alferr.ALFWarning)\n"
     ]
    },
    {
     "name": "stdout",
     "output_type": "stream",
     "text": [
      "\u001b[36m2025-09-09 18:24:53 INFO     one.py:1288 Loading pupil data\u001b[0m\n"
     ]
    },
    {
     "name": "stderr",
     "output_type": "stream",
     "text": [
      "/opt/anaconda3/envs/iblenv/lib/python3.10/site-packages/one/util.py:428: ALFWarning: Multiple revisions: \"2025-06-20\", \"\"\n",
      "  warnings.warn(f'Multiple revisions: {rev_list}', alferr.ALFWarning)\n",
      "local file size mismatch on dataset: wittenlab/Subjects/ibl_witten_32/2021-07-21/002/alf/_ibl_leftCamera.lightningPose.pqt\n",
      "(S3) /Users/ineslaranjeira/Downloads/FlatIron/wittenlab/Subjects/ibl_witten_32/2021-07-21/002/alf/_ibl_leftCamera.lightningPose.pqt: 100%|██████████| 155M/155M [00:18<00:00, 8.48MB/s] \n",
      "(S3) /Users/ineslaranjeira/Downloads/FlatIron/wittenlab/Subjects/ibl_witten_32/2021-07-21/002/alf/_ibl_rightCamera.lightningPose.pqt: 100%|██████████| 358M/358M [00:37<00:00, 9.46MB/s] \n"
     ]
    },
    {
     "name": "stdout",
     "output_type": "stream",
     "text": [
      "\u001b[36m2025-09-09 18:25:57 INFO     one.py:1288 Loading trials data\u001b[0m\n"
     ]
    },
    {
     "name": "stderr",
     "output_type": "stream",
     "text": [
      "/opt/anaconda3/envs/iblenv/lib/python3.10/site-packages/one/util.py:428: ALFWarning: Multiple revisions: \"\", \"2025-03-03\"\n",
      "  warnings.warn(f'Multiple revisions: {rev_list}', alferr.ALFWarning)\n"
     ]
    },
    {
     "name": "stdout",
     "output_type": "stream",
     "text": [
      "\u001b[36m2025-09-09 18:25:58 INFO     one.py:1288 Loading wheel data\u001b[0m\n",
      "\u001b[36m2025-09-09 18:25:59 INFO     one.py:1288 Loading motion_energy data\u001b[0m\n"
     ]
    },
    {
     "name": "stderr",
     "output_type": "stream",
     "text": [
      "/opt/anaconda3/envs/iblenv/lib/python3.10/site-packages/one/util.py:428: ALFWarning: Multiple revisions: \"\", \"2025-05-31\"\n",
      "  warnings.warn(f'Multiple revisions: {rev_list}', alferr.ALFWarning)\n",
      "/opt/anaconda3/envs/iblenv/lib/python3.10/site-packages/one/util.py:428: ALFWarning: Multiple revisions: \"\", \"2025-06-01\"\n",
      "  warnings.warn(f'Multiple revisions: {rev_list}', alferr.ALFWarning)\n",
      "/opt/anaconda3/envs/iblenv/lib/python3.10/site-packages/one/util.py:428: ALFWarning: Multiple revisions: \"\", \"2025-06-02\"\n",
      "  warnings.warn(f'Multiple revisions: {rev_list}', alferr.ALFWarning)\n"
     ]
    },
    {
     "name": "stdout",
     "output_type": "stream",
     "text": [
      "\u001b[36m2025-09-09 18:26:01 INFO     one.py:1288 Loading pupil data\u001b[0m\n"
     ]
    },
    {
     "name": "stderr",
     "output_type": "stream",
     "text": [
      "/opt/anaconda3/envs/iblenv/lib/python3.10/site-packages/one/util.py:428: ALFWarning: Multiple revisions: \"2025-06-18\", \"\"\n",
      "  warnings.warn(f'Multiple revisions: {rev_list}', alferr.ALFWarning)\n",
      "(S3) /Users/ineslaranjeira/Downloads/FlatIron/zadorlab/Subjects/CSH_ZAD_019/2020-08-14/001/alf/_ibl_rightCamera.lightningPose.pqt: 100%|██████████| 429M/429M [00:46<00:00, 9.17MB/s] \n"
     ]
    },
    {
     "name": "stdout",
     "output_type": "stream",
     "text": [
      "\u001b[36m2025-09-09 18:26:57 INFO     one.py:1288 Loading trials data\u001b[0m\n"
     ]
    },
    {
     "name": "stderr",
     "output_type": "stream",
     "text": [
      "/opt/anaconda3/envs/iblenv/lib/python3.10/site-packages/one/util.py:428: ALFWarning: Multiple revisions: \"\", \"2025-03-03\"\n",
      "  warnings.warn(f'Multiple revisions: {rev_list}', alferr.ALFWarning)\n"
     ]
    },
    {
     "name": "stdout",
     "output_type": "stream",
     "text": [
      "\u001b[36m2025-09-09 18:26:58 INFO     one.py:1288 Loading wheel data\u001b[0m\n",
      "\u001b[36m2025-09-09 18:26:59 INFO     one.py:1288 Loading motion_energy data\u001b[0m\n"
     ]
    },
    {
     "name": "stderr",
     "output_type": "stream",
     "text": [
      "/opt/anaconda3/envs/iblenv/lib/python3.10/site-packages/one/util.py:428: ALFWarning: Multiple revisions: \"\", \"2025-05-30\"\n",
      "  warnings.warn(f'Multiple revisions: {rev_list}', alferr.ALFWarning)\n",
      "/opt/anaconda3/envs/iblenv/lib/python3.10/site-packages/one/util.py:428: ALFWarning: Multiple revisions: \"\", \"2025-06-01\"\n",
      "  warnings.warn(f'Multiple revisions: {rev_list}', alferr.ALFWarning)\n",
      "/opt/anaconda3/envs/iblenv/lib/python3.10/site-packages/one/util.py:428: ALFWarning: Multiple revisions: \"\", \"2025-06-02\"\n",
      "  warnings.warn(f'Multiple revisions: {rev_list}', alferr.ALFWarning)\n"
     ]
    },
    {
     "name": "stdout",
     "output_type": "stream",
     "text": [
      "\u001b[36m2025-09-09 18:27:00 INFO     one.py:1288 Loading pupil data\u001b[0m\n"
     ]
    },
    {
     "name": "stderr",
     "output_type": "stream",
     "text": [
      "/opt/anaconda3/envs/iblenv/lib/python3.10/site-packages/one/util.py:428: ALFWarning: Multiple revisions: \"2025-06-04\", \"\"\n",
      "  warnings.warn(f'Multiple revisions: {rev_list}', alferr.ALFWarning)\n"
     ]
    },
    {
     "name": "stdout",
     "output_type": "stream",
     "text": [
      "\u001b[1;33m2025-09-09 18:27:01 WARNING  one.py:1292 Could not load pupil data.\u001b[0m\n"
     ]
    },
    {
     "name": "stderr",
     "output_type": "stream",
     "text": [
      "(S3) /Users/ineslaranjeira/Downloads/FlatIron/zadorlab/Subjects/CSH_ZAD_019/2020-08-16/001/alf/_ibl_rightCamera.lightningPose.pqt: 100%|██████████| 327M/327M [00:32<00:00, 10.1MB/s] \n"
     ]
    },
    {
     "name": "stdout",
     "output_type": "stream",
     "text": [
      "\u001b[36m2025-09-09 18:27:43 INFO     one.py:1288 Loading trials data\u001b[0m\n"
     ]
    },
    {
     "name": "stderr",
     "output_type": "stream",
     "text": [
      "/opt/anaconda3/envs/iblenv/lib/python3.10/site-packages/one/util.py:428: ALFWarning: Multiple revisions: \"\", \"2025-03-03\"\n",
      "  warnings.warn(f'Multiple revisions: {rev_list}', alferr.ALFWarning)\n"
     ]
    },
    {
     "name": "stdout",
     "output_type": "stream",
     "text": [
      "\u001b[36m2025-09-09 18:27:44 INFO     one.py:1288 Loading wheel data\u001b[0m\n",
      "\u001b[36m2025-09-09 18:27:45 INFO     one.py:1288 Loading motion_energy data\u001b[0m\n"
     ]
    },
    {
     "name": "stderr",
     "output_type": "stream",
     "text": [
      "/opt/anaconda3/envs/iblenv/lib/python3.10/site-packages/one/util.py:428: ALFWarning: Multiple revisions: \"\", \"2025-06-01\"\n",
      "  warnings.warn(f'Multiple revisions: {rev_list}', alferr.ALFWarning)\n",
      "/opt/anaconda3/envs/iblenv/lib/python3.10/site-packages/one/util.py:428: ALFWarning: Multiple revisions: \"\", \"2025-06-02\"\n",
      "  warnings.warn(f'Multiple revisions: {rev_list}', alferr.ALFWarning)\n"
     ]
    },
    {
     "name": "stdout",
     "output_type": "stream",
     "text": [
      "\u001b[36m2025-09-09 18:27:46 INFO     one.py:1288 Loading pupil data\u001b[0m\n"
     ]
    },
    {
     "name": "stderr",
     "output_type": "stream",
     "text": [
      "/opt/anaconda3/envs/iblenv/lib/python3.10/site-packages/one/util.py:428: ALFWarning: Multiple revisions: \"2025-06-04\", \"\"\n",
      "  warnings.warn(f'Multiple revisions: {rev_list}', alferr.ALFWarning)\n"
     ]
    },
    {
     "name": "stdout",
     "output_type": "stream",
     "text": [
      "\u001b[1;33m2025-09-09 18:27:47 WARNING  one.py:1292 Could not load pupil data.\u001b[0m\n"
     ]
    },
    {
     "name": "stderr",
     "output_type": "stream",
     "text": [
      "(S3) /Users/ineslaranjeira/Downloads/FlatIron/zadorlab/Subjects/CSH_ZAD_019/2020-08-18/001/alf/_ibl_rightCamera.lightningPose.pqt: 100%|██████████| 367M/367M [00:42<00:00, 8.56MB/s] \n"
     ]
    },
    {
     "name": "stdout",
     "output_type": "stream",
     "text": [
      "\u001b[36m2025-09-09 18:28:37 INFO     one.py:1288 Loading trials data\u001b[0m\n"
     ]
    },
    {
     "name": "stderr",
     "output_type": "stream",
     "text": [
      "/opt/anaconda3/envs/iblenv/lib/python3.10/site-packages/one/util.py:428: ALFWarning: Multiple revisions: \"\", \"2025-03-03\"\n",
      "  warnings.warn(f'Multiple revisions: {rev_list}', alferr.ALFWarning)\n"
     ]
    },
    {
     "name": "stdout",
     "output_type": "stream",
     "text": [
      "\u001b[36m2025-09-09 18:28:39 INFO     one.py:1288 Loading wheel data\u001b[0m\n",
      "\u001b[36m2025-09-09 18:28:40 INFO     one.py:1288 Loading motion_energy data\u001b[0m\n"
     ]
    },
    {
     "name": "stderr",
     "output_type": "stream",
     "text": [
      "/opt/anaconda3/envs/iblenv/lib/python3.10/site-packages/one/util.py:428: ALFWarning: Multiple revisions: \"\", \"2025-06-01\"\n",
      "  warnings.warn(f'Multiple revisions: {rev_list}', alferr.ALFWarning)\n",
      "/opt/anaconda3/envs/iblenv/lib/python3.10/site-packages/one/util.py:428: ALFWarning: Multiple revisions: \"\", \"2025-06-02\"\n",
      "  warnings.warn(f'Multiple revisions: {rev_list}', alferr.ALFWarning)\n"
     ]
    },
    {
     "name": "stdout",
     "output_type": "stream",
     "text": [
      "\u001b[36m2025-09-09 18:28:41 INFO     one.py:1288 Loading pupil data\u001b[0m\n"
     ]
    },
    {
     "name": "stderr",
     "output_type": "stream",
     "text": [
      "/opt/anaconda3/envs/iblenv/lib/python3.10/site-packages/one/util.py:428: ALFWarning: Multiple revisions: \"2025-06-04\", \"\"\n",
      "  warnings.warn(f'Multiple revisions: {rev_list}', alferr.ALFWarning)\n",
      "/Users/ineslaranjeira/Documents/Repositories/ibllib/brainbox/io/one.py:1474: RuntimeWarning: invalid value encountered in scalar divide\n",
      "  snr = (np.var(self.pupil['pupilDiameter_smooth'][good_idxs]) /\n",
      "(S3) /Users/ineslaranjeira/Downloads/FlatIron/zadorlab/Subjects/CSH_ZAD_019/2020-08-19/001/alf/_ibl_rightCamera.lightningPose.pqt: 100%|██████████| 357M/357M [00:23<00:00, 15.0MB/s] \n"
     ]
    },
    {
     "name": "stdout",
     "output_type": "stream",
     "text": [
      "\u001b[36m2025-09-09 18:29:14 INFO     one.py:1288 Loading trials data\u001b[0m\n"
     ]
    },
    {
     "name": "stderr",
     "output_type": "stream",
     "text": [
      "/opt/anaconda3/envs/iblenv/lib/python3.10/site-packages/one/util.py:428: ALFWarning: Multiple revisions: \"\", \"2025-03-03\"\n",
      "  warnings.warn(f'Multiple revisions: {rev_list}', alferr.ALFWarning)\n"
     ]
    },
    {
     "name": "stdout",
     "output_type": "stream",
     "text": [
      "\u001b[36m2025-09-09 18:29:15 INFO     one.py:1288 Loading wheel data\u001b[0m\n",
      "\u001b[36m2025-09-09 18:29:16 INFO     one.py:1288 Loading motion_energy data\u001b[0m\n"
     ]
    },
    {
     "name": "stderr",
     "output_type": "stream",
     "text": [
      "/opt/anaconda3/envs/iblenv/lib/python3.10/site-packages/one/util.py:428: ALFWarning: Multiple revisions: \"\", \"2025-06-01\"\n",
      "  warnings.warn(f'Multiple revisions: {rev_list}', alferr.ALFWarning)\n",
      "/opt/anaconda3/envs/iblenv/lib/python3.10/site-packages/one/util.py:428: ALFWarning: Multiple revisions: \"\", \"2025-06-02\"\n",
      "  warnings.warn(f'Multiple revisions: {rev_list}', alferr.ALFWarning)\n"
     ]
    },
    {
     "name": "stdout",
     "output_type": "stream",
     "text": [
      "\u001b[36m2025-09-09 18:29:17 INFO     one.py:1288 Loading pupil data\u001b[0m\n"
     ]
    },
    {
     "name": "stderr",
     "output_type": "stream",
     "text": [
      "/opt/anaconda3/envs/iblenv/lib/python3.10/site-packages/one/util.py:428: ALFWarning: Multiple revisions: \"2025-06-04\", \"\"\n",
      "  warnings.warn(f'Multiple revisions: {rev_list}', alferr.ALFWarning)\n"
     ]
    },
    {
     "name": "stdout",
     "output_type": "stream",
     "text": [
      "\u001b[1;33m2025-09-09 18:29:18 WARNING  one.py:1292 Could not load pupil data.\u001b[0m\n"
     ]
    },
    {
     "name": "stderr",
     "output_type": "stream",
     "text": [
      "/opt/anaconda3/envs/iblenv/lib/python3.10/site-packages/one/util.py:428: ALFWarning: Multiple revisions: \"2025-05-31\", \"\"\n",
      "  warnings.warn(f'Multiple revisions: {rev_list}', alferr.ALFWarning)\n",
      "(S3) /Users/ineslaranjeira/Downloads/FlatIron/zadorlab/Subjects/CSH_ZAD_026/2020-08-14/002/alf/_ibl_rightCamera.lightningPose.pqt: 100%|██████████| 376M/376M [00:24<00:00, 15.5MB/s] \n"
     ]
    },
    {
     "name": "stdout",
     "output_type": "stream",
     "text": [
      "\u001b[36m2025-09-09 18:29:50 INFO     one.py:1288 Loading trials data\u001b[0m\n"
     ]
    },
    {
     "name": "stderr",
     "output_type": "stream",
     "text": [
      "/opt/anaconda3/envs/iblenv/lib/python3.10/site-packages/one/util.py:428: ALFWarning: Multiple revisions: \"\", \"2025-03-03\"\n",
      "  warnings.warn(f'Multiple revisions: {rev_list}', alferr.ALFWarning)\n"
     ]
    },
    {
     "name": "stdout",
     "output_type": "stream",
     "text": [
      "\u001b[36m2025-09-09 18:29:51 INFO     one.py:1288 Loading wheel data\u001b[0m\n",
      "\u001b[36m2025-09-09 18:29:52 INFO     one.py:1288 Loading motion_energy data\u001b[0m\n"
     ]
    },
    {
     "name": "stderr",
     "output_type": "stream",
     "text": [
      "/opt/anaconda3/envs/iblenv/lib/python3.10/site-packages/one/util.py:428: ALFWarning: Multiple revisions: \"\", \"2025-05-31\"\n",
      "  warnings.warn(f'Multiple revisions: {rev_list}', alferr.ALFWarning)\n",
      "/opt/anaconda3/envs/iblenv/lib/python3.10/site-packages/one/util.py:428: ALFWarning: Multiple revisions: \"\", \"2025-06-01\"\n",
      "  warnings.warn(f'Multiple revisions: {rev_list}', alferr.ALFWarning)\n",
      "/opt/anaconda3/envs/iblenv/lib/python3.10/site-packages/one/util.py:428: ALFWarning: Multiple revisions: \"\", \"2025-06-02\"\n",
      "  warnings.warn(f'Multiple revisions: {rev_list}', alferr.ALFWarning)\n"
     ]
    },
    {
     "name": "stdout",
     "output_type": "stream",
     "text": [
      "\u001b[36m2025-09-09 18:29:53 INFO     one.py:1288 Loading pupil data\u001b[0m\n"
     ]
    },
    {
     "name": "stderr",
     "output_type": "stream",
     "text": [
      "/opt/anaconda3/envs/iblenv/lib/python3.10/site-packages/one/util.py:428: ALFWarning: Multiple revisions: \"2025-06-20\", \"\"\n",
      "  warnings.warn(f'Multiple revisions: {rev_list}', alferr.ALFWarning)\n"
     ]
    },
    {
     "name": "stdout",
     "output_type": "stream",
     "text": [
      "\u001b[1;33m2025-09-09 18:29:54 WARNING  one.py:1292 Could not load pupil data.\u001b[0m\n"
     ]
    },
    {
     "name": "stderr",
     "output_type": "stream",
     "text": [
      "(S3) /Users/ineslaranjeira/Downloads/FlatIron/zadorlab/Subjects/CSH_ZAD_026/2020-08-15/001/alf/_ibl_rightCamera.lightningPose.pqt: 100%|██████████| 347M/347M [00:25<00:00, 13.6MB/s] \n"
     ]
    },
    {
     "name": "stdout",
     "output_type": "stream",
     "text": [
      "\u001b[36m2025-09-09 18:30:29 INFO     one.py:1288 Loading trials data\u001b[0m\n"
     ]
    },
    {
     "name": "stderr",
     "output_type": "stream",
     "text": [
      "/opt/anaconda3/envs/iblenv/lib/python3.10/site-packages/one/util.py:428: ALFWarning: Multiple revisions: \"\", \"2025-03-03\"\n",
      "  warnings.warn(f'Multiple revisions: {rev_list}', alferr.ALFWarning)\n"
     ]
    },
    {
     "name": "stdout",
     "output_type": "stream",
     "text": [
      "\u001b[36m2025-09-09 18:30:30 INFO     one.py:1288 Loading wheel data\u001b[0m\n",
      "\u001b[36m2025-09-09 18:30:31 INFO     one.py:1288 Loading motion_energy data\u001b[0m\n"
     ]
    },
    {
     "name": "stderr",
     "output_type": "stream",
     "text": [
      "/opt/anaconda3/envs/iblenv/lib/python3.10/site-packages/one/util.py:428: ALFWarning: Multiple revisions: \"\", \"2023-11-08\"\n",
      "  warnings.warn(f'Multiple revisions: {rev_list}', alferr.ALFWarning)\n",
      "/opt/anaconda3/envs/iblenv/lib/python3.10/site-packages/one/util.py:428: ALFWarning: Multiple revisions: \"\", \"2023-11-08\"\n",
      "  warnings.warn(f'Multiple revisions: {rev_list}', alferr.ALFWarning)\n",
      "/opt/anaconda3/envs/iblenv/lib/python3.10/site-packages/one/util.py:428: ALFWarning: Multiple revisions: \"\", \"2023-11-08\"\n",
      "  warnings.warn(f'Multiple revisions: {rev_list}', alferr.ALFWarning)\n"
     ]
    },
    {
     "name": "stdout",
     "output_type": "stream",
     "text": [
      "\u001b[36m2025-09-09 18:30:32 INFO     one.py:1288 Loading pupil data\u001b[0m\n"
     ]
    },
    {
     "name": "stderr",
     "output_type": "stream",
     "text": [
      "/opt/anaconda3/envs/iblenv/lib/python3.10/site-packages/one/util.py:428: ALFWarning: Multiple revisions: \"2025-06-04\", \"\"\n",
      "  warnings.warn(f'Multiple revisions: {rev_list}', alferr.ALFWarning)\n"
     ]
    },
    {
     "name": "stdout",
     "output_type": "stream",
     "text": [
      "\u001b[1;33m2025-09-09 18:30:33 WARNING  one.py:1292 Could not load pupil data.\u001b[0m\n"
     ]
    },
    {
     "name": "stderr",
     "output_type": "stream",
     "text": [
      "(S3) /Users/ineslaranjeira/Downloads/FlatIron/zadorlab/Subjects/CSH_ZAD_026/2020-08-17/001/alf/_ibl_rightCamera.lightningPose.pqt: 100%|██████████| 396M/396M [00:32<00:00, 12.3MB/s] \n"
     ]
    },
    {
     "name": "stdout",
     "output_type": "stream",
     "text": [
      "\u001b[36m2025-09-09 18:31:14 INFO     one.py:1288 Loading trials data\u001b[0m\n"
     ]
    },
    {
     "name": "stderr",
     "output_type": "stream",
     "text": [
      "/opt/anaconda3/envs/iblenv/lib/python3.10/site-packages/one/util.py:428: ALFWarning: Multiple revisions: \"\", \"2025-03-03\"\n",
      "  warnings.warn(f'Multiple revisions: {rev_list}', alferr.ALFWarning)\n"
     ]
    },
    {
     "name": "stdout",
     "output_type": "stream",
     "text": [
      "\u001b[36m2025-09-09 18:31:15 INFO     one.py:1288 Loading wheel data\u001b[0m\n",
      "\u001b[36m2025-09-09 18:31:16 INFO     one.py:1288 Loading motion_energy data\u001b[0m\n"
     ]
    },
    {
     "name": "stderr",
     "output_type": "stream",
     "text": [
      "/opt/anaconda3/envs/iblenv/lib/python3.10/site-packages/one/util.py:428: ALFWarning: Multiple revisions: \"\", \"2025-05-31\"\n",
      "  warnings.warn(f'Multiple revisions: {rev_list}', alferr.ALFWarning)\n",
      "/opt/anaconda3/envs/iblenv/lib/python3.10/site-packages/one/util.py:428: ALFWarning: Multiple revisions: \"\", \"2025-06-01\"\n",
      "  warnings.warn(f'Multiple revisions: {rev_list}', alferr.ALFWarning)\n",
      "/opt/anaconda3/envs/iblenv/lib/python3.10/site-packages/one/util.py:428: ALFWarning: Multiple revisions: \"\", \"2025-06-02\"\n",
      "  warnings.warn(f'Multiple revisions: {rev_list}', alferr.ALFWarning)\n"
     ]
    },
    {
     "name": "stdout",
     "output_type": "stream",
     "text": [
      "\u001b[36m2025-09-09 18:31:17 INFO     one.py:1288 Loading pupil data\u001b[0m\n"
     ]
    },
    {
     "name": "stderr",
     "output_type": "stream",
     "text": [
      "/opt/anaconda3/envs/iblenv/lib/python3.10/site-packages/one/util.py:428: ALFWarning: Multiple revisions: \"2025-06-04\", \"\"\n",
      "  warnings.warn(f'Multiple revisions: {rev_list}', alferr.ALFWarning)\n"
     ]
    },
    {
     "name": "stdout",
     "output_type": "stream",
     "text": [
      "\u001b[1;33m2025-09-09 18:31:18 WARNING  one.py:1292 Could not load pupil data.\u001b[0m\n"
     ]
    },
    {
     "name": "stderr",
     "output_type": "stream",
     "text": [
      "(S3) /Users/ineslaranjeira/Downloads/FlatIron/zadorlab/Subjects/CSH_ZAD_026/2020-08-18/001/alf/_ibl_rightCamera.lightningPose.pqt: 100%|██████████| 399M/399M [00:35<00:00, 11.3MB/s] \n"
     ]
    },
    {
     "name": "stdout",
     "output_type": "stream",
     "text": [
      "\u001b[36m2025-09-09 18:32:02 INFO     one.py:1288 Loading trials data\u001b[0m\n"
     ]
    },
    {
     "name": "stderr",
     "output_type": "stream",
     "text": [
      "/opt/anaconda3/envs/iblenv/lib/python3.10/site-packages/one/util.py:428: ALFWarning: Multiple revisions: \"\", \"2025-03-03\"\n",
      "  warnings.warn(f'Multiple revisions: {rev_list}', alferr.ALFWarning)\n"
     ]
    },
    {
     "name": "stdout",
     "output_type": "stream",
     "text": [
      "\u001b[36m2025-09-09 18:32:03 INFO     one.py:1288 Loading wheel data\u001b[0m\n",
      "\u001b[36m2025-09-09 18:32:05 INFO     one.py:1288 Loading motion_energy data\u001b[0m\n"
     ]
    },
    {
     "name": "stderr",
     "output_type": "stream",
     "text": [
      "/opt/anaconda3/envs/iblenv/lib/python3.10/site-packages/one/util.py:428: ALFWarning: Multiple revisions: \"\", \"2025-05-31\"\n",
      "  warnings.warn(f'Multiple revisions: {rev_list}', alferr.ALFWarning)\n",
      "/opt/anaconda3/envs/iblenv/lib/python3.10/site-packages/one/util.py:428: ALFWarning: Multiple revisions: \"\", \"2025-06-01\"\n",
      "  warnings.warn(f'Multiple revisions: {rev_list}', alferr.ALFWarning)\n",
      "/opt/anaconda3/envs/iblenv/lib/python3.10/site-packages/one/util.py:428: ALFWarning: Multiple revisions: \"\", \"2025-06-02\"\n",
      "  warnings.warn(f'Multiple revisions: {rev_list}', alferr.ALFWarning)\n"
     ]
    },
    {
     "name": "stdout",
     "output_type": "stream",
     "text": [
      "\u001b[36m2025-09-09 18:32:06 INFO     one.py:1288 Loading pupil data\u001b[0m\n"
     ]
    },
    {
     "name": "stderr",
     "output_type": "stream",
     "text": [
      "/opt/anaconda3/envs/iblenv/lib/python3.10/site-packages/one/util.py:428: ALFWarning: Multiple revisions: \"2025-06-18\", \"\"\n",
      "  warnings.warn(f'Multiple revisions: {rev_list}', alferr.ALFWarning)\n"
     ]
    },
    {
     "name": "stdout",
     "output_type": "stream",
     "text": [
      "\u001b[1;33m2025-09-09 18:32:06 WARNING  one.py:1292 Could not load pupil data.\u001b[0m\n"
     ]
    },
    {
     "name": "stderr",
     "output_type": "stream",
     "text": [
      "(S3) /Users/ineslaranjeira/Downloads/FlatIron/zadorlab/Subjects/CSH_ZAD_026/2020-08-19/001/alf/_ibl_rightCamera.lightningPose.pqt: 100%|██████████| 366M/366M [00:32<00:00, 11.4MB/s] \n"
     ]
    },
    {
     "name": "stdout",
     "output_type": "stream",
     "text": [
      "\u001b[36m2025-09-09 18:32:50 INFO     one.py:1288 Loading trials data\u001b[0m\n"
     ]
    },
    {
     "name": "stderr",
     "output_type": "stream",
     "text": [
      "/opt/anaconda3/envs/iblenv/lib/python3.10/site-packages/one/util.py:428: ALFWarning: Multiple revisions: \"\", \"2025-03-03\"\n",
      "  warnings.warn(f'Multiple revisions: {rev_list}', alferr.ALFWarning)\n"
     ]
    },
    {
     "name": "stdout",
     "output_type": "stream",
     "text": [
      "\u001b[36m2025-09-09 18:32:51 INFO     one.py:1288 Loading wheel data\u001b[0m\n",
      "\u001b[36m2025-09-09 18:32:52 INFO     one.py:1288 Loading motion_energy data\u001b[0m\n"
     ]
    },
    {
     "name": "stderr",
     "output_type": "stream",
     "text": [
      "/opt/anaconda3/envs/iblenv/lib/python3.10/site-packages/one/util.py:428: ALFWarning: Multiple revisions: \"\", \"2025-05-31\"\n",
      "  warnings.warn(f'Multiple revisions: {rev_list}', alferr.ALFWarning)\n",
      "/opt/anaconda3/envs/iblenv/lib/python3.10/site-packages/one/util.py:428: ALFWarning: Multiple revisions: \"\", \"2025-06-01\"\n",
      "  warnings.warn(f'Multiple revisions: {rev_list}', alferr.ALFWarning)\n",
      "/opt/anaconda3/envs/iblenv/lib/python3.10/site-packages/one/util.py:428: ALFWarning: Multiple revisions: \"\", \"2025-06-02\"\n",
      "  warnings.warn(f'Multiple revisions: {rev_list}', alferr.ALFWarning)\n"
     ]
    },
    {
     "name": "stdout",
     "output_type": "stream",
     "text": [
      "\u001b[36m2025-09-09 18:32:54 INFO     one.py:1288 Loading pupil data\u001b[0m\n"
     ]
    },
    {
     "name": "stderr",
     "output_type": "stream",
     "text": [
      "/opt/anaconda3/envs/iblenv/lib/python3.10/site-packages/one/util.py:428: ALFWarning: Multiple revisions: \"2025-06-04\", \"\"\n",
      "  warnings.warn(f'Multiple revisions: {rev_list}', alferr.ALFWarning)\n"
     ]
    },
    {
     "name": "stdout",
     "output_type": "stream",
     "text": [
      "\u001b[1;33m2025-09-09 18:32:54 WARNING  one.py:1292 Could not load pupil data.\u001b[0m\n"
     ]
    },
    {
     "name": "stderr",
     "output_type": "stream",
     "text": [
      "(S3) /Users/ineslaranjeira/Downloads/FlatIron/zadorlab/Subjects/CSH_ZAD_026/2020-09-04/001/alf/_ibl_rightCamera.lightningPose.pqt: 100%|██████████| 414M/414M [00:44<00:00, 9.22MB/s] \n"
     ]
    },
    {
     "name": "stdout",
     "output_type": "stream",
     "text": [
      "\u001b[36m2025-09-09 18:33:48 INFO     one.py:1288 Loading trials data\u001b[0m\n"
     ]
    },
    {
     "name": "stderr",
     "output_type": "stream",
     "text": [
      "/opt/anaconda3/envs/iblenv/lib/python3.10/site-packages/one/util.py:428: ALFWarning: Multiple revisions: \"\", \"2025-03-03\"\n",
      "  warnings.warn(f'Multiple revisions: {rev_list}', alferr.ALFWarning)\n"
     ]
    },
    {
     "name": "stdout",
     "output_type": "stream",
     "text": [
      "\u001b[36m2025-09-09 18:33:49 INFO     one.py:1288 Loading wheel data\u001b[0m\n",
      "\u001b[36m2025-09-09 18:33:51 INFO     one.py:1288 Loading motion_energy data\u001b[0m\n"
     ]
    },
    {
     "name": "stderr",
     "output_type": "stream",
     "text": [
      "/opt/anaconda3/envs/iblenv/lib/python3.10/site-packages/one/util.py:428: ALFWarning: Multiple revisions: \"\", \"2025-05-31\"\n",
      "  warnings.warn(f'Multiple revisions: {rev_list}', alferr.ALFWarning)\n",
      "/opt/anaconda3/envs/iblenv/lib/python3.10/site-packages/one/util.py:428: ALFWarning: Multiple revisions: \"\", \"2025-06-01\"\n",
      "  warnings.warn(f'Multiple revisions: {rev_list}', alferr.ALFWarning)\n",
      "/opt/anaconda3/envs/iblenv/lib/python3.10/site-packages/one/util.py:428: ALFWarning: Multiple revisions: \"\", \"2025-06-02\"\n",
      "  warnings.warn(f'Multiple revisions: {rev_list}', alferr.ALFWarning)\n"
     ]
    },
    {
     "name": "stdout",
     "output_type": "stream",
     "text": [
      "\u001b[36m2025-09-09 18:33:52 INFO     one.py:1288 Loading pupil data\u001b[0m\n"
     ]
    },
    {
     "name": "stderr",
     "output_type": "stream",
     "text": [
      "/opt/anaconda3/envs/iblenv/lib/python3.10/site-packages/one/util.py:428: ALFWarning: Multiple revisions: \"2025-06-18\", \"\"\n",
      "  warnings.warn(f'Multiple revisions: {rev_list}', alferr.ALFWarning)\n"
     ]
    },
    {
     "name": "stdout",
     "output_type": "stream",
     "text": [
      "\u001b[1;33m2025-09-09 18:33:52 WARNING  one.py:1292 Could not load pupil data.\u001b[0m\n"
     ]
    },
    {
     "name": "stderr",
     "output_type": "stream",
     "text": [
      "/opt/anaconda3/envs/iblenv/lib/python3.10/site-packages/one/util.py:428: ALFWarning: Multiple revisions: \"\", \"2023-04-20\"\n",
      "  warnings.warn(f'Multiple revisions: {rev_list}', alferr.ALFWarning)\n",
      "(S3) /Users/ineslaranjeira/Downloads/FlatIron/zadorlab/Subjects/CSH_ZAD_029/2020-09-14/001/alf/_ibl_rightCamera.lightningPose.pqt: 100%|██████████| 414M/414M [00:44<00:00, 9.24MB/s] \n"
     ]
    },
    {
     "name": "stdout",
     "output_type": "stream",
     "text": [
      "\u001b[36m2025-09-09 18:34:46 INFO     one.py:1288 Loading trials data\u001b[0m\n"
     ]
    },
    {
     "name": "stderr",
     "output_type": "stream",
     "text": [
      "/opt/anaconda3/envs/iblenv/lib/python3.10/site-packages/one/util.py:428: ALFWarning: Multiple revisions: \"\", \"2025-03-03\"\n",
      "  warnings.warn(f'Multiple revisions: {rev_list}', alferr.ALFWarning)\n"
     ]
    },
    {
     "name": "stdout",
     "output_type": "stream",
     "text": [
      "\u001b[36m2025-09-09 18:34:47 INFO     one.py:1288 Loading wheel data\u001b[0m\n",
      "\u001b[36m2025-09-09 18:34:49 INFO     one.py:1288 Loading motion_energy data\u001b[0m\n"
     ]
    },
    {
     "name": "stderr",
     "output_type": "stream",
     "text": [
      "/opt/anaconda3/envs/iblenv/lib/python3.10/site-packages/one/util.py:428: ALFWarning: Multiple revisions: \"2023-04-20\", \"2025-06-01\"\n",
      "  warnings.warn(f'Multiple revisions: {rev_list}', alferr.ALFWarning)\n"
     ]
    },
    {
     "name": "stdout",
     "output_type": "stream",
     "text": [
      "\u001b[36m2025-09-09 18:34:50 INFO     one.py:1288 Loading pupil data\u001b[0m\n"
     ]
    },
    {
     "name": "stderr",
     "output_type": "stream",
     "text": [
      "/opt/anaconda3/envs/iblenv/lib/python3.10/site-packages/one/util.py:428: ALFWarning: Multiple revisions: \"2025-06-04\", \"\"\n",
      "  warnings.warn(f'Multiple revisions: {rev_list}', alferr.ALFWarning)\n"
     ]
    },
    {
     "name": "stdout",
     "output_type": "stream",
     "text": [
      "\u001b[1;33m2025-09-09 18:34:50 WARNING  one.py:1292 Could not load pupil data.\u001b[0m\n"
     ]
    },
    {
     "name": "stderr",
     "output_type": "stream",
     "text": [
      "/opt/anaconda3/envs/iblenv/lib/python3.10/site-packages/one/util.py:428: ALFWarning: Multiple revisions: \"\", \"2023-04-20\"\n",
      "  warnings.warn(f'Multiple revisions: {rev_list}', alferr.ALFWarning)\n",
      "(S3) /Users/ineslaranjeira/Downloads/FlatIron/zadorlab/Subjects/CSH_ZAD_029/2020-09-15/001/alf/_ibl_rightCamera.lightningPose.pqt: 100%|██████████| 387M/387M [00:48<00:00, 8.00MB/s] \n"
     ]
    },
    {
     "name": "stdout",
     "output_type": "stream",
     "text": [
      "\u001b[36m2025-09-09 18:35:47 INFO     one.py:1288 Loading trials data\u001b[0m\n"
     ]
    },
    {
     "name": "stderr",
     "output_type": "stream",
     "text": [
      "/opt/anaconda3/envs/iblenv/lib/python3.10/site-packages/one/util.py:428: ALFWarning: Multiple revisions: \"\", \"2025-03-03\"\n",
      "  warnings.warn(f'Multiple revisions: {rev_list}', alferr.ALFWarning)\n"
     ]
    },
    {
     "name": "stdout",
     "output_type": "stream",
     "text": [
      "\u001b[36m2025-09-09 18:35:49 INFO     one.py:1288 Loading wheel data\u001b[0m\n",
      "\u001b[36m2025-09-09 18:35:50 INFO     one.py:1288 Loading motion_energy data\u001b[0m\n"
     ]
    },
    {
     "name": "stderr",
     "output_type": "stream",
     "text": [
      "/opt/anaconda3/envs/iblenv/lib/python3.10/site-packages/one/util.py:428: ALFWarning: Multiple revisions: \"\", \"2025-05-31\"\n",
      "  warnings.warn(f'Multiple revisions: {rev_list}', alferr.ALFWarning)\n",
      "/opt/anaconda3/envs/iblenv/lib/python3.10/site-packages/one/util.py:428: ALFWarning: Multiple revisions: \"2023-04-20\", \"2025-06-01\"\n",
      "  warnings.warn(f'Multiple revisions: {rev_list}', alferr.ALFWarning)\n"
     ]
    },
    {
     "name": "stdout",
     "output_type": "stream",
     "text": [
      "\u001b[36m2025-09-09 18:35:51 INFO     one.py:1288 Loading pupil data\u001b[0m\n"
     ]
    },
    {
     "name": "stderr",
     "output_type": "stream",
     "text": [
      "/opt/anaconda3/envs/iblenv/lib/python3.10/site-packages/one/util.py:428: ALFWarning: Multiple revisions: \"2025-06-18\", \"\"\n",
      "  warnings.warn(f'Multiple revisions: {rev_list}', alferr.ALFWarning)\n"
     ]
    },
    {
     "name": "stdout",
     "output_type": "stream",
     "text": [
      "\u001b[1;33m2025-09-09 18:35:52 WARNING  one.py:1292 Could not load pupil data.\u001b[0m\n"
     ]
    },
    {
     "name": "stderr",
     "output_type": "stream",
     "text": [
      "/opt/anaconda3/envs/iblenv/lib/python3.10/site-packages/one/util.py:428: ALFWarning: Multiple revisions: \"\", \"2023-04-20\"\n",
      "  warnings.warn(f'Multiple revisions: {rev_list}', alferr.ALFWarning)\n",
      "(S3) /Users/ineslaranjeira/Downloads/FlatIron/zadorlab/Subjects/CSH_ZAD_029/2020-09-16/001/alf/_ibl_rightCamera.lightningPose.pqt: 100%|██████████| 309M/309M [00:55<00:00, 5.56MB/s] \n"
     ]
    },
    {
     "name": "stdout",
     "output_type": "stream",
     "text": [
      "\u001b[36m2025-09-09 18:36:55 INFO     one.py:1288 Loading trials data\u001b[0m\n"
     ]
    },
    {
     "name": "stderr",
     "output_type": "stream",
     "text": [
      "/opt/anaconda3/envs/iblenv/lib/python3.10/site-packages/one/util.py:428: ALFWarning: Multiple revisions: \"\", \"2025-03-03\"\n",
      "  warnings.warn(f'Multiple revisions: {rev_list}', alferr.ALFWarning)\n"
     ]
    },
    {
     "name": "stdout",
     "output_type": "stream",
     "text": [
      "\u001b[36m2025-09-09 18:36:56 INFO     one.py:1288 Loading wheel data\u001b[0m\n",
      "\u001b[36m2025-09-09 18:36:57 INFO     one.py:1288 Loading motion_energy data\u001b[0m\n"
     ]
    },
    {
     "name": "stderr",
     "output_type": "stream",
     "text": [
      "/opt/anaconda3/envs/iblenv/lib/python3.10/site-packages/one/util.py:428: ALFWarning: Multiple revisions: \"\", \"2025-05-31\"\n",
      "  warnings.warn(f'Multiple revisions: {rev_list}', alferr.ALFWarning)\n",
      "/opt/anaconda3/envs/iblenv/lib/python3.10/site-packages/one/util.py:428: ALFWarning: Multiple revisions: \"2023-04-20\", \"2025-06-01\"\n",
      "  warnings.warn(f'Multiple revisions: {rev_list}', alferr.ALFWarning)\n"
     ]
    },
    {
     "name": "stdout",
     "output_type": "stream",
     "text": [
      "\u001b[36m2025-09-09 18:36:59 INFO     one.py:1288 Loading pupil data\u001b[0m\n"
     ]
    },
    {
     "name": "stderr",
     "output_type": "stream",
     "text": [
      "/opt/anaconda3/envs/iblenv/lib/python3.10/site-packages/one/util.py:428: ALFWarning: Multiple revisions: \"2025-06-04\", \"\"\n",
      "  warnings.warn(f'Multiple revisions: {rev_list}', alferr.ALFWarning)\n"
     ]
    },
    {
     "name": "stdout",
     "output_type": "stream",
     "text": [
      "\u001b[1;33m2025-09-09 18:36:59 WARNING  one.py:1292 Could not load pupil data.\u001b[0m\n"
     ]
    },
    {
     "name": "stderr",
     "output_type": "stream",
     "text": [
      "/opt/anaconda3/envs/iblenv/lib/python3.10/site-packages/one/util.py:428: ALFWarning: Multiple revisions: \"\", \"2023-04-20\"\n",
      "  warnings.warn(f'Multiple revisions: {rev_list}', alferr.ALFWarning)\n",
      "(S3) /Users/ineslaranjeira/Downloads/FlatIron/zadorlab/Subjects/CSH_ZAD_029/2020-09-17/001/alf/_ibl_rightCamera.lightningPose.pqt: 100%|██████████| 494M/494M [02:02<00:00, 4.02MB/s] \n"
     ]
    },
    {
     "name": "stdout",
     "output_type": "stream",
     "text": [
      "\u001b[36m2025-09-09 18:39:10 INFO     one.py:1288 Loading trials data\u001b[0m\n"
     ]
    },
    {
     "name": "stderr",
     "output_type": "stream",
     "text": [
      "/opt/anaconda3/envs/iblenv/lib/python3.10/site-packages/one/util.py:428: ALFWarning: Multiple revisions: \"\", \"2025-03-03\"\n",
      "  warnings.warn(f'Multiple revisions: {rev_list}', alferr.ALFWarning)\n"
     ]
    },
    {
     "name": "stdout",
     "output_type": "stream",
     "text": [
      "\u001b[36m2025-09-09 18:39:11 INFO     one.py:1288 Loading wheel data\u001b[0m\n",
      "\u001b[36m2025-09-09 18:39:13 INFO     one.py:1288 Loading motion_energy data\u001b[0m\n"
     ]
    },
    {
     "name": "stderr",
     "output_type": "stream",
     "text": [
      "/opt/anaconda3/envs/iblenv/lib/python3.10/site-packages/one/util.py:428: ALFWarning: Multiple revisions: \"\", \"2025-05-31\"\n",
      "  warnings.warn(f'Multiple revisions: {rev_list}', alferr.ALFWarning)\n",
      "/opt/anaconda3/envs/iblenv/lib/python3.10/site-packages/one/util.py:428: ALFWarning: Multiple revisions: \"2023-04-20\", \"2025-06-01\"\n",
      "  warnings.warn(f'Multiple revisions: {rev_list}', alferr.ALFWarning)\n"
     ]
    },
    {
     "name": "stdout",
     "output_type": "stream",
     "text": [
      "\u001b[36m2025-09-09 18:39:14 INFO     one.py:1288 Loading pupil data\u001b[0m\n"
     ]
    },
    {
     "name": "stderr",
     "output_type": "stream",
     "text": [
      "/opt/anaconda3/envs/iblenv/lib/python3.10/site-packages/one/util.py:428: ALFWarning: Multiple revisions: \"2025-06-04\", \"\"\n",
      "  warnings.warn(f'Multiple revisions: {rev_list}', alferr.ALFWarning)\n"
     ]
    },
    {
     "name": "stdout",
     "output_type": "stream",
     "text": [
      "\u001b[1;33m2025-09-09 18:39:15 WARNING  one.py:1292 Could not load pupil data.\u001b[0m\n"
     ]
    },
    {
     "name": "stderr",
     "output_type": "stream",
     "text": [
      "/opt/anaconda3/envs/iblenv/lib/python3.10/site-packages/one/util.py:428: ALFWarning: Multiple revisions: \"\", \"2023-04-20\"\n",
      "  warnings.warn(f'Multiple revisions: {rev_list}', alferr.ALFWarning)\n",
      "(S3) /Users/ineslaranjeira/Downloads/FlatIron/zadorlab/Subjects/CSH_ZAD_029/2020-09-19/001/alf/_ibl_rightCamera.lightningPose.pqt: 100%|██████████| 405M/405M [01:39<00:00, 4.06MB/s] \n"
     ]
    },
    {
     "name": "stdout",
     "output_type": "stream",
     "text": [
      "\u001b[36m2025-09-09 18:41:05 INFO     one.py:1288 Loading trials data\u001b[0m\n"
     ]
    },
    {
     "name": "stderr",
     "output_type": "stream",
     "text": [
      "/opt/anaconda3/envs/iblenv/lib/python3.10/site-packages/one/util.py:428: ALFWarning: Multiple revisions: \"\", \"2025-03-03\"\n",
      "  warnings.warn(f'Multiple revisions: {rev_list}', alferr.ALFWarning)\n"
     ]
    },
    {
     "name": "stdout",
     "output_type": "stream",
     "text": [
      "\u001b[36m2025-09-09 18:41:06 INFO     one.py:1288 Loading wheel data\u001b[0m\n",
      "\u001b[36m2025-09-09 18:41:07 INFO     one.py:1288 Loading motion_energy data\u001b[0m\n"
     ]
    },
    {
     "name": "stderr",
     "output_type": "stream",
     "text": [
      "/opt/anaconda3/envs/iblenv/lib/python3.10/site-packages/one/util.py:428: ALFWarning: Multiple revisions: \"\", \"2025-05-31\"\n",
      "  warnings.warn(f'Multiple revisions: {rev_list}', alferr.ALFWarning)\n",
      "/opt/anaconda3/envs/iblenv/lib/python3.10/site-packages/one/util.py:428: ALFWarning: Multiple revisions: \"2023-04-20\", \"2025-06-01\"\n",
      "  warnings.warn(f'Multiple revisions: {rev_list}', alferr.ALFWarning)\n",
      "/opt/anaconda3/envs/iblenv/lib/python3.10/site-packages/one/util.py:428: ALFWarning: Multiple revisions: \"\", \"2025-06-02\"\n",
      "  warnings.warn(f'Multiple revisions: {rev_list}', alferr.ALFWarning)\n"
     ]
    },
    {
     "name": "stdout",
     "output_type": "stream",
     "text": [
      "\u001b[36m2025-09-09 18:41:09 INFO     one.py:1288 Loading pupil data\u001b[0m\n"
     ]
    },
    {
     "name": "stderr",
     "output_type": "stream",
     "text": [
      "/opt/anaconda3/envs/iblenv/lib/python3.10/site-packages/one/util.py:428: ALFWarning: Multiple revisions: \"2025-06-18\", \"\"\n",
      "  warnings.warn(f'Multiple revisions: {rev_list}', alferr.ALFWarning)\n"
     ]
    },
    {
     "name": "stdout",
     "output_type": "stream",
     "text": [
      "\u001b[1;33m2025-09-09 18:41:09 WARNING  one.py:1292 Could not load pupil data.\u001b[0m\n"
     ]
    }
   ],
   "source": [
    "for s, session in enumerate(sessions_to_process):\n",
    "    process_design_matrix(session)"
   ]
  },
  {
   "cell_type": "code",
   "execution_count": null,
   "id": "93c25bea",
   "metadata": {},
   "outputs": [],
   "source": []
  },
  {
   "cell_type": "code",
   "execution_count": null,
   "id": "e28b37cd",
   "metadata": {},
   "outputs": [],
   "source": []
  },
  {
   "cell_type": "code",
   "execution_count": null,
   "id": "99beaeed",
   "metadata": {},
   "outputs": [],
   "source": []
  },
  {
   "cell_type": "code",
   "execution_count": null,
   "id": "629076af",
   "metadata": {},
   "outputs": [],
   "source": []
  }
 ],
 "metadata": {
  "kernelspec": {
   "display_name": "iblenv",
   "language": "python",
   "name": "python3"
  },
  "language_info": {
   "codemirror_mode": {
    "name": "ipython",
    "version": 3
   },
   "file_extension": ".py",
   "mimetype": "text/x-python",
   "name": "python",
   "nbconvert_exporter": "python",
   "pygments_lexer": "ipython3",
   "version": "3.10.12"
  }
 },
 "nbformat": 4,
 "nbformat_minor": 5
}
