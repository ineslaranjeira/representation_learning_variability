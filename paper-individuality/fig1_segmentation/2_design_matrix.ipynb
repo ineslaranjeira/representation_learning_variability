{
 "cells": [
  {
   "cell_type": "code",
   "execution_count": 1,
   "id": "c5cc3886",
   "metadata": {},
   "outputs": [],
   "source": [
    "import os\n",
    "import numpy as np\n",
    "import pickle\n",
    "import pandas as pd\n",
    "from scipy.stats import zscore\n",
    "from brainbox.io.one import SessionLoader\n",
    "from sklearn.preprocessing import StandardScaler\n",
    "import gc\n",
    "import concurrent.futures\n",
    "\n",
    "from functions import merge_licks, resample_common_time, interpolate_nans, low_pass\n",
    "from one.api import ONE\n",
    "one = ONE(mode='remote')\n"
   ]
  },
  {
   "cell_type": "code",
   "execution_count": 2,
   "id": "47406a6b",
   "metadata": {},
   "outputs": [],
   "source": [
    "\n",
    "\"\"\" PARAMETERS \"\"\"\n",
    "SAMPLING = {'left': 60,\n",
    "            'right': 150,\n",
    "            'body': 30}"
   ]
  },
  {
   "cell_type": "code",
   "execution_count": 5,
   "id": "9c55ec0d",
   "metadata": {},
   "outputs": [
    {
     "name": "stderr",
     "output_type": "stream",
     "text": [
      "/tmp/ipykernel_16430/431073403.py:13: DeprecationWarning: numpy.core.numeric is deprecated and has been renamed to numpy._core.numeric. The numpy._core namespace contains private NumPy internals and its use is discouraged, as NumPy internals can change without warning in any release. In practice, most real-world usage of numpy.core is to access functionality in the public NumPy API. If that is the case, use the public NumPy API. If not, you are using NumPy internals. If you would still like to access an internal attribute, use numpy._core.numeric._frombuffer.\n",
      "  bwm_query = pickle.load(open(data_path+filename, \"rb\"))\n"
     ]
    }
   ],
   "source": [
    "\"\"\" Load BWM data post-QC \"\"\"\n",
    "prefix = '/home/ines/repositories/'\n",
    "# prefix = '/Users/ineslaranjeira/Documents/Repositories/'\n",
    "data_path = prefix + '/representation_learning_variability/paper-individuality/'\n",
    "filename = '1_bwm_qc_07-10-2025'\n",
    "\n",
    "\n",
    "\n",
    "data_path = prefix + 'representation_learning_variability/Video and wheel/Video QC/'\n",
    "filename = 'final_lp_qc07-10-2025'\n",
    "\n",
    "\n",
    "bwm_query = pickle.load(open(data_path+filename, \"rb\"))\n"
   ]
  },
  {
   "cell_type": "code",
   "execution_count": 6,
   "id": "fe859a79",
   "metadata": {},
   "outputs": [
    {
     "data": {
      "text/plain": [
       "218"
      ]
     },
     "execution_count": 6,
     "metadata": {},
     "output_type": "execute_result"
    }
   ],
   "source": [
    "# Loop through animals\n",
    "sessions = bwm_query['eid'].unique()\n",
    "data_path = prefix + 'representation_learning_variability/paper-individuality/data/design_matrices/'\n",
    "os.chdir(data_path)\n",
    "files = os.listdir()\n",
    "sessions_to_process = []\n",
    "\n",
    "for s, sess in enumerate(sessions):\n",
    "    file_path = one.eid2path(sess)\n",
    "\n",
    "    if prefix == '/home/ines/repositories/':\n",
    "        mouse_name = file_path.parts[8]\n",
    "    else:\n",
    "        mouse_name = file_path.parts[7]\n",
    "\n",
    "    filename = \"design_matrix_\" + str(sess) + '_'  + mouse_name\n",
    "    if filename not in files:\n",
    "        sessions_to_process.append((sess))\n",
    "\n",
    "len(sessions_to_process)\n"
   ]
  },
  {
   "cell_type": "code",
   "execution_count": 8,
   "id": "54e758e3",
   "metadata": {},
   "outputs": [],
   "source": [
    "def process_design_matrix(session):   \n",
    "\n",
    "    file_path = one.eid2path(session)\n",
    "    if prefix == '/home/ines/repositories/':\n",
    "        mouse_name = file_path.parts[8]\n",
    "    else:\n",
    "        mouse_name = file_path.parts[7]\n",
    "\n",
    "    \"\"\" LOAD VARIABLES \"\"\"\n",
    "    sl = SessionLoader(eid=session, one=one)\n",
    "    sl.load_pose(views=['left', 'right'], tracker='lightningPose')\n",
    "    sl.load_session_data(trials=True, wheel=True, motion_energy=True)\n",
    "\n",
    "    # Check if all data is available\n",
    "    if np.sum(sl.data_info['is_loaded']) >= 4:\n",
    "\n",
    "        # Poses\n",
    "        poses = sl.pose\n",
    "        lc_t = np.asarray(poses['leftCamera']['times'])\n",
    "        rc_t = np.asarray(poses['rightCamera']['times'])\n",
    "        # Motion energy\n",
    "        me = sl.motion_energy\n",
    "        mel_t = lc_t\n",
    "        mer_t = rc_t\n",
    "        motion_energy_l = interpolate_nans(me['leftCamera']['whiskerMotionEnergy'], 'left')\n",
    "        motion_energy_r = low_pass(interpolate_nans(me['rightCamera']['whiskerMotionEnergy'], 'right'), \n",
    "                                          cutoff=30, sf=SAMPLING['right'])\n",
    "        # Licks\n",
    "        features = ['tongue_end_l_x', 'tongue_end_l_y', 'tongue_end_r_x', 'tongue_end_r_y']\n",
    "        lick_t, licks = merge_licks(poses, features, common_fs=150)\n",
    "        # Paws\n",
    "        l_paw_x = interpolate_nans(poses['leftCamera']['paw_r_x'], 'left')\n",
    "        l_paw_y = interpolate_nans(poses['leftCamera']['paw_r_y'], 'left')\n",
    "        r_paw_x = low_pass(interpolate_nans(poses['rightCamera']['paw_r_x'], 'right'), \n",
    "                                          cutoff=30, sf=SAMPLING['right'])\n",
    "        r_paw_y = low_pass(interpolate_nans(poses['rightCamera']['paw_r_y'], 'right'), \n",
    "                                          cutoff=30, sf=SAMPLING['right'])\n",
    "        l_paw_t = lc_t\n",
    "        r_paw_t = rc_t\n",
    "        # Wheel\n",
    "        wheel = sl.wheel\n",
    "        wheel_t = np.asarray(wheel['times'], dtype=np.float64)\n",
    "        wheel_vel = wheel['velocity'].astype(np.float32)\n",
    "\n",
    "        # Common resampling window\n",
    "        onset = max(lc_t.min(), rc_t.min(), wheel_t.min(), lick_t.min())\n",
    "        offset = min(lc_t.max(), rc_t.max(), wheel_t.max(), lick_t.max())\n",
    "        fs = 60\n",
    "        ref_t = np.arange(onset, offset, 1 / fs, dtype=np.float64)\n",
    "\n",
    "        # Restrict to time window\n",
    "        def restrict(t, x):\n",
    "            mask = (t >= onset) & (t <= offset)\n",
    "            return t[mask], x[mask]\n",
    "\n",
    "        mel_t, motion_energy_l = restrict(mel_t, motion_energy_l)\n",
    "        mer_t, motion_energy_r = restrict(mer_t, motion_energy_r)\n",
    "        wheel_t, wheel_vel = restrict(wheel_t, wheel_vel)\n",
    "        l_paw_t_x, l_paw_x = restrict(l_paw_t, l_paw_x)\n",
    "        l_paw_t_y, l_paw_y = restrict(l_paw_t, l_paw_y)\n",
    "        r_paw_t_x, r_paw_x = restrict(r_paw_t, r_paw_x)\n",
    "        r_paw_t_y, r_paw_y = restrict(r_paw_t, r_paw_y)\n",
    "        lick_t, licks = restrict(lick_t, licks)\n",
    "\n",
    "        # Resample\n",
    "        mel_down, rt = resample_common_time(ref_t, mel_t, motion_energy_l, kind='linear')\n",
    "        mer_down, _ = resample_common_time(ref_t, mer_t, motion_energy_r, kind='linear')\n",
    "        wh_down, _ = resample_common_time(ref_t, wheel_t, wheel_vel, kind='linear')\n",
    "        lk_down, _ = resample_common_time(ref_t, lick_t, licks, kind='nearest')\n",
    "        lpx_down, _ = resample_common_time(ref_t, l_paw_t_x, l_paw_x, kind='linear')\n",
    "        lpy_down, _ = resample_common_time(ref_t, l_paw_t_y, l_paw_y, kind='linear')\n",
    "        rpx_down, _ = resample_common_time(ref_t, r_paw_t_x, r_paw_x, kind='linear')\n",
    "        rpy_down, _ = resample_common_time(ref_t, r_paw_t_y, r_paw_y, kind='linear')\n",
    "\n",
    "        # Create design matrix\n",
    "        design_matrix = pd.DataFrame({\n",
    "            'Bin': rt,\n",
    "            'Lick count': lk_down.astype(np.int8),\n",
    "            'avg_wheel_vel': wh_down,\n",
    "            'whisker_me': mel_down,  # zscore(mel_down, nan_policy='omit'),\n",
    "            'avg_whisker_me': np.nanmean([mel_down, mer_down], axis=0),  # zscore(np.nanmean([mel_down, mer_down], axis=0), nan_policy='omit'),\n",
    "            'l_paw_x': lpx_down,\n",
    "            'l_paw_y': lpy_down,\n",
    "            'r_paw_x': rpx_down,\n",
    "            'r_paw_y': rpy_down,\n",
    "        })\n",
    "\n",
    "        # \"\"\" LOAD TRIAL DATA \"\"\"\n",
    "        session_trials = sl.trials\n",
    "        session_start = list(session_trials['goCueTrigger_times'])[0]\n",
    "        design_matrix = design_matrix.loc[(design_matrix['Bin'] > session_start)]\n",
    "\n",
    "        \"\"\" SAVE DATA \"\"\"       \n",
    "        # Save unnormalized design matrix\n",
    "        filename = data_path + \"design_matrix_\" + str(session) + '_'  + mouse_name\n",
    "        design_matrix.to_parquet(filename, compression='gzip')  \n",
    "\n",
    "        # Save trials\n",
    "        filename = data_path + \"session_trials_\" + str(session) + '_'  + mouse_name\n",
    "        session_trials.to_parquet(filename, compression='gzip')  \n",
    "        \n",
    "        del design_matrix, session_trials, sl\n",
    "        gc.collect()\n",
    "\n",
    "    else:\n",
    "        print('Data missing for session '+session)  \n",
    "\n",
    "\n",
    "def parallel_process_data(sessions, function_name):\n",
    "    with concurrent.futures.ThreadPoolExecutor() as executor:\n",
    "\n",
    "        # Process each chunk in parallel\n",
    "        executor.map(function_name, sessions)"
   ]
  },
  {
   "cell_type": "code",
   "execution_count": 10,
   "id": "eed85619",
   "metadata": {},
   "outputs": [
    {
     "name": "stdout",
     "output_type": "stream",
     "text": [
      "\u001b[36m2025-09-12 11:58:47 INFO     one.py:1475 Loading trials data\u001b[0m\n"
     ]
    },
    {
     "name": "stderr",
     "output_type": "stream",
     "text": [
      "/home/ines/miniconda3/envs/iblenv/lib/python3.10/site-packages/one/util.py:428: ALFWarning: Multiple revisions: \"\", \"2025-03-03\"\n",
      "  warnings.warn(f'Multiple revisions: {rev_list}', alferr.ALFWarning)\n"
     ]
    },
    {
     "name": "stdout",
     "output_type": "stream",
     "text": [
      "\u001b[36m2025-09-12 11:58:47 INFO     one.py:1475 Loading wheel data\u001b[0m\n",
      "\u001b[36m2025-09-12 11:58:48 INFO     one.py:1475 Loading motion_energy data\u001b[0m\n"
     ]
    },
    {
     "name": "stderr",
     "output_type": "stream",
     "text": [
      "/home/ines/miniconda3/envs/iblenv/lib/python3.10/site-packages/one/util.py:428: ALFWarning: Multiple revisions: \"\", \"2025-05-29\"\n",
      "  warnings.warn(f'Multiple revisions: {rev_list}', alferr.ALFWarning)\n",
      "/home/ines/miniconda3/envs/iblenv/lib/python3.10/site-packages/one/util.py:428: ALFWarning: Multiple revisions: \"\", \"2025-05-31\"\n",
      "  warnings.warn(f'Multiple revisions: {rev_list}', alferr.ALFWarning)\n"
     ]
    },
    {
     "name": "stdout",
     "output_type": "stream",
     "text": [
      "\u001b[36m2025-09-12 11:58:48 INFO     one.py:1475 Loading pupil data\u001b[0m\n"
     ]
    },
    {
     "name": "stderr",
     "output_type": "stream",
     "text": [
      "/home/ines/miniconda3/envs/iblenv/lib/python3.10/site-packages/one/util.py:428: ALFWarning: Multiple revisions: \"\", \"2025-06-01\"\n",
      "  warnings.warn(f'Multiple revisions: {rev_list}', alferr.ALFWarning)\n",
      "/home/ines/miniconda3/envs/iblenv/lib/python3.10/site-packages/one/util.py:428: ALFWarning: Multiple revisions: \"2025-06-04\", \"\"\n",
      "  warnings.warn(f'Multiple revisions: {rev_list}', alferr.ALFWarning)\n",
      "/home/ines/miniconda3/envs/iblenv/lib/python3.10/site-packages/numpy/lib/_nanfunctions_impl.py:2019: RuntimeWarning: Degrees of freedom <= 0 for slice.\n",
      "  var = nanvar(a, axis=axis, dtype=dtype, out=out, ddof=ddof,\n"
     ]
    },
    {
     "name": "stdout",
     "output_type": "stream",
     "text": [
      "\u001b[36m2025-09-12 11:58:50 INFO     one.py:1475 Loading trials data\u001b[0m\n"
     ]
    },
    {
     "name": "stderr",
     "output_type": "stream",
     "text": [
      "/home/ines/miniconda3/envs/iblenv/lib/python3.10/site-packages/one/util.py:428: ALFWarning: Multiple revisions: \"\", \"2025-03-03\"\n",
      "  warnings.warn(f'Multiple revisions: {rev_list}', alferr.ALFWarning)\n"
     ]
    },
    {
     "name": "stdout",
     "output_type": "stream",
     "text": [
      "\u001b[36m2025-09-12 11:58:51 INFO     one.py:1475 Loading wheel data\u001b[0m\n",
      "\u001b[36m2025-09-12 11:58:51 INFO     one.py:1475 Loading motion_energy data\u001b[0m\n"
     ]
    },
    {
     "name": "stderr",
     "output_type": "stream",
     "text": [
      "/home/ines/miniconda3/envs/iblenv/lib/python3.10/site-packages/one/util.py:428: ALFWarning: Multiple revisions: \"\", \"2025-05-29\"\n",
      "  warnings.warn(f'Multiple revisions: {rev_list}', alferr.ALFWarning)\n",
      "/home/ines/miniconda3/envs/iblenv/lib/python3.10/site-packages/one/util.py:428: ALFWarning: Multiple revisions: \"\", \"2025-05-31\"\n",
      "  warnings.warn(f'Multiple revisions: {rev_list}', alferr.ALFWarning)\n"
     ]
    },
    {
     "name": "stdout",
     "output_type": "stream",
     "text": [
      "\u001b[36m2025-09-12 11:58:52 INFO     one.py:1475 Loading pupil data\u001b[0m\n"
     ]
    },
    {
     "name": "stderr",
     "output_type": "stream",
     "text": [
      "/home/ines/miniconda3/envs/iblenv/lib/python3.10/site-packages/one/util.py:428: ALFWarning: Multiple revisions: \"\", \"2025-06-01\"\n",
      "  warnings.warn(f'Multiple revisions: {rev_list}', alferr.ALFWarning)\n",
      "/home/ines/miniconda3/envs/iblenv/lib/python3.10/site-packages/one/util.py:428: ALFWarning: Multiple revisions: \"2025-06-18\", \"\"\n",
      "  warnings.warn(f'Multiple revisions: {rev_list}', alferr.ALFWarning)\n"
     ]
    },
    {
     "name": "stdout",
     "output_type": "stream",
     "text": [
      "\u001b[1;33m2025-09-12 11:58:52 WARNING  one.py:1479 Could not load pupil data.\u001b[0m\n"
     ]
    },
    {
     "name": "stderr",
     "output_type": "stream",
     "text": [
      "(S3) /home/ines/Downloads/ONE/alyx.internationalbrainlab.org/angelakilab/Subjects/NYU-30/2020-10-21/001/alf/_ibl_rightCamera.dlc.pqt: 100%|██████████| 119M/119M [00:06<00:00, 19.5MB/s] \n"
     ]
    },
    {
     "name": "stdout",
     "output_type": "stream",
     "text": [
      "\u001b[36m2025-09-12 11:59:04 INFO     one.py:1475 Loading trials data\u001b[0m\n"
     ]
    },
    {
     "name": "stderr",
     "output_type": "stream",
     "text": [
      "/home/ines/miniconda3/envs/iblenv/lib/python3.10/site-packages/one/util.py:428: ALFWarning: Multiple revisions: \"\", \"2025-03-03\"\n",
      "  warnings.warn(f'Multiple revisions: {rev_list}', alferr.ALFWarning)\n"
     ]
    },
    {
     "name": "stdout",
     "output_type": "stream",
     "text": [
      "\u001b[36m2025-09-12 11:59:04 INFO     one.py:1475 Loading wheel data\u001b[0m\n",
      "\u001b[36m2025-09-12 11:59:05 INFO     one.py:1475 Loading motion_energy data\u001b[0m\n"
     ]
    },
    {
     "name": "stderr",
     "output_type": "stream",
     "text": [
      "/home/ines/miniconda3/envs/iblenv/lib/python3.10/site-packages/one/util.py:428: ALFWarning: Multiple revisions: \"\", \"2025-05-29\"\n",
      "  warnings.warn(f'Multiple revisions: {rev_list}', alferr.ALFWarning)\n",
      "/home/ines/miniconda3/envs/iblenv/lib/python3.10/site-packages/one/util.py:428: ALFWarning: Multiple revisions: \"\", \"2025-05-31\"\n",
      "  warnings.warn(f'Multiple revisions: {rev_list}', alferr.ALFWarning)\n"
     ]
    },
    {
     "name": "stdout",
     "output_type": "stream",
     "text": [
      "\u001b[36m2025-09-12 11:59:05 INFO     one.py:1475 Loading pupil data\u001b[0m\n"
     ]
    },
    {
     "name": "stderr",
     "output_type": "stream",
     "text": [
      "/home/ines/miniconda3/envs/iblenv/lib/python3.10/site-packages/one/util.py:428: ALFWarning: Multiple revisions: \"\", \"2025-06-01\"\n",
      "  warnings.warn(f'Multiple revisions: {rev_list}', alferr.ALFWarning)\n",
      "/home/ines/miniconda3/envs/iblenv/lib/python3.10/site-packages/one/util.py:428: ALFWarning: Multiple revisions: \"2025-06-18\", \"\"\n",
      "  warnings.warn(f'Multiple revisions: {rev_list}', alferr.ALFWarning)\n",
      "(S3) /home/ines/Downloads/ONE/alyx.internationalbrainlab.org/angelakilab/Subjects/NYU-30/2020-10-21/001/alf/#2025-06-18#/_ibl_leftCamera.features.pqt: 100%|██████████| 5.01M/5.01M [00:01<00:00, 2.73MB/s]"
     ]
    },
    {
     "name": "stdout",
     "output_type": "stream",
     "text": [
      "\u001b[1;33m2025-09-12 11:59:08 WARNING  one.py:1479 Could not load pupil data.\u001b[0m\n"
     ]
    },
    {
     "name": "stderr",
     "output_type": "stream",
     "text": [
      "\n",
      "(S3) /home/ines/Downloads/ONE/alyx.internationalbrainlab.org/angelakilab/Subjects/NYU-30/2020-10-22/001/alf/_ibl_leftCamera.dlc.pqt: 100%|██████████| 59.5M/59.5M [00:03<00:00, 16.3MB/s]\n",
      "(S3) /home/ines/Downloads/ONE/alyx.internationalbrainlab.org/angelakilab/Subjects/NYU-30/2020-10-22/001/alf/_ibl_rightCamera.dlc.pqt: 100%|██████████| 132M/132M [00:09<00:00, 14.3MB/s] "
     ]
    },
    {
     "name": "stdout",
     "output_type": "stream",
     "text": [
      "\u001b[36m2025-09-12 11:59:27 INFO     one.py:1475 Loading trials data\u001b[0m\n"
     ]
    },
    {
     "name": "stderr",
     "output_type": "stream",
     "text": [
      "\n",
      "/home/ines/miniconda3/envs/iblenv/lib/python3.10/site-packages/one/util.py:428: ALFWarning: Multiple revisions: \"\", \"2025-03-03\"\n",
      "  warnings.warn(f'Multiple revisions: {rev_list}', alferr.ALFWarning)\n"
     ]
    },
    {
     "name": "stdout",
     "output_type": "stream",
     "text": [
      "\u001b[36m2025-09-12 11:59:28 INFO     one.py:1475 Loading wheel data\u001b[0m\n",
      "\u001b[36m2025-09-12 11:59:28 INFO     one.py:1475 Loading motion_energy data\u001b[0m\n"
     ]
    },
    {
     "name": "stderr",
     "output_type": "stream",
     "text": [
      "/home/ines/miniconda3/envs/iblenv/lib/python3.10/site-packages/one/util.py:428: ALFWarning: Multiple revisions: \"\", \"2025-05-31\"\n",
      "  warnings.warn(f'Multiple revisions: {rev_list}', alferr.ALFWarning)\n",
      "/home/ines/miniconda3/envs/iblenv/lib/python3.10/site-packages/one/util.py:428: ALFWarning: Multiple revisions: \"\", \"2025-06-01\"\n",
      "  warnings.warn(f'Multiple revisions: {rev_list}', alferr.ALFWarning)\n"
     ]
    },
    {
     "name": "stdout",
     "output_type": "stream",
     "text": [
      "\u001b[36m2025-09-12 11:59:29 INFO     one.py:1475 Loading pupil data\u001b[0m\n"
     ]
    },
    {
     "name": "stderr",
     "output_type": "stream",
     "text": [
      "/home/ines/miniconda3/envs/iblenv/lib/python3.10/site-packages/one/util.py:428: ALFWarning: Multiple revisions: \"\", \"2025-06-02\"\n",
      "  warnings.warn(f'Multiple revisions: {rev_list}', alferr.ALFWarning)\n",
      "/home/ines/miniconda3/envs/iblenv/lib/python3.10/site-packages/one/util.py:428: ALFWarning: Multiple revisions: \"2025-06-18\", \"\"\n",
      "  warnings.warn(f'Multiple revisions: {rev_list}', alferr.ALFWarning)\n",
      "(S3) /home/ines/Downloads/ONE/alyx.internationalbrainlab.org/angelakilab/Subjects/NYU-30/2020-10-22/001/alf/#2025-06-18#/_ibl_leftCamera.features.pqt: 100%|██████████| 6.37M/6.37M [00:02<00:00, 2.85MB/s]"
     ]
    },
    {
     "name": "stdout",
     "output_type": "stream",
     "text": [
      "\u001b[1;33m2025-09-12 11:59:32 WARNING  one.py:1479 Could not load pupil data.\u001b[0m\n"
     ]
    },
    {
     "name": "stderr",
     "output_type": "stream",
     "text": [
      "\n",
      "/home/ines/miniconda3/envs/iblenv/lib/python3.10/site-packages/numpy/lib/_nanfunctions_impl.py:2019: RuntimeWarning: Degrees of freedom <= 0 for slice.\n",
      "  var = nanvar(a, axis=axis, dtype=dtype, out=out, ddof=ddof,\n",
      "/home/ines/miniconda3/envs/iblenv/lib/python3.10/site-packages/numpy/lib/_nanfunctions_impl.py:2019: RuntimeWarning: Degrees of freedom <= 0 for slice.\n",
      "  var = nanvar(a, axis=axis, dtype=dtype, out=out, ddof=ddof,\n",
      "(S3) /home/ines/Downloads/ONE/alyx.internationalbrainlab.org/angelakilab/Subjects/NYU-39/2021-05-10/001/alf/_ibl_rightCamera.dlc.pqt: 100%|██████████| 85.7M/85.7M [00:08<00:00, 10.6MB/s]"
     ]
    },
    {
     "name": "stdout",
     "output_type": "stream",
     "text": [
      "\u001b[36m2025-09-12 11:59:46 INFO     one.py:1475 Loading trials data\u001b[0m\n"
     ]
    },
    {
     "name": "stderr",
     "output_type": "stream",
     "text": [
      "\n",
      "/home/ines/miniconda3/envs/iblenv/lib/python3.10/site-packages/one/util.py:428: ALFWarning: Multiple revisions: \"\", \"2025-03-03\"\n",
      "  warnings.warn(f'Multiple revisions: {rev_list}', alferr.ALFWarning)\n"
     ]
    },
    {
     "name": "stdout",
     "output_type": "stream",
     "text": [
      "\u001b[36m2025-09-12 11:59:46 INFO     one.py:1475 Loading wheel data\u001b[0m\n",
      "\u001b[36m2025-09-12 11:59:47 INFO     one.py:1475 Loading motion_energy data\u001b[0m\n"
     ]
    },
    {
     "name": "stderr",
     "output_type": "stream",
     "text": [
      "/home/ines/miniconda3/envs/iblenv/lib/python3.10/site-packages/one/util.py:428: ALFWarning: Multiple revisions: \"\", \"2025-05-29\"\n",
      "  warnings.warn(f'Multiple revisions: {rev_list}', alferr.ALFWarning)\n",
      "/home/ines/miniconda3/envs/iblenv/lib/python3.10/site-packages/one/util.py:428: ALFWarning: Multiple revisions: \"\", \"2025-05-31\"\n",
      "  warnings.warn(f'Multiple revisions: {rev_list}', alferr.ALFWarning)\n"
     ]
    },
    {
     "name": "stdout",
     "output_type": "stream",
     "text": [
      "\u001b[36m2025-09-12 11:59:47 INFO     one.py:1475 Loading pupil data\u001b[0m\n"
     ]
    },
    {
     "name": "stderr",
     "output_type": "stream",
     "text": [
      "/home/ines/miniconda3/envs/iblenv/lib/python3.10/site-packages/one/util.py:428: ALFWarning: Multiple revisions: \"\", \"2025-06-01\"\n",
      "  warnings.warn(f'Multiple revisions: {rev_list}', alferr.ALFWarning)\n",
      "/home/ines/miniconda3/envs/iblenv/lib/python3.10/site-packages/one/util.py:428: ALFWarning: Multiple revisions: \"2025-06-18\", \"\"\n",
      "  warnings.warn(f'Multiple revisions: {rev_list}', alferr.ALFWarning)\n",
      "(S3) /home/ines/Downloads/ONE/alyx.internationalbrainlab.org/angelakilab/Subjects/NYU-39/2021-05-10/001/alf/#2025-06-18#/_ibl_leftCamera.features.pqt: 100%|██████████| 4.07M/4.07M [00:01<00:00, 2.10MB/s]"
     ]
    },
    {
     "name": "stdout",
     "output_type": "stream",
     "text": [
      "\u001b[1;33m2025-09-12 11:59:50 WARNING  one.py:1479 Could not load pupil data.\u001b[0m\n"
     ]
    },
    {
     "name": "stderr",
     "output_type": "stream",
     "text": [
      "\n",
      "(S3) /home/ines/Downloads/ONE/alyx.internationalbrainlab.org/angelakilab/Subjects/NYU-39/2021-05-11/001/alf/_ibl_rightCamera.dlc.pqt: 100%|██████████| 82.5M/82.5M [00:06<00:00, 12.7MB/s]\n"
     ]
    },
    {
     "name": "stdout",
     "output_type": "stream",
     "text": [
      "\u001b[36m2025-09-12 12:00:02 INFO     one.py:1475 Loading trials data\u001b[0m\n"
     ]
    },
    {
     "name": "stderr",
     "output_type": "stream",
     "text": [
      "/home/ines/miniconda3/envs/iblenv/lib/python3.10/site-packages/one/util.py:428: ALFWarning: Multiple revisions: \"\", \"2025-03-03\"\n",
      "  warnings.warn(f'Multiple revisions: {rev_list}', alferr.ALFWarning)\n"
     ]
    },
    {
     "name": "stdout",
     "output_type": "stream",
     "text": [
      "\u001b[36m2025-09-12 12:00:03 INFO     one.py:1475 Loading wheel data\u001b[0m\n",
      "\u001b[36m2025-09-12 12:00:03 INFO     one.py:1475 Loading motion_energy data\u001b[0m\n"
     ]
    },
    {
     "name": "stderr",
     "output_type": "stream",
     "text": [
      "/home/ines/miniconda3/envs/iblenv/lib/python3.10/site-packages/one/util.py:428: ALFWarning: Multiple revisions: \"\", \"2025-05-29\"\n",
      "  warnings.warn(f'Multiple revisions: {rev_list}', alferr.ALFWarning)\n",
      "/home/ines/miniconda3/envs/iblenv/lib/python3.10/site-packages/one/util.py:428: ALFWarning: Multiple revisions: \"\", \"2025-05-31\"\n",
      "  warnings.warn(f'Multiple revisions: {rev_list}', alferr.ALFWarning)\n"
     ]
    },
    {
     "name": "stdout",
     "output_type": "stream",
     "text": [
      "\u001b[36m2025-09-12 12:00:04 INFO     one.py:1475 Loading pupil data\u001b[0m\n"
     ]
    },
    {
     "name": "stderr",
     "output_type": "stream",
     "text": [
      "/home/ines/miniconda3/envs/iblenv/lib/python3.10/site-packages/one/util.py:428: ALFWarning: Multiple revisions: \"\", \"2025-06-01\"\n",
      "  warnings.warn(f'Multiple revisions: {rev_list}', alferr.ALFWarning)\n",
      "/home/ines/miniconda3/envs/iblenv/lib/python3.10/site-packages/one/util.py:428: ALFWarning: Multiple revisions: \"2025-06-18\", \"\"\n",
      "  warnings.warn(f'Multiple revisions: {rev_list}', alferr.ALFWarning)\n",
      "(S3) /home/ines/Downloads/ONE/alyx.internationalbrainlab.org/angelakilab/Subjects/NYU-39/2021-05-11/001/alf/#2025-06-18#/_ibl_leftCamera.features.pqt: 100%|██████████| 4.13M/4.13M [00:01<00:00, 2.38MB/s]"
     ]
    },
    {
     "name": "stdout",
     "output_type": "stream",
     "text": [
      "\u001b[1;33m2025-09-12 12:00:07 WARNING  one.py:1479 Could not load pupil data.\u001b[0m\n"
     ]
    },
    {
     "name": "stderr",
     "output_type": "stream",
     "text": [
      "\n",
      "(S3) /home/ines/Downloads/ONE/alyx.internationalbrainlab.org/angelakilab/Subjects/NYU-39/2021-05-12/001/alf/_ibl_rightCamera.dlc.pqt: 100%|██████████| 85.6M/85.6M [00:04<00:00, 18.1MB/s]"
     ]
    },
    {
     "name": "stdout",
     "output_type": "stream",
     "text": [
      "\u001b[36m2025-09-12 12:00:17 INFO     one.py:1475 Loading trials data\u001b[0m\n"
     ]
    },
    {
     "name": "stderr",
     "output_type": "stream",
     "text": [
      "\n",
      "/home/ines/miniconda3/envs/iblenv/lib/python3.10/site-packages/one/util.py:428: ALFWarning: Multiple revisions: \"\", \"2025-03-03\"\n",
      "  warnings.warn(f'Multiple revisions: {rev_list}', alferr.ALFWarning)\n"
     ]
    },
    {
     "name": "stdout",
     "output_type": "stream",
     "text": [
      "\u001b[36m2025-09-12 12:00:17 INFO     one.py:1475 Loading wheel data\u001b[0m\n",
      "\u001b[36m2025-09-12 12:00:18 INFO     one.py:1475 Loading motion_energy data\u001b[0m\n"
     ]
    },
    {
     "name": "stderr",
     "output_type": "stream",
     "text": [
      "/home/ines/miniconda3/envs/iblenv/lib/python3.10/site-packages/one/util.py:428: ALFWarning: Multiple revisions: \"\", \"2025-05-29\"\n",
      "  warnings.warn(f'Multiple revisions: {rev_list}', alferr.ALFWarning)\n",
      "/home/ines/miniconda3/envs/iblenv/lib/python3.10/site-packages/one/util.py:428: ALFWarning: Multiple revisions: \"\", \"2025-05-31\"\n",
      "  warnings.warn(f'Multiple revisions: {rev_list}', alferr.ALFWarning)\n"
     ]
    },
    {
     "name": "stdout",
     "output_type": "stream",
     "text": [
      "\u001b[36m2025-09-12 12:00:18 INFO     one.py:1475 Loading pupil data\u001b[0m\n"
     ]
    },
    {
     "name": "stderr",
     "output_type": "stream",
     "text": [
      "/home/ines/miniconda3/envs/iblenv/lib/python3.10/site-packages/one/util.py:428: ALFWarning: Multiple revisions: \"\", \"2025-06-01\"\n",
      "  warnings.warn(f'Multiple revisions: {rev_list}', alferr.ALFWarning)\n",
      "/home/ines/miniconda3/envs/iblenv/lib/python3.10/site-packages/one/util.py:428: ALFWarning: Multiple revisions: \"2025-06-18\", \"\"\n",
      "  warnings.warn(f'Multiple revisions: {rev_list}', alferr.ALFWarning)\n",
      "(S3) /home/ines/Downloads/ONE/alyx.internationalbrainlab.org/angelakilab/Subjects/NYU-39/2021-05-12/001/alf/#2025-06-18#/_ibl_leftCamera.features.pqt: 100%|██████████| 4.23M/4.23M [00:01<00:00, 2.38MB/s]"
     ]
    },
    {
     "name": "stdout",
     "output_type": "stream",
     "text": [
      "\u001b[1;33m2025-09-12 12:00:21 WARNING  one.py:1479 Could not load pupil data.\u001b[0m\n"
     ]
    },
    {
     "name": "stderr",
     "output_type": "stream",
     "text": [
      "\n"
     ]
    },
    {
     "name": "stdout",
     "output_type": "stream",
     "text": [
      "\u001b[36m2025-09-12 12:00:25 INFO     one.py:1475 Loading trials data\u001b[0m\n"
     ]
    },
    {
     "name": "stderr",
     "output_type": "stream",
     "text": [
      "/home/ines/miniconda3/envs/iblenv/lib/python3.10/site-packages/one/util.py:428: ALFWarning: Multiple revisions: \"\", \"2025-03-03\"\n",
      "  warnings.warn(f'Multiple revisions: {rev_list}', alferr.ALFWarning)\n"
     ]
    },
    {
     "name": "stdout",
     "output_type": "stream",
     "text": [
      "\u001b[36m2025-09-12 12:00:26 INFO     one.py:1475 Loading wheel data\u001b[0m\n",
      "\u001b[36m2025-09-12 12:00:26 INFO     one.py:1475 Loading motion_energy data\u001b[0m\n"
     ]
    },
    {
     "name": "stderr",
     "output_type": "stream",
     "text": [
      "/home/ines/miniconda3/envs/iblenv/lib/python3.10/site-packages/one/util.py:428: ALFWarning: Multiple revisions: \"\", \"2025-05-29\"\n",
      "  warnings.warn(f'Multiple revisions: {rev_list}', alferr.ALFWarning)\n",
      "/home/ines/miniconda3/envs/iblenv/lib/python3.10/site-packages/one/util.py:428: ALFWarning: Multiple revisions: \"\", \"2025-05-31\"\n",
      "  warnings.warn(f'Multiple revisions: {rev_list}', alferr.ALFWarning)\n"
     ]
    },
    {
     "name": "stdout",
     "output_type": "stream",
     "text": [
      "\u001b[36m2025-09-12 12:00:27 INFO     one.py:1475 Loading pupil data\u001b[0m\n"
     ]
    },
    {
     "name": "stderr",
     "output_type": "stream",
     "text": [
      "/home/ines/miniconda3/envs/iblenv/lib/python3.10/site-packages/one/util.py:428: ALFWarning: Multiple revisions: \"\", \"2025-06-01\"\n",
      "  warnings.warn(f'Multiple revisions: {rev_list}', alferr.ALFWarning)\n",
      "/home/ines/miniconda3/envs/iblenv/lib/python3.10/site-packages/one/util.py:428: ALFWarning: Multiple revisions: \"2025-06-18\", \"\"\n",
      "  warnings.warn(f'Multiple revisions: {rev_list}', alferr.ALFWarning)\n",
      "(S3) /home/ines/Downloads/ONE/alyx.internationalbrainlab.org/angelakilab/Subjects/NYU-39/2021-05-13/002/alf/#2025-06-18#/_ibl_leftCamera.features.pqt: 100%|██████████| 4.69M/4.69M [00:01<00:00, 2.36MB/s]\n"
     ]
    },
    {
     "name": "stdout",
     "output_type": "stream",
     "text": [
      "\u001b[1;33m2025-09-12 12:00:30 WARNING  one.py:1479 Could not load pupil data.\u001b[0m\n"
     ]
    },
    {
     "name": "stderr",
     "output_type": "stream",
     "text": [
      "(S3) /home/ines/Downloads/ONE/alyx.internationalbrainlab.org/angelakilab/Subjects/NYU-39/2021-05-14/001/alf/_ibl_rightCamera.dlc.pqt: 100%|██████████| 89.8M/89.8M [00:08<00:00, 10.1MB/s]"
     ]
    },
    {
     "name": "stdout",
     "output_type": "stream",
     "text": [
      "\u001b[36m2025-09-12 12:00:44 INFO     one.py:1475 Loading trials data\u001b[0m\n"
     ]
    },
    {
     "name": "stderr",
     "output_type": "stream",
     "text": [
      "\n",
      "/home/ines/miniconda3/envs/iblenv/lib/python3.10/site-packages/one/util.py:428: ALFWarning: Multiple revisions: \"\", \"2025-03-03\"\n",
      "  warnings.warn(f'Multiple revisions: {rev_list}', alferr.ALFWarning)\n"
     ]
    },
    {
     "name": "stdout",
     "output_type": "stream",
     "text": [
      "\u001b[36m2025-09-12 12:00:45 INFO     one.py:1475 Loading wheel data\u001b[0m\n",
      "\u001b[36m2025-09-12 12:00:45 INFO     one.py:1475 Loading motion_energy data\u001b[0m\n"
     ]
    },
    {
     "name": "stderr",
     "output_type": "stream",
     "text": [
      "/home/ines/miniconda3/envs/iblenv/lib/python3.10/site-packages/one/util.py:428: ALFWarning: Multiple revisions: \"\", \"2025-05-29\"\n",
      "  warnings.warn(f'Multiple revisions: {rev_list}', alferr.ALFWarning)\n",
      "/home/ines/miniconda3/envs/iblenv/lib/python3.10/site-packages/one/util.py:428: ALFWarning: Multiple revisions: \"\", \"2025-05-31\"\n",
      "  warnings.warn(f'Multiple revisions: {rev_list}', alferr.ALFWarning)\n"
     ]
    },
    {
     "name": "stdout",
     "output_type": "stream",
     "text": [
      "\u001b[36m2025-09-12 12:00:46 INFO     one.py:1475 Loading pupil data\u001b[0m\n"
     ]
    },
    {
     "name": "stderr",
     "output_type": "stream",
     "text": [
      "/home/ines/miniconda3/envs/iblenv/lib/python3.10/site-packages/one/util.py:428: ALFWarning: Multiple revisions: \"\", \"2025-06-01\"\n",
      "  warnings.warn(f'Multiple revisions: {rev_list}', alferr.ALFWarning)\n",
      "/home/ines/miniconda3/envs/iblenv/lib/python3.10/site-packages/one/util.py:428: ALFWarning: Multiple revisions: \"2025-06-18\", \"\"\n",
      "  warnings.warn(f'Multiple revisions: {rev_list}', alferr.ALFWarning)\n",
      "(S3) /home/ines/Downloads/ONE/alyx.internationalbrainlab.org/angelakilab/Subjects/NYU-39/2021-05-14/001/alf/#2025-06-18#/_ibl_leftCamera.features.pqt: 100%|██████████| 4.51M/4.51M [00:01<00:00, 2.48MB/s]"
     ]
    },
    {
     "name": "stdout",
     "output_type": "stream",
     "text": [
      "\u001b[1;33m2025-09-12 12:00:53 WARNING  one.py:1479 Could not load pupil data.\u001b[0m\n"
     ]
    },
    {
     "name": "stderr",
     "output_type": "stream",
     "text": [
      "\n",
      "(S3) /home/ines/Downloads/ONE/alyx.internationalbrainlab.org/angelakilab/Subjects/NYU-40/2021-04-13/001/alf/_ibl_rightCamera.dlc.pqt: 100%|██████████| 83.2M/83.2M [00:04<00:00, 19.1MB/s]"
     ]
    },
    {
     "name": "stdout",
     "output_type": "stream",
     "text": [
      "\u001b[36m2025-09-12 12:01:03 INFO     one.py:1475 Loading trials data\u001b[0m\n"
     ]
    },
    {
     "name": "stderr",
     "output_type": "stream",
     "text": [
      "\n",
      "/home/ines/miniconda3/envs/iblenv/lib/python3.10/site-packages/one/util.py:428: ALFWarning: Multiple revisions: \"\", \"2025-03-03\"\n",
      "  warnings.warn(f'Multiple revisions: {rev_list}', alferr.ALFWarning)\n"
     ]
    },
    {
     "name": "stdout",
     "output_type": "stream",
     "text": [
      "\u001b[36m2025-09-12 12:01:03 INFO     one.py:1475 Loading wheel data\u001b[0m\n",
      "\u001b[36m2025-09-12 12:01:04 INFO     one.py:1475 Loading motion_energy data\u001b[0m\n"
     ]
    },
    {
     "name": "stderr",
     "output_type": "stream",
     "text": [
      "/home/ines/miniconda3/envs/iblenv/lib/python3.10/site-packages/one/util.py:428: ALFWarning: Multiple revisions: \"\", \"2025-05-29\"\n",
      "  warnings.warn(f'Multiple revisions: {rev_list}', alferr.ALFWarning)\n",
      "/home/ines/miniconda3/envs/iblenv/lib/python3.10/site-packages/one/util.py:428: ALFWarning: Multiple revisions: \"\", \"2025-05-31\"\n",
      "  warnings.warn(f'Multiple revisions: {rev_list}', alferr.ALFWarning)\n"
     ]
    },
    {
     "name": "stdout",
     "output_type": "stream",
     "text": [
      "\u001b[36m2025-09-12 12:01:04 INFO     one.py:1475 Loading pupil data\u001b[0m\n"
     ]
    },
    {
     "name": "stderr",
     "output_type": "stream",
     "text": [
      "/home/ines/miniconda3/envs/iblenv/lib/python3.10/site-packages/one/util.py:428: ALFWarning: Multiple revisions: \"\", \"2025-06-01\"\n",
      "  warnings.warn(f'Multiple revisions: {rev_list}', alferr.ALFWarning)\n",
      "/home/ines/miniconda3/envs/iblenv/lib/python3.10/site-packages/one/util.py:428: ALFWarning: Multiple revisions: \"2025-06-18\", \"\"\n",
      "  warnings.warn(f'Multiple revisions: {rev_list}', alferr.ALFWarning)\n",
      "(S3) /home/ines/Downloads/ONE/alyx.internationalbrainlab.org/angelakilab/Subjects/NYU-40/2021-04-13/001/alf/#2025-06-18#/_ibl_leftCamera.features.pqt: 100%|██████████| 4.20M/4.20M [00:01<00:00, 2.26MB/s]\n"
     ]
    },
    {
     "name": "stdout",
     "output_type": "stream",
     "text": [
      "\u001b[36m2025-09-12 12:01:12 INFO     one.py:1475 Loading trials data\u001b[0m\n"
     ]
    },
    {
     "name": "stderr",
     "output_type": "stream",
     "text": [
      "/home/ines/miniconda3/envs/iblenv/lib/python3.10/site-packages/one/util.py:428: ALFWarning: Multiple revisions: \"\", \"2025-03-03\"\n",
      "  warnings.warn(f'Multiple revisions: {rev_list}', alferr.ALFWarning)\n"
     ]
    },
    {
     "name": "stdout",
     "output_type": "stream",
     "text": [
      "\u001b[36m2025-09-12 12:01:12 INFO     one.py:1475 Loading wheel data\u001b[0m\n",
      "\u001b[36m2025-09-12 12:01:13 INFO     one.py:1475 Loading motion_energy data\u001b[0m\n"
     ]
    },
    {
     "name": "stderr",
     "output_type": "stream",
     "text": [
      "/home/ines/miniconda3/envs/iblenv/lib/python3.10/site-packages/one/util.py:428: ALFWarning: Multiple revisions: \"\", \"2025-05-29\"\n",
      "  warnings.warn(f'Multiple revisions: {rev_list}', alferr.ALFWarning)\n",
      "/home/ines/miniconda3/envs/iblenv/lib/python3.10/site-packages/one/util.py:428: ALFWarning: Multiple revisions: \"\", \"2025-05-31\"\n",
      "  warnings.warn(f'Multiple revisions: {rev_list}', alferr.ALFWarning)\n"
     ]
    },
    {
     "name": "stdout",
     "output_type": "stream",
     "text": [
      "\u001b[36m2025-09-12 12:01:13 INFO     one.py:1475 Loading pupil data\u001b[0m\n"
     ]
    },
    {
     "name": "stderr",
     "output_type": "stream",
     "text": [
      "/home/ines/miniconda3/envs/iblenv/lib/python3.10/site-packages/one/util.py:428: ALFWarning: Multiple revisions: \"\", \"2025-06-01\"\n",
      "  warnings.warn(f'Multiple revisions: {rev_list}', alferr.ALFWarning)\n",
      "/home/ines/miniconda3/envs/iblenv/lib/python3.10/site-packages/one/util.py:428: ALFWarning: Multiple revisions: \"2025-06-18\", \"\"\n",
      "  warnings.warn(f'Multiple revisions: {rev_list}', alferr.ALFWarning)\n"
     ]
    },
    {
     "name": "stdout",
     "output_type": "stream",
     "text": [
      "\u001b[1;33m2025-09-12 12:01:13 WARNING  one.py:1479 Could not load pupil data.\u001b[0m\n",
      "\u001b[36m2025-09-12 12:01:18 INFO     one.py:1475 Loading trials data\u001b[0m\n"
     ]
    },
    {
     "name": "stderr",
     "output_type": "stream",
     "text": [
      "/home/ines/miniconda3/envs/iblenv/lib/python3.10/site-packages/one/util.py:428: ALFWarning: Multiple revisions: \"\", \"2025-03-03\"\n",
      "  warnings.warn(f'Multiple revisions: {rev_list}', alferr.ALFWarning)\n",
      "(S3) /home/ines/Downloads/ONE/alyx.internationalbrainlab.org/angelakilab/Subjects/NYU-40/2021-04-15/001/alf/#2025-03-03#/_ibl_trials.stimOffTrigger_times.npy: 100%|██████████| 4.26k/4.26k [00:00<00:00, 11.0kB/s]\n",
      "(S3) /home/ines/Downloads/ONE/alyx.internationalbrainlab.org/angelakilab/Subjects/NYU-40/2021-04-15/001/alf/#2025-03-03#/_ibl_trials.stimOff_times.npy: 100%|██████████| 4.26k/4.26k [00:00<00:00, 11.9kB/s]\n",
      "(S3) /home/ines/Downloads/ONE/alyx.internationalbrainlab.org/angelakilab/Subjects/NYU-40/2021-04-15/001/alf/#2025-03-03#/_ibl_trials.stimOnTrigger_times.npy: 100%|██████████| 4.26k/4.26k [00:00<00:00, 12.0kB/s]\n",
      "(S3) /home/ines/Downloads/ONE/alyx.internationalbrainlab.org/angelakilab/Subjects/NYU-40/2021-04-15/001/alf/#2025-03-03#/_ibl_trials.table.pqt: 100%|██████████| 44.4k/44.4k [00:00<00:00, 83.4kB/s]"
     ]
    },
    {
     "name": "stdout",
     "output_type": "stream",
     "text": [
      "\u001b[36m2025-09-12 12:01:21 INFO     one.py:1475 Loading wheel data\u001b[0m\n"
     ]
    },
    {
     "name": "stderr",
     "output_type": "stream",
     "text": [
      "\n"
     ]
    },
    {
     "name": "stdout",
     "output_type": "stream",
     "text": [
      "\u001b[36m2025-09-12 12:01:22 INFO     one.py:1475 Loading motion_energy data\u001b[0m\n"
     ]
    },
    {
     "name": "stderr",
     "output_type": "stream",
     "text": [
      "/home/ines/miniconda3/envs/iblenv/lib/python3.10/site-packages/one/util.py:428: ALFWarning: Multiple revisions: \"\", \"2025-05-29\"\n",
      "  warnings.warn(f'Multiple revisions: {rev_list}', alferr.ALFWarning)\n",
      "(S3) /home/ines/Downloads/ONE/alyx.internationalbrainlab.org/angelakilab/Subjects/NYU-40/2021-04-15/001/alf/#2025-05-29#/leftCamera.ROIMotionEnergy.npy: 100%|██████████| 1.84M/1.84M [00:01<00:00, 1.23MB/s]\n",
      "/home/ines/miniconda3/envs/iblenv/lib/python3.10/site-packages/one/util.py:428: ALFWarning: Multiple revisions: \"\", \"2025-05-31\"\n",
      "  warnings.warn(f'Multiple revisions: {rev_list}', alferr.ALFWarning)\n",
      "(S3) /home/ines/Downloads/ONE/alyx.internationalbrainlab.org/angelakilab/Subjects/NYU-40/2021-04-15/001/alf/#2025-05-31#/rightCamera.ROIMotionEnergy.npy: 100%|██████████| 4.60M/4.60M [00:01<00:00, 2.57MB/s]\n",
      "/home/ines/miniconda3/envs/iblenv/lib/python3.10/site-packages/one/util.py:428: ALFWarning: Multiple revisions: \"\", \"2025-06-01\"\n",
      "  warnings.warn(f'Multiple revisions: {rev_list}', alferr.ALFWarning)\n",
      "(S3) /home/ines/Downloads/ONE/alyx.internationalbrainlab.org/angelakilab/Subjects/NYU-40/2021-04-15/001/alf/_ibl_bodyCamera.times.npy: 100%|██████████| 924k/924k [00:01<00:00, 869kB/s]\n",
      "(S3) /home/ines/Downloads/ONE/alyx.internationalbrainlab.org/angelakilab/Subjects/NYU-40/2021-04-15/001/alf/#2025-06-01#/bodyCamera.ROIMotionEnergy.npy: 100%|██████████| 924k/924k [00:00<00:00, 1.33MB/s]"
     ]
    },
    {
     "name": "stdout",
     "output_type": "stream",
     "text": [
      "\u001b[36m2025-09-12 12:01:29 INFO     one.py:1475 Loading pupil data\u001b[0m\n"
     ]
    },
    {
     "name": "stderr",
     "output_type": "stream",
     "text": [
      "\n",
      "/home/ines/miniconda3/envs/iblenv/lib/python3.10/site-packages/one/util.py:428: ALFWarning: Multiple revisions: \"2025-06-18\", \"\"\n",
      "  warnings.warn(f'Multiple revisions: {rev_list}', alferr.ALFWarning)\n",
      "(S3) /home/ines/Downloads/ONE/alyx.internationalbrainlab.org/angelakilab/Subjects/NYU-40/2021-04-15/001/alf/#2025-06-18#/_ibl_leftCamera.features.pqt: 100%|██████████| 4.26M/4.26M [00:01<00:00, 2.36MB/s]"
     ]
    },
    {
     "name": "stdout",
     "output_type": "stream",
     "text": [
      "\u001b[1;33m2025-09-12 12:01:32 WARNING  one.py:1479 Could not load pupil data.\u001b[0m\n"
     ]
    },
    {
     "name": "stderr",
     "output_type": "stream",
     "text": [
      "\n"
     ]
    },
    {
     "name": "stdout",
     "output_type": "stream",
     "text": [
      "\u001b[36m2025-09-12 12:01:37 INFO     one.py:1475 Loading trials data\u001b[0m\n"
     ]
    },
    {
     "name": "stderr",
     "output_type": "stream",
     "text": [
      "/home/ines/miniconda3/envs/iblenv/lib/python3.10/site-packages/one/util.py:428: ALFWarning: Multiple revisions: \"\", \"2025-03-03\"\n",
      "  warnings.warn(f'Multiple revisions: {rev_list}', alferr.ALFWarning)\n",
      "(S3) /home/ines/Downloads/ONE/alyx.internationalbrainlab.org/angelakilab/Subjects/NYU-40/2021-04-16/002/alf/#2025-03-03#/_ibl_trials.stimOffTrigger_times.npy: 100%|██████████| 3.83k/3.83k [00:00<00:00, 11.6kB/s]\n",
      "(S3) /home/ines/Downloads/ONE/alyx.internationalbrainlab.org/angelakilab/Subjects/NYU-40/2021-04-16/002/alf/#2025-03-03#/_ibl_trials.stimOff_times.npy: 100%|██████████| 3.83k/3.83k [00:00<00:00, 5.29kB/s]\n",
      "(S3) /home/ines/Downloads/ONE/alyx.internationalbrainlab.org/angelakilab/Subjects/NYU-40/2021-04-16/002/alf/#2025-03-03#/_ibl_trials.stimOnTrigger_times.npy: 100%|██████████| 3.83k/3.83k [00:00<00:00, 11.7kB/s]\n",
      "(S3) /home/ines/Downloads/ONE/alyx.internationalbrainlab.org/angelakilab/Subjects/NYU-40/2021-04-16/002/alf/#2025-03-03#/_ibl_trials.table.pqt: 100%|██████████| 40.4k/40.4k [00:00<00:00, 87.3kB/s]"
     ]
    },
    {
     "name": "stdout",
     "output_type": "stream",
     "text": [
      "\u001b[36m2025-09-12 12:01:41 INFO     one.py:1475 Loading wheel data\u001b[0m\n"
     ]
    },
    {
     "name": "stderr",
     "output_type": "stream",
     "text": [
      "\n"
     ]
    },
    {
     "name": "stdout",
     "output_type": "stream",
     "text": [
      "\u001b[36m2025-09-12 12:01:41 INFO     one.py:1475 Loading motion_energy data\u001b[0m\n"
     ]
    },
    {
     "name": "stderr",
     "output_type": "stream",
     "text": [
      "/home/ines/miniconda3/envs/iblenv/lib/python3.10/site-packages/one/util.py:428: ALFWarning: Multiple revisions: \"\", \"2025-05-29\"\n",
      "  warnings.warn(f'Multiple revisions: {rev_list}', alferr.ALFWarning)\n",
      "(S3) /home/ines/Downloads/ONE/alyx.internationalbrainlab.org/angelakilab/Subjects/NYU-40/2021-04-16/002/alf/#2025-05-29#/leftCamera.ROIMotionEnergy.npy: 100%|██████████| 1.69M/1.69M [00:01<00:00, 1.27MB/s]\n",
      "/home/ines/miniconda3/envs/iblenv/lib/python3.10/site-packages/one/util.py:428: ALFWarning: Multiple revisions: \"\", \"2025-05-31\"\n",
      "  warnings.warn(f'Multiple revisions: {rev_list}', alferr.ALFWarning)\n",
      "(S3) /home/ines/Downloads/ONE/alyx.internationalbrainlab.org/angelakilab/Subjects/NYU-40/2021-04-16/002/alf/#2025-05-31#/rightCamera.ROIMotionEnergy.npy: 100%|██████████| 4.23M/4.23M [00:01<00:00, 2.34MB/s]\n",
      "/home/ines/miniconda3/envs/iblenv/lib/python3.10/site-packages/one/util.py:428: ALFWarning: Multiple revisions: \"\", \"2025-06-01\"\n",
      "  warnings.warn(f'Multiple revisions: {rev_list}', alferr.ALFWarning)\n",
      "(S3) /home/ines/Downloads/ONE/alyx.internationalbrainlab.org/angelakilab/Subjects/NYU-40/2021-04-16/002/alf/#2025-06-01#/bodyCamera.ROIMotionEnergy.npy: 100%|██████████| 850k/850k [00:01<00:00, 804kB/s]"
     ]
    },
    {
     "name": "stdout",
     "output_type": "stream",
     "text": [
      "\u001b[36m2025-09-12 12:01:48 INFO     one.py:1475 Loading pupil data\u001b[0m\n"
     ]
    },
    {
     "name": "stderr",
     "output_type": "stream",
     "text": [
      "\n",
      "/home/ines/miniconda3/envs/iblenv/lib/python3.10/site-packages/one/util.py:428: ALFWarning: Multiple revisions: \"2025-06-18\", \"\"\n",
      "  warnings.warn(f'Multiple revisions: {rev_list}', alferr.ALFWarning)\n",
      "(S3) /home/ines/Downloads/ONE/alyx.internationalbrainlab.org/angelakilab/Subjects/NYU-40/2021-04-16/002/alf/#2025-06-18#/_ibl_leftCamera.features.pqt: 100%|██████████| 3.97M/3.97M [00:01<00:00, 2.28MB/s]"
     ]
    },
    {
     "name": "stdout",
     "output_type": "stream",
     "text": [
      "\u001b[1;33m2025-09-12 12:01:52 WARNING  one.py:1479 Could not load pupil data.\u001b[0m\n"
     ]
    },
    {
     "name": "stderr",
     "output_type": "stream",
     "text": [
      "\n"
     ]
    },
    {
     "name": "stdout",
     "output_type": "stream",
     "text": [
      "\u001b[36m2025-09-12 12:01:56 INFO     one.py:1475 Loading trials data\u001b[0m\n"
     ]
    },
    {
     "name": "stderr",
     "output_type": "stream",
     "text": [
      "/home/ines/miniconda3/envs/iblenv/lib/python3.10/site-packages/one/util.py:428: ALFWarning: Multiple revisions: \"\", \"2025-03-03\"\n",
      "  warnings.warn(f'Multiple revisions: {rev_list}', alferr.ALFWarning)\n",
      "(S3) /home/ines/Downloads/ONE/alyx.internationalbrainlab.org/angelakilab/Subjects/NYU-45/2021-07-19/001/alf/#2025-03-03#/_ibl_trials.stimOffTrigger_times.npy: 100%|██████████| 4.17k/4.17k [00:00<00:00, 12.0kB/s]\n",
      "(S3) /home/ines/Downloads/ONE/alyx.internationalbrainlab.org/angelakilab/Subjects/NYU-45/2021-07-19/001/alf/#2025-03-03#/_ibl_trials.stimOff_times.npy: 100%|██████████| 4.17k/4.17k [00:00<00:00, 12.6kB/s]\n",
      "(S3) /home/ines/Downloads/ONE/alyx.internationalbrainlab.org/angelakilab/Subjects/NYU-45/2021-07-19/001/alf/#2025-03-03#/_ibl_trials.stimOnTrigger_times.npy: 100%|██████████| 4.17k/4.17k [00:00<00:00, 12.4kB/s]\n",
      "(S3) /home/ines/Downloads/ONE/alyx.internationalbrainlab.org/angelakilab/Subjects/NYU-45/2021-07-19/001/alf/#2025-03-03#/_ibl_trials.table.pqt: 100%|██████████| 43.1k/43.1k [00:00<00:00, 92.8kB/s]"
     ]
    },
    {
     "name": "stdout",
     "output_type": "stream",
     "text": [
      "\u001b[36m2025-09-12 12:01:59 INFO     one.py:1475 Loading wheel data\u001b[0m\n"
     ]
    },
    {
     "name": "stderr",
     "output_type": "stream",
     "text": [
      "\n"
     ]
    },
    {
     "name": "stdout",
     "output_type": "stream",
     "text": [
      "\u001b[36m2025-09-12 12:02:00 INFO     one.py:1475 Loading motion_energy data\u001b[0m\n"
     ]
    },
    {
     "name": "stderr",
     "output_type": "stream",
     "text": [
      "/home/ines/miniconda3/envs/iblenv/lib/python3.10/site-packages/one/util.py:428: ALFWarning: Multiple revisions: \"\", \"2025-05-29\"\n",
      "  warnings.warn(f'Multiple revisions: {rev_list}', alferr.ALFWarning)\n",
      "(S3) /home/ines/Downloads/ONE/alyx.internationalbrainlab.org/angelakilab/Subjects/NYU-45/2021-07-19/001/alf/#2025-05-29#/leftCamera.ROIMotionEnergy.npy: 100%|██████████| 1.88M/1.88M [00:01<00:00, 1.36MB/s]\n",
      "/home/ines/miniconda3/envs/iblenv/lib/python3.10/site-packages/one/util.py:428: ALFWarning: Multiple revisions: \"\", \"2025-05-31\"\n",
      "  warnings.warn(f'Multiple revisions: {rev_list}', alferr.ALFWarning)\n",
      "(S3) /home/ines/Downloads/ONE/alyx.internationalbrainlab.org/angelakilab/Subjects/NYU-45/2021-07-19/001/alf/#2025-05-31#/rightCamera.ROIMotionEnergy.npy: 100%|██████████| 4.71M/4.71M [00:02<00:00, 1.61MB/s]\n",
      "/home/ines/miniconda3/envs/iblenv/lib/python3.10/site-packages/one/util.py:428: ALFWarning: Multiple revisions: \"\", \"2025-06-01\"\n",
      "  warnings.warn(f'Multiple revisions: {rev_list}', alferr.ALFWarning)\n",
      "(S3) /home/ines/Downloads/ONE/alyx.internationalbrainlab.org/angelakilab/Subjects/NYU-45/2021-07-19/001/alf/_ibl_bodyCamera.times.npy: 100%|██████████| 944k/944k [00:01<00:00, 879kB/s]\n",
      "(S3) /home/ines/Downloads/ONE/alyx.internationalbrainlab.org/angelakilab/Subjects/NYU-45/2021-07-19/001/alf/#2025-06-01#/bodyCamera.ROIMotionEnergy.npy: 100%|██████████| 944k/944k [00:00<00:00, 1.09MB/s]"
     ]
    },
    {
     "name": "stdout",
     "output_type": "stream",
     "text": [
      "\u001b[36m2025-09-12 12:02:09 INFO     one.py:1475 Loading pupil data\u001b[0m\n"
     ]
    },
    {
     "name": "stderr",
     "output_type": "stream",
     "text": [
      "\n",
      "/home/ines/miniconda3/envs/iblenv/lib/python3.10/site-packages/one/util.py:428: ALFWarning: Multiple revisions: \"2025-06-20\", \"\"\n",
      "  warnings.warn(f'Multiple revisions: {rev_list}', alferr.ALFWarning)\n",
      "(S3) /home/ines/Downloads/ONE/alyx.internationalbrainlab.org/angelakilab/Subjects/NYU-45/2021-07-19/001/alf/#2025-06-20#/_ibl_leftCamera.features.pqt: 100%|██████████| 4.35M/4.35M [00:02<00:00, 1.96MB/s]\n"
     ]
    },
    {
     "name": "stdout",
     "output_type": "stream",
     "text": [
      "\u001b[36m2025-09-12 12:02:17 INFO     one.py:1475 Loading trials data\u001b[0m\n"
     ]
    },
    {
     "name": "stderr",
     "output_type": "stream",
     "text": [
      "/home/ines/miniconda3/envs/iblenv/lib/python3.10/site-packages/one/util.py:428: ALFWarning: Multiple revisions: \"\", \"2025-03-03\"\n",
      "  warnings.warn(f'Multiple revisions: {rev_list}', alferr.ALFWarning)\n",
      "(S3) /home/ines/Downloads/ONE/alyx.internationalbrainlab.org/angelakilab/Subjects/NYU-45/2021-07-20/002/alf/#2025-03-03#/_ibl_trials.stimOffTrigger_times.npy: 100%|██████████| 3.92k/3.92k [00:00<00:00, 11.6kB/s]\n",
      "(S3) /home/ines/Downloads/ONE/alyx.internationalbrainlab.org/angelakilab/Subjects/NYU-45/2021-07-20/002/alf/#2025-03-03#/_ibl_trials.stimOff_times.npy: 100%|██████████| 3.92k/3.92k [00:00<00:00, 11.2kB/s]\n",
      "(S3) /home/ines/Downloads/ONE/alyx.internationalbrainlab.org/angelakilab/Subjects/NYU-45/2021-07-20/002/alf/#2025-03-03#/_ibl_trials.stimOnTrigger_times.npy: 100%|██████████| 3.92k/3.92k [00:01<00:00, 3.25kB/s]\n",
      "(S3) /home/ines/Downloads/ONE/alyx.internationalbrainlab.org/angelakilab/Subjects/NYU-45/2021-07-20/002/alf/#2025-03-03#/_ibl_trials.table.pqt: 100%|██████████| 41.2k/41.2k [00:00<00:00, 50.5kB/s]"
     ]
    },
    {
     "name": "stdout",
     "output_type": "stream",
     "text": [
      "\u001b[36m2025-09-12 12:02:21 INFO     one.py:1475 Loading wheel data\u001b[0m\n"
     ]
    },
    {
     "name": "stderr",
     "output_type": "stream",
     "text": [
      "\n"
     ]
    },
    {
     "name": "stdout",
     "output_type": "stream",
     "text": [
      "\u001b[36m2025-09-12 12:02:21 INFO     one.py:1475 Loading motion_energy data\u001b[0m\n"
     ]
    },
    {
     "name": "stderr",
     "output_type": "stream",
     "text": [
      "/home/ines/miniconda3/envs/iblenv/lib/python3.10/site-packages/one/util.py:428: ALFWarning: Multiple revisions: \"\", \"2025-05-29\"\n",
      "  warnings.warn(f'Multiple revisions: {rev_list}', alferr.ALFWarning)\n",
      "(S3) /home/ines/Downloads/ONE/alyx.internationalbrainlab.org/angelakilab/Subjects/NYU-45/2021-07-20/002/alf/#2025-05-29#/leftCamera.ROIMotionEnergy.npy: 100%|██████████| 1.94M/1.94M [00:01<00:00, 1.55MB/s]\n",
      "/home/ines/miniconda3/envs/iblenv/lib/python3.10/site-packages/one/util.py:428: ALFWarning: Multiple revisions: \"\", \"2025-05-31\"\n",
      "  warnings.warn(f'Multiple revisions: {rev_list}', alferr.ALFWarning)\n",
      "(S3) /home/ines/Downloads/ONE/alyx.internationalbrainlab.org/angelakilab/Subjects/NYU-45/2021-07-20/002/alf/#2025-05-31#/rightCamera.ROIMotionEnergy.npy: 100%|██████████| 4.84M/4.84M [00:01<00:00, 2.79MB/s]\n",
      "/home/ines/miniconda3/envs/iblenv/lib/python3.10/site-packages/one/util.py:428: ALFWarning: Multiple revisions: \"\", \"2025-06-01\"\n",
      "  warnings.warn(f'Multiple revisions: {rev_list}', alferr.ALFWarning)\n",
      "(S3) /home/ines/Downloads/ONE/alyx.internationalbrainlab.org/angelakilab/Subjects/NYU-45/2021-07-20/002/alf/_ibl_bodyCamera.times.npy: 100%|██████████| 970k/970k [00:01<00:00, 871kB/s]\n",
      "(S3) /home/ines/Downloads/ONE/alyx.internationalbrainlab.org/angelakilab/Subjects/NYU-45/2021-07-20/002/alf/#2025-06-01#/bodyCamera.ROIMotionEnergy.npy: 100%|██████████| 970k/970k [00:01<00:00, 943kB/s]"
     ]
    },
    {
     "name": "stdout",
     "output_type": "stream",
     "text": [
      "\u001b[36m2025-09-12 12:02:29 INFO     one.py:1475 Loading pupil data\u001b[0m\n"
     ]
    },
    {
     "name": "stderr",
     "output_type": "stream",
     "text": [
      "\n",
      "/home/ines/miniconda3/envs/iblenv/lib/python3.10/site-packages/one/util.py:428: ALFWarning: Multiple revisions: \"2025-06-18\", \"\"\n",
      "  warnings.warn(f'Multiple revisions: {rev_list}', alferr.ALFWarning)\n",
      "(S3) /home/ines/Downloads/ONE/alyx.internationalbrainlab.org/angelakilab/Subjects/NYU-45/2021-07-20/002/alf/#2025-06-18#/_ibl_leftCamera.features.pqt: 100%|██████████| 4.47M/4.47M [00:01<00:00, 2.91MB/s]\n"
     ]
    },
    {
     "name": "stdout",
     "output_type": "stream",
     "text": [
      "\u001b[36m2025-09-12 12:02:36 INFO     one.py:1475 Loading trials data\u001b[0m\n"
     ]
    },
    {
     "name": "stderr",
     "output_type": "stream",
     "text": [
      "/home/ines/miniconda3/envs/iblenv/lib/python3.10/site-packages/one/util.py:428: ALFWarning: Multiple revisions: \"\", \"2025-03-03\"\n",
      "  warnings.warn(f'Multiple revisions: {rev_list}', alferr.ALFWarning)\n",
      "(S3) /home/ines/Downloads/ONE/alyx.internationalbrainlab.org/angelakilab/Subjects/NYU-45/2021-07-23/001/alf/#2025-03-03#/_ibl_trials.stimOffTrigger_times.npy: 100%|██████████| 3.62k/3.62k [00:00<00:00, 10.5kB/s]\n",
      "(S3) /home/ines/Downloads/ONE/alyx.internationalbrainlab.org/angelakilab/Subjects/NYU-45/2021-07-23/001/alf/#2025-03-03#/_ibl_trials.stimOff_times.npy: 100%|██████████| 3.62k/3.62k [00:00<00:00, 10.8kB/s]\n",
      "(S3) /home/ines/Downloads/ONE/alyx.internationalbrainlab.org/angelakilab/Subjects/NYU-45/2021-07-23/001/alf/#2025-03-03#/_ibl_trials.stimOnTrigger_times.npy: 100%|██████████| 3.62k/3.62k [00:00<00:00, 10.9kB/s]\n",
      "(S3) /home/ines/Downloads/ONE/alyx.internationalbrainlab.org/angelakilab/Subjects/NYU-45/2021-07-23/001/alf/#2025-03-03#/_ibl_trials.table.pqt: 100%|██████████| 38.6k/38.6k [00:00<00:00, 76.7kB/s]"
     ]
    },
    {
     "name": "stdout",
     "output_type": "stream",
     "text": [
      "\u001b[36m2025-09-12 12:02:39 INFO     one.py:1475 Loading wheel data\u001b[0m\n"
     ]
    },
    {
     "name": "stderr",
     "output_type": "stream",
     "text": [
      "\n"
     ]
    },
    {
     "name": "stdout",
     "output_type": "stream",
     "text": [
      "\u001b[36m2025-09-12 12:02:40 INFO     one.py:1475 Loading motion_energy data\u001b[0m\n"
     ]
    },
    {
     "name": "stderr",
     "output_type": "stream",
     "text": [
      "/home/ines/miniconda3/envs/iblenv/lib/python3.10/site-packages/one/util.py:428: ALFWarning: Multiple revisions: \"\", \"2025-05-29\"\n",
      "  warnings.warn(f'Multiple revisions: {rev_list}', alferr.ALFWarning)\n",
      "(S3) /home/ines/Downloads/ONE/alyx.internationalbrainlab.org/angelakilab/Subjects/NYU-45/2021-07-23/001/alf/#2025-05-29#/leftCamera.ROIMotionEnergy.npy: 100%|██████████| 2.13M/2.13M [00:01<00:00, 1.52MB/s]\n",
      "/home/ines/miniconda3/envs/iblenv/lib/python3.10/site-packages/one/util.py:428: ALFWarning: Multiple revisions: \"\", \"2025-05-31\"\n",
      "  warnings.warn(f'Multiple revisions: {rev_list}', alferr.ALFWarning)\n",
      "(S3) /home/ines/Downloads/ONE/alyx.internationalbrainlab.org/angelakilab/Subjects/NYU-45/2021-07-23/001/alf/#2025-05-31#/rightCamera.ROIMotionEnergy.npy: 100%|██████████| 5.33M/5.33M [00:01<00:00, 2.77MB/s]\n",
      "/home/ines/miniconda3/envs/iblenv/lib/python3.10/site-packages/one/util.py:428: ALFWarning: Multiple revisions: \"\", \"2025-06-01\"\n",
      "  warnings.warn(f'Multiple revisions: {rev_list}', alferr.ALFWarning)\n",
      "(S3) /home/ines/Downloads/ONE/alyx.internationalbrainlab.org/angelakilab/Subjects/NYU-45/2021-07-23/001/alf/_ibl_bodyCamera.times.npy: 100%|██████████| 1.07M/1.07M [00:01<00:00, 849kB/s] \n",
      "(S3) /home/ines/Downloads/ONE/alyx.internationalbrainlab.org/angelakilab/Subjects/NYU-45/2021-07-23/001/alf/#2025-06-01#/bodyCamera.ROIMotionEnergy.npy: 100%|██████████| 1.07M/1.07M [00:02<00:00, 480kB/s]"
     ]
    },
    {
     "name": "stdout",
     "output_type": "stream",
     "text": [
      "\u001b[36m2025-09-12 12:02:49 INFO     one.py:1475 Loading pupil data\u001b[0m\n"
     ]
    },
    {
     "name": "stderr",
     "output_type": "stream",
     "text": [
      "\n",
      "/home/ines/miniconda3/envs/iblenv/lib/python3.10/site-packages/one/util.py:428: ALFWarning: Multiple revisions: \"2025-06-18\", \"\"\n",
      "  warnings.warn(f'Multiple revisions: {rev_list}', alferr.ALFWarning)\n",
      "(S3) /home/ines/Downloads/ONE/alyx.internationalbrainlab.org/angelakilab/Subjects/NYU-45/2021-07-23/001/alf/#2025-06-18#/_ibl_leftCamera.features.pqt: 100%|██████████| 4.84M/4.84M [00:02<00:00, 1.77MB/s]\n"
     ]
    },
    {
     "name": "stdout",
     "output_type": "stream",
     "text": [
      "\u001b[36m2025-09-12 12:02:57 INFO     one.py:1475 Loading trials data\u001b[0m\n"
     ]
    },
    {
     "name": "stderr",
     "output_type": "stream",
     "text": [
      "/home/ines/miniconda3/envs/iblenv/lib/python3.10/site-packages/one/util.py:428: ALFWarning: Multiple revisions: \"\", \"2025-03-03\"\n",
      "  warnings.warn(f'Multiple revisions: {rev_list}', alferr.ALFWarning)\n",
      "(S3) /home/ines/Downloads/ONE/alyx.internationalbrainlab.org/angelakilab/Subjects/NYU-46/2021-06-22/001/alf/#2025-03-03#/_ibl_trials.stimOffTrigger_times.npy: 100%|██████████| 3.52k/3.52k [00:00<00:00, 10.4kB/s]\n",
      "(S3) /home/ines/Downloads/ONE/alyx.internationalbrainlab.org/angelakilab/Subjects/NYU-46/2021-06-22/001/alf/#2025-03-03#/_ibl_trials.stimOff_times.npy: 100%|██████████| 3.52k/3.52k [00:00<00:00, 8.82kB/s]\n",
      "(S3) /home/ines/Downloads/ONE/alyx.internationalbrainlab.org/angelakilab/Subjects/NYU-46/2021-06-22/001/alf/#2025-03-03#/_ibl_trials.stimOnTrigger_times.npy: 100%|██████████| 3.52k/3.52k [00:00<00:00, 10.4kB/s]\n",
      "(S3) /home/ines/Downloads/ONE/alyx.internationalbrainlab.org/angelakilab/Subjects/NYU-46/2021-06-22/001/alf/#2025-03-03#/_ibl_trials.table.pqt: 100%|██████████| 37.9k/37.9k [00:00<00:00, 76.8kB/s]"
     ]
    },
    {
     "name": "stdout",
     "output_type": "stream",
     "text": [
      "\u001b[36m2025-09-12 12:03:01 INFO     one.py:1475 Loading wheel data\u001b[0m\n"
     ]
    },
    {
     "name": "stderr",
     "output_type": "stream",
     "text": [
      "\n"
     ]
    },
    {
     "name": "stdout",
     "output_type": "stream",
     "text": [
      "\u001b[36m2025-09-12 12:03:01 INFO     one.py:1475 Loading motion_energy data\u001b[0m\n"
     ]
    },
    {
     "name": "stderr",
     "output_type": "stream",
     "text": [
      "/home/ines/miniconda3/envs/iblenv/lib/python3.10/site-packages/one/util.py:428: ALFWarning: Multiple revisions: \"\", \"2025-05-29\"\n",
      "  warnings.warn(f'Multiple revisions: {rev_list}', alferr.ALFWarning)\n",
      "(S3) /home/ines/Downloads/ONE/alyx.internationalbrainlab.org/angelakilab/Subjects/NYU-46/2021-06-22/001/alf/#2025-05-29#/leftCamera.ROIMotionEnergy.npy: 100%|██████████| 2.15M/2.15M [00:01<00:00, 1.56MB/s]\n",
      "/home/ines/miniconda3/envs/iblenv/lib/python3.10/site-packages/one/util.py:428: ALFWarning: Multiple revisions: \"\", \"2025-05-31\"\n",
      "  warnings.warn(f'Multiple revisions: {rev_list}', alferr.ALFWarning)\n",
      "(S3) /home/ines/Downloads/ONE/alyx.internationalbrainlab.org/angelakilab/Subjects/NYU-46/2021-06-22/001/alf/#2025-05-31#/rightCamera.ROIMotionEnergy.npy: 100%|██████████| 5.36M/5.36M [00:01<00:00, 2.79MB/s]\n",
      "/home/ines/miniconda3/envs/iblenv/lib/python3.10/site-packages/one/util.py:428: ALFWarning: Multiple revisions: \"\", \"2025-06-01\"\n",
      "  warnings.warn(f'Multiple revisions: {rev_list}', alferr.ALFWarning)\n",
      "(S3) /home/ines/Downloads/ONE/alyx.internationalbrainlab.org/angelakilab/Subjects/NYU-46/2021-06-22/001/alf/#2025-06-01#/bodyCamera.ROIMotionEnergy.npy: 100%|██████████| 1.08M/1.08M [00:01<00:00, 582kB/s]"
     ]
    },
    {
     "name": "stdout",
     "output_type": "stream",
     "text": [
      "\u001b[36m2025-09-12 12:03:09 INFO     one.py:1475 Loading pupil data\u001b[0m\n"
     ]
    },
    {
     "name": "stderr",
     "output_type": "stream",
     "text": [
      "\n",
      "/home/ines/miniconda3/envs/iblenv/lib/python3.10/site-packages/one/util.py:428: ALFWarning: Multiple revisions: \"2025-06-18\", \"\"\n",
      "  warnings.warn(f'Multiple revisions: {rev_list}', alferr.ALFWarning)\n",
      "(S3) /home/ines/Downloads/ONE/alyx.internationalbrainlab.org/angelakilab/Subjects/NYU-46/2021-06-22/001/alf/#2025-06-18#/_ibl_leftCamera.features.pqt: 100%|██████████| 4.89M/4.89M [00:01<00:00, 2.62MB/s]"
     ]
    },
    {
     "name": "stdout",
     "output_type": "stream",
     "text": [
      "\u001b[1;33m2025-09-12 12:03:12 WARNING  one.py:1479 Could not load pupil data.\u001b[0m\n"
     ]
    },
    {
     "name": "stderr",
     "output_type": "stream",
     "text": [
      "\n"
     ]
    },
    {
     "name": "stdout",
     "output_type": "stream",
     "text": [
      "\u001b[36m2025-09-12 12:03:17 INFO     one.py:1475 Loading trials data\u001b[0m\n"
     ]
    },
    {
     "name": "stderr",
     "output_type": "stream",
     "text": [
      "/home/ines/miniconda3/envs/iblenv/lib/python3.10/site-packages/one/util.py:428: ALFWarning: Multiple revisions: \"\", \"2025-03-03\"\n",
      "  warnings.warn(f'Multiple revisions: {rev_list}', alferr.ALFWarning)\n",
      "(S3) /home/ines/Downloads/ONE/alyx.internationalbrainlab.org/angelakilab/Subjects/NYU-46/2021-06-23/001/alf/#2025-03-03#/_ibl_trials.stimOffTrigger_times.npy: 100%|██████████| 4.06k/4.06k [00:00<00:00, 5.43kB/s]\n",
      "(S3) /home/ines/Downloads/ONE/alyx.internationalbrainlab.org/angelakilab/Subjects/NYU-46/2021-06-23/001/alf/#2025-03-03#/_ibl_trials.stimOff_times.npy: 100%|██████████| 4.06k/4.06k [00:00<00:00, 11.0kB/s]\n",
      "(S3) /home/ines/Downloads/ONE/alyx.internationalbrainlab.org/angelakilab/Subjects/NYU-46/2021-06-23/001/alf/#2025-03-03#/_ibl_trials.stimOnTrigger_times.npy: 100%|██████████| 4.06k/4.06k [00:00<00:00, 12.0kB/s]\n",
      "(S3) /home/ines/Downloads/ONE/alyx.internationalbrainlab.org/angelakilab/Subjects/NYU-46/2021-06-23/001/alf/#2025-03-03#/_ibl_trials.table.pqt: 100%|██████████| 42.2k/42.2k [00:00<00:00, 70.5kB/s]"
     ]
    },
    {
     "name": "stdout",
     "output_type": "stream",
     "text": [
      "\u001b[36m2025-09-12 12:03:21 INFO     one.py:1475 Loading wheel data\u001b[0m\n"
     ]
    },
    {
     "name": "stderr",
     "output_type": "stream",
     "text": [
      "\n"
     ]
    },
    {
     "name": "stdout",
     "output_type": "stream",
     "text": [
      "\u001b[36m2025-09-12 12:03:21 INFO     one.py:1475 Loading motion_energy data\u001b[0m\n"
     ]
    },
    {
     "name": "stderr",
     "output_type": "stream",
     "text": [
      "/home/ines/miniconda3/envs/iblenv/lib/python3.10/site-packages/one/util.py:428: ALFWarning: Multiple revisions: \"\", \"2025-05-29\"\n",
      "  warnings.warn(f'Multiple revisions: {rev_list}', alferr.ALFWarning)\n",
      "(S3) /home/ines/Downloads/ONE/alyx.internationalbrainlab.org/angelakilab/Subjects/NYU-46/2021-06-23/001/alf/#2025-05-29#/leftCamera.ROIMotionEnergy.npy: 100%|██████████| 2.26M/2.26M [00:01<00:00, 1.51MB/s]\n",
      "/home/ines/miniconda3/envs/iblenv/lib/python3.10/site-packages/one/util.py:428: ALFWarning: Multiple revisions: \"\", \"2025-05-31\"\n",
      "  warnings.warn(f'Multiple revisions: {rev_list}', alferr.ALFWarning)\n",
      "(S3) /home/ines/Downloads/ONE/alyx.internationalbrainlab.org/angelakilab/Subjects/NYU-46/2021-06-23/001/alf/#2025-05-31#/rightCamera.ROIMotionEnergy.npy: 100%|██████████| 5.65M/5.65M [00:01<00:00, 2.96MB/s]\n",
      "/home/ines/miniconda3/envs/iblenv/lib/python3.10/site-packages/one/util.py:428: ALFWarning: Multiple revisions: \"\", \"2025-06-01\"\n",
      "  warnings.warn(f'Multiple revisions: {rev_list}', alferr.ALFWarning)\n",
      "(S3) /home/ines/Downloads/ONE/alyx.internationalbrainlab.org/angelakilab/Subjects/NYU-46/2021-06-23/001/alf/#2025-06-01#/bodyCamera.ROIMotionEnergy.npy: 100%|██████████| 1.13M/1.13M [00:01<00:00, 1.05MB/s]"
     ]
    },
    {
     "name": "stdout",
     "output_type": "stream",
     "text": [
      "\u001b[36m2025-09-12 12:03:28 INFO     one.py:1475 Loading pupil data\u001b[0m\n"
     ]
    },
    {
     "name": "stderr",
     "output_type": "stream",
     "text": [
      "\n",
      "/home/ines/miniconda3/envs/iblenv/lib/python3.10/site-packages/one/util.py:428: ALFWarning: Multiple revisions: \"2025-06-18\", \"\"\n",
      "  warnings.warn(f'Multiple revisions: {rev_list}', alferr.ALFWarning)\n",
      "(S3) /home/ines/Downloads/ONE/alyx.internationalbrainlab.org/angelakilab/Subjects/NYU-46/2021-06-23/001/alf/#2025-06-18#/_ibl_leftCamera.features.pqt: 100%|██████████| 5.10M/5.10M [00:01<00:00, 2.95MB/s]\n"
     ]
    },
    {
     "name": "stdout",
     "output_type": "stream",
     "text": [
      "\u001b[36m2025-09-12 12:03:36 INFO     one.py:1475 Loading trials data\u001b[0m\n"
     ]
    },
    {
     "name": "stderr",
     "output_type": "stream",
     "text": [
      "/home/ines/miniconda3/envs/iblenv/lib/python3.10/site-packages/one/util.py:428: ALFWarning: Multiple revisions: \"\", \"2025-03-03\"\n",
      "  warnings.warn(f'Multiple revisions: {rev_list}', alferr.ALFWarning)\n",
      "(S3) /home/ines/Downloads/ONE/alyx.internationalbrainlab.org/angelakilab/Subjects/NYU-46/2021-06-24/001/alf/#2025-03-03#/_ibl_trials.stimOffTrigger_times.npy: 100%|██████████| 3.34k/3.34k [00:00<00:00, 8.62kB/s]\n",
      "(S3) /home/ines/Downloads/ONE/alyx.internationalbrainlab.org/angelakilab/Subjects/NYU-46/2021-06-24/001/alf/#2025-03-03#/_ibl_trials.stimOff_times.npy: 100%|██████████| 3.34k/3.34k [00:00<00:00, 10.4kB/s]\n",
      "(S3) /home/ines/Downloads/ONE/alyx.internationalbrainlab.org/angelakilab/Subjects/NYU-46/2021-06-24/001/alf/#2025-03-03#/_ibl_trials.stimOnTrigger_times.npy: 100%|██████████| 3.34k/3.34k [00:00<00:00, 8.20kB/s]\n",
      "(S3) /home/ines/Downloads/ONE/alyx.internationalbrainlab.org/angelakilab/Subjects/NYU-46/2021-06-24/001/alf/#2025-03-03#/_ibl_trials.table.pqt: 100%|██████████| 36.4k/36.4k [00:00<00:00, 75.3kB/s]"
     ]
    },
    {
     "name": "stdout",
     "output_type": "stream",
     "text": [
      "\u001b[36m2025-09-12 12:03:40 INFO     one.py:1475 Loading wheel data\u001b[0m\n"
     ]
    },
    {
     "name": "stderr",
     "output_type": "stream",
     "text": [
      "\n"
     ]
    },
    {
     "name": "stdout",
     "output_type": "stream",
     "text": [
      "\u001b[36m2025-09-12 12:03:40 INFO     one.py:1475 Loading motion_energy data\u001b[0m\n"
     ]
    },
    {
     "name": "stderr",
     "output_type": "stream",
     "text": [
      "/home/ines/miniconda3/envs/iblenv/lib/python3.10/site-packages/one/util.py:428: ALFWarning: Multiple revisions: \"\", \"2025-05-29\"\n",
      "  warnings.warn(f'Multiple revisions: {rev_list}', alferr.ALFWarning)\n",
      "(S3) /home/ines/Downloads/ONE/alyx.internationalbrainlab.org/angelakilab/Subjects/NYU-46/2021-06-24/001/alf/#2025-05-29#/leftCamera.ROIMotionEnergy.npy: 100%|██████████| 2.15M/2.15M [00:01<00:00, 1.44MB/s]\n",
      "/home/ines/miniconda3/envs/iblenv/lib/python3.10/site-packages/one/util.py:428: ALFWarning: Multiple revisions: \"\", \"2025-05-31\"\n",
      "  warnings.warn(f'Multiple revisions: {rev_list}', alferr.ALFWarning)\n",
      "(S3) /home/ines/Downloads/ONE/alyx.internationalbrainlab.org/angelakilab/Subjects/NYU-46/2021-06-24/001/alf/#2025-05-31#/rightCamera.ROIMotionEnergy.npy: 100%|██████████| 5.37M/5.37M [00:02<00:00, 2.38MB/s]\n",
      "/home/ines/miniconda3/envs/iblenv/lib/python3.10/site-packages/one/util.py:428: ALFWarning: Multiple revisions: \"\", \"2025-06-01\"\n",
      "  warnings.warn(f'Multiple revisions: {rev_list}', alferr.ALFWarning)\n",
      "(S3) /home/ines/Downloads/ONE/alyx.internationalbrainlab.org/angelakilab/Subjects/NYU-46/2021-06-24/001/alf/_ibl_bodyCamera.times.npy: 100%|██████████| 1.08M/1.08M [00:01<00:00, 654kB/s]\n",
      "(S3) /home/ines/Downloads/ONE/alyx.internationalbrainlab.org/angelakilab/Subjects/NYU-46/2021-06-24/001/alf/#2025-06-01#/bodyCamera.ROIMotionEnergy.npy: 100%|██████████| 1.08M/1.08M [00:00<00:00, 1.13MB/s]"
     ]
    },
    {
     "name": "stdout",
     "output_type": "stream",
     "text": [
      "\u001b[36m2025-09-12 12:03:54 INFO     one.py:1475 Loading pupil data\u001b[0m\n"
     ]
    },
    {
     "name": "stderr",
     "output_type": "stream",
     "text": [
      "\n",
      "/home/ines/miniconda3/envs/iblenv/lib/python3.10/site-packages/one/util.py:428: ALFWarning: Multiple revisions: \"2025-06-18\", \"\"\n",
      "  warnings.warn(f'Multiple revisions: {rev_list}', alferr.ALFWarning)\n",
      "(S3) /home/ines/Downloads/ONE/alyx.internationalbrainlab.org/angelakilab/Subjects/NYU-46/2021-06-24/001/alf/#2025-06-18#/_ibl_leftCamera.features.pqt: 100%|██████████| 4.90M/4.90M [00:01<00:00, 2.65MB/s]\n"
     ]
    },
    {
     "name": "stdout",
     "output_type": "stream",
     "text": [
      "\u001b[36m2025-09-12 12:04:02 INFO     one.py:1475 Loading trials data\u001b[0m\n"
     ]
    },
    {
     "name": "stderr",
     "output_type": "stream",
     "text": [
      "/home/ines/miniconda3/envs/iblenv/lib/python3.10/site-packages/one/util.py:428: ALFWarning: Multiple revisions: \"\", \"2025-03-03\"\n",
      "  warnings.warn(f'Multiple revisions: {rev_list}', alferr.ALFWarning)\n",
      "(S3) /home/ines/Downloads/ONE/alyx.internationalbrainlab.org/angelakilab/Subjects/NYU-46/2021-06-25/001/alf/#2025-03-03#/_ibl_trials.stimOffTrigger_times.npy: 100%|██████████| 4.39k/4.39k [00:00<00:00, 12.8kB/s]\n",
      "(S3) /home/ines/Downloads/ONE/alyx.internationalbrainlab.org/angelakilab/Subjects/NYU-46/2021-06-25/001/alf/#2025-03-03#/_ibl_trials.stimOff_times.npy: 100%|██████████| 4.39k/4.39k [00:00<00:00, 11.8kB/s]\n",
      "(S3) /home/ines/Downloads/ONE/alyx.internationalbrainlab.org/angelakilab/Subjects/NYU-46/2021-06-25/001/alf/#2025-03-03#/_ibl_trials.stimOnTrigger_times.npy: 100%|██████████| 4.39k/4.39k [00:00<00:00, 13.3kB/s]\n",
      "(S3) /home/ines/Downloads/ONE/alyx.internationalbrainlab.org/angelakilab/Subjects/NYU-46/2021-06-25/001/alf/#2025-03-03#/_ibl_trials.table.pqt: 100%|██████████| 45.4k/45.4k [00:00<00:00, 95.9kB/s]"
     ]
    },
    {
     "name": "stdout",
     "output_type": "stream",
     "text": [
      "\u001b[36m2025-09-12 12:04:06 INFO     one.py:1475 Loading wheel data\u001b[0m\n"
     ]
    },
    {
     "name": "stderr",
     "output_type": "stream",
     "text": [
      "\n"
     ]
    },
    {
     "name": "stdout",
     "output_type": "stream",
     "text": [
      "\u001b[36m2025-09-12 12:04:06 INFO     one.py:1475 Loading motion_energy data\u001b[0m\n"
     ]
    },
    {
     "name": "stderr",
     "output_type": "stream",
     "text": [
      "/home/ines/miniconda3/envs/iblenv/lib/python3.10/site-packages/one/util.py:428: ALFWarning: Multiple revisions: \"\", \"2025-05-29\"\n",
      "  warnings.warn(f'Multiple revisions: {rev_list}', alferr.ALFWarning)\n",
      "(S3) /home/ines/Downloads/ONE/alyx.internationalbrainlab.org/angelakilab/Subjects/NYU-46/2021-06-25/001/alf/#2025-05-29#/leftCamera.ROIMotionEnergy.npy: 100%|██████████| 1.93M/1.93M [00:01<00:00, 1.57MB/s]\n",
      "/home/ines/miniconda3/envs/iblenv/lib/python3.10/site-packages/one/util.py:428: ALFWarning: Multiple revisions: \"\", \"2025-05-31\"\n",
      "  warnings.warn(f'Multiple revisions: {rev_list}', alferr.ALFWarning)\n",
      "(S3) /home/ines/Downloads/ONE/alyx.internationalbrainlab.org/angelakilab/Subjects/NYU-46/2021-06-25/001/alf/#2025-05-31#/rightCamera.ROIMotionEnergy.npy: 100%|██████████| 4.83M/4.83M [00:01<00:00, 2.86MB/s]\n",
      "/home/ines/miniconda3/envs/iblenv/lib/python3.10/site-packages/one/util.py:428: ALFWarning: Multiple revisions: \"\", \"2025-06-01\"\n",
      "  warnings.warn(f'Multiple revisions: {rev_list}', alferr.ALFWarning)\n",
      "(S3) /home/ines/Downloads/ONE/alyx.internationalbrainlab.org/angelakilab/Subjects/NYU-46/2021-06-25/001/alf/_ibl_bodyCamera.times.npy: 100%|██████████| 968k/968k [00:01<00:00, 906kB/s]\n",
      "(S3) /home/ines/Downloads/ONE/alyx.internationalbrainlab.org/angelakilab/Subjects/NYU-46/2021-06-25/001/alf/#2025-06-01#/bodyCamera.ROIMotionEnergy.npy: 100%|██████████| 968k/968k [00:00<00:00, 1.24MB/s]"
     ]
    },
    {
     "name": "stdout",
     "output_type": "stream",
     "text": [
      "\u001b[36m2025-09-12 12:04:14 INFO     one.py:1475 Loading pupil data\u001b[0m\n"
     ]
    },
    {
     "name": "stderr",
     "output_type": "stream",
     "text": [
      "\n",
      "/home/ines/miniconda3/envs/iblenv/lib/python3.10/site-packages/one/util.py:428: ALFWarning: Multiple revisions: \"2025-06-18\", \"\"\n",
      "  warnings.warn(f'Multiple revisions: {rev_list}', alferr.ALFWarning)\n",
      "(S3) /home/ines/Downloads/ONE/alyx.internationalbrainlab.org/angelakilab/Subjects/NYU-46/2021-06-25/001/alf/#2025-06-18#/_ibl_leftCamera.features.pqt: 100%|██████████| 4.44M/4.44M [00:01<00:00, 2.26MB/s]\n"
     ]
    }
   ],
   "source": [
    "for s, session in enumerate(sessions_to_process[:20]):\n",
    "    process_design_matrix(session)"
   ]
  },
  {
   "cell_type": "code",
   "execution_count": null,
   "id": "93c25bea",
   "metadata": {},
   "outputs": [],
   "source": []
  },
  {
   "cell_type": "code",
   "execution_count": null,
   "id": "e28b37cd",
   "metadata": {},
   "outputs": [],
   "source": []
  },
  {
   "cell_type": "code",
   "execution_count": null,
   "id": "99beaeed",
   "metadata": {},
   "outputs": [],
   "source": []
  },
  {
   "cell_type": "code",
   "execution_count": null,
   "id": "629076af",
   "metadata": {},
   "outputs": [],
   "source": []
  }
 ],
 "metadata": {
  "kernelspec": {
   "display_name": "iblenv",
   "language": "python",
   "name": "python3"
  },
  "language_info": {
   "codemirror_mode": {
    "name": "ipython",
    "version": 3
   },
   "file_extension": ".py",
   "mimetype": "text/x-python",
   "name": "python",
   "nbconvert_exporter": "python",
   "pygments_lexer": "ipython3",
   "version": "3.10.18"
  }
 },
 "nbformat": 4,
 "nbformat_minor": 5
}
