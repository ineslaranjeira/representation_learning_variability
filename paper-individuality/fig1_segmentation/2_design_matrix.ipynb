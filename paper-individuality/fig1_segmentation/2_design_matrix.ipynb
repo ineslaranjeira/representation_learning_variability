{
 "cells": [
  {
   "cell_type": "code",
   "execution_count": 1,
   "id": "c5cc3886",
   "metadata": {},
   "outputs": [],
   "source": [
    "import os\n",
    "import numpy as np\n",
    "import pickle\n",
    "import pandas as pd\n",
    "from scipy.stats import zscore\n",
    "from brainbox.io.one import SessionLoader\n",
    "from sklearn.preprocessing import StandardScaler\n",
    "import gc\n",
    "import concurrent.futures\n",
    "\n",
    "# from functions import get_speed, merge_licks, resample_common_time, interpolate_nans, fast_wavelet_morlet_convolution_parallel\n",
    "# from functions import merge_licks, resample_common_time, interpolate_nans, low_pass, fast_wavelet_morlet_convolution_parallel\n",
    "from functions import merge_licks, resample_common_time, interpolate_nans, low_pass\n",
    "from one.api import ONE\n",
    "one = ONE(mode='remote')\n"
   ]
  },
  {
   "cell_type": "code",
   "execution_count": 2,
   "id": "47406a6b",
   "metadata": {},
   "outputs": [],
   "source": [
    "\n",
    "\"\"\" PARAMETERS \"\"\"\n",
    "\n",
    "# bin_size = 0.017  # np.round(1/60, 3)  # No binning, number indicates sampling rate\n",
    "# first_90 = False  # Use full sessions #TODO consider removing this from here?\n",
    "\n",
    "# # Wavelet decomposition\n",
    "# f = np.array([.25, .5, 1, 2, 4, 8, 16])\n",
    "# omega0 = 5\n",
    "\n",
    "SAMPLING = {'left': 60,\n",
    "            'right': 150,\n",
    "            'body': 30}"
   ]
  },
  {
   "cell_type": "code",
   "execution_count": 3,
   "id": "9c55ec0d",
   "metadata": {},
   "outputs": [],
   "source": [
    "\"\"\" Load BWM data post-QC \"\"\"\n",
    "prefix = '/home/ines/repositories/'\n",
    "prefix = '/Users/ineslaranjeira/Documents/Repositories/'\n",
    "data_path = prefix + '/representation_learning_variability/paper-individuality/'\n",
    "filename = '1_bwm_qc_07-10-2025'\n",
    "\n",
    "\n",
    "\n",
    "data_path = prefix + 'representation_learning_variability/Video and wheel/Video QC/'\n",
    "filename = 'final_lp_qc07-10-2025'\n",
    "\n",
    "\n",
    "bwm_query = pickle.load(open(data_path+filename, \"rb\"))\n"
   ]
  },
  {
   "cell_type": "code",
   "execution_count": 4,
   "id": "fe859a79",
   "metadata": {},
   "outputs": [
    {
     "data": {
      "text/plain": [
       "218"
      ]
     },
     "execution_count": 4,
     "metadata": {},
     "output_type": "execute_result"
    }
   ],
   "source": [
    "# Loop through animals\n",
    "sessions = bwm_query['eid'].unique()\n",
    "data_path = prefix + 'representation_learning_variability/paper-individuality/data/design_matrices/'\n",
    "os.chdir(data_path)\n",
    "files = os.listdir()\n",
    "sessions_to_process = []\n",
    "\n",
    "for s, sess in enumerate(sessions):\n",
    "    file_path = one.eid2path(sess)\n",
    "\n",
    "    if prefix == '/home/ines/repositories/':\n",
    "        mouse_name = file_path.parts[8]\n",
    "    else:\n",
    "        mouse_name = file_path.parts[7]\n",
    "\n",
    "    filename = \"design_matrix_\" + str(sess) + '_'  + mouse_name\n",
    "    if filename not in files:\n",
    "        sessions_to_process.append((sess))\n",
    "\n",
    "len(sessions_to_process)\n"
   ]
  },
  {
   "cell_type": "code",
   "execution_count": 9,
   "id": "54e758e3",
   "metadata": {},
   "outputs": [],
   "source": [
    "def process_design_matrix(session):   \n",
    "\n",
    "    file_path = one.eid2path(session)\n",
    "    if prefix == '/home/ines/repositories/':\n",
    "        mouse_name = file_path.parts[8]\n",
    "    else:\n",
    "        mouse_name = file_path.parts[7]\n",
    "\n",
    "    \"\"\" LOAD VARIABLES \"\"\"\n",
    "    sl = SessionLoader(eid=session, one=one)\n",
    "    sl.load_pose(views=['left', 'right'], tracker='lightningPose')\n",
    "    sl.load_session_data(trials=True, wheel=True, motion_energy=True)\n",
    "\n",
    "    # Check if all data is available\n",
    "    if np.sum(sl.data_info['is_loaded']) >= 4:\n",
    "\n",
    "        # Poses\n",
    "        poses = sl.pose\n",
    "        lc_t = np.asarray(poses['leftCamera']['times'])\n",
    "        rc_t = np.asarray(poses['rightCamera']['times'])\n",
    "        # Motion energy\n",
    "        me = sl.motion_energy\n",
    "        mel_t = lc_t\n",
    "        mer_t = rc_t\n",
    "        motion_energy_l = interpolate_nans(me['leftCamera']['whiskerMotionEnergy'], 'left')\n",
    "        motion_energy_r = low_pass(interpolate_nans(me['rightCamera']['whiskerMotionEnergy'], 'right'), \n",
    "                                          cutoff=30, sf=SAMPLING['right'])\n",
    "        # Licks\n",
    "        features = ['tongue_end_l_x', 'tongue_end_l_y', 'tongue_end_r_x', 'tongue_end_r_y']\n",
    "        lick_t, licks = merge_licks(poses, features, common_fs=150)\n",
    "        # Paws\n",
    "        l_paw_x = interpolate_nans(poses['leftCamera']['paw_r_x'], 'left')\n",
    "        l_paw_y = interpolate_nans(poses['leftCamera']['paw_r_y'], 'left')\n",
    "        r_paw_x = low_pass(interpolate_nans(poses['rightCamera']['paw_r_x'], 'right'), \n",
    "                                          cutoff=30, sf=SAMPLING['right'])\n",
    "        r_paw_y = low_pass(interpolate_nans(poses['rightCamera']['paw_r_y'], 'right'), \n",
    "                                          cutoff=30, sf=SAMPLING['right'])\n",
    "        l_paw_t = lc_t\n",
    "        r_paw_t = rc_t\n",
    "        # Wheel\n",
    "        wheel = sl.wheel\n",
    "        wheel_t = np.asarray(wheel['times'], dtype=np.float64)\n",
    "        wheel_vel = wheel['velocity'].astype(np.float32)\n",
    "\n",
    "        # Common resampling window\n",
    "        onset = max(lc_t.min(), rc_t.min(), wheel_t.min(), lick_t.min())\n",
    "        offset = min(lc_t.max(), rc_t.max(), wheel_t.max(), lick_t.max())\n",
    "        fs = 60\n",
    "        ref_t = np.arange(onset, offset, 1 / fs, dtype=np.float64)\n",
    "\n",
    "        # Restrict to time window\n",
    "        def restrict(t, x):\n",
    "            mask = (t >= onset) & (t <= offset)\n",
    "            return t[mask], x[mask]\n",
    "\n",
    "        mel_t, motion_energy_l = restrict(mel_t, motion_energy_l)\n",
    "        mer_t, motion_energy_r = restrict(mer_t, motion_energy_r)\n",
    "        wheel_t, wheel_vel = restrict(wheel_t, wheel_vel)\n",
    "        l_paw_t_x, l_paw_x = restrict(l_paw_t, l_paw_x)\n",
    "        l_paw_t_y, l_paw_y = restrict(l_paw_t, l_paw_y)\n",
    "        r_paw_t_x, r_paw_x = restrict(r_paw_t, r_paw_x)\n",
    "        r_paw_t_y, r_paw_y = restrict(r_paw_t, r_paw_y)\n",
    "        lick_t, licks = restrict(lick_t, licks)\n",
    "\n",
    "        # Resample\n",
    "        mel_down, rt = resample_common_time(ref_t, mel_t, motion_energy_l, kind='linear')\n",
    "        mer_down, _ = resample_common_time(ref_t, mer_t, motion_energy_r, kind='linear')\n",
    "        wh_down, _ = resample_common_time(ref_t, wheel_t, wheel_vel, kind='linear')\n",
    "        lk_down, _ = resample_common_time(ref_t, lick_t, licks, kind='nearest')\n",
    "        lpx_down, _ = resample_common_time(ref_t, l_paw_t_x, l_paw_x, kind='linear')\n",
    "        lpy_down, _ = resample_common_time(ref_t, l_paw_t_y, l_paw_y, kind='linear')\n",
    "        rpx_down, _ = resample_common_time(ref_t, r_paw_t_x, r_paw_x, kind='linear')\n",
    "        rpy_down, _ = resample_common_time(ref_t, r_paw_t_y, r_paw_y, kind='linear')\n",
    "\n",
    "        # Create design matrix\n",
    "        design_matrix = pd.DataFrame({\n",
    "            'Bin': rt,\n",
    "            'Lick count': lk_down.astype(np.int8),\n",
    "            'avg_wheel_vel': wh_down,\n",
    "            'whisker_me': mel_down,  # zscore(mel_down, nan_policy='omit'),\n",
    "            'avg_whisker_me': np.nanmean([mel_down, mer_down], axis=0),  # zscore(np.nanmean([mel_down, mer_down], axis=0), nan_policy='omit'),\n",
    "            'l_paw_x': lpx_down,\n",
    "            'l_paw_y': lpy_down,\n",
    "            'r_paw_x': rpx_down,\n",
    "            'r_paw_y': rpy_down,\n",
    "        })\n",
    "\n",
    "        # \"\"\" LOAD TRIAL DATA \"\"\"\n",
    "        session_trials = sl.trials\n",
    "        session_start = list(session_trials['goCueTrigger_times'])[0]\n",
    "        design_matrix = design_matrix.loc[(design_matrix['Bin'] > session_start)]\n",
    "\n",
    "        \"\"\" SAVE DATA \"\"\"       \n",
    "        # Save unnormalized design matrix\n",
    "        data_path = prefix + 'representation_learning_variability/paper-individuality/data/design_matrices/'\n",
    "        filename = data_path + \"design_matrix_\" + str(session) + '_'  + mouse_name\n",
    "        design_matrix.to_parquet(filename, compression='gzip')  \n",
    "\n",
    "        # Save trials\n",
    "        data_path = prefix + 'representation_learning_variability/paper-individuality/data/design_matrices/'\n",
    "        filename = data_path + \"session_trials_\" + str(session) + '_'  + mouse_name\n",
    "        session_trials.to_parquet(filename, compression='gzip')  \n",
    "        \n",
    "        del design_matrix, session_trials, sl\n",
    "        gc.collect()\n",
    "\n",
    "    else:\n",
    "        print('Data missing for session '+session)  \n",
    "\n",
    "\n",
    "def parallel_process_data(sessions, function_name):\n",
    "    with concurrent.futures.ThreadPoolExecutor() as executor:\n",
    "\n",
    "        # Process each chunk in parallel\n",
    "        executor.map(function_name, sessions)"
   ]
  },
  {
   "cell_type": "code",
   "execution_count": 10,
   "id": "eed85619",
   "metadata": {},
   "outputs": [
    {
     "name": "stdout",
     "output_type": "stream",
     "text": [
      "\u001b[36m2025-09-09 12:45:36 INFO     one.py:1288 Loading trials data\u001b[0m\n"
     ]
    },
    {
     "name": "stderr",
     "output_type": "stream",
     "text": [
      "/opt/anaconda3/envs/iblenv/lib/python3.10/site-packages/one/util.py:428: ALFWarning: Multiple revisions: \"\", \"2025-03-03\"\n",
      "  warnings.warn(f'Multiple revisions: {rev_list}', alferr.ALFWarning)\n"
     ]
    },
    {
     "name": "stdout",
     "output_type": "stream",
     "text": [
      "\u001b[36m2025-09-09 12:45:37 INFO     one.py:1288 Loading wheel data\u001b[0m\n",
      "\u001b[36m2025-09-09 12:45:38 INFO     one.py:1288 Loading motion_energy data\u001b[0m\n"
     ]
    },
    {
     "name": "stderr",
     "output_type": "stream",
     "text": [
      "/opt/anaconda3/envs/iblenv/lib/python3.10/site-packages/one/util.py:428: ALFWarning: Multiple revisions: \"\", \"2025-05-29\"\n",
      "  warnings.warn(f'Multiple revisions: {rev_list}', alferr.ALFWarning)\n",
      "/opt/anaconda3/envs/iblenv/lib/python3.10/site-packages/one/util.py:428: ALFWarning: Multiple revisions: \"\", \"2025-05-31\"\n",
      "  warnings.warn(f'Multiple revisions: {rev_list}', alferr.ALFWarning)\n",
      "/opt/anaconda3/envs/iblenv/lib/python3.10/site-packages/one/util.py:428: ALFWarning: Multiple revisions: \"\", \"2025-06-01\"\n",
      "  warnings.warn(f'Multiple revisions: {rev_list}', alferr.ALFWarning)\n"
     ]
    },
    {
     "name": "stdout",
     "output_type": "stream",
     "text": [
      "\u001b[36m2025-09-09 12:45:39 INFO     one.py:1288 Loading pupil data\u001b[0m\n"
     ]
    },
    {
     "name": "stderr",
     "output_type": "stream",
     "text": [
      "/opt/anaconda3/envs/iblenv/lib/python3.10/site-packages/one/util.py:428: ALFWarning: Multiple revisions: \"2025-06-04\", \"\"\n",
      "  warnings.warn(f'Multiple revisions: {rev_list}', alferr.ALFWarning)\n",
      "(S3) /Users/ineslaranjeira/Downloads/FlatIron/angelakilab/Subjects/NYU-30/2020-10-20/001/alf/_ibl_rightCamera.lightningPose.pqt: 100%|██████████| 359M/359M [00:25<00:00, 14.0MB/s] \n"
     ]
    },
    {
     "name": "stdout",
     "output_type": "stream",
     "text": [
      "\u001b[36m2025-09-09 12:46:14 INFO     one.py:1288 Loading trials data\u001b[0m\n"
     ]
    },
    {
     "name": "stderr",
     "output_type": "stream",
     "text": [
      "/opt/anaconda3/envs/iblenv/lib/python3.10/site-packages/one/util.py:428: ALFWarning: Multiple revisions: \"\", \"2025-03-03\"\n",
      "  warnings.warn(f'Multiple revisions: {rev_list}', alferr.ALFWarning)\n"
     ]
    },
    {
     "name": "stdout",
     "output_type": "stream",
     "text": [
      "\u001b[36m2025-09-09 12:46:15 INFO     one.py:1288 Loading wheel data\u001b[0m\n",
      "\u001b[36m2025-09-09 12:46:16 INFO     one.py:1288 Loading motion_energy data\u001b[0m\n"
     ]
    },
    {
     "name": "stderr",
     "output_type": "stream",
     "text": [
      "/opt/anaconda3/envs/iblenv/lib/python3.10/site-packages/one/util.py:428: ALFWarning: Multiple revisions: \"\", \"2025-05-29\"\n",
      "  warnings.warn(f'Multiple revisions: {rev_list}', alferr.ALFWarning)\n",
      "/opt/anaconda3/envs/iblenv/lib/python3.10/site-packages/one/util.py:428: ALFWarning: Multiple revisions: \"\", \"2025-05-31\"\n",
      "  warnings.warn(f'Multiple revisions: {rev_list}', alferr.ALFWarning)\n",
      "/opt/anaconda3/envs/iblenv/lib/python3.10/site-packages/one/util.py:428: ALFWarning: Multiple revisions: \"\", \"2025-06-01\"\n",
      "  warnings.warn(f'Multiple revisions: {rev_list}', alferr.ALFWarning)\n"
     ]
    },
    {
     "name": "stdout",
     "output_type": "stream",
     "text": [
      "\u001b[36m2025-09-09 12:46:17 INFO     one.py:1288 Loading pupil data\u001b[0m\n"
     ]
    },
    {
     "name": "stderr",
     "output_type": "stream",
     "text": [
      "/opt/anaconda3/envs/iblenv/lib/python3.10/site-packages/one/util.py:428: ALFWarning: Multiple revisions: \"2025-06-18\", \"\"\n",
      "  warnings.warn(f'Multiple revisions: {rev_list}', alferr.ALFWarning)\n"
     ]
    },
    {
     "name": "stdout",
     "output_type": "stream",
     "text": [
      "\u001b[1;33m2025-09-09 12:46:17 WARNING  one.py:1292 Could not load pupil data.\u001b[0m\n"
     ]
    },
    {
     "name": "stderr",
     "output_type": "stream",
     "text": [
      "(S3) /Users/ineslaranjeira/Downloads/FlatIron/angelakilab/Subjects/NYU-30/2020-10-21/001/alf/_ibl_rightCamera.lightningPose.pqt: 100%|██████████| 359M/359M [00:24<00:00, 14.4MB/s] \n"
     ]
    },
    {
     "name": "stdout",
     "output_type": "stream",
     "text": [
      "\u001b[36m2025-09-09 12:46:50 INFO     one.py:1288 Loading trials data\u001b[0m\n"
     ]
    },
    {
     "name": "stderr",
     "output_type": "stream",
     "text": [
      "/opt/anaconda3/envs/iblenv/lib/python3.10/site-packages/one/util.py:428: ALFWarning: Multiple revisions: \"\", \"2025-03-03\"\n",
      "  warnings.warn(f'Multiple revisions: {rev_list}', alferr.ALFWarning)\n"
     ]
    },
    {
     "name": "stdout",
     "output_type": "stream",
     "text": [
      "\u001b[36m2025-09-09 12:46:51 INFO     one.py:1288 Loading wheel data\u001b[0m\n",
      "\u001b[36m2025-09-09 12:46:52 INFO     one.py:1288 Loading motion_energy data\u001b[0m\n"
     ]
    },
    {
     "name": "stderr",
     "output_type": "stream",
     "text": [
      "/opt/anaconda3/envs/iblenv/lib/python3.10/site-packages/one/util.py:428: ALFWarning: Multiple revisions: \"\", \"2025-05-29\"\n",
      "  warnings.warn(f'Multiple revisions: {rev_list}', alferr.ALFWarning)\n",
      "/opt/anaconda3/envs/iblenv/lib/python3.10/site-packages/one/util.py:428: ALFWarning: Multiple revisions: \"\", \"2025-05-31\"\n",
      "  warnings.warn(f'Multiple revisions: {rev_list}', alferr.ALFWarning)\n",
      "/opt/anaconda3/envs/iblenv/lib/python3.10/site-packages/one/util.py:428: ALFWarning: Multiple revisions: \"\", \"2025-06-01\"\n",
      "  warnings.warn(f'Multiple revisions: {rev_list}', alferr.ALFWarning)\n"
     ]
    },
    {
     "name": "stdout",
     "output_type": "stream",
     "text": [
      "\u001b[36m2025-09-09 12:46:53 INFO     one.py:1288 Loading pupil data\u001b[0m\n"
     ]
    },
    {
     "name": "stderr",
     "output_type": "stream",
     "text": [
      "/opt/anaconda3/envs/iblenv/lib/python3.10/site-packages/one/util.py:428: ALFWarning: Multiple revisions: \"2025-06-18\", \"\"\n",
      "  warnings.warn(f'Multiple revisions: {rev_list}', alferr.ALFWarning)\n"
     ]
    },
    {
     "name": "stdout",
     "output_type": "stream",
     "text": [
      "\u001b[1;33m2025-09-09 12:46:53 WARNING  one.py:1292 Could not load pupil data.\u001b[0m\n"
     ]
    },
    {
     "name": "stderr",
     "output_type": "stream",
     "text": [
      "(S3) /Users/ineslaranjeira/Downloads/FlatIron/angelakilab/Subjects/NYU-30/2020-10-22/001/alf/_ibl_rightCamera.lightningPose.pqt: 100%|██████████| 415M/415M [00:26<00:00, 15.4MB/s] \n"
     ]
    },
    {
     "name": "stdout",
     "output_type": "stream",
     "text": [
      "\u001b[36m2025-09-09 12:47:29 INFO     one.py:1288 Loading trials data\u001b[0m\n"
     ]
    },
    {
     "name": "stderr",
     "output_type": "stream",
     "text": [
      "/opt/anaconda3/envs/iblenv/lib/python3.10/site-packages/one/util.py:428: ALFWarning: Multiple revisions: \"\", \"2025-03-03\"\n",
      "  warnings.warn(f'Multiple revisions: {rev_list}', alferr.ALFWarning)\n"
     ]
    },
    {
     "name": "stdout",
     "output_type": "stream",
     "text": [
      "\u001b[36m2025-09-09 12:47:30 INFO     one.py:1288 Loading wheel data\u001b[0m\n",
      "\u001b[36m2025-09-09 12:47:31 INFO     one.py:1288 Loading motion_energy data\u001b[0m\n"
     ]
    },
    {
     "name": "stderr",
     "output_type": "stream",
     "text": [
      "/opt/anaconda3/envs/iblenv/lib/python3.10/site-packages/one/util.py:428: ALFWarning: Multiple revisions: \"\", \"2025-05-31\"\n",
      "  warnings.warn(f'Multiple revisions: {rev_list}', alferr.ALFWarning)\n",
      "/opt/anaconda3/envs/iblenv/lib/python3.10/site-packages/one/util.py:428: ALFWarning: Multiple revisions: \"\", \"2025-06-01\"\n",
      "  warnings.warn(f'Multiple revisions: {rev_list}', alferr.ALFWarning)\n",
      "/opt/anaconda3/envs/iblenv/lib/python3.10/site-packages/one/util.py:428: ALFWarning: Multiple revisions: \"\", \"2025-06-02\"\n",
      "  warnings.warn(f'Multiple revisions: {rev_list}', alferr.ALFWarning)\n"
     ]
    },
    {
     "name": "stdout",
     "output_type": "stream",
     "text": [
      "\u001b[36m2025-09-09 12:47:32 INFO     one.py:1288 Loading pupil data\u001b[0m\n"
     ]
    },
    {
     "name": "stderr",
     "output_type": "stream",
     "text": [
      "/opt/anaconda3/envs/iblenv/lib/python3.10/site-packages/one/util.py:428: ALFWarning: Multiple revisions: \"2025-06-18\", \"\"\n",
      "  warnings.warn(f'Multiple revisions: {rev_list}', alferr.ALFWarning)\n"
     ]
    },
    {
     "name": "stdout",
     "output_type": "stream",
     "text": [
      "\u001b[1;33m2025-09-09 12:47:32 WARNING  one.py:1292 Could not load pupil data.\u001b[0m\n"
     ]
    },
    {
     "name": "stderr",
     "output_type": "stream",
     "text": [
      "local file size mismatch on dataset: angelakilab/Subjects/NYU-39/2021-05-10/001/alf/_ibl_leftCamera.lightningPose.pqt\n",
      "(S3) /Users/ineslaranjeira/Downloads/FlatIron/angelakilab/Subjects/NYU-39/2021-05-10/001/alf/_ibl_leftCamera.lightningPose.pqt: 100%|██████████| 113M/113M [00:08<00:00, 12.7MB/s] \n"
     ]
    },
    {
     "name": "stdout",
     "output_type": "stream",
     "text": [
      "\u001b[36m2025-09-09 12:47:51 INFO     one.py:1288 Loading trials data\u001b[0m\n"
     ]
    },
    {
     "name": "stderr",
     "output_type": "stream",
     "text": [
      "/opt/anaconda3/envs/iblenv/lib/python3.10/site-packages/one/util.py:428: ALFWarning: Multiple revisions: \"\", \"2025-03-03\"\n",
      "  warnings.warn(f'Multiple revisions: {rev_list}', alferr.ALFWarning)\n"
     ]
    },
    {
     "name": "stdout",
     "output_type": "stream",
     "text": [
      "\u001b[36m2025-09-09 12:47:52 INFO     one.py:1288 Loading wheel data\u001b[0m\n",
      "\u001b[36m2025-09-09 12:47:53 INFO     one.py:1288 Loading motion_energy data\u001b[0m\n"
     ]
    },
    {
     "name": "stderr",
     "output_type": "stream",
     "text": [
      "/opt/anaconda3/envs/iblenv/lib/python3.10/site-packages/one/util.py:428: ALFWarning: Multiple revisions: \"\", \"2025-05-29\"\n",
      "  warnings.warn(f'Multiple revisions: {rev_list}', alferr.ALFWarning)\n",
      "/opt/anaconda3/envs/iblenv/lib/python3.10/site-packages/one/util.py:428: ALFWarning: Multiple revisions: \"\", \"2025-05-31\"\n",
      "  warnings.warn(f'Multiple revisions: {rev_list}', alferr.ALFWarning)\n",
      "/opt/anaconda3/envs/iblenv/lib/python3.10/site-packages/one/util.py:428: ALFWarning: Multiple revisions: \"\", \"2025-06-01\"\n",
      "  warnings.warn(f'Multiple revisions: {rev_list}', alferr.ALFWarning)\n"
     ]
    },
    {
     "name": "stdout",
     "output_type": "stream",
     "text": [
      "\u001b[36m2025-09-09 12:47:53 INFO     one.py:1288 Loading pupil data\u001b[0m\n"
     ]
    },
    {
     "name": "stderr",
     "output_type": "stream",
     "text": [
      "/opt/anaconda3/envs/iblenv/lib/python3.10/site-packages/one/util.py:428: ALFWarning: Multiple revisions: \"2025-06-18\", \"\"\n",
      "  warnings.warn(f'Multiple revisions: {rev_list}', alferr.ALFWarning)\n"
     ]
    },
    {
     "name": "stdout",
     "output_type": "stream",
     "text": [
      "\u001b[1;33m2025-09-09 12:47:54 WARNING  one.py:1292 Could not load pupil data.\u001b[0m\n"
     ]
    },
    {
     "name": "stderr",
     "output_type": "stream",
     "text": [
      "local file size mismatch on dataset: angelakilab/Subjects/NYU-39/2021-05-11/001/alf/_ibl_leftCamera.lightningPose.pqt\n",
      "(S3) /Users/ineslaranjeira/Downloads/FlatIron/angelakilab/Subjects/NYU-39/2021-05-11/001/alf/_ibl_leftCamera.lightningPose.pqt: 100%|██████████| 114M/114M [00:10<00:00, 10.7MB/s] \n"
     ]
    },
    {
     "name": "stdout",
     "output_type": "stream",
     "text": [
      "\u001b[36m2025-09-09 12:48:12 INFO     one.py:1288 Loading trials data\u001b[0m\n"
     ]
    },
    {
     "name": "stderr",
     "output_type": "stream",
     "text": [
      "/opt/anaconda3/envs/iblenv/lib/python3.10/site-packages/one/util.py:428: ALFWarning: Multiple revisions: \"\", \"2025-03-03\"\n",
      "  warnings.warn(f'Multiple revisions: {rev_list}', alferr.ALFWarning)\n"
     ]
    },
    {
     "name": "stdout",
     "output_type": "stream",
     "text": [
      "\u001b[36m2025-09-09 12:48:13 INFO     one.py:1288 Loading wheel data\u001b[0m\n",
      "\u001b[36m2025-09-09 12:48:14 INFO     one.py:1288 Loading motion_energy data\u001b[0m\n"
     ]
    },
    {
     "name": "stderr",
     "output_type": "stream",
     "text": [
      "/opt/anaconda3/envs/iblenv/lib/python3.10/site-packages/one/util.py:428: ALFWarning: Multiple revisions: \"\", \"2025-05-29\"\n",
      "  warnings.warn(f'Multiple revisions: {rev_list}', alferr.ALFWarning)\n",
      "/opt/anaconda3/envs/iblenv/lib/python3.10/site-packages/one/util.py:428: ALFWarning: Multiple revisions: \"\", \"2025-05-31\"\n",
      "  warnings.warn(f'Multiple revisions: {rev_list}', alferr.ALFWarning)\n",
      "/opt/anaconda3/envs/iblenv/lib/python3.10/site-packages/one/util.py:428: ALFWarning: Multiple revisions: \"\", \"2025-06-01\"\n",
      "  warnings.warn(f'Multiple revisions: {rev_list}', alferr.ALFWarning)\n"
     ]
    },
    {
     "name": "stdout",
     "output_type": "stream",
     "text": [
      "\u001b[36m2025-09-09 12:48:15 INFO     one.py:1288 Loading pupil data\u001b[0m\n"
     ]
    },
    {
     "name": "stderr",
     "output_type": "stream",
     "text": [
      "/opt/anaconda3/envs/iblenv/lib/python3.10/site-packages/one/util.py:428: ALFWarning: Multiple revisions: \"2025-06-18\", \"\"\n",
      "  warnings.warn(f'Multiple revisions: {rev_list}', alferr.ALFWarning)\n"
     ]
    },
    {
     "name": "stdout",
     "output_type": "stream",
     "text": [
      "\u001b[1;33m2025-09-09 12:48:15 WARNING  one.py:1292 Could not load pupil data.\u001b[0m\n"
     ]
    },
    {
     "name": "stderr",
     "output_type": "stream",
     "text": [
      "local file size mismatch on dataset: angelakilab/Subjects/NYU-39/2021-05-12/001/alf/_ibl_leftCamera.lightningPose.pqt\n",
      "(S3) /Users/ineslaranjeira/Downloads/FlatIron/angelakilab/Subjects/NYU-39/2021-05-12/001/alf/_ibl_leftCamera.lightningPose.pqt: 100%|██████████| 116M/116M [00:11<00:00, 10.3MB/s] \n"
     ]
    },
    {
     "name": "stdout",
     "output_type": "stream",
     "text": [
      "\u001b[36m2025-09-09 12:48:34 INFO     one.py:1288 Loading trials data\u001b[0m\n"
     ]
    },
    {
     "name": "stderr",
     "output_type": "stream",
     "text": [
      "/opt/anaconda3/envs/iblenv/lib/python3.10/site-packages/one/util.py:428: ALFWarning: Multiple revisions: \"\", \"2025-03-03\"\n",
      "  warnings.warn(f'Multiple revisions: {rev_list}', alferr.ALFWarning)\n"
     ]
    },
    {
     "name": "stdout",
     "output_type": "stream",
     "text": [
      "\u001b[36m2025-09-09 12:48:35 INFO     one.py:1288 Loading wheel data\u001b[0m\n",
      "\u001b[36m2025-09-09 12:48:36 INFO     one.py:1288 Loading motion_energy data\u001b[0m\n"
     ]
    },
    {
     "name": "stderr",
     "output_type": "stream",
     "text": [
      "/opt/anaconda3/envs/iblenv/lib/python3.10/site-packages/one/util.py:428: ALFWarning: Multiple revisions: \"\", \"2025-05-29\"\n",
      "  warnings.warn(f'Multiple revisions: {rev_list}', alferr.ALFWarning)\n",
      "/opt/anaconda3/envs/iblenv/lib/python3.10/site-packages/one/util.py:428: ALFWarning: Multiple revisions: \"\", \"2025-05-31\"\n",
      "  warnings.warn(f'Multiple revisions: {rev_list}', alferr.ALFWarning)\n",
      "/opt/anaconda3/envs/iblenv/lib/python3.10/site-packages/one/util.py:428: ALFWarning: Multiple revisions: \"\", \"2025-06-01\"\n",
      "  warnings.warn(f'Multiple revisions: {rev_list}', alferr.ALFWarning)\n"
     ]
    },
    {
     "name": "stdout",
     "output_type": "stream",
     "text": [
      "\u001b[36m2025-09-09 12:48:37 INFO     one.py:1288 Loading pupil data\u001b[0m\n"
     ]
    },
    {
     "name": "stderr",
     "output_type": "stream",
     "text": [
      "/opt/anaconda3/envs/iblenv/lib/python3.10/site-packages/one/util.py:428: ALFWarning: Multiple revisions: \"2025-06-18\", \"\"\n",
      "  warnings.warn(f'Multiple revisions: {rev_list}', alferr.ALFWarning)\n"
     ]
    },
    {
     "name": "stdout",
     "output_type": "stream",
     "text": [
      "\u001b[1;33m2025-09-09 12:48:37 WARNING  one.py:1292 Could not load pupil data.\u001b[0m\n"
     ]
    },
    {
     "name": "stderr",
     "output_type": "stream",
     "text": [
      "local file size mismatch on dataset: angelakilab/Subjects/NYU-39/2021-05-13/002/alf/_ibl_leftCamera.lightningPose.pqt\n",
      "(S3) /Users/ineslaranjeira/Downloads/FlatIron/angelakilab/Subjects/NYU-39/2021-05-13/002/alf/_ibl_leftCamera.lightningPose.pqt: 100%|██████████| 130M/130M [00:08<00:00, 15.4MB/s] \n",
      "(S3) /Users/ineslaranjeira/Downloads/FlatIron/angelakilab/Subjects/NYU-39/2021-05-13/002/alf/_ibl_rightCamera.lightningPose.pqt: 100%|██████████| 295M/295M [00:23<00:00, 12.7MB/s] \n"
     ]
    },
    {
     "name": "stdout",
     "output_type": "stream",
     "text": [
      "\u001b[36m2025-09-09 12:49:16 INFO     one.py:1288 Loading trials data\u001b[0m\n"
     ]
    },
    {
     "name": "stderr",
     "output_type": "stream",
     "text": [
      "/opt/anaconda3/envs/iblenv/lib/python3.10/site-packages/one/util.py:428: ALFWarning: Multiple revisions: \"\", \"2025-03-03\"\n",
      "  warnings.warn(f'Multiple revisions: {rev_list}', alferr.ALFWarning)\n"
     ]
    },
    {
     "name": "stdout",
     "output_type": "stream",
     "text": [
      "\u001b[36m2025-09-09 12:49:17 INFO     one.py:1288 Loading wheel data\u001b[0m\n",
      "\u001b[36m2025-09-09 12:49:18 INFO     one.py:1288 Loading motion_energy data\u001b[0m\n"
     ]
    },
    {
     "name": "stderr",
     "output_type": "stream",
     "text": [
      "/opt/anaconda3/envs/iblenv/lib/python3.10/site-packages/one/util.py:428: ALFWarning: Multiple revisions: \"\", \"2025-05-29\"\n",
      "  warnings.warn(f'Multiple revisions: {rev_list}', alferr.ALFWarning)\n",
      "/opt/anaconda3/envs/iblenv/lib/python3.10/site-packages/one/util.py:428: ALFWarning: Multiple revisions: \"\", \"2025-05-31\"\n",
      "  warnings.warn(f'Multiple revisions: {rev_list}', alferr.ALFWarning)\n",
      "/opt/anaconda3/envs/iblenv/lib/python3.10/site-packages/one/util.py:428: ALFWarning: Multiple revisions: \"\", \"2025-06-01\"\n",
      "  warnings.warn(f'Multiple revisions: {rev_list}', alferr.ALFWarning)\n"
     ]
    },
    {
     "name": "stdout",
     "output_type": "stream",
     "text": [
      "\u001b[36m2025-09-09 12:49:19 INFO     one.py:1288 Loading pupil data\u001b[0m\n"
     ]
    },
    {
     "name": "stderr",
     "output_type": "stream",
     "text": [
      "/opt/anaconda3/envs/iblenv/lib/python3.10/site-packages/one/util.py:428: ALFWarning: Multiple revisions: \"2025-06-18\", \"\"\n",
      "  warnings.warn(f'Multiple revisions: {rev_list}', alferr.ALFWarning)\n"
     ]
    },
    {
     "name": "stdout",
     "output_type": "stream",
     "text": [
      "\u001b[1;33m2025-09-09 12:49:20 WARNING  one.py:1292 Could not load pupil data.\u001b[0m\n"
     ]
    },
    {
     "name": "stderr",
     "output_type": "stream",
     "text": [
      "local file size mismatch on dataset: angelakilab/Subjects/NYU-39/2021-05-14/001/alf/_ibl_leftCamera.lightningPose.pqt\n",
      "(S3) /Users/ineslaranjeira/Downloads/FlatIron/angelakilab/Subjects/NYU-39/2021-05-14/001/alf/_ibl_leftCamera.lightningPose.pqt: 100%|██████████| 123M/123M [00:12<00:00, 9.98MB/s] \n",
      "(S3) /Users/ineslaranjeira/Downloads/FlatIron/angelakilab/Subjects/NYU-39/2021-05-14/001/alf/_ibl_rightCamera.lightningPose.pqt: 100%|██████████| 278M/278M [00:20<00:00, 13.4MB/s] \n"
     ]
    },
    {
     "name": "stdout",
     "output_type": "stream",
     "text": [
      "\u001b[36m2025-09-09 12:50:01 INFO     one.py:1288 Loading trials data\u001b[0m\n"
     ]
    },
    {
     "name": "stderr",
     "output_type": "stream",
     "text": [
      "/opt/anaconda3/envs/iblenv/lib/python3.10/site-packages/one/util.py:428: ALFWarning: Multiple revisions: \"\", \"2025-03-03\"\n",
      "  warnings.warn(f'Multiple revisions: {rev_list}', alferr.ALFWarning)\n"
     ]
    },
    {
     "name": "stdout",
     "output_type": "stream",
     "text": [
      "\u001b[36m2025-09-09 12:50:02 INFO     one.py:1288 Loading wheel data\u001b[0m\n",
      "\u001b[36m2025-09-09 12:50:03 INFO     one.py:1288 Loading motion_energy data\u001b[0m\n"
     ]
    },
    {
     "name": "stderr",
     "output_type": "stream",
     "text": [
      "/opt/anaconda3/envs/iblenv/lib/python3.10/site-packages/one/util.py:428: ALFWarning: Multiple revisions: \"\", \"2025-05-29\"\n",
      "  warnings.warn(f'Multiple revisions: {rev_list}', alferr.ALFWarning)\n",
      "/opt/anaconda3/envs/iblenv/lib/python3.10/site-packages/one/util.py:428: ALFWarning: Multiple revisions: \"\", \"2025-05-31\"\n",
      "  warnings.warn(f'Multiple revisions: {rev_list}', alferr.ALFWarning)\n",
      "/opt/anaconda3/envs/iblenv/lib/python3.10/site-packages/one/util.py:428: ALFWarning: Multiple revisions: \"\", \"2025-06-01\"\n",
      "  warnings.warn(f'Multiple revisions: {rev_list}', alferr.ALFWarning)\n"
     ]
    },
    {
     "name": "stdout",
     "output_type": "stream",
     "text": [
      "\u001b[36m2025-09-09 12:50:04 INFO     one.py:1288 Loading pupil data\u001b[0m\n"
     ]
    },
    {
     "name": "stderr",
     "output_type": "stream",
     "text": [
      "/opt/anaconda3/envs/iblenv/lib/python3.10/site-packages/one/util.py:428: ALFWarning: Multiple revisions: \"2025-06-18\", \"\"\n",
      "  warnings.warn(f'Multiple revisions: {rev_list}', alferr.ALFWarning)\n"
     ]
    },
    {
     "name": "stdout",
     "output_type": "stream",
     "text": [
      "\u001b[1;33m2025-09-09 12:50:04 WARNING  one.py:1292 Could not load pupil data.\u001b[0m\n"
     ]
    },
    {
     "name": "stderr",
     "output_type": "stream",
     "text": [
      "local file size mismatch on dataset: angelakilab/Subjects/NYU-40/2021-04-13/001/alf/_ibl_leftCamera.lightningPose.pqt\n",
      "(S3) /Users/ineslaranjeira/Downloads/FlatIron/angelakilab/Subjects/NYU-40/2021-04-13/001/alf/_ibl_leftCamera.lightningPose.pqt: 100%|██████████| 116M/116M [00:08<00:00, 13.5MB/s] \n",
      "(S3) /Users/ineslaranjeira/Downloads/FlatIron/angelakilab/Subjects/NYU-40/2021-04-13/001/alf/_ibl_rightCamera.lightningPose.pqt: 100%|██████████| 266M/266M [00:23<00:00, 11.6MB/s] \n"
     ]
    },
    {
     "name": "stdout",
     "output_type": "stream",
     "text": [
      "\u001b[36m2025-09-09 12:50:43 INFO     one.py:1288 Loading trials data\u001b[0m\n"
     ]
    },
    {
     "name": "stderr",
     "output_type": "stream",
     "text": [
      "/opt/anaconda3/envs/iblenv/lib/python3.10/site-packages/one/util.py:428: ALFWarning: Multiple revisions: \"\", \"2025-03-03\"\n",
      "  warnings.warn(f'Multiple revisions: {rev_list}', alferr.ALFWarning)\n"
     ]
    },
    {
     "name": "stdout",
     "output_type": "stream",
     "text": [
      "\u001b[36m2025-09-09 12:50:44 INFO     one.py:1288 Loading wheel data\u001b[0m\n",
      "\u001b[36m2025-09-09 12:50:45 INFO     one.py:1288 Loading motion_energy data\u001b[0m\n"
     ]
    },
    {
     "name": "stderr",
     "output_type": "stream",
     "text": [
      "/opt/anaconda3/envs/iblenv/lib/python3.10/site-packages/one/util.py:428: ALFWarning: Multiple revisions: \"\", \"2025-05-29\"\n",
      "  warnings.warn(f'Multiple revisions: {rev_list}', alferr.ALFWarning)\n",
      "/opt/anaconda3/envs/iblenv/lib/python3.10/site-packages/one/util.py:428: ALFWarning: Multiple revisions: \"\", \"2025-05-31\"\n",
      "  warnings.warn(f'Multiple revisions: {rev_list}', alferr.ALFWarning)\n",
      "/opt/anaconda3/envs/iblenv/lib/python3.10/site-packages/one/util.py:428: ALFWarning: Multiple revisions: \"\", \"2025-06-01\"\n",
      "  warnings.warn(f'Multiple revisions: {rev_list}', alferr.ALFWarning)\n"
     ]
    },
    {
     "name": "stdout",
     "output_type": "stream",
     "text": [
      "\u001b[36m2025-09-09 12:50:46 INFO     one.py:1288 Loading pupil data\u001b[0m\n"
     ]
    },
    {
     "name": "stderr",
     "output_type": "stream",
     "text": [
      "/opt/anaconda3/envs/iblenv/lib/python3.10/site-packages/one/util.py:428: ALFWarning: Multiple revisions: \"2025-06-18\", \"\"\n",
      "  warnings.warn(f'Multiple revisions: {rev_list}', alferr.ALFWarning)\n",
      "local file size mismatch on dataset: angelakilab/Subjects/NYU-40/2021-04-14/001/alf/_ibl_leftCamera.lightningPose.pqt\n",
      "(S3) /Users/ineslaranjeira/Downloads/FlatIron/angelakilab/Subjects/NYU-40/2021-04-14/001/alf/_ibl_leftCamera.lightningPose.pqt: 100%|██████████| 123M/123M [00:08<00:00, 14.6MB/s] \n",
      "(S3) /Users/ineslaranjeira/Downloads/FlatIron/angelakilab/Subjects/NYU-40/2021-04-14/001/alf/_ibl_rightCamera.lightningPose.pqt: 100%|██████████| 282M/282M [00:20<00:00, 13.7MB/s] \n"
     ]
    },
    {
     "name": "stdout",
     "output_type": "stream",
     "text": [
      "\u001b[36m2025-09-09 12:51:23 INFO     one.py:1288 Loading trials data\u001b[0m\n"
     ]
    },
    {
     "name": "stderr",
     "output_type": "stream",
     "text": [
      "/opt/anaconda3/envs/iblenv/lib/python3.10/site-packages/one/util.py:428: ALFWarning: Multiple revisions: \"\", \"2025-03-03\"\n",
      "  warnings.warn(f'Multiple revisions: {rev_list}', alferr.ALFWarning)\n"
     ]
    },
    {
     "name": "stdout",
     "output_type": "stream",
     "text": [
      "\u001b[36m2025-09-09 12:51:24 INFO     one.py:1288 Loading wheel data\u001b[0m\n",
      "\u001b[36m2025-09-09 12:51:25 INFO     one.py:1288 Loading motion_energy data\u001b[0m\n"
     ]
    },
    {
     "name": "stderr",
     "output_type": "stream",
     "text": [
      "/opt/anaconda3/envs/iblenv/lib/python3.10/site-packages/one/util.py:428: ALFWarning: Multiple revisions: \"\", \"2025-05-29\"\n",
      "  warnings.warn(f'Multiple revisions: {rev_list}', alferr.ALFWarning)\n",
      "/opt/anaconda3/envs/iblenv/lib/python3.10/site-packages/one/util.py:428: ALFWarning: Multiple revisions: \"\", \"2025-05-31\"\n",
      "  warnings.warn(f'Multiple revisions: {rev_list}', alferr.ALFWarning)\n",
      "/opt/anaconda3/envs/iblenv/lib/python3.10/site-packages/one/util.py:428: ALFWarning: Multiple revisions: \"\", \"2025-06-01\"\n",
      "  warnings.warn(f'Multiple revisions: {rev_list}', alferr.ALFWarning)\n"
     ]
    },
    {
     "name": "stdout",
     "output_type": "stream",
     "text": [
      "\u001b[36m2025-09-09 12:51:26 INFO     one.py:1288 Loading pupil data\u001b[0m\n"
     ]
    },
    {
     "name": "stderr",
     "output_type": "stream",
     "text": [
      "/opt/anaconda3/envs/iblenv/lib/python3.10/site-packages/one/util.py:428: ALFWarning: Multiple revisions: \"2025-06-18\", \"\"\n",
      "  warnings.warn(f'Multiple revisions: {rev_list}', alferr.ALFWarning)\n"
     ]
    },
    {
     "name": "stdout",
     "output_type": "stream",
     "text": [
      "\u001b[1;33m2025-09-09 12:51:26 WARNING  one.py:1292 Could not load pupil data.\u001b[0m\n"
     ]
    },
    {
     "name": "stderr",
     "output_type": "stream",
     "text": [
      "local file size mismatch on dataset: angelakilab/Subjects/NYU-40/2021-04-15/001/alf/_ibl_leftCamera.lightningPose.pqt\n",
      "(S3) /Users/ineslaranjeira/Downloads/FlatIron/angelakilab/Subjects/NYU-40/2021-04-15/001/alf/_ibl_leftCamera.lightningPose.pqt: 100%|██████████| 118M/118M [00:09<00:00, 12.5MB/s] \n",
      "(S3) /Users/ineslaranjeira/Downloads/FlatIron/angelakilab/Subjects/NYU-40/2021-04-15/001/alf/_ibl_rightCamera.lightningPose.pqt: 100%|██████████| 268M/268M [00:22<00:00, 11.8MB/s] \n"
     ]
    },
    {
     "name": "stdout",
     "output_type": "stream",
     "text": [
      "\u001b[36m2025-09-09 12:52:06 INFO     one.py:1288 Loading trials data\u001b[0m\n"
     ]
    },
    {
     "name": "stderr",
     "output_type": "stream",
     "text": [
      "/opt/anaconda3/envs/iblenv/lib/python3.10/site-packages/one/util.py:428: ALFWarning: Multiple revisions: \"\", \"2025-03-03\"\n",
      "  warnings.warn(f'Multiple revisions: {rev_list}', alferr.ALFWarning)\n"
     ]
    },
    {
     "name": "stdout",
     "output_type": "stream",
     "text": [
      "\u001b[36m2025-09-09 12:52:07 INFO     one.py:1288 Loading wheel data\u001b[0m\n",
      "\u001b[36m2025-09-09 12:52:08 INFO     one.py:1288 Loading motion_energy data\u001b[0m\n"
     ]
    },
    {
     "name": "stderr",
     "output_type": "stream",
     "text": [
      "/opt/anaconda3/envs/iblenv/lib/python3.10/site-packages/one/util.py:428: ALFWarning: Multiple revisions: \"\", \"2025-05-29\"\n",
      "  warnings.warn(f'Multiple revisions: {rev_list}', alferr.ALFWarning)\n",
      "/opt/anaconda3/envs/iblenv/lib/python3.10/site-packages/one/util.py:428: ALFWarning: Multiple revisions: \"\", \"2025-05-31\"\n",
      "  warnings.warn(f'Multiple revisions: {rev_list}', alferr.ALFWarning)\n",
      "/opt/anaconda3/envs/iblenv/lib/python3.10/site-packages/one/util.py:428: ALFWarning: Multiple revisions: \"\", \"2025-06-01\"\n",
      "  warnings.warn(f'Multiple revisions: {rev_list}', alferr.ALFWarning)\n"
     ]
    },
    {
     "name": "stdout",
     "output_type": "stream",
     "text": [
      "\u001b[36m2025-09-09 12:52:09 INFO     one.py:1288 Loading pupil data\u001b[0m\n"
     ]
    },
    {
     "name": "stderr",
     "output_type": "stream",
     "text": [
      "/opt/anaconda3/envs/iblenv/lib/python3.10/site-packages/one/util.py:428: ALFWarning: Multiple revisions: \"2025-06-18\", \"\"\n",
      "  warnings.warn(f'Multiple revisions: {rev_list}', alferr.ALFWarning)\n"
     ]
    },
    {
     "name": "stdout",
     "output_type": "stream",
     "text": [
      "\u001b[1;33m2025-09-09 12:52:09 WARNING  one.py:1292 Could not load pupil data.\u001b[0m\n"
     ]
    },
    {
     "name": "stderr",
     "output_type": "stream",
     "text": [
      "local file size mismatch on dataset: angelakilab/Subjects/NYU-40/2021-04-16/002/alf/_ibl_leftCamera.lightningPose.pqt\n",
      "(S3) /Users/ineslaranjeira/Downloads/FlatIron/angelakilab/Subjects/NYU-40/2021-04-16/002/alf/_ibl_leftCamera.lightningPose.pqt: 100%|██████████| 110M/110M [00:12<00:00, 8.48MB/s] \n"
     ]
    },
    {
     "name": "stdout",
     "output_type": "stream",
     "text": [
      "\u001b[36m2025-09-09 12:52:29 INFO     one.py:1288 Loading trials data\u001b[0m\n"
     ]
    },
    {
     "name": "stderr",
     "output_type": "stream",
     "text": [
      "/opt/anaconda3/envs/iblenv/lib/python3.10/site-packages/one/util.py:428: ALFWarning: Multiple revisions: \"\", \"2025-03-03\"\n",
      "  warnings.warn(f'Multiple revisions: {rev_list}', alferr.ALFWarning)\n"
     ]
    },
    {
     "name": "stdout",
     "output_type": "stream",
     "text": [
      "\u001b[36m2025-09-09 12:52:30 INFO     one.py:1288 Loading wheel data\u001b[0m\n",
      "\u001b[36m2025-09-09 12:52:31 INFO     one.py:1288 Loading motion_energy data\u001b[0m\n"
     ]
    },
    {
     "name": "stderr",
     "output_type": "stream",
     "text": [
      "/opt/anaconda3/envs/iblenv/lib/python3.10/site-packages/one/util.py:428: ALFWarning: Multiple revisions: \"\", \"2025-05-29\"\n",
      "  warnings.warn(f'Multiple revisions: {rev_list}', alferr.ALFWarning)\n",
      "/opt/anaconda3/envs/iblenv/lib/python3.10/site-packages/one/util.py:428: ALFWarning: Multiple revisions: \"\", \"2025-05-31\"\n",
      "  warnings.warn(f'Multiple revisions: {rev_list}', alferr.ALFWarning)\n",
      "/opt/anaconda3/envs/iblenv/lib/python3.10/site-packages/one/util.py:428: ALFWarning: Multiple revisions: \"\", \"2025-06-01\"\n",
      "  warnings.warn(f'Multiple revisions: {rev_list}', alferr.ALFWarning)\n"
     ]
    },
    {
     "name": "stdout",
     "output_type": "stream",
     "text": [
      "\u001b[36m2025-09-09 12:52:32 INFO     one.py:1288 Loading pupil data\u001b[0m\n"
     ]
    },
    {
     "name": "stderr",
     "output_type": "stream",
     "text": [
      "/opt/anaconda3/envs/iblenv/lib/python3.10/site-packages/one/util.py:428: ALFWarning: Multiple revisions: \"2025-06-18\", \"\"\n",
      "  warnings.warn(f'Multiple revisions: {rev_list}', alferr.ALFWarning)\n"
     ]
    },
    {
     "name": "stdout",
     "output_type": "stream",
     "text": [
      "\u001b[1;33m2025-09-09 12:52:32 WARNING  one.py:1292 Could not load pupil data.\u001b[0m\n"
     ]
    },
    {
     "name": "stderr",
     "output_type": "stream",
     "text": [
      "/opt/anaconda3/envs/iblenv/lib/python3.10/site-packages/one/util.py:428: ALFWarning: Multiple revisions: \"2025-05-29\", \"\"\n",
      "  warnings.warn(f'Multiple revisions: {rev_list}', alferr.ALFWarning)\n",
      "(S3) /Users/ineslaranjeira/Downloads/FlatIron/angelakilab/Subjects/NYU-45/2021-07-19/001/alf/_ibl_rightCamera.lightningPose.pqt: 100%|██████████| 270M/270M [00:23<00:00, 11.6MB/s] \n"
     ]
    },
    {
     "name": "stdout",
     "output_type": "stream",
     "text": [
      "\u001b[36m2025-09-09 12:53:03 INFO     one.py:1288 Loading trials data\u001b[0m\n"
     ]
    },
    {
     "name": "stderr",
     "output_type": "stream",
     "text": [
      "/opt/anaconda3/envs/iblenv/lib/python3.10/site-packages/one/util.py:428: ALFWarning: Multiple revisions: \"\", \"2025-03-03\"\n",
      "  warnings.warn(f'Multiple revisions: {rev_list}', alferr.ALFWarning)\n"
     ]
    },
    {
     "name": "stdout",
     "output_type": "stream",
     "text": [
      "\u001b[36m2025-09-09 12:53:04 INFO     one.py:1288 Loading wheel data\u001b[0m\n",
      "\u001b[36m2025-09-09 12:53:05 INFO     one.py:1288 Loading motion_energy data\u001b[0m\n"
     ]
    },
    {
     "name": "stderr",
     "output_type": "stream",
     "text": [
      "/opt/anaconda3/envs/iblenv/lib/python3.10/site-packages/one/util.py:428: ALFWarning: Multiple revisions: \"\", \"2025-05-29\"\n",
      "  warnings.warn(f'Multiple revisions: {rev_list}', alferr.ALFWarning)\n",
      "/opt/anaconda3/envs/iblenv/lib/python3.10/site-packages/one/util.py:428: ALFWarning: Multiple revisions: \"\", \"2025-05-31\"\n",
      "  warnings.warn(f'Multiple revisions: {rev_list}', alferr.ALFWarning)\n",
      "/opt/anaconda3/envs/iblenv/lib/python3.10/site-packages/one/util.py:428: ALFWarning: Multiple revisions: \"\", \"2025-06-01\"\n",
      "  warnings.warn(f'Multiple revisions: {rev_list}', alferr.ALFWarning)\n"
     ]
    },
    {
     "name": "stdout",
     "output_type": "stream",
     "text": [
      "\u001b[36m2025-09-09 12:53:06 INFO     one.py:1288 Loading pupil data\u001b[0m\n"
     ]
    },
    {
     "name": "stderr",
     "output_type": "stream",
     "text": [
      "/opt/anaconda3/envs/iblenv/lib/python3.10/site-packages/one/util.py:428: ALFWarning: Multiple revisions: \"2025-06-20\", \"\"\n",
      "  warnings.warn(f'Multiple revisions: {rev_list}', alferr.ALFWarning)\n",
      "local file size mismatch on dataset: angelakilab/Subjects/NYU-45/2021-07-20/002/alf/_ibl_leftCamera.lightningPose.pqt\n",
      "(S3) /Users/ineslaranjeira/Downloads/FlatIron/angelakilab/Subjects/NYU-45/2021-07-20/002/alf/_ibl_leftCamera.lightningPose.pqt: 100%|██████████| 120M/120M [00:11<00:00, 10.8MB/s] \n"
     ]
    },
    {
     "name": "stdout",
     "output_type": "stream",
     "text": [
      "\u001b[36m2025-09-09 12:53:25 INFO     one.py:1288 Loading trials data\u001b[0m\n"
     ]
    },
    {
     "name": "stderr",
     "output_type": "stream",
     "text": [
      "/opt/anaconda3/envs/iblenv/lib/python3.10/site-packages/one/util.py:428: ALFWarning: Multiple revisions: \"\", \"2025-03-03\"\n",
      "  warnings.warn(f'Multiple revisions: {rev_list}', alferr.ALFWarning)\n"
     ]
    },
    {
     "name": "stdout",
     "output_type": "stream",
     "text": [
      "\u001b[36m2025-09-09 12:53:26 INFO     one.py:1288 Loading wheel data\u001b[0m\n",
      "\u001b[36m2025-09-09 12:53:27 INFO     one.py:1288 Loading motion_energy data\u001b[0m\n"
     ]
    },
    {
     "name": "stderr",
     "output_type": "stream",
     "text": [
      "/opt/anaconda3/envs/iblenv/lib/python3.10/site-packages/one/util.py:428: ALFWarning: Multiple revisions: \"\", \"2025-05-29\"\n",
      "  warnings.warn(f'Multiple revisions: {rev_list}', alferr.ALFWarning)\n",
      "/opt/anaconda3/envs/iblenv/lib/python3.10/site-packages/one/util.py:428: ALFWarning: Multiple revisions: \"\", \"2025-05-31\"\n",
      "  warnings.warn(f'Multiple revisions: {rev_list}', alferr.ALFWarning)\n",
      "/opt/anaconda3/envs/iblenv/lib/python3.10/site-packages/one/util.py:428: ALFWarning: Multiple revisions: \"\", \"2025-06-01\"\n",
      "  warnings.warn(f'Multiple revisions: {rev_list}', alferr.ALFWarning)\n"
     ]
    },
    {
     "name": "stdout",
     "output_type": "stream",
     "text": [
      "\u001b[36m2025-09-09 12:53:28 INFO     one.py:1288 Loading pupil data\u001b[0m\n"
     ]
    },
    {
     "name": "stderr",
     "output_type": "stream",
     "text": [
      "/opt/anaconda3/envs/iblenv/lib/python3.10/site-packages/one/util.py:428: ALFWarning: Multiple revisions: \"2025-06-18\", \"\"\n",
      "  warnings.warn(f'Multiple revisions: {rev_list}', alferr.ALFWarning)\n",
      "local file size mismatch on dataset: angelakilab/Subjects/NYU-45/2021-07-23/001/alf/_ibl_leftCamera.lightningPose.pqt\n",
      "(S3) /Users/ineslaranjeira/Downloads/FlatIron/angelakilab/Subjects/NYU-45/2021-07-23/001/alf/_ibl_leftCamera.lightningPose.pqt: 100%|██████████| 133M/133M [00:10<00:00, 13.2MB/s] \n",
      "(S3) /Users/ineslaranjeira/Downloads/FlatIron/angelakilab/Subjects/NYU-45/2021-07-23/001/alf/_ibl_rightCamera.lightningPose.pqt: 100%|██████████| 305M/305M [00:24<00:00, 12.3MB/s] \n"
     ]
    },
    {
     "name": "stdout",
     "output_type": "stream",
     "text": [
      "\u001b[36m2025-09-09 12:54:10 INFO     one.py:1288 Loading trials data\u001b[0m\n"
     ]
    },
    {
     "name": "stderr",
     "output_type": "stream",
     "text": [
      "/opt/anaconda3/envs/iblenv/lib/python3.10/site-packages/one/util.py:428: ALFWarning: Multiple revisions: \"\", \"2025-03-03\"\n",
      "  warnings.warn(f'Multiple revisions: {rev_list}', alferr.ALFWarning)\n"
     ]
    },
    {
     "name": "stdout",
     "output_type": "stream",
     "text": [
      "\u001b[36m2025-09-09 12:54:11 INFO     one.py:1288 Loading wheel data\u001b[0m\n",
      "\u001b[36m2025-09-09 12:54:12 INFO     one.py:1288 Loading motion_energy data\u001b[0m\n"
     ]
    },
    {
     "name": "stderr",
     "output_type": "stream",
     "text": [
      "/opt/anaconda3/envs/iblenv/lib/python3.10/site-packages/one/util.py:428: ALFWarning: Multiple revisions: \"\", \"2025-05-29\"\n",
      "  warnings.warn(f'Multiple revisions: {rev_list}', alferr.ALFWarning)\n",
      "/opt/anaconda3/envs/iblenv/lib/python3.10/site-packages/one/util.py:428: ALFWarning: Multiple revisions: \"\", \"2025-05-31\"\n",
      "  warnings.warn(f'Multiple revisions: {rev_list}', alferr.ALFWarning)\n",
      "/opt/anaconda3/envs/iblenv/lib/python3.10/site-packages/one/util.py:428: ALFWarning: Multiple revisions: \"\", \"2025-06-01\"\n",
      "  warnings.warn(f'Multiple revisions: {rev_list}', alferr.ALFWarning)\n"
     ]
    },
    {
     "name": "stdout",
     "output_type": "stream",
     "text": [
      "\u001b[36m2025-09-09 12:54:13 INFO     one.py:1288 Loading pupil data\u001b[0m\n"
     ]
    },
    {
     "name": "stderr",
     "output_type": "stream",
     "text": [
      "/opt/anaconda3/envs/iblenv/lib/python3.10/site-packages/one/util.py:428: ALFWarning: Multiple revisions: \"2025-06-18\", \"\"\n",
      "  warnings.warn(f'Multiple revisions: {rev_list}', alferr.ALFWarning)\n",
      "local file size mismatch on dataset: angelakilab/Subjects/NYU-46/2021-06-22/001/alf/_ibl_leftCamera.lightningPose.pqt\n",
      "(S3) /Users/ineslaranjeira/Downloads/FlatIron/angelakilab/Subjects/NYU-46/2021-06-22/001/alf/_ibl_leftCamera.lightningPose.pqt: 100%|██████████| 132M/132M [00:10<00:00, 12.2MB/s] \n",
      "(S3) /Users/ineslaranjeira/Downloads/FlatIron/angelakilab/Subjects/NYU-46/2021-06-22/001/alf/_ibl_rightCamera.lightningPose.pqt: 100%|██████████| 302M/302M [00:18<00:00, 16.1MB/s] \n"
     ]
    },
    {
     "name": "stdout",
     "output_type": "stream",
     "text": [
      "\u001b[36m2025-09-09 12:54:50 INFO     one.py:1288 Loading trials data\u001b[0m\n"
     ]
    },
    {
     "name": "stderr",
     "output_type": "stream",
     "text": [
      "/opt/anaconda3/envs/iblenv/lib/python3.10/site-packages/one/util.py:428: ALFWarning: Multiple revisions: \"\", \"2025-03-03\"\n",
      "  warnings.warn(f'Multiple revisions: {rev_list}', alferr.ALFWarning)\n"
     ]
    },
    {
     "name": "stdout",
     "output_type": "stream",
     "text": [
      "\u001b[36m2025-09-09 12:54:51 INFO     one.py:1288 Loading wheel data\u001b[0m\n",
      "\u001b[36m2025-09-09 12:54:52 INFO     one.py:1288 Loading motion_energy data\u001b[0m\n"
     ]
    },
    {
     "name": "stderr",
     "output_type": "stream",
     "text": [
      "/opt/anaconda3/envs/iblenv/lib/python3.10/site-packages/one/util.py:428: ALFWarning: Multiple revisions: \"\", \"2025-05-29\"\n",
      "  warnings.warn(f'Multiple revisions: {rev_list}', alferr.ALFWarning)\n",
      "/opt/anaconda3/envs/iblenv/lib/python3.10/site-packages/one/util.py:428: ALFWarning: Multiple revisions: \"\", \"2025-05-31\"\n",
      "  warnings.warn(f'Multiple revisions: {rev_list}', alferr.ALFWarning)\n",
      "/opt/anaconda3/envs/iblenv/lib/python3.10/site-packages/one/util.py:428: ALFWarning: Multiple revisions: \"\", \"2025-06-01\"\n",
      "  warnings.warn(f'Multiple revisions: {rev_list}', alferr.ALFWarning)\n"
     ]
    },
    {
     "name": "stdout",
     "output_type": "stream",
     "text": [
      "\u001b[36m2025-09-09 12:54:53 INFO     one.py:1288 Loading pupil data\u001b[0m\n"
     ]
    },
    {
     "name": "stderr",
     "output_type": "stream",
     "text": [
      "/opt/anaconda3/envs/iblenv/lib/python3.10/site-packages/one/util.py:428: ALFWarning: Multiple revisions: \"2025-06-18\", \"\"\n",
      "  warnings.warn(f'Multiple revisions: {rev_list}', alferr.ALFWarning)\n"
     ]
    },
    {
     "name": "stdout",
     "output_type": "stream",
     "text": [
      "\u001b[1;33m2025-09-09 12:54:53 WARNING  one.py:1292 Could not load pupil data.\u001b[0m\n"
     ]
    },
    {
     "name": "stderr",
     "output_type": "stream",
     "text": [
      "local file size mismatch on dataset: angelakilab/Subjects/NYU-46/2021-06-23/001/alf/_ibl_leftCamera.lightningPose.pqt\n",
      "(S3) /Users/ineslaranjeira/Downloads/FlatIron/angelakilab/Subjects/NYU-46/2021-06-23/001/alf/_ibl_leftCamera.lightningPose.pqt: 100%|██████████| 138M/138M [00:12<00:00, 10.7MB/s] \n",
      "(S3) /Users/ineslaranjeira/Downloads/FlatIron/angelakilab/Subjects/NYU-46/2021-06-23/001/alf/_ibl_rightCamera.lightningPose.pqt: 100%|██████████| 318M/318M [00:23<00:00, 13.8MB/s] \n"
     ]
    },
    {
     "name": "stdout",
     "output_type": "stream",
     "text": [
      "\u001b[36m2025-09-09 12:55:37 INFO     one.py:1288 Loading trials data\u001b[0m\n"
     ]
    },
    {
     "name": "stderr",
     "output_type": "stream",
     "text": [
      "/opt/anaconda3/envs/iblenv/lib/python3.10/site-packages/one/util.py:428: ALFWarning: Multiple revisions: \"\", \"2025-03-03\"\n",
      "  warnings.warn(f'Multiple revisions: {rev_list}', alferr.ALFWarning)\n"
     ]
    },
    {
     "name": "stdout",
     "output_type": "stream",
     "text": [
      "\u001b[36m2025-09-09 12:55:38 INFO     one.py:1288 Loading wheel data\u001b[0m\n",
      "\u001b[36m2025-09-09 12:55:39 INFO     one.py:1288 Loading motion_energy data\u001b[0m\n"
     ]
    },
    {
     "name": "stderr",
     "output_type": "stream",
     "text": [
      "/opt/anaconda3/envs/iblenv/lib/python3.10/site-packages/one/util.py:428: ALFWarning: Multiple revisions: \"\", \"2025-05-29\"\n",
      "  warnings.warn(f'Multiple revisions: {rev_list}', alferr.ALFWarning)\n",
      "/opt/anaconda3/envs/iblenv/lib/python3.10/site-packages/one/util.py:428: ALFWarning: Multiple revisions: \"\", \"2025-05-31\"\n",
      "  warnings.warn(f'Multiple revisions: {rev_list}', alferr.ALFWarning)\n",
      "/opt/anaconda3/envs/iblenv/lib/python3.10/site-packages/one/util.py:428: ALFWarning: Multiple revisions: \"\", \"2025-06-01\"\n",
      "  warnings.warn(f'Multiple revisions: {rev_list}', alferr.ALFWarning)\n"
     ]
    },
    {
     "name": "stdout",
     "output_type": "stream",
     "text": [
      "\u001b[36m2025-09-09 12:55:40 INFO     one.py:1288 Loading pupil data\u001b[0m\n"
     ]
    },
    {
     "name": "stderr",
     "output_type": "stream",
     "text": [
      "/opt/anaconda3/envs/iblenv/lib/python3.10/site-packages/one/util.py:428: ALFWarning: Multiple revisions: \"2025-06-18\", \"\"\n",
      "  warnings.warn(f'Multiple revisions: {rev_list}', alferr.ALFWarning)\n",
      "local file size mismatch on dataset: angelakilab/Subjects/NYU-46/2021-06-24/001/alf/_ibl_leftCamera.lightningPose.pqt\n",
      "(S3) /Users/ineslaranjeira/Downloads/FlatIron/angelakilab/Subjects/NYU-46/2021-06-24/001/alf/_ibl_leftCamera.lightningPose.pqt: 100%|██████████| 132M/132M [00:09<00:00, 14.6MB/s] \n",
      "(S3) /Users/ineslaranjeira/Downloads/FlatIron/angelakilab/Subjects/NYU-46/2021-06-24/001/alf/_ibl_rightCamera.lightningPose.pqt: 100%|██████████| 302M/302M [00:32<00:00, 9.44MB/s] \n"
     ]
    },
    {
     "name": "stdout",
     "output_type": "stream",
     "text": [
      "\u001b[36m2025-09-09 12:56:29 INFO     one.py:1288 Loading trials data\u001b[0m\n"
     ]
    },
    {
     "name": "stderr",
     "output_type": "stream",
     "text": [
      "/opt/anaconda3/envs/iblenv/lib/python3.10/site-packages/one/util.py:428: ALFWarning: Multiple revisions: \"\", \"2025-03-03\"\n",
      "  warnings.warn(f'Multiple revisions: {rev_list}', alferr.ALFWarning)\n"
     ]
    },
    {
     "name": "stdout",
     "output_type": "stream",
     "text": [
      "\u001b[36m2025-09-09 12:56:30 INFO     one.py:1288 Loading wheel data\u001b[0m\n",
      "\u001b[36m2025-09-09 12:56:31 INFO     one.py:1288 Loading motion_energy data\u001b[0m\n"
     ]
    },
    {
     "name": "stderr",
     "output_type": "stream",
     "text": [
      "/opt/anaconda3/envs/iblenv/lib/python3.10/site-packages/one/util.py:428: ALFWarning: Multiple revisions: \"\", \"2025-05-29\"\n",
      "  warnings.warn(f'Multiple revisions: {rev_list}', alferr.ALFWarning)\n",
      "/opt/anaconda3/envs/iblenv/lib/python3.10/site-packages/one/util.py:428: ALFWarning: Multiple revisions: \"\", \"2025-05-31\"\n",
      "  warnings.warn(f'Multiple revisions: {rev_list}', alferr.ALFWarning)\n",
      "/opt/anaconda3/envs/iblenv/lib/python3.10/site-packages/one/util.py:428: ALFWarning: Multiple revisions: \"\", \"2025-06-01\"\n",
      "  warnings.warn(f'Multiple revisions: {rev_list}', alferr.ALFWarning)\n"
     ]
    },
    {
     "name": "stdout",
     "output_type": "stream",
     "text": [
      "\u001b[36m2025-09-09 12:56:32 INFO     one.py:1288 Loading pupil data\u001b[0m\n"
     ]
    },
    {
     "name": "stderr",
     "output_type": "stream",
     "text": [
      "/opt/anaconda3/envs/iblenv/lib/python3.10/site-packages/one/util.py:428: ALFWarning: Multiple revisions: \"2025-06-18\", \"\"\n",
      "  warnings.warn(f'Multiple revisions: {rev_list}', alferr.ALFWarning)\n",
      "local file size mismatch on dataset: angelakilab/Subjects/NYU-46/2021-06-25/001/alf/_ibl_leftCamera.lightningPose.pqt\n",
      "(S3) /Users/ineslaranjeira/Downloads/FlatIron/angelakilab/Subjects/NYU-46/2021-06-25/001/alf/_ibl_leftCamera.lightningPose.pqt: 100%|██████████| 121M/121M [00:12<00:00, 9.96MB/s] \n"
     ]
    },
    {
     "name": "stdout",
     "output_type": "stream",
     "text": [
      "\u001b[36m2025-09-09 12:56:52 INFO     one.py:1288 Loading trials data\u001b[0m\n"
     ]
    },
    {
     "name": "stderr",
     "output_type": "stream",
     "text": [
      "/opt/anaconda3/envs/iblenv/lib/python3.10/site-packages/one/util.py:428: ALFWarning: Multiple revisions: \"\", \"2025-03-03\"\n",
      "  warnings.warn(f'Multiple revisions: {rev_list}', alferr.ALFWarning)\n"
     ]
    },
    {
     "name": "stdout",
     "output_type": "stream",
     "text": [
      "\u001b[36m2025-09-09 12:56:53 INFO     one.py:1288 Loading wheel data\u001b[0m\n",
      "\u001b[36m2025-09-09 12:56:54 INFO     one.py:1288 Loading motion_energy data\u001b[0m\n"
     ]
    },
    {
     "name": "stderr",
     "output_type": "stream",
     "text": [
      "/opt/anaconda3/envs/iblenv/lib/python3.10/site-packages/one/util.py:428: ALFWarning: Multiple revisions: \"\", \"2025-05-29\"\n",
      "  warnings.warn(f'Multiple revisions: {rev_list}', alferr.ALFWarning)\n",
      "/opt/anaconda3/envs/iblenv/lib/python3.10/site-packages/one/util.py:428: ALFWarning: Multiple revisions: \"\", \"2025-05-31\"\n",
      "  warnings.warn(f'Multiple revisions: {rev_list}', alferr.ALFWarning)\n",
      "/opt/anaconda3/envs/iblenv/lib/python3.10/site-packages/one/util.py:428: ALFWarning: Multiple revisions: \"\", \"2025-06-01\"\n",
      "  warnings.warn(f'Multiple revisions: {rev_list}', alferr.ALFWarning)\n"
     ]
    },
    {
     "name": "stdout",
     "output_type": "stream",
     "text": [
      "\u001b[36m2025-09-09 12:56:55 INFO     one.py:1288 Loading pupil data\u001b[0m\n"
     ]
    },
    {
     "name": "stderr",
     "output_type": "stream",
     "text": [
      "/opt/anaconda3/envs/iblenv/lib/python3.10/site-packages/one/util.py:428: ALFWarning: Multiple revisions: \"2025-06-18\", \"\"\n",
      "  warnings.warn(f'Multiple revisions: {rev_list}', alferr.ALFWarning)\n",
      "local file size mismatch on dataset: angelakilab/Subjects/NYU-47/2021-06-22/001/alf/_ibl_leftCamera.lightningPose.pqt\n",
      "(S3) /Users/ineslaranjeira/Downloads/FlatIron/angelakilab/Subjects/NYU-47/2021-06-22/001/alf/_ibl_leftCamera.lightningPose.pqt: 100%|██████████| 133M/133M [00:09<00:00, 13.6MB/s] \n",
      "(S3) /Users/ineslaranjeira/Downloads/FlatIron/angelakilab/Subjects/NYU-47/2021-06-22/001/alf/_ibl_rightCamera.lightningPose.pqt: 100%|██████████| 307M/307M [00:21<00:00, 14.0MB/s] \n"
     ]
    },
    {
     "name": "stdout",
     "output_type": "stream",
     "text": [
      "\u001b[36m2025-09-09 12:57:35 INFO     one.py:1288 Loading trials data\u001b[0m\n"
     ]
    },
    {
     "name": "stderr",
     "output_type": "stream",
     "text": [
      "/opt/anaconda3/envs/iblenv/lib/python3.10/site-packages/one/util.py:428: ALFWarning: Multiple revisions: \"\", \"2025-03-03\"\n",
      "  warnings.warn(f'Multiple revisions: {rev_list}', alferr.ALFWarning)\n"
     ]
    },
    {
     "name": "stdout",
     "output_type": "stream",
     "text": [
      "\u001b[36m2025-09-09 12:57:36 INFO     one.py:1288 Loading wheel data\u001b[0m\n",
      "\u001b[36m2025-09-09 12:57:37 INFO     one.py:1288 Loading motion_energy data\u001b[0m\n"
     ]
    },
    {
     "name": "stderr",
     "output_type": "stream",
     "text": [
      "/opt/anaconda3/envs/iblenv/lib/python3.10/site-packages/one/util.py:428: ALFWarning: Multiple revisions: \"\", \"2025-05-29\"\n",
      "  warnings.warn(f'Multiple revisions: {rev_list}', alferr.ALFWarning)\n",
      "/opt/anaconda3/envs/iblenv/lib/python3.10/site-packages/one/util.py:428: ALFWarning: Multiple revisions: \"\", \"2025-05-31\"\n",
      "  warnings.warn(f'Multiple revisions: {rev_list}', alferr.ALFWarning)\n",
      "/opt/anaconda3/envs/iblenv/lib/python3.10/site-packages/one/util.py:428: ALFWarning: Multiple revisions: \"\", \"2025-06-01\"\n",
      "  warnings.warn(f'Multiple revisions: {rev_list}', alferr.ALFWarning)\n"
     ]
    },
    {
     "name": "stdout",
     "output_type": "stream",
     "text": [
      "\u001b[36m2025-09-09 12:57:38 INFO     one.py:1288 Loading pupil data\u001b[0m\n"
     ]
    },
    {
     "name": "stderr",
     "output_type": "stream",
     "text": [
      "/opt/anaconda3/envs/iblenv/lib/python3.10/site-packages/one/util.py:428: ALFWarning: Multiple revisions: \"2025-06-18\", \"\"\n",
      "  warnings.warn(f'Multiple revisions: {rev_list}', alferr.ALFWarning)\n"
     ]
    },
    {
     "name": "stdout",
     "output_type": "stream",
     "text": [
      "\u001b[1;33m2025-09-09 12:57:38 WARNING  one.py:1292 Could not load pupil data.\u001b[0m\n"
     ]
    },
    {
     "name": "stderr",
     "output_type": "stream",
     "text": [
      "local file size mismatch on dataset: angelakilab/Subjects/NYU-47/2021-06-24/003/alf/_ibl_leftCamera.lightningPose.pqt\n",
      "(S3) /Users/ineslaranjeira/Downloads/FlatIron/angelakilab/Subjects/NYU-47/2021-06-24/003/alf/_ibl_leftCamera.lightningPose.pqt: 100%|██████████| 128M/128M [00:12<00:00, 10.2MB/s] \n",
      "(S3) /Users/ineslaranjeira/Downloads/FlatIron/angelakilab/Subjects/NYU-47/2021-06-24/003/alf/_ibl_rightCamera.lightningPose.pqt: 100%|██████████| 295M/295M [00:39<00:00, 7.50MB/s] \n"
     ]
    },
    {
     "name": "stdout",
     "output_type": "stream",
     "text": [
      "\u001b[36m2025-09-09 12:58:38 INFO     one.py:1288 Loading trials data\u001b[0m\n"
     ]
    },
    {
     "name": "stderr",
     "output_type": "stream",
     "text": [
      "/opt/anaconda3/envs/iblenv/lib/python3.10/site-packages/one/util.py:428: ALFWarning: Multiple revisions: \"\", \"2025-03-03\"\n",
      "  warnings.warn(f'Multiple revisions: {rev_list}', alferr.ALFWarning)\n"
     ]
    },
    {
     "name": "stdout",
     "output_type": "stream",
     "text": [
      "\u001b[36m2025-09-09 12:58:39 INFO     one.py:1288 Loading wheel data\u001b[0m\n",
      "\u001b[36m2025-09-09 12:58:39 INFO     one.py:1288 Loading motion_energy data\u001b[0m\n"
     ]
    },
    {
     "name": "stderr",
     "output_type": "stream",
     "text": [
      "/opt/anaconda3/envs/iblenv/lib/python3.10/site-packages/one/util.py:428: ALFWarning: Multiple revisions: \"\", \"2025-05-29\"\n",
      "  warnings.warn(f'Multiple revisions: {rev_list}', alferr.ALFWarning)\n",
      "/opt/anaconda3/envs/iblenv/lib/python3.10/site-packages/one/util.py:428: ALFWarning: Multiple revisions: \"\", \"2025-05-31\"\n",
      "  warnings.warn(f'Multiple revisions: {rev_list}', alferr.ALFWarning)\n",
      "/opt/anaconda3/envs/iblenv/lib/python3.10/site-packages/one/util.py:428: ALFWarning: Multiple revisions: \"\", \"2025-06-01\"\n",
      "  warnings.warn(f'Multiple revisions: {rev_list}', alferr.ALFWarning)\n"
     ]
    },
    {
     "name": "stdout",
     "output_type": "stream",
     "text": [
      "\u001b[36m2025-09-09 12:58:40 INFO     one.py:1288 Loading pupil data\u001b[0m\n"
     ]
    },
    {
     "name": "stderr",
     "output_type": "stream",
     "text": [
      "/opt/anaconda3/envs/iblenv/lib/python3.10/site-packages/one/util.py:428: ALFWarning: Multiple revisions: \"2025-06-18\", \"\"\n",
      "  warnings.warn(f'Multiple revisions: {rev_list}', alferr.ALFWarning)\n",
      "local file size mismatch on dataset: angelakilab/Subjects/NYU-47/2021-06-25/001/alf/_ibl_leftCamera.lightningPose.pqt\n",
      "(S3) /Users/ineslaranjeira/Downloads/FlatIron/angelakilab/Subjects/NYU-47/2021-06-25/001/alf/_ibl_leftCamera.lightningPose.pqt: 100%|██████████| 141M/141M [00:09<00:00, 14.1MB/s] \n",
      "(S3) /Users/ineslaranjeira/Downloads/FlatIron/angelakilab/Subjects/NYU-47/2021-06-25/001/alf/_ibl_rightCamera.lightningPose.pqt: 100%|██████████| 329M/329M [00:25<00:00, 13.1MB/s] \n"
     ]
    },
    {
     "name": "stdout",
     "output_type": "stream",
     "text": [
      "\u001b[36m2025-09-09 12:59:24 INFO     one.py:1288 Loading trials data\u001b[0m\n"
     ]
    },
    {
     "name": "stderr",
     "output_type": "stream",
     "text": [
      "/opt/anaconda3/envs/iblenv/lib/python3.10/site-packages/one/util.py:428: ALFWarning: Multiple revisions: \"\", \"2025-03-03\"\n",
      "  warnings.warn(f'Multiple revisions: {rev_list}', alferr.ALFWarning)\n"
     ]
    },
    {
     "name": "stdout",
     "output_type": "stream",
     "text": [
      "\u001b[36m2025-09-09 12:59:24 INFO     one.py:1288 Loading wheel data\u001b[0m\n",
      "\u001b[36m2025-09-09 12:59:26 INFO     one.py:1288 Loading motion_energy data\u001b[0m\n"
     ]
    },
    {
     "name": "stderr",
     "output_type": "stream",
     "text": [
      "/opt/anaconda3/envs/iblenv/lib/python3.10/site-packages/one/util.py:428: ALFWarning: Multiple revisions: \"\", \"2025-05-29\"\n",
      "  warnings.warn(f'Multiple revisions: {rev_list}', alferr.ALFWarning)\n",
      "/opt/anaconda3/envs/iblenv/lib/python3.10/site-packages/one/util.py:428: ALFWarning: Multiple revisions: \"\", \"2025-05-31\"\n",
      "  warnings.warn(f'Multiple revisions: {rev_list}', alferr.ALFWarning)\n",
      "/opt/anaconda3/envs/iblenv/lib/python3.10/site-packages/one/util.py:428: ALFWarning: Multiple revisions: \"\", \"2025-06-01\"\n",
      "  warnings.warn(f'Multiple revisions: {rev_list}', alferr.ALFWarning)\n"
     ]
    },
    {
     "name": "stdout",
     "output_type": "stream",
     "text": [
      "\u001b[36m2025-09-09 12:59:27 INFO     one.py:1288 Loading pupil data\u001b[0m\n"
     ]
    },
    {
     "name": "stderr",
     "output_type": "stream",
     "text": [
      "/opt/anaconda3/envs/iblenv/lib/python3.10/site-packages/one/util.py:428: ALFWarning: Multiple revisions: \"2025-06-18\", \"\"\n",
      "  warnings.warn(f'Multiple revisions: {rev_list}', alferr.ALFWarning)\n"
     ]
    },
    {
     "name": "stdout",
     "output_type": "stream",
     "text": [
      "\u001b[1;33m2025-09-09 12:59:27 WARNING  one.py:1292 Could not load pupil data.\u001b[0m\n"
     ]
    },
    {
     "name": "stderr",
     "output_type": "stream",
     "text": [
      "(S3) /Users/ineslaranjeira/Downloads/FlatIron/angelakilab/Subjects/NYU-48/2021-06-29/001/alf/_ibl_rightCamera.lightningPose.pqt: 100%|██████████| 294M/294M [00:31<00:00, 9.46MB/s] \n"
     ]
    },
    {
     "name": "stdout",
     "output_type": "stream",
     "text": [
      "\u001b[36m2025-09-09 13:00:06 INFO     one.py:1288 Loading trials data\u001b[0m\n"
     ]
    },
    {
     "name": "stderr",
     "output_type": "stream",
     "text": [
      "/opt/anaconda3/envs/iblenv/lib/python3.10/site-packages/one/util.py:428: ALFWarning: Multiple revisions: \"\", \"2025-03-03\"\n",
      "  warnings.warn(f'Multiple revisions: {rev_list}', alferr.ALFWarning)\n"
     ]
    },
    {
     "name": "stdout",
     "output_type": "stream",
     "text": [
      "\u001b[36m2025-09-09 13:00:07 INFO     one.py:1288 Loading wheel data\u001b[0m\n",
      "\u001b[36m2025-09-09 13:00:08 INFO     one.py:1288 Loading motion_energy data\u001b[0m\n"
     ]
    },
    {
     "name": "stderr",
     "output_type": "stream",
     "text": [
      "/opt/anaconda3/envs/iblenv/lib/python3.10/site-packages/one/util.py:428: ALFWarning: Multiple revisions: \"\", \"2025-05-29\"\n",
      "  warnings.warn(f'Multiple revisions: {rev_list}', alferr.ALFWarning)\n",
      "/opt/anaconda3/envs/iblenv/lib/python3.10/site-packages/one/util.py:428: ALFWarning: Multiple revisions: \"\", \"2025-05-31\"\n",
      "  warnings.warn(f'Multiple revisions: {rev_list}', alferr.ALFWarning)\n",
      "/opt/anaconda3/envs/iblenv/lib/python3.10/site-packages/one/util.py:428: ALFWarning: Multiple revisions: \"\", \"2025-06-01\"\n",
      "  warnings.warn(f'Multiple revisions: {rev_list}', alferr.ALFWarning)\n"
     ]
    },
    {
     "name": "stdout",
     "output_type": "stream",
     "text": [
      "\u001b[36m2025-09-09 13:00:09 INFO     one.py:1288 Loading pupil data\u001b[0m\n"
     ]
    },
    {
     "name": "stderr",
     "output_type": "stream",
     "text": [
      "/opt/anaconda3/envs/iblenv/lib/python3.10/site-packages/one/util.py:428: ALFWarning: Multiple revisions: \"2025-06-04\", \"\"\n",
      "  warnings.warn(f'Multiple revisions: {rev_list}', alferr.ALFWarning)\n",
      "local file size mismatch on dataset: angelakilab/Subjects/NYU-48/2021-07-01/001/alf/_ibl_leftCamera.lightningPose.pqt\n",
      "(S3) /Users/ineslaranjeira/Downloads/FlatIron/angelakilab/Subjects/NYU-48/2021-07-01/001/alf/_ibl_leftCamera.lightningPose.pqt: 100%|██████████| 122M/122M [00:10<00:00, 11.2MB/s] \n",
      "(S3) /Users/ineslaranjeira/Downloads/FlatIron/angelakilab/Subjects/NYU-48/2021-07-01/001/alf/_ibl_rightCamera.lightningPose.pqt: 100%|██████████| 281M/281M [00:23<00:00, 12.1MB/s] \n"
     ]
    },
    {
     "name": "stdout",
     "output_type": "stream",
     "text": [
      "\u001b[36m2025-09-09 13:00:51 INFO     one.py:1288 Loading trials data\u001b[0m\n"
     ]
    },
    {
     "name": "stderr",
     "output_type": "stream",
     "text": [
      "/opt/anaconda3/envs/iblenv/lib/python3.10/site-packages/one/util.py:428: ALFWarning: Multiple revisions: \"\", \"2025-03-03\"\n",
      "  warnings.warn(f'Multiple revisions: {rev_list}', alferr.ALFWarning)\n"
     ]
    },
    {
     "name": "stdout",
     "output_type": "stream",
     "text": [
      "\u001b[36m2025-09-09 13:00:52 INFO     one.py:1288 Loading wheel data\u001b[0m\n",
      "\u001b[36m2025-09-09 13:00:53 INFO     one.py:1288 Loading motion_energy data\u001b[0m\n"
     ]
    },
    {
     "name": "stderr",
     "output_type": "stream",
     "text": [
      "/opt/anaconda3/envs/iblenv/lib/python3.10/site-packages/one/util.py:428: ALFWarning: Multiple revisions: \"\", \"2025-05-29\"\n",
      "  warnings.warn(f'Multiple revisions: {rev_list}', alferr.ALFWarning)\n",
      "/opt/anaconda3/envs/iblenv/lib/python3.10/site-packages/one/util.py:428: ALFWarning: Multiple revisions: \"\", \"2025-05-31\"\n",
      "  warnings.warn(f'Multiple revisions: {rev_list}', alferr.ALFWarning)\n",
      "/opt/anaconda3/envs/iblenv/lib/python3.10/site-packages/one/util.py:428: ALFWarning: Multiple revisions: \"\", \"2025-06-01\"\n",
      "  warnings.warn(f'Multiple revisions: {rev_list}', alferr.ALFWarning)\n"
     ]
    },
    {
     "name": "stdout",
     "output_type": "stream",
     "text": [
      "\u001b[36m2025-09-09 13:00:54 INFO     one.py:1288 Loading pupil data\u001b[0m\n"
     ]
    },
    {
     "name": "stderr",
     "output_type": "stream",
     "text": [
      "/opt/anaconda3/envs/iblenv/lib/python3.10/site-packages/one/util.py:428: ALFWarning: Multiple revisions: \"2025-06-18\", \"\"\n",
      "  warnings.warn(f'Multiple revisions: {rev_list}', alferr.ALFWarning)\n",
      "local file size mismatch on dataset: angelakilab/Subjects/NYU-48/2021-07-02/001/alf/_ibl_leftCamera.lightningPose.pqt\n",
      "(S3) /Users/ineslaranjeira/Downloads/FlatIron/angelakilab/Subjects/NYU-48/2021-07-02/001/alf/_ibl_leftCamera.lightningPose.pqt: 100%|██████████| 143M/143M [00:09<00:00, 14.7MB/s] \n",
      "(S3) /Users/ineslaranjeira/Downloads/FlatIron/angelakilab/Subjects/NYU-48/2021-07-02/001/alf/_ibl_rightCamera.lightningPose.pqt: 100%|██████████| 334M/334M [00:27<00:00, 12.1MB/s] \n"
     ]
    },
    {
     "name": "stdout",
     "output_type": "stream",
     "text": [
      "\u001b[36m2025-09-09 13:01:42 INFO     one.py:1288 Loading trials data\u001b[0m\n"
     ]
    },
    {
     "name": "stderr",
     "output_type": "stream",
     "text": [
      "/opt/anaconda3/envs/iblenv/lib/python3.10/site-packages/one/util.py:428: ALFWarning: Multiple revisions: \"\", \"2025-03-03\"\n",
      "  warnings.warn(f'Multiple revisions: {rev_list}', alferr.ALFWarning)\n"
     ]
    },
    {
     "name": "stdout",
     "output_type": "stream",
     "text": [
      "\u001b[36m2025-09-09 13:01:43 INFO     one.py:1288 Loading wheel data\u001b[0m\n",
      "\u001b[36m2025-09-09 13:01:44 INFO     one.py:1288 Loading motion_energy data\u001b[0m\n"
     ]
    },
    {
     "name": "stderr",
     "output_type": "stream",
     "text": [
      "/opt/anaconda3/envs/iblenv/lib/python3.10/site-packages/one/util.py:428: ALFWarning: Multiple revisions: \"\", \"2025-05-29\"\n",
      "  warnings.warn(f'Multiple revisions: {rev_list}', alferr.ALFWarning)\n",
      "/opt/anaconda3/envs/iblenv/lib/python3.10/site-packages/one/util.py:428: ALFWarning: Multiple revisions: \"\", \"2025-05-31\"\n",
      "  warnings.warn(f'Multiple revisions: {rev_list}', alferr.ALFWarning)\n",
      "/opt/anaconda3/envs/iblenv/lib/python3.10/site-packages/one/util.py:428: ALFWarning: Multiple revisions: \"\", \"2025-06-01\"\n",
      "  warnings.warn(f'Multiple revisions: {rev_list}', alferr.ALFWarning)\n"
     ]
    },
    {
     "name": "stdout",
     "output_type": "stream",
     "text": [
      "\u001b[36m2025-09-09 13:01:45 INFO     one.py:1288 Loading pupil data\u001b[0m\n"
     ]
    },
    {
     "name": "stderr",
     "output_type": "stream",
     "text": [
      "/opt/anaconda3/envs/iblenv/lib/python3.10/site-packages/one/util.py:428: ALFWarning: Multiple revisions: \"2025-06-18\", \"\"\n",
      "  warnings.warn(f'Multiple revisions: {rev_list}', alferr.ALFWarning)\n",
      "(S3) /Users/ineslaranjeira/Downloads/FlatIron/angelakilab/Subjects/NYU-65/2022-09-12/002/alf/_ibl_rightCamera.lightningPose.pqt: 100%|██████████| 350M/350M [00:36<00:00, 9.68MB/s] \n"
     ]
    },
    {
     "name": "stdout",
     "output_type": "stream",
     "text": [
      "\u001b[36m2025-09-09 13:02:30 INFO     one.py:1288 Loading trials data\u001b[0m\n"
     ]
    },
    {
     "name": "stderr",
     "output_type": "stream",
     "text": [
      "/opt/anaconda3/envs/iblenv/lib/python3.10/site-packages/one/util.py:428: ALFWarning: Multiple revisions: \"\", \"2025-03-03\"\n",
      "  warnings.warn(f'Multiple revisions: {rev_list}', alferr.ALFWarning)\n"
     ]
    },
    {
     "name": "stdout",
     "output_type": "stream",
     "text": [
      "\u001b[36m2025-09-09 13:02:31 INFO     one.py:1288 Loading wheel data\u001b[0m\n",
      "\u001b[36m2025-09-09 13:02:32 INFO     one.py:1288 Loading motion_energy data\u001b[0m\n"
     ]
    },
    {
     "name": "stderr",
     "output_type": "stream",
     "text": [
      "/opt/anaconda3/envs/iblenv/lib/python3.10/site-packages/one/util.py:428: ALFWarning: Multiple revisions: \"\", \"2025-05-31\"\n",
      "  warnings.warn(f'Multiple revisions: {rev_list}', alferr.ALFWarning)\n",
      "/opt/anaconda3/envs/iblenv/lib/python3.10/site-packages/one/util.py:428: ALFWarning: Multiple revisions: \"\", \"2025-06-01\"\n",
      "  warnings.warn(f'Multiple revisions: {rev_list}', alferr.ALFWarning)\n",
      "/opt/anaconda3/envs/iblenv/lib/python3.10/site-packages/one/util.py:428: ALFWarning: Multiple revisions: \"\", \"2025-06-02\"\n",
      "  warnings.warn(f'Multiple revisions: {rev_list}', alferr.ALFWarning)\n"
     ]
    },
    {
     "name": "stdout",
     "output_type": "stream",
     "text": [
      "\u001b[36m2025-09-09 13:02:33 INFO     one.py:1288 Loading pupil data\u001b[0m\n"
     ]
    },
    {
     "name": "stderr",
     "output_type": "stream",
     "text": [
      "/opt/anaconda3/envs/iblenv/lib/python3.10/site-packages/one/util.py:428: ALFWarning: Multiple revisions: \"2025-06-04\", \"\"\n",
      "  warnings.warn(f'Multiple revisions: {rev_list}', alferr.ALFWarning)\n",
      "local file size mismatch on dataset: angelakilab/Subjects/NYU-65/2022-09-15/001/alf/_ibl_leftCamera.lightningPose.pqt\n",
      "(S3) /Users/ineslaranjeira/Downloads/FlatIron/angelakilab/Subjects/NYU-65/2022-09-15/001/alf/_ibl_leftCamera.lightningPose.pqt: 100%|██████████| 207M/207M [00:20<00:00, 10.1MB/s] \n",
      "(S3) /Users/ineslaranjeira/Downloads/FlatIron/angelakilab/Subjects/NYU-65/2022-09-15/001/alf/_ibl_rightCamera.lightningPose.pqt:  84%|████████▎ | 417M/498M [00:28<00:05, 14.8MB/s] \n"
     ]
    },
    {
     "ename": "KeyboardInterrupt",
     "evalue": "",
     "output_type": "error",
     "traceback": [
      "\u001b[0;31m---------------------------------------------------------------------------\u001b[0m",
      "\u001b[0;31mKeyboardInterrupt\u001b[0m                         Traceback (most recent call last)",
      "Cell \u001b[0;32mIn[10], line 2\u001b[0m\n\u001b[1;32m      1\u001b[0m \u001b[38;5;28;01mfor\u001b[39;00m s, session \u001b[38;5;129;01min\u001b[39;00m \u001b[38;5;28menumerate\u001b[39m(sessions_to_process):\n\u001b[0;32m----> 2\u001b[0m     \u001b[43mprocess_design_matrix\u001b[49m\u001b[43m(\u001b[49m\u001b[43msession\u001b[49m\u001b[43m)\u001b[49m\n",
      "Cell \u001b[0;32mIn[9], line 11\u001b[0m, in \u001b[0;36mprocess_design_matrix\u001b[0;34m(session)\u001b[0m\n\u001b[1;32m      9\u001b[0m \u001b[38;5;250m\u001b[39m\u001b[38;5;124;03m\"\"\" LOAD VARIABLES \"\"\"\u001b[39;00m\n\u001b[1;32m     10\u001b[0m sl \u001b[38;5;241m=\u001b[39m SessionLoader(eid\u001b[38;5;241m=\u001b[39msession, one\u001b[38;5;241m=\u001b[39mone)\n\u001b[0;32m---> 11\u001b[0m \u001b[43msl\u001b[49m\u001b[38;5;241;43m.\u001b[39;49m\u001b[43mload_pose\u001b[49m\u001b[43m(\u001b[49m\u001b[43mviews\u001b[49m\u001b[38;5;241;43m=\u001b[39;49m\u001b[43m[\u001b[49m\u001b[38;5;124;43m'\u001b[39;49m\u001b[38;5;124;43mleft\u001b[39;49m\u001b[38;5;124;43m'\u001b[39;49m\u001b[43m,\u001b[49m\u001b[43m \u001b[49m\u001b[38;5;124;43m'\u001b[39;49m\u001b[38;5;124;43mright\u001b[39;49m\u001b[38;5;124;43m'\u001b[39;49m\u001b[43m]\u001b[49m\u001b[43m,\u001b[49m\u001b[43m \u001b[49m\u001b[43mtracker\u001b[49m\u001b[38;5;241;43m=\u001b[39;49m\u001b[38;5;124;43m'\u001b[39;49m\u001b[38;5;124;43mlightningPose\u001b[39;49m\u001b[38;5;124;43m'\u001b[39;49m\u001b[43m)\u001b[49m\n\u001b[1;32m     12\u001b[0m sl\u001b[38;5;241m.\u001b[39mload_session_data(trials\u001b[38;5;241m=\u001b[39m\u001b[38;5;28;01mTrue\u001b[39;00m, wheel\u001b[38;5;241m=\u001b[39m\u001b[38;5;28;01mTrue\u001b[39;00m, motion_energy\u001b[38;5;241m=\u001b[39m\u001b[38;5;28;01mTrue\u001b[39;00m)\n\u001b[1;32m     14\u001b[0m \u001b[38;5;66;03m# Check if all data is available\u001b[39;00m\n",
      "File \u001b[0;32m~/Documents/Repositories/ibllib/brainbox/io/one.py:1388\u001b[0m, in \u001b[0;36mSessionLoader.load_pose\u001b[0;34m(self, likelihood_thr, views, tracker)\u001b[0m\n\u001b[1;32m   1386\u001b[0m \u001b[38;5;28mself\u001b[39m\u001b[38;5;241m.\u001b[39mpose \u001b[38;5;241m=\u001b[39m {}\n\u001b[1;32m   1387\u001b[0m \u001b[38;5;28;01mfor\u001b[39;00m view \u001b[38;5;129;01min\u001b[39;00m views:\n\u001b[0;32m-> 1388\u001b[0m     pose_raw \u001b[38;5;241m=\u001b[39m \u001b[38;5;28;43mself\u001b[39;49m\u001b[38;5;241;43m.\u001b[39;49m\u001b[43mone\u001b[49m\u001b[38;5;241;43m.\u001b[39;49m\u001b[43mload_object\u001b[49m\u001b[43m(\u001b[49m\n\u001b[1;32m   1389\u001b[0m \u001b[43m        \u001b[49m\u001b[38;5;28;43mself\u001b[39;49m\u001b[38;5;241;43m.\u001b[39;49m\u001b[43meid\u001b[49m\u001b[43m,\u001b[49m\u001b[43m \u001b[49m\u001b[38;5;124;43mf\u001b[39;49m\u001b[38;5;124;43m'\u001b[39;49m\u001b[38;5;132;43;01m{\u001b[39;49;00m\u001b[43mview\u001b[49m\u001b[38;5;132;43;01m}\u001b[39;49;00m\u001b[38;5;124;43mCamera\u001b[39;49m\u001b[38;5;124;43m'\u001b[39;49m\u001b[43m,\u001b[49m\u001b[43m \u001b[49m\u001b[43mattribute\u001b[49m\u001b[38;5;241;43m=\u001b[39;49m\u001b[43m[\u001b[49m\u001b[43mtracker\u001b[49m\u001b[43m,\u001b[49m\u001b[43m \u001b[49m\u001b[38;5;124;43m'\u001b[39;49m\u001b[38;5;124;43mtimes\u001b[39;49m\u001b[38;5;124;43m'\u001b[39;49m\u001b[43m]\u001b[49m\u001b[43m,\u001b[49m\u001b[43m \u001b[49m\u001b[43mrevision\u001b[49m\u001b[38;5;241;43m=\u001b[39;49m\u001b[38;5;28;43mself\u001b[39;49m\u001b[38;5;241;43m.\u001b[39;49m\u001b[43mrevision\u001b[49m\u001b[43m \u001b[49m\u001b[38;5;129;43;01mor\u001b[39;49;00m\u001b[43m \u001b[49m\u001b[38;5;28;43;01mNone\u001b[39;49;00m\u001b[43m)\u001b[49m\n\u001b[1;32m   1390\u001b[0m     \u001b[38;5;66;03m# Double check if video timestamps are correct length or can be fixed\u001b[39;00m\n\u001b[1;32m   1391\u001b[0m     times_fixed, dlc \u001b[38;5;241m=\u001b[39m \u001b[38;5;28mself\u001b[39m\u001b[38;5;241m.\u001b[39m_check_video_timestamps(view, pose_raw[\u001b[38;5;124m'\u001b[39m\u001b[38;5;124mtimes\u001b[39m\u001b[38;5;124m'\u001b[39m], pose_raw[tracker])\n",
      "File \u001b[0;32m/opt/anaconda3/envs/iblenv/lib/python3.10/site-packages/one/util.py:47\u001b[0m, in \u001b[0;36mparse_id.<locals>.wrapper\u001b[0;34m(self, id, *args, **kwargs)\u001b[0m\n\u001b[1;32m     45\u001b[0m \u001b[38;5;28;01mif\u001b[39;00m eid \u001b[38;5;129;01mis\u001b[39;00m \u001b[38;5;28;01mNone\u001b[39;00m:\n\u001b[1;32m     46\u001b[0m     \u001b[38;5;28;01mraise\u001b[39;00m \u001b[38;5;167;01mValueError\u001b[39;00m(\u001b[38;5;124mf\u001b[39m\u001b[38;5;124m'\u001b[39m\u001b[38;5;124mCannot parse session ID \u001b[39m\u001b[38;5;124m\"\u001b[39m\u001b[38;5;132;01m{\u001b[39;00m\u001b[38;5;28mid\u001b[39m\u001b[38;5;132;01m}\u001b[39;00m\u001b[38;5;124m\"\u001b[39m\u001b[38;5;124m (session may not exist)\u001b[39m\u001b[38;5;124m'\u001b[39m)\n\u001b[0;32m---> 47\u001b[0m \u001b[38;5;28;01mreturn\u001b[39;00m \u001b[43mmethod\u001b[49m\u001b[43m(\u001b[49m\u001b[38;5;28;43mself\u001b[39;49m\u001b[43m,\u001b[49m\u001b[43m \u001b[49m\u001b[43meid\u001b[49m\u001b[43m,\u001b[49m\u001b[43m \u001b[49m\u001b[38;5;241;43m*\u001b[39;49m\u001b[43margs\u001b[49m\u001b[43m,\u001b[49m\u001b[43m \u001b[49m\u001b[38;5;241;43m*\u001b[39;49m\u001b[38;5;241;43m*\u001b[39;49m\u001b[43mkwargs\u001b[49m\u001b[43m)\u001b[49m\n",
      "File \u001b[0;32m/opt/anaconda3/envs/iblenv/lib/python3.10/site-packages/one/api.py:1061\u001b[0m, in \u001b[0;36mOne.load_object\u001b[0;34m(self, eid, obj, collection, revision, query_type, download_only, check_hash, **kwargs)\u001b[0m\n\u001b[1;32m   1059\u001b[0m \u001b[38;5;66;03m# For those that don't exist, download them\u001b[39;00m\n\u001b[1;32m   1060\u001b[0m offline \u001b[38;5;241m=\u001b[39m \u001b[38;5;28mself\u001b[39m\u001b[38;5;241m.\u001b[39mmode \u001b[38;5;241m==\u001b[39m \u001b[38;5;124m'\u001b[39m\u001b[38;5;124mlocal\u001b[39m\u001b[38;5;124m'\u001b[39m\n\u001b[0;32m-> 1061\u001b[0m files \u001b[38;5;241m=\u001b[39m \u001b[38;5;28;43mself\u001b[39;49m\u001b[38;5;241;43m.\u001b[39;49m\u001b[43m_check_filesystem\u001b[49m\u001b[43m(\u001b[49m\u001b[43mdatasets\u001b[49m\u001b[43m,\u001b[49m\u001b[43m \u001b[49m\u001b[43moffline\u001b[49m\u001b[38;5;241;43m=\u001b[39;49m\u001b[43moffline\u001b[49m\u001b[43m,\u001b[49m\u001b[43m \u001b[49m\u001b[43mcheck_hash\u001b[49m\u001b[38;5;241;43m=\u001b[39;49m\u001b[43mcheck_hash\u001b[49m\u001b[43m)\u001b[49m\n\u001b[1;32m   1062\u001b[0m files \u001b[38;5;241m=\u001b[39m [x \u001b[38;5;28;01mfor\u001b[39;00m x \u001b[38;5;129;01min\u001b[39;00m files \u001b[38;5;28;01mif\u001b[39;00m x]\n\u001b[1;32m   1063\u001b[0m \u001b[38;5;28;01mif\u001b[39;00m \u001b[38;5;129;01mnot\u001b[39;00m files:\n",
      "File \u001b[0;32m/opt/anaconda3/envs/iblenv/lib/python3.10/site-packages/one/api.py:663\u001b[0m, in \u001b[0;36mOne._check_filesystem\u001b[0;34m(self, datasets, offline, update_exists, check_hash)\u001b[0m\n\u001b[1;32m    661\u001b[0m dsets_to_download \u001b[38;5;241m=\u001b[39m datasets\u001b[38;5;241m.\u001b[39mloc[indices_to_download]\n\u001b[1;32m    662\u001b[0m \u001b[38;5;66;03m# Returns list of local file paths and set to variable\u001b[39;00m\n\u001b[0;32m--> 663\u001b[0m new_files \u001b[38;5;241m=\u001b[39m \u001b[38;5;28;43mself\u001b[39;49m\u001b[38;5;241;43m.\u001b[39;49m\u001b[43m_download_datasets\u001b[49m\u001b[43m(\u001b[49m\u001b[43mdsets_to_download\u001b[49m\u001b[43m,\u001b[49m\u001b[43m \u001b[49m\u001b[43mupdate_cache\u001b[49m\u001b[38;5;241;43m=\u001b[39;49m\u001b[43mupdate_exists\u001b[49m\u001b[43m)\u001b[49m\n\u001b[1;32m    664\u001b[0m \u001b[38;5;66;03m# Add each downloaded file to the output list of files\u001b[39;00m\n\u001b[1;32m    665\u001b[0m \u001b[38;5;28;01mfor\u001b[39;00m i, file \u001b[38;5;129;01min\u001b[39;00m \u001b[38;5;28mzip\u001b[39m(indices_to_download, new_files):\n",
      "File \u001b[0;32m/opt/anaconda3/envs/iblenv/lib/python3.10/site-packages/one/api.py:2450\u001b[0m, in \u001b[0;36mOneAlyx._download_datasets\u001b[0;34m(self, dsets, **kwargs)\u001b[0m\n\u001b[1;32m   2448\u001b[0m \u001b[38;5;28;01massert\u001b[39;00m \u001b[38;5;124m'\u001b[39m\u001b[38;5;124mexists_aws\u001b[39m\u001b[38;5;124m'\u001b[39m \u001b[38;5;129;01mnot\u001b[39;00m \u001b[38;5;129;01min\u001b[39;00m dsets \u001b[38;5;129;01mor\u001b[39;00m np\u001b[38;5;241m.\u001b[39mall(np\u001b[38;5;241m.\u001b[39mequal(dsets[\u001b[38;5;124m'\u001b[39m\u001b[38;5;124mexists_aws\u001b[39m\u001b[38;5;124m'\u001b[39m]\u001b[38;5;241m.\u001b[39mvalues, \u001b[38;5;28;01mTrue\u001b[39;00m))\n\u001b[1;32m   2449\u001b[0m _logger\u001b[38;5;241m.\u001b[39mdebug(\u001b[38;5;124m'\u001b[39m\u001b[38;5;124mDownloading from AWS\u001b[39m\u001b[38;5;124m'\u001b[39m)\n\u001b[0;32m-> 2450\u001b[0m files \u001b[38;5;241m=\u001b[39m \u001b[38;5;28;43mself\u001b[39;49m\u001b[38;5;241;43m.\u001b[39;49m\u001b[43m_download_aws\u001b[49m\u001b[43m(\u001b[49m\u001b[38;5;28;43mmap\u001b[39;49m\u001b[43m(\u001b[49m\u001b[38;5;28;43;01mlambda\u001b[39;49;00m\u001b[43m \u001b[49m\u001b[43mx\u001b[49m\u001b[43m:\u001b[49m\u001b[43m \u001b[49m\u001b[43mx\u001b[49m\u001b[43m[\u001b[49m\u001b[38;5;241;43m1\u001b[39;49m\u001b[43m]\u001b[49m\u001b[43m,\u001b[49m\u001b[43m \u001b[49m\u001b[43mdsets\u001b[49m\u001b[38;5;241;43m.\u001b[39;49m\u001b[43miterrows\u001b[49m\u001b[43m(\u001b[49m\u001b[43m)\u001b[49m\u001b[43m)\u001b[49m\u001b[43m,\u001b[49m\u001b[43m \u001b[49m\u001b[38;5;241;43m*\u001b[39;49m\u001b[38;5;241;43m*\u001b[39;49m\u001b[43mkwargs\u001b[49m\u001b[43m)\u001b[49m\n\u001b[1;32m   2451\u001b[0m \u001b[38;5;66;03m# Trigger fallback download of any files missing on AWS\u001b[39;00m\n\u001b[1;32m   2452\u001b[0m \u001b[38;5;28;01massert\u001b[39;00m \u001b[38;5;28mall\u001b[39m(files), \u001b[38;5;124mf\u001b[39m\u001b[38;5;124m'\u001b[39m\u001b[38;5;132;01m{\u001b[39;00m\u001b[38;5;28msum\u001b[39m(\u001b[38;5;28mmap\u001b[39m(\u001b[38;5;28mbool\u001b[39m,\u001b[38;5;250m \u001b[39mfiles))\u001b[38;5;132;01m}\u001b[39;00m\u001b[38;5;124m datasets not found on AWS\u001b[39m\u001b[38;5;124m'\u001b[39m\n",
      "File \u001b[0;32m/opt/anaconda3/envs/iblenv/lib/python3.10/site-packages/one/api.py:2524\u001b[0m, in \u001b[0;36mOneAlyx._download_aws\u001b[0;34m(self, dsets, update_exists, keep_uuid, **_)\u001b[0m\n\u001b[1;32m   2522\u001b[0m         local_path \u001b[38;5;241m=\u001b[39m alfiles\u001b[38;5;241m.\u001b[39madd_uuid_string(local_path, uuid)\n\u001b[1;32m   2523\u001b[0m     local_path\u001b[38;5;241m.\u001b[39mparent\u001b[38;5;241m.\u001b[39mmkdir(exist_ok\u001b[38;5;241m=\u001b[39m\u001b[38;5;28;01mTrue\u001b[39;00m, parents\u001b[38;5;241m=\u001b[39m\u001b[38;5;28;01mTrue\u001b[39;00m)\n\u001b[0;32m-> 2524\u001b[0m     out_files\u001b[38;5;241m.\u001b[39mappend(\u001b[43maws\u001b[49m\u001b[38;5;241;43m.\u001b[39;49m\u001b[43ms3_download_file\u001b[49m\u001b[43m(\u001b[49m\n\u001b[1;32m   2525\u001b[0m \u001b[43m        \u001b[49m\u001b[43msource_path\u001b[49m\u001b[43m,\u001b[49m\u001b[43m \u001b[49m\u001b[43mlocal_path\u001b[49m\u001b[43m,\u001b[49m\u001b[43m \u001b[49m\u001b[43ms3\u001b[49m\u001b[38;5;241;43m=\u001b[39;49m\u001b[43ms3\u001b[49m\u001b[43m,\u001b[49m\u001b[43m \u001b[49m\u001b[43mbucket_name\u001b[49m\u001b[38;5;241;43m=\u001b[39;49m\u001b[43mbucket_name\u001b[49m\u001b[43m,\u001b[49m\u001b[43m \u001b[49m\u001b[43moverwrite\u001b[49m\u001b[38;5;241;43m=\u001b[39;49m\u001b[43mupdate_exists\u001b[49m\u001b[43m)\u001b[49m)\n\u001b[1;32m   2526\u001b[0m \u001b[38;5;28;01mreturn\u001b[39;00m [ALFPath(x) \u001b[38;5;28;01mif\u001b[39;00m x \u001b[38;5;28;01melse\u001b[39;00m x \u001b[38;5;28;01mfor\u001b[39;00m x \u001b[38;5;129;01min\u001b[39;00m out_files]\n",
      "File \u001b[0;32m/opt/anaconda3/envs/iblenv/lib/python3.10/site-packages/one/remote/aws.py:260\u001b[0m, in \u001b[0;36ms3_download_file\u001b[0;34m(source, destination, s3, bucket_name, overwrite)\u001b[0m\n\u001b[1;32m    257\u001b[0m         \u001b[38;5;28;01mreturn\u001b[39;00m destination\n\u001b[1;32m    258\u001b[0m     \u001b[38;5;28;01mwith\u001b[39;00m tqdm(total\u001b[38;5;241m=\u001b[39mfilesize, unit\u001b[38;5;241m=\u001b[39m\u001b[38;5;124m'\u001b[39m\u001b[38;5;124mB\u001b[39m\u001b[38;5;124m'\u001b[39m,\n\u001b[1;32m    259\u001b[0m               unit_scale\u001b[38;5;241m=\u001b[39m\u001b[38;5;28;01mTrue\u001b[39;00m, desc\u001b[38;5;241m=\u001b[39m\u001b[38;5;124mf\u001b[39m\u001b[38;5;124m'\u001b[39m\u001b[38;5;124m(S3) \u001b[39m\u001b[38;5;132;01m{\u001b[39;00mdestination\u001b[38;5;132;01m}\u001b[39;00m\u001b[38;5;124m'\u001b[39m) \u001b[38;5;28;01mas\u001b[39;00m t:\n\u001b[0;32m--> 260\u001b[0m         \u001b[43mfile_object\u001b[49m\u001b[38;5;241;43m.\u001b[39;49m\u001b[43mdownload_file\u001b[49m\u001b[43m(\u001b[49m\u001b[43mFilename\u001b[49m\u001b[38;5;241;43m=\u001b[39;49m\u001b[38;5;28;43mstr\u001b[39;49m\u001b[43m(\u001b[49m\u001b[43mdestination\u001b[49m\u001b[43m)\u001b[49m\u001b[43m,\u001b[49m\u001b[43m \u001b[49m\u001b[43mCallback\u001b[49m\u001b[38;5;241;43m=\u001b[39;49m\u001b[43m_callback_hook\u001b[49m\u001b[43m(\u001b[49m\u001b[43mt\u001b[49m\u001b[43m)\u001b[49m\u001b[43m)\u001b[49m\n\u001b[1;32m    261\u001b[0m \u001b[38;5;28;01mexcept\u001b[39;00m (NoCredentialsError, PartialCredentialsError) \u001b[38;5;28;01mas\u001b[39;00m ex:\n\u001b[1;32m    262\u001b[0m     \u001b[38;5;28;01mraise\u001b[39;00m ex  \u001b[38;5;66;03m# Credentials need updating in Alyx # pragma: no cover\u001b[39;00m\n",
      "File \u001b[0;32m/opt/anaconda3/envs/iblenv/lib/python3.10/site-packages/boto3/s3/inject.py:359\u001b[0m, in \u001b[0;36mobject_download_file\u001b[0;34m(self, Filename, ExtraArgs, Callback, Config)\u001b[0m\n\u001b[1;32m    328\u001b[0m \u001b[38;5;28;01mdef\u001b[39;00m \u001b[38;5;21mobject_download_file\u001b[39m(\n\u001b[1;32m    329\u001b[0m     \u001b[38;5;28mself\u001b[39m, Filename, ExtraArgs\u001b[38;5;241m=\u001b[39m\u001b[38;5;28;01mNone\u001b[39;00m, Callback\u001b[38;5;241m=\u001b[39m\u001b[38;5;28;01mNone\u001b[39;00m, Config\u001b[38;5;241m=\u001b[39m\u001b[38;5;28;01mNone\u001b[39;00m\n\u001b[1;32m    330\u001b[0m ):\n\u001b[1;32m    331\u001b[0m \u001b[38;5;250m    \u001b[39m\u001b[38;5;124;03m\"\"\"Download an S3 object to a file.\u001b[39;00m\n\u001b[1;32m    332\u001b[0m \n\u001b[1;32m    333\u001b[0m \u001b[38;5;124;03m    Usage::\u001b[39;00m\n\u001b[0;32m   (...)\u001b[0m\n\u001b[1;32m    357\u001b[0m \u001b[38;5;124;03m        transfer.\u001b[39;00m\n\u001b[1;32m    358\u001b[0m \u001b[38;5;124;03m    \"\"\"\u001b[39;00m\n\u001b[0;32m--> 359\u001b[0m     \u001b[38;5;28;01mreturn\u001b[39;00m \u001b[38;5;28;43mself\u001b[39;49m\u001b[38;5;241;43m.\u001b[39;49m\u001b[43mmeta\u001b[49m\u001b[38;5;241;43m.\u001b[39;49m\u001b[43mclient\u001b[49m\u001b[38;5;241;43m.\u001b[39;49m\u001b[43mdownload_file\u001b[49m\u001b[43m(\u001b[49m\n\u001b[1;32m    360\u001b[0m \u001b[43m        \u001b[49m\u001b[43mBucket\u001b[49m\u001b[38;5;241;43m=\u001b[39;49m\u001b[38;5;28;43mself\u001b[39;49m\u001b[38;5;241;43m.\u001b[39;49m\u001b[43mbucket_name\u001b[49m\u001b[43m,\u001b[49m\n\u001b[1;32m    361\u001b[0m \u001b[43m        \u001b[49m\u001b[43mKey\u001b[49m\u001b[38;5;241;43m=\u001b[39;49m\u001b[38;5;28;43mself\u001b[39;49m\u001b[38;5;241;43m.\u001b[39;49m\u001b[43mkey\u001b[49m\u001b[43m,\u001b[49m\n\u001b[1;32m    362\u001b[0m \u001b[43m        \u001b[49m\u001b[43mFilename\u001b[49m\u001b[38;5;241;43m=\u001b[39;49m\u001b[43mFilename\u001b[49m\u001b[43m,\u001b[49m\n\u001b[1;32m    363\u001b[0m \u001b[43m        \u001b[49m\u001b[43mExtraArgs\u001b[49m\u001b[38;5;241;43m=\u001b[39;49m\u001b[43mExtraArgs\u001b[49m\u001b[43m,\u001b[49m\n\u001b[1;32m    364\u001b[0m \u001b[43m        \u001b[49m\u001b[43mCallback\u001b[49m\u001b[38;5;241;43m=\u001b[39;49m\u001b[43mCallback\u001b[49m\u001b[43m,\u001b[49m\n\u001b[1;32m    365\u001b[0m \u001b[43m        \u001b[49m\u001b[43mConfig\u001b[49m\u001b[38;5;241;43m=\u001b[39;49m\u001b[43mConfig\u001b[49m\u001b[43m,\u001b[49m\n\u001b[1;32m    366\u001b[0m \u001b[43m    \u001b[49m\u001b[43m)\u001b[49m\n",
      "File \u001b[0;32m/opt/anaconda3/envs/iblenv/lib/python3.10/site-packages/boto3/s3/inject.py:190\u001b[0m, in \u001b[0;36mdownload_file\u001b[0;34m(self, Bucket, Key, Filename, ExtraArgs, Callback, Config)\u001b[0m\n\u001b[1;32m    155\u001b[0m \u001b[38;5;250m\u001b[39m\u001b[38;5;124;03m\"\"\"Download an S3 object to a file.\u001b[39;00m\n\u001b[1;32m    156\u001b[0m \n\u001b[1;32m    157\u001b[0m \u001b[38;5;124;03mUsage::\u001b[39;00m\n\u001b[0;32m   (...)\u001b[0m\n\u001b[1;32m    187\u001b[0m \u001b[38;5;124;03m    transfer.\u001b[39;00m\n\u001b[1;32m    188\u001b[0m \u001b[38;5;124;03m\"\"\"\u001b[39;00m\n\u001b[1;32m    189\u001b[0m \u001b[38;5;28;01mwith\u001b[39;00m S3Transfer(\u001b[38;5;28mself\u001b[39m, Config) \u001b[38;5;28;01mas\u001b[39;00m transfer:\n\u001b[0;32m--> 190\u001b[0m     \u001b[38;5;28;01mreturn\u001b[39;00m \u001b[43mtransfer\u001b[49m\u001b[38;5;241;43m.\u001b[39;49m\u001b[43mdownload_file\u001b[49m\u001b[43m(\u001b[49m\n\u001b[1;32m    191\u001b[0m \u001b[43m        \u001b[49m\u001b[43mbucket\u001b[49m\u001b[38;5;241;43m=\u001b[39;49m\u001b[43mBucket\u001b[49m\u001b[43m,\u001b[49m\n\u001b[1;32m    192\u001b[0m \u001b[43m        \u001b[49m\u001b[43mkey\u001b[49m\u001b[38;5;241;43m=\u001b[39;49m\u001b[43mKey\u001b[49m\u001b[43m,\u001b[49m\n\u001b[1;32m    193\u001b[0m \u001b[43m        \u001b[49m\u001b[43mfilename\u001b[49m\u001b[38;5;241;43m=\u001b[39;49m\u001b[43mFilename\u001b[49m\u001b[43m,\u001b[49m\n\u001b[1;32m    194\u001b[0m \u001b[43m        \u001b[49m\u001b[43mextra_args\u001b[49m\u001b[38;5;241;43m=\u001b[39;49m\u001b[43mExtraArgs\u001b[49m\u001b[43m,\u001b[49m\n\u001b[1;32m    195\u001b[0m \u001b[43m        \u001b[49m\u001b[43mcallback\u001b[49m\u001b[38;5;241;43m=\u001b[39;49m\u001b[43mCallback\u001b[49m\u001b[43m,\u001b[49m\n\u001b[1;32m    196\u001b[0m \u001b[43m    \u001b[49m\u001b[43m)\u001b[49m\n",
      "File \u001b[0;32m/opt/anaconda3/envs/iblenv/lib/python3.10/site-packages/boto3/s3/transfer.py:326\u001b[0m, in \u001b[0;36mS3Transfer.download_file\u001b[0;34m(self, bucket, key, filename, extra_args, callback)\u001b[0m\n\u001b[1;32m    322\u001b[0m future \u001b[38;5;241m=\u001b[39m \u001b[38;5;28mself\u001b[39m\u001b[38;5;241m.\u001b[39m_manager\u001b[38;5;241m.\u001b[39mdownload(\n\u001b[1;32m    323\u001b[0m     bucket, key, filename, extra_args, subscribers\n\u001b[1;32m    324\u001b[0m )\n\u001b[1;32m    325\u001b[0m \u001b[38;5;28;01mtry\u001b[39;00m:\n\u001b[0;32m--> 326\u001b[0m     \u001b[43mfuture\u001b[49m\u001b[38;5;241;43m.\u001b[39;49m\u001b[43mresult\u001b[49m\u001b[43m(\u001b[49m\u001b[43m)\u001b[49m\n\u001b[1;32m    327\u001b[0m \u001b[38;5;66;03m# This is for backwards compatibility where when retries are\u001b[39;00m\n\u001b[1;32m    328\u001b[0m \u001b[38;5;66;03m# exceeded we need to throw the same error from boto3 instead of\u001b[39;00m\n\u001b[1;32m    329\u001b[0m \u001b[38;5;66;03m# s3transfer's built in RetriesExceededError as current users are\u001b[39;00m\n\u001b[1;32m    330\u001b[0m \u001b[38;5;66;03m# catching the boto3 one instead of the s3transfer exception to do\u001b[39;00m\n\u001b[1;32m    331\u001b[0m \u001b[38;5;66;03m# their own retries.\u001b[39;00m\n\u001b[1;32m    332\u001b[0m \u001b[38;5;28;01mexcept\u001b[39;00m S3TransferRetriesExceededError \u001b[38;5;28;01mas\u001b[39;00m e:\n",
      "File \u001b[0;32m/opt/anaconda3/envs/iblenv/lib/python3.10/site-packages/s3transfer/futures.py:106\u001b[0m, in \u001b[0;36mTransferFuture.result\u001b[0;34m(self)\u001b[0m\n\u001b[1;32m    104\u001b[0m \u001b[38;5;28;01mexcept\u001b[39;00m \u001b[38;5;167;01mKeyboardInterrupt\u001b[39;00m \u001b[38;5;28;01mas\u001b[39;00m e:\n\u001b[1;32m    105\u001b[0m     \u001b[38;5;28mself\u001b[39m\u001b[38;5;241m.\u001b[39mcancel()\n\u001b[0;32m--> 106\u001b[0m     \u001b[38;5;28;01mraise\u001b[39;00m e\n",
      "File \u001b[0;32m/opt/anaconda3/envs/iblenv/lib/python3.10/site-packages/s3transfer/futures.py:103\u001b[0m, in \u001b[0;36mTransferFuture.result\u001b[0;34m(self)\u001b[0m\n\u001b[1;32m     98\u001b[0m \u001b[38;5;28;01mdef\u001b[39;00m \u001b[38;5;21mresult\u001b[39m(\u001b[38;5;28mself\u001b[39m):\n\u001b[1;32m     99\u001b[0m     \u001b[38;5;28;01mtry\u001b[39;00m:\n\u001b[1;32m    100\u001b[0m         \u001b[38;5;66;03m# Usually the result() method blocks until the transfer is done,\u001b[39;00m\n\u001b[1;32m    101\u001b[0m         \u001b[38;5;66;03m# however if a KeyboardInterrupt is raised we want want to exit\u001b[39;00m\n\u001b[1;32m    102\u001b[0m         \u001b[38;5;66;03m# out of this and propagate the exception.\u001b[39;00m\n\u001b[0;32m--> 103\u001b[0m         \u001b[38;5;28;01mreturn\u001b[39;00m \u001b[38;5;28;43mself\u001b[39;49m\u001b[38;5;241;43m.\u001b[39;49m\u001b[43m_coordinator\u001b[49m\u001b[38;5;241;43m.\u001b[39;49m\u001b[43mresult\u001b[49m\u001b[43m(\u001b[49m\u001b[43m)\u001b[49m\n\u001b[1;32m    104\u001b[0m     \u001b[38;5;28;01mexcept\u001b[39;00m \u001b[38;5;167;01mKeyboardInterrupt\u001b[39;00m \u001b[38;5;28;01mas\u001b[39;00m e:\n\u001b[1;32m    105\u001b[0m         \u001b[38;5;28mself\u001b[39m\u001b[38;5;241m.\u001b[39mcancel()\n",
      "File \u001b[0;32m/opt/anaconda3/envs/iblenv/lib/python3.10/site-packages/s3transfer/futures.py:261\u001b[0m, in \u001b[0;36mTransferCoordinator.result\u001b[0;34m(self)\u001b[0m\n\u001b[1;32m    251\u001b[0m \u001b[38;5;250m\u001b[39m\u001b[38;5;124;03m\"\"\"Waits until TransferFuture is done and returns the result\u001b[39;00m\n\u001b[1;32m    252\u001b[0m \n\u001b[1;32m    253\u001b[0m \u001b[38;5;124;03mIf the TransferFuture succeeded, it will return the result. If the\u001b[39;00m\n\u001b[1;32m    254\u001b[0m \u001b[38;5;124;03mTransferFuture failed, it will raise the exception associated to the\u001b[39;00m\n\u001b[1;32m    255\u001b[0m \u001b[38;5;124;03mfailure.\u001b[39;00m\n\u001b[1;32m    256\u001b[0m \u001b[38;5;124;03m\"\"\"\u001b[39;00m\n\u001b[1;32m    257\u001b[0m \u001b[38;5;66;03m# Doing a wait() with no timeout cannot be interrupted in python2 but\u001b[39;00m\n\u001b[1;32m    258\u001b[0m \u001b[38;5;66;03m# can be interrupted in python3 so we just wait with the largest\u001b[39;00m\n\u001b[1;32m    259\u001b[0m \u001b[38;5;66;03m# possible value integer value, which is on the scale of billions of\u001b[39;00m\n\u001b[1;32m    260\u001b[0m \u001b[38;5;66;03m# years...\u001b[39;00m\n\u001b[0;32m--> 261\u001b[0m \u001b[38;5;28;43mself\u001b[39;49m\u001b[38;5;241;43m.\u001b[39;49m\u001b[43m_done_event\u001b[49m\u001b[38;5;241;43m.\u001b[39;49m\u001b[43mwait\u001b[49m\u001b[43m(\u001b[49m\u001b[43mMAXINT\u001b[49m\u001b[43m)\u001b[49m\n\u001b[1;32m    263\u001b[0m \u001b[38;5;66;03m# Once done waiting, raise an exception if present or return the\u001b[39;00m\n\u001b[1;32m    264\u001b[0m \u001b[38;5;66;03m# final result.\u001b[39;00m\n\u001b[1;32m    265\u001b[0m \u001b[38;5;28;01mif\u001b[39;00m \u001b[38;5;28mself\u001b[39m\u001b[38;5;241m.\u001b[39m_exception:\n",
      "File \u001b[0;32m/opt/anaconda3/envs/iblenv/lib/python3.10/threading.py:607\u001b[0m, in \u001b[0;36mEvent.wait\u001b[0;34m(self, timeout)\u001b[0m\n\u001b[1;32m    605\u001b[0m signaled \u001b[38;5;241m=\u001b[39m \u001b[38;5;28mself\u001b[39m\u001b[38;5;241m.\u001b[39m_flag\n\u001b[1;32m    606\u001b[0m \u001b[38;5;28;01mif\u001b[39;00m \u001b[38;5;129;01mnot\u001b[39;00m signaled:\n\u001b[0;32m--> 607\u001b[0m     signaled \u001b[38;5;241m=\u001b[39m \u001b[38;5;28;43mself\u001b[39;49m\u001b[38;5;241;43m.\u001b[39;49m\u001b[43m_cond\u001b[49m\u001b[38;5;241;43m.\u001b[39;49m\u001b[43mwait\u001b[49m\u001b[43m(\u001b[49m\u001b[43mtimeout\u001b[49m\u001b[43m)\u001b[49m\n\u001b[1;32m    608\u001b[0m \u001b[38;5;28;01mreturn\u001b[39;00m signaled\n",
      "File \u001b[0;32m/opt/anaconda3/envs/iblenv/lib/python3.10/threading.py:320\u001b[0m, in \u001b[0;36mCondition.wait\u001b[0;34m(self, timeout)\u001b[0m\n\u001b[1;32m    318\u001b[0m \u001b[38;5;28;01mtry\u001b[39;00m:    \u001b[38;5;66;03m# restore state no matter what (e.g., KeyboardInterrupt)\u001b[39;00m\n\u001b[1;32m    319\u001b[0m     \u001b[38;5;28;01mif\u001b[39;00m timeout \u001b[38;5;129;01mis\u001b[39;00m \u001b[38;5;28;01mNone\u001b[39;00m:\n\u001b[0;32m--> 320\u001b[0m         \u001b[43mwaiter\u001b[49m\u001b[38;5;241;43m.\u001b[39;49m\u001b[43macquire\u001b[49m\u001b[43m(\u001b[49m\u001b[43m)\u001b[49m\n\u001b[1;32m    321\u001b[0m         gotit \u001b[38;5;241m=\u001b[39m \u001b[38;5;28;01mTrue\u001b[39;00m\n\u001b[1;32m    322\u001b[0m     \u001b[38;5;28;01melse\u001b[39;00m:\n",
      "\u001b[0;31mKeyboardInterrupt\u001b[0m: "
     ]
    }
   ],
   "source": [
    "for s, session in enumerate(sessions_to_process):\n",
    "    process_design_matrix(session)"
   ]
  },
  {
   "cell_type": "code",
   "execution_count": null,
   "id": "93c25bea",
   "metadata": {},
   "outputs": [],
   "source": []
  },
  {
   "cell_type": "code",
   "execution_count": null,
   "id": "e28b37cd",
   "metadata": {},
   "outputs": [],
   "source": []
  },
  {
   "cell_type": "code",
   "execution_count": null,
   "id": "99beaeed",
   "metadata": {},
   "outputs": [],
   "source": []
  },
  {
   "cell_type": "code",
   "execution_count": null,
   "id": "629076af",
   "metadata": {},
   "outputs": [],
   "source": []
  },
  {
   "cell_type": "code",
   "execution_count": 87,
   "id": "1e1efbff",
   "metadata": {},
   "outputs": [
    {
     "data": {
      "text/plain": [
       "(0.0, 20.0)"
      ]
     },
     "execution_count": 87,
     "metadata": {},
     "output_type": "execute_result"
    },
    {
     "data": {
      "image/png": "[encoded data removed]",
      "text/plain": [
       "<Figure size 640x480 with 1 Axes>"
      ]
     },
     "metadata": {},
     "output_type": "display_data"
    }
   ],
   "source": [
    "plt.plot(rt, lk_down)\n",
    "plt.xlim([100, 120])\n",
    "plt.ylim([0, 20])"
   ]
  },
  {
   "cell_type": "code",
   "execution_count": 79,
   "id": "ca851bc6",
   "metadata": {},
   "outputs": [
    {
     "data": {
      "text/plain": [
       "(0.0, 15.0)"
      ]
     },
     "execution_count": 79,
     "metadata": {},
     "output_type": "execute_result"
    },
    {
     "data": {
      "image/png": "[encoded data removed]",
      "text/plain": [
       "<Figure size 640x480 with 1 Axes>"
      ]
     },
     "metadata": {},
     "output_type": "display_data"
    }
   ],
   "source": [
    "plt.plot(me['rightCamera']['times'], interp_pose,alpha=.7)\n",
    "plt.plot(me['rightCamera']['times'], smoothed, alpha=.7)\n",
    "\n",
    "plt.xlim([601, 602])\n",
    "plt.ylim([0, 15])\n",
    "# plt.ylim([200, 600])"
   ]
  },
  {
   "cell_type": "code",
   "execution_count": 81,
   "id": "bad6dc74",
   "metadata": {},
   "outputs": [
    {
     "data": {
      "text/plain": [
       "(0.0, 15.0)"
      ]
     },
     "execution_count": 81,
     "metadata": {},
     "output_type": "execute_result"
    },
    {
     "data": {
      "image/png": "[encoded data removed]",
      "text/plain": [
       "<Figure size 640x480 with 1 Axes>"
      ]
     },
     "metadata": {},
     "output_type": "display_data"
    }
   ],
   "source": [
    "plt.plot(me['rightCamera']['times'], interp_pose,alpha=.7)\n",
    "plt.plot(me['rightCamera']['times'], smoothed, alpha=.7)\n",
    "\n",
    "plt.xlim([601, 602])\n",
    "plt.ylim([0, 15])\n",
    "# plt.ylim([200, 600])"
   ]
  },
  {
   "cell_type": "code",
   "execution_count": 19,
   "id": "c216a9e2",
   "metadata": {},
   "outputs": [
    {
     "data": {
      "text/plain": [
       "(300.0, 310.0)"
      ]
     },
     "execution_count": 19,
     "metadata": {},
     "output_type": "execute_result"
    },
    {
     "data": {
      "image/png": "[encoded data removed]",
      "text/plain": [
       "<Figure size 640x480 with 1 Axes>"
      ]
     },
     "metadata": {},
     "output_type": "display_data"
    }
   ],
   "source": [
    "import matplotlib.pyplot as plt\n",
    "\n",
    "plt.plot(df.Bin, df.r_paw_x)\n",
    "plt.plot(df.Bin, df.r_paw_y)\n",
    "plt.plot(df.Bin, df.l_paw_x)\n",
    "plt.plot(df.Bin, df.l_paw_y)\n",
    "plt.xlim([300, 310])"
   ]
  },
  {
   "cell_type": "code",
   "execution_count": 131,
   "id": "16b370da",
   "metadata": {},
   "outputs": [
    {
     "data": {
      "text/plain": [
       "(-1.5, 10.0)"
      ]
     },
     "execution_count": 131,
     "metadata": {},
     "output_type": "execute_result"
    },
    {
     "data": {
      "image/png": "[encoded data removed]",
      "text/plain": [
       "<Figure size 640x480 with 1 Axes>"
      ]
     },
     "metadata": {},
     "output_type": "display_data"
    }
   ],
   "source": [
    "import matplotlib.pyplot as plt\n",
    "# plt.plot(mer_down, alpha=0.5)\n",
    "# plt.plot(mer_down, alpha=0.5)\n",
    "plt.plot(mel_down, alpha=0.5)\n",
    "plt.plot(np.nanmean([mel_down, mer_down], axis=0))\n",
    "# plt.plot(zscore(np.nanmean([mel_down, mer_down], axis=0), nan_policy='omit'))\n",
    "\n",
    "init=1000\n",
    "plt.xlim([init, init+500])\n",
    "plt.ylim([-1.5, 10])"
   ]
  },
  {
   "cell_type": "code",
   "execution_count": 136,
   "id": "28a4b0a8",
   "metadata": {},
   "outputs": [
    {
     "data": {
      "text/plain": [
       "(2000.0, 3000.0)"
      ]
     },
     "execution_count": 136,
     "metadata": {},
     "output_type": "execute_result"
    },
    {
     "data": {
      "image/png": "[encoded data removed]",
      "text/plain": [
       "<Figure size 640x480 with 1 Axes>"
      ]
     },
     "metadata": {},
     "output_type": "display_data"
    }
   ],
   "source": [
    "import matplotlib.pyplot as plt\n",
    "# plt.plot(mer_down, alpha=0.5)\n",
    "plt.plot(lpx_down, alpha=0.5)\n",
    "plt.plot(rpx_down, alpha=0.5)\n",
    "init=2000\n",
    "plt.xlim([init, init+1000])\n",
    "# plt.ylim([-1.5, 5])"
   ]
  },
  {
   "cell_type": "code",
   "execution_count": null,
   "id": "7a45d1ad",
   "metadata": {},
   "outputs": [],
   "source": [
    "def process_design_matrix(session):    \n",
    "\n",
    "    file_path = one.eid2path(session)\n",
    "    if prefix == '/home/ines/repositories/':\n",
    "        mouse_name = file_path.parts[8]\n",
    "    else:\n",
    "        mouse_name = file_path.parts[7]\n",
    "\n",
    "    \"\"\" LOAD VARIABLES \"\"\"\n",
    "    sl = SessionLoader(eid=session, one=one)\n",
    "    sl.load_pose(views=['left', 'right'], tracker='lightningPose')\n",
    "    sl.load_session_data(trials=True, wheel=True, motion_energy=True)\n",
    "\n",
    "    # Check if all data is available\n",
    "    if np.sum(sl.data_info['is_loaded']) >= 4:\n",
    "\n",
    "        # Poses\n",
    "        poses = sl.pose\n",
    "        lc_t = np.asarray(poses['leftCamera']['times'])\n",
    "        rc_t = np.asarray(poses['rightCamera']['times'])\n",
    "        # Motion energy\n",
    "        me = sl.motion_energy\n",
    "        mel_t = lc_t\n",
    "        mer_t = rc_t\n",
    "        motion_energy_l = zscore(me['leftCamera']['whiskerMotionEnergy'], nan_policy='omit').astype(np.float32)\n",
    "        motion_energy_r = zscore(me['rightCamera']['whiskerMotionEnergy'], nan_policy='omit').astype(np.float32)\n",
    "        # Licks\n",
    "        features = ['tongue_end_l_x', 'tongue_end_l_y', 'tongue_end_r_x', 'tongue_end_r_y']\n",
    "        lick_t, licks = merge_licks(poses, features, common_fs=150)\n",
    "        # Paws\n",
    "        l_paw_x = interpolate_nans(poses['leftCamera']['paw_r_x'], 'left')\n",
    "        l_paw_y = interpolate_nans(poses['leftCamera']['paw_r_y'], 'left')\n",
    "        r_paw_x = interpolate_nans(poses['rightCamera']['paw_r_x'], 'right')\n",
    "        r_paw_y = interpolate_nans(poses['rightCamera']['paw_r_y'], 'right')\n",
    "        l_paw_t = lc_t\n",
    "        r_paw_t = rc_t\n",
    "        # Wheel\n",
    "        wheel = sl.wheel\n",
    "        wheel_t = np.asarray(wheel['times'], dtype=np.float64)\n",
    "        wheel_vel = wheel['velocity'].astype(np.float32)\n",
    "\n",
    "        # Common resampling window\n",
    "        onset = max(lc_t.min(), rc_t.min(), wheel_t.min(), lick_t.min())\n",
    "        offset = min(lc_t.max(), rc_t.max(), wheel_t.max(), lick_t.max())\n",
    "        fs = 60\n",
    "        ref_t = np.arange(onset, offset, 1 / fs, dtype=np.float64)\n",
    "\n",
    "        # Restrict to time window\n",
    "        def restrict(t, x):\n",
    "            mask = (t >= onset) & (t <= offset)\n",
    "            return t[mask], x[mask]\n",
    "\n",
    "        lc_t, motion_energy_l = restrict(mel_t, motion_energy_l)\n",
    "        rc_t, motion_energy_r = restrict(mer_t, motion_energy_r)\n",
    "        wheel_t, wheel_vel = restrict(wheel_t, wheel_vel)\n",
    "        l_paw_t, l_paw_x = restrict(l_paw_t, l_paw_x)\n",
    "        _, l_paw_y = restrict(l_paw_t, l_paw_y)\n",
    "        r_paw_t, r_paw_x = restrict(r_paw_t, r_paw_x)\n",
    "        _, r_paw_y = restrict(r_paw_t, r_paw_y)\n",
    "        lick_t, licks = restrict(lick_t, licks)\n",
    "\n",
    "        # Resample\n",
    "        mel_down, rt = resample_common_time(ref_t, mel_t, motion_energy_l, kind='linear')\n",
    "        mer_down, _ = resample_common_time(ref_t, mer_t, motion_energy_r, kind='linear')\n",
    "        wh_down, _ = resample_common_time(ref_t, wheel_t, wheel_vel, kind='linear')\n",
    "        lk_down, _ = resample_common_time(ref_t, lick_t, licks, kind='nearest')\n",
    "        lpx_down, _ = resample_common_time(ref_t, l_paw_t, l_paw_x, kind='linear')\n",
    "        lpy_down, _ = resample_common_time(ref_t, l_paw_t, l_paw_y, kind='linear')\n",
    "        rpx_down, _ = resample_common_time(ref_t, r_paw_t, r_paw_x, kind='linear')\n",
    "        rpy_down, _ = resample_common_time(ref_t, r_paw_t, r_paw_y, kind='linear')\n",
    "\n",
    "        # Create design matrix\n",
    "        df = pd.DataFrame({\n",
    "            'Bin': rt,\n",
    "            'Lick count': lk_down.astype(np.int8),\n",
    "            'avg_wheel_vel': wh_down,\n",
    "            'whisker_me': np.nanmean(mel_down, mer_down),\n",
    "            'l_paw_x': lpx_down,\n",
    "            'l_paw_y': lpy_down,\n",
    "            'r_paw_x': rpx_down,\n",
    "            'r_paw_y': rpy_down,\n",
    "        })\n",
    "\n",
    "        # Wavelet decomposition of wheel velocity\n",
    "        dt = np.round(np.mean(np.diff(rt)), 3)\n",
    "        amp, Q, x_hat = fast_wavelet_morlet_convolution_parallel(wh_down, f, omega0, dt)\n",
    "\n",
    "        # \"\"\" GROUP DATA INTO DESIGN MATRIX \"\"\"\n",
    "        # design_matrix = pd.DataFrame(columns=['Bin', 'avg_wheel_vel', 'whisker_me', 'Lick count', \n",
    "        #                                       'l_paw_x', 'l_paw_y', 'r_paw_x', 'r_paw_y'])\n",
    "        # design_matrix['Bin'] = corrected_me_t.copy()\n",
    "        # design_matrix['Lick count'] = donwsampled_lick.copy()\n",
    "        # design_matrix['avg_wheel_vel'] = donwsampled_wheel.copy()\n",
    "        # design_matrix['whisker_me'] = donwsampled_me.copy()\n",
    "        # design_matrix['l_paw_x'] = donwsampled_l_paw_x.copy()\n",
    "        # design_matrix['l_paw_y'] = donwsampled_l_paw_y.copy()\n",
    "        # design_matrix['r_paw_x'] = donwsampled_r_paw_x.copy()\n",
    "        # design_matrix['r_paw_y'] = donwsampled_r_paw_y.copy()\n",
    "\n",
    "        # Wavelet transforms\n",
    "        for i, frequency in enumerate(f):\n",
    "            # Create new column with frequency\n",
    "            design_matrix[str(frequency)] = design_matrix['Bin'] * np.nan\n",
    "            design_matrix[str(frequency)] = amp[i, :]\n",
    "\n",
    "\n",
    "        # # Licks \n",
    "        # features = ['tongue_end_l_x', 'tongue_end_l_y','tongue_end_r_x', 'tongue_end_r_y']        \n",
    "        # common_fs = 150 \n",
    "        # poses = sl.pose\n",
    "        # licks_time, licks = merge_licks(poses, features, common_fs)\n",
    "\n",
    "        # # Left paw\n",
    "        # l_paw_speeds = get_speed(poses['leftCamera'], poses['leftCamera']['times'], 'left', True, feature='paw_r')\n",
    "        # l_paw_time = np.array(l_paw_speeds['left'][0])\n",
    "        # # l_paw_x = l_paw_speeds['left'][1]\n",
    "        # # l_paw_y = l_paw_speeds['left'][2]\n",
    "        # # Right paw\n",
    "        # r_paw_speeds = get_speed(poses['rightCamera'], poses['rightCamera']['times'], 'right', True, feature='paw_r')\n",
    "        # r_paw_time = np.array(r_paw_speeds['right'][0])\n",
    "        # # r_paw_x = r_paw_speeds['right'][1]\n",
    "        # # r_paw_y = r_paw_speeds['right'][2]\n",
    "\n",
    "        # # Left paw\n",
    "        # l_paw_time = np.array(l_paw_speeds['left'][0])\n",
    "        # l_paw_x = interpolate_nans(poses['leftCamera']['paw_r_x'], 'left')\n",
    "        # l_paw_y = interpolate_nans(poses['leftCamera']['paw_r_y'], 'left')\n",
    "\n",
    "        # # Right paw\n",
    "        # r_paw_time = np.array(r_paw_speeds['right'][0])\n",
    "        # r_paw_x = interpolate_nans(poses['rightCamera']['paw_r_x'], 'right')\n",
    "        # r_paw_y = interpolate_nans(poses['rightCamera']['paw_r_y'], 'right')\n",
    "\n",
    "        # # Wheel\n",
    "        # wheel = sl.wheel\n",
    "        # wheel_time = np.array(wheel['times'])\n",
    "        # wheel_vel = np.array(wheel['velocity'])\n",
    "        \n",
    "        # \"\"\" COMMON TIMESTAMPS AND RESAMPLING\"\"\"\n",
    "        # # Use reference time, truncate and resample\n",
    "        # onset = np.max([np.min(poses['leftCamera']['times']), np.min(poses['rightCamera']['times']), np.min(wheel['times'])])\n",
    "        # offset = np.min([np.max(poses['leftCamera']['times']), np.max(poses['rightCamera']['times']), np.max(wheel['times'])])\n",
    "        \n",
    "        # common_fs = 60\n",
    "        # # Set common sampling rate (high rather than low)\n",
    "        # reference_time = np.arange(onset, offset, 1/common_fs)  # uniform timestamps\n",
    "        \n",
    "        # motion_energy = motion_energy[np.where((me_time >= onset) & (me_time <= offset))[0]]\n",
    "        # me_time = me_time[np.where((me_time >= onset) & (me_time <= offset))[0]]\n",
    "        # donwsampled_me, corrected_me_t = resample_common_time(reference_time, me_time, motion_energy, kind='linear', fill_gaps=None)\n",
    "\n",
    "        # wheel_vel = wheel_vel[np.where((wheel_time >= onset) & (wheel_time < offset))]\n",
    "        # wheel_time = wheel_time[np.where((wheel_time >= onset) & (wheel_time < offset))]\n",
    "        # donwsampled_wheel, corrected_wheel_t = resample_common_time(reference_time, wheel_time, wheel_vel, kind='linear', fill_gaps=None)\n",
    "\n",
    "        # licks = licks[np.where((licks_time >= onset) & (licks_time < offset))]\n",
    "        # licks_time = licks_time[np.where((licks_time >= onset) & (licks_time < offset))]\n",
    "        # donwsampled_lick, corrected_lick_t = resample_common_time(reference_time, licks_time, licks, kind='nearest', fill_gaps=None)\n",
    "\n",
    "        # l_paw_x = l_paw_x[np.where((l_paw_time >= onset) & (l_paw_time < offset))]\n",
    "        # l_paw_y = l_paw_y[np.where((l_paw_time >= onset) & (l_paw_time < offset))]\n",
    "        # l_paw_time = l_paw_time[np.where((l_paw_time >= onset) & (l_paw_time < offset))]\n",
    "        # donwsampled_l_paw_x, corrected_l_paw_x_t = resample_common_time(reference_time, l_paw_time, l_paw_x, kind='linear', fill_gaps=None)\n",
    "        # donwsampled_l_paw_y, corrected_l_paw_y_t = resample_common_time(reference_time, l_paw_time, l_paw_y, kind='linear', fill_gaps=None)\n",
    "    \n",
    "        # r_paw_x = r_paw_x[np.where((r_paw_time >= onset) & (r_paw_time < offset))]\n",
    "        # r_paw_y = r_paw_y[np.where((r_paw_time >= onset) & (r_paw_time < offset))]\n",
    "        # r_paw_time = r_paw_time[np.where((r_paw_time >= onset) & (r_paw_time < offset))]\n",
    "        # donwsampled_r_paw_x, corrected_r_paw_x_t = resample_common_time(reference_time, r_paw_time, r_paw_x, kind='linear', fill_gaps=None)\n",
    "        # donwsampled_r_paw_y, corrected_r_paw_y_t = resample_common_time(reference_time, r_paw_time, r_paw_y, kind='linear', fill_gaps=None)\n",
    "\n",
    "        # # Check integrity of data\n",
    "        # assert (corrected_me_t == corrected_wheel_t).all(), print('Assertion error')\n",
    "        # assert (corrected_wheel_t == corrected_lick_t).all(), print('Assertion error')\n",
    "        # assert (corrected_lick_t == corrected_l_paw_x_t).all(), print('Assertion error')\n",
    "        # assert (corrected_l_paw_x_t == corrected_r_paw_x_t).all(), print('Assertion error')\n",
    "\n",
    "        # # Wavelet decomposition of wheel velocity\n",
    "        # dt = np.round(np.mean(np.diff(corrected_wheel_t)), 3)\n",
    "        # amp, Q, x_hat = fast_wavelet_morlet_convolution_parallel(donwsampled_wheel, f, omega0, dt)\n",
    "\n",
    "        # \"\"\" GROUP DATA INTO DESIGN MATRIX \"\"\"\n",
    "        # design_matrix = pd.DataFrame(columns=['Bin', 'avg_wheel_vel', 'whisker_me', 'Lick count', \n",
    "        #                                       'l_paw_x', 'l_paw_y', 'r_paw_x', 'r_paw_y'])\n",
    "        # design_matrix['Bin'] = corrected_me_t.copy()\n",
    "        # design_matrix['Lick count'] = donwsampled_lick.copy()\n",
    "        # design_matrix['avg_wheel_vel'] = donwsampled_wheel.copy()\n",
    "        # design_matrix['whisker_me'] = donwsampled_me.copy()\n",
    "        # design_matrix['l_paw_x'] = donwsampled_l_paw_x.copy()\n",
    "        # design_matrix['l_paw_y'] = donwsampled_l_paw_y.copy()\n",
    "        # design_matrix['r_paw_x'] = donwsampled_r_paw_x.copy()\n",
    "        # design_matrix['r_paw_y'] = donwsampled_r_paw_y.copy()\n",
    "\n",
    "        # # Wavelet transforms\n",
    "        # for i, frequency in enumerate(f):\n",
    "        #     # Create new column with frequency\n",
    "        #     design_matrix[str(frequency)] = design_matrix['Bin'] * np.nan\n",
    "        #     design_matrix[str(frequency)] = amp[i, :]\n",
    "            \n",
    "        # \"\"\" LOAD TRIAL DATA \"\"\"\n",
    "        session_trials = sl.trials\n",
    "        session_start = list(session_trials['goCueTrigger_times'])[0]\n",
    "\n",
    "        # Get time of last unbiased trial\n",
    "        unbiased = session_trials.loc[session_trials['probabilityLeft']==0.5]\n",
    "        time_trial_90 = list(unbiased['stimOff_times'])[-1]\n",
    "\n",
    "        if first_90 == True:\n",
    "            # Keep only first 90 trials\n",
    "            design_matrix = design_matrix.loc[(design_matrix['Bin'] < time_trial_90) & \n",
    "                                                (design_matrix['Bin'] > session_start)]\n",
    "            use_trials = session_trials.loc[session_trials['stimOff_times'] < time_trial_90]\n",
    "        else:\n",
    "            design_matrix = design_matrix.loc[(design_matrix['Bin'] > session_start)]\n",
    "            use_trials = session_trials.copy()\n",
    "\n",
    "        \"\"\" STANDARDIZE DATA \"\"\"\n",
    "        training_set = np.array(design_matrix).copy()[:, 1:]\n",
    "        # Standardization using StandardScaler\n",
    "        scaler = StandardScaler()\n",
    "        std_design_matrix = scaler.fit_transform(training_set)\n",
    "        # Keep licks unnormalized\n",
    "        std_design_matrix[:, 2] = training_set[:, 2]  \n",
    "\n",
    "        \"\"\" SAVE DATA \"\"\"       \n",
    "        # Save unnormalized design matrix\n",
    "        data_path = prefix + 'representation_learning_variability/DATA/Sub-trial/Design matrix/v6_21Jul2025/' + str(bin_size) + '/'\n",
    "        filename = data_path + \"design_matrix_\" + str(session) + '_'  + mouse_name\n",
    "        design_matrix.to_parquet(filename, compression='gzip')  \n",
    "\n",
    "        # Save standardized design matrix\n",
    "        data_path = prefix + 'representation_learning_variability/DATA/Sub-trial/Design matrix/v6_21Jul2025/' + str(bin_size) + '/'\n",
    "        filename = data_path + \"standardized_design_matrix_\" + str(session) + '_'  + mouse_name\n",
    "        np.save(filename, std_design_matrix)\n",
    "\n",
    "        # Save trials\n",
    "        data_path = prefix + 'representation_learning_variability/DATA/Sub-trial/Design matrix/v6_21Jul2025/' + str(bin_size) + '/'\n",
    "        filename = data_path + \"session_trials_\" + str(session) + '_'  + mouse_name\n",
    "        use_trials.to_parquet(filename, compression='gzip')  \n",
    "        \n",
    "        del design_matrix, std_design_matrix, use_trials, sl\n",
    "        gc.collect()\n",
    "\n",
    "    else:\n",
    "        print('Data missing for session '+session)  \n",
    "\n",
    "\n",
    "\n",
    "def parallel_process_data(sessions, function_name):\n",
    "    with concurrent.futures.ThreadPoolExecutor() as executor:\n",
    "\n",
    "        # Process each chunk in parallel\n",
    "        executor.map(function_name, sessions)"
   ]
  },
  {
   "cell_type": "code",
   "execution_count": 4,
   "id": "59046664",
   "metadata": {},
   "outputs": [
    {
     "name": "stderr",
     "output_type": "stream",
     "text": [
      "/opt/anaconda3/envs/iblenv/lib/python3.10/site-packages/one/webclient.py:144: RuntimeWarning: Failed to connect, returning cached response\n",
      "  warnings.warn('Failed to connect, returning cached response', RuntimeWarning)\n",
      "/opt/anaconda3/envs/iblenv/lib/python3.10/site-packages/one/webclient.py:144: RuntimeWarning: Failed to connect, returning cached response\n",
      "  warnings.warn('Failed to connect, returning cached response', RuntimeWarning)\n",
      "/opt/anaconda3/envs/iblenv/lib/python3.10/site-packages/one/webclient.py:144: RuntimeWarning: Failed to connect, returning cached response\n",
      "  warnings.warn('Failed to connect, returning cached response', RuntimeWarning)\n",
      "/opt/anaconda3/envs/iblenv/lib/python3.10/site-packages/one/webclient.py:144: RuntimeWarning: Failed to connect, returning cached response\n",
      "  warnings.warn('Failed to connect, returning cached response', RuntimeWarning)\n",
      "/opt/anaconda3/envs/iblenv/lib/python3.10/site-packages/one/webclient.py:144: RuntimeWarning: Failed to connect, returning cached response\n",
      "  warnings.warn('Failed to connect, returning cached response', RuntimeWarning)\n",
      "/opt/anaconda3/envs/iblenv/lib/python3.10/site-packages/one/webclient.py:144: RuntimeWarning: Failed to connect, returning cached response\n",
      "  warnings.warn('Failed to connect, returning cached response', RuntimeWarning)\n",
      "/opt/anaconda3/envs/iblenv/lib/python3.10/site-packages/one/webclient.py:144: RuntimeWarning: Failed to connect, returning cached response\n",
      "  warnings.warn('Failed to connect, returning cached response', RuntimeWarning)\n",
      "/opt/anaconda3/envs/iblenv/lib/python3.10/site-packages/one/webclient.py:144: RuntimeWarning: Failed to connect, returning cached response\n",
      "  warnings.warn('Failed to connect, returning cached response', RuntimeWarning)\n",
      "/opt/anaconda3/envs/iblenv/lib/python3.10/site-packages/one/webclient.py:144: RuntimeWarning: Failed to connect, returning cached response\n",
      "  warnings.warn('Failed to connect, returning cached response', RuntimeWarning)\n",
      "/opt/anaconda3/envs/iblenv/lib/python3.10/site-packages/one/webclient.py:144: RuntimeWarning: Failed to connect, returning cached response\n",
      "  warnings.warn('Failed to connect, returning cached response', RuntimeWarning)\n",
      "/opt/anaconda3/envs/iblenv/lib/python3.10/site-packages/one/webclient.py:144: RuntimeWarning: Failed to connect, returning cached response\n",
      "  warnings.warn('Failed to connect, returning cached response', RuntimeWarning)\n",
      "/opt/anaconda3/envs/iblenv/lib/python3.10/site-packages/one/webclient.py:144: RuntimeWarning: Failed to connect, returning cached response\n",
      "  warnings.warn('Failed to connect, returning cached response', RuntimeWarning)\n",
      "/opt/anaconda3/envs/iblenv/lib/python3.10/site-packages/one/webclient.py:144: RuntimeWarning: Failed to connect, returning cached response\n",
      "  warnings.warn('Failed to connect, returning cached response', RuntimeWarning)\n",
      "/opt/anaconda3/envs/iblenv/lib/python3.10/site-packages/one/webclient.py:144: RuntimeWarning: Failed to connect, returning cached response\n",
      "  warnings.warn('Failed to connect, returning cached response', RuntimeWarning)\n",
      "/opt/anaconda3/envs/iblenv/lib/python3.10/site-packages/one/webclient.py:144: RuntimeWarning: Failed to connect, returning cached response\n",
      "  warnings.warn('Failed to connect, returning cached response', RuntimeWarning)\n",
      "/opt/anaconda3/envs/iblenv/lib/python3.10/site-packages/one/webclient.py:144: RuntimeWarning: Failed to connect, returning cached response\n",
      "  warnings.warn('Failed to connect, returning cached response', RuntimeWarning)\n"
     ]
    },
    {
     "ename": "KeyboardInterrupt",
     "evalue": "",
     "output_type": "error",
     "traceback": [
      "\u001b[0;31m---------------------------------------------------------------------------\u001b[0m",
      "\u001b[0;31mKeyboardInterrupt\u001b[0m                         Traceback (most recent call last)",
      "Cell \u001b[0;32mIn[4], line 9\u001b[0m\n\u001b[1;32m      6\u001b[0m sessions_to_process \u001b[38;5;241m=\u001b[39m []\n\u001b[1;32m      8\u001b[0m \u001b[38;5;28;01mfor\u001b[39;00m s, sess \u001b[38;5;129;01min\u001b[39;00m \u001b[38;5;28menumerate\u001b[39m(sessions):\n\u001b[0;32m----> 9\u001b[0m     file_path \u001b[38;5;241m=\u001b[39m \u001b[43mone\u001b[49m\u001b[38;5;241;43m.\u001b[39;49m\u001b[43meid2path\u001b[49m\u001b[43m(\u001b[49m\u001b[43msess\u001b[49m\u001b[43m)\u001b[49m\n\u001b[1;32m     11\u001b[0m     \u001b[38;5;28;01mif\u001b[39;00m prefix \u001b[38;5;241m==\u001b[39m \u001b[38;5;124m'\u001b[39m\u001b[38;5;124m/home/ines/repositories/\u001b[39m\u001b[38;5;124m'\u001b[39m:\n\u001b[1;32m     12\u001b[0m         mouse_name \u001b[38;5;241m=\u001b[39m file_path\u001b[38;5;241m.\u001b[39mparts[\u001b[38;5;241m8\u001b[39m]\n",
      "File \u001b[0;32m/opt/anaconda3/envs/iblenv/lib/python3.10/site-packages/one/util.py:47\u001b[0m, in \u001b[0;36mparse_id.<locals>.wrapper\u001b[0;34m(self, id, *args, **kwargs)\u001b[0m\n\u001b[1;32m     45\u001b[0m \u001b[38;5;28;01mif\u001b[39;00m eid \u001b[38;5;129;01mis\u001b[39;00m \u001b[38;5;28;01mNone\u001b[39;00m:\n\u001b[1;32m     46\u001b[0m     \u001b[38;5;28;01mraise\u001b[39;00m \u001b[38;5;167;01mValueError\u001b[39;00m(\u001b[38;5;124mf\u001b[39m\u001b[38;5;124m'\u001b[39m\u001b[38;5;124mCannot parse session ID \u001b[39m\u001b[38;5;124m\"\u001b[39m\u001b[38;5;132;01m{\u001b[39;00m\u001b[38;5;28mid\u001b[39m\u001b[38;5;132;01m}\u001b[39;00m\u001b[38;5;124m\"\u001b[39m\u001b[38;5;124m (session may not exist)\u001b[39m\u001b[38;5;124m'\u001b[39m)\n\u001b[0;32m---> 47\u001b[0m \u001b[38;5;28;01mreturn\u001b[39;00m \u001b[43mmethod\u001b[49m\u001b[43m(\u001b[49m\u001b[38;5;28;43mself\u001b[39;49m\u001b[43m,\u001b[49m\u001b[43m \u001b[49m\u001b[43meid\u001b[49m\u001b[43m,\u001b[49m\u001b[43m \u001b[49m\u001b[38;5;241;43m*\u001b[39;49m\u001b[43margs\u001b[49m\u001b[43m,\u001b[49m\u001b[43m \u001b[49m\u001b[38;5;241;43m*\u001b[39;49m\u001b[38;5;241;43m*\u001b[39;49m\u001b[43mkwargs\u001b[49m\u001b[43m)\u001b[49m\n",
      "File \u001b[0;32m/opt/anaconda3/envs/iblenv/lib/python3.10/site-packages/one/api.py:2796\u001b[0m, in \u001b[0;36mOneAlyx.eid2path\u001b[0;34m(self, eid, query_type)\u001b[0m\n\u001b[1;32m   2793\u001b[0m     \u001b[38;5;28;01mreturn\u001b[39;00m [unwrapped(\u001b[38;5;28mself\u001b[39m, e, query_type\u001b[38;5;241m=\u001b[39m\u001b[38;5;124m'\u001b[39m\u001b[38;5;124mremote\u001b[39m\u001b[38;5;124m'\u001b[39m) \u001b[38;5;28;01mfor\u001b[39;00m e \u001b[38;5;129;01min\u001b[39;00m eid]\n\u001b[1;32m   2795\u001b[0m \u001b[38;5;66;03m# if it wasn't successful, query Alyx\u001b[39;00m\n\u001b[0;32m-> 2796\u001b[0m ses \u001b[38;5;241m=\u001b[39m \u001b[38;5;28;43mself\u001b[39;49m\u001b[38;5;241;43m.\u001b[39;49m\u001b[43malyx\u001b[49m\u001b[38;5;241;43m.\u001b[39;49m\u001b[43mrest\u001b[49m\u001b[43m(\u001b[49m\u001b[38;5;124;43m'\u001b[39;49m\u001b[38;5;124;43msessions\u001b[39;49m\u001b[38;5;124;43m'\u001b[39;49m\u001b[43m,\u001b[49m\u001b[43m \u001b[49m\u001b[38;5;124;43m'\u001b[39;49m\u001b[38;5;124;43mlist\u001b[39;49m\u001b[38;5;124;43m'\u001b[39;49m\u001b[43m,\u001b[49m\u001b[43m \u001b[49m\u001b[38;5;28;43mid\u001b[39;49m\u001b[38;5;241;43m=\u001b[39;49m\u001b[43meid\u001b[49m\u001b[43m)\u001b[49m\n\u001b[1;32m   2797\u001b[0m \u001b[38;5;28;01mif\u001b[39;00m \u001b[38;5;28mlen\u001b[39m(ses) \u001b[38;5;241m==\u001b[39m \u001b[38;5;241m0\u001b[39m:\n\u001b[1;32m   2798\u001b[0m     \u001b[38;5;28;01mreturn\u001b[39;00m \u001b[38;5;28;01mNone\u001b[39;00m\n",
      "File \u001b[0;32m/opt/anaconda3/envs/iblenv/lib/python3.10/site-packages/one/webclient.py:1174\u001b[0m, in \u001b[0;36mAlyxClient.rest\u001b[0;34m(self, url, action, id, data, files, no_cache, **kwargs)\u001b[0m\n\u001b[1;32m   1172\u001b[0m         query_params \u001b[38;5;241m=\u001b[39m {k: \u001b[38;5;124m'\u001b[39m\u001b[38;5;124m,\u001b[39m\u001b[38;5;124m'\u001b[39m\u001b[38;5;241m.\u001b[39mjoin(\u001b[38;5;28mmap\u001b[39m(\u001b[38;5;28mstr\u001b[39m, ensure_list(v))) \u001b[38;5;28;01mfor\u001b[39;00m k, v \u001b[38;5;129;01min\u001b[39;00m kwargs\u001b[38;5;241m.\u001b[39mitems()}\n\u001b[1;32m   1173\u001b[0m         url \u001b[38;5;241m=\u001b[39m update_url_params(url, query_params)\n\u001b[0;32m-> 1174\u001b[0m     \u001b[38;5;28;01mreturn\u001b[39;00m \u001b[38;5;28;43mself\u001b[39;49m\u001b[38;5;241;43m.\u001b[39;49m\u001b[43mget\u001b[49m\u001b[43m(\u001b[49m\u001b[38;5;124;43m'\u001b[39;49m\u001b[38;5;124;43m/\u001b[39;49m\u001b[38;5;124;43m'\u001b[39;49m\u001b[43m \u001b[49m\u001b[38;5;241;43m+\u001b[39;49m\u001b[43m \u001b[49m\u001b[43murl\u001b[49m\u001b[43m,\u001b[49m\u001b[43m \u001b[49m\u001b[38;5;241;43m*\u001b[39;49m\u001b[38;5;241;43m*\u001b[39;49m\u001b[43mcache_args\u001b[49m\u001b[43m)\u001b[49m\n\u001b[1;32m   1175\u001b[0m \u001b[38;5;28;01mif\u001b[39;00m \u001b[38;5;129;01mnot\u001b[39;00m \u001b[38;5;28misinstance\u001b[39m(\u001b[38;5;28mid\u001b[39m, \u001b[38;5;28mstr\u001b[39m) \u001b[38;5;129;01mand\u001b[39;00m \u001b[38;5;28mid\u001b[39m \u001b[38;5;129;01mis\u001b[39;00m \u001b[38;5;129;01mnot\u001b[39;00m \u001b[38;5;28;01mNone\u001b[39;00m:\n\u001b[1;32m   1176\u001b[0m     \u001b[38;5;28mid\u001b[39m \u001b[38;5;241m=\u001b[39m \u001b[38;5;28mstr\u001b[39m(\u001b[38;5;28mid\u001b[39m)  \u001b[38;5;66;03m# e.g. may be uuid.UUID\u001b[39;00m\n",
      "File \u001b[0;32m/opt/anaconda3/envs/iblenv/lib/python3.10/site-packages/one/webclient.py:982\u001b[0m, in \u001b[0;36mAlyxClient.get\u001b[0;34m(self, rest_query, **kwargs)\u001b[0m\n\u001b[1;32m    962\u001b[0m \u001b[38;5;28;01mdef\u001b[39;00m \u001b[38;5;21mget\u001b[39m(\u001b[38;5;28mself\u001b[39m, rest_query, \u001b[38;5;241m*\u001b[39m\u001b[38;5;241m*\u001b[39mkwargs):\n\u001b[1;32m    963\u001b[0m \u001b[38;5;250m    \u001b[39m\u001b[38;5;124;03m\"\"\"Send a GET request to the Alyx server.\u001b[39;00m\n\u001b[1;32m    964\u001b[0m \n\u001b[1;32m    965\u001b[0m \u001b[38;5;124;03m    Will raise an exception on any HTTP status code other than 200, 201.\u001b[39;00m\n\u001b[0;32m   (...)\u001b[0m\n\u001b[1;32m    980\u001b[0m \n\u001b[1;32m    981\u001b[0m \u001b[38;5;124;03m    \"\"\"\u001b[39;00m\n\u001b[0;32m--> 982\u001b[0m     rep \u001b[38;5;241m=\u001b[39m \u001b[38;5;28;43mself\u001b[39;49m\u001b[38;5;241;43m.\u001b[39;49m\u001b[43m_generic_request\u001b[49m\u001b[43m(\u001b[49m\u001b[43mrequests\u001b[49m\u001b[38;5;241;43m.\u001b[39;49m\u001b[43mget\u001b[49m\u001b[43m,\u001b[49m\u001b[43m \u001b[49m\u001b[43mrest_query\u001b[49m\u001b[43m,\u001b[49m\u001b[43m \u001b[49m\u001b[38;5;241;43m*\u001b[39;49m\u001b[38;5;241;43m*\u001b[39;49m\u001b[43mkwargs\u001b[49m\u001b[43m)\u001b[49m\n\u001b[1;32m    983\u001b[0m     \u001b[38;5;28;01mif\u001b[39;00m \u001b[38;5;28misinstance\u001b[39m(rep, \u001b[38;5;28mdict\u001b[39m) \u001b[38;5;129;01mand\u001b[39;00m \u001b[38;5;28mlist\u001b[39m(rep\u001b[38;5;241m.\u001b[39mkeys()) \u001b[38;5;241m==\u001b[39m [\u001b[38;5;124m'\u001b[39m\u001b[38;5;124mcount\u001b[39m\u001b[38;5;124m'\u001b[39m, \u001b[38;5;124m'\u001b[39m\u001b[38;5;124mnext\u001b[39m\u001b[38;5;124m'\u001b[39m, \u001b[38;5;124m'\u001b[39m\u001b[38;5;124mprevious\u001b[39m\u001b[38;5;124m'\u001b[39m, \u001b[38;5;124m'\u001b[39m\u001b[38;5;124mresults\u001b[39m\u001b[38;5;124m'\u001b[39m]:\n\u001b[1;32m    984\u001b[0m         \u001b[38;5;28;01mif\u001b[39;00m \u001b[38;5;28mlen\u001b[39m(rep[\u001b[38;5;124m'\u001b[39m\u001b[38;5;124mresults\u001b[39m\u001b[38;5;124m'\u001b[39m]) \u001b[38;5;241m<\u001b[39m rep[\u001b[38;5;124m'\u001b[39m\u001b[38;5;124mcount\u001b[39m\u001b[38;5;124m'\u001b[39m]:\n",
      "File \u001b[0;32m/opt/anaconda3/envs/iblenv/lib/python3.10/site-packages/one/webclient.py:141\u001b[0m, in \u001b[0;36m_cache_response.<locals>.wrapper_decorator\u001b[0;34m(alyx_client, expires, clobber, *args, **kwargs)\u001b[0m\n\u001b[1;32m    139\u001b[0m         \u001b[38;5;28;01mreturn\u001b[39;00m cached\n\u001b[1;32m    140\u001b[0m \u001b[38;5;28;01mtry\u001b[39;00m:\n\u001b[0;32m--> 141\u001b[0m     response \u001b[38;5;241m=\u001b[39m \u001b[43mmethod\u001b[49m\u001b[43m(\u001b[49m\u001b[43malyx_client\u001b[49m\u001b[43m,\u001b[49m\u001b[43m \u001b[49m\u001b[38;5;241;43m*\u001b[39;49m\u001b[43margs\u001b[49m\u001b[43m,\u001b[49m\u001b[43m \u001b[49m\u001b[38;5;241;43m*\u001b[39;49m\u001b[38;5;241;43m*\u001b[39;49m\u001b[43mkwargs\u001b[49m\u001b[43m)\u001b[49m\n\u001b[1;32m    142\u001b[0m \u001b[38;5;28;01mexcept\u001b[39;00m requests\u001b[38;5;241m.\u001b[39mexceptions\u001b[38;5;241m.\u001b[39mConnectionError \u001b[38;5;28;01mas\u001b[39;00m ex:\n\u001b[1;32m    143\u001b[0m     \u001b[38;5;28;01mif\u001b[39;00m cached \u001b[38;5;129;01mand\u001b[39;00m \u001b[38;5;129;01mnot\u001b[39;00m clobber:\n",
      "File \u001b[0;32m/opt/anaconda3/envs/iblenv/lib/python3.10/site-packages/one/webclient.py:669\u001b[0m, in \u001b[0;36mAlyxClient._generic_request\u001b[0;34m(self, reqfunction, rest_query, data, files)\u001b[0m\n\u001b[1;32m    666\u001b[0m \u001b[38;5;28;01mif\u001b[39;00m rest_query\u001b[38;5;241m.\u001b[39mstartswith(\u001b[38;5;124m'\u001b[39m\u001b[38;5;124m/docs\u001b[39m\u001b[38;5;124m'\u001b[39m):\n\u001b[1;32m    667\u001b[0m     \u001b[38;5;66;03m# the mixed accept application may cause errors sometimes, only necessary for the docs\u001b[39;00m\n\u001b[1;32m    668\u001b[0m     headers[\u001b[38;5;124m'\u001b[39m\u001b[38;5;124mAccept\u001b[39m\u001b[38;5;124m'\u001b[39m] \u001b[38;5;241m=\u001b[39m \u001b[38;5;124m'\u001b[39m\u001b[38;5;124mapplication/coreapi+json\u001b[39m\u001b[38;5;124m'\u001b[39m\n\u001b[0;32m--> 669\u001b[0m r \u001b[38;5;241m=\u001b[39m \u001b[43mreqfunction\u001b[49m\u001b[43m(\u001b[49m\u001b[38;5;28;43mself\u001b[39;49m\u001b[38;5;241;43m.\u001b[39;49m\u001b[43mbase_url\u001b[49m\u001b[43m \u001b[49m\u001b[38;5;241;43m+\u001b[39;49m\u001b[43m \u001b[49m\u001b[43mrest_query\u001b[49m\u001b[43m,\u001b[49m\n\u001b[1;32m    670\u001b[0m \u001b[43m                \u001b[49m\u001b[43mstream\u001b[49m\u001b[38;5;241;43m=\u001b[39;49m\u001b[38;5;28;43;01mTrue\u001b[39;49;00m\u001b[43m,\u001b[49m\u001b[43m \u001b[49m\u001b[43mheaders\u001b[49m\u001b[38;5;241;43m=\u001b[39;49m\u001b[43mheaders\u001b[49m\u001b[43m,\u001b[49m\u001b[43m \u001b[49m\u001b[43mdata\u001b[49m\u001b[38;5;241;43m=\u001b[39;49m\u001b[43mdata\u001b[49m\u001b[43m,\u001b[49m\u001b[43m \u001b[49m\u001b[43mfiles\u001b[49m\u001b[38;5;241;43m=\u001b[39;49m\u001b[43mfiles\u001b[49m\u001b[43m)\u001b[49m\n\u001b[1;32m    671\u001b[0m \u001b[38;5;28;01mif\u001b[39;00m r \u001b[38;5;129;01mand\u001b[39;00m r\u001b[38;5;241m.\u001b[39mstatus_code \u001b[38;5;129;01min\u001b[39;00m (\u001b[38;5;241m200\u001b[39m, \u001b[38;5;241m201\u001b[39m):\n\u001b[1;32m    672\u001b[0m     \u001b[38;5;28;01mreturn\u001b[39;00m json\u001b[38;5;241m.\u001b[39mloads(r\u001b[38;5;241m.\u001b[39mtext)\n",
      "File \u001b[0;32m/opt/anaconda3/envs/iblenv/lib/python3.10/site-packages/requests/api.py:73\u001b[0m, in \u001b[0;36mget\u001b[0;34m(url, params, **kwargs)\u001b[0m\n\u001b[1;32m     62\u001b[0m \u001b[38;5;28;01mdef\u001b[39;00m \u001b[38;5;21mget\u001b[39m(url, params\u001b[38;5;241m=\u001b[39m\u001b[38;5;28;01mNone\u001b[39;00m, \u001b[38;5;241m*\u001b[39m\u001b[38;5;241m*\u001b[39mkwargs):\n\u001b[1;32m     63\u001b[0m \u001b[38;5;250m    \u001b[39m\u001b[38;5;124mr\u001b[39m\u001b[38;5;124;03m\"\"\"Sends a GET request.\u001b[39;00m\n\u001b[1;32m     64\u001b[0m \n\u001b[1;32m     65\u001b[0m \u001b[38;5;124;03m    :param url: URL for the new :class:`Request` object.\u001b[39;00m\n\u001b[0;32m   (...)\u001b[0m\n\u001b[1;32m     70\u001b[0m \u001b[38;5;124;03m    :rtype: requests.Response\u001b[39;00m\n\u001b[1;32m     71\u001b[0m \u001b[38;5;124;03m    \"\"\"\u001b[39;00m\n\u001b[0;32m---> 73\u001b[0m     \u001b[38;5;28;01mreturn\u001b[39;00m \u001b[43mrequest\u001b[49m\u001b[43m(\u001b[49m\u001b[38;5;124;43m\"\u001b[39;49m\u001b[38;5;124;43mget\u001b[39;49m\u001b[38;5;124;43m\"\u001b[39;49m\u001b[43m,\u001b[49m\u001b[43m \u001b[49m\u001b[43murl\u001b[49m\u001b[43m,\u001b[49m\u001b[43m \u001b[49m\u001b[43mparams\u001b[49m\u001b[38;5;241;43m=\u001b[39;49m\u001b[43mparams\u001b[49m\u001b[43m,\u001b[49m\u001b[43m \u001b[49m\u001b[38;5;241;43m*\u001b[39;49m\u001b[38;5;241;43m*\u001b[39;49m\u001b[43mkwargs\u001b[49m\u001b[43m)\u001b[49m\n",
      "File \u001b[0;32m/opt/anaconda3/envs/iblenv/lib/python3.10/site-packages/requests/api.py:59\u001b[0m, in \u001b[0;36mrequest\u001b[0;34m(method, url, **kwargs)\u001b[0m\n\u001b[1;32m     55\u001b[0m \u001b[38;5;66;03m# By using the 'with' statement we are sure the session is closed, thus we\u001b[39;00m\n\u001b[1;32m     56\u001b[0m \u001b[38;5;66;03m# avoid leaving sockets open which can trigger a ResourceWarning in some\u001b[39;00m\n\u001b[1;32m     57\u001b[0m \u001b[38;5;66;03m# cases, and look like a memory leak in others.\u001b[39;00m\n\u001b[1;32m     58\u001b[0m \u001b[38;5;28;01mwith\u001b[39;00m sessions\u001b[38;5;241m.\u001b[39mSession() \u001b[38;5;28;01mas\u001b[39;00m session:\n\u001b[0;32m---> 59\u001b[0m     \u001b[38;5;28;01mreturn\u001b[39;00m \u001b[43msession\u001b[49m\u001b[38;5;241;43m.\u001b[39;49m\u001b[43mrequest\u001b[49m\u001b[43m(\u001b[49m\u001b[43mmethod\u001b[49m\u001b[38;5;241;43m=\u001b[39;49m\u001b[43mmethod\u001b[49m\u001b[43m,\u001b[49m\u001b[43m \u001b[49m\u001b[43murl\u001b[49m\u001b[38;5;241;43m=\u001b[39;49m\u001b[43murl\u001b[49m\u001b[43m,\u001b[49m\u001b[43m \u001b[49m\u001b[38;5;241;43m*\u001b[39;49m\u001b[38;5;241;43m*\u001b[39;49m\u001b[43mkwargs\u001b[49m\u001b[43m)\u001b[49m\n",
      "File \u001b[0;32m/opt/anaconda3/envs/iblenv/lib/python3.10/site-packages/requests/sessions.py:589\u001b[0m, in \u001b[0;36mSession.request\u001b[0;34m(self, method, url, params, data, headers, cookies, files, auth, timeout, allow_redirects, proxies, hooks, stream, verify, cert, json)\u001b[0m\n\u001b[1;32m    584\u001b[0m send_kwargs \u001b[38;5;241m=\u001b[39m {\n\u001b[1;32m    585\u001b[0m     \u001b[38;5;124m\"\u001b[39m\u001b[38;5;124mtimeout\u001b[39m\u001b[38;5;124m\"\u001b[39m: timeout,\n\u001b[1;32m    586\u001b[0m     \u001b[38;5;124m\"\u001b[39m\u001b[38;5;124mallow_redirects\u001b[39m\u001b[38;5;124m\"\u001b[39m: allow_redirects,\n\u001b[1;32m    587\u001b[0m }\n\u001b[1;32m    588\u001b[0m send_kwargs\u001b[38;5;241m.\u001b[39mupdate(settings)\n\u001b[0;32m--> 589\u001b[0m resp \u001b[38;5;241m=\u001b[39m \u001b[38;5;28;43mself\u001b[39;49m\u001b[38;5;241;43m.\u001b[39;49m\u001b[43msend\u001b[49m\u001b[43m(\u001b[49m\u001b[43mprep\u001b[49m\u001b[43m,\u001b[49m\u001b[43m \u001b[49m\u001b[38;5;241;43m*\u001b[39;49m\u001b[38;5;241;43m*\u001b[39;49m\u001b[43msend_kwargs\u001b[49m\u001b[43m)\u001b[49m\n\u001b[1;32m    591\u001b[0m \u001b[38;5;28;01mreturn\u001b[39;00m resp\n",
      "File \u001b[0;32m/opt/anaconda3/envs/iblenv/lib/python3.10/site-packages/requests/sessions.py:703\u001b[0m, in \u001b[0;36mSession.send\u001b[0;34m(self, request, **kwargs)\u001b[0m\n\u001b[1;32m    700\u001b[0m start \u001b[38;5;241m=\u001b[39m preferred_clock()\n\u001b[1;32m    702\u001b[0m \u001b[38;5;66;03m# Send the request\u001b[39;00m\n\u001b[0;32m--> 703\u001b[0m r \u001b[38;5;241m=\u001b[39m \u001b[43madapter\u001b[49m\u001b[38;5;241;43m.\u001b[39;49m\u001b[43msend\u001b[49m\u001b[43m(\u001b[49m\u001b[43mrequest\u001b[49m\u001b[43m,\u001b[49m\u001b[43m \u001b[49m\u001b[38;5;241;43m*\u001b[39;49m\u001b[38;5;241;43m*\u001b[39;49m\u001b[43mkwargs\u001b[49m\u001b[43m)\u001b[49m\n\u001b[1;32m    705\u001b[0m \u001b[38;5;66;03m# Total elapsed time of the request (approximately)\u001b[39;00m\n\u001b[1;32m    706\u001b[0m elapsed \u001b[38;5;241m=\u001b[39m preferred_clock() \u001b[38;5;241m-\u001b[39m start\n",
      "File \u001b[0;32m/opt/anaconda3/envs/iblenv/lib/python3.10/site-packages/requests/adapters.py:667\u001b[0m, in \u001b[0;36mHTTPAdapter.send\u001b[0;34m(self, request, stream, timeout, verify, cert, proxies)\u001b[0m\n\u001b[1;32m    664\u001b[0m     timeout \u001b[38;5;241m=\u001b[39m TimeoutSauce(connect\u001b[38;5;241m=\u001b[39mtimeout, read\u001b[38;5;241m=\u001b[39mtimeout)\n\u001b[1;32m    666\u001b[0m \u001b[38;5;28;01mtry\u001b[39;00m:\n\u001b[0;32m--> 667\u001b[0m     resp \u001b[38;5;241m=\u001b[39m \u001b[43mconn\u001b[49m\u001b[38;5;241;43m.\u001b[39;49m\u001b[43murlopen\u001b[49m\u001b[43m(\u001b[49m\n\u001b[1;32m    668\u001b[0m \u001b[43m        \u001b[49m\u001b[43mmethod\u001b[49m\u001b[38;5;241;43m=\u001b[39;49m\u001b[43mrequest\u001b[49m\u001b[38;5;241;43m.\u001b[39;49m\u001b[43mmethod\u001b[49m\u001b[43m,\u001b[49m\n\u001b[1;32m    669\u001b[0m \u001b[43m        \u001b[49m\u001b[43murl\u001b[49m\u001b[38;5;241;43m=\u001b[39;49m\u001b[43murl\u001b[49m\u001b[43m,\u001b[49m\n\u001b[1;32m    670\u001b[0m \u001b[43m        \u001b[49m\u001b[43mbody\u001b[49m\u001b[38;5;241;43m=\u001b[39;49m\u001b[43mrequest\u001b[49m\u001b[38;5;241;43m.\u001b[39;49m\u001b[43mbody\u001b[49m\u001b[43m,\u001b[49m\n\u001b[1;32m    671\u001b[0m \u001b[43m        \u001b[49m\u001b[43mheaders\u001b[49m\u001b[38;5;241;43m=\u001b[39;49m\u001b[43mrequest\u001b[49m\u001b[38;5;241;43m.\u001b[39;49m\u001b[43mheaders\u001b[49m\u001b[43m,\u001b[49m\n\u001b[1;32m    672\u001b[0m \u001b[43m        \u001b[49m\u001b[43mredirect\u001b[49m\u001b[38;5;241;43m=\u001b[39;49m\u001b[38;5;28;43;01mFalse\u001b[39;49;00m\u001b[43m,\u001b[49m\n\u001b[1;32m    673\u001b[0m \u001b[43m        \u001b[49m\u001b[43massert_same_host\u001b[49m\u001b[38;5;241;43m=\u001b[39;49m\u001b[38;5;28;43;01mFalse\u001b[39;49;00m\u001b[43m,\u001b[49m\n\u001b[1;32m    674\u001b[0m \u001b[43m        \u001b[49m\u001b[43mpreload_content\u001b[49m\u001b[38;5;241;43m=\u001b[39;49m\u001b[38;5;28;43;01mFalse\u001b[39;49;00m\u001b[43m,\u001b[49m\n\u001b[1;32m    675\u001b[0m \u001b[43m        \u001b[49m\u001b[43mdecode_content\u001b[49m\u001b[38;5;241;43m=\u001b[39;49m\u001b[38;5;28;43;01mFalse\u001b[39;49;00m\u001b[43m,\u001b[49m\n\u001b[1;32m    676\u001b[0m \u001b[43m        \u001b[49m\u001b[43mretries\u001b[49m\u001b[38;5;241;43m=\u001b[39;49m\u001b[38;5;28;43mself\u001b[39;49m\u001b[38;5;241;43m.\u001b[39;49m\u001b[43mmax_retries\u001b[49m\u001b[43m,\u001b[49m\n\u001b[1;32m    677\u001b[0m \u001b[43m        \u001b[49m\u001b[43mtimeout\u001b[49m\u001b[38;5;241;43m=\u001b[39;49m\u001b[43mtimeout\u001b[49m\u001b[43m,\u001b[49m\n\u001b[1;32m    678\u001b[0m \u001b[43m        \u001b[49m\u001b[43mchunked\u001b[49m\u001b[38;5;241;43m=\u001b[39;49m\u001b[43mchunked\u001b[49m\u001b[43m,\u001b[49m\n\u001b[1;32m    679\u001b[0m \u001b[43m    \u001b[49m\u001b[43m)\u001b[49m\n\u001b[1;32m    681\u001b[0m \u001b[38;5;28;01mexcept\u001b[39;00m (ProtocolError, \u001b[38;5;167;01mOSError\u001b[39;00m) \u001b[38;5;28;01mas\u001b[39;00m err:\n\u001b[1;32m    682\u001b[0m     \u001b[38;5;28;01mraise\u001b[39;00m \u001b[38;5;167;01mConnectionError\u001b[39;00m(err, request\u001b[38;5;241m=\u001b[39mrequest)\n",
      "File \u001b[0;32m/opt/anaconda3/envs/iblenv/lib/python3.10/site-packages/urllib3/connectionpool.py:787\u001b[0m, in \u001b[0;36mHTTPConnectionPool.urlopen\u001b[0;34m(self, method, url, body, headers, retries, redirect, assert_same_host, timeout, pool_timeout, release_conn, chunked, body_pos, preload_content, decode_content, **response_kw)\u001b[0m\n\u001b[1;32m    784\u001b[0m response_conn \u001b[38;5;241m=\u001b[39m conn \u001b[38;5;28;01mif\u001b[39;00m \u001b[38;5;129;01mnot\u001b[39;00m release_conn \u001b[38;5;28;01melse\u001b[39;00m \u001b[38;5;28;01mNone\u001b[39;00m\n\u001b[1;32m    786\u001b[0m \u001b[38;5;66;03m# Make the request on the HTTPConnection object\u001b[39;00m\n\u001b[0;32m--> 787\u001b[0m response \u001b[38;5;241m=\u001b[39m \u001b[38;5;28;43mself\u001b[39;49m\u001b[38;5;241;43m.\u001b[39;49m\u001b[43m_make_request\u001b[49m\u001b[43m(\u001b[49m\n\u001b[1;32m    788\u001b[0m \u001b[43m    \u001b[49m\u001b[43mconn\u001b[49m\u001b[43m,\u001b[49m\n\u001b[1;32m    789\u001b[0m \u001b[43m    \u001b[49m\u001b[43mmethod\u001b[49m\u001b[43m,\u001b[49m\n\u001b[1;32m    790\u001b[0m \u001b[43m    \u001b[49m\u001b[43murl\u001b[49m\u001b[43m,\u001b[49m\n\u001b[1;32m    791\u001b[0m \u001b[43m    \u001b[49m\u001b[43mtimeout\u001b[49m\u001b[38;5;241;43m=\u001b[39;49m\u001b[43mtimeout_obj\u001b[49m\u001b[43m,\u001b[49m\n\u001b[1;32m    792\u001b[0m \u001b[43m    \u001b[49m\u001b[43mbody\u001b[49m\u001b[38;5;241;43m=\u001b[39;49m\u001b[43mbody\u001b[49m\u001b[43m,\u001b[49m\n\u001b[1;32m    793\u001b[0m \u001b[43m    \u001b[49m\u001b[43mheaders\u001b[49m\u001b[38;5;241;43m=\u001b[39;49m\u001b[43mheaders\u001b[49m\u001b[43m,\u001b[49m\n\u001b[1;32m    794\u001b[0m \u001b[43m    \u001b[49m\u001b[43mchunked\u001b[49m\u001b[38;5;241;43m=\u001b[39;49m\u001b[43mchunked\u001b[49m\u001b[43m,\u001b[49m\n\u001b[1;32m    795\u001b[0m \u001b[43m    \u001b[49m\u001b[43mretries\u001b[49m\u001b[38;5;241;43m=\u001b[39;49m\u001b[43mretries\u001b[49m\u001b[43m,\u001b[49m\n\u001b[1;32m    796\u001b[0m \u001b[43m    \u001b[49m\u001b[43mresponse_conn\u001b[49m\u001b[38;5;241;43m=\u001b[39;49m\u001b[43mresponse_conn\u001b[49m\u001b[43m,\u001b[49m\n\u001b[1;32m    797\u001b[0m \u001b[43m    \u001b[49m\u001b[43mpreload_content\u001b[49m\u001b[38;5;241;43m=\u001b[39;49m\u001b[43mpreload_content\u001b[49m\u001b[43m,\u001b[49m\n\u001b[1;32m    798\u001b[0m \u001b[43m    \u001b[49m\u001b[43mdecode_content\u001b[49m\u001b[38;5;241;43m=\u001b[39;49m\u001b[43mdecode_content\u001b[49m\u001b[43m,\u001b[49m\n\u001b[1;32m    799\u001b[0m \u001b[43m    \u001b[49m\u001b[38;5;241;43m*\u001b[39;49m\u001b[38;5;241;43m*\u001b[39;49m\u001b[43mresponse_kw\u001b[49m\u001b[43m,\u001b[49m\n\u001b[1;32m    800\u001b[0m \u001b[43m\u001b[49m\u001b[43m)\u001b[49m\n\u001b[1;32m    802\u001b[0m \u001b[38;5;66;03m# Everything went great!\u001b[39;00m\n\u001b[1;32m    803\u001b[0m clean_exit \u001b[38;5;241m=\u001b[39m \u001b[38;5;28;01mTrue\u001b[39;00m\n",
      "File \u001b[0;32m/opt/anaconda3/envs/iblenv/lib/python3.10/site-packages/urllib3/connectionpool.py:464\u001b[0m, in \u001b[0;36mHTTPConnectionPool._make_request\u001b[0;34m(self, conn, method, url, body, headers, retries, timeout, chunked, response_conn, preload_content, decode_content, enforce_content_length)\u001b[0m\n\u001b[1;32m    461\u001b[0m \u001b[38;5;28;01mtry\u001b[39;00m:\n\u001b[1;32m    462\u001b[0m     \u001b[38;5;66;03m# Trigger any extra validation we need to do.\u001b[39;00m\n\u001b[1;32m    463\u001b[0m     \u001b[38;5;28;01mtry\u001b[39;00m:\n\u001b[0;32m--> 464\u001b[0m         \u001b[38;5;28;43mself\u001b[39;49m\u001b[38;5;241;43m.\u001b[39;49m\u001b[43m_validate_conn\u001b[49m\u001b[43m(\u001b[49m\u001b[43mconn\u001b[49m\u001b[43m)\u001b[49m\n\u001b[1;32m    465\u001b[0m     \u001b[38;5;28;01mexcept\u001b[39;00m (SocketTimeout, BaseSSLError) \u001b[38;5;28;01mas\u001b[39;00m e:\n\u001b[1;32m    466\u001b[0m         \u001b[38;5;28mself\u001b[39m\u001b[38;5;241m.\u001b[39m_raise_timeout(err\u001b[38;5;241m=\u001b[39me, url\u001b[38;5;241m=\u001b[39murl, timeout_value\u001b[38;5;241m=\u001b[39mconn\u001b[38;5;241m.\u001b[39mtimeout)\n",
      "File \u001b[0;32m/opt/anaconda3/envs/iblenv/lib/python3.10/site-packages/urllib3/connectionpool.py:1093\u001b[0m, in \u001b[0;36mHTTPSConnectionPool._validate_conn\u001b[0;34m(self, conn)\u001b[0m\n\u001b[1;32m   1091\u001b[0m \u001b[38;5;66;03m# Force connect early to allow us to validate the connection.\u001b[39;00m\n\u001b[1;32m   1092\u001b[0m \u001b[38;5;28;01mif\u001b[39;00m conn\u001b[38;5;241m.\u001b[39mis_closed:\n\u001b[0;32m-> 1093\u001b[0m     \u001b[43mconn\u001b[49m\u001b[38;5;241;43m.\u001b[39;49m\u001b[43mconnect\u001b[49m\u001b[43m(\u001b[49m\u001b[43m)\u001b[49m\n\u001b[1;32m   1095\u001b[0m \u001b[38;5;66;03m# TODO revise this, see https://github.com/urllib3/urllib3/issues/2791\u001b[39;00m\n\u001b[1;32m   1096\u001b[0m \u001b[38;5;28;01mif\u001b[39;00m \u001b[38;5;129;01mnot\u001b[39;00m conn\u001b[38;5;241m.\u001b[39mis_verified \u001b[38;5;129;01mand\u001b[39;00m \u001b[38;5;129;01mnot\u001b[39;00m conn\u001b[38;5;241m.\u001b[39mproxy_is_verified:\n",
      "File \u001b[0;32m/opt/anaconda3/envs/iblenv/lib/python3.10/site-packages/urllib3/connection.py:753\u001b[0m, in \u001b[0;36mHTTPSConnection.connect\u001b[0;34m(self)\u001b[0m\n\u001b[1;32m    751\u001b[0m \u001b[38;5;28;01mtry\u001b[39;00m:\n\u001b[1;32m    752\u001b[0m     sock: socket\u001b[38;5;241m.\u001b[39msocket \u001b[38;5;241m|\u001b[39m ssl\u001b[38;5;241m.\u001b[39mSSLSocket\n\u001b[0;32m--> 753\u001b[0m     \u001b[38;5;28mself\u001b[39m\u001b[38;5;241m.\u001b[39msock \u001b[38;5;241m=\u001b[39m sock \u001b[38;5;241m=\u001b[39m \u001b[38;5;28;43mself\u001b[39;49m\u001b[38;5;241;43m.\u001b[39;49m\u001b[43m_new_conn\u001b[49m\u001b[43m(\u001b[49m\u001b[43m)\u001b[49m\n\u001b[1;32m    754\u001b[0m     server_hostname: \u001b[38;5;28mstr\u001b[39m \u001b[38;5;241m=\u001b[39m \u001b[38;5;28mself\u001b[39m\u001b[38;5;241m.\u001b[39mhost\n\u001b[1;32m    755\u001b[0m     tls_in_tls \u001b[38;5;241m=\u001b[39m \u001b[38;5;28;01mFalse\u001b[39;00m\n",
      "File \u001b[0;32m/opt/anaconda3/envs/iblenv/lib/python3.10/site-packages/urllib3/connection.py:198\u001b[0m, in \u001b[0;36mHTTPConnection._new_conn\u001b[0;34m(self)\u001b[0m\n\u001b[1;32m    193\u001b[0m \u001b[38;5;250m\u001b[39m\u001b[38;5;124;03m\"\"\"Establish a socket connection and set nodelay settings on it.\u001b[39;00m\n\u001b[1;32m    194\u001b[0m \n\u001b[1;32m    195\u001b[0m \u001b[38;5;124;03m:return: New socket connection.\u001b[39;00m\n\u001b[1;32m    196\u001b[0m \u001b[38;5;124;03m\"\"\"\u001b[39;00m\n\u001b[1;32m    197\u001b[0m \u001b[38;5;28;01mtry\u001b[39;00m:\n\u001b[0;32m--> 198\u001b[0m     sock \u001b[38;5;241m=\u001b[39m \u001b[43mconnection\u001b[49m\u001b[38;5;241;43m.\u001b[39;49m\u001b[43mcreate_connection\u001b[49m\u001b[43m(\u001b[49m\n\u001b[1;32m    199\u001b[0m \u001b[43m        \u001b[49m\u001b[43m(\u001b[49m\u001b[38;5;28;43mself\u001b[39;49m\u001b[38;5;241;43m.\u001b[39;49m\u001b[43m_dns_host\u001b[49m\u001b[43m,\u001b[49m\u001b[43m \u001b[49m\u001b[38;5;28;43mself\u001b[39;49m\u001b[38;5;241;43m.\u001b[39;49m\u001b[43mport\u001b[49m\u001b[43m)\u001b[49m\u001b[43m,\u001b[49m\n\u001b[1;32m    200\u001b[0m \u001b[43m        \u001b[49m\u001b[38;5;28;43mself\u001b[39;49m\u001b[38;5;241;43m.\u001b[39;49m\u001b[43mtimeout\u001b[49m\u001b[43m,\u001b[49m\n\u001b[1;32m    201\u001b[0m \u001b[43m        \u001b[49m\u001b[43msource_address\u001b[49m\u001b[38;5;241;43m=\u001b[39;49m\u001b[38;5;28;43mself\u001b[39;49m\u001b[38;5;241;43m.\u001b[39;49m\u001b[43msource_address\u001b[49m\u001b[43m,\u001b[49m\n\u001b[1;32m    202\u001b[0m \u001b[43m        \u001b[49m\u001b[43msocket_options\u001b[49m\u001b[38;5;241;43m=\u001b[39;49m\u001b[38;5;28;43mself\u001b[39;49m\u001b[38;5;241;43m.\u001b[39;49m\u001b[43msocket_options\u001b[49m\u001b[43m,\u001b[49m\n\u001b[1;32m    203\u001b[0m \u001b[43m    \u001b[49m\u001b[43m)\u001b[49m\n\u001b[1;32m    204\u001b[0m \u001b[38;5;28;01mexcept\u001b[39;00m socket\u001b[38;5;241m.\u001b[39mgaierror \u001b[38;5;28;01mas\u001b[39;00m e:\n\u001b[1;32m    205\u001b[0m     \u001b[38;5;28;01mraise\u001b[39;00m NameResolutionError(\u001b[38;5;28mself\u001b[39m\u001b[38;5;241m.\u001b[39mhost, \u001b[38;5;28mself\u001b[39m, e) \u001b[38;5;28;01mfrom\u001b[39;00m \u001b[38;5;21;01me\u001b[39;00m\n",
      "File \u001b[0;32m/opt/anaconda3/envs/iblenv/lib/python3.10/site-packages/urllib3/util/connection.py:73\u001b[0m, in \u001b[0;36mcreate_connection\u001b[0;34m(address, timeout, source_address, socket_options)\u001b[0m\n\u001b[1;32m     71\u001b[0m \u001b[38;5;28;01mif\u001b[39;00m source_address:\n\u001b[1;32m     72\u001b[0m     sock\u001b[38;5;241m.\u001b[39mbind(source_address)\n\u001b[0;32m---> 73\u001b[0m \u001b[43msock\u001b[49m\u001b[38;5;241;43m.\u001b[39;49m\u001b[43mconnect\u001b[49m\u001b[43m(\u001b[49m\u001b[43msa\u001b[49m\u001b[43m)\u001b[49m\n\u001b[1;32m     74\u001b[0m \u001b[38;5;66;03m# Break explicitly a reference cycle\u001b[39;00m\n\u001b[1;32m     75\u001b[0m err \u001b[38;5;241m=\u001b[39m \u001b[38;5;28;01mNone\u001b[39;00m\n",
      "\u001b[0;31mKeyboardInterrupt\u001b[0m: "
     ]
    }
   ],
   "source": [
    "# Loop through animals\n",
    "sessions = bwm_query['eid'].unique()\n",
    "data_path = prefix + 'representation_learning_variability/DATA/Sub-trial/Design matrix/v6_21Jul2025/' + str(bin_size) + '/'\n",
    "os.chdir(data_path)\n",
    "files = os.listdir()\n",
    "sessions_to_process = []\n",
    "\n",
    "for s, sess in enumerate(sessions):\n",
    "    file_path = one.eid2path(sess)\n",
    "\n",
    "    if prefix == '/home/ines/repositories/':\n",
    "        mouse_name = file_path.parts[8]\n",
    "    else:\n",
    "        mouse_name = file_path.parts[7]\n",
    "\n",
    "    filename = \"design_matrix_\" + str(sess) + '_'  + mouse_name\n",
    "    if filename not in files:\n",
    "        sessions_to_process.append((sess))\n",
    "\n",
    "len(sessions_to_process)\n"
   ]
  },
  {
   "cell_type": "code",
   "execution_count": null,
   "id": "1b22a60f",
   "metadata": {},
   "outputs": [],
   "source": [
    "\n",
    "#%%\n",
    "for s, session in enumerate(sessions_to_process):\n",
    "    process_design_matrix(session)"
   ]
  }
 ],
 "metadata": {
  "kernelspec": {
   "display_name": "iblenv",
   "language": "python",
   "name": "python3"
  },
  "language_info": {
   "codemirror_mode": {
    "name": "ipython",
    "version": 3
   },
   "file_extension": ".py",
   "mimetype": "text/x-python",
   "name": "python",
   "nbconvert_exporter": "python",
   "pygments_lexer": "ipython3",
   "version": "3.10.12"
  }
 },
 "nbformat": 4,
 "nbformat_minor": 5
}
