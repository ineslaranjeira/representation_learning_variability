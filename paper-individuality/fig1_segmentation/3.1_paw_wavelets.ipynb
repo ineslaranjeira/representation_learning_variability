{
 "cells": [
  {
   "cell_type": "code",
   "execution_count": null,
   "id": "1dd389fd",
   "metadata": {},
   "outputs": [],
   "source": [
    "import os\n",
    "import numpy as np\n",
    "import pickle\n",
    "import pandas as pd\n",
    "from scipy.stats import zscore\n",
    "from brainbox.io.one import SessionLoader\n",
    "from sklearn.preprocessing import StandardScaler\n",
    "import gc\n",
    "import concurrent.futures\n",
    "import scipy.interpolate as interpolate\n",
    "\n",
    "# from functions import get_speed, merge_licks, resample_common_time, interpolate_nans, fast_wavelet_morlet_convolution_parallel\n",
    "from functions import merge_licks, resample_common_time, interpolate_nans, low_pass, fast_wavelet_morlet_convolution_parallel\n",
    "\n",
    "from one.api import ONE\n",
    "one = ONE(mode='remote')\n"
   ]
  }
 ],
 "metadata": {
  "language_info": {
   "name": "python"
  }
 },
 "nbformat": 4,
 "nbformat_minor": 5
}
